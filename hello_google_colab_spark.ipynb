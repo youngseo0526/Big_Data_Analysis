{
 "cells": [
  {
   "cell_type": "markdown",
   "metadata": {},
   "source": [
    "# 들어가기\n",
    "\n",
    "**이 파일은 구글 Colab에서 실행**됩니다.\n",
    "구글 Colab에 먼저 **회원가입**을 해야 하고, **로그인 후 노트북에서 실행** 합니다.\n",
    "\n",
    "Spark 설치에 문제가 있는 경우, 클라우드 사용하기를 추천합니다.\n",
    "데이터브릭스도 사용하기 편리합니다.\n",
    "구글 Colab은 제일 편리하게 사용할 수 있다고 평가합니다."
   ]
  },
  {
   "cell_type": "markdown",
   "metadata": {
    "id": "IYqaxO8jvRkb"
   },
   "source": [
    "# SPARK 설치\n",
    "\n",
    "* 자바 설치\n",
    "    * ```!apt-get install openjdk-11-jdk-headless -qq > /dev/null```\n",
    "\n",
    "* Spark 설치\n",
    "    * ```!wget -q https://www-us.apache.org/dist/spark/spark-3.1.2/spark-3.1.2-bin-hadoop2.7.tgz``` 내려받고\n",
    "    * ```!tar xf spark-2.4.1-bin-hadoop2.7.tgz``` 압축을 푼다.\n",
    "\n",
    "* findspark 설치\n",
    "    * ```!pip install -q findspark```"
   ]
  },
  {
   "cell_type": "markdown",
   "metadata": {
    "id": "wQb7vFXZjfoW"
   },
   "source": [
    "## jdk 설치\n",
    "\n",
    "옵션을 주는 (flag) ```-qq``` 는 apt 설치할 때 오류 외에는 출력하지 말라는 의미이다 (really quiet)\n",
    "```> /dev/null```는 STDOUT을 그 디렉토리로 우회하라는 의미이다. 이 경우 ```-qq```는 굳이 사용하지 않아도 된다."
   ]
  },
  {
   "cell_type": "code",
   "execution_count": 2,
   "metadata": {
    "id": "OUXdse8rKWoG"
   },
   "outputs": [],
   "source": [
    "!apt-get install openjdk-11-jdk-headless -qq > /dev/null"
   ]
  },
  {
   "cell_type": "markdown",
   "metadata": {
    "id": "fr-SJ_KCng78"
   },
   "source": [
    "## Spark 설치\n",
    "\n",
    "```-q```는 quiet, 출력을 제거한다는 뜻이다."
   ]
  },
  {
   "cell_type": "code",
   "execution_count": 40,
   "metadata": {
    "id": "Uub5VIszKXzs"
   },
   "outputs": [],
   "source": [
    "!wget -q https://downloads.apache.org/spark/spark-3.1.2/spark-3.1.2-bin-hadoop2.7.tgz"
   ]
  },
  {
   "cell_type": "markdown",
   "metadata": {
    "id": "gmexAEWNnvzn"
   },
   "source": [
    "압축을 풀고 ```-v```를 추가하면 출력을 볼 수 있다."
   ]
  },
  {
   "cell_type": "code",
   "execution_count": 5,
   "metadata": {
    "id": "R8IWMuCYKalo"
   },
   "outputs": [],
   "source": [
    "!tar -xf spark-3.1.2-bin-hadoop2.7.tgz"
   ]
  },
  {
   "cell_type": "markdown",
   "metadata": {
    "id": "vf_3JM_xn790"
   },
   "source": [
    "## ```findspark``` 설치"
   ]
  },
  {
   "cell_type": "code",
   "execution_count": 22,
   "metadata": {
    "colab": {
     "base_uri": "https://localhost:8080/"
    },
    "id": "PCsvaf4aKlxB",
    "outputId": "b3fa0a9a-b952-4825-b925-e475a465e3fa"
   },
   "outputs": [
    {
     "name": "stdout",
     "output_type": "stream",
     "text": [
      "Requirement already satisfied: findspark in /usr/local/lib/python3.7/dist-packages (1.4.2)\n"
     ]
    }
   ],
   "source": [
    "!pip install findspark"
   ]
  },
  {
   "cell_type": "markdown",
   "metadata": {
    "id": "FNwH0XUJoNqT"
   },
   "source": [
    "## 환경설정\n",
    "\n",
    "환경설정 JAVA_HOME, SPARK_HOME을 한다. ```findspark```을 설치하였으므로, ```SPARK_HOME``` 설정은 하지 않아도 된다."
   ]
  },
  {
   "cell_type": "code",
   "execution_count": 10,
   "metadata": {
    "id": "iqIfUJBrMJa3"
   },
   "outputs": [],
   "source": [
    "import os\n",
    "os.environ[\"JAVA_HOME\"] = \"/usr/lib/jvm/java-11-openjdk-amd64\"\n",
    "os.environ[\"SPARK_HOME\"] = \"/content/spark-3.1.2-bin-hadoop2.7\""
   ]
  },
  {
   "cell_type": "markdown",
   "metadata": {
    "id": "HwI5deY7ofXO"
   },
   "source": [
    "spark가 설치된 경로를 확인한다. 위 설정과 파일명이 일치하는지 반드시 확인하자. 현재 디렉토리는 pwd로 확인한다."
   ]
  },
  {
   "cell_type": "code",
   "execution_count": 56,
   "metadata": {
    "colab": {
     "base_uri": "https://localhost:8080/"
    },
    "id": "YqGIQkdyUOCo",
    "outputId": "e3799bbe-4634-4d87-a062-9ca50b9c6b8c"
   },
   "outputs": [
    {
     "name": "stdout",
     "output_type": "stream",
     "text": [
      "/content\n"
     ]
    }
   ],
   "source": [
    "!pwd"
   ]
  },
  {
   "cell_type": "code",
   "execution_count": 23,
   "metadata": {
    "colab": {
     "base_uri": "https://localhost:8080/"
    },
    "id": "amCryjwUMSEA",
    "outputId": "4cdc52b6-e013-42a8-cad6-b511592f4de5"
   },
   "outputs": [
    {
     "data": {
      "text/plain": [
       "['.config',\n",
       " 'spark-3.1.2-bin-hadoop2.7.tgz',\n",
       " 'drive',\n",
       " 'spark-3.1.2-bin-hadoop2.7',\n",
       " 'sample_data']"
      ]
     },
     "execution_count": 23,
     "metadata": {},
     "output_type": "execute_result"
    }
   ],
   "source": [
    "import os\n",
    "os.listdir('/content')"
   ]
  },
  {
   "cell_type": "code",
   "execution_count": 28,
   "metadata": {
    "colab": {
     "base_uri": "https://localhost:8080/"
    },
    "id": "jglTiu8GlY67",
    "outputId": "e58c50d6-855a-46c4-8c71-ab134b3eaf66"
   },
   "outputs": [
    {
     "name": "stdout",
     "output_type": "stream",
     "text": [
      "total 219200\n",
      "drwx------  5 root root      4096 Sep 20 23:31 drive\n",
      "drwxr-xr-x  1 root root      4096 Sep 16 13:40 sample_data\n",
      "drwxr-xr-x 13 1000 1000      4096 May 24 05:00 spark-3.1.2-bin-hadoop2.7\n",
      "-rw-r--r--  1 root root 224445805 May 24 05:01 spark-3.1.2-bin-hadoop2.7.tgz\n"
     ]
    }
   ],
   "source": [
    "!ls -l /content"
   ]
  },
  {
   "cell_type": "markdown",
   "metadata": {
    "id": "TN9Dr3RWpT9D"
   },
   "source": [
    "# 버전 확인"
   ]
  },
  {
   "cell_type": "code",
   "execution_count": 30,
   "metadata": {
    "colab": {
     "base_uri": "https://localhost:8080/"
    },
    "id": "sGT8NRnbpWbc",
    "outputId": "368507a8-27bd-48c3-bb4e-0c5c70293bfb"
   },
   "outputs": [
    {
     "name": "stdout",
     "output_type": "stream",
     "text": [
      "javac 11.0.11\n"
     ]
    }
   ],
   "source": [
    "!javac -version"
   ]
  },
  {
   "cell_type": "code",
   "execution_count": 35,
   "metadata": {
    "colab": {
     "base_uri": "https://localhost:8080/"
    },
    "id": "dbs7yp6XrtPZ",
    "outputId": "5896e31a-9b65-4b7b-f49b-e862f79f6192"
   },
   "outputs": [
    {
     "name": "stdout",
     "output_type": "stream",
     "text": [
      "Python 3.7.12\n"
     ]
    }
   ],
   "source": [
    "!python3 --version"
   ]
  },
  {
   "cell_type": "code",
   "execution_count": 50,
   "metadata": {
    "colab": {
     "base_uri": "https://localhost:8080/"
    },
    "id": "FirGsNyDr3zy",
    "outputId": "d865e37b-dac9-4e40-8bba-0daa33752148"
   },
   "outputs": [
    {
     "name": "stdout",
     "output_type": "stream",
     "text": [
      "Python 3.7.12\n"
     ]
    }
   ],
   "source": [
    "!python --version"
   ]
  },
  {
   "cell_type": "code",
   "execution_count": 51,
   "metadata": {
    "colab": {
     "base_uri": "https://localhost:8080/",
     "height": 35
    },
    "id": "mCbaMbMVvjRL",
    "outputId": "e6576202-0721-4868-96d8-920f217e2458"
   },
   "outputs": [
    {
     "data": {
      "application/vnd.google.colaboratory.intrinsic+json": {
       "type": "string"
      },
      "text/plain": [
       "'/usr/bin/python3'"
      ]
     },
     "execution_count": 51,
     "metadata": {},
     "output_type": "execute_result"
    }
   ],
   "source": [
    "import sys; sys.executable"
   ]
  },
  {
   "cell_type": "code",
   "execution_count": 53,
   "metadata": {
    "colab": {
     "base_uri": "https://localhost:8080/",
     "height": 35
    },
    "id": "NsdbiUAwvnkN",
    "outputId": "01640a5e-f825-4217-a359-7d189a3a7583"
   },
   "outputs": [
    {
     "data": {
      "application/vnd.google.colaboratory.intrinsic+json": {
       "type": "string"
      },
      "text/plain": [
       "'/usr/bin/python3'"
      ]
     },
     "execution_count": 53,
     "metadata": {},
     "output_type": "execute_result"
    }
   ],
   "source": [
    "os.environ.get('PYSPARK_PYTHON')"
   ]
  },
  {
   "cell_type": "markdown",
   "metadata": {
    "id": "ckL2i4KvpNMe"
   },
   "source": [
    "# SPARK 생성"
   ]
  },
  {
   "cell_type": "code",
   "execution_count": 13,
   "metadata": {
    "id": "0AGLwWdwLsGD"
   },
   "outputs": [],
   "source": [
    "import findspark\n",
    "findspark.init()"
   ]
  },
  {
   "cell_type": "code",
   "execution_count": 14,
   "metadata": {
    "colab": {
     "base_uri": "https://localhost:8080/",
     "height": 35
    },
    "id": "SauP2PnGklJq",
    "outputId": "d6870a4a-d995-4d21-fe4d-e011a7a61a6e"
   },
   "outputs": [
    {
     "data": {
      "application/vnd.google.colaboratory.intrinsic+json": {
       "type": "string"
      },
      "text/plain": [
       "'/content/spark-3.1.2-bin-hadoop2.7'"
      ]
     },
     "execution_count": 14,
     "metadata": {},
     "output_type": "execute_result"
    }
   ],
   "source": [
    "findspark.find()"
   ]
  },
  {
   "cell_type": "code",
   "execution_count": 15,
   "metadata": {
    "id": "khhW-NDkLvCP"
   },
   "outputs": [],
   "source": [
    "import pyspark"
   ]
  },
  {
   "cell_type": "code",
   "execution_count": 18,
   "metadata": {
    "id": "9LGI8e76lDpj"
   },
   "outputs": [],
   "source": [
    "myConf=pyspark.SparkConf()\n",
    "#myConf=pyspark.SparkConf().set(\"spark.driver.bindAddress\", \"127.0.0.1\")\n",
    "spark = pyspark.sql.SparkSession\\\n",
    "    .builder\\\n",
    "    .master(\"local\")\\\n",
    "    .appName(\"myApp\")\\\n",
    "    .config(conf=myConf)\\\n",
    "    .getOrCreate()"
   ]
  },
  {
   "cell_type": "code",
   "execution_count": 37,
   "metadata": {
    "colab": {
     "base_uri": "https://localhost:8080/",
     "height": 35
    },
    "id": "EQ3LmgN677JY",
    "outputId": "d87775df-750b-4db1-d7a0-4ff93dcfb20a"
   },
   "outputs": [
    {
     "data": {
      "application/vnd.google.colaboratory.intrinsic+json": {
       "type": "string"
      },
      "text/plain": [
       "'3.1.2'"
      ]
     },
     "execution_count": 37,
     "metadata": {},
     "output_type": "execute_result"
    }
   ],
   "source": [
    "spark.version"
   ]
  },
  {
   "cell_type": "code",
   "execution_count": 19,
   "metadata": {
    "id": "ClaPphlZlUWZ"
   },
   "outputs": [],
   "source": [
    "myList=[1,2,3,4,5,6,7]"
   ]
  },
  {
   "cell_type": "code",
   "execution_count": 20,
   "metadata": {
    "id": "ZjMk_zHWlVZT"
   },
   "outputs": [],
   "source": [
    "myRdd1 = spark.sparkContext.parallelize(myList)"
   ]
  },
  {
   "cell_type": "code",
   "execution_count": 21,
   "metadata": {
    "colab": {
     "base_uri": "https://localhost:8080/"
    },
    "id": "m3CKn5b6lXmt",
    "outputId": "bcd37d1d-e7ec-472e-cb4e-a7ccc2e9c0e4"
   },
   "outputs": [
    {
     "data": {
      "text/plain": [
       "[1, 2, 3]"
      ]
     },
     "execution_count": 21,
     "metadata": {},
     "output_type": "execute_result"
    }
   ],
   "source": [
    "myRdd1.take(3)"
   ]
  },
  {
   "cell_type": "markdown",
   "metadata": {
    "id": "XbRlOnjllAQF"
   },
   "source": [
    "# 파일 올리기\n",
    "\n",
    "또는 좌측 메뉴에서 폴더 아이콘을 클릭한다."
   ]
  },
  {
   "cell_type": "code",
   "execution_count": 39,
   "metadata": {
    "colab": {
     "base_uri": "https://localhost:8080/",
     "height": 56,
     "resources": {
      "http://localhost:8080/nbextensions/google.colab/files.js": {
       "data": "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",
       "headers": [
        [
         "content-type",
         "application/javascript"
        ]
       ],
       "ok": true,
       "status": 200,
       "status_text": ""
      }
     }
    },
    "id": "QqiLv-DUk8XV",
    "outputId": "81994239-0b6a-43ce-f21e-39dd294db950"
   },
   "outputs": [
    {
     "data": {
      "text/html": [
       "\n",
       "     <input type=\"file\" id=\"files-ab4eb83d-cc79-4b80-acf6-f6a87247c99f\" name=\"files[]\" multiple disabled\n",
       "        style=\"border:none\" />\n",
       "     <output id=\"result-ab4eb83d-cc79-4b80-acf6-f6a87247c99f\">\n",
       "      Upload widget is only available when the cell has been executed in the\n",
       "      current browser session. Please rerun this cell to enable.\n",
       "      </output>\n",
       "      <script src=\"/nbextensions/google.colab/files.js\"></script> "
      ],
      "text/plain": [
       "<IPython.core.display.HTML object>"
      ]
     },
     "metadata": {},
     "output_type": "display_data"
    },
    {
     "data": {
      "text/plain": [
       "{}"
      ]
     },
     "execution_count": 39,
     "metadata": {},
     "output_type": "execute_result"
    }
   ],
   "source": [
    "from google.colab import files\n",
    "files.upload()"
   ]
  },
  {
   "cell_type": "markdown",
   "metadata": {
    "id": "RYCQEkSlu2Bz"
   },
   "source": [
    "# 내려받기\n",
    "\n",
    "우측 상단 ```V``` 클릭 > 메뉴 나타나고 File > Download\n"
   ]
  },
  {
   "cell_type": "markdown",
   "metadata": {
    "id": "smkeVLNxtSnD"
   },
   "source": [
    "# 요약\n",
    "\n",
    "세션이 종료되면 설치가 무효가 된다는 점에 주의하자.\n",
    "아래를 매 세션이 시작될 때마다 반복해야 하는 번거로움이 있다.\n"
   ]
  },
  {
   "cell_type": "code",
   "execution_count": 41,
   "metadata": {
    "id": "5CuRH3N0tPb4"
   },
   "outputs": [],
   "source": [
    "!apt-get install openjdk-11-jdk-headless -qq > /dev/null"
   ]
  },
  {
   "cell_type": "code",
   "execution_count": 42,
   "metadata": {
    "id": "vB18S8e7trjs"
   },
   "outputs": [],
   "source": [
    "!wget -q https://downloads.apache.org/spark/spark-3.1.2/spark-3.1.2-bin-hadoop2.7.tgz"
   ]
  },
  {
   "cell_type": "code",
   "execution_count": 43,
   "metadata": {
    "id": "RTYpz7Umtv_1"
   },
   "outputs": [],
   "source": [
    "!tar -xf spark-3.1.2-bin-hadoop2.7.tgz"
   ]
  },
  {
   "cell_type": "code",
   "execution_count": 44,
   "metadata": {
    "colab": {
     "base_uri": "https://localhost:8080/"
    },
    "id": "O4Pi99v5t0hK",
    "outputId": "a2ca1450-bd56-4d07-89a3-c49a8db46a63"
   },
   "outputs": [
    {
     "name": "stdout",
     "output_type": "stream",
     "text": [
      "Requirement already satisfied: findspark in /usr/local/lib/python3.7/dist-packages (1.4.2)\n"
     ]
    }
   ],
   "source": [
    "!pip install findspark"
   ]
  },
  {
   "cell_type": "code",
   "execution_count": 45,
   "metadata": {
    "id": "HPeiQptCt7Dk"
   },
   "outputs": [],
   "source": [
    "import os\n",
    "os.environ[\"JAVA_HOME\"] = \"/usr/lib/jvm/java-11-openjdk-amd64\"\n",
    "os.environ[\"SPARK_HOME\"] = \"/content/spark-3.1.2-bin-hadoop2.7\""
   ]
  },
  {
   "cell_type": "code",
   "execution_count": 46,
   "metadata": {
    "id": "IRT4o8AWuE7G"
   },
   "outputs": [],
   "source": [
    "import findspark\n",
    "findspark.init()"
   ]
  },
  {
   "cell_type": "code",
   "execution_count": 47,
   "metadata": {
    "id": "zjTbd5gGuLy9"
   },
   "outputs": [],
   "source": [
    "import pyspark"
   ]
  },
  {
   "cell_type": "code",
   "execution_count": 48,
   "metadata": {
    "id": "CPMOLYA0uPi2"
   },
   "outputs": [],
   "source": [
    "myConf=pyspark.SparkConf()\n",
    "#myConf=pyspark.SparkConf().set(\"spark.driver.bindAddress\", \"127.0.0.1\")\n",
    "spark = pyspark.sql.SparkSession\\\n",
    "    .builder\\\n",
    "    .master(\"local\")\\\n",
    "    .appName(\"myApp\")\\\n",
    "    .config(conf=myConf)\\\n",
    "    .getOrCreate()"
   ]
  },
  {
   "cell_type": "code",
   "execution_count": 49,
   "metadata": {
    "colab": {
     "base_uri": "https://localhost:8080/",
     "height": 35
    },
    "id": "wqO-rGzbua6N",
    "outputId": "e6d58212-0b4c-474d-8164-a0b3860c66cd"
   },
   "outputs": [
    {
     "data": {
      "application/vnd.google.colaboratory.intrinsic+json": {
       "type": "string"
      },
      "text/plain": [
       "'3.1.2'"
      ]
     },
     "execution_count": 49,
     "metadata": {},
     "output_type": "execute_result"
    }
   ],
   "source": [
    "spark.version"
   ]
  },
  {
   "cell_type": "markdown",
   "metadata": {
    "id": "LmxJkFTAhMAr"
   },
   "source": [
    "## 부록 pymongo"
   ]
  },
  {
   "cell_type": "code",
   "execution_count": null,
   "metadata": {
    "colab": {
     "base_uri": "https://localhost:8080/"
    },
    "id": "YRmcYufNid1Z",
    "outputId": "ec10f1b9-dfa2-4353-d934-d821130a3b63"
   },
   "outputs": [
    {
     "name": "stdout",
     "output_type": "stream",
     "text": [
      "Reading package lists... Done\n",
      "Building dependency tree       \n",
      "Reading state information... Done\n",
      "The following additional packages will be installed:\n",
      "  libpcap0.8 libstemmer0d libyaml-cpp0.5v5 mongo-tools mongodb-clients\n",
      "  mongodb-server mongodb-server-core\n",
      "The following NEW packages will be installed:\n",
      "  libpcap0.8 libstemmer0d libyaml-cpp0.5v5 mongo-tools mongodb mongodb-clients\n",
      "  mongodb-server mongodb-server-core\n",
      "0 upgraded, 8 newly installed, 0 to remove and 40 not upgraded.\n",
      "Need to get 53.1 MB of archives.\n",
      "After this operation, 215 MB of additional disk space will be used.\n",
      "Get:1 http://archive.ubuntu.com/ubuntu bionic-updates/main amd64 libpcap0.8 amd64 1.8.1-6ubuntu1.18.04.2 [118 kB]\n",
      "Get:2 http://archive.ubuntu.com/ubuntu bionic/main amd64 libstemmer0d amd64 0+svn585-1build1 [62.5 kB]\n",
      "Get:3 http://archive.ubuntu.com/ubuntu bionic/universe amd64 libyaml-cpp0.5v5 amd64 0.5.2-4ubuntu1 [150 kB]\n",
      "Get:4 http://archive.ubuntu.com/ubuntu bionic/universe amd64 mongo-tools amd64 3.6.3-0ubuntu1 [12.3 MB]\n",
      "Get:5 http://archive.ubuntu.com/ubuntu bionic-updates/universe amd64 mongodb-clients amd64 1:3.6.3-0ubuntu1.1 [20.2 MB]\n",
      "Get:6 http://archive.ubuntu.com/ubuntu bionic-updates/universe amd64 mongodb-server-core amd64 1:3.6.3-0ubuntu1.1 [20.3 MB]\n",
      "Get:7 http://archive.ubuntu.com/ubuntu bionic-updates/universe amd64 mongodb-server all 1:3.6.3-0ubuntu1.1 [12.6 kB]\n",
      "Get:8 http://archive.ubuntu.com/ubuntu bionic-updates/universe amd64 mongodb amd64 1:3.6.3-0ubuntu1.1 [9,968 B]\n",
      "Fetched 53.1 MB in 2s (23.8 MB/s)\n",
      "Selecting previously unselected package libpcap0.8:amd64.\n",
      "(Reading database ... 160837 files and directories currently installed.)\n",
      "Preparing to unpack .../0-libpcap0.8_1.8.1-6ubuntu1.18.04.2_amd64.deb ...\n",
      "Unpacking libpcap0.8:amd64 (1.8.1-6ubuntu1.18.04.2) ...\n",
      "Selecting previously unselected package libstemmer0d:amd64.\n",
      "Preparing to unpack .../1-libstemmer0d_0+svn585-1build1_amd64.deb ...\n",
      "Unpacking libstemmer0d:amd64 (0+svn585-1build1) ...\n",
      "Selecting previously unselected package libyaml-cpp0.5v5:amd64.\n",
      "Preparing to unpack .../2-libyaml-cpp0.5v5_0.5.2-4ubuntu1_amd64.deb ...\n",
      "Unpacking libyaml-cpp0.5v5:amd64 (0.5.2-4ubuntu1) ...\n",
      "Selecting previously unselected package mongo-tools.\n",
      "Preparing to unpack .../3-mongo-tools_3.6.3-0ubuntu1_amd64.deb ...\n",
      "Unpacking mongo-tools (3.6.3-0ubuntu1) ...\n",
      "Selecting previously unselected package mongodb-clients.\n",
      "Preparing to unpack .../4-mongodb-clients_1%3a3.6.3-0ubuntu1.1_amd64.deb ...\n",
      "Unpacking mongodb-clients (1:3.6.3-0ubuntu1.1) ...\n",
      "Selecting previously unselected package mongodb-server-core.\n",
      "Preparing to unpack .../5-mongodb-server-core_1%3a3.6.3-0ubuntu1.1_amd64.deb ...\n",
      "Unpacking mongodb-server-core (1:3.6.3-0ubuntu1.1) ...\n",
      "Selecting previously unselected package mongodb-server.\n",
      "Preparing to unpack .../6-mongodb-server_1%3a3.6.3-0ubuntu1.1_all.deb ...\n",
      "Unpacking mongodb-server (1:3.6.3-0ubuntu1.1) ...\n",
      "Selecting previously unselected package mongodb.\n",
      "Preparing to unpack .../7-mongodb_1%3a3.6.3-0ubuntu1.1_amd64.deb ...\n",
      "Unpacking mongodb (1:3.6.3-0ubuntu1.1) ...\n",
      "Setting up libstemmer0d:amd64 (0+svn585-1build1) ...\n",
      "Setting up libyaml-cpp0.5v5:amd64 (0.5.2-4ubuntu1) ...\n",
      "Setting up mongodb-server-core (1:3.6.3-0ubuntu1.1) ...\n",
      "Setting up libpcap0.8:amd64 (1.8.1-6ubuntu1.18.04.2) ...\n",
      "Setting up mongodb-clients (1:3.6.3-0ubuntu1.1) ...\n",
      "Setting up mongodb-server (1:3.6.3-0ubuntu1.1) ...\n",
      "invoke-rc.d: could not determine current runlevel\n",
      "invoke-rc.d: policy-rc.d denied execution of start.\n",
      "Created symlink /etc/systemd/system/multi-user.target.wants/mongodb.service → /lib/systemd/system/mongodb.service.\n",
      "Setting up mongo-tools (3.6.3-0ubuntu1) ...\n",
      "Setting up mongodb (1:3.6.3-0ubuntu1.1) ...\n",
      "Processing triggers for systemd (237-3ubuntu10.48) ...\n",
      "Processing triggers for man-db (2.8.3-2ubuntu0.1) ...\n",
      "Processing triggers for libc-bin (2.27-3ubuntu1.2) ...\n",
      "/sbin/ldconfig.real: /usr/local/lib/python3.7/dist-packages/ideep4py/lib/libmkldnn.so.0 is not a symbolic link\n",
      "\n"
     ]
    }
   ],
   "source": [
    "!apt install mongodb"
   ]
  },
  {
   "cell_type": "code",
   "execution_count": null,
   "metadata": {
    "colab": {
     "base_uri": "https://localhost:8080/"
    },
    "id": "j9MlZK9Sie0D",
    "outputId": "02a1bcd4-4561-4e96-b3f2-6483ae025678"
   },
   "outputs": [
    {
     "name": "stdout",
     "output_type": "stream",
     "text": [
      " * Starting database mongodb\n",
      "   ...done.\n"
     ]
    }
   ],
   "source": [
    "!service mongodb start\n"
   ]
  },
  {
   "cell_type": "code",
   "execution_count": null,
   "metadata": {
    "colab": {
     "base_uri": "https://localhost:8080/"
    },
    "id": "e-XV26FLifTA",
    "outputId": "eb75f776-9f8d-487e-cbb3-ee73d152fc45"
   },
   "outputs": [
    {
     "name": "stdout",
     "output_type": "stream",
     "text": [
      "Collecting pymongo==3.7.2\n",
      "  Downloading pymongo-3.7.2-cp37-cp37m-manylinux1_x86_64.whl (406 kB)\n",
      "\u001b[?25l\r",
      "\u001b[K     |▉                               | 10 kB 27.0 MB/s eta 0:00:01\r",
      "\u001b[K     |█▋                              | 20 kB 33.3 MB/s eta 0:00:01\r",
      "\u001b[K     |██▍                             | 30 kB 20.3 MB/s eta 0:00:01\r",
      "\u001b[K     |███▎                            | 40 kB 16.8 MB/s eta 0:00:01\r",
      "\u001b[K     |████                            | 51 kB 9.8 MB/s eta 0:00:01\r",
      "\u001b[K     |████▉                           | 61 kB 10.1 MB/s eta 0:00:01\r",
      "\u001b[K     |█████▋                          | 71 kB 9.6 MB/s eta 0:00:01\r",
      "\u001b[K     |██████▌                         | 81 kB 9.2 MB/s eta 0:00:01\r",
      "\u001b[K     |███████▎                        | 92 kB 8.4 MB/s eta 0:00:01\r",
      "\u001b[K     |████████                        | 102 kB 9.2 MB/s eta 0:00:01\r",
      "\u001b[K     |████████▉                       | 112 kB 9.2 MB/s eta 0:00:01\r",
      "\u001b[K     |█████████▊                      | 122 kB 9.2 MB/s eta 0:00:01\r",
      "\u001b[K     |██████████▌                     | 133 kB 9.2 MB/s eta 0:00:01\r",
      "\u001b[K     |███████████▎                    | 143 kB 9.2 MB/s eta 0:00:01\r",
      "\u001b[K     |████████████                    | 153 kB 9.2 MB/s eta 0:00:01\r",
      "\u001b[K     |█████████████                   | 163 kB 9.2 MB/s eta 0:00:01\r",
      "\u001b[K     |█████████████▊                  | 174 kB 9.2 MB/s eta 0:00:01\r",
      "\u001b[K     |██████████████▌                 | 184 kB 9.2 MB/s eta 0:00:01\r",
      "\u001b[K     |███████████████▎                | 194 kB 9.2 MB/s eta 0:00:01\r",
      "\u001b[K     |████████████████▏               | 204 kB 9.2 MB/s eta 0:00:01\r",
      "\u001b[K     |█████████████████               | 215 kB 9.2 MB/s eta 0:00:01\r",
      "\u001b[K     |█████████████████▊              | 225 kB 9.2 MB/s eta 0:00:01\r",
      "\u001b[K     |██████████████████▌             | 235 kB 9.2 MB/s eta 0:00:01\r",
      "\u001b[K     |███████████████████▍            | 245 kB 9.2 MB/s eta 0:00:01\r",
      "\u001b[K     |████████████████████▏           | 256 kB 9.2 MB/s eta 0:00:01\r",
      "\u001b[K     |█████████████████████           | 266 kB 9.2 MB/s eta 0:00:01\r",
      "\u001b[K     |█████████████████████▊          | 276 kB 9.2 MB/s eta 0:00:01\r",
      "\u001b[K     |██████████████████████▋         | 286 kB 9.2 MB/s eta 0:00:01\r",
      "\u001b[K     |███████████████████████▍        | 296 kB 9.2 MB/s eta 0:00:01\r",
      "\u001b[K     |████████████████████████▏       | 307 kB 9.2 MB/s eta 0:00:01\r",
      "\u001b[K     |█████████████████████████       | 317 kB 9.2 MB/s eta 0:00:01\r",
      "\u001b[K     |█████████████████████████▉      | 327 kB 9.2 MB/s eta 0:00:01\r",
      "\u001b[K     |██████████████████████████▋     | 337 kB 9.2 MB/s eta 0:00:01\r",
      "\u001b[K     |███████████████████████████▍    | 348 kB 9.2 MB/s eta 0:00:01\r",
      "\u001b[K     |████████████████████████████▎   | 358 kB 9.2 MB/s eta 0:00:01\r",
      "\u001b[K     |█████████████████████████████   | 368 kB 9.2 MB/s eta 0:00:01\r",
      "\u001b[K     |█████████████████████████████▉  | 378 kB 9.2 MB/s eta 0:00:01\r",
      "\u001b[K     |██████████████████████████████▋ | 389 kB 9.2 MB/s eta 0:00:01\r",
      "\u001b[K     |███████████████████████████████▌| 399 kB 9.2 MB/s eta 0:00:01\r",
      "\u001b[K     |████████████████████████████████| 406 kB 9.2 MB/s \n",
      "\u001b[?25hInstalling collected packages: pymongo\n",
      "  Attempting uninstall: pymongo\n",
      "    Found existing installation: pymongo 3.11.4\n",
      "    Uninstalling pymongo-3.11.4:\n",
      "      Successfully uninstalled pymongo-3.11.4\n",
      "Successfully installed pymongo-3.7.2\n"
     ]
    }
   ],
   "source": [
    "! python -m pip install pymongo==3.7.2"
   ]
  },
  {
   "cell_type": "code",
   "execution_count": null,
   "metadata": {
    "id": "87N4DJHnil2-"
   },
   "outputs": [],
   "source": [
    "import pymongo"
   ]
  },
  {
   "cell_type": "code",
   "execution_count": null,
   "metadata": {
    "id": "UacpYqWdimbQ"
   },
   "outputs": [],
   "source": [
    "Client = pymongo.MongoClient() # Client = pymongo.MongoClient('mongodb://localhost:27017')"
   ]
  },
  {
   "cell_type": "code",
   "execution_count": null,
   "metadata": {
    "id": "LpS9HrDS_T0r"
   },
   "outputs": [],
   "source": [
    "db=Client.myDB"
   ]
  },
  {
   "cell_type": "code",
   "execution_count": null,
   "metadata": {
    "colab": {
     "base_uri": "https://localhost:8080/"
    },
    "id": "yZwW8EF0_cUn",
    "outputId": "5e91b5f2-289e-40a9-ab20-a91cd0a9913e"
   },
   "outputs": [
    {
     "name": "stdout",
     "output_type": "stream",
     "text": [
      "['admin', 'local']\n"
     ]
    }
   ],
   "source": [
    "print(Client.list_database_names())"
   ]
  },
  {
   "cell_type": "code",
   "execution_count": null,
   "metadata": {
    "colab": {
     "base_uri": "https://localhost:8080/"
    },
    "id": "X7GFX-S2_njs",
    "outputId": "f66783d2-81e6-4dce-cdee-e73ee2a64cc8"
   },
   "outputs": [
    {
     "name": "stdout",
     "output_type": "stream",
     "text": [
      "['myPyCol']\n"
     ]
    }
   ],
   "source": [
    "bb_id=1\n",
    "_name='js'\n",
    "_age=11\n",
    "_country='ko'\n",
    "\n",
    "db.myPyCol.insert_one({\n",
    "    \"id\": _id,\n",
    "    \"name\": _name,\n",
    "    \"age\": _age,\n",
    "    \"country\": _country\n",
    "})\n",
    "\n",
    "\n",
    "print(db.list_collection_names())"
   ]
  },
  {
   "cell_type": "code",
   "execution_count": null,
   "metadata": {
    "id": "pAdb7pYKK_Es"
   },
   "outputs": [],
   "source": []
  }
 ],
 "metadata": {
  "colab": {
   "collapsed_sections": [],
   "name": "jsl.ipynb",
   "provenance": [],
   "toc_visible": true
  },
  "kernelspec": {
   "display_name": "Python 3",
   "language": "python",
   "name": "python3"
  },
  "language_info": {
   "codemirror_mode": {
    "name": "ipython",
    "version": 3
   },
   "file_extension": ".py",
   "mimetype": "text/x-python",
   "name": "python",
   "nbconvert_exporter": "python",
   "pygments_lexer": "ipython3",
   "version": "3.6.9"
  }
 },
 "nbformat": 4,
 "nbformat_minor": 1
}
