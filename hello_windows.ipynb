{
 "cells": [
  {
   "cell_type": "markdown",
   "metadata": {
    "slideshow": {
     "slide_type": "slide"
    }
   },
   "source": [
    "# 윈도우 commands\n",
    "\n",
    "## 목적\n",
    "\n",
    "* 윈도우 명령창을 열어서 키보드로 (마우스가 아니라) 명령어를 입력하여 동작을 할 수 있다.\n",
    "\n",
    "* 주의\n",
    "    * 컴퓨터의 사용자 명은 영문을 사용한다.\n",
    "    * 파일명은 영문을 사용한다.\n",
    "    * 디렉토리 구분자\n",
    "        * 리눅스 '\\'\n",
    "        * 윈도우 '/'"
   ]
  },
  {
   "cell_type": "markdown",
   "metadata": {
    "slideshow": {
     "slide_type": "slide"
    }
   },
   "source": [
    "* C: 드라이브로 이동한다."
   ]
  },
  {
   "cell_type": "code",
   "execution_count": null,
   "metadata": {
    "collapsed": true,
    "slideshow": {
     "slide_type": "subslide"
    }
   },
   "outputs": [],
   "source": [
    "c:"
   ]
  },
  {
   "cell_type": "markdown",
   "metadata": {
    "slideshow": {
     "slide_type": "slide"
    }
   },
   "source": [
    "* 디렉토리 변경\n",
    "    ```\n",
    "    cd .. 앞 디렉토리로 변경\n",
    "    cd . 현재 디렉토리\n",
    "    ```"
   ]
  },
  {
   "cell_type": "code",
   "execution_count": 1,
   "metadata": {
    "collapsed": false,
    "slideshow": {
     "slide_type": "subslide"
    }
   },
   "outputs": [
    {
     "name": "stdout",
     "output_type": "stream",
     "text": [
      "/home/jsl/Code/git/bb/jsl/pyds\n"
     ]
    }
   ],
   "source": [
    "cd ."
   ]
  },
  {
   "cell_type": "markdown",
   "metadata": {
    "slideshow": {
     "slide_type": "slide"
    }
   },
   "source": [
    "* 파일 지우기\n",
    "    * 와일드카드 asterisk 는 여러 문자\n",
    "    * 와일드카드 물음표는 한 문자"
   ]
  },
  {
   "cell_type": "code",
   "execution_count": null,
   "metadata": {
    "collapsed": true,
    "slideshow": {
     "slide_type": "subslide"
    }
   },
   "outputs": [],
   "source": [
    "del my*.txt"
   ]
  },
  {
   "cell_type": "markdown",
   "metadata": {
    "slideshow": {
     "slide_type": "slide"
    }
   },
   "source": [
    "* 현재 디렉토리의 내용을 나타내기"
   ]
  },
  {
   "cell_type": "code",
   "execution_count": null,
   "metadata": {
    "collapsed": true,
    "slideshow": {
     "slide_type": "subslide"
    }
   },
   "outputs": [],
   "source": [
    "dir"
   ]
  },
  {
   "cell_type": "markdown",
   "metadata": {
    "slideshow": {
     "slide_type": "subslide"
    }
   },
   "source": [
    "* 디렉토리 만들기\n",
    "    * mkdir - make directory\n",
    "    * rmdir - remove directory"
   ]
  },
  {
   "cell_type": "code",
   "execution_count": null,
   "metadata": {
    "collapsed": true,
    "slideshow": {
     "slide_type": "subslide"
    }
   },
   "outputs": [],
   "source": [
    "mkdir Code"
   ]
  },
  {
   "cell_type": "code",
   "execution_count": null,
   "metadata": {
    "collapsed": true,
    "slideshow": {
     "slide_type": "subslide"
    }
   },
   "outputs": [],
   "source": [
    "rmdir Code"
   ]
  },
  {
   "cell_type": "markdown",
   "metadata": {
    "slideshow": {
     "slide_type": "slide"
    }
   },
   "source": [
    "* 환경변수 보기\n",
    "    * 환경변수는 '%'로 앞 뒤에 감싼다."
   ]
  },
  {
   "cell_type": "code",
   "execution_count": null,
   "metadata": {
    "collapsed": true,
    "slideshow": {
     "slide_type": "subslide"
    }
   },
   "outputs": [],
   "source": [
    "echo %PATH%"
   ]
  },
  {
   "cell_type": "markdown",
   "metadata": {
    "slideshow": {
     "slide_type": "subslide"
    }
   },
   "source": [
    "* 환경변수 추가\n",
    "    * 임시 - 'set' 명령을 사용하면, 현재 열려있는 단말창에서만 설정한 환경변수가 유지된다.\n",
    "    ```\n",
    "    set PATH=%PATH%;추가경로;\n",
    "    ```\n",
    "\n",
    "    * 영구적 - 'setx' 명령어는 시스템 환경변수를 변경해서, 다른 단말을 새로 열어도 설정한 환경변수가 유지된다.\n",
    "    /M은 시스템에 영향 (SYSTEM SCOPE. USER SCOPE이 아님.)\n",
    "    ```\n",
    "    setx /M PATH \"%PATH%;추가경로\"\n",
    "    또는\n",
    "    PATH=%PATH%;C:\\another path\\;C:\\yet\\another path\\\n",
    "    ```"
   ]
  }
 ],
 "metadata": {
  "celltoolbar": "Slideshow",
  "kernelspec": {
   "display_name": "Python 2",
   "language": "python",
   "name": "python2"
  },
  "language_info": {
   "codemirror_mode": {
    "name": "ipython",
    "version": 2
   },
   "file_extension": ".py",
   "mimetype": "text/x-python",
   "name": "python",
   "nbconvert_exporter": "python",
   "pygments_lexer": "ipython2",
   "version": "2.7.12"
  }
 },
 "nbformat": 4,
 "nbformat_minor": 1
}
