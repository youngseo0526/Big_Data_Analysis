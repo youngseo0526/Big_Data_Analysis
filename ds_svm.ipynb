{
 "cells": [
  {
   "cell_type": "markdown",
   "metadata": {
    "slideshow": {
     "slide_type": "slide"
    }
   },
   "source": [
    "# svm\n",
    "\n",
    "Last updated 20191126MON11002 20190819TUE1600\n",
    "\n",
    "* S.2 문제의 이해\n",
    "* S.3 그래프\n",
    "* S.4 Decision Boundary\n",
    "* 문제: 점에서 선으로의 수직 거리\n",
    "* 계산식\n",
    "* Kernel\n",
    "* Lagrange\n",
    "* SVM 풀어보기\n",
    "* 구현\n",
    "* 성능\n",
    "* 사례\n",
    "    * house-votes-84.data\n",
    "    * 패키지 사용"
   ]
  },
  {
   "cell_type": "markdown",
   "metadata": {
    "slideshow": {
     "slide_type": "slide"
    }
   },
   "source": [
    "## S.2 문제의 이해\n",
    "\n",
    "svm은 입력데이터를 분류하는 최적화 알고리즘이다.\n",
    "데이터를 분류하는 함수를 찾기 위한 최적화 Optimization 문제이다.\n",
    "최적의 커널을 찾아가는 heuristic한 결정\n",
    "\n",
    "선형 이진분류가 기본이지만, 비선형, 다중분류, 회귀분석 등에 확장될 수 있다.\n",
    "* 커널을 변경하면 쉽게 확장\n",
    "* 커널은 inner product\n",
    "* 선형 분리가능의 경우와 선형분리불가능의 차이는 상수C가 조건에 들어온 것.\n",
    "* 또, 비선형의 경우도 변수를 변환하면 커널을 그대로 사용함.\n",
    "* Logistic Regression은 확률을 계산해서 분류하지만 vs svm은 최대마진을 계산해서 분류."
   ]
  },
  {
   "cell_type": "markdown",
   "metadata": {
    "slideshow": {
     "slide_type": "subslide"
    }
   },
   "source": [
    "우선 **선형 이진분류**의 문제를 보자.\n",
    "* 그림에서 (0,0)과 (4,4) 데이터가 있고, 각 1, -1이라고 하자.\n",
    "* 이를 분류하려면, 그 사이를 지나가는 최적의 line을 찾는다.\n",
    "* 이 선을 decision boundary (decision line)라고 하고,\n",
    "* (0,0)과 (4,4)를 support vectors라고 한다.\n",
    "* 각 점에서 선까지의 거리를 margin이라고 하고, 이를 최대화하는 최적의 선을 찾는다."
   ]
  },
  {
   "cell_type": "markdown",
   "metadata": {},
   "source": [
    "## S.3 그래프\n",
    "\n",
    "문제를 그림으로 이해\n",
    "* 좌표 (0,0)과 (4,4)를 그래프에 그리고, ```text()``` 함수로 텍스트를 출력하고 있다.\n",
    "* 이 좌표를 나누는, 즉 분류하는 선 hyperplane을 긋는다. \n",
    "* 뒤에 풀겠지만, 그 식은 $ -\\frac{1}{4}x_1 - \\frac{1}{4}x_2 + 1 =0 $\n",
    "이를 정리하면 $x_2=-x_1+4$으로 좌표를 계산하여 ```plot()``` 함수로 그린다."
   ]
  },
  {
   "cell_type": "code",
   "execution_count": 1,
   "metadata": {
    "collapsed": false,
    "scrolled": true
   },
   "outputs": [],
   "source": [
    "# %load -r 151-168 src/pyds/svm.py\n",
    "def drawHyperplane2d():\n",
    "    import matplotlib.pyplot as plt\n",
    "    import numpy as np\n",
    "    coords=[(0,0),(4,4)]\n",
    "    x1=np.arange(-5,5,0.1)\n",
    "    x2=-x1+4    #hyperplane\n",
    "\n",
    "    fig=plt.figure()\n",
    "    ax = fig.add_subplot(111)\n",
    "    ax.set_title('2d hyperplane')\n",
    "    ax.set_xlabel('x1')\n",
    "    ax.set_ylabel('x2')\n",
    "    for xy in coords:\n",
    "        ax.text(xy[0],xy[1],xy)\n",
    "        plt.scatter(xy[0],xy[1])\n",
    "    plt.plot(x1,x2)\n",
    "    plt.show()"
   ]
  },
  {
   "cell_type": "code",
   "execution_count": 2,
   "metadata": {
    "collapsed": false
   },
   "outputs": [
    {
     "data": {
      "image/png": "[encoded data removed]",
      "text/plain": [
       "<matplotlib.figure.Figure at 0x7f09f4b98750>"
      ]
     },
     "metadata": {},
     "output_type": "display_data"
    }
   ],
   "source": [
    "%matplotlib inline\n",
    "drawHyperplane2d()"
   ]
  },
  {
   "cell_type": "markdown",
   "metadata": {
    "slideshow": {
     "slide_type": "slide"
    }
   },
   "source": [
    "##  S.4 Decision Boundary\n",
    "\n",
    "입력데이터를 분류하는 함수를 나타내면: \n",
    "* $ y=f(x_1,x_2,\\ldots,x_n)=w_1 x_1+w_2x_2+\\ldots,+w_nx_n +b$\n",
    "* 이 함수를 벡터로 나타내면 $y=w \\cdot x + b$이다.\n",
    "* w는 1차원, x는 1차원 이상이다.\n",
    "* x가 1차원이면 (x1,y)를 구분하는 선, (x1,x2),y를 구분하는 면, n차원이면 n-1차원의 hyperplane"
   ]
  },
  {
   "cell_type": "markdown",
   "metadata": {
    "slideshow": {
     "slide_type": "subslide"
    }
   },
   "source": [
    "* **y=0인 경우를 decision boundary**라고 한다.\n",
    "    * $y=w \\cdot x + b=0$ 함수로 구분해서, 한 쪽의 데이터는 클래스 1, 반대쪽은 -1이라고 분류하게 된다.\n",
    "        * 1이라고 한 것은 정규화\n",
    "    * 이 함수는 데이터를 구분하는 분류기를 말한다. hyperplane classifier라고 한다.\n",
    "    * decison boundary는 수평이동할 수 있다.\n",
    "        * 빼고 나누어도 w,b에 반영됨. 즉, $\\lambda wx_i + \\lambda b = 0$ 아래는 모두 같음.\n",
    "            * $2x_i + x_2 - 4 = 0$ (i.e., $(2,1)*(x_1,x_2) - 4 = 0$)\n",
    "            * $x_i + 0.5x_2 - 2 = 0$\n",
    "            * $4x_i + 2x_2 - 8 = 0$"
   ]
  },
  {
   "cell_type": "markdown",
   "metadata": {
    "slideshow": {
     "slide_type": "subslide"
    }
   },
   "source": [
    "* **너비 margin를 최대화**하는 경계선\n",
    "    * **support vectors**는 아래 위로 hyperplane을 움직였을 경우 만나는 데이터를 말한다. \n",
    "    * support vectors(hyperplane 상에 위치)간의 거리가 최대가 되도록."
   ]
  },
  {
   "cell_type": "markdown",
   "metadata": {
    "slideshow": {
     "slide_type": "subslide"
    }
   },
   "source": [
    "* H: $wx_i + b = 0$ (hyperpance clasfifier, decision boundary, decision surface)\n",
    "    * $H_1: wx_i + b \\ge 0$이면 $y_i=1$\n",
    "    * $H_2: wx_i + b \\le 0$이면 $y_i=-1$\n",
    "        * 표준화해서 $(x^+,1), (x^-,-1)$이라고 하면\n",
    "            * $H_1: wx^+ + b = 1$\n",
    "            * $H_2: wx^- + b = -1$\n",
    "    * $y_i(wx_i + b) \\ge 0\\ \\forall i$ (y는 1 또는 -1이므로 곱하면 부등호 방향 바뀜)\n",
    "    * $H_1$ ~ $H_2$ 거리 h는\n",
    "        $$\n",
    "        \\begin{aligned}\n",
    "        \\text{point(x0,y0) to a line Ax+By+c}\\\\\n",
    "         d &= \\frac{|Ax_0 + By_0 +c |}{\\sqrt{A^2+B^2}}\\\\\n",
    "         \\text{distance from H1 ~ H2}\\\\\n",
    "         h &=\\frac{(wx^+ + b) - (wx^- + b)}{\\|w\\|}\\\\\n",
    "           &=\\frac{2}{\\|w\\|}\\\\\n",
    "        \\end{aligned}\n",
    "        $$\n",
    "    * maximum margin을 푸는 문제\n",
    "    * w는 norm, 원점에서의 수직거리는 $\\frac{b}{\\|w\\|}$"
   ]
  },
  {
   "cell_type": "markdown",
   "metadata": {
    "slideshow": {
     "slide_type": "subslide"
    }
   },
   "source": [
    "## 문제: 점에서 선으로의 수직 거리\n",
    "\n",
    "점(5,6)에서 선 -2x + 3y + 4 =0으로의 수직 거리 d는 다음과 같이 계산한다.\n",
    "\n",
    "$d = \\frac{|Ax_0 + By_0 +c |}{\\sqrt{A^2+B^2}}$\n",
    "\n",
    "$ =\\frac{|(-2)(5) + (3)(6) + 4 |}{\\sqrt(4^2+9^2)}$\n"
   ]
  },
  {
   "cell_type": "code",
   "execution_count": 54,
   "metadata": {
    "collapsed": false
   },
   "outputs": [
    {
     "name": "stdout",
     "output_type": "stream",
     "text": [
      "1.21841539816\n"
     ]
    }
   ],
   "source": [
    "w=np.array([-2,3,4])\n",
    "line=np.array([5,6,1])\n",
    "numerator = np.dot(w,line)\n",
    "denominator = np.linalg.norm(np.array([4,9]))\n",
    "print numerator/denominator"
   ]
  },
  {
   "cell_type": "markdown",
   "metadata": {
    "slideshow": {
     "slide_type": "slide"
    }
   },
   "source": [
    "## 계산식\n",
    "\n",
    "* 입력 (훈련데이터, label data)\n",
    "* 출력 (alphas, weights, b) -> classifier를 구한다.\n",
    "* 목적함수를 찾는다.\n",
    "* 라그랑주로 변환한다.\n",
    "    * primal form\n",
    "    * 편미분으로 KKT를 구한다.\n",
    "    * primal -> dual form\n",
    "    * alpha를 구한다.\n",
    "    * weights를 구한다.\n",
    "    * b를 구한다."
   ]
  },
  {
   "cell_type": "markdown",
   "metadata": {},
   "source": [
    "### 표기\n",
    "\n",
    "* m: n_samples n: n_features\n",
    "* $\\left \\langle x,y \\right\\rangle$: inner product, K (similarity function n_samples x n_samples vector (Gramian matrix))\n",
    "* X: $m \\times n$ vectors\n",
    "* y: class labels, $y_i \\in \\{-1,1\\}$\n",
    "* $x_i$ 학습데이터의 i번째 벡터\n",
    "* $(x^{(i)},y^{(i)})$ 테스트데이터\n",
    "* $\\sum_i w_i y_i k(x_i,x_j)$ - weighted sum of similarities\n",
    "* $\\hat{y}$ predicted\n",
    "\n",
    "\n",
    "* 학습데이터 ${x_i,y_i}\\ where\\ i=1 \\ldots m$, $y_i \\in y \\{-1, +1\\}, x_i \\in \\mathbb{R}^n$\n",
    "  * 학습데이터 $ m \\times n$벡터.\n",
    "    행은 $1 \\ldots m$,\n",
    "    각 행은 $1 \\ldots n$ 속성으로 구성 row (또는 column) vector ($\\mathbb{R}^n$)\n",
    "  * 클래스 y는 이진, -1 또는 1\n",
    "\n",
    "|      | 속성1 | 속성2 | ... | 속성 n | 클래스 |\n",
    "|------|------|------|------|------|-------|\n",
    "|x1    |      |      |      |      |   1   |\n",
    "|x2    |      |      |      |      |   1   |\n",
    "|...   |      |      |      |      |   -1  |\n",
    "|xm    |      |      |      |      |   1   |"
   ]
  },
  {
   "cell_type": "markdown",
   "metadata": {
    "slideshow": {
     "slide_type": "subslide"
    }
   },
   "source": [
    "### linear-separable (hard margin)\n",
    "\n",
    "목적함수 max $\\frac{2}{\\|w\\|}$ s.t. $y_i(wx_i + b)-1 \\ge 0\\ i=1,\\cdots,n$\n",
    "square root 계산을 쉽게 하기 위해 square하고, min문제로 바꾸면:\n",
    "* min $\\frac{\\|w\\|^2}{2}$\n",
    "    * s.t. $y_i(w \\cdot x_i + b) \\ge 1$"
   ]
  },
  {
   "cell_type": "markdown",
   "metadata": {},
   "source": [
    "* Primal form\n",
    "    * 위 최적화 문제(constrained optimization problem)를 라그랑주 승수$\\alpha$로 풀면:\n",
    "    * $L_p=\\frac{1}{2}\\|w\\|^2 - \\sum_{i=1}^{n}{\\alpha_i[y_i(w \\cdot x_i + b)-1]}$\n",
    "* 이를 w,b에 대해 편미분한 조건과 관련 조건으로 KKT (Karush-Kuhn-Tucker) 제한조건을 구하면 (5개):\n",
    "    * KKT1\n",
    "        * $\\frac{\\partial L}{\\partial w} = w - \\sum \\alpha_i y_i x_i = 0$\n",
    "        * $\\frac{\\partial L}{\\partial b} = -\\sum y_i \\alpha_i = 0$\n",
    "    * 목적함수에서 -> $y_i(wx_i + b)-1 \\ge 0\\ i=1,\\cdots,n$ (목적함수에서)\n",
    "    * KKT2 -> $\\alpha_i \\ge 0$\n",
    "    * KKT3 -> $\\alpha_i(y_i(wx_i + b)-1) = 0\\ i=1,\\cdots,n$\n",
    "    * 3,4번째 고려하면 $\\alpha_i \\ge 0$인 경우 support vectors ($H_1, H_2$에 있는 값). 그 외 $\\alpha_i=0$"
   ]
  },
  {
   "cell_type": "markdown",
   "metadata": {},
   "source": [
    "* Dual form (Wolfe dual)\n",
    "    * 라그랑주승수로 푼 편미분 결과를 $L_p$에 대입해서 풀면 -> w를 제거하게 됨.\n",
    "  $$\n",
    "    \\begin{aligned}\n",
    "    L_p &= \\frac{1}{2}\\|w\\|^2 - \\sum_{i=1}^{n}{\\alpha_i[y_i(w \\cdot x_i + b)-1]}\\\\\n",
    "    \\text{substitute w = $\\sum \\alpha y x$}\\\\\n",
    "        &= \\frac{1}{2}(\\sum \\alpha yx)^2 - \\sum {\\alpha [y (\\sum \\alpha y x x + b)-1]}\\\\\n",
    "        &= \\frac{1}{2}(\\sum \\alpha yx)^2 - \\sum \\sum \\alpha\\alpha y y x x + b \\sum \\alpha y + \\sum \\alpha\\\\\n",
    "    \\text{substitute $\\sum \\alpha y = 0$}\\\\\n",
    "    L_d&=\\sum_{i=1}^n \\alpha_i\n",
    "        -\\frac12 \\sum_{i=1}^n \\sum_{j=1}^n y_i y_j K(x_i, x_j) \\alpha_i \\alpha_j\\\\\n",
    "    \\text{subject to:}\\\\\n",
    "            \\sum_{i=1}^n y_i \\alpha_i &= 0\\\\\n",
    "            \\alpha_i                  &\\ge 0\\\\\n",
    "            for\\ i=1, 2, \\cdots, n\n",
    "            \\end{aligned}\n",
    "        $$\n",
    "* 이 최적화는 quadratic programmming, smo로 풀 수 있슴.\n",
    "\n",
    "* **$L_d$**는 변수가 간단해짐. $\\alpha$를 풀고난 후, 이미 알고 있는 데이터 x,y를 대입해서 해를 구함.\n",
    "* 또 $\\alpha$는 양수"
   ]
  },
  {
   "cell_type": "markdown",
   "metadata": {},
   "source": [
    "### linear: non-separable (soft margin)\n",
    "\n",
    "* margin에 noisy데이터가 포함되어서 slack변수 $\\xi$ ($\\ge 0$)\n",
    "* soft-margin SVM\n",
    "    * minimize $\\frac{\\|w\\|^2}{2}$\n",
    "    * subject to $y_i(w \\cdot x_i + b) \\ge 1 - \\xi$ 그리고 $\\xi \\ge 0$ for $i=1,2,\\cdots,n$\n",
    "* Lp 위 식에서 제약조건 2개를 Lagrange multipliers로 풀면 ($\\alpha_i, \\mu_i \\ge 0$)\n",
    "    * $L_p=\\frac{1}{2}\\|w\\|^2 + C\\sum_{i=1}^n\\xi\n",
    "    -\\sum_{i=1}^{n}{\\alpha_i[y_i(w \\cdot x_i + b)-1+\\xi_i]\n",
    "    -\\sum_{i=1}^n\\mu_i\\xi_i}$\n",
    "* Kuhn-Tucker conditions\n",
    "    * $\\frac{\\partial L}{\\partial w} = w - \\sum \\alpha_i y_i x_i = 0$\n",
    "    * $\\frac{\\partial L}{\\partial b} = -\\sum y_i \\alpha_i = 0$\n",
    "    * $\\frac{\\partial L}{\\partial \\xi} = C - \\alpha_i - \\mu_i = 0$\n",
    "    * $y_i(wx_i + b)-1+\\xi \\ge 0\\ i=1,\\cdots,n$ (목적함수에서)\n",
    "    * $\\alpha_i \\ge 0$\n",
    "    * $\\xi_i \\ge 0$\n",
    "    * $\\mu_i \\ge 0$\n",
    "    * $\\alpha_i(y_i(wx_i + b)-1+\\xi_i) = 0$\n",
    "    * $\\mu_i \\xi_i = 0,\\ i=1,\\cdots,n$\n",
    "    * 3,7번째 고려하면 $\\alpha_i \\le C$\n",
    "* Ld 조건을 수정하면\n",
    "    * $L_d=\\sum_{i=1}^n \\alpha_i\n",
    "        -\\frac12 \\sum_{i=1}^n \\sum_{j=1}^n y_i y_j K(x_i, x_j) \\alpha_i \\alpha_j$\n",
    "    * s.t $\\sum_{i=1}^n y_i \\alpha_i = 0,\n",
    "        0 \\le \\alpha_i \\le C,\\ for\\ i=1, 2, \\cdots, n$\n",
    "* C is an SVM hyperparameter and K(xi, xj) is the kernel function, both supplied by the user\n",
    "* 위 KT 8번째에서, $\\xi_i=0$일 경우:\n",
    "    * $b = \\frac{1}{y_i} - \\sum_{i=1}^n y_i \\alpha_i K(x_i,x_j)$\n",
    "* 위 KT 2,7,8조건에서:\n",
    "    * $\\alpha_i=0 \\Rightarrow y_i(w \\cdot x_i + b) \\ge 1\\ and\\ \\xi_i=0$ \n",
    "    * $0 < \\alpha_i < 0 \\Rightarrow y_i(w \\cdot x_i + b) = 1\\ and\\ \\xi_i=0$ \n",
    "    * $\\alpha_i=C \\Rightarrow y_i(w \\cdot x_i + b) \\le 1\\ and\\ \\xi_i \\ge 0$ "
   ]
  },
  {
   "cell_type": "markdown",
   "metadata": {
    "slideshow": {
     "slide_type": "subslide"
    }
   },
   "source": [
    "## Kernel\n",
    "\n",
    "### non-linear\n",
    "\n",
    "* 비선형 속성을 mapping하여, 기존 kernel K<x,x>을 그대로 사용함.\n",
    "* Kernel은 inner product (즉 데이터를 서로 곱하여 단일 값이 나옴)을 유지하지만, mapping한 값으로 교체함.\n",
    "이를 kernel trick (또는 kernel substitution)이라고 함.\n",
    "\n",
    "### kernel tricks\n",
    "* linear\n",
    "* gaussian rbf\n",
    "* poly\n",
    "\n",
    "### Gaussian radial bias function\n",
    "\n",
    "* $K(x,x') = \\exp\\left(-\\frac{||x - x'||^2}{2\\sigma^2}\\right)$\n",
    "\n",
    "* $||x - x'||^2$ squared Euclidean distance between the two feature vectors\n",
    "* $\\sigma$ a free parameter.\n",
    "    간단하게 나타내면 $K(x,x') = \\exp(\\gamma||x - x'||^2)$, $\\gamma = -\\frac{1}{2\\sigma^2}$ "
   ]
  },
  {
   "cell_type": "markdown",
   "metadata": {
    "slideshow": {
     "slide_type": "slide"
    }
   },
   "source": [
    "## 벡터 계산\n",
    "\n",
    "* 벡터 곱하기\n",
    "    * numpy array 연산은 항목별로(element-wise) 실행 (broadcasting이 가능하면)\n",
    "    * numpy matrix 연산은 선형대수linear algebra 법칙을 따른다.\n",
    "    * 따라서 곱하기 연산의 경우\n",
    "        * array는 항목연산\n",
    "        * matrix는 dot (??or inner product)\n",
    "            * matrix는 A(m,n)*B(n,p) --> C(m,p)\n",
    "            * matrix A(1,n)인 경우, AA.T는 (1,n)*(n,1) --> (1,1) scalar값 결과.\n",
    "        * np.multiply(A,AT)와 multiplication(*) 결과 서로 다름.\n",
    "            * np.multiply((m,1),(m,1))은 (m,1) (np함수는 element-wise연산)\n",
    "            * (m,1)*(m,1)은 오류. transpose해도 다른 결과. 즉, (1,m)*(m,1) --> scalar 또는 (m,1)*(1,m) --> (m,m)"
   ]
  },
  {
   "cell_type": "markdown",
   "metadata": {},
   "source": [
    "* product\n",
    "    * inner product: 결과가 scalar값 (벡터가 아님).\n",
    "        * array([[a1*a2 + b1*b2, a1*c2 + b1*d2],[c1*a2 + d1*b2, c1*c2 + d1*d2])\n",
    "    * dot product: 1D일 경우 inner와 결과가 같음.\n",
    "        * 1차원일 경우 inner product, 2차원은 transpose가 안됨\n",
    "        * matrix일 경우, inner\n",
    "    * inner vs outer\n",
    "        * $A^TA \\ne AA^T$ (m,n)*(n,p) --> (m,p)이므로 대칭이 아닌 경우 결과 다름)\n",
    "        * inner $A^TA$ <- a column vector multiplied by a row vector  -> scalar 값\n",
    "        * outer $AA^T$ <- a row vector multiplied by a column vector -> 벡터 값\n",
    "\n",
    "|     |  1d array   |   2d array   |   matrix   |\n",
    "|-----|-------------|--------------|------------|\n",
    "| *   | elementwise | element-wise | dot(inner) |\n",
    "| dot | inner와 같음  |   inner와 다름 A.dot(AT)  | dot(inner) |"
   ]
  },
  {
   "cell_type": "markdown",
   "metadata": {
    "slideshow": {
     "slide_type": "subslide"
    }
   },
   "source": [
    "* 참고: brocacasting은 서로 다른 rank(n of dimensions)를 처리하는 방식을 말함.\n",
    "    * rank는 number of dimensions\n",
    "        * column vector는 rank 1\n",
    "        * matrix는 항상 rank 2 (array는 1부터)\n",
    "    * rank가 같은 경우는 문제가 없슴.\n",
    "    * 서로 다른 rank인 경우는 연산할 경우, 큰 쪽으로 broadcasting\n",
    "        * A(2,2) + b(1,1 scalar)인 경우, b가 (2,2)로 변환되어서 연산\n",
    "        * A(2,3) + B(1,3)인 경우 오류. 그 이유는 B를 변환하면서 A의 최대인 3을 받아서 (3,3)으로 변경(broadcasting)해서 연산하면 오류."
   ]
  },
  {
   "cell_type": "markdown",
   "metadata": {},
   "source": [
    "note taken temporarily from todo.md\n",
    "```\n",
    "175 multiplication\n",
    "176 * array multiplication is done elementwise\n",
    "177 * matrix multiplication is by vector\n",
    "178 * if matrix multiplication of array -> dot\n",
    "179 a=a=np.mat('4 3;2 1')\n",
    "180 b=np.mat('1 2;3 4')\n",
    "181 In [90]: a*b\n",
    "182 Out[90]: \n",
    "183 matrix([[13, 20],\n",
    "184         [ 5,  8]])\n",
    "185 \n",
    "186 In [91]: np.array(a)*np.array(b)\n",
    "187 Out[91]:\n",
    "188 array([[4, 6],\n",
    "189        [6, 4]])\n",
    "190 \n",
    "191 In [92]: np.array(a).dot(np.array(b))\n",
    "192 Out[92]:\n",
    "193 array([[13, 20],\n",
    "194        [ 5,  8]])\n",
    "```"
   ]
  },
  {
   "cell_type": "code",
   "execution_count": 55,
   "metadata": {
    "collapsed": false
   },
   "outputs": [
    {
     "name": "stdout",
     "output_type": "stream",
     "text": [
      "[[ 1  3  3]\n",
      " [ 3 10  8]\n",
      " [ 3  8 10]]\n",
      "[[ 1  3  3]\n",
      " [ 3 10  8]\n",
      " [ 3  8 10]]\n"
     ]
    }
   ],
   "source": [
    "x1=np.array([[1,0],[3,1],[3,-1]])\n",
    "print np.inner(x1,x1)\n",
    "print np.dot(x1,x1.T)"
   ]
  },
  {
   "cell_type": "code",
   "execution_count": 3,
   "metadata": {
    "collapsed": false
   },
   "outputs": [
    {
     "name": "stdout",
     "output_type": "stream",
     "text": [
      "1.1 array vs matrix transpose multiplication\n",
      "array ATA=\n",
      "[16 25 36]\n",
      "array AAT=\n",
      "[16 25 36]\n",
      "matrix ATA=\n",
      "[[16 20 24]\n",
      " [20 25 30]\n",
      " [24 30 36]]\n",
      "matrix AAT=\n",
      "[[77]]\n",
      "matrix np.multiply(A,AT)=\n",
      "[[16 20 24]\n",
      " [20 25 30]\n",
      " [24 30 36]]\n",
      "2. multiplication\n",
      "multiply= [0 3] [2*u0 3*u1]\n",
      "dot= 3 2*u0 + 3*u1\n",
      "inner product= 3 2*u0 + 3*u1\n",
      "outer product=\n",
      "[[0 2]\n",
      " [0 3]] \n",
      "[[2*u0 2*u1]\n",
      " [3*u0 3*u1]]\n",
      "3. transpose\n",
      "transpse= [4 5 6]\n",
      "forcing transpose\n",
      "\n",
      "[[0]\n",
      " [1]]\n"
     ]
    }
   ],
   "source": [
    "import numpy as np\n",
    "import sympy as sp\n",
    "v0=np.array([0,1])\n",
    "v1=np.array([2,3])\n",
    "v2=np.array([4,5,6])\n",
    "\n",
    "u0,u1,u2,u3,u4=sp.symbols('u:5')\n",
    "u=np.array([u0,u1])\n",
    "\n",
    "print \"1.1 array vs matrix transpose multiplication\"\n",
    "v2mat=np.mat(v2)\n",
    "print \"array ATA=\\n\",v2.T*v2\n",
    "print \"array AAT=\\n\",v2*v2.T\n",
    "print \"matrix ATA=\\n\",v2mat.T*v2mat\n",
    "print \"matrix AAT=\\n\",v2mat*v2mat.T\n",
    "# 1.2 np.multiply\n",
    "print \"matrix np.multiply(A,AT)=\\n\",np.multiply(v2mat,v2mat.T)\n",
    "\n",
    "print \"2. multiplication\"\n",
    "print \"multiply=\",np.multiply(v1,v0),np.multiply(v1,u)\n",
    "print \"dot=\",np.dot(v1,v0),np.dot(v1,u)\n",
    "print \"inner product=\",np.inner(v1,v0),np.dot(v1,u)\n",
    "print \"outer product=\\n\",np.outer(v1,v0),\"\\n\",np.outer(v1,u)\n",
    "\n",
    "print \"3. transpose\"\n",
    "print \"transpse=\",v2.T\n",
    "print \"forcing transpose\\n\"\n",
    "v0.shape=(1,2)\n",
    "print v0.T"
   ]
  },
  {
   "cell_type": "markdown",
   "metadata": {
    "slideshow": {
     "slide_type": "subslide"
    }
   },
   "source": [
    "### 계산\n",
    "\n",
    "* kernel (m,n) (1,n) -> inner -> (m,1)\n",
    "    * inner product로 계산\n",
    "* "
   ]
  },
  {
   "cell_type": "code",
   "execution_count": 11,
   "metadata": {
    "collapsed": false
   },
   "outputs": [
    {
     "name": "stdout",
     "output_type": "stream",
     "text": [
      "4. kernel exercis 5x3 (n_samples x n_features)\n",
      "array inner product -->  [14 32 50  8 20]\n",
      "matrix inner product -->  [[14]\n",
      " [32]\n",
      " [50]\n",
      " [ 8]\n",
      " [20]]\n",
      "msytic multiplication -->  [[14]\n",
      " [32]\n",
      " [50]\n",
      " [ 8]\n",
      " [20]]\n",
      "x(m,n) * u.T (n,1) --> (m,1)\n",
      "[[u0 + 2*u1 + 3*u2]\n",
      " [4*u0 + 5*u1 + 6*u2]\n",
      " [7*u0 + 8*u1 + 9*u2]\n",
      " [u1 + 2*u2]\n",
      " [2*u0 + 3*u1 + 4*u2]]\n",
      "--compare to matrix multiplication:  [14 32 50  8 20]\n",
      "[[u0 + 2*u1 + 3*u2]\n",
      " [4*u0 + 5*u1 + 6*u2]\n",
      " [7*u0 + 8*u1 + 9*u2]\n",
      " [u1 + 2*u2]\n",
      " [2*u0 + 3*u1 + 4*u2]]\n"
     ]
    }
   ],
   "source": [
    "import numpy as np\n",
    "print \"4. kernel exercis 5x3 (n_samples x n_features)\"\n",
    "# x(m,n) xi(1,n) 곱하려면 np.inner(x.T,x)\n",
    "x=np.array([[1,2,3],[4,5,6],[7,8,9],[0,1,2],[2,3,4]])\n",
    "#print \"x[0]={0}\\nx[0].T={1}\".format(x[0],x[0].T)\n",
    "#print \"x[0]*x[0].T={0}\".format(x*x[0].T)\n",
    "print \"array inner product --> \",np.inner(x,x[0]) #(5,3)\n",
    "\n",
    "x2=np.mat(x)\n",
    "print \"matrix inner product --> \",np.inner(x2,x2[0]) #(5,3) (1,3)\n",
    "print \"msytic multiplication --> \",x2*x2[0].T\n",
    "u=np.mat([u0,u1,u2])\n",
    "print \"x(m,n) * u.T (n,1) --> (m,1)\\n\",x2*u.T\n",
    "print \"--compare to matrix multiplication: \",np.dot(x,x[0].T)\n",
    "print np.dot(x,u.T)"
   ]
  },
  {
   "cell_type": "code",
   "execution_count": null,
   "metadata": {
    "collapsed": true
   },
   "outputs": [],
   "source": []
  },
  {
   "cell_type": "markdown",
   "metadata": {
    "slideshow": {
     "slide_type": "slide"
    }
   },
   "source": [
    "## 라그랑주 승수법  Lagrange multiplier method\n",
    "\n",
    "라그랑주 승수법은 제약을 가지고 있는 문제를 푸는 방법이다.\n",
    "\n",
    "예를 들어, **f(x, y)를 최대화**하는 문제가 있고, **제약조건 g(x, y) = c**가 있다고 하자.\n",
    "이 경우 **라그랑주 승수 $\\lambda$**을 곱하여, 제약이 있는 문제를 제약이 없는 문제로 전환하여 풀 수 있다.\n",
    "\n",
    "* $\\Lambda(x,y,\\lambda) = f(x,y) + \\lambda \\cdot \\Big(g(x,y)-c\\Big)$"
   ]
  },
  {
   "cell_type": "markdown",
   "metadata": {
    "slideshow": {
     "slide_type": "subslide"
    }
   },
   "source": [
    "## 문제: 최대화 문제를 라그랑주 승수법으로 풀기\n",
    "\n",
    "출처ㅣ 위키피디아 Example 1 http://en.wikipedia.org/wiki/Lagrange_multiplier\n",
    "\n",
    "x + y의 최대값을 구하는 문제,\n",
    "제약조건은 $x^2 + y^2 = 1$이다."
   ]
  },
  {
   "cell_type": "markdown",
   "metadata": {
    "slideshow": {
     "slide_type": "subslide"
    }
   },
   "source": [
    "* 최대화 f(x, y) = x + y\n",
    "* 제약조건 $g(x,y) - c = x^2 + y^2 -1$\n",
    "\n",
    "* 라그랑주 승수법으로 표현하면:\n",
    "\n",
    "$\\Lambda(x,y,\\lambda) = f(x,y) + \\lambda \\cdot \\Big(g(x,y)-c\\Big)\n",
    "    = x+y + \\lambda (x^2 + y^2 - 1)\\\\$"
   ]
  },
  {
   "cell_type": "markdown",
   "metadata": {
    "slideshow": {
     "slide_type": "subslide"
    }
   },
   "source": [
    "* 편미분으로 gradient값을 구하면:\n",
    "\n",
    "$\\nabla_{x,y,\\lambda} \\Lambda(x , y, \\lambda)=0$\n",
    "\n",
    "$$\n",
    "\\begin{align}\n",
    "    \\frac{\\partial \\Lambda}{\\partial x} &= 1 + 2 \\lambda x = 0, \\\\\n",
    "    \\frac{\\partial \\Lambda}{\\partial y} &= 1 + 2 \\lambda y = 0, \\\\\n",
    "    \\frac{\\partial \\Lambda}{\\partial \\lambda} &= x^2 + y^2 - 1 = 0, \n",
    "\\end{align}\n",
    "$$"
   ]
  },
  {
   "cell_type": "markdown",
   "metadata": {
    "slideshow": {
     "slide_type": "subslide"
    }
   },
   "source": [
    "$$\n",
    "\\begin{align}\n",
    "\\nabla_{x,y} f &= - \\lambda \\nabla_{x,y} g \\\\ \n",
    "\\nabla_{x,y} f &= \\Big(\\frac{\\partial f}{\\partial x},\n",
    "    \\frac{\\partial f}{\\partial y}\\Big)\\\\\n",
    "\\nabla_{x,y} g &= \\Big(\\frac{\\partial g}{\\partial x},\n",
    "    \\frac{\\partial g}{\\partial y}\\Big)\\\\\n",
    "\\end{align}\n",
    "$$"
   ]
  },
  {
   "cell_type": "markdown",
   "metadata": {},
   "source": [
    "* 앞의 식에서 $x = y = -\\frac{1}{2\\lambda}, \\lambda \\neq 0$\n",
    "* 이를 마지막 식에 대입하면\n",
    "$ 1/(4\\lambda^2)+1/(4\\lambda^2)=1, so \\lambda = \\mp 1/\\sqrt{2}$\n",
    "* 그러면 $(\\sqrt{2}/2,\\sqrt{2}/2) and (-\\sqrt{2}/2,-\\sqrt{2}/2)$\n",
    "* 값을 구하면\n",
    "    * $f(\\sqrt{2}/2,\\sqrt{2}/2)=\\sqrt{2}$ and\n",
    "    * $f(-\\sqrt{2}/2,-\\sqrt{2}/2)=-\\sqrt{2}$\n",
    "* 따라서\n",
    "    * 최대값은 $\\sqrt{2}$은 $(\\sqrt{2}/2,\\sqrt{2}/2)$에서\n",
    "    * 최소값은 $-\\sqrt{2}$은 $(-\\sqrt{2}/2,-\\sqrt{2}/2)$에서 얻어짐."
   ]
  },
  {
   "cell_type": "markdown",
   "metadata": {},
   "source": [
    "## 문제\n",
    "\n",
    "* 한 점 p1(0,3)에서 $x^2 - y^2 =9$ 함수 f(x,y)위의 점 가운데 최소거리와 그 점을 구함.\n",
    "\n",
    "라그랑주 승수를 이용한 풀이\n",
    "* 함수f(x,y)위의 점을 p2(x,y)라고 하면, p1(0,3)에서 p2(x,y)거리 d는:\n",
    "    * $d^2 = (x-0)^2 + (y-3)^2$\n",
    "    * $\\nabla f(x,y) = \\lambda \\nabla g(x,y)$를 충족하는 라그랑주 승수가 존재함\n",
    "* 이를 라그랑주로 표현하면\n",
    "    * minimize $d^2$, 즉 $f(x,y)=x^2 + (y-3)^2$\n",
    "    * 제약조건 $g(x,y) = x^2 - y^2 -9 = 0$\n",
    "풀이\n",
    "* $\\nabla f(x,y) = \\frac{\\partial f}{\\partial x},\\frac{\\partial f}{\\partial y}=(2x,2y-6)$\n",
    "* $\\nabla g(x,y) = \\frac{\\partial g}{\\partial x},\\frac{\\partial g}{\\partial y}=(2x,-2y)$\n",
    "* 라그랑주 상수를 적용하면\n",
    "    * $2x = \\lambda 2x$, $2y-6=-\\lambda 2y$\n",
    "    * 이를 풀면 $\\lambda=\\frac{2x}{2x}=1$, 이를 다시 뒷 식에 대입하면 $y=6/4=3/2$\n",
    "    * 이를 g(x,y)에 대입하면 $x^2=(3/2)^2+9=(9+36)/4=45/4$, 여기에서 x는 $\\pm \\frac{3\\sqrt{5}}{2}$\n",
    "    * 따라서 최소거리 $d^2=45/4 + (3/2 - 3)^2 = (45 + 9)/4$, 루트를 제거하면 $d=\\frac{3\\sqrt{6}}{2}$\n",
    "    \n"
   ]
  },
  {
   "cell_type": "code",
   "execution_count": 38,
   "metadata": {
    "collapsed": false
   },
   "outputs": [
    {
     "name": "stdout",
     "output_type": "stream",
     "text": [
      "{x: 2/3, y: 1/3, a: -4/3}\n"
     ]
    }
   ],
   "source": [
    "# %load -r 624-640 src/pyds/svm.py\n",
    "def testLagrange1():\n",
    "    \"\"\"\n",
    "    one equality constraint (g=0)\n",
    "    f=2-x**2-2*y**2\n",
    "    g=x+y-1\n",
    "    \"\"\"\n",
    "    import sympy as sp\n",
    "    x,y,a=sp.symbols('x y a')\n",
    "    f=2-x**2-2*y**2\n",
    "    g=x+y-1 # g=0\n",
    "    L=f-a*g\n",
    "    Lx=L.diff(x)\n",
    "    Ly=L.diff(y)\n",
    "    La=L.diff(a)\n",
    "    res=sp.solve([Lx,Ly,La])\n",
    "    return res\n",
    "\n",
    "res=testLagrange1()\n",
    "print res"
   ]
  },
  {
   "cell_type": "markdown",
   "metadata": {},
   "source": [
    "## svm 풀어보기\n",
    "\n",
    "* H를 구한다 $H_{ij} = y_i y_j x_i \\cdot x_j$\n",
    "* $\\alpha$를 구한다 (smo 또는 Quadratic Programming).\n",
    "    * max $\\sum_{i=1}^m \\alpha_i - \\frac{1}{2} \\alpha^T\\alpha H$\n",
    "    * s.t. $\\alpha_i \\ge 0\\space and \\sum_{i=1}^m \\alpha_i y_i=0$\n",
    "* w를 구한다 $w=\\sum_{i=1}^m \\alpha_i y_i x_i$\n",
    "* support vectors를 구한다 ($\\alpha_i \\gt 0$을 충족하는 데이터 선별)\n",
    "    * $\\sum_{i=1}^n y_i \\alpha_i = 0$를 충족하는 값은 sv. y는 1또는 -1인 경우 alpha가 0이면 그 합이 0\n",
    "    * $y_s(wx_s + b) = 1 \\forall s$\n",
    "    * $y_s(\\sum_{m \\in S} \\alpha_m y_m x_m \\cdot x_s + b) = 1$\n",
    "* b를 구한다.\n",
    "    * $y_s^2 = 1$이므로 양변에 $y_s$를 곱해서 b를 구하면\n",
    "    * $b = y_s - \\sum_{m \\in S} \\alpha_m y_m x_m \\cdot x_s$\n",
    "    * 위는 개별적인 값, 전체 평균을 낸\n",
    "        $b = \\frac{1}{N_s} \\sum_{s \\in S} (y_s - \\sum_{m \\in S} \\alpha_m y_m x_m \\cdot x_s)$\n",
    "* 테스트데이터 xi에 대해 predict함수를 구한다. \n",
    "    * $\\hat{y} = sgn(w \\cdot inX + b)$\n",
    "\n",
    "$L_d$를 사용하여 풀면\n",
    "* $\\max_{\\alpha} \\sum_{i=1}^n \\alpha_i - \\frac12 \\sum_{i=1}^n \\sum_{j=1}^n y_i y_j K(x_i, x_j) \\alpha_i \\alpha_j$\n",
    "* a1+a2 - 1/2 (y1y1K(x1,x1)a1a1 + y1y2K(x1,x2)a1a2 + y2y1K(x2,x1)a2a1 + y2y2K(x2,x2)a2a2)\n",
    "* 이 식에서 최적해 a1,a2값을 구함.\n",
    "* alphas가 많아지면 최적화 계산 복잡해짐.\n",
    "\n"
   ]
  },
  {
   "cell_type": "markdown",
   "metadata": {
    "slideshow": {
     "slide_type": "slide"
    }
   },
   "source": [
    "## 문제: 간단한 SVM\n",
    "\n",
    "다음과 같이 매우 단순한 데이터를 수식으로 전개해서 풀어보자.\n",
    "\n",
    "x1 | x2 | y\n",
    "-----|-----|-----\n",
    "2 | 3 | 1\n",
    "4 | 1 | -1\n",
    "\n",
    "앞서 도출한 수식을 사용하여 다음 절차에 따라 풀어보자.\n",
    "* 단계 1: Dual form으로 전개하기\n",
    "* 단계 2: alpha를 구하기\n",
    "* 단계 3: 제한조건으로 w구하기\n",
    "* 단계 4: decision line을 이용해 b 구하기"
   ]
  },
  {
   "cell_type": "markdown",
   "metadata": {
    "slideshow": {
     "slide_type": "subslide"
    }
   },
   "source": [
    "### 데이터\n",
    "\n",
    "symbolic programming을 사용하여, ```alpha```를 ```a0```,```a1```으로 선언한다."
   ]
  },
  {
   "cell_type": "code",
   "execution_count": 1,
   "metadata": {
    "collapsed": true
   },
   "outputs": [],
   "source": [
    "import numpy as np\n",
    "import sympy as sp\n",
    "\n",
    "x=np.array([[2,3],[4,1]])\n",
    "y=np.array([1,-1])\n",
    "\n",
    "a0,a1=sp.symbols('a:2')\n",
    "a=np.array([a0,a1])\n",
    "b=sp.symbols('b')"
   ]
  },
  {
   "cell_type": "markdown",
   "metadata": {
    "slideshow": {
     "slide_type": "subslide"
    }
   },
   "source": [
    "### 단계 1: Dual form으로 전개하기"
   ]
  },
  {
   "cell_type": "code",
   "execution_count": 2,
   "metadata": {
    "collapsed": false
   },
   "outputs": [
    {
     "name": "stdout",
     "output_type": "stream",
     "text": [
      "Kernel=[[13 11]\n",
      " [11 17]]\n"
     ]
    }
   ],
   "source": [
    "def KernelLinear(xi,xj):\n",
    "    import numpy as np\n",
    "    return np.inner(xi,xj)\n",
    "\n",
    "K=KernelLinear(x,x)\n",
    "print \"Kernel={0}\".format(K)"
   ]
  },
  {
   "cell_type": "code",
   "execution_count": 3,
   "metadata": {
    "collapsed": false
   },
   "outputs": [
    {
     "name": "stdout",
     "output_type": "stream",
     "text": [
      "Ld1=-6.5*a0**2 + 11.0*a0*a1 + a0 - 8.5*a1**2 + a1\n"
     ]
    }
   ],
   "source": [
    "def getLd(a,y,x,xi):\n",
    "    Ld1=sum(a) -0.5*sumaayyk(a,y,x,x)\n",
    "    return Ld1\n",
    "\n",
    "def sumaayyk(a,y,x,xi):\n",
    "    import numpy as np\n",
    "    _sumaayyk=np.array(sum(np.outer(a,a)*np.outer(y,y)*KernelLinear(x,xi)))\n",
    "    return sum(_sumaayyk)\n",
    "\n",
    "Ld1=sum(a) -0.5*sumaayyk(a,y,x,x)\n",
    "print \"Ld1={0}\".format(Ld1)"
   ]
  },
  {
   "cell_type": "markdown",
   "metadata": {
    "slideshow": {
     "slide_type": "subslide"
    }
   },
   "source": [
    "### 단계 2: alpha를 구하기\n",
    "\n",
    "* $\\sum \\alpha y = 0$ -> a0=a1\n",
    "* Ld에 대입하고 -> 미분해서 -> 0으로 놓고 해를 구한다."
   ]
  },
  {
   "cell_type": "code",
   "execution_count": 4,
   "metadata": {
    "collapsed": false
   },
   "outputs": [
    {
     "name": "stdout",
     "output_type": "stream",
     "text": [
      "sum of ai*yi=0 -->  a0 - a1\n"
     ]
    }
   ],
   "source": [
    "print \"sum of ai*yi=0 --> \",sum(a*y)"
   ]
  },
  {
   "cell_type": "markdown",
   "metadata": {
    "slideshow": {
     "slide_type": "subslide"
    }
   },
   "source": [
    "앞서 제약조건 ```a0=a1```을 충족해야 하므로, 계산한 Ld1에 a0에 a1을 대입하여 구해보자."
   ]
  },
  {
   "cell_type": "code",
   "execution_count": 5,
   "metadata": {
    "collapsed": false
   },
   "outputs": [
    {
     "name": "stdout",
     "output_type": "stream",
     "text": [
      "Ld1_a0=a1 =  -4.0*a1**2 + 2*a1\n"
     ]
    }
   ],
   "source": [
    "Ld1_=Ld1.subs(a0,a1)\n",
    "print \"Ld1_a0=a1 = \",Ld1_"
   ]
  },
  {
   "cell_type": "markdown",
   "metadata": {
    "slideshow": {
     "slide_type": "subslide"
    }
   },
   "source": [
    "* 미분해서 ```solve()```를 사용해 $\\alpha$값을 구한다."
   ]
  },
  {
   "cell_type": "code",
   "execution_count": 7,
   "metadata": {
    "collapsed": false
   },
   "outputs": [
    {
     "name": "stdout",
     "output_type": "stream",
     "text": [
      "Ld2=-8.0*a1 + 2\n",
      "0.250000000000000\n"
     ]
    }
   ],
   "source": [
    "Ld2=sp.diff(Ld1_,a1)\n",
    "print \"Ld2={0}\".format(Ld2)\n",
    "a_=sp.solve(Ld2,a1)\n",
    "a_1=a_[0]\n",
    "print a_1"
   ]
  },
  {
   "cell_type": "markdown",
   "metadata": {},
   "source": [
    "* a0, a1를 저장한다."
   ]
  },
  {
   "cell_type": "code",
   "execution_count": 9,
   "metadata": {
    "collapsed": false
   },
   "outputs": [
    {
     "name": "stdout",
     "output_type": "stream",
     "text": [
      "[0.250000000000000, 0.250000000000000]\n"
     ]
    }
   ],
   "source": [
    "sol_a=[a_1,a_1]\n",
    "print sol_a"
   ]
  },
  {
   "cell_type": "markdown",
   "metadata": {},
   "source": [
    "* $w=\\sum \\alpha y x$에서 w를 구한다."
   ]
  },
  {
   "cell_type": "code",
   "execution_count": 27,
   "metadata": {
    "collapsed": false
   },
   "outputs": [
    {
     "name": "stdout",
     "output_type": "stream",
     "text": [
      "[2*a0 - 4*a1 3*a0 - a1]\n",
      "[-0.500000000000000 0.500000000000000]\n"
     ]
    }
   ],
   "source": [
    "def sumayx(alphas,y,x):\n",
    "    ayxT=alphas*y*x.T\n",
    "    return ayxT.sum(axis=1)\n",
    "\n",
    "print sumayx(a,y,x)\n",
    "sol_w=sumayx(np.array(sol_a),y,x)\n",
    "sumayx(np.array(sol_a),y,x)\n",
    "print sol_w"
   ]
  },
  {
   "cell_type": "markdown",
   "metadata": {},
   "source": [
    "* b의 값은 아래와 같이 구한다.\n",
    "    $$\n",
    "        \\begin{aligned}\n",
    "            \\sum wx + b &=1\\ or -1\\\\\n",
    "            y(\\sum wx + b) &=1\\\\\n",
    "            yb &= 1- y\\sum wx\\\\\n",
    "            b & = y(1-y\\sum wx)\n",
    "        \\end{aligned}\n",
    "    $$"
   ]
  },
  {
   "cell_type": "code",
   "execution_count": 28,
   "metadata": {
    "collapsed": false
   },
   "outputs": [
    {
     "name": "stdout",
     "output_type": "stream",
     "text": [
      "0.500000000000000 [2 3] 1\n",
      "0.500000000000000 [4 1] -1\n"
     ]
    }
   ],
   "source": [
    "for xi,yi in zip(x,y):\n",
    "    b=yi*(1-yi*np.inner(sol_w,xi))\n",
    "    print b,xi,yi"
   ]
  },
  {
   "cell_type": "markdown",
   "metadata": {},
   "source": [
    "* decision line을 구하면 \n",
    "    * $w_0 \\times x_0 + w_1 \\times x_1 + b =0$\n",
    "    * $ x_1= \\frac{-(w_0 \\times x_0 + b)}{w_1}$"
   ]
  },
  {
   "cell_type": "code",
   "execution_count": 12,
   "metadata": {
    "collapsed": false
   },
   "outputs": [
    {
     "data": {
      "image/png": "[encoded data removed]",
      "text/plain": [
       "<matplotlib.figure.Figure at 0x7f131ad86dd0>"
      ]
     },
     "metadata": {},
     "output_type": "display_data"
    }
   ],
   "source": [
    "%matplotlib inline\n",
    "\n",
    "import matplotlib.pyplot as plt\n",
    "import numpy as np\n",
    "\n",
    "x1=np.arange(-5,5,0.1)\n",
    "x2=-(sol_w[0]*x1+b)/sol_w[1]\n",
    "\n",
    "fig=plt.figure()\n",
    "ax = fig.add_subplot(111)\n",
    "ax.set_title('2d hyperplane')\n",
    "ax.set_xlabel('x1')\n",
    "ax.set_ylabel('x2')\n",
    "for i in x:\n",
    "    ax.text(i[0],i[1],i)\n",
    "    plt.scatter(i[0],i[1])\n",
    "plt.plot(x1,x2)\n",
    "#plt.scatter([0,4],[0,4])\n",
    "plt.show()\n"
   ]
  },
  {
   "cell_type": "markdown",
   "metadata": {},
   "source": [
    "### sklearn"
   ]
  },
  {
   "cell_type": "code",
   "execution_count": 18,
   "metadata": {
    "collapsed": true
   },
   "outputs": [],
   "source": [
    "import numpy as np\n",
    "import sklearn as sk\n",
    "\n",
    "_xt=np.array([[2,3],[4,1]], dtype=float)\n",
    "_yt=np.array([1,-1])"
   ]
  },
  {
   "cell_type": "code",
   "execution_count": 19,
   "metadata": {
    "collapsed": false
   },
   "outputs": [
    {
     "data": {
      "text/plain": [
       "SVC(C=1.0, cache_size=200, class_weight=None, coef0=0.0,\n",
       "  decision_function_shape=None, degree=3, gamma='auto', kernel='linear',\n",
       "  max_iter=-1, probability=False, random_state=None, shrinking=True,\n",
       "  tol=0.001, verbose=False)"
      ]
     },
     "execution_count": 19,
     "metadata": {},
     "output_type": "execute_result"
    }
   ],
   "source": [
    "from sklearn import svm\n",
    "clf=svm.SVC(kernel='linear', C = 1.0)\n",
    "clf.fit(_xt,_yt)"
   ]
  },
  {
   "cell_type": "code",
   "execution_count": 20,
   "metadata": {
    "collapsed": false
   },
   "outputs": [
    {
     "data": {
      "text/plain": [
       "array([[-0.5,  0.5]])"
      ]
     },
     "execution_count": 20,
     "metadata": {},
     "output_type": "execute_result"
    }
   ],
   "source": [
    "clf.coef_"
   ]
  },
  {
   "cell_type": "markdown",
   "metadata": {},
   "source": [
    "도움함수를 사용해서 그래프를 그려보자."
   ]
  },
  {
   "cell_type": "code",
   "execution_count": 21,
   "metadata": {
    "collapsed": false
   },
   "outputs": [
    {
     "data": {
      "image/png": "[encoded data removed]",
      "text/plain": [
       "<matplotlib.figure.Figure at 0x7f131d8b4950>"
      ]
     },
     "metadata": {},
     "output_type": "display_data"
    }
   ],
   "source": [
    "def plot_decision_boundary(clf, X, Y, cmap='Paired_r'):\n",
    "    # Determine grid range in x and y directions\n",
    "    h = 0.02\n",
    "    x_min, x_max = X[:,0].min() - 10*h, X[:,0].max() + 10*h\n",
    "    y_min, y_max = X[:,1].min() - 10*h, X[:,1].max() + 10*h\n",
    "    # Create grid\n",
    "    xx, yy = np.meshgrid(np.arange(x_min, x_max, h),\n",
    "                         np.arange(y_min, y_max, h))\n",
    "    Z = clf.predict(np.c_[xx.ravel(), yy.ravel()])\n",
    "    Z = Z.reshape(xx.shape)\n",
    "    plt.figure(figsize=(5,5))\n",
    "    plt.contourf(xx, yy, Z, cmap=cmap, alpha=0.25)\n",
    "    plt.contour(xx, yy, Z, colors='k', linewidths=0.7)\n",
    "    plt.scatter(X[:,0], X[:,1], c=Y, cmap=cmap, edgecolors='k');\n",
    "\n",
    "plot_decision_boundary(clf,_xt,_yt)"
   ]
  },
  {
   "cell_type": "code",
   "execution_count": null,
   "metadata": {
    "collapsed": true
   },
   "outputs": [],
   "source": []
  },
  {
   "cell_type": "markdown",
   "metadata": {},
   "source": [
    "## MIT 2006 Problem 2.A\n",
    "\n",
    "* 아래 학습데이터가 있다고 하자.\n",
    "    * $x_1$=(0,0), $y_1$=+1\n",
    "    * $x_2$=(4,4), $y_2$=-1\n",
    "* linearly separable한지? 직관적으로 좌표에 x1, x2를 찍고, 선을 그어보면 직선으로 그어짐.\n",
    "    * decision boundary y=-x + 4\n",
    "* SVM classifier를 구하고, $\\alpha_1, \\alpha_2, b$를 계산\n",
    "    * svm classifier는 $h(x) = w_1x + w_2y + b \\geq 0$ 왜 0보다 클까????\n",
    "    * 위 y=-x+4의 부등호를 넣어서 y<-x +4 (0,0)이 아래쪽에 있으므로 \n",
    "    * 식을 정리하면 $-1x -1y + 4 \\geq 0$\n",
    "    * 따라서 $w_1=-1, w_2=-1, b=4$\n",
    "* margin을 구하면\n",
    "    * $\\frac{2}{\\sqrt{-1^2 + -1^2}}= \\sqrt{2}$\n",
    "    * 그러나 실제 margin은 $\\sqrt{4^2+4^2}=4\\sqrt{2}$\n",
    "    * decision boundary에 c를 곱해도 불변이므로\n",
    "    $-cx_1-cx_2+4c \\geq 0$\n",
    "    * 여기서 c를 구하면:\n",
    "        * margin의 수학식은 $\\frac{2}{\\|w\\|}$\n",
    "        * $\\|w\\|=\\sqrt{-c^2+-c^2}=\\sqrt{2}c$\n",
    "        * margin의 수학식($\\frac{2}{\\|w\\|}$)과 실제 거리($4\\sqrt{2}$)는 같으므로, c에 관해 풀면\n",
    "        * $\\frac{2}{\\sqrt{2}c} = 4\\sqrt{2}$ 따라서  $c=\\frac{1}{4}$\n",
    "* 따라서 svm solution은\n",
    "    * $-cx_1 -cx_2 + 4c \\geq 0$에 c를 대입, $-\\frac{1}{4}x_1 -\\frac{1}{4}x_2 + 1 \\geq 0$\n",
    "* $\\alpha$를 구하면\n",
    "    * $\\sum_{i=1}^2 \\alpha_i y_i x_i = w$\n",
    "    * $\\alpha_i \\cdot +1 \\cdot [0,0] + \\alpha_2 \\cdot -1 \\cdot [4,4] = [-1/4,-1/4]$\n",
    "    * $\\alpha_2=1/16$\n",
    "    * $\\sum \\alpha_i y_i = 0$식에 대입해서 풀면\n",
    "        * $\\alpha_1 \\cdot +1 + 1/16 \\cdot -1 = 0$\n",
    "        * $\\alpha_1 = 1/16$"
   ]
  },
  {
   "cell_type": "code",
   "execution_count": null,
   "metadata": {
    "collapsed": true
   },
   "outputs": [],
   "source": []
  },
  {
   "cell_type": "code",
   "execution_count": null,
   "metadata": {
    "collapsed": true
   },
   "outputs": [],
   "source": []
  },
  {
   "cell_type": "markdown",
   "metadata": {},
   "source": [
    "## 문제: \n",
    "\n",
    "* case0 - mit (데이터 x0 y0 사용)\n",
    "* case00 - mit 2번째 문제 (데이터 x00,y00)\n",
    "* case1 - svm example (데이터 x1 y1) -> ??여기 비선형을 풀면?\n",
    "* case2 - svm in korean (데이터 x2 y2)\n",
    "\n",
    "## 풀이\n",
    "\n",
    "* 아래에서 2곳 CHANGE THIS! (x,y,a,sol 변경).\n",
    "* np.array 풀었슴 (not matrix) (1D라서 Ok)\n",
    "* 풀이방법\n",
    "    * 조건식 -> sum_ay_0, fx={1,-1}를 이용해서 alphas,b 구함.\n",
    "    * Ld를 이용해서 품 (아래 2.4)\n",
    "\n",
    "### case 0: mit (mit2006)\n",
    "문제0: 두 점 x1(0,0) x2(4,4). x1은 -1, x2는 1로 분류. 이 경우 Hyperplane을 찾음.\n",
    "* K=[ 32.   0.   0.   0.]\n",
    "* sum_aayyK=32.0*a0**2\n",
    "* Ld1=-16.0*a0**2 + a0 + a1\n",
    "* sum of ai*yi=0 const. -a0 + a1\n",
    "[-32.0*a0 0]\n",
    "[0 0]\n",
    "* {a0: 1/16, b: 1, a1: 1/16}\n",
    "* 답 alphas=[1/16 1/16] b=1 w=[-1/4 -1/4]\n",
    "\n",
    "문제00: x1(0,0), x2(1,1) y=-1. x3(2,0) y=1.\n",
    "* 2.1 K=[ 0.  0.  0.  0.  2.  2.  0.  2.  4.]\n",
    "* 2.2 sum_aayyK=2.0*a1**2 - 4.0*a1*a2 + 4.0*a2**2\n",
    "* 2.3\n",
    "    * Ld1=a0 - 1.0*a1**2 + 2.0*a1*a2 + a1 - 2.0*a2**2 + a2\n",
    "    * sum of ai*yi=0 const. -a0 - a1 + a2\n",
    "* 2.2~2.4를 fx(=ayK + b - y =0)로 품.\n",
    "    * y0K(x0,x0) y0K(x0,x1) y0K(x0,x2) = [0 0 0]\n",
    "    * y1K(x1,x0) y1K(x1,x1) y1K(x1,x2) = [0 -2.0*a1 -2.0*a2]\n",
    "    * y2K(x2,x0) y2K(x2,x1) y2K(x2,x2) = [0 2.0*a1 4.0*a2]\n",
    "    * 세로로 a곱해서 ayk풀면 {a0: 0, a2: 1, a1: 1, b: -1}\n",
    "* 답 alphas=[0 1 1] b=-1 w=[1 -1]\n",
    "\n",
    "### case 1 - svm example\n",
    "* K=[  1.   3.   3.   3.  10.   8.   3.   8.  10.]\n",
    "* sum_aayyK=1.0*a0**2 - 6.0*a0*a1 - 6.0*a0*a2 + 10.0*a1**2 + 16.0*a1*a2 + 10.0*a2**2\n",
    "* Ld1=-0.5*a0**2 + 3.0*a0*a1 + 3.0*a0*a2 + a0 - 5.0*a1**2 - 8.0*a1*a2 + a1 - 5.0*a2**2 + a2\n",
    "* sum of ai*yi=0 const. -a0 + a1 + a2\n",
    "* [-1.0*a0 -3.0*a1 -3.0*a2]\n",
    "* [3.0*a0 10.0*a1 8.0*a2]\n",
    "* [3.0*a0 8.0*a1 10.0*a2]\n",
    "* {a0: 1/2, a2: 1/4, a1: 1/4, b: -2}\n",
    "* 답 alphas=[1/2 1/4 1/4] b=-2 w=[1 0] (svm example.pdf자료 alphas값 오류)\n",
    "\n",
    "### case 2 svm in korean 오일석 외 2008 (case20은 support vector가 아닌 데이터 추가.)\n",
    "* K=[ 13.  11.  11.  17.]\n",
    "* sum_aayyK=13.0*a0**2 - 22.0*a0*a1 + 17.0*a1**2\n",
    "* Ld1=-6.5*a0**2 + 11.0*a0*a1 + a0 - 8.5*a1**2 + a1\n",
    "* sum of ai*yi=0 const. a0 - a1\n",
    "* [13.0*a0 11.0*a1]\n",
    "* [-11.0*a0 -17.0*a1]\n",
    "* {a0: 1/4, b: 1/2, a1: 1/4}\n",
    "* 답 alphas=[1/4 1/4] b=1/2 w=[-1/2 1/2]\n"
   ]
  },
  {
   "cell_type": "markdown",
   "metadata": {
    "slideshow": {
     "slide_type": "subslide"
    }
   },
   "source": [
    "### 데이터 준비\n",
    "\n",
    "* 훈련데이터는 2개 (따라서 모두 support vectors가 된다)\n",
    "* Lagrange alphas는 **데이터 갯수와 동일**하게 2개 a0, a1으로 준비"
   ]
  },
  {
   "cell_type": "code",
   "execution_count": 2,
   "metadata": {
    "collapsed": true
   },
   "outputs": [],
   "source": [
    "import numpy as np\n",
    "import sympy as sp\n",
    "\n",
    "x1=np.array([[1,0],[3,1],[3,-1]])\n",
    "y1=np.array([-1,1,1])\n",
    "#x0=np.array([[2,3],[4,1],[5,1]])\n",
    "#y0=np.array([1,-1,-1])\n",
    "\n",
    "#x0=np.array([[1,5],[3,3],[2,1]])\n",
    "#y0=np.array([1,-1,-1])\n",
    "#x0=np.array([[1,5],[2,1]])\n",
    "#y0=np.array([1,-1])\n",
    "\n",
    "#a0,a1=sp.symbols('a:2')\n",
    "#a_0=np.array([a0,a1])\n",
    "a0,a1,a2=sp.symbols('a:3')\n",
    "a_1=np.array([a0,a1,a2])\n",
    "b=sp.symbols('b')\n",
    "\n",
    "x=x1\n",
    "y=y1\n",
    "a=a_1"
   ]
  },
  {
   "cell_type": "code",
   "execution_count": 3,
   "metadata": {
    "collapsed": false
   },
   "outputs": [
    {
     "name": "stdout",
     "output_type": "stream",
     "text": [
      "[[ 1  0]\n",
      " [ 3  1]\n",
      " [ 3 -1]] [-1  1  1] [a0 a1 a2]\n"
     ]
    }
   ],
   "source": [
    "print x,y,a"
   ]
  },
  {
   "cell_type": "markdown",
   "metadata": {
    "slideshow": {
     "slide_type": "subslide"
    }
   },
   "source": [
    "### $L_d$ Dual Form 계산\n",
    "\n",
    "$$\n",
    "    \\begin{aligned}\n",
    "    L_d&=\\sum_{i=1}^n \\alpha_i\n",
    "        -\\frac12 \\sum_{i=1}^n \\sum_{j=1}^n y_i y_j K(x_i, x_j) \\alpha_i \\alpha_j\\\\\n",
    "    \\text{subject to:}\\\\\n",
    "            \\sum_{i=1}^n y_i \\alpha_i &= 0\\\\\n",
    "            \\alpha_i                  &\\ge 0\\\\\n",
    "            for\\ i=1, 2, \\cdots, n\n",
    "            \\end{aligned}\n",
    "$$\n",
    "\n"
   ]
  },
  {
   "cell_type": "markdown",
   "metadata": {
    "slideshow": {
     "slide_type": "subslide"
    }
   },
   "source": [
    "#### Kernel 계산\n",
    "\n",
    "내적 inner product을 계산한다."
   ]
  },
  {
   "cell_type": "code",
   "execution_count": 4,
   "metadata": {
    "collapsed": false
   },
   "outputs": [
    {
     "name": "stdout",
     "output_type": "stream",
     "text": [
      "Kernel=[[ 1  3  3]\n",
      " [ 3 10  8]\n",
      " [ 3  8 10]]\n"
     ]
    }
   ],
   "source": [
    "def KernelLinear(xi,xj):\n",
    "    import numpy as np\n",
    "    return np.inner(xi,xj)\n",
    "\n",
    "K=KernelLinear(x,x)\n",
    "print \"Kernel={0}\".format(K)"
   ]
  },
  {
   "cell_type": "code",
   "execution_count": 5,
   "metadata": {
    "collapsed": false
   },
   "outputs": [
    {
     "name": "stdout",
     "output_type": "stream",
     "text": [
      "1 3 3\n",
      "3 10 8\n",
      "3 8 10\n"
     ]
    }
   ],
   "source": [
    "for i in x:\n",
    "    for j in x:\n",
    "        print np.inner(i,j),\n",
    "    print"
   ]
  },
  {
   "cell_type": "markdown",
   "metadata": {
    "slideshow": {
     "slide_type": "subslide"
    }
   },
   "source": [
    "#### Dual From의 aayK의 합계\n",
    "\n",
    "$\\frac12 \\sum_{i=1}^n \\sum_{j=1}^n y_i y_j K(x_i, x_j) \\alpha_i \\alpha_j$\n",
    "\n",
    "```getLd()``` 함수에서 계산을 한다. "
   ]
  },
  {
   "cell_type": "code",
   "execution_count": 7,
   "metadata": {
    "collapsed": false
   },
   "outputs": [
    {
     "name": "stdout",
     "output_type": "stream",
     "text": [
      "a0**2 -3*a0*a1 -3*a0*a2\n"
     ]
    }
   ],
   "source": [
    "a0a0y0y0x0x0=a0*a0*y[0]*y[0]*KernelLinear(x[0],x[0])\n",
    "a0a1y0y1x0x1=a0*a1*y[0]*y[1]*KernelLinear(x[0],x[1])\n",
    "a0a2y0y2x0x2=a0*a2*y[0]*y[2]*KernelLinear(x[0],x[2])\n",
    "print a0a0y0y0x0x0, a0a1y0y1x0x1, a0a2y0y2x0x2"
   ]
  },
  {
   "cell_type": "code",
   "execution_count": 8,
   "metadata": {
    "collapsed": false
   },
   "outputs": [
    {
     "name": "stdout",
     "output_type": "stream",
     "text": [
      "-3*a0*a1 10*a1**2 8*a1*a2\n"
     ]
    }
   ],
   "source": [
    "a1a0y1y0x1x0=a1*a0*y[1]*y[0]*KernelLinear(x[1],x[0])\n",
    "a1a1y1y1x1x1=a1*a1*y[1]*y[1]*KernelLinear(x[1],x[1])\n",
    "a1a2y1y2x1x2=a1*a2*y[1]*y[2]*KernelLinear(x[1],x[2])\n",
    "print a1a0y1y0x1x0, a1a1y1y1x1x1, a1a2y1y2x1x2"
   ]
  },
  {
   "cell_type": "code",
   "execution_count": 9,
   "metadata": {
    "collapsed": false
   },
   "outputs": [
    {
     "name": "stdout",
     "output_type": "stream",
     "text": [
      "-3*a0*a2 8*a1*a2 10*a2**2\n"
     ]
    }
   ],
   "source": [
    "a2a0y2y0x2x0=a2*a0*y[2]*y[0]*KernelLinear(x[2],x[0])\n",
    "a2a1y2y1x2x1=a2*a1*y[2]*y[1]*KernelLinear(x[2],x[1])\n",
    "a2a2y2y2x2x2=a2*a2*y[2]*y[2]*KernelLinear(x[2],x[2])\n",
    "print a2a0y2y0x2x0, a2a1y2y1x2x1, a2a2y2y2x2x2"
   ]
  },
  {
   "cell_type": "code",
   "execution_count": 10,
   "metadata": {
    "collapsed": false
   },
   "outputs": [
    {
     "name": "stdout",
     "output_type": "stream",
     "text": [
      "  2                            2                   2\n",
      "a₀  - 6⋅a₀⋅a₁ - 6⋅a₀⋅a₂ + 10⋅a₁  + 16⋅a₁⋅a₂ + 10⋅a₂ \n"
     ]
    }
   ],
   "source": [
    "ayk0=a0a0y0y0x0x0 + a0a1y0y1x0x1 + a0a2y0y2x0x2\n",
    "ayk1=a1a0y1y0x1x0 + a1a1y1y1x1x1 + a1a2y1y2x1x2\n",
    "ayk2=a2a0y2y0x2x0 + a2a1y2y1x2x1 + a2a2y2y2x2x2\n",
    "ayk=ayk0+ayk1+ayk2\n",
    "sp.pprint(ayk)"
   ]
  },
  {
   "cell_type": "code",
   "execution_count": 6,
   "metadata": {
    "collapsed": false
   },
   "outputs": [
    {
     "name": "stdout",
     "output_type": "stream",
     "text": [
      "a0**2 - 6*a0*a1 - 6*a0*a2 + 10*a1**2 + 16*a1*a2 + 10*a2**2\n"
     ]
    }
   ],
   "source": [
    "def sumaayyk(a,y,x,xi):\n",
    "    import numpy as np\n",
    "    _sumaayyk=np.array(sum(np.outer(a,a)*np.outer(y,y)*KernelLinear(x,xi)))\n",
    "    return sum(_sumaayyk)\n",
    "\n",
    "print sumaayyk(a,y,x,x)"
   ]
  },
  {
   "cell_type": "code",
   "execution_count": 7,
   "metadata": {
    "collapsed": false
   },
   "outputs": [
    {
     "name": "stdout",
     "output_type": "stream",
     "text": [
      "---> Ld1=-0.5*a0**2 + 3.0*a0*a1 + 3.0*a0*a2 + a0 - 5.0*a1**2 - 8.0*a1*a2 + a1 - 5.0*a2**2 + a2\n"
     ]
    }
   ],
   "source": [
    "def getLd(a,y,x,xi):\n",
    "    Ld1=sum(a) -0.5*sumaayyk(a,y,x,x)\n",
    "    return Ld1\n",
    "\n",
    "Ld1=getLd(a,y,x,x)\n",
    "print \"---> Ld1={0}\".format(Ld1)"
   ]
  },
  {
   "cell_type": "markdown",
   "metadata": {},
   "source": [
    "### 제약조건\n",
    "\n",
    "$\n",
    "\\sum_{i=1}^n y_i \\alpha_i = 0\\\\\n",
    "\\alpha_i \\ge 0\n",
    "$\n",
    "\n",
    "* sum of ai * yi = 0\n",
    "    * a0 - a1 - a2 = 0\n",
    "    * alphas 모두 0보다 같거나 커야하는 제한조건\n",
    "* Ld에 대입하고 -> 미분해서 -> 0으로 놓고 해를 구한다."
   ]
  },
  {
   "cell_type": "code",
   "execution_count": 8,
   "metadata": {
    "collapsed": false
   },
   "outputs": [
    {
     "name": "stdout",
     "output_type": "stream",
     "text": [
      "sum of ai*yi=0 -->  -a0 + a1 + a2\n"
     ]
    }
   ],
   "source": [
    "def sumay(a,y):\n",
    "    return sum(a*y)\n",
    "\n",
    "print \"sum of ai*yi=0 --> \",sumay(a,y)"
   ]
  },
  {
   "cell_type": "markdown",
   "metadata": {
    "slideshow": {
     "slide_type": "subslide"
    }
   },
   "source": [
    "### $\\alpha$ 계산\n",
    "\n",
    "* $\\sum ay=0$조건을 충족하려면 a0=a1+a2\n",
    "* sv는 최소한 2개는 있어야 하므로, 경우의 수는:\n",
    "    * a0=0인 경우, a1=-a2는 $a \\ge 0$제한조건을 위반\n",
    "    * a1=0인 경우, a0=a2\n",
    "    * a2=0인 경우, a0=a1\n",
    "    * a0,a1,a2모두 0이 아닌 경우,\n",
    "\n",
    "이 가운데 3가지를 각 각 풀어보자."
   ]
  },
  {
   "cell_type": "markdown",
   "metadata": {
    "collapsed": true
   },
   "source": [
    "#### 1) $\\alpha_1$=0으로 해서 풀면"
   ]
  },
  {
   "cell_type": "code",
   "execution_count": 13,
   "metadata": {
    "collapsed": false
   },
   "outputs": [
    {
     "name": "stdout",
     "output_type": "stream",
     "text": [
      "Ld1_a1=0= -0.5*a0**2 + 3.0*a0*a2 + a0 - 5.0*a2**2 + a2\n"
     ]
    }
   ],
   "source": [
    "Ld1=getLd(a,y,x,x)\n",
    "Ld1_=Ld1.subs(a1,0)\n",
    "print \"Ld1_a1=0=\",Ld1_"
   ]
  },
  {
   "cell_type": "markdown",
   "metadata": {},
   "source": [
    "* $\\sum \\alpha y = 0$ -> -a0+a1+a2=0 -> a0=a2"
   ]
  },
  {
   "cell_type": "code",
   "execution_count": 14,
   "metadata": {
    "collapsed": false
   },
   "outputs": [
    {
     "name": "stdout",
     "output_type": "stream",
     "text": [
      "Ld1_= -2.5*a2**2 + 2*a2\n"
     ]
    }
   ],
   "source": [
    "Ld1_=Ld1_.subs(a0,a2)\n",
    "print \"Ld1_=\",Ld1_"
   ]
  },
  {
   "cell_type": "markdown",
   "metadata": {
    "slideshow": {
     "slide_type": "subslide"
    }
   },
   "source": [
    "* 미분해서 $\\alpha$값을 구하면\n",
    "\n",
    "$\\alpha_0=0.4$\n",
    "\n",
    "$\\alpha_1=0$\n",
    "\n",
    "$\\alpha_2=0.4$"
   ]
  },
  {
   "cell_type": "code",
   "execution_count": 15,
   "metadata": {
    "collapsed": false
   },
   "outputs": [
    {
     "name": "stdout",
     "output_type": "stream",
     "text": [
      "Ld2=-5.0*a2 + 2\n",
      "[0.400000000000000, 0, 0.400000000000000]\n"
     ]
    }
   ],
   "source": [
    "# diff -> 0\n",
    "Ld2=sp.diff(Ld1_,a2)\n",
    "print \"Ld2={0}\".format(Ld2)\n",
    "a_=sp.solve(Ld2,a2)\n",
    "a_2=a_[0]\n",
    "sol_a=[a_2,0,a_2]\n",
    "print sol_a"
   ]
  },
  {
   "cell_type": "markdown",
   "metadata": {},
   "source": [
    "### weights  계산\n",
    "\n",
    "* $w=\\sum \\alpha y x$에서 w를 구한다."
   ]
  },
  {
   "cell_type": "code",
   "execution_count": 16,
   "metadata": {
    "collapsed": false
   },
   "outputs": [
    {
     "name": "stdout",
     "output_type": "stream",
     "text": [
      "[-a0 + 3*a1 + 3*a2 a1 - a2]\n",
      "[0.800000000000000 -0.400000000000000]\n"
     ]
    }
   ],
   "source": [
    "def sumayx(alphas,y,x):\n",
    "    ayxT=alphas*y*x.T\n",
    "    return ayxT.sum(axis=1)\n",
    "\n",
    "print sumayx(a,y,x)\n",
    "sol_w=sumayx(np.array(sol_a),y,x)\n",
    "sumayx(np.array(sol_a),y,x)\n",
    "print sol_w"
   ]
  },
  {
   "cell_type": "markdown",
   "metadata": {},
   "source": [
    "* $y (w x + b) = 1$에서 b를 구한다.\n",
    "    * sv는 H1 또는 H2 선 위에 존재해야 한다.\n",
    "* $y = w x + b$로 분류한다.\n",
    "    * x[0]은 (2,3) -> y=1로 분류되어야 함.\n",
    "    * x[1]은 (4,1) -> y는 margin내 존재하지 않아야 하지만, 위반.\n",
    "    * x[2]은 (5,1) -> y=-1로 분류되어야 함."
   ]
  },
  {
   "cell_type": "markdown",
   "metadata": {},
   "source": [
    "* $\\alpha$값을 사용하여, decision line을 구하거나\n",
    "* weights값을 사용하여, $y=\\sum wx+b$를 구한다.\n",
    "* 이 값이 차이가 margin의 크기인 2이면 된다.\n",
    "* 0으로 놓은 값이 margin내에 포함되면 support vectors를 잘 못 정한 것이다."
   ]
  },
  {
   "cell_type": "code",
   "execution_count": 18,
   "metadata": {
    "collapsed": false,
    "scrolled": false
   },
   "outputs": [
    {
     "name": "stdout",
     "output_type": "stream",
     "text": [
      "b + 0.8\n",
      "b + 2.0\n",
      "b + 2.8\n"
     ]
    }
   ],
   "source": [
    "def sumaykPlusb(b,alphas,y,x,xi):\n",
    "    import numpy as np\n",
    "    sumayk=sum(alphas*y*KernelLinear(x,xi))\n",
    "    return sumayk+b\n",
    "for xi in x:\n",
    "    print sumaykPlusb(b,sol_a,y,x,xi)"
   ]
  },
  {
   "cell_type": "code",
   "execution_count": 19,
   "metadata": {
    "collapsed": false,
    "scrolled": false
   },
   "outputs": [
    {
     "name": "stdout",
     "output_type": "stream",
     "text": [
      "0.800000000000000\n",
      "2.00000000000000\n",
      "2.80000000000000\n"
     ]
    }
   ],
   "source": [
    "print np.inner(sol_w,x[0])\n",
    "print np.inner(sol_w,x[1]) # (3,3) -> set to 0 -> lies inside margin\n",
    "print np.inner(sol_w,x[2])"
   ]
  },
  {
   "cell_type": "markdown",
   "metadata": {},
   "source": [
    "* b의 값은 아래와 같이 구한다. 첫째 값 [5,5]는 마진 밖에 있으므로 b가 1.5.\n",
    "    $$\n",
    "        \\begin{aligned}\n",
    "            \\sum wx + b &=1\\ or -1\\\\\n",
    "            y(\\sum wx + b) &=1\\\\\n",
    "            yb &= 1- y\\sum wx\\\\\n",
    "            b & = y(1-y\\sum wx)\n",
    "        \\end{aligned}\n",
    "    $$"
   ]
  },
  {
   "cell_type": "code",
   "execution_count": 20,
   "metadata": {
    "collapsed": false
   },
   "outputs": [
    {
     "name": "stdout",
     "output_type": "stream",
     "text": [
      "-1.80000000000000 [1 0] -1\n",
      "-1.00000000000000 [3 1] 1\n",
      "-1.80000000000000 [ 3 -1] 1\n"
     ]
    }
   ],
   "source": [
    "for xi,yi in zip(x,y):\n",
    "    b=yi*(1-yi*np.inner(sol_w,xi))\n",
    "    print b,xi,yi"
   ]
  },
  {
   "cell_type": "markdown",
   "metadata": {},
   "source": [
    "* decision line을 구하면 \n",
    "    * $w_0 \\times x_0 + w_1 \\times x_1 + b =0$\n",
    "    * $ x_1= \\frac{-(w_0 \\times x_0 + b)}{w_1}$"
   ]
  },
  {
   "cell_type": "code",
   "execution_count": 21,
   "metadata": {
    "collapsed": false,
    "scrolled": true
   },
   "outputs": [
    {
     "data": {
      "image/png": "[encoded data removed]",
      "text/plain": [
       "<matplotlib.figure.Figure at 0x7efcfaa99a10>"
      ]
     },
     "metadata": {},
     "output_type": "display_data"
    }
   ],
   "source": [
    "%matplotlib inline\n",
    "\n",
    "import matplotlib.pyplot as plt\n",
    "import numpy as np\n",
    "\n",
    "x1=np.arange(-5,5,0.1)\n",
    "x2=-(sol_w[0]*x1+b)/sol_w[1]\n",
    "\n",
    "fig=plt.figure()\n",
    "ax = fig.add_subplot(111)\n",
    "ax.set_title('2d hyperplane')\n",
    "ax.set_xlabel('x1')\n",
    "ax.set_ylabel('x2')\n",
    "for i in x:\n",
    "    ax.text(i[0],i[1],i)\n",
    "    plt.scatter(i[0],i[1])\n",
    "plt.plot(x1,x2)\n",
    "#plt.scatter([0,4],[0,4])\n",
    "plt.show()\n"
   ]
  },
  {
   "cell_type": "markdown",
   "metadata": {
    "collapsed": true
   },
   "source": [
    "#### $\\alpha_2=0$으로 해서 풀면"
   ]
  },
  {
   "cell_type": "code",
   "execution_count": 22,
   "metadata": {
    "collapsed": false
   },
   "outputs": [
    {
     "name": "stdout",
     "output_type": "stream",
     "text": [
      "Ld1_= -0.5*a0**2 + 3.0*a0*a1 + a0 - 5.0*a1**2 + a1\n",
      "Ld1_= -2.5*a1**2 + 2*a1\n",
      "Ld2=-5.0*a1 + 2\n",
      "[0.400000000000000, 0.400000000000000, 0]\n"
     ]
    }
   ],
   "source": [
    "Ld1=getLd(a,y,x,x)\n",
    "Ld1_=Ld1.subs(a2,0)\n",
    "print \"Ld1_=\",Ld1_\n",
    "# a0-a1-a2=0 -> a0=a1\n",
    "Ld1_=Ld1_.subs(a0,a1)\n",
    "print \"Ld1_=\",Ld1_\n",
    "# diff -> 0\n",
    "Ld2=sp.diff(Ld1_,a1)\n",
    "print \"Ld2={0}\".format(Ld2)\n",
    "a_=sp.solve(Ld2,a1)\n",
    "a_1=a_[0]\n",
    "sol_a=[a_1,a_1,0]\n",
    "print sol_a"
   ]
  },
  {
   "cell_type": "code",
   "execution_count": 151,
   "metadata": {
    "collapsed": false
   },
   "outputs": [
    {
     "name": "stdout",
     "output_type": "stream",
     "text": [
      "[-a0 + 3*a1 + 3*a2 a1 - a2]\n",
      "[0.800000000000000 0.400000000000000]\n"
     ]
    }
   ],
   "source": [
    "print sumayx(a,y,x)\n",
    "sol_w=sumayx(np.array(sol_a),y,x)\n",
    "sumayx(np.array(sol_a),y,x)\n",
    "print sol_w"
   ]
  },
  {
   "cell_type": "markdown",
   "metadata": {},
   "source": [
    "* $y = w x + b$로 분류한다.\n",
    "    * x[0]은 (5,5) -> y=-1로 분류되어야 함.\n",
    "    * x[1]은 (4,4) -> y=-1로 분류되어야 하지만, margin에 존재하므로 위반.\n",
    "    * x[2]은 (0,0) -> y=1로 분류되어야 함."
   ]
  },
  {
   "cell_type": "code",
   "execution_count": 23,
   "metadata": {
    "collapsed": false,
    "scrolled": true
   },
   "outputs": [
    {
     "name": "stdout",
     "output_type": "stream",
     "text": [
      "0.800000000000000\n",
      "2.00000000000000\n",
      "2.80000000000000\n"
     ]
    }
   ],
   "source": [
    "print np.inner(sol_w,x[0])\n",
    "print np.inner(sol_w,x[1]) # (4,4) -> set to 0 -> lies inside\n",
    "print np.inner(sol_w,x[2])"
   ]
  },
  {
   "cell_type": "code",
   "execution_count": 24,
   "metadata": {
    "collapsed": false
   },
   "outputs": [
    {
     "name": "stdout",
     "output_type": "stream",
     "text": [
      "-1.00000000000000\n"
     ]
    }
   ],
   "source": [
    "b=y[1]*(1-y[1]*np.inner(sol_w,x[1]))\n",
    "print b"
   ]
  },
  {
   "cell_type": "code",
   "execution_count": 25,
   "metadata": {
    "collapsed": false,
    "scrolled": true
   },
   "outputs": [
    {
     "data": {
      "image/png": "[encoded data removed]",
      "text/plain": [
       "<matplotlib.figure.Figure at 0x7efcfd40d790>"
      ]
     },
     "metadata": {},
     "output_type": "display_data"
    }
   ],
   "source": [
    "%matplotlib inline\n",
    "\n",
    "import matplotlib.pyplot as plt\n",
    "import numpy as np\n",
    "\n",
    "x1=np.arange(-5,5,0.1)\n",
    "x2=-(sol_w[0]*x1+b)/sol_w[1]\n",
    "\n",
    "fig=plt.figure()\n",
    "ax = fig.add_subplot(111)\n",
    "ax.set_title('2d hyperplane')\n",
    "ax.set_xlabel('x1')\n",
    "ax.set_ylabel('x2')\n",
    "for i in x:\n",
    "    ax.text(i[0],i[1],i)\n",
    "    plt.scatter(i[0],i[1])\n",
    "plt.plot(x1,x2)\n",
    "#plt.scatter([0,4],[0,4])\n",
    "plt.show()\n"
   ]
  },
  {
   "cell_type": "code",
   "execution_count": 156,
   "metadata": {
    "collapsed": false,
    "scrolled": true
   },
   "outputs": [
    {
     "data": {
      "image/png": "[encoded data removed]",
      "text/plain": [
       "<matplotlib.figure.Figure at 0x10dccd0d0>"
      ]
     },
     "metadata": {},
     "output_type": "display_data"
    }
   ],
   "source": [
    "%matplotlib inline\n",
    "\n",
    "import matplotlib.pyplot as plt\n",
    "import numpy as np\n",
    "\n",
    "x1=np.arange(-5,5,0.1)\n",
    "x2=-(sol_w[0]*x1+b)/sol_w[1]\n",
    "\n",
    "fig=plt.figure()\n",
    "ax = fig.add_subplot(111)\n",
    "ax.set_title('2d hyperplane')\n",
    "ax.set_xlabel('x1')\n",
    "ax.set_ylabel('x2')\n",
    "for i in x:\n",
    "    ax.text(i[0],i[1],i)\n",
    "    plt.scatter(i[0],i[1])\n",
    "plt.plot(x1,x2)\n",
    "#plt.scatter([0,4],[0,4])\n",
    "plt.show()\n"
   ]
  },
  {
   "cell_type": "markdown",
   "metadata": {},
   "source": [
    "#### $\\alpha_0 \\alpha_1 \\alpha_2$ 모두 0이 아닌 경우\n",
    "\n",
    "* 풀이가 불가능한 사례가 있을 수 있다.\n",
    "    * (0,0) (4,4) (5,5)인 경우, 풀이가 불가능하다.\n",
    "        * 식을 모두 충족하는 해는 존재하지 않는다 -> 그림을 보면 이해할 수 있다. 세 점을 sv로 margin을 극대화 하는 것은 불가능하다.\n",
    "    * 경우에 따라서 식을 풀면, alphas가 서로 반대방향이 나오기도 한다. $a \\ge 0$을 위반하므로 이 경우도 해가 아니다."
   ]
  },
  {
   "cell_type": "code",
   "execution_count": 157,
   "metadata": {
    "collapsed": false,
    "scrolled": true
   },
   "outputs": [
    {
     "name": "stdout",
     "output_type": "stream",
     "text": [
      "Ld1= -0.5*a0**2 + 3.0*a0*a1 + 3.0*a0*a2 + a0 - 5.0*a1**2 - 8.0*a1*a2 + a1 - 5.0*a2**2 + a2\n",
      "Ld1_= -5.0*a1**2 - 8.0*a1*a2 + 3.0*a1*(a1 + a2) + 2*a1 - 5.0*a2**2 + 3.0*a2*(a1 + a2) + 2*a2 - 0.5*(a1 + a2)**2\n",
      "Ld2_1=-5.0*a1 - 3.0*a2 + 2\n",
      "Ld2_2=-3.0*a1 - 5.0*a2 + 2\n",
      "{a2: 0.250000000000000, a1: 0.250000000000000}\n",
      "[0.500000000000000, 0.250000000000000, 0.250000000000000]\n"
     ]
    }
   ],
   "source": [
    "Ld1=getLd(a,y,x,x)\n",
    "print \"Ld1=\",Ld1\n",
    "# a0-a1-a2=0 -> a0=a1+a2\n",
    "Ld1_=Ld1.subs(a0,a1+a2)\n",
    "print \"Ld1_=\",Ld1_\n",
    "# diff -> 0\n",
    "Ld2_1=sp.diff(Ld1_,a1)\n",
    "print \"Ld2_1={0}\".format(Ld2_1)\n",
    "\n",
    "Ld2_2=sp.diff(Ld1_,a2)\n",
    "print \"Ld2_2={0}\".format(Ld2_2)\n",
    "\n",
    "sol=sp.solve([Ld2_1,Ld2_2],[a1,a2])\n",
    "print sol\n",
    "sol_a=[sol[a1]+sol[a2],sol[a1],sol[a2]]\n",
    "print sol_a"
   ]
  },
  {
   "cell_type": "code",
   "execution_count": 159,
   "metadata": {
    "collapsed": false,
    "scrolled": true
   },
   "outputs": [
    {
     "name": "stdout",
     "output_type": "stream",
     "text": [
      "[-a0 + 3*a1 + 3*a2 a1 - a2]\n",
      "[1.00000000000000 0]\n"
     ]
    }
   ],
   "source": [
    "print sumayx(a,y,x)\n",
    "sol_w=sumayx(np.array(sol_a),y,x)\n",
    "sumayx(np.array(sol_a),y,x)\n",
    "print sol_w"
   ]
  },
  {
   "cell_type": "code",
   "execution_count": 160,
   "metadata": {
    "collapsed": false,
    "scrolled": true
   },
   "outputs": [
    {
     "name": "stdout",
     "output_type": "stream",
     "text": [
      "-2.00000000000000\n"
     ]
    }
   ],
   "source": [
    "b=y[1]*(1-y[1]*np.inner(sol_w,x[1]))\n",
    "print b"
   ]
  },
  {
   "cell_type": "markdown",
   "metadata": {
    "slideshow": {
     "slide_type": "subslide"
    }
   },
   "source": [
    "* 모두 support vectors라고 가정하고\n",
    "    * Lagrange alphas를 다른 방식으로 구해본다.\n",
    "    * alpha값이 non-negativity를 어기는지 살펴본다."
   ]
  },
  {
   "cell_type": "markdown",
   "metadata": {},
   "source": [
    "* 데이터를 다시 읽고 시작한다."
   ]
  },
  {
   "cell_type": "code",
   "execution_count": 164,
   "metadata": {
    "collapsed": false
   },
   "outputs": [
    {
     "name": "stdout",
     "output_type": "stream",
     "text": [
      "\t0th equation appending -a0 + 3*a1 + 3*a2 + b + 1\n",
      "\t1th equation appending -3*a0 + 10*a1 + 8*a2 + b - 1\n",
      "\t2th equation appending -3*a0 + 8*a1 + 10*a2 + b - 1\n",
      "---> all equations [-a0 + 3*a1 + 3*a2 + b + 1, -3*a0 + 10*a1 + 8*a2 + b - 1, -3*a0 + 8*a1 + 10*a2 + b - 1, -a0 + a1 + a2]\n",
      "---> to solve by [a0, a1, a2, b]\n",
      "---> solutions {a0: 1/2, a2: 1/4, a1: 1/4, b: -2}\n"
     ]
    }
   ],
   "source": [
    "def sumaykPlusb(b,alphas,y,x,xi):\n",
    "    import numpy as np\n",
    "    sumayk=sum(alphas*y*KernelLinear(x,xi))\n",
    "    return sumayk+b\n",
    "\n",
    "equations=list()\n",
    "for i,xi in enumerate(x):\n",
    "    _s=sumaykPlusb(b,a,y,x,xi)\n",
    "    _s-=y[i] \n",
    "    print \"\\t{0}th equation appending {1}\".format(i,_s)\n",
    "    equations.append(_s)\n",
    "\n",
    "equations.append(sumay(a,y))\n",
    "print \"---> all equations\",equations\n",
    "\n",
    "solby=np.append(a,b).tolist()\n",
    "print \"---> to solve by\",solby\n",
    "\n",
    "_sol=sp.solve(equations,solby)\n",
    "print \"---> solutions\", _sol"
   ]
  },
  {
   "cell_type": "markdown",
   "metadata": {},
   "source": [
    "* compute w = sum(alphas*y*x)"
   ]
  },
  {
   "cell_type": "code",
   "execution_count": 165,
   "metadata": {
    "collapsed": false,
    "scrolled": true
   },
   "outputs": [
    {
     "name": "stdout",
     "output_type": "stream",
     "text": [
      "sol_a=[1/2, 1/4, 1/4] sol_b=[-2]\n",
      "---> w sumayx [1 0]\n",
      "[auto] alphas=[1/2, 1/4, 1/4] b=[-2] w=[1 0]\n"
     ]
    }
   ],
   "source": [
    "sol_a=list()\n",
    "sol_b=list()\n",
    "for k,v in _sol.iteritems():\n",
    "    if str(k).startswith('a'):\n",
    "        sol_a.append(v)\n",
    "    elif str(k).startswith('b'):\n",
    "        sol_b.append(v)\n",
    "print \"sol_a={0} sol_b={1}\".format(sol_a,sol_b)\n",
    "sol_w=sumayx_(np.array(sol_a),y,x)\n",
    "print \"---> w sumayx\",sol_w\n",
    "print \"[auto] alphas={0} b={1} w={2}\".format(sol_a,sol_b,sol_w)"
   ]
  },
  {
   "cell_type": "code",
   "execution_count": null,
   "metadata": {
    "collapsed": true
   },
   "outputs": [],
   "source": []
  },
  {
   "cell_type": "code",
   "execution_count": null,
   "metadata": {
    "collapsed": true
   },
   "outputs": [],
   "source": []
  },
  {
   "cell_type": "markdown",
   "metadata": {
    "slideshow": {
     "slide_type": "slide"
    }
   },
   "source": [
    "## algorithm smo\n",
    "\n",
    "* input: X(학습데이터), C, tol, max_passes\n",
    "    * X: training dataset m(n_features) x n(n_samples)\n",
    "    * C: regularization parameter\n",
    "    * tol: numerical tolerance\n",
    "    * max_passes\n",
    "* output: alphas(Lagrange multipliers),b\n",
    "\n",
    "절차\n",
    "* initialize $\\alpha_i=0, \\forall i$\n",
    "* while\n",
    "    * for i=1...m\n",
    "        * Ei계산\n",
    "        * if not optimized\n",
    "            * select j $\\neq$ i\n",
    "            * Ej계산\n",
    "            * old alphas 저장\n",
    "            * L,H bound 계산 (L==H이면 if문 빠져나감)\n",
    "            * eta 계산 ($\\eta \\geq 0$ if문 빠져나감)\n",
    "            * $\\alpha_j$ 계산 (범위 제한)\n",
    "            * $\\alpha_i$ 계산\n",
    "            * b 계산 (KKT 만족하도록)\n",
    "            * 계산 후, LH 충족 검증\n",
    "    * end for\n",
    "\n",
    "알고리듬에 따른 개발\n",
    "1. data read - 데이터 준비\n",
    "2. Ei Ej 계산\n",
    "3. L,H\n",
    "4. alphas계산 및 검증\n",
    "5. b 계산 및 검증"
   ]
  },
  {
   "cell_type": "markdown",
   "metadata": {
    "slideshow": {
     "slide_type": "subslide"
    }
   },
   "source": [
    "## 1. 데이터 준비\n",
    "\n",
    "* np.array를 사용"
   ]
  },
  {
   "cell_type": "code",
   "execution_count": 31,
   "metadata": {
    "collapsed": true
   },
   "outputs": [],
   "source": [
    "def readFileTab(aFile):\n",
    "    import csv\n",
    "    data=list()\n",
    "    try:\n",
    "        with open(aFile,'rb') as f:\n",
    "            data=list(csv.reader(f,delimiter='\\t'))\n",
    "    except IOError:\n",
    "        print \"error reading \",aFile\n",
    "    finally:\n",
    "        return data\n",
    "\n",
    "def readtestSet(aFile):\n",
    "    import os\n",
    "    import numpy as np\n",
    "    _l=readFileTab(aFile)\n",
    "    _a=np.array(_l,dtype=float)\n",
    "    _xa=_a[:,0:2]  # (i,2) <--col0 col1\n",
    "    _ya=_a[:,-1] # (i,) <-- last col\n",
    "    return _xa,_ya\n",
    "\n",
    "import os\n",
    "myhome=os.path.expanduser('~')\n",
    "ch6wd=os.path.join(myhome,'Code/git/else/machinelearninginaction/Ch06/')\n",
    "filename=os.path.join(ch6wd, 'testSet.txt')\n",
    "_xt,_yt=readtestSet(filename)"
   ]
  },
  {
   "cell_type": "code",
   "execution_count": 32,
   "metadata": {
    "collapsed": false
   },
   "outputs": [
    {
     "data": {
      "text/plain": [
       "(numpy.ndarray, (100, 2), numpy.ndarray, (100,))"
      ]
     },
     "execution_count": 32,
     "metadata": {},
     "output_type": "execute_result"
    }
   ],
   "source": [
    "type(_xt),_xt.shape,type(_yt), _yt.shape"
   ]
  },
  {
   "cell_type": "code",
   "execution_count": 33,
   "metadata": {
    "collapsed": false
   },
   "outputs": [
    {
     "name": "stdout",
     "output_type": "stream",
     "text": [
      "[ 3.542485  1.977398] -1.0\n",
      "[ 3.018896  2.556416] -1.0\n",
      "[ 7.55151 -1.58003] 1.0\n",
      "[ 2.114999 -0.004466] -1.0\n",
      "[ 8.127113  1.274372] 1.0\n"
     ]
    }
   ],
   "source": [
    "for i,j in zip(_xt[:5],_yt[:5]):\n",
    "    print i,j"
   ]
  },
  {
   "cell_type": "markdown",
   "metadata": {
    "slideshow": {
     "slide_type": "subslide"
    }
   },
   "source": [
    "그래프를 그려보자"
   ]
  },
  {
   "cell_type": "code",
   "execution_count": null,
   "metadata": {
    "collapsed": true
   },
   "outputs": [],
   "source": [
    "import seaborn as sns\n",
    "import matplotlib.pyplot as plt\n",
    "\n",
    "sns.scatterplot(x=x[:,0], y=x[:1], hue=_yt)"
   ]
  },
  {
   "cell_type": "markdown",
   "metadata": {
    "slideshow": {
     "slide_type": "subslide"
    }
   },
   "source": [
    "* smo는 $\\alpha$를 2개씩 선택해서(중복되지 않게), 제한조건에 맞도록 계산함.\n",
    "* C 0.6\n",
    "* toler 0.001\n",
    "* max_iter 40"
   ]
  },
  {
   "cell_type": "markdown",
   "metadata": {
    "slideshow": {
     "slide_type": "subslide"
    }
   },
   "source": [
    "## 2. Ei\n",
    "\n",
    "* 오류E는 예측f(x)과 실제y와의 차이\n",
    "* $E_i = f(X_i) - y_i$\n",
    "\n",
    "예측 $f(x_i)$, 즉 행 **$x_i$의 예측 값**을 계산해 보자.\n",
    "\n",
    "$f(x)=\\sum_{i=1}^m \\alpha_i y_i \\langle x_i, x \\rangle + b$\n",
    "* $\\langle x_i,x \\rangle$는 내적 (inner product)\n",
    "* inner product는 dot product가 아님. (1D 벡터는 dot, inner product 연산 결과가 같다.)\n",
    "\n",
    "\n",
    "$\\left\\langle\n",
    "\\begin{bmatrix} x_1 \\\\ \\vdots \\\\ x_n \\end{bmatrix},\n",
    "\\begin{bmatrix} y_1 \\\\ \\vdots \\\\ y_n \\end{bmatrix}\n",
    "\\right\\rangle := x^T y = \\sum_{i=1}^n x_i y_i = x_1 y_1 + \\cdots + x_n y_n$\n",
    "\n",
    "내적은 **유사도 cosine similarity**를 계산한다.\n",
    "즉 평행 180도는 1, 90도는 0으로 내적 값이 된다."
   ]
  },
  {
   "cell_type": "markdown",
   "metadata": {
    "slideshow": {
     "slide_type": "subslide"
    }
   },
   "source": [
    "### 예측 값을 구하기 위한 함수"
   ]
  },
  {
   "cell_type": "code",
   "execution_count": 34,
   "metadata": {
    "collapsed": true
   },
   "outputs": [],
   "source": [
    "def KernelLinear(xi,xj):\n",
    "    import numpy as np\n",
    "    return np.inner(xi,xj)\n",
    "\n",
    "def sumaykPlusb(b,alphas,y,x,xi):\n",
    "    import numpy as np\n",
    "    sumayk=sum(alphas*y*KernelLinear(x,xi))\n",
    "    return sumayk+b"
   ]
  },
  {
   "cell_type": "markdown",
   "metadata": {
    "slideshow": {
     "slide_type": "subslide"
    }
   },
   "source": [
    "### 0번째 오류 계산\n",
    "\n",
    "필요한 상수를 먼저 정의한다.\n",
    "tol는\n",
    "C는 \n",
    "alphas\n",
    "b"
   ]
  },
  {
   "cell_type": "code",
   "execution_count": 36,
   "metadata": {
    "collapsed": true
   },
   "outputs": [],
   "source": [
    "import numpy as np\n",
    "import random\n",
    "\n",
    "tol=0.001\n",
    "C=0.6\n",
    "\n",
    "_m,_n=_xt.shape # (i,j)\n",
    "alphas=np.zeros(_m)\n",
    "b=0\n",
    "i=0\n",
    "passes=0\n",
    "num_alphasChanged=0"
   ]
  },
  {
   "cell_type": "markdown",
   "metadata": {
    "slideshow": {
     "slide_type": "subslide"
    }
   },
   "source": [
    "행 i의 실제 $y_0$, 예측 $x_0$을 계산하면"
   ]
  },
  {
   "cell_type": "code",
   "execution_count": 37,
   "metadata": {
    "collapsed": false
   },
   "outputs": [
    {
     "name": "stdout",
     "output_type": "stream",
     "text": [
      "1.0 0.0 -1.0\n"
     ]
    }
   ],
   "source": [
    "fXi=sumaykPlusb(b,alphas,_yt,_xt,_xt[i])\n",
    "Ei=fXi-float(_yt[i])\n",
    "\n",
    "print Ei, fXi, _yt[0]"
   ]
  },
  {
   "cell_type": "markdown",
   "metadata": {
    "slideshow": {
     "slide_type": "subslide"
    }
   },
   "source": [
    "### 2) i optimized?"
   ]
  },
  {
   "cell_type": "code",
   "execution_count": 39,
   "metadata": {
    "collapsed": true
   },
   "outputs": [],
   "source": [
    "# 2) i optimized?\n",
    "conditionA = (_yt[i]*Ei < -tol) and (alphas[i] < C)\n",
    "conditionB = (_yt[i]*Ei > tol) and (alphas[i] > C)"
   ]
  },
  {
   "cell_type": "markdown",
   "metadata": {
    "slideshow": {
     "slide_type": "subslide"
    }
   },
   "source": [
    "### 3) select j ne i randomly\n",
    "\n",
    "행 i가 최적화되지 않았으면, j를 선택한다. 이 때 i와 같은 행을 고르지 않도록 한다."
   ]
  },
  {
   "cell_type": "code",
   "execution_count": 40,
   "metadata": {
    "collapsed": false
   },
   "outputs": [
    {
     "name": "stdout",
     "output_type": "stream",
     "text": [
      "i=0\tEi1.0=\tfXi0.0-yt-1.0\n",
      "i=52\tEi1.0=\tfXi0.0-yt-1.0\n"
     ]
    }
   ],
   "source": [
    "if(conditionA or conditionB):\n",
    "    # 3) select j ne i randomly\n",
    "    _i_removed=range(0,i)+range(i+1,_m)\n",
    "    j=random.choice(_i_removed)\n",
    "    fXj=sumaykPlusb(b,alphas,_yt,_xt,_xt[j])\n",
    "    Ej=fXj-float(_yt[j])\n",
    "\n",
    "print \"i={0}\\tEi{1}=\\tfXi{2}-yt{3}\".format(i,Ei,fXi,_yt[i])\n",
    "print \"i={0}\\tEi{1}=\\tfXi{2}-yt{3}\".format(j,Ej,fXj,_yt[j])"
   ]
  },
  {
   "cell_type": "markdown",
   "metadata": {
    "slideshow": {
     "slide_type": "subslide"
    }
   },
   "source": [
    "## 3. LH\n",
    "\n",
    "* 2개를 선택하면 다음과 같이 계산\n",
    "\n",
    "$$\n",
    "    \\begin{aligned}\n",
    "        \\alpha_1 + \\alpha_2 &= \\gamma\\\\\n",
    "        \\gamma + \\sum_{i=3}^n \\alpha_i y_i &=0\n",
    "    \\end{aligned}\n",
    "$$"
   ]
  },
  {
   "cell_type": "markdown",
   "metadata": {},
   "source": [
    "* y1 = y2인 경우와 그렇지 않은 경우로 나누어서 계산하면\n",
    "\n",
    "$$\n",
    "    \\begin{aligned}\n",
    "        \\text{1) negative slope } y_1=y_2\\\\\n",
    "        \\alpha_1 + \\alpha_2 &= \\gamma\\\\\n",
    "        \\text{if }\\alpha_1 &=0\\\\\n",
    "        0 + \\alpha_2 &=\\gamma\\\\\n",
    "        \\alpha_2 &= \\gamma\\\\\n",
    "        min(C,\\alpha_1+\\alpha_2)\\\\\n",
    "        \\\\\n",
    "        \\text{if }\\alpha_1 &=C\\\\\n",
    "        C + \\alpha_2 &= \\gamma\\\\\n",
    "        \\alpha_2 &= \\gamma-C\\\\\n",
    "        max(0,\\alpha_1+\\alpha_2-C)\n",
    "    \\end{aligned}\n",
    "$$"
   ]
  },
  {
   "cell_type": "markdown",
   "metadata": {},
   "source": [
    "$$\n",
    "    \\begin{aligned}\n",
    "        \\text{2) positive slope } y_1 \\ne y_2\\\\\n",
    "        \\alpha_1 - \\alpha_2 &= \\gamma\\\\\n",
    "        \\text{if }\\alpha_1 &=0\\\\\n",
    "        0 - \\alpha_2 &=\\gamma\\\\\n",
    "        \\alpha_2 &= -\\gamma\\\\\n",
    "        max(0,\\alpha_2-\\alpha_1)\\\\\n",
    "        \\\\\n",
    "        \\text{if }\\alpha_1 &=C\\\\\n",
    "        C - \\alpha_2 &= \\gamma\\\\\n",
    "        \\alpha_2 &= C-\\gamma\\\\\n",
    "        min(0,C+\\alpha_2-\\alpha_1)\n",
    "    \\end{aligned}\n",
    "$$"
   ]
  },
  {
   "cell_type": "markdown",
   "metadata": {},
   "source": [
    "$C, \\gamma=1$인 경우 그림을 그려보면\n",
    "\n",
    "\n",
    "annotate()함수\n",
    "patch"
   ]
  },
  {
   "cell_type": "code",
   "execution_count": 41,
   "metadata": {
    "collapsed": false
   },
   "outputs": [
    {
     "data": {
      "image/png": "[encoded data removed]",
      "text/plain": [
       "<matplotlib.figure.Figure at 0x7f331d7cc390>"
      ]
     },
     "metadata": {},
     "output_type": "display_data"
    }
   ],
   "source": [
    "%matplotlib inline\n",
    "\n",
    "import matplotlib.pyplot as plt\n",
    "import numpy as np\n",
    "\n",
    "a1=np.arange(-1,2,0.1)\n",
    "a2=1-a1\n",
    "\n",
    "fig=plt.figure()\n",
    "ax = fig.add_subplot(111)\n",
    "ax.set_title('2d hyperplane')\n",
    "ax.set_xlabel('a1')\n",
    "ax.set_ylabel('a2')\n",
    "#for i in x:\n",
    "#    ax.text(i[0],i[1],i)\n",
    "#    plt.scatter(i[0],i[1])\n",
    "plt.plot(a1,a2)\n",
    "plt.plot(a1,a2+1)\n",
    "plt.plot(a1,a2-1)\n",
    "\n",
    "\n",
    "\n",
    "import matplotlib.patches as patches\n",
    "ax.add_patch(\n",
    "    patches.Rectangle(\n",
    "        (0, 0),   # (x,y)\n",
    "        1,          # width\n",
    "        1,          # height\n",
    "        fill=False      # remove background\n",
    "    )\n",
    ")\n",
    "#plt.scatter([0,4],[0,4])\n",
    "plt.axvline(x=0)\n",
    "plt.plot([1, 0], [1,-1], 'k-')\n",
    "plt.show()"
   ]
  },
  {
   "cell_type": "code",
   "execution_count": 42,
   "metadata": {
    "collapsed": false
   },
   "outputs": [
    {
     "name": "stdout",
     "output_type": "stream",
     "text": [
      "L=0 H=0.0\n"
     ]
    }
   ],
   "source": [
    "# 4) save old alphas\n",
    "ai_old=alphas[i]\n",
    "aj_old=alphas[j]\n",
    "# 5) LH\n",
    "if (_yt[i] != _yt[j]):\n",
    "    L = max(0, alphas[j] - alphas[i]) #max(0,0)\n",
    "    H = min(C, C + alphas[j] - alphas[i]) #min(C,C)\n",
    "else:\n",
    "    L = max(0, alphas[i] + alphas[j] - C) #max(0,-C)\n",
    "    H = min(C, alphas[i] + alphas[j]) #min(C,0)\n",
    "if L==H: pass\n",
    "\n",
    "print \"L={0} H={1}\".format(L,H) #L=0, H=0.6"
   ]
  },
  {
   "cell_type": "markdown",
   "metadata": {},
   "source": [
    "## 4. optimizing alpha\n",
    "\n",
    "$\\alpha_j := \\alpha_j - \\frac{y_j (E_i - E_j)}{\\eta}$\n",
    "\n",
    "$E_k=f(x_i) - y_i$\n",
    "\n",
    "$\\eta = 2 \\langle x_i,x_j \\rangle - \\langle x_i,x_i \\rangle - \\langle x_j,x_j \\rangle$"
   ]
  },
  {
   "cell_type": "code",
   "execution_count": 43,
   "metadata": {
    "collapsed": false
   },
   "outputs": [
    {
     "name": "stdout",
     "output_type": "stream",
     "text": [
      "eta=-13.5315367725\n"
     ]
    }
   ],
   "source": [
    "# 6) eta\n",
    "xij=KernelLinear(_xt[i],_xt[j])\n",
    "xii=KernelLinear(_xt[i],_xt[i])\n",
    "xjj=KernelLinear(_xt[j],_xt[j])\n",
    "eta=2.0*xij-xii-xjj\n",
    "if eta>=0: pass\n",
    "print \"eta={0}\".format(eta)"
   ]
  },
  {
   "cell_type": "code",
   "execution_count": 44,
   "metadata": {
    "collapsed": false
   },
   "outputs": [
    {
     "name": "stdout",
     "output_type": "stream",
     "text": [
      "ai=0.0 aj=0.0 aj_old=0.0 \n"
     ]
    }
   ],
   "source": [
    "# 7) compute alphas\n",
    "alphas[j] -= _yt[j]*(Ei-Ej) / eta\n",
    "if alphas[j]>H: alphas[j]=H\n",
    "if alphas[j]<L: alphas[j]=L\n",
    "# continue if too small changes in j\n",
    "if(abs(alphas[j]-aj_old)<0.00001):pass\n",
    "# determine ai\n",
    "alphas[i]=alphas[i]+_yt[i]*_yt[j]*(aj_old-alphas[j])\n",
    "\n",
    "print \"ai={0} aj={1} aj_old={2} \".format(alphas[i],alphas[j],aj_old)"
   ]
  },
  {
   "cell_type": "markdown",
   "metadata": {
    "slideshow": {
     "slide_type": "subslide"
    }
   },
   "source": [
    "## 5. b threshold"
   ]
  },
  {
   "cell_type": "code",
   "execution_count": 45,
   "metadata": {
    "collapsed": true
   },
   "outputs": [],
   "source": [
    "def ayk(alphas,y,x,xi):\n",
    "    import numpy as np\n",
    "    return alphas*y*KernelLinear(x,xi)"
   ]
  },
  {
   "cell_type": "code",
   "execution_count": 46,
   "metadata": {
    "collapsed": false
   },
   "outputs": [
    {
     "name": "stdout",
     "output_type": "stream",
     "text": [
      "b1=-1.0 b2=-1.0\n",
      "\tpasses->0\ti->0 j:52\ta[0]=0.000 a[52]=0.000\n",
      "n passes ->  0\n"
     ]
    }
   ],
   "source": [
    "# 8) compute b\n",
    "aiyikii=ayk((alphas[i]-ai_old),_yt[i],_xt[i],_xt[i])\n",
    "ajyjkij=ayk((alphas[j]-aj_old),_yt[j],_xt[i],_xt[j])\n",
    "b1=b-Ei-aiyikii-ajyjkij\n",
    "aiyikij=ayk((alphas[i]-ai_old),_yt[i],_xt[i],_xt[j])\n",
    "ajyjkjj=ayk((alphas[j]-aj_old),_yt[j],_xt[j],_xt[j])\n",
    "b2=b-Ej-aiyikij-ajyjkjj\n",
    "print \"b1={0} b2={1}\".format(b1,b2)\n",
    "\n",
    "if (0 < alphas[i] < C): b = b1\n",
    "elif (0 < alphas[j] < C): b = b2\n",
    "else: b = (b1 + b2)/2.0\n",
    "# update num_alphasChanged\n",
    "num_alphasChanged += 1\n",
    "print \"\\tpasses->{0}\\ti->{1} j:{2}\\ta[{1}]={3:.3f} a[{2}]={4:.3f}\".format\\\n",
    "                  (passes,i,j,alphas[i],alphas[j])\n",
    "\n",
    "if (num_alphasChanged == 0): passes+=1\n",
    "else: passes=0\n",
    "print \"n passes -> \", passes"
   ]
  },
  {
   "cell_type": "code",
   "execution_count": null,
   "metadata": {
    "collapsed": true
   },
   "outputs": [],
   "source": [
    "def smoSimple(_X,_y,maxPasses,C,tol):\n",
    "    \"\"\"\n",
    "    cs229 simplified smo\n",
    "    Parameters\n",
    "    ----------\n",
    "        arg1: 2d array\n",
    "        arg2: 1d array\n",
    "        arg3: int\n",
    "        arg4: float\n",
    "        arg5: float\n",
    "    Returns\n",
    "    -------\n",
    "        array\n",
    "        float\n",
    "    Examples\n",
    "    --------\n",
    "        smoSimple(_xt,_yt,40,0.6,0.001)\n",
    "    \"\"\"\n",
    "    import numpy as np\n",
    "    import random\n",
    "    _m,_n=_xt.shape # (i,j)\n",
    "    alphas=np.zeros(_m)\n",
    "    b=0\n",
    "    i=0\n",
    "    passes=0\n",
    "    while(passes<maxPasses):\n",
    "        num_alphasChanged=0\n",
    "        for i in range(_m):\n",
    "            # 1) Ei\n",
    "            # fX=lambda i:float(sum(alphas*_y*np.inner(_X,_X[i])))+b\n",
    "            fXi=sumaykPlusb(b,alphas,_y,_X,_X[i])\n",
    "            Ei=fXi-float(_y[i])\n",
    "\n",
    "            # 2) i optimized?\n",
    "            conditionA = (_y[i]*Ei < -tol) and (alphas[i] < C)\n",
    "            conditionB = (_y[i]*Ei > tol) and (alphas[i] > C)\n",
    "            if(conditionA or conditionB):\n",
    "                # 3) select j ne i randomly\n",
    "                _i_removed=range(0,i)+range(i+1,_m)\n",
    "                j=random.choice(_i_removed)\n",
    "                fXj=sumaykPlusb(b,alphas,_y,_X,_X[j])\n",
    "                Ej=fXj-float(_y[j])\n",
    "\n",
    "                # 4) save old alphas\n",
    "                ai_old=alphas[i]\n",
    "                aj_old=alphas[j]\n",
    "                # 5) LH\n",
    "                if (_y[i] != _y[j]):\n",
    "                    L = max(0, alphas[j] - alphas[i]) #max(0,0)\n",
    "                    H = min(C, C + alphas[j] - alphas[i]) #min(C,C)\n",
    "                else:\n",
    "                    L = max(0, alphas[i] + alphas[j] - C) #max(0,-C)\n",
    "                    H = min(C, alphas[i] + alphas[j]) #min(C,0)\n",
    "                if L==H: continue\n",
    "\n",
    "                # 6) eta\n",
    "                xij=KernelLinear(_X[i],_X[j])\n",
    "                xii=KernelLinear(_X[i],_X[i])\n",
    "                xjj=KernelLinear(_X[j],_X[j])\n",
    "                eta=2.0*xij-xii-xjj\n",
    "                if eta>=0: continue\n",
    "\n",
    "                # 7) compute alphas\n",
    "                alphas[j] -= _y[j]*(Ei-Ej) / eta\n",
    "                if alphas[j]>H: alphas[j]=H\n",
    "                if alphas[j]<L: alphas[j]=L\n",
    "                # continue if too small changes in j\n",
    "                if(abs(alphas[j]-aj_old)<0.00001):continue \n",
    "                # determine ai\n",
    "                alphas[i]=alphas[i]+_y[i]*_y[j]*(aj_old-alphas[j])\n",
    "\n",
    "                # 8) compute b\n",
    "                aiyikii=ayk((alphas[i]-ai_old),_y[i],_X[i],_X[i])\n",
    "                ajyjkij=ayk((alphas[j]-aj_old),_y[j],_X[i],_X[j])\n",
    "                b1=b-Ei-aiyikii-ajyjkij\n",
    "                aiyikij=ayk((alphas[i]-ai_old),_y[i],_X[i],_X[j])\n",
    "                ajyjkjj=ayk((alphas[j]-aj_old),_y[j],_X[j],_X[j])\n",
    "                b2=b-Ej-aiyikij-ajyjkjj\n",
    "                if (0 < alphas[i] < C): b = b1\n",
    "                elif (0 < alphas[j] < C): b = b2\n",
    "                else: b = (b1 + b2)/2.0\n",
    "                # update num_alphasChanged\n",
    "                num_alphasChanged += 1\n",
    "                print \"\\tpasses->{0}\\ti->{1} j:{2}\\ta[{1}]={3:.3f} a[{2}]={4:.3f}\".format\\\n",
    "                                  (passes,i,j,alphas[i],alphas[j])\n",
    "        if (num_alphasChanged == 0): passes+=1\n",
    "        else: passes=0\n",
    "        print \"n passes -> \", passes\n",
    "    return alphas,b"
   ]
  },
  {
   "cell_type": "code",
   "execution_count": null,
   "metadata": {
    "collapsed": true
   },
   "outputs": [],
   "source": []
  },
  {
   "cell_type": "code",
   "execution_count": null,
   "metadata": {
    "collapsed": true
   },
   "outputs": [],
   "source": []
  },
  {
   "cell_type": "code",
   "execution_count": null,
   "metadata": {
    "collapsed": true
   },
   "outputs": [],
   "source": []
  },
  {
   "cell_type": "markdown",
   "metadata": {},
   "source": [
    "* case"
   ]
  },
  {
   "cell_type": "code",
   "execution_count": 42,
   "metadata": {
    "collapsed": false
   },
   "outputs": [
    {
     "name": "stdout",
     "output_type": "stream",
     "text": [
      "Data:\n",
      "\n",
      "-0.214824\t0.662756\t-1.000000\n",
      "-0.061569\t-0.091875\t1.000000\n",
      "0.406933\t0.648055\t-1.000000\n",
      "0.223650\t0.130142\t1.000000\n",
      "0.231317\t0.766906\t-1.000000\n",
      "-0.748800\t-0.531637\t-1.000000\n",
      "-0.557789\t0.375797\t-1.000000\n",
      "0.207123\t-0.019463\t1.000000\n",
      "0.286462\t0.719470\t-1.000000\n",
      "0.195300\t-0.179039\t1.000000\n",
      "fullSet, iter: 0 i:0, pairs changed 1\n",
      "fullSet, iter: 0 i:1, pairs changed 1\n",
      "fullSet, iter: 0 i:2, pairs changed 2\n",
      "fullSet, iter: 0 i:3, pairs changed 3\n",
      "fullSet, iter: 0 i:4, pairs changed 3\n",
      "fullSet, iter: 0 i:5, pairs changed 4\n",
      "fullSet, iter: 0 i:6, pairs changed 5\n",
      "fullSet, iter: 0 i:7, pairs changed 5\n",
      "fullSet, iter: 0 i:8, pairs changed 6\n",
      "fullSet, iter: 0 i:9, pairs changed 6\n",
      "fullSet, iter: 0 i:10, pairs changed 7\n",
      "fullSet, iter: 0 i:11, pairs changed 8\n",
      "fullSet, iter: 0 i:12, pairs changed 8\n",
      "fullSet, iter: 0 i:13, pairs changed 9\n",
      "fullSet, iter: 0 i:14, pairs changed 10\n",
      "fullSet, iter: 0 i:15, pairs changed 11\n",
      "fullSet, iter: 0 i:16, pairs changed 12\n",
      "fullSet, iter: 0 i:17, pairs changed 12\n",
      "fullSet, iter: 0 i:18, pairs changed 13\n",
      "fullSet, iter: 0 i:19, pairs changed 14\n",
      "fullSet, iter: 0 i:20, pairs changed 14\n",
      "fullSet, iter: 0 i:21, pairs changed 15\n",
      "fullSet, iter: 0 i:22, pairs changed 15\n",
      "fullSet, iter: 0 i:23, pairs changed 15\n",
      "fullSet, iter: 0 i:24, pairs changed 16\n",
      "j not moving enough\n",
      "fullSet, iter: 0 i:25, pairs changed 16\n",
      "fullSet, iter: 0 i:26, pairs changed 16\n",
      "j not moving enough\n",
      "fullSet, iter: 0 i:27, pairs changed 16\n",
      "fullSet, iter: 0 i:28, pairs changed 16\n",
      "fullSet, iter: 0 i:29, pairs changed 16\n",
      "j not moving enough\n",
      "fullSet, iter: 0 i:30, pairs changed 16\n",
      "fullSet, iter: 0 i:31, pairs changed 17\n",
      "fullSet, iter: 0 i:32, pairs changed 17\n",
      "fullSet, iter: 0 i:33, pairs changed 18\n",
      "j not moving enough\n",
      "fullSet, iter: 0 i:34, pairs changed 18\n",
      "fullSet, iter: 0 i:35, pairs changed 18\n",
      "fullSet, iter: 0 i:36, pairs changed 19\n",
      "fullSet, iter: 0 i:37, pairs changed 19\n",
      "fullSet, iter: 0 i:38, pairs changed 19\n",
      "j not moving enough\n",
      "fullSet, iter: 0 i:39, pairs changed 19\n",
      "fullSet, iter: 0 i:40, pairs changed 20\n",
      "fullSet, iter: 0 i:41, pairs changed 21\n",
      "L==H\n",
      "fullSet, iter: 0 i:42, pairs changed 21\n",
      "fullSet, iter: 0 i:43, pairs changed 21\n",
      "j not moving enough\n",
      "fullSet, iter: 0 i:44, pairs changed 21\n",
      "fullSet, iter: 0 i:45, pairs changed 22\n",
      "fullSet, iter: 0 i:46, pairs changed 22\n",
      "fullSet, iter: 0 i:47, pairs changed 22\n",
      "fullSet, iter: 0 i:48, pairs changed 23\n",
      "fullSet, iter: 0 i:49, pairs changed 23\n",
      "fullSet, iter: 0 i:50, pairs changed 24\n",
      "j not moving enough\n",
      "fullSet, iter: 0 i:51, pairs changed 24\n",
      "j not moving enough\n",
      "fullSet, iter: 0 i:52, pairs changed 24\n",
      "fullSet, iter: 0 i:53, pairs changed 24\n",
      "fullSet, iter: 0 i:54, pairs changed 25\n",
      "fullSet, iter: 0 i:55, pairs changed 25\n",
      "fullSet, iter: 0 i:56, pairs changed 26\n",
      "fullSet, iter: 0 i:57, pairs changed 26\n",
      "fullSet, iter: 0 i:58, pairs changed 26\n",
      "fullSet, iter: 0 i:59, pairs changed 26\n",
      "fullSet, iter: 0 i:60, pairs changed 26\n",
      "j not moving enough\n",
      "fullSet, iter: 0 i:61, pairs changed 26\n",
      "fullSet, iter: 0 i:62, pairs changed 27\n",
      "fullSet, iter: 0 i:63, pairs changed 27\n",
      "fullSet, iter: 0 i:64, pairs changed 27\n",
      "L==H\n",
      "fullSet, iter: 0 i:65, pairs changed 27\n",
      "fullSet, iter: 0 i:66, pairs changed 27\n",
      "fullSet, iter: 0 i:67, pairs changed 27\n",
      "fullSet, iter: 0 i:68, pairs changed 27\n",
      "fullSet, iter: 0 i:69, pairs changed 27\n",
      "fullSet, iter: 0 i:70, pairs changed 27\n",
      "fullSet, iter: 0 i:71, pairs changed 27\n",
      "fullSet, iter: 0 i:72, pairs changed 27\n",
      "fullSet, iter: 0 i:73, pairs changed 27\n",
      "fullSet, iter: 0 i:74, pairs changed 28\n",
      "j not moving enough\n",
      "fullSet, iter: 0 i:75, pairs changed 28\n",
      "L==H\n",
      "fullSet, iter: 0 i:76, pairs changed 28\n",
      "fullSet, iter: 0 i:77, pairs changed 28\n",
      "L==H\n",
      "fullSet, iter: 0 i:78, pairs changed 28\n",
      "fullSet, iter: 0 i:79, pairs changed 28\n",
      "fullSet, iter: 0 i:80, pairs changed 28\n",
      "fullSet, iter: 0 i:81, pairs changed 28\n",
      "L==H\n",
      "fullSet, iter: 0 i:82, pairs changed 28\n",
      "j not moving enough\n",
      "fullSet, iter: 0 i:83, pairs changed 28\n",
      "fullSet, iter: 0 i:84, pairs changed 28\n",
      "fullSet, iter: 0 i:85, pairs changed 28\n",
      "fullSet, iter: 0 i:86, pairs changed 28\n",
      "fullSet, iter: 0 i:87, pairs changed 28\n",
      "fullSet, iter: 0 i:88, pairs changed 28\n",
      "fullSet, iter: 0 i:89, pairs changed 28\n",
      "fullSet, iter: 0 i:90, pairs changed 28\n",
      "fullSet, iter: 0 i:91, pairs changed 28\n",
      "L==H\n",
      "fullSet, iter: 0 i:92, pairs changed 28\n",
      "fullSet, iter: 0 i:93, pairs changed 28\n",
      "fullSet, iter: 0 i:94, pairs changed 28\n",
      "fullSet, iter: 0 i:95, pairs changed 28\n",
      "L==H\n",
      "fullSet, iter: 0 i:96, pairs changed 28\n",
      "fullSet, iter: 0 i:97, pairs changed 28\n",
      "fullSet, iter: 0 i:98, pairs changed 28\n",
      "fullSet, iter: 0 i:99, pairs changed 28\n",
      "iteration number: 1\n",
      "j not moving enough\n",
      "non-bound, iter: 1 i:0, pairs changed 0\n",
      "j not moving enough\n",
      "non-bound, iter: 1 i:2, pairs changed 0\n",
      "j not moving enough\n",
      "non-bound, iter: 1 i:3, pairs changed 0\n",
      "j not moving enough\n",
      "non-bound, iter: 1 i:6, pairs changed 0\n",
      "j not moving enough\n",
      "non-bound, iter: 1 i:8, pairs changed 0\n",
      "j not moving enough\n",
      "non-bound, iter: 1 i:11, pairs changed 0\n",
      "j not moving enough\n",
      "non-bound, iter: 1 i:13, pairs changed 0\n",
      "j not moving enough\n",
      "non-bound, iter: 1 i:14, pairs changed 0\n",
      "non-bound, iter: 1 i:15, pairs changed 1\n",
      "j not moving enough\n",
      "non-bound, iter: 1 i:16, pairs changed 1\n",
      "non-bound, iter: 1 i:18, pairs changed 2\n",
      "non-bound, iter: 1 i:19, pairs changed 3\n",
      "non-bound, iter: 1 i:21, pairs changed 3\n",
      "j not moving enough\n",
      "non-bound, iter: 1 i:27, pairs changed 3\n",
      "j not moving enough\n",
      "non-bound, iter: 1 i:30, pairs changed 3\n",
      "j not moving enough\n",
      "non-bound, iter: 1 i:31, pairs changed 3\n",
      "j not moving enough\n",
      "non-bound, iter: 1 i:33, pairs changed 3\n",
      "j not moving enough\n",
      "non-bound, iter: 1 i:36, pairs changed 3\n",
      "j not moving enough\n",
      "non-bound, iter: 1 i:40, pairs changed 3\n",
      "j not moving enough\n",
      "non-bound, iter: 1 i:41, pairs changed 3\n",
      "j not moving enough\n",
      "non-bound, iter: 1 i:42, pairs changed 3\n",
      "j not moving enough\n",
      "non-bound, iter: 1 i:45, pairs changed 3\n",
      "j not moving enough\n",
      "non-bound, iter: 1 i:48, pairs changed 3\n",
      "j not moving enough\n",
      "non-bound, iter: 1 i:50, pairs changed 3\n",
      "j not moving enough\n",
      "non-bound, iter: 1 i:54, pairs changed 3\n",
      "j not moving enough\n",
      "non-bound, iter: 1 i:56, pairs changed 3\n",
      "j not moving enough\n",
      "non-bound, iter: 1 i:62, pairs changed 3\n",
      "j not moving enough\n",
      "non-bound, iter: 1 i:74, pairs changed 3\n",
      "j not moving enough\n",
      "non-bound, iter: 1 i:83, pairs changed 3\n",
      "iteration number: 2\n",
      "j not moving enough\n",
      "non-bound, iter: 2 i:0, pairs changed 0\n",
      "non-bound, iter: 2 i:2, pairs changed 1\n",
      "j not moving enough\n",
      "non-bound, iter: 2 i:3, pairs changed 1\n",
      "j not moving enough\n",
      "non-bound, iter: 2 i:6, pairs changed 1\n",
      "non-bound, iter: 2 i:8, pairs changed 2\n",
      "j not moving enough\n",
      "non-bound, iter: 2 i:11, pairs changed 2\n",
      "j not moving enough\n",
      "non-bound, iter: 2 i:13, pairs changed 2\n",
      "j not moving enough\n",
      "non-bound, iter: 2 i:14, pairs changed 2\n",
      "j not moving enough\n",
      "non-bound, iter: 2 i:15, pairs changed 2\n",
      "j not moving enough\n",
      "non-bound, iter: 2 i:16, pairs changed 2\n",
      "j not moving enough\n",
      "non-bound, iter: 2 i:18, pairs changed 2\n",
      "j not moving enough\n",
      "non-bound, iter: 2 i:19, pairs changed 2\n",
      "j not moving enough\n",
      "non-bound, iter: 2 i:21, pairs changed 2\n",
      "j not moving enough\n",
      "non-bound, iter: 2 i:27, pairs changed 2\n",
      "j not moving enough\n",
      "non-bound, iter: 2 i:30, pairs changed 2\n",
      "j not moving enough\n",
      "non-bound, iter: 2 i:31, pairs changed 2\n",
      "j not moving enough\n",
      "non-bound, iter: 2 i:33, pairs changed 2\n",
      "j not moving enough\n",
      "non-bound, iter: 2 i:36, pairs changed 2\n",
      "j not moving enough\n",
      "non-bound, iter: 2 i:40, pairs changed 2\n",
      "j not moving enough\n",
      "non-bound, iter: 2 i:41, pairs changed 2\n",
      "j not moving enough\n",
      "non-bound, iter: 2 i:42, pairs changed 2\n",
      "j not moving enough\n",
      "non-bound, iter: 2 i:45, pairs changed 2\n",
      "j not moving enough\n",
      "non-bound, iter: 2 i:48, pairs changed 2\n",
      "j not moving enough\n",
      "non-bound, iter: 2 i:50, pairs changed 2\n",
      "j not moving enough\n",
      "non-bound, iter: 2 i:54, pairs changed 2\n",
      "j not moving enough\n",
      "non-bound, iter: 2 i:56, pairs changed 2\n",
      "j not moving enough\n",
      "non-bound, iter: 2 i:62, pairs changed 2\n",
      "j not moving enough\n",
      "non-bound, iter: 2 i:74, pairs changed 2\n",
      "j not moving enough\n",
      "non-bound, iter: 2 i:83, pairs changed 2\n",
      "iteration number: 3\n",
      "j not moving enough\n",
      "non-bound, iter: 3 i:0, pairs changed 0\n",
      "j not moving enough\n",
      "non-bound, iter: 3 i:3, pairs changed 0\n",
      "j not moving enough\n",
      "non-bound, iter: 3 i:6, pairs changed 0\n",
      "j not moving enough\n",
      "non-bound, iter: 3 i:11, pairs changed 0\n",
      "j not moving enough\n",
      "non-bound, iter: 3 i:13, pairs changed 0\n",
      "j not moving enough\n",
      "non-bound, iter: 3 i:14, pairs changed 0\n",
      "j not moving enough\n",
      "non-bound, iter: 3 i:15, pairs changed 0\n",
      "j not moving enough\n",
      "non-bound, iter: 3 i:16, pairs changed 0\n",
      "j not moving enough\n",
      "non-bound, iter: 3 i:18, pairs changed 0\n",
      "j not moving enough\n",
      "non-bound, iter: 3 i:19, pairs changed 0\n",
      "j not moving enough\n",
      "non-bound, iter: 3 i:21, pairs changed 0\n",
      "j not moving enough\n",
      "non-bound, iter: 3 i:27, pairs changed 0\n",
      "j not moving enough\n",
      "non-bound, iter: 3 i:30, pairs changed 0\n",
      "j not moving enough\n",
      "non-bound, iter: 3 i:31, pairs changed 0\n",
      "j not moving enough\n",
      "non-bound, iter: 3 i:33, pairs changed 0\n",
      "j not moving enough\n",
      "non-bound, iter: 3 i:36, pairs changed 0\n",
      "j not moving enough\n",
      "non-bound, iter: 3 i:40, pairs changed 0\n",
      "j not moving enough\n",
      "non-bound, iter: 3 i:41, pairs changed 0\n",
      "j not moving enough\n",
      "non-bound, iter: 3 i:42, pairs changed 0\n",
      "j not moving enough\n",
      "non-bound, iter: 3 i:45, pairs changed 0\n",
      "j not moving enough\n",
      "non-bound, iter: 3 i:48, pairs changed 0\n",
      "j not moving enough\n",
      "non-bound, iter: 3 i:50, pairs changed 0\n",
      "j not moving enough\n",
      "non-bound, iter: 3 i:54, pairs changed 0\n",
      "j not moving enough\n",
      "non-bound, iter: 3 i:56, pairs changed 0\n",
      "j not moving enough\n",
      "non-bound, iter: 3 i:62, pairs changed 0\n",
      "j not moving enough\n",
      "non-bound, iter: 3 i:74, pairs changed 0\n",
      "non-bound, iter: 3 i:76, pairs changed 0\n",
      "j not moving enough\n",
      "non-bound, iter: 3 i:83, pairs changed 0\n",
      "iteration number: 4\n",
      "j not moving enough\n",
      "fullSet, iter: 4 i:0, pairs changed 0\n",
      "j not moving enough\n",
      "fullSet, iter: 4 i:1, pairs changed 0\n",
      "fullSet, iter: 4 i:2, pairs changed 0\n",
      "j not moving enough\n",
      "fullSet, iter: 4 i:3, pairs changed 0\n",
      "fullSet, iter: 4 i:4, pairs changed 0\n",
      "fullSet, iter: 4 i:5, pairs changed 0\n",
      "j not moving enough\n",
      "fullSet, iter: 4 i:6, pairs changed 0\n",
      "j not moving enough\n",
      "fullSet, iter: 4 i:7, pairs changed 0\n",
      "fullSet, iter: 4 i:8, pairs changed 0\n",
      "j not moving enough\n",
      "fullSet, iter: 4 i:9, pairs changed 0\n",
      "j not moving enough\n",
      "fullSet, iter: 4 i:10, pairs changed 0\n",
      "j not moving enough\n",
      "fullSet, iter: 4 i:11, pairs changed 0\n",
      "j not moving enough\n",
      "fullSet, iter: 4 i:12, pairs changed 0\n",
      "j not moving enough\n",
      "fullSet, iter: 4 i:13, pairs changed 0\n",
      "j not moving enough\n",
      "fullSet, iter: 4 i:14, pairs changed 0\n",
      "j not moving enough\n",
      "fullSet, iter: 4 i:15, pairs changed 0\n",
      "j not moving enough\n",
      "fullSet, iter: 4 i:16, pairs changed 0\n",
      "fullSet, iter: 4 i:17, pairs changed 0\n",
      "j not moving enough\n",
      "fullSet, iter: 4 i:18, pairs changed 0\n",
      "j not moving enough\n",
      "fullSet, iter: 4 i:19, pairs changed 0\n",
      "fullSet, iter: 4 i:20, pairs changed 0\n",
      "j not moving enough\n",
      "fullSet, iter: 4 i:21, pairs changed 0\n",
      "j not moving enough\n",
      "fullSet, iter: 4 i:22, pairs changed 0\n",
      "j not moving enough\n",
      "fullSet, iter: 4 i:23, pairs changed 0\n",
      "fullSet, iter: 4 i:24, pairs changed 0\n",
      "fullSet, iter: 4 i:25, pairs changed 0\n",
      "fullSet, iter: 4 i:26, pairs changed 1\n",
      "j not moving enough\n",
      "fullSet, iter: 4 i:27, pairs changed 1\n",
      "j not moving enough\n",
      "fullSet, iter: 4 i:28, pairs changed 1\n",
      "j not moving enough\n",
      "fullSet, iter: 4 i:29, pairs changed 1\n",
      "j not moving enough\n",
      "fullSet, iter: 4 i:30, pairs changed 1\n",
      "j not moving enough\n",
      "fullSet, iter: 4 i:31, pairs changed 1\n",
      "fullSet, iter: 4 i:32, pairs changed 1\n",
      "j not moving enough\n",
      "fullSet, iter: 4 i:33, pairs changed 1\n",
      "j not moving enough\n",
      "fullSet, iter: 4 i:34, pairs changed 1\n",
      "fullSet, iter: 4 i:35, pairs changed 1\n",
      "j not moving enough\n",
      "fullSet, iter: 4 i:36, pairs changed 1\n",
      "fullSet, iter: 4 i:37, pairs changed 1\n",
      "L==H\n",
      "fullSet, iter: 4 i:38, pairs changed 1\n",
      "fullSet, iter: 4 i:39, pairs changed 1\n",
      "j not moving enough\n",
      "fullSet, iter: 4 i:40, pairs changed 1\n",
      "j not moving enough\n",
      "fullSet, iter: 4 i:41, pairs changed 1\n",
      "j not moving enough\n",
      "fullSet, iter: 4 i:42, pairs changed 1\n",
      "fullSet, iter: 4 i:43, pairs changed 1\n",
      "fullSet, iter: 4 i:44, pairs changed 1\n",
      "fullSet, iter: 4 i:45, pairs changed 2\n",
      "fullSet, iter: 4 i:46, pairs changed 2\n",
      "fullSet, iter: 4 i:47, pairs changed 2\n",
      "j not moving enough\n",
      "fullSet, iter: 4 i:48, pairs changed 2\n",
      "fullSet, iter: 4 i:49, pairs changed 2\n",
      "j not moving enough\n",
      "fullSet, iter: 4 i:50, pairs changed 2\n",
      "fullSet, iter: 4 i:51, pairs changed 2\n",
      "fullSet, iter: 4 i:52, pairs changed 2\n",
      "L==H\n",
      "fullSet, iter: 4 i:53, pairs changed 2\n",
      "j not moving enough\n",
      "fullSet, iter: 4 i:54, pairs changed 2\n",
      "fullSet, iter: 4 i:55, pairs changed 2\n",
      "j not moving enough\n",
      "fullSet, iter: 4 i:56, pairs changed 2\n",
      "fullSet, iter: 4 i:57, pairs changed 2\n",
      "L==H\n",
      "fullSet, iter: 4 i:58, pairs changed 2\n",
      "fullSet, iter: 4 i:59, pairs changed 2\n",
      "fullSet, iter: 4 i:60, pairs changed 2\n",
      "j not moving enough\n",
      "fullSet, iter: 4 i:61, pairs changed 2\n",
      "j not moving enough\n",
      "fullSet, iter: 4 i:62, pairs changed 2\n",
      "fullSet, iter: 4 i:63, pairs changed 2\n",
      "fullSet, iter: 4 i:64, pairs changed 2\n",
      "L==H\n",
      "fullSet, iter: 4 i:65, pairs changed 2\n",
      "L==H\n",
      "fullSet, iter: 4 i:66, pairs changed 2\n",
      "fullSet, iter: 4 i:67, pairs changed 2\n",
      "fullSet, iter: 4 i:68, pairs changed 2\n",
      "fullSet, iter: 4 i:69, pairs changed 2\n",
      "fullSet, iter: 4 i:70, pairs changed 2\n",
      "fullSet, iter: 4 i:71, pairs changed 2\n",
      "fullSet, iter: 4 i:72, pairs changed 2\n",
      "L==H\n",
      "fullSet, iter: 4 i:73, pairs changed 2\n",
      "j not moving enough\n",
      "fullSet, iter: 4 i:74, pairs changed 2\n",
      "fullSet, iter: 4 i:75, pairs changed 2\n",
      "j not moving enough\n",
      "fullSet, iter: 4 i:76, pairs changed 2\n",
      "fullSet, iter: 4 i:77, pairs changed 2\n",
      "L==H\n",
      "fullSet, iter: 4 i:78, pairs changed 2\n",
      "fullSet, iter: 4 i:79, pairs changed 2\n",
      "fullSet, iter: 4 i:80, pairs changed 2\n",
      "fullSet, iter: 4 i:81, pairs changed 2\n",
      "L==H\n",
      "fullSet, iter: 4 i:82, pairs changed 2\n",
      "j not moving enough\n",
      "fullSet, iter: 4 i:83, pairs changed 2\n",
      "fullSet, iter: 4 i:84, pairs changed 2\n",
      "fullSet, iter: 4 i:85, pairs changed 2\n",
      "fullSet, iter: 4 i:86, pairs changed 2\n",
      "L==H\n",
      "fullSet, iter: 4 i:87, pairs changed 2\n",
      "fullSet, iter: 4 i:88, pairs changed 2\n",
      "fullSet, iter: 4 i:89, pairs changed 2\n",
      "fullSet, iter: 4 i:90, pairs changed 2\n",
      "fullSet, iter: 4 i:91, pairs changed 2\n",
      "L==H\n",
      "fullSet, iter: 4 i:92, pairs changed 2\n",
      "fullSet, iter: 4 i:93, pairs changed 2\n",
      "fullSet, iter: 4 i:94, pairs changed 2\n",
      "fullSet, iter: 4 i:95, pairs changed 2\n",
      "fullSet, iter: 4 i:96, pairs changed 2\n",
      "fullSet, iter: 4 i:97, pairs changed 2\n",
      "fullSet, iter: 4 i:98, pairs changed 2\n",
      "fullSet, iter: 4 i:99, pairs changed 2\n",
      "iteration number: 5\n",
      "j not moving enough\n",
      "non-bound, iter: 5 i:0, pairs changed 0\n",
      "j not moving enough\n",
      "non-bound, iter: 5 i:3, pairs changed 0\n",
      "j not moving enough\n",
      "non-bound, iter: 5 i:6, pairs changed 0\n",
      "j not moving enough\n",
      "non-bound, iter: 5 i:11, pairs changed 0\n",
      "j not moving enough\n",
      "non-bound, iter: 5 i:13, pairs changed 0\n",
      "j not moving enough\n",
      "non-bound, iter: 5 i:14, pairs changed 0\n",
      "j not moving enough\n",
      "non-bound, iter: 5 i:15, pairs changed 0\n",
      "j not moving enough\n",
      "non-bound, iter: 5 i:16, pairs changed 0\n",
      "j not moving enough\n",
      "non-bound, iter: 5 i:18, pairs changed 0\n",
      "j not moving enough\n",
      "non-bound, iter: 5 i:19, pairs changed 0\n",
      "non-bound, iter: 5 i:21, pairs changed 0\n",
      "j not moving enough\n",
      "non-bound, iter: 5 i:26, pairs changed 0\n",
      "j not moving enough\n",
      "non-bound, iter: 5 i:27, pairs changed 0\n",
      "j not moving enough\n",
      "non-bound, iter: 5 i:30, pairs changed 0\n",
      "j not moving enough\n",
      "non-bound, iter: 5 i:31, pairs changed 0\n",
      "j not moving enough\n",
      "non-bound, iter: 5 i:33, pairs changed 0\n",
      "j not moving enough\n",
      "non-bound, iter: 5 i:36, pairs changed 0\n",
      "j not moving enough\n",
      "non-bound, iter: 5 i:40, pairs changed 0\n",
      "j not moving enough\n",
      "non-bound, iter: 5 i:41, pairs changed 0\n",
      "j not moving enough\n",
      "non-bound, iter: 5 i:42, pairs changed 0\n",
      "non-bound, iter: 5 i:45, pairs changed 0\n",
      "j not moving enough\n",
      "non-bound, iter: 5 i:48, pairs changed 0\n",
      "j not moving enough\n",
      "non-bound, iter: 5 i:50, pairs changed 0\n",
      "j not moving enough\n",
      "non-bound, iter: 5 i:54, pairs changed 0\n",
      "j not moving enough\n",
      "non-bound, iter: 5 i:56, pairs changed 0\n",
      "j not moving enough\n",
      "non-bound, iter: 5 i:62, pairs changed 0\n",
      "j not moving enough\n",
      "non-bound, iter: 5 i:74, pairs changed 0\n",
      "j not moving enough\n",
      "non-bound, iter: 5 i:76, pairs changed 0\n",
      "j not moving enough\n",
      "non-bound, iter: 5 i:83, pairs changed 0\n",
      "iteration number: 6\n",
      "j not moving enough\n",
      "fullSet, iter: 6 i:0, pairs changed 0\n",
      "fullSet, iter: 6 i:1, pairs changed 0\n",
      "fullSet, iter: 6 i:2, pairs changed 0\n",
      "j not moving enough\n",
      "fullSet, iter: 6 i:3, pairs changed 0\n",
      "fullSet, iter: 6 i:4, pairs changed 0\n",
      "fullSet, iter: 6 i:5, pairs changed 0\n",
      "j not moving enough\n",
      "fullSet, iter: 6 i:6, pairs changed 0\n",
      "fullSet, iter: 6 i:7, pairs changed 0\n",
      "fullSet, iter: 6 i:8, pairs changed 0\n",
      "fullSet, iter: 6 i:9, pairs changed 0\n",
      "fullSet, iter: 6 i:10, pairs changed 0\n",
      "j not moving enough\n",
      "fullSet, iter: 6 i:11, pairs changed 0\n",
      "fullSet, iter: 6 i:12, pairs changed 0\n",
      "j not moving enough\n",
      "fullSet, iter: 6 i:13, pairs changed 0\n",
      "j not moving enough\n",
      "fullSet, iter: 6 i:14, pairs changed 0\n",
      "j not moving enough\n",
      "fullSet, iter: 6 i:15, pairs changed 0\n",
      "j not moving enough\n",
      "fullSet, iter: 6 i:16, pairs changed 0\n",
      "L==H\n",
      "fullSet, iter: 6 i:17, pairs changed 0\n",
      "j not moving enough\n",
      "fullSet, iter: 6 i:18, pairs changed 0\n",
      "j not moving enough\n",
      "fullSet, iter: 6 i:19, pairs changed 0\n",
      "fullSet, iter: 6 i:20, pairs changed 0\n",
      "fullSet, iter: 6 i:21, pairs changed 0\n",
      "fullSet, iter: 6 i:22, pairs changed 0\n",
      "j not moving enough\n",
      "fullSet, iter: 6 i:23, pairs changed 0\n",
      "fullSet, iter: 6 i:24, pairs changed 0\n",
      "fullSet, iter: 6 i:25, pairs changed 0\n",
      "j not moving enough\n",
      "fullSet, iter: 6 i:26, pairs changed 0\n",
      "j not moving enough\n",
      "fullSet, iter: 6 i:27, pairs changed 0\n",
      "fullSet, iter: 6 i:28, pairs changed 0\n",
      "fullSet, iter: 6 i:29, pairs changed 0\n",
      "j not moving enough\n",
      "fullSet, iter: 6 i:30, pairs changed 0\n",
      "j not moving enough\n",
      "fullSet, iter: 6 i:31, pairs changed 0\n",
      "fullSet, iter: 6 i:32, pairs changed 0\n",
      "j not moving enough\n",
      "fullSet, iter: 6 i:33, pairs changed 0\n",
      "j not moving enough\n",
      "fullSet, iter: 6 i:34, pairs changed 0\n",
      "fullSet, iter: 6 i:35, pairs changed 0\n",
      "j not moving enough\n",
      "fullSet, iter: 6 i:36, pairs changed 0\n",
      "fullSet, iter: 6 i:37, pairs changed 0\n",
      "L==H\n",
      "fullSet, iter: 6 i:38, pairs changed 0\n",
      "fullSet, iter: 6 i:39, pairs changed 0\n",
      "j not moving enough\n",
      "fullSet, iter: 6 i:40, pairs changed 0\n",
      "j not moving enough\n",
      "fullSet, iter: 6 i:41, pairs changed 0\n",
      "j not moving enough\n",
      "fullSet, iter: 6 i:42, pairs changed 0\n",
      "fullSet, iter: 6 i:43, pairs changed 0\n",
      "fullSet, iter: 6 i:44, pairs changed 0\n",
      "fullSet, iter: 6 i:45, pairs changed 0\n",
      "fullSet, iter: 6 i:46, pairs changed 0\n",
      "fullSet, iter: 6 i:47, pairs changed 0\n",
      "j not moving enough\n",
      "fullSet, iter: 6 i:48, pairs changed 0\n",
      "fullSet, iter: 6 i:49, pairs changed 0\n",
      "j not moving enough\n",
      "fullSet, iter: 6 i:50, pairs changed 0\n",
      "fullSet, iter: 6 i:51, pairs changed 0\n",
      "fullSet, iter: 6 i:52, pairs changed 0\n",
      "L==H\n",
      "fullSet, iter: 6 i:53, pairs changed 0\n",
      "j not moving enough\n",
      "fullSet, iter: 6 i:54, pairs changed 0\n",
      "fullSet, iter: 6 i:55, pairs changed 0\n",
      "j not moving enough\n",
      "fullSet, iter: 6 i:56, pairs changed 0\n",
      "fullSet, iter: 6 i:57, pairs changed 0\n",
      "L==H\n",
      "fullSet, iter: 6 i:58, pairs changed 0\n",
      "fullSet, iter: 6 i:59, pairs changed 0\n",
      "fullSet, iter: 6 i:60, pairs changed 0\n",
      "j not moving enough\n",
      "fullSet, iter: 6 i:61, pairs changed 0\n",
      "j not moving enough\n",
      "fullSet, iter: 6 i:62, pairs changed 0\n",
      "fullSet, iter: 6 i:63, pairs changed 0\n",
      "fullSet, iter: 6 i:64, pairs changed 0\n",
      "L==H\n",
      "fullSet, iter: 6 i:65, pairs changed 0\n",
      "L==H\n",
      "fullSet, iter: 6 i:66, pairs changed 0\n",
      "fullSet, iter: 6 i:67, pairs changed 0\n",
      "fullSet, iter: 6 i:68, pairs changed 0\n",
      "fullSet, iter: 6 i:69, pairs changed 0\n",
      "fullSet, iter: 6 i:70, pairs changed 0\n",
      "fullSet, iter: 6 i:71, pairs changed 0\n",
      "fullSet, iter: 6 i:72, pairs changed 0\n",
      "L==H\n",
      "fullSet, iter: 6 i:73, pairs changed 0\n",
      "j not moving enough\n",
      "fullSet, iter: 6 i:74, pairs changed 0\n",
      "fullSet, iter: 6 i:75, pairs changed 0\n",
      "j not moving enough\n",
      "fullSet, iter: 6 i:76, pairs changed 0\n",
      "fullSet, iter: 6 i:77, pairs changed 0\n",
      "L==H\n",
      "fullSet, iter: 6 i:78, pairs changed 0\n",
      "fullSet, iter: 6 i:79, pairs changed 0\n",
      "fullSet, iter: 6 i:80, pairs changed 0\n",
      "fullSet, iter: 6 i:81, pairs changed 0\n",
      "L==H\n",
      "fullSet, iter: 6 i:82, pairs changed 0\n",
      "j not moving enough\n",
      "fullSet, iter: 6 i:83, pairs changed 0\n",
      "fullSet, iter: 6 i:84, pairs changed 0\n",
      "fullSet, iter: 6 i:85, pairs changed 0\n",
      "fullSet, iter: 6 i:86, pairs changed 0\n",
      "L==H\n",
      "fullSet, iter: 6 i:87, pairs changed 0\n",
      "fullSet, iter: 6 i:88, pairs changed 0\n",
      "fullSet, iter: 6 i:89, pairs changed 0\n",
      "fullSet, iter: 6 i:90, pairs changed 0\n",
      "fullSet, iter: 6 i:91, pairs changed 0\n",
      "L==H\n",
      "fullSet, iter: 6 i:92, pairs changed 0\n",
      "fullSet, iter: 6 i:93, pairs changed 0\n",
      "fullSet, iter: 6 i:94, pairs changed 0\n",
      "fullSet, iter: 6 i:95, pairs changed 0\n",
      "fullSet, iter: 6 i:96, pairs changed 0\n",
      "fullSet, iter: 6 i:97, pairs changed 0\n",
      "fullSet, iter: 6 i:98, pairs changed 0\n",
      "fullSet, iter: 6 i:99, pairs changed 0\n",
      "iteration number: 7\n"
     ]
    }
   ],
   "source": [
    "import os\n",
    "import numpy as np\n",
    "dir=os.getenv('HOME')+'/Code/git/else/machinelearninginaction/Ch06/'\n",
    "filename=dir+'testSetRBF.txt'\n",
    "print \"Data:\\n\"\n",
    "os.chdir(dir)\n",
    "!head testSetRBF.txt\n",
    "import svmMLiA\n",
    "\n",
    "# 1. data read\n",
    "# Listing 6.8\n",
    "dataArr,labelArr=svmMLiA.loadDataSet('testSetRBF.txt')\n",
    "datMat=np.mat(dataArr)\n",
    "labelMat=np.mat(labelArr)\n",
    "labelMat=labelMat.transpose()\n",
    "\n",
    "# 2. train - alphas, b 계산 (w는 하지 않음)\n",
    "# smoSimple도 같은 기능. 그러나 10000회 실행에 30분 이상 실행함.\n",
    "# smoSimple결과 smoP와 다름 (선형으로 실행해도)\n",
    "sigma=1.3\n",
    "b,alphas=svmMLiA.smoP(dataArr,labelArr,200,0.0001,10000,('rbf',sigma))"
   ]
  },
  {
   "cell_type": "code",
   "execution_count": 44,
   "metadata": {
    "collapsed": false,
    "scrolled": false
   },
   "outputs": [
    {
     "name": "stdout",
     "output_type": "stream",
     "text": [
      "yhat_book= [[-0.4446964]]\n",
      "yhat_fX= [[-0.4446964]]\n",
      "yhat=[[-0.4446964]] y=-1.0 predicted? [[False]]\n"
     ]
    }
   ],
   "source": [
    "#print \"alphas={0} b={1}\".format(alphas,b)\n",
    "# 3. sv 선별\n",
    "# m은 support vectors의 갯수\n",
    "svInd=np.nonzero(alphas.A>0)[0] #returns index for alphas>0\n",
    "sVs=datMat[svInd]  #(m,n) support vectors\n",
    "labelSV=labelMat[svInd] #(m,1)\n",
    "\n",
    "#4. classify\n",
    "# 선형인 경우 K: X * X[0].T\n",
    "# 비선형인경우 K: Gaussian RBF\n",
    "# 1) listing 6.6 KernelTrans\n",
    "kernelEval=svmMLiA.kernelTrans(sVs,datMat[0,:],('rbf', sigma)) #(m,1)\n",
    "yhat_book = kernelEval.T*np.multiply(labelSV,alphas[svInd])+b #(1,1) <-- (1,m) * (m,1)\n",
    "print \"yhat_book=\",yhat_book\n",
    "\n",
    "# 2) my way\n",
    "sv_alphas=alphas[svInd] #(m,1)\n",
    "sv_y=labelSV #(m,1)\n",
    "sv_X=sVs #(m,n)\n",
    "sv_Xi=datMat[0] #(1,n) datMat[0,:]=datMat[0]\n",
    "m,n=np.shape(sv_X)\n",
    "sv_K=np.mat(np.zeros((m,1)))\n",
    "for i in range(m):\n",
    "    d=sv_X[i]-sv_Xi\n",
    "    sv_K[i]=d*d.T\n",
    "sv_K=np.exp(sv_K/(-1*sigma**2)) #(m,1)\n",
    "sv_ay=np.multiply(sv_alphas,sv_y) #(m,1) <-- np.multiply((m,1) (m,1))\n",
    "#sv_ayK=sv_K.T*sv_ay로 순서 바꾸어도 값 동일\n",
    "sv_ayK=sv_ay.T*sv_K #scalar결과 나와야 함. (1,1) <-- (1,m) * (m,1)\n",
    "yhat = sv_ayK+b\n",
    "\n",
    "# my function 앞 참조 fX=lambda i:float(np.multiply(alphas,yT).T*np.inner(X,X[i]))+b\n",
    "def fX(b,alphas,y,X,Xi,sigma):\n",
    "    m,n=np.shape(X)\n",
    "    K=np.mat(np.zeros((m,1)))\n",
    "    for i in range(m):\n",
    "        d=X[i]-Xi\n",
    "        K[i]=d*d.T #(1,1) <-- (1,n)*(n,1)\n",
    "    K=np.exp(K/(-1*sigma**2)) #(m,1)\n",
    "    ay=np.multiply(alphas,y) #(m,1)\n",
    "    ayK=ay.T*K #(1,1) <-- (1,m)*(m,1)\n",
    "    fx=sum(ayK+b) #() <-- (m,1).T * (m,1) * (m,1) + (1,1)\n",
    "    return fx\n",
    "yhat_fX=fX(b,alphas[svInd],labelSV,sVs,datMat[0,:],sigma)\n",
    "print \"yhat_fX=\",yhat_fX\n",
    "\n",
    "print \"yhat={0} y={1} predicted? {2}\".format(yhat,labelArr[0],np.sign(yhat) != np.sign(labelArr[0]))\n"
   ]
  },
  {
   "cell_type": "markdown",
   "metadata": {
    "collapsed": true
   },
   "source": [
    "### 사례 Handwritten digits - non-linear sigma에 따라 정확성 영향받음."
   ]
  },
  {
   "cell_type": "code",
   "execution_count": 9,
   "metadata": {
    "collapsed": false
   },
   "outputs": [
    {
     "name": "stdout",
     "output_type": "stream",
     "text": [
      "[(1, 2), (5, 8), (1.5, 1.8), (8, 8), (1, 0.6), (9, 11)]\n",
      "[[  1.    2. ]\n",
      " [  5.    8. ]\n",
      " [  1.5   1.8]\n",
      " [  8.    8. ]\n",
      " [  1.    0.6]\n",
      " [  9.   11. ]]\n",
      "[0]\n"
     ]
    }
   ],
   "source": [
    "import numpy as np\n",
    "import sklearn as sk\n",
    "\n",
    "x = [1, 5, 1.5, 8, 1, 9]\n",
    "y = [2, 8, 1.8, 8, 0.6, 11]\n",
    "\n",
    "print zip(x,y)\n",
    "X=np.array(zip(x,y))\n",
    "y = [0,1,0,1,0,1]\n",
    "print X\n",
    "clf = sk.svm.SVC(kernel='linear', C = 1.0)\n",
    "clf.fit(X,y)\n",
    "print(clf.predict([0.58,0.76]))"
   ]
  },
  {
   "cell_type": "code",
   "execution_count": 11,
   "metadata": {
    "collapsed": false
   },
   "outputs": [
    {
     "name": "stdout",
     "output_type": "stream",
     "text": [
      "[(0, 0), (4, 4)]\n",
      "[[0 0]\n",
      " [4 4]]\n",
      "[1]\n"
     ]
    }
   ],
   "source": [
    "import numpy as np\n",
    "import sklearn as sk\n",
    "\n",
    "x = [0, 4]\n",
    "y = [0, 4]\n",
    "\n",
    "print zip(x,y)\n",
    "X=np.array(zip(x,y))\n",
    "y=[1,-1]\n",
    "print X\n",
    "clf = sk.svm.SVC(kernel='linear', C = 1.0)\n",
    "clf.fit(X,y)\n",
    "print(clf.predict([0.58,0.76]))"
   ]
  },
  {
   "cell_type": "code",
   "execution_count": 13,
   "metadata": {
    "collapsed": false
   },
   "outputs": [
    {
     "name": "stdout",
     "output_type": "stream",
     "text": [
      "[-0.25 -0.25]\n",
      "-1.0\n"
     ]
    }
   ],
   "source": [
    "w = clf.coef_[0]\n",
    "print(w)\n",
    "\n",
    "a = -w[0] / w[1]\n",
    "print a"
   ]
  },
  {
   "cell_type": "code",
   "execution_count": null,
   "metadata": {
    "collapsed": true
   },
   "outputs": [],
   "source": [
    "xx = np.linspace(0,12)\n",
    "yy = a * xx - clf.intercept_[0] / w[1]\n",
    "\n",
    "h0 = plt.plot(xx, yy, 'k-', label=\"non weighted div\")\n",
    "\n",
    "plt.scatter(X[:, 0], X[:, 1], c = y)\n",
    "plt.legend()\n",
    "plt.show()"
   ]
  },
  {
   "cell_type": "code",
   "execution_count": null,
   "metadata": {
    "collapsed": true
   },
   "outputs": [],
   "source": []
  },
  {
   "cell_type": "code",
   "execution_count": null,
   "metadata": {
    "collapsed": true
   },
   "outputs": [],
   "source": []
  },
  {
   "cell_type": "markdown",
   "metadata": {},
   "source": [
    "## svm\n",
    "\n",
    "#### mllib svm\n",
    "\n",
    "* svm은 입력데이터를 분류\n",
    "* ml은 svm을 지원하고 있지 않는다."
   ]
  },
  {
   "cell_type": "code",
   "execution_count": null,
   "metadata": {
    "collapsed": true
   },
   "outputs": [],
   "source": [
    "from pyspark.mllib.classification import SVMWithSGD\n",
    "svm = SVMWithSGD.train(trainRdd, iterations=10)"
   ]
  },
  {
   "cell_type": "code",
   "execution_count": null,
   "metadata": {
    "collapsed": true
   },
   "outputs": [],
   "source": [
    "svm.predict([1.0,0.0,1.1,1.2])"
   ]
  },
  {
   "cell_type": "code",
   "execution_count": null,
   "metadata": {
    "collapsed": true
   },
   "outputs": [],
   "source": []
  },
  {
   "cell_type": "code",
   "execution_count": null,
   "metadata": {
    "collapsed": true
   },
   "outputs": [],
   "source": []
  },
  {
   "cell_type": "code",
   "execution_count": null,
   "metadata": {
    "collapsed": true
   },
   "outputs": [],
   "source": []
  },
  {
   "cell_type": "code",
   "execution_count": null,
   "metadata": {
    "collapsed": true
   },
   "outputs": [],
   "source": []
  },
  {
   "cell_type": "code",
   "execution_count": 1,
   "metadata": {
    "collapsed": true
   },
   "outputs": [],
   "source": [
    "import os\n",
    "import sys \n",
    "os.environ[\"SPARK_HOME\"]=os.path.join(os.environ['HOME'],'Downloads','spark-2.0.0-bin-hadoop2.7')\n",
    "os.environ[\"PYLIB\"]=os.path.join(os.environ[\"SPARK_HOME\"],'python','lib')\n",
    "sys.path.insert(0,os.path.join(os.environ[\"PYLIB\"],'py4j-0.10.1-src.zip'))\n",
    "sys.path.insert(0,os.path.join(os.environ[\"PYLIB\"],'pyspark.zip'))"
   ]
  },
  {
   "cell_type": "code",
   "execution_count": 1,
   "metadata": {
    "collapsed": true
   },
   "outputs": [],
   "source": [
    "import pyspark\n",
    "myConf=pyspark.SparkConf()\n",
    "spark = pyspark.sql.SparkSession.builder\\\n",
    "    .master(\"local\")\\\n",
    "    .appName(\"myApp\")\\\n",
    "    .config(conf=myConf)\\\n",
    "    .getOrCreate()"
   ]
  },
  {
   "cell_type": "markdown",
   "metadata": {
    "slideshow": {
     "slide_type": "slide"
    }
   },
   "source": [
    "## 문제 M-2: Kaggle Twitter US Airline Sentiment\n",
    "\n",
    "* 원본 https://www.crowdflower.com/data-for-everyone/\n",
    "\n",
    "* Google search - tweet sentiment corpus\n",
    "    * http://help.sentiment140.com/home\n",
    "    * http://thinknook.com/twitter-sentiment-analysis-training-corpus-dataset-2012-09-22/\n",
    "\n",
    "* 압축을 풀면, \n",
    "     Tweets.csv와 database.sqlite 2 파일이 생성, 동일한 내용\n",
    "\n",
    "* sqlite\n",
    "```\n",
    "$ sqlite3 data/kaggle/tweeterUSAirlineSentiment/database.sqlite \n",
    "SQLite version 3.11.0 2016-02-15 17:29:24\n",
    "Enter \".help\" for usage hints.\n",
    "sqlite> .table\n",
    "Tweets\n",
    "```\n",
    "\n",
    "* 14485 'negativereason_confidence' 제외한 건수\n",
    "\n",
    "* ibm직원이 tweet을 변환해서 mlib한 거 https://github.com/castanan/w2v\n",
    "\n",
    "구분 | 건수\n",
    "-----|-----\n",
    "데이터 행 | 14485\n",
    "데이터 열 | 15 tweet_id, airline_sentiment, airline_sentiment_confidence, negativereason, negativereason_confidence, airline, airline_sentiment_gold, name, negativereason_gold, retweet_count, text, tweet_coord, tweet_created, tweet_location, user_timezone"
   ]
  },
  {
   "cell_type": "markdown",
   "metadata": {},
   "source": [
    "1. 데이터 수집해서 dataframe.\n",
    "* url, RT, punctuations, numbers, lowercase, emoticons\n",
    "2. stop words\n",
    "tokenize\n",
    "tf-idf\n"
   ]
  },
  {
   "cell_type": "markdown",
   "metadata": {
    "slideshow": {
     "slide_type": "subslide"
    }
   },
   "source": [
    "### 데이터"
   ]
  },
  {
   "cell_type": "markdown",
   "metadata": {},
   "source": [
    "#### sqlite \n",
    "\n",
    "이번에는 ```database.sqlite``` 파일을 읽어보자.\n",
    "sqlite 데이터베이스를 사용하기 위해서는 bitbucket 사이트 https://bitbucket.org/xerial/sqlite-jdbc/ 에서 다운로드 받아서 저장한다.\n",
    "sqlite.jar 파일을 ```spark-defaults.conf``` 맨 끝에 추가한다.\n",
    "\n",
    "```python\n",
    "spark.driver.extraClassPath /home/.../lib/sqlite-jdbc-3.14.2.jar\n",
    "```\n",
    "\n",
    "또는 아래와 같이 ```config()```를 설정한다. 이 때, 기존에 **이미 사용하고 있는 ```spark```가 있다면** **삭제하고 새로 열어야** 설정이 변경될 수 있다. 노트북에서는 kernel을 새로 시작하도록 한다."
   ]
  },
  {
   "cell_type": "code",
   "execution_count": 1,
   "metadata": {
    "collapsed": true
   },
   "outputs": [],
   "source": [
    "import pyspark\n",
    "\n",
    "spark = pyspark.sql.SparkSession.builder\\\n",
    "    .master(\"local\")\\\n",
    "    .appName(\"myApp\")\\\n",
    "    .config('spark.driver.extraClassPath','/home/jsl/Code/git/bb/jsl/pyds/lib/sqlite-jdbc-3.14.2.jar')\\\n",
    "    .getOrCreate()"
   ]
  },
  {
   "cell_type": "code",
   "execution_count": 2,
   "metadata": {
    "collapsed": true
   },
   "outputs": [],
   "source": [
    "_df=spark.read.format('jdbc')\\\n",
    "    .options(\n",
    "        url=\"jdbc:sqlite:./data/kaggle/tweeterUSAirlineSentiment/database.sqlite\",\n",
    "        dbtable=\"Tweets\",\n",
    "        driver=\"org.sqlite.JDBC\"\n",
    "    ).load()"
   ]
  },
  {
   "cell_type": "markdown",
   "metadata": {
    "slideshow": {
     "slide_type": "subslide"
    }
   },
   "source": [
    "데이터 스키마를 출력해보자. 데이터타잎은 자동으로 인식되었지만, 그 가운데 ```airline_sentiment_confidence```, ```negativereason_confidence```는 자릿수가 크게 인식되었다. ```tweet_created```는 날짜이므로 필요한 경우 다시 인식을 하자."
   ]
  },
  {
   "cell_type": "code",
   "execution_count": 3,
   "metadata": {
    "collapsed": false,
    "slideshow": {
     "slide_type": "-"
    }
   },
   "outputs": [
    {
     "name": "stdout",
     "output_type": "stream",
     "text": [
      "root\n",
      " |-- tweet_id: integer (nullable = false)\n",
      " |-- airline_sentiment: string (nullable = true)\n",
      " |-- airline_sentiment_confidence: decimal(38,18) (nullable = true)\n",
      " |-- negativereason: string (nullable = true)\n",
      " |-- negativereason_confidence: decimal(38,18) (nullable = true)\n",
      " |-- airline: string (nullable = true)\n",
      " |-- airline_sentiment_gold: string (nullable = true)\n",
      " |-- name: string (nullable = true)\n",
      " |-- negativereason_gold: string (nullable = true)\n",
      " |-- retweet_count: integer (nullable = true)\n",
      " |-- text: string (nullable = true)\n",
      " |-- tweet_coord: string (nullable = true)\n",
      " |-- tweet_created: string (nullable = true)\n",
      " |-- tweet_location: string (nullable = true)\n",
      " |-- user_timezone: string (nullable = true)\n",
      "\n"
     ]
    }
   ],
   "source": [
    "_df.printSchema()"
   ]
  },
  {
   "cell_type": "markdown",
   "metadata": {
    "slideshow": {
     "slide_type": "subslide"
    }
   },
   "source": [
    "#### csv\n",
    "\n",
    "트윗 ```csv``` 파일을 ```spark.read()``` 함수로 읽어보자."
   ]
  },
  {
   "cell_type": "code",
   "execution_count": 3,
   "metadata": {
    "collapsed": false
   },
   "outputs": [],
   "source": [
    "tDf = spark.read.format('com.databricks.spark.csv')\\\n",
    "    .options(header='true', inferschema='true')\\\n",
    "    .load('data/kaggle/tweeterUSAirlineSentiment/Tweets.csv')"
   ]
  },
  {
   "cell_type": "markdown",
   "metadata": {
    "slideshow": {
     "slide_type": "subslide"
    }
   },
   "source": [
    "아래에서 볼 수 있듯이, 2번째 속성 **```airline_sentiment```**는 positive, neutral, negative로 구분되어 있다.\n",
    "이 속성을 ```label```로 사용하게 된다.\n",
    "11번째 **```text```**는 트윗 메시지를 말한다."
   ]
  },
  {
   "cell_type": "code",
   "execution_count": 4,
   "metadata": {
    "collapsed": false
   },
   "outputs": [
    {
     "data": {
      "text/plain": [
       "[Row(tweet_id=u'570306133677760513', airline_sentiment=u'neutral', airline_sentiment_confidence=u'1.0', negativereason=None, negativereason_confidence=None, airline=u'Virgin America', airline_sentiment_gold=None, name=u'cairdin', negativereason_gold=None, retweet_count=0, text=u'@VirginAmerica What @dhepburn said.', tweet_coord=None, tweet_created=u'2015-02-24 11:35:52 -0800', tweet_location=None, user_timezone=u'Eastern Time (US & Canada)')]"
      ]
     },
     "execution_count": 4,
     "metadata": {},
     "output_type": "execute_result"
    }
   ],
   "source": [
    "tDf.take(1)"
   ]
  },
  {
   "cell_type": "code",
   "execution_count": 5,
   "metadata": {
    "collapsed": false
   },
   "outputs": [
    {
     "name": "stdout",
     "output_type": "stream",
     "text": [
      "root\n",
      " |-- tweet_id: string (nullable = true)\n",
      " |-- airline_sentiment: string (nullable = true)\n",
      " |-- airline_sentiment_confidence: string (nullable = true)\n",
      " |-- negativereason: string (nullable = true)\n",
      " |-- negativereason_confidence: string (nullable = true)\n",
      " |-- airline: string (nullable = true)\n",
      " |-- airline_sentiment_gold: string (nullable = true)\n",
      " |-- name: string (nullable = true)\n",
      " |-- negativereason_gold: string (nullable = true)\n",
      " |-- retweet_count: integer (nullable = true)\n",
      " |-- text: string (nullable = true)\n",
      " |-- tweet_coord: string (nullable = true)\n",
      " |-- tweet_created: string (nullable = true)\n",
      " |-- tweet_location: string (nullable = true)\n",
      " |-- user_timezone: string (nullable = true)\n",
      "\n"
     ]
    }
   ],
   "source": [
    "tDf.printSchema()"
   ]
  },
  {
   "cell_type": "markdown",
   "metadata": {
    "slideshow": {
     "slide_type": "subslide"
    }
   },
   "source": [
    "데이터 개수를 세어보면 14650개 이다."
   ]
  },
  {
   "cell_type": "code",
   "execution_count": 6,
   "metadata": {
    "collapsed": false
   },
   "outputs": [
    {
     "data": {
      "text/plain": [
       "14837"
      ]
     },
     "execution_count": 6,
     "metadata": {},
     "output_type": "execute_result"
    }
   ],
   "source": [
    "tDf.select('negativereason_confidence').count()"
   ]
  },
  {
   "cell_type": "markdown",
   "metadata": {
    "slideshow": {
     "slide_type": "subslide"
    }
   },
   "source": [
    "```airline_sentiment```,```text``` 등 일부 속성을 선택하여 출력해보자."
   ]
  },
  {
   "cell_type": "code",
   "execution_count": 7,
   "metadata": {
    "collapsed": false
   },
   "outputs": [
    {
     "name": "stdout",
     "output_type": "stream",
     "text": [
      "+-----------------+--------------------+----------------------------+-------------------------+\n",
      "|airline_sentiment|                text|airline_sentiment_confidence|negativereason_confidence|\n",
      "+-----------------+--------------------+----------------------------+-------------------------+\n",
      "|          neutral|@VirginAmerica Wh...|                         1.0|                     null|\n",
      "|         positive|@VirginAmerica pl...|                      0.3486|                      0.0|\n",
      "|          neutral|@VirginAmerica I ...|                      0.6837|                     null|\n",
      "|         negative|\"@VirginAmerica i...|                         1.0|                   0.7033|\n",
      "|         negative|@VirginAmerica an...|                         1.0|                      1.0|\n",
      "|         negative|@VirginAmerica se...|                         1.0|                   0.6842|\n",
      "|             null|                null|        2015-02-24 11:14:...|     Pacific Time (US ...|\n",
      "|         positive|@VirginAmerica ye...|                      0.6745|                      0.0|\n",
      "|          neutral|@VirginAmerica Re...|                       0.634|                     null|\n",
      "|         positive|@virginamerica We...|                      0.6559|                     null|\n",
      "+-----------------+--------------------+----------------------------+-------------------------+\n",
      "only showing top 10 rows\n",
      "\n"
     ]
    }
   ],
   "source": [
    "tDf.select('airline_sentiment', 'text', 'airline_sentiment_confidence',\\\n",
    "          'negativereason_confidence').show(10)"
   ]
  },
  {
   "cell_type": "markdown",
   "metadata": {
    "slideshow": {
     "slide_type": "subslide"
    }
   },
   "source": [
    "### 데이터 탐색\n",
    "\n",
    "긍정, 중립, 부정으로 구분한 ```airline_sentiment```을 읽어 보자.\n",
    "```sqlite```와 ```csv```의 내용에 차이가 있다.\n",
    "```csv``` 파일에 오류가 있는 것으로 보인다."
   ]
  },
  {
   "cell_type": "code",
   "execution_count": 8,
   "metadata": {
    "collapsed": false
   },
   "outputs": [
    {
     "name": "stdout",
     "output_type": "stream",
     "text": [
      "+--------------------+-----+\n",
      "|   airline_sentiment|count|\n",
      "+--------------------+-----+\n",
      "|[35.23185283, -80...|    1|\n",
      "|   ubetter do smth!\"|    1|\n",
      "|            positive| 2363|\n",
      "| we had a good ru...|    1|\n",
      "| never submits. F...|    1|\n",
      "|[40.7740308, -73....|    1|\n",
      "|                   0|    8|\n",
      "|     please????????\"|    1|\n",
      "|                null|  155|\n",
      "| this is where Ce...|    1|\n",
      "| flight AA1469 2/...|    1|\n",
      "|[51.44284934, -0....|    1|\n",
      "| or just days tha...|    1|\n",
      "|[40.65062011, -73...|    1|\n",
      "|             neutral| 3099|\n",
      "| this is where Ce...|    2|\n",
      "|            negative| 9178|\n",
      "| and I might choo...|    1|\n",
      "|            Virginia|    1|\n",
      "|          [0.0, 0.0]|    1|\n",
      "+--------------------+-----+\n",
      "only showing top 20 rows\n",
      "\n",
      "None\n"
     ]
    }
   ],
   "source": [
    "print tDf.groupBy('airline_sentiment').count().show()"
   ]
  },
  {
   "cell_type": "markdown",
   "metadata": {
    "slideshow": {
     "slide_type": "subslide"
    }
   },
   "source": [
    "```_df``` 데이터로 확인해 보자. 다음에서 보듯이 긍정, 중립, 부정으로 구분이 되어있다."
   ]
  },
  {
   "cell_type": "code",
   "execution_count": 9,
   "metadata": {
    "collapsed": false
   },
   "outputs": [
    {
     "name": "stdout",
     "output_type": "stream",
     "text": [
      "+-----------------+-----+\n",
      "|airline_sentiment|count|\n",
      "+-----------------+-----+\n",
      "|         positive| 2334|\n",
      "|          neutral| 3069|\n",
      "|         negative| 9082|\n",
      "+-----------------+-----+\n",
      "\n",
      "None\n"
     ]
    }
   ],
   "source": [
    "print _df.groupBy('airline_sentiment').count().show()"
   ]
  },
  {
   "cell_type": "code",
   "execution_count": 10,
   "metadata": {
    "collapsed": false
   },
   "outputs": [
    {
     "name": "stdout",
     "output_type": "stream",
     "text": [
      "+--------------+------------------------+\n",
      "|       airline|count(airline_sentiment)|\n",
      "+--------------+------------------------+\n",
      "|         Delta|                    2222|\n",
      "|Virgin America|                     504|\n",
      "|        United|                    3822|\n",
      "|    US Airways|                    2913|\n",
      "|     Southwest|                    2420|\n",
      "|      American|                    2604|\n",
      "+--------------+------------------------+\n",
      "\n",
      "None\n"
     ]
    }
   ],
   "source": [
    "print _df.groupBy('airline')\\\n",
    "    .agg({'airline_sentiment': 'count'}).show()"
   ]
  },
  {
   "cell_type": "markdown",
   "metadata": {
    "slideshow": {
     "slide_type": "subslide"
    }
   },
   "source": [
    "긍정, 중립, 부정으로 구분한 개수와 비율을 계산해서 출력해보자.\n",
    "```_df.count()``` 함수로 전체 개수를 구할 수 있다.\n",
    "비율은 전체로 나누어 주면 계산된다.\n",
    "문제는 계산식 'count/total'이 문자열이고 문자열은 계산이 가능하지 못하다는 점이다.\n",
    "이 때 **```expr()```** 함수를 사용하면, 이 **문자열을 실행**해서 컬럼에 입력하게 된다."
   ]
  },
  {
   "cell_type": "code",
   "execution_count": 11,
   "metadata": {
    "collapsed": false
   },
   "outputs": [
    {
     "name": "stdout",
     "output_type": "stream",
     "text": [
      "+-----------------+-----+-----+-------------------+\n",
      "|airline_sentiment|count|total|              ratio|\n",
      "+-----------------+-----+-----+-------------------+\n",
      "|         positive| 2334|14485| 0.1611322057300656|\n",
      "|          neutral| 3069|14485|0.21187435277873662|\n",
      "|         negative| 9082|14485| 0.6269934414911978|\n",
      "+-----------------+-----+-----+-------------------+\n",
      "\n"
     ]
    }
   ],
   "source": [
    "import pyspark.sql.functions as F\n",
    "\n",
    "total=_df.count()\n",
    "sDf=(_df.groupBy('airline_sentiment').count()\n",
    "    .withColumn('total',F.lit(total))\n",
    "    .withColumn('ratio',F.expr('count/total')))\n",
    "sDf.show()"
   ]
  },
  {
   "cell_type": "markdown",
   "metadata": {},
   "source": [
    "Spark는 그래프를 지원하지 않아, 라이브러리인 matplotlib을 사용하면 된다.\n",
    "그러기 위해서는 그래프에 입력하는 데이터를, 예를 들면 List로 생성해서 사용해야 한다.\n",
    "또는 pandas로 변환해서 그래프를 그릴 수 있다."
   ]
  },
  {
   "cell_type": "code",
   "execution_count": 12,
   "metadata": {
    "collapsed": false
   },
   "outputs": [
    {
     "data": {
      "text/html": [
       "<div style=\"max-height:1000px;max-width:1500px;overflow:auto;\">\n",
       "<table border=\"1\" class=\"dataframe\">\n",
       "  <thead>\n",
       "    <tr style=\"text-align: right;\">\n",
       "      <th></th>\n",
       "      <th>airline_sentiment</th>\n",
       "      <th>count</th>\n",
       "      <th>total</th>\n",
       "      <th>ratio</th>\n",
       "    </tr>\n",
       "  </thead>\n",
       "  <tbody>\n",
       "    <tr>\n",
       "      <th>0</th>\n",
       "      <td>positive</td>\n",
       "      <td>2334</td>\n",
       "      <td>14485</td>\n",
       "      <td>0.161132</td>\n",
       "    </tr>\n",
       "    <tr>\n",
       "      <th>1</th>\n",
       "      <td>neutral</td>\n",
       "      <td>3069</td>\n",
       "      <td>14485</td>\n",
       "      <td>0.211874</td>\n",
       "    </tr>\n",
       "    <tr>\n",
       "      <th>2</th>\n",
       "      <td>negative</td>\n",
       "      <td>9082</td>\n",
       "      <td>14485</td>\n",
       "      <td>0.626993</td>\n",
       "    </tr>\n",
       "  </tbody>\n",
       "</table>\n",
       "</div>"
      ],
      "text/plain": [
       "  airline_sentiment  count  total     ratio\n",
       "0          positive   2334  14485  0.161132\n",
       "1           neutral   3069  14485  0.211874\n",
       "2          negative   9082  14485  0.626993"
      ]
     },
     "execution_count": 12,
     "metadata": {},
     "output_type": "execute_result"
    }
   ],
   "source": [
    "pdf=sDf.toPandas()\n",
    "pdf.head()"
   ]
  },
  {
   "cell_type": "markdown",
   "metadata": {
    "slideshow": {
     "slide_type": "subslide"
    }
   },
   "source": [
    "ratio 컬럼으로 파이차트를 그려보자.\n",
    "**```y```**는 label을 출력한다.\n",
    "**```kind```**는 ‘bar’,’barh’,’pie’,’scatter’,’kde'를 선택할 수 있다.\n",
    "**```labels```**는 행이름을 직접 사용할 수 없어서, 명칭을 그냥 입력하였다.\n",
    "**```legend```**를 표시하고 싶으면 0, 1 값을 넣어준다.\n"
   ]
  },
  {
   "cell_type": "code",
   "execution_count": 13,
   "metadata": {
    "collapsed": false
   },
   "outputs": [
    {
     "data": {
      "text/plain": [
       "<matplotlib.axes._subplots.AxesSubplot at 0x7f22f96e8710>"
      ]
     },
     "execution_count": 13,
     "metadata": {},
     "output_type": "execute_result"
    },
    {
     "data": {
      "image/png": "[encoded data removed]",
      "text/plain": [
       "<matplotlib.figure.Figure at 0x7f22f96cfed0>"
      ]
     },
     "metadata": {},
     "output_type": "display_data"
    }
   ],
   "source": [
    "%matplotlib inline\n",
    "pdf.ratio.plot(y='% of sentiment', kind='pie', legend=1, labels=['positive','neutral','negative'])"
   ]
  },
  {
   "cell_type": "markdown",
   "metadata": {
    "slideshow": {
     "slide_type": "subslide"
    }
   },
   "source": [
    "항공사별 긍정, 중립, 부정을 crosstab으로 분석해보자."
   ]
  },
  {
   "cell_type": "code",
   "execution_count": 14,
   "metadata": {
    "collapsed": false
   },
   "outputs": [
    {
     "name": "stdout",
     "output_type": "stream",
     "text": [
      "+-------------------------+--------+-------+--------+\n",
      "|airline_airline_sentiment|negative|neutral|positive|\n",
      "+-------------------------+--------+-------+--------+\n",
      "|                    Delta|     955|    723|     544|\n",
      "|           Virgin America|     181|    171|     152|\n",
      "|               US Airways|    2263|    381|     269|\n",
      "|                   United|    2633|    697|     492|\n",
      "|                 American|    1864|    433|     307|\n",
      "|                Southwest|    1186|    664|     570|\n",
      "+-------------------------+--------+-------+--------+\n",
      "\n"
     ]
    }
   ],
   "source": [
    "#_tDf.cube(\"airline\", _tDf.airline_sentiment).count()\\\n",
    "#    .orderBy(\"airline\", \"airline_sentiment\").show()\n",
    "_df.stat.crosstab(\"airline\",\"airline_sentiment\").show()"
   ]
  },
  {
   "cell_type": "markdown",
   "metadata": {
    "slideshow": {
     "slide_type": "subslide"
    }
   },
   "source": [
    "부정적인 의견을 구분해보자."
   ]
  },
  {
   "cell_type": "code",
   "execution_count": 15,
   "metadata": {
    "collapsed": false
   },
   "outputs": [
    {
     "name": "stdout",
     "output_type": "stream",
     "text": [
      "+---------------------------+-----+\n",
      "|negativereason             |count|\n",
      "+---------------------------+-----+\n",
      "|Lost Luggage               |719  |\n",
      "|longlines                  |177  |\n",
      "|Late Flight                |1650 |\n",
      "|Damaged Luggage            |73   |\n",
      "|Cancelled Flight           |829  |\n",
      "|Customer Service Issue     |2885 |\n",
      "|Flight Attendant Complaints|475  |\n",
      "|                           |5403 |\n",
      "|Bad Flight                 |575  |\n",
      "|Can't Tell                 |1176 |\n",
      "|Flight Booking Problems    |523  |\n",
      "+---------------------------+-----+\n",
      "\n"
     ]
    }
   ],
   "source": [
    "_df.groupBy('negativereason').count().show(truncate=False)"
   ]
  },
  {
   "cell_type": "markdown",
   "metadata": {},
   "source": [
    "* 'tweet_location', 'retweet_count' 분석 - 비율, 지도위에??"
   ]
  },
  {
   "cell_type": "markdown",
   "metadata": {},
   "source": [
    "### 형변환\n",
    "\n",
    "confidence 관련 속성은 'string'으로 자동인식되어 연산이 가능하지 못하기 때문에 ```double```로 형변환을 해준다.\n",
    "\n"
   ]
  },
  {
   "cell_type": "code",
   "execution_count": 17,
   "metadata": {
    "collapsed": true
   },
   "outputs": [],
   "source": [
    "from pyspark.sql.types import IntegerType, DateType, DoubleType, DecimalType, FloatType"
   ]
  },
  {
   "cell_type": "markdown",
   "metadata": {},
   "source": [
    "앞서 생성해 sqlite 데이터로부터 생성한 DataFrame의 형을 변경해 보자."
   ]
  },
  {
   "cell_type": "code",
   "execution_count": 16,
   "metadata": {
    "collapsed": true
   },
   "outputs": [],
   "source": [
    "_tDf=_df.withColumn(\"airline_sentiment_confidenceD\",\\\n",
    "                    _df['airline_sentiment_confidence']\\\n",
    "                   .cast(\"double\")).drop('airline_sentiment_confidence')"
   ]
  },
  {
   "cell_type": "code",
   "execution_count": 17,
   "metadata": {
    "collapsed": true
   },
   "outputs": [],
   "source": [
    "_tDf=_tDf.withColumn(\"negativereason_confidenceD\",\\\n",
    "                     _tDf['negativereason_confidence']\\\n",
    "                   .cast(\"double\")).drop('negativereason_confidence')"
   ]
  },
  {
   "cell_type": "markdown",
   "metadata": {},
   "source": [
    "DateType()은 년월일 형식을 지원 \"0001-01-01\" through \"9999-12-31\"."
   ]
  },
  {
   "cell_type": "code",
   "execution_count": 18,
   "metadata": {
    "collapsed": true
   },
   "outputs": [],
   "source": [
    "from pyspark.sql.types import DateType\n",
    "_tDf=_tDf.withColumn('tweet_createdDate', _tDf['tweet_created']\\\n",
    "                     .cast(DateType())).drop('tweet_created')\n",
    "#_tDf=_tDf.withColumn('retweet_countI', _tDf['retweet_count']\\\n",
    "#                     .cast(\"integer\")).drop('retweet_count')"
   ]
  },
  {
   "cell_type": "code",
   "execution_count": 19,
   "metadata": {
    "collapsed": false
   },
   "outputs": [
    {
     "name": "stdout",
     "output_type": "stream",
     "text": [
      "root\n",
      " |-- tweet_id: integer (nullable = false)\n",
      " |-- airline_sentiment: string (nullable = true)\n",
      " |-- negativereason: string (nullable = true)\n",
      " |-- airline: string (nullable = true)\n",
      " |-- airline_sentiment_gold: string (nullable = true)\n",
      " |-- name: string (nullable = true)\n",
      " |-- negativereason_gold: string (nullable = true)\n",
      " |-- retweet_count: integer (nullable = true)\n",
      " |-- text: string (nullable = true)\n",
      " |-- tweet_coord: string (nullable = true)\n",
      " |-- tweet_location: string (nullable = true)\n",
      " |-- user_timezone: string (nullable = true)\n",
      " |-- airline_sentiment_confidenceD: double (nullable = true)\n",
      " |-- negativereason_confidenceD: double (nullable = true)\n",
      " |-- tweet_createdDate: date (nullable = true)\n",
      "\n"
     ]
    }
   ],
   "source": [
    "_tDf.printSchema()"
   ]
  },
  {
   "cell_type": "markdown",
   "metadata": {
    "slideshow": {
     "slide_type": "subslide"
    }
   },
   "source": [
    "sqlite를 사용하면 BigDecimal오류가 'java.sql.SQLException: Bad value for type BigDecimal'\n",
    "    * null 값이 많다.\n",
    "\n",
    "변수명 | 값 | null\n",
    "-----|-----|-----\n",
    "airline_sentiment_confidence | 1~0의 값, 소수점 18자리까지 | null 값이 거의 없다.\n",
    "negativereason_confidence | 상동 | null 값이 많다."
   ]
  },
  {
   "cell_type": "code",
   "execution_count": 20,
   "metadata": {
    "collapsed": true
   },
   "outputs": [],
   "source": [
    "_tDf=_tDf.drop('negativereason_confidenceD')"
   ]
  },
  {
   "cell_type": "code",
   "execution_count": 21,
   "metadata": {
    "collapsed": false
   },
   "outputs": [
    {
     "name": "stdout",
     "output_type": "stream",
     "text": [
      "+--------+-----------------+--------------+-------+----------------------+-----+-------------------+-------------+-----+-----------+--------------+-------------+-----------------------------+-----------------+\n",
      "|tweet_id|airline_sentiment|negativereason|airline|airline_sentiment_gold| name|negativereason_gold|retweet_count| text|tweet_coord|tweet_location|user_timezone|airline_sentiment_confidenceD|tweet_createdDate|\n",
      "+--------+-----------------+--------------+-------+----------------------+-----+-------------------+-------------+-----+-----------+--------------+-------------+-----------------------------+-----------------+\n",
      "|   14485|            14485|         14485|  14485|                 14485|14485|              14485|        14485|14485|      14485|         14485|        14485|                        14485|            14485|\n",
      "+--------+-----------------+--------------+-------+----------------------+-----+-------------------+-------------+-----+-----------+--------------+-------------+-----------------------------+-----------------+\n",
      "\n"
     ]
    }
   ],
   "source": [
    "from pyspark.sql.functions import count\n",
    "_tDf.agg(*[count(c).alias(c) for c in _tDf.columns]).show()"
   ]
  },
  {
   "cell_type": "markdown",
   "metadata": {
    "slideshow": {
     "slide_type": "subslide"
    }
   },
   "source": [
    "### 텍스트 가려내기\n",
    "\n",
    "트윗 메시지에는 불필요하거나 의미없는 텍스트가 섞여 있다.\n",
    "\n",
    "패턴 | 설명\n",
    "-----|-----\n",
    "@[\\w]+ | @로 시작하는 alphanumerics\n",
    "[^\\w] | alphanumeric이 아닌 한 글자, apostrophe, dot, etc.\n",
    "\\w+:\\/\\/\\S+ | ://를 가지고 있는 url"
   ]
  },
  {
   "cell_type": "code",
   "execution_count": 23,
   "metadata": {
    "collapsed": false
   },
   "outputs": [],
   "source": [
    "from pyspark.sql.functions import udf\n",
    "from pyspark.sql.types import StringType\n",
    "import re\n",
    "\n",
    "def myFilter(s):\n",
    "    return ' '.join(re.sub(\"(@[\\w]+)|([^\\w])|(\\w+:\\/\\/\\S+)\",\" \",s).split())\n",
    "\n",
    "myUdf = udf(myFilter, StringType())\n",
    "filterDF = _tDf.withColumn(\"textFiltered\", myUdf(_tDf['text']))"
   ]
  },
  {
   "cell_type": "markdown",
   "metadata": {
    "slideshow": {
     "slide_type": "subslide"
    }
   },
   "source": [
    "### 단어 분리\n"
   ]
  },
  {
   "cell_type": "code",
   "execution_count": 24,
   "metadata": {
    "collapsed": true
   },
   "outputs": [],
   "source": [
    "from pyspark.ml.feature import *\n",
    "\n",
    "re = RegexTokenizer(inputCol=\"textFiltered\", outputCol=\"words\", pattern=\"\\\\W\")\n",
    "wordsDf=re.transform(filterDF)"
   ]
  },
  {
   "cell_type": "code",
   "execution_count": 25,
   "metadata": {
    "collapsed": false
   },
   "outputs": [
    {
     "data": {
      "text/plain": [
       "[Row(text=u\"@JetBlue's new CEO seeks the right balance to please passengers and Wall ... - Greenfield Daily Reporter http://t.co/LM3opxkxch\", words=[u's', u'new', u'ceo', u'seeks', u'the', u'right', u'balance', u'to', u'please', u'passengers', u'and', u'wall', u'greenfield', u'daily', u'reporter']),\n",
       " Row(text=u'@JetBlue is REALLY getting on my nerves !! \\U0001f621\\U0001f621 #nothappy', words=[u'is', u'really', u'getting', u'on', u'my', u'nerves', u'nothappy']),\n",
       " Row(text=u'@united yes. We waited in line for almost an hour to do so. Some passengers just left not wanting to wait past 1am.', words=[u'yes', u'we', u'waited', u'in', u'line', u'for', u'almost', u'an', u'hour', u'to', u'do', u'so', u'some', u'passengers', u'just', u'left', u'not', u'wanting', u'to', u'wait', u'past', u'1am'])]"
      ]
     },
     "execution_count": 25,
     "metadata": {},
     "output_type": "execute_result"
    }
   ],
   "source": [
    "wordsDf.select('text','words').take(3)"
   ]
  },
  {
   "cell_type": "markdown",
   "metadata": {},
   "source": [
    "### 불용어"
   ]
  },
  {
   "cell_type": "code",
   "execution_count": 26,
   "metadata": {
    "collapsed": true
   },
   "outputs": [],
   "source": [
    "from pyspark.ml.feature import StopWordsRemover\n",
    "stop = StopWordsRemover(inputCol=\"words\", outputCol=\"nostops\")"
   ]
  },
  {
   "cell_type": "code",
   "execution_count": 27,
   "metadata": {
    "collapsed": true
   },
   "outputs": [],
   "source": [
    "stopwords=list()\n",
    "\n",
    "_stopwords=stop.getStopWords()\n",
    "for e in _stopwords:\n",
    "    stopwords.append(e)\n",
    "_mystopwords=[u\"나\",u\"너\", u\"우리\"]"
   ]
  },
  {
   "cell_type": "code",
   "execution_count": 28,
   "metadata": {
    "collapsed": false
   },
   "outputs": [
    {
     "name": "stdout",
     "output_type": "stream",
     "text": [
      "[u'i', u'me', u'my', u'myself', u'we', u'our', u'ours', u'ourselves', u'you', u'your', u'yours', u'yourself', u'yourselves', u'he', u'him', u'his', u'himself', u'she', u'her', u'hers', u'herself', u'it', u'its', u'itself', u'they', u'them', u'their', u'theirs', u'themselves', u'what', u'which', u'who', u'whom', u'this', u'that', u'these', u'those', u'am', u'is', u'are', u'was', u'were', u'be', u'been', u'being', u'have', u'has', u'had', u'having', u'do', u'does', u'did', u'doing', u'a', u'an', u'the', u'and', u'but', u'if', u'or', u'because', u'as', u'until', u'while', u'of', u'at', u'by', u'for', u'with', u'about', u'against', u'between', u'into', u'through', u'during', u'before', u'after', u'above', u'below', u'to', u'from', u'up', u'down', u'in', u'out', u'on', u'off', u'over', u'under', u'again', u'further', u'then', u'once', u'here', u'there', u'when', u'where', u'why', u'how', u'all', u'any', u'both', u'each', u'few', u'more', u'most', u'other', u'some', u'such', u'no', u'nor', u'not', u'only', u'own', u'same', u'so', u'than', u'too', u'very', u's', u't', u'can', u'will', u'just', u'don', u'should', u'now', u\"i'll\", u\"you'll\", u\"he'll\", u\"she'll\", u\"we'll\", u\"they'll\", u\"i'd\", u\"you'd\", u\"he'd\", u\"she'd\", u\"we'd\", u\"they'd\", u\"i'm\", u\"you're\", u\"he's\", u\"she's\", u\"it's\", u\"we're\", u\"they're\", u\"i've\", u\"we've\", u\"you've\", u\"they've\", u\"isn't\", u\"aren't\", u\"wasn't\", u\"weren't\", u\"haven't\", u\"hasn't\", u\"hadn't\", u\"don't\", u\"doesn't\", u\"didn't\", u\"won't\", u\"wouldn't\", u\"shan't\", u\"shouldn't\", u\"mustn't\", u\"can't\", u\"couldn't\", u'cannot', u'could', u\"here's\", u\"how's\", u\"let's\", u'ought', u\"that's\", u\"there's\", u\"what's\", u\"when's\", u\"where's\", u\"who's\", u\"why's\", u'would', u'\\ub098', u'\\ub108', u'\\uc6b0\\ub9ac']\n"
     ]
    }
   ],
   "source": [
    "for e in _mystopwords:\n",
    "    stopwords.append(e)\n",
    "print stopwords"
   ]
  },
  {
   "cell_type": "code",
   "execution_count": 29,
   "metadata": {
    "collapsed": false
   },
   "outputs": [
    {
     "name": "stdout",
     "output_type": "stream",
     "text": [
      "+--------------------+--------------------+\n",
      "|                text|             nostops|\n",
      "+--------------------+--------------------+\n",
      "|@JetBlue's new CE...|[new, ceo, seeks,...|\n",
      "|@JetBlue is REALL...|[really, getting,...|\n",
      "|@united yes. We w...|[yes, waited, lin...|\n",
      "|@united the we go...|[got, gate, iah, ...|\n",
      "|@SouthwestAir its...|[cool, bags, take...|\n",
      "|@united and don't...|[hope, nicer, fli...|\n",
      "|@united I like de...|[like, delays, le...|\n",
      "|@united, link to ...|[link, current, s...|\n",
      "|@SouthwestAir you...|[guys, hour, 2, p...|\n",
      "|@united I tried 2...|[tried, 2, dm, go...|\n",
      "|Wanted to get my ...|[wanted, get, bag...|\n",
      "|@united please se...|[please, see, fli...|\n",
      "|@united still wai...|[still, waiting, ...|\n",
      "|@united even thou...|[even, though, te...|\n",
      "|@USAirways how's ...|[us, 1797, lookin...|\n",
      "|@SouthwestAir nic...|[nice, work, update]|\n",
      "|@united i have it...|[items, sentiment...|\n",
      "|@SouthwestAir We ...|[stuck, sju, seve...|\n",
      "|@JetBlue CEO weig...|[ceo, weighs, pro...|\n",
      "|@USAirways @Ameri...|[r, u, supposed, ...|\n",
      "+--------------------+--------------------+\n",
      "only showing top 20 rows\n",
      "\n"
     ]
    }
   ],
   "source": [
    "stopDf=stop.transform(wordsDf)\n",
    "stopDf.select('text','nostops').show()"
   ]
  },
  {
   "cell_type": "markdown",
   "metadata": {},
   "source": [
    "## word cloud\n",
    "\n",
    "from wordcloud import WordCloud, STOPWORDS\n",
    "\n",
    "wordsToCloud=stopDf.select('nostops').collect()\n",
    "\n",
    "\n",
    "wordcloud = WordCloud(stopwords=STOPWORDS,\n",
    "                      background_color='black',\n",
    "                      width=3000,\n",
    "                      height=2500\n",
    "                     ).generate(wordsToCloud)\n",
    "plt.figure(1,figsize=(12, 12))\n",
    "plt.imshow(wordcloud)\n",
    "plt.axis('off')\n",
    "plt.show()"
   ]
  },
  {
   "cell_type": "markdown",
   "metadata": {
    "collapsed": true,
    "slideshow": {
     "slide_type": "subslide"
    }
   },
   "source": [
    "### 단어빈도"
   ]
  },
  {
   "cell_type": "code",
   "execution_count": 30,
   "metadata": {
    "collapsed": true
   },
   "outputs": [],
   "source": [
    "from pyspark.ml.feature import CountVectorizer\n",
    "cv = CountVectorizer(inputCol=\"words\", outputCol=\"cv\", vocabSize=30,minDF=1.0)\n",
    "cvModel = cv.fit(wordsDf)\n",
    "cvDf = cvModel.transform(wordsDf)"
   ]
  },
  {
   "cell_type": "code",
   "execution_count": 31,
   "metadata": {
    "collapsed": false,
    "scrolled": true
   },
   "outputs": [
    {
     "name": "stdout",
     "output_type": "stream",
     "text": [
      "+-----------------+--------------------+--------------------+--------------------+\n",
      "|airline_sentiment|                text|               words|                  cv|\n",
      "+-----------------+--------------------+--------------------+--------------------+\n",
      "|          neutral|@JetBlue's new CE...|[s, new, ceo, see...|(30,[0,2,8,22],[1...|\n",
      "|         negative|@JetBlue is REALL...|[is, really, gett...|(30,[7,9,10],[1.0...|\n",
      "|         negative|@united yes. We w...|[yes, we, waited,...|(30,[0,5,11,21,28...|\n",
      "|         negative|@united the we go...|[the, we, got, in...|(30,[0,2,4,6,7,8,...|\n",
      "|         negative|@SouthwestAir its...|[its, cool, that,...|(30,[2,3,7,9,12,1...|\n",
      "|         negative|@united and don't...|[and, don, t, hop...|(30,[0,3,4,5,6,8,...|\n",
      "|         negative|@united I like de...|[i, like, delays,...|(30,[1,2,3,4,7,15...|\n",
      "|         negative|@united, link to ...|[link, to, curren...|(30,[0,13,14,18,2...|\n",
      "|         negative|@SouthwestAir you...|[you, guys, there...|(30,[4,7,14,24,28...|\n",
      "|         negative|@united I tried 2...|[i, tried, 2, dm,...|(30,[1,12,21],[1....|\n",
      "|         negative|Wanted to get my ...|[wanted, to, get,...|(30,[0,3,7,9,10,2...|\n",
      "|         negative|@united please se...|[please, see, a, ...|(30,[0,1,3,5,6,7,...|\n",
      "|         negative|@united still wai...|[still, waiting, ...|(30,[3,5],[1.0,1.0])|\n",
      "|          neutral|@united even thou...|[even, though, te...|      (30,[1],[2.0])|\n",
      "|          neutral|@USAirways how's ...|[how, s, us, 1797...|     (30,[22],[1.0])|\n",
      "|         positive|@SouthwestAir nic...|[nice, work, on, ...|(30,[2,7],[1.0,1.0])|\n",
      "|         negative|@united i have it...|[i, have, items, ...|(30,[1,14,17,19],...|\n",
      "|         negative|@SouthwestAir We ...|[we, have, been, ...|(30,[0,5,8,10,11,...|\n",
      "|          neutral|@JetBlue CEO weig...|[ceo, weighs, pro...|          (30,[],[])|\n",
      "|         negative|@USAirways @Ameri...|[how, r, u, suppo...|(30,[0,13,18,27],...|\n",
      "+-----------------+--------------------+--------------------+--------------------+\n",
      "only showing top 20 rows\n",
      "\n"
     ]
    }
   ],
   "source": [
    "cvDf.select('airline_sentiment', 'text','words','cv').show()"
   ]
  },
  {
   "cell_type": "markdown",
   "metadata": {
    "slideshow": {
     "slide_type": "subslide"
    }
   },
   "source": [
    "### label, features\n",
    "\n",
    "Using StringIndexer with setHandleInvalid(\"skip\") option\n",
    "2017년 7월 발표된 Spark 2.2부터 ```.setHandleInvalid(\"keep\")```\n",
    "- ```skip``` 새로운 label은 무시\n"
   ]
  },
  {
   "cell_type": "markdown",
   "metadata": {
    "collapsed": false
   },
   "source": [
    "```todel\n",
    "cvDf_negPos=cvDf.filter(cvDf.airline_sentiment != 'neutral')\n",
    "```"
   ]
  },
  {
   "cell_type": "code",
   "execution_count": 32,
   "metadata": {
    "collapsed": true
   },
   "outputs": [],
   "source": [
    "from pyspark.ml.feature import StringIndexer\n",
    "labelIndexer = StringIndexer(inputCol='airline_sentiment', outputCol=\"label\").setHandleInvalid(\"skip\")\n",
    "model=labelIndexer.fit(cvDf)"
   ]
  },
  {
   "cell_type": "code",
   "execution_count": 33,
   "metadata": {
    "collapsed": true
   },
   "outputs": [],
   "source": [
    "siDf=model.transform(cvDf)"
   ]
  },
  {
   "cell_type": "markdown",
   "metadata": {
    "collapsed": true
   },
   "source": [
    "todel\n",
    "```\n",
    "from pyspark.ml.feature import StringIndexer\n",
    "labelIndexer = StringIndexer(inputCol='airline_sentiment', outputCol=\"label\").setHandleInvalid(\"skip\")\n",
    "model=labelIndexer.fit(cvDf_negPos)\n",
    "\n",
    "siDf=model.transform(cvDf_negPos)\n",
    "```"
   ]
  },
  {
   "cell_type": "markdown",
   "metadata": {
    "slideshow": {
     "slide_type": "subslide"
    }
   },
   "source": [
    "컬럼명을 변경해보자. ```alias()``` 또는 ```withColumnRenamed()``` 함수 모두 같은 기능을 한다."
   ]
  },
  {
   "cell_type": "code",
   "execution_count": 34,
   "metadata": {
    "collapsed": false
   },
   "outputs": [
    {
     "data": {
      "text/plain": [
       "DataFrame[cv: vector]"
      ]
     },
     "execution_count": 34,
     "metadata": {},
     "output_type": "execute_result"
    }
   ],
   "source": [
    "siDf.select(\"cv\").alias(\"features\")"
   ]
  },
  {
   "cell_type": "code",
   "execution_count": 35,
   "metadata": {
    "collapsed": false
   },
   "outputs": [],
   "source": [
    "siDf=siDf.withColumnRenamed(\"cv\", \"features\")"
   ]
  },
  {
   "cell_type": "code",
   "execution_count": 37,
   "metadata": {
    "collapsed": false,
    "scrolled": false
   },
   "outputs": [
    {
     "name": "stdout",
     "output_type": "stream",
     "text": [
      "root\n",
      " |-- tweet_id: integer (nullable = false)\n",
      " |-- airline_sentiment: string (nullable = true)\n",
      " |-- negativereason: string (nullable = true)\n",
      " |-- airline: string (nullable = true)\n",
      " |-- airline_sentiment_gold: string (nullable = true)\n",
      " |-- name: string (nullable = true)\n",
      " |-- negativereason_gold: string (nullable = true)\n",
      " |-- retweet_count: integer (nullable = true)\n",
      " |-- text: string (nullable = true)\n",
      " |-- tweet_coord: string (nullable = true)\n",
      " |-- tweet_location: string (nullable = true)\n",
      " |-- user_timezone: string (nullable = true)\n",
      " |-- airline_sentiment_confidenceD: double (nullable = true)\n",
      " |-- tweet_createdDate: date (nullable = true)\n",
      " |-- textFiltered: string (nullable = true)\n",
      " |-- words: array (nullable = true)\n",
      " |    |-- element: string (containsNull = true)\n",
      " |-- features: vector (nullable = true)\n",
      " |-- label: double (nullable = true)\n",
      "\n"
     ]
    }
   ],
   "source": [
    "siDf.printSchema()"
   ]
  },
  {
   "cell_type": "markdown",
   "metadata": {
    "slideshow": {
     "slide_type": "subslide"
    }
   },
   "source": [
    "```airline_sentiment```이 ```label```로 올바르게 변환되었는지 확인해보자."
   ]
  },
  {
   "cell_type": "code",
   "execution_count": 41,
   "metadata": {
    "collapsed": false,
    "slideshow": {
     "slide_type": "-"
    }
   },
   "outputs": [
    {
     "name": "stdout",
     "output_type": "stream",
     "text": [
      "+-----------------+-----+\n",
      "|airline_sentiment|label|\n",
      "+-----------------+-----+\n",
      "|          neutral|  1.0|\n",
      "|         negative|  0.0|\n",
      "|         negative|  0.0|\n",
      "|         negative|  0.0|\n",
      "|         negative|  0.0|\n",
      "|         negative|  0.0|\n",
      "|         negative|  0.0|\n",
      "|         negative|  0.0|\n",
      "|         negative|  0.0|\n",
      "|         negative|  0.0|\n",
      "|         negative|  0.0|\n",
      "|         negative|  0.0|\n",
      "|         negative|  0.0|\n",
      "|          neutral|  1.0|\n",
      "|          neutral|  1.0|\n",
      "|         positive|  2.0|\n",
      "|         negative|  0.0|\n",
      "|         negative|  0.0|\n",
      "|          neutral|  1.0|\n",
      "|         negative|  0.0|\n",
      "+-----------------+-----+\n",
      "only showing top 20 rows\n",
      "\n"
     ]
    }
   ],
   "source": [
    "siDf.select('airline_sentiment','label').show()"
   ]
  },
  {
   "cell_type": "markdown",
   "metadata": {
    "slideshow": {
     "slide_type": "subslide"
    }
   },
   "source": [
    "### train, test\n",
    "\n",
    "```randomSplit(weights, seed)``` 함수에 입력하는 ```weights```는 훈련, 테스트 비율을 설정하는데 합쳐서 1.0이 되어야 하고, 그렇지 않으면 알아서 정규화를 해서 맞추어 준다. seed는 선택적으로 설정하며 표본을 추출하는 seed를 말한다."
   ]
  },
  {
   "cell_type": "code",
   "execution_count": 38,
   "metadata": {
    "collapsed": true
   },
   "outputs": [],
   "source": [
    "train, test = siDf.randomSplit([0.6,0.4])"
   ]
  },
  {
   "cell_type": "code",
   "execution_count": 39,
   "metadata": {
    "collapsed": false
   },
   "outputs": [
    {
     "data": {
      "text/plain": [
       "8756"
      ]
     },
     "execution_count": 39,
     "metadata": {},
     "output_type": "execute_result"
    }
   ],
   "source": [
    "train.count()"
   ]
  },
  {
   "cell_type": "code",
   "execution_count": 40,
   "metadata": {
    "collapsed": false,
    "slideshow": {
     "slide_type": "-"
    }
   },
   "outputs": [
    {
     "data": {
      "text/plain": [
       "5729"
      ]
     },
     "execution_count": 40,
     "metadata": {},
     "output_type": "execute_result"
    }
   ],
   "source": [
    "test.count()"
   ]
  },
  {
   "cell_type": "markdown",
   "metadata": {},
   "source": [
    "### svm 이진분류\n",
    "\n",
    "Linear SVM Classifier\n",
    "\n",
    "SVMs은 이진분류 binary classification만 가능하다. 반면 logistic regression은 이진, 다중 multiclass classification에 적용된다.\n",
    "따라서 중립 (1.0)을 제외하고 긍정 (2.0), 부정 (0.0)만 남겨놓도록 한다.\n",
    "```filter()```는 ```where()```와 같은 역할을 하는 명령어이다."
   ]
  },
  {
   "cell_type": "markdown",
   "metadata": {
    "slideshow": {
     "slide_type": "subslide"
    }
   },
   "source": [
    "#### label 재설정\n",
    "\n",
    "```StringIndexer```로 충분히 되어야 하지만 **multiclass 오류**가 발생한다. Spark 내부 오류로 판단되어, **```Binarizer```**로 이진 클래스로 강제로 분류하여 SVM 모델을 생성하기로 한다."
   ]
  },
  {
   "cell_type": "code",
   "execution_count": 42,
   "metadata": {
    "collapsed": false,
    "scrolled": true
   },
   "outputs": [
    {
     "name": "stdout",
     "output_type": "stream",
     "text": [
      "+-----+------+\n",
      "|label|label2|\n",
      "+-----+------+\n",
      "|  1.0|   1.0|\n",
      "|  0.0|   0.0|\n",
      "|  0.0|   0.0|\n",
      "|  0.0|   0.0|\n",
      "|  0.0|   0.0|\n",
      "|  0.0|   0.0|\n",
      "|  0.0|   0.0|\n",
      "|  0.0|   0.0|\n",
      "|  0.0|   0.0|\n",
      "|  0.0|   0.0|\n",
      "+-----+------+\n",
      "only showing top 10 rows\n",
      "\n"
     ]
    }
   ],
   "source": [
    "from pyspark.ml.feature import Binarizer\n",
    "binarizer = Binarizer(threshold=0.0, inputCol=\"label\", outputCol=\"label2\")\n",
    "siDf = binarizer.transform(siDf)\n",
    "siDf.select('label','label2').show(10)"
   ]
  },
  {
   "cell_type": "markdown",
   "metadata": {
    "slideshow": {
     "slide_type": "subslide"
    }
   },
   "source": [
    "#### 데이터 선별\n",
    "\n",
    "svm은 이진분류만 가능하므로, 2가지 label만 분리한다."
   ]
  },
  {
   "cell_type": "code",
   "execution_count": 68,
   "metadata": {
    "collapsed": true
   },
   "outputs": [],
   "source": [
    "siDf_negPos=siDf.filter((siDf.label == 0.0 ) | (siDf.label== 2.0))"
   ]
  },
  {
   "cell_type": "markdown",
   "metadata": {
    "slideshow": {
     "slide_type": "subslide"
    }
   },
   "source": [
    "#### train, test\n",
    "\n",
    "이진분류 데이터를 훈련, 테스트로 분리하자."
   ]
  },
  {
   "cell_type": "code",
   "execution_count": 69,
   "metadata": {
    "collapsed": true
   },
   "outputs": [],
   "source": [
    "train_negPos, test_negPos = siDf_negPos.randomSplit([0.6,0.4])"
   ]
  },
  {
   "cell_type": "code",
   "execution_count": 70,
   "metadata": {
    "collapsed": false
   },
   "outputs": [
    {
     "name": "stdout",
     "output_type": "stream",
     "text": [
      "root\n",
      " |-- tweet_id: integer (nullable = false)\n",
      " |-- airline_sentiment: string (nullable = true)\n",
      " |-- negativereason: string (nullable = true)\n",
      " |-- airline: string (nullable = true)\n",
      " |-- airline_sentiment_gold: string (nullable = true)\n",
      " |-- name: string (nullable = true)\n",
      " |-- negativereason_gold: string (nullable = true)\n",
      " |-- retweet_count: integer (nullable = true)\n",
      " |-- text: string (nullable = true)\n",
      " |-- tweet_coord: string (nullable = true)\n",
      " |-- tweet_location: string (nullable = true)\n",
      " |-- user_timezone: string (nullable = true)\n",
      " |-- airline_sentiment_confidenceD: double (nullable = true)\n",
      " |-- tweet_createdDate: date (nullable = true)\n",
      " |-- textFiltered: string (nullable = true)\n",
      " |-- words: array (nullable = true)\n",
      " |    |-- element: string (containsNull = true)\n",
      " |-- features: vector (nullable = true)\n",
      " |-- label: double (nullable = true)\n",
      " |-- label2: double (nullable = true)\n",
      "\n"
     ]
    }
   ],
   "source": [
    "train_negPos.printSchema()"
   ]
  },
  {
   "cell_type": "markdown",
   "metadata": {
    "slideshow": {
     "slide_type": "subslide"
    }
   },
   "source": [
    "전체 갯수와 분리되 데이터의 갯수를 세어보자. ```StringIndexer()```에서 산출한 ```label```, ```Binarizer()```에서 산출한 ```label2``` 모두 갯수가 동일하다. 그럼에도 불구하고 label은 multiclass라는 오류가 발생한다. 혹시 소숫점 자릿수가 서로 다를 가능성도 있다. "
   ]
  },
  {
   "cell_type": "code",
   "execution_count": 71,
   "metadata": {
    "collapsed": false
   },
   "outputs": [
    {
     "data": {
      "text/plain": [
       "6843"
      ]
     },
     "execution_count": 71,
     "metadata": {},
     "output_type": "execute_result"
    }
   ],
   "source": [
    "train_negPos.count()"
   ]
  },
  {
   "cell_type": "code",
   "execution_count": 72,
   "metadata": {
    "collapsed": false
   },
   "outputs": [
    {
     "name": "stdout",
     "output_type": "stream",
     "text": [
      "+-----+-----+\n",
      "|label|count|\n",
      "+-----+-----+\n",
      "|  0.0| 5464|\n",
      "|  2.0| 1379|\n",
      "+-----+-----+\n",
      "\n"
     ]
    }
   ],
   "source": [
    "train_negPos.groupBy('label').count().show()"
   ]
  },
  {
   "cell_type": "code",
   "execution_count": 74,
   "metadata": {
    "collapsed": false
   },
   "outputs": [
    {
     "name": "stdout",
     "output_type": "stream",
     "text": [
      "+------+-----+\n",
      "|label2|count|\n",
      "+------+-----+\n",
      "|   0.0| 5464|\n",
      "|   1.0| 1379|\n",
      "+------+-----+\n",
      "\n"
     ]
    }
   ],
   "source": [
    "train_negPos.groupBy('label2').count().show()"
   ]
  },
  {
   "cell_type": "markdown",
   "metadata": {
    "collapsed": true
   },
   "source": [
    "test_negPos=test.filter(test.label != 2.0)"
   ]
  },
  {
   "cell_type": "code",
   "execution_count": 75,
   "metadata": {
    "collapsed": false
   },
   "outputs": [
    {
     "data": {
      "text/plain": [
       "4573"
      ]
     },
     "execution_count": 75,
     "metadata": {},
     "output_type": "execute_result"
    }
   ],
   "source": [
    "test_negPos.count()"
   ]
  },
  {
   "cell_type": "code",
   "execution_count": 76,
   "metadata": {
    "collapsed": false
   },
   "outputs": [
    {
     "name": "stdout",
     "output_type": "stream",
     "text": [
      "+-----+-----+\n",
      "|label|count|\n",
      "+-----+-----+\n",
      "|  0.0| 3618|\n",
      "|  2.0|  955|\n",
      "+-----+-----+\n",
      "\n"
     ]
    }
   ],
   "source": [
    "test_negPos.groupBy('label').count().show()"
   ]
  },
  {
   "cell_type": "markdown",
   "metadata": {
    "slideshow": {
     "slide_type": "subslide"
    }
   },
   "source": [
    "이진분류를 위한 label 값과 features를 산출하였다. 데이터를 일부 출력해서 오류가 있는지 확인해보자."
   ]
  },
  {
   "cell_type": "code",
   "execution_count": 77,
   "metadata": {
    "collapsed": false
   },
   "outputs": [
    {
     "name": "stdout",
     "output_type": "stream",
     "text": [
      "+-----------------+-----+------+--------------------+\n",
      "|airline_sentiment|label|label2|            features|\n",
      "+-----------------+-----+------+--------------------+\n",
      "|         negative|  0.0|   0.0|(30,[0,1,4,6,8,9,...|\n",
      "|         negative|  0.0|   0.0|(30,[7,8,14],[1.0...|\n",
      "|         negative|  0.0|   0.0|(30,[0,2,4,8,9,10...|\n",
      "|         negative|  0.0|   0.0|(30,[1,2,9],[2.0,...|\n",
      "|         negative|  0.0|   0.0|(30,[1,2,3,4,9,12...|\n",
      "|         negative|  0.0|   0.0|(30,[0,1,2,3,6,8,...|\n",
      "|         negative|  0.0|   0.0|(30,[0,6],[1.0,1.0])|\n",
      "|         negative|  0.0|   0.0|(30,[11,21],[1.0,...|\n",
      "|         negative|  0.0|   0.0|(30,[0,2,4,11,19]...|\n",
      "|         positive|  2.0|   1.0|(30,[2,3,7,8,10,2...|\n",
      "|         negative|  0.0|   0.0|(30,[0,5,9,10,21,...|\n",
      "|         negative|  0.0|   0.0|(30,[0,1,3,4,15,1...|\n",
      "|         negative|  0.0|   0.0|(30,[3,5,12,20,21...|\n",
      "|         positive|  2.0|   1.0|(30,[2,5,8,20,24]...|\n",
      "|         negative|  0.0|   0.0|(30,[0,3,6,15,21,...|\n",
      "|         negative|  0.0|   0.0|(30,[0,3,6,10,11,...|\n",
      "|         negative|  0.0|   0.0|(30,[0,2,3,6,7,17...|\n",
      "|         negative|  0.0|   0.0|(30,[0,1,11,12,13...|\n",
      "|         negative|  0.0|   0.0|(30,[1,4,9,22,23]...|\n",
      "|         negative|  0.0|   0.0|(30,[0,5,8],[1.0,...|\n",
      "|         negative|  0.0|   0.0|(30,[0,1,3,4,13,2...|\n",
      "|         positive|  2.0|   1.0|(30,[5,6,7,22],[1...|\n",
      "|         negative|  0.0|   0.0|(30,[5,18,27,28],...|\n",
      "|         negative|  0.0|   0.0|(30,[0,2,7,9,11,2...|\n",
      "|         negative|  0.0|   0.0|(30,[0,2,4,7,8,16...|\n",
      "|         positive|  2.0|   1.0|(30,[1,4,5,6,7,9,...|\n",
      "|         negative|  0.0|   0.0|(30,[0,5,7,9,17],...|\n",
      "|         negative|  0.0|   0.0|(30,[4,5,13],[1.0...|\n",
      "|         negative|  0.0|   0.0|(30,[1,2,3,5,6,7,...|\n",
      "|         negative|  0.0|   0.0|(30,[0,1,3,5,6,7,...|\n",
      "+-----------------+-----+------+--------------------+\n",
      "only showing top 30 rows\n",
      "\n"
     ]
    }
   ],
   "source": [
    "test_negPos.select('airline_sentiment','label','label2','features').show(30)"
   ]
  },
  {
   "cell_type": "markdown",
   "metadata": {
    "slideshow": {
     "slide_type": "subslide"
    }
   },
   "source": [
    "```LinearSVC()``` 함수는 svm모델 ```LinearSVCModel``` 객체를 만들고, 이 모델에 ```fit(입력데이터)```하여 모델이 입력데이터에 얼마나 잘 맞는지 볼 수 있다."
   ]
  },
  {
   "cell_type": "code",
   "execution_count": 78,
   "metadata": {
    "collapsed": false
   },
   "outputs": [],
   "source": [
    "from pyspark.ml.classification import LinearSVC\n",
    "svm = LinearSVC(maxIter=5, regParam=0.01, labelCol='label2', featuresCol='features')\n",
    "#svm = LinearSVC(maxIter=5, regParam=0.01)"
   ]
  },
  {
   "cell_type": "markdown",
   "metadata": {},
   "source": [
    "위에서 만들어진 모델은 ```pyspark.ml.classification.LinearSVCModel```을 말한다.\n",
    "```write().save(path)``` 함수는 모델을 저장하여 다음 세션에 적용할 경우 사용한다.\n",
    "예측에 사용할 경우 ```transform()``` 함수에 데이터를 넣어주면 된다."
   ]
  },
  {
   "cell_type": "code",
   "execution_count": 79,
   "metadata": {
    "collapsed": false
   },
   "outputs": [],
   "source": [
    "model = svm.fit(train_negPos)"
   ]
  },
  {
   "cell_type": "code",
   "execution_count": 80,
   "metadata": {
    "collapsed": false
   },
   "outputs": [
    {
     "data": {
      "text/plain": [
       "DenseVector([-0.1534, -0.1186, -0.0526, -0.121, -0.0044, -0.0333, -0.2153, -0.2352, -0.1449, -0.1603, -0.315, -0.1464, -0.0599, -0.3148, -0.187, -0.0959, -0.2421, -0.1581, -0.2057, -0.2092, -0.0621, -0.3462, -0.085, -0.1284, -0.1997, -0.4196, -0.1606, -0.1407, -0.1773, -0.1836])"
      ]
     },
     "execution_count": 80,
     "metadata": {},
     "output_type": "execute_result"
    }
   ],
   "source": [
    "model.coefficients"
   ]
  },
  {
   "cell_type": "code",
   "execution_count": 81,
   "metadata": {
    "collapsed": false
   },
   "outputs": [
    {
     "data": {
      "text/plain": [
       "-0.2421599222008503"
      ]
     },
     "execution_count": 81,
     "metadata": {},
     "output_type": "execute_result"
    }
   ],
   "source": [
    "model.intercept"
   ]
  },
  {
   "cell_type": "code",
   "execution_count": 82,
   "metadata": {
    "collapsed": false
   },
   "outputs": [
    {
     "data": {
      "text/plain": [
       "2"
      ]
     },
     "execution_count": 82,
     "metadata": {},
     "output_type": "execute_result"
    }
   ],
   "source": [
    "model.numClasses"
   ]
  },
  {
   "cell_type": "code",
   "execution_count": 83,
   "metadata": {
    "collapsed": false
   },
   "outputs": [
    {
     "data": {
      "text/plain": [
       "30"
      ]
     },
     "execution_count": 83,
     "metadata": {},
     "output_type": "execute_result"
    }
   ],
   "source": [
    "model.numFeatures"
   ]
  },
  {
   "cell_type": "markdown",
   "metadata": {},
   "source": [
    "### predict\n",
    "\n",
    "transforms the input dataset with optional parameters.\n",
    "```transform()``` 함수는 ```prediction```, ```rawPrediction``` 2 컬럼을 만들어 준다.\n",
    " 또는 ```transform()``` 함수로 예측 값을 계산할 수 있다."
   ]
  },
  {
   "cell_type": "code",
   "execution_count": 84,
   "metadata": {
    "collapsed": false
   },
   "outputs": [
    {
     "data": {
      "text/plain": [
       "Row(tweet_id=-2146156544, airline_sentiment=u'negative', negativereason=u'Lost Luggage', airline=u'US Airways', airline_sentiment_gold=u'', name=u'scheds14', negativereason_gold=u'', retweet_count=0, text=u\"@USAirways I didn't Cancelled Flight my flight, you did. Than you loved me to another flight and forgot my bags\", tweet_coord=u'', tweet_location=u'Phoenix, AZ', user_timezone=u'', airline_sentiment_confidenceD=1.0, tweet_createdDate=datetime.date(2015, 2, 18), textFiltered=u'I didn t Cancelled Flight my flight you did Than you loved me to another flight and forgot my bags', words=[u'i', u'didn', u't', u'cancelled', u'flight', u'my', u'flight', u'you', u'did', u'than', u'you', u'loved', u'me', u'to', u'another', u'flight', u'and', u'forgot', u'my', u'bags'], features=SparseVector(30, {0: 1.0, 1: 1.0, 4: 2.0, 6: 3.0, 8: 1.0, 9: 2.0, 13: 1.0, 15: 1.0}), label=0.0, label2=0.0, rawPrediction=DenseVector([2.0452, -2.0452]), prediction=0.0)"
      ]
     },
     "execution_count": 84,
     "metadata": {},
     "output_type": "execute_result"
    }
   ],
   "source": [
    "model.transform(test_negPos).head()"
   ]
  },
  {
   "cell_type": "code",
   "execution_count": 85,
   "metadata": {
    "collapsed": false
   },
   "outputs": [
    {
     "data": {
      "text/plain": [
       "[Row(tweet_id=-2146156544, airline_sentiment=u'negative', negativereason=u'Lost Luggage', airline=u'US Airways', airline_sentiment_gold=u'', name=u'scheds14', negativereason_gold=u'', retweet_count=0, text=u\"@USAirways I didn't Cancelled Flight my flight, you did. Than you loved me to another flight and forgot my bags\", tweet_coord=u'', tweet_location=u'Phoenix, AZ', user_timezone=u'', airline_sentiment_confidenceD=1.0, tweet_createdDate=datetime.date(2015, 2, 18), textFiltered=u'I didn t Cancelled Flight my flight you did Than you loved me to another flight and forgot my bags', words=[u'i', u'didn', u't', u'cancelled', u'flight', u'my', u'flight', u'you', u'did', u'than', u'you', u'loved', u'me', u'to', u'another', u'flight', u'and', u'forgot', u'my', u'bags'], features=SparseVector(30, {0: 1.0, 1: 1.0, 4: 2.0, 6: 3.0, 8: 1.0, 9: 2.0, 13: 1.0, 15: 1.0}), label=0.0, label2=0.0, rawPrediction=DenseVector([2.0452, -2.0452]), prediction=0.0),\n",
       " Row(tweet_id=-2145992704, airline_sentiment=u'negative', negativereason=u'Customer Service Issue', airline=u'US Airways', airline_sentiment_gold=u'', name=u'mjmohr24', negativereason_gold=u'', retweet_count=0, text=u'@USAirways Ever sit on hold and just lose track of time? http://t.co/Yqhk8LJaBN', tweet_coord=u'[42.2017895, -88.337723]', tweet_location=u'Crystal Lake, IL', user_timezone=u'Mountain Time (US & Canada)', airline_sentiment_confidenceD=1.0, tweet_createdDate=datetime.date(2015, 2, 20), textFiltered=u'Ever sit on hold and just lose track of time', words=[u'ever', u'sit', u'on', u'hold', u'and', u'just', u'lose', u'track', u'of', u'time'], features=SparseVector(30, {7: 1.0, 8: 1.0, 14: 1.0}), label=0.0, label2=0.0, rawPrediction=DenseVector([0.8093, -0.8093]), prediction=0.0)]"
      ]
     },
     "execution_count": 85,
     "metadata": {},
     "output_type": "execute_result"
    }
   ],
   "source": [
    "model.transform(test_negPos).take(2)"
   ]
  },
  {
   "cell_type": "code",
   "execution_count": 86,
   "metadata": {
    "collapsed": true
   },
   "outputs": [],
   "source": [
    "result=model.transform(test_negPos)"
   ]
  },
  {
   "cell_type": "code",
   "execution_count": 88,
   "metadata": {
    "collapsed": false
   },
   "outputs": [
    {
     "name": "stdout",
     "output_type": "stream",
     "text": [
      "+-----+------+----------+\n",
      "|label|label2|prediction|\n",
      "+-----+------+----------+\n",
      "|  0.0|   0.0|       0.0|\n",
      "|  0.0|   0.0|       0.0|\n",
      "|  0.0|   0.0|       0.0|\n",
      "|  0.0|   0.0|       0.0|\n",
      "|  0.0|   0.0|       0.0|\n",
      "|  0.0|   0.0|       0.0|\n",
      "|  0.0|   0.0|       0.0|\n",
      "|  0.0|   0.0|       0.0|\n",
      "|  0.0|   0.0|       0.0|\n",
      "|  2.0|   1.0|       0.0|\n",
      "|  0.0|   0.0|       0.0|\n",
      "|  0.0|   0.0|       0.0|\n",
      "|  0.0|   0.0|       0.0|\n",
      "|  2.0|   1.0|       0.0|\n",
      "|  0.0|   0.0|       0.0|\n",
      "|  0.0|   0.0|       0.0|\n",
      "|  0.0|   0.0|       0.0|\n",
      "|  0.0|   0.0|       0.0|\n",
      "|  0.0|   0.0|       0.0|\n",
      "|  0.0|   0.0|       0.0|\n",
      "|  0.0|   0.0|       0.0|\n",
      "|  2.0|   1.0|       0.0|\n",
      "|  0.0|   0.0|       0.0|\n",
      "|  0.0|   0.0|       0.0|\n",
      "|  0.0|   0.0|       0.0|\n",
      "|  2.0|   1.0|       0.0|\n",
      "|  0.0|   0.0|       0.0|\n",
      "|  0.0|   0.0|       0.0|\n",
      "|  0.0|   0.0|       0.0|\n",
      "|  0.0|   0.0|       0.0|\n",
      "|  2.0|   1.0|       0.0|\n",
      "|  0.0|   0.0|       0.0|\n",
      "|  0.0|   0.0|       0.0|\n",
      "|  0.0|   0.0|       0.0|\n",
      "|  0.0|   0.0|       0.0|\n",
      "|  0.0|   0.0|       0.0|\n",
      "|  0.0|   0.0|       0.0|\n",
      "|  0.0|   0.0|       0.0|\n",
      "|  0.0|   0.0|       0.0|\n",
      "|  2.0|   1.0|       0.0|\n",
      "|  0.0|   0.0|       0.0|\n",
      "|  0.0|   0.0|       0.0|\n",
      "|  0.0|   0.0|       0.0|\n",
      "|  0.0|   0.0|       0.0|\n",
      "|  0.0|   0.0|       0.0|\n",
      "|  0.0|   0.0|       0.0|\n",
      "|  2.0|   1.0|       0.0|\n",
      "|  0.0|   0.0|       0.0|\n",
      "|  0.0|   0.0|       0.0|\n",
      "|  2.0|   1.0|       0.0|\n",
      "|  0.0|   0.0|       0.0|\n",
      "|  0.0|   0.0|       0.0|\n",
      "|  2.0|   1.0|       0.0|\n",
      "|  0.0|   0.0|       0.0|\n",
      "|  2.0|   1.0|       0.0|\n",
      "|  0.0|   0.0|       0.0|\n",
      "|  0.0|   0.0|       0.0|\n",
      "|  0.0|   0.0|       0.0|\n",
      "|  0.0|   0.0|       0.0|\n",
      "|  2.0|   1.0|       0.0|\n",
      "|  0.0|   0.0|       0.0|\n",
      "|  0.0|   0.0|       0.0|\n",
      "|  0.0|   0.0|       0.0|\n",
      "|  0.0|   0.0|       0.0|\n",
      "|  0.0|   0.0|       0.0|\n",
      "|  0.0|   0.0|       0.0|\n",
      "|  0.0|   0.0|       0.0|\n",
      "|  2.0|   1.0|       0.0|\n",
      "|  0.0|   0.0|       0.0|\n",
      "|  0.0|   0.0|       0.0|\n",
      "|  0.0|   0.0|       0.0|\n",
      "|  0.0|   0.0|       0.0|\n",
      "|  0.0|   0.0|       0.0|\n",
      "|  0.0|   0.0|       0.0|\n",
      "|  0.0|   0.0|       0.0|\n",
      "|  0.0|   0.0|       0.0|\n",
      "|  0.0|   0.0|       0.0|\n",
      "|  0.0|   0.0|       0.0|\n",
      "|  2.0|   1.0|       0.0|\n",
      "|  2.0|   1.0|       0.0|\n",
      "|  0.0|   0.0|       0.0|\n",
      "|  0.0|   0.0|       0.0|\n",
      "|  0.0|   0.0|       0.0|\n",
      "|  0.0|   0.0|       0.0|\n",
      "|  0.0|   0.0|       0.0|\n",
      "|  0.0|   0.0|       0.0|\n",
      "|  0.0|   0.0|       0.0|\n",
      "|  0.0|   0.0|       0.0|\n",
      "|  2.0|   1.0|       0.0|\n",
      "|  0.0|   0.0|       0.0|\n",
      "|  2.0|   1.0|       0.0|\n",
      "|  0.0|   0.0|       0.0|\n",
      "|  0.0|   0.0|       0.0|\n",
      "|  0.0|   0.0|       0.0|\n",
      "|  0.0|   0.0|       0.0|\n",
      "|  0.0|   0.0|       0.0|\n",
      "|  0.0|   0.0|       0.0|\n",
      "|  0.0|   0.0|       0.0|\n",
      "|  0.0|   0.0|       0.0|\n",
      "|  0.0|   0.0|       0.0|\n",
      "+-----+------+----------+\n",
      "only showing top 100 rows\n",
      "\n"
     ]
    }
   ],
   "source": [
    "model.transform(test_negPos).select('label','label2','prediction').show(100)"
   ]
  },
  {
   "cell_type": "code",
   "execution_count": 89,
   "metadata": {
    "collapsed": false
   },
   "outputs": [
    {
     "name": "stdout",
     "output_type": "stream",
     "text": [
      "+-----+------+----------+\n",
      "|label|label2|prediction|\n",
      "+-----+------+----------+\n",
      "|  0.0|   0.0|       0.0|\n",
      "|  0.0|   0.0|       0.0|\n",
      "|  2.0|   1.0|       0.0|\n",
      "|  0.0|   0.0|       0.0|\n",
      "|  0.0|   0.0|       0.0|\n",
      "|  0.0|   0.0|       0.0|\n",
      "|  0.0|   0.0|       0.0|\n",
      "|  2.0|   1.0|       0.0|\n",
      "|  0.0|   0.0|       0.0|\n",
      "|  0.0|   0.0|       0.0|\n",
      "|  0.0|   0.0|       0.0|\n",
      "|  0.0|   0.0|       0.0|\n",
      "|  0.0|   0.0|       0.0|\n",
      "|  0.0|   0.0|       0.0|\n",
      "|  0.0|   0.0|       0.0|\n",
      "|  2.0|   1.0|       0.0|\n",
      "|  0.0|   0.0|       0.0|\n",
      "|  0.0|   0.0|       0.0|\n",
      "|  2.0|   1.0|       0.0|\n",
      "|  2.0|   1.0|       0.0|\n",
      "|  2.0|   1.0|       0.0|\n",
      "|  0.0|   0.0|       0.0|\n",
      "|  0.0|   0.0|       0.0|\n",
      "|  2.0|   1.0|       0.0|\n",
      "|  0.0|   0.0|       0.0|\n",
      "|  2.0|   1.0|       0.0|\n",
      "|  2.0|   1.0|       0.0|\n",
      "|  0.0|   0.0|       0.0|\n",
      "|  0.0|   0.0|       0.0|\n",
      "|  0.0|   0.0|       0.0|\n",
      "|  0.0|   0.0|       0.0|\n",
      "|  0.0|   0.0|       0.0|\n",
      "|  0.0|   0.0|       0.0|\n",
      "|  0.0|   0.0|       0.0|\n",
      "|  2.0|   1.0|       0.0|\n",
      "|  0.0|   0.0|       0.0|\n",
      "|  0.0|   0.0|       0.0|\n",
      "|  0.0|   0.0|       0.0|\n",
      "|  2.0|   1.0|       0.0|\n",
      "|  0.0|   0.0|       0.0|\n",
      "|  0.0|   0.0|       0.0|\n",
      "|  2.0|   1.0|       0.0|\n",
      "|  0.0|   0.0|       0.0|\n",
      "|  0.0|   0.0|       0.0|\n",
      "|  0.0|   0.0|       0.0|\n",
      "|  0.0|   0.0|       0.0|\n",
      "|  0.0|   0.0|       0.0|\n",
      "|  0.0|   0.0|       0.0|\n",
      "|  0.0|   0.0|       0.0|\n",
      "|  2.0|   1.0|       0.0|\n",
      "|  0.0|   0.0|       0.0|\n",
      "|  0.0|   0.0|       0.0|\n",
      "|  0.0|   0.0|       0.0|\n",
      "|  2.0|   1.0|       0.0|\n",
      "|  0.0|   0.0|       0.0|\n",
      "|  2.0|   1.0|       0.0|\n",
      "|  0.0|   0.0|       0.0|\n",
      "|  0.0|   0.0|       0.0|\n",
      "|  0.0|   0.0|       0.0|\n",
      "|  0.0|   0.0|       0.0|\n",
      "|  2.0|   1.0|       0.0|\n",
      "|  0.0|   0.0|       0.0|\n",
      "|  2.0|   1.0|       0.0|\n",
      "|  0.0|   0.0|       0.0|\n",
      "|  0.0|   0.0|       0.0|\n",
      "|  0.0|   0.0|       0.0|\n",
      "|  0.0|   0.0|       0.0|\n",
      "|  0.0|   0.0|       0.0|\n",
      "|  0.0|   0.0|       0.0|\n",
      "|  0.0|   0.0|       0.0|\n",
      "|  2.0|   1.0|       0.0|\n",
      "|  0.0|   0.0|       0.0|\n",
      "|  0.0|   0.0|       0.0|\n",
      "|  0.0|   0.0|       0.0|\n",
      "|  0.0|   0.0|       0.0|\n",
      "|  0.0|   0.0|       0.0|\n",
      "|  0.0|   0.0|       0.0|\n",
      "|  0.0|   0.0|       0.0|\n",
      "|  0.0|   0.0|       0.0|\n",
      "|  0.0|   0.0|       0.0|\n",
      "|  0.0|   0.0|       0.0|\n",
      "|  0.0|   0.0|       0.0|\n",
      "|  0.0|   0.0|       0.0|\n",
      "|  0.0|   0.0|       0.0|\n",
      "|  2.0|   1.0|       0.0|\n",
      "|  0.0|   0.0|       0.0|\n",
      "|  0.0|   0.0|       0.0|\n",
      "|  0.0|   0.0|       0.0|\n",
      "|  0.0|   0.0|       0.0|\n",
      "|  2.0|   1.0|       0.0|\n",
      "|  0.0|   0.0|       0.0|\n",
      "|  0.0|   0.0|       0.0|\n",
      "|  2.0|   1.0|       0.0|\n",
      "|  0.0|   0.0|       0.0|\n",
      "|  2.0|   1.0|       0.0|\n",
      "|  0.0|   0.0|       0.0|\n",
      "|  0.0|   0.0|       0.0|\n",
      "|  2.0|   1.0|       0.0|\n",
      "|  0.0|   0.0|       0.0|\n",
      "|  2.0|   1.0|       0.0|\n",
      "+-----+------+----------+\n",
      "only showing top 100 rows\n",
      "\n"
     ]
    }
   ],
   "source": [
    "model.transform(train_negPos).select('label','label2','prediction').show(100)"
   ]
  },
  {
   "cell_type": "code",
   "execution_count": 90,
   "metadata": {
    "collapsed": false
   },
   "outputs": [
    {
     "name": "stdout",
     "output_type": "stream",
     "text": [
      "+------+----------+\n",
      "|label2|prediction|\n",
      "+------+----------+\n",
      "|   0.0|       0.0|\n",
      "|   0.0|       0.0|\n",
      "|   0.0|       0.0|\n",
      "|   0.0|       0.0|\n",
      "|   0.0|       0.0|\n",
      "|   0.0|       0.0|\n",
      "|   0.0|       0.0|\n",
      "|   0.0|       0.0|\n",
      "|   0.0|       0.0|\n",
      "|   1.0|       0.0|\n",
      "|   0.0|       0.0|\n",
      "|   0.0|       0.0|\n",
      "|   0.0|       0.0|\n",
      "|   1.0|       0.0|\n",
      "|   0.0|       0.0|\n",
      "|   0.0|       0.0|\n",
      "|   0.0|       0.0|\n",
      "|   0.0|       0.0|\n",
      "|   0.0|       0.0|\n",
      "|   0.0|       0.0|\n",
      "+------+----------+\n",
      "only showing top 20 rows\n",
      "\n"
     ]
    }
   ],
   "source": [
    "result.select('label2','prediction').show()"
   ]
  },
  {
   "cell_type": "markdown",
   "metadata": {
    "collapsed": true
   },
   "source": [
    "### Logistic Regression 다중분류"
   ]
  },
  {
   "cell_type": "code",
   "execution_count": null,
   "metadata": {
    "collapsed": true
   },
   "outputs": [],
   "source": []
  },
  {
   "cell_type": "code",
   "execution_count": null,
   "metadata": {
    "collapsed": true
   },
   "outputs": [],
   "source": []
  },
  {
   "cell_type": "code",
   "execution_count": null,
   "metadata": {
    "collapsed": true
   },
   "outputs": [],
   "source": []
  },
  {
   "cell_type": "code",
   "execution_count": null,
   "metadata": {
    "collapsed": true
   },
   "outputs": [],
   "source": []
  }
 ],
 "metadata": {
  "celltoolbar": "Slideshow",
  "kernelspec": {
   "display_name": "Python 2",
   "language": "python",
   "name": "python2"
  },
  "language_info": {
   "codemirror_mode": {
    "name": "ipython",
    "version": 2
   },
   "file_extension": ".py",
   "mimetype": "text/x-python",
   "name": "python",
   "nbconvert_exporter": "python",
   "pygments_lexer": "ipython2",
   "version": "2.7.17"
  }
 },
 "nbformat": 4,
 "nbformat_minor": 0
}
