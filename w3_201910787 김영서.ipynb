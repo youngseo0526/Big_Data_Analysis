{
 "cells": [
  {
   "cell_type": "markdown",
   "metadata": {},
   "source": [
    "### 휴먼지능정보공학과 201910787 김영서"
   ]
  },
  {
   "cell_type": "markdown",
   "metadata": {},
   "source": [
    "- 문제 1: 오픈API를 통해 데이터를 5천 ~ 1만 건 정도 수집해서 파일로 저장한다 (초과해도 좋다).<br>\n",
    "열린데이터, 공공데이터 또는 (할 수 있다면) 트위터와 같은 SNS, 댓글 등 적합한 소스를 자신이 선택한다.<br>\n",
    "과정의 후반으로 가서, 이 데이터를 분석하는 과제가 주어지게 된다.<br>\n",
    "프로그램에서 몇 건을 읽었는지와 마지막 줄을 화면 출력한다.<br>\n",
    "!dir 명령어로 파일이 존재하는지 출력한다. 1만 건 정도 저장되었으니 파일의 크기가 적당한지 가늠해보자\n",
    "\n",
    "\n",
    "\n",
    "- 문제 2: 노트북에서 pyspark 실행<br>\n",
    "주피터 노트북을 실행한 후, 셀에서 아래 명령어를 실행하여 spark를 생성하고, 그 버전을 출력하세요. <br>\n",
    "\n",
    "[In] spark.version <br>\n",
    "[Out] '3.x.x'<br>\n",
    "그리고 다음과 같이 버전을 출력한다.<br>\n",
    "pyspark는 jdk가 설치되어 있어야 한다.<br>\n",
    "!java --version   #spark v2.x는 java 8이 적당.<br>\n",
    "!javac --version  #java 버전과 동일한지 확인한다.<br>\n",
    "!python --version  <br>\n",
    "!python3 --version # python 2, 3 멀티 버전이 설치된 경우에만 출력<br>\n",
    "import sys<br>\n",
    "print(sys.version) # 자신이 사용하는 python 버전과 동일한지 확인한다.<br>\n",
    "\n",
    "\n",
    "\n",
    "- 문제 3: 다음 파일을 읽어서 RDD를 생성하고, 5줄을 화면출력하세요.<br>\n",
    "결과가 깨져보인다면, 그 이유를 간단히 적으세요.<br>\n",
    "\n",
    "1) 경기도 의정부시 인구현황 (파일명: ```경기도 의정부시_인구현황_20200904```)<br>\n",
    "https://www.data.go.kr/data/15009613/fileData.do\n",
    "\n",
    "\n",
    "2) 제주특별자치도 서귀포시 내 연도별 65세이상 인구수 및 고령화비율, 노령화지수 현황 (파일명: ```제주특별자치도 서귀포시_고령화비율및노령화지수현황_20200623```)<br>\n",
    "https://www.data.go.kr/data/15051545/fileData.do"
   ]
  },
  {
   "cell_type": "markdown",
   "metadata": {},
   "source": [
    "### 문제1 답"
   ]
  },
  {
   "cell_type": "markdown",
   "metadata": {},
   "source": [
    "* 서울시 개인서비스 요금 정보<br>\n",
    "http://data.seoul.go.kr/dataList/OA-1169/S/1/datasetView.do"
   ]
  },
  {
   "cell_type": "markdown",
   "metadata": {},
   "source": [
    "### 인증키"
   ]
  },
  {
   "cell_type": "code",
   "execution_count": 99,
   "metadata": {},
   "outputs": [
    {
     "name": "stdout",
     "output_type": "stream",
     "text": [
      "Overwriting src/key.properties\n"
     ]
    }
   ],
   "source": [
    "%%writefile src/key.properties\n",
    "dataseoul=4e6b7476757a617133384842775573\n",
    "gokr=8Bx4C1%2Bbogiu3i0M5k7aqOf%2BTA5yCWK%2BFDI7nTSJ0oAhDj1NC5CtbI1TMgFmnpuZxJ9LBoCScqBhuw5sul2tmQ%3D%3D"
   ]
  },
  {
   "cell_type": "code",
   "execution_count": 100,
   "metadata": {},
   "outputs": [],
   "source": [
    "import os\n",
    "import src.mylib\n",
    "\n",
    "keyPath=os.path.join(os.getcwd(), 'src', 'key.properties')\n",
    "key=src.mylib.getKey(keyPath)\n",
    "KEY=str(key['dataseoul'])"
   ]
  },
  {
   "cell_type": "markdown",
   "metadata": {},
   "source": [
    "### 요청인자"
   ]
  },
  {
   "cell_type": "code",
   "execution_count": 101,
   "metadata": {},
   "outputs": [],
   "source": [
    "# api\n",
    "TYPE='json'\n",
    "SERVICE='IndividualServiceChargeService'\n",
    "START_INDEX=str(1)\n",
    "END_INDEX=str(10)"
   ]
  },
  {
   "cell_type": "markdown",
   "metadata": {},
   "source": [
    "### url"
   ]
  },
  {
   "cell_type": "code",
   "execution_count": 102,
   "metadata": {},
   "outputs": [
    {
     "name": "stdout",
     "output_type": "stream",
     "text": [
      "4e6b7476757a617133384842775573/json/IndividualServiceChargeService/1/10\n"
     ]
    }
   ],
   "source": [
    "params=\"/\".join([KEY,TYPE,SERVICE,START_INDEX,END_INDEX])\n",
    "print(params)"
   ]
  },
  {
   "cell_type": "code",
   "execution_count": 103,
   "metadata": {},
   "outputs": [
    {
     "name": "stdout",
     "output_type": "stream",
     "text": [
      "http://openAPI.seoul.go.kr:8088/4e6b7476757a617133384842775573/json/IndividualServiceChargeService/1/10\n"
     ]
    }
   ],
   "source": [
    "import urllib\n",
    "_url='http://openAPI.seoul.go.kr:8088/'\n",
    "url=urllib.parse.urljoin(_url,params)\n",
    "print(url) # backslashes removed"
   ]
  },
  {
   "cell_type": "markdown",
   "metadata": {},
   "source": [
    "### url 호출"
   ]
  },
  {
   "cell_type": "code",
   "execution_count": 104,
   "metadata": {},
   "outputs": [],
   "source": [
    "import requests\n",
    "\n",
    "r=requests.get(url)"
   ]
  },
  {
   "cell_type": "code",
   "execution_count": 105,
   "metadata": {},
   "outputs": [],
   "source": [
    "charge=r.json()"
   ]
  },
  {
   "cell_type": "code",
   "execution_count": 106,
   "metadata": {},
   "outputs": [
    {
     "name": "stdout",
     "output_type": "stream",
     "text": [
      "{'IndividualServiceChargeService': {'list_total_count': 7835, 'RESULT': {'CODE': 'INFO-000', 'MESSAGE': '정상 처리되었습니다'}, 'row': [{'BSSH_NM': '핑클세탁소', 'BSSH_SEQ_NO': 1418890707533.0, 'INDUTY_DESC': '세탁업', 'TLPHON_NO_CN': '02-888-8380', 'AR': '', 'LEGALDONG_NM': '봉천동', 'ADRES_CN2': '서울특별시 관악구 관악로37길 15 (봉천동)', 'PRDLST_CODE_SE': '1418622761392', 'PRDLST_DESC': '양복 세탁료', 'PC': 8000.0, 'CHCK_MD': '2021-09-15 00:00:00.0', 'GU_NM': '관악구'}, {'BSSH_NM': '전주식당', 'BSSH_SEQ_NO': 1501655118455.0, 'INDUTY_DESC': '한식', 'TLPHON_NO_CN': '02-873-0157', 'AR': '', 'LEGALDONG_NM': '봉천동', 'ADRES_CN2': '서울특별시 관악구 관악로14길 105 (봉천동)', 'PRDLST_CODE_SE': '1418622761373', 'PRDLST_DESC': '삼겹살', 'PC': 13000.0, 'CHCK_MD': '2021-09-15 00:00:00.0', 'GU_NM': '관악구'}, {'BSSH_NM': '전주식당', 'BSSH_SEQ_NO': 1501655118455.0, 'INDUTY_DESC': '한식', 'TLPHON_NO_CN': '02-873-0157', 'AR': '', 'LEGALDONG_NM': '봉천동', 'ADRES_CN2': '서울특별시 관악구 관악로14길 105 (봉천동)', 'PRDLST_CODE_SE': '1418622761372', 'PRDLST_DESC': '된장찌개 백반', 'PC': 7000.0, 'CHCK_MD': '2021-09-15 00:00:00.0', 'GU_NM': '관악구'}, {'BSSH_NM': '풍년집', 'BSSH_SEQ_NO': 1501655033441.0, 'INDUTY_DESC': '한식', 'TLPHON_NO_CN': '02-521-1627', 'AR': '', 'LEGALDONG_NM': '봉천동', 'ADRES_CN2': '서울특별시 관악구 남부순환로230길 32 (봉천동)', 'PRDLST_CODE_SE': '1418622761384', 'PRDLST_DESC': '김치찌개 백반', 'PC': 8000.0, 'CHCK_MD': '2021-09-15 00:00:00.0', 'GU_NM': '관악구'}, {'BSSH_NM': '풍년집', 'BSSH_SEQ_NO': 1501655033441.0, 'INDUTY_DESC': '한식', 'TLPHON_NO_CN': '02-521-1627', 'AR': '', 'LEGALDONG_NM': '봉천동', 'ADRES_CN2': '서울특별시 관악구 남부순환로230길 32 (봉천동)', 'PRDLST_CODE_SE': '1418622761373', 'PRDLST_DESC': '삼겹살', 'PC': 13000.0, 'CHCK_MD': '2021-09-15 00:00:00.0', 'GU_NM': '관악구'}, {'BSSH_NM': '풍년집', 'BSSH_SEQ_NO': 1501655033441.0, 'INDUTY_DESC': '한식', 'TLPHON_NO_CN': '02-521-1627', 'AR': '', 'LEGALDONG_NM': '봉천동', 'ADRES_CN2': '서울특별시 관악구 남부순환로230길 32 (봉천동)', 'PRDLST_CODE_SE': '1418622761372', 'PRDLST_DESC': '된장찌개 백반', 'PC': 6000.0, 'CHCK_MD': '2021-09-15 00:00:00.0', 'GU_NM': '관악구'}, {'BSSH_NM': '샤로수흑돈', 'BSSH_SEQ_NO': 1501654951012.0, 'INDUTY_DESC': '한식', 'TLPHON_NO_CN': '02-887-0124', 'AR': '', 'LEGALDONG_NM': '봉천동', 'ADRES_CN2': '서울특별시 관악구 남부순환로234길 22 (봉천동)', 'PRDLST_CODE_SE': '1418622761384', 'PRDLST_DESC': '김치찌개 백반', 'PC': 7000.0, 'CHCK_MD': '2021-09-15 00:00:00.0', 'GU_NM': '관악구'}, {'BSSH_NM': '삼차', 'BSSH_SEQ_NO': 1462155820586.0, 'INDUTY_DESC': '한식', 'TLPHON_NO_CN': '02-882-7797', 'AR': '', 'LEGALDONG_NM': '봉천동', 'ADRES_CN2': '서울특별시 관악구 남부순환로224길 13 (봉천동, 마이홈리빙텔)', 'PRDLST_CODE_SE': '1418622761384', 'PRDLST_DESC': '김치찌개 백반', 'PC': 6000.0, 'CHCK_MD': '2021-09-15 00:00:00.0', 'GU_NM': '관악구'}, {'BSSH_NM': '삼차', 'BSSH_SEQ_NO': 1462155820586.0, 'INDUTY_DESC': '한식', 'TLPHON_NO_CN': '02-882-7797', 'AR': '', 'LEGALDONG_NM': '봉천동', 'ADRES_CN2': '서울특별시 관악구 남부순환로224길 13 (봉천동, 마이홈리빙텔)', 'PRDLST_CODE_SE': '1418622761373', 'PRDLST_DESC': '삼겹살', 'PC': 12000.0, 'CHCK_MD': '2021-09-15 00:00:00.0', 'GU_NM': '관악구'}, {'BSSH_NM': '삼차', 'BSSH_SEQ_NO': 1462155820586.0, 'INDUTY_DESC': '한식', 'TLPHON_NO_CN': '02-882-7797', 'AR': '', 'LEGALDONG_NM': '봉천동', 'ADRES_CN2': '서울특별시 관악구 남부순환로224길 13 (봉천동, 마이홈리빙텔)', 'PRDLST_CODE_SE': '1418622761372', 'PRDLST_DESC': '된장찌개 백반', 'PC': 6000.0, 'CHCK_MD': '2021-09-15 00:00:00.0', 'GU_NM': '관악구'}]}}\n"
     ]
    }
   ],
   "source": [
    "print(charge)"
   ]
  },
  {
   "cell_type": "code",
   "execution_count": 168,
   "metadata": {},
   "outputs": [
    {
     "name": "stdout",
     "output_type": "stream",
     "text": [
      "Overwriting src/ds_open_IndividualServiceChargeService_json.py\n"
     ]
    }
   ],
   "source": [
    "%%writefile src/ds_open_IndividualServiceChargeService_json.py\n",
    "#!/usr/bin/env python\n",
    "#coding: utf-8\n",
    "import sys\n",
    "import os\n",
    "import requests\n",
    "import urllib\n",
    "import mylib # NO! src.mylib\n",
    "    \n",
    "def doIt():\n",
    "    keyPath=os.path.join(os.getcwd(), 'src', 'key.properties')\n",
    "    key=mylib.getKey(keyPath)\n",
    "    # (1) make params with resource IDs\n",
    "    KEY=str(key['dataseoul'])\n",
    "    # api\n",
    "    TYPE='json'\n",
    "    SERVICE='IndividualServiceChargeService'\n",
    "    START_INDEX=str(1)\n",
    "    END_INDEX=str(10)\n",
    "    startIndex=1\n",
    "    endIndex=10\n",
    "    list_total_count=0\n",
    "    \n",
    "    while True:\n",
    "        #sys.stdout = open('src/ds_open_IndividualServiceChargeService_xml.txt', 'w')\n",
    "        START_INDEX=str(startIndex)\n",
    "        END_INDEX=str(endIndex)\n",
    "        params=\"/\".join([KEY,TYPE,SERVICE,START_INDEX,END_INDEX])\n",
    "        _url='http://openAPI.seoul.go.kr:8088' \n",
    "        url=\"/\".join([_url,params])\n",
    "        r=requests.get(url)\n",
    "        charge=r.json()\n",
    "        if(startIndex==1):\n",
    "            list_total_count=charge['IndividualServiceChargeService']['list_total_count']\n",
    "            print(\"---- 가져온 데이터 건 수:\", list_total_count)\n",
    "        startIndex+=10\n",
    "        endIndex+=10\n",
    "        if(endIndex > list_total_count):\n",
    "            for e in charge['IndividualServiceChargeService']['row']:\n",
    "                print (charge['IndividualServiceChargeService']['row'])\n",
    "            print(\"----- Ending endIndex=\",endIndex)\n",
    "            #sys.stdout.close()\n",
    "            break\n",
    "\n",
    "if __name__ == \"__main__\":\n",
    "    doIt()\n"
   ]
  },
  {
   "cell_type": "code",
   "execution_count": 169,
   "metadata": {},
   "outputs": [
    {
     "name": "stdout",
     "output_type": "stream",
     "text": [
      "---- 가져온 데이터 건 수: 7835\n",
      "[{'BSSH_NM': '삼지', 'BSSH_SEQ_NO': 1418890661033.0, 'INDUTY_DESC': '한식', 'TLPHON_NO_CN': '02-763-8264', 'AR': '', 'LEGALDONG_NM': '재동', 'ADRES_CN2': '서울특별시 종로구 북촌로2길 5-7 (재동)', 'PRDLST_CODE_SE': '1418622761384', 'PRDLST_DESC': '김치찌개 백반', 'PC': 7000.0, 'CHCK_MD': '2021-08-18 00:00:00.0', 'GU_NM': '종로구'}, {'BSSH_NM': '삼지', 'BSSH_SEQ_NO': 1418890661033.0, 'INDUTY_DESC': '한식', 'TLPHON_NO_CN': '02-763-8264', 'AR': '', 'LEGALDONG_NM': '재동', 'ADRES_CN2': '서울특별시 종로구 북촌로2길 5-7 (재동)', 'PRDLST_CODE_SE': '1418622761373', 'PRDLST_DESC': '삼겹살', 'PC': 14000.0, 'CHCK_MD': '2021-08-18 00:00:00.0', 'GU_NM': '종로구'}, {'BSSH_NM': '삼지', 'BSSH_SEQ_NO': 1418890661033.0, 'INDUTY_DESC': '한식', 'TLPHON_NO_CN': '02-763-8264', 'AR': '', 'LEGALDONG_NM': '재동', 'ADRES_CN2': '서울특별시 종로구 북촌로2길 5-7 (재동)', 'PRDLST_CODE_SE': '1418622761372', 'PRDLST_DESC': '된장찌개 백반', 'PC': 7000.0, 'CHCK_MD': '2021-08-18 00:00:00.0', 'GU_NM': '종로구'}, {'BSSH_NM': '김밥짱', 'BSSH_SEQ_NO': 1418890732329.0, 'INDUTY_DESC': '경양식', 'TLPHON_NO_CN': '02-831-2999', 'AR': '0', 'LEGALDONG_NM': '신대방동', 'ADRES_CN2': '서울특별시 동작구 여의대방로 30 (신대방동)', 'PRDLST_CODE_SE': '1418622761420', 'PRDLST_DESC': '돈가스', 'PC': 7000.0, 'CHCK_MD': '2021-08-18 00:00:00.0', 'GU_NM': '동작구'}, {'BSSH_NM': '김밥짱', 'BSSH_SEQ_NO': 1418890732329.0, 'INDUTY_DESC': '한식', 'TLPHON_NO_CN': '02-831-2999', 'AR': '0', 'LEGALDONG_NM': '신대방동', 'ADRES_CN2': '서울특별시 동작구 여의대방로 30 (신대방동)', 'PRDLST_CODE_SE': '1418622761418', 'PRDLST_DESC': '김밥', 'PC': 2000.0, 'CHCK_MD': '2021-08-18 00:00:00.0', 'GU_NM': '동작구'}, {'BSSH_NM': '김밥짱', 'BSSH_SEQ_NO': 1418890732329.0, 'INDUTY_DESC': '한식', 'TLPHON_NO_CN': '02-831-2999', 'AR': '0', 'LEGALDONG_NM': '신대방동', 'ADRES_CN2': '서울특별시 동작구 여의대방로 30 (신대방동)', 'PRDLST_CODE_SE': '1418622761417', 'PRDLST_DESC': '칼국수', 'PC': 6000.0, 'CHCK_MD': '2021-08-18 00:00:00.0', 'GU_NM': '동작구'}, {'BSSH_NM': '김밥짱', 'BSSH_SEQ_NO': 1418890732329.0, 'INDUTY_DESC': '한식', 'TLPHON_NO_CN': '02-831-2999', 'AR': '0', 'LEGALDONG_NM': '신대방동', 'ADRES_CN2': '서울특별시 동작구 여의대방로 30 (신대방동)', 'PRDLST_CODE_SE': '1418622761411', 'PRDLST_DESC': '냉면(물)', 'PC': 6000.0, 'CHCK_MD': '2021-08-18 00:00:00.0', 'GU_NM': '동작구'}, {'BSSH_NM': '김밥짱', 'BSSH_SEQ_NO': 1418890732329.0, 'INDUTY_DESC': '한식', 'TLPHON_NO_CN': '02-831-2999', 'AR': '0', 'LEGALDONG_NM': '신대방동', 'ADRES_CN2': '서울특별시 동작구 여의대방로 30 (신대방동)', 'PRDLST_CODE_SE': '1418622761384', 'PRDLST_DESC': '김치찌개 백반', 'PC': 6000.0, 'CHCK_MD': '2021-08-18 00:00:00.0', 'GU_NM': '동작구'}, {'BSSH_NM': '김밥짱', 'BSSH_SEQ_NO': 1418890732329.0, 'INDUTY_DESC': '한식', 'TLPHON_NO_CN': '02-831-2999', 'AR': '0', 'LEGALDONG_NM': '신대방동', 'ADRES_CN2': '서울특별시 동작구 여의대방로 30 (신대방동)', 'PRDLST_CODE_SE': '1418622761374', 'PRDLST_DESC': '조리라면', 'PC': 3000.0, 'CHCK_MD': '2021-08-18 00:00:00.0', 'GU_NM': '동작구'}, {'BSSH_NM': '김밥짱', 'BSSH_SEQ_NO': 1418890732329.0, 'INDUTY_DESC': '한식', 'TLPHON_NO_CN': '02-831-2999', 'AR': '0', 'LEGALDONG_NM': '신대방동', 'ADRES_CN2': '서울특별시 동작구 여의대방로 30 (신대방동)', 'PRDLST_CODE_SE': '1418622761372', 'PRDLST_DESC': '된장찌개 백반', 'PC': 6000.0, 'CHCK_MD': '2021-08-18 00:00:00.0', 'GU_NM': '동작구'}]\n",
      "[{'BSSH_NM': '삼지', 'BSSH_SEQ_NO': 1418890661033.0, 'INDUTY_DESC': '한식', 'TLPHON_NO_CN': '02-763-8264', 'AR': '', 'LEGALDONG_NM': '재동', 'ADRES_CN2': '서울특별시 종로구 북촌로2길 5-7 (재동)', 'PRDLST_CODE_SE': '1418622761384', 'PRDLST_DESC': '김치찌개 백반', 'PC': 7000.0, 'CHCK_MD': '2021-08-18 00:00:00.0', 'GU_NM': '종로구'}, {'BSSH_NM': '삼지', 'BSSH_SEQ_NO': 1418890661033.0, 'INDUTY_DESC': '한식', 'TLPHON_NO_CN': '02-763-8264', 'AR': '', 'LEGALDONG_NM': '재동', 'ADRES_CN2': '서울특별시 종로구 북촌로2길 5-7 (재동)', 'PRDLST_CODE_SE': '1418622761373', 'PRDLST_DESC': '삼겹살', 'PC': 14000.0, 'CHCK_MD': '2021-08-18 00:00:00.0', 'GU_NM': '종로구'}, {'BSSH_NM': '삼지', 'BSSH_SEQ_NO': 1418890661033.0, 'INDUTY_DESC': '한식', 'TLPHON_NO_CN': '02-763-8264', 'AR': '', 'LEGALDONG_NM': '재동', 'ADRES_CN2': '서울특별시 종로구 북촌로2길 5-7 (재동)', 'PRDLST_CODE_SE': '1418622761372', 'PRDLST_DESC': '된장찌개 백반', 'PC': 7000.0, 'CHCK_MD': '2021-08-18 00:00:00.0', 'GU_NM': '종로구'}, {'BSSH_NM': '김밥짱', 'BSSH_SEQ_NO': 1418890732329.0, 'INDUTY_DESC': '경양식', 'TLPHON_NO_CN': '02-831-2999', 'AR': '0', 'LEGALDONG_NM': '신대방동', 'ADRES_CN2': '서울특별시 동작구 여의대방로 30 (신대방동)', 'PRDLST_CODE_SE': '1418622761420', 'PRDLST_DESC': '돈가스', 'PC': 7000.0, 'CHCK_MD': '2021-08-18 00:00:00.0', 'GU_NM': '동작구'}, {'BSSH_NM': '김밥짱', 'BSSH_SEQ_NO': 1418890732329.0, 'INDUTY_DESC': '한식', 'TLPHON_NO_CN': '02-831-2999', 'AR': '0', 'LEGALDONG_NM': '신대방동', 'ADRES_CN2': '서울특별시 동작구 여의대방로 30 (신대방동)', 'PRDLST_CODE_SE': '1418622761418', 'PRDLST_DESC': '김밥', 'PC': 2000.0, 'CHCK_MD': '2021-08-18 00:00:00.0', 'GU_NM': '동작구'}, {'BSSH_NM': '김밥짱', 'BSSH_SEQ_NO': 1418890732329.0, 'INDUTY_DESC': '한식', 'TLPHON_NO_CN': '02-831-2999', 'AR': '0', 'LEGALDONG_NM': '신대방동', 'ADRES_CN2': '서울특별시 동작구 여의대방로 30 (신대방동)', 'PRDLST_CODE_SE': '1418622761417', 'PRDLST_DESC': '칼국수', 'PC': 6000.0, 'CHCK_MD': '2021-08-18 00:00:00.0', 'GU_NM': '동작구'}, {'BSSH_NM': '김밥짱', 'BSSH_SEQ_NO': 1418890732329.0, 'INDUTY_DESC': '한식', 'TLPHON_NO_CN': '02-831-2999', 'AR': '0', 'LEGALDONG_NM': '신대방동', 'ADRES_CN2': '서울특별시 동작구 여의대방로 30 (신대방동)', 'PRDLST_CODE_SE': '1418622761411', 'PRDLST_DESC': '냉면(물)', 'PC': 6000.0, 'CHCK_MD': '2021-08-18 00:00:00.0', 'GU_NM': '동작구'}, {'BSSH_NM': '김밥짱', 'BSSH_SEQ_NO': 1418890732329.0, 'INDUTY_DESC': '한식', 'TLPHON_NO_CN': '02-831-2999', 'AR': '0', 'LEGALDONG_NM': '신대방동', 'ADRES_CN2': '서울특별시 동작구 여의대방로 30 (신대방동)', 'PRDLST_CODE_SE': '1418622761384', 'PRDLST_DESC': '김치찌개 백반', 'PC': 6000.0, 'CHCK_MD': '2021-08-18 00:00:00.0', 'GU_NM': '동작구'}, {'BSSH_NM': '김밥짱', 'BSSH_SEQ_NO': 1418890732329.0, 'INDUTY_DESC': '한식', 'TLPHON_NO_CN': '02-831-2999', 'AR': '0', 'LEGALDONG_NM': '신대방동', 'ADRES_CN2': '서울특별시 동작구 여의대방로 30 (신대방동)', 'PRDLST_CODE_SE': '1418622761374', 'PRDLST_DESC': '조리라면', 'PC': 3000.0, 'CHCK_MD': '2021-08-18 00:00:00.0', 'GU_NM': '동작구'}, {'BSSH_NM': '김밥짱', 'BSSH_SEQ_NO': 1418890732329.0, 'INDUTY_DESC': '한식', 'TLPHON_NO_CN': '02-831-2999', 'AR': '0', 'LEGALDONG_NM': '신대방동', 'ADRES_CN2': '서울특별시 동작구 여의대방로 30 (신대방동)', 'PRDLST_CODE_SE': '1418622761372', 'PRDLST_DESC': '된장찌개 백반', 'PC': 6000.0, 'CHCK_MD': '2021-08-18 00:00:00.0', 'GU_NM': '동작구'}]\n",
      "[{'BSSH_NM': '삼지', 'BSSH_SEQ_NO': 1418890661033.0, 'INDUTY_DESC': '한식', 'TLPHON_NO_CN': '02-763-8264', 'AR': '', 'LEGALDONG_NM': '재동', 'ADRES_CN2': '서울특별시 종로구 북촌로2길 5-7 (재동)', 'PRDLST_CODE_SE': '1418622761384', 'PRDLST_DESC': '김치찌개 백반', 'PC': 7000.0, 'CHCK_MD': '2021-08-18 00:00:00.0', 'GU_NM': '종로구'}, {'BSSH_NM': '삼지', 'BSSH_SEQ_NO': 1418890661033.0, 'INDUTY_DESC': '한식', 'TLPHON_NO_CN': '02-763-8264', 'AR': '', 'LEGALDONG_NM': '재동', 'ADRES_CN2': '서울특별시 종로구 북촌로2길 5-7 (재동)', 'PRDLST_CODE_SE': '1418622761373', 'PRDLST_DESC': '삼겹살', 'PC': 14000.0, 'CHCK_MD': '2021-08-18 00:00:00.0', 'GU_NM': '종로구'}, {'BSSH_NM': '삼지', 'BSSH_SEQ_NO': 1418890661033.0, 'INDUTY_DESC': '한식', 'TLPHON_NO_CN': '02-763-8264', 'AR': '', 'LEGALDONG_NM': '재동', 'ADRES_CN2': '서울특별시 종로구 북촌로2길 5-7 (재동)', 'PRDLST_CODE_SE': '1418622761372', 'PRDLST_DESC': '된장찌개 백반', 'PC': 7000.0, 'CHCK_MD': '2021-08-18 00:00:00.0', 'GU_NM': '종로구'}, {'BSSH_NM': '김밥짱', 'BSSH_SEQ_NO': 1418890732329.0, 'INDUTY_DESC': '경양식', 'TLPHON_NO_CN': '02-831-2999', 'AR': '0', 'LEGALDONG_NM': '신대방동', 'ADRES_CN2': '서울특별시 동작구 여의대방로 30 (신대방동)', 'PRDLST_CODE_SE': '1418622761420', 'PRDLST_DESC': '돈가스', 'PC': 7000.0, 'CHCK_MD': '2021-08-18 00:00:00.0', 'GU_NM': '동작구'}, {'BSSH_NM': '김밥짱', 'BSSH_SEQ_NO': 1418890732329.0, 'INDUTY_DESC': '한식', 'TLPHON_NO_CN': '02-831-2999', 'AR': '0', 'LEGALDONG_NM': '신대방동', 'ADRES_CN2': '서울특별시 동작구 여의대방로 30 (신대방동)', 'PRDLST_CODE_SE': '1418622761418', 'PRDLST_DESC': '김밥', 'PC': 2000.0, 'CHCK_MD': '2021-08-18 00:00:00.0', 'GU_NM': '동작구'}, {'BSSH_NM': '김밥짱', 'BSSH_SEQ_NO': 1418890732329.0, 'INDUTY_DESC': '한식', 'TLPHON_NO_CN': '02-831-2999', 'AR': '0', 'LEGALDONG_NM': '신대방동', 'ADRES_CN2': '서울특별시 동작구 여의대방로 30 (신대방동)', 'PRDLST_CODE_SE': '1418622761417', 'PRDLST_DESC': '칼국수', 'PC': 6000.0, 'CHCK_MD': '2021-08-18 00:00:00.0', 'GU_NM': '동작구'}, {'BSSH_NM': '김밥짱', 'BSSH_SEQ_NO': 1418890732329.0, 'INDUTY_DESC': '한식', 'TLPHON_NO_CN': '02-831-2999', 'AR': '0', 'LEGALDONG_NM': '신대방동', 'ADRES_CN2': '서울특별시 동작구 여의대방로 30 (신대방동)', 'PRDLST_CODE_SE': '1418622761411', 'PRDLST_DESC': '냉면(물)', 'PC': 6000.0, 'CHCK_MD': '2021-08-18 00:00:00.0', 'GU_NM': '동작구'}, {'BSSH_NM': '김밥짱', 'BSSH_SEQ_NO': 1418890732329.0, 'INDUTY_DESC': '한식', 'TLPHON_NO_CN': '02-831-2999', 'AR': '0', 'LEGALDONG_NM': '신대방동', 'ADRES_CN2': '서울특별시 동작구 여의대방로 30 (신대방동)', 'PRDLST_CODE_SE': '1418622761384', 'PRDLST_DESC': '김치찌개 백반', 'PC': 6000.0, 'CHCK_MD': '2021-08-18 00:00:00.0', 'GU_NM': '동작구'}, {'BSSH_NM': '김밥짱', 'BSSH_SEQ_NO': 1418890732329.0, 'INDUTY_DESC': '한식', 'TLPHON_NO_CN': '02-831-2999', 'AR': '0', 'LEGALDONG_NM': '신대방동', 'ADRES_CN2': '서울특별시 동작구 여의대방로 30 (신대방동)', 'PRDLST_CODE_SE': '1418622761374', 'PRDLST_DESC': '조리라면', 'PC': 3000.0, 'CHCK_MD': '2021-08-18 00:00:00.0', 'GU_NM': '동작구'}, {'BSSH_NM': '김밥짱', 'BSSH_SEQ_NO': 1418890732329.0, 'INDUTY_DESC': '한식', 'TLPHON_NO_CN': '02-831-2999', 'AR': '0', 'LEGALDONG_NM': '신대방동', 'ADRES_CN2': '서울특별시 동작구 여의대방로 30 (신대방동)', 'PRDLST_CODE_SE': '1418622761372', 'PRDLST_DESC': '된장찌개 백반', 'PC': 6000.0, 'CHCK_MD': '2021-08-18 00:00:00.0', 'GU_NM': '동작구'}]\n",
      "[{'BSSH_NM': '삼지', 'BSSH_SEQ_NO': 1418890661033.0, 'INDUTY_DESC': '한식', 'TLPHON_NO_CN': '02-763-8264', 'AR': '', 'LEGALDONG_NM': '재동', 'ADRES_CN2': '서울특별시 종로구 북촌로2길 5-7 (재동)', 'PRDLST_CODE_SE': '1418622761384', 'PRDLST_DESC': '김치찌개 백반', 'PC': 7000.0, 'CHCK_MD': '2021-08-18 00:00:00.0', 'GU_NM': '종로구'}, {'BSSH_NM': '삼지', 'BSSH_SEQ_NO': 1418890661033.0, 'INDUTY_DESC': '한식', 'TLPHON_NO_CN': '02-763-8264', 'AR': '', 'LEGALDONG_NM': '재동', 'ADRES_CN2': '서울특별시 종로구 북촌로2길 5-7 (재동)', 'PRDLST_CODE_SE': '1418622761373', 'PRDLST_DESC': '삼겹살', 'PC': 14000.0, 'CHCK_MD': '2021-08-18 00:00:00.0', 'GU_NM': '종로구'}, {'BSSH_NM': '삼지', 'BSSH_SEQ_NO': 1418890661033.0, 'INDUTY_DESC': '한식', 'TLPHON_NO_CN': '02-763-8264', 'AR': '', 'LEGALDONG_NM': '재동', 'ADRES_CN2': '서울특별시 종로구 북촌로2길 5-7 (재동)', 'PRDLST_CODE_SE': '1418622761372', 'PRDLST_DESC': '된장찌개 백반', 'PC': 7000.0, 'CHCK_MD': '2021-08-18 00:00:00.0', 'GU_NM': '종로구'}, {'BSSH_NM': '김밥짱', 'BSSH_SEQ_NO': 1418890732329.0, 'INDUTY_DESC': '경양식', 'TLPHON_NO_CN': '02-831-2999', 'AR': '0', 'LEGALDONG_NM': '신대방동', 'ADRES_CN2': '서울특별시 동작구 여의대방로 30 (신대방동)', 'PRDLST_CODE_SE': '1418622761420', 'PRDLST_DESC': '돈가스', 'PC': 7000.0, 'CHCK_MD': '2021-08-18 00:00:00.0', 'GU_NM': '동작구'}, {'BSSH_NM': '김밥짱', 'BSSH_SEQ_NO': 1418890732329.0, 'INDUTY_DESC': '한식', 'TLPHON_NO_CN': '02-831-2999', 'AR': '0', 'LEGALDONG_NM': '신대방동', 'ADRES_CN2': '서울특별시 동작구 여의대방로 30 (신대방동)', 'PRDLST_CODE_SE': '1418622761418', 'PRDLST_DESC': '김밥', 'PC': 2000.0, 'CHCK_MD': '2021-08-18 00:00:00.0', 'GU_NM': '동작구'}, {'BSSH_NM': '김밥짱', 'BSSH_SEQ_NO': 1418890732329.0, 'INDUTY_DESC': '한식', 'TLPHON_NO_CN': '02-831-2999', 'AR': '0', 'LEGALDONG_NM': '신대방동', 'ADRES_CN2': '서울특별시 동작구 여의대방로 30 (신대방동)', 'PRDLST_CODE_SE': '1418622761417', 'PRDLST_DESC': '칼국수', 'PC': 6000.0, 'CHCK_MD': '2021-08-18 00:00:00.0', 'GU_NM': '동작구'}, {'BSSH_NM': '김밥짱', 'BSSH_SEQ_NO': 1418890732329.0, 'INDUTY_DESC': '한식', 'TLPHON_NO_CN': '02-831-2999', 'AR': '0', 'LEGALDONG_NM': '신대방동', 'ADRES_CN2': '서울특별시 동작구 여의대방로 30 (신대방동)', 'PRDLST_CODE_SE': '1418622761411', 'PRDLST_DESC': '냉면(물)', 'PC': 6000.0, 'CHCK_MD': '2021-08-18 00:00:00.0', 'GU_NM': '동작구'}, {'BSSH_NM': '김밥짱', 'BSSH_SEQ_NO': 1418890732329.0, 'INDUTY_DESC': '한식', 'TLPHON_NO_CN': '02-831-2999', 'AR': '0', 'LEGALDONG_NM': '신대방동', 'ADRES_CN2': '서울특별시 동작구 여의대방로 30 (신대방동)', 'PRDLST_CODE_SE': '1418622761384', 'PRDLST_DESC': '김치찌개 백반', 'PC': 6000.0, 'CHCK_MD': '2021-08-18 00:00:00.0', 'GU_NM': '동작구'}, {'BSSH_NM': '김밥짱', 'BSSH_SEQ_NO': 1418890732329.0, 'INDUTY_DESC': '한식', 'TLPHON_NO_CN': '02-831-2999', 'AR': '0', 'LEGALDONG_NM': '신대방동', 'ADRES_CN2': '서울특별시 동작구 여의대방로 30 (신대방동)', 'PRDLST_CODE_SE': '1418622761374', 'PRDLST_DESC': '조리라면', 'PC': 3000.0, 'CHCK_MD': '2021-08-18 00:00:00.0', 'GU_NM': '동작구'}, {'BSSH_NM': '김밥짱', 'BSSH_SEQ_NO': 1418890732329.0, 'INDUTY_DESC': '한식', 'TLPHON_NO_CN': '02-831-2999', 'AR': '0', 'LEGALDONG_NM': '신대방동', 'ADRES_CN2': '서울특별시 동작구 여의대방로 30 (신대방동)', 'PRDLST_CODE_SE': '1418622761372', 'PRDLST_DESC': '된장찌개 백반', 'PC': 6000.0, 'CHCK_MD': '2021-08-18 00:00:00.0', 'GU_NM': '동작구'}]\n",
      "[{'BSSH_NM': '삼지', 'BSSH_SEQ_NO': 1418890661033.0, 'INDUTY_DESC': '한식', 'TLPHON_NO_CN': '02-763-8264', 'AR': '', 'LEGALDONG_NM': '재동', 'ADRES_CN2': '서울특별시 종로구 북촌로2길 5-7 (재동)', 'PRDLST_CODE_SE': '1418622761384', 'PRDLST_DESC': '김치찌개 백반', 'PC': 7000.0, 'CHCK_MD': '2021-08-18 00:00:00.0', 'GU_NM': '종로구'}, {'BSSH_NM': '삼지', 'BSSH_SEQ_NO': 1418890661033.0, 'INDUTY_DESC': '한식', 'TLPHON_NO_CN': '02-763-8264', 'AR': '', 'LEGALDONG_NM': '재동', 'ADRES_CN2': '서울특별시 종로구 북촌로2길 5-7 (재동)', 'PRDLST_CODE_SE': '1418622761373', 'PRDLST_DESC': '삼겹살', 'PC': 14000.0, 'CHCK_MD': '2021-08-18 00:00:00.0', 'GU_NM': '종로구'}, {'BSSH_NM': '삼지', 'BSSH_SEQ_NO': 1418890661033.0, 'INDUTY_DESC': '한식', 'TLPHON_NO_CN': '02-763-8264', 'AR': '', 'LEGALDONG_NM': '재동', 'ADRES_CN2': '서울특별시 종로구 북촌로2길 5-7 (재동)', 'PRDLST_CODE_SE': '1418622761372', 'PRDLST_DESC': '된장찌개 백반', 'PC': 7000.0, 'CHCK_MD': '2021-08-18 00:00:00.0', 'GU_NM': '종로구'}, {'BSSH_NM': '김밥짱', 'BSSH_SEQ_NO': 1418890732329.0, 'INDUTY_DESC': '경양식', 'TLPHON_NO_CN': '02-831-2999', 'AR': '0', 'LEGALDONG_NM': '신대방동', 'ADRES_CN2': '서울특별시 동작구 여의대방로 30 (신대방동)', 'PRDLST_CODE_SE': '1418622761420', 'PRDLST_DESC': '돈가스', 'PC': 7000.0, 'CHCK_MD': '2021-08-18 00:00:00.0', 'GU_NM': '동작구'}, {'BSSH_NM': '김밥짱', 'BSSH_SEQ_NO': 1418890732329.0, 'INDUTY_DESC': '한식', 'TLPHON_NO_CN': '02-831-2999', 'AR': '0', 'LEGALDONG_NM': '신대방동', 'ADRES_CN2': '서울특별시 동작구 여의대방로 30 (신대방동)', 'PRDLST_CODE_SE': '1418622761418', 'PRDLST_DESC': '김밥', 'PC': 2000.0, 'CHCK_MD': '2021-08-18 00:00:00.0', 'GU_NM': '동작구'}, {'BSSH_NM': '김밥짱', 'BSSH_SEQ_NO': 1418890732329.0, 'INDUTY_DESC': '한식', 'TLPHON_NO_CN': '02-831-2999', 'AR': '0', 'LEGALDONG_NM': '신대방동', 'ADRES_CN2': '서울특별시 동작구 여의대방로 30 (신대방동)', 'PRDLST_CODE_SE': '1418622761417', 'PRDLST_DESC': '칼국수', 'PC': 6000.0, 'CHCK_MD': '2021-08-18 00:00:00.0', 'GU_NM': '동작구'}, {'BSSH_NM': '김밥짱', 'BSSH_SEQ_NO': 1418890732329.0, 'INDUTY_DESC': '한식', 'TLPHON_NO_CN': '02-831-2999', 'AR': '0', 'LEGALDONG_NM': '신대방동', 'ADRES_CN2': '서울특별시 동작구 여의대방로 30 (신대방동)', 'PRDLST_CODE_SE': '1418622761411', 'PRDLST_DESC': '냉면(물)', 'PC': 6000.0, 'CHCK_MD': '2021-08-18 00:00:00.0', 'GU_NM': '동작구'}, {'BSSH_NM': '김밥짱', 'BSSH_SEQ_NO': 1418890732329.0, 'INDUTY_DESC': '한식', 'TLPHON_NO_CN': '02-831-2999', 'AR': '0', 'LEGALDONG_NM': '신대방동', 'ADRES_CN2': '서울특별시 동작구 여의대방로 30 (신대방동)', 'PRDLST_CODE_SE': '1418622761384', 'PRDLST_DESC': '김치찌개 백반', 'PC': 6000.0, 'CHCK_MD': '2021-08-18 00:00:00.0', 'GU_NM': '동작구'}, {'BSSH_NM': '김밥짱', 'BSSH_SEQ_NO': 1418890732329.0, 'INDUTY_DESC': '한식', 'TLPHON_NO_CN': '02-831-2999', 'AR': '0', 'LEGALDONG_NM': '신대방동', 'ADRES_CN2': '서울특별시 동작구 여의대방로 30 (신대방동)', 'PRDLST_CODE_SE': '1418622761374', 'PRDLST_DESC': '조리라면', 'PC': 3000.0, 'CHCK_MD': '2021-08-18 00:00:00.0', 'GU_NM': '동작구'}, {'BSSH_NM': '김밥짱', 'BSSH_SEQ_NO': 1418890732329.0, 'INDUTY_DESC': '한식', 'TLPHON_NO_CN': '02-831-2999', 'AR': '0', 'LEGALDONG_NM': '신대방동', 'ADRES_CN2': '서울특별시 동작구 여의대방로 30 (신대방동)', 'PRDLST_CODE_SE': '1418622761372', 'PRDLST_DESC': '된장찌개 백반', 'PC': 6000.0, 'CHCK_MD': '2021-08-18 00:00:00.0', 'GU_NM': '동작구'}]\n",
      "[{'BSSH_NM': '삼지', 'BSSH_SEQ_NO': 1418890661033.0, 'INDUTY_DESC': '한식', 'TLPHON_NO_CN': '02-763-8264', 'AR': '', 'LEGALDONG_NM': '재동', 'ADRES_CN2': '서울특별시 종로구 북촌로2길 5-7 (재동)', 'PRDLST_CODE_SE': '1418622761384', 'PRDLST_DESC': '김치찌개 백반', 'PC': 7000.0, 'CHCK_MD': '2021-08-18 00:00:00.0', 'GU_NM': '종로구'}, {'BSSH_NM': '삼지', 'BSSH_SEQ_NO': 1418890661033.0, 'INDUTY_DESC': '한식', 'TLPHON_NO_CN': '02-763-8264', 'AR': '', 'LEGALDONG_NM': '재동', 'ADRES_CN2': '서울특별시 종로구 북촌로2길 5-7 (재동)', 'PRDLST_CODE_SE': '1418622761373', 'PRDLST_DESC': '삼겹살', 'PC': 14000.0, 'CHCK_MD': '2021-08-18 00:00:00.0', 'GU_NM': '종로구'}, {'BSSH_NM': '삼지', 'BSSH_SEQ_NO': 1418890661033.0, 'INDUTY_DESC': '한식', 'TLPHON_NO_CN': '02-763-8264', 'AR': '', 'LEGALDONG_NM': '재동', 'ADRES_CN2': '서울특별시 종로구 북촌로2길 5-7 (재동)', 'PRDLST_CODE_SE': '1418622761372', 'PRDLST_DESC': '된장찌개 백반', 'PC': 7000.0, 'CHCK_MD': '2021-08-18 00:00:00.0', 'GU_NM': '종로구'}, {'BSSH_NM': '김밥짱', 'BSSH_SEQ_NO': 1418890732329.0, 'INDUTY_DESC': '경양식', 'TLPHON_NO_CN': '02-831-2999', 'AR': '0', 'LEGALDONG_NM': '신대방동', 'ADRES_CN2': '서울특별시 동작구 여의대방로 30 (신대방동)', 'PRDLST_CODE_SE': '1418622761420', 'PRDLST_DESC': '돈가스', 'PC': 7000.0, 'CHCK_MD': '2021-08-18 00:00:00.0', 'GU_NM': '동작구'}, {'BSSH_NM': '김밥짱', 'BSSH_SEQ_NO': 1418890732329.0, 'INDUTY_DESC': '한식', 'TLPHON_NO_CN': '02-831-2999', 'AR': '0', 'LEGALDONG_NM': '신대방동', 'ADRES_CN2': '서울특별시 동작구 여의대방로 30 (신대방동)', 'PRDLST_CODE_SE': '1418622761418', 'PRDLST_DESC': '김밥', 'PC': 2000.0, 'CHCK_MD': '2021-08-18 00:00:00.0', 'GU_NM': '동작구'}, {'BSSH_NM': '김밥짱', 'BSSH_SEQ_NO': 1418890732329.0, 'INDUTY_DESC': '한식', 'TLPHON_NO_CN': '02-831-2999', 'AR': '0', 'LEGALDONG_NM': '신대방동', 'ADRES_CN2': '서울특별시 동작구 여의대방로 30 (신대방동)', 'PRDLST_CODE_SE': '1418622761417', 'PRDLST_DESC': '칼국수', 'PC': 6000.0, 'CHCK_MD': '2021-08-18 00:00:00.0', 'GU_NM': '동작구'}, {'BSSH_NM': '김밥짱', 'BSSH_SEQ_NO': 1418890732329.0, 'INDUTY_DESC': '한식', 'TLPHON_NO_CN': '02-831-2999', 'AR': '0', 'LEGALDONG_NM': '신대방동', 'ADRES_CN2': '서울특별시 동작구 여의대방로 30 (신대방동)', 'PRDLST_CODE_SE': '1418622761411', 'PRDLST_DESC': '냉면(물)', 'PC': 6000.0, 'CHCK_MD': '2021-08-18 00:00:00.0', 'GU_NM': '동작구'}, {'BSSH_NM': '김밥짱', 'BSSH_SEQ_NO': 1418890732329.0, 'INDUTY_DESC': '한식', 'TLPHON_NO_CN': '02-831-2999', 'AR': '0', 'LEGALDONG_NM': '신대방동', 'ADRES_CN2': '서울특별시 동작구 여의대방로 30 (신대방동)', 'PRDLST_CODE_SE': '1418622761384', 'PRDLST_DESC': '김치찌개 백반', 'PC': 6000.0, 'CHCK_MD': '2021-08-18 00:00:00.0', 'GU_NM': '동작구'}, {'BSSH_NM': '김밥짱', 'BSSH_SEQ_NO': 1418890732329.0, 'INDUTY_DESC': '한식', 'TLPHON_NO_CN': '02-831-2999', 'AR': '0', 'LEGALDONG_NM': '신대방동', 'ADRES_CN2': '서울특별시 동작구 여의대방로 30 (신대방동)', 'PRDLST_CODE_SE': '1418622761374', 'PRDLST_DESC': '조리라면', 'PC': 3000.0, 'CHCK_MD': '2021-08-18 00:00:00.0', 'GU_NM': '동작구'}, {'BSSH_NM': '김밥짱', 'BSSH_SEQ_NO': 1418890732329.0, 'INDUTY_DESC': '한식', 'TLPHON_NO_CN': '02-831-2999', 'AR': '0', 'LEGALDONG_NM': '신대방동', 'ADRES_CN2': '서울특별시 동작구 여의대방로 30 (신대방동)', 'PRDLST_CODE_SE': '1418622761372', 'PRDLST_DESC': '된장찌개 백반', 'PC': 6000.0, 'CHCK_MD': '2021-08-18 00:00:00.0', 'GU_NM': '동작구'}]\n",
      "[{'BSSH_NM': '삼지', 'BSSH_SEQ_NO': 1418890661033.0, 'INDUTY_DESC': '한식', 'TLPHON_NO_CN': '02-763-8264', 'AR': '', 'LEGALDONG_NM': '재동', 'ADRES_CN2': '서울특별시 종로구 북촌로2길 5-7 (재동)', 'PRDLST_CODE_SE': '1418622761384', 'PRDLST_DESC': '김치찌개 백반', 'PC': 7000.0, 'CHCK_MD': '2021-08-18 00:00:00.0', 'GU_NM': '종로구'}, {'BSSH_NM': '삼지', 'BSSH_SEQ_NO': 1418890661033.0, 'INDUTY_DESC': '한식', 'TLPHON_NO_CN': '02-763-8264', 'AR': '', 'LEGALDONG_NM': '재동', 'ADRES_CN2': '서울특별시 종로구 북촌로2길 5-7 (재동)', 'PRDLST_CODE_SE': '1418622761373', 'PRDLST_DESC': '삼겹살', 'PC': 14000.0, 'CHCK_MD': '2021-08-18 00:00:00.0', 'GU_NM': '종로구'}, {'BSSH_NM': '삼지', 'BSSH_SEQ_NO': 1418890661033.0, 'INDUTY_DESC': '한식', 'TLPHON_NO_CN': '02-763-8264', 'AR': '', 'LEGALDONG_NM': '재동', 'ADRES_CN2': '서울특별시 종로구 북촌로2길 5-7 (재동)', 'PRDLST_CODE_SE': '1418622761372', 'PRDLST_DESC': '된장찌개 백반', 'PC': 7000.0, 'CHCK_MD': '2021-08-18 00:00:00.0', 'GU_NM': '종로구'}, {'BSSH_NM': '김밥짱', 'BSSH_SEQ_NO': 1418890732329.0, 'INDUTY_DESC': '경양식', 'TLPHON_NO_CN': '02-831-2999', 'AR': '0', 'LEGALDONG_NM': '신대방동', 'ADRES_CN2': '서울특별시 동작구 여의대방로 30 (신대방동)', 'PRDLST_CODE_SE': '1418622761420', 'PRDLST_DESC': '돈가스', 'PC': 7000.0, 'CHCK_MD': '2021-08-18 00:00:00.0', 'GU_NM': '동작구'}, {'BSSH_NM': '김밥짱', 'BSSH_SEQ_NO': 1418890732329.0, 'INDUTY_DESC': '한식', 'TLPHON_NO_CN': '02-831-2999', 'AR': '0', 'LEGALDONG_NM': '신대방동', 'ADRES_CN2': '서울특별시 동작구 여의대방로 30 (신대방동)', 'PRDLST_CODE_SE': '1418622761418', 'PRDLST_DESC': '김밥', 'PC': 2000.0, 'CHCK_MD': '2021-08-18 00:00:00.0', 'GU_NM': '동작구'}, {'BSSH_NM': '김밥짱', 'BSSH_SEQ_NO': 1418890732329.0, 'INDUTY_DESC': '한식', 'TLPHON_NO_CN': '02-831-2999', 'AR': '0', 'LEGALDONG_NM': '신대방동', 'ADRES_CN2': '서울특별시 동작구 여의대방로 30 (신대방동)', 'PRDLST_CODE_SE': '1418622761417', 'PRDLST_DESC': '칼국수', 'PC': 6000.0, 'CHCK_MD': '2021-08-18 00:00:00.0', 'GU_NM': '동작구'}, {'BSSH_NM': '김밥짱', 'BSSH_SEQ_NO': 1418890732329.0, 'INDUTY_DESC': '한식', 'TLPHON_NO_CN': '02-831-2999', 'AR': '0', 'LEGALDONG_NM': '신대방동', 'ADRES_CN2': '서울특별시 동작구 여의대방로 30 (신대방동)', 'PRDLST_CODE_SE': '1418622761411', 'PRDLST_DESC': '냉면(물)', 'PC': 6000.0, 'CHCK_MD': '2021-08-18 00:00:00.0', 'GU_NM': '동작구'}, {'BSSH_NM': '김밥짱', 'BSSH_SEQ_NO': 1418890732329.0, 'INDUTY_DESC': '한식', 'TLPHON_NO_CN': '02-831-2999', 'AR': '0', 'LEGALDONG_NM': '신대방동', 'ADRES_CN2': '서울특별시 동작구 여의대방로 30 (신대방동)', 'PRDLST_CODE_SE': '1418622761384', 'PRDLST_DESC': '김치찌개 백반', 'PC': 6000.0, 'CHCK_MD': '2021-08-18 00:00:00.0', 'GU_NM': '동작구'}, {'BSSH_NM': '김밥짱', 'BSSH_SEQ_NO': 1418890732329.0, 'INDUTY_DESC': '한식', 'TLPHON_NO_CN': '02-831-2999', 'AR': '0', 'LEGALDONG_NM': '신대방동', 'ADRES_CN2': '서울특별시 동작구 여의대방로 30 (신대방동)', 'PRDLST_CODE_SE': '1418622761374', 'PRDLST_DESC': '조리라면', 'PC': 3000.0, 'CHCK_MD': '2021-08-18 00:00:00.0', 'GU_NM': '동작구'}, {'BSSH_NM': '김밥짱', 'BSSH_SEQ_NO': 1418890732329.0, 'INDUTY_DESC': '한식', 'TLPHON_NO_CN': '02-831-2999', 'AR': '0', 'LEGALDONG_NM': '신대방동', 'ADRES_CN2': '서울특별시 동작구 여의대방로 30 (신대방동)', 'PRDLST_CODE_SE': '1418622761372', 'PRDLST_DESC': '된장찌개 백반', 'PC': 6000.0, 'CHCK_MD': '2021-08-18 00:00:00.0', 'GU_NM': '동작구'}]\n",
      "[{'BSSH_NM': '삼지', 'BSSH_SEQ_NO': 1418890661033.0, 'INDUTY_DESC': '한식', 'TLPHON_NO_CN': '02-763-8264', 'AR': '', 'LEGALDONG_NM': '재동', 'ADRES_CN2': '서울특별시 종로구 북촌로2길 5-7 (재동)', 'PRDLST_CODE_SE': '1418622761384', 'PRDLST_DESC': '김치찌개 백반', 'PC': 7000.0, 'CHCK_MD': '2021-08-18 00:00:00.0', 'GU_NM': '종로구'}, {'BSSH_NM': '삼지', 'BSSH_SEQ_NO': 1418890661033.0, 'INDUTY_DESC': '한식', 'TLPHON_NO_CN': '02-763-8264', 'AR': '', 'LEGALDONG_NM': '재동', 'ADRES_CN2': '서울특별시 종로구 북촌로2길 5-7 (재동)', 'PRDLST_CODE_SE': '1418622761373', 'PRDLST_DESC': '삼겹살', 'PC': 14000.0, 'CHCK_MD': '2021-08-18 00:00:00.0', 'GU_NM': '종로구'}, {'BSSH_NM': '삼지', 'BSSH_SEQ_NO': 1418890661033.0, 'INDUTY_DESC': '한식', 'TLPHON_NO_CN': '02-763-8264', 'AR': '', 'LEGALDONG_NM': '재동', 'ADRES_CN2': '서울특별시 종로구 북촌로2길 5-7 (재동)', 'PRDLST_CODE_SE': '1418622761372', 'PRDLST_DESC': '된장찌개 백반', 'PC': 7000.0, 'CHCK_MD': '2021-08-18 00:00:00.0', 'GU_NM': '종로구'}, {'BSSH_NM': '김밥짱', 'BSSH_SEQ_NO': 1418890732329.0, 'INDUTY_DESC': '경양식', 'TLPHON_NO_CN': '02-831-2999', 'AR': '0', 'LEGALDONG_NM': '신대방동', 'ADRES_CN2': '서울특별시 동작구 여의대방로 30 (신대방동)', 'PRDLST_CODE_SE': '1418622761420', 'PRDLST_DESC': '돈가스', 'PC': 7000.0, 'CHCK_MD': '2021-08-18 00:00:00.0', 'GU_NM': '동작구'}, {'BSSH_NM': '김밥짱', 'BSSH_SEQ_NO': 1418890732329.0, 'INDUTY_DESC': '한식', 'TLPHON_NO_CN': '02-831-2999', 'AR': '0', 'LEGALDONG_NM': '신대방동', 'ADRES_CN2': '서울특별시 동작구 여의대방로 30 (신대방동)', 'PRDLST_CODE_SE': '1418622761418', 'PRDLST_DESC': '김밥', 'PC': 2000.0, 'CHCK_MD': '2021-08-18 00:00:00.0', 'GU_NM': '동작구'}, {'BSSH_NM': '김밥짱', 'BSSH_SEQ_NO': 1418890732329.0, 'INDUTY_DESC': '한식', 'TLPHON_NO_CN': '02-831-2999', 'AR': '0', 'LEGALDONG_NM': '신대방동', 'ADRES_CN2': '서울특별시 동작구 여의대방로 30 (신대방동)', 'PRDLST_CODE_SE': '1418622761417', 'PRDLST_DESC': '칼국수', 'PC': 6000.0, 'CHCK_MD': '2021-08-18 00:00:00.0', 'GU_NM': '동작구'}, {'BSSH_NM': '김밥짱', 'BSSH_SEQ_NO': 1418890732329.0, 'INDUTY_DESC': '한식', 'TLPHON_NO_CN': '02-831-2999', 'AR': '0', 'LEGALDONG_NM': '신대방동', 'ADRES_CN2': '서울특별시 동작구 여의대방로 30 (신대방동)', 'PRDLST_CODE_SE': '1418622761411', 'PRDLST_DESC': '냉면(물)', 'PC': 6000.0, 'CHCK_MD': '2021-08-18 00:00:00.0', 'GU_NM': '동작구'}, {'BSSH_NM': '김밥짱', 'BSSH_SEQ_NO': 1418890732329.0, 'INDUTY_DESC': '한식', 'TLPHON_NO_CN': '02-831-2999', 'AR': '0', 'LEGALDONG_NM': '신대방동', 'ADRES_CN2': '서울특별시 동작구 여의대방로 30 (신대방동)', 'PRDLST_CODE_SE': '1418622761384', 'PRDLST_DESC': '김치찌개 백반', 'PC': 6000.0, 'CHCK_MD': '2021-08-18 00:00:00.0', 'GU_NM': '동작구'}, {'BSSH_NM': '김밥짱', 'BSSH_SEQ_NO': 1418890732329.0, 'INDUTY_DESC': '한식', 'TLPHON_NO_CN': '02-831-2999', 'AR': '0', 'LEGALDONG_NM': '신대방동', 'ADRES_CN2': '서울특별시 동작구 여의대방로 30 (신대방동)', 'PRDLST_CODE_SE': '1418622761374', 'PRDLST_DESC': '조리라면', 'PC': 3000.0, 'CHCK_MD': '2021-08-18 00:00:00.0', 'GU_NM': '동작구'}, {'BSSH_NM': '김밥짱', 'BSSH_SEQ_NO': 1418890732329.0, 'INDUTY_DESC': '한식', 'TLPHON_NO_CN': '02-831-2999', 'AR': '0', 'LEGALDONG_NM': '신대방동', 'ADRES_CN2': '서울특별시 동작구 여의대방로 30 (신대방동)', 'PRDLST_CODE_SE': '1418622761372', 'PRDLST_DESC': '된장찌개 백반', 'PC': 6000.0, 'CHCK_MD': '2021-08-18 00:00:00.0', 'GU_NM': '동작구'}]\n",
      "[{'BSSH_NM': '삼지', 'BSSH_SEQ_NO': 1418890661033.0, 'INDUTY_DESC': '한식', 'TLPHON_NO_CN': '02-763-8264', 'AR': '', 'LEGALDONG_NM': '재동', 'ADRES_CN2': '서울특별시 종로구 북촌로2길 5-7 (재동)', 'PRDLST_CODE_SE': '1418622761384', 'PRDLST_DESC': '김치찌개 백반', 'PC': 7000.0, 'CHCK_MD': '2021-08-18 00:00:00.0', 'GU_NM': '종로구'}, {'BSSH_NM': '삼지', 'BSSH_SEQ_NO': 1418890661033.0, 'INDUTY_DESC': '한식', 'TLPHON_NO_CN': '02-763-8264', 'AR': '', 'LEGALDONG_NM': '재동', 'ADRES_CN2': '서울특별시 종로구 북촌로2길 5-7 (재동)', 'PRDLST_CODE_SE': '1418622761373', 'PRDLST_DESC': '삼겹살', 'PC': 14000.0, 'CHCK_MD': '2021-08-18 00:00:00.0', 'GU_NM': '종로구'}, {'BSSH_NM': '삼지', 'BSSH_SEQ_NO': 1418890661033.0, 'INDUTY_DESC': '한식', 'TLPHON_NO_CN': '02-763-8264', 'AR': '', 'LEGALDONG_NM': '재동', 'ADRES_CN2': '서울특별시 종로구 북촌로2길 5-7 (재동)', 'PRDLST_CODE_SE': '1418622761372', 'PRDLST_DESC': '된장찌개 백반', 'PC': 7000.0, 'CHCK_MD': '2021-08-18 00:00:00.0', 'GU_NM': '종로구'}, {'BSSH_NM': '김밥짱', 'BSSH_SEQ_NO': 1418890732329.0, 'INDUTY_DESC': '경양식', 'TLPHON_NO_CN': '02-831-2999', 'AR': '0', 'LEGALDONG_NM': '신대방동', 'ADRES_CN2': '서울특별시 동작구 여의대방로 30 (신대방동)', 'PRDLST_CODE_SE': '1418622761420', 'PRDLST_DESC': '돈가스', 'PC': 7000.0, 'CHCK_MD': '2021-08-18 00:00:00.0', 'GU_NM': '동작구'}, {'BSSH_NM': '김밥짱', 'BSSH_SEQ_NO': 1418890732329.0, 'INDUTY_DESC': '한식', 'TLPHON_NO_CN': '02-831-2999', 'AR': '0', 'LEGALDONG_NM': '신대방동', 'ADRES_CN2': '서울특별시 동작구 여의대방로 30 (신대방동)', 'PRDLST_CODE_SE': '1418622761418', 'PRDLST_DESC': '김밥', 'PC': 2000.0, 'CHCK_MD': '2021-08-18 00:00:00.0', 'GU_NM': '동작구'}, {'BSSH_NM': '김밥짱', 'BSSH_SEQ_NO': 1418890732329.0, 'INDUTY_DESC': '한식', 'TLPHON_NO_CN': '02-831-2999', 'AR': '0', 'LEGALDONG_NM': '신대방동', 'ADRES_CN2': '서울특별시 동작구 여의대방로 30 (신대방동)', 'PRDLST_CODE_SE': '1418622761417', 'PRDLST_DESC': '칼국수', 'PC': 6000.0, 'CHCK_MD': '2021-08-18 00:00:00.0', 'GU_NM': '동작구'}, {'BSSH_NM': '김밥짱', 'BSSH_SEQ_NO': 1418890732329.0, 'INDUTY_DESC': '한식', 'TLPHON_NO_CN': '02-831-2999', 'AR': '0', 'LEGALDONG_NM': '신대방동', 'ADRES_CN2': '서울특별시 동작구 여의대방로 30 (신대방동)', 'PRDLST_CODE_SE': '1418622761411', 'PRDLST_DESC': '냉면(물)', 'PC': 6000.0, 'CHCK_MD': '2021-08-18 00:00:00.0', 'GU_NM': '동작구'}, {'BSSH_NM': '김밥짱', 'BSSH_SEQ_NO': 1418890732329.0, 'INDUTY_DESC': '한식', 'TLPHON_NO_CN': '02-831-2999', 'AR': '0', 'LEGALDONG_NM': '신대방동', 'ADRES_CN2': '서울특별시 동작구 여의대방로 30 (신대방동)', 'PRDLST_CODE_SE': '1418622761384', 'PRDLST_DESC': '김치찌개 백반', 'PC': 6000.0, 'CHCK_MD': '2021-08-18 00:00:00.0', 'GU_NM': '동작구'}, {'BSSH_NM': '김밥짱', 'BSSH_SEQ_NO': 1418890732329.0, 'INDUTY_DESC': '한식', 'TLPHON_NO_CN': '02-831-2999', 'AR': '0', 'LEGALDONG_NM': '신대방동', 'ADRES_CN2': '서울특별시 동작구 여의대방로 30 (신대방동)', 'PRDLST_CODE_SE': '1418622761374', 'PRDLST_DESC': '조리라면', 'PC': 3000.0, 'CHCK_MD': '2021-08-18 00:00:00.0', 'GU_NM': '동작구'}, {'BSSH_NM': '김밥짱', 'BSSH_SEQ_NO': 1418890732329.0, 'INDUTY_DESC': '한식', 'TLPHON_NO_CN': '02-831-2999', 'AR': '0', 'LEGALDONG_NM': '신대방동', 'ADRES_CN2': '서울특별시 동작구 여의대방로 30 (신대방동)', 'PRDLST_CODE_SE': '1418622761372', 'PRDLST_DESC': '된장찌개 백반', 'PC': 6000.0, 'CHCK_MD': '2021-08-18 00:00:00.0', 'GU_NM': '동작구'}]\n",
      "[{'BSSH_NM': '삼지', 'BSSH_SEQ_NO': 1418890661033.0, 'INDUTY_DESC': '한식', 'TLPHON_NO_CN': '02-763-8264', 'AR': '', 'LEGALDONG_NM': '재동', 'ADRES_CN2': '서울특별시 종로구 북촌로2길 5-7 (재동)', 'PRDLST_CODE_SE': '1418622761384', 'PRDLST_DESC': '김치찌개 백반', 'PC': 7000.0, 'CHCK_MD': '2021-08-18 00:00:00.0', 'GU_NM': '종로구'}, {'BSSH_NM': '삼지', 'BSSH_SEQ_NO': 1418890661033.0, 'INDUTY_DESC': '한식', 'TLPHON_NO_CN': '02-763-8264', 'AR': '', 'LEGALDONG_NM': '재동', 'ADRES_CN2': '서울특별시 종로구 북촌로2길 5-7 (재동)', 'PRDLST_CODE_SE': '1418622761373', 'PRDLST_DESC': '삼겹살', 'PC': 14000.0, 'CHCK_MD': '2021-08-18 00:00:00.0', 'GU_NM': '종로구'}, {'BSSH_NM': '삼지', 'BSSH_SEQ_NO': 1418890661033.0, 'INDUTY_DESC': '한식', 'TLPHON_NO_CN': '02-763-8264', 'AR': '', 'LEGALDONG_NM': '재동', 'ADRES_CN2': '서울특별시 종로구 북촌로2길 5-7 (재동)', 'PRDLST_CODE_SE': '1418622761372', 'PRDLST_DESC': '된장찌개 백반', 'PC': 7000.0, 'CHCK_MD': '2021-08-18 00:00:00.0', 'GU_NM': '종로구'}, {'BSSH_NM': '김밥짱', 'BSSH_SEQ_NO': 1418890732329.0, 'INDUTY_DESC': '경양식', 'TLPHON_NO_CN': '02-831-2999', 'AR': '0', 'LEGALDONG_NM': '신대방동', 'ADRES_CN2': '서울특별시 동작구 여의대방로 30 (신대방동)', 'PRDLST_CODE_SE': '1418622761420', 'PRDLST_DESC': '돈가스', 'PC': 7000.0, 'CHCK_MD': '2021-08-18 00:00:00.0', 'GU_NM': '동작구'}, {'BSSH_NM': '김밥짱', 'BSSH_SEQ_NO': 1418890732329.0, 'INDUTY_DESC': '한식', 'TLPHON_NO_CN': '02-831-2999', 'AR': '0', 'LEGALDONG_NM': '신대방동', 'ADRES_CN2': '서울특별시 동작구 여의대방로 30 (신대방동)', 'PRDLST_CODE_SE': '1418622761418', 'PRDLST_DESC': '김밥', 'PC': 2000.0, 'CHCK_MD': '2021-08-18 00:00:00.0', 'GU_NM': '동작구'}, {'BSSH_NM': '김밥짱', 'BSSH_SEQ_NO': 1418890732329.0, 'INDUTY_DESC': '한식', 'TLPHON_NO_CN': '02-831-2999', 'AR': '0', 'LEGALDONG_NM': '신대방동', 'ADRES_CN2': '서울특별시 동작구 여의대방로 30 (신대방동)', 'PRDLST_CODE_SE': '1418622761417', 'PRDLST_DESC': '칼국수', 'PC': 6000.0, 'CHCK_MD': '2021-08-18 00:00:00.0', 'GU_NM': '동작구'}, {'BSSH_NM': '김밥짱', 'BSSH_SEQ_NO': 1418890732329.0, 'INDUTY_DESC': '한식', 'TLPHON_NO_CN': '02-831-2999', 'AR': '0', 'LEGALDONG_NM': '신대방동', 'ADRES_CN2': '서울특별시 동작구 여의대방로 30 (신대방동)', 'PRDLST_CODE_SE': '1418622761411', 'PRDLST_DESC': '냉면(물)', 'PC': 6000.0, 'CHCK_MD': '2021-08-18 00:00:00.0', 'GU_NM': '동작구'}, {'BSSH_NM': '김밥짱', 'BSSH_SEQ_NO': 1418890732329.0, 'INDUTY_DESC': '한식', 'TLPHON_NO_CN': '02-831-2999', 'AR': '0', 'LEGALDONG_NM': '신대방동', 'ADRES_CN2': '서울특별시 동작구 여의대방로 30 (신대방동)', 'PRDLST_CODE_SE': '1418622761384', 'PRDLST_DESC': '김치찌개 백반', 'PC': 6000.0, 'CHCK_MD': '2021-08-18 00:00:00.0', 'GU_NM': '동작구'}, {'BSSH_NM': '김밥짱', 'BSSH_SEQ_NO': 1418890732329.0, 'INDUTY_DESC': '한식', 'TLPHON_NO_CN': '02-831-2999', 'AR': '0', 'LEGALDONG_NM': '신대방동', 'ADRES_CN2': '서울특별시 동작구 여의대방로 30 (신대방동)', 'PRDLST_CODE_SE': '1418622761374', 'PRDLST_DESC': '조리라면', 'PC': 3000.0, 'CHCK_MD': '2021-08-18 00:00:00.0', 'GU_NM': '동작구'}, {'BSSH_NM': '김밥짱', 'BSSH_SEQ_NO': 1418890732329.0, 'INDUTY_DESC': '한식', 'TLPHON_NO_CN': '02-831-2999', 'AR': '0', 'LEGALDONG_NM': '신대방동', 'ADRES_CN2': '서울특별시 동작구 여의대방로 30 (신대방동)', 'PRDLST_CODE_SE': '1418622761372', 'PRDLST_DESC': '된장찌개 백반', 'PC': 6000.0, 'CHCK_MD': '2021-08-18 00:00:00.0', 'GU_NM': '동작구'}]\n",
      "----- Ending endIndex= 7840\n"
     ]
    }
   ],
   "source": [
    "!python3 src/ds_open_IndividualServiceChargeService_json.py"
   ]
  },
  {
   "cell_type": "markdown",
   "metadata": {},
   "source": [
    "**7835**건을 읽었고, 마지막 줄 `8-18 00:00:00.0', 'GU_NM': '동작구'}]`가 출력된 것을 볼 수 있다."
   ]
  },
  {
   "cell_type": "code",
   "execution_count": 164,
   "metadata": {},
   "outputs": [
    {
     "name": "stdout",
     "output_type": "stream",
     "text": [
      "[{'BSSH_NM': '삼지', 'BSSH_SEQ_NO': 1418890661033.0, 'INDUTY_DESC': '한식', 'TLPHON_NO_CN': '02-763-8264', 'AR': '', 'LEGALDONG_NM': '재동', 'ADRES_CN2': '서울특별시 종로구 북촌로2길 5-7 (재동)', 'PRDLST_CODE_SE': '1418622761384', 'PRDLST_DESC': '김치찌개 백반', 'PC': 7000.0, 'CHCK_MD': '2021-08-18 00:00:00.0', 'GU_NM': '종로구'}, {'BSSH_NM': '삼지', 'BSSH_SEQ_NO': 1418890661033.0, 'INDUTY_DESC': '한식', 'TLPHON_NO_CN': '02-763-8264', 'AR': '', 'LEGALDONG_NM': '재동', 'ADRES_CN2': '서울특별시 종로구 북촌로2길 5-7 (재동)', 'PRDLST_CODE_SE': '1418622761373', 'PRDLST_DESC': '삼겹살', 'PC': 14000.0, 'CHCK_MD': '2021-08-18 00:00:00.0', 'GU_NM': '종로구'}, {'BSSH_NM': '삼지', 'BSSH_SEQ_NO': 1418890661033.0, 'INDUTY_DESC': '한식', 'TLPHON_NO_CN': '02-763-8264', 'AR': '', 'LEGALDONG_NM': '재동', 'ADRES_CN2': '서울특별시 종로구 북촌로2길 5-7 (재동)', 'PRDLST_CODE_SE': '1418622761372', 'PRDLST_DESC': '된장찌개 백반', 'PC': 7000.0, 'CHCK_MD': '2021-08-18 00:00:00.0', 'GU_NM': '종로구'}, {'BSSH_NM': '김밥짱', 'BSSH_SEQ_NO': 1418890732329.0, 'INDUTY_DESC': '경양식', 'TLPHON_NO_CN': '02-831-2999', 'AR': '0', 'LEGALDONG_NM': '신대방동', 'ADRES_CN2': '서울특별시 동작구 여의대방로 30 (신대방동)', 'PRDLST_CODE_SE': '1418622761420', 'PRDLST_DESC': '돈가스', 'PC': 7000.0, 'CHCK_MD': '2021-08-18 00:00:00.0', 'GU_NM': '동작구'}, {'BSSH_NM': '김밥짱', 'BSSH_SEQ_NO': 1418890732329.0, 'INDUTY_DESC': '한식', 'TLPHON_NO_CN': '02-831-2999', 'AR': '0', 'LEGALDONG_NM': '신대방동', 'ADRES_CN2': '서울특별시 동작구 여의대방로 30 (신대방동)', 'PRDLST_CODE_SE': '1418622761418', 'PRDLST_DESC': '김밥', 'PC': 2000.0, 'CHCK_MD': '2021-08-18 00:00:00.0', 'GU_NM': '동작구'}, {'BSSH_NM': '김밥짱', 'BSSH_SEQ_NO': 1418890732329.0, 'INDUTY_DESC': '한식', 'TLPHON_NO_CN': '02-831-2999', 'AR': '0', 'LEGALDONG_NM': '신대방동', 'ADRES_CN2': '서울특별시 동작구 여의대방로 30 (신대방동)', 'PRDLST_CODE_SE': '1418622761417', 'PRDLST_DESC': '칼국수', 'PC': 6000.0, 'CHCK_MD': '2021-08-18 00:00:00.0', 'GU_NM': '동작구'}, {'BSSH_NM': '김밥짱', 'BSSH_SEQ_NO': 1418890732329.0, 'INDUTY_DESC': '한식', 'TLPHON_NO_CN': '02-831-2999', 'AR': '0', 'LEGALDONG_NM': '신대방동', 'ADRES_CN2': '서울특별시 동작구 여의대방로 30 (신대방동)', 'PRDLST_CODE_SE': '1418622761411', 'PRDLST_DESC': '냉면(물)', 'PC': 6000.0, 'CHCK_MD': '2021-08-18 00:00:00.0', 'GU_NM': '동작구'}, {'BSSH_NM': '김밥짱', 'BSSH_SEQ_NO': 1418890732329.0, 'INDUTY_DESC': '한식', 'TLPHON_NO_CN': '02-831-2999', 'AR': '0', 'LEGALDONG_NM': '신대방동', 'ADRES_CN2': '서울특별시 동작구 여의대방로 30 (신대방동)', 'PRDLST_CODE_SE': '1418622761384', 'PRDLST_DESC': '김치찌개 백반', 'PC': 6000.0, 'CHCK_MD': '2021-08-18 00:00:00.0', 'GU_NM': '동작구'}, {'BSSH_NM': '김밥짱', 'BSSH_SEQ_NO': 1418890732329.0, 'INDUTY_DESC': '한식', 'TLPHON_NO_CN': '02-831-2999', 'AR': '0', 'LEGALDONG_NM': '신대방동', 'ADRES_CN2': '서울특별시 동작구 여의대방로 30 (신대방동)', 'PRDLST_CODE_SE': '1418622761374', 'PRDLST_DESC': '조리라면', 'PC': 3000.0, 'CHCK_MD': '2021-08-18 00:00:00.0', 'GU_NM': '동작구'}, {'BSSH_NM': '김밥짱', 'BSSH_SEQ_NO': 1418890732329.0, 'INDUTY_DESC': '한식', 'TLPHON_NO_CN': '02-831-2999', 'AR': '0', 'LEGALDONG_NM': '신대방동', 'ADRES_CN2': '서울특별시 동작구 여의대방로 30 (신대방동)', 'PRDLST_CODE_SE': '1418622761372', 'PRDLST_DESC': '된장찌개 백반', 'PC': 6000.0, 'CHCK_MD': '2021-08-18 00:00:00.0', 'GU_NM': '동작구'}]\n",
      "[{'BSSH_NM': '삼지', 'BSSH_SEQ_NO': 1418890661033.0, 'INDUTY_DESC': '한식', 'TLPHON_NO_CN': '02-763-8264', 'AR': '', 'LEGALDONG_NM': '재동', 'ADRES_CN2': '서울특별시 종로구 북촌로2길 5-7 (재동)', 'PRDLST_CODE_SE': '1418622761384', 'PRDLST_DESC': '김치찌개 백반', 'PC': 7000.0, 'CHCK_MD': '2021-08-18 00:00:00.0', 'GU_NM': '종로구'}, {'BSSH_NM': '삼지', 'BSSH_SEQ_NO': 1418890661033.0, 'INDUTY_DESC': '한식', 'TLPHON_NO_CN': '02-763-8264', 'AR': '', 'LEGALDONG_NM': '재동', 'ADRES_CN2': '서울특별시 종로구 북촌로2길 5-7 (재동)', 'PRDLST_CODE_SE': '1418622761373', 'PRDLST_DESC': '삼겹살', 'PC': 14000.0, 'CHCK_MD': '2021-08-18 00:00:00.0', 'GU_NM': '종로구'}, {'BSSH_NM': '삼지', 'BSSH_SEQ_NO': 1418890661033.0, 'INDUTY_DESC': '한식', 'TLPHON_NO_CN': '02-763-8264', 'AR': '', 'LEGALDONG_NM': '재동', 'ADRES_CN2': '서울특별시 종로구 북촌로2길 5-7 (재동)', 'PRDLST_CODE_SE': '1418622761372', 'PRDLST_DESC': '된장찌개 백반', 'PC': 7000.0, 'CHCK_MD': '2021-08-18 00:00:00.0', 'GU_NM': '종로구'}, {'BSSH_NM': '김밥짱', 'BSSH_SEQ_NO': 1418890732329.0, 'INDUTY_DESC': '경양식', 'TLPHON_NO_CN': '02-831-2999', 'AR': '0', 'LEGALDONG_NM': '신대방동', 'ADRES_CN2': '서울특별시 동작구 여의대방로 30 (신대방동)', 'PRDLST_CODE_SE': '1418622761420', 'PRDLST_DESC': '돈가스', 'PC': 7000.0, 'CHCK_MD': '2021-08-18 00:00:00.0', 'GU_NM': '동작구'}, {'BSSH_NM': '김밥짱', 'BSSH_SEQ_NO': 1418890732329.0, 'INDUTY_DESC': '한식', 'TLPHON_NO_CN': '02-831-2999', 'AR': '0', 'LEGALDONG_NM': '신대방동', 'ADRES_CN2': '서울특별시 동작구 여의대방로 30 (신대방동)', 'PRDLST_CODE_SE': '1418622761418', 'PRDLST_DESC': '김밥', 'PC': 2000.0, 'CHCK_MD': '2021-08-18 00:00:00.0', 'GU_NM': '동작구'}, {'BSSH_NM': '김밥짱', 'BSSH_SEQ_NO': 1418890732329.0, 'INDUTY_DESC': '한식', 'TLPHON_NO_CN': '02-831-2999', 'AR': '0', 'LEGALDONG_NM': '신대방동', 'ADRES_CN2': '서울특별시 동작구 여의대방로 30 (신대방동)', 'PRDLST_CODE_SE': '1418622761417', 'PRDLST_DESC': '칼국수', 'PC': 6000.0, 'CHCK_MD': '2021-08-18 00:00:00.0', 'GU_NM': '동작구'}, {'BSSH_NM': '김밥짱', 'BSSH_SEQ_NO': 1418890732329.0, 'INDUTY_DESC': '한식', 'TLPHON_NO_CN': '02-831-2999', 'AR': '0', 'LEGALDONG_NM': '신대방동', 'ADRES_CN2': '서울특별시 동작구 여의대방로 30 (신대방동)', 'PRDLST_CODE_SE': '1418622761411', 'PRDLST_DESC': '냉면(물)', 'PC': 6000.0, 'CHCK_MD': '2021-08-18 00:00:00.0', 'GU_NM': '동작구'}, {'BSSH_NM': '김밥짱', 'BSSH_SEQ_NO': 1418890732329.0, 'INDUTY_DESC': '한식', 'TLPHON_NO_CN': '02-831-2999', 'AR': '0', 'LEGALDONG_NM': '신대방동', 'ADRES_CN2': '서울특별시 동작구 여의대방로 30 (신대방동)', 'PRDLST_CODE_SE': '1418622761384', 'PRDLST_DESC': '김치찌개 백반', 'PC': 6000.0, 'CHCK_MD': '2021-08-18 00:00:00.0', 'GU_NM': '동작구'}, {'BSSH_NM': '김밥짱', 'BSSH_SEQ_NO': 1418890732329.0, 'INDUTY_DESC': '한식', 'TLPHON_NO_CN': '02-831-2999', 'AR': '0', 'LEGALDONG_NM': '신대방동', 'ADRES_CN2': '서울특별시 동작구 여의대방로 30 (신대방동)', 'PRDLST_CODE_SE': '1418622761374', 'PRDLST_DESC': '조리라면', 'PC': 3000.0, 'CHCK_MD': '2021-08-18 00:00:00.0', 'GU_NM': '동작구'}, {'BSSH_NM': '김밥짱', 'BSSH_SEQ_NO': 1418890732329.0, 'INDUTY_DESC': '한식', 'TLPHON_NO_CN': '02-831-2999', 'AR': '0', 'LEGALDONG_NM': '신대방동', 'ADRES_CN2': '서울특별시 동작구 여의대방로 30 (신대방동)', 'PRDLST_CODE_SE': '1418622761372', 'PRDLST_DESC': '된장찌개 백반', 'PC': 6000.0, 'CHCK_MD': '2021-08-18 00:00:00.0', 'GU_NM': '동작구'}]\n",
      "[{'BSSH_NM': '삼지', 'BSSH_SEQ_NO': 1418890661033.0, 'INDUTY_DESC': '한식', 'TLPHON_NO_CN': '02-763-8264', 'AR': '', 'LEGALDONG_NM': '재동', 'ADRES_CN2': '서울특별시 종로구 북촌로2길 5-7 (재동)', 'PRDLST_CODE_SE': '1418622761384', 'PRDLST_DESC': '김치찌개 백반', 'PC': 7000.0, 'CHCK_MD': '2021-08-18 00:00:00.0', 'GU_NM': '종로구'}, {'BSSH_NM': '삼지', 'BSSH_SEQ_NO': 1418890661033.0, 'INDUTY_DESC': '한식', 'TLPHON_NO_CN': '02-763-8264', 'AR': '', 'LEGALDONG_NM': '재동', 'ADRES_CN2': '서울특별시 종로구 북촌로2길 5-7 (재동)', 'PRDLST_CODE_SE': '1418622761373', 'PRDLST_DESC': '삼겹살', 'PC': 14000.0, 'CHCK_MD': '2021-08-18 00:00:00.0', 'GU_NM': '종로구'}, {'BSSH_NM': '삼지', 'BSSH_SEQ_NO': 1418890661033.0, 'INDUTY_DESC': '한식', 'TLPHON_NO_CN': '02-763-8264', 'AR': '', 'LEGALDONG_NM': '재동', 'ADRES_CN2': '서울특별시 종로구 북촌로2길 5-7 (재동)', 'PRDLST_CODE_SE': '1418622761372', 'PRDLST_DESC': '된장찌개 백반', 'PC': 7000.0, 'CHCK_MD': '2021-08-18 00:00:00.0', 'GU_NM': '종로구'}, {'BSSH_NM': '김밥짱', 'BSSH_SEQ_NO': 1418890732329.0, 'INDUTY_DESC': '경양식', 'TLPHON_NO_CN': '02-831-2999', 'AR': '0', 'LEGALDONG_NM': '신대방동', 'ADRES_CN2': '서울특별시 동작구 여의대방로 30 (신대방동)', 'PRDLST_CODE_SE': '1418622761420', 'PRDLST_DESC': '돈가스', 'PC': 7000.0, 'CHCK_MD': '2021-08-18 00:00:00.0', 'GU_NM': '동작구'}, {'BSSH_NM': '김밥짱', 'BSSH_SEQ_NO': 1418890732329.0, 'INDUTY_DESC': '한식', 'TLPHON_NO_CN': '02-831-2999', 'AR': '0', 'LEGALDONG_NM': '신대방동', 'ADRES_CN2': '서울특별시 동작구 여의대방로 30 (신대방동)', 'PRDLST_CODE_SE': '1418622761418', 'PRDLST_DESC': '김밥', 'PC': 2000.0, 'CHCK_MD': '2021-08-18 00:00:00.0', 'GU_NM': '동작구'}, {'BSSH_NM': '김밥짱', 'BSSH_SEQ_NO': 1418890732329.0, 'INDUTY_DESC': '한식', 'TLPHON_NO_CN': '02-831-2999', 'AR': '0', 'LEGALDONG_NM': '신대방동', 'ADRES_CN2': '서울특별시 동작구 여의대방로 30 (신대방동)', 'PRDLST_CODE_SE': '1418622761417', 'PRDLST_DESC': '칼국수', 'PC': 6000.0, 'CHCK_MD': '2021-08-18 00:00:00.0', 'GU_NM': '동작구'}, {'BSSH_NM': '김밥짱', 'BSSH_SEQ_NO': 1418890732329.0, 'INDUTY_DESC': '한식', 'TLPHON_NO_CN': '02-831-2999', 'AR': '0', 'LEGALDONG_NM': '신대방동', 'ADRES_CN2': '서울특별시 동작구 여의대방로 30 (신대방동)', 'PRDLST_CODE_SE': '1418622761411', 'PRDLST_DESC': '냉면(물)', 'PC': 6000.0, 'CHCK_MD': '2021-08-18 00:00:00.0', 'GU_NM': '동작구'}, {'BSSH_NM': '김밥짱', 'BSSH_SEQ_NO': 1418890732329.0, 'INDUTY_DESC': '한식', 'TLPHON_NO_CN': '02-831-2999', 'AR': '0', 'LEGALDONG_NM': '신대방동', 'ADRES_CN2': '서울특별시 동작구 여의대방로 30 (신대방동)', 'PRDLST_CODE_SE': '1418622761384', 'PRDLST_DESC': '김치찌개 백반', 'PC': 6000.0, 'CHCK_MD': '2021-08-18 00:00:00.0', 'GU_NM': '동작구'}, {'BSSH_NM': '김밥짱', 'BSSH_SEQ_NO': 1418890732329.0, 'INDUTY_DESC': '한식', 'TLPHON_NO_CN': '02-831-2999', 'AR': '0', 'LEGALDONG_NM': '신대방동', 'ADRES_CN2': '서울특별시 동작구 여의대방로 30 (신대방동)', 'PRDLST_CODE_SE': '1418622761374', 'PRDLST_DESC': '조리라면', 'PC': 3000.0, 'CHCK_MD': '2021-08-18 00:00:00.0', 'GU_NM': '동작구'}, {'BSSH_NM': '김밥짱', 'BSSH_SEQ_NO': 1418890732329.0, 'INDUTY_DESC': '한식', 'TLPHON_NO_CN': '02-831-2999', 'AR': '0', 'LEGALDONG_NM': '신대방동', 'ADRES_CN2': '서울특별시 동작구 여의대방로 30 (신대방동)', 'PRDLST_CODE_SE': '1418622761372', 'PRDLST_DESC': '된장찌개 백반', 'PC': 6000.0, 'CHCK_MD': '2021-08-18 00:00:00.0', 'GU_NM': '동작구'}]\n",
      "[{'BSSH_NM': '삼지', 'BSSH_SEQ_NO': 1418890661033.0, 'INDUTY_DESC': '한식', 'TLPHON_NO_CN': '02-763-8264', 'AR': '', 'LEGALDONG_NM': '재동', 'ADRES_CN2': '서울특별시 종로구 북촌로2길 5-7 (재동)', 'PRDLST_CODE_SE': '1418622761384', 'PRDLST_DESC': '김치찌개 백반', 'PC': 7000.0, 'CHCK_MD': '2021-08-18 00:00:00.0', 'GU_NM': '종로구'}, {'BSSH_NM': '삼지', 'BSSH_SEQ_NO': 1418890661033.0, 'INDUTY_DESC': '한식', 'TLPHON_NO_CN': '02-763-8264', 'AR': '', 'LEGALDONG_NM': '재동', 'ADRES_CN2': '서울특별시 종로구 북촌로2길 5-7 (재동)', 'PRDLST_CODE_SE': '1418622761373', 'PRDLST_DESC': '삼겹살', 'PC': 14000.0, 'CHCK_MD': '2021-08-18 00:00:00.0', 'GU_NM': '종로구'}, {'BSSH_NM': '삼지', 'BSSH_SEQ_NO': 1418890661033.0, 'INDUTY_DESC': '한식', 'TLPHON_NO_CN': '02-763-8264', 'AR': '', 'LEGALDONG_NM': '재동', 'ADRES_CN2': '서울특별시 종로구 북촌로2길 5-7 (재동)', 'PRDLST_CODE_SE': '1418622761372', 'PRDLST_DESC': '된장찌개 백반', 'PC': 7000.0, 'CHCK_MD': '2021-08-18 00:00:00.0', 'GU_NM': '종로구'}, {'BSSH_NM': '김밥짱', 'BSSH_SEQ_NO': 1418890732329.0, 'INDUTY_DESC': '경양식', 'TLPHON_NO_CN': '02-831-2999', 'AR': '0', 'LEGALDONG_NM': '신대방동', 'ADRES_CN2': '서울특별시 동작구 여의대방로 30 (신대방동)', 'PRDLST_CODE_SE': '1418622761420', 'PRDLST_DESC': '돈가스', 'PC': 7000.0, 'CHCK_MD': '2021-08-18 00:00:00.0', 'GU_NM': '동작구'}, {'BSSH_NM': '김밥짱', 'BSSH_SEQ_NO': 1418890732329.0, 'INDUTY_DESC': '한식', 'TLPHON_NO_CN': '02-831-2999', 'AR': '0', 'LEGALDONG_NM': '신대방동', 'ADRES_CN2': '서울특별시 동작구 여의대방로 30 (신대방동)', 'PRDLST_CODE_SE': '1418622761418', 'PRDLST_DESC': '김밥', 'PC': 2000.0, 'CHCK_MD': '2021-08-18 00:00:00.0', 'GU_NM': '동작구'}, {'BSSH_NM': '김밥짱', 'BSSH_SEQ_NO': 1418890732329.0, 'INDUTY_DESC': '한식', 'TLPHON_NO_CN': '02-831-2999', 'AR': '0', 'LEGALDONG_NM': '신대방동', 'ADRES_CN2': '서울특별시 동작구 여의대방로 30 (신대방동)', 'PRDLST_CODE_SE': '1418622761417', 'PRDLST_DESC': '칼국수', 'PC': 6000.0, 'CHCK_MD': '2021-08-18 00:00:00.0', 'GU_NM': '동작구'}, {'BSSH_NM': '김밥짱', 'BSSH_SEQ_NO': 1418890732329.0, 'INDUTY_DESC': '한식', 'TLPHON_NO_CN': '02-831-2999', 'AR': '0', 'LEGALDONG_NM': '신대방동', 'ADRES_CN2': '서울특별시 동작구 여의대방로 30 (신대방동)', 'PRDLST_CODE_SE': '1418622761411', 'PRDLST_DESC': '냉면(물)', 'PC': 6000.0, 'CHCK_MD': '2021-08-18 00:00:00.0', 'GU_NM': '동작구'}, {'BSSH_NM': '김밥짱', 'BSSH_SEQ_NO': 1418890732329.0, 'INDUTY_DESC': '한식', 'TLPHON_NO_CN': '02-831-2999', 'AR': '0', 'LEGALDONG_NM': '신대방동', 'ADRES_CN2': '서울특별시 동작구 여의대방로 30 (신대방동)', 'PRDLST_CODE_SE': '1418622761384', 'PRDLST_DESC': '김치찌개 백반', 'PC': 6000.0, 'CHCK_MD': '2021-08-18 00:00:00.0', 'GU_NM': '동작구'}, {'BSSH_NM': '김밥짱', 'BSSH_SEQ_NO': 1418890732329.0, 'INDUTY_DESC': '한식', 'TLPHON_NO_CN': '02-831-2999', 'AR': '0', 'LEGALDONG_NM': '신대방동', 'ADRES_CN2': '서울특별시 동작구 여의대방로 30 (신대방동)', 'PRDLST_CODE_SE': '1418622761374', 'PRDLST_DESC': '조리라면', 'PC': 3000.0, 'CHCK_MD': '2021-08-18 00:00:00.0', 'GU_NM': '동작구'}, {'BSSH_NM': '김밥짱', 'BSSH_SEQ_NO': 1418890732329.0, 'INDUTY_DESC': '한식', 'TLPHON_NO_CN': '02-831-2999', 'AR': '0', 'LEGALDONG_NM': '신대방동', 'ADRES_CN2': '서울특별시 동작구 여의대방로 30 (신대방동)', 'PRDLST_CODE_SE': '1418622761372', 'PRDLST_DESC': '된장찌개 백반', 'PC': 6000.0, 'CHCK_MD': '2021-08-18 00:00:00.0', 'GU_NM': '동작구'}]\n",
      "[{'BSSH_NM': '삼지', 'BSSH_SEQ_NO': 1418890661033.0, 'INDUTY_DESC': '한식', 'TLPHON_NO_CN': '02-763-8264', 'AR': '', 'LEGALDONG_NM': '재동', 'ADRES_CN2': '서울특별시 종로구 북촌로2길 5-7 (재동)', 'PRDLST_CODE_SE': '1418622761384', 'PRDLST_DESC': '김치찌개 백반', 'PC': 7000.0, 'CHCK_MD': '2021-08-18 00:00:00.0', 'GU_NM': '종로구'}, {'BSSH_NM': '삼지', 'BSSH_SEQ_NO': 1418890661033.0, 'INDUTY_DESC': '한식', 'TLPHON_NO_CN': '02-763-8264', 'AR': '', 'LEGALDONG_NM': '재동', 'ADRES_CN2': '서울특별시 종로구 북촌로2길 5-7 (재동)', 'PRDLST_CODE_SE': '1418622761373', 'PRDLST_DESC': '삼겹살', 'PC': 14000.0, 'CHCK_MD': '2021-08-18 00:00:00.0', 'GU_NM': '종로구'}, {'BSSH_NM': '삼지', 'BSSH_SEQ_NO': 1418890661033.0, 'INDUTY_DESC': '한식', 'TLPHON_NO_CN': '02-763-8264', 'AR': '', 'LEGALDONG_NM': '재동', 'ADRES_CN2': '서울특별시 종로구 북촌로2길 5-7 (재동)', 'PRDLST_CODE_SE': '1418622761372', 'PRDLST_DESC': '된장찌개 백반', 'PC': 7000.0, 'CHCK_MD': '2021-08-18 00:00:00.0', 'GU_NM': '종로구'}, {'BSSH_NM': '김밥짱', 'BSSH_SEQ_NO': 1418890732329.0, 'INDUTY_DESC': '경양식', 'TLPHON_NO_CN': '02-831-2999', 'AR': '0', 'LEGALDONG_NM': '신대방동', 'ADRES_CN2': '서울특별시 동작구 여의대방로 30 (신대방동)', 'PRDLST_CODE_SE': '1418622761420', 'PRDLST_DESC': '돈가스', 'PC': 7000.0, 'CHCK_MD': '2021-08-18 00:00:00.0', 'GU_NM': '동작구'}, {'BSSH_NM': '김밥짱', 'BSSH_SEQ_NO': 1418890732329.0, 'INDUTY_DESC': '한식', 'TLPHON_NO_CN': '02-831-2999', 'AR': '0', 'LEGALDONG_NM': '신대방동', 'ADRES_CN2': '서울특별시 동작구 여의대방로 30 (신대방동)', 'PRDLST_CODE_SE': '1418622761418', 'PRDLST_DESC': '김밥', 'PC': 2000.0, 'CHCK_MD': '2021-08-18 00:00:00.0', 'GU_NM': '동작구'}, {'BSSH_NM': '김밥짱', 'BSSH_SEQ_NO': 1418890732329.0, 'INDUTY_DESC': '한식', 'TLPHON_NO_CN': '02-831-2999', 'AR': '0', 'LEGALDONG_NM': '신대방동', 'ADRES_CN2': '서울특별시 동작구 여의대방로 30 (신대방동)', 'PRDLST_CODE_SE': '1418622761417', 'PRDLST_DESC': '칼국수', 'PC': 6000.0, 'CHCK_MD': '2021-08-18 00:00:00.0', 'GU_NM': '동작구'}, {'BSSH_NM': '김밥짱', 'BSSH_SEQ_NO': 1418890732329.0, 'INDUTY_DESC': '한식', 'TLPHON_NO_CN': '02-831-2999', 'AR': '0', 'LEGALDONG_NM': '신대방동', 'ADRES_CN2': '서울특별시 동작구 여의대방로 30 (신대방동)', 'PRDLST_CODE_SE': '1418622761411', 'PRDLST_DESC': '냉면(물)', 'PC': 6000.0, 'CHCK_MD': '2021-08-18 00:00:00.0', 'GU_NM': '동작구'}, {'BSSH_NM': '김밥짱', 'BSSH_SEQ_NO': 1418890732329.0, 'INDUTY_DESC': '한식', 'TLPHON_NO_CN': '02-831-2999', 'AR': '0', 'LEGALDONG_NM': '신대방동', 'ADRES_CN2': '서울특별시 동작구 여의대방로 30 (신대방동)', 'PRDLST_CODE_SE': '1418622761384', 'PRDLST_DESC': '김치찌개 백반', 'PC': 6000.0, 'CHCK_MD': '2021-08-18 00:00:00.0', 'GU_NM': '동작구'}, {'BSSH_NM': '김밥짱', 'BSSH_SEQ_NO': 1418890732329.0, 'INDUTY_DESC': '한식', 'TLPHON_NO_CN': '02-831-2999', 'AR': '0', 'LEGALDONG_NM': '신대방동', 'ADRES_CN2': '서울특별시 동작구 여의대방로 30 (신대방동)', 'PRDLST_CODE_SE': '1418622761374', 'PRDLST_DESC': '조리라면', 'PC': 3000.0, 'CHCK_MD': '2021-08-18 00:00:00.0', 'GU_NM': '동작구'}, {'BSSH_NM': '김밥짱', 'BSSH_SEQ_NO': 1418890732329.0, 'INDUTY_DESC': '한식', 'TLPHON_NO_CN': '02-831-2999', 'AR': '0', 'LEGALDONG_NM': '신대방동', 'ADRES_CN2': '서울특별시 동작구 여의대방로 30 (신대방동)', 'PRDLST_CODE_SE': '1418622761372', 'PRDLST_DESC': '된장찌개 백반', 'PC': 6000.0, 'CHCK_MD': '2021-08-18 00:00:00.0', 'GU_NM': '동작구'}]\n",
      "[{'BSSH_NM': '삼지', 'BSSH_SEQ_NO': 1418890661033.0, 'INDUTY_DESC': '한식', 'TLPHON_NO_CN': '02-763-8264', 'AR': '', 'LEGALDONG_NM': '재동', 'ADRES_CN2': '서울특별시 종로구 북촌로2길 5-7 (재동)', 'PRDLST_CODE_SE': '1418622761384', 'PRDLST_DESC': '김치찌개 백반', 'PC': 7000.0, 'CHCK_MD': '2021-08-18 00:00:00.0', 'GU_NM': '종로구'}, {'BSSH_NM': '삼지', 'BSSH_SEQ_NO': 1418890661033.0, 'INDUTY_DESC': '한식', 'TLPHON_NO_CN': '02-763-8264', 'AR': '', 'LEGALDONG_NM': '재동', 'ADRES_CN2': '서울특별시 종로구 북촌로2길 5-7 (재동)', 'PRDLST_CODE_SE': '1418622761373', 'PRDLST_DESC': '삼겹살', 'PC': 14000.0, 'CHCK_MD': '2021-08-18 00:00:00.0', 'GU_NM': '종로구'}, {'BSSH_NM': '삼지', 'BSSH_SEQ_NO': 1418890661033.0, 'INDUTY_DESC': '한식', 'TLPHON_NO_CN': '02-763-8264', 'AR': '', 'LEGALDONG_NM': '재동', 'ADRES_CN2': '서울특별시 종로구 북촌로2길 5-7 (재동)', 'PRDLST_CODE_SE': '1418622761372', 'PRDLST_DESC': '된장찌개 백반', 'PC': 7000.0, 'CHCK_MD': '2021-08-18 00:00:00.0', 'GU_NM': '종로구'}, {'BSSH_NM': '김밥짱', 'BSSH_SEQ_NO': 1418890732329.0, 'INDUTY_DESC': '경양식', 'TLPHON_NO_CN': '02-831-2999', 'AR': '0', 'LEGALDONG_NM': '신대방동', 'ADRES_CN2': '서울특별시 동작구 여의대방로 30 (신대방동)', 'PRDLST_CODE_SE': '1418622761420', 'PRDLST_DESC': '돈가스', 'PC': 7000.0, 'CHCK_MD': '2021-08-18 00:00:00.0', 'GU_NM': '동작구'}, {'BSSH_NM': '김밥짱', 'BSSH_SEQ_NO': 1418890732329.0, 'INDUTY_DESC': '한식', 'TLPHON_NO_CN': '02-831-2999', 'AR': '0', 'LEGALDONG_NM': '신대방동', 'ADRES_CN2': '서울특별시 동작구 여의대방로 30 (신대방동)', 'PRDLST_CODE_SE': '1418622761418', 'PRDLST_DESC': '김밥', 'PC': 2000.0, 'CHCK_MD': '2021-08-18 00:00:00.0', 'GU_NM': '동작구'}, {'BSSH_NM': '김밥짱', 'BSSH_SEQ_NO': 1418890732329.0, 'INDUTY_DESC': '한식', 'TLPHON_NO_CN': '02-831-2999', 'AR': '0', 'LEGALDONG_NM': '신대방동', 'ADRES_CN2': '서울특별시 동작구 여의대방로 30 (신대방동)', 'PRDLST_CODE_SE': '1418622761417', 'PRDLST_DESC': '칼국수', 'PC': 6000.0, 'CHCK_MD': '2021-08-18 00:00:00.0', 'GU_NM': '동작구'}, {'BSSH_NM': '김밥짱', 'BSSH_SEQ_NO': 1418890732329.0, 'INDUTY_DESC': '한식', 'TLPHON_NO_CN': '02-831-2999', 'AR': '0', 'LEGALDONG_NM': '신대방동', 'ADRES_CN2': '서울특별시 동작구 여의대방로 30 (신대방동)', 'PRDLST_CODE_SE': '1418622761411', 'PRDLST_DESC': '냉면(물)', 'PC': 6000.0, 'CHCK_MD': '2021-08-18 00:00:00.0', 'GU_NM': '동작구'}, {'BSSH_NM': '김밥짱', 'BSSH_SEQ_NO': 1418890732329.0, 'INDUTY_DESC': '한식', 'TLPHON_NO_CN': '02-831-2999', 'AR': '0', 'LEGALDONG_NM': '신대방동', 'ADRES_CN2': '서울특별시 동작구 여의대방로 30 (신대방동)', 'PRDLST_CODE_SE': '1418622761384', 'PRDLST_DESC': '김치찌개 백반', 'PC': 6000.0, 'CHCK_MD': '2021-08-18 00:00:00.0', 'GU_NM': '동작구'}, {'BSSH_NM': '김밥짱', 'BSSH_SEQ_NO': 1418890732329.0, 'INDUTY_DESC': '한식', 'TLPHON_NO_CN': '02-831-2999', 'AR': '0', 'LEGALDONG_NM': '신대방동', 'ADRES_CN2': '서울특별시 동작구 여의대방로 30 (신대방동)', 'PRDLST_CODE_SE': '1418622761374', 'PRDLST_DESC': '조리라면', 'PC': 3000.0, 'CHCK_MD': '2021-08-18 00:00:00.0', 'GU_NM': '동작구'}, {'BSSH_NM': '김밥짱', 'BSSH_SEQ_NO': 1418890732329.0, 'INDUTY_DESC': '한식', 'TLPHON_NO_CN': '02-831-2999', 'AR': '0', 'LEGALDONG_NM': '신대방동', 'ADRES_CN2': '서울특별시 동작구 여의대방로 30 (신대방동)', 'PRDLST_CODE_SE': '1418622761372', 'PRDLST_DESC': '된장찌개 백반', 'PC': 6000.0, 'CHCK_MD': '2021-08-18 00:00:00.0', 'GU_NM': '동작구'}]\n",
      "[{'BSSH_NM': '삼지', 'BSSH_SEQ_NO': 1418890661033.0, 'INDUTY_DESC': '한식', 'TLPHON_NO_CN': '02-763-8264', 'AR': '', 'LEGALDONG_NM': '재동', 'ADRES_CN2': '서울특별시 종로구 북촌로2길 5-7 (재동)', 'PRDLST_CODE_SE': '1418622761384', 'PRDLST_DESC': '김치찌개 백반', 'PC': 7000.0, 'CHCK_MD': '2021-08-18 00:00:00.0', 'GU_NM': '종로구'}, {'BSSH_NM': '삼지', 'BSSH_SEQ_NO': 1418890661033.0, 'INDUTY_DESC': '한식', 'TLPHON_NO_CN': '02-763-8264', 'AR': '', 'LEGALDONG_NM': '재동', 'ADRES_CN2': '서울특별시 종로구 북촌로2길 5-7 (재동)', 'PRDLST_CODE_SE': '1418622761373', 'PRDLST_DESC': '삼겹살', 'PC': 14000.0, 'CHCK_MD': '2021-08-18 00:00:00.0', 'GU_NM': '종로구'}, {'BSSH_NM': '삼지', 'BSSH_SEQ_NO': 1418890661033.0, 'INDUTY_DESC': '한식', 'TLPHON_NO_CN': '02-763-8264', 'AR': '', 'LEGALDONG_NM': '재동', 'ADRES_CN2': '서울특별시 종로구 북촌로2길 5-7 (재동)', 'PRDLST_CODE_SE': '1418622761372', 'PRDLST_DESC': '된장찌개 백반', 'PC': 7000.0, 'CHCK_MD': '2021-08-18 00:00:00.0', 'GU_NM': '종로구'}, {'BSSH_NM': '김밥짱', 'BSSH_SEQ_NO': 1418890732329.0, 'INDUTY_DESC': '경양식', 'TLPHON_NO_CN': '02-831-2999', 'AR': '0', 'LEGALDONG_NM': '신대방동', 'ADRES_CN2': '서울특별시 동작구 여의대방로 30 (신대방동)', 'PRDLST_CODE_SE': '1418622761420', 'PRDLST_DESC': '돈가스', 'PC': 7000.0, 'CHCK_MD': '2021-08-18 00:00:00.0', 'GU_NM': '동작구'}, {'BSSH_NM': '김밥짱', 'BSSH_SEQ_NO': 1418890732329.0, 'INDUTY_DESC': '한식', 'TLPHON_NO_CN': '02-831-2999', 'AR': '0', 'LEGALDONG_NM': '신대방동', 'ADRES_CN2': '서울특별시 동작구 여의대방로 30 (신대방동)', 'PRDLST_CODE_SE': '1418622761418', 'PRDLST_DESC': '김밥', 'PC': 2000.0, 'CHCK_MD': '2021-08-18 00:00:00.0', 'GU_NM': '동작구'}, {'BSSH_NM': '김밥짱', 'BSSH_SEQ_NO': 1418890732329.0, 'INDUTY_DESC': '한식', 'TLPHON_NO_CN': '02-831-2999', 'AR': '0', 'LEGALDONG_NM': '신대방동', 'ADRES_CN2': '서울특별시 동작구 여의대방로 30 (신대방동)', 'PRDLST_CODE_SE': '1418622761417', 'PRDLST_DESC': '칼국수', 'PC': 6000.0, 'CHCK_MD': '2021-08-18 00:00:00.0', 'GU_NM': '동작구'}, {'BSSH_NM': '김밥짱', 'BSSH_SEQ_NO': 1418890732329.0, 'INDUTY_DESC': '한식', 'TLPHON_NO_CN': '02-831-2999', 'AR': '0', 'LEGALDONG_NM': '신대방동', 'ADRES_CN2': '서울특별시 동작구 여의대방로 30 (신대방동)', 'PRDLST_CODE_SE': '1418622761411', 'PRDLST_DESC': '냉면(물)', 'PC': 6000.0, 'CHCK_MD': '2021-08-18 00:00:00.0', 'GU_NM': '동작구'}, {'BSSH_NM': '김밥짱', 'BSSH_SEQ_NO': 1418890732329.0, 'INDUTY_DESC': '한식', 'TLPHON_NO_CN': '02-831-2999', 'AR': '0', 'LEGALDONG_NM': '신대방동', 'ADRES_CN2': '서울특별시 동작구 여의대방로 30 (신대방동)', 'PRDLST_CODE_SE': '1418622761384', 'PRDLST_DESC': '김치찌개 백반', 'PC': 6000.0, 'CHCK_MD': '2021-08-18 00:00:00.0', 'GU_NM': '동작구'}, {'BSSH_NM': '김밥짱', 'BSSH_SEQ_NO': 1418890732329.0, 'INDUTY_DESC': '한식', 'TLPHON_NO_CN': '02-831-2999', 'AR': '0', 'LEGALDONG_NM': '신대방동', 'ADRES_CN2': '서울특별시 동작구 여의대방로 30 (신대방동)', 'PRDLST_CODE_SE': '1418622761374', 'PRDLST_DESC': '조리라면', 'PC': 3000.0, 'CHCK_MD': '2021-08-18 00:00:00.0', 'GU_NM': '동작구'}, {'BSSH_NM': '김밥짱', 'BSSH_SEQ_NO': 1418890732329.0, 'INDUTY_DESC': '한식', 'TLPHON_NO_CN': '02-831-2999', 'AR': '0', 'LEGALDONG_NM': '신대방동', 'ADRES_CN2': '서울특별시 동작구 여의대방로 30 (신대방동)', 'PRDLST_CODE_SE': '1418622761372', 'PRDLST_DESC': '된장찌개 백반', 'PC': 6000.0, 'CHCK_MD': '2021-08-18 00:00:00.0', 'GU_NM': '동작구'}]\n",
      "[{'BSSH_NM': '삼지', 'BSSH_SEQ_NO': 1418890661033.0, 'INDUTY_DESC': '한식', 'TLPHON_NO_CN': '02-763-8264', 'AR': '', 'LEGALDONG_NM': '재동', 'ADRES_CN2': '서울특별시 종로구 북촌로2길 5-7 (재동)', 'PRDLST_CODE_SE': '1418622761384', 'PRDLST_DESC': '김치찌개 백반', 'PC': 7000.0, 'CHCK_MD': '2021-08-18 00:00:00.0', 'GU_NM': '종로구'}, {'BSSH_NM': '삼지', 'BSSH_SEQ_NO': 1418890661033.0, 'INDUTY_DESC': '한식', 'TLPHON_NO_CN': '02-763-8264', 'AR': '', 'LEGALDONG_NM': '재동', 'ADRES_CN2': '서울특별시 종로구 북촌로2길 5-7 (재동)', 'PRDLST_CODE_SE': '1418622761373', 'PRDLST_DESC': '삼겹살', 'PC': 14000.0, 'CHCK_MD': '2021-08-18 00:00:00.0', 'GU_NM': '종로구'}, {'BSSH_NM': '삼지', 'BSSH_SEQ_NO': 1418890661033.0, 'INDUTY_DESC': '한식', 'TLPHON_NO_CN': '02-763-8264', 'AR': '', 'LEGALDONG_NM': '재동', 'ADRES_CN2': '서울특별시 종로구 북촌로2길 5-7 (재동)', 'PRDLST_CODE_SE': '1418622761372', 'PRDLST_DESC': '된장찌개 백반', 'PC': 7000.0, 'CHCK_MD': '2021-08-18 00:00:00.0', 'GU_NM': '종로구'}, {'BSSH_NM': '김밥짱', 'BSSH_SEQ_NO': 1418890732329.0, 'INDUTY_DESC': '경양식', 'TLPHON_NO_CN': '02-831-2999', 'AR': '0', 'LEGALDONG_NM': '신대방동', 'ADRES_CN2': '서울특별시 동작구 여의대방로 30 (신대방동)', 'PRDLST_CODE_SE': '1418622761420', 'PRDLST_DESC': '돈가스', 'PC': 7000.0, 'CHCK_MD': '2021-08-18 00:00:00.0', 'GU_NM': '동작구'}, {'BSSH_NM': '김밥짱', 'BSSH_SEQ_NO': 1418890732329.0, 'INDUTY_DESC': '한식', 'TLPHON_NO_CN': '02-831-2999', 'AR': '0', 'LEGALDONG_NM': '신대방동', 'ADRES_CN2': '서울특별시 동작구 여의대방로 30 (신대방동)', 'PRDLST_CODE_SE': '1418622761418', 'PRDLST_DESC': '김밥', 'PC': 2000.0, 'CHCK_MD': '2021-08-18 00:00:00.0', 'GU_NM': '동작구'}, {'BSSH_NM': '김밥짱', 'BSSH_SEQ_NO': 1418890732329.0, 'INDUTY_DESC': '한식', 'TLPHON_NO_CN': '02-831-2999', 'AR': '0', 'LEGALDONG_NM': '신대방동', 'ADRES_CN2': '서울특별시 동작구 여의대방로 30 (신대방동)', 'PRDLST_CODE_SE': '1418622761417', 'PRDLST_DESC': '칼국수', 'PC': 6000.0, 'CHCK_MD': '2021-08-18 00:00:00.0', 'GU_NM': '동작구'}, {'BSSH_NM': '김밥짱', 'BSSH_SEQ_NO': 1418890732329.0, 'INDUTY_DESC': '한식', 'TLPHON_NO_CN': '02-831-2999', 'AR': '0', 'LEGALDONG_NM': '신대방동', 'ADRES_CN2': '서울특별시 동작구 여의대방로 30 (신대방동)', 'PRDLST_CODE_SE': '1418622761411', 'PRDLST_DESC': '냉면(물)', 'PC': 6000.0, 'CHCK_MD': '2021-08-18 00:00:00.0', 'GU_NM': '동작구'}, {'BSSH_NM': '김밥짱', 'BSSH_SEQ_NO': 1418890732329.0, 'INDUTY_DESC': '한식', 'TLPHON_NO_CN': '02-831-2999', 'AR': '0', 'LEGALDONG_NM': '신대방동', 'ADRES_CN2': '서울특별시 동작구 여의대방로 30 (신대방동)', 'PRDLST_CODE_SE': '1418622761384', 'PRDLST_DESC': '김치찌개 백반', 'PC': 6000.0, 'CHCK_MD': '2021-08-18 00:00:00.0', 'GU_NM': '동작구'}, {'BSSH_NM': '김밥짱', 'BSSH_SEQ_NO': 1418890732329.0, 'INDUTY_DESC': '한식', 'TLPHON_NO_CN': '02-831-2999', 'AR': '0', 'LEGALDONG_NM': '신대방동', 'ADRES_CN2': '서울특별시 동작구 여의대방로 30 (신대방동)', 'PRDLST_CODE_SE': '1418622761374', 'PRDLST_DESC': '조리라면', 'PC': 3000.0, 'CHCK_MD': '2021-08-18 00:00:00.0', 'GU_NM': '동작구'}, {'BSSH_NM': '김밥짱', 'BSSH_SEQ_NO': 1418890732329.0, 'INDUTY_DESC': '한식', 'TLPHON_NO_CN': '02-831-2999', 'AR': '0', 'LEGALDONG_NM': '신대방동', 'ADRES_CN2': '서울특별시 동작구 여의대방로 30 (신대방동)', 'PRDLST_CODE_SE': '1418622761372', 'PRDLST_DESC': '된장찌개 백반', 'PC': 6000.0, 'CHCK_MD': '2021-08-18 00:00:00.0', 'GU_NM': '동작구'}]\n",
      "[{'BSSH_NM': '삼지', 'BSSH_SEQ_NO': 1418890661033.0, 'INDUTY_DESC': '한식', 'TLPHON_NO_CN': '02-763-8264', 'AR': '', 'LEGALDONG_NM': '재동', 'ADRES_CN2': '서울특별시 종로구 북촌로2길 5-7 (재동)', 'PRDLST_CODE_SE': '1418622761384', 'PRDLST_DESC': '김치찌개 백반', 'PC': 7000.0, 'CHCK_MD': '2021-08-18 00:00:00.0', 'GU_NM': '종로구'}, {'BSSH_NM': '삼지', 'BSSH_SEQ_NO': 1418890661033.0, 'INDUTY_DESC': '한식', 'TLPHON_NO_CN': '02-763-8264', 'AR': '', 'LEGALDONG_NM': '재동', 'ADRES_CN2': '서울특별시 종로구 북촌로2길 5-7 (재동)', 'PRDLST_CODE_SE': '1418622761373', 'PRDLST_DESC': '삼겹살', 'PC': 14000.0, 'CHCK_MD': '2021-08-18 00:00:00.0', 'GU_NM': '종로구'}, {'BSSH_NM': '삼지', 'BSSH_SEQ_NO': 1418890661033.0, 'INDUTY_DESC': '한식', 'TLPHON_NO_CN': '02-763-8264', 'AR': '', 'LEGALDONG_NM': '재동', 'ADRES_CN2': '서울특별시 종로구 북촌로2길 5-7 (재동)', 'PRDLST_CODE_SE': '1418622761372', 'PRDLST_DESC': '된장찌개 백반', 'PC': 7000.0, 'CHCK_MD': '2021-08-18 00:00:00.0', 'GU_NM': '종로구'}, {'BSSH_NM': '김밥짱', 'BSSH_SEQ_NO': 1418890732329.0, 'INDUTY_DESC': '경양식', 'TLPHON_NO_CN': '02-831-2999', 'AR': '0', 'LEGALDONG_NM': '신대방동', 'ADRES_CN2': '서울특별시 동작구 여의대방로 30 (신대방동)', 'PRDLST_CODE_SE': '1418622761420', 'PRDLST_DESC': '돈가스', 'PC': 7000.0, 'CHCK_MD': '2021-08-18 00:00:00.0', 'GU_NM': '동작구'}, {'BSSH_NM': '김밥짱', 'BSSH_SEQ_NO': 1418890732329.0, 'INDUTY_DESC': '한식', 'TLPHON_NO_CN': '02-831-2999', 'AR': '0', 'LEGALDONG_NM': '신대방동', 'ADRES_CN2': '서울특별시 동작구 여의대방로 30 (신대방동)', 'PRDLST_CODE_SE': '1418622761418', 'PRDLST_DESC': '김밥', 'PC': 2000.0, 'CHCK_MD': '2021-08-18 00:00:00.0', 'GU_NM': '동작구'}, {'BSSH_NM': '김밥짱', 'BSSH_SEQ_NO': 1418890732329.0, 'INDUTY_DESC': '한식', 'TLPHON_NO_CN': '02-831-2999', 'AR': '0', 'LEGALDONG_NM': '신대방동', 'ADRES_CN2': '서울특별시 동작구 여의대방로 30 (신대방동)', 'PRDLST_CODE_SE': '1418622761417', 'PRDLST_DESC': '칼국수', 'PC': 6000.0, 'CHCK_MD': '2021-08-18 00:00:00.0', 'GU_NM': '동작구'}, {'BSSH_NM': '김밥짱', 'BSSH_SEQ_NO': 1418890732329.0, 'INDUTY_DESC': '한식', 'TLPHON_NO_CN': '02-831-2999', 'AR': '0', 'LEGALDONG_NM': '신대방동', 'ADRES_CN2': '서울특별시 동작구 여의대방로 30 (신대방동)', 'PRDLST_CODE_SE': '1418622761411', 'PRDLST_DESC': '냉면(물)', 'PC': 6000.0, 'CHCK_MD': '2021-08-18 00:00:00.0', 'GU_NM': '동작구'}, {'BSSH_NM': '김밥짱', 'BSSH_SEQ_NO': 1418890732329.0, 'INDUTY_DESC': '한식', 'TLPHON_NO_CN': '02-831-2999', 'AR': '0', 'LEGALDONG_NM': '신대방동', 'ADRES_CN2': '서울특별시 동작구 여의대방로 30 (신대방동)', 'PRDLST_CODE_SE': '1418622761384', 'PRDLST_DESC': '김치찌개 백반', 'PC': 6000.0, 'CHCK_MD': '2021-08-18 00:00:00.0', 'GU_NM': '동작구'}, {'BSSH_NM': '김밥짱', 'BSSH_SEQ_NO': 1418890732329.0, 'INDUTY_DESC': '한식', 'TLPHON_NO_CN': '02-831-2999', 'AR': '0', 'LEGALDONG_NM': '신대방동', 'ADRES_CN2': '서울특별시 동작구 여의대방로 30 (신대방동)', 'PRDLST_CODE_SE': '1418622761374', 'PRDLST_DESC': '조리라면', 'PC': 3000.0, 'CHCK_MD': '2021-08-18 00:00:00.0', 'GU_NM': '동작구'}, {'BSSH_NM': '김밥짱', 'BSSH_SEQ_NO': 1418890732329.0, 'INDUTY_DESC': '한식', 'TLPHON_NO_CN': '02-831-2999', 'AR': '0', 'LEGALDONG_NM': '신대방동', 'ADRES_CN2': '서울특별시 동작구 여의대방로 30 (신대방동)', 'PRDLST_CODE_SE': '1418622761372', 'PRDLST_DESC': '된장찌개 백반', 'PC': 6000.0, 'CHCK_MD': '2021-08-18 00:00:00.0', 'GU_NM': '동작구'}]\n",
      "[{'BSSH_NM': '삼지', 'BSSH_SEQ_NO': 1418890661033.0, 'INDUTY_DESC': '한식', 'TLPHON_NO_CN': '02-763-8264', 'AR': '', 'LEGALDONG_NM': '재동', 'ADRES_CN2': '서울특별시 종로구 북촌로2길 5-7 (재동)', 'PRDLST_CODE_SE': '1418622761384', 'PRDLST_DESC': '김치찌개 백반', 'PC': 7000.0, 'CHCK_MD': '2021-08-18 00:00:00.0', 'GU_NM': '종로구'}, {'BSSH_NM': '삼지', 'BSSH_SEQ_NO': 1418890661033.0, 'INDUTY_DESC': '한식', 'TLPHON_NO_CN': '02-763-8264', 'AR': '', 'LEGALDONG_NM': '재동', 'ADRES_CN2': '서울특별시 종로구 북촌로2길 5-7 (재동)', 'PRDLST_CODE_SE': '1418622761373', 'PRDLST_DESC': '삼겹살', 'PC': 14000.0, 'CHCK_MD': '2021-08-18 00:00:00.0', 'GU_NM': '종로구'}, {'BSSH_NM': '삼지', 'BSSH_SEQ_NO': 1418890661033.0, 'INDUTY_DESC': '한식', 'TLPHON_NO_CN': '02-763-8264', 'AR': '', 'LEGALDONG_NM': '재동', 'ADRES_CN2': '서울특별시 종로구 북촌로2길 5-7 (재동)', 'PRDLST_CODE_SE': '1418622761372', 'PRDLST_DESC': '된장찌개 백반', 'PC': 7000.0, 'CHCK_MD': '2021-08-18 00:00:00.0', 'GU_NM': '종로구'}, {'BSSH_NM': '김밥짱', 'BSSH_SEQ_NO': 1418890732329.0, 'INDUTY_DESC': '경양식', 'TLPHON_NO_CN': '02-831-2999', 'AR': '0', 'LEGALDONG_NM': '신대방동', 'ADRES_CN2': '서울특별시 동작구 여의대방로 30 (신대방동)', 'PRDLST_CODE_SE': '1418622761420', 'PRDLST_DESC': '돈가스', 'PC': 7000.0, 'CHCK_MD': '2021-08-18 00:00:00.0', 'GU_NM': '동작구'}, {'BSSH_NM': '김밥짱', 'BSSH_SEQ_NO': 1418890732329.0, 'INDUTY_DESC': '한식', 'TLPHON_NO_CN': '02-831-2999', 'AR': '0', 'LEGALDONG_NM': '신대방동', 'ADRES_CN2': '서울특별시 동작구 여의대방로 30 (신대방동)', 'PRDLST_CODE_SE': '1418622761418', 'PRDLST_DESC': '김밥', 'PC': 2000.0, 'CHCK_MD': '2021-08-18 00:00:00.0', 'GU_NM': '동작구'}, {'BSSH_NM': '김밥짱', 'BSSH_SEQ_NO': 1418890732329.0, 'INDUTY_DESC': '한식', 'TLPHON_NO_CN': '02-831-2999', 'AR': '0', 'LEGALDONG_NM': '신대방동', 'ADRES_CN2': '서울특별시 동작구 여의대방로 30 (신대방동)', 'PRDLST_CODE_SE': '1418622761417', 'PRDLST_DESC': '칼국수', 'PC': 6000.0, 'CHCK_MD': '2021-08-18 00:00:00.0', 'GU_NM': '동작구'}, {'BSSH_NM': '김밥짱', 'BSSH_SEQ_NO': 1418890732329.0, 'INDUTY_DESC': '한식', 'TLPHON_NO_CN': '02-831-2999', 'AR': '0', 'LEGALDONG_NM': '신대방동', 'ADRES_CN2': '서울특별시 동작구 여의대방로 30 (신대방동)', 'PRDLST_CODE_SE': '1418622761411', 'PRDLST_DESC': '냉면(물)', 'PC': 6000.0, 'CHCK_MD': '2021-08-18 00:00:00.0', 'GU_NM': '동작구'}, {'BSSH_NM': '김밥짱', 'BSSH_SEQ_NO': 1418890732329.0, 'INDUTY_DESC': '한식', 'TLPHON_NO_CN': '02-831-2999', 'AR': '0', 'LEGALDONG_NM': '신대방동', 'ADRES_CN2': '서울특별시 동작구 여의대방로 30 (신대방동)', 'PRDLST_CODE_SE': '1418622761384', 'PRDLST_DESC': '김치찌개 백반', 'PC': 6000.0, 'CHCK_MD': '2021-08-18 00:00:00.0', 'GU_NM': '동작구'}, {'BSSH_NM': '김밥짱', 'BSSH_SEQ_NO': 1418890732329.0, 'INDUTY_DESC': '한식', 'TLPHON_NO_CN': '02-831-2999', 'AR': '0', 'LEGALDONG_NM': '신대방동', 'ADRES_CN2': '서울특별시 동작구 여의대방로 30 (신대방동)', 'PRDLST_CODE_SE': '1418622761374', 'PRDLST_DESC': '조리라면', 'PC': 3000.0, 'CHCK_MD': '2021-08-18 00:00:00.0', 'GU_NM': '동작구'}, {'BSSH_NM': '김밥짱', 'BSSH_SEQ_NO': 1418890732329.0, 'INDUTY_DESC': '한식', 'TLPHON_NO_CN': '02-831-2999', 'AR': '0', 'LEGALDONG_NM': '신대방동', 'ADRES_CN2': '서울특별시 동작구 여의대방로 30 (신대방동)', 'PRDLST_CODE_SE': '1418622761372', 'PRDLST_DESC': '된장찌개 백반', 'PC': 6000.0, 'CHCK_MD': '2021-08-18 00:00:00.0', 'GU_NM': '동작구'}]\n",
      "----- Ending endIndex= 7840\n"
     ]
    }
   ],
   "source": [
    "!type ds_open_IndividualServiceChargeService_xml.txt"
   ]
  },
  {
   "cell_type": "code",
   "execution_count": 165,
   "metadata": {},
   "outputs": [
    {
     "name": "stdout",
     "output_type": "stream",
     "text": [
      " C 드라이브의 볼륨에는 이름이 없습니다.\n",
      " 볼륨 일련 번호: C826-817A\n",
      "\n",
      " C:\\Users\\zaqxs\\Code\\201910787\\s-master\\src 디렉터리\n",
      "\n",
      "2021-09-18  오후 08:02    <DIR>          .\n",
      "2021-09-18  오후 08:02    <DIR>          ..\n",
      "2021-09-11  오후 03:13    <DIR>          .ipynb_checkpoints\n",
      "2021-09-12  오후 08:01               649 ds_open_cardBusTime.py\n",
      "2021-09-11  오전 12:35               999 ds_open_foreigners_xml.py\n",
      "2021-09-15  오후 02:14               967 ds_open_gokr_ex.py\n",
      "2021-09-11  오전 12:34               163 ds_open_hello.xml\n",
      "2021-09-18  오후 08:02             1,448 ds_open_IndividualServiceChargeService_json.py\n",
      "2021-09-18  오후 08:07            33,649 ds_open_IndividualServiceChargeService_xml.txt\n",
      "2021-09-15  오후 02:22               769 ds_open_library.py\n",
      "2021-09-12  오후 02:56            12,198 ds_open_library.xml\n",
      "2021-09-15  오후 02:19               181 ds_open_library_exl.txt\n",
      "2021-09-15  오후 02:22            11,191 ds_open_library_xml.txt\n",
      "2021-09-11  오후 03:29             1,798 ds_open_subwayTime.py\n",
      "2021-09-11  오전 12:34             1,755 ds_open_subway_iter_json.py\n",
      "2021-09-11  오전 12:34             1,176 ds_open_subway_json.py\n",
      "2021-09-11  오전 12:35             1,765 ds_open_subway_xml.py\n",
      "2021-09-15  오후 02:12             1,056 ds_open_trade_json.py\n",
      "2021-09-18  오후 07:14               147 key.properties\n",
      "2021-09-11  오전 12:34               228 mylib.py\n",
      "2021-09-11  오후 03:51    <DIR>          __pycache__\n",
      "              17개 파일              70,139 바이트\n",
      "               4개 디렉터리  328,149,647,360 바이트 남음\n"
     ]
    }
   ],
   "source": [
    "!dir"
   ]
  },
  {
   "cell_type": "markdown",
   "metadata": {},
   "source": [
    "`2021-09-18  오후 08:07  33,649 ds_open_IndividualServiceChargeService_xml.txt`\n",
    "에서 볼 수 있듯이 **33,649**바이트가 할당되었다."
   ]
  },
  {
   "cell_type": "markdown",
   "metadata": {},
   "source": [
    "### 문제2 답"
   ]
  },
  {
   "cell_type": "code",
   "execution_count": 12,
   "metadata": {
    "scrolled": true
   },
   "outputs": [
    {
     "name": "stderr",
     "output_type": "stream",
     "text": [
      "WARNING: An illegal reflective access operation has occurred\n",
      "WARNING: Illegal reflective access by org.apache.spark.unsafe.Platform (file:/C:/spark/spark-3.1.2-bin-hadoop3.2/jars/spark-unsafe_2.12-3.1.2.jar) to constructor java.nio.DirectByteBuffer(long,int)\n",
      "WARNING: Please consider reporting this to the maintainers of org.apache.spark.unsafe.Platform\n",
      "WARNING: Use --illegal-access=warn to enable warnings of further illegal reflective access operations\n",
      "WARNING: All illegal access operations will be denied in a future release\n",
      "Welcome to\n",
      "      ____              __\n",
      "     / __/__  ___ _____/ /__\n",
      "    _\\ \\/ _ \\/ _ `/ __/  '_/\n",
      "   /___/ .__/\\_,_/_/ /_/\\_\\   version 3.1.2\n",
      "      /_/\n",
      "                        \n",
      "Using Scala version 2.12.10, Java HotSpot(TM) 64-Bit Server VM, 11.0.12\n",
      "Branch HEAD\n",
      "Compiled by user centos on 2021-05-24T04:27:48Z\n",
      "Revision de351e30a90dd988b133b3d00fa6218bfcaba8b8\n",
      "Url https://github.com/apache/spark\n",
      "Type --help for more information.\n"
     ]
    }
   ],
   "source": [
    "!pyspark --version"
   ]
  },
  {
   "cell_type": "code",
   "execution_count": 13,
   "metadata": {},
   "outputs": [
    {
     "name": "stderr",
     "output_type": "stream",
     "text": [
      "java version \"11.0.12\" 2021-07-20 LTS\n",
      "Java(TM) SE Runtime Environment 18.9 (build 11.0.12+8-LTS-237)\n",
      "Java HotSpot(TM) 64-Bit Server VM 18.9 (build 11.0.12+8-LTS-237, mixed mode)\n"
     ]
    }
   ],
   "source": [
    "!java -version "
   ]
  },
  {
   "cell_type": "code",
   "execution_count": 14,
   "metadata": {},
   "outputs": [
    {
     "name": "stdout",
     "output_type": "stream",
     "text": [
      "javac 11.0.12\n"
     ]
    }
   ],
   "source": [
    "!javac -version"
   ]
  },
  {
   "cell_type": "code",
   "execution_count": 15,
   "metadata": {},
   "outputs": [
    {
     "name": "stdout",
     "output_type": "stream",
     "text": [
      "Python 3.7.3\n"
     ]
    }
   ],
   "source": [
    "!python --version"
   ]
  },
  {
   "cell_type": "code",
   "execution_count": 16,
   "metadata": {},
   "outputs": [
    {
     "name": "stdout",
     "output_type": "stream",
     "text": [
      "Python 3.9.7\n"
     ]
    }
   ],
   "source": [
    "!python3 --version"
   ]
  },
  {
   "cell_type": "code",
   "execution_count": 17,
   "metadata": {},
   "outputs": [
    {
     "name": "stdout",
     "output_type": "stream",
     "text": [
      "3.7.3 (default, Apr 24 2019, 15:29:51) [MSC v.1915 64 bit (AMD64)]\n"
     ]
    }
   ],
   "source": [
    "import sys\n",
    "print(sys.version)"
   ]
  },
  {
   "cell_type": "code",
   "execution_count": 18,
   "metadata": {},
   "outputs": [
    {
     "name": "stdout",
     "output_type": "stream",
     "text": [
      "C:\\Users\\zaqxs\\Anaconda2\\envs\\py35\\python.exe\n",
      "C:\\Users\\zaqxs\\Anaconda2\\python.exe\n",
      "C:\\Users\\zaqxs\\AppData\\Local\\Programs\\Python\\Python36\\python.exe\n",
      "C:\\Users\\zaqxs\\AppData\\Local\\Microsoft\\WindowsApps\\python.exe\n"
     ]
    }
   ],
   "source": [
    "!where python"
   ]
  },
  {
   "cell_type": "code",
   "execution_count": 53,
   "metadata": {},
   "outputs": [
    {
     "data": {
      "text/plain": [
       "'3.1.2'"
      ]
     },
     "execution_count": 53,
     "metadata": {},
     "output_type": "execute_result"
    }
   ],
   "source": [
    "spark.version"
   ]
  },
  {
   "cell_type": "code",
   "execution_count": 11,
   "metadata": {},
   "outputs": [
    {
     "name": "stdout",
     "output_type": "stream",
     "text": [
      "C:\\Users\\zaqxs\\Anaconda2\\envs\\py35\\python.exe\n"
     ]
    }
   ],
   "source": [
    "import sys\n",
    "print (sys.executable)"
   ]
  },
  {
   "cell_type": "markdown",
   "metadata": {},
   "source": [
    "### SparkSession 생성"
   ]
  },
  {
   "cell_type": "code",
   "execution_count": 12,
   "metadata": {},
   "outputs": [],
   "source": [
    "import os\n",
    "\n",
    "home=os.path.expanduser(\"~\")\n",
    "os.environ[\"PYSPARK_PYTHON\"]=\"C:\\\\Users\\\\zaqxs\\\\Anaconda2\\\\envs\\\\py35\\\\python.exe\"\n",
    "os.environ[\"PYSPARK_DRIVER_PYTHON\"]=\"C:\\\\Users\\\\zaqxs\\\\Anaconda2\\\\envs\\\\py35\\\\python.exe\"\n",
    "os.environ[\"PYLIB\"]=os.path.join(os.environ[\"SPARK_HOME\"],'python','lib')\n",
    "sys.path.insert(0,os.path.join(os.environ[\"PYLIB\"],'py4j-0.10.9-src.zip'))\n",
    "sys.path.insert(0,os.path.join(os.environ[\"PYLIB\"],'pyspark.zip'))"
   ]
  },
  {
   "cell_type": "code",
   "execution_count": 13,
   "metadata": {
    "scrolled": true
   },
   "outputs": [],
   "source": [
    "import pyspark\n",
    "myConf=pyspark.SparkConf()\n",
    "spark = pyspark.sql.SparkSession\\\n",
    "    .builder\\\n",
    "    .master(\"local\")\\\n",
    "    .appName(\"myApp\")\\\n",
    "    .config(conf=myConf)\\\n",
    "    .getOrCreate()"
   ]
  },
  {
   "cell_type": "markdown",
   "metadata": {},
   "source": [
    "### 문제3 답"
   ]
  },
  {
   "cell_type": "code",
   "execution_count": 25,
   "metadata": {},
   "outputs": [],
   "source": [
    "popRdd = spark.sparkContext\\\n",
    "    .textFile(os.path.join(\"data\",\"경기도 의정부시_인구현황_20210910.csv\"), use_unicode=True)"
   ]
  },
  {
   "cell_type": "code",
   "execution_count": 28,
   "metadata": {},
   "outputs": [
    {
     "data": {
      "text/plain": [
       "['행정기관,인구수(계),인구수(남),인구수(여),구성비(계),구성비(남),구성비(여),성비,세대수,세대당인구,관리기관명,관리부서명,부서전화번호,데이터기준일자',\n",
       " '의정부1동,32292,16538,15754,6.97,3.57,3.4,104.98,19998,1.61,의정부시,민원여권과,031-828-2466,2021-09-10',\n",
       " '의정부2동,31380,15608,15772,6.77,3.37,3.4,98.96,16410,1.91,의정부시,민원여권과,031-828-2466,2021-09-10',\n",
       " '호원1동,36124,17595,18529,7.8,3.8,4,94.96,15653,2.31,의정부시,민원여권과,031-828-2466,2021-09-10',\n",
       " '호원2동,34957,16923,18034,7.54,3.65,3.89,93.84,13683,2.55,의정부시,민원여권과,031-828-2466,2021-09-10']"
      ]
     },
     "execution_count": 28,
     "metadata": {},
     "output_type": "execute_result"
    }
   ],
   "source": [
    "popRdd.take(5)"
   ]
  },
  {
   "cell_type": "code",
   "execution_count": 29,
   "metadata": {},
   "outputs": [
    {
     "name": "stdout",
     "output_type": "stream",
     "text": [
      "행정기관,인구수(계),인구수(남),인구수(여),구성비(계),구성비(남),구성비(여),성비,세대수,세대당인구,관리기관명,관리부서명,부서전화번호,데이터기준일자\n",
      "의정부1동,32292,16538,15754,6.97,3.57,3.4,104.98,19998,1.61,의정부시,민원여권과,031-828-2466,2021-09-10\n",
      "의정부2동,31380,15608,15772,6.77,3.37,3.4,98.96,16410,1.91,의정부시,민원여권과,031-828-2466,2021-09-10\n",
      "호원1동,36124,17595,18529,7.8,3.8,4,94.96,15653,2.31,의정부시,민원여권과,031-828-2466,2021-09-10\n",
      "호원2동,34957,16923,18034,7.54,3.65,3.89,93.84,13683,2.55,의정부시,민원여권과,031-828-2466,2021-09-10\n"
     ]
    }
   ],
   "source": [
    "for i in popRdd.take(5):\n",
    "    print(i)"
   ]
  },
  {
   "cell_type": "code",
   "execution_count": 30,
   "metadata": {},
   "outputs": [],
   "source": [
    "agedRdd = spark.sparkContext\\\n",
    "    .textFile(os.path.join(\"data\",\"제주특별자치도 서귀포시_고령화비율및노령화지수현황_20210831.csv\"), use_unicode=True)"
   ]
  },
  {
   "cell_type": "code",
   "execution_count": 31,
   "metadata": {},
   "outputs": [
    {
     "data": {
      "text/plain": [
       "['연도별,서귀포시 인구수,65세이상 인구수 ,14세이하 인구수,고령화비율,노령화지수,데이터기준일자',\n",
       " '2012,154057,25826,22861,16.76,112.97,2021-08-31',\n",
       " '2013,155641,26936,22393,17.31,120.29,2021-08-31',\n",
       " '2014,158512,27877,22058,17.59,126.38,2021-08-31',\n",
       " '2015,164519,28979,22362,17.61,129.59,2021-08-31']"
      ]
     },
     "execution_count": 31,
     "metadata": {},
     "output_type": "execute_result"
    }
   ],
   "source": [
    "agedRdd.take(5)"
   ]
  },
  {
   "cell_type": "code",
   "execution_count": 32,
   "metadata": {},
   "outputs": [
    {
     "name": "stdout",
     "output_type": "stream",
     "text": [
      "연도별,서귀포시 인구수,65세이상 인구수 ,14세이하 인구수,고령화비율,노령화지수,데이터기준일자\n",
      "2012,154057,25826,22861,16.76,112.97,2021-08-31\n",
      "2013,155641,26936,22393,17.31,120.29,2021-08-31\n",
      "2014,158512,27877,22058,17.59,126.38,2021-08-31\n",
      "2015,164519,28979,22362,17.61,129.59,2021-08-31\n"
     ]
    }
   ],
   "source": [
    "for i in agedRdd.take(5):\n",
    "    print(i)"
   ]
  },
  {
   "cell_type": "markdown",
   "metadata": {},
   "source": [
    "다운로드 받은 파일의 한글이 깨져 있기 때문에 csv파일을 ``utf-8``로 변환하여 사용하였다."
   ]
  }
 ],
 "metadata": {
  "kernelspec": {
   "display_name": "Python 3",
   "language": "python",
   "name": "python3"
  },
  "language_info": {
   "codemirror_mode": {
    "name": "ipython",
    "version": 3
   },
   "file_extension": ".py",
   "mimetype": "text/x-python",
   "name": "python",
   "nbconvert_exporter": "python",
   "pygments_lexer": "ipython3",
   "version": "3.7.3"
  }
 },
 "nbformat": 4,
 "nbformat_minor": 2
}
