{
 "cells": [
  {
   "cell_type": "markdown",
   "metadata": {
    "slideshow": {
     "slide_type": "slide"
    }
   },
   "source": [
    "# 1. Python\n",
    "\n",
    "Last updated 20181021SUN0620\n",
    "\n",
    "## 1.1 학습내용\n",
    "\n",
    "### 1.1.1 학습목표\n",
    "\n",
    "Python 프로그래밍을 빠르게 훓어보기로 한다. 여기서는 명령어를 간단히 소개하는 위주로 제어구조, 데이터구조, 파일 프로그램을 배운다. 대화형 프로그램은 일괄 실행할 수 없다. 프로그램을 완성하고 명령프롬프트에서 실행하는 방법을 배운다. 또한 자신의 라이브러리를 만들어 본다."
   ]
  },
  {
   "cell_type": "markdown",
   "metadata": {
    "slideshow": {
     "slide_type": "subslide"
    }
   },
   "source": [
    "### 1.1.2 목차\n",
    "\n",
    "```python\n",
    "1.2 설치\n",
    "1.3 출려과 도움말\n",
    "1.4 변수\n",
    "1.5 데이터 타잎\n",
    "1.6 제어흐름\n",
    "1.7 Containers\n",
    "1.8 함수\n",
    "1.9 파일\n",
    "1.10 recursion\n",
    "1.11 lambda\n",
    "1.12 scripts\n",
    "```"
   ]
  },
  {
   "cell_type": "markdown",
   "metadata": {
    "slideshow": {
     "slide_type": "slide"
    }
   },
   "source": [
    "## 1.2 설치\n",
    "\n",
    "### 1.2.1 Python 버전\n",
    "\n",
    "* Python이 버전 2에서 **버전 3**으로 올리면서 변화하고 있다. 물론 예전 버전과 사용하는 외적인 면에서는 큰 차이가 많지 않지만, 내적으로 새롭게 개편되었다. 이렇게 버전이 2에서 3으로 올라가면서 서로 완전히 **호환**되지는 않는다.\n",
    "\n",
    "구분 | Python 2 | Python 3\n",
    "-----|-----|-----\n",
    "print | print \"Hello\" | print(\"Hello\")\n",
    "division | print 3/2 = 1 | print 3/2 = 1.5\n",
    "unicode 지원 | print u\"한\" | print \"한\"\n",
    "\n",
    "* 현재는 새로 배운다면 버전 3으로 시작하는 것이 좋겠지만, 사용하려는 라이브러리가 아직 미처 새로운 버전을 지원하지 않는다면, 골치가 아플 수 있다. 그 **라이브러리가 새로운 버전도 지원하는지 확인**하고 결정하는 것이 바람직 하다.\n",
    "* 실습에서는 **Python 2.7**을 사용한다.\n",
    "* 이전 버전에서 Python 3의 기능을 사용하려면:\n",
    "```python\n",
    "from __future__ import division\n",
    "```"
   ]
  },
  {
   "cell_type": "markdown",
   "metadata": {
    "slideshow": {
     "slide_type": "slide"
    }
   },
   "source": [
    "### 1.2.2 Python 설치\n",
    "\n",
    "* 윈도우\n",
    "    * https://www.python.org/download에서 Windows Installer를 사용해서 설치한다.\n",
    "    * 설치되는 경로는 \"Program Files\"아래에 설치한다. 기본 경로는 C:\" 드라이브 아래 디렉토리이다.\n",
    "    * 윈도우에서는 **Anaconda**를 사용하는 것이 편리하다.\n",
    "* Linux/Mac\n",
    "    * 리눅스 또는 맥에는 Python이 이미 설치되어 있어서 별도 작업이 필요 없다."
   ]
  },
  {
   "cell_type": "markdown",
   "metadata": {
    "slideshow": {
     "slide_type": "subslide"
    }
   },
   "source": [
    "* 경로 설정\n",
    "    * 경로 설정은 Python이 설치된 디렉토리를 설정하여, 명령어가 있지 않는 디렉토리에서도 실행할 수 있게 한다.\n",
    "    * 리눅스, 맥은 경로가 설정되어 있다.\n",
    "    * 윈도우는 환경변수에서 설정하거나, 명령창을 열어 설정할 수 있다.\n",
    "\n",
    "```python\n",
    "set PYTHON_HOME=C:/Python2.7\n",
    "set path=%path%;%PYTHON_HOME%\n",
    "```"
   ]
  },
  {
   "cell_type": "markdown",
   "metadata": {
    "slideshow": {
     "slide_type": "subslide"
    }
   },
   "source": [
    "### 1.2.3 pip 설치\n",
    "\n",
    "* Python은 인터프리터 그 자체만으로는 파일크기가 크지 않고, 가볍다.\n",
    "* Python에 추가해서 사용할 수 있는 라이브러리는 어느 프로그래밍 언어 못지 않게 다양하고 많다.\n",
    "* pip는 **Python 패키지 관리자**로, 추가적인 라이브러리를 설치할 때 사용한다.\n",
    "* 리눅스에서 pip를 설치하려면\n",
    "```python\n",
    "sudo apt install pip\n",
    "```\n",
    "\n",
    "* 윈도우 pip 설치\n",
    "    * 명령 창을 열어, 설치된 경로의 하위 디렉토리 'Scripts>'에 **easy_install**, pip가\n",
    "설치되었는지 확인할 수 있다. 설치가 안되어 있는 경우, 설치를 손쉽게 할 수 있다.\n",
    "    * **setuptools를 다운로드**하고, '**setup.py**'가 있는지 확인해서 아래와 같이 설치\n",
    "\n",
    "```python\n",
    "C:/Python2.7/python setup.py install\n",
    "cd Scripts\n",
    "C:/Python2.7/Scripts/easy_install.exe pip\n",
    "pip install\n",
    "```"
   ]
  },
  {
   "cell_type": "markdown",
   "metadata": {
    "slideshow": {
     "slide_type": "subslide"
    }
   },
   "source": [
    "* pip를 설치하고 라이브러리를 설치할 수 있다.\n",
    "```python\n",
    "\\$ pip search statsmodels\n",
    "\\$ pip install statsmodels\n",
    "```"
   ]
  },
  {
   "cell_type": "markdown",
   "metadata": {
    "slideshow": {
     "slide_type": "subslide"
    }
   },
   "source": [
    "* pip를 사용하지 않고, **git에서 직접 설치**할 수 있다.\n",
    "* **patsy** 소스를 다운로드 받아서 설치하는 예이다.\n",
    "\n",
    "```python\n",
    "~/Code/git/else$ git clone https://github.com/pydata/patsy.git\n",
    "Cloning into 'patsy'...\n",
    "remote: Counting objects: 2028, done.\n",
    "remote: Total 2028 (delta 0), reused 0 (delta 0)\n",
    "Receiving objects: 100% (2028/2028), 1.55 MiB | 757.00 KiB/s, done.\n",
    "Resolving deltas: 100% (1306/1306), done.\n",
    "Checking connectivity... done.\n",
    "\n",
    "~/Code/git/else$ cd patsy/\n",
    "\n",
    "~/Code/git/else/patsy$ ls\n",
    "doc          MANIFEST.in  README.rst             setup.cfg  TODO   tox.ini\n",
    "LICENSE.txt  patsy        release-checklist.txt  setup.py   tools\n",
    "\n",
    "$ sudo python setup.py install\n",
    "\n",
    "$ pip-2.7 freeze | grep patsy\n",
    "```"
   ]
  },
  {
   "cell_type": "markdown",
   "metadata": {
    "slideshow": {
     "slide_type": "subslide"
    }
   },
   "source": [
    "## 1.3 출력과 도움말\n",
    "\n",
    "* 프로그래밍을 해 본 사람이면 알겠지만, 가장 먼저 해보는 것이 'Hello world!'이다.\n",
    "* #은 **comments** 또는 도움말을 적을 때 사용한다."
   ]
  },
  {
   "cell_type": "code",
   "execution_count": 1,
   "metadata": {
    "collapsed": false
   },
   "outputs": [
    {
     "name": "stdout",
     "output_type": "stream",
     "text": [
      "Hello World!!!\n"
     ]
    }
   ],
   "source": [
    "# comments\n",
    "print \"Hello World!!!\""
   ]
  },
  {
   "cell_type": "markdown",
   "metadata": {
    "slideshow": {
     "slide_type": "subslide"
    }
   },
   "source": [
    "## 1.4 변수\n",
    "\n",
    "**변수 variables**를 **상자**에 비유하면 이해하기 쉽다.\n",
    "상자 마다 '이름'이 붙여져 있고, 그 안에 값이 저장되어 있다.\n",
    "여기서 **상자의 이름이 변수**가 된다.\n",
    "변수는 **메모리의 저장공간**을 확보해서 활용하기 위해 그 곳에 **이름을 붙여** 놓는 것이다.\n",
    "상자 안에 무엇인가 저장되어 있으면, 이를 '**값 values**'이라고 한다.\n",
    "상자를 열어서 그 값을 꺼낼 수 있는데, 변수도 마찬가지이다.\n",
    "변수에 값을 저장하고 꺼내어 쓰게 된다."
   ]
  },
  {
   "cell_type": "markdown",
   "metadata": {
    "slideshow": {
     "slide_type": "subslide"
    }
   },
   "source": [
    "### 변수 만들기\n",
    "\n",
    "변수 w에 3을 저장해 보자. 메모리에 값 3이 저장되고, 그 값에 대한 이름이 변수 w가 된다."
   ]
  },
  {
   "cell_type": "code",
   "execution_count": 2,
   "metadata": {
    "collapsed": true
   },
   "outputs": [],
   "source": [
    "w=3"
   ]
  },
  {
   "cell_type": "markdown",
   "metadata": {
    "slideshow": {
     "slide_type": "subslide"
    }
   },
   "source": [
    "위에서 선언한 변수 w에는 뭐가 저장되어 있을까? 물론 수 3이 저장되어 있다. 여기에 2를 곱해서 변수 area에 6이 저장된다.\n",
    "주의할 점은, **w에 저장된 값 3을 불러서 사용**할 수 있다는 것이다. 변수를 사용하지 않으면 할 수 없는 일이다."
   ]
  },
  {
   "cell_type": "code",
   "execution_count": 3,
   "metadata": {
    "collapsed": false
   },
   "outputs": [
    {
     "name": "stdout",
     "output_type": "stream",
     "text": [
      "면적:  6\n"
     ]
    }
   ],
   "source": [
    "area=2*w\n",
    "print \"면적: \",area"
   ]
  },
  {
   "cell_type": "markdown",
   "metadata": {
    "slideshow": {
     "slide_type": "subslide"
    }
   },
   "source": [
    "변수는 메모리의 공간이라서 **수, 문자와 같이 크기에 따라 차지하는 공간이 차이**가 있다. 따라서 효율적인 공간활용을 위해서는 쓰임새에 맞게 낭비하지 않도록 확보해야 한다.\n",
    "area의 변수 타잎을 알아보자. **타잎**이라는 말은 변수의 형식, 즉 정수, 소수, 문자 등 저장한 **값의 형태**가 무엇인지 알려준다.\n",
    "예상대로 area는 정수 int이다. 값 6을 저장하고 있으므로 당연한 결과이다.\n"
   ]
  },
  {
   "cell_type": "code",
   "execution_count": 4,
   "metadata": {
    "collapsed": false
   },
   "outputs": [
    {
     "name": "stdout",
     "output_type": "stream",
     "text": [
      "<type 'int'>\n"
     ]
    }
   ],
   "source": [
    "print type(area)"
   ]
  },
  {
   "cell_type": "markdown",
   "metadata": {
    "slideshow": {
     "slide_type": "subslide"
    }
   },
   "source": [
    "변수는 왜 사용해야 하는가? 좀 어려운 설명일 수 있겠지만, **값**과 **값에 대한 명칭**을 **분리**할 수 있기 때문이다. 변수에 뭔가 값을 저장해 놓고, 명칭으로 사용하기 위해서이다. 예를 들어, 너비 3cm, 높이 2cm인 직사각형의 면적을 구하려면 공식에 따라 ```3 x 2``` 하면 된다. 그러나 변수를 사용하면 너비, 높이에 대한 명칭을 w, h로 정하고 임의의 값으로 연산을 할 수 있게 된다. 즉 ```w x h```, 이 때 w는 3, h는 2를 대입해 계산을 하게 된다. 따라서 **변수는 명칭이기 때문에 값을 저장하고, 저장된 값을 불러 쓰려고** 하기 때문이다. 앞서 저장한 area를 불러와 사용해 보자. 또한 **변수로 연산**을 해보자. 변수 w와 h를 서로 곱할 때 ```w x h```, **저장되어 있는 3과 2를 불러와, 곱해서 6을 출력**하게 된다."
   ]
  },
  {
   "cell_type": "code",
   "execution_count": 5,
   "metadata": {
    "collapsed": false
   },
   "outputs": [
    {
     "name": "stdout",
     "output_type": "stream",
     "text": [
      "면적:  6\n"
     ]
    }
   ],
   "source": [
    "h=2\n",
    "area=w*h\n",
    "print \"면적: \",area"
   ]
  },
  {
   "cell_type": "markdown",
   "metadata": {
    "slideshow": {
     "slide_type": "subslide"
    }
   },
   "source": [
    "### 자유로운 타잎\n",
    "\n",
    "보통 C, Java와 같은 컴파일 언어에서는 수를 사용하는 변수는 문자를 넣을 수가 없으나 스크립트언어에서는 문제가 되지 않는다.\n",
    "앞서 변수 area는 숫자를 저장하고 있었다.\n",
    "숫자 6이 저장되어 있지만, 문자열을 넣어 본다. 그래도 오류가 없다.\n",
    "타잎을 출력하면 'str'이다. 즉 문자열이라는 의미이다. 앞서 **'int'가 \"hello\"를 넣으면서 'str'로 변경**되었다.\n",
    "숫자만 쓸 수 있어야 하지만, Python은 타잎을 자유롭게 고정해 놓지 않으므로 가능하다."
   ]
  },
  {
   "cell_type": "code",
   "execution_count": 7,
   "metadata": {
    "collapsed": false
   },
   "outputs": [
    {
     "name": "stdout",
     "output_type": "stream",
     "text": [
      "<type 'str'>\n"
     ]
    }
   ],
   "source": [
    "area=\"hello\"\n",
    "print type(area)"
   ]
  },
  {
   "cell_type": "markdown",
   "metadata": {
    "slideshow": {
     "slide_type": "subslide"
    }
   },
   "source": [
    "### 연산\n",
    "\n",
    "연산을 할 때 수학과 같이 변수를 사용한다. 앞서 사각형 계산을 했던 것처럼 더하기, 빼기, 곱하기, 나누기 간단한 연산 뿐만 아니라, 복잡한 수학계산도 프로그래밍으로 할 수 있다. 이럴 때 **수학계산에 필요한 라이브러리**를 사용하게 된다. 라이브러리를 사용하는 방법은 간단하다. 'import math'라고 하고, 필요한 기능을 앞에 math를 붙여, 호출하여 사용한다.\n",
    "\n",
    "예를 들어, 로그 또는 파이 값을 계산하면 다음과 같다."
   ]
  },
  {
   "cell_type": "code",
   "execution_count": 5,
   "metadata": {
    "collapsed": false
   },
   "outputs": [
    {
     "name": "stdout",
     "output_type": "stream",
     "text": [
      "0.69314718056\n",
      "3.14159265359\n"
     ]
    }
   ],
   "source": [
    "import math\n",
    "print math.log(2)\n",
    "print math.pi"
   ]
  },
  {
   "cell_type": "markdown",
   "metadata": {
    "slideshow": {
     "slide_type": "subslide"
    }
   },
   "source": [
    "### 연산자가 여러 기능을 할 수 있다\n",
    "\n",
    "하나의 연산자가 여러 의미를 가질 수 있다.\n",
    "예를 들어 ```+```는 숫자를 만나면 덧셈, 문자를 만나면 합성중복 기능을 하게 된다.\n",
    "또한 ```*```를 하면 문자열이 중복되는 결과를 볼 수 있다.\n",
    "이를 연산자 **오버로딩 overloading**이라고 한다. 오버로딩은 한 연산자에 여러 기능을 수행할 수 있게 해 놓았다는 의미이다."
   ]
  },
  {
   "cell_type": "code",
   "execution_count": 1,
   "metadata": {
    "collapsed": false
   },
   "outputs": [
    {
     "name": "stdout",
     "output_type": "stream",
     "text": [
      "hellohello\n",
      "hellohello\n"
     ]
    }
   ],
   "source": [
    "# operator overloading\n",
    "a=\"hello\"\n",
    "print a+a\n",
    "print 2*a"
   ]
  },
  {
   "cell_type": "markdown",
   "metadata": {
    "slideshow": {
     "slide_type": "slide"
    }
   },
   "source": [
    "## 1.5 데이터 타잎\n",
    "\n",
    "파이썬은 **타잎을 사용하는 언어가 아니라서** 배우기 쉽다. 그러나 사용하는 데이터의 타잎을 생각해서 프로그래밍을 하는 편이 좋다. 보통 **숫자**, **문자** 또는 **객체**인지 정도로는 나누어서 사용하자.\n",
    "\n",
    "**논리**는 숫자의 일종이라고 간주할 수 있다. 단 가질 수 있는 값이 0,1 두 개, 즉 참 거짓이다.\n",
    "**수**는 정수와 소수로 구분해서 사용하는 편이 좋다.\n",
    "**문자**는 unicode를 지원하는지에 따라 다르다. 한글은 unicode로 과거 버전2에서는 조심해서 사용했어야 하지만 **버전3에서는 unicode를 기본으로 지원**해서 많이 편해졌다.\n",
    "\n",
    "구분 | 타잎 | 설명\n",
    "-----|-----|-----\n",
    "논리 | boolean type | 참, 거짓\n",
    "수 | int | 음, 양 정수\n",
    " | float | 소수점\n",
    "문자 | ascii, unicode | 문자 또는 텍스트\n"
   ]
  },
  {
   "cell_type": "markdown",
   "metadata": {
    "slideshow": {
     "slide_type": "subslide"
    }
   },
   "source": [
    "### 논리타잎\n",
    "\n",
    "논리타잎은 그 값으로 참, 거짓을 가질 수 있다."
   ]
  },
  {
   "cell_type": "code",
   "execution_count": 9,
   "metadata": {
    "collapsed": false
   },
   "outputs": [
    {
     "name": "stdout",
     "output_type": "stream",
     "text": [
      "False\n"
     ]
    }
   ],
   "source": [
    "# boolean\n",
    "print 3>4"
   ]
  },
  {
   "cell_type": "markdown",
   "metadata": {
    "slideshow": {
     "slide_type": "subslide"
    }
   },
   "source": [
    "```3>4``` 라는 연산은 어떤 결과가 나오게 될까? 3이 4보다 크지 않으므로 'False'이다. 이와 같이 논리타잎은 True, False 둘 중의 하나 값을 가진다. 그 bigger 타잎을 출력하면 'bool'이라고 출력된다."
   ]
  },
  {
   "cell_type": "code",
   "execution_count": 10,
   "metadata": {
    "collapsed": true
   },
   "outputs": [],
   "source": [
    "bigger=(3>4)"
   ]
  },
  {
   "cell_type": "code",
   "execution_count": 11,
   "metadata": {
    "collapsed": false
   },
   "outputs": [
    {
     "name": "stdout",
     "output_type": "stream",
     "text": [
      "<type 'bool'>\n"
     ]
    }
   ],
   "source": [
    "print type(bigger)"
   ]
  },
  {
   "cell_type": "markdown",
   "metadata": {
    "slideshow": {
     "slide_type": "subslide"
    }
   },
   "source": [
    "### 숫자\n",
    "\n",
    "숫자란 정수, 소수와 같은 연산이 가능한 값을 말한다. 연산의 결과는 당연히 숫자.\n",
    "이 때, **데이터타잎**을 주의하면서 하는 편이 좋다. 즉, 정수끼리의 연산은 정수, 소수끼리의 연산은 소수 결과 값을 내어 준다.\n",
    "**정수와 소수와 같이 연산할 때에는 안전, 데이터를 잃어 버리지 않기 위해 큰 쪽의 결과**를 산출한다.\n",
    "아래는 정수 7과 소수 3.이 연산되면 소수 21.0이 결과값이 된다."
   ]
  },
  {
   "cell_type": "code",
   "execution_count": 6,
   "metadata": {
    "collapsed": false
   },
   "outputs": [
    {
     "name": "stdout",
     "output_type": "stream",
     "text": [
      "21.0\n"
     ]
    }
   ],
   "source": [
    "# float\n",
    "print 7*3."
   ]
  },
  {
   "cell_type": "markdown",
   "metadata": {
    "slideshow": {
     "slide_type": "subslide"
    }
   },
   "source": [
    "숫자로 간단한 연산을 해보자. 앞서 설명했던 데이터타잎을 유의하자.\n",
    "이와 같이 파이썬은 데이터타잎을 꼭 맞추어 사용하지 않아도 되지만, 유의하면서 프로그래밍하는 것이 좋다."
   ]
  },
  {
   "cell_type": "code",
   "execution_count": 7,
   "metadata": {
    "collapsed": false
   },
   "outputs": [
    {
     "name": "stdout",
     "output_type": "stream",
     "text": [
      "1024\n",
      "1\n",
      "1.5\n"
     ]
    }
   ],
   "source": [
    "# power\n",
    "print 2**10\n",
    "print 3/2\n",
    "print 3/2.    #정수 3과 소수 2.의 혼합된 데이터타잎이라 결과가 큰 쪽인 소수로 산출"
   ]
  },
  {
   "cell_type": "markdown",
   "metadata": {
    "slideshow": {
     "slide_type": "subslide"
    }
   },
   "source": [
    "## 1.6 제어흐름\n",
    "\n",
    "for 문과 if 문을 어떻게 사용하는지 배워보자."
   ]
  },
  {
   "cell_type": "markdown",
   "metadata": {
    "slideshow": {
     "slide_type": "slide"
    }
   },
   "source": [
    "### 1.6.1 for 문\n",
    "for 문은 **정해진 횟수만큼 코드를 반복**하여 실행한다. for 반복문에는 **시작**, **끝**, **반복조건**이 주어져야 한다. 일반적으로는 정수를 사용해서 시작, 끝, 계수를 지정한다. 예를 들어 1부터 10까지 1씩 증가하면서 반복시키는 예를 들 수 있다. 이러한 시작, 끝, 계수 등과 같은 반복 조건을 범위라고 표현하기도 한다. for 반복문은 아래처럼 사용된다.\n",
    "\n",
    "```python\n",
    "for 변수 in range(범위):\n",
    "\t<반복할 실행문>\n",
    "```\n",
    "\n",
    "위에서 변수는 사용자가 파이썬의 이름 짓기 규칙에 따라 짓는 이름을 정하면 된다. `range()` 함수는 숫자의 리스트 조합을 만들어주는 함수인데 아직 리스트를 배우지 않았으므로, 그냥 범위 안에 있는 숫자의 모음을 생성한다고 생각하자. `range()` 함수의 사용법은 뒤에서 다시 보겠지만, 여기서는 우선 `**range(n)**`이라고 함수를 호출하면, **0 ~ n - 1까지의 정수 모음**을 만들어주는 것으로 이해하자. \n",
    "\n",
    "`for` 반복문은 함수를 구현할 때처럼 '**:**' 과 들여쓰기를 이용해서 `for` 반복문 안에서 반복해야 하는 코드를 구별한다. <반복할 실행문>은 한 줄(line) 이상의 파이썬 코드로 구성되며 변수에 값을 넣는다거나 함수를 호출하는 코드는 물론 심지어는 다른 반복문을 포함할 수도 있다. 단 여기서는 함수의 코드를 작성할 때와 마찬가지로 **들여쓰기**를 통해서 `for` 반복문에서 실행되어야 하는 코드를 구별한다. "
   ]
  },
  {
   "cell_type": "markdown",
   "metadata": {
    "slideshow": {
     "slide_type": "subslide"
    }
   },
   "source": [
    "for 반복문은 **range() 함수에서 생성한 숫자 모음에서 숫자 값을 한 개씩 빼서 변수에 넣고**, 들여쓰기 되어 있는 **<반복할 실행문>을 실행**한다. 숫자 모음에 있는 각 숫자에 대해서 <반복할 실행문>이 수행되면 반복문이 종료된다. <반복할 실행문>에 해당되는 코드에서는 range()에서 생성되는 숫자 모음의 숫자 값을 사용하는 경우가 많다. 간단한 예제 코드를 파이썬 쉘에서 실행시킨 것을 살펴보자.\n",
    "\n",
    "```python\n",
    ">>> for i in range(5):\n",
    "\t  print(i)\n",
    "\t \n",
    "  0\n",
    "  1\n",
    "  2\n",
    "  3\n",
    "  4\n",
    "```"
   ]
  },
  {
   "cell_type": "code",
   "execution_count": 2,
   "metadata": {
    "collapsed": false,
    "slideshow": {
     "slide_type": "subslide"
    }
   },
   "outputs": [
    {
     "name": "stdout",
     "output_type": "stream",
     "text": [
      "0\n",
      "1\n",
      "2\n",
      "3\n",
      "4\n"
     ]
    }
   ],
   "source": [
    "for i in range(5):\n",
    "   print i"
   ]
  },
  {
   "cell_type": "markdown",
   "metadata": {
    "slideshow": {
     "slide_type": "subslide"
    }
   },
   "source": [
    "#### 연산을 하는 반복\n",
    "이제 또 다른 경우를 생각해보자. 5번을 실행시키는데, 만약 1, 3, 5, 7, 9를 출력하고 싶다면 어떻게 할까? 역시 숫자 5개를 출력하는 것은 맞는데, 이번에는 처음 나오는 5개의 **홀수**를 출력한다. 이건 어떻게 **패턴**을 찾아야 할까? 우선 0~4까지 나오는 `range(5)` 함수의 결과물을 이용해서 1~9까지의 홀수를 만들 수는 없을까? 조금만 생각해보면 `i`라는 변수에 `range()`함수의 값이 들어간다고 가정했을 때 `2 * i + 1`로 계산하면 홀수 5개를 만들 수 있다. 따라서 아래처럼 작성하면 홀수 5개를 출력하는 코드를 만들 수 있다.\n",
    "\n",
    "```python\n",
    "for i in range(5):\n",
    "  print(2 * i + 1)\n",
    "```"
   ]
  },
  {
   "cell_type": "markdown",
   "metadata": {
    "slideshow": {
     "slide_type": "subslide"
    }
   },
   "source": [
    "1~9까지의 홀수 5개를 출력하는 또 **다른 패턴**을 생각해보자. 첫 번째 홀수는 1이었고, 그 다음 홀수부터는 계속 2씩 증가한다. 이걸 패턴으로 생각해서 만들 수는 없을까? 만약 5번을 실행시키면서 다른 변수를 사용하면 어떻게 될까? 예를 들어 `n` 이라는 변수를 한 개 만들고 1이라는 값으로 초기화시켰다고 가정해보자. 처음에는 1이라는 값이 출력되고, 그 다음부터 반복될 때에는 2가 증가된 값으로 출력한다면 되지 않을까? 이걸 작성해본 코드는 아래와 같다. 실행화면은 위에서 보인 것과 동일하다.\n",
    "\n",
    "```python\n",
    "n = 1\n",
    "for i in range(5):\n",
    "  print(n)\n",
    "  n = n + 2\n",
    "```\n",
    "\n",
    "`n`이라는 변수의 값을 1로 초기화 시킨 후에 일단 반복문을 실행시키면서 출력부터 했다. 그런 후에 2를 증가시켜서 다시 반복될 때에는 2만큼 증가된 값이 출력되도록 하였다. 이렇게 우리는 계수 반복형 문장을 활용하면서 꼭 그 계수에 해당하는 변수인 `i`라는 변수를 사용하지 않고 다른 변수를 이용해서도 패턴을 만들어낼 수 있음을 확인할 수 있다. "
   ]
  },
  {
   "cell_type": "code",
   "execution_count": 1,
   "metadata": {
    "collapsed": false
   },
   "outputs": [
    {
     "name": "stdout",
     "output_type": "stream",
     "text": [
      "1\n",
      "3\n",
      "5\n",
      "7\n",
      "9\n"
     ]
    }
   ],
   "source": [
    "n = 1\n",
    "for i in range(5):\n",
    "  print(n)\n",
    "  n = n + 2"
   ]
  },
  {
   "cell_type": "markdown",
   "metadata": {
    "slideshow": {
     "slide_type": "subslide"
    }
   },
   "source": [
    "### 1.6.2 while 문\n",
    "\n",
    "일반적으로 프로그래밍 언어에서 제공되는 반복문은 두 가지가 있다고 했다. 첫 번째는 이미 보았던 것처럼 **정해진 횟수만큼 반복**시키는 계수 반복형 문장이고, 또 다른 것은 **조건이 만족될 때까지 반복되는 조건 반복형** 문장이다. 파이썬에서도 두 가지를 모두 제공한다고 했고, 계수 반복형은 `for` 반복문을 이용해서 구현 가능함을 보았다. \n",
    "\n",
    "파이썬에서 두 번째로 제공되는 조건 반복문은 `while` 예약어를 이용한다. 아래에는 `while` 반복문의 문법 구조를 보인다. \n",
    "\n",
    "```python\n",
    "while <조건표현식>:\n",
    "\t<반복할 실행문>\n",
    "```\n",
    "\n",
    "`while` 반복문은 반복을 시작하기 전에 <조건표현식>의 결과 값을 확인하고 결과가 `True`이면 <반복할 실행문>를 실행시킨다. 만약 결과가 `False`가 나온다면 `while` 반복문을 종료하고 다음 문장이 실행된다. `while`반복문에서 검사하는 조건은 조건 표현식으로 구성되며 우선 여기서는 비교 연산자를 사용하거나 불린 자료형 값을 이용해서 구현하는 경우만 볼 것이다.  다른 경우의 조건 표현식도 살펴볼 예정이다. 실제 예제 코드를 살펴보도록 하자. 0부터 4까지의 숫자를 화면에 출력하는 프로그램을 `for` 반복문과 `while`반복문으로 작성하면 아래와 같다. \n"
   ]
  },
  {
   "cell_type": "markdown",
   "metadata": {
    "slideshow": {
     "slide_type": "subslide"
    }
   },
   "source": [
    "역시 for 반복문을 이용해서 작성했던 1부터 10까지의 합을 구하는 프로그램을 `while` 반복문을 이용해서 작성해보자. 우선 합산된 결과 값을 담아둘 `sum`이라는 변수를 만들어서 0으로 초기화 한다 (처음에는 더한 것이 없으므로 결과 값이 0이 된다). 1, 2, 3, ..., 10에 대한 숫자를 증가시켜가며 합에 더해줘야 하므로, `i`라는 변수를 만들어서 처음에 1로 초기화 한다. 그런 후에 `i` 변수의 값을 `sum`에 더하고 `i`를 1씩 증가시킨다. 이렇게 1을 증가시키고 더하는 것을 반복해야 한다. 단 반복을 진행하기 전에 `i`의 값이 10보다 작거나 같은 경우인지를 확인하고 조건이 만족될 때에만 반복하고, 조건이 만족되지 못할 때엔 클 때에는 중지한다. 아래는 이와 같은 과정으로 작성된 코드를 보인다.\n",
    "\n",
    "```python\n",
    "sum = 0\n",
    "i = 1\n",
    "while i < 11:\n",
    "\tsum = sum + i\n",
    "\ti = i + 1\n",
    "print(sum)\n",
    "```"
   ]
  },
  {
   "cell_type": "markdown",
   "metadata": {
    "slideshow": {
     "slide_type": "subslide"
    }
   },
   "source": [
    "for문과 while문을 서로 비교하자. **for 문**은 counter가 하나씩 증가하여 이를 그대로 사용하지만, **while 문**은 끝나는 조건을 가지고 있어서 그 조건에 맞추어 counter를 증가시킨다."
   ]
  },
  {
   "cell_type": "code",
   "execution_count": 1,
   "metadata": {
    "collapsed": false
   },
   "outputs": [
    {
     "name": "stdout",
     "output_type": "stream",
     "text": [
      "5050\n"
     ]
    }
   ],
   "source": [
    "sum=0\n",
    "for i in range(0,101):\n",
    "    sum+=i\n",
    "print sum"
   ]
  },
  {
   "cell_type": "code",
   "execution_count": 2,
   "metadata": {
    "collapsed": false
   },
   "outputs": [
    {
     "name": "stdout",
     "output_type": "stream",
     "text": [
      "5050\n"
     ]
    }
   ],
   "source": [
    "sum=0\n",
    "i=0\n",
    "while(i<101):\n",
    "    sum+=i\n",
    "    i+=1\n",
    "print sum"
   ]
  },
  {
   "cell_type": "markdown",
   "metadata": {
    "slideshow": {
     "slide_type": "subslide"
    }
   },
   "source": [
    "range() 함수 대신에 **수의 집합**을 사용해 보자. 괄호의 모양에 따라 다른 의미가 있다는 것에 유의하자.\n",
    "나중에 배우겠지만 **()는 튜플 tuples, []는 리스트 lists**이라고 한다. 모두 값을 여러개 저장해 놓는 저장소라고 이해하자."
   ]
  },
  {
   "cell_type": "code",
   "execution_count": 6,
   "metadata": {
    "collapsed": false,
    "slideshow": {
     "slide_type": "-"
    }
   },
   "outputs": [
    {
     "name": "stdout",
     "output_type": "stream",
     "text": [
      "Today is warm\n",
      "Today is sunny\n",
      "Today is beautiful\n"
     ]
    }
   ],
   "source": [
    "for word in ('warm','sunny','beautiful'):\n",
    "   print('Today is %s' % word)"
   ]
  },
  {
   "cell_type": "markdown",
   "metadata": {
    "slideshow": {
     "slide_type": "subslide"
    }
   },
   "source": [
    "enumerate() 함수를 사용하면 **카운터 인덱스**를 추가로 활용할 수 있다."
   ]
  },
  {
   "cell_type": "code",
   "execution_count": 7,
   "metadata": {
    "collapsed": false,
    "slideshow": {
     "slide_type": "-"
    }
   },
   "outputs": [
    {
     "name": "stdout",
     "output_type": "stream",
     "text": [
      "0 warm\n",
      "1 sunny\n",
      "2 beautiful\n"
     ]
    }
   ],
   "source": [
    "words=['warm','sunny','beautiful']\n",
    "for index, item in enumerate(words):\n",
    "   print index, item"
   ]
  },
  {
   "cell_type": "markdown",
   "metadata": {
    "slideshow": {
     "slide_type": "subslide"
    }
   },
   "source": [
    "Python은 **간단명료한 문법**으로 유명하다. 사람들은 이런 파이썬식의 문법을 **Pythonic**이하고 한다.\n",
    "아래는 for문과 실행문을 한 줄로 줄여쓰고 있다. 처음에는 이런 짧아진 명령문이 어색할 수 있겠지만 차츰 명료해졌다는 것에 익숙해질 것이다."
   ]
  },
  {
   "cell_type": "code",
   "execution_count": 11,
   "metadata": {
    "collapsed": false
   },
   "outputs": [
    {
     "name": "stdout",
     "output_type": "stream",
     "text": [
      "[1, 2, 3, 4, 5]\n"
     ]
    }
   ],
   "source": [
    "print [x for x in [1, 2, 3, 4, 5]]"
   ]
  },
  {
   "cell_type": "markdown",
   "metadata": {
    "slideshow": {
     "slide_type": "subslide"
    }
   },
   "source": [
    "pythonic 표현으로 제곱의 합계를 구해보자.\n",
    "간혹 타잎 오류가 나는 경우를 본다. 오류를 막으려면 수를 정수로 타잎을 맞추어서 사용한다.\n",
    "int() 함수는 정수로 형변환을 하여 준다."
   ]
  },
  {
   "cell_type": "code",
   "execution_count": 6,
   "metadata": {
    "collapsed": false,
    "scrolled": true,
    "slideshow": {
     "slide_type": "-"
    }
   },
   "outputs": [
    {
     "name": "stdout",
     "output_type": "stream",
     "text": [
      "55\n"
     ]
    }
   ],
   "source": [
    "# sum of square\n",
    "print sum(x*x for x in [1, 2, 3, 4, 5])"
   ]
  },
  {
   "cell_type": "code",
   "execution_count": 2,
   "metadata": {
    "collapsed": false,
    "scrolled": true,
    "slideshow": {
     "slide_type": "-"
    }
   },
   "outputs": [
    {
     "name": "stdout",
     "output_type": "stream",
     "text": [
      "55\n"
     ]
    }
   ],
   "source": [
    "# sum of square\n",
    "print sum(int(x*x) for x in [1, 2, 3, 4, 5])"
   ]
  },
  {
   "cell_type": "markdown",
   "metadata": {
    "slideshow": {
     "slide_type": "subslide"
    }
   },
   "source": [
    "#### 문제\n",
    "\n",
    "10부터 200까지의 수 가운데 짝수만을 더하고, 평균을 구해보자.\n",
    "range()에서 만들어지는 수를 사용하여 풀어보자.\n"
   ]
  },
  {
   "cell_type": "markdown",
   "metadata": {
    "slideshow": {
     "slide_type": "subslide"
    }
   },
   "source": [
    "### 1.6.3 if 문\n",
    "\n",
    "단순 조건문은 프로그래밍에 있어서 기초이지만, 반대로 다양한 경우로 발전하련 유용한 조각이기도 하다. 예를 들어, 우리가 방에 들어갔을 때(조건) 전등을 켜준다(처리 작업)거나 방에 사람이 아무도 없는 것이 파악되면 (조건) 전등을 끈다거나(처리 작업), 일정 무게를 넘치면(조건) 짐을 좀 덜어야 한다(처리 작업)는 것같이 다양한 조건에 맞는 적합한 작업의 처리가 가능해진다. 여기서는 좀 더 다양한 형태의 `if`문을 살펴볼 것이다. 먼저 `if`문의 문법에 대해서 살펴보자.\n",
    "\n",
    "```python\n",
    "if 조건식1:\n",
    "\t명령문들1\n",
    "```\n",
    "\n",
    "`조건식1`은 파이썬에서 사용하는 조건 표현식이다. `명령문들1`은 최소한 한 줄 이상의 파이썬 코드(조건문이나 반복문, 함수 호출 포함 가능함) 로 구성되어 있고 '블록'이라 부른다. 반복문과 비슷하게 들여쓰기를 하도록 되어 있고, 조건이 만족되면 블록안에 있는 코드가 순차적으로 실행된다. \n"
   ]
  },
  {
   "cell_type": "markdown",
   "metadata": {
    "slideshow": {
     "slide_type": "subslide"
    }
   },
   "source": [
    "#### 집합으로 이해하는 if-else문\n",
    "\n",
    "만약 앞에서 본 코드처럼 2번 검사하지 않고 한 번만 하려면 if-else를 사용한다. if-else는 조건이 오전-오후와 같이 서로 **배타적 사건**에 적합하다. 만약 사용자 입력문자가 'ㄱ' 또는 'ㄴ'자만 가능하다면 두 번 구별하는 것은 불필요하다고 하겠다. 'ㄱ'자가 아니면 당연히 'ㄴ'자를 입력했다는 것을 알 수 있으니까 굳이 다시 확인하지 않아도 되는 것이다.  이렇게 조건이 상호배타적일 경우 조건을 충족할 때와 그렇지 않을 때로 해야 할 일을 지정하는 구문이  `if-else`문이다. \n",
    "\n",
    "동전을 던지면 앞면이나 뒷면이 나온다. 나오는 면에 따라서 공부할지 놀 지를 정하는 경우를 생각해보자. 명령문이 아닌 말로 표현하면 아래와 같다. \n",
    "\n",
    "```python\n",
    "앞면이면 공부하기\n",
    "뒷면이면 놀기\n",
    "```\n",
    "\n",
    "이 것을 `if`문을 사용해서 표현하면 아래이다.\n",
    "\n",
    "```python\n",
    "if 앞면:\n",
    "    공부하기\n",
    "if 뒷면:\n",
    "    놀기\n",
    "```\n",
    "\n",
    "앞서 말한 것처럼 두 가지 경우만 있고, 동전 앞면 아니면 당연히 뒷면이라면 `if`문을 두 번 사용하지 않는다. 조건 횟수가 늘어날수록 비효율적이다. 물론, 극히 드문 경우이나 동전 직립도 가능하지만 여기서는 고려하지 않기로 한다. 동전을 던지는 상호배타적 집합을 파이썬에서 표현하면 아래와 비슷할 것이다. \n",
    "\n",
    "```python\n",
    "if 앞면:\n",
    "    공부하기\n",
    "else:\n",
    "    놀기\n",
    "```"
   ]
  },
  {
   "cell_type": "code",
   "execution_count": 5,
   "metadata": {
    "collapsed": false,
    "slideshow": {
     "slide_type": "subslide"
    }
   },
   "outputs": [
    {
     "name": "stdout",
     "output_type": "stream",
     "text": [
      "a is neither 1 nor 2\n"
     ]
    }
   ],
   "source": [
    "a=3\n",
    "if a==1:\n",
    "   print 'a=1'\n",
    "elif a==2:\n",
    "   print 'a=2'\n",
    "else:\n",
    "   print 'a is neither 1 nor 2'"
   ]
  },
  {
   "cell_type": "code",
   "execution_count": 2,
   "metadata": {
    "collapsed": false,
    "slideshow": {
     "slide_type": "subslide"
    }
   },
   "outputs": [
    {
     "name": "stdout",
     "output_type": "stream",
     "text": [
      "Your BMI is 22.79\n",
      "정상체중\n"
     ]
    }
   ],
   "source": [
    "height=1.74\n",
    "weight=69\n",
    "bmi = float(weight /( height * height) )\n",
    "print 'Your BMI is %.2f' % bmi\n",
    "if bmi <= 18.5:\n",
    "    print '저체중'\n",
    "elif bmi >= 18.5 and bmi < 23:\n",
    "    print '정상체중'\n",
    "elif bmi >= 23 and bmi < 25:\n",
    "    print '위험체중'\n",
    "elif bmi >= 25 and bmi < 30:\n",
    "    print \"비만 1단계\"\n",
    "elif bmi >= 30 and bmi < 40:\n",
    "    print \"비만 2단계\"\n",
    "elif bmi >= 40:\n",
    "    print \"비만 3단계\"\n",
    "else:\n",
    "    print \"오류\""
   ]
  },
  {
   "cell_type": "markdown",
   "metadata": {
    "slideshow": {
     "slide_type": "subslide"
    }
   },
   "source": [
    "#### 문제\n",
    "\n",
    "자신의 점수가 국어 85, 영어 77, 수학 95이라고 하자.\n",
    "세 과목의 평균을 구하고 학점을 구해보자."
   ]
  },
  {
   "cell_type": "markdown",
   "metadata": {
    "slideshow": {
     "slide_type": "subslide"
    }
   },
   "source": [
    "#### 복합 조건 표현식\n",
    "\n",
    "2개 이상의 조건을 결합시켜 전체에 대해 True 또는 False 를 판단하는 경우가 있다. 이를 복합 조건 표현식이라고 한다. 두 개 이상의 조건 표현식을 결합시킬 때 사용하는 것이 바로 **논리 연산자**이다.논리 연산자는 이미 수학 과정에서 접해본 경우들이 있을 수 있어서 상대적으로 이해가 쉬울 수도 있다. 프로그래밍에서 가장 흔하게 사용하는 논리 연산자는 and, or, not 일 것이다. 일부 프로그래밍 언어에서는 xor 같은 연산들을 지원하는 경우도 있지만, 파이썬에서는 세 가지만 지원한다. 아래는 각 연산자에 대한 설명이다.\n",
    "\n",
    "| 연산자  | 피 연산자 개수 | 설명                                       |\n",
    "| ---- | -------- | ---------------------------------------- |\n",
    "| not  | 1        | 피 연산자의 논리 값을 반대로 바꿈. True를 False로 전환. False를 True로 바꿈 |\n",
    "| and  | 2        | 논리 곱 연산. 양쪽 피 연산자의 값이 True일 때만 결과 값이 True가 됨. 그 외의 모든 경우에는 False가 결과 값이 됨 |\n",
    "| or   | 2        | 논리 합 연산. 양쪽 피 연산자의 값이 False 일 때만 결과 값이 False가 됨. 그 외의 모든 경우에는 True가 결과 값이 됨 |"
   ]
  },
  {
   "cell_type": "code",
   "execution_count": 4,
   "metadata": {
    "collapsed": false,
    "slideshow": {
     "slide_type": "subslide"
    }
   },
   "outputs": [
    {
     "name": "stdout",
     "output_type": "stream",
     "text": [
      "사람 2가 이겼습니다.\n"
     ]
    }
   ],
   "source": [
    "person1 = \"가위\"\n",
    "person2 = \"바위\"\n",
    "if person1 == \"가위\" and person2 == \"가위\":\n",
    "  print(\"무승부\")\n",
    "elif person1 == \"가위\" and person2 == \"바위\":\n",
    "  print(\"사람 2가 이겼습니다.\")\n",
    "elif person1 == \"가위\" and person2 == \"보\":\n",
    "  print(\"사람 1이 이겼습니다.\")\n",
    "elif person1 == \"바위\" and person2 == \"가위\":\n",
    "  print(\"사람 1이 이겼습니다.\")\n",
    "elif person1 == \"바위\" and person2 == \"바위\":\n",
    "  print(\"무승부\")\n",
    "elif person1 == \"바위\" and person2 == \"보\":\n",
    "  print(\"사람 2가 이겼습니다.\")\n",
    "elif person1 == \"보\" and person2 == \"가위\":\n",
    "  print(\"사람 2가 이겼습니다.\")\n",
    "elif person1 == \"보\" and person2 == \"바위\":\n",
    "  print(\"사람 1이 이겼습니다.\")\n",
    "elif person1 == \"보\" and person2 == \"보\":\n",
    "  print(\"무승부\")"
   ]
  },
  {
   "cell_type": "markdown",
   "metadata": {
    "slideshow": {
     "slide_type": "subslide"
    }
   },
   "source": [
    "#### 문제\n",
    "\n",
    "사용자로부터 온도를 먼저 입력 받고, 추가로 '화씨' 또는 '섭씨'를 입력 받는다. 사용자가 \"화씨\"를 입력하면 온도를 화씨에서 섭씨로 변환한다. 만약 \"섭씨\"가 입력되었으면 온도를 섭씨에서 화씨로 변환한다. \n",
    "\n",
    "화씨온도를 섭씨온도로 변환하는 공식은\n",
    "\t섭씨온도 = (화씨온도 - 32) / 1.8 \n",
    "섭씨온도를 화씨온도로 변환하는 공식은\n",
    "\t화씨온도 = (섭씨온도 * 1.8) + 32"
   ]
  },
  {
   "cell_type": "code",
   "execution_count": 17,
   "metadata": {
    "collapsed": false
   },
   "outputs": [
    {
     "name": "stdout",
     "output_type": "stream",
     "text": [
      "25.5F를 변환하면 -3.61입니다\n"
     ]
    }
   ],
   "source": [
    "sel = 'F'\n",
    "temperature = 25.5\n",
    "if sel=='F':\n",
    "    res=(temperature-32)*(5/9.0)\n",
    "elif sel=='C':\n",
    "    res=temperature*(9.0/5.0)+32\n",
    "else:\n",
    "    print \"선택은 F또는 C이어야 합니다.\"\n",
    "print \"{0:.1f}{1:s}를 변환하면 {2:.2f}입니다\".format(temperature,sel,res)"
   ]
  },
  {
   "cell_type": "markdown",
   "metadata": {
    "slideshow": {
     "slide_type": "subslide"
    }
   },
   "source": [
    "## 1.7 Containers\n",
    "\n",
    "구분 | 타잎 | 설명\n",
    "-----|-----|-----\n",
    "containers | list | ```a=list()```\n",
    " | tuples |\n",
    " | set |\n",
    " | dictionaries | key value의 조합으로 이루어진다.<p>* 존재하지 않는 키를 사용하면 오류가 발생한다.<p>* 존재하지 않는 키를 사용할 때 오류를 방지하려면 setdefault()함수를 사용한다.<p>* defaultdict은 특별한 dictionary이다.<p>* 존재하지 않는 키를 사용할 경우, 기본값을 미리 정해 놓는다.<p>* 따라서, 존재하지 않는 키를 사용해도 오류가 발생하지 않는다.\n"
   ]
  },
  {
   "cell_type": "markdown",
   "metadata": {
    "slideshow": {
     "slide_type": "subslide"
    }
   },
   "source": [
    "### 1.7.1 List\n",
    "\n",
    "containers는 그 안에 여러 값을 저장할 수 있기 때문에 그렇게 명명된다.\n",
    "containers의 한 종류로서 **리스트**를 만들어 보자.\n",
    "리스트는 변수명을 정하기만 해서는 안된다.\n",
    "그러나 이렇게 해서는 아무 것도 할 수 없다.\n",
    "예를 들어, my를 다음과 같이 만들게 되면 **오류**가 난다.\n",
    "그 이유를 설명해 보면, **my라고 하면 저장되어 있는 값을 불러오게 되는데 저장된 값이 없으므로 오류**가 나게 되는 것이다."
   ]
  },
  {
   "cell_type": "code",
   "execution_count": 17,
   "metadata": {
    "collapsed": false,
    "scrolled": true
   },
   "outputs": [
    {
     "ename": "NameError",
     "evalue": "name 'my' is not defined",
     "output_type": "error",
     "traceback": [
      "\u001b[0;31m---------------------------------------------------------------------------\u001b[0m",
      "\u001b[0;31mNameError\u001b[0m                                 Traceback (most recent call last)",
      "\u001b[0;32m<ipython-input-17-b32c81461c58>\u001b[0m in \u001b[0;36m<module>\u001b[0;34m()\u001b[0m\n\u001b[0;32m----> 1\u001b[0;31m \u001b[0mmy\u001b[0m\u001b[0;34m\u001b[0m\u001b[0m\n\u001b[0m",
      "\u001b[0;31mNameError\u001b[0m: name 'my' is not defined"
     ]
    }
   ],
   "source": [
    "my"
   ]
  },
  {
   "cell_type": "markdown",
   "metadata": {
    "slideshow": {
     "slide_type": "subslide"
    }
   },
   "source": [
    "그렇다면 my를 리스트로 만들려면 어떻게 해야 할까?\n",
    "첫 번째 방법은 my를 리스트로 선언해야 한다."
   ]
  },
  {
   "cell_type": "code",
   "execution_count": 18,
   "metadata": {
    "collapsed": true
   },
   "outputs": [],
   "source": [
    "my = list()"
   ]
  },
  {
   "cell_type": "markdown",
   "metadata": {
    "slideshow": {
     "slide_type": "subslide"
    }
   },
   "source": [
    "또는 my를 만드는 시점에 값을 넣어야 한다."
   ]
  },
  {
   "cell_type": "code",
   "execution_count": 19,
   "metadata": {
    "collapsed": true
   },
   "outputs": [],
   "source": [
    "my=[10,20,30]"
   ]
  },
  {
   "cell_type": "markdown",
   "metadata": {
    "slideshow": {
     "slide_type": "subslide"
    }
   },
   "source": [
    "리스트가 앞서 변수와 다른 점은 값을 **하나만 저장하지 않는다**는 점이다.\n",
    "myList에 1,2,3,4,5 여러 숫자를 저장해 놓자."
   ]
  },
  {
   "cell_type": "code",
   "execution_count": 13,
   "metadata": {
    "collapsed": false
   },
   "outputs": [
    {
     "name": "stdout",
     "output_type": "stream",
     "text": [
      "<type 'list'>\n",
      "myList:  [1, 2, 3, 4, 5]\n"
     ]
    }
   ],
   "source": [
    "# containers\n",
    "myList=[1,2,3,4,5]\n",
    "print type(myList)\n",
    "print \"myList: \", myList"
   ]
  },
  {
   "cell_type": "markdown",
   "metadata": {
    "slideshow": {
     "slide_type": "subslide"
    }
   },
   "source": [
    "리스트는 인덱스로 값을 불러올 수 있다.\n",
    "단 주의할 점은 최초 값은 1이 아니라 0이다."
   ]
  },
  {
   "cell_type": "code",
   "execution_count": 15,
   "metadata": {
    "collapsed": false
   },
   "outputs": [
    {
     "name": "stdout",
     "output_type": "stream",
     "text": [
      "3\n",
      "5\n",
      "[3, 4]\n",
      "[4, 5]\n",
      "[1, 2, 3]\n",
      "[1, 3, 5]\n"
     ]
    }
   ],
   "source": [
    "print myList[2]      #3번째\n",
    "print myList[-1]     #마지막\n",
    "print myList[2:4]    #3째 ~ 4째 (마지막 인덱스는 제외)\n",
    "print myList[3:]     #4째 이후 모든 값\n",
    "print myList[:3]     #처음부터 3째까지\n",
    "print myList[::2]    #처음부터 끝까지, 하나씩 건너서"
   ]
  },
  {
   "cell_type": "markdown",
   "metadata": {
    "slideshow": {
     "slide_type": "subslide"
    }
   },
   "source": [
    "리스트는 값을 불러 쓸 수 있을 뿐만 아니라, 있는 값을 갱신할 수도 있다."
   ]
  },
  {
   "cell_type": "code",
   "execution_count": 20,
   "metadata": {
    "collapsed": false
   },
   "outputs": [
    {
     "name": "stdout",
     "output_type": "stream",
     "text": [
      "[28, 2, 3, 4, 5]\n"
     ]
    }
   ],
   "source": [
    "# lists are mutable\n",
    "myList[0]=28\n",
    "print myList"
   ]
  },
  {
   "cell_type": "markdown",
   "metadata": {
    "slideshow": {
     "slide_type": "subslide"
    }
   },
   "source": [
    "myList에는 숫자만 저장되어 있다.\n",
    "그런데 'hello'라는 문자열을 저장하면 어떻게 될까?\n",
    "앞서 변수에서 보았던 것과 같이 숫자, 문자 모두 넣을 수 있다. 즉, 혼합타잎이 가능하다.\n",
    "비유를 하면, **호랑이만 있는 우리에 사슴을 넣는 격**이다.\n",
    "컴파일 언어에서는 이렇게 하면 안되는 일이지만, Python에서는 **타잎을 느슨하게 적용**하므로 상관없다."
   ]
  },
  {
   "cell_type": "code",
   "execution_count": 21,
   "metadata": {
    "collapsed": false
   },
   "outputs": [
    {
     "name": "stdout",
     "output_type": "stream",
     "text": [
      "['hello', 2, 3, 4, 5]\n"
     ]
    }
   ],
   "source": [
    "# list may have different types\n",
    "myList[0]='hello'\n",
    "print myList"
   ]
  },
  {
   "cell_type": "markdown",
   "metadata": {
    "slideshow": {
     "slide_type": "subslide"
    }
   },
   "source": [
    "값을 추가해보자."
   ]
  },
  {
   "cell_type": "code",
   "execution_count": 22,
   "metadata": {
    "collapsed": false
   },
   "outputs": [
    {
     "name": "stdout",
     "output_type": "stream",
     "text": [
      "['hello', 2, 3, 4, 5, 10]\n"
     ]
    }
   ],
   "source": [
    "myList.append(10)\n",
    "print myList"
   ]
  },
  {
   "cell_type": "markdown",
   "metadata": {
    "slideshow": {
     "slide_type": "subslide"
    }
   },
   "source": [
    "myListd에서 값을 삭제해 보자. pop() 함수는 순서대로 넣어진 데이터로부터 마지막 값을 꺼내 버린다."
   ]
  },
  {
   "cell_type": "code",
   "execution_count": 23,
   "metadata": {
    "collapsed": false
   },
   "outputs": [
    {
     "name": "stdout",
     "output_type": "stream",
     "text": [
      "10\n",
      "['hello', 2, 3, 4, 5]\n"
     ]
    }
   ],
   "source": [
    "print myList.pop()\n",
    "print myList"
   ]
  },
  {
   "cell_type": "markdown",
   "metadata": {
    "slideshow": {
     "slide_type": "subslide"
    }
   },
   "source": [
    "또는 리스트에서 일부 값을 꺼내 새로운 리스트를 생성해보자."
   ]
  },
  {
   "cell_type": "code",
   "execution_count": 24,
   "metadata": {
    "collapsed": false
   },
   "outputs": [
    {
     "name": "stdout",
     "output_type": "stream",
     "text": [
      "[3, 4, 5]\n"
     ]
    }
   ],
   "source": [
    "my=myList[2:5]\n",
    "print my"
   ]
  },
  {
   "cell_type": "markdown",
   "metadata": {
    "slideshow": {
     "slide_type": "subslide"
    }
   },
   "source": [
    "두개의 리스트를 묶어서 처리할 경우에는, zip() 함수를 사용한다."
   ]
  },
  {
   "cell_type": "code",
   "execution_count": 28,
   "metadata": {
    "collapsed": false,
    "scrolled": true
   },
   "outputs": [
    {
     "name": "stdout",
     "output_type": "stream",
     "text": [
      "[(1, 4), (2, 5), (3, 6)]\n"
     ]
    }
   ],
   "source": [
    "my2=zip([1,2,3],[4,5,6])\n",
    "print my2"
   ]
  },
  {
   "cell_type": "markdown",
   "metadata": {
    "slideshow": {
     "slide_type": "subslide"
    }
   },
   "source": [
    "#### 문제 English, Math의 평균/합계를 구하기.\n",
    "\n",
    "English, Math 점수 평균과 합계를 계산해 보자.\n",
    "이 문제는 데이터타잎을 이해해야 풀 수 있는 문제이다.\n",
    "\n",
    "```python\n",
    "names  subjects scores\n",
    "김하나 English 100\n",
    "김하나 Math 80\n",
    "임하나 English 70\n",
    "임하나 Math 100\n",
    "김갑돌 English 82.3\n",
    "김갑돌 Math 98.5\n",
    "```"
   ]
  },
  {
   "cell_type": "markdown",
   "metadata": {
    "slideshow": {
     "slide_type": "subslide"
    }
   },
   "source": [
    "먼저 데이터를 만들어 보자. 데이터를 만들 때는 데이터타잎을 감안해서 문자, 숫자인지 살펴본다.\n",
    "문자에는 따옴표를 붙여야 한다\n",
    "숫자는 정수 또는 소수인지 살펴보아야 한다.\n",
    "데이터는 서로 컴마를 넣어 구분한다."
   ]
  },
  {
   "cell_type": "code",
   "execution_count": 1,
   "metadata": {
    "collapsed": true
   },
   "outputs": [],
   "source": [
    "marks=[\n",
    "    [ 'names', 'subjects','scores'],\n",
    "    ['김하나','English', 100],\n",
    "    ['김하나','Math', 80],\n",
    "    ['임하나','English', 70],\n",
    "    ['임하나','Math', 100],\n",
    "    ['김갑돌','English', 82.3],\n",
    "    ['김갑돌','Math', 98.5]\n",
    "]"
   ]
  },
  {
   "cell_type": "markdown",
   "metadata": {
    "slideshow": {
     "slide_type": "subslide"
    }
   },
   "source": [
    "합계 또는 평균을 구하기 전에 데이터를 올바르게 읽을 수 있는지 확인한다."
   ]
  },
  {
   "cell_type": "code",
   "execution_count": 2,
   "metadata": {
    "collapsed": false
   },
   "outputs": [
    {
     "name": "stdout",
     "output_type": "stream",
     "text": [
      "['names', 'subjects', 'scores']\n",
      "['\\xea\\xb9\\x80\\xed\\x95\\x98\\xeb\\x82\\x98', 'English', 100]\n",
      "['\\xea\\xb9\\x80\\xed\\x95\\x98\\xeb\\x82\\x98', 'Math', 80]\n",
      "['\\xec\\x9e\\x84\\xed\\x95\\x98\\xeb\\x82\\x98', 'English', 70]\n",
      "['\\xec\\x9e\\x84\\xed\\x95\\x98\\xeb\\x82\\x98', 'Math', 100]\n",
      "['\\xea\\xb9\\x80\\xea\\xb0\\x91\\xeb\\x8f\\x8c', 'English', 82.3]\n",
      "['\\xea\\xb9\\x80\\xea\\xb0\\x91\\xeb\\x8f\\x8c', 'Math', 98.5]\n"
     ]
    }
   ],
   "source": [
    "for row in marks:\n",
    "    print row"
   ]
  },
  {
   "cell_type": "markdown",
   "metadata": {
    "slideshow": {
     "slide_type": "subslide"
    }
   },
   "source": [
    "데이터의 맨 윗 행은 데이터명이고 실제 연산에서는 쓰이지 않기 때문에 제거한다.\n",
    "제거하려면 데이터의 인덱스를 0을 제거하고, 1부터 복사해서 쓰면 된다.\n",
    "```python\n",
    "marks=marks[1:]\n",
    "```"
   ]
  },
  {
   "cell_type": "code",
   "execution_count": 3,
   "metadata": {
    "collapsed": false
   },
   "outputs": [
    {
     "name": "stdout",
     "output_type": "stream",
     "text": [
      "['\\xea\\xb9\\x80\\xed\\x95\\x98\\xeb\\x82\\x98', 'English', 100]\n",
      "['\\xea\\xb9\\x80\\xed\\x95\\x98\\xeb\\x82\\x98', 'Math', 80]\n",
      "['\\xec\\x9e\\x84\\xed\\x95\\x98\\xeb\\x82\\x98', 'English', 70]\n",
      "['\\xec\\x9e\\x84\\xed\\x95\\x98\\xeb\\x82\\x98', 'Math', 100]\n",
      "['\\xea\\xb9\\x80\\xea\\xb0\\x91\\xeb\\x8f\\x8c', 'English', 82.3]\n",
      "['\\xea\\xb9\\x80\\xea\\xb0\\x91\\xeb\\x8f\\x8c', 'Math', 98.5]\n"
     ]
    }
   ],
   "source": [
    "marks=marks[1:]\n",
    "for row in marks:\n",
    "    print row"
   ]
  },
  {
   "cell_type": "markdown",
   "metadata": {
    "slideshow": {
     "slide_type": "subslide"
    }
   },
   "source": [
    "데이터를 항목별로 구분해 본다.\n",
    "데이터는 3개 항목으로 되어 있으므로, 각 각 row[0], row[1], row[2]이라고 name, subject, scores를 의미한다."
   ]
  },
  {
   "cell_type": "code",
   "execution_count": 4,
   "metadata": {
    "collapsed": false
   },
   "outputs": [
    {
     "name": "stdout",
     "output_type": "stream",
     "text": [
      "김하나 Math 80\n",
      "임하나 English 70\n",
      "임하나 Math 100\n",
      "김갑돌 English 82.3\n",
      "김갑돌 Math 98.5\n"
     ]
    }
   ],
   "source": [
    "marks=marks[1:]\n",
    "for row in marks:\n",
    "    print row[0],row[1],row[2]"
   ]
  },
  {
   "cell_type": "markdown",
   "metadata": {
    "slideshow": {
     "slide_type": "subslide"
    }
   },
   "source": [
    "그럼 이제 전체 프로그램을 완성해 보자."
   ]
  },
  {
   "cell_type": "code",
   "execution_count": 5,
   "metadata": {
    "collapsed": false
   },
   "outputs": [
    {
     "name": "stdout",
     "output_type": "stream",
     "text": [
      "278.5 152.3\n",
      "92.8333333333 76.15\n"
     ]
    }
   ],
   "source": [
    "englishSum=0\n",
    "mathSum=0\n",
    "englishCount=0\n",
    "mathCount=0\n",
    "for row in marks:\n",
    "    subj = row[1]\n",
    "    mark = float(row[2])\n",
    "    if subj==\"English\":\n",
    "        englishSum+=mark\n",
    "        englishCount+=1\n",
    "    elif subj==\"Math\":\n",
    "        mathSum+=mark\n",
    "        mathCount+=1\n",
    "    else:\n",
    "        pass\n",
    "print mathSum,englishSum\n",
    "print float(mathSum/mathCount),float(englishSum/englishCount)"
   ]
  },
  {
   "cell_type": "markdown",
   "metadata": {
    "slideshow": {
     "slide_type": "subslide"
    }
   },
   "source": [
    "소수점이 불편하다면, 출력양식을 맞추어 자리수를 제한해서 출력할 수 있다."
   ]
  },
  {
   "cell_type": "code",
   "execution_count": 13,
   "metadata": {
    "collapsed": false
   },
   "outputs": [
    {
     "name": "stdout",
     "output_type": "stream",
     "text": [
      "Math: 92.8 English: 76.15\n"
     ]
    }
   ],
   "source": [
    "print (\"Math: %.1f English: %.2f\" % (float(mathSum/mathCount),float(englishSum/englishCount)))"
   ]
  },
  {
   "cell_type": "markdown",
   "metadata": {
    "slideshow": {
     "slide_type": "subslide"
    }
   },
   "source": [
    "### 1.7.2 Dictionary\n",
    "\n",
    "Dictionary는 말 그대로 사전을 연상하면 이해하기 쉽다.\n",
    "우리가 사용하는 사전에서 단어를 찾으면 의미가 씌여져 있다.\n",
    "이런 경우, 단어는 '키'로, 의미는 '값'으로 바꿔 이해하자.\n",
    "즉, dictionary는 **키:값의 쌍**으로 구성하여 저장한다.\n",
    "사전에서와 같이 키는 유일무이 값이다. **모든 키는 어떤 값을 찾는 열쇠와 같아서 똑 같아서는 안된다**."
   ]
  },
  {
   "cell_type": "code",
   "execution_count": 14,
   "metadata": {
    "collapsed": false
   },
   "outputs": [
    {
     "name": "stdout",
     "output_type": "stream",
     "text": [
      "{'jsl': 'G405', 'bigData': 'G307'}\n"
     ]
    }
   ],
   "source": [
    "# Dictionary of hash table\n",
    "room={'jsl':\"G405\", 'bigData':\"G307\"}\n",
    "print room"
   ]
  },
  {
   "cell_type": "code",
   "execution_count": 15,
   "metadata": {
    "collapsed": false
   },
   "outputs": [
    {
     "name": "stdout",
     "output_type": "stream",
     "text": [
      "['G405', 'G307']\n",
      "['jsl', 'bigData']\n"
     ]
    }
   ],
   "source": [
    "print room.values()\n",
    "print room.keys()"
   ]
  },
  {
   "cell_type": "code",
   "execution_count": 16,
   "metadata": {
    "collapsed": false,
    "scrolled": true
   },
   "outputs": [
    {
     "name": "stdout",
     "output_type": "stream",
     "text": [
      "jsl room:  G405\n"
     ]
    }
   ],
   "source": [
    "print \"jsl room: \",room['jsl']"
   ]
  },
  {
   "cell_type": "markdown",
   "metadata": {
    "slideshow": {
     "slide_type": "subslide"
    }
   },
   "source": [
    "**setdefault(key, value)**는 키에 대해 기본 값을 주는 함수이다. 없는 키를 사용하면 그 키와 값을 입력한다.\n",
    "아래 myDict는 menu, price 두 개의 키를 가지고 있다.\n",
    "여기에 vegi 키를 추가해 보자. **vegi 키만 추가하면 값이 없어서 오류가 발생**하게 되나, **setdefault()는 값을 None**으로 비워놓게 된다."
   ]
  },
  {
   "cell_type": "code",
   "execution_count": 51,
   "metadata": {
    "collapsed": false
   },
   "outputs": [
    {
     "name": "stdout",
     "output_type": "stream",
     "text": [
      "{'menu': 'Noodle', 'price': 5000}\n"
     ]
    }
   ],
   "source": [
    "# %load todel.py\n",
    "myDict = {'menu': 'Noodle', 'price': 5000}\n",
    "print myDict"
   ]
  },
  {
   "cell_type": "code",
   "execution_count": 52,
   "metadata": {
    "collapsed": false
   },
   "outputs": [
    {
     "name": "stdout",
     "output_type": "stream",
     "text": [
      "{'menu': 'Noodle', 'price': 5000, 'vegi': None}\n"
     ]
    }
   ],
   "source": [
    "myDict.setdefault('vegi')\n",
    "print myDict"
   ]
  },
  {
   "cell_type": "markdown",
   "metadata": {
    "slideshow": {
     "slide_type": "subslide"
    }
   },
   "source": [
    "키에 대한 값을 입력할 수 있다."
   ]
  },
  {
   "cell_type": "code",
   "execution_count": 54,
   "metadata": {
    "collapsed": false
   },
   "outputs": [
    {
     "name": "stdout",
     "output_type": "stream",
     "text": [
      "{'menu': 'Noodle', 'price': 5000, 'vegi': None, 'is': None, 'breakfast': 'yes'}\n"
     ]
    }
   ],
   "source": [
    "myDict.setdefault('breakfast', 'yes')\n",
    "print myDict"
   ]
  },
  {
   "cell_type": "markdown",
   "metadata": {
    "slideshow": {
     "slide_type": "subslide"
    }
   },
   "source": [
    "파이썬의 dictionary는 키가 없는 경우 문제가 될 수 있다.\n",
    "**존재하지 않는 키**를 사용하는 경우 당연히 **오류**가 나는 것이다.\n",
    "defaultdict은 없는 key에 대해 오류를 일으키지 않는다.\n",
    "defaultdict() 안의 **괄호에 타잎 또는 함수**를 넣어서 기본 값을 가지도록 한다."
   ]
  },
  {
   "cell_type": "code",
   "execution_count": 34,
   "metadata": {
    "collapsed": false
   },
   "outputs": [
    {
     "name": "stdout",
     "output_type": "stream",
     "text": [
      "int defaultdict: defaultdict(<type 'int'>, {'a': 10, 'c': 13, 'b': 12})\n"
     ]
    }
   ],
   "source": [
    "from collections import defaultdict\n",
    "\n",
    "# 기본 값을 정수 또는 리스트로 정한다.\n",
    "myDictInt = defaultdict(int)\n",
    "d_int = defaultdict(int, a=10, b=12, c=13)\n",
    "print \"int defaultdict:\",d_int"
   ]
  },
  {
   "cell_type": "markdown",
   "metadata": {
    "slideshow": {
     "slide_type": "subslide"
    }
   },
   "source": [
    "defaultdict() 괄호 안에 함수를 적는 예이다. default_factory를 출력하면 기본 값을 지정하는 타잎 또는 함수를 알 수 있다."
   ]
  },
  {
   "cell_type": "code",
   "execution_count": 50,
   "metadata": {
    "collapsed": false
   },
   "outputs": [
    {
     "name": "stdout",
     "output_type": "stream",
     "text": [
      "<type 'int'>\n",
      "<function foo at 0x7f6ab80e7668>\n"
     ]
    }
   ],
   "source": [
    "myDictList = defaultdict(list)\n",
    "def foo():\n",
    "     return 'default value'\n",
    "d_foo = defaultdict(foo)\n",
    "print myDictInt.default_factory\n",
    "print d_foo.default_factory"
   ]
  },
  {
   "cell_type": "code",
   "execution_count": 1,
   "metadata": {
    "collapsed": false,
    "slideshow": {
     "slide_type": "subslide"
    }
   },
   "outputs": [
    {
     "name": "stdout",
     "output_type": "stream",
     "text": [
      "<type 'int'>\n",
      "[('i', 4), ('p', 2), ('s', 4), ('m', 1)]\n",
      "defaultdict(<type 'int'>, {'i': 4, 'p': 2, 's': 4, 'm': 1})\n"
     ]
    }
   ],
   "source": [
    "from collections import defaultdict\n",
    "\n",
    "s = 'mississippi'\n",
    "d = defaultdict(int)\n",
    "print d.default_factory\n",
    "for k in s:\n",
    "     d[k] += 1\n",
    "print d.items()\n",
    "print d"
   ]
  },
  {
   "cell_type": "code",
   "execution_count": 49,
   "metadata": {
    "collapsed": false,
    "slideshow": {
     "slide_type": "subslide"
    }
   },
   "outputs": [
    {
     "name": "stdout",
     "output_type": "stream",
     "text": [
      "defaultdict(<type 'int'>, {'a': 1, 'and': 1, 'This': 1, 'is': 2, 'enjoy': 1, 'Programming': 1, 'I': 1, 'fun': 1, 'fun!.': 1, 'it.': 1, 'really': 2})\n"
     ]
    }
   ],
   "source": [
    "# use the 'int' factory for counting words\n",
    "myDictInt=defaultdict(int)\n",
    "sentence=\"This is really fun!. Programming is a fun and I really enjoy it.\"\n",
    "for word in sentence.split():\n",
    "    myDictInt[word]+=1\n",
    "print myDictInt"
   ]
  },
  {
   "cell_type": "code",
   "execution_count": 3,
   "metadata": {
    "collapsed": false,
    "slideshow": {
     "slide_type": "subslide"
    }
   },
   "outputs": [
    {
     "name": "stdout",
     "output_type": "stream",
     "text": [
      "<type 'list'>\n",
      "[('blue', [2, 4]), ('red', [1]), ('yellow', [1, 3])]\n",
      "defaultdict(<type 'list'>, {'blue': [2, 4], 'red': [1], 'yellow': [1, 3]})\n"
     ]
    }
   ],
   "source": [
    "s = [('yellow', 1), ('blue', 2), ('yellow', 3), ('blue', 4), ('red', 1)]\n",
    "d = defaultdict(list)\n",
    "print d.default_factory\n",
    "for k, v in s:\n",
    "     d[k].append(v)\n",
    "print d.items()\n",
    "print d"
   ]
  },
  {
   "cell_type": "code",
   "execution_count": 5,
   "metadata": {
    "collapsed": false,
    "slideshow": {
     "slide_type": "subslide"
    }
   },
   "outputs": [
    {
     "name": "stdout",
     "output_type": "stream",
     "text": [
      "key:a value:1\n",
      "key:c value:2\n",
      "key:b value:1.2\n"
     ]
    }
   ],
   "source": [
    "# iterator\n",
    "d={'a':1,'b':1.2,'c':2}\n",
    "for key,val in d.iteritems():\n",
    "   print('key:%s value:%s' % (key,val))"
   ]
  },
  {
   "cell_type": "markdown",
   "metadata": {
    "slideshow": {
     "slide_type": "subslide"
    }
   },
   "source": [
    "## 1.8 함수\n",
    "\n",
    "###  함수란?\n",
    "여러 작업 과정을 처리하는 코드를 묶어서 마치 한 개의 묶음인 것처럼 할 수 있는데, 이를 서브루틴(Subroutine), 프로시듀어 (Procedure) 또는 함수 (Function) 등으로 부른다. 이처럼 여러 단계의 코드를 묶어 놓은 것을 \"함수\"라고 부르고, 사용할 때는 \"함수를 호출\"하게 된다."
   ]
  },
  {
   "cell_type": "markdown",
   "metadata": {
    "slideshow": {
     "slide_type": "subslide"
    }
   },
   "source": [
    "### 프로그래밍의 함수와 수학 함수를 비교하기\n",
    "수학에서 배웠던 함수를 기억하는가? 수학에서 함수를 쓸 때 일반적으로 y = f(x)라는 형태로 표현하였다. 수학에서는 함수를 x라는 입력과 y라는 출력이 있는 형태로 설명하였다. 특히 수학에서는 특정 입력이 들어가면 반드시 그에 대응하는 특정 출력이 사상(mapping) 되는 형태로 설명하였다."
   ]
  },
  {
   "cell_type": "markdown",
   "metadata": {
    "slideshow": {
     "slide_type": "subslide"
    }
   },
   "source": [
    "아래 함수는 x를 입력하면, 주어진 입력 값에 1을 더해서 출력하는 예를 설명한다. \n",
    "\n",
    "수학 함수의 예  | 프로그래밍으로 전환한 함수                           | 설명\n",
    "--------- | ---------------------------------------- | ---------------------------------\n",
    "y=f(x)    | <code>y = f(x)</code>                    | 함수 f(x)의 결과를 y에 저장한다.             \n",
    "f(x)= x+1 | <pre><code>def f(x):<br>&nbsp;&nbsp;xnew=x + 1 <br>&nbsp;&nbsp;return xnew</code></pre> | 함수 f는 x를 주면 x에 1을 더한 값을 결과로 돌려준다.\n"
   ]
  },
  {
   "cell_type": "markdown",
   "metadata": {
    "slideshow": {
     "slide_type": "subslide"
    }
   },
   "source": [
    "파이썬에서는 함수를 작성할 때 문법을 지켜야 한다.\n",
    "```python\n",
    "def 함수명(입력):\n",
    "들여쓰기\n",
    "```"
   ]
  },
  {
   "cell_type": "code",
   "execution_count": null,
   "metadata": {
    "collapsed": true,
    "slideshow": {
     "slide_type": "subslide"
    }
   },
   "outputs": [],
   "source": [
    "def f(x):\n",
    "    xnew=x + 1\n",
    "    return xnew"
   ]
  },
  {
   "cell_type": "code",
   "execution_count": 1,
   "metadata": {
    "collapsed": false,
    "slideshow": {
     "slide_type": "-"
    }
   },
   "outputs": [
    {
     "name": "stdout",
     "output_type": "stream",
     "text": [
      "2\n"
     ]
    }
   ],
   "source": [
    "y=f(1)\n",
    "print y"
   ]
  },
  {
   "cell_type": "markdown",
   "metadata": {
    "slideshow": {
     "slide_type": "subslide"
    }
   },
   "source": [
    "### 함수의 종류\n",
    "\n",
    "단 파이썬에서는 함수를 구현할 때:\n",
    "* 입력은 괄호안에 넣는다.\n",
    "* 출력은 'return'을 사용한다.\n",
    "\n",
    "구분 | 함수 모양 | 설명\n",
    "-----|-----|-----\n",
    "입력과 출력이 모두 없는 함수 | 함수이름() | myPrint()\n",
    "입력은 있고, 출력이 없는 경우 | 함수이름(입력값) | myPrint(name)\n",
    "입력은 있고, 출력이 없는 경우 | 함수이름(입력값1, 입력값2, ..., 입력값n) | \n",
    "입력은 없고 출력만 있는 경우 | 변수 = 함수이름() | 함수를 호출할 때 전달되는 값들은 없지만, 결과 값을 받아서 변수에 저장했다가 추후에 계속 사용\n",
    "입력과 출력이 모두 있는 경우 | 변수 = 함수이름(입력값) | f(x) = x + 1, 한 개의 입력, x, 를 받아서 그 값에 1을 더한 값을 결과 값으로 반환하는 함수\n",
    "입력과 출력이 모두 있는 경우 | 변수 = 함수이름(입력값1, 입력값2, ..., 입력값n) | add(1,2), 입력 2개를 받아서 더 한 값을 출력"
   ]
  },
  {
   "cell_type": "code",
   "execution_count": 8,
   "metadata": {
    "collapsed": false,
    "slideshow": {
     "slide_type": "subslide"
    }
   },
   "outputs": [
    {
     "name": "stdout",
     "output_type": "stream",
     "text": [
      "Hello\n"
     ]
    }
   ],
   "source": [
    "def myPrint():\n",
    "    print \"Hello\"\n",
    "myPrint()"
   ]
  },
  {
   "cell_type": "code",
   "execution_count": 9,
   "metadata": {
    "collapsed": false,
    "slideshow": {
     "slide_type": "subslide"
    }
   },
   "outputs": [
    {
     "name": "stdout",
     "output_type": "stream",
     "text": [
      "Hello, jsl\n"
     ]
    }
   ],
   "source": [
    "def myPrint2(name):\n",
    "    print \"Hello,\", name\n",
    "myPrint2(\"jsl\")"
   ]
  },
  {
   "cell_type": "code",
   "execution_count": 10,
   "metadata": {
    "collapsed": false,
    "slideshow": {
     "slide_type": "subslide"
    }
   },
   "outputs": [
    {
     "name": "stdout",
     "output_type": "stream",
     "text": [
      "Hello, jsl in Seoul\n"
     ]
    }
   ],
   "source": [
    "def myPrint3(name, city):\n",
    "    print \"Hello,\", name, \"in\", city\n",
    "myPrint3(\"jsl\", \"Seoul\")"
   ]
  },
  {
   "cell_type": "code",
   "execution_count": 12,
   "metadata": {
    "collapsed": false,
    "slideshow": {
     "slide_type": "subslide"
    }
   },
   "outputs": [
    {
     "name": "stdout",
     "output_type": "stream",
     "text": [
      "78.5\n"
     ]
    }
   ],
   "source": [
    "def getCircleArea():\n",
    "   return 3.14*5*5\n",
    "\n",
    "area=getCircleArea()\n",
    "print area"
   ]
  },
  {
   "cell_type": "code",
   "execution_count": null,
   "metadata": {
    "collapsed": true,
    "slideshow": {
     "slide_type": "subslide"
    }
   },
   "outputs": [],
   "source": [
    "def getCircleArea(radius):\n",
    "   return 3.14*radius*radius\n",
    "\n",
    "print getCircleArea(1.5)"
   ]
  },
  {
   "cell_type": "code",
   "execution_count": 14,
   "metadata": {
    "collapsed": false,
    "slideshow": {
     "slide_type": "subslide"
    }
   },
   "outputs": [
    {
     "name": "stdout",
     "output_type": "stream",
     "text": [
      "7.065\n",
      "7.065\n"
     ]
    }
   ],
   "source": [
    "area=getCircleArea(1.5)\n",
    "print area"
   ]
  },
  {
   "cell_type": "code",
   "execution_count": 13,
   "metadata": {
    "collapsed": false,
    "slideshow": {
     "slide_type": "subslide"
    }
   },
   "outputs": [
    {
     "name": "stdout",
     "output_type": "stream",
     "text": [
      "4\n",
      "4\n",
      "6\n"
     ]
    }
   ],
   "source": [
    "# optional parameters\n",
    "def double_it(x=2):\n",
    "   return x*2\n",
    "print double_it()\n",
    "print double_it(2)\n",
    "print double_it(3)"
   ]
  },
  {
   "cell_type": "markdown",
   "metadata": {
    "slideshow": {
     "slide_type": "subslide"
    }
   },
   "source": [
    "앞서 온도변환 문제를 이번에는 함수로 만들어 풀어보자."
   ]
  },
  {
   "cell_type": "code",
   "execution_count": 18,
   "metadata": {
    "collapsed": false
   },
   "outputs": [
    {
     "name": "stdout",
     "output_type": "stream",
     "text": [
      "25.5F --> -3.61\n",
      "25.5F --> -3.61\n"
     ]
    }
   ],
   "source": [
    "sel = 'F'\n",
    "temperature = 25.5\n",
    "\n",
    "def convertTemperature(sel,temperature):\n",
    "    res=0.0\n",
    "    if sel=='F':\n",
    "        res=(temperature-32)*(5/9.0)\n",
    "    elif sel=='C':\n",
    "        res=temperature*(9.0/5.0)+32\n",
    "    else:\n",
    "        print \"Error: Enter either F or C!\"\n",
    "    print \"{0:.1f}{1:s} --> {2:.2f}\".format(temperature,sel,res)\n",
    "    return res\n",
    "\n",
    "result=convertTemperature(sel,temperature)\n",
    "print \"{0:.1f}{1:s} --> {2:.2f}\".format(temperature,sel,result)"
   ]
  },
  {
   "cell_type": "markdown",
   "metadata": {
    "slideshow": {
     "slide_type": "subslide"
    }
   },
   "source": [
    "## 1.9 파일\n",
    "\n",
    "파일은 저장매체이며, 내용을 손쉽게 저장하는 방법으로 많이 사용된다. 우리가 작성하고 있는 프로그램을 포함해서, 문서, 음악, 그림, 동영상, 사진 모두 파일이다. 이 모든 파일은 (1) 저장 경로와 (2) 파일 이름이 있어야 한다."
   ]
  },
  {
   "cell_type": "markdown",
   "metadata": {
    "slideshow": {
     "slide_type": "subslide"
    }
   },
   "source": [
    "#### 파일명을 만드는 방식을 살펴보자.\n",
    "\n",
    "파일은 외부저장매체에 내용을 저장하고, 그 저장매체 주소를 가리키는 파일명을 사용한다.\n",
    "* 상대경로는 현재 작업하고 있는 디렉토리를 기준으로 경로를 정한다.\n",
    "    * 점을 사용하여 현재디렉토리 (.) 또는 현재디렉토리의 상위 디렉토리 (..)를 표현한다.\n",
    "    * 다음은 현재디렉토리의 'python.txt' 파일을 말한다.\n",
    "```\n",
    "./python.txt\n",
    "```\n",
    "\n",
    "* 절대경로는 모든 경로를 표시한다. 윈도우는 드라이브부터, 리눅스는 루트부터 적는다.\n",
    "\n",
    "구분 | 예제 | 설명\n",
    "-----|-----|-----\n",
    "절대 경로 | 윈도우 C:/User/Documents/foo.py<br>리눅스 /home/user/Documents/foo.py | 절대경로를 사용하여 파일경로 정한다.\n",
    "상대 경로 | ./foo.py | 현재 디렉토리를 기준으로 파일경로를 정한다.\n"
   ]
  },
  {
   "cell_type": "code",
   "execution_count": 21,
   "metadata": {
    "collapsed": false,
    "slideshow": {
     "slide_type": "subslide"
    }
   },
   "outputs": [
    {
     "name": "stdout",
     "output_type": "stream",
     "text": [
      "/home/jsl/Code/git/bb/jsl/pyds/python.txt\n"
     ]
    }
   ],
   "source": [
    "import os\n",
    "mydir=os.getcwd()\n",
    "filename='python.txt'\n",
    "myfilename=os.path.join(mydir,filename)\n",
    "print myfilename"
   ]
  },
  {
   "cell_type": "markdown",
   "metadata": {
    "slideshow": {
     "slide_type": "subslide"
    }
   },
   "source": [
    "파일에 한글을 적어보자. 파일을 작성하고 나서는, 앞서 배운 파일 읽기를 해보자. 또는 문서편집기를 사용해서 파일 내용을 확인해 본다."
   ]
  },
  {
   "cell_type": "code",
   "execution_count": 19,
   "metadata": {
    "collapsed": true,
    "slideshow": {
     "slide_type": "-"
    }
   },
   "outputs": [],
   "source": [
    "hangul=\"\"\"\n",
    "파이썬[1](Python)은 1991년[2] 프로그래머인 귀도 반 로섬(Guido van Rossum)[3] 이 발표한 고급 프로그래밍 언어로,\n",
    "플랫폼 독립적이며 인터프리터식, 객체지향적, 동적 타이핑(dynamically typed) 대화형 언어이다.\n",
    "파이썬이라는 이름은 귀도가 좋아하는 코미디 〈Monty Python's Flying Circus〉에서 따온 것이다.\n",
    "파이썬은 비영리의 파이썬 소프트웨어 재단이 관리하는 개방형, 공동체 기반 개발 모델을 가지고 있다.\n",
    "C언어로 구현된 C파이썬 구현이 사실상의 표준이다.\n",
    "\"\"\"\n",
    "\n",
    "fout=open('pywikikorean.txt','w')\n",
    "for line in hangul:\n",
    "    fout.write(line)\n",
    "fout.close()"
   ]
  },
  {
   "cell_type": "code",
   "execution_count": 20,
   "metadata": {
    "collapsed": false,
    "scrolled": true,
    "slideshow": {
     "slide_type": "subslide"
    }
   },
   "outputs": [
    {
     "name": "stdout",
     "output_type": "stream",
     "text": [
      "\n",
      "파이썬[1](Python)은 1991년[2] 프로그래머인 귀도 반 로섬(Guido van Rossum)[3] 이 발표한 고급 프로그래밍 언어로,\n",
      "플랫폼 독립적이며 인터프리터식, 객체지향적, 동적 타이핑(dynamically typed) 대화형 언어이다.\n",
      "파이썬이라는 이름은 귀도가 좋아하는 코미디 〈Monty Python's Flying Circus〉에서 따온 것이다.\n",
      "파이썬은 비영리의 파이썬 소프트웨어 재단이 관리하는 개방형, 공동체 기반 개발 모델을 가지고 있다.\n",
      "C언어로 구현된 C파이썬 구현이 사실상의 표준이다.\n"
     ]
    }
   ],
   "source": [
    "fin=open('pywikikorean.txt')\n",
    "for line in fin:\n",
    "    print line,\n",
    "fin.close()"
   ]
  },
  {
   "cell_type": "markdown",
   "metadata": {
    "slideshow": {
     "slide_type": "slide"
    }
   },
   "source": [
    "## 1.10 recursion\n",
    "\n",
    "재귀 recursive 함수는 종료조건이 있어야 한다.\n",
    "* 종료조건에 도달하기 전까지는 재귀함수를 반복 호출하게 된다.\n",
    "* 종료조건에 도달하면 return을 하고 그 값으로 재귀함수가 사용된 다음 부분이 반복 실행된다."
   ]
  },
  {
   "cell_type": "markdown",
   "metadata": {
    "collapsed": true,
    "slideshow": {
     "slide_type": "subslide"
    }
   },
   "source": [
    "printSymbol() 함수는 별표를 출력하는 간단한 함수이다."
   ]
  },
  {
   "cell_type": "code",
   "execution_count": 17,
   "metadata": {
    "collapsed": true
   },
   "outputs": [],
   "source": [
    "def printSymbol(n,symbol=\"*\"):\n",
    "    print symbol*n"
   ]
  },
  {
   "cell_type": "markdown",
   "metadata": {
    "slideshow": {
     "slide_type": "subslide"
    }
   },
   "source": [
    "재귀함수를 만들어 보자.\n",
    "재귀함수는 n부터 시작해서, **n에서 하나씩 빼서 자신을 재귀적으로 호출**하고 있다. \n",
    "\n",
    "함수 | 설명\n",
    "-----|-----\n",
    "rPrintBefore() |재귀함수를 호출하기 전 별표를 n만큼 출력한다. 종료조건 n==0이 되는 경우, 함수에서 return으로 재귀호출이 멈춘다.\n",
    "rPrintAfter() | 재귀함수를 호출하고 별표를 n만큼 출력한다. 종료조건 n==0이 되는 경우, 함수에서 return되면 미처 실행되지 못했던 printSymbol()이 역순서로 차례 차례 호출된다."
   ]
  },
  {
   "cell_type": "code",
   "execution_count": 18,
   "metadata": {
    "collapsed": true
   },
   "outputs": [],
   "source": [
    "def rPrintBefore(n):\n",
    "    if n==0:\n",
    "        return 1\n",
    "    printSymbol(n)\n",
    "    rPrintBefore(n-1)\n",
    "\n",
    "def rPrintAfter(n):\n",
    "    if n==0:\n",
    "        return 1\n",
    "    rPrintAfter(n-1)\n",
    "    printSymbol(n)"
   ]
  },
  {
   "cell_type": "code",
   "execution_count": 19,
   "metadata": {
    "collapsed": false
   },
   "outputs": [
    {
     "name": "stdout",
     "output_type": "stream",
     "text": [
      "*****\n",
      "****\n",
      "***\n",
      "**\n",
      "*\n"
     ]
    }
   ],
   "source": [
    "rPrintBefore(5)"
   ]
  },
  {
   "cell_type": "code",
   "execution_count": 20,
   "metadata": {
    "collapsed": false,
    "slideshow": {
     "slide_type": "-"
    }
   },
   "outputs": [
    {
     "name": "stdout",
     "output_type": "stream",
     "text": [
      "*\n",
      "**\n",
      "***\n",
      "****\n",
      "*****\n"
     ]
    }
   ],
   "source": [
    "rPrintAfter(5)"
   ]
  },
  {
   "cell_type": "markdown",
   "metadata": {
    "slideshow": {
     "slide_type": "subslide"
    }
   },
   "source": [
    "factorial 문제를 풀어보자.\n",
    "factorial은 하나씩 빼면서 1까지 연산을 반복적으로 해야 하기 때문에 재귀함수로 만들어 풀기에 적합하다."
   ]
  },
  {
   "cell_type": "code",
   "execution_count": 23,
   "metadata": {
    "collapsed": false
   },
   "outputs": [
    {
     "name": "stdout",
     "output_type": "stream",
     "text": [
      "120\n"
     ]
    }
   ],
   "source": [
    "def factorial(n):\n",
    "    if n==1:\n",
    "        return 1\n",
    "    return n*factorial(n-1)\n",
    "\n",
    "res=factorial(5)\n",
    "print res"
   ]
  },
  {
   "cell_type": "markdown",
   "metadata": {
    "slideshow": {
     "slide_type": "subslide"
    }
   },
   "source": [
    "위 재귀함수에 출력문을 넣어서 어떻게 호출이 되는지 살펴보자.\n",
    "\n",
    "줄 | 설명\n",
    "-----|-----\n",
    "1 | 함수 호출마다 'call', 인자 n이 출력된다.\n",
    "2~3 | n==1 조건이 되면 return, 즉 재귀호출이 종료한다.\n",
    "4 | 재귀호출\n",
    "5 | 결과값 res가 출력\n",
    "6 | 결과값 res를 반환"
   ]
  },
  {
   "cell_type": "code",
   "execution_count": 24,
   "metadata": {
    "collapsed": false,
    "scrolled": false,
    "slideshow": {
     "slide_type": "-"
    }
   },
   "outputs": [
    {
     "name": "stdout",
     "output_type": "stream",
     "text": [
      "call 5\n",
      "call 4\n",
      "call 3\n",
      "call 2\n",
      "call 1\n",
      "result: 2\n",
      "result: 6\n",
      "result: 24\n",
      "result: 120\n",
      "120\n"
     ]
    }
   ],
   "source": [
    "def factorial(n):\n",
    "    print \"call\", n\n",
    "    if n==1:\n",
    "        return 1\n",
    "    res=n*factorial(n-1)\n",
    "    print \"result:\",res\n",
    "    return res\n",
    "\n",
    "res=factorial(5)\n",
    "print res"
   ]
  },
  {
   "cell_type": "markdown",
   "metadata": {
    "slideshow": {
     "slide_type": "subslide"
    }
   },
   "source": [
    "합계를 계산해보자."
   ]
  },
  {
   "cell_type": "code",
   "execution_count": 26,
   "metadata": {
    "collapsed": false,
    "slideshow": {
     "slide_type": "-"
    }
   },
   "outputs": [
    {
     "name": "stdout",
     "output_type": "stream",
     "text": [
      "call 10\n",
      "call 9\n",
      "call 8\n",
      "call 7\n",
      "call 6\n",
      "call 5\n",
      "call 4\n",
      "call 3\n",
      "call 2\n",
      "call 1\n",
      "result= 3\n",
      "result= 6\n",
      "result= 10\n",
      "result= 15\n",
      "result= 21\n",
      "result= 28\n",
      "result= 36\n",
      "result= 45\n",
      "result= 55\n",
      "55\n"
     ]
    }
   ],
   "source": [
    "def sum(n):\n",
    "    print \"call\", n\n",
    "    if n==1:\n",
    "        return 1\n",
    "    res=n+sum(n-1)\n",
    "    print \"result=\",res\n",
    "    return res\n",
    "\n",
    "res=sum(10)\n",
    "print res"
   ]
  },
  {
   "cell_type": "code",
   "execution_count": 25,
   "metadata": {
    "collapsed": false,
    "slideshow": {
     "slide_type": "subslide"
    }
   },
   "outputs": [
    {
     "name": "stdout",
     "output_type": "stream",
     "text": [
      "<< i=0 seq=[1, 2, 3, 4, 5, 6, 7, 8, 9, 10]\n",
      "<< i=1 seq=[1, 2, 3, 4, 5, 6, 7, 8, 9, 10]\n",
      "<< i=2 seq=[1, 2, 3, 4, 5, 6, 7, 8, 9, 10]\n",
      "<< i=3 seq=[1, 2, 3, 4, 5, 6, 7, 8, 9, 10]\n",
      "<< i=4 seq=[1, 2, 3, 4, 5, 6, 7, 8, 9, 10]\n",
      "<< i=5 seq=[1, 2, 3, 4, 5, 6, 7, 8, 9, 10]\n",
      "<< i=6 seq=[1, 2, 3, 4, 5, 6, 7, 8, 9, 10]\n",
      "<< i=7 seq=[1, 2, 3, 4, 5, 6, 7, 8, 9, 10]\n",
      "<< i=8 seq=[1, 2, 3, 4, 5, 6, 7, 8, 9, 10]\n",
      "<< i=9 seq=[1, 2, 3, 4, 5, 6, 7, 8, 9, 10]\n",
      "<< i=9 seq=[1, 2, 3, 4, 5, 6, 7, 8, 9, 10] res=10\n",
      "<< i=8 seq=[1, 2, 3, 4, 5, 6, 7, 8, 9, 10] res=19\n",
      "<< i=7 seq=[1, 2, 3, 4, 5, 6, 7, 8, 9, 10] res=27\n",
      "<< i=6 seq=[1, 2, 3, 4, 5, 6, 7, 8, 9, 10] res=34\n",
      "<< i=5 seq=[1, 2, 3, 4, 5, 6, 7, 8, 9, 10] res=40\n",
      "<< i=4 seq=[1, 2, 3, 4, 5, 6, 7, 8, 9, 10] res=45\n",
      "<< i=3 seq=[1, 2, 3, 4, 5, 6, 7, 8, 9, 10] res=49\n",
      "<< i=2 seq=[1, 2, 3, 4, 5, 6, 7, 8, 9, 10] res=52\n",
      "<< i=1 seq=[1, 2, 3, 4, 5, 6, 7, 8, 9, 10] res=54\n",
      "<< i=0 seq=[1, 2, 3, 4, 5, 6, 7, 8, 9, 10] res=55\n"
     ]
    },
    {
     "data": {
      "text/plain": [
       "55"
      ]
     },
     "execution_count": 25,
     "metadata": {},
     "output_type": "execute_result"
    }
   ],
   "source": [
    "def power(x,n):\n",
    "    if n==0:\n",
    "        return 1\n",
    "    else:\n",
    "        partial=power(x,n/2)\n",
    "        res=partial*partial\n",
    "    if n%2 ==1:\n",
    "        res*=x\n",
    "    print \"x={0} n={1} res={2}\".format(x,n,res)\n",
    "    return res\n",
    "\n",
    "def S(seq,i=0):\n",
    "    if i==len(seq): return 0\n",
    "    print \"<< i={0} seq={1}\".format(i,seq)\n",
    "    res=S(seq,i+1)+seq[i]\n",
    "    print \"<< i={0} seq={1} res={2}\".format(i,seq,res)\n",
    "    return res\n",
    "\n",
    "seq=range(1,11)\n",
    "S(seq)"
   ]
  },
  {
   "cell_type": "code",
   "execution_count": 11,
   "metadata": {
    "collapsed": false,
    "slideshow": {
     "slide_type": "subslide"
    }
   },
   "outputs": [
    {
     "name": "stdout",
     "output_type": "stream",
     "text": [
      "<< i=0 seq=[1, 2, 3, 4, 5, 6, 7, 8, 9, 10]\n",
      "<< i=1 seq=[1, 2, 3, 4, 5, 6, 7, 8, 9, 10]\n",
      "<< i=2 seq=[1, 2, 3, 4, 5, 6, 7, 8, 9, 10]\n",
      "<< i=3 seq=[1, 2, 3, 4, 5, 6, 7, 8, 9, 10]\n",
      "<< i=4 seq=[1, 2, 3, 4, 5, 6, 7, 8, 9, 10]\n",
      "<< i=5 seq=[1, 2, 3, 4, 5, 6, 7, 8, 9, 10]\n",
      "<< i=6 seq=[1, 2, 3, 4, 5, 6, 7, 8, 9, 10]\n",
      "<< i=7 seq=[1, 2, 3, 4, 5, 6, 7, 8, 9, 10]\n",
      "<< i=8 seq=[1, 2, 3, 4, 5, 6, 7, 8, 9, 10]\n",
      "<< i=9 seq=[1, 2, 3, 4, 5, 6, 7, 8, 9, 10]\n",
      "<< i=9 seq=[1, 2, 3, 4, 5, 6, 7, 8, 9, 10] res=10\n",
      "<< i=8 seq=[1, 2, 3, 4, 5, 6, 7, 8, 9, 10] res=19\n",
      "<< i=7 seq=[1, 2, 3, 4, 5, 6, 7, 8, 9, 10] res=27\n",
      "<< i=6 seq=[1, 2, 3, 4, 5, 6, 7, 8, 9, 10] res=34\n",
      "<< i=5 seq=[1, 2, 3, 4, 5, 6, 7, 8, 9, 10] res=40\n",
      "<< i=4 seq=[1, 2, 3, 4, 5, 6, 7, 8, 9, 10] res=45\n",
      "<< i=3 seq=[1, 2, 3, 4, 5, 6, 7, 8, 9, 10] res=49\n",
      "<< i=2 seq=[1, 2, 3, 4, 5, 6, 7, 8, 9, 10] res=52\n",
      "<< i=1 seq=[1, 2, 3, 4, 5, 6, 7, 8, 9, 10] res=54\n",
      "<< i=0 seq=[1, 2, 3, 4, 5, 6, 7, 8, 9, 10] res=55\n"
     ]
    },
    {
     "data": {
      "text/plain": [
       "55"
      ]
     },
     "execution_count": 11,
     "metadata": {},
     "output_type": "execute_result"
    }
   ],
   "source": [
    "\n",
    "def power(x,n):\n",
    "    if n==0:\n",
    "        return 1\n",
    "    else:\n",
    "        partial=power(x,n/2)\n",
    "        res=partial*partial\n",
    "    if n%2 ==1:\n",
    "        res*=x\n",
    "    print \"x={0} n={1} res={2}\".format(x,n,res)\n",
    "    return res\n",
    "\n",
    "def S(seq,i=0):\n",
    "    if i==len(seq): return 0\n",
    "    print \"<< i={0} seq={1}\".format(i,seq)\n",
    "    res=S(seq,i+1)+seq[i]\n",
    "    print \"<< i={0} seq={1} res={2}\".format(i,seq,res)\n",
    "    return res\n",
    "\n",
    "seq=range(1,11)\n",
    "S(seq)\n"
   ]
  },
  {
   "cell_type": "markdown",
   "metadata": {
    "slideshow": {
     "slide_type": "subslide"
    }
   },
   "source": [
    "* recursive함수에서 데이터 값을 사용할 경우 주의\n",
    "    * recursive함수에서는 보통 함수에서와 같이 데이터를 돌려주지 않으면, 사용할 수 없다.\n",
    "    * 아래에서 10을 출력할 것을 생각하지만, 결과는 6이 반환된다.\n",
    "\n",
    "```python\n",
    "add(5): x=6\n",
    "-> add(6)\n",
    "--> add(7)\n",
    "---> add(8)\n",
    "----> add(9)\n",
    "-----> add(10)\n",
    "------> return 11 to add(10)\n",
    "-----> return None to add(9)\n",
    "----> return None to add(8)\n",
    "---> return None to add(7)\n",
    "--> return None to add(6)\n",
    "-> return None to add(5)\n",
    "return 6\n",
    "```"
   ]
  },
  {
   "cell_type": "code",
   "execution_count": 27,
   "metadata": {
    "collapsed": false,
    "slideshow": {
     "slide_type": "subslide"
    }
   },
   "outputs": [
    {
     "name": "stdout",
     "output_type": "stream",
     "text": [
      "x: 6\n",
      "x: 7\n",
      "x: 8\n",
      "x: 9\n",
      "x: 10\n",
      "returned -> 6\n"
     ]
    }
   ],
   "source": [
    "def add(x): \n",
    "    x += 1 \n",
    "    print \"x:\",x \n",
    "    if x < 10: \n",
    "        add(x) \n",
    "    return x\n",
    "\n",
    "res=add(5)\n",
    "print \"returned ->\",res"
   ]
  },
  {
   "cell_type": "code",
   "execution_count": 28,
   "metadata": {
    "collapsed": false,
    "slideshow": {
     "slide_type": "subslide"
    }
   },
   "outputs": [
    {
     "name": "stdout",
     "output_type": "stream",
     "text": [
      "x: 6\n",
      "x: 7\n",
      "x: 8\n",
      "x: 9\n",
      "x: 10\n",
      "returned -> None\n"
     ]
    }
   ],
   "source": [
    "def add(x): \n",
    "    x += 1 \n",
    "    print \"x:\",x \n",
    "    if x < 10: \n",
    "        return add(x)\n",
    "\n",
    "res=add(5)\n",
    "print \"returned ->\",res"
   ]
  },
  {
   "cell_type": "code",
   "execution_count": 29,
   "metadata": {
    "collapsed": false,
    "slideshow": {
     "slide_type": "subslide"
    }
   },
   "outputs": [
    {
     "name": "stdout",
     "output_type": "stream",
     "text": [
      "x: 6\n",
      "x: 7\n",
      "x: 8\n",
      "x: 9\n",
      "x: 10\n",
      "returned -> 10\n"
     ]
    }
   ],
   "source": [
    "def add(x): \n",
    "    x += 1 \n",
    "    print \"x:\",x \n",
    "    if x < 10: \n",
    "        return add(x)\n",
    "    return x\n",
    "\n",
    "res=add(5)\n",
    "print \"returned ->\",res"
   ]
  },
  {
   "cell_type": "code",
   "execution_count": 38,
   "metadata": {
    "collapsed": false,
    "scrolled": true,
    "slideshow": {
     "slide_type": "subslide"
    }
   },
   "outputs": [
    {
     "name": "stdout",
     "output_type": "stream",
     "text": [
      "if depth: 3\n",
      "if depth: 2\n",
      "if depth: 1\n",
      "else depth: 0\n",
      "3\n"
     ]
    }
   ],
   "source": [
    "# else에서 0이 되면 값 0을 돌려주어야 하지만, 3을 돌려줌.\n",
    "def testDepth(depth):\n",
    "    if depth > 0:\n",
    "        print \"if depth: {0}\".format(depth)\n",
    "        testDepth(depth - 1)\n",
    "        return depth\n",
    "    else:\n",
    "        print \"else depth: {0}\".format(depth)        \n",
    "        return depth\n",
    "\n",
    "res=testDepth(3)\n",
    "print res"
   ]
  },
  {
   "cell_type": "markdown",
   "metadata": {
    "collapsed": true,
    "slideshow": {
     "slide_type": "subslide"
    }
   },
   "source": [
    "* 다음에서 몇 회에 맞추었는지 어떻게 알 수 있을까?\n",
    "* return을 사용해야 한다.\n",
    "* 변수의 범위를 이해해야 한다. 재귀호출에서의 변수는 호출함수 시점에서만 알 수 있다."
   ]
  },
  {
   "cell_type": "code",
   "execution_count": null,
   "metadata": {
    "collapsed": true
   },
   "outputs": [],
   "source": [
    "# data\n",
    "def binary_search(target,low,high):\n",
    "    mid=int(low+high)/2\n",
    "    mid=int(mid)\n",
    "    if mid==target:\n",
    "        print \"mid==target\"\n",
    "    elif mid>target:\n",
    "        print \"mid>target\"\n",
    "        high=mid\n",
    "    else:\n",
    "        print \"else\"\n",
    "        low=mid\n",
    "        binary_search(target,high,low)\n",
    "    print \"target={0} low={1} mid={2} high={3}\".format(target,low,mid,high)"
   ]
  },
  {
   "cell_type": "markdown",
   "metadata": {
    "slideshow": {
     "slide_type": "subslide"
    }
   },
   "source": [
    "* table\n",
    " \n",
    "\n",
    "l | m | h | t\n",
    "--|---|---|---\n",
    "2 |   | 10| 5\n",
    "2 | 6 | 10| 5 mid>target\n",
    "2 | 4 | 6 | 5 mid > target\n",
    "2 | 3 | 4 | 5 else\n",
    "3 | 3 | 4 | 5"
   ]
  },
  {
   "cell_type": "code",
   "execution_count": 21,
   "metadata": {
    "collapsed": true
   },
   "outputs": [],
   "source": [
    "\"\"\"not complete yet\"\"\"\n",
    "def binary_search(target,low,high,n=0):\n",
    "    mid=int(low+high)/2\n",
    "    mid=int(mid)\n",
    "    print \n",
    "    if mid==target:\n",
    "        print \"mid==target\"\n",
    "        print 'round=',n\n",
    "        return n\n",
    "    elif low<target<mid:\n",
    "        print \"->\\tlow<target<mid --> mid becomes high\"\n",
    "        high=mid\n",
    "    elif mid<target<high:\n",
    "        print \"->\\tmid<target<high --> mid becomes low\"\n",
    "        low=mid\n",
    "    elif target<low or high<target:\n",
    "        print \"->\\tout of range error\"\n",
    "        return n\n",
    "    else:\n",
    "        print \"->\\thigh=target or low=target\"\n",
    "        return n\n",
    "    binary_search(target,high,low,n+1)\n",
    "    print \"target={0} low={1} mid={2} high={3}\".format(target,low,mid,high)\n",
    "\n",
    "binary_search(5,4,10)"
   ]
  },
  {
   "cell_type": "markdown",
   "metadata": {
    "slideshow": {
     "slide_type": "slide"
    }
   },
   "source": [
    "## 1.11 lambda\n",
    "\n",
    "### 무명함수\n",
    "\n",
    "lambda는 **무명 함수**이다.\n",
    "lambda는 함수를 정의하는 명령어로서, 이름이 없다는 특징이 있다.\n",
    "lambda함수는 **한 줄의 코드**만을 가질 수 있어서 매우 간단하게 사용할 수 있다.\n",
    "\n",
    "\n",
    "### 인자와 반환\n",
    "인자는 보통 함수와 동일한 방식으로 넘겨줄 수 있다.\n",
    "처리 결과는 **'return'을 사용하지 않아도 반환**된다.\n",
    "즉, lambda함수는 입력 값만을 가지고 연산하여 그 결과를 return 없이 반환할 때 사용한다."
   ]
  },
  {
   "cell_type": "markdown",
   "metadata": {
    "slideshow": {
     "slide_type": "subslide"
    }
   },
   "source": [
    "### 단순한 lamba 만들기\n",
    "\n",
    "단순히 어떤 값을 제곱하는 기능을 lambda 함수로 만들어 보자.\n",
    "\n",
    "#### lambda 없이\n",
    "\n",
    "같은 기능을 lambda를 사용하지 않고, 기존 함수 방식으로 만들면 프로그램이 조금 더 늘어나게 된다"
   ]
  },
  {
   "cell_type": "code",
   "execution_count": 6,
   "metadata": {
    "collapsed": false
   },
   "outputs": [
    {
     "name": "stdout",
     "output_type": "stream",
     "text": [
      "9\n"
     ]
    }
   ],
   "source": [
    "def f(x):\n",
    "    return x**2\n",
    "y=f(3)\n",
    "print y"
   ]
  },
  {
   "cell_type": "markdown",
   "metadata": {
    "slideshow": {
     "slide_type": "subslide"
    }
   },
   "source": [
    "#### lambda를 사용해서\n",
    "\n",
    "단순히 인자에 2를 곱하는 lamdba함수 'y'를 정의하면 다음과 같다. f(x)는 인자 x를 받아서. "
   ]
  },
  {
   "cell_type": "code",
   "execution_count": 5,
   "metadata": {
    "collapsed": false
   },
   "outputs": [
    {
     "name": "stdout",
     "output_type": "stream",
     "text": [
      "9\n"
     ]
    }
   ],
   "source": [
    "y=lambda x:x**2\n",
    "print y(3)"
   ]
  },
  {
   "cell_type": "markdown",
   "metadata": {
    "slideshow": {
     "slide_type": "subslide"
    }
   },
   "source": [
    "#### 여러 인자\n",
    "\n",
    "인자는 1개만 사용할 수 있지 않다. x,y 2개의 인자를 넘겨주고 합산을 해보자."
   ]
  },
  {
   "cell_type": "code",
   "execution_count": 1,
   "metadata": {
    "collapsed": false,
    "slideshow": {
     "slide_type": "-"
    }
   },
   "outputs": [
    {
     "name": "stdout",
     "output_type": "stream",
     "text": [
      "3\n"
     ]
    }
   ],
   "source": [
    "f=lambda x,y: x+y\n",
    "sum=f(1,2)\n",
    "print sum"
   ]
  },
  {
   "cell_type": "markdown",
   "metadata": {
    "slideshow": {
     "slide_type": "subslide"
    }
   },
   "source": [
    "### map-reduce에 많이 사용\n",
    "\n",
    "빅데이터를 분석하면서 lambda 함수는 map-reduce에서 자주 사용되므로 잘 이해해야 한다.\n",
    "다음에 배우는 Python map-reduce는 동시에 두 함수를 연결해서 처리하지 않는다.\n",
    "즉 map 결과를 산출하고, 이어서 reduce가 받아서 처리하는 식이다.\n",
    "이와 같이 여기서는 두 함수를 별도로 처리하고 빅데이터 분석에 특화된 Spark, Hadoop에서는 연결하여 병렬처리를 한다."
   ]
  },
  {
   "cell_type": "markdown",
   "metadata": {
    "slideshow": {
     "slide_type": "subslide"
    }
   },
   "source": [
    "#### map 함수\n",
    "\n",
    "map함수는 입력데이터 하나 하나에 연산을 적용하게 된다."
   ]
  },
  {
   "cell_type": "code",
   "execution_count": 10,
   "metadata": {
    "collapsed": true
   },
   "outputs": [],
   "source": [
    "temp = [23, 36.5, 37.5, 19]\n",
    "\n",
    "F = map(lambda x:(float(9)/5)*x + 32, temp)\n",
    "C = map(lambda x: (float(5)/9)*(x-32), F)"
   ]
  },
  {
   "cell_type": "code",
   "execution_count": 9,
   "metadata": {
    "collapsed": false
   },
   "outputs": [
    {
     "name": "stdout",
     "output_type": "stream",
     "text": [
      "[73.4, 97.7, 99.5, 66.2]\n",
      "[23.000000000000004, 36.5, 37.5, 19.000000000000004]\n"
     ]
    }
   ],
   "source": [
    "print F\n",
    "print C"
   ]
  },
  {
   "cell_type": "markdown",
   "metadata": {
    "slideshow": {
     "slide_type": "subslide"
    }
   },
   "source": [
    "#### reduce  함수\n",
    "\n",
    "reduce(함수,값 집합)는 데이터를 넘겨주면 다음과 같이 reduce해서 연산하게 된다.\n",
    "\n",
    "```python\n",
    "1   2   3   4\n",
    " \\ /   /   /\n",
    "  3   /   /\n",
    "   \\ /   /\n",
    "    6   /\n",
    "     \\ /\n",
    "     10\n",
    "```\n",
    "\n",
    "lambda를 reduce함수와 결합하면 다음과 같다."
   ]
  },
  {
   "cell_type": "code",
   "execution_count": 17,
   "metadata": {
    "collapsed": false
   },
   "outputs": [
    {
     "data": {
      "text/plain": [
       "10"
      ]
     },
     "execution_count": 17,
     "metadata": {},
     "output_type": "execute_result"
    }
   ],
   "source": [
    "reduce(lambda x,y:x+y, [1,2,3,4])"
   ]
  },
  {
   "cell_type": "markdown",
   "metadata": {
    "slideshow": {
     "slide_type": "subslide"
    }
   },
   "source": [
    "#### filter\n",
    "\n",
    "filter는 조건에 맞는 데이터를 가려내는 기능이다.\n",
    "아래 예는 모듈러스 ```%```를 사용하여 2로 나누어 나머지가 있는, 즉 홀수를 가려내고 있다."
   ]
  },
  {
   "cell_type": "code",
   "execution_count": 8,
   "metadata": {
    "collapsed": false
   },
   "outputs": [
    {
     "name": "stdout",
     "output_type": "stream",
     "text": [
      "[7, 5, 3, 1, 1, 55]\n"
     ]
    }
   ],
   "source": [
    "numbers = [2,2,8,7,5,3,1,1,55,44]\n",
    "odds = filter(lambda x: x % 2, numbers)\n",
    "print odds"
   ]
  },
  {
   "cell_type": "markdown",
   "metadata": {
    "slideshow": {
     "slide_type": "slide"
    }
   },
   "source": [
    "## 1.12 scripts\n",
    "\n",
    "여기서 배울 내용은 1) 프로그램을 완성해서 실행하기, 2) 라이브러리 만들어 보기 이다.\n",
    "\n",
    "Python 프로그래밍을 배우고 나면, 이제 완성된 프로그램을 저장하고 실행해보자.\n",
    "지금까지는 한 줄 한 줄씩 명령문을 실행하는 인터랙티브 interactive 방식이었다.\n",
    "인터랙티브 방식은 한 줄씩 실행하면서, 오류가 있다면 고쳐가면서 완성해나가므로 초보자에게 편리하다.\n",
    "그러나 자동화를 하려면, 전 필요한 코드를 모두 넣고 하나의 프로그램으로 저장한 후, 이를 일괄 실행하는 것이 반드시 필요하다."
   ]
  },
  {
   "cell_type": "markdown",
   "metadata": {
    "slideshow": {
     "slide_type": "subslide"
    }
   },
   "source": [
    "### 간단한 Notebook 명령어\n",
    "\n",
    "노트북이 편리한 이유 가운데 하나는 바로 자신을 떠나지 않고 현재 셀에서 운영체제 명령어도 실행할 수 있다는 것이다.\n",
    "리눅스 또는 윈도우에서 사용하는 몇 가지 필요한 명령어를 배우고 가보자\n",
    "단 앞에 운영체제 명령어는 ```!```를, 셀명령어는 ```%```를 붙인다.\n",
    "사용할 수 있는 명령어는 Help 메뉴를 열어서 참조하자.\n",
    "\n",
    "명령어 | 설명\n",
    "-----|-----\n",
    "ls | 디렉토리 읽기, ls가 안되면 윈도우 명령어인 dir로 하면 된다.\n",
    "~ | 홈디렉토리\n",
    "% | 매직 명령어\n",
    "%% | 셀 명령어\n"
   ]
  },
  {
   "cell_type": "markdown",
   "metadata": {
    "slideshow": {
     "slide_type": "subslide"
    }
   },
   "source": [
    "현재 작업경로를 알아보자. 앞에 ```%```를 붙이고 pwd 명령어를 사용한다."
   ]
  },
  {
   "cell_type": "code",
   "execution_count": 2,
   "metadata": {
    "collapsed": false,
    "slideshow": {
     "slide_type": "-"
    }
   },
   "outputs": [
    {
     "data": {
      "text/plain": [
       "u'/home/jsl/Code/git/bb/jsl/pyds'"
      ]
     },
     "execution_count": 2,
     "metadata": {},
     "output_type": "execute_result"
    }
   ],
   "source": [
    "%pwd"
   ]
  },
  {
   "cell_type": "markdown",
   "metadata": {
    "slideshow": {
     "slide_type": "subslide"
    }
   },
   "source": [
    "파일을 작성하거나, 읽어 보자. 파일탐색기 또는 메모장으로 하는 작업을 편리하고 빠르게 할 수 있다."
   ]
  },
  {
   "cell_type": "code",
   "execution_count": 6,
   "metadata": {
    "collapsed": false
   },
   "outputs": [
    {
     "name": "stdout",
     "output_type": "stream",
     "text": [
      "Writing my.txt\n"
     ]
    }
   ],
   "source": [
    "%%writefile my.txt\n",
    "hello"
   ]
  },
  {
   "cell_type": "code",
   "execution_count": 7,
   "metadata": {
    "collapsed": false
   },
   "outputs": [
    {
     "name": "stdout",
     "output_type": "stream",
     "text": [
      "my.txt\r\n"
     ]
    }
   ],
   "source": [
    "!dir my.txt"
   ]
  },
  {
   "cell_type": "markdown",
   "metadata": {
    "slideshow": {
     "slide_type": "subslide"
    }
   },
   "source": [
    "### 프로그램의 실행\n",
    "\n",
    "그럼 간단한 프로그램을 완성해 보자.\n",
    "앞서 만들 파일을 읽어서 출력하는 프로그램이다.\n",
    "아래 명령문을 프로그램 'test.py'으로 저장하고 실행해 보자.\n",
    "\n",
    "줄 | 설명\n",
    "-----|-----\n",
    "2 | 현재 작업디렉토리 출력\n",
    "3 | 파일을 읽기 용도로 열기\n",
    "4 | 파일에서 읽기\n",
    "5 | 줄 수를 출력하기 위해 초기화\n",
    "6-8 | 줄 수, 한 줄씩 출력하기\n",
    "9 | 파일 닫기"
   ]
  },
  {
   "cell_type": "code",
   "execution_count": 37,
   "metadata": {
    "collapsed": false,
    "slideshow": {
     "slide_type": "-"
    }
   },
   "outputs": [
    {
     "name": "stdout",
     "output_type": "stream",
     "text": [
      "Overwriting myRead.py\n"
     ]
    }
   ],
   "source": [
    "%%writefile myRead.py\n",
    "import os\n",
    "\n",
    "print os.getcwd()\n",
    "f=open('myRead.py','r')\n",
    "lineNum=0\n",
    "for line in f.readlines():\n",
    "    lineNum+=1\n",
    "    print lineNum,\"-\",line\n",
    "f.close()"
   ]
  },
  {
   "cell_type": "markdown",
   "metadata": {
    "slideshow": {
     "slide_type": "subslide"
    }
   },
   "source": [
    "위 프로그램을 실행해 보자.\n",
    "우선 그 파일이 잘 저장되어 있는지 확인해 보자."
   ]
  },
  {
   "cell_type": "code",
   "execution_count": 38,
   "metadata": {
    "collapsed": false
   },
   "outputs": [
    {
     "name": "stdout",
     "output_type": "stream",
     "text": [
      "myRead.py\r\n"
     ]
    }
   ],
   "source": [
    "!dir myRead.py"
   ]
  },
  {
   "cell_type": "code",
   "execution_count": 39,
   "metadata": {
    "collapsed": false
   },
   "outputs": [
    {
     "name": "stdout",
     "output_type": "stream",
     "text": [
      "/home/jsl/Code/git/bb/jsl/pyds\n",
      "1 - import os\n",
      "\n",
      "2 - \n",
      "\n",
      "3 - print os.getcwd()\n",
      "\n",
      "4 - f=open('myRead.py','r')\n",
      "\n",
      "5 - lineNum=0\n",
      "\n",
      "6 - for line in f.readlines():\n",
      "\n",
      "7 -     lineNum+=1\n",
      "\n",
      "8 -     print lineNum,\"-\",line\n",
      "\n",
      "9 - f.close()\n"
     ]
    }
   ],
   "source": [
    "%run myRead.py"
   ]
  },
  {
   "cell_type": "markdown",
   "metadata": {
    "slideshow": {
     "slide_type": "subslide"
    }
   },
   "source": [
    "물론 명령 프롬프트에서 실행할 수도 있다. Python은 명령프롬프트에서 실행되므로 앞에 !를 붙이게 된다."
   ]
  },
  {
   "cell_type": "code",
   "execution_count": 60,
   "metadata": {
    "collapsed": false
   },
   "outputs": [
    {
     "name": "stdout",
     "output_type": "stream",
     "text": [
      "/home/jsl/Code/git/bb/jsl/pyds\r\n",
      "1 - import os\r\n",
      "\r\n",
      "2 - print os.getcwd()\r\n",
      "\r\n",
      "3 - f=open('myRead.py','r')\r\n",
      "\r\n",
      "4 - lineNum=0\r\n",
      "\r\n",
      "5 - for line in f.readlines():\r\n",
      "\r\n",
      "6 -     lineNum+=1\r\n",
      "\r\n",
      "7 -     print lineNum, \"-\",line\r\n",
      "\r\n",
      "8 - f.close()\r\n"
     ]
    }
   ],
   "source": [
    "!python myRead.py"
   ]
  },
  {
   "cell_type": "markdown",
   "metadata": {
    "slideshow": {
     "slide_type": "subslide"
    }
   },
   "source": [
    "### 프로그램 실행 인자\n",
    "\n",
    "명령 프롬프트에서 Python을 실행하면서 인자를 사용할 경우가 있다.\n",
    "우선 프로그램을 실행하면서 현재 실행하는 파일명을 출력해 보자.\n",
    "```python\n",
    "$ python myRead1.py\n",
    "```\n",
    "\n",
    "아래와 같이 python 명령 다음을 인자로 간주하여 파일명 myRead1.py를 출력할 수 있다.\n",
    "```python\n",
    "argv 0 = myRead1.py\n",
    "```\n"
   ]
  },
  {
   "cell_type": "code",
   "execution_count": 40,
   "metadata": {
    "collapsed": false,
    "slideshow": {
     "slide_type": "-"
    }
   },
   "outputs": [
    {
     "name": "stdout",
     "output_type": "stream",
     "text": [
      "Overwriting myRead1.py\n"
     ]
    }
   ],
   "source": [
    "%%writefile myRead1.py\n",
    "import os\n",
    "import sys\n",
    "\n",
    "print os.getcwd()\n",
    "for i,argv in enumerate(sys.argv[:]):\n",
    "    print \"argv %d = %s\" % (i,argv)\n",
    "\n",
    "f=open('myRead.py','r')\n",
    "lineNum=0\n",
    "for line in f.readlines():\n",
    "    lineNum+=1\n",
    "    print lineNum,\"-\",line\n",
    "f.close()"
   ]
  },
  {
   "cell_type": "code",
   "execution_count": 41,
   "metadata": {
    "collapsed": false
   },
   "outputs": [
    {
     "name": "stdout",
     "output_type": "stream",
     "text": [
      "/home/jsl/Code/git/bb/jsl/pyds\n",
      "argv 0 = myRead1.py\n",
      "1 - import os\n",
      "\n",
      "2 - \n",
      "\n",
      "3 - print os.getcwd()\n",
      "\n",
      "4 - f=open('myRead.py','r')\n",
      "\n",
      "5 - lineNum=0\n",
      "\n",
      "6 - for line in f.readlines():\n",
      "\n",
      "7 -     lineNum+=1\n",
      "\n",
      "8 -     print lineNum,\"-\",line\n",
      "\n",
      "9 - f.close()\n"
     ]
    }
   ],
   "source": [
    "%run myRead1.py"
   ]
  },
  {
   "cell_type": "markdown",
   "metadata": {
    "slideshow": {
     "slide_type": "subslide"
    }
   },
   "source": [
    "앞서 프로그램은 읽을 파일을 미리 myRead.py로 정해 놓았다.\n",
    "이와 같이 파일 이름을 고정하지 않고 프로그램을 실행하면서 아래와 같이 주면 보다 편리하겠다.\n",
    "\n",
    "```python\n",
    "$ python myRead1.py `읽을 파일명`\n",
    "```\n",
    "\n",
    "그렇게 하면 아래와 같이 python 명령 다음을 인자로 간주하여 하나씩 출력할 수 있고, 그 값을 사용하여 파일내용을 출력할 수 있다.\n",
    "\n",
    "```python\n",
    "argv 0 = myRead1.py\n",
    "argv 1 = 읽을 파일 명\n",
    "```"
   ]
  },
  {
   "cell_type": "code",
   "execution_count": 43,
   "metadata": {
    "collapsed": false,
    "slideshow": {
     "slide_type": "-"
    }
   },
   "outputs": [
    {
     "name": "stdout",
     "output_type": "stream",
     "text": [
      "Writing myRead2.py\n"
     ]
    }
   ],
   "source": [
    "%%writefile myRead2.py\n",
    "import os\n",
    "import sys\n",
    "print os.getcwd()\n",
    "fn=sys.argv[1]\n",
    "print \"Reading...\",fn\n",
    "f=open(fn,'r')\n",
    "lineNum=0\n",
    "for line in f.readlines():\n",
    "    lineNum+=1\n",
    "    print lineNum,\"-\",line\n",
    "f.close()"
   ]
  },
  {
   "cell_type": "code",
   "execution_count": 45,
   "metadata": {
    "collapsed": false,
    "slideshow": {
     "slide_type": "subslide"
    }
   },
   "outputs": [
    {
     "name": "stdout",
     "output_type": "stream",
     "text": [
      "/home/jsl/Code/git/bb/jsl/pyds\n",
      "Reading... myRead2.py\n",
      "1 - import os\n",
      "\n",
      "2 - import sys\n",
      "\n",
      "3 - print os.getcwd()\n",
      "\n",
      "4 - fn=sys.argv[1]\n",
      "\n",
      "5 - print \"Reading...\",fn\n",
      "\n",
      "6 - f=open(fn,'r')\n",
      "\n",
      "7 - lineNum=0\n",
      "\n",
      "8 - for line in f.readlines():\n",
      "\n",
      "9 -     lineNum+=1\n",
      "\n",
      "10 -     print lineNum,\"-\",line\n",
      "\n",
      "11 - f.close()\n"
     ]
    }
   ],
   "source": [
    "%run myRead2.py myRead2.py"
   ]
  },
  {
   "cell_type": "markdown",
   "metadata": {
    "slideshow": {
     "slide_type": "subslide"
    }
   },
   "source": [
    "### 라이브러리 만들기\n",
    "\n",
    "자신이 노력을 들여 프로그램을 만들었다고 하자.\n",
    "이런 프로그램을 라이브러리로 만들면 자신이 또 사용하거나 타인에게 공유하기도 편리할 것이다.\n",
    "자신의 라이브러리 만들어 보기"
   ]
  },
  {
   "cell_type": "markdown",
   "metadata": {
    "slideshow": {
     "slide_type": "subslide"
    }
   },
   "source": [
    "라이브러리를 만드는 방법은 생각보다 간단하다.\n",
    "우선 라이브러리에서 제공할 함수를 만들어 넣어두자.\n",
    "test() 함수가 그것이다.\n",
    "이 함수를 가지고 있는 파일은 test1.py라고 하자."
   ]
  },
  {
   "cell_type": "code",
   "execution_count": 46,
   "metadata": {
    "collapsed": false
   },
   "outputs": [
    {
     "name": "stdout",
     "output_type": "stream",
     "text": [
      "Writing myTestLib.py\n"
     ]
    }
   ],
   "source": [
    "%%writefile myTestLib.py\n",
    "def myPrint():\n",
    "   print 'This is my test function in myTestLib.py'"
   ]
  },
  {
   "cell_type": "code",
   "execution_count": 47,
   "metadata": {
    "collapsed": false
   },
   "outputs": [
    {
     "name": "stdout",
     "output_type": "stream",
     "text": [
      "myTestLib.py\r\n"
     ]
    }
   ],
   "source": [
    "!dir myTestLib.py"
   ]
  },
  {
   "cell_type": "markdown",
   "metadata": {
    "slideshow": {
     "slide_type": "subslide"
    }
   },
   "source": [
    "이 프로그램은 실행할 수 있지만 아무런 결과를 볼 수가 없다.\n",
    "당연히 가지고 있는 함수 myPrint()를 호출하지 않으니 그렇다.\n",
    "그러나 이 함수를 다른 프로그램에서 사용한다고 하면 어떻게 할까?\n",
    "다른 프로그램에서 myTestLib의 myPrint()를 불러 사용할 수 있게 하는 것이 '라이브러리'이다.\n",
    "어렵게 들릴 수 있었겠지만, 우리는 라이브러리를 만들었다. 쉽지 않은가!\n",
    "자, 지금 만든 라이브러리를 호출하여 사용해 보자.\n"
   ]
  },
  {
   "cell_type": "code",
   "execution_count": 51,
   "metadata": {
    "collapsed": false,
    "slideshow": {
     "slide_type": "-"
    }
   },
   "outputs": [
    {
     "name": "stdout",
     "output_type": "stream",
     "text": [
      "This is my test function in myTestLib.py\n"
     ]
    }
   ],
   "source": [
    "import myTestLib\n",
    "myTestLib.myPrint()"
   ]
  },
  {
   "cell_type": "markdown",
   "metadata": {
    "slideshow": {
     "slide_type": "subslide"
    }
   },
   "source": [
    "### 라이브러리 수정후 다시 로딩\n",
    "\n",
    "프로그램을 하면서, 자신의 라이브러리를 사용하다가 변경하는 경우를 생각해 보자.\n",
    "이와 같이 사용 중인 라이브러리를 수정하는 경우는 지금 것을 교체해야 한다.\n",
    "좀 어렵게 말하면, 메모리에 올려져 있는 라이브러리를 재로딩, 교체하는 것이다.\n",
    "지금 사용하고 있는 라이브러리에 함수를 추가하거나 변경을 하고 다시 메모리에 올려 보자."
   ]
  },
  {
   "cell_type": "markdown",
   "metadata": {
    "slideshow": {
     "slide_type": "subslide"
    }
   },
   "source": [
    "앞서 라이브러리를 수정하여 다시 실행하여 보자.\n",
    "myPrint()를 수정하였고, myPrint2()를 추가하였다.\n",
    "물론 수정된 내용이 출력되어야 올바르게 재로딩이 된 것이다."
   ]
  },
  {
   "cell_type": "code",
   "execution_count": 54,
   "metadata": {
    "collapsed": false
   },
   "outputs": [
    {
     "name": "stdout",
     "output_type": "stream",
     "text": [
      "Overwriting myTestLib.py\n"
     ]
    }
   ],
   "source": [
    "%%writefile myTestLib.py\n",
    "def myPrint():\n",
    "    print 'Modified 2018.09.30.SUN.0940AM'\n",
    "    print 'This is my test function in myTestLib.py'\n",
    "def myPrint2():\n",
    "    print \"This is myPrint2 added on 2018.09.30.SUN.0940AM\""
   ]
  },
  {
   "cell_type": "markdown",
   "metadata": {
    "slideshow": {
     "slide_type": "subslide"
    }
   },
   "source": [
    "프로그램을 재로딩을 하지 않았으므로 수정하였다 하더라도 그 수정내용이 반영되지 않았다."
   ]
  },
  {
   "cell_type": "code",
   "execution_count": 55,
   "metadata": {
    "collapsed": false,
    "slideshow": {
     "slide_type": "-"
    }
   },
   "outputs": [
    {
     "name": "stdout",
     "output_type": "stream",
     "text": [
      "This is my test function in myTestLib.py\n"
     ]
    }
   ],
   "source": [
    "import myTestLib\n",
    "myTestLib.myPrint()"
   ]
  },
  {
   "cell_type": "markdown",
   "metadata": {
    "slideshow": {
     "slide_type": "subslide"
    }
   },
   "source": [
    "myTestLib 모듈을 다시 올리는 예이다.\n",
    "reload() 함수를 이용하여, 메모리에 올려져 있는 라이브러리를 재로딩하게 된다.\n",
    "\n",
    "```python\n",
    "imp.reload(sys.modules['myTestLib']\n",
    "```"
   ]
  },
  {
   "cell_type": "code",
   "execution_count": 56,
   "metadata": {
    "collapsed": false,
    "slideshow": {
     "slide_type": "-"
    }
   },
   "outputs": [
    {
     "data": {
      "text/plain": [
       "<module 'myTestLib' from 'myTestLib.py'>"
      ]
     },
     "execution_count": 56,
     "metadata": {},
     "output_type": "execute_result"
    }
   ],
   "source": [
    "import imp\n",
    "import sys\n",
    "imp.reload(sys.modules['myTestLib'])"
   ]
  },
  {
   "cell_type": "markdown",
   "metadata": {
    "slideshow": {
     "slide_type": "subslide"
    }
   },
   "source": [
    "라이브러리를 다시 올리고 나서는 test() 함수를 실행하면 그 결과가 변경되어 있게 된다."
   ]
  },
  {
   "cell_type": "code",
   "execution_count": 57,
   "metadata": {
    "collapsed": false,
    "slideshow": {
     "slide_type": "-"
    }
   },
   "outputs": [
    {
     "name": "stdout",
     "output_type": "stream",
     "text": [
      "Modified 2018.09.30.SUN.0940AM\n",
      "This is my test function in myTestLib.py\n"
     ]
    }
   ],
   "source": [
    "import myTestLib\n",
    "myTestLib.myPrint()"
   ]
  },
  {
   "cell_type": "code",
   "execution_count": 58,
   "metadata": {
    "collapsed": false,
    "slideshow": {
     "slide_type": "-"
    }
   },
   "outputs": [
    {
     "name": "stdout",
     "output_type": "stream",
     "text": [
      "This is myPrint2 added on 2018.09.30.SUN.0940AM\n"
     ]
    }
   ],
   "source": [
    "import myTestLib\n",
    "myTestLib.myPrint2()"
   ]
  }
 ],
 "metadata": {
  "celltoolbar": "Slideshow",
  "kernelspec": {
   "display_name": "Python 2",
   "language": "python",
   "name": "python2"
  },
  "language_info": {
   "codemirror_mode": {
    "name": "ipython",
    "version": 2
   },
   "file_extension": ".py",
   "mimetype": "text/x-python",
   "name": "python",
   "nbconvert_exporter": "python",
   "pygments_lexer": "ipython2",
   "version": "2.7.17"
  }
 },
 "nbformat": 4,
 "nbformat_minor": 0
}
