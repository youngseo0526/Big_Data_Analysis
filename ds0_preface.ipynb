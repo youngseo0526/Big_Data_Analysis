{
 "cells": [
  {
   "cell_type": "markdown",
   "metadata": {
    "slideshow": {
     "slide_type": "slide"
    }
   },
   "source": [
    "# 시작에 앞서\n",
    "\n",
    "Last updated 20200901TUE1000 20190902MON1000\n",
    "\n",
    "## 누가 배워야 할까?\n",
    "\n",
    "이 과목에서는 빅데이터를 분석하는 도구, 방법을 배우게 된다.\n",
    "\n",
    "요즘에는 소셜미디어, 댓글 등 웹 텍스트를 분석하려는 요구가 많아지고 있다.\n",
    "그러한 데이터는 수집하는 기술적 방법에 대한 학습이 필요하지만, 본 과정에서는 데이터를 분석하는 단계를 배운다.\n",
    "\n",
    "데이터를 분석하는 과정은 '프로그래밍'으로 배우게 된다.\n",
    "데이터 분석에 많이 쓰이는 Python과 관련 라이브러리를 사용하게 된다.\n",
    "빅데이터 처리에 많이 쓰이는 Spark를 사용하여 데이터를 읽고, 변환하고, 통계, 기계학습을 배운다.\n",
    "\n",
    "이 과목을 수강하기 위해서는, 프로그래밍, 수학, 웹에 대한 기초 지식이 필요하다."
   ]
  },
  {
   "cell_type": "markdown",
   "metadata": {
    "slideshow": {
     "slide_type": "slide"
    }
   },
   "source": [
    "## 누가 배워야 할 필요가 없을까?\n",
    "\n",
    "이 과목은 프로그래밍으로 데이터를 분석하는 방법을 배운다.\n",
    "* **엑셀**을 이용해 분석 작업을 하려고 경우에는 이 과목이 어렵고 불필요하다고 생각될 것이다. 엑셀은 **데이터가 적은 경우**에 적합하고, **기계학습을 적용하기 매우 어렵겠다**. 내장된 비쥬얼베이직으로 프로그래밍한다면 가능할 수도 있겠지만, 누구도 그렇게 하지는 않을 것이다.\n",
    "* **이론으로 또는 수식으로 풀어서** 데이터를 분석하는 경우 이 과목이 유용하지 않을 것이다. 이론을, 수식을 실행가능하게 변환한 매우 구체적인 작업이 프로그래밍이다. 데이터를 분석하는 단계를 구체적으로 실행하게 된다.\n",
    "* **GUI가 있는 패키지**를 통해 지원되는 기능을 실행하여 데이터를 분석하는 경우에는 이 과목이 어렵고 쓰임이 적다고 생각될 것이다. GUI를 통해 풀지 못하는 문제가 있으면 어떻게 하지? 이 과목은 대장장이, 데이터를 분석하는 장인이 되려는 경우에 필요하다."
   ]
  },
  {
   "cell_type": "markdown",
   "metadata": {
    "slideshow": {
     "slide_type": "slide"
    }
   },
   "source": [
    "## 특징\n",
    "\n",
    "* Python, Spark를 배우지만, 프로그래밍 문법을 배우는 것은 아니다. 데이터를 어떻게 읽고, 다듬고, 어떤 방법으로 분석해야 하는지 실제 **'해 보기'**를 한다.\n",
    "* Python 환경에서 널리 사용되는 Jupyter Notebook을 사용한다. 한 줄씩 프로그래밍하면서 그 **결과를 바로 확인할 수 있는 '재미'**가 있다. 컴파일 언어는 작업을 하고, 전체가 완성되기 전까지는 그 결과를 알기 쉽지 않다.\n",
    "* 데이터를 분석하는 과정은 **창의적**이어야 한다. 문제에 대한 솔루션을 따라하기 보다는, **풀이하는 과정**을 배우도록 하는 '문제 중심'이다."
   ]
  },
  {
   "cell_type": "markdown",
   "metadata": {
    "slideshow": {
     "slide_type": "slide"
    }
   },
   "source": [
    "## 마치고 나면\n",
    "\n",
    "* 데이터를 보면, 이를 데이터를 분석할 수 있는 지식을 가지게 된다.\n",
    "* 데이터를 분석하는 경우, 특히 중요한 것은 **문제가 무엇인지 알아내는 것**이다. 데이터분석을 배우고 나면, 비로서 문제를 인지하고, 그 문제를 풀기 위해, 데이터를 분석할 수 있는 지식을 가지게 될 수 있다. 사례를 기획해서, 데이터 분석 프로젝트를 할 수 있다."
   ]
  },
  {
   "cell_type": "markdown",
   "metadata": {
    "slideshow": {
     "slide_type": "slide"
    }
   },
   "source": [
    "## 프로그래밍 언어의 선택\n",
    "\n",
    "프로그래밍은 '하는 법'을 배우는 것이 우선한다. 어떤 언어를 선택하는지는 덜 중요하다. 한국어이든 영어이든 내 의사를 표현할 수 있으면 된다. 어느 언어를 선택하든지, 프로그래밍하는 요소 및 방법을 배우면 다른 언어를 배우는 것은 문법의 문제일 뿐이다.\n",
    "이 강의에서는 데이터 분석에서 많이 널리 쓰이는 Python을 배우기로 한다.\n",
    "Python 인기는:\n",
    "* [TIOBE지수](https://www.tiobe.com/tiobe-index/) 2020년 8월 3위 (C, Java, Python, C++, C# 순으로)\n",
    "* [PYPL PopularitY of Programming Language](http://pypl.github.io) 2020년 8월 1위 (Python, Java, Javascript, C#, C/C++ 순으로)\n",
    "\n",
    "빅데이터를 클러스터 방식으로 처리하는 Spark를 배우기로 한다."
   ]
  },
  {
   "cell_type": "markdown",
   "metadata": {
    "slideshow": {
     "slide_type": "slide"
    }
   },
   "source": [
    "## 프로그래밍에 임하는 자세\n",
    "\n",
    "* 무엇보다 어렵게 생각하지 않고 **스스로** 해보려는 의지가 있어야 한다.\n",
    "* 프로그래밍은 학습에 **일정한 시간이 투자**되어야 한다. 만시간의 법칙은 프로그래밍에도 당연히 적용된다. 너무 겁먹지 말자. 프로그래밍은 재능이 있는 사람만의 혜택은 결코 아니다.\n",
    "* **실수**를 두렵다고 생각하지 말자. 오류가 나와도 좋다. 차츰 좋아지게 된다. 시작부터 오류를 경험하지 않고 배우는 사람은 없다. **프로그래밍의 실수는 컴퓨터가 화내는 것이 아니다. 고쳐야 할 부분을 '친철하게' 알려주는 것이다**.\n",
    "* 프로그래밍을 어렵다고 생각하지 말자. 자신이 어렵다고 생각하면, 작업을 실제 수행하는 컴퓨터는 더 어렵다. 컴퓨터에게 작업을 시키는 '나'의 문제로, 컴퓨터의 주인인 자신이 무엇을 어떻게 풀어나갈지 **논리적으로 잘 정리가 되어 있어야** 한다."
   ]
  },
  {
   "cell_type": "markdown",
   "metadata": {
    "slideshow": {
     "slide_type": "slide"
    }
   },
   "source": [
    "## 배우는 내용\n",
    "\n",
    "데이터를 수집, 정리, 저장, 분석, 시각화하는 단계를 프로그래밍으로 배운다.\n",
    "\n",
    "* (-) 웹에서 데이터를 수집하는 크롤링 및 API\n",
    "* (-) html, json, xml을 처리\n",
    "* (-) NoSql\n",
    "* (+) Spark map-reduce, machine learning\n",
    "* (+) Spark, Python numpy, Pandas 등\n",
    "* (+) RDD, DataFrame\n",
    "* (+) 통계, 그래프\n",
    "* (+) 데이터 변환, 자연어 처리\n",
    "* (+) 클러스터링\n",
    "* (+) 회귀분석, 로지스틱 회귀분석\n",
    "* (+) kNN, 의사결정트리, 베이지언, SVM, 추천\n",
    "\n",
    "외국 대학에서 빅데이터 관련 강좌도 개설되고 있으니, 무엇을 배우는지 본 강좌와 차이가 있는지 살펴보자.\n",
    "* 버클리대학 BerkeleyX: CS100.1x Introduction to Big Data with Apache Spark\n",
    "* 시라큐스대학 IST718: Advanced Information Analytics http://classes.ischool.syr.edu/ist718/\n",
    "* 듀크대학 STA663 Statistical Computing and Computation, Spring 2016\n",
    "    * https://github.com/cliburn/sta-663-2016\n"
   ]
  },
  {
   "cell_type": "markdown",
   "metadata": {
    "slideshow": {
     "slide_type": "slide"
    }
   },
   "source": [
    "## 평가\n",
    "\n",
    "* 중간고사 30\n",
    "* 기말고사 40\n",
    "* 출석 5 ~ 10\n",
    "* 과제, 프로젝트 20 ~ 25"
   ]
  },
  {
   "cell_type": "markdown",
   "metadata": {
    "slideshow": {
     "slide_type": "slide"
    }
   },
   "source": [
    "## 관련 자료\n",
    "\n",
    "* [강의자료](http://github.com/smu405/s)\n",
    "* [슬라이드](https://nbviewer.jupyter.org) smu405/s\n",
    "* [클라우드 북](http://smu405.gitbooks.io/s)\n",
    "* [채팅](https://gitter.im/smu405/s)"
   ]
  }
 ],
 "metadata": {
  "kernelspec": {
   "display_name": "Python 2",
   "language": "python",
   "name": "python2"
  },
  "language_info": {
   "codemirror_mode": {
    "name": "ipython",
    "version": 2
   },
   "file_extension": ".py",
   "mimetype": "text/x-python",
   "name": "python",
   "nbconvert_exporter": "python",
   "pygments_lexer": "ipython2",
   "version": "2.7.17"
  }
 },
 "nbformat": 4,
 "nbformat_minor": 0
}
