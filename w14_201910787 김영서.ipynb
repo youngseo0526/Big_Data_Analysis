{
 "cells": [
  {
   "cell_type": "markdown",
   "metadata": {},
   "source": [
    "### 휴먼지능정보공학과 201910787 김영서"
   ]
  },
  {
   "cell_type": "markdown",
   "metadata": {},
   "source": [
    "## 14주 이진 베이지안 모델\n",
    "Sklearn의 make_classification() 함수는 분류에 쓰일 수 있는 데이터를 생성해준다.\n",
    "\n",
    "\n",
    "from sklearn.datasets import make_classification<br>\n",
    "X, Y = make_classification(n_samples=100, n_features=2, n_informative=2, n_redundant=0)\n",
    "\n",
    "\n",
    "Sklearn으로 이진 베이지안 모델링을 해보자.\n",
    "\n",
    "* (1) X, Y 데이터를 생성\n",
    "\n",
    "* (2) X의 평균과 표준편차 계산해서 출력\n",
    "\n",
    "* (3) 그래프 작성\n",
    "\n",
    "    * scatter() 함수에 c=Y 옵션을 넣으면, Y의 값에 대해 다른 색으로 표시할 수 있다.\n",
    "\n",
    "* (4) 훈련데이터, 테스트데이터 3:1로 분리\n",
    "\n",
    "    * train_test_split()함수를 사용하면 원하는 비율로 분리할 수 있다.\n",
    "\n",
    "* (5) 훈련데이터에 대하여 BernoulliNB 모델링\n",
    "\n",
    "    * X데이터는 연속 값이다. binarize=0.0으로 설정하여 이진수로 모델링한다.\n",
    "\n",
    "* (6) 테스트데이터에 대하여 예측값을 출력\n",
    "\n",
    "    * 예측이 맞는지 실제값 Y와 비교해보자.\n",
    "\n",
    "* (7) 테스트데이터에 대하여 예측과 실제의 정확성 출력"
   ]
  },
  {
   "cell_type": "markdown",
   "metadata": {},
   "source": [
    "### (1) X, Y 데이터를 생성"
   ]
  },
  {
   "cell_type": "code",
   "execution_count": 14,
   "metadata": {},
   "outputs": [],
   "source": [
    "from sklearn.datasets import make_classification\n",
    "\n",
    "X, Y = make_classification(n_samples=100, n_features=2, n_informative=2, n_redundant=0)"
   ]
  },
  {
   "cell_type": "code",
   "execution_count": 15,
   "metadata": {},
   "outputs": [
    {
     "name": "stdout",
     "output_type": "stream",
     "text": [
      "[[-0.55480972 -0.36537075]\n",
      " [ 1.78325013  0.29477285]\n",
      " [-0.89489879  0.03202076]\n",
      " [ 0.75219171 -0.20754811]\n",
      " [ 1.03562074 -1.1017298 ]]\n",
      "[0 1 0 0 0]\n",
      "100\n"
     ]
    }
   ],
   "source": [
    "print(X[0:5])\n",
    "print(Y[0:5])\n",
    "print(len(X))"
   ]
  },
  {
   "cell_type": "markdown",
   "metadata": {},
   "source": [
    "### (2) X의 평균과 표준편차 계산해서 출력"
   ]
  },
  {
   "cell_type": "code",
   "execution_count": 16,
   "metadata": {},
   "outputs": [
    {
     "name": "stdout",
     "output_type": "stream",
     "text": [
      "평균:  0.004436116458517674\n",
      "표준편차: 1.1725611999732064\n"
     ]
    }
   ],
   "source": [
    "print('평균: ',X.mean())\n",
    "print('표준편차:', X.std())"
   ]
  },
  {
   "cell_type": "markdown",
   "metadata": {},
   "source": [
    "### (3) 그래프 작성\n",
    "scatter() 함수에 c=Y 옵션을 넣으면, Y의 값에 대해 다른 색으로 표시할 수 있다."
   ]
  },
  {
   "cell_type": "code",
   "execution_count": 17,
   "metadata": {},
   "outputs": [
    {
     "data": {
      "image/png": "[encoded data removed]",
      "text/plain": [
       "<Figure size 432x288 with 1 Axes>"
      ]
     },
     "metadata": {
      "needs_background": "light"
     },
     "output_type": "display_data"
    }
   ],
   "source": [
    "import matplotlib.pyplot as plt\n",
    "\n",
    "plt.scatter(X[:,0], X[:,1], marker='o', c=Y)\n",
    "plt.show()"
   ]
  },
  {
   "cell_type": "markdown",
   "metadata": {},
   "source": [
    "### (4) 훈련데이터, 테스트데이터 3:1로 분리\n",
    "train_test_split()함수를 사용하면 원하는 비율로 분리할 수 있다."
   ]
  },
  {
   "cell_type": "code",
   "execution_count": 18,
   "metadata": {},
   "outputs": [],
   "source": [
    "from sklearn.model_selection import train_test_split\n",
    "\n",
    "X_train, X_test, Y_train, Y_test = train_test_split(X, Y, test_size=0.25)"
   ]
  },
  {
   "cell_type": "code",
   "execution_count": 20,
   "metadata": {},
   "outputs": [
    {
     "name": "stdout",
     "output_type": "stream",
     "text": [
      "75\n",
      "75\n",
      "25\n"
     ]
    }
   ],
   "source": [
    "print(len(X_train))\n",
    "print(len(Y_train))\n",
    "print(len(X_test))"
   ]
  },
  {
   "cell_type": "markdown",
   "metadata": {},
   "source": [
    "### (5) 훈련데이터에 대하여 BernoulliNB 모델링\n",
    "\n",
    "X데이터는 연속 값이다. binarize=0.0으로 설정하여 이진수로 모델링한다."
   ]
  },
  {
   "cell_type": "code",
   "execution_count": 21,
   "metadata": {},
   "outputs": [
    {
     "data": {
      "text/plain": [
       "BernoulliNB(alpha=1.0, binarize=0.0, class_prior=None, fit_prior=True)"
      ]
     },
     "execution_count": 21,
     "metadata": {},
     "output_type": "execute_result"
    }
   ],
   "source": [
    "from sklearn.naive_bayes import BernoulliNB\n",
    "\n",
    "bnb = BernoulliNB(binarize=0.0)\n",
    "bnb.fit(X_train, Y_train)"
   ]
  },
  {
   "cell_type": "markdown",
   "metadata": {},
   "source": [
    "### (6) 테스트데이터에 대하여 예측값을 출력\n",
    "\n",
    "예측이 맞는지 실제값 Y와 비교해보자."
   ]
  },
  {
   "cell_type": "code",
   "execution_count": 26,
   "metadata": {},
   "outputs": [
    {
     "data": {
      "text/plain": [
       "array([1, 1, 1, 1, 0, 1, 0, 1, 0, 0, 1, 1, 1, 0, 1, 0, 1, 0, 0, 1, 1, 0,\n",
       "       1, 1, 0])"
      ]
     },
     "execution_count": 26,
     "metadata": {},
     "output_type": "execute_result"
    }
   ],
   "source": [
    "bnb.predict(X_test)"
   ]
  },
  {
   "cell_type": "code",
   "execution_count": 22,
   "metadata": {},
   "outputs": [
    {
     "data": {
      "text/plain": [
       "[(1, 1, array([-1.30912839,  1.71096184])),\n",
       " (1, 1, array([0.49637557, 1.49180776])),\n",
       " (1, 1, array([1.08488195, 0.91611556])),\n",
       " (1, 1, array([-0.98155389,  1.44289723])),\n",
       " (0, 0, array([-0.46555679, -3.40511729])),\n",
       " (1, 1, array([-1.08396737,  1.5709795 ])),\n",
       " (0, 0, array([ 0.13544191, -0.10999598])),\n",
       " (1, 0, array([-0.07689146,  0.19009912])),\n",
       " (0, 0, array([ 0.26279108, -0.69407308])),\n",
       " (0, 0, array([ 1.03562074, -1.1017298 ])),\n",
       " (1, 1, array([-1.44563562,  1.4017259 ])),\n",
       " (1, 1, array([-0.7840428 ,  1.29495388])),\n",
       " (1, 0, array([-2.42707463,  0.58355239])),\n",
       " (0, 0, array([ 1.99019369, -2.22795147])),\n",
       " (1, 1, array([0.8149459, 1.1599819])),\n",
       " (0, 0, array([-1.50518211, -0.99500167])),\n",
       " (1, 1, array([-1.10942601,  1.49918451])),\n",
       " (0, 0, array([-2.1830022 , -0.60513413])),\n",
       " (0, 0, array([ 0.75219171, -0.20754811])),\n",
       " (1, 1, array([-0.83878697,  1.31656537])),\n",
       " (1, 1, array([1.40093915, 0.83502292])),\n",
       " (0, 1, array([-1.15612136, -0.11234908])),\n",
       " (1, 1, array([-0.85390752,  1.47723546])),\n",
       " (1, 1, array([1.5029685, 0.3259029])),\n",
       " (0, 0, array([ 1.06258276, -0.89016514]))]"
      ]
     },
     "execution_count": 22,
     "metadata": {},
     "output_type": "execute_result"
    }
   ],
   "source": [
    "list(zip(bnb.predict(X_test),Y_test, X_test))"
   ]
  },
  {
   "cell_type": "code",
   "execution_count": 23,
   "metadata": {},
   "outputs": [
    {
     "data": {
      "text/plain": [
       "array([1, 0, 1, 0, 0])"
      ]
     },
     "execution_count": 23,
     "metadata": {},
     "output_type": "execute_result"
    }
   ],
   "source": [
    "bnb.predict([[1,1], [1,-1], [-1,1], [-1,-1], [0,0]])"
   ]
  },
  {
   "cell_type": "markdown",
   "metadata": {},
   "source": [
    "### (7) 테스트데이터에 대하여 예측과 실제의 정확성 출력"
   ]
  },
  {
   "cell_type": "code",
   "execution_count": 24,
   "metadata": {},
   "outputs": [
    {
     "data": {
      "text/plain": [
       "0.88"
      ]
     },
     "execution_count": 24,
     "metadata": {},
     "output_type": "execute_result"
    }
   ],
   "source": [
    "bnb.score(X_test, Y_test)"
   ]
  }
 ],
 "metadata": {
  "kernelspec": {
   "display_name": "Python 3",
   "language": "python",
   "name": "python3"
  },
  "language_info": {
   "codemirror_mode": {
    "name": "ipython",
    "version": 3
   },
   "file_extension": ".py",
   "mimetype": "text/x-python",
   "name": "python",
   "nbconvert_exporter": "python",
   "pygments_lexer": "ipython3",
   "version": "3.7.3"
  }
 },
 "nbformat": 4,
 "nbformat_minor": 2
}
