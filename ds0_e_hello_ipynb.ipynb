{
 "cells": [
  {
   "cell_type": "markdown",
   "metadata": {},
   "source": [
    "# Jupyter Notebook\n",
    "\n",
    "Last Updated: 20200415WED1600\n",
    "\n",
    "## 1.1 목차\n",
    "\n",
    "* 1.2 개요\n",
    "* 1.3 설치 및 실행\n",
    "* 1.4 cell\n",
    "* 1.5 magic commands\n",
    "* 1.6 Rich Content\n",
    "* 1.7 shell commands\n",
    "* 1.8 원격접속\n",
    "* 1.8.1 remote shell\n",
    "* 1.8.2 web server\n",
    "* 1.9 kernel for other languages\n",
    "* 1.10 kernel extension\n",
    "* 1.11 도움말\n"
   ]
  },
  {
   "cell_type": "markdown",
   "metadata": {},
   "source": [
    "## 1.2 개요\n",
    "\n",
    "Python shell을 확장하여 2001년 Fernando Pérez이 **IPython**을 개발하였는데, 이는 Python shell을 편리하게 개선하였다.\n",
    "나중에 2011년 12월 18일 IPython 0.12로 버전업 되면서 **IPython Notebook**을 발표하였다. 이전에는 명령창에서 실행되었지만, IPython Notebook은 **웹브라우저에서 실행되는 버전**으로 인기를 끌게 되었다.\n",
    "그러다 2014년 Jupyter로 분리하여 현재의 Jupyter Notebook으로 이어지고 있다.\n",
    "주피터 그 이름도 **Ju**lia, **Py**thon, **R**의 앞 글자를 따 이름을 지어진 것으로 그 개방성이 특징이다.\n",
    "뿐만 아니라 현재 100여개가 넘는 언어를 사용할 수 있도록 지원하고 있다 (참조 https://github.com/jupyter/jupyter/wiki/Jupyter-kernels\n",
    "Jupyter Notebook은 **literate computing**, 즉 **문서작업뿐만 아니라, 코드를 사용**할 수 있기 때문에 널리 쓰이고 있다.\n",
    "자신이 하는 프로그래밍을 문서화하거나, 프로그래밍을 학습하거나, 프로토타잎을 만들면서 활용성이 높다.\n",
    "빅데이터를 분석하거나, 머신러닝을 테스트하면서도 많이 쓰이고 있다.\n"
   ]
  },
  {
   "cell_type": "markdown",
   "metadata": {},
   "source": [
    "## 1.3 설치 및 실행\n",
    "\n",
    "### 1.3.1 윈도우\n",
    "\n",
    "#### 가장 쉬운 설치는 Anaconda\n",
    "쉬운 방법은 Anaconda를 설치하는 방법이다 (http://docs.continuum.io/anaconda/install)\n",
    "설치하기 전, 자신의 컴퓨터 운영체제와 **32비트, 64비트** 지원을 확인하고\n",
    "적합한 Anaconda를 설치하도록 한다.\n",
    "자신의 시스템의 사양을 모르면 제어판의 시스템으로 가면 확인할 수 있다.\n",
    "**Python은 3.x**를 지원하는 버전으로 한다.\n",
    "설치하고 나면, 윈도우에서 Anaconda를 선택하여 실행한다.\n",
    "Anaconda에는 명령창을 제공하는데, 여기서 \n",
    "```pip```와 같은 ```conda``` 명령을 사용할 수 있다.\n",
    "\n",
    "```conda list```명령어로 확인하면 설치된 라이브러리의 목록을 볼 수 있다.\n",
    "1400개가 넘는 패키지가 이미 설치되어 있다.\n",
    "\n",
    "```python\n",
    "conda list\n",
    "```\n",
    "\n",
    "```conda update```명령어로 패키지를 업데이트할 수 있고, 다음은 conda 자신을 업데이트 하는 명령어이다.\n",
    "```python\n",
    "conda update conda\n",
    "```\n",
    "    \n",
    "추가로 python 라이브러리를 conda 또는 pip로 설치할 수 있다.\n",
    "\n",
    "```python\n",
    "conda install <패키지명>\n",
    "또는 pip install <패키지명>\n",
    "```"
   ]
  },
  {
   "cell_type": "markdown",
   "metadata": {},
   "source": [
    "Anaconda를 설치하지 않으면 Python 설치관리자인 ```pip```를 사용하는 방법을 선택할 수 있다.\n",
    "명령창을 '관리자권한으로 실행'하고 '명령 프롬프트'에서\n",
    "\n",
    "```python\n",
    "cd 'c:\\Program Files\\Python2.7.3\\Scripts\\'\n",
    "easy_install pip\n",
    "```\n",
    "\n",
    "그리고 pip를 통해 노트북을 설치한다.\n",
    "\n",
    "```python\n",
    "pip install notebook\n",
    "```"
   ]
  },
  {
   "cell_type": "markdown",
   "metadata": {},
   "source": [
    "### 1.3.2 리눅스\n",
    "\n",
    "리눅스 우분투에서는 파이썬 패키지 관리자 ```pip```를 설치한다.\n",
    "    \n",
    "```python\n",
    "sudo apt-get install python-pip\n",
    "```\n",
    "    \n",
    "apt 또는 pip를 통해 Jupyter notebook을 설치한다.\n",
    "\n",
    "```python\n",
    "sudo apt-get install ipython-notebook\n",
    "```\n",
    "    \n",
    "upgrade는 ```--upgrade``` 스위치를 넣어준다.\n",
    "```python\n",
    "sudo pip install --upgrade setuptools pip\n",
    "sudo pip install --upgrade \"ipython[all]\"\n",
    "```\n"
   ]
  },
  {
   "cell_type": "markdown",
   "metadata": {},
   "source": [
    "### 1.3.3 실행\n",
    "\n",
    "명령창에서 ipython notebook를 실행하면 된다.\n",
    "Anaconda는 실행명령어가 윈도우에 등록되어 있으므로 간단하게 메뉴에서 골라서 클릭하면 된다.\n",
    "\n",
    "그러면 웹브라우저가 열리면서 http://127.0.0.1:8888에 웹서버가 실행된다.\n",
    "그러면 노트북 파일을 생성하여 원하는 작업을 할 수 있다.\n",
    "파일은 JSON형식의 확장자 ```.ipynb```로 저장하게 된다."
   ]
  },
  {
   "cell_type": "markdown",
   "metadata": {
    "slideshow": {
     "slide_type": "slide"
    }
   },
   "source": [
    "## 1.3.4 설정\n",
    "\n",
    "```jupyter notebook --generate-config```를 실행하면 설정파일이 ```~/.jupyter/jupyter_notebook_config.py```에 생성된다.\n",
    "\n",
    "### 작업 디렉토리 변경\n",
    "설정파일을 열어, 작업디렉토리의 절대경로를 넣는다.\n",
    "\n",
    "```python\n",
    "201 # The directory to use for notebooks and kernels.\n",
    "202 # c.NotebookApp.notebook_dir = u''\n",
    "```\n",
    "\n",
    "또는 노트북을 시작할 때 경로를 직접 넣어줄 수 있다.\n",
    "```jupyter notebook --notebook-dir=절대경로```"
   ]
  },
  {
   "cell_type": "markdown",
   "metadata": {},
   "source": [
    "## 1.4 cell\n",
    "\n",
    "셀은 노트북에서 박스모양으로 구획되어 있는데, 그 경계색이 명령, 편집 상태에 따라 달라진다.\n",
    "\n",
    "### 명령 상태 Command mode\n",
    "\n",
    "왼쪽 경계선이 **파란색**이 된다. 명령 상태에서는 노트북 전체의 명령어, 셀을 복사하거나 지우는 작업을 할 수 있고, 편집은 할 수 없다."
   ]
  },
  {
   "cell_type": "code",
   "execution_count": null,
   "metadata": {
    "collapsed": true
   },
   "outputs": [],
   "source": [
    "print(\"Hello\")"
   ]
  },
  {
   "cell_type": "markdown",
   "metadata": {},
   "source": [
    "### 편집 상태 Edit mode\n",
    "\n",
    "왼쪽 경계선이 **그린색**이 되고, 셀의 내용을 편집할 수 있다.\n",
    "\n",
    "편집 상태에서는 markdown으로 쓰거나, 소스코드를 입력하고 실행할 수 있다.\n",
    "키보드 ```y```는 코드, ```m```은 markdown을 입력할 수 있게 한다.\n",
    "Code를 입력할 때는 셀 앞에, 입력일 경우 ```In []```, 출력일 경우 ```Out[]```이 나타난다. 이 때, 작업 순서대로 번호가 매겨진다. ```[*]```이 나타나면 작업 중이라는 의미이다.\n",
    "\n",
    "또한 Markdown 명령어를 지원하다.\n",
    "Markdown은 HTML을 간편하게 사용할 수 있게 해준다.\n",
    "```#```은 Heading, ```*```은 불릿을 나타낸다."
   ]
  },
  {
   "cell_type": "markdown",
   "metadata": {},
   "source": [
    "# 헤딩\n",
    "#### 2번째 헤딩\n",
    "* 블릿 1"
   ]
  },
  {
   "cell_type": "markdown",
   "metadata": {},
   "source": [
    "## 1.5 magic commands\n",
    "\n",
    "### 1.5.1 명령어\n",
    "\n",
    "#### 매직명령어 magic functions\n",
    "\n",
    "매직 명령어는 퍼센트 \"%\"로 시작한다.\n",
    "\n",
    "* %run - 파이썬 프로그램 실행\n",
    "* %timeit\n",
    "* %history\n",
    "* %load\n",
    "  * %load my.py -n 1-10\n",
    "* %save\n",
    "* %lsmagic"
   ]
  },
  {
   "cell_type": "markdown",
   "metadata": {},
   "source": [
    "#### 셀 명령어 (Cell magics)\n",
    "\n",
    "셀명령어는 퍼센트 2개 %%, 즉 해당 셀에 대해 명령어를 실행한다.\n",
    "\n",
    "* %%file (%%writefile 파일명으로 파일을 생성)"
   ]
  },
  {
   "cell_type": "markdown",
   "metadata": {},
   "source": [
    "#### shell 명령어\n",
    "\n",
    "shell 명령어는 느낌표로 시작 \"!\"\n",
    "\n",
    "* !ls (윈도우 !dir) - 느낌표!는 운영체제 명령어를 실행\n",
    "* !pwd (윈도우 !cd) "
   ]
  },
  {
   "cell_type": "markdown",
   "metadata": {
    "slideshow": {
     "slide_type": "slide"
    }
   },
   "source": [
    "#### 셀 단축키\n",
    "\n",
    "* Ctrl + S 파일저장\n",
    "* Ctrl + Enter"
   ]
  },
  {
   "cell_type": "markdown",
   "metadata": {
    "slideshow": {
     "slide_type": "slide"
    }
   },
   "source": [
    "### 1.5.2 파이썬 프로그램 쓰기, 실행 연습\n",
    "\n",
    "```hello.py```를 생성하고, 쉘명령어로 파일이 존재하는지 확인한다."
   ]
  },
  {
   "cell_type": "code",
   "execution_count": 4,
   "metadata": {
    "slideshow": {
     "slide_type": "slide"
    }
   },
   "outputs": [
    {
     "name": "stdout",
     "output_type": "stream",
     "text": [
      "Overwriting hello.py\n"
     ]
    }
   ],
   "source": [
    "%%writefile hello.py\n",
    "print(\"Hello World\")"
   ]
  },
  {
   "cell_type": "code",
   "execution_count": 5,
   "metadata": {},
   "outputs": [
    {
     "name": "stdout",
     "output_type": "stream",
     "text": [
      "hello.py\r\n"
     ]
    }
   ],
   "source": [
    "!dir hello.py"
   ]
  },
  {
   "cell_type": "code",
   "execution_count": 6,
   "metadata": {
    "scrolled": true,
    "slideshow": {
     "slide_type": "slide"
    }
   },
   "outputs": [
    {
     "name": "stdout",
     "output_type": "stream",
     "text": [
      "/home/jsl/Code/git/bb/p2\r\n"
     ]
    }
   ],
   "source": [
    "!pwd"
   ]
  },
  {
   "cell_type": "markdown",
   "metadata": {},
   "source": [
    "```hello.py```를 실행한다."
   ]
  },
  {
   "cell_type": "code",
   "execution_count": 7,
   "metadata": {
    "slideshow": {
     "slide_type": "slide"
    }
   },
   "outputs": [
    {
     "name": "stdout",
     "output_type": "stream",
     "text": [
      "Hello World\n"
     ]
    }
   ],
   "source": [
    "%run hello.py"
   ]
  },
  {
   "cell_type": "markdown",
   "metadata": {
    "slideshow": {
     "slide_type": "slide"
    }
   },
   "source": [
    "### 1.5.3 실행시간\n",
    "\n",
    "```timeit``` 명령어로 간단한 소스코드의 실행시간을 측정할 수 있다.\n",
    "python에서 ```timeit``` 라이브러리를 사용해도 된다."
   ]
  },
  {
   "cell_type": "code",
   "execution_count": 8,
   "metadata": {
    "scrolled": true,
    "slideshow": {
     "slide_type": "slide"
    }
   },
   "outputs": [
    {
     "name": "stdout",
     "output_type": "stream",
     "text": [
      "The slowest run took 144.80 times longer than the fastest. This could mean that an intermediate result is being cached.\n",
      "100000000 loops, best of 3: 11 ns per loop\n"
     ]
    }
   ],
   "source": [
    "%timeit 2**128"
   ]
  },
  {
   "cell_type": "markdown",
   "metadata": {},
   "source": [
    "### 1.5.4 이전 명령어 출력\n",
    "\n",
    "```%history -g```은 모든 명령어를 세션/줄번호와 함께 출력한다.\n",
    "```%history -g -f 파일명``` 파일에 저장한다."
   ]
  },
  {
   "cell_type": "code",
   "execution_count": 9,
   "metadata": {
    "scrolled": true,
    "slideshow": {
     "slide_type": "slide"
    }
   },
   "outputs": [
    {
     "name": "stdout",
     "output_type": "stream",
     "text": [
      "print \"Hello\"\n",
      "%hist -nop 17\n",
      "%%writefile hello.py\n",
      "print \"Hello World\"\n",
      "!ls hello.py\n",
      "!pwd\n",
      "%run hello.py\n",
      "%timeit 2**128\n",
      "%hist -nop 17\n",
      "%hist\n"
     ]
    }
   ],
   "source": [
    "%hist"
   ]
  },
  {
   "cell_type": "markdown",
   "metadata": {},
   "source": [
    "## 1.6 Rich Content\n",
    "\n",
    "### 1.6.1 이미지 넣기\n",
    "\n",
    "```![alt text](경로/파일명 \"주석\")```와 같이 이미지가 있는 로컬의 디렉토리와 파일명을 넣으면 이미지를 출력한다.\n",
    "단 셀이 명령어 입력이 아니라 마크다운 입력 모드이어야 한다.\n",
    "\n",
    "예를 들면, figures 디렉토리의 png 파일을 출력하려면 다음과 같이 적어준다.\n",
    "\n",
    "```\n",
    "![alt text](figures/6_nodejsInstallsolc.png \"node install solc compiler\")\n",
    "```"
   ]
  },
  {
   "cell_type": "markdown",
   "metadata": {
    "collapsed": true
   },
   "source": [
    "![alt text](figures/6_nodejsInstallsolc.png \"node install solc compiler\")"
   ]
  },
  {
   "cell_type": "markdown",
   "metadata": {},
   "source": [
    "### 1.6.2 스크립트로 넣기"
   ]
  },
  {
   "cell_type": "markdown",
   "metadata": {},
   "source": [
    "또한 이미지를 출력할 수 있다."
   ]
  },
  {
   "cell_type": "code",
   "execution_count": null,
   "metadata": {},
   "outputs": [],
   "source": [
    "from IPython.display import Image\n",
    "import os\n",
    "mydir=os.path.expanduser('~')+'/Code/git/bb/p2'\n",
    "#mydir=os.getcwd()\n",
    "Image(filename=os.path.join(mydir,'model','uml_simple.png'))"
   ]
  },
  {
   "cell_type": "markdown",
   "metadata": {},
   "source": [
    "IPython.display를 사용해서 마크다운을 출력할 수 있다."
   ]
  },
  {
   "cell_type": "code",
   "execution_count": 1,
   "metadata": {},
   "outputs": [
    {
     "data": {
      "text/markdown": [
       "# This is a Title"
      ],
      "text/plain": [
       "<IPython.core.display.Markdown object>"
      ]
     },
     "metadata": {},
     "output_type": "display_data"
    }
   ],
   "source": [
    "from IPython.display import display, Markdown\n",
    "display(Markdown('# This is a Title'))"
   ]
  },
  {
   "cell_type": "code",
   "execution_count": 12,
   "metadata": {},
   "outputs": [
    {
     "data": {
      "text/html": [
       "<table>\n",
       "<tr>\n",
       "<th>Header 1</th>\n",
       "<th>Header 2</th>\n",
       "</tr>\n",
       "<tr>\n",
       "<td>row 1, cell 1</td>\n",
       "<td>row 1, cell 2</td>\n",
       "</tr>\n",
       "<tr>\n",
       "<td>row 2, cell 1</td>\n",
       "<td>row 2, cell 2</td>\n",
       "</tr>\n",
       "</table>"
      ],
      "text/plain": [
       "<IPython.core.display.HTML object>"
      ]
     },
     "execution_count": 12,
     "metadata": {},
     "output_type": "execute_result"
    }
   ],
   "source": [
    "import IPython.display as display\n",
    "\n",
    "display.HTML(\"\"\"<table>\n",
    "<tr>\n",
    "<th>Header 1</th>\n",
    "<th>Header 2</th>\n",
    "</tr>\n",
    "<tr>\n",
    "<td>row 1, cell 1</td>\n",
    "<td>row 1, cell 2</td>\n",
    "</tr>\n",
    "<tr>\n",
    "<td>row 2, cell 1</td>\n",
    "<td>row 2, cell 2</td>\n",
    "</tr>\n",
    "</table>\"\"\")"
   ]
  },
  {
   "cell_type": "markdown",
   "metadata": {},
   "source": [
    "## 1.7 Shell commands\n",
    "\n",
    "* SList methods\n",
    "    * .p: as path\n",
    "    * .s: joined by spaces\n",
    "    * .n: joined by a newline\n",
    "    * supported methods such as fields(), grep()\n",
    "* {} -> pass python var to shell"
   ]
  },
  {
   "cell_type": "code",
   "execution_count": 2,
   "metadata": {},
   "outputs": [
    {
     "name": "stdout",
     "output_type": "stream",
     "text": [
      "/home/jsl/Code/git/bb/p2\r\n"
     ]
    }
   ],
   "source": [
    "!pwd"
   ]
  },
  {
   "cell_type": "code",
   "execution_count": 3,
   "metadata": {},
   "outputs": [
    {
     "name": "stdout",
     "output_type": "stream",
     "text": [
      "<class 'IPython.utils.text.SList'>\n"
     ]
    }
   ],
   "source": [
    "myPwd=!pwd\n",
    "print type(myPwd)"
   ]
  },
  {
   "cell_type": "code",
   "execution_count": 7,
   "metadata": {},
   "outputs": [
    {
     "name": "stdout",
     "output_type": "stream",
     "text": [
      "[path(u'/home/jsl/Code/git/bb/p2')]\n"
     ]
    }
   ],
   "source": [
    "print myPwd.p"
   ]
  },
  {
   "cell_type": "code",
   "execution_count": 8,
   "metadata": {},
   "outputs": [
    {
     "name": "stdout",
     "output_type": "stream",
     "text": [
      "[['/home/jsl/Code/git/bb/p2']]\n"
     ]
    }
   ],
   "source": [
    "print myPwd.fields()"
   ]
  },
  {
   "cell_type": "code",
   "execution_count": 9,
   "metadata": {
    "scrolled": true
   },
   "outputs": [
    {
     "name": "stdout",
     "output_type": "stream",
     "text": [
      "bb\t    gh\t\t       main.js\tmyscripts    purchase.js\r\n",
      "credits.js  java_intro.ipynb   my1.txt\tmy.txt\r\n",
      "else\t    _javascript.ipynb  my.js\tproducts.js\r\n"
     ]
    }
   ],
   "source": [
    "cwd='/home/jsl/Code/git'\n",
    "!ls {cwd}"
   ]
  },
  {
   "cell_type": "markdown",
   "metadata": {},
   "source": [
    "## 1.8 원격접속\n",
    "\n",
    "### 설정\n",
    "\n",
    "웹서버를 띄우기 위해서 ```~/.jupyter/jupyter_notebook_config.py``` 설정파일을 적절하게 수정한다.\n",
    "\n",
    "* password 생성 -> line 217 \n",
    "    * c.NotebookApp.password = u'sha1:3e30a9600d70:5185bd05b0309ef751818d5efcc30f1520011607'\n",
    "\n",
    "* ip port\n",
    "    * c.NotebookApp.ip = '*'\n",
    "    * c.NotebookApp.port = 8899\n",
    "\n",
    "* certfile\n",
    "    * openssl하고 나서\n",
    "    * c.NotebookApp.certfile=u'/home/jsl/.jupyter/mycert.pem\n",
    "\n",
    "* dir\n",
    "    * c.NotebookApp.notebook_dir=u'/home/jsl/Code'\n",
    "\n",
    "* no browser\n",
    "    * c.NotebookApp.open_browser=False\n"
   ]
  },
  {
   "cell_type": "markdown",
   "metadata": {},
   "source": [
    "### ssh 연결\n",
    "\n",
    "원격에서 Jupyter Notebook을 실행하기 위해서는 우선 그 서버에 연결되어야 한다. 리눅스는 ssh 명령어가 이미 있으나, 윈도우에서는 PuTTY를 사용해서 연결한다.\n",
    "\n",
    "```python\n",
    "ssh username@xx.xx.xx.xx\n",
    "```\n",
    "\n",
    "ssh 터널링 (또는 port forwarding이라고 한다)으로 연결할 수 있다.\n",
    "원격에서 로컬 포트 8891로 보내는 네트워크 요청은 8888로 자동우회되게 된다.\n",
    "\n",
    "```python\n",
    "ssh -N -f -L localhost:8891:localhost:8888 jsl@smu\n",
    "```"
   ]
  },
  {
   "cell_type": "markdown",
   "metadata": {
    "slideshow": {
     "slide_type": "slide"
    }
   },
   "source": [
    "### 원격에서 노트북 띄움\n",
    "\n",
    "원격에서 Jupyter Notebook를 브라우저 없이 설정한 포트에서 띄우게 된다.\n",
    "```python\n",
    "jupyter notebook --no-browser --port=8888\n",
    "```\n",
    "\n",
    "또는 설정파일을 변경한다면\n",
    "```python\n",
    "jupyter notebook --no-browser --config 설정파일\n",
    "```\n",
    "\n",
    "클라이언트에서 브라우저 주소창에 다음을 입력한다.\n",
    "```python\n",
    "https://xxx.xxx.xxx.xxx:8899/\n",
    "```"
   ]
  },
  {
   "cell_type": "code",
   "execution_count": 1,
   "metadata": {},
   "outputs": [
    {
     "name": "stdout",
     "output_type": "stream",
     "text": [
      "Enter password: ········\n",
      "Verify password: ········\n"
     ]
    },
    {
     "data": {
      "text/plain": [
       "'sha1:3ec32034ebf9:185f4471d2d4d37784737a5958b13c92141feb04'"
      ]
     },
     "execution_count": 1,
     "metadata": {},
     "output_type": "execute_result"
    }
   ],
   "source": [
    "from notebook.auth import passwd\n",
    "passwd()"
   ]
  },
  {
   "cell_type": "markdown",
   "metadata": {
    "slideshow": {
     "slide_type": "slide"
    }
   },
   "source": [
    "## 1.9 kernel for other languages\n"
   ]
  },
  {
   "cell_type": "markdown",
   "metadata": {},
   "source": [
    "### Python 3 추가\n",
    "\n",
    "1. 현재 커널 확인하기\n",
    "\n",
    "사용자에게 설치된 디렉토리는 ```~/.local/share``` 또는 ```~/Library/share```이다.\n",
    "```python\n",
    "$ jupyter kernelspec list\n",
    "Available kernels:\n",
    "  java       /home/jsl/.local/share/jupyter/kernels/java\n",
    "  pyspark    /home/jsl/.local/share/jupyter/kernels/pyspark\n",
    "  python3    /home/jsl/.local/share/jupyter/kernels/python3\n",
    "```\n",
    "\n",
    "2. 추가\n",
    "```which python```하면 실행파일이 설치된 디렉토리를 알 수 있다.\n",
    "그 디렉토리를 ```jupyter kernelspec install 실행파일설치디렉토리```해주면 된다.\n",
    "\n",
    "```python\n",
    "$ jupyter kernelspec install /usr/bin/python3\n",
    "```\n",
    "하고 나면 ```kernel.json```이 생성된다.\n",
    "사용자 설치 디렉토리 ```~/.local/share``` 아래에 가서 확인한다 (위 목록에 나온 폴더)\n",
    "\n",
    "3. 제거하려면, ```jupyter kernelspec uninstall python3``` 라고 해준다."
   ]
  },
  {
   "cell_type": "markdown",
   "metadata": {},
   "source": [
    "### java kernel 추가\n",
    "\n",
    "* java9_kernel 다운로드\n",
    "```python\n",
    "git clone https://github.com/Bachmann1234/java9_kernel.git\n",
    "```\n",
    "\n",
    "* install java9 https://jdk9.java.net/download/\n",
    "* kullar.jar 다운로드 후 lib/으로 복사해 놓음\n",
    "https://github.com/AdoptOpenJDK/adoptopenjdk-getting-started-kit/blob/master/en/openjdk-projects/kulla/kulla.md\n",
    "\n",
    "* 아래 파일을 ~/.ipython/kernels/java/kernel.json으로 저장\n",
    "\n",
    "```python\n",
    "cd ~/.ipython\n",
    "mkdir -p kernels/java\n",
    "cd kernels/java\n",
    "vim kernel.json\n",
    "```\n",
    "\n",
    "```python\n",
    "{\n",
    "\"argv\":[\n",
    "    \"python\",\n",
    "    \"/home/jsl/Code/git/else/java9_kernel/javakernel\",\n",
    "    \"-f\",\n",
    "    \"{connection_file}\"\n",
    "],  \n",
    "\"display_name\": \"Java 9\",\n",
    "\"language\": \"java\",\n",
    "\"env\":{\n",
    "     \"JAVA_9_HOME\": \"/usr/lib/jvm/java-9-openjdk-amd64/\",\n",
    "     \"KULLA_HOME\": \"/home/jsl/Downloads/kulla--20160609005854.jar\"\n",
    "}   \n",
    "}  \n",
    "```\n",
    "* ipython notebook 실행"
   ]
  },
  {
   "cell_type": "markdown",
   "metadata": {},
   "source": [
    "%load /home/jsl/Dropbox/Me/java9.txt\n",
    "\n",
    "```\n",
    "{\n",
    " \"argv\": [\"python3\", \"c:\\\\Users\\\\A150\\\\Code\\\\git\\\\else\\\\java9_kernel\\\\javakernel\", \"-f\", \"{connection_file}\"],\n",
    " \"display_name\": \"Java 9\",\n",
    " \"language\": \"java\",\n",
    " \"env\" : {\n",
    "     \"JAVA_9_HOME\": \"C:\\\\Program Files\\\\Java\\\\jdk-9\",\n",
    "     \"KULLA_HOME\": \"C:\\\\Users\\\\A150\\\\Code\\\\lib\\\\kulla--20160901005901.jar\"\n",
    "     }\n",
    " }\n",
    "```"
   ]
  },
  {
   "cell_type": "markdown",
   "metadata": {},
   "source": [
    "* 환경변수 찾기\n",
    "```python\n",
    "$ ipython locate\n",
    "/home/jsl/.ipython\n",
    "$ ipython locate profile default\n",
    "/home/jsl/.ipython/profile_default\n",
    "```\n",
    "\n",
    "* create profile\n",
    "    * stored in ~/.ipython or ~/.config/ipython\n",
    "```python\n",
    "ipython profile create myProfile\n",
    "```\n",
    "\n",
    "* run with myProfile\n",
    "```python\n",
    "ipython --profile=myProfile\n",
    "```"
   ]
  },
  {
   "cell_type": "markdown",
   "metadata": {},
   "source": [
    "## 1.10 kernel extension\n",
    "\n",
    "* ipython에서는 %install_ext를 사용했으나, jupyter 4.0부터는 없어짐 (deprecated)\n",
    "* Jupyter 4.0이후에는 pip install로 설치하고, %%셀명령어로 사용한다."
   ]
  },
  {
   "cell_type": "markdown",
   "metadata": {
    "slideshow": {
     "slide_type": "slide"
    }
   },
   "source": [
    "## 1.11 도움말\n",
    "\n",
    "* %lsmagic\n",
    "* %quickref"
   ]
  },
  {
   "cell_type": "code",
   "execution_count": 28,
   "metadata": {
    "scrolled": true,
    "slideshow": {
     "slide_type": "slide"
    }
   },
   "outputs": [
    {
     "data": {
      "application/json": {
       "cell": {
        "!": "OSMagics",
        "HTML": "Other",
        "SVG": "Other",
        "bash": "Other",
        "capture": "ExecutionMagics",
        "debug": "ExecutionMagics",
        "file": "Other",
        "html": "DisplayMagics",
        "javascript": "DisplayMagics",
        "latex": "DisplayMagics",
        "perl": "Other",
        "plantuml": "Plantuml",
        "prun": "ExecutionMagics",
        "pypy": "Other",
        "python": "Other",
        "python2": "Other",
        "python3": "Other",
        "ruby": "Other",
        "script": "ScriptMagics",
        "sh": "Other",
        "svg": "DisplayMagics",
        "sx": "OSMagics",
        "system": "OSMagics",
        "time": "ExecutionMagics",
        "timeit": "ExecutionMagics",
        "writefile": "OSMagics"
       },
       "line": {
        "alias": "OSMagics",
        "alias_magic": "BasicMagics",
        "autocall": "AutoMagics",
        "automagic": "AutoMagics",
        "autosave": "KernelMagics",
        "bookmark": "OSMagics",
        "cat": "Other",
        "cd": "OSMagics",
        "clear": "KernelMagics",
        "colors": "BasicMagics",
        "config": "ConfigMagics",
        "connect_info": "KernelMagics",
        "cp": "Other",
        "debug": "ExecutionMagics",
        "dhist": "OSMagics",
        "dirs": "OSMagics",
        "doctest_mode": "BasicMagics",
        "ed": "Other",
        "edit": "KernelMagics",
        "env": "OSMagics",
        "gui": "BasicMagics",
        "hist": "Other",
        "history": "HistoryMagics",
        "install_default_config": "DeprecatedMagics",
        "install_ext": "ExtensionMagics",
        "install_profiles": "DeprecatedMagics",
        "killbgscripts": "ScriptMagics",
        "ldir": "Other",
        "less": "KernelMagics",
        "lf": "Other",
        "lk": "Other",
        "ll": "Other",
        "load": "CodeMagics",
        "load_ext": "ExtensionMagics",
        "loadpy": "CodeMagics",
        "logoff": "LoggingMagics",
        "logon": "LoggingMagics",
        "logstart": "LoggingMagics",
        "logstate": "LoggingMagics",
        "logstop": "LoggingMagics",
        "ls": "Other",
        "lsmagic": "BasicMagics",
        "lx": "Other",
        "macro": "ExecutionMagics",
        "magic": "BasicMagics",
        "man": "KernelMagics",
        "matplotlib": "PylabMagics",
        "mkdir": "Other",
        "more": "KernelMagics",
        "mv": "Other",
        "notebook": "BasicMagics",
        "page": "BasicMagics",
        "pastebin": "CodeMagics",
        "pdb": "ExecutionMagics",
        "pdef": "NamespaceMagics",
        "pdoc": "NamespaceMagics",
        "pfile": "NamespaceMagics",
        "pinfo": "NamespaceMagics",
        "pinfo2": "NamespaceMagics",
        "popd": "OSMagics",
        "pprint": "BasicMagics",
        "precision": "BasicMagics",
        "profile": "BasicMagics",
        "prun": "ExecutionMagics",
        "psearch": "NamespaceMagics",
        "psource": "NamespaceMagics",
        "pushd": "OSMagics",
        "pwd": "OSMagics",
        "pycat": "OSMagics",
        "pylab": "PylabMagics",
        "qtconsole": "KernelMagics",
        "quickref": "BasicMagics",
        "recall": "HistoryMagics",
        "rehashx": "OSMagics",
        "reload_ext": "ExtensionMagics",
        "rep": "Other",
        "rerun": "HistoryMagics",
        "reset": "NamespaceMagics",
        "reset_selective": "NamespaceMagics",
        "rm": "Other",
        "rmdir": "Other",
        "run": "ExecutionMagics",
        "save": "CodeMagics",
        "sc": "OSMagics",
        "set_env": "OSMagics",
        "store": "StoreMagics",
        "sx": "OSMagics",
        "system": "OSMagics",
        "tb": "ExecutionMagics",
        "time": "ExecutionMagics",
        "timeit": "ExecutionMagics",
        "unalias": "OSMagics",
        "unload_ext": "ExtensionMagics",
        "who": "NamespaceMagics",
        "who_ls": "NamespaceMagics",
        "whos": "NamespaceMagics",
        "xdel": "NamespaceMagics",
        "xmode": "BasicMagics"
       }
      },
      "text/plain": [
       "Available line magics:\n",
       "%alias  %alias_magic  %autocall  %automagic  %autosave  %bookmark  %cat  %cd  %clear  %colors  %config  %connect_info  %cp  %debug  %dhist  %dirs  %doctest_mode  %ed  %edit  %env  %gui  %hist  %history  %install_default_config  %install_ext  %install_profiles  %killbgscripts  %ldir  %less  %lf  %lk  %ll  %load  %load_ext  %loadpy  %logoff  %logon  %logstart  %logstate  %logstop  %ls  %lsmagic  %lx  %macro  %magic  %man  %matplotlib  %mkdir  %more  %mv  %notebook  %page  %pastebin  %pdb  %pdef  %pdoc  %pfile  %pinfo  %pinfo2  %popd  %pprint  %precision  %profile  %prun  %psearch  %psource  %pushd  %pwd  %pycat  %pylab  %qtconsole  %quickref  %recall  %rehashx  %reload_ext  %rep  %rerun  %reset  %reset_selective  %rm  %rmdir  %run  %save  %sc  %set_env  %store  %sx  %system  %tb  %time  %timeit  %unalias  %unload_ext  %who  %who_ls  %whos  %xdel  %xmode\n",
       "\n",
       "Available cell magics:\n",
       "%%!  %%HTML  %%SVG  %%bash  %%capture  %%debug  %%file  %%html  %%javascript  %%latex  %%perl  %%plantuml  %%prun  %%pypy  %%python  %%python2  %%python3  %%ruby  %%script  %%sh  %%svg  %%sx  %%system  %%time  %%timeit  %%writefile\n",
       "\n",
       "Automagic is ON, % prefix IS NOT needed for line magics."
      ]
     },
     "execution_count": 28,
     "metadata": {},
     "output_type": "execute_result"
    }
   ],
   "source": [
    "%lsmagic"
   ]
  },
  {
   "cell_type": "code",
   "execution_count": null,
   "metadata": {
    "collapsed": true
   },
   "outputs": [],
   "source": []
  }
 ],
 "metadata": {
  "kernelspec": {
   "display_name": "Python 3",
   "language": "python",
   "name": "python3"
  },
  "language_info": {
   "codemirror_mode": {
    "name": "ipython",
    "version": 3
   },
   "file_extension": ".py",
   "mimetype": "text/x-python",
   "name": "python",
   "nbconvert_exporter": "python",
   "pygments_lexer": "ipython3",
   "version": "3.6.9"
  }
 },
 "nbformat": 4,
 "nbformat_minor": 1
}
