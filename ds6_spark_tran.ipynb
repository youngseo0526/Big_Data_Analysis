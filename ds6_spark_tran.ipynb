{
 "cells": [
  {
   "cell_type": "markdown",
   "metadata": {
    "slideshow": {
     "slide_type": "slide"
    }
   },
   "source": [
    "# 데이터 변환\n",
    "\n",
    "* Last updated 20201025SUN1103 20191128_20181009_20170421_20161125\n",
    "\n",
    "## S.1 학습내용\n",
    "\n",
    "### S.1.1 목표\n",
    "\n",
    "* 정량데이터, 텍스트데이터에 대하여 ETL을 할 수 있다.\n",
    "* RDD를 변환할 수 있다.\n",
    "* DataFrame 구조적 데이터를 변환할 수 있다."
   ]
  },
  {
   "cell_type": "markdown",
   "metadata": {
    "slideshow": {
     "slide_type": "subslide"
    }
   },
   "source": [
    "### S.1.2 목차\n",
    "\n",
    "* S.2 Jupyter Notebook에서 SparkSession 생성하기\n",
    "* S.3 데이터 변환\n",
    "* S.4 RDD 변환\n",
    "    * S.4.1 vectors\n",
    "        * Dense Vectors 밀집벡터\n",
    "        * Sparse Vectors\n",
    "    * S.4.2 Matrix\n",
    "    * S.4.3 Distributed Matrix\n",
    "    * S.4.4 labeled point\n",
    "    * 문제 S-1: RDD를 LabeledPoint로 변환하기\n",
    "    * S.4.5 svm의 입력파일 형식\n",
    "    * S.4.6 TF\n",
    "    * S.4.7 TF-IDF\n",
    "    * S.4.8 StandardScaler\n",
    "\n",
    "* S.5 DataFrame 변환 \n",
    "    * S.5.1 Labeled Point\n",
    "        * 레이블이 있는 Python List에서 DataFrame 생성\n",
    "        * LabeledPoint에서 DataFrame 생성\n",
    "        * mllib.linalg.Vectors를 사용하여 DataFrame을 생성\n",
    "        * RDD에서 DataFrame 생성\n",
    "        * sparse에서 dense vector로 변환\n",
    "    * S.5.2 텍스트 변환\n",
    "        * Bag of Words 모델\n",
    "        * 텍스트 변환 단계\n",
    "        * Python을 사용한 단어 빈도 계산\n",
    "    * S.5.3 Spark의 transformer, estimator\n",
    "    * S.5.4 Tokenizer\n",
    "    * S.5.5 RegTokenizer\n",
    "    * S.5.6 Stopwords\n",
    "    * S.5.7 CountVectorizer\n",
    "    * S.5.8 TF-IDF\n",
    "    * S.5.9 Word2Vec\n",
    "    * S.5.10 NGram\n",
    "    * S.5.11 StringIndexer\n",
    "    * S.5.12 연속데이터의 변환\n",
    "    * 5.5.13 VectorAssembler\n",
    "    * S.5.14 Pipeline\n",
    "    * 문제 S-2: 연설문을 기계학습하기 위해 변환\n",
    "    * 문제 S-3: 트윗 정서 분석\n",
    "\n",
    "* --- Regression 예시"
   ]
  },
  {
   "cell_type": "markdown",
   "metadata": {
    "slideshow": {
     "slide_type": "subslide"
    }
   },
   "source": [
    "### S.1.3 문제 \n",
    "\n",
    "* 문제 S-1: 훈련데이터 만들기\n",
    "* 문제 S-2: Kolmogorov-Smirnov 검증\n",
    "* 문제 S-3: 평균, 표준편차와 같은 기본 통계 값을 구한다.\n",
    "* 문제 S-4: 연설문을 기계학습하기 위해 변환"
   ]
  },
  {
   "cell_type": "markdown",
   "metadata": {
    "slideshow": {
     "slide_type": "slide"
    }
   },
   "source": [
    "## S.2 Jupyter Notebook에서 SparkSession 생성하기\n"
   ]
  },
  {
   "cell_type": "code",
   "execution_count": 1,
   "metadata": {},
   "outputs": [],
   "source": [
    "import sys\n",
    "import os\n",
    "\n",
    "home=os.path.expanduser(\"~\")\n",
    "os.environ[\"PYSPARK_PYTHON\"]=\"C:\\\\Users\\\\zaqxs\\\\Anaconda2\\\\envs\\\\py35\\\\python.exe\"\n",
    "os.environ[\"PYSPARK_DRIVER_PYTHON\"]=\"C:\\\\Users\\\\zaqxs\\\\Anaconda2\\\\envs\\\\py35\\\\python.exe\"\n",
    "os.environ[\"PYLIB\"]=os.path.join(os.environ[\"SPARK_HOME\"],'python','lib')\n",
    "sys.path.insert(0,os.path.join(os.environ[\"PYLIB\"],'py4j-0.10.9-src.zip'))\n",
    "sys.path.insert(0,os.path.join(os.environ[\"PYLIB\"],'pyspark.zip'))"
   ]
  },
  {
   "cell_type": "code",
   "execution_count": 2,
   "metadata": {},
   "outputs": [],
   "source": [
    "import pyspark\n",
    "myConf=pyspark.SparkConf()\n",
    "spark = pyspark.sql.SparkSession\\\n",
    "    .builder\\\n",
    "    .master(\"local\")\\\n",
    "    .appName(\"myApp\")\\\n",
    "    .config(conf=myConf)\\\n",
    "    .getOrCreate()"
   ]
  },
  {
   "cell_type": "code",
   "execution_count": 3,
   "metadata": {},
   "outputs": [
    {
     "name": "stdout",
     "output_type": "stream",
     "text": [
      "3.1.2\n"
     ]
    }
   ],
   "source": [
    "print (spark.version)"
   ]
  },
  {
   "cell_type": "markdown",
   "metadata": {},
   "source": [
    "## S.3 데이터 변환\n",
    "\n",
    "Spark를 단순히 데이터를 읽고, groupBy, 평균, 합계를 계산하는 용도로 사용하기에는 충분하지 않다.\n",
    "데이터로부터 좀 더 의미있는 신호를 읽기 위해서는 예측, 분류, 군집화, 추천 등 기계학습을 빼놓을 수 없다.\n",
    "이러한 기계학습은 무작정 데이터를 우겨 넣고, 의미있는 결과가 나오기를 기다려서는 작동되지 않는다.\n",
    "입력될 데이터를 정련하고, 가공하고, 일정한 형식을 가지도록 구성하는 것이 필요하다. "
   ]
  },
  {
   "cell_type": "markdown",
   "metadata": {
    "slideshow": {
     "slide_type": "slide"
    }
   },
   "source": [
    "**ETL** (Extract, Transform, Load)은 소스에서 필요한 데이터를 추출, 변환하고, 다른 타켓으로 로딩하는 것으로 말한다.\n",
    "* **추출**은 원천에서 데이터를 가져오는 것으로, spark에서는 예를 들어 csv, NoSQL 등에서 데이터를 읽어서 RDD, DataFrame을 생성하는 작업을 말한다.\n",
    "* **변환**은 분석 가능한 형식으로 변환하는 것으로, 결측 값이나 이상값을 제거하거나 map() 함수를 사용하거나 데이터타입 변환을 하는 등의 작업을 한다.\n",
    "* **로딩**은 변환한 데이터를 저장하여 놓는 것으로 Spark에서는 RDD, DataFrame의 형식으로 만들어 놓는다.\n",
    "지도학습 Supervised Learning을 하려면, DataFrame은 label, features 컬럼을, \n",
    "**RDD는 label과 features를 가지고 있는 Labeled Point로 구성**해야 한다."
   ]
  },
  {
   "cell_type": "code",
   "execution_count": 5,
   "metadata": {},
   "outputs": [
    {
     "name": "stdout",
     "output_type": "stream",
     "text": [
      "Collecting IPlantUML\n",
      "  Downloading IPlantUML-0.1.1.tar.gz (5.5 kB)\n",
      "Collecting plantweb\n",
      "  Downloading plantweb-1.2.1-py3-none-any.whl (20 kB)\n",
      "Requirement already satisfied: six in c:\\users\\zaqxs\\anaconda2\\envs\\py35\\lib\\site-packages (from plantweb->IPlantUML) (1.16.0)\n",
      "Requirement already satisfied: docutils in c:\\users\\zaqxs\\anaconda2\\envs\\py35\\lib\\site-packages (from plantweb->IPlantUML) (0.14)\n",
      "Requirement already satisfied: requests in c:\\users\\zaqxs\\anaconda2\\envs\\py35\\lib\\site-packages (from plantweb->IPlantUML) (2.22.0)\n",
      "Requirement already satisfied: chardet<3.1.0,>=3.0.2 in c:\\users\\zaqxs\\anaconda2\\envs\\py35\\lib\\site-packages (from requests->plantweb->IPlantUML) (3.0.4)\n",
      "Requirement already satisfied: urllib3!=1.25.0,!=1.25.1,<1.26,>=1.21.1 in c:\\users\\zaqxs\\anaconda2\\envs\\py35\\lib\\site-packages (from requests->plantweb->IPlantUML) (1.25.11)\n",
      "Requirement already satisfied: certifi>=2017.4.17 in c:\\users\\zaqxs\\anaconda2\\envs\\py35\\lib\\site-packages (from requests->plantweb->IPlantUML) (2021.10.8)\n",
      "Requirement already satisfied: idna<2.9,>=2.5 in c:\\users\\zaqxs\\anaconda2\\envs\\py35\\lib\\site-packages (from requests->plantweb->IPlantUML) (2.8)\n",
      "Building wheels for collected packages: IPlantUML\n",
      "  Building wheel for IPlantUML (setup.py): started\n",
      "  Building wheel for IPlantUML (setup.py): finished with status 'done'\n",
      "  Created wheel for IPlantUML: filename=IPlantUML-0.1.1-py2.py3-none-any.whl size=4895 sha256=e107c905ddfe06b0b9670b1f785d698eb86db3beeb0704da47bd433c3dfd2141\n",
      "  Stored in directory: c:\\users\\zaqxs\\appdata\\local\\pip\\cache\\wheels\\cf\\64\\08\\5bac65794ab011a60f7ef62413d3c430cf715345028f4b3914\n",
      "Successfully built IPlantUML\n",
      "Installing collected packages: plantweb, IPlantUML\n",
      "Successfully installed IPlantUML-0.1.1 plantweb-1.2.1\n"
     ]
    },
    {
     "name": "stderr",
     "output_type": "stream",
     "text": [
      "WARNING: You are using pip version 21.2.4; however, version 21.3.1 is available.\n",
      "You should consider upgrading via the 'C:\\Users\\zaqxs\\Anaconda2\\envs\\py35\\python.exe -m pip install --upgrade pip' command.\n"
     ]
    }
   ],
   "source": [
    "!pip install IPlantUML"
   ]
  },
  {
   "cell_type": "code",
   "execution_count": 6,
   "metadata": {},
   "outputs": [],
   "source": [
    "import iplantuml"
   ]
  },
  {
   "cell_type": "code",
   "execution_count": 8,
   "metadata": {},
   "outputs": [
    {
     "ename": "CalledProcessError",
     "evalue": "Command '['java', '-splash:no', '-jar', 'C:\\\\usr\\\\local\\\\bin\\\\plantuml.jar', '-tsvg', '1cf0ef29-ad3c-4925-970b-32156bd8bc11.uml']' returned non-zero exit status 1.",
     "output_type": "error",
     "traceback": [
      "\u001b[1;31m---------------------------------------------------------------------------\u001b[0m",
      "\u001b[1;31mCalledProcessError\u001b[0m                        Traceback (most recent call last)",
      "\u001b[1;32m<ipython-input-8-db450ba463a3>\u001b[0m in \u001b[0;36m<module>\u001b[1;34m\u001b[0m\n\u001b[1;32m----> 1\u001b[1;33m \u001b[0mget_ipython\u001b[0m\u001b[1;33m(\u001b[0m\u001b[1;33m)\u001b[0m\u001b[1;33m.\u001b[0m\u001b[0mrun_cell_magic\u001b[0m\u001b[1;33m(\u001b[0m\u001b[1;34m'plantuml'\u001b[0m\u001b[1;33m,\u001b[0m \u001b[1;34m'--jar'\u001b[0m\u001b[1;33m,\u001b[0m \u001b[1;34m'@startuml\\ndatabase source\\nrectangle transform\\nsource -right-> transform: extract\\ndatabase target\\ntransform -right-> target: load\\n@enduml\\n'\u001b[0m\u001b[1;33m)\u001b[0m\u001b[1;33m\u001b[0m\u001b[1;33m\u001b[0m\u001b[0m\n\u001b[0m",
      "\u001b[1;32m~\\Anaconda2\\envs\\py35\\lib\\site-packages\\IPython\\core\\interactiveshell.py\u001b[0m in \u001b[0;36mrun_cell_magic\u001b[1;34m(self, magic_name, line, cell)\u001b[0m\n\u001b[0;32m   2356\u001b[0m             \u001b[1;32mwith\u001b[0m \u001b[0mself\u001b[0m\u001b[1;33m.\u001b[0m\u001b[0mbuiltin_trap\u001b[0m\u001b[1;33m:\u001b[0m\u001b[1;33m\u001b[0m\u001b[1;33m\u001b[0m\u001b[0m\n\u001b[0;32m   2357\u001b[0m                 \u001b[0margs\u001b[0m \u001b[1;33m=\u001b[0m \u001b[1;33m(\u001b[0m\u001b[0mmagic_arg_s\u001b[0m\u001b[1;33m,\u001b[0m \u001b[0mcell\u001b[0m\u001b[1;33m)\u001b[0m\u001b[1;33m\u001b[0m\u001b[1;33m\u001b[0m\u001b[0m\n\u001b[1;32m-> 2358\u001b[1;33m                 \u001b[0mresult\u001b[0m \u001b[1;33m=\u001b[0m \u001b[0mfn\u001b[0m\u001b[1;33m(\u001b[0m\u001b[1;33m*\u001b[0m\u001b[0margs\u001b[0m\u001b[1;33m,\u001b[0m \u001b[1;33m**\u001b[0m\u001b[0mkwargs\u001b[0m\u001b[1;33m)\u001b[0m\u001b[1;33m\u001b[0m\u001b[1;33m\u001b[0m\u001b[0m\n\u001b[0m\u001b[0;32m   2359\u001b[0m             \u001b[1;32mreturn\u001b[0m \u001b[0mresult\u001b[0m\u001b[1;33m\u001b[0m\u001b[1;33m\u001b[0m\u001b[0m\n\u001b[0;32m   2360\u001b[0m \u001b[1;33m\u001b[0m\u001b[0m\n",
      "\u001b[1;32m~\\Anaconda2\\envs\\py35\\lib\\site-packages\\iplantuml\\__init__.py\u001b[0m in \u001b[0;36mplantuml\u001b[1;34m(line, cell)\u001b[0m\n\u001b[0;32m    102\u001b[0m         \u001b[1;32melse\u001b[0m\u001b[1;33m:\u001b[0m\u001b[1;33m\u001b[0m\u001b[1;33m\u001b[0m\u001b[0m\n\u001b[0;32m    103\u001b[0m             \u001b[0mplantuml_path\u001b[0m \u001b[1;33m=\u001b[0m \u001b[0mos\u001b[0m\u001b[1;33m.\u001b[0m\u001b[0mpath\u001b[0m\u001b[1;33m.\u001b[0m\u001b[0mabspath\u001b[0m\u001b[1;33m(\u001b[0m\u001b[0margs\u001b[0m\u001b[1;33m.\u001b[0m\u001b[0mplantuml_path\u001b[0m \u001b[1;32mor\u001b[0m \u001b[0mPLANTUMLPATH\u001b[0m\u001b[1;33m)\u001b[0m\u001b[1;33m\u001b[0m\u001b[1;33m\u001b[0m\u001b[0m\n\u001b[1;32m--> 104\u001b[1;33m             \u001b[0moutput\u001b[0m \u001b[1;33m=\u001b[0m \u001b[0mplantuml_exec\u001b[0m\u001b[1;33m(\u001b[0m\u001b[0muml_path\u001b[0m\u001b[1;33m,\u001b[0m \u001b[0mplantuml_path\u001b[0m\u001b[1;33m=\u001b[0m\u001b[0mplantuml_path\u001b[0m\u001b[1;33m)\u001b[0m\u001b[1;33m\u001b[0m\u001b[1;33m\u001b[0m\u001b[0m\n\u001b[0m\u001b[0;32m    105\u001b[0m         \u001b[0msvg_name\u001b[0m \u001b[1;33m=\u001b[0m \u001b[0moutput\u001b[0m\u001b[1;33m[\u001b[0m\u001b[1;36m0\u001b[0m\u001b[1;33m]\u001b[0m\u001b[1;33m\u001b[0m\u001b[1;33m\u001b[0m\u001b[0m\n\u001b[0;32m    106\u001b[0m         \u001b[1;32mreturn\u001b[0m \u001b[0mSVG\u001b[0m\u001b[1;33m(\u001b[0m\u001b[0mfilename\u001b[0m\u001b[1;33m=\u001b[0m\u001b[0msvg_name\u001b[0m\u001b[1;33m)\u001b[0m\u001b[1;33m\u001b[0m\u001b[1;33m\u001b[0m\u001b[0m\n",
      "\u001b[1;32m~\\Anaconda2\\envs\\py35\\lib\\site-packages\\iplantuml\\__init__.py\u001b[0m in \u001b[0;36mplantuml_exec\u001b[1;34m(*file_names, **kwargs)\u001b[0m\n\u001b[0;32m     51\u001b[0m            \"-tsvg\"] + list(file_names)\n\u001b[0;32m     52\u001b[0m \u001b[1;33m\u001b[0m\u001b[0m\n\u001b[1;32m---> 53\u001b[1;33m     \u001b[1;32mreturn\u001b[0m \u001b[0m_exec_and_get_paths\u001b[0m\u001b[1;33m(\u001b[0m\u001b[0mcmd\u001b[0m\u001b[1;33m,\u001b[0m \u001b[0mfile_names\u001b[0m\u001b[1;33m)\u001b[0m\u001b[1;33m\u001b[0m\u001b[1;33m\u001b[0m\u001b[0m\n\u001b[0m\u001b[0;32m     54\u001b[0m \u001b[1;33m\u001b[0m\u001b[0m\n\u001b[0;32m     55\u001b[0m \u001b[1;33m\u001b[0m\u001b[0m\n",
      "\u001b[1;32m~\\Anaconda2\\envs\\py35\\lib\\site-packages\\iplantuml\\__init__.py\u001b[0m in \u001b[0;36m_exec_and_get_paths\u001b[1;34m(cmd, file_names)\u001b[0m\n\u001b[0;32m     30\u001b[0m \u001b[1;33m\u001b[0m\u001b[0m\n\u001b[0;32m     31\u001b[0m \u001b[1;32mdef\u001b[0m \u001b[0m_exec_and_get_paths\u001b[0m\u001b[1;33m(\u001b[0m\u001b[0mcmd\u001b[0m\u001b[1;33m,\u001b[0m \u001b[0mfile_names\u001b[0m\u001b[1;33m)\u001b[0m\u001b[1;33m:\u001b[0m\u001b[1;33m\u001b[0m\u001b[1;33m\u001b[0m\u001b[0m\n\u001b[1;32m---> 32\u001b[1;33m     \u001b[0msubprocess\u001b[0m\u001b[1;33m.\u001b[0m\u001b[0mcheck_call\u001b[0m\u001b[1;33m(\u001b[0m\u001b[0mcmd\u001b[0m\u001b[1;33m,\u001b[0m \u001b[0mshell\u001b[0m\u001b[1;33m=\u001b[0m\u001b[1;32mFalse\u001b[0m\u001b[1;33m,\u001b[0m \u001b[0mstderr\u001b[0m\u001b[1;33m=\u001b[0m\u001b[0msubprocess\u001b[0m\u001b[1;33m.\u001b[0m\u001b[0mSTDOUT\u001b[0m\u001b[1;33m)\u001b[0m\u001b[1;33m\u001b[0m\u001b[1;33m\u001b[0m\u001b[0m\n\u001b[0m\u001b[0;32m     33\u001b[0m \u001b[1;33m\u001b[0m\u001b[0m\n\u001b[0;32m     34\u001b[0m     \u001b[1;32mreturn\u001b[0m \u001b[1;33m[\u001b[0m\u001b[0mos\u001b[0m\u001b[1;33m.\u001b[0m\u001b[0mpath\u001b[0m\u001b[1;33m.\u001b[0m\u001b[0msplitext\u001b[0m\u001b[1;33m(\u001b[0m\u001b[0mf\u001b[0m\u001b[1;33m)\u001b[0m\u001b[1;33m[\u001b[0m\u001b[1;36m0\u001b[0m\u001b[1;33m]\u001b[0m \u001b[1;33m+\u001b[0m \u001b[1;34m\".svg\"\u001b[0m \u001b[1;32mfor\u001b[0m \u001b[0mf\u001b[0m \u001b[1;32min\u001b[0m \u001b[0mfile_names\u001b[0m\u001b[1;33m]\u001b[0m\u001b[1;33m\u001b[0m\u001b[1;33m\u001b[0m\u001b[0m\n",
      "\u001b[1;32m~\\Anaconda2\\envs\\py35\\lib\\subprocess.py\u001b[0m in \u001b[0;36mcheck_call\u001b[1;34m(*popenargs, **kwargs)\u001b[0m\n\u001b[0;32m    345\u001b[0m         \u001b[1;32mif\u001b[0m \u001b[0mcmd\u001b[0m \u001b[1;32mis\u001b[0m \u001b[1;32mNone\u001b[0m\u001b[1;33m:\u001b[0m\u001b[1;33m\u001b[0m\u001b[1;33m\u001b[0m\u001b[0m\n\u001b[0;32m    346\u001b[0m             \u001b[0mcmd\u001b[0m \u001b[1;33m=\u001b[0m \u001b[0mpopenargs\u001b[0m\u001b[1;33m[\u001b[0m\u001b[1;36m0\u001b[0m\u001b[1;33m]\u001b[0m\u001b[1;33m\u001b[0m\u001b[1;33m\u001b[0m\u001b[0m\n\u001b[1;32m--> 347\u001b[1;33m         \u001b[1;32mraise\u001b[0m \u001b[0mCalledProcessError\u001b[0m\u001b[1;33m(\u001b[0m\u001b[0mretcode\u001b[0m\u001b[1;33m,\u001b[0m \u001b[0mcmd\u001b[0m\u001b[1;33m)\u001b[0m\u001b[1;33m\u001b[0m\u001b[1;33m\u001b[0m\u001b[0m\n\u001b[0m\u001b[0;32m    348\u001b[0m     \u001b[1;32mreturn\u001b[0m \u001b[1;36m0\u001b[0m\u001b[1;33m\u001b[0m\u001b[1;33m\u001b[0m\u001b[0m\n\u001b[0;32m    349\u001b[0m \u001b[1;33m\u001b[0m\u001b[0m\n",
      "\u001b[1;31mCalledProcessError\u001b[0m: Command '['java', '-splash:no', '-jar', 'C:\\\\usr\\\\local\\\\bin\\\\plantuml.jar', '-tsvg', '1cf0ef29-ad3c-4925-970b-32156bd8bc11.uml']' returned non-zero exit status 1."
     ]
    }
   ],
   "source": [
    "%%plantuml --jar\n",
    "@startuml\n",
    "database source\n",
    "rectangle transform\n",
    "source -right-> transform: extract\n",
    "database target\n",
    "transform -right-> target: load\n",
    "@enduml"
   ]
  },
  {
   "cell_type": "markdown",
   "metadata": {},
   "source": [
    "Spark 초기에는 RDD를 사용하여 데이터를 변환하고, mllib 라이브러리를 사용하여 기계학습을 하였다.\n",
    "그 후 DataFrame이 소개되고 나서, ml 라이브러리가 사용되고 있다.\n",
    "Spark 2.0부터 mllib는 유지보수로 지원된다고 한다. 오류가 있으면 수정되지만, 새로운 기능이 추가되지는 않고 있다.\n",
    "반면에 ml 라이브러리는 새로운 기능이 추가되고 있다.\n",
    "\n",
    "따라서 Spark에서는 **```RDD mllib```** , **```DataFrame ml```** 패키지 별로 데이터 타입이나 모델이 제공되므로, 식별하여 사용한다.\n",
    "```ml``` 패키지를 사용할 경우에는 자신의 ```pyspark.ml.linalg.Vector``` 등을 사용해야 한다. ```mllib```도 마찬가지이다.\n",
    "\n",
    "패키지 | 설명 | 데이터 타입 예\n",
    "-------|-------|-----\n",
    "```mllib``` | RDD API를 제공 | ```pyspark.mllib.linalg.Vector``` 또는 ```pyspark.mllib.linalg.Matrix```\n",
    "```ml``` | DataFrame API를 제공 | ```pyspark.ml.linalg.Vector``` 또는 ```pyspark.ml.linalg.Matrix```\n"
   ]
  },
  {
   "cell_type": "markdown",
   "metadata": {
    "slideshow": {
     "slide_type": "subslide"
    }
   },
   "source": [
    "## S.4 RDD 변환\n",
    "\n",
    "기계학습을 하기 위해서는 데이터를 일정 형식으로 만들어 주어야 한다.\n",
    "**```Vector```**, **```Labeled Point```**, **```Matrix```**를 배워보자.\n",
    "\n",
    "구분 | 설명\n",
    "----------|----------\n",
    "```Vector``` | ```numpy vector```와 같은 기능을 한다. **dense**와 **sparse** vector로 구분한다.\n",
    "```Labeled Point``` | 분류를 의미하는 클래스 또는 **label**과 속성 **features** 이 묶인 구조로서, 지도학습 supervised learning을 할 경우 사용된다.\n",
    "```Matrix``` | ```numpy matrix```와 같은 특징을 가진다."
   ]
  },
  {
   "cell_type": "markdown",
   "metadata": {
    "slideshow": {
     "slide_type": "slide"
    }
   },
   "source": [
    "### S.4.1 vectors\n",
    "\n",
    "행렬 **Vector**는 **dense**와 **sparse**로 구분할 수 있다.\n",
    "\n",
    "* dense vector는 빈 값이 별로 없이 **모든** 행열이 값을 가지고 있다.\n",
    "* sparse vector는 빈 값이 많아서, 값이 있는 경우 그 값이 있는 **인덱스**로 표현해 배열을 축약하게 된다."
   ]
  },
  {
   "cell_type": "markdown",
   "metadata": {
    "slideshow": {
     "slide_type": "subslide"
    }
   },
   "source": [
    "#### Dense Vectors 밀집벡터\n",
    "\n",
    "벡터는 일련의 수로 구성이 되고, 행벡터 또는 열벡터가 될 수 있다. 채워지는 값이 대부분 0이면 희소벡터 Sparse Vectors로 만들어 질 수 있다."
   ]
  },
  {
   "cell_type": "markdown",
   "metadata": {},
   "source": [
    "numpy 라이브러리를 가져오자."
   ]
  },
  {
   "cell_type": "code",
   "execution_count": 9,
   "metadata": {},
   "outputs": [],
   "source": [
    "import numpy as np"
   ]
  },
  {
   "cell_type": "markdown",
   "metadata": {},
   "source": [
    "numpy array를 사용하면 만들어지는 것이 dense vector이다."
   ]
  },
  {
   "cell_type": "code",
   "execution_count": 10,
   "metadata": {},
   "outputs": [],
   "source": [
    "dv = np.array([1.0, 2.1, 3])"
   ]
  },
  {
   "cell_type": "markdown",
   "metadata": {
    "slideshow": {
     "slide_type": "subslide"
    }
   },
   "source": [
    "Spark에서는 Vectors 명령어로 벡터를 만들 수 있다.\n",
    "단 **RDD는 mllib** 모듈을 사용해서 vectors를 만들고, 반면에 **```DataFrame```**은 **ml**를 사용한다는 점에 유의하자."
   ]
  },
  {
   "cell_type": "code",
   "execution_count": 11,
   "metadata": {},
   "outputs": [],
   "source": [
    "from pyspark.mllib.linalg import Vectors\n",
    "\n",
    "dv1mllib=Vectors.dense([1.0, 2.1, 3])"
   ]
  },
  {
   "cell_type": "markdown",
   "metadata": {},
   "source": [
    "만든 벡터를 출력해보자. 그 타입도 확인하면 DenseVector이다."
   ]
  },
  {
   "cell_type": "code",
   "execution_count": 12,
   "metadata": {},
   "outputs": [
    {
     "name": "stdout",
     "output_type": "stream",
     "text": [
      "Dense vector: [1.0,2.1,3.0]\n",
      "Type: <class 'pyspark.mllib.linalg.DenseVector'>\n"
     ]
    }
   ],
   "source": [
    "print (\"Dense vector: {}\\nType: {}\".format(dv1mllib, type(dv1mllib)))"
   ]
  },
  {
   "cell_type": "markdown",
   "metadata": {
    "slideshow": {
     "slide_type": "subslide"
    }
   },
   "source": [
    "이번에는 ```pyspark.ml``` 모듈을 이용하여 Vectors를 생성해보자. "
   ]
  },
  {
   "cell_type": "code",
   "execution_count": 13,
   "metadata": {},
   "outputs": [],
   "source": [
    "from pyspark.ml.linalg import Vectors\n",
    "\n",
    "dv1ml=Vectors.dense([1.0, 2.1, 3])"
   ]
  },
  {
   "cell_type": "code",
   "execution_count": 14,
   "metadata": {},
   "outputs": [
    {
     "name": "stdout",
     "output_type": "stream",
     "text": [
      "ml의 dense vector: [1.0,2.1,3.0]\n"
     ]
    }
   ],
   "source": [
    "print (\"ml의 dense vector: {}\".format(dv1ml))"
   ]
  },
  {
   "cell_type": "markdown",
   "metadata": {
    "slideshow": {
     "slide_type": "subslide"
    }
   },
   "source": [
    "dense vectors는 numpy array와 같은 특징을 가진다.\n",
    "인덱스로 값을 읽을 수 있다. 또한 반복문에서 사용할 수 있다."
   ]
  },
  {
   "cell_type": "code",
   "execution_count": 15,
   "metadata": {},
   "outputs": [
    {
     "name": "stdout",
     "output_type": "stream",
     "text": [
      "1.0 2.1 3.0 "
     ]
    }
   ],
   "source": [
    "for e in dv1mllib:\n",
    "    print (e, end = \" \")"
   ]
  },
  {
   "cell_type": "markdown",
   "metadata": {
    "slideshow": {
     "slide_type": "subslide"
    }
   },
   "source": [
    "보통 벡터와 같이 **product**, **dot**, **norm**과 같은 벡터 연산을 할 수도 있다.\n",
    "결과 값은 numpy와 동일하다."
   ]
  },
  {
   "cell_type": "code",
   "execution_count": 16,
   "metadata": {},
   "outputs": [
    {
     "data": {
      "text/plain": [
       "14.41"
      ]
     },
     "execution_count": 16,
     "metadata": {},
     "output_type": "execute_result"
    }
   ],
   "source": [
    "dv1mllib.dot(dv1mllib)"
   ]
  },
  {
   "cell_type": "code",
   "execution_count": 17,
   "metadata": {},
   "outputs": [
    {
     "data": {
      "text/plain": [
       "14.41"
      ]
     },
     "execution_count": 17,
     "metadata": {},
     "output_type": "execute_result"
    }
   ],
   "source": [
    "np.dot(dv,dv)"
   ]
  },
  {
   "cell_type": "markdown",
   "metadata": {
    "slideshow": {
     "slide_type": "subslide"
    }
   },
   "source": [
    "더하기, 빼기, 곱하기, 나누기 연산도 가능하다. 곱하기 연산을 해보자. dot와 달리 항목별로 실행한다."
   ]
  },
  {
   "cell_type": "code",
   "execution_count": 16,
   "metadata": {},
   "outputs": [
    {
     "data": {
      "text/plain": [
       "DenseVector([1.0, 4.41, 9.0])"
      ]
     },
     "execution_count": 16,
     "metadata": {},
     "output_type": "execute_result"
    }
   ],
   "source": [
    "dv1mllib*dv1mllib"
   ]
  },
  {
   "cell_type": "markdown",
   "metadata": {
    "slideshow": {
     "slide_type": "subslide"
    }
   },
   "source": [
    "#### Sparse Vectors 희소행렬\n",
    "\n",
    "행렬에는 0 값이 많이 존재하기 때문에, 0값이 아닌 **NZ Nonzero**만 저장하면 훨씬 효율적이다.\n",
    "**sparse**는 실제 **값이 없는 요소, '0'을 제거**하여 만든 vector이다.\n",
    "Spark에서 type field (1 바이트 길이)를 통해 식별한다 (0: sparse, 1: dense)"
   ]
  },
  {
   "cell_type": "markdown",
   "metadata": {},
   "source": [
    "예를 들어, 다음은 1차원 dense vector이다.\n",
    "```python\n",
    "[160, 69, 0, 0, 24]\n",
    "```\n",
    "\n",
    "sparse vectors는 값 중에 0이 포함된 경우 이를 생략하고, 값이 있는 요소 Nonzero만 남기게 된다.\n",
    "3은 컬럼 갯수, 0, 1, 4는 값이 있는 컬럼, [160.0, 69.0, 24.0]는 실제 값을 의미한다."
   ]
  },
  {
   "cell_type": "code",
   "execution_count": 18,
   "metadata": {},
   "outputs": [],
   "source": [
    "sv1 = Vectors.sparse(5,[0,1,4],[160.0,69.0,24.0])"
   ]
  },
  {
   "cell_type": "markdown",
   "metadata": {},
   "source": [
    "어느 모듈, mllib 또는 ml인지 확인해보자."
   ]
  },
  {
   "cell_type": "code",
   "execution_count": 19,
   "metadata": {},
   "outputs": [
    {
     "data": {
      "text/plain": [
       "pyspark.ml.linalg.SparseVector"
      ]
     },
     "execution_count": 19,
     "metadata": {},
     "output_type": "execute_result"
    }
   ],
   "source": [
    "type(sv1)"
   ]
  },
  {
   "cell_type": "markdown",
   "metadata": {},
   "source": [
    "```toArray()``` 함수를 사용하면 sparse에서 dense로 벡터를 변환할 수 있다."
   ]
  },
  {
   "cell_type": "code",
   "execution_count": 20,
   "metadata": {},
   "outputs": [
    {
     "data": {
      "text/plain": [
       "array([160.,  69.,   0.,   0.,  24.])"
      ]
     },
     "execution_count": 20,
     "metadata": {},
     "output_type": "execute_result"
    }
   ],
   "source": [
    "sv1.toArray()"
   ]
  },
  {
   "cell_type": "markdown",
   "metadata": {},
   "source": [
    "### S.4.2 Matrix\n",
    "\n",
    "로컬 Matrix 역시 밀집 dense, 희소 sparse형식을 지원한다."
   ]
  },
  {
   "cell_type": "markdown",
   "metadata": {},
   "source": [
    "#### Dense Matrix"
   ]
  },
  {
   "cell_type": "code",
   "execution_count": 21,
   "metadata": {},
   "outputs": [
    {
     "data": {
      "text/plain": [
       "DenseMatrix(3, 2, [1.0, 2.0, 3.0, 4.0, 5.0, 6.0], False)"
      ]
     },
     "execution_count": 21,
     "metadata": {},
     "output_type": "execute_result"
    }
   ],
   "source": [
    "from pyspark.mllib.linalg import Matrices\n",
    "\n",
    "Matrices.dense(3, 2, [1,2,3,4,5,6])"
   ]
  },
  {
   "cell_type": "markdown",
   "metadata": {
    "slideshow": {
     "slide_type": "subslide"
    }
   },
   "source": [
    "#### Sparse Vectors\n",
    "\n",
    "```python\n",
    "[1 0 2]\n",
    "[0 0 3]\n",
    "[4 5 6]\n",
    "```\n",
    "\n",
    "위와 같은 2차원 dense vectors를 sparse vectors의 배열 방식으로 표현해보자.\n",
    "우선 다음과 같이\n",
    "행, 열, 값 vector를 만든다.\n",
    "\n",
    "```python\n",
    "행 | 0 | 0 | 1 | 2 | 2 | 2\n",
    "열 | 0 | 2 | 2 | 0 | 1 | 2\n",
    "값 | 1 | 2 | 3 | 4 | 5 | 6\n",
    "```\n",
    "\n",
    "행을 보면 0번째에 '1','2' 1번째에 '3', 2번째에 '4','5','6'이므로 **0,0,1,2,2,2**\n",
    "열을 보면 0번째에 '1', 2번째 '2','3', 0번째 '4', 1번째 '5', 2번째 '6'이므로 **0,2,2,0,1,2**\n",
    "\n",
    "**행, 열, 데이터를 한 쌍**으로 읽으면 된다.\n",
    "즉 행 0, 열 0의 위치에 1, 행 0, 열 2의 위치에 2. 이런 식으로 6개의 데이터가 있다.\n"
   ]
  },
  {
   "cell_type": "code",
   "execution_count": 22,
   "metadata": {},
   "outputs": [],
   "source": [
    "import numpy as np\n",
    "\n",
    "row = np.array([0, 0, 1, 2, 2, 2])\n",
    "col = np.array([0, 2, 2, 0, 1, 2])\n",
    "data = np.array([1, 2, 3, 4, 5, 6])"
   ]
  },
  {
   "cell_type": "markdown",
   "metadata": {},
   "source": [
    "scipy의 sparse vectors로 표현해보자."
   ]
  },
  {
   "cell_type": "code",
   "execution_count": 23,
   "metadata": {},
   "outputs": [],
   "source": [
    "import scipy.sparse as sps\n",
    "\n",
    "mtx = sps.csc_matrix((data, (row, col)), shape=(3, 3))"
   ]
  },
  {
   "cell_type": "markdown",
   "metadata": {},
   "source": [
    "matrix를 dense vectors로 출력해보자."
   ]
  },
  {
   "cell_type": "code",
   "execution_count": 24,
   "metadata": {
    "scrolled": false
   },
   "outputs": [
    {
     "name": "stdout",
     "output_type": "stream",
     "text": [
      "[[1 0 2]\n",
      " [0 0 3]\n",
      " [4 5 6]]\n"
     ]
    }
   ],
   "source": [
    "print (mtx.todense())"
   ]
  },
  {
   "cell_type": "markdown",
   "metadata": {},
   "source": [
    "#### Sparse Vectors의 CSR (Compressed Sparse Row) 또는 Yale Format\n",
    "\n",
    "다음 5개의 값으로 표현된다.\n",
    "* 첫째 행 개수 (```int```)\n",
    "* 둘째 열 개수 (```int```)\n",
    "* 세째 ```int[]```은 **열 포인터** (IA):\n",
    "    * IA[0]=**0** 시작 값은 0으로, IA[i]=IA[i-1] + (i-1)열의 **NNZ** (NZ 개수, Num of NonZeroes)\n",
    "* 네째 ```int[]```은 **행 인덱스** (JA): 각 NZ의 행 인덱스\n",
    "* 마지막은 소수 (```double```)로 실제 값 리스트"
   ]
  },
  {
   "cell_type": "markdown",
   "metadata": {
    "slideshow": {
     "slide_type": "subslide"
    }
   },
   "source": [
    "2차원 dense vectors를 만들어 보자.\n",
    "행의 갯수, 열의 갯수, 실제 값을 넣어주면 생성된다.\n",
    "* 6은 행 갯수\n",
    "* 4는 열 갯수\n",
    "* 다음 수는 행렬을 해체하여 연속적인 수로 나열"
   ]
  },
  {
   "cell_type": "code",
   "execution_count": 25,
   "metadata": {},
   "outputs": [],
   "source": [
    "from pyspark.mllib.linalg import Matrices\n",
    "\n",
    "dm = Matrices.dense(6,4,[1, 2, 0, 0, 0, 0, 0, 3, 0, 4, 0, 0, 0, 0, 5, 6, 7, 0, 0, 0, 0, 0, 0, 8])"
   ]
  },
  {
   "cell_type": "markdown",
   "metadata": {},
   "source": [
    "위를 2차원 배열로 변환해자."
   ]
  },
  {
   "cell_type": "code",
   "execution_count": 26,
   "metadata": {},
   "outputs": [
    {
     "data": {
      "text/plain": [
       "array([[1., 0., 0., 0.],\n",
       "       [2., 3., 0., 0.],\n",
       "       [0., 0., 5., 0.],\n",
       "       [0., 4., 6., 0.],\n",
       "       [0., 0., 7., 0.],\n",
       "       [0., 0., 0., 8.]])"
      ]
     },
     "execution_count": 26,
     "metadata": {},
     "output_type": "execute_result"
    }
   ],
   "source": [
    "dm.toArray()"
   ]
  },
  {
   "cell_type": "markdown",
   "metadata": {},
   "source": [
    "다음을 희소행렬로 변환해보자.\n",
    "\n",
    "```python\n",
    "[ 1.,  0.,  0.,  0.]\n",
    "[ 2.,  3.,  0.,  0.]\n",
    "[ 0.,  0.,  5.,  0.]\n",
    "[ 0.,  4.,  6.,  0.]\n",
    "[ 0.,  0.,  7.,  0.]\n",
    "[ 0.,  0.,  0.,  8.]\n",
    "```\n",
    "\n",
    "* 6은 행 갯수\n",
    "* 4는 열 갯수\n",
    "* 다음은 열포인터 [0, 2, 4, 7, 8]\n",
    "    * **열**로 세어서 **요소의 개수** 2, 2, 3, 1을 가지고 구성을 한다. 즉 열로 요소가 2, 2, 3, 1개 이다.\n",
    "    * **0**:IA[0]=0으로 시작, **2**:IA[1]=IA[0]+2, **4**:IA[2]=IA[1]+2 **7**:IA[3]=IA[2]+3, **8**:IA[4]=IA[3]+1\n",
    "* 다음은 행인덱스 JA [0, 1, 1, 3, 2, 3, 4, 5]\n",
    "    * **행**으로 세어서 (단 컬럼순을 지켜서) 0 1 1 3 2 3 4 5 (0 1 1 2 3 3 4 5가 아니라)\n",
    "    * 1:**0**행, 2:**1**행, 3:**1**행, 4:**3**행, 5:**2**행, 6:**3**행, 7:**4**행, 8:**5**행\n",
    "* 마지막은 소수로 실제 값 리스트 [1.0, 2.0, 3.0, 4.0, 5.0, 6.0, 7.0, 8.0]"
   ]
  },
  {
   "cell_type": "code",
   "execution_count": 27,
   "metadata": {},
   "outputs": [
    {
     "data": {
      "text/plain": [
       "SparseMatrix(6, 4, [0, 2, 4, 7, 8], [0, 1, 1, 3, 2, 3, 4, 5], [1.0, 2.0, 3.0, 4.0, 5.0, 6.0, 7.0, 8.0], False)"
      ]
     },
     "execution_count": 27,
     "metadata": {},
     "output_type": "execute_result"
    }
   ],
   "source": [
    "dm.toSparse()"
   ]
  },
  {
   "cell_type": "markdown",
   "metadata": {},
   "source": [
    "'# Create a dense matrix ((1.0, 2.0), (3.0, 4.0), (5.0, 6.0))\n",
    "[ 1.,  4.], [ 2., 5.], [ 3.,  6.]"
   ]
  },
  {
   "cell_type": "markdown",
   "metadata": {
    "slideshow": {
     "slide_type": "subslide"
    }
   },
   "source": [
    "* 아래는 행3, 열2개 행열로 [9., 0.], [0., 8.], [0., 6.] 값이다.\n",
    "* 0,1,3: **0**:IA[0]=0으로 시작, **1**:IA[1]=IA[0]+1 (1열 개수: 9뿐이 없으므르 1), **3**:IA[2]=IA[1]+2 (2열 개수: 6,8이 있으므로 2)\n",
    "* 0,2,1: 9:**0**행, 6:**2**행, 8:**1**행"
   ]
  },
  {
   "cell_type": "code",
   "execution_count": 28,
   "metadata": {},
   "outputs": [],
   "source": [
    "sm = Matrices.sparse(3, 2, [0, 1, 3], [0, 2, 1], [9, 6, 8])"
   ]
  },
  {
   "cell_type": "code",
   "execution_count": 29,
   "metadata": {},
   "outputs": [],
   "source": [
    "d=sm.toDense()"
   ]
  },
  {
   "cell_type": "code",
   "execution_count": 30,
   "metadata": {},
   "outputs": [
    {
     "name": "stdout",
     "output_type": "stream",
     "text": [
      "DenseMatrix([[9., 0.],\n",
      "             [0., 8.],\n",
      "             [0., 6.]])\n"
     ]
    }
   ],
   "source": [
    "print (d)"
   ]
  },
  {
   "cell_type": "markdown",
   "metadata": {
    "slideshow": {
     "slide_type": "subslide"
    }
   },
   "source": [
    "### S.4.2 분산 Matrix\n",
    "\n",
    "배열은 n차원을 가질 수 있고, 2차원인 경우에는 매트릭스라고 지칭한다.\n",
    "매트릭스 역시 로컬과 분산으로 구분할 수 있다.\n",
    "앞서 로컬 매트릭스는 라이브러리 명에서 눈치를 챌 수 있는데, ```pyspark.mllib.linalg.Matrix, Matrices```를 사용한다. 반면에 분산 매트릭스는 당연히 여러 노드에 분산해서 사용할 수 있고, ```pyspark.mllib.linalg.distributed```에 존재하는 Row Matrix, Indexed Row Matrix, Coordinate Matrix, Block Matrix를 사용하면 된다."
   ]
  },
  {
   "cell_type": "markdown",
   "metadata": {
    "slideshow": {
     "slide_type": "subslide"
    }
   },
   "source": [
    "#### Row Matrix\n",
    "\n",
    "RowMatrix는 ```pyspark.mllib.linalg.distributed```에서 제공되는 분산벡터로서, RDD vectors로부터 생성된다.\n",
    "우선 리스트에서 RDD를 생성하고 이를 RowMatrix에 넘겨주자."
   ]
  },
  {
   "cell_type": "code",
   "execution_count": 31,
   "metadata": {},
   "outputs": [],
   "source": [
    "p = [[1.0,2.0,3.0],[1.1,2.1,3.1],[1.2,2.2,3.3]]"
   ]
  },
  {
   "cell_type": "code",
   "execution_count": 32,
   "metadata": {},
   "outputs": [],
   "source": [
    "my=spark.sparkContext.parallelize(p)"
   ]
  },
  {
   "cell_type": "code",
   "execution_count": 33,
   "metadata": {},
   "outputs": [
    {
     "data": {
      "text/plain": [
       "[[1.0, 2.0, 3.0], [1.1, 2.1, 3.1], [1.2, 2.2, 3.3]]"
      ]
     },
     "execution_count": 33,
     "metadata": {},
     "output_type": "execute_result"
    }
   ],
   "source": [
    "my.collect()"
   ]
  },
  {
   "cell_type": "markdown",
   "metadata": {
    "slideshow": {
     "slide_type": "subslide"
    }
   },
   "source": [
    "RDD Vectors를 넘겨주어야 한다."
   ]
  },
  {
   "cell_type": "code",
   "execution_count": 34,
   "metadata": {},
   "outputs": [],
   "source": [
    "from pyspark.mllib.linalg.distributed import RowMatrix\n",
    "\n",
    "rm=RowMatrix(my)"
   ]
  },
  {
   "cell_type": "code",
   "execution_count": 35,
   "metadata": {},
   "outputs": [
    {
     "name": "stdout",
     "output_type": "stream",
     "text": [
      "<class 'pyspark.mllib.linalg.distributed.RowMatrix'>\n"
     ]
    }
   ],
   "source": [
    "print (type(rm))"
   ]
  },
  {
   "cell_type": "code",
   "execution_count": 36,
   "metadata": {},
   "outputs": [
    {
     "data": {
      "text/plain": [
       "[DenseVector([1.0, 2.0, 3.0]),\n",
       " DenseVector([1.1, 2.1, 3.1]),\n",
       " DenseVector([1.2, 2.2, 3.3])]"
      ]
     },
     "execution_count": 36,
     "metadata": {},
     "output_type": "execute_result"
    }
   ],
   "source": [
    "rm.rows.collect()"
   ]
  },
  {
   "cell_type": "code",
   "execution_count": 37,
   "metadata": {},
   "outputs": [
    {
     "data": {
      "text/plain": [
       "3"
      ]
     },
     "execution_count": 37,
     "metadata": {},
     "output_type": "execute_result"
    }
   ],
   "source": [
    "rm.numRows()"
   ]
  },
  {
   "cell_type": "code",
   "execution_count": 38,
   "metadata": {},
   "outputs": [
    {
     "data": {
      "text/plain": [
       "3"
      ]
     },
     "execution_count": 38,
     "metadata": {},
     "output_type": "execute_result"
    }
   ],
   "source": [
    "rm.numCols()"
   ]
  },
  {
   "cell_type": "markdown",
   "metadata": {},
   "source": [
    "#### Indexed Row Matrix\n",
    "\n",
    "앞서 Row Matrix과 유사하지만, 파티션으로 나누어, 그러나 순서를 지켜서 저장이 된다.\n",
    "따라서 시계열 데이터와 같이 순서가 있는 데이터를 저장하기에 적합하다.\n",
    "\n",
    "순서인덱스와 벡터로 구성한다."
   ]
  },
  {
   "cell_type": "code",
   "execution_count": 39,
   "metadata": {},
   "outputs": [],
   "source": [
    "from pyspark.mllib.linalg.distributed import IndexedRow\n",
    "\n",
    "irRdd = spark.sparkContext.parallelize([\n",
    "    IndexedRow(1, [3, 1, 2]),\n",
    "    IndexedRow(2, [1, 3, 2]),\n",
    "    IndexedRow(3, [5, 4, 3]),\n",
    "    IndexedRow(4, [6, 7, 4]),\n",
    "    IndexedRow(5, [8, 9, 2]),\n",
    "])"
   ]
  },
  {
   "cell_type": "code",
   "execution_count": 40,
   "metadata": {},
   "outputs": [],
   "source": [
    "from pyspark.mllib.linalg.distributed import IndexedRowMatrix\n",
    "\n",
    "irm = IndexedRowMatrix(irRdd)"
   ]
  },
  {
   "cell_type": "code",
   "execution_count": 41,
   "metadata": {},
   "outputs": [
    {
     "name": "stdout",
     "output_type": "stream",
     "text": [
      "6\n",
      "3\n"
     ]
    }
   ],
   "source": [
    "print(irm.numRows())\n",
    "print(irm.numCols())"
   ]
  },
  {
   "cell_type": "markdown",
   "metadata": {
    "slideshow": {
     "slide_type": "slide"
    }
   },
   "source": [
    "### S.4.4 Labeled Point\n",
    "\n",
    "Labeled point는 로컬벡터로 레이블을 가지고 있는 밀집 또는 희소 행렬을 말한다.\n",
    "레이블이 있으므로, supervised learning에 요구되는 형식이다.\n",
    "레이블은 double형식으로 저장되어야 한다. 분류에 사용되려면 예를 들어 긍정, 부정인 경우 정수 1, 0으로 하지 않고 double 형식으로 저장되어야 한다.\n",
    "\n",
    "#### label, features로 구성\n",
    "\n",
    "**분류** 및 **회귀분석**에 사용되는 데이터 타잎이다.\n",
    "**'label'**과 **'features'**로 구성된다.\n",
    "\n",
    "구분 | 지도학습을 하기 위한 label과 features의 구성\n",
    "-----|-----\n",
    "label | supervised learning에서 '구분 값'으로 사용한다. 데이터타입은 'DoubleType'으로 설정되어야 한다.\n",
    "features | **sparse**, **dense** 모두 사용할 수 있다.\n"
   ]
  },
  {
   "cell_type": "markdown",
   "metadata": {
    "slideshow": {
     "slide_type": "subslide"
    }
   },
   "source": [
    "label 1.0, features [1.0, 2.0, 3.0]으로 LabeledPoint를 만들어 보자."
   ]
  },
  {
   "cell_type": "code",
   "execution_count": 42,
   "metadata": {
    "slideshow": {
     "slide_type": "-"
    }
   },
   "outputs": [
    {
     "data": {
      "text/plain": [
       "LabeledPoint(1.0, [1.0,2.0,3.0])"
      ]
     },
     "execution_count": 42,
     "metadata": {},
     "output_type": "execute_result"
    }
   ],
   "source": [
    "from pyspark.mllib.regression import LabeledPoint\n",
    "\n",
    "LabeledPoint(1.0, [1.0, 2.0, 3.0])"
   ]
  },
  {
   "cell_type": "markdown",
   "metadata": {
    "slideshow": {
     "slide_type": "subslide"
    }
   },
   "source": [
    "sparse vectors로 features를 구성해보자."
   ]
  },
  {
   "cell_type": "code",
   "execution_count": 44,
   "metadata": {
    "slideshow": {
     "slide_type": "-"
    }
   },
   "outputs": [
    {
     "data": {
      "text/plain": [
       "LabeledPoint(1992.0, (10,[0,1,2],[3.0,5.5,10.0]))"
      ]
     },
     "execution_count": 44,
     "metadata": {},
     "output_type": "execute_result"
    }
   ],
   "source": [
    "from pyspark.mllib.regression import LabeledPoint\n",
    "from pyspark.mllib.linalg import Vectors\n",
    "\n",
    "LabeledPoint(1992, Vectors.sparse(10, {0: 3.0, 1:5.5, 2: 10.0}))"
   ]
  },
  {
   "cell_type": "markdown",
   "metadata": {
    "slideshow": {
     "slide_type": "subslide"
    }
   },
   "source": [
    "서로 다른 패키지의 데이터타잎 **```mllib LabeledPoint```**와 **```ml Vectors```**를 혼용하면, 형변환 오류가 발생한다.\n",
    "이러한 오류는 패키지를 혼용하지 않으면 된다.\n",
    "\n",
    "```python\n",
    "Cannot convert type <class 'pyspark.ml.linalg.DenseVector'> into Vector\n",
    "```\n",
    "\n",
    "**```dv1mllib```**은 앞서 **```mllib```**로부터 생성된 dense vector이다."
   ]
  },
  {
   "cell_type": "code",
   "execution_count": 45,
   "metadata": {},
   "outputs": [
    {
     "data": {
      "text/plain": [
       "LabeledPoint(1.0, [1.0,2.1,3.0])"
      ]
     },
     "execution_count": 45,
     "metadata": {},
     "output_type": "execute_result"
    }
   ],
   "source": [
    "from pyspark.mllib.regression import LabeledPoint\n",
    "\n",
    "LabeledPoint(1.0, dv1mllib)"
   ]
  },
  {
   "cell_type": "markdown",
   "metadata": {
    "slideshow": {
     "slide_type": "subslide"
    }
   },
   "source": [
    "**```dv1ml```**은 앞서 **```ml```**로부터 생성된 dense vector이다.\n",
    "```mllib```에서 사용하려면, **```Vectors.fromML()```**를 사용해 ```ml```의 Vectors를 읽어서 ```mllib```로 변환하여 혼용을 막는다."
   ]
  },
  {
   "cell_type": "code",
   "execution_count": 46,
   "metadata": {},
   "outputs": [
    {
     "data": {
      "text/plain": [
       "LabeledPoint(1.0, [1.0,2.1,3.0])"
      ]
     },
     "execution_count": 46,
     "metadata": {},
     "output_type": "execute_result"
    }
   ],
   "source": [
    "from pyspark.mllib.regression import LabeledPoint\n",
    "from pyspark.mllib.linalg import Vectors\n",
    "\n",
    "LabeledPoint(1.0, Vectors.fromML(dv1ml))"
   ]
  },
  {
   "cell_type": "markdown",
   "metadata": {},
   "source": [
    "## 문제 S-1: RDD 데이터를 LabeledPoint로 변환하기\n",
    "\n",
    "### 문제\n",
    "\n",
    "머신러닝은 사람이 경험을 통해 배우는 것과 비슷하게 **과거 데이터로부터 학습**을 한다.\n",
    "학습이란 어렵게 생각할 필요 없이, 과거 데이터에서 수학적이나 알고리즘을 활용하여 어떤 패턴을 찾아내는 것이다.\n",
    "spark에서 제공한 **데이터 파일 ```data/mllib/sample_svm_data.txt```을 읽어서 훈련데이터**를 만들어 보자."
   ]
  },
  {
   "cell_type": "markdown",
   "metadata": {
    "slideshow": {
     "slide_type": "slide"
    }
   },
   "source": [
    "데이터를 읽어 보면, 맨 처음 값은 label에 해당하고, 다음은 일련의 수로 구성된다. 이로부터 **RDD**를 생성하고, ```label```, ```features```를 구성하여 ```Labeled Point```로 만든다.\n",
    "\n",
    "```python\n",
    "1 0 2.52078447201548 0 0 0 2.004684436494304 2.000347299268466 0 2.228387042742021 2.228387042742023 0 0 0 0 0 0\n",
    "...\n",
    "```"
   ]
  },
  {
   "cell_type": "markdown",
   "metadata": {
    "slideshow": {
     "slide_type": "subslide"
    }
   },
   "source": [
    "### Python으로 파일 읽기\n",
    "\n",
    "Spark를 다운로드하고 압축을 풀어 설치한 경우, 환경변수 ```SPARK_HOME```의 경로를 설정해 주고 해당 파일을 읽도록 한다. 파일을 읽을 때는, 가급적 이와 같이 설정경로를 사용해 입력오류를 줄이도록 하는 것이 좋다.\n",
    "다운로드 받지 않았다면, 아파치 github을 방문해서, https://github.com/apache/spark/ 아래 data/mllib 폴더로 가보면 해당 파일을 찾을 수 있다.\n",
    "\n",
    "입출력은 ```try except``` 구문으로 오류에 대비할 수 있다."
   ]
  },
  {
   "cell_type": "code",
   "execution_count": 49,
   "metadata": {},
   "outputs": [],
   "source": [
    "_fsvm=os.path.join(os.environ[\"SPARK_HOME\"],'data','mllib','sample_svm_data.txt')"
   ]
  },
  {
   "cell_type": "code",
   "execution_count": 50,
   "metadata": {},
   "outputs": [],
   "source": [
    "import os\n",
    "\n",
    "try:\n",
    "    _f=open(_fsvm,'r')\n",
    "    _lines=_f.readlines()\n",
    "    _f.close()\n",
    "except:\n",
    "    print(\"An exception occurred\")"
   ]
  },
  {
   "cell_type": "markdown",
   "metadata": {
    "slideshow": {
     "slide_type": "subslide"
    }
   },
   "source": [
    "파일로부터 데이터를 **```readlines()```** 함수로 모두 읽어 온다.\n",
    "첫 행을 읽으면 label, features로 구성되어 있다."
   ]
  },
  {
   "cell_type": "code",
   "execution_count": 51,
   "metadata": {},
   "outputs": [
    {
     "data": {
      "text/plain": [
       "'1 0 2.52078447201548 0 0 0 2.004684436494304 2.000347299268466 0 2.228387042742021 2.228387042742023 0 0 0 0 0 0\\n'"
      ]
     },
     "execution_count": 51,
     "metadata": {},
     "output_type": "execute_result"
    }
   ],
   "source": [
    "_lines[0]"
   ]
  },
  {
   "cell_type": "markdown",
   "metadata": {
    "slideshow": {
     "slide_type": "subslide"
    }
   },
   "source": [
    "### Spark에서 RDD 생성\n",
    "\n",
    "Spark는 파일을 Python을 통하지 않고, 직접 읽을 수 있다.\n",
    "원본 데이터 ```sample_svm_data.txt```는 공백으로 구분되어 있다.\n",
    "읽을 대상이 파일이므로, RDD를 사용한다. 각 행을 공백으로 분리하여 읽는다."
   ]
  },
  {
   "cell_type": "code",
   "execution_count": 52,
   "metadata": {},
   "outputs": [],
   "source": [
    "_rdd=spark.sparkContext.textFile(_fsvm)\\\n",
    "    .map(lambda line: [float(x) for x in line.split()])"
   ]
  },
  {
   "cell_type": "code",
   "execution_count": 61,
   "metadata": {},
   "outputs": [
    {
     "data": {
      "text/plain": [
       "[[1.0,\n",
       "  0.0,\n",
       "  2.52078447201548,\n",
       "  0.0,\n",
       "  0.0,\n",
       "  0.0,\n",
       "  2.004684436494304,\n",
       "  2.000347299268466,\n",
       "  0.0,\n",
       "  2.228387042742021,\n",
       "  2.228387042742023,\n",
       "  0.0,\n",
       "  0.0,\n",
       "  0.0,\n",
       "  0.0,\n",
       "  0.0,\n",
       "  0.0],\n",
       " [0.0,\n",
       "  2.857738033247042,\n",
       "  0.0,\n",
       "  0.0,\n",
       "  2.619965104088255,\n",
       "  0.0,\n",
       "  2.004684436494304,\n",
       "  2.000347299268466,\n",
       "  0.0,\n",
       "  2.228387042742021,\n",
       "  2.228387042742023,\n",
       "  0.0,\n",
       "  0.0,\n",
       "  0.0,\n",
       "  0.0,\n",
       "  0.0,\n",
       "  0.0],\n",
       " [0.0,\n",
       "  2.857738033247042,\n",
       "  0.0,\n",
       "  2.061393766919624,\n",
       "  0.0,\n",
       "  0.0,\n",
       "  2.004684436494304,\n",
       "  0.0,\n",
       "  0.0,\n",
       "  2.228387042742021,\n",
       "  2.228387042742023,\n",
       "  0.0,\n",
       "  0.0,\n",
       "  0.0,\n",
       "  0.0,\n",
       "  0.0,\n",
       "  0.0],\n",
       " [1.0,\n",
       "  0.0,\n",
       "  0.0,\n",
       "  2.061393766919624,\n",
       "  2.619965104088255,\n",
       "  0.0,\n",
       "  2.004684436494304,\n",
       "  2.000347299268466,\n",
       "  0.0,\n",
       "  0.0,\n",
       "  0.0,\n",
       "  0.0,\n",
       "  2.055002875864414,\n",
       "  0.0,\n",
       "  0.0,\n",
       "  0.0,\n",
       "  0.0],\n",
       " [1.0,\n",
       "  2.857738033247042,\n",
       "  0.0,\n",
       "  2.061393766919624,\n",
       "  2.619965104088255,\n",
       "  0.0,\n",
       "  2.004684436494304,\n",
       "  0.0,\n",
       "  0.0,\n",
       "  0.0,\n",
       "  0.0,\n",
       "  0.0,\n",
       "  2.055002875864414,\n",
       "  0.0,\n",
       "  0.0,\n",
       "  0.0,\n",
       "  0.0],\n",
       " [0.0,\n",
       "  2.857738033247042,\n",
       "  0.0,\n",
       "  2.061393766919624,\n",
       "  2.619965104088255,\n",
       "  0.0,\n",
       "  2.004684436494304,\n",
       "  2.000347299268466,\n",
       "  0.0,\n",
       "  2.228387042742021,\n",
       "  2.228387042742023,\n",
       "  0.0,\n",
       "  0.0,\n",
       "  0.0,\n",
       "  0.0,\n",
       "  0.0,\n",
       "  0.0],\n",
       " [1.0,\n",
       "  0.0,\n",
       "  0.0,\n",
       "  0.0,\n",
       "  2.619965104088255,\n",
       "  0.0,\n",
       "  2.004684436494304,\n",
       "  0.0,\n",
       "  0.0,\n",
       "  2.228387042742021,\n",
       "  2.228387042742023,\n",
       "  0.0,\n",
       "  2.055002875864414,\n",
       "  0.0,\n",
       "  0.0,\n",
       "  0.0,\n",
       "  0.0],\n",
       " [1.0,\n",
       "  0.0,\n",
       "  0.0,\n",
       "  0.0,\n",
       "  2.619965104088255,\n",
       "  0.0,\n",
       "  2.004684436494304,\n",
       "  0.0,\n",
       "  0.0,\n",
       "  2.228387042742021,\n",
       "  2.228387042742023,\n",
       "  0.0,\n",
       "  2.055002875864414,\n",
       "  0.0,\n",
       "  0.0,\n",
       "  0.0,\n",
       "  0.0],\n",
       " [0.0,\n",
       "  2.857738033247042,\n",
       "  0.0,\n",
       "  2.061393766919624,\n",
       "  2.619965104088255,\n",
       "  0.0,\n",
       "  2.004684436494304,\n",
       "  2.000347299268466,\n",
       "  2.122974378789621,\n",
       "  2.228387042742021,\n",
       "  2.228387042742023,\n",
       "  0.0,\n",
       "  0.0,\n",
       "  0.0,\n",
       "  0.0,\n",
       "  12.72816758217773,\n",
       "  0.0],\n",
       " [0.0,\n",
       "  2.857738033247042,\n",
       "  0.0,\n",
       "  0.0,\n",
       "  2.619965104088255,\n",
       "  0.0,\n",
       "  0.0,\n",
       "  0.0,\n",
       "  0.0,\n",
       "  2.228387042742021,\n",
       "  2.228387042742023,\n",
       "  0.0,\n",
       "  2.055002875864414,\n",
       "  0.0,\n",
       "  0.0,\n",
       "  0.0,\n",
       "  0.0],\n",
       " [1.0,\n",
       "  2.857738033247042,\n",
       "  0.0,\n",
       "  0.0,\n",
       "  2.619965104088255,\n",
       "  0.0,\n",
       "  0.0,\n",
       "  2.000347299268466,\n",
       "  0.0,\n",
       "  2.228387042742021,\n",
       "  2.228387042742023,\n",
       "  0.0,\n",
       "  0.0,\n",
       "  0.0,\n",
       "  0.0,\n",
       "  0.0,\n",
       "  0.0],\n",
       " [1.0,\n",
       "  2.857738033247042,\n",
       "  0.0,\n",
       "  0.0,\n",
       "  2.619965104088255,\n",
       "  0.0,\n",
       "  2.004684436494304,\n",
       "  2.000347299268466,\n",
       "  2.122974378789621,\n",
       "  0.0,\n",
       "  0.0,\n",
       "  0.0,\n",
       "  0.0,\n",
       "  0.0,\n",
       "  0.0,\n",
       "  0.0,\n",
       "  0.0],\n",
       " [1.0,\n",
       "  0.0,\n",
       "  0.0,\n",
       "  0.0,\n",
       "  0.0,\n",
       "  4.745052855503306,\n",
       "  2.004684436494304,\n",
       "  0.0,\n",
       "  2.122974378789621,\n",
       "  2.228387042742021,\n",
       "  2.228387042742023,\n",
       "  0.0,\n",
       "  0.0,\n",
       "  0.0,\n",
       "  0.0,\n",
       "  0.0,\n",
       "  0.0],\n",
       " [1.0,\n",
       "  2.857738033247042,\n",
       "  0.0,\n",
       "  0.0,\n",
       "  2.619965104088255,\n",
       "  0.0,\n",
       "  2.004684436494304,\n",
       "  0.0,\n",
       "  2.122974378789621,\n",
       "  2.228387042742021,\n",
       "  2.228387042742023,\n",
       "  0.0,\n",
       "  2.055002875864414,\n",
       "  0.0,\n",
       "  0.0,\n",
       "  0.0,\n",
       "  0.0],\n",
       " [0.0,\n",
       "  2.857738033247042,\n",
       "  0.0,\n",
       "  0.0,\n",
       "  2.619965104088255,\n",
       "  0.0,\n",
       "  0.0,\n",
       "  0.0,\n",
       "  0.0,\n",
       "  2.228387042742021,\n",
       "  2.228387042742023,\n",
       "  0.0,\n",
       "  2.055002875864414,\n",
       "  0.0,\n",
       "  0.0,\n",
       "  0.0,\n",
       "  0.0],\n",
       " [0.0,\n",
       "  0.0,\n",
       "  0.0,\n",
       "  2.061393766919624,\n",
       "  2.619965104088255,\n",
       "  0.0,\n",
       "  0.0,\n",
       "  0.0,\n",
       "  2.122974378789621,\n",
       "  2.228387042742021,\n",
       "  2.228387042742023,\n",
       "  0.0,\n",
       "  0.0,\n",
       "  0.0,\n",
       "  0.0,\n",
       "  0.0,\n",
       "  0.0],\n",
       " [0.0,\n",
       "  2.857738033247042,\n",
       "  0.0,\n",
       "  0.0,\n",
       "  0.0,\n",
       "  0.0,\n",
       "  2.004684436494304,\n",
       "  0.0,\n",
       "  2.122974378789621,\n",
       "  2.228387042742021,\n",
       "  2.228387042742023,\n",
       "  0.0,\n",
       "  0.0,\n",
       "  0.0,\n",
       "  0.0,\n",
       "  0.0,\n",
       "  0.0],\n",
       " [0.0,\n",
       "  2.857738033247042,\n",
       "  0.0,\n",
       "  0.0,\n",
       "  2.619965104088255,\n",
       "  0.0,\n",
       "  0.0,\n",
       "  2.000347299268466,\n",
       "  0.0,\n",
       "  2.228387042742021,\n",
       "  2.228387042742023,\n",
       "  0.0,\n",
       "  2.055002875864414,\n",
       "  0.0,\n",
       "  0.0,\n",
       "  0.0,\n",
       "  0.0],\n",
       " [0.0,\n",
       "  2.857738033247042,\n",
       "  0.0,\n",
       "  0.0,\n",
       "  2.619965104088255,\n",
       "  0.0,\n",
       "  2.004684436494304,\n",
       "  0.0,\n",
       "  0.0,\n",
       "  2.228387042742021,\n",
       "  2.228387042742023,\n",
       "  0.0,\n",
       "  2.055002875864414,\n",
       "  0.0,\n",
       "  0.0,\n",
       "  0.0,\n",
       "  0.0],\n",
       " [1.0,\n",
       "  2.857738033247042,\n",
       "  0.0,\n",
       "  0.0,\n",
       "  2.619965104088255,\n",
       "  0.0,\n",
       "  0.0,\n",
       "  2.000347299268466,\n",
       "  0.0,\n",
       "  2.228387042742021,\n",
       "  2.228387042742023,\n",
       "  0.0,\n",
       "  0.0,\n",
       "  0.0,\n",
       "  0.0,\n",
       "  0.0,\n",
       "  0.0],\n",
       " [0.0,\n",
       "  2.857738033247042,\n",
       "  0.0,\n",
       "  0.0,\n",
       "  2.619965104088255,\n",
       "  0.0,\n",
       "  2.004684436494304,\n",
       "  2.000347299268466,\n",
       "  0.0,\n",
       "  2.228387042742021,\n",
       "  2.228387042742023,\n",
       "  0.0,\n",
       "  0.0,\n",
       "  0.0,\n",
       "  0.0,\n",
       "  0.0,\n",
       "  0.0],\n",
       " [0.0,\n",
       "  2.857738033247042,\n",
       "  0.0,\n",
       "  0.0,\n",
       "  0.0,\n",
       "  0.0,\n",
       "  2.004684436494304,\n",
       "  0.0,\n",
       "  0.0,\n",
       "  2.228387042742021,\n",
       "  2.228387042742023,\n",
       "  0.0,\n",
       "  2.055002875864414,\n",
       "  0.0,\n",
       "  0.0,\n",
       "  0.0,\n",
       "  0.0],\n",
       " [0.0,\n",
       "  2.857738033247042,\n",
       "  0.0,\n",
       "  0.0,\n",
       "  2.619965104088255,\n",
       "  0.0,\n",
       "  2.004684436494304,\n",
       "  2.000347299268466,\n",
       "  2.122974378789621,\n",
       "  2.228387042742021,\n",
       "  2.228387042742023,\n",
       "  0.0,\n",
       "  0.0,\n",
       "  0.0,\n",
       "  0.0,\n",
       "  0.0,\n",
       "  0.0],\n",
       " [1.0,\n",
       "  2.857738033247042,\n",
       "  0.0,\n",
       "  2.061393766919624,\n",
       "  2.619965104088255,\n",
       "  0.0,\n",
       "  0.0,\n",
       "  0.0,\n",
       "  0.0,\n",
       "  2.228387042742021,\n",
       "  2.228387042742023,\n",
       "  0.0,\n",
       "  2.055002875864414,\n",
       "  0.0,\n",
       "  0.0,\n",
       "  0.0,\n",
       "  0.0],\n",
       " [1.0,\n",
       "  2.857738033247042,\n",
       "  0.0,\n",
       "  0.0,\n",
       "  2.619965104088255,\n",
       "  0.0,\n",
       "  2.004684436494304,\n",
       "  2.000347299268466,\n",
       "  0.0,\n",
       "  2.228387042742021,\n",
       "  2.228387042742023,\n",
       "  0.0,\n",
       "  0.0,\n",
       "  0.0,\n",
       "  0.0,\n",
       "  0.0,\n",
       "  0.0],\n",
       " [1.0,\n",
       "  2.857738033247042,\n",
       "  0.0,\n",
       "  2.061393766919624,\n",
       "  2.619965104088255,\n",
       "  0.0,\n",
       "  2.004684436494304,\n",
       "  2.000347299268466,\n",
       "  2.122974378789621,\n",
       "  2.228387042742021,\n",
       "  2.228387042742023,\n",
       "  0.0,\n",
       "  0.0,\n",
       "  0.0,\n",
       "  0.0,\n",
       "  0.0,\n",
       "  0.0],\n",
       " [0.0,\n",
       "  2.857738033247042,\n",
       "  0.0,\n",
       "  2.061393766919624,\n",
       "  2.619965104088255,\n",
       "  0.0,\n",
       "  0.0,\n",
       "  2.000347299268466,\n",
       "  2.122974378789621,\n",
       "  2.228387042742021,\n",
       "  2.228387042742023,\n",
       "  0.0,\n",
       "  0.0,\n",
       "  0.0,\n",
       "  0.0,\n",
       "  0.0,\n",
       "  0.0],\n",
       " [1.0,\n",
       "  2.857738033247042,\n",
       "  0.0,\n",
       "  2.061393766919624,\n",
       "  2.619965104088255,\n",
       "  0.0,\n",
       "  2.004684436494304,\n",
       "  2.000347299268466,\n",
       "  0.0,\n",
       "  0.0,\n",
       "  0.0,\n",
       "  0.0,\n",
       "  0.0,\n",
       "  0.0,\n",
       "  0.0,\n",
       "  0.0,\n",
       "  0.0],\n",
       " [0.0,\n",
       "  2.857738033247042,\n",
       "  0.0,\n",
       "  0.0,\n",
       "  2.619965104088255,\n",
       "  0.0,\n",
       "  2.004684436494304,\n",
       "  0.0,\n",
       "  0.0,\n",
       "  2.228387042742021,\n",
       "  2.228387042742023,\n",
       "  0.0,\n",
       "  0.0,\n",
       "  0.0,\n",
       "  0.0,\n",
       "  0.0,\n",
       "  0.0],\n",
       " [1.0,\n",
       "  2.857738033247042,\n",
       "  0.0,\n",
       "  0.0,\n",
       "  2.619965104088255,\n",
       "  0.0,\n",
       "  2.004684436494304,\n",
       "  2.000347299268466,\n",
       "  0.0,\n",
       "  0.0,\n",
       "  0.0,\n",
       "  0.0,\n",
       "  2.055002875864414,\n",
       "  0.0,\n",
       "  0.0,\n",
       "  0.0,\n",
       "  0.0],\n",
       " [1.0,\n",
       "  2.857738033247042,\n",
       "  2.52078447201548,\n",
       "  0.0,\n",
       "  2.619965104088255,\n",
       "  0.0,\n",
       "  2.004684436494304,\n",
       "  2.000347299268466,\n",
       "  0.0,\n",
       "  2.228387042742021,\n",
       "  2.228387042742023,\n",
       "  0.0,\n",
       "  0.0,\n",
       "  0.0,\n",
       "  0.0,\n",
       "  0.0,\n",
       "  0.0],\n",
       " [0.0,\n",
       "  0.0,\n",
       "  0.0,\n",
       "  0.0,\n",
       "  2.619965104088255,\n",
       "  0.0,\n",
       "  0.0,\n",
       "  2.000347299268466,\n",
       "  0.0,\n",
       "  2.228387042742021,\n",
       "  2.228387042742023,\n",
       "  0.0,\n",
       "  2.055002875864414,\n",
       "  0.0,\n",
       "  0.0,\n",
       "  0.0,\n",
       "  0.0],\n",
       " [1.0,\n",
       "  2.857738033247042,\n",
       "  0.0,\n",
       "  2.061393766919624,\n",
       "  2.619965104088255,\n",
       "  0.0,\n",
       "  0.0,\n",
       "  0.0,\n",
       "  0.0,\n",
       "  2.228387042742021,\n",
       "  2.228387042742023,\n",
       "  0.0,\n",
       "  2.055002875864414,\n",
       "  0.0,\n",
       "  0.0,\n",
       "  0.0,\n",
       "  0.0],\n",
       " [0.0,\n",
       "  2.857738033247042,\n",
       "  0.0,\n",
       "  0.0,\n",
       "  2.619965104088255,\n",
       "  0.0,\n",
       "  2.004684436494304,\n",
       "  0.0,\n",
       "  2.122974378789621,\n",
       "  0.0,\n",
       "  0.0,\n",
       "  0.0,\n",
       "  2.055002875864414,\n",
       "  0.0,\n",
       "  0.0,\n",
       "  0.0,\n",
       "  0.0],\n",
       " [1.0,\n",
       "  2.857738033247042,\n",
       "  2.52078447201548,\n",
       "  2.061393766919624,\n",
       "  2.619965104088255,\n",
       "  0.0,\n",
       "  0.0,\n",
       "  0.0,\n",
       "  0.0,\n",
       "  2.228387042742021,\n",
       "  2.228387042742023,\n",
       "  0.0,\n",
       "  0.0,\n",
       "  0.0,\n",
       "  0.0,\n",
       "  0.0,\n",
       "  0.0],\n",
       " [0.0,\n",
       "  2.857738033247042,\n",
       "  2.52078447201548,\n",
       "  0.0,\n",
       "  2.619965104088255,\n",
       "  0.0,\n",
       "  0.0,\n",
       "  0.0,\n",
       "  0.0,\n",
       "  2.228387042742021,\n",
       "  2.228387042742023,\n",
       "  0.0,\n",
       "  0.0,\n",
       "  0.0,\n",
       "  0.0,\n",
       "  0.0,\n",
       "  0.0],\n",
       " [1.0,\n",
       "  0.0,\n",
       "  0.0,\n",
       "  2.061393766919624,\n",
       "  2.619965104088255,\n",
       "  0.0,\n",
       "  2.004684436494304,\n",
       "  0.0,\n",
       "  0.0,\n",
       "  2.228387042742021,\n",
       "  2.228387042742023,\n",
       "  0.0,\n",
       "  0.0,\n",
       "  0.0,\n",
       "  0.0,\n",
       "  0.0,\n",
       "  0.0],\n",
       " [1.0,\n",
       "  2.857738033247042,\n",
       "  0.0,\n",
       "  2.061393766919624,\n",
       "  0.0,\n",
       "  0.0,\n",
       "  2.004684436494304,\n",
       "  2.000347299268466,\n",
       "  0.0,\n",
       "  2.228387042742021,\n",
       "  2.228387042742023,\n",
       "  0.0,\n",
       "  2.055002875864414,\n",
       "  0.0,\n",
       "  0.0,\n",
       "  0.0,\n",
       "  0.0],\n",
       " [1.0,\n",
       "  0.0,\n",
       "  0.0,\n",
       "  0.0,\n",
       "  2.619965104088255,\n",
       "  0.0,\n",
       "  2.004684436494304,\n",
       "  0.0,\n",
       "  2.122974378789621,\n",
       "  2.228387042742021,\n",
       "  2.228387042742023,\n",
       "  0.0,\n",
       "  0.0,\n",
       "  0.0,\n",
       "  0.0,\n",
       "  0.0,\n",
       "  0.0],\n",
       " [0.0,\n",
       "  2.857738033247042,\n",
       "  0.0,\n",
       "  0.0,\n",
       "  2.619965104088255,\n",
       "  0.0,\n",
       "  2.004684436494304,\n",
       "  2.000347299268466,\n",
       "  0.0,\n",
       "  2.228387042742021,\n",
       "  2.228387042742023,\n",
       "  0.0,\n",
       "  2.055002875864414,\n",
       "  0.0,\n",
       "  0.0,\n",
       "  0.0,\n",
       "  0.0],\n",
       " [1.0,\n",
       "  2.857738033247042,\n",
       "  0.0,\n",
       "  0.0,\n",
       "  2.619965104088255,\n",
       "  0.0,\n",
       "  0.0,\n",
       "  2.000347299268466,\n",
       "  0.0,\n",
       "  2.228387042742021,\n",
       "  2.228387042742023,\n",
       "  0.0,\n",
       "  0.0,\n",
       "  0.0,\n",
       "  0.0,\n",
       "  0.0,\n",
       "  0.0],\n",
       " [0.0,\n",
       "  2.857738033247042,\n",
       "  0.0,\n",
       "  0.0,\n",
       "  2.619965104088255,\n",
       "  0.0,\n",
       "  2.004684436494304,\n",
       "  0.0,\n",
       "  2.122974378789621,\n",
       "  2.228387042742021,\n",
       "  2.228387042742023,\n",
       "  0.0,\n",
       "  0.0,\n",
       "  0.0,\n",
       "  0.0,\n",
       "  0.0,\n",
       "  0.0],\n",
       " [0.0,\n",
       "  2.857738033247042,\n",
       "  0.0,\n",
       "  0.0,\n",
       "  2.619965104088255,\n",
       "  0.0,\n",
       "  2.004684436494304,\n",
       "  2.000347299268466,\n",
       "  0.0,\n",
       "  2.228387042742021,\n",
       "  2.228387042742023,\n",
       "  0.0,\n",
       "  2.055002875864414,\n",
       "  0.0,\n",
       "  0.0,\n",
       "  0.0,\n",
       "  0.0],\n",
       " [1.0,\n",
       "  2.857738033247042,\n",
       "  2.52078447201548,\n",
       "  0.0,\n",
       "  2.619965104088255,\n",
       "  0.0,\n",
       "  2.004684436494304,\n",
       "  2.000347299268466,\n",
       "  0.0,\n",
       "  0.0,\n",
       "  0.0,\n",
       "  0.0,\n",
       "  0.0,\n",
       "  0.0,\n",
       "  0.0,\n",
       "  0.0,\n",
       "  0.0],\n",
       " [1.0,\n",
       "  0.0,\n",
       "  0.0,\n",
       "  0.0,\n",
       "  2.619965104088255,\n",
       "  0.0,\n",
       "  2.004684436494304,\n",
       "  0.0,\n",
       "  0.0,\n",
       "  2.228387042742021,\n",
       "  2.228387042742023,\n",
       "  0.0,\n",
       "  2.055002875864414,\n",
       "  0.0,\n",
       "  0.0,\n",
       "  0.0,\n",
       "  0.0],\n",
       " [0.0,\n",
       "  2.857738033247042,\n",
       "  0.0,\n",
       "  0.0,\n",
       "  2.619965104088255,\n",
       "  0.0,\n",
       "  2.004684436494304,\n",
       "  2.000347299268466,\n",
       "  0.0,\n",
       "  0.0,\n",
       "  0.0,\n",
       "  0.0,\n",
       "  2.055002875864414,\n",
       "  0.0,\n",
       "  0.0,\n",
       "  0.0,\n",
       "  0.0],\n",
       " [1.0,\n",
       "  2.857738033247042,\n",
       "  0.0,\n",
       "  2.061393766919624,\n",
       "  2.619965104088255,\n",
       "  0.0,\n",
       "  2.004684436494304,\n",
       "  2.000347299268466,\n",
       "  0.0,\n",
       "  0.0,\n",
       "  0.0,\n",
       "  0.0,\n",
       "  2.055002875864414,\n",
       "  0.0,\n",
       "  0.0,\n",
       "  0.0,\n",
       "  0.0],\n",
       " [0.0,\n",
       "  2.857738033247042,\n",
       "  2.52078447201548,\n",
       "  0.0,\n",
       "  0.0,\n",
       "  0.0,\n",
       "  2.004684436494304,\n",
       "  0.0,\n",
       "  2.122974378789621,\n",
       "  0.0,\n",
       "  0.0,\n",
       "  0.0,\n",
       "  2.055002875864414,\n",
       "  0.0,\n",
       "  0.0,\n",
       "  0.0,\n",
       "  0.0],\n",
       " [1.0,\n",
       "  2.857738033247042,\n",
       "  0.0,\n",
       "  0.0,\n",
       "  2.619965104088255,\n",
       "  0.0,\n",
       "  2.004684436494304,\n",
       "  2.000347299268466,\n",
       "  2.122974378789621,\n",
       "  2.228387042742021,\n",
       "  2.228387042742023,\n",
       "  6.857275130999357,\n",
       "  2.055002875864414,\n",
       "  0.0,\n",
       "  0.0,\n",
       "  0.0,\n",
       "  0.0],\n",
       " [1.0,\n",
       "  2.857738033247042,\n",
       "  0.0,\n",
       "  2.061393766919624,\n",
       "  2.619965104088255,\n",
       "  0.0,\n",
       "  0.0,\n",
       "  2.000347299268466,\n",
       "  0.0,\n",
       "  0.0,\n",
       "  0.0,\n",
       "  0.0,\n",
       "  2.055002875864414,\n",
       "  0.0,\n",
       "  0.0,\n",
       "  0.0,\n",
       "  0.0],\n",
       " [0.0,\n",
       "  2.857738033247042,\n",
       "  0.0,\n",
       "  2.061393766919624,\n",
       "  0.0,\n",
       "  0.0,\n",
       "  0.0,\n",
       "  2.000347299268466,\n",
       "  0.0,\n",
       "  2.228387042742021,\n",
       "  2.228387042742023,\n",
       "  0.0,\n",
       "  0.0,\n",
       "  0.0,\n",
       "  0.0,\n",
       "  0.0,\n",
       "  0.0],\n",
       " [0.0,\n",
       "  2.857738033247042,\n",
       "  0.0,\n",
       "  0.0,\n",
       "  2.619965104088255,\n",
       "  0.0,\n",
       "  0.0,\n",
       "  0.0,\n",
       "  0.0,\n",
       "  2.228387042742021,\n",
       "  2.228387042742023,\n",
       "  0.0,\n",
       "  2.055002875864414,\n",
       "  0.0,\n",
       "  0.0,\n",
       "  0.0,\n",
       "  0.0],\n",
       " [0.0,\n",
       "  0.0,\n",
       "  0.0,\n",
       "  0.0,\n",
       "  2.619965104088255,\n",
       "  0.0,\n",
       "  2.004684436494304,\n",
       "  2.000347299268466,\n",
       "  2.122974378789621,\n",
       "  0.0,\n",
       "  0.0,\n",
       "  0.0,\n",
       "  0.0,\n",
       "  0.0,\n",
       "  10.4087817597473,\n",
       "  0.0,\n",
       "  0.0],\n",
       " [1.0,\n",
       "  2.857738033247042,\n",
       "  0.0,\n",
       "  0.0,\n",
       "  2.619965104088255,\n",
       "  0.0,\n",
       "  2.004684436494304,\n",
       "  2.000347299268466,\n",
       "  2.122974378789621,\n",
       "  2.228387042742021,\n",
       "  2.228387042742023,\n",
       "  0.0,\n",
       "  0.0,\n",
       "  0.0,\n",
       "  0.0,\n",
       "  0.0,\n",
       "  0.0],\n",
       " [1.0,\n",
       "  2.857738033247042,\n",
       "  0.0,\n",
       "  0.0,\n",
       "  2.619965104088255,\n",
       "  0.0,\n",
       "  0.0,\n",
       "  2.000347299268466,\n",
       "  0.0,\n",
       "  2.228387042742021,\n",
       "  2.228387042742023,\n",
       "  0.0,\n",
       "  0.0,\n",
       "  0.0,\n",
       "  0.0,\n",
       "  0.0,\n",
       "  0.0],\n",
       " [0.0,\n",
       "  2.857738033247042,\n",
       "  2.52078447201548,\n",
       "  0.0,\n",
       "  2.619965104088255,\n",
       "  0.0,\n",
       "  0.0,\n",
       "  0.0,\n",
       "  0.0,\n",
       "  2.228387042742021,\n",
       "  2.228387042742023,\n",
       "  0.0,\n",
       "  0.0,\n",
       "  0.0,\n",
       "  0.0,\n",
       "  0.0,\n",
       "  0.0],\n",
       " [0.0,\n",
       "  2.857738033247042,\n",
       "  0.0,\n",
       "  0.0,\n",
       "  2.619965104088255,\n",
       "  0.0,\n",
       "  2.004684436494304,\n",
       "  2.000347299268466,\n",
       "  0.0,\n",
       "  2.228387042742021,\n",
       "  2.228387042742023,\n",
       "  0.0,\n",
       "  0.0,\n",
       "  0.0,\n",
       "  0.0,\n",
       "  0.0,\n",
       "  0.0],\n",
       " [0.0,\n",
       "  2.857738033247042,\n",
       "  0.0,\n",
       "  0.0,\n",
       "  2.619965104088255,\n",
       "  0.0,\n",
       "  2.004684436494304,\n",
       "  0.0,\n",
       "  0.0,\n",
       "  2.228387042742021,\n",
       "  2.228387042742023,\n",
       "  0.0,\n",
       "  2.055002875864414,\n",
       "  0.0,\n",
       "  0.0,\n",
       "  0.0,\n",
       "  0.0],\n",
       " [1.0,\n",
       "  2.857738033247042,\n",
       "  0.0,\n",
       "  2.061393766919624,\n",
       "  2.619965104088255,\n",
       "  0.0,\n",
       "  0.0,\n",
       "  0.0,\n",
       "  2.122974378789621,\n",
       "  0.0,\n",
       "  0.0,\n",
       "  0.0,\n",
       "  2.055002875864414,\n",
       "  0.0,\n",
       "  0.0,\n",
       "  0.0,\n",
       "  0.0],\n",
       " [1.0,\n",
       "  2.857738033247042,\n",
       "  2.52078447201548,\n",
       "  2.061393766919624,\n",
       "  2.619965104088255,\n",
       "  0.0,\n",
       "  2.004684436494304,\n",
       "  0.0,\n",
       "  0.0,\n",
       "  0.0,\n",
       "  0.0,\n",
       "  0.0,\n",
       "  0.0,\n",
       "  0.0,\n",
       "  0.0,\n",
       "  0.0,\n",
       "  0.0],\n",
       " [0.0,\n",
       "  2.857738033247042,\n",
       "  0.0,\n",
       "  0.0,\n",
       "  2.619965104088255,\n",
       "  0.0,\n",
       "  0.0,\n",
       "  0.0,\n",
       "  0.0,\n",
       "  2.228387042742021,\n",
       "  2.228387042742023,\n",
       "  0.0,\n",
       "  2.055002875864414,\n",
       "  0.0,\n",
       "  0.0,\n",
       "  0.0,\n",
       "  0.0],\n",
       " [0.0,\n",
       "  2.857738033247042,\n",
       "  0.0,\n",
       "  0.0,\n",
       "  2.619965104088255,\n",
       "  0.0,\n",
       "  2.004684436494304,\n",
       "  2.000347299268466,\n",
       "  0.0,\n",
       "  2.228387042742021,\n",
       "  2.228387042742023,\n",
       "  0.0,\n",
       "  2.055002875864414,\n",
       "  0.0,\n",
       "  0.0,\n",
       "  0.0,\n",
       "  0.0],\n",
       " [1.0,\n",
       "  2.857738033247042,\n",
       "  0.0,\n",
       "  2.061393766919624,\n",
       "  2.619965104088255,\n",
       "  0.0,\n",
       "  0.0,\n",
       "  2.000347299268466,\n",
       "  0.0,\n",
       "  2.228387042742021,\n",
       "  2.228387042742023,\n",
       "  0.0,\n",
       "  2.055002875864414,\n",
       "  0.0,\n",
       "  0.0,\n",
       "  0.0,\n",
       "  0.0],\n",
       " [1.0,\n",
       "  2.857738033247042,\n",
       "  0.0,\n",
       "  2.061393766919624,\n",
       "  2.619965104088255,\n",
       "  0.0,\n",
       "  0.0,\n",
       "  2.000347299268466,\n",
       "  0.0,\n",
       "  2.228387042742021,\n",
       "  2.228387042742023,\n",
       "  0.0,\n",
       "  2.055002875864414,\n",
       "  0.0,\n",
       "  0.0,\n",
       "  0.0,\n",
       "  0.0],\n",
       " [1.0,\n",
       "  2.857738033247042,\n",
       "  0.0,\n",
       "  0.0,\n",
       "  2.619965104088255,\n",
       "  0.0,\n",
       "  0.0,\n",
       "  2.000347299268466,\n",
       "  0.0,\n",
       "  2.228387042742021,\n",
       "  2.228387042742023,\n",
       "  0.0,\n",
       "  0.0,\n",
       "  0.0,\n",
       "  0.0,\n",
       "  0.0,\n",
       "  0.0],\n",
       " [0.0,\n",
       "  2.857738033247042,\n",
       "  0.0,\n",
       "  2.061393766919624,\n",
       "  2.619965104088255,\n",
       "  0.0,\n",
       "  2.004684436494304,\n",
       "  0.0,\n",
       "  0.0,\n",
       "  2.228387042742021,\n",
       "  2.228387042742023,\n",
       "  0.0,\n",
       "  2.055002875864414,\n",
       "  0.0,\n",
       "  0.0,\n",
       "  0.0,\n",
       "  0.0],\n",
       " [0.0,\n",
       "  0.0,\n",
       "  0.0,\n",
       "  2.061393766919624,\n",
       "  0.0,\n",
       "  0.0,\n",
       "  0.0,\n",
       "  2.000347299268466,\n",
       "  0.0,\n",
       "  2.228387042742021,\n",
       "  2.228387042742023,\n",
       "  0.0,\n",
       "  2.055002875864414,\n",
       "  0.0,\n",
       "  0.0,\n",
       "  0.0,\n",
       "  0.0],\n",
       " [0.0,\n",
       "  2.857738033247042,\n",
       "  2.52078447201548,\n",
       "  0.0,\n",
       "  2.619965104088255,\n",
       "  0.0,\n",
       "  0.0,\n",
       "  0.0,\n",
       "  0.0,\n",
       "  2.228387042742021,\n",
       "  2.228387042742023,\n",
       "  0.0,\n",
       "  0.0,\n",
       "  0.0,\n",
       "  0.0,\n",
       "  0.0,\n",
       "  0.0],\n",
       " [1.0,\n",
       "  2.857738033247042,\n",
       "  0.0,\n",
       "  2.061393766919624,\n",
       "  0.0,\n",
       "  0.0,\n",
       "  2.004684436494304,\n",
       "  0.0,\n",
       "  0.0,\n",
       "  2.228387042742021,\n",
       "  2.228387042742023,\n",
       "  0.0,\n",
       "  0.0,\n",
       "  0.0,\n",
       "  0.0,\n",
       "  0.0,\n",
       "  0.0],\n",
       " [1.0,\n",
       "  2.857738033247042,\n",
       "  0.0,\n",
       "  2.061393766919624,\n",
       "  2.619965104088255,\n",
       "  0.0,\n",
       "  2.004684436494304,\n",
       "  2.000347299268466,\n",
       "  2.122974378789621,\n",
       "  2.228387042742021,\n",
       "  2.228387042742023,\n",
       "  0.0,\n",
       "  0.0,\n",
       "  12.72816758217773,\n",
       "  0.0,\n",
       "  0.0,\n",
       "  0.0],\n",
       " [0.0,\n",
       "  2.857738033247042,\n",
       "  0.0,\n",
       "  2.061393766919624,\n",
       "  2.619965104088255,\n",
       "  0.0,\n",
       "  2.004684436494304,\n",
       "  0.0,\n",
       "  0.0,\n",
       "  0.0,\n",
       "  0.0,\n",
       "  0.0,\n",
       "  2.055002875864414,\n",
       "  0.0,\n",
       "  0.0,\n",
       "  0.0,\n",
       "  0.0],\n",
       " [0.0,\n",
       "  2.857738033247042,\n",
       "  0.0,\n",
       "  2.061393766919624,\n",
       "  0.0,\n",
       "  0.0,\n",
       "  0.0,\n",
       "  2.000347299268466,\n",
       "  0.0,\n",
       "  2.228387042742021,\n",
       "  2.228387042742023,\n",
       "  0.0,\n",
       "  0.0,\n",
       "  0.0,\n",
       "  0.0,\n",
       "  0.0,\n",
       "  0.0],\n",
       " [0.0,\n",
       "  2.857738033247042,\n",
       "  0.0,\n",
       "  0.0,\n",
       "  2.619965104088255,\n",
       "  4.745052855503306,\n",
       "  0.0,\n",
       "  2.000347299268466,\n",
       "  0.0,\n",
       "  0.0,\n",
       "  0.0,\n",
       "  0.0,\n",
       "  2.055002875864414,\n",
       "  0.0,\n",
       "  0.0,\n",
       "  0.0,\n",
       "  0.0],\n",
       " [0.0,\n",
       "  2.857738033247042,\n",
       "  0.0,\n",
       "  2.061393766919624,\n",
       "  2.619965104088255,\n",
       "  0.0,\n",
       "  0.0,\n",
       "  2.000347299268466,\n",
       "  0.0,\n",
       "  2.228387042742021,\n",
       "  2.228387042742023,\n",
       "  0.0,\n",
       "  2.055002875864414,\n",
       "  0.0,\n",
       "  0.0,\n",
       "  0.0,\n",
       "  0.0],\n",
       " [1.0,\n",
       "  2.857738033247042,\n",
       "  0.0,\n",
       "  0.0,\n",
       "  2.619965104088255,\n",
       "  0.0,\n",
       "  2.004684436494304,\n",
       "  0.0,\n",
       "  0.0,\n",
       "  2.228387042742021,\n",
       "  2.228387042742023,\n",
       "  0.0,\n",
       "  0.0,\n",
       "  0.0,\n",
       "  0.0,\n",
       "  0.0,\n",
       "  0.0],\n",
       " [1.0,\n",
       "  2.857738033247042,\n",
       "  0.0,\n",
       "  0.0,\n",
       "  2.619965104088255,\n",
       "  0.0,\n",
       "  2.004684436494304,\n",
       "  2.000347299268466,\n",
       "  0.0,\n",
       "  2.228387042742021,\n",
       "  2.228387042742023,\n",
       "  0.0,\n",
       "  0.0,\n",
       "  0.0,\n",
       "  0.0,\n",
       "  0.0,\n",
       "  0.0],\n",
       " [1.0,\n",
       "  0.0,\n",
       "  2.52078447201548,\n",
       "  2.061393766919624,\n",
       "  2.619965104088255,\n",
       "  0.0,\n",
       "  2.004684436494304,\n",
       "  2.000347299268466,\n",
       "  0.0,\n",
       "  0.0,\n",
       "  0.0,\n",
       "  0.0,\n",
       "  0.0,\n",
       "  0.0,\n",
       "  0.0,\n",
       "  0.0,\n",
       "  0.0],\n",
       " [1.0,\n",
       "  2.857738033247042,\n",
       "  0.0,\n",
       "  0.0,\n",
       "  2.619965104088255,\n",
       "  0.0,\n",
       "  2.004684436494304,\n",
       "  2.000347299268466,\n",
       "  0.0,\n",
       "  0.0,\n",
       "  0.0,\n",
       "  0.0,\n",
       "  2.055002875864414,\n",
       "  0.0,\n",
       "  0.0,\n",
       "  0.0,\n",
       "  0.0],\n",
       " [1.0,\n",
       "  0.0,\n",
       "  0.0,\n",
       "  2.061393766919624,\n",
       "  2.619965104088255,\n",
       "  0.0,\n",
       "  2.004684436494304,\n",
       "  0.0,\n",
       "  0.0,\n",
       "  2.228387042742021,\n",
       "  2.228387042742023,\n",
       "  0.0,\n",
       "  0.0,\n",
       "  0.0,\n",
       "  0.0,\n",
       "  0.0,\n",
       "  0.0],\n",
       " [0.0,\n",
       "  2.857738033247042,\n",
       "  0.0,\n",
       "  0.0,\n",
       "  2.619965104088255,\n",
       "  0.0,\n",
       "  0.0,\n",
       "  0.0,\n",
       "  0.0,\n",
       "  2.228387042742021,\n",
       "  2.228387042742023,\n",
       "  0.0,\n",
       "  2.055002875864414,\n",
       "  0.0,\n",
       "  0.0,\n",
       "  0.0,\n",
       "  0.0],\n",
       " [1.0,\n",
       "  2.857738033247042,\n",
       "  2.52078447201548,\n",
       "  0.0,\n",
       "  2.619965104088255,\n",
       "  0.0,\n",
       "  2.004684436494304,\n",
       "  0.0,\n",
       "  0.0,\n",
       "  2.228387042742021,\n",
       "  2.228387042742023,\n",
       "  0.0,\n",
       "  0.0,\n",
       "  0.0,\n",
       "  0.0,\n",
       "  0.0,\n",
       "  0.0],\n",
       " [0.0,\n",
       "  2.857738033247042,\n",
       "  0.0,\n",
       "  0.0,\n",
       "  2.619965104088255,\n",
       "  0.0,\n",
       "  2.004684436494304,\n",
       "  2.000347299268466,\n",
       "  0.0,\n",
       "  2.228387042742021,\n",
       "  2.228387042742023,\n",
       "  0.0,\n",
       "  0.0,\n",
       "  0.0,\n",
       "  0.0,\n",
       "  0.0,\n",
       "  0.0],\n",
       " [1.0,\n",
       "  2.857738033247042,\n",
       "  0.0,\n",
       "  0.0,\n",
       "  2.619965104088255,\n",
       "  0.0,\n",
       "  0.0,\n",
       "  0.0,\n",
       "  0.0,\n",
       "  2.228387042742021,\n",
       "  2.228387042742023,\n",
       "  0.0,\n",
       "  2.055002875864414,\n",
       "  0.0,\n",
       "  0.0,\n",
       "  0.0,\n",
       "  0.0],\n",
       " [1.0,\n",
       "  2.857738033247042,\n",
       "  0.0,\n",
       "  2.061393766919624,\n",
       "  0.0,\n",
       "  0.0,\n",
       "  0.0,\n",
       "  0.0,\n",
       "  2.122974378789621,\n",
       "  2.228387042742021,\n",
       "  2.228387042742023,\n",
       "  0.0,\n",
       "  0.0,\n",
       "  0.0,\n",
       "  0.0,\n",
       "  0.0,\n",
       "  0.0],\n",
       " [1.0,\n",
       "  2.857738033247042,\n",
       "  0.0,\n",
       "  0.0,\n",
       "  2.619965104088255,\n",
       "  0.0,\n",
       "  0.0,\n",
       "  2.000347299268466,\n",
       "  0.0,\n",
       "  2.228387042742021,\n",
       "  2.228387042742023,\n",
       "  0.0,\n",
       "  0.0,\n",
       "  0.0,\n",
       "  0.0,\n",
       "  0.0,\n",
       "  0.0],\n",
       " [0.0,\n",
       "  2.857738033247042,\n",
       "  0.0,\n",
       "  0.0,\n",
       "  0.0,\n",
       "  0.0,\n",
       "  2.004684436494304,\n",
       "  2.000347299268466,\n",
       "  0.0,\n",
       "  2.228387042742021,\n",
       "  2.228387042742023,\n",
       "  0.0,\n",
       "  0.0,\n",
       "  0.0,\n",
       "  0.0,\n",
       "  0.0,\n",
       "  0.0],\n",
       " [1.0,\n",
       "  2.857738033247042,\n",
       "  0.0,\n",
       "  0.0,\n",
       "  2.619965104088255,\n",
       "  0.0,\n",
       "  0.0,\n",
       "  2.000347299268466,\n",
       "  2.122974378789621,\n",
       "  2.228387042742021,\n",
       "  2.228387042742023,\n",
       "  0.0,\n",
       "  0.0,\n",
       "  0.0,\n",
       "  0.0,\n",
       "  0.0,\n",
       "  0.0],\n",
       " [1.0,\n",
       "  2.857738033247042,\n",
       "  0.0,\n",
       "  0.0,\n",
       "  2.619965104088255,\n",
       "  0.0,\n",
       "  2.004684436494304,\n",
       "  2.000347299268466,\n",
       "  0.0,\n",
       "  2.228387042742021,\n",
       "  2.228387042742023,\n",
       "  0.0,\n",
       "  2.055002875864414,\n",
       "  0.0,\n",
       "  0.0,\n",
       "  0.0,\n",
       "  0.0],\n",
       " [0.0,\n",
       "  2.857738033247042,\n",
       "  0.0,\n",
       "  0.0,\n",
       "  2.619965104088255,\n",
       "  0.0,\n",
       "  2.004684436494304,\n",
       "  2.000347299268466,\n",
       "  2.122974378789621,\n",
       "  0.0,\n",
       "  0.0,\n",
       "  0.0,\n",
       "  2.055002875864414,\n",
       "  0.0,\n",
       "  0.0,\n",
       "  0.0,\n",
       "  0.0],\n",
       " [1.0,\n",
       "  0.0,\n",
       "  2.52078447201548,\n",
       "  0.0,\n",
       "  2.619965104088255,\n",
       "  0.0,\n",
       "  2.004684436494304,\n",
       "  0.0,\n",
       "  0.0,\n",
       "  2.228387042742021,\n",
       "  2.228387042742023,\n",
       "  0.0,\n",
       "  0.0,\n",
       "  0.0,\n",
       "  0.0,\n",
       "  0.0,\n",
       "  0.0],\n",
       " [1.0,\n",
       "  2.857738033247042,\n",
       "  2.52078447201548,\n",
       "  0.0,\n",
       "  2.619965104088255,\n",
       "  0.0,\n",
       "  2.004684436494304,\n",
       "  2.000347299268466,\n",
       "  0.0,\n",
       "  2.228387042742021,\n",
       "  2.228387042742023,\n",
       "  0.0,\n",
       "  0.0,\n",
       "  0.0,\n",
       "  0.0,\n",
       "  0.0,\n",
       "  0.0],\n",
       " [0.0,\n",
       "  2.857738033247042,\n",
       "  0.0,\n",
       "  0.0,\n",
       "  2.619965104088255,\n",
       "  0.0,\n",
       "  0.0,\n",
       "  2.000347299268466,\n",
       "  0.0,\n",
       "  2.228387042742021,\n",
       "  2.228387042742023,\n",
       "  0.0,\n",
       "  0.0,\n",
       "  0.0,\n",
       "  0.0,\n",
       "  0.0,\n",
       "  0.0],\n",
       " [0.0,\n",
       "  2.857738033247042,\n",
       "  0.0,\n",
       "  0.0,\n",
       "  2.619965104088255,\n",
       "  0.0,\n",
       "  2.004684436494304,\n",
       "  0.0,\n",
       "  2.122974378789621,\n",
       "  2.228387042742021,\n",
       "  2.228387042742023,\n",
       "  0.0,\n",
       "  0.0,\n",
       "  0.0,\n",
       "  0.0,\n",
       "  0.0,\n",
       "  0.0],\n",
       " [1.0,\n",
       "  2.857738033247042,\n",
       "  0.0,\n",
       "  0.0,\n",
       "  2.619965104088255,\n",
       "  0.0,\n",
       "  2.004684436494304,\n",
       "  2.000347299268466,\n",
       "  2.122974378789621,\n",
       "  0.0,\n",
       "  0.0,\n",
       "  0.0,\n",
       "  0.0,\n",
       "  0.0,\n",
       "  0.0,\n",
       "  0.0,\n",
       "  0.0],\n",
       " [0.0,\n",
       "  0.0,\n",
       "  2.52078447201548,\n",
       "  2.061393766919624,\n",
       "  2.619965104088255,\n",
       "  0.0,\n",
       "  0.0,\n",
       "  0.0,\n",
       "  0.0,\n",
       "  2.228387042742021,\n",
       "  2.228387042742023,\n",
       "  0.0,\n",
       "  0.0,\n",
       "  0.0,\n",
       "  0.0,\n",
       "  0.0,\n",
       "  0.0],\n",
       " [1.0,\n",
       "  2.857738033247042,\n",
       "  0.0,\n",
       "  0.0,\n",
       "  2.619965104088255,\n",
       "  0.0,\n",
       "  2.004684436494304,\n",
       "  0.0,\n",
       "  2.122974378789621,\n",
       "  2.228387042742021,\n",
       "  2.228387042742023,\n",
       "  0.0,\n",
       "  0.0,\n",
       "  0.0,\n",
       "  0.0,\n",
       "  0.0,\n",
       "  0.0],\n",
       " [0.0,\n",
       "  2.857738033247042,\n",
       "  2.52078447201548,\n",
       "  2.061393766919624,\n",
       "  0.0,\n",
       "  0.0,\n",
       "  2.004684436494304,\n",
       "  0.0,\n",
       "  2.122974378789621,\n",
       "  0.0,\n",
       "  0.0,\n",
       "  0.0,\n",
       "  0.0,\n",
       "  0.0,\n",
       "  0.0,\n",
       "  0.0,\n",
       "  0.0],\n",
       " [1.0,\n",
       "  2.857738033247042,\n",
       "  0.0,\n",
       "  0.0,\n",
       "  2.619965104088255,\n",
       "  0.0,\n",
       "  0.0,\n",
       "  2.000347299268466,\n",
       "  2.122974378789621,\n",
       "  2.228387042742021,\n",
       "  2.228387042742023,\n",
       "  0.0,\n",
       "  0.0,\n",
       "  0.0,\n",
       "  0.0,\n",
       "  0.0,\n",
       "  0.0],\n",
       " [1.0,\n",
       "  2.857738033247042,\n",
       "  0.0,\n",
       "  2.061393766919624,\n",
       "  2.619965104088255,\n",
       "  0.0,\n",
       "  2.004684436494304,\n",
       "  2.000347299268466,\n",
       "  0.0,\n",
       "  0.0,\n",
       "  0.0,\n",
       "  0.0,\n",
       "  2.055002875864414,\n",
       "  0.0,\n",
       "  0.0,\n",
       "  0.0,\n",
       "  0.0],\n",
       " [1.0,\n",
       "  2.857738033247042,\n",
       "  0.0,\n",
       "  0.0,\n",
       "  2.619965104088255,\n",
       "  0.0,\n",
       "  0.0,\n",
       "  2.000347299268466,\n",
       "  0.0,\n",
       "  2.228387042742021,\n",
       "  2.228387042742023,\n",
       "  0.0,\n",
       "  0.0,\n",
       "  0.0,\n",
       "  0.0,\n",
       "  0.0,\n",
       "  0.0],\n",
       " [0.0,\n",
       "  2.857738033247042,\n",
       "  0.0,\n",
       "  2.061393766919624,\n",
       "  2.619965104088255,\n",
       "  0.0,\n",
       "  2.004684436494304,\n",
       "  0.0,\n",
       "  2.122974378789621,\n",
       "  0.0,\n",
       "  0.0,\n",
       "  0.0,\n",
       "  2.055002875864414,\n",
       "  0.0,\n",
       "  0.0,\n",
       "  0.0,\n",
       "  0.0],\n",
       " [1.0,\n",
       "  2.857738033247042,\n",
       "  0.0,\n",
       "  2.061393766919624,\n",
       "  2.619965104088255,\n",
       "  0.0,\n",
       "  2.004684436494304,\n",
       "  0.0,\n",
       "  0.0,\n",
       "  0.0,\n",
       "  0.0,\n",
       "  0.0,\n",
       "  2.055002875864414,\n",
       "  0.0,\n",
       "  0.0,\n",
       "  0.0,\n",
       "  0.0],\n",
       " [1.0,\n",
       "  2.857738033247042,\n",
       "  0.0,\n",
       "  0.0,\n",
       "  0.0,\n",
       "  0.0,\n",
       "  0.0,\n",
       "  2.000347299268466,\n",
       "  0.0,\n",
       "  2.228387042742021,\n",
       "  2.228387042742023,\n",
       "  0.0,\n",
       "  2.055002875864414,\n",
       "  0.0,\n",
       "  0.0,\n",
       "  0.0,\n",
       "  0.0],\n",
       " [1.0,\n",
       "  2.857738033247042,\n",
       "  0.0,\n",
       "  2.061393766919624,\n",
       "  2.619965104088255,\n",
       "  0.0,\n",
       "  2.004684436494304,\n",
       "  0.0,\n",
       "  2.122974378789621,\n",
       "  0.0,\n",
       "  0.0,\n",
       "  0.0,\n",
       "  0.0,\n",
       "  0.0,\n",
       "  0.0,\n",
       "  0.0,\n",
       "  0.0],\n",
       " [0.0,\n",
       "  2.857738033247042,\n",
       "  0.0,\n",
       "  0.0,\n",
       "  2.619965104088255,\n",
       "  4.745052855503306,\n",
       "  0.0,\n",
       "  0.0,\n",
       "  0.0,\n",
       "  2.228387042742021,\n",
       "  2.228387042742023,\n",
       "  0.0,\n",
       "  0.0,\n",
       "  0.0,\n",
       "  0.0,\n",
       "  0.0,\n",
       "  0.0],\n",
       " [1.0,\n",
       "  2.857738033247042,\n",
       "  0.0,\n",
       "  0.0,\n",
       "  2.619965104088255,\n",
       "  0.0,\n",
       "  2.004684436494304,\n",
       "  0.0,\n",
       "  0.0,\n",
       "  2.228387042742021,\n",
       "  2.228387042742023,\n",
       "  0.0,\n",
       "  0.0,\n",
       "  0.0,\n",
       "  0.0,\n",
       "  0.0,\n",
       "  0.0],\n",
       " [0.0,\n",
       "  2.857738033247042,\n",
       "  0.0,\n",
       "  0.0,\n",
       "  2.619965104088255,\n",
       "  0.0,\n",
       "  2.004684436494304,\n",
       "  2.000347299268466,\n",
       "  0.0,\n",
       "  0.0,\n",
       "  0.0,\n",
       "  0.0,\n",
       "  2.055002875864414,\n",
       "  0.0,\n",
       "  0.0,\n",
       "  0.0,\n",
       "  0.0],\n",
       " [0.0,\n",
       "  2.857738033247042,\n",
       "  0.0,\n",
       "  0.0,\n",
       "  2.619965104088255,\n",
       "  0.0,\n",
       "  2.004684436494304,\n",
       "  0.0,\n",
       "  2.122974378789621,\n",
       "  2.228387042742021,\n",
       "  2.228387042742023,\n",
       "  0.0,\n",
       "  2.055002875864414,\n",
       "  0.0,\n",
       "  0.0,\n",
       "  0.0,\n",
       "  0.0],\n",
       " [0.0,\n",
       "  2.857738033247042,\n",
       "  0.0,\n",
       "  2.061393766919624,\n",
       "  2.619965104088255,\n",
       "  0.0,\n",
       "  2.004684436494304,\n",
       "  0.0,\n",
       "  2.122974378789621,\n",
       "  2.228387042742021,\n",
       "  2.228387042742023,\n",
       "  0.0,\n",
       "  0.0,\n",
       "  0.0,\n",
       "  0.0,\n",
       "  0.0,\n",
       "  0.0],\n",
       " [1.0,\n",
       "  0.0,\n",
       "  2.52078447201548,\n",
       "  2.061393766919624,\n",
       "  2.619965104088255,\n",
       "  0.0,\n",
       "  0.0,\n",
       "  0.0,\n",
       "  0.0,\n",
       "  2.228387042742021,\n",
       "  2.228387042742023,\n",
       "  0.0,\n",
       "  0.0,\n",
       "  0.0,\n",
       "  0.0,\n",
       "  0.0,\n",
       "  0.0],\n",
       " [1.0,\n",
       "  2.857738033247042,\n",
       "  0.0,\n",
       "  0.0,\n",
       "  2.619965104088255,\n",
       "  0.0,\n",
       "  0.0,\n",
       "  0.0,\n",
       "  0.0,\n",
       "  2.228387042742021,\n",
       "  2.228387042742023,\n",
       "  0.0,\n",
       "  2.055002875864414,\n",
       "  0.0,\n",
       "  0.0,\n",
       "  0.0,\n",
       "  0.0],\n",
       " [0.0,\n",
       "  2.857738033247042,\n",
       "  0.0,\n",
       "  0.0,\n",
       "  2.619965104088255,\n",
       "  0.0,\n",
       "  0.0,\n",
       "  0.0,\n",
       "  0.0,\n",
       "  2.228387042742021,\n",
       "  2.228387042742023,\n",
       "  0.0,\n",
       "  2.055002875864414,\n",
       "  0.0,\n",
       "  0.0,\n",
       "  0.0,\n",
       "  0.0],\n",
       " [0.0,\n",
       "  2.857738033247042,\n",
       "  0.0,\n",
       "  0.0,\n",
       "  0.0,\n",
       "  0.0,\n",
       "  0.0,\n",
       "  2.000347299268466,\n",
       "  0.0,\n",
       "  2.228387042742021,\n",
       "  2.228387042742023,\n",
       "  0.0,\n",
       "  2.055002875864414,\n",
       "  0.0,\n",
       "  0.0,\n",
       "  0.0,\n",
       "  0.0],\n",
       " [1.0,\n",
       "  2.857738033247042,\n",
       "  0.0,\n",
       "  0.0,\n",
       "  2.619965104088255,\n",
       "  0.0,\n",
       "  2.004684436494304,\n",
       "  2.000347299268466,\n",
       "  0.0,\n",
       "  2.228387042742021,\n",
       "  2.228387042742023,\n",
       "  0.0,\n",
       "  2.055002875864414,\n",
       "  0.0,\n",
       "  0.0,\n",
       "  0.0,\n",
       "  0.0],\n",
       " [0.0,\n",
       "  0.0,\n",
       "  0.0,\n",
       "  2.061393766919624,\n",
       "  2.619965104088255,\n",
       "  0.0,\n",
       "  2.004684436494304,\n",
       "  0.0,\n",
       "  2.122974378789621,\n",
       "  2.228387042742021,\n",
       "  2.228387042742023,\n",
       "  0.0,\n",
       "  0.0,\n",
       "  0.0,\n",
       "  0.0,\n",
       "  0.0,\n",
       "  0.0],\n",
       " [0.0,\n",
       "  2.857738033247042,\n",
       "  0.0,\n",
       "  2.061393766919624,\n",
       "  2.619965104088255,\n",
       "  0.0,\n",
       "  0.0,\n",
       "  0.0,\n",
       "  2.122974378789621,\n",
       "  2.228387042742021,\n",
       "  2.228387042742023,\n",
       "  0.0,\n",
       "  0.0,\n",
       "  0.0,\n",
       "  0.0,\n",
       "  0.0,\n",
       "  0.0],\n",
       " [1.0,\n",
       "  0.0,\n",
       "  0.0,\n",
       "  0.0,\n",
       "  2.619965104088255,\n",
       "  0.0,\n",
       "  0.0,\n",
       "  2.000347299268466,\n",
       "  2.122974378789621,\n",
       "  2.228387042742021,\n",
       "  2.228387042742023,\n",
       "  0.0,\n",
       "  0.0,\n",
       "  0.0,\n",
       "  0.0,\n",
       "  0.0,\n",
       "  0.0],\n",
       " [0.0,\n",
       "  2.857738033247042,\n",
       "  0.0,\n",
       "  0.0,\n",
       "  2.619965104088255,\n",
       "  0.0,\n",
       "  0.0,\n",
       "  0.0,\n",
       "  2.122974378789621,\n",
       "  2.228387042742021,\n",
       "  2.228387042742023,\n",
       "  0.0,\n",
       "  0.0,\n",
       "  0.0,\n",
       "  0.0,\n",
       "  0.0,\n",
       "  0.0],\n",
       " [1.0,\n",
       "  2.857738033247042,\n",
       "  0.0,\n",
       "  2.061393766919624,\n",
       "  0.0,\n",
       "  0.0,\n",
       "  2.004684436494304,\n",
       "  0.0,\n",
       "  0.0,\n",
       "  2.228387042742021,\n",
       "  2.228387042742023,\n",
       "  0.0,\n",
       "  0.0,\n",
       "  0.0,\n",
       "  0.0,\n",
       "  0.0,\n",
       "  0.0],\n",
       " [0.0,\n",
       "  2.857738033247042,\n",
       "  2.52078447201548,\n",
       "  0.0,\n",
       "  2.619965104088255,\n",
       "  0.0,\n",
       "  2.004684436494304,\n",
       "  2.000347299268466,\n",
       "  0.0,\n",
       "  0.0,\n",
       "  0.0,\n",
       "  0.0,\n",
       "  0.0,\n",
       "  0.0,\n",
       "  0.0,\n",
       "  0.0,\n",
       "  0.0],\n",
       " [0.0,\n",
       "  2.857738033247042,\n",
       "  0.0,\n",
       "  2.061393766919624,\n",
       "  2.619965104088255,\n",
       "  0.0,\n",
       "  2.004684436494304,\n",
       "  0.0,\n",
       "  2.122974378789621,\n",
       "  0.0,\n",
       "  0.0,\n",
       "  0.0,\n",
       "  0.0,\n",
       "  0.0,\n",
       "  0.0,\n",
       "  0.0,\n",
       "  0.0],\n",
       " [1.0,\n",
       "  2.857738033247042,\n",
       "  0.0,\n",
       "  0.0,\n",
       "  2.619965104088255,\n",
       "  0.0,\n",
       "  0.0,\n",
       "  0.0,\n",
       "  2.122974378789621,\n",
       "  2.228387042742021,\n",
       "  2.228387042742023,\n",
       "  0.0,\n",
       "  0.0,\n",
       "  0.0,\n",
       "  0.0,\n",
       "  0.0,\n",
       "  0.0],\n",
       " [0.0,\n",
       "  2.857738033247042,\n",
       "  0.0,\n",
       "  2.061393766919624,\n",
       "  0.0,\n",
       "  0.0,\n",
       "  2.004684436494304,\n",
       "  2.000347299268466,\n",
       "  0.0,\n",
       "  0.0,\n",
       "  0.0,\n",
       "  0.0,\n",
       "  2.055002875864414,\n",
       "  0.0,\n",
       "  0.0,\n",
       "  0.0,\n",
       "  0.0],\n",
       " [0.0,\n",
       "  2.857738033247042,\n",
       "  0.0,\n",
       "  0.0,\n",
       "  2.619965104088255,\n",
       "  0.0,\n",
       "  2.004684436494304,\n",
       "  2.000347299268466,\n",
       "  2.122974378789621,\n",
       "  0.0,\n",
       "  0.0,\n",
       "  0.0,\n",
       "  0.0,\n",
       "  0.0,\n",
       "  0.0,\n",
       "  0.0,\n",
       "  0.0],\n",
       " [1.0,\n",
       "  0.0,\n",
       "  0.0,\n",
       "  2.061393766919624,\n",
       "  2.619965104088255,\n",
       "  0.0,\n",
       "  2.004684436494304,\n",
       "  2.000347299268466,\n",
       "  0.0,\n",
       "  2.228387042742021,\n",
       "  2.228387042742023,\n",
       "  0.0,\n",
       "  0.0,\n",
       "  0.0,\n",
       "  0.0,\n",
       "  0.0,\n",
       "  0.0],\n",
       " [0.0,\n",
       "  2.857738033247042,\n",
       "  0.0,\n",
       "  2.061393766919624,\n",
       "  2.619965104088255,\n",
       "  0.0,\n",
       "  2.004684436494304,\n",
       "  0.0,\n",
       "  2.122974378789621,\n",
       "  2.228387042742021,\n",
       "  2.228387042742023,\n",
       "  0.0,\n",
       "  0.0,\n",
       "  0.0,\n",
       "  0.0,\n",
       "  0.0,\n",
       "  0.0],\n",
       " [0.0,\n",
       "  0.0,\n",
       "  2.52078447201548,\n",
       "  2.061393766919624,\n",
       "  2.619965104088255,\n",
       "  0.0,\n",
       "  2.004684436494304,\n",
       "  2.000347299268466,\n",
       "  2.122974378789621,\n",
       "  0.0,\n",
       "  0.0,\n",
       "  0.0,\n",
       "  0.0,\n",
       "  0.0,\n",
       "  0.0,\n",
       "  0.0,\n",
       "  0.0],\n",
       " [1.0,\n",
       "  2.857738033247042,\n",
       "  0.0,\n",
       "  0.0,\n",
       "  0.0,\n",
       "  0.0,\n",
       "  0.0,\n",
       "  2.000347299268466,\n",
       "  0.0,\n",
       "  2.228387042742021,\n",
       "  2.228387042742023,\n",
       "  0.0,\n",
       "  2.055002875864414,\n",
       "  0.0,\n",
       "  0.0,\n",
       "  0.0,\n",
       "  0.0],\n",
       " [0.0,\n",
       "  2.857738033247042,\n",
       "  0.0,\n",
       "  0.0,\n",
       "  2.619965104088255,\n",
       "  0.0,\n",
       "  2.004684436494304,\n",
       "  2.000347299268466,\n",
       "  0.0,\n",
       "  2.228387042742021,\n",
       "  2.228387042742023,\n",
       "  0.0,\n",
       "  0.0,\n",
       "  0.0,\n",
       "  0.0,\n",
       "  0.0,\n",
       "  0.0],\n",
       " [1.0,\n",
       "  2.857738033247042,\n",
       "  0.0,\n",
       "  0.0,\n",
       "  2.619965104088255,\n",
       "  0.0,\n",
       "  2.004684436494304,\n",
       "  2.000347299268466,\n",
       "  0.0,\n",
       "  0.0,\n",
       "  0.0,\n",
       "  0.0,\n",
       "  2.055002875864414,\n",
       "  0.0,\n",
       "  0.0,\n",
       "  0.0,\n",
       "  0.0],\n",
       " [0.0,\n",
       "  2.857738033247042,\n",
       "  0.0,\n",
       "  2.061393766919624,\n",
       "  2.619965104088255,\n",
       "  0.0,\n",
       "  2.004684436494304,\n",
       "  2.000347299268466,\n",
       "  0.0,\n",
       "  0.0,\n",
       "  0.0,\n",
       "  0.0,\n",
       "  0.0,\n",
       "  0.0,\n",
       "  0.0,\n",
       "  0.0,\n",
       "  0.0],\n",
       " [1.0,\n",
       "  0.0,\n",
       "  0.0,\n",
       "  0.0,\n",
       "  2.619965104088255,\n",
       "  0.0,\n",
       "  0.0,\n",
       "  0.0,\n",
       "  2.122974378789621,\n",
       "  2.228387042742021,\n",
       "  2.228387042742023,\n",
       "  6.857275130999357,\n",
       "  0.0,\n",
       "  0.0,\n",
       "  0.0,\n",
       "  0.0,\n",
       "  0.0],\n",
       " [0.0,\n",
       "  2.857738033247042,\n",
       "  2.52078447201548,\n",
       "  0.0,\n",
       "  2.619965104088255,\n",
       "  0.0,\n",
       "  0.0,\n",
       "  0.0,\n",
       "  2.122974378789621,\n",
       "  0.0,\n",
       "  0.0,\n",
       "  0.0,\n",
       "  2.055002875864414,\n",
       "  0.0,\n",
       "  0.0,\n",
       "  0.0,\n",
       "  0.0],\n",
       " [1.0,\n",
       "  2.857738033247042,\n",
       "  2.52078447201548,\n",
       "  0.0,\n",
       "  2.619965104088255,\n",
       "  0.0,\n",
       "  0.0,\n",
       "  2.000347299268466,\n",
       "  2.122974378789621,\n",
       "  0.0,\n",
       "  0.0,\n",
       "  0.0,\n",
       "  0.0,\n",
       "  0.0,\n",
       "  0.0,\n",
       "  0.0,\n",
       "  0.0],\n",
       " [1.0,\n",
       "  2.857738033247042,\n",
       "  0.0,\n",
       "  0.0,\n",
       "  2.619965104088255,\n",
       "  0.0,\n",
       "  2.004684436494304,\n",
       "  2.000347299268466,\n",
       "  2.122974378789621,\n",
       "  2.228387042742021,\n",
       "  2.228387042742023,\n",
       "  0.0,\n",
       "  2.055002875864414,\n",
       "  0.0,\n",
       "  0.0,\n",
       "  0.0,\n",
       "  0.0],\n",
       " [1.0,\n",
       "  2.857738033247042,\n",
       "  0.0,\n",
       "  0.0,\n",
       "  2.619965104088255,\n",
       "  4.745052855503306,\n",
       "  2.004684436494304,\n",
       "  2.000347299268466,\n",
       "  0.0,\n",
       "  0.0,\n",
       "  0.0,\n",
       "  0.0,\n",
       "  0.0,\n",
       "  0.0,\n",
       "  0.0,\n",
       "  0.0,\n",
       "  0.0],\n",
       " [1.0,\n",
       "  2.857738033247042,\n",
       "  0.0,\n",
       "  0.0,\n",
       "  2.619965104088255,\n",
       "  0.0,\n",
       "  0.0,\n",
       "  2.000347299268466,\n",
       "  0.0,\n",
       "  2.228387042742021,\n",
       "  2.228387042742023,\n",
       "  0.0,\n",
       "  0.0,\n",
       "  0.0,\n",
       "  0.0,\n",
       "  0.0,\n",
       "  0.0],\n",
       " [1.0,\n",
       "  0.0,\n",
       "  2.52078447201548,\n",
       "  2.061393766919624,\n",
       "  2.619965104088255,\n",
       "  0.0,\n",
       "  2.004684436494304,\n",
       "  2.000347299268466,\n",
       "  0.0,\n",
       "  0.0,\n",
       "  0.0,\n",
       "  0.0,\n",
       "  0.0,\n",
       "  0.0,\n",
       "  0.0,\n",
       "  0.0,\n",
       "  0.0],\n",
       " [1.0,\n",
       "  2.857738033247042,\n",
       "  0.0,\n",
       "  2.061393766919624,\n",
       "  2.619965104088255,\n",
       "  0.0,\n",
       "  2.004684436494304,\n",
       "  0.0,\n",
       "  0.0,\n",
       "  2.228387042742021,\n",
       "  2.228387042742023,\n",
       "  0.0,\n",
       "  2.055002875864414,\n",
       "  0.0,\n",
       "  0.0,\n",
       "  0.0,\n",
       "  0.0],\n",
       " [1.0,\n",
       "  2.857738033247042,\n",
       "  0.0,\n",
       "  0.0,\n",
       "  2.619965104088255,\n",
       "  0.0,\n",
       "  2.004684436494304,\n",
       "  0.0,\n",
       "  2.122974378789621,\n",
       "  2.228387042742021,\n",
       "  2.228387042742023,\n",
       "  0.0,\n",
       "  0.0,\n",
       "  0.0,\n",
       "  0.0,\n",
       "  0.0,\n",
       "  0.0],\n",
       " [0.0,\n",
       "  2.857738033247042,\n",
       "  0.0,\n",
       "  0.0,\n",
       "  2.619965104088255,\n",
       "  0.0,\n",
       "  2.004684436494304,\n",
       "  2.000347299268466,\n",
       "  0.0,\n",
       "  0.0,\n",
       "  0.0,\n",
       "  0.0,\n",
       "  2.055002875864414,\n",
       "  0.0,\n",
       "  0.0,\n",
       "  0.0,\n",
       "  0.0],\n",
       " [0.0,\n",
       "  2.857738033247042,\n",
       "  0.0,\n",
       "  2.061393766919624,\n",
       "  2.619965104088255,\n",
       "  0.0,\n",
       "  2.004684436494304,\n",
       "  0.0,\n",
       "  2.122974378789621,\n",
       "  0.0,\n",
       "  0.0,\n",
       "  0.0,\n",
       "  0.0,\n",
       "  0.0,\n",
       "  0.0,\n",
       "  0.0,\n",
       "  0.0],\n",
       " [0.0,\n",
       "  2.857738033247042,\n",
       "  0.0,\n",
       "  0.0,\n",
       "  2.619965104088255,\n",
       "  0.0,\n",
       "  2.004684436494304,\n",
       "  2.000347299268466,\n",
       "  0.0,\n",
       "  2.228387042742021,\n",
       "  2.228387042742023,\n",
       "  0.0,\n",
       "  2.055002875864414,\n",
       "  0.0,\n",
       "  0.0,\n",
       "  0.0,\n",
       "  0.0],\n",
       " [1.0,\n",
       "  0.0,\n",
       "  0.0,\n",
       "  0.0,\n",
       "  2.619965104088255,\n",
       "  0.0,\n",
       "  2.004684436494304,\n",
       "  0.0,\n",
       "  2.122974378789621,\n",
       "  2.228387042742021,\n",
       "  2.228387042742023,\n",
       "  0.0,\n",
       "  0.0,\n",
       "  0.0,\n",
       "  0.0,\n",
       "  0.0,\n",
       "  0.0],\n",
       " [0.0,\n",
       "  0.0,\n",
       "  0.0,\n",
       "  0.0,\n",
       "  2.619965104088255,\n",
       "  0.0,\n",
       "  0.0,\n",
       "  0.0,\n",
       "  2.122974378789621,\n",
       "  2.228387042742021,\n",
       "  2.228387042742023,\n",
       "  0.0,\n",
       "  2.055002875864414,\n",
       "  0.0,\n",
       "  0.0,\n",
       "  0.0,\n",
       "  0.0],\n",
       " [1.0,\n",
       "  2.857738033247042,\n",
       "  0.0,\n",
       "  2.061393766919624,\n",
       "  2.619965104088255,\n",
       "  4.745052855503306,\n",
       "  2.004684436494304,\n",
       "  2.000347299268466,\n",
       "  0.0,\n",
       "  0.0,\n",
       "  0.0,\n",
       "  0.0,\n",
       "  2.055002875864414,\n",
       "  0.0,\n",
       "  0.0,\n",
       "  0.0,\n",
       "  0.0],\n",
       " [1.0,\n",
       "  2.857738033247042,\n",
       "  2.52078447201548,\n",
       "  2.061393766919624,\n",
       "  0.0,\n",
       "  0.0,\n",
       "  0.0,\n",
       "  2.000347299268466,\n",
       "  0.0,\n",
       "  2.228387042742021,\n",
       "  2.228387042742023,\n",
       "  0.0,\n",
       "  0.0,\n",
       "  0.0,\n",
       "  0.0,\n",
       "  0.0,\n",
       "  0.0],\n",
       " [1.0,\n",
       "  2.857738033247042,\n",
       "  0.0,\n",
       "  0.0,\n",
       "  2.619965104088255,\n",
       "  0.0,\n",
       "  2.004684436494304,\n",
       "  2.000347299268466,\n",
       "  0.0,\n",
       "  2.228387042742021,\n",
       "  2.228387042742023,\n",
       "  0.0,\n",
       "  0.0,\n",
       "  0.0,\n",
       "  0.0,\n",
       "  0.0,\n",
       "  0.0],\n",
       " [1.0,\n",
       "  2.857738033247042,\n",
       "  0.0,\n",
       "  0.0,\n",
       "  2.619965104088255,\n",
       "  0.0,\n",
       "  2.004684436494304,\n",
       "  2.000347299268466,\n",
       "  0.0,\n",
       "  2.228387042742021,\n",
       "  2.228387042742023,\n",
       "  0.0,\n",
       "  0.0,\n",
       "  0.0,\n",
       "  0.0,\n",
       "  0.0,\n",
       "  0.0],\n",
       " [1.0,\n",
       "  2.857738033247042,\n",
       "  0.0,\n",
       "  0.0,\n",
       "  2.619965104088255,\n",
       "  0.0,\n",
       "  0.0,\n",
       "  0.0,\n",
       "  0.0,\n",
       "  2.228387042742021,\n",
       "  2.228387042742023,\n",
       "  0.0,\n",
       "  2.055002875864414,\n",
       "  0.0,\n",
       "  0.0,\n",
       "  0.0,\n",
       "  0.0],\n",
       " [1.0,\n",
       "  2.857738033247042,\n",
       "  0.0,\n",
       "  0.0,\n",
       "  0.0,\n",
       "  0.0,\n",
       "  0.0,\n",
       "  2.000347299268466,\n",
       "  2.122974378789621,\n",
       "  2.228387042742021,\n",
       "  2.228387042742023,\n",
       "  0.0,\n",
       "  0.0,\n",
       "  0.0,\n",
       "  0.0,\n",
       "  0.0,\n",
       "  0.0],\n",
       " [0.0,\n",
       "  2.857738033247042,\n",
       "  0.0,\n",
       "  0.0,\n",
       "  2.619965104088255,\n",
       "  0.0,\n",
       "  0.0,\n",
       "  0.0,\n",
       "  2.122974378789621,\n",
       "  2.228387042742021,\n",
       "  2.228387042742023,\n",
       "  0.0,\n",
       "  0.0,\n",
       "  0.0,\n",
       "  0.0,\n",
       "  0.0,\n",
       "  0.0],\n",
       " [1.0,\n",
       "  2.857738033247042,\n",
       "  0.0,\n",
       "  0.0,\n",
       "  2.619965104088255,\n",
       "  0.0,\n",
       "  0.0,\n",
       "  2.000347299268466,\n",
       "  2.122974378789621,\n",
       "  0.0,\n",
       "  0.0,\n",
       "  0.0,\n",
       "  2.055002875864414,\n",
       "  0.0,\n",
       "  0.0,\n",
       "  0.0,\n",
       "  0.0],\n",
       " [0.0,\n",
       "  0.0,\n",
       "  2.52078447201548,\n",
       "  2.061393766919624,\n",
       "  2.619965104088255,\n",
       "  0.0,\n",
       "  2.004684436494304,\n",
       "  2.000347299268466,\n",
       "  0.0,\n",
       "  0.0,\n",
       "  0.0,\n",
       "  0.0,\n",
       "  0.0,\n",
       "  0.0,\n",
       "  0.0,\n",
       "  0.0,\n",
       "  0.0],\n",
       " [1.0,\n",
       "  2.857738033247042,\n",
       "  0.0,\n",
       "  0.0,\n",
       "  2.619965104088255,\n",
       "  0.0,\n",
       "  2.004684436494304,\n",
       "  0.0,\n",
       "  0.0,\n",
       "  2.228387042742021,\n",
       "  2.228387042742023,\n",
       "  0.0,\n",
       "  0.0,\n",
       "  0.0,\n",
       "  0.0,\n",
       "  0.0,\n",
       "  0.0],\n",
       " [1.0,\n",
       "  2.857738033247042,\n",
       "  0.0,\n",
       "  2.061393766919624,\n",
       "  0.0,\n",
       "  0.0,\n",
       "  0.0,\n",
       "  0.0,\n",
       "  2.122974378789621,\n",
       "  2.228387042742021,\n",
       "  2.228387042742023,\n",
       "  0.0,\n",
       "  0.0,\n",
       "  0.0,\n",
       "  0.0,\n",
       "  0.0,\n",
       "  0.0],\n",
       " [1.0,\n",
       "  0.0,\n",
       "  0.0,\n",
       "  2.061393766919624,\n",
       "  2.619965104088255,\n",
       "  4.745052855503306,\n",
       "  2.004684436494304,\n",
       "  2.000347299268466,\n",
       "  0.0,\n",
       "  0.0,\n",
       "  0.0,\n",
       "  0.0,\n",
       "  0.0,\n",
       "  0.0,\n",
       "  0.0,\n",
       "  0.0,\n",
       "  0.0],\n",
       " [1.0,\n",
       "  2.857738033247042,\n",
       "  2.52078447201548,\n",
       "  2.061393766919624,\n",
       "  2.619965104088255,\n",
       "  0.0,\n",
       "  0.0,\n",
       "  0.0,\n",
       "  0.0,\n",
       "  2.228387042742021,\n",
       "  2.228387042742023,\n",
       "  0.0,\n",
       "  0.0,\n",
       "  0.0,\n",
       "  0.0,\n",
       "  0.0,\n",
       "  0.0],\n",
       " [0.0,\n",
       "  2.857738033247042,\n",
       "  0.0,\n",
       "  2.061393766919624,\n",
       "  0.0,\n",
       "  0.0,\n",
       "  0.0,\n",
       "  0.0,\n",
       "  2.122974378789621,\n",
       "  2.228387042742021,\n",
       "  2.228387042742023,\n",
       "  0.0,\n",
       "  2.055002875864414,\n",
       "  0.0,\n",
       "  0.0,\n",
       "  0.0,\n",
       "  0.0],\n",
       " [0.0,\n",
       "  2.857738033247042,\n",
       "  0.0,\n",
       "  0.0,\n",
       "  2.619965104088255,\n",
       "  0.0,\n",
       "  0.0,\n",
       "  0.0,\n",
       "  0.0,\n",
       "  2.228387042742021,\n",
       "  2.228387042742023,\n",
       "  0.0,\n",
       "  2.055002875864414,\n",
       "  0.0,\n",
       "  0.0,\n",
       "  0.0,\n",
       "  0.0],\n",
       " [1.0,\n",
       "  2.857738033247042,\n",
       "  0.0,\n",
       "  0.0,\n",
       "  2.619965104088255,\n",
       "  0.0,\n",
       "  2.004684436494304,\n",
       "  0.0,\n",
       "  0.0,\n",
       "  2.228387042742021,\n",
       "  2.228387042742023,\n",
       "  0.0,\n",
       "  0.0,\n",
       "  0.0,\n",
       "  0.0,\n",
       "  0.0,\n",
       "  0.0],\n",
       " [0.0,\n",
       "  2.857738033247042,\n",
       "  2.52078447201548,\n",
       "  0.0,\n",
       "  2.619965104088255,\n",
       "  0.0,\n",
       "  0.0,\n",
       "  0.0,\n",
       "  0.0,\n",
       "  2.228387042742021,\n",
       "  2.228387042742023,\n",
       "  0.0,\n",
       "  2.055002875864414,\n",
       "  0.0,\n",
       "  0.0,\n",
       "  0.0,\n",
       "  0.0],\n",
       " [1.0,\n",
       "  2.857738033247042,\n",
       "  0.0,\n",
       "  0.0,\n",
       "  2.619965104088255,\n",
       "  0.0,\n",
       "  2.004684436494304,\n",
       "  0.0,\n",
       "  0.0,\n",
       "  2.228387042742021,\n",
       "  2.228387042742023,\n",
       "  0.0,\n",
       "  0.0,\n",
       "  0.0,\n",
       "  0.0,\n",
       "  0.0,\n",
       "  0.0],\n",
       " [0.0,\n",
       "  2.857738033247042,\n",
       "  0.0,\n",
       "  0.0,\n",
       "  2.619965104088255,\n",
       "  0.0,\n",
       "  0.0,\n",
       "  0.0,\n",
       "  2.122974378789621,\n",
       "  2.228387042742021,\n",
       "  2.228387042742023,\n",
       "  0.0,\n",
       "  0.0,\n",
       "  0.0,\n",
       "  0.0,\n",
       "  0.0,\n",
       "  0.0],\n",
       " [1.0,\n",
       "  2.857738033247042,\n",
       "  0.0,\n",
       "  0.0,\n",
       "  2.619965104088255,\n",
       "  0.0,\n",
       "  0.0,\n",
       "  0.0,\n",
       "  2.122974378789621,\n",
       "  2.228387042742021,\n",
       "  2.228387042742023,\n",
       "  0.0,\n",
       "  0.0,\n",
       "  0.0,\n",
       "  0.0,\n",
       "  0.0,\n",
       "  0.0],\n",
       " [1.0,\n",
       "  2.857738033247042,\n",
       "  0.0,\n",
       "  0.0,\n",
       "  2.619965104088255,\n",
       "  0.0,\n",
       "  0.0,\n",
       "  0.0,\n",
       "  0.0,\n",
       "  2.228387042742021,\n",
       "  2.228387042742023,\n",
       "  0.0,\n",
       "  2.055002875864414,\n",
       "  0.0,\n",
       "  0.0,\n",
       "  0.0,\n",
       "  0.0],\n",
       " [1.0,\n",
       "  0.0,\n",
       "  2.52078447201548,\n",
       "  0.0,\n",
       "  0.0,\n",
       "  0.0,\n",
       "  2.004684436494304,\n",
       "  2.000347299268466,\n",
       "  0.0,\n",
       "  2.228387042742021,\n",
       "  2.228387042742023,\n",
       "  0.0,\n",
       "  0.0,\n",
       "  0.0,\n",
       "  0.0,\n",
       "  0.0,\n",
       "  0.0],\n",
       " [1.0,\n",
       "  2.857738033247042,\n",
       "  0.0,\n",
       "  0.0,\n",
       "  2.619965104088255,\n",
       "  0.0,\n",
       "  0.0,\n",
       "  2.000347299268466,\n",
       "  0.0,\n",
       "  2.228387042742021,\n",
       "  2.228387042742023,\n",
       "  0.0,\n",
       "  2.055002875864414,\n",
       "  0.0,\n",
       "  0.0,\n",
       "  0.0,\n",
       "  0.0],\n",
       " [1.0,\n",
       "  2.857738033247042,\n",
       "  0.0,\n",
       "  2.061393766919624,\n",
       "  2.619965104088255,\n",
       "  0.0,\n",
       "  0.0,\n",
       "  0.0,\n",
       "  2.122974378789621,\n",
       "  0.0,\n",
       "  0.0,\n",
       "  0.0,\n",
       "  2.055002875864414,\n",
       "  0.0,\n",
       "  0.0,\n",
       "  0.0,\n",
       "  0.0],\n",
       " [1.0,\n",
       "  2.857738033247042,\n",
       "  0.0,\n",
       "  0.0,\n",
       "  2.619965104088255,\n",
       "  0.0,\n",
       "  2.004684436494304,\n",
       "  2.000347299268466,\n",
       "  0.0,\n",
       "  2.228387042742021,\n",
       "  2.228387042742023,\n",
       "  0.0,\n",
       "  0.0,\n",
       "  0.0,\n",
       "  0.0,\n",
       "  0.0,\n",
       "  0.0],\n",
       " [0.0,\n",
       "  2.857738033247042,\n",
       "  0.0,\n",
       "  2.061393766919624,\n",
       "  2.619965104088255,\n",
       "  0.0,\n",
       "  2.004684436494304,\n",
       "  0.0,\n",
       "  0.0,\n",
       "  2.228387042742021,\n",
       "  2.228387042742023,\n",
       "  0.0,\n",
       "  0.0,\n",
       "  0.0,\n",
       "  0.0,\n",
       "  0.0,\n",
       "  0.0],\n",
       " [1.0,\n",
       "  2.857738033247042,\n",
       "  2.52078447201548,\n",
       "  0.0,\n",
       "  2.619965104088255,\n",
       "  0.0,\n",
       "  2.004684436494304,\n",
       "  0.0,\n",
       "  2.122974378789621,\n",
       "  0.0,\n",
       "  0.0,\n",
       "  0.0,\n",
       "  0.0,\n",
       "  0.0,\n",
       "  0.0,\n",
       "  0.0,\n",
       "  0.0],\n",
       " [0.0,\n",
       "  0.0,\n",
       "  0.0,\n",
       "  2.061393766919624,\n",
       "  2.619965104088255,\n",
       "  0.0,\n",
       "  0.0,\n",
       "  2.000347299268466,\n",
       "  0.0,\n",
       "  2.228387042742021,\n",
       "  2.228387042742023,\n",
       "  0.0,\n",
       "  0.0,\n",
       "  0.0,\n",
       "  0.0,\n",
       "  0.0,\n",
       "  0.0],\n",
       " [0.0,\n",
       "  2.857738033247042,\n",
       "  2.52078447201548,\n",
       "  0.0,\n",
       "  2.619965104088255,\n",
       "  0.0,\n",
       "  0.0,\n",
       "  2.000347299268466,\n",
       "  0.0,\n",
       "  2.228387042742021,\n",
       "  2.228387042742023,\n",
       "  0.0,\n",
       "  0.0,\n",
       "  0.0,\n",
       "  0.0,\n",
       "  0.0,\n",
       "  0.0],\n",
       " [1.0,\n",
       "  2.857738033247042,\n",
       "  0.0,\n",
       "  2.061393766919624,\n",
       "  2.619965104088255,\n",
       "  0.0,\n",
       "  0.0,\n",
       "  0.0,\n",
       "  0.0,\n",
       "  2.228387042742021,\n",
       "  2.228387042742023,\n",
       "  0.0,\n",
       "  0.0,\n",
       "  0.0,\n",
       "  0.0,\n",
       "  0.0,\n",
       "  0.0],\n",
       " [0.0,\n",
       "  2.857738033247042,\n",
       "  0.0,\n",
       "  2.061393766919624,\n",
       "  0.0,\n",
       "  0.0,\n",
       "  2.004684436494304,\n",
       "  2.000347299268466,\n",
       "  0.0,\n",
       "  2.228387042742021,\n",
       "  2.228387042742023,\n",
       "  0.0,\n",
       "  0.0,\n",
       "  0.0,\n",
       "  0.0,\n",
       "  0.0,\n",
       "  0.0],\n",
       " [1.0,\n",
       "  2.857738033247042,\n",
       "  0.0,\n",
       "  2.061393766919624,\n",
       "  2.619965104088255,\n",
       "  0.0,\n",
       "  0.0,\n",
       "  0.0,\n",
       "  0.0,\n",
       "  2.228387042742021,\n",
       "  2.228387042742023,\n",
       "  0.0,\n",
       "  2.055002875864414,\n",
       "  0.0,\n",
       "  0.0,\n",
       "  0.0,\n",
       "  0.0],\n",
       " [1.0,\n",
       "  2.857738033247042,\n",
       "  0.0,\n",
       "  2.061393766919624,\n",
       "  2.619965104088255,\n",
       "  0.0,\n",
       "  0.0,\n",
       "  2.000347299268466,\n",
       "  0.0,\n",
       "  0.0,\n",
       "  0.0,\n",
       "  0.0,\n",
       "  2.055002875864414,\n",
       "  0.0,\n",
       "  0.0,\n",
       "  0.0,\n",
       "  0.0],\n",
       " [0.0,\n",
       "  2.857738033247042,\n",
       "  0.0,\n",
       "  0.0,\n",
       "  0.0,\n",
       "  0.0,\n",
       "  2.004684436494304,\n",
       "  2.000347299268466,\n",
       "  2.122974378789621,\n",
       "  0.0,\n",
       "  0.0,\n",
       "  6.857275130999357,\n",
       "  0.0,\n",
       "  0.0,\n",
       "  0.0,\n",
       "  0.0,\n",
       "  0.0],\n",
       " [1.0,\n",
       "  2.857738033247042,\n",
       "  0.0,\n",
       "  0.0,\n",
       "  2.619965104088255,\n",
       "  0.0,\n",
       "  2.004684436494304,\n",
       "  2.000347299268466,\n",
       "  0.0,\n",
       "  2.228387042742021,\n",
       "  2.228387042742023,\n",
       "  0.0,\n",
       "  0.0,\n",
       "  0.0,\n",
       "  0.0,\n",
       "  0.0,\n",
       "  0.0],\n",
       " [1.0,\n",
       "  2.857738033247042,\n",
       "  0.0,\n",
       "  0.0,\n",
       "  2.619965104088255,\n",
       "  0.0,\n",
       "  2.004684436494304,\n",
       "  2.000347299268466,\n",
       "  2.122974378789621,\n",
       "  0.0,\n",
       "  0.0,\n",
       "  0.0,\n",
       "  0.0,\n",
       "  0.0,\n",
       "  0.0,\n",
       "  0.0,\n",
       "  0.0],\n",
       " [0.0,\n",
       "  0.0,\n",
       "  2.52078447201548,\n",
       "  2.061393766919624,\n",
       "  0.0,\n",
       "  0.0,\n",
       "  0.0,\n",
       "  0.0,\n",
       "  2.122974378789621,\n",
       "  2.228387042742021,\n",
       "  2.228387042742023,\n",
       "  0.0,\n",
       "  2.055002875864414,\n",
       "  0.0,\n",
       "  0.0,\n",
       "  0.0,\n",
       "  0.0],\n",
       " [0.0,\n",
       "  2.857738033247042,\n",
       "  0.0,\n",
       "  2.061393766919624,\n",
       "  2.619965104088255,\n",
       "  0.0,\n",
       "  0.0,\n",
       "  0.0,\n",
       "  0.0,\n",
       "  2.228387042742021,\n",
       "  2.228387042742023,\n",
       "  0.0,\n",
       "  0.0,\n",
       "  0.0,\n",
       "  0.0,\n",
       "  0.0,\n",
       "  0.0],\n",
       " [1.0,\n",
       "  2.857738033247042,\n",
       "  2.52078447201548,\n",
       "  0.0,\n",
       "  2.619965104088255,\n",
       "  0.0,\n",
       "  0.0,\n",
       "  0.0,\n",
       "  0.0,\n",
       "  2.228387042742021,\n",
       "  2.228387042742023,\n",
       "  0.0,\n",
       "  0.0,\n",
       "  0.0,\n",
       "  0.0,\n",
       "  0.0,\n",
       "  0.0],\n",
       " [0.0,\n",
       "  0.0,\n",
       "  0.0,\n",
       "  2.061393766919624,\n",
       "  2.619965104088255,\n",
       "  0.0,\n",
       "  0.0,\n",
       "  0.0,\n",
       "  2.122974378789621,\n",
       "  2.228387042742021,\n",
       "  2.228387042742023,\n",
       "  0.0,\n",
       "  0.0,\n",
       "  0.0,\n",
       "  0.0,\n",
       "  0.0,\n",
       "  0.0],\n",
       " [1.0,\n",
       "  2.857738033247042,\n",
       "  0.0,\n",
       "  0.0,\n",
       "  2.619965104088255,\n",
       "  0.0,\n",
       "  2.004684436494304,\n",
       "  2.000347299268466,\n",
       "  0.0,\n",
       "  2.228387042742021,\n",
       "  2.228387042742023,\n",
       "  0.0,\n",
       "  2.055002875864414,\n",
       "  0.0,\n",
       "  0.0,\n",
       "  0.0,\n",
       "  0.0],\n",
       " [0.0,\n",
       "  2.857738033247042,\n",
       "  0.0,\n",
       "  0.0,\n",
       "  2.619965104088255,\n",
       "  0.0,\n",
       "  2.004684436494304,\n",
       "  0.0,\n",
       "  0.0,\n",
       "  2.228387042742021,\n",
       "  2.228387042742023,\n",
       "  0.0,\n",
       "  0.0,\n",
       "  0.0,\n",
       "  0.0,\n",
       "  0.0,\n",
       "  0.0],\n",
       " [1.0,\n",
       "  2.857738033247042,\n",
       "  0.0,\n",
       "  0.0,\n",
       "  2.619965104088255,\n",
       "  0.0,\n",
       "  0.0,\n",
       "  2.000347299268466,\n",
       "  0.0,\n",
       "  2.228387042742021,\n",
       "  2.228387042742023,\n",
       "  0.0,\n",
       "  2.055002875864414,\n",
       "  0.0,\n",
       "  0.0,\n",
       "  0.0,\n",
       "  0.0],\n",
       " [0.0,\n",
       "  2.857738033247042,\n",
       "  0.0,\n",
       "  2.061393766919624,\n",
       "  0.0,\n",
       "  0.0,\n",
       "  0.0,\n",
       "  2.000347299268466,\n",
       "  0.0,\n",
       "  2.228387042742021,\n",
       "  2.228387042742023,\n",
       "  0.0,\n",
       "  2.055002875864414,\n",
       "  0.0,\n",
       "  0.0,\n",
       "  0.0,\n",
       "  0.0],\n",
       " [0.0,\n",
       "  2.857738033247042,\n",
       "  2.52078447201548,\n",
       "  0.0,\n",
       "  2.619965104088255,\n",
       "  0.0,\n",
       "  0.0,\n",
       "  0.0,\n",
       "  0.0,\n",
       "  2.228387042742021,\n",
       "  2.228387042742023,\n",
       "  0.0,\n",
       "  0.0,\n",
       "  0.0,\n",
       "  0.0,\n",
       "  0.0,\n",
       "  0.0],\n",
       " [0.0,\n",
       "  2.857738033247042,\n",
       "  0.0,\n",
       "  0.0,\n",
       "  2.619965104088255,\n",
       "  0.0,\n",
       "  0.0,\n",
       "  2.000347299268466,\n",
       "  2.122974378789621,\n",
       "  0.0,\n",
       "  0.0,\n",
       "  0.0,\n",
       "  2.055002875864414,\n",
       "  0.0,\n",
       "  0.0,\n",
       "  0.0,\n",
       "  0.0],\n",
       " [1.0,\n",
       "  2.857738033247042,\n",
       "  2.52078447201548,\n",
       "  0.0,\n",
       "  2.619965104088255,\n",
       "  0.0,\n",
       "  0.0,\n",
       "  2.000347299268466,\n",
       "  0.0,\n",
       "  2.228387042742021,\n",
       "  2.228387042742023,\n",
       "  0.0,\n",
       "  0.0,\n",
       "  0.0,\n",
       "  0.0,\n",
       "  0.0,\n",
       "  0.0],\n",
       " [0.0,\n",
       "  2.857738033247042,\n",
       "  0.0,\n",
       "  0.0,\n",
       "  2.619965104088255,\n",
       "  0.0,\n",
       "  2.004684436494304,\n",
       "  2.000347299268466,\n",
       "  0.0,\n",
       "  2.228387042742021,\n",
       "  2.228387042742023,\n",
       "  0.0,\n",
       "  0.0,\n",
       "  0.0,\n",
       "  0.0,\n",
       "  0.0,\n",
       "  0.0],\n",
       " [1.0,\n",
       "  2.857738033247042,\n",
       "  2.52078447201548,\n",
       "  0.0,\n",
       "  2.619965104088255,\n",
       "  0.0,\n",
       "  2.004684436494304,\n",
       "  2.000347299268466,\n",
       "  0.0,\n",
       "  0.0,\n",
       "  0.0,\n",
       "  0.0,\n",
       "  0.0,\n",
       "  0.0,\n",
       "  0.0,\n",
       "  0.0,\n",
       "  0.0],\n",
       " [1.0,\n",
       "  2.857738033247042,\n",
       "  0.0,\n",
       "  0.0,\n",
       "  2.619965104088255,\n",
       "  0.0,\n",
       "  2.004684436494304,\n",
       "  0.0,\n",
       "  2.122974378789621,\n",
       "  0.0,\n",
       "  0.0,\n",
       "  0.0,\n",
       "  2.055002875864414,\n",
       "  0.0,\n",
       "  0.0,\n",
       "  0.0,\n",
       "  0.0],\n",
       " [1.0,\n",
       "  2.857738033247042,\n",
       "  0.0,\n",
       "  2.061393766919624,\n",
       "  2.619965104088255,\n",
       "  0.0,\n",
       "  2.004684436494304,\n",
       "  2.000347299268466,\n",
       "  0.0,\n",
       "  0.0,\n",
       "  0.0,\n",
       "  0.0,\n",
       "  0.0,\n",
       "  0.0,\n",
       "  0.0,\n",
       "  0.0,\n",
       "  0.0],\n",
       " [1.0,\n",
       "  2.857738033247042,\n",
       "  2.52078447201548,\n",
       "  0.0,\n",
       "  2.619965104088255,\n",
       "  0.0,\n",
       "  0.0,\n",
       "  0.0,\n",
       "  0.0,\n",
       "  2.228387042742021,\n",
       "  2.228387042742023,\n",
       "  0.0,\n",
       "  0.0,\n",
       "  0.0,\n",
       "  0.0,\n",
       "  0.0,\n",
       "  0.0],\n",
       " [0.0,\n",
       "  2.857738033247042,\n",
       "  2.52078447201548,\n",
       "  0.0,\n",
       "  2.619965104088255,\n",
       "  0.0,\n",
       "  2.004684436494304,\n",
       "  2.000347299268466,\n",
       "  0.0,\n",
       "  2.228387042742021,\n",
       "  2.228387042742023,\n",
       "  0.0,\n",
       "  0.0,\n",
       "  0.0,\n",
       "  0.0,\n",
       "  0.0,\n",
       "  0.0],\n",
       " [0.0,\n",
       "  2.857738033247042,\n",
       "  0.0,\n",
       "  0.0,\n",
       "  2.619965104088255,\n",
       "  0.0,\n",
       "  0.0,\n",
       "  0.0,\n",
       "  0.0,\n",
       "  2.228387042742021,\n",
       "  2.228387042742023,\n",
       "  0.0,\n",
       "  2.055002875864414,\n",
       "  0.0,\n",
       "  0.0,\n",
       "  0.0,\n",
       "  0.0],\n",
       " [1.0,\n",
       "  2.857738033247042,\n",
       "  0.0,\n",
       "  0.0,\n",
       "  2.619965104088255,\n",
       "  0.0,\n",
       "  0.0,\n",
       "  2.000347299268466,\n",
       "  0.0,\n",
       "  2.228387042742021,\n",
       "  2.228387042742023,\n",
       "  0.0,\n",
       "  0.0,\n",
       "  0.0,\n",
       "  0.0,\n",
       "  0.0,\n",
       "  0.0],\n",
       " [0.0,\n",
       "  0.0,\n",
       "  2.52078447201548,\n",
       "  0.0,\n",
       "  0.0,\n",
       "  0.0,\n",
       "  2.004684436494304,\n",
       "  2.000347299268466,\n",
       "  0.0,\n",
       "  2.228387042742021,\n",
       "  2.228387042742023,\n",
       "  0.0,\n",
       "  2.055002875864414,\n",
       "  0.0,\n",
       "  0.0,\n",
       "  0.0,\n",
       "  0.0],\n",
       " [1.0,\n",
       "  2.857738033247042,\n",
       "  2.52078447201548,\n",
       "  0.0,\n",
       "  2.619965104088255,\n",
       "  0.0,\n",
       "  0.0,\n",
       "  0.0,\n",
       "  0.0,\n",
       "  2.228387042742021,\n",
       "  2.228387042742023,\n",
       "  0.0,\n",
       "  0.0,\n",
       "  0.0,\n",
       "  0.0,\n",
       "  0.0,\n",
       "  0.0],\n",
       " [0.0,\n",
       "  2.857738033247042,\n",
       "  0.0,\n",
       "  0.0,\n",
       "  2.619965104088255,\n",
       "  0.0,\n",
       "  0.0,\n",
       "  2.000347299268466,\n",
       "  0.0,\n",
       "  2.228387042742021,\n",
       "  2.228387042742023,\n",
       "  0.0,\n",
       "  0.0,\n",
       "  0.0,\n",
       "  0.0,\n",
       "  0.0,\n",
       "  0.0],\n",
       " [0.0,\n",
       "  2.857738033247042,\n",
       "  0.0,\n",
       "  0.0,\n",
       "  2.619965104088255,\n",
       "  0.0,\n",
       "  2.004684436494304,\n",
       "  2.000347299268466,\n",
       "  2.122974378789621,\n",
       "  0.0,\n",
       "  0.0,\n",
       "  0.0,\n",
       "  0.0,\n",
       "  0.0,\n",
       "  0.0,\n",
       "  0.0,\n",
       "  0.0],\n",
       " [0.0,\n",
       "  2.857738033247042,\n",
       "  0.0,\n",
       "  0.0,\n",
       "  2.619965104088255,\n",
       "  0.0,\n",
       "  2.004684436494304,\n",
       "  0.0,\n",
       "  2.122974378789621,\n",
       "  0.0,\n",
       "  0.0,\n",
       "  0.0,\n",
       "  2.055002875864414,\n",
       "  0.0,\n",
       "  0.0,\n",
       "  0.0,\n",
       "  0.0],\n",
       " [1.0,\n",
       "  2.857738033247042,\n",
       "  0.0,\n",
       "  0.0,\n",
       "  2.619965104088255,\n",
       "  0.0,\n",
       "  0.0,\n",
       "  2.000347299268466,\n",
       "  0.0,\n",
       "  2.228387042742021,\n",
       "  2.228387042742023,\n",
       "  0.0,\n",
       "  0.0,\n",
       "  0.0,\n",
       "  0.0,\n",
       "  0.0,\n",
       "  0.0],\n",
       " [1.0,\n",
       "  2.857738033247042,\n",
       "  2.52078447201548,\n",
       "  2.061393766919624,\n",
       "  2.619965104088255,\n",
       "  0.0,\n",
       "  0.0,\n",
       "  2.000347299268466,\n",
       "  0.0,\n",
       "  0.0,\n",
       "  0.0,\n",
       "  0.0,\n",
       "  0.0,\n",
       "  0.0,\n",
       "  0.0,\n",
       "  0.0,\n",
       "  0.0],\n",
       " [0.0,\n",
       "  2.857738033247042,\n",
       "  0.0,\n",
       "  2.061393766919624,\n",
       "  2.619965104088255,\n",
       "  0.0,\n",
       "  2.004684436494304,\n",
       "  0.0,\n",
       "  2.122974378789621,\n",
       "  2.228387042742021,\n",
       "  2.228387042742023,\n",
       "  0.0,\n",
       "  2.055002875864414,\n",
       "  0.0,\n",
       "  0.0,\n",
       "  0.0,\n",
       "  0.0],\n",
       " [0.0,\n",
       "  2.857738033247042,\n",
       "  0.0,\n",
       "  2.061393766919624,\n",
       "  2.619965104088255,\n",
       "  0.0,\n",
       "  0.0,\n",
       "  0.0,\n",
       "  2.122974378789621,\n",
       "  0.0,\n",
       "  0.0,\n",
       "  0.0,\n",
       "  2.055002875864414,\n",
       "  0.0,\n",
       "  0.0,\n",
       "  0.0,\n",
       "  0.0],\n",
       " [1.0,\n",
       "  2.857738033247042,\n",
       "  0.0,\n",
       "  0.0,\n",
       "  2.619965104088255,\n",
       "  0.0,\n",
       "  0.0,\n",
       "  2.000347299268466,\n",
       "  2.122974378789621,\n",
       "  2.228387042742021,\n",
       "  2.228387042742023,\n",
       "  0.0,\n",
       "  0.0,\n",
       "  0.0,\n",
       "  0.0,\n",
       "  0.0,\n",
       "  0.0],\n",
       " [1.0,\n",
       "  2.857738033247042,\n",
       "  0.0,\n",
       "  2.061393766919624,\n",
       "  0.0,\n",
       "  0.0,\n",
       "  0.0,\n",
       "  0.0,\n",
       "  2.122974378789621,\n",
       "  2.228387042742021,\n",
       "  2.228387042742023,\n",
       "  0.0,\n",
       "  0.0,\n",
       "  0.0,\n",
       "  0.0,\n",
       "  0.0,\n",
       "  0.0],\n",
       " [1.0,\n",
       "  2.857738033247042,\n",
       "  2.52078447201548,\n",
       "  2.061393766919624,\n",
       "  2.619965104088255,\n",
       "  0.0,\n",
       "  0.0,\n",
       "  2.000347299268466,\n",
       "  0.0,\n",
       "  0.0,\n",
       "  0.0,\n",
       "  0.0,\n",
       "  0.0,\n",
       "  0.0,\n",
       "  0.0,\n",
       "  0.0,\n",
       "  0.0],\n",
       " [0.0,\n",
       "  2.857738033247042,\n",
       "  0.0,\n",
       "  0.0,\n",
       "  2.619965104088255,\n",
       "  0.0,\n",
       "  0.0,\n",
       "  2.000347299268466,\n",
       "  0.0,\n",
       "  2.228387042742021,\n",
       "  2.228387042742023,\n",
       "  0.0,\n",
       "  0.0,\n",
       "  0.0,\n",
       "  0.0,\n",
       "  0.0,\n",
       "  0.0],\n",
       " [0.0,\n",
       "  2.857738033247042,\n",
       "  2.52078447201548,\n",
       "  2.061393766919624,\n",
       "  2.619965104088255,\n",
       "  0.0,\n",
       "  0.0,\n",
       "  2.000347299268466,\n",
       "  0.0,\n",
       "  0.0,\n",
       "  0.0,\n",
       "  0.0,\n",
       "  0.0,\n",
       "  0.0,\n",
       "  0.0,\n",
       "  0.0,\n",
       "  0.0],\n",
       " [0.0,\n",
       "  2.857738033247042,\n",
       "  2.52078447201548,\n",
       "  0.0,\n",
       "  2.619965104088255,\n",
       "  0.0,\n",
       "  2.004684436494304,\n",
       "  2.000347299268466,\n",
       "  0.0,\n",
       "  0.0,\n",
       "  0.0,\n",
       "  0.0,\n",
       "  0.0,\n",
       "  0.0,\n",
       "  0.0,\n",
       "  0.0,\n",
       "  0.0],\n",
       " [0.0,\n",
       "  2.857738033247042,\n",
       "  0.0,\n",
       "  2.061393766919624,\n",
       "  0.0,\n",
       "  0.0,\n",
       "  0.0,\n",
       "  2.000347299268466,\n",
       "  2.122974378789621,\n",
       "  2.228387042742021,\n",
       "  2.228387042742023,\n",
       "  0.0,\n",
       "  0.0,\n",
       "  0.0,\n",
       "  0.0,\n",
       "  0.0,\n",
       "  0.0],\n",
       " [1.0,\n",
       "  2.857738033247042,\n",
       "  0.0,\n",
       "  0.0,\n",
       "  2.619965104088255,\n",
       "  0.0,\n",
       "  2.004684436494304,\n",
       "  2.000347299268466,\n",
       "  0.0,\n",
       "  2.228387042742021,\n",
       "  2.228387042742023,\n",
       "  0.0,\n",
       "  0.0,\n",
       "  0.0,\n",
       "  0.0,\n",
       "  0.0,\n",
       "  0.0],\n",
       " [0.0,\n",
       "  2.857738033247042,\n",
       "  0.0,\n",
       "  2.061393766919624,\n",
       "  0.0,\n",
       "  0.0,\n",
       "  0.0,\n",
       "  2.000347299268466,\n",
       "  0.0,\n",
       "  2.228387042742021,\n",
       "  2.228387042742023,\n",
       "  0.0,\n",
       "  0.0,\n",
       "  0.0,\n",
       "  0.0,\n",
       "  0.0,\n",
       "  0.0],\n",
       " [0.0,\n",
       "  2.857738033247042,\n",
       "  0.0,\n",
       "  2.061393766919624,\n",
       "  0.0,\n",
       "  0.0,\n",
       "  2.004684436494304,\n",
       "  2.000347299268466,\n",
       "  0.0,\n",
       "  2.228387042742021,\n",
       "  2.228387042742023,\n",
       "  0.0,\n",
       "  0.0,\n",
       "  0.0,\n",
       "  0.0,\n",
       "  0.0,\n",
       "  0.0],\n",
       " [0.0,\n",
       "  2.857738033247042,\n",
       "  0.0,\n",
       "  2.061393766919624,\n",
       "  0.0,\n",
       "  0.0,\n",
       "  0.0,\n",
       "  0.0,\n",
       "  2.122974378789621,\n",
       "  2.228387042742021,\n",
       "  2.228387042742023,\n",
       "  0.0,\n",
       "  0.0,\n",
       "  0.0,\n",
       "  0.0,\n",
       "  0.0,\n",
       "  0.0],\n",
       " [1.0,\n",
       "  2.857738033247042,\n",
       "  0.0,\n",
       "  0.0,\n",
       "  2.619965104088255,\n",
       "  0.0,\n",
       "  0.0,\n",
       "  0.0,\n",
       "  0.0,\n",
       "  2.228387042742021,\n",
       "  2.228387042742023,\n",
       "  0.0,\n",
       "  2.055002875864414,\n",
       "  0.0,\n",
       "  0.0,\n",
       "  0.0,\n",
       "  0.0],\n",
       " [0.0,\n",
       "  2.857738033247042,\n",
       "  2.52078447201548,\n",
       "  0.0,\n",
       "  2.619965104088255,\n",
       "  0.0,\n",
       "  0.0,\n",
       "  0.0,\n",
       "  0.0,\n",
       "  2.228387042742021,\n",
       "  2.228387042742023,\n",
       "  0.0,\n",
       "  0.0,\n",
       "  0.0,\n",
       "  0.0,\n",
       "  0.0,\n",
       "  0.0],\n",
       " [0.0,\n",
       "  2.857738033247042,\n",
       "  0.0,\n",
       "  2.061393766919624,\n",
       "  2.619965104088255,\n",
       "  0.0,\n",
       "  0.0,\n",
       "  2.000347299268466,\n",
       "  2.122974378789621,\n",
       "  0.0,\n",
       "  0.0,\n",
       "  0.0,\n",
       "  0.0,\n",
       "  0.0,\n",
       "  0.0,\n",
       "  0.0,\n",
       "  0.0],\n",
       " [1.0,\n",
       "  0.0,\n",
       "  0.0,\n",
       "  2.061393766919624,\n",
       "  0.0,\n",
       "  0.0,\n",
       "  2.004684436494304,\n",
       "  2.000347299268466,\n",
       "  2.122974378789621,\n",
       "  2.228387042742021,\n",
       "  2.228387042742023,\n",
       "  0.0,\n",
       "  0.0,\n",
       "  0.0,\n",
       "  0.0,\n",
       "  0.0,\n",
       "  0.0],\n",
       " [0.0,\n",
       "  2.857738033247042,\n",
       "  0.0,\n",
       "  2.061393766919624,\n",
       "  0.0,\n",
       "  0.0,\n",
       "  2.004684436494304,\n",
       "  2.000347299268466,\n",
       "  0.0,\n",
       "  0.0,\n",
       "  0.0,\n",
       "  0.0,\n",
       "  2.055002875864414,\n",
       "  0.0,\n",
       "  0.0,\n",
       "  0.0,\n",
       "  0.0],\n",
       " [0.0,\n",
       "  2.857738033247042,\n",
       "  0.0,\n",
       "  2.061393766919624,\n",
       "  0.0,\n",
       "  0.0,\n",
       "  0.0,\n",
       "  2.000347299268466,\n",
       "  0.0,\n",
       "  2.228387042742021,\n",
       "  2.228387042742023,\n",
       "  0.0,\n",
       "  2.055002875864414,\n",
       "  0.0,\n",
       "  0.0,\n",
       "  0.0,\n",
       "  0.0],\n",
       " [0.0,\n",
       "  0.0,\n",
       "  2.52078447201548,\n",
       "  0.0,\n",
       "  2.619965104088255,\n",
       "  0.0,\n",
       "  0.0,\n",
       "  0.0,\n",
       "  2.122974378789621,\n",
       "  2.228387042742021,\n",
       "  2.228387042742023,\n",
       "  0.0,\n",
       "  0.0,\n",
       "  0.0,\n",
       "  0.0,\n",
       "  0.0,\n",
       "  0.0],\n",
       " [0.0,\n",
       "  2.857738033247042,\n",
       "  2.52078447201548,\n",
       "  0.0,\n",
       "  2.619965104088255,\n",
       "  0.0,\n",
       "  0.0,\n",
       "  0.0,\n",
       "  0.0,\n",
       "  2.228387042742021,\n",
       "  2.228387042742023,\n",
       "  0.0,\n",
       "  0.0,\n",
       "  0.0,\n",
       "  0.0,\n",
       "  0.0,\n",
       "  0.0],\n",
       " [0.0,\n",
       "  2.857738033247042,\n",
       "  0.0,\n",
       "  2.061393766919624,\n",
       "  2.619965104088255,\n",
       "  0.0,\n",
       "  2.004684436494304,\n",
       "  2.000347299268466,\n",
       "  0.0,\n",
       "  2.228387042742021,\n",
       "  2.228387042742023,\n",
       "  0.0,\n",
       "  2.055002875864414,\n",
       "  0.0,\n",
       "  0.0,\n",
       "  0.0,\n",
       "  0.0],\n",
       " [0.0,\n",
       "  2.857738033247042,\n",
       "  0.0,\n",
       "  0.0,\n",
       "  2.619965104088255,\n",
       "  4.745052855503306,\n",
       "  2.004684436494304,\n",
       "  2.000347299268466,\n",
       "  0.0,\n",
       "  0.0,\n",
       "  0.0,\n",
       "  0.0,\n",
       "  0.0,\n",
       "  0.0,\n",
       "  0.0,\n",
       "  0.0,\n",
       "  0.0],\n",
       " [1.0,\n",
       "  0.0,\n",
       "  0.0,\n",
       "  0.0,\n",
       "  0.0,\n",
       "  0.0,\n",
       "  0.0,\n",
       "  0.0,\n",
       "  2.122974378789621,\n",
       "  0.0,\n",
       "  0.0,\n",
       "  0.0,\n",
       "  0.0,\n",
       "  12.72816758217773,\n",
       "  10.4087817597473,\n",
       "  12.72816758217773,\n",
       "  17.97228742438751],\n",
       " [0.0,\n",
       "  2.857738033247042,\n",
       "  0.0,\n",
       "  2.061393766919624,\n",
       "  2.619965104088255,\n",
       "  4.745052855503306,\n",
       "  2.004684436494304,\n",
       "  0.0,\n",
       "  2.122974378789621,\n",
       "  2.228387042742021,\n",
       "  2.228387042742023,\n",
       "  0.0,\n",
       "  0.0,\n",
       "  0.0,\n",
       "  0.0,\n",
       "  0.0,\n",
       "  0.0],\n",
       " [0.0,\n",
       "  2.857738033247042,\n",
       "  0.0,\n",
       "  0.0,\n",
       "  0.0,\n",
       "  0.0,\n",
       "  2.004684436494304,\n",
       "  2.000347299268466,\n",
       "  0.0,\n",
       "  2.228387042742021,\n",
       "  2.228387042742023,\n",
       "  0.0,\n",
       "  2.055002875864414,\n",
       "  0.0,\n",
       "  0.0,\n",
       "  0.0,\n",
       "  0.0],\n",
       " [1.0,\n",
       "  0.0,\n",
       "  2.52078447201548,\n",
       "  2.061393766919624,\n",
       "  0.0,\n",
       "  0.0,\n",
       "  2.004684436494304,\n",
       "  2.000347299268466,\n",
       "  0.0,\n",
       "  0.0,\n",
       "  0.0,\n",
       "  0.0,\n",
       "  2.055002875864414,\n",
       "  0.0,\n",
       "  0.0,\n",
       "  0.0,\n",
       "  0.0],\n",
       " [0.0,\n",
       "  2.857738033247042,\n",
       "  0.0,\n",
       "  2.061393766919624,\n",
       "  0.0,\n",
       "  0.0,\n",
       "  0.0,\n",
       "  0.0,\n",
       "  2.122974378789621,\n",
       "  2.228387042742021,\n",
       "  2.228387042742023,\n",
       "  0.0,\n",
       "  2.055002875864414,\n",
       "  0.0,\n",
       "  0.0,\n",
       "  0.0,\n",
       "  0.0],\n",
       " [0.0,\n",
       "  2.857738033247042,\n",
       "  0.0,\n",
       "  0.0,\n",
       "  2.619965104088255,\n",
       "  0.0,\n",
       "  2.004684436494304,\n",
       "  2.000347299268466,\n",
       "  0.0,\n",
       "  2.228387042742021,\n",
       "  2.228387042742023,\n",
       "  0.0,\n",
       "  0.0,\n",
       "  0.0,\n",
       "  0.0,\n",
       "  0.0,\n",
       "  0.0],\n",
       " [1.0,\n",
       "  0.0,\n",
       "  0.0,\n",
       "  0.0,\n",
       "  2.619965104088255,\n",
       "  0.0,\n",
       "  2.004684436494304,\n",
       "  2.000347299268466,\n",
       "  0.0,\n",
       "  2.228387042742021,\n",
       "  2.228387042742023,\n",
       "  0.0,\n",
       "  0.0,\n",
       "  0.0,\n",
       "  0.0,\n",
       "  0.0,\n",
       "  0.0],\n",
       " [1.0,\n",
       "  2.857738033247042,\n",
       "  2.52078447201548,\n",
       "  2.061393766919624,\n",
       "  2.619965104088255,\n",
       "  0.0,\n",
       "  2.004684436494304,\n",
       "  0.0,\n",
       "  0.0,\n",
       "  2.228387042742021,\n",
       "  2.228387042742023,\n",
       "  0.0,\n",
       "  0.0,\n",
       "  0.0,\n",
       "  0.0,\n",
       "  0.0,\n",
       "  0.0],\n",
       " [1.0,\n",
       "  2.857738033247042,\n",
       "  2.52078447201548,\n",
       "  2.061393766919624,\n",
       "  2.619965104088255,\n",
       "  0.0,\n",
       "  2.004684436494304,\n",
       "  2.000347299268466,\n",
       "  0.0,\n",
       "  0.0,\n",
       "  0.0,\n",
       "  0.0,\n",
       "  0.0,\n",
       "  0.0,\n",
       "  0.0,\n",
       "  0.0,\n",
       "  0.0],\n",
       " [1.0,\n",
       "  2.857738033247042,\n",
       "  0.0,\n",
       "  2.061393766919624,\n",
       "  2.619965104088255,\n",
       "  0.0,\n",
       "  0.0,\n",
       "  2.000347299268466,\n",
       "  0.0,\n",
       "  0.0,\n",
       "  0.0,\n",
       "  0.0,\n",
       "  2.055002875864414,\n",
       "  0.0,\n",
       "  0.0,\n",
       "  0.0,\n",
       "  0.0],\n",
       " [0.0,\n",
       "  2.857738033247042,\n",
       "  0.0,\n",
       "  0.0,\n",
       "  2.619965104088255,\n",
       "  0.0,\n",
       "  2.004684436494304,\n",
       "  2.000347299268466,\n",
       "  0.0,\n",
       "  2.228387042742021,\n",
       "  2.228387042742023,\n",
       "  0.0,\n",
       "  2.055002875864414,\n",
       "  0.0,\n",
       "  0.0,\n",
       "  0.0,\n",
       "  0.0],\n",
       " [0.0,\n",
       "  0.0,\n",
       "  0.0,\n",
       "  2.061393766919624,\n",
       "  2.619965104088255,\n",
       "  0.0,\n",
       "  2.004684436494304,\n",
       "  0.0,\n",
       "  0.0,\n",
       "  2.228387042742021,\n",
       "  2.228387042742023,\n",
       "  0.0,\n",
       "  0.0,\n",
       "  0.0,\n",
       "  0.0,\n",
       "  0.0,\n",
       "  0.0],\n",
       " [1.0,\n",
       "  2.857738033247042,\n",
       "  2.52078447201548,\n",
       "  2.061393766919624,\n",
       "  2.619965104088255,\n",
       "  0.0,\n",
       "  0.0,\n",
       "  0.0,\n",
       "  0.0,\n",
       "  2.228387042742021,\n",
       "  2.228387042742023,\n",
       "  0.0,\n",
       "  0.0,\n",
       "  0.0,\n",
       "  0.0,\n",
       "  0.0,\n",
       "  0.0],\n",
       " [1.0,\n",
       "  0.0,\n",
       "  0.0,\n",
       "  0.0,\n",
       "  2.619965104088255,\n",
       "  0.0,\n",
       "  2.004684436494304,\n",
       "  2.000347299268466,\n",
       "  0.0,\n",
       "  2.228387042742021,\n",
       "  2.228387042742023,\n",
       "  0.0,\n",
       "  0.0,\n",
       "  0.0,\n",
       "  0.0,\n",
       "  0.0,\n",
       "  0.0],\n",
       " [1.0,\n",
       "  2.857738033247042,\n",
       "  0.0,\n",
       "  0.0,\n",
       "  0.0,\n",
       "  0.0,\n",
       "  0.0,\n",
       "  0.0,\n",
       "  2.122974378789621,\n",
       "  2.228387042742021,\n",
       "  2.228387042742023,\n",
       "  0.0,\n",
       "  2.055002875864414,\n",
       "  0.0,\n",
       "  0.0,\n",
       "  0.0,\n",
       "  0.0],\n",
       " [1.0,\n",
       "  2.857738033247042,\n",
       "  0.0,\n",
       "  2.061393766919624,\n",
       "  2.619965104088255,\n",
       "  0.0,\n",
       "  0.0,\n",
       "  2.000347299268466,\n",
       "  0.0,\n",
       "  2.228387042742021,\n",
       "  2.228387042742023,\n",
       "  0.0,\n",
       "  2.055002875864414,\n",
       "  0.0,\n",
       "  0.0,\n",
       "  0.0,\n",
       "  0.0],\n",
       " [0.0,\n",
       "  2.857738033247042,\n",
       "  2.52078447201548,\n",
       "  0.0,\n",
       "  0.0,\n",
       "  0.0,\n",
       "  0.0,\n",
       "  2.000347299268466,\n",
       "  0.0,\n",
       "  2.228387042742021,\n",
       "  2.228387042742023,\n",
       "  0.0,\n",
       "  0.0,\n",
       "  0.0,\n",
       "  0.0,\n",
       "  0.0,\n",
       "  0.0],\n",
       " [1.0,\n",
       "  2.857738033247042,\n",
       "  0.0,\n",
       "  0.0,\n",
       "  2.619965104088255,\n",
       "  0.0,\n",
       "  2.004684436494304,\n",
       "  2.000347299268466,\n",
       "  2.122974378789621,\n",
       "  0.0,\n",
       "  0.0,\n",
       "  0.0,\n",
       "  0.0,\n",
       "  0.0,\n",
       "  0.0,\n",
       "  0.0,\n",
       "  0.0],\n",
       " [1.0,\n",
       "  2.857738033247042,\n",
       "  0.0,\n",
       "  0.0,\n",
       "  2.619965104088255,\n",
       "  0.0,\n",
       "  2.004684436494304,\n",
       "  2.000347299268466,\n",
       "  0.0,\n",
       "  2.228387042742021,\n",
       "  2.228387042742023,\n",
       "  0.0,\n",
       "  0.0,\n",
       "  0.0,\n",
       "  0.0,\n",
       "  0.0,\n",
       "  0.0],\n",
       " [1.0,\n",
       "  2.857738033247042,\n",
       "  0.0,\n",
       "  2.061393766919624,\n",
       "  2.619965104088255,\n",
       "  4.745052855503306,\n",
       "  2.004684436494304,\n",
       "  0.0,\n",
       "  0.0,\n",
       "  0.0,\n",
       "  0.0,\n",
       "  0.0,\n",
       "  0.0,\n",
       "  0.0,\n",
       "  0.0,\n",
       "  0.0,\n",
       "  0.0],\n",
       " [1.0,\n",
       "  0.0,\n",
       "  0.0,\n",
       "  2.061393766919624,\n",
       "  0.0,\n",
       "  0.0,\n",
       "  2.004684436494304,\n",
       "  2.000347299268466,\n",
       "  0.0,\n",
       "  0.0,\n",
       "  0.0,\n",
       "  6.857275130999357,\n",
       "  2.055002875864414,\n",
       "  0.0,\n",
       "  0.0,\n",
       "  0.0,\n",
       "  0.0],\n",
       " [0.0,\n",
       "  2.857738033247042,\n",
       "  0.0,\n",
       "  0.0,\n",
       "  2.619965104088255,\n",
       "  0.0,\n",
       "  2.004684436494304,\n",
       "  0.0,\n",
       "  0.0,\n",
       "  2.228387042742021,\n",
       "  2.228387042742023,\n",
       "  0.0,\n",
       "  2.055002875864414,\n",
       "  0.0,\n",
       "  0.0,\n",
       "  0.0,\n",
       "  0.0],\n",
       " [1.0,\n",
       "  2.857738033247042,\n",
       "  2.52078447201548,\n",
       "  2.061393766919624,\n",
       "  2.619965104088255,\n",
       "  0.0,\n",
       "  0.0,\n",
       "  0.0,\n",
       "  0.0,\n",
       "  2.228387042742021,\n",
       "  2.228387042742023,\n",
       "  0.0,\n",
       "  0.0,\n",
       "  0.0,\n",
       "  0.0,\n",
       "  0.0,\n",
       "  0.0],\n",
       " [0.0,\n",
       "  2.857738033247042,\n",
       "  0.0,\n",
       "  0.0,\n",
       "  2.619965104088255,\n",
       "  0.0,\n",
       "  2.004684436494304,\n",
       "  2.000347299268466,\n",
       "  2.122974378789621,\n",
       "  0.0,\n",
       "  0.0,\n",
       "  0.0,\n",
       "  2.055002875864414,\n",
       "  0.0,\n",
       "  0.0,\n",
       "  0.0,\n",
       "  0.0],\n",
       " [0.0,\n",
       "  2.857738033247042,\n",
       "  0.0,\n",
       "  2.061393766919624,\n",
       "  2.619965104088255,\n",
       "  0.0,\n",
       "  2.004684436494304,\n",
       "  0.0,\n",
       "  0.0,\n",
       "  2.228387042742021,\n",
       "  2.228387042742023,\n",
       "  0.0,\n",
       "  0.0,\n",
       "  0.0,\n",
       "  0.0,\n",
       "  0.0,\n",
       "  0.0],\n",
       " [1.0,\n",
       "  2.857738033247042,\n",
       "  0.0,\n",
       "  0.0,\n",
       "  2.619965104088255,\n",
       "  0.0,\n",
       "  0.0,\n",
       "  0.0,\n",
       "  0.0,\n",
       "  2.228387042742021,\n",
       "  2.228387042742023,\n",
       "  0.0,\n",
       "  2.055002875864414,\n",
       "  0.0,\n",
       "  0.0,\n",
       "  0.0,\n",
       "  0.0],\n",
       " [0.0,\n",
       "  2.857738033247042,\n",
       "  0.0,\n",
       "  0.0,\n",
       "  2.619965104088255,\n",
       "  0.0,\n",
       "  2.004684436494304,\n",
       "  0.0,\n",
       "  0.0,\n",
       "  2.228387042742021,\n",
       "  2.228387042742023,\n",
       "  0.0,\n",
       "  0.0,\n",
       "  0.0,\n",
       "  0.0,\n",
       "  0.0,\n",
       "  0.0],\n",
       " [0.0,\n",
       "  2.857738033247042,\n",
       "  0.0,\n",
       "  2.061393766919624,\n",
       "  0.0,\n",
       "  4.745052855503306,\n",
       "  0.0,\n",
       "  0.0,\n",
       "  2.122974378789621,\n",
       "  2.228387042742021,\n",
       "  2.228387042742023,\n",
       "  0.0,\n",
       "  0.0,\n",
       "  0.0,\n",
       "  0.0,\n",
       "  0.0,\n",
       "  0.0],\n",
       " [0.0,\n",
       "  2.857738033247042,\n",
       "  0.0,\n",
       "  0.0,\n",
       "  2.619965104088255,\n",
       "  0.0,\n",
       "  2.004684436494304,\n",
       "  2.000347299268466,\n",
       "  0.0,\n",
       "  0.0,\n",
       "  0.0,\n",
       "  0.0,\n",
       "  2.055002875864414,\n",
       "  0.0,\n",
       "  0.0,\n",
       "  0.0,\n",
       "  0.0],\n",
       " [1.0,\n",
       "  2.857738033247042,\n",
       "  0.0,\n",
       "  0.0,\n",
       "  2.619965104088255,\n",
       "  0.0,\n",
       "  0.0,\n",
       "  0.0,\n",
       "  0.0,\n",
       "  2.228387042742021,\n",
       "  2.228387042742023,\n",
       "  6.857275130999357,\n",
       "  0.0,\n",
       "  0.0,\n",
       "  0.0,\n",
       "  0.0,\n",
       "  0.0],\n",
       " [0.0,\n",
       "  2.857738033247042,\n",
       "  2.52078447201548,\n",
       "  0.0,\n",
       "  2.619965104088255,\n",
       "  0.0,\n",
       "  2.004684436494304,\n",
       "  2.000347299268466,\n",
       "  0.0,\n",
       "  0.0,\n",
       "  0.0,\n",
       "  0.0,\n",
       "  2.055002875864414,\n",
       "  0.0,\n",
       "  0.0,\n",
       "  0.0,\n",
       "  0.0],\n",
       " [0.0,\n",
       "  2.857738033247042,\n",
       "  0.0,\n",
       "  2.061393766919624,\n",
       "  0.0,\n",
       "  0.0,\n",
       "  0.0,\n",
       "  2.000347299268466,\n",
       "  0.0,\n",
       "  2.228387042742021,\n",
       "  2.228387042742023,\n",
       "  0.0,\n",
       "  2.055002875864414,\n",
       "  0.0,\n",
       "  0.0,\n",
       "  0.0,\n",
       "  0.0],\n",
       " [0.0,\n",
       "  2.857738033247042,\n",
       "  0.0,\n",
       "  2.061393766919624,\n",
       "  0.0,\n",
       "  0.0,\n",
       "  0.0,\n",
       "  0.0,\n",
       "  2.122974378789621,\n",
       "  2.228387042742021,\n",
       "  2.228387042742023,\n",
       "  0.0,\n",
       "  0.0,\n",
       "  0.0,\n",
       "  0.0,\n",
       "  0.0,\n",
       "  0.0],\n",
       " [0.0,\n",
       "  2.857738033247042,\n",
       "  0.0,\n",
       "  2.061393766919624,\n",
       "  2.619965104088255,\n",
       "  0.0,\n",
       "  0.0,\n",
       "  0.0,\n",
       "  2.122974378789621,\n",
       "  2.228387042742021,\n",
       "  2.228387042742023,\n",
       "  0.0,\n",
       "  2.055002875864414,\n",
       "  0.0,\n",
       "  0.0,\n",
       "  0.0,\n",
       "  0.0],\n",
       " [0.0,\n",
       "  2.857738033247042,\n",
       "  0.0,\n",
       "  2.061393766919624,\n",
       "  2.619965104088255,\n",
       "  0.0,\n",
       "  0.0,\n",
       "  0.0,\n",
       "  0.0,\n",
       "  2.228387042742021,\n",
       "  2.228387042742023,\n",
       "  0.0,\n",
       "  0.0,\n",
       "  0.0,\n",
       "  0.0,\n",
       "  0.0,\n",
       "  0.0],\n",
       " [1.0,\n",
       "  2.857738033247042,\n",
       "  0.0,\n",
       "  2.061393766919624,\n",
       "  2.619965104088255,\n",
       "  0.0,\n",
       "  0.0,\n",
       "  0.0,\n",
       "  0.0,\n",
       "  2.228387042742021,\n",
       "  2.228387042742023,\n",
       "  0.0,\n",
       "  0.0,\n",
       "  0.0,\n",
       "  0.0,\n",
       "  0.0,\n",
       "  0.0],\n",
       " [0.0,\n",
       "  2.857738033247042,\n",
       "  0.0,\n",
       "  0.0,\n",
       "  0.0,\n",
       "  4.745052855503306,\n",
       "  0.0,\n",
       "  0.0,\n",
       "  0.0,\n",
       "  2.228387042742021,\n",
       "  2.228387042742023,\n",
       "  0.0,\n",
       "  2.055002875864414,\n",
       "  0.0,\n",
       "  0.0,\n",
       "  0.0,\n",
       "  0.0],\n",
       " [0.0,\n",
       "  2.857738033247042,\n",
       "  2.52078447201548,\n",
       "  0.0,\n",
       "  2.619965104088255,\n",
       "  0.0,\n",
       "  0.0,\n",
       "  0.0,\n",
       "  2.122974378789621,\n",
       "  0.0,\n",
       "  0.0,\n",
       "  0.0,\n",
       "  2.055002875864414,\n",
       "  0.0,\n",
       "  0.0,\n",
       "  0.0,\n",
       "  0.0],\n",
       " [0.0,\n",
       "  2.857738033247042,\n",
       "  0.0,\n",
       "  0.0,\n",
       "  2.619965104088255,\n",
       "  0.0,\n",
       "  2.004684436494304,\n",
       "  2.000347299268466,\n",
       "  2.122974378789621,\n",
       "  0.0,\n",
       "  0.0,\n",
       "  0.0,\n",
       "  2.055002875864414,\n",
       "  0.0,\n",
       "  0.0,\n",
       "  0.0,\n",
       "  0.0],\n",
       " [0.0,\n",
       "  2.857738033247042,\n",
       "  0.0,\n",
       "  0.0,\n",
       "  2.619965104088255,\n",
       "  0.0,\n",
       "  2.004684436494304,\n",
       "  2.000347299268466,\n",
       "  2.122974378789621,\n",
       "  0.0,\n",
       "  0.0,\n",
       "  0.0,\n",
       "  0.0,\n",
       "  0.0,\n",
       "  0.0,\n",
       "  0.0,\n",
       "  0.0],\n",
       " [1.0,\n",
       "  2.857738033247042,\n",
       "  0.0,\n",
       "  2.061393766919624,\n",
       "  2.619965104088255,\n",
       "  0.0,\n",
       "  2.004684436494304,\n",
       "  2.000347299268466,\n",
       "  2.122974378789621,\n",
       "  0.0,\n",
       "  0.0,\n",
       "  0.0,\n",
       "  0.0,\n",
       "  0.0,\n",
       "  0.0,\n",
       "  0.0,\n",
       "  0.0],\n",
       " [1.0,\n",
       "  2.857738033247042,\n",
       "  0.0,\n",
       "  0.0,\n",
       "  2.619965104088255,\n",
       "  0.0,\n",
       "  0.0,\n",
       "  0.0,\n",
       "  2.122974378789621,\n",
       "  2.228387042742021,\n",
       "  2.228387042742023,\n",
       "  0.0,\n",
       "  0.0,\n",
       "  0.0,\n",
       "  0.0,\n",
       "  0.0,\n",
       "  0.0],\n",
       " [1.0,\n",
       "  2.857738033247042,\n",
       "  2.52078447201548,\n",
       "  0.0,\n",
       "  0.0,\n",
       "  0.0,\n",
       "  0.0,\n",
       "  2.000347299268466,\n",
       "  0.0,\n",
       "  2.228387042742021,\n",
       "  2.228387042742023,\n",
       "  0.0,\n",
       "  0.0,\n",
       "  0.0,\n",
       "  0.0,\n",
       "  0.0,\n",
       "  0.0],\n",
       " [0.0,\n",
       "  2.857738033247042,\n",
       "  0.0,\n",
       "  2.061393766919624,\n",
       "  2.619965104088255,\n",
       "  4.745052855503306,\n",
       "  2.004684436494304,\n",
       "  2.000347299268466,\n",
       "  0.0,\n",
       "  0.0,\n",
       "  0.0,\n",
       "  0.0,\n",
       "  2.055002875864414,\n",
       "  0.0,\n",
       "  0.0,\n",
       "  0.0,\n",
       "  0.0],\n",
       " [0.0,\n",
       "  2.857738033247042,\n",
       "  0.0,\n",
       "  2.061393766919624,\n",
       "  2.619965104088255,\n",
       "  0.0,\n",
       "  0.0,\n",
       "  0.0,\n",
       "  2.122974378789621,\n",
       "  0.0,\n",
       "  0.0,\n",
       "  0.0,\n",
       "  2.055002875864414,\n",
       "  0.0,\n",
       "  0.0,\n",
       "  0.0,\n",
       "  0.0],\n",
       " [0.0,\n",
       "  0.0,\n",
       "  2.52078447201548,\n",
       "  2.061393766919624,\n",
       "  0.0,\n",
       "  0.0,\n",
       "  0.0,\n",
       "  0.0,\n",
       "  2.122974378789621,\n",
       "  2.228387042742021,\n",
       "  2.228387042742023,\n",
       "  0.0,\n",
       "  0.0,\n",
       "  0.0,\n",
       "  0.0,\n",
       "  0.0,\n",
       "  0.0],\n",
       " [0.0,\n",
       "  2.857738033247042,\n",
       "  0.0,\n",
       "  0.0,\n",
       "  2.619965104088255,\n",
       "  4.745052855503306,\n",
       "  2.004684436494304,\n",
       "  0.0,\n",
       "  2.122974378789621,\n",
       "  2.228387042742021,\n",
       "  2.228387042742023,\n",
       "  0.0,\n",
       "  0.0,\n",
       "  0.0,\n",
       "  0.0,\n",
       "  0.0,\n",
       "  0.0],\n",
       " [1.0,\n",
       "  2.857738033247042,\n",
       "  0.0,\n",
       "  0.0,\n",
       "  2.619965104088255,\n",
       "  0.0,\n",
       "  2.004684436494304,\n",
       "  0.0,\n",
       "  0.0,\n",
       "  2.228387042742021,\n",
       "  2.228387042742023,\n",
       "  0.0,\n",
       "  0.0,\n",
       "  0.0,\n",
       "  0.0,\n",
       "  0.0,\n",
       "  0.0],\n",
       " [0.0,\n",
       "  2.857738033247042,\n",
       "  0.0,\n",
       "  2.061393766919624,\n",
       "  0.0,\n",
       "  0.0,\n",
       "  0.0,\n",
       "  0.0,\n",
       "  2.122974378789621,\n",
       "  2.228387042742021,\n",
       "  2.228387042742023,\n",
       "  0.0,\n",
       "  0.0,\n",
       "  0.0,\n",
       "  0.0,\n",
       "  0.0,\n",
       "  0.0],\n",
       " [0.0,\n",
       "  2.857738033247042,\n",
       "  0.0,\n",
       "  0.0,\n",
       "  2.619965104088255,\n",
       "  0.0,\n",
       "  2.004684436494304,\n",
       "  2.000347299268466,\n",
       "  2.122974378789621,\n",
       "  0.0,\n",
       "  0.0,\n",
       "  0.0,\n",
       "  0.0,\n",
       "  0.0,\n",
       "  0.0,\n",
       "  0.0,\n",
       "  0.0],\n",
       " [0.0,\n",
       "  2.857738033247042,\n",
       "  0.0,\n",
       "  0.0,\n",
       "  2.619965104088255,\n",
       "  0.0,\n",
       "  0.0,\n",
       "  0.0,\n",
       "  0.0,\n",
       "  2.228387042742021,\n",
       "  2.228387042742023,\n",
       "  0.0,\n",
       "  2.055002875864414,\n",
       "  0.0,\n",
       "  0.0,\n",
       "  0.0,\n",
       "  0.0],\n",
       " [1.0,\n",
       "  0.0,\n",
       "  2.52078447201548,\n",
       "  2.061393766919624,\n",
       "  2.619965104088255,\n",
       "  0.0,\n",
       "  2.004684436494304,\n",
       "  0.0,\n",
       "  0.0,\n",
       "  2.228387042742021,\n",
       "  2.228387042742023,\n",
       "  0.0,\n",
       "  0.0,\n",
       "  0.0,\n",
       "  0.0,\n",
       "  0.0,\n",
       "  0.0],\n",
       " [0.0,\n",
       "  2.857738033247042,\n",
       "  0.0,\n",
       "  2.061393766919624,\n",
       "  2.619965104088255,\n",
       "  0.0,\n",
       "  0.0,\n",
       "  0.0,\n",
       "  2.122974378789621,\n",
       "  2.228387042742021,\n",
       "  2.228387042742023,\n",
       "  0.0,\n",
       "  0.0,\n",
       "  0.0,\n",
       "  0.0,\n",
       "  0.0,\n",
       "  0.0],\n",
       " [0.0,\n",
       "  2.857738033247042,\n",
       "  0.0,\n",
       "  0.0,\n",
       "  2.619965104088255,\n",
       "  0.0,\n",
       "  2.004684436494304,\n",
       "  0.0,\n",
       "  0.0,\n",
       "  2.228387042742021,\n",
       "  2.228387042742023,\n",
       "  0.0,\n",
       "  0.0,\n",
       "  0.0,\n",
       "  0.0,\n",
       "  0.0,\n",
       "  0.0],\n",
       " [0.0,\n",
       "  2.857738033247042,\n",
       "  0.0,\n",
       "  0.0,\n",
       "  2.619965104088255,\n",
       "  0.0,\n",
       "  0.0,\n",
       "  0.0,\n",
       "  0.0,\n",
       "  2.228387042742021,\n",
       "  2.228387042742023,\n",
       "  0.0,\n",
       "  2.055002875864414,\n",
       "  0.0,\n",
       "  0.0,\n",
       "  0.0,\n",
       "  0.0],\n",
       " [1.0,\n",
       "  2.857738033247042,\n",
       "  0.0,\n",
       "  0.0,\n",
       "  2.619965104088255,\n",
       "  0.0,\n",
       "  0.0,\n",
       "  0.0,\n",
       "  0.0,\n",
       "  2.228387042742021,\n",
       "  2.228387042742023,\n",
       "  0.0,\n",
       "  2.055002875864414,\n",
       "  0.0,\n",
       "  0.0,\n",
       "  0.0,\n",
       "  0.0],\n",
       " [1.0,\n",
       "  2.857738033247042,\n",
       "  0.0,\n",
       "  0.0,\n",
       "  2.619965104088255,\n",
       "  0.0,\n",
       "  0.0,\n",
       "  0.0,\n",
       "  0.0,\n",
       "  2.228387042742021,\n",
       "  2.228387042742023,\n",
       "  0.0,\n",
       "  2.055002875864414,\n",
       "  0.0,\n",
       "  0.0,\n",
       "  0.0,\n",
       "  0.0],\n",
       " [1.0,\n",
       "  2.857738033247042,\n",
       "  0.0,\n",
       "  0.0,\n",
       "  2.619965104088255,\n",
       "  0.0,\n",
       "  0.0,\n",
       "  0.0,\n",
       "  2.122974378789621,\n",
       "  2.228387042742021,\n",
       "  2.228387042742023,\n",
       "  0.0,\n",
       "  2.055002875864414,\n",
       "  0.0,\n",
       "  0.0,\n",
       "  0.0,\n",
       "  0.0],\n",
       " [1.0,\n",
       "  2.857738033247042,\n",
       "  0.0,\n",
       "  0.0,\n",
       "  0.0,\n",
       "  0.0,\n",
       "  0.0,\n",
       "  2.000347299268466,\n",
       "  2.122974378789621,\n",
       "  0.0,\n",
       "  0.0,\n",
       "  6.857275130999357,\n",
       "  2.055002875864414,\n",
       "  0.0,\n",
       "  0.0,\n",
       "  0.0,\n",
       "  0.0],\n",
       " [0.0,\n",
       "  2.857738033247042,\n",
       "  0.0,\n",
       "  2.061393766919624,\n",
       "  2.619965104088255,\n",
       "  4.745052855503306,\n",
       "  2.004684436494304,\n",
       "  0.0,\n",
       "  0.0,\n",
       "  2.228387042742021,\n",
       "  2.228387042742023,\n",
       "  0.0,\n",
       "  0.0,\n",
       "  0.0,\n",
       "  0.0,\n",
       "  0.0,\n",
       "  0.0],\n",
       " [1.0,\n",
       "  2.857738033247042,\n",
       "  0.0,\n",
       "  2.061393766919624,\n",
       "  2.619965104088255,\n",
       "  0.0,\n",
       "  2.004684436494304,\n",
       "  0.0,\n",
       "  0.0,\n",
       "  2.228387042742021,\n",
       "  2.228387042742023,\n",
       "  0.0,\n",
       "  0.0,\n",
       "  0.0,\n",
       "  0.0,\n",
       "  0.0,\n",
       "  0.0],\n",
       " [0.0,\n",
       "  2.857738033247042,\n",
       "  2.52078447201548,\n",
       "  0.0,\n",
       "  2.619965104088255,\n",
       "  0.0,\n",
       "  0.0,\n",
       "  0.0,\n",
       "  0.0,\n",
       "  2.228387042742021,\n",
       "  2.228387042742023,\n",
       "  0.0,\n",
       "  2.055002875864414,\n",
       "  0.0,\n",
       "  0.0,\n",
       "  0.0,\n",
       "  0.0],\n",
       " [1.0,\n",
       "  2.857738033247042,\n",
       "  0.0,\n",
       "  0.0,\n",
       "  2.619965104088255,\n",
       "  0.0,\n",
       "  2.004684436494304,\n",
       "  2.000347299268466,\n",
       "  0.0,\n",
       "  2.228387042742021,\n",
       "  2.228387042742023,\n",
       "  0.0,\n",
       "  2.055002875864414,\n",
       "  0.0,\n",
       "  0.0,\n",
       "  0.0,\n",
       "  0.0],\n",
       " [1.0,\n",
       "  2.857738033247042,\n",
       "  0.0,\n",
       "  0.0,\n",
       "  2.619965104088255,\n",
       "  0.0,\n",
       "  0.0,\n",
       "  2.000347299268466,\n",
       "  0.0,\n",
       "  2.228387042742021,\n",
       "  2.228387042742023,\n",
       "  0.0,\n",
       "  0.0,\n",
       "  0.0,\n",
       "  0.0,\n",
       "  0.0,\n",
       "  0.0],\n",
       " [1.0,\n",
       "  2.857738033247042,\n",
       "  0.0,\n",
       "  0.0,\n",
       "  2.619965104088255,\n",
       "  0.0,\n",
       "  2.004684436494304,\n",
       "  2.000347299268466,\n",
       "  0.0,\n",
       "  0.0,\n",
       "  0.0,\n",
       "  0.0,\n",
       "  2.055002875864414,\n",
       "  0.0,\n",
       "  0.0,\n",
       "  0.0,\n",
       "  0.0],\n",
       " [0.0,\n",
       "  2.857738033247042,\n",
       "  2.52078447201548,\n",
       "  0.0,\n",
       "  2.619965104088255,\n",
       "  0.0,\n",
       "  0.0,\n",
       "  2.000347299268466,\n",
       "  2.122974378789621,\n",
       "  0.0,\n",
       "  0.0,\n",
       "  0.0,\n",
       "  0.0,\n",
       "  0.0,\n",
       "  0.0,\n",
       "  0.0,\n",
       "  0.0],\n",
       " [0.0,\n",
       "  2.857738033247042,\n",
       "  0.0,\n",
       "  0.0,\n",
       "  2.619965104088255,\n",
       "  0.0,\n",
       "  0.0,\n",
       "  0.0,\n",
       "  2.122974378789621,\n",
       "  2.228387042742021,\n",
       "  2.228387042742023,\n",
       "  0.0,\n",
       "  2.055002875864414,\n",
       "  0.0,\n",
       "  0.0,\n",
       "  0.0,\n",
       "  0.0],\n",
       " [0.0,\n",
       "  0.0,\n",
       "  0.0,\n",
       "  2.061393766919624,\n",
       "  0.0,\n",
       "  0.0,\n",
       "  2.004684436494304,\n",
       "  2.000347299268466,\n",
       "  2.122974378789621,\n",
       "  0.0,\n",
       "  0.0,\n",
       "  0.0,\n",
       "  2.055002875864414,\n",
       "  0.0,\n",
       "  0.0,\n",
       "  0.0,\n",
       "  0.0],\n",
       " [1.0,\n",
       "  2.857738033247042,\n",
       "  0.0,\n",
       "  0.0,\n",
       "  2.619965104088255,\n",
       "  0.0,\n",
       "  2.004684436494304,\n",
       "  2.000347299268466,\n",
       "  0.0,\n",
       "  2.228387042742021,\n",
       "  2.228387042742023,\n",
       "  0.0,\n",
       "  0.0,\n",
       "  0.0,\n",
       "  0.0,\n",
       "  0.0,\n",
       "  0.0],\n",
       " [1.0,\n",
       "  2.857738033247042,\n",
       "  2.52078447201548,\n",
       "  2.061393766919624,\n",
       "  0.0,\n",
       "  0.0,\n",
       "  0.0,\n",
       "  0.0,\n",
       "  0.0,\n",
       "  2.228387042742021,\n",
       "  2.228387042742023,\n",
       "  0.0,\n",
       "  0.0,\n",
       "  0.0,\n",
       "  0.0,\n",
       "  0.0,\n",
       "  0.0],\n",
       " [1.0,\n",
       "  0.0,\n",
       "  0.0,\n",
       "  0.0,\n",
       "  2.619965104088255,\n",
       "  0.0,\n",
       "  0.0,\n",
       "  2.000347299268466,\n",
       "  0.0,\n",
       "  2.228387042742021,\n",
       "  2.228387042742023,\n",
       "  6.857275130999357,\n",
       "  0.0,\n",
       "  0.0,\n",
       "  0.0,\n",
       "  0.0,\n",
       "  0.0],\n",
       " [1.0,\n",
       "  2.857738033247042,\n",
       "  0.0,\n",
       "  2.061393766919624,\n",
       "  2.619965104088255,\n",
       "  0.0,\n",
       "  0.0,\n",
       "  0.0,\n",
       "  0.0,\n",
       "  2.228387042742021,\n",
       "  2.228387042742023,\n",
       "  0.0,\n",
       "  2.055002875864414,\n",
       "  0.0,\n",
       "  0.0,\n",
       "  0.0,\n",
       "  0.0],\n",
       " [0.0,\n",
       "  2.857738033247042,\n",
       "  0.0,\n",
       "  0.0,\n",
       "  2.619965104088255,\n",
       "  0.0,\n",
       "  2.004684436494304,\n",
       "  0.0,\n",
       "  0.0,\n",
       "  2.228387042742021,\n",
       "  2.228387042742023,\n",
       "  0.0,\n",
       "  0.0,\n",
       "  0.0,\n",
       "  0.0,\n",
       "  0.0,\n",
       "  0.0],\n",
       " [1.0,\n",
       "  2.857738033247042,\n",
       "  0.0,\n",
       "  0.0,\n",
       "  2.619965104088255,\n",
       "  0.0,\n",
       "  2.004684436494304,\n",
       "  2.000347299268466,\n",
       "  0.0,\n",
       "  0.0,\n",
       "  0.0,\n",
       "  0.0,\n",
       "  2.055002875864414,\n",
       "  0.0,\n",
       "  0.0,\n",
       "  0.0,\n",
       "  0.0],\n",
       " [0.0,\n",
       "  2.857738033247042,\n",
       "  0.0,\n",
       "  2.061393766919624,\n",
       "  2.619965104088255,\n",
       "  0.0,\n",
       "  2.004684436494304,\n",
       "  2.000347299268466,\n",
       "  0.0,\n",
       "  0.0,\n",
       "  0.0,\n",
       "  0.0,\n",
       "  2.055002875864414,\n",
       "  0.0,\n",
       "  0.0,\n",
       "  0.0,\n",
       "  0.0],\n",
       " [0.0,\n",
       "  2.857738033247042,\n",
       "  2.52078447201548,\n",
       "  2.061393766919624,\n",
       "  2.619965104088255,\n",
       "  0.0,\n",
       "  0.0,\n",
       "  2.000347299268466,\n",
       "  0.0,\n",
       "  0.0,\n",
       "  0.0,\n",
       "  0.0,\n",
       "  0.0,\n",
       "  0.0,\n",
       "  0.0,\n",
       "  0.0,\n",
       "  0.0],\n",
       " [0.0,\n",
       "  2.857738033247042,\n",
       "  0.0,\n",
       "  0.0,\n",
       "  2.619965104088255,\n",
       "  0.0,\n",
       "  0.0,\n",
       "  0.0,\n",
       "  2.122974378789621,\n",
       "  2.228387042742021,\n",
       "  2.228387042742023,\n",
       "  0.0,\n",
       "  2.055002875864414,\n",
       "  0.0,\n",
       "  0.0,\n",
       "  0.0,\n",
       "  0.0],\n",
       " [0.0,\n",
       "  2.857738033247042,\n",
       "  0.0,\n",
       "  2.061393766919624,\n",
       "  2.619965104088255,\n",
       "  0.0,\n",
       "  2.004684436494304,\n",
       "  0.0,\n",
       "  0.0,\n",
       "  0.0,\n",
       "  0.0,\n",
       "  0.0,\n",
       "  2.055002875864414,\n",
       "  0.0,\n",
       "  0.0,\n",
       "  0.0,\n",
       "  0.0],\n",
       " [1.0,\n",
       "  2.857738033247042,\n",
       "  0.0,\n",
       "  0.0,\n",
       "  2.619965104088255,\n",
       "  0.0,\n",
       "  2.004684436494304,\n",
       "  2.000347299268466,\n",
       "  2.122974378789621,\n",
       "  2.228387042742021,\n",
       "  2.228387042742023,\n",
       "  0.0,\n",
       "  0.0,\n",
       "  0.0,\n",
       "  0.0,\n",
       "  0.0,\n",
       "  0.0],\n",
       " [0.0,\n",
       "  2.857738033247042,\n",
       "  2.52078447201548,\n",
       "  0.0,\n",
       "  0.0,\n",
       "  0.0,\n",
       "  0.0,\n",
       "  0.0,\n",
       "  2.122974378789621,\n",
       "  2.228387042742021,\n",
       "  2.228387042742023,\n",
       "  0.0,\n",
       "  0.0,\n",
       "  0.0,\n",
       "  0.0,\n",
       "  0.0,\n",
       "  0.0],\n",
       " [0.0,\n",
       "  2.857738033247042,\n",
       "  0.0,\n",
       "  2.061393766919624,\n",
       "  2.619965104088255,\n",
       "  4.745052855503306,\n",
       "  0.0,\n",
       "  0.0,\n",
       "  0.0,\n",
       "  2.228387042742021,\n",
       "  2.228387042742023,\n",
       "  0.0,\n",
       "  0.0,\n",
       "  0.0,\n",
       "  0.0,\n",
       "  0.0,\n",
       "  0.0],\n",
       " [1.0,\n",
       "  0.0,\n",
       "  0.0,\n",
       "  0.0,\n",
       "  2.619965104088255,\n",
       "  0.0,\n",
       "  2.004684436494304,\n",
       "  2.000347299268466,\n",
       "  0.0,\n",
       "  2.228387042742021,\n",
       "  2.228387042742023,\n",
       "  0.0,\n",
       "  0.0,\n",
       "  0.0,\n",
       "  0.0,\n",
       "  0.0,\n",
       "  0.0],\n",
       " [0.0,\n",
       "  2.857738033247042,\n",
       "  2.52078447201548,\n",
       "  0.0,\n",
       "  0.0,\n",
       "  0.0,\n",
       "  0.0,\n",
       "  0.0,\n",
       "  2.122974378789621,\n",
       "  2.228387042742021,\n",
       "  2.228387042742023,\n",
       "  0.0,\n",
       "  0.0,\n",
       "  0.0,\n",
       "  0.0,\n",
       "  0.0,\n",
       "  0.0],\n",
       " [1.0,\n",
       "  2.857738033247042,\n",
       "  2.52078447201548,\n",
       "  0.0,\n",
       "  2.619965104088255,\n",
       "  0.0,\n",
       "  2.004684436494304,\n",
       "  0.0,\n",
       "  0.0,\n",
       "  2.228387042742021,\n",
       "  2.228387042742023,\n",
       "  0.0,\n",
       "  0.0,\n",
       "  0.0,\n",
       "  0.0,\n",
       "  0.0,\n",
       "  0.0],\n",
       " [0.0,\n",
       "  2.857738033247042,\n",
       "  0.0,\n",
       "  0.0,\n",
       "  2.619965104088255,\n",
       "  0.0,\n",
       "  0.0,\n",
       "  0.0,\n",
       "  2.122974378789621,\n",
       "  2.228387042742021,\n",
       "  2.228387042742023,\n",
       "  0.0,\n",
       "  0.0,\n",
       "  0.0,\n",
       "  0.0,\n",
       "  0.0,\n",
       "  0.0],\n",
       " [0.0,\n",
       "  2.857738033247042,\n",
       "  0.0,\n",
       "  2.061393766919624,\n",
       "  0.0,\n",
       "  0.0,\n",
       "  2.004684436494304,\n",
       "  0.0,\n",
       "  2.122974378789621,\n",
       "  0.0,\n",
       "  0.0,\n",
       "  0.0,\n",
       "  0.0,\n",
       "  0.0,\n",
       "  10.4087817597473,\n",
       "  0.0,\n",
       "  0.0],\n",
       " [0.0,\n",
       "  2.857738033247042,\n",
       "  0.0,\n",
       "  2.061393766919624,\n",
       "  2.619965104088255,\n",
       "  0.0,\n",
       "  2.004684436494304,\n",
       "  0.0,\n",
       "  2.122974378789621,\n",
       "  0.0,\n",
       "  0.0,\n",
       "  0.0,\n",
       "  0.0,\n",
       "  0.0,\n",
       "  0.0,\n",
       "  0.0,\n",
       "  0.0],\n",
       " [1.0,\n",
       "  2.857738033247042,\n",
       "  0.0,\n",
       "  0.0,\n",
       "  2.619965104088255,\n",
       "  0.0,\n",
       "  2.004684436494304,\n",
       "  2.000347299268466,\n",
       "  0.0,\n",
       "  2.228387042742021,\n",
       "  2.228387042742023,\n",
       "  0.0,\n",
       "  0.0,\n",
       "  0.0,\n",
       "  0.0,\n",
       "  0.0,\n",
       "  0.0],\n",
       " [0.0,\n",
       "  2.857738033247042,\n",
       "  0.0,\n",
       "  0.0,\n",
       "  2.619965104088255,\n",
       "  0.0,\n",
       "  2.004684436494304,\n",
       "  2.000347299268466,\n",
       "  2.122974378789621,\n",
       "  0.0,\n",
       "  0.0,\n",
       "  0.0,\n",
       "  0.0,\n",
       "  0.0,\n",
       "  0.0,\n",
       "  0.0,\n",
       "  0.0],\n",
       " [1.0,\n",
       "  2.857738033247042,\n",
       "  0.0,\n",
       "  0.0,\n",
       "  2.619965104088255,\n",
       "  0.0,\n",
       "  0.0,\n",
       "  2.000347299268466,\n",
       "  0.0,\n",
       "  2.228387042742021,\n",
       "  2.228387042742023,\n",
       "  0.0,\n",
       "  0.0,\n",
       "  0.0,\n",
       "  0.0,\n",
       "  0.0,\n",
       "  0.0],\n",
       " [1.0,\n",
       "  0.0,\n",
       "  2.52078447201548,\n",
       "  0.0,\n",
       "  2.619965104088255,\n",
       "  0.0,\n",
       "  0.0,\n",
       "  0.0,\n",
       "  0.0,\n",
       "  2.228387042742021,\n",
       "  2.228387042742023,\n",
       "  0.0,\n",
       "  2.055002875864414,\n",
       "  0.0,\n",
       "  0.0,\n",
       "  0.0,\n",
       "  0.0],\n",
       " [1.0,\n",
       "  2.857738033247042,\n",
       "  0.0,\n",
       "  0.0,\n",
       "  2.619965104088255,\n",
       "  0.0,\n",
       "  0.0,\n",
       "  0.0,\n",
       "  2.122974378789621,\n",
       "  2.228387042742021,\n",
       "  2.228387042742023,\n",
       "  0.0,\n",
       "  2.055002875864414,\n",
       "  0.0,\n",
       "  0.0,\n",
       "  0.0,\n",
       "  0.0]]"
      ]
     },
     "execution_count": 61,
     "metadata": {},
     "output_type": "execute_result"
    }
   ],
   "source": [
    "_rdd.collect()"
   ]
  },
  {
   "cell_type": "markdown",
   "metadata": {
    "slideshow": {
     "slide_type": "subslide"
    }
   },
   "source": [
    "각 행으로 분리되므로 2차원 리스트가 생성이 된다. 첫째 행을 읽으려면 인덱스를 사용해야 한다."
   ]
  },
  {
   "cell_type": "code",
   "execution_count": 53,
   "metadata": {},
   "outputs": [
    {
     "data": {
      "text/plain": [
       "[1.0,\n",
       " 0.0,\n",
       " 2.52078447201548,\n",
       " 0.0,\n",
       " 0.0,\n",
       " 0.0,\n",
       " 2.004684436494304,\n",
       " 2.000347299268466,\n",
       " 0.0,\n",
       " 2.228387042742021,\n",
       " 2.228387042742023,\n",
       " 0.0,\n",
       " 0.0,\n",
       " 0.0,\n",
       " 0.0,\n",
       " 0.0,\n",
       " 0.0]"
      ]
     },
     "execution_count": 53,
     "metadata": {},
     "output_type": "execute_result"
    }
   ],
   "source": [
    "_rdd.take(2)[0]"
   ]
  },
  {
   "cell_type": "markdown",
   "metadata": {
    "slideshow": {
     "slide_type": "subslide"
    }
   },
   "source": [
    "### LabeledPoint 생성\n",
    "\n",
    "위 데이터에서 보듯이 첫 열은 **label**로, 그 나머지는 **features**로 생성한다."
   ]
  },
  {
   "cell_type": "code",
   "execution_count": 54,
   "metadata": {},
   "outputs": [],
   "source": [
    "from pyspark.mllib.regression import LabeledPoint\n",
    "\n",
    "_trainRdd0=_rdd.map(lambda line:LabeledPoint(line[0], line[1:]))"
   ]
  },
  {
   "cell_type": "code",
   "execution_count": 55,
   "metadata": {},
   "outputs": [
    {
     "data": {
      "text/plain": [
       "[LabeledPoint(1.0, [0.0,2.52078447201548,0.0,0.0,0.0,2.004684436494304,2.000347299268466,0.0,2.228387042742021,2.228387042742023,0.0,0.0,0.0,0.0,0.0,0.0])]"
      ]
     },
     "execution_count": 55,
     "metadata": {},
     "output_type": "execute_result"
    }
   ],
   "source": [
    "_trainRdd0.take(1)"
   ]
  },
  {
   "cell_type": "markdown",
   "metadata": {
    "slideshow": {
     "slide_type": "subslide"
    }
   },
   "source": [
    "공백을 분리하고, 분리된 데이터를 labeled point로 구성하는 기능을 합쳐서 실행해 본다."
   ]
  },
  {
   "cell_type": "code",
   "execution_count": 56,
   "metadata": {},
   "outputs": [],
   "source": [
    "_trainRdd=spark.sparkContext.textFile(_fsvm)\\\n",
    "    .map(lambda line: [float(x) for x in line.split()])\\\n",
    "    .map(lambda p:LabeledPoint(p[0], p[1:]))"
   ]
  },
  {
   "cell_type": "code",
   "execution_count": 57,
   "metadata": {},
   "outputs": [
    {
     "data": {
      "text/plain": [
       "[LabeledPoint(1.0, [0.0,2.52078447201548,0.0,0.0,0.0,2.004684436494304,2.000347299268466,0.0,2.228387042742021,2.228387042742023,0.0,0.0,0.0,0.0,0.0,0.0])]"
      ]
     },
     "execution_count": 57,
     "metadata": {},
     "output_type": "execute_result"
    }
   ],
   "source": [
    "_trainRdd.take(1)"
   ]
  },
  {
   "cell_type": "markdown",
   "metadata": {
    "slideshow": {
     "slide_type": "subslide"
    }
   },
   "source": [
    "### 정리하면\n",
    "\n",
    "데이터를 변환하는 과정을 함수로 만들었다.\n",
    "```createLP(line)```는 행 데이터를 받아서 LabeledPoint로 생성하고 있다."
   ]
  },
  {
   "cell_type": "code",
   "execution_count": 63,
   "metadata": {},
   "outputs": [
    {
     "data": {
      "text/plain": [
       "[LabeledPoint(1.0, [0.0,2.52078447201548,0.0,0.0,0.0,2.004684436494304,2.000347299268466,0.0,2.228387042742021,2.228387042742023,0.0,0.0,0.0,0.0,0.0,0.0])]"
      ]
     },
     "execution_count": 63,
     "metadata": {},
     "output_type": "execute_result"
    }
   ],
   "source": [
    "def createLP(line):\n",
    "    p = [float(x) for x in line.split()]\n",
    "    return LabeledPoint(p[0], p[1:])\n",
    "\n",
    "_rdd=spark.sparkContext.textFile(_fsvm)\n",
    "trainRdd = _rdd.map(createLP)\n",
    "\n",
    "trainRdd.take(1)"
   ]
  },
  {
   "cell_type": "markdown",
   "metadata": {
    "slideshow": {
     "slide_type": "slide"
    }
   },
   "source": [
    "### S.4.5 svm의 입력파일 형식\n",
    "\n",
    "LIBSVM은 기계학습 모델인 svm을 위한 입력데이터 형식이다.\n",
    "0은 label, 나머지는 index:value 쌍으로 구성한다.\n",
    "\n",
    "```python\n",
    "[label] [index1]:[value1] [index2]:[value2] ...\n",
    "[label] [index1]:[value1] [index2]:[value2] ...\n",
    "```\n",
    "\n",
    "* 예\n",
    "```python\n",
    "0 128:51 129:159 130:253 131:159 132:50 155:48 156:238 157:252 158:252 159:252 160:237 182:54 183:227 184:253 185:252 186:239 187:233 ...\n",
    "```\n"
   ]
  },
  {
   "cell_type": "markdown",
   "metadata": {},
   "source": [
    "#### DataFrame 읽기\n",
    "\n",
    "파일의 경로를 설정한다."
   ]
  },
  {
   "cell_type": "code",
   "execution_count": 65,
   "metadata": {},
   "outputs": [],
   "source": [
    "fsvm=os.path.join(os.environ[\"SPARK_HOME\"],'data','mllib','sample_libsvm_data.txt')"
   ]
  },
  {
   "cell_type": "markdown",
   "metadata": {},
   "source": [
    "LIBSVM 데이터를 DataFrame으로 읽고, label 컬럼과 features 컬럼을 생성한다.\n",
    "이 경우, DataFrameReader의 포맷 format(\"libsvm\")과 options을 설정할 수 있다."
   ]
  },
  {
   "cell_type": "code",
   "execution_count": 66,
   "metadata": {
    "slideshow": {
     "slide_type": "subslide"
    }
   },
   "outputs": [],
   "source": [
    "dfsvm = spark.read.format(\"libsvm\").load(fsvm)"
   ]
  },
  {
   "cell_type": "code",
   "execution_count": 71,
   "metadata": {},
   "outputs": [
    {
     "data": {
      "text/plain": [
       "pyspark.sql.dataframe.DataFrame"
      ]
     },
     "execution_count": 71,
     "metadata": {},
     "output_type": "execute_result"
    }
   ],
   "source": [
    "type(dfsvm)"
   ]
  },
  {
   "cell_type": "markdown",
   "metadata": {},
   "source": [
    "스키마를 출력하면, 의도한 바와 같이 label, features 컬럼과 그 타입이 double, vector로 설정되어 있다."
   ]
  },
  {
   "cell_type": "code",
   "execution_count": 67,
   "metadata": {},
   "outputs": [
    {
     "name": "stdout",
     "output_type": "stream",
     "text": [
      "root\n",
      " |-- label: double (nullable = true)\n",
      " |-- features: vector (nullable = true)\n",
      "\n"
     ]
    }
   ],
   "source": [
    "dfsvm.printSchema()"
   ]
  },
  {
   "cell_type": "markdown",
   "metadata": {},
   "source": [
    "DataFrame에서는 label, features 컬럼이 별도로 생성되고, features는 sparse vectors 형식으로 구성된다."
   ]
  },
  {
   "cell_type": "code",
   "execution_count": 68,
   "metadata": {
    "slideshow": {
     "slide_type": "subslide"
    }
   },
   "outputs": [
    {
     "data": {
      "text/plain": [
       "[Row(label=0.0, features=SparseVector(692, {127: 51.0, 128: 159.0, 129: 253.0, 130: 159.0, 131: 50.0, 154: 48.0, 155: 238.0, 156: 252.0, 157: 252.0, 158: 252.0, 159: 237.0, 181: 54.0, 182: 227.0, 183: 253.0, 184: 252.0, 185: 239.0, 186: 233.0, 187: 252.0, 188: 57.0, 189: 6.0, 207: 10.0, 208: 60.0, 209: 224.0, 210: 252.0, 211: 253.0, 212: 252.0, 213: 202.0, 214: 84.0, 215: 252.0, 216: 253.0, 217: 122.0, 235: 163.0, 236: 252.0, 237: 252.0, 238: 252.0, 239: 253.0, 240: 252.0, 241: 252.0, 242: 96.0, 243: 189.0, 244: 253.0, 245: 167.0, 262: 51.0, 263: 238.0, 264: 253.0, 265: 253.0, 266: 190.0, 267: 114.0, 268: 253.0, 269: 228.0, 270: 47.0, 271: 79.0, 272: 255.0, 273: 168.0, 289: 48.0, 290: 238.0, 291: 252.0, 292: 252.0, 293: 179.0, 294: 12.0, 295: 75.0, 296: 121.0, 297: 21.0, 300: 253.0, 301: 243.0, 302: 50.0, 316: 38.0, 317: 165.0, 318: 253.0, 319: 233.0, 320: 208.0, 321: 84.0, 328: 253.0, 329: 252.0, 330: 165.0, 343: 7.0, 344: 178.0, 345: 252.0, 346: 240.0, 347: 71.0, 348: 19.0, 349: 28.0, 356: 253.0, 357: 252.0, 358: 195.0, 371: 57.0, 372: 252.0, 373: 252.0, 374: 63.0, 384: 253.0, 385: 252.0, 386: 195.0, 399: 198.0, 400: 253.0, 401: 190.0, 412: 255.0, 413: 253.0, 414: 196.0, 426: 76.0, 427: 246.0, 428: 252.0, 429: 112.0, 440: 253.0, 441: 252.0, 442: 148.0, 454: 85.0, 455: 252.0, 456: 230.0, 457: 25.0, 466: 7.0, 467: 135.0, 468: 253.0, 469: 186.0, 470: 12.0, 482: 85.0, 483: 252.0, 484: 223.0, 493: 7.0, 494: 131.0, 495: 252.0, 496: 225.0, 497: 71.0, 510: 85.0, 511: 252.0, 512: 145.0, 520: 48.0, 521: 165.0, 522: 252.0, 523: 173.0, 538: 86.0, 539: 253.0, 540: 225.0, 547: 114.0, 548: 238.0, 549: 253.0, 550: 162.0, 566: 85.0, 567: 252.0, 568: 249.0, 569: 146.0, 570: 48.0, 571: 29.0, 572: 85.0, 573: 178.0, 574: 225.0, 575: 253.0, 576: 223.0, 577: 167.0, 578: 56.0, 594: 85.0, 595: 252.0, 596: 252.0, 597: 252.0, 598: 229.0, 599: 215.0, 600: 252.0, 601: 252.0, 602: 252.0, 603: 196.0, 604: 130.0, 622: 28.0, 623: 199.0, 624: 252.0, 625: 252.0, 626: 253.0, 627: 252.0, 628: 252.0, 629: 233.0, 630: 145.0, 651: 25.0, 652: 128.0, 653: 252.0, 654: 253.0, 655: 252.0, 656: 141.0, 657: 37.0}))]"
      ]
     },
     "execution_count": 68,
     "metadata": {},
     "output_type": "execute_result"
    }
   ],
   "source": [
    "dfsvm.take(1)"
   ]
  },
  {
   "cell_type": "markdown",
   "metadata": {
    "collapsed": true
   },
   "source": [
    "### MLUtils를 사용하여 RDD 읽기\n",
    "\n",
    "또는 ```MLUtils.loadLibSVMFile```로 읽을 수 있다."
   ]
  },
  {
   "cell_type": "code",
   "execution_count": 72,
   "metadata": {},
   "outputs": [],
   "source": [
    "from pyspark.mllib.util import MLUtils\n",
    "\n",
    "data = MLUtils.loadLibSVMFile(spark.sparkContext, fsvm)"
   ]
  },
  {
   "cell_type": "code",
   "execution_count": 73,
   "metadata": {},
   "outputs": [],
   "source": [
    "label = data.map(lambda x: x.label)\n",
    "features = data.map(lambda x: x.features)"
   ]
  },
  {
   "cell_type": "code",
   "execution_count": 74,
   "metadata": {},
   "outputs": [
    {
     "data": {
      "text/plain": [
       "[0.0, 1.0, 1.0, 1.0, 1.0]"
      ]
     },
     "execution_count": 74,
     "metadata": {},
     "output_type": "execute_result"
    }
   ],
   "source": [
    "label.take(5)"
   ]
  },
  {
   "cell_type": "code",
   "execution_count": 75,
   "metadata": {},
   "outputs": [
    {
     "data": {
      "text/plain": [
       "[SparseVector(692, {127: 51.0, 128: 159.0, 129: 253.0, 130: 159.0, 131: 50.0, 154: 48.0, 155: 238.0, 156: 252.0, 157: 252.0, 158: 252.0, 159: 237.0, 181: 54.0, 182: 227.0, 183: 253.0, 184: 252.0, 185: 239.0, 186: 233.0, 187: 252.0, 188: 57.0, 189: 6.0, 207: 10.0, 208: 60.0, 209: 224.0, 210: 252.0, 211: 253.0, 212: 252.0, 213: 202.0, 214: 84.0, 215: 252.0, 216: 253.0, 217: 122.0, 235: 163.0, 236: 252.0, 237: 252.0, 238: 252.0, 239: 253.0, 240: 252.0, 241: 252.0, 242: 96.0, 243: 189.0, 244: 253.0, 245: 167.0, 262: 51.0, 263: 238.0, 264: 253.0, 265: 253.0, 266: 190.0, 267: 114.0, 268: 253.0, 269: 228.0, 270: 47.0, 271: 79.0, 272: 255.0, 273: 168.0, 289: 48.0, 290: 238.0, 291: 252.0, 292: 252.0, 293: 179.0, 294: 12.0, 295: 75.0, 296: 121.0, 297: 21.0, 300: 253.0, 301: 243.0, 302: 50.0, 316: 38.0, 317: 165.0, 318: 253.0, 319: 233.0, 320: 208.0, 321: 84.0, 328: 253.0, 329: 252.0, 330: 165.0, 343: 7.0, 344: 178.0, 345: 252.0, 346: 240.0, 347: 71.0, 348: 19.0, 349: 28.0, 356: 253.0, 357: 252.0, 358: 195.0, 371: 57.0, 372: 252.0, 373: 252.0, 374: 63.0, 384: 253.0, 385: 252.0, 386: 195.0, 399: 198.0, 400: 253.0, 401: 190.0, 412: 255.0, 413: 253.0, 414: 196.0, 426: 76.0, 427: 246.0, 428: 252.0, 429: 112.0, 440: 253.0, 441: 252.0, 442: 148.0, 454: 85.0, 455: 252.0, 456: 230.0, 457: 25.0, 466: 7.0, 467: 135.0, 468: 253.0, 469: 186.0, 470: 12.0, 482: 85.0, 483: 252.0, 484: 223.0, 493: 7.0, 494: 131.0, 495: 252.0, 496: 225.0, 497: 71.0, 510: 85.0, 511: 252.0, 512: 145.0, 520: 48.0, 521: 165.0, 522: 252.0, 523: 173.0, 538: 86.0, 539: 253.0, 540: 225.0, 547: 114.0, 548: 238.0, 549: 253.0, 550: 162.0, 566: 85.0, 567: 252.0, 568: 249.0, 569: 146.0, 570: 48.0, 571: 29.0, 572: 85.0, 573: 178.0, 574: 225.0, 575: 253.0, 576: 223.0, 577: 167.0, 578: 56.0, 594: 85.0, 595: 252.0, 596: 252.0, 597: 252.0, 598: 229.0, 599: 215.0, 600: 252.0, 601: 252.0, 602: 252.0, 603: 196.0, 604: 130.0, 622: 28.0, 623: 199.0, 624: 252.0, 625: 252.0, 626: 253.0, 627: 252.0, 628: 252.0, 629: 233.0, 630: 145.0, 651: 25.0, 652: 128.0, 653: 252.0, 654: 253.0, 655: 252.0, 656: 141.0, 657: 37.0})]"
      ]
     },
     "execution_count": 75,
     "metadata": {},
     "output_type": "execute_result"
    }
   ],
   "source": [
    "features.take(1)"
   ]
  },
  {
   "cell_type": "markdown",
   "metadata": {},
   "source": [
    "### S.4.6 TF\n",
    "\n",
    "지금까지는 정량데이터를 다루었지만, **텍스트**를 변환해보자.\n",
    "TF (Term Frequency)\n",
    "단어빈도를 계산하기 위해 HashingTF를 사용할 수 있다.\n",
    "단어ID로 Hash 알고리즘에 따라 무작위 번호를 생성하고, 단어빈도를 생성한다.\n",
    "Hash를 사용하지 않고 계산한 단어빈도는 당연히 동일하다는 것을 알 수 있다."
   ]
  },
  {
   "cell_type": "code",
   "execution_count": 76,
   "metadata": {},
   "outputs": [],
   "source": [
    "wikiRdd3 = spark.sparkContext\\\n",
    "    .textFile(os.path.join(\"data\",\"ds_spark_wiki.txt\"))\\\n",
    "    .map(lambda line: line.split())"
   ]
  },
  {
   "cell_type": "markdown",
   "metadata": {},
   "source": [
    "RDD는 mllib 라이브러리를 사용한다. 여기의 HashingTF를 사용한다.\n",
    "transform() 함수를 사용하여 RDD를 단어빈도 구조로 변환한다.\n",
    "단 fit()은 하지 않아도 된다는 점에 주의하자."
   ]
  },
  {
   "cell_type": "code",
   "execution_count": 77,
   "metadata": {},
   "outputs": [
    {
     "data": {
      "text/plain": [
       "[SparseVector(1048576, {1026674: 1.0}),\n",
       " SparseVector(1048576, {148618: 1.0, 183975: 1.0, 216207: 1.0, 261052: 1.0, 617454: 1.0, 696349: 1.0, 721336: 1.0, 816618: 1.0, 897662: 1.0}),\n",
       " SparseVector(1048576, {60386: 1.0, 177421: 1.0, 568609: 1.0, 569458: 1.0, 847171: 1.0, 850510: 1.0, 1040679: 1.0}),\n",
       " SparseVector(1048576, {261052: 4.0, 816618: 4.0}),\n",
       " SparseVector(1048576, {60386: 4.0, 594754: 4.0}),\n",
       " SparseVector(1048576, {21980: 1.0, 70882: 1.0, 274690: 1.0, 357784: 1.0, 549790: 1.0, 597434: 1.0, 804583: 1.0, 829803: 1.0, 935701: 1.0}),\n",
       " SparseVector(1048576, {154253: 1.0, 261052: 1.0, 438276: 1.0, 460085: 1.0, 585459: 1.0, 664288: 1.0, 816618: 1.0, 935701: 2.0, 948143: 1.0, 1017889: 1.0}),\n",
       " SparseVector(1048576, {270017: 1.0, 472985: 1.0, 511771: 1.0, 718483: 1.0, 820917: 1.0}),\n",
       " SparseVector(1048576, {34116: 1.0, 87407: 1.0, 276491: 1.0, 348943: 1.0, 482882: 1.0, 549350: 1.0, 721336: 1.0, 816618: 1.0, 1025622: 1.0}),\n",
       " SparseVector(1048576, {1769: 1.0, 151357: 1.0, 500659: 1.0, 547760: 1.0, 979482: 1.0})]"
      ]
     },
     "execution_count": 77,
     "metadata": {},
     "output_type": "execute_result"
    }
   ],
   "source": [
    "from pyspark.mllib.feature import HashingTF\n",
    "\n",
    "hashingTF = HashingTF()\n",
    "tf = hashingTF.transform(wikiRdd3)\n",
    "tf.collect()"
   ]
  },
  {
   "cell_type": "markdown",
   "metadata": {},
   "source": [
    "### S.4.7 TF-IDF\n",
    "\n",
    "IDF는 전체에서 몇 개의 문서에 씌였는지를 반대로 계산한 값이다.\n",
    "뒤 DataFrame를 사용하여 TF-IDF를 계산하면서 자세히 설명하기로 한다."
   ]
  },
  {
   "cell_type": "code",
   "execution_count": 80,
   "metadata": {},
   "outputs": [],
   "source": [
    "from pyspark.mllib.feature import HashingTF, IDF\n",
    "\n",
    "idf = IDF().fit(tf)\n",
    "tfidf = idf.transform(tf)"
   ]
  },
  {
   "cell_type": "code",
   "execution_count": 81,
   "metadata": {},
   "outputs": [
    {
     "data": {
      "text/plain": [
       "[SparseVector(1048576, {1026674: 1.7047}),\n",
       " SparseVector(1048576, {148618: 1.7047, 183975: 1.7047, 216207: 1.7047, 261052: 1.0116, 617454: 1.7047, 696349: 1.7047, 721336: 1.2993, 816618: 0.7885, 897662: 1.7047}),\n",
       " SparseVector(1048576, {60386: 1.2993, 177421: 1.7047, 568609: 1.7047, 569458: 1.7047, 847171: 1.7047, 850510: 1.7047, 1040679: 1.7047}),\n",
       " SparseVector(1048576, {261052: 4.0464, 816618: 3.1538}),\n",
       " SparseVector(1048576, {60386: 5.1971, 594754: 6.819}),\n",
       " SparseVector(1048576, {21980: 1.7047, 70882: 1.7047, 274690: 1.7047, 357784: 1.7047, 549790: 1.7047, 597434: 1.7047, 804583: 1.7047, 829803: 1.7047, 935701: 1.2993}),\n",
       " SparseVector(1048576, {154253: 1.7047, 261052: 1.0116, 438276: 1.7047, 460085: 1.7047, 585459: 1.7047, 664288: 1.7047, 816618: 0.7885, 935701: 2.5986, 948143: 1.7047, 1017889: 1.7047}),\n",
       " SparseVector(1048576, {270017: 1.7047, 472985: 1.7047, 511771: 1.7047, 718483: 1.7047, 820917: 1.7047}),\n",
       " SparseVector(1048576, {34116: 1.7047, 87407: 1.7047, 276491: 1.7047, 348943: 1.7047, 482882: 1.7047, 549350: 1.7047, 721336: 1.2993, 816618: 0.7885, 1025622: 1.7047}),\n",
       " SparseVector(1048576, {1769: 1.7047, 151357: 1.7047, 500659: 1.7047, 547760: 1.7047, 979482: 1.7047})]"
      ]
     },
     "execution_count": 81,
     "metadata": {},
     "output_type": "execute_result"
    }
   ],
   "source": [
    "tfidf.collect()"
   ]
  },
  {
   "cell_type": "markdown",
   "metadata": {},
   "source": [
    "### S.4.8 StandardScaler\n",
    "\n",
    "데이터를 표준화하려면 1) 평균과 표준편차를 계산하고, 2) 측정값에서 평균을 빼고, 표준편차로 나누어 주면 된다.\n",
    "즉 zscore를 계산하는 것과 같다.\n",
    "\n",
    "$$ z = \\frac {\\bar{x_n} - \\mu} {\\sigma / \\sqrt{n}} $$\n"
   ]
  },
  {
   "cell_type": "markdown",
   "metadata": {},
   "source": [
    "#### 데이터 생성"
   ]
  },
  {
   "cell_type": "code",
   "execution_count": 82,
   "metadata": {},
   "outputs": [],
   "source": [
    "tRdd = spark.sparkContext\\\n",
    "    .textFile(os.path.join('data', 'ds_spark_heightweight.txt'))"
   ]
  },
  {
   "cell_type": "markdown",
   "metadata": {},
   "source": [
    "#### 정규화 할 값만 추출\n",
    "\n",
    "탭을 분리한다."
   ]
  },
  {
   "cell_type": "code",
   "execution_count": 83,
   "metadata": {},
   "outputs": [
    {
     "data": {
      "text/plain": [
       "[['1', '65.78', '112.99']]"
      ]
     },
     "execution_count": 83,
     "metadata": {},
     "output_type": "execute_result"
    }
   ],
   "source": [
    "tRdd.map(lambda x: x.split('\\t')).take(1)"
   ]
  },
  {
   "cell_type": "markdown",
   "metadata": {},
   "source": [
    "형변환을 해준다."
   ]
  },
  {
   "cell_type": "code",
   "execution_count": 84,
   "metadata": {},
   "outputs": [
    {
     "data": {
      "text/plain": [
       "[['1', 65.78, 112.99]]"
      ]
     },
     "execution_count": 84,
     "metadata": {},
     "output_type": "execute_result"
    }
   ],
   "source": [
    "tRdd.map(lambda x: x.split('\\t')).map(lambda x: [str(x[0]), float(x[1]), float(x[2])]).take(1)"
   ]
  },
  {
   "cell_type": "code",
   "execution_count": 85,
   "metadata": {},
   "outputs": [
    {
     "data": {
      "text/plain": [
       "[['1', 65.78, 112.99]]"
      ]
     },
     "execution_count": 85,
     "metadata": {},
     "output_type": "execute_result"
    }
   ],
   "source": [
    "tRdd.map(lambda x: x.split('\\t'))\\\n",
    "    .map(lambda x: [str(x[0]), float(x[1]), float(x[2])])\\\n",
    "    .take(1)"
   ]
  },
  {
   "cell_type": "markdown",
   "metadata": {},
   "source": [
    "2개의 값만 추출하여 dense vectors에 별도로 저장한다."
   ]
  },
  {
   "cell_type": "code",
   "execution_count": 86,
   "metadata": {},
   "outputs": [],
   "source": [
    "from pyspark.mllib.linalg import Vectors\n",
    "\n",
    "_tRdd =tRdd\\\n",
    "    .map(lambda x: x.split('\\t'))\\\n",
    "    .map(lambda x: [str(x[0]), float(x[1]), float(x[2])])\\\n",
    "    .map(lambda x: Vectors.dense([x[1], x[2]]))"
   ]
  },
  {
   "cell_type": "markdown",
   "metadata": {},
   "source": [
    "리스트로 저장해도 계산에 문제가 없다."
   ]
  },
  {
   "cell_type": "code",
   "execution_count": 87,
   "metadata": {},
   "outputs": [],
   "source": [
    "from pyspark.mllib.linalg import Vectors\n",
    "\n",
    "_tRdd =tRdd\\\n",
    "    .map(lambda x: x.split('\\t'))\\\n",
    "    .map(lambda x: [str(x[0]), float(x[1]), float(x[2])])\\\n",
    "    .map(lambda x: [x[1], x[2]])"
   ]
  },
  {
   "cell_type": "markdown",
   "metadata": {},
   "source": [
    "#### 표준화"
   ]
  },
  {
   "cell_type": "code",
   "execution_count": 88,
   "metadata": {},
   "outputs": [],
   "source": [
    "from pyspark.mllib.feature import StandardScaler\n",
    "scaler1 = StandardScaler().fit(_tRdd)\n",
    "scaler2 = StandardScaler(withMean=True, withStd=True).fit(_tRdd)"
   ]
  },
  {
   "cell_type": "code",
   "execution_count": 90,
   "metadata": {},
   "outputs": [
    {
     "data": {
      "text/plain": [
       "[DenseVector([36.064, 8.7665]),\n",
       " DenseVector([39.2109, 10.5897]),\n",
       " DenseVector([38.0487, 11.873]),\n",
       " DenseVector([37.4017, 11.0436]),\n",
       " DenseVector([37.166, 11.1957])]"
      ]
     },
     "execution_count": 90,
     "metadata": {},
     "output_type": "execute_result"
    }
   ],
   "source": [
    "scaler1.transform(_tRdd).take(5)"
   ]
  },
  {
   "cell_type": "markdown",
   "metadata": {},
   "source": [
    "앞서 계산한 zscore와 비교해보자."
   ]
  },
  {
   "cell_type": "code",
   "execution_count": 89,
   "metadata": {},
   "outputs": [
    {
     "data": {
      "text/plain": [
       "[DenseVector([-1.2458, -1.2299]),\n",
       " DenseVector([1.9011, 0.5934]),\n",
       " DenseVector([0.7388, 1.8767]),\n",
       " DenseVector([0.0919, 1.0473]),\n",
       " DenseVector([-0.1439, 1.1993])]"
      ]
     },
     "execution_count": 89,
     "metadata": {},
     "output_type": "execute_result"
    }
   ],
   "source": [
    "scaler2.transform(_tRdd).take(5)"
   ]
  },
  {
   "cell_type": "markdown",
   "metadata": {
    "slideshow": {
     "slide_type": "slide"
    }
   },
   "source": [
    "## S.5 DataFrame 변환\n",
    "\n",
    "DataFrame으로 만들어진 데이터를 변환해보자.\n",
    "이러한 작업이 필요한 이유는 **기계학습에 넘겨줄 입력데이터를 형식에 맞추어야** 하기 때문이다.\n",
    "데이터는 형식에 맞게 변환되고, 군집화, 회귀분석, 분류, 추천 모델 등에 입력으로 사용된다\n",
    "물론 데이터는 '일련의 수' 또는 '텍스트'로 구성된다.\n",
    "이런 데이터로부터 특징을 추출하여 **feature vectors**를 구성한다.\n",
    "지도학습을 하는 경우에는 **class 또는 label** 값이 필요하다.\n"
   ]
  },
  {
   "cell_type": "markdown",
   "metadata": {
    "slideshow": {
     "slide_type": "subslide"
    }
   },
   "source": [
    "### S.5.1 Labeled Point를 label, features 컬럼으로 분해\n",
    "\n",
    "RDD LabeledPoint는 label과 vectors로 구성되어 있다.\n",
    "따라서 LabeledPoint를 DataFrame으로 읽어오면, 2개의 컬럼으로 생성된다.\n",
    "이를 label, features 컬럼으로 맞추어 주도록 하자."
   ]
  },
  {
   "cell_type": "markdown",
   "metadata": {
    "slideshow": {
     "slide_type": "subslide"
    }
   },
   "source": [
    "#### 레이블이 있는 Python List에서 DataFrame 생성\n",
    "\n",
    "label과 features를 가지고 가지고 있는 데이터를 생성해보자."
   ]
  },
  {
   "cell_type": "code",
   "execution_count": 91,
   "metadata": {},
   "outputs": [],
   "source": [
    "p = [[1, [1.0, 2.0, 3.0]], [1, [1.1, 2.1, 3.1]], [0, [1.2, 2.2, 3.3]]]"
   ]
  },
  {
   "cell_type": "markdown",
   "metadata": {},
   "source": [
    "첫 데이터를 분해해서 출력하면, label과 features를 하나씩 묶어 가지고 있다."
   ]
  },
  {
   "cell_type": "code",
   "execution_count": 92,
   "metadata": {},
   "outputs": [
    {
     "name": "stdout",
     "output_type": "stream",
     "text": [
      "label: 1\n",
      "features: [1.0, 2.0, 3.0]\n"
     ]
    }
   ],
   "source": [
    "print (\"label: {}\\nfeatures: {}\".format(p[0][0], p[0][1]))"
   ]
  },
  {
   "cell_type": "markdown",
   "metadata": {
    "slideshow": {
     "slide_type": "subslide"
    }
   },
   "source": [
    "위 데이터를 읽어서 DataFrame을 생성하면, 두 개의 컬럼으로 구분해서 생성된다.\n",
    "그러나 컬럼이 자동 명명되기 때문에 ```_1, _2```가 쓰여서 만족스럽지 못하다."
   ]
  },
  {
   "cell_type": "code",
   "execution_count": 93,
   "metadata": {},
   "outputs": [],
   "source": [
    "trainDf=spark.createDataFrame(p)"
   ]
  },
  {
   "cell_type": "code",
   "execution_count": 94,
   "metadata": {},
   "outputs": [
    {
     "data": {
      "text/plain": [
       "[Row(_1=1, _2=[1.0, 2.0, 3.0]),\n",
       " Row(_1=1, _2=[1.1, 2.1, 3.1]),\n",
       " Row(_1=0, _2=[1.2, 2.2, 3.3])]"
      ]
     },
     "execution_count": 94,
     "metadata": {},
     "output_type": "execute_result"
    }
   ],
   "source": [
    "trainDf.collect()"
   ]
  },
  {
   "cell_type": "markdown",
   "metadata": {
    "slideshow": {
     "slide_type": "subslide"
    }
   },
   "source": [
    "#### LabeledPoint에서 DataFrame 생성\n",
    "\n",
    "Python List를 LabeledPoint로 만들어 보자.\n",
    "**LabeledPoint는 RDD에서 사용하는 구조로서 mllib 라이브러리를 사용**해서 만들고 있다.\n",
    "**DataFrame은 LabeledPoint를 컬럼으로 가지고 있지 않는다**."
   ]
  },
  {
   "cell_type": "code",
   "execution_count": 61,
   "metadata": {},
   "outputs": [],
   "source": [
    "from pyspark.mllib.regression import LabeledPoint\n",
    "p = [LabeledPoint(1, [1.0,2.0,3.0]),\n",
    "     LabeledPoint(1, [1.1,2.1,3.1]),\n",
    "     LabeledPoint(0, [1.2,2.2,3.3])]"
   ]
  },
  {
   "cell_type": "markdown",
   "metadata": {},
   "source": [
    "그리고 DataFrame을 생성해보자."
   ]
  },
  {
   "cell_type": "code",
   "execution_count": 62,
   "metadata": {
    "collapsed": true
   },
   "outputs": [],
   "source": [
    "trainDf=spark.createDataFrame(p)"
   ]
  },
  {
   "cell_type": "markdown",
   "metadata": {
    "slideshow": {
     "slide_type": "subslide"
    }
   },
   "source": [
    "그러면 LabeledPoint는 분해되어, **label과 features를 별도 컬럼**으로 생성된다. 이런 명칭의 컬럼은 기계학습에 필요하다. **features 데이터를 모델링하여 label에 따라 분류**하게 된다."
   ]
  },
  {
   "cell_type": "code",
   "execution_count": 63,
   "metadata": {},
   "outputs": [
    {
     "data": {
      "text/plain": [
       "[Row(features=DenseVector([1.0, 2.0, 3.0]), label=1.0),\n",
       " Row(features=DenseVector([1.1, 2.1, 3.1]), label=1.0),\n",
       " Row(features=DenseVector([1.2, 2.2, 3.3]), label=0.0)]"
      ]
     },
     "execution_count": 63,
     "metadata": {},
     "output_type": "execute_result"
    }
   ],
   "source": [
    "trainDf.collect()"
   ]
  },
  {
   "cell_type": "markdown",
   "metadata": {
    "slideshow": {
     "slide_type": "subslide"
    }
   },
   "source": [
    "#### mllib.linalg.Vectors를 사용하여 DataFrame을 생성\n",
    "\n",
    "앞서 mllib와 ml 모듈을 섞어서 사용하지 않아야 한다고 했다.\n",
    "mllib vectors를 사용해도 DataFrame을 생성하는데 문제가 없다.\n",
    "컬럼명을 ```[\"label\", \"features\"]```으로 하지 않으면, 자동명명되니 주의하자."
   ]
  },
  {
   "cell_type": "code",
   "execution_count": 95,
   "metadata": {},
   "outputs": [],
   "source": [
    "from pyspark.mllib.linalg import Vectors\n",
    "\n",
    "trainDf = spark.createDataFrame([\n",
    "    (1.0, Vectors.dense([0.0, 1.1, 0.1])),\n",
    "    (0.0, Vectors.dense([2.0, 1.0, 1.0])),\n",
    "    (0.0, Vectors.dense([2.0, 1.3, 1.0])),\n",
    "    (1.0, Vectors.dense([0.0, 1.2, 0.5]))], [\"label\", \"features\"])"
   ]
  },
  {
   "cell_type": "code",
   "execution_count": 96,
   "metadata": {},
   "outputs": [
    {
     "data": {
      "text/plain": [
       "[Row(label=1.0, features=DenseVector([0.0, 1.1, 0.1])),\n",
       " Row(label=0.0, features=DenseVector([2.0, 1.0, 1.0])),\n",
       " Row(label=0.0, features=DenseVector([2.0, 1.3, 1.0])),\n",
       " Row(label=1.0, features=DenseVector([0.0, 1.2, 0.5]))]"
      ]
     },
     "execution_count": 96,
     "metadata": {},
     "output_type": "execute_result"
    }
   ],
   "source": [
    "trainDf.collect()"
   ]
  },
  {
   "cell_type": "markdown",
   "metadata": {},
   "source": [
    "#### RDD에서 DataFrame 생성\n",
    "\n",
    "rdd에서 DataFrame을 생성하면 labe, features이 당연히 생성이 되지 않는다."
   ]
  },
  {
   "cell_type": "code",
   "execution_count": 97,
   "metadata": {},
   "outputs": [],
   "source": [
    "#from pyspark.mllib.linalg import SparseVector # mllib ok\n",
    "from pyspark.ml.linalg import SparseVector # ml ok\n",
    "\n",
    "_rdd = spark.sparkContext.parallelize([\n",
    "    (0.0, SparseVector(4, {1: 1.0, 3: 5.5})),\n",
    "    (1.0, SparseVector(4, {0: -1.0, 2: 0.5}))])"
   ]
  },
  {
   "cell_type": "code",
   "execution_count": 98,
   "metadata": {
    "scrolled": true
   },
   "outputs": [],
   "source": [
    "_df=_rdd.toDF()"
   ]
  },
  {
   "cell_type": "code",
   "execution_count": 99,
   "metadata": {},
   "outputs": [
    {
     "name": "stdout",
     "output_type": "stream",
     "text": [
      "root\n",
      " |-- _1: double (nullable = true)\n",
      " |-- _2: vector (nullable = true)\n",
      "\n"
     ]
    }
   ],
   "source": [
    "_df.printSchema()"
   ]
  },
  {
   "cell_type": "code",
   "execution_count": 100,
   "metadata": {},
   "outputs": [],
   "source": [
    "_df=_df.withColumnRenamed('_1', 'label').withColumnRenamed('_2', 'features')"
   ]
  },
  {
   "cell_type": "code",
   "execution_count": 101,
   "metadata": {
    "scrolled": true
   },
   "outputs": [
    {
     "name": "stdout",
     "output_type": "stream",
     "text": [
      "+-----+--------------------+\n",
      "|label|            features|\n",
      "+-----+--------------------+\n",
      "|  0.0| (4,[1,3],[1.0,5.5])|\n",
      "|  1.0|(4,[0,2],[-1.0,0.5])|\n",
      "+-----+--------------------+\n",
      "\n"
     ]
    }
   ],
   "source": [
    "_df.show()"
   ]
  },
  {
   "cell_type": "markdown",
   "metadata": {
    "slideshow": {
     "slide_type": "subslide"
    }
   },
   "source": [
    "### S.5.2 단어 빈도\n",
    "\n",
    "정량 데이터는 합계, 평균, 표준편차 등 의미있는 통계량을 계산하거나, 이런 통계량이 집단 간에 차이가 있는지 분석한다.\n",
    "반면에 텍스트는 정량데이터와 같이 이러한 통계량의 계산이 가능하지 못하게 된다.\n",
    "텍스트에 어떤 단어가 얼마나 쓰였는지, 또한 같이 쓰이게 된 단어는 무엇인지 등 단어의 빈도에 따라 **정량화하여 과학적인 분석**을 하게 된다.\n",
    "\n",
    "#### Bag of Words 모델\n",
    "\n",
    "자연어처리 NLP에서 사용하는 모델로, 텍스트를 단어의 집합, **'bag of words'**으로 구성된다고 보며, 단어의 **순서**는 의미를 가지지 않는다.\n",
    "이런 영화리뷰가 있다고 하자.\n",
    "> \"...그 영화는 매우 강렬했다. 그냥 좋았다. 영화관에서 보는 동안 긴장을 늦출 수 없었다. 갑돌이가 분장한 악당의 케릭터가 만들어지는 과정은 흥미롭지 않을 수가 없었다. 무비의 이야기 전개는 빠르고, 무엇이 진실이고 거짓인지 판단할 수 없었다. 누가 이런 영화를 좋아 하지 않을 수가 있겠는가 이모티콘...\"\n",
    "\n",
    "이를 단어로 분리하고, 정량화 해보자."
   ]
  },
  {
   "cell_type": "markdown",
   "metadata": {
    "slideshow": {
     "slide_type": "subslide"
    }
   },
   "source": [
    "#### 텍스트 변환 단계\n",
    "\n",
    "텍스트를 변환하는 단계를 보자. 순서는 변경될 수 있다.\n",
    "\n",
    "* 단계 1: 단어로 분할 Tokenization\n",
    "    * 그, 영화는, 매우, 강렬했다, 그냥, 좋았다, 영화관에서, 보는, 동안, 긴장을, 늦출, 수, 없었다, 갑돌이가, 분장한, 악당의, 케릭터가, 만들어지는, 과정은, 흥미롭지, 않을, 수가, 없었다, 무비의, 이야기, 전개는, 빠르고, 무엇이, 진실이고, 거짓인지, 판단할, 수, 없었다, 누가, 이런, 영화를, 좋아, 하지, 않을, 수가, 있겠는가, 이모티콘\n",
    "\n",
    "* 단계 2: 정리\n",
    "    - 불필요, 오타 등\n",
    "\n",
    "* 단계 3: 불용어 stopwords 제거\n",
    "    - 그, 수, 수가, 수, 이런, 하지, 수가 등\n",
    "\n",
    "* 단계 4: 어간 추출 stemming\n",
    "    영화는, 영화의는 다른 단어지만 조사를 제거하면 동일한 단어\n",
    "    - 좋았다, 좋아 단어들은 어근을 판별하면 동일한 단어이다.\n",
    "    - 영화, 무비의 단어는 이음동의"
   ]
  },
  {
   "cell_type": "markdown",
   "metadata": {
    "slideshow": {
     "slide_type": "slide"
    }
   },
   "source": [
    "단계 5: 계량화\n",
    "- word vector로 만든다.\n",
    "- 있다-없다, 단어빈도, TF-IDF 사용할 수 있다.<br>dense, sparse 모두 가능하다.\n",
    "```[1,1,1,1,1,0,0],[0,1,0,1,1,1,1]```\n",
    "\n",
    "```python\n",
    "[0 0 0 0 1 0 0 1 0 0 0 0 0 0 0 1 1 0 0 0 0 1 0 1 1 0 0 0]\n",
    "[0 0 1 0 0 0 0 0 0 0 0 1 1 1 0 0 0 0 0 0 0 0 1 0 0 0 0 0]\n",
    "[0 1 0 0 0 0 0 0 0 1 1 0 0 0 0 0 1 0 0 1 0 0 0 0 0 0 1 1]\n",
    "[1 0 0 1 0 0 1 1 0 0 0 0 0 0 1 0 1 0 0 0 0 0 0 0 0 0 0 0]\n",
    "[0 0 0 0 0 1 0 1 1 0 0 0 1 0 0 0 1 1 1 0 1 0 0 0 0 0 0 0]\n",
    "[0 1 0 0 0 0 0 0 0 1 1 0 0 0 0 0 1 0 0 1 0 0 0 0 0 0 1 1]\n",
    "[0 1 0 0 0 0 0 0 0 1 1 0 0 0 0 0 0 0 0 0 0 0 0 0 0 0 0 0]\n",
    "[0 1 0 0 0 0 0 0 0 1 1 0 0 0 0 0 0 0 0 0 0 0 0 0 0 0 0 0]\n",
    "[0 1 0 0 0 0 0 0 0 1 1 0 0 0 0 0 0 0 0 0 0 0 0 0 0 0 0 0]\n",
    "[0 1 0 0 0 0 0 0 0 1 1 0 0 0 0 0 0 0 0 0 0 0 0 0 0 0 0 0]\n",
    "[0 1 0 0 0 0 0 0 0 1 1 0 0 0 0 0 1 0 0 0 0 0 0 0 0 1 1 1]\n",
    "```"
   ]
  },
  {
   "cell_type": "markdown",
   "metadata": {
    "slideshow": {
     "slide_type": "slide"
    }
   },
   "source": [
    "#### Python을 사용한 단어 빈도 계산"
   ]
  },
  {
   "cell_type": "code",
   "execution_count": 102,
   "metadata": {},
   "outputs": [],
   "source": [
    "# Let it be lyrics\n",
    "doc=[\n",
    "    \"When I find myself in times of trouble\",\n",
    "    \"Mother Mary comes to me\",\n",
    "    \"Speaking words of wisdom, let it be\",\n",
    "    \"And in my hour of darkness\",\n",
    "    \"She is standing right in front of me\",\n",
    "    \"Speaking words of wisdom, let it be\",\n",
    "    \"Let it be\",\n",
    "    \"Let it be\",\n",
    "    \"Let it be\",\n",
    "    \"Let it be\",\n",
    "    \"Whisper words of wisdom, let it be\"\n",
    "]"
   ]
  },
  {
   "cell_type": "markdown",
   "metadata": {
    "slideshow": {
     "slide_type": "subslide"
    }
   },
   "source": [
    "문서, 문장, 단어의 계층을 먼저 이해해야 한다.\n",
    "문서는 문장으로 구성되어 있고, 문장은 단어로 구성되어 있다.\n",
    "따라서 첫째 반복문은 문서의 각 문장에 대해, 단어로 분리하고 있다.\n",
    "그 다음 반복문은 각 단어에 대해 빈도를 계산한다.\n",
    "각 단어가 키가 되는데, **키가 존재하면 빈도를 증가하고, 존재하지 않으면 새로운 키를 생성**한다."
   ]
  },
  {
   "cell_type": "code",
   "execution_count": 103,
   "metadata": {},
   "outputs": [],
   "source": [
    "d={}\n",
    "for sentence in doc:\n",
    "    words=sentence.split()\n",
    "    for word in words:\n",
    "        if word in d:\n",
    "            d[word]+=1\n",
    "        else:\n",
    "            d[word]=1"
   ]
  },
  {
   "cell_type": "markdown",
   "metadata": {
    "slideshow": {
     "slide_type": "subslide"
    }
   },
   "source": [
    "앞서 단어 빈도는 dictionary d에 저장하였다.\n",
    "dictionary는 키, 빈도의 쌍으로 저장되어 있어서 ```iteritems()```으로 읽어낼 수 있다."
   ]
  },
  {
   "cell_type": "code",
   "execution_count": 104,
   "metadata": {},
   "outputs": [
    {
     "name": "stdout",
     "output_type": "stream",
     "text": [
      "When\t1\n",
      "I\t1\n",
      "find\t1\n",
      "myself\t1\n",
      "in\t3\n",
      "times\t1\n",
      "of\t6\n",
      "trouble\t1\n",
      "Mother\t1\n",
      "Mary\t1\n",
      "comes\t1\n",
      "to\t1\n",
      "me\t2\n",
      "Speaking\t2\n",
      "words\t3\n",
      "wisdom,\t3\n",
      "let\t3\n",
      "it\t7\n",
      "be\t7\n",
      "And\t1\n",
      "my\t1\n",
      "hour\t1\n",
      "darkness\t1\n",
      "She\t1\n",
      "is\t1\n",
      "standing\t1\n",
      "right\t1\n",
      "front\t1\n",
      "Let\t4\n",
      "Whisper\t1\n"
     ]
    }
   ],
   "source": [
    "# for k,v in d.iteritems():  # python2\n",
    "for k,v in d.items():\n",
    "    print (\"{}\\t{}\".format(k,v))"
   ]
  },
  {
   "cell_type": "markdown",
   "metadata": {
    "slideshow": {
     "slide_type": "subslide"
    }
   },
   "source": [
    "### S.5.3 Spark의 transformer, estimator\n",
    "\n",
    "**RDD**를 만들고 나서도 데이터를 변환하기 위해 map-reduce와 같은 함수 또는  **transform()**, **fit()**을 사용하는 것과 같이,\n",
    "**DataFrame**도 역시 **Transformer**, **Estimator**를 사용할 수 있다.\n",
    "이러한 Spark ml 라이브러리는 Python의 scikit-learn에서 영향을 받아 기계학습 API transformer, estimator, evaluator가 유사하다.\n",
    "* Estimator는 DataFrame에 적용되는 알고리즘을 말하는 것으로, Transformer를 생성해낸다. **```Estimator.fit()```**\n",
    "* Transformer는 DataFrame을 적용해서 다른 DataFrame으로 생성한다. **```Transformer.transform()```**\n",
    "* Evaluator는 ```pyspark.ml.evaluation```의 'BinaryClassificationEvaluator', 'RegressionEvaluator',  'MulticlassClassificationEvaluator', 'MultilabelClassificationEvaluator', 'ClusteringEvaluator', 'RankingEvaluator' 등이 있다."
   ]
  },
  {
   "cell_type": "markdown",
   "metadata": {},
   "source": [
    "먼저 텍스트를 2차원 배열로 만들자."
   ]
  },
  {
   "cell_type": "code",
   "execution_count": 105,
   "metadata": {},
   "outputs": [],
   "source": [
    "doc2d=[\n",
    "    [\"When I find myself in times of trouble\"],\n",
    "    [\"Mother Mary comes to me\"],\n",
    "    [\"Speaking words of wisdom, let it be\"],\n",
    "    [\"And in my hour of darkness\"],\n",
    "    [\"She is standing right in front of me\"],\n",
    "    [\"Speaking words of wisdom, let it be\"],\n",
    "    [u\"우리 Let it be\"],\n",
    "    [u\"나 Let it be\"],\n",
    "    [u\"너 Let it be\"],\n",
    "    [\"Let it be\"],\n",
    "    [\"Whisper words of wisdom, let it be\"]\n",
    "]"
   ]
  },
  {
   "cell_type": "markdown",
   "metadata": {},
   "source": [
    "그리고 DataFrame을 생성한다. schema는 만들어 주지 않고 컬럼명을 sent로 한다."
   ]
  },
  {
   "cell_type": "code",
   "execution_count": 106,
   "metadata": {},
   "outputs": [],
   "source": [
    "myDf=spark.createDataFrame(doc2d, ['sent'])"
   ]
  },
  {
   "cell_type": "markdown",
   "metadata": {},
   "source": [
    "```truncate=True```는 줄여서, ```False```는 출력을 줄이지 않고 출력한다."
   ]
  },
  {
   "cell_type": "code",
   "execution_count": 107,
   "metadata": {
    "scrolled": true
   },
   "outputs": [
    {
     "name": "stdout",
     "output_type": "stream",
     "text": [
      "+--------------------+\n",
      "|                sent|\n",
      "+--------------------+\n",
      "|When I find mysel...|\n",
      "|Mother Mary comes...|\n",
      "|Speaking words of...|\n",
      "|And in my hour of...|\n",
      "|She is standing r...|\n",
      "|Speaking words of...|\n",
      "|      우리 Let it be|\n",
      "|        나 Let it be|\n",
      "|        너 Let it be|\n",
      "|           Let it be|\n",
      "|Whisper words of ...|\n",
      "+--------------------+\n",
      "\n"
     ]
    }
   ],
   "source": [
    "myDf.show(truncate=True)"
   ]
  },
  {
   "cell_type": "markdown",
   "metadata": {
    "collapsed": true,
    "slideshow": {
     "slide_type": "slide"
    }
   },
   "source": [
    "### S.5.4 Tokenizer\n",
    "\n",
    "먼저 용어를 정리해 보자.\n",
    "* corpus는 어떤 주제에 대해 쓰여지거나, 어떤 사람이 작성한 전체 '말뭉치'를 말한다. 여러 문장으로 구성된 텍스트 집합을 말한다.\n",
    "* document는 문장으로 구성된 문서를 말하지만, 한 문장으로만 구성될 수도, 여러 문장으로 만들어질 수도 있다. 예를 들어, \"why she had to go\" 같은 한 문장도 document라고 하고, \"why she had to go.. I don't know\" 역시 마찬가지이다.\n",
    "* vocabularay는 중복없는 단어 집합을 말하며, 예를 들면, \"why\",\"she\",\"had\",\"to\",\"go\",\"where\",\"have\" 등은 단어이다.\n",
    "\n",
    "Tokenizer는 document를 단어로 분리한다.\n",
    "분리하는 기준은 whitespace로 공백, TAB, CR, New Line 등이 해당된다.\n",
    "* 입력 컬럼은 \"sent\"로,\n",
    "* 출력 컬럼은 \"words\"로 한다."
   ]
  },
  {
   "cell_type": "code",
   "execution_count": 108,
   "metadata": {
    "slideshow": {
     "slide_type": "-"
    }
   },
   "outputs": [],
   "source": [
    "from pyspark.ml.feature import Tokenizer\n",
    "tokenizer = Tokenizer(inputCol=\"sent\", outputCol=\"words\")"
   ]
  },
  {
   "cell_type": "markdown",
   "metadata": {
    "slideshow": {
     "slide_type": "subslide"
    }
   },
   "source": [
    "```transform()```은 앞서 만든 ```tokenizer```모델에 DataFrame을 변환하여 다른 DataFrame을 생성한다.\n",
    "그 결과는 문자열 배열로 구성된다."
   ]
  },
  {
   "cell_type": "code",
   "execution_count": 109,
   "metadata": {},
   "outputs": [],
   "source": [
    "tokDf = tokenizer.transform(myDf)"
   ]
  },
  {
   "cell_type": "code",
   "execution_count": 110,
   "metadata": {},
   "outputs": [
    {
     "name": "stdout",
     "output_type": "stream",
     "text": [
      "+--------------------+--------------------+\n",
      "|                sent|               words|\n",
      "+--------------------+--------------------+\n",
      "|When I find mysel...|[when, i, find, m...|\n",
      "|Mother Mary comes...|[mother, mary, co...|\n",
      "|Speaking words of...|[speaking, words,...|\n",
      "+--------------------+--------------------+\n",
      "only showing top 3 rows\n",
      "\n"
     ]
    }
   ],
   "source": [
    "tokDf.show(3)"
   ]
  },
  {
   "cell_type": "markdown",
   "metadata": {
    "slideshow": {
     "slide_type": "subslide"
    }
   },
   "source": [
    "```for```문으로 출력해보자. ```Row()``` 객체로 출력된다."
   ]
  },
  {
   "cell_type": "code",
   "execution_count": 111,
   "metadata": {
    "slideshow": {
     "slide_type": "-"
    }
   },
   "outputs": [
    {
     "name": "stdout",
     "output_type": "stream",
     "text": [
      "Row(sent='When I find myself in times of trouble', words=['when', 'i', 'find', 'myself', 'in', 'times', 'of', 'trouble'])\n",
      "Row(sent='Mother Mary comes to me', words=['mother', 'mary', 'comes', 'to', 'me'])\n",
      "Row(sent='Speaking words of wisdom, let it be', words=['speaking', 'words', 'of', 'wisdom,', 'let', 'it', 'be'])\n"
     ]
    }
   ],
   "source": [
    "for r in tokDf.select(\"sent\", \"words\").take(3):\n",
    "    print (r)"
   ]
  },
  {
   "cell_type": "markdown",
   "metadata": {
    "collapsed": true,
    "slideshow": {
     "slide_type": "slide"
    }
   },
   "source": [
    "### S.5.5 RegTokenizer\n",
    "\n",
    "Tokenizer는 white space로 분리하지만, RegexTokenizer는 단어를 분리하기 위해 **정규표현식**을 적용할 수 있다.\n",
    "정규표현식을 사용하여 분리하거나 특정 패턴을 추출할 수 있다.\n",
    "공백으로 분리할 경우 간단히 정규표현식 ```\\s``` 패턴을 적용할 수 있다.\n",
    "한글에는 ```\\w``` 패턴이 적용되지 않는다.\n",
    "* ```\\s```는 공백문자\n",
    "* ```\\w```는 숫자 및 대소문자 ```[A-Za-z0-9_]```\n",
    "* 별표 ```*```는 0 또는 그 이상, 더하기 ```+```는 1 또는 그 이상을 의미한다."
   ]
  },
  {
   "cell_type": "code",
   "execution_count": 112,
   "metadata": {},
   "outputs": [],
   "source": [
    "from pyspark.ml.feature import RegexTokenizer\n",
    "\n",
    "re = RegexTokenizer(inputCol=\"sent\", outputCol=\"wordsReg\", pattern=\"\\\\s+\")"
   ]
  },
  {
   "cell_type": "code",
   "execution_count": 113,
   "metadata": {
    "slideshow": {
     "slide_type": "subslide"
    }
   },
   "outputs": [
    {
     "name": "stdout",
     "output_type": "stream",
     "text": [
      "+--------------------+--------------------+\n",
      "|                sent|            wordsReg|\n",
      "+--------------------+--------------------+\n",
      "|When I find mysel...|[when, i, find, m...|\n",
      "|Mother Mary comes...|[mother, mary, co...|\n",
      "|Speaking words of...|[speaking, words,...|\n",
      "|And in my hour of...|[and, in, my, hou...|\n",
      "|She is standing r...|[she, is, standin...|\n",
      "|Speaking words of...|[speaking, words,...|\n",
      "|      우리 Let it be| [우리, let, it, be]|\n",
      "|        나 Let it be|   [나, let, it, be]|\n",
      "|        너 Let it be|   [너, let, it, be]|\n",
      "|           Let it be|       [let, it, be]|\n",
      "|Whisper words of ...|[whisper, words, ...|\n",
      "+--------------------+--------------------+\n",
      "\n"
     ]
    }
   ],
   "source": [
    "reDf=re.transform(myDf)\n",
    "reDf.show()"
   ]
  },
  {
   "cell_type": "markdown",
   "metadata": {
    "collapsed": true,
    "slideshow": {
     "slide_type": "slide"
    }
   },
   "source": [
    "### S.5.6 Stopwords\n",
    "\n",
    "텍스트를 분리하고 나면, 별 의미가 없거나 쓸모가 없는 단어들이 존재한다.\n",
    "예를 들어 이, 그, 저와 같은 **한 단어** 또는 있다 등과 같은 **일부 동사**, 그래서, 그러나 등과 같은 **접속사** 등이 후보가 될 수 있다.\n",
    "이런 불필요한 단어들을 불용어 Stopwords라고 하며, 입력데이터에서 제거하도록 한다.\n",
    "영어의 경우 불용어가 식별되어 제공되고 있다\n",
    "http://ir.dcs.gla.ac.uk/resources/linguistic_utils/stop_words\n"
   ]
  },
  {
   "cell_type": "code",
   "execution_count": 114,
   "metadata": {
    "slideshow": {
     "slide_type": "subslide"
    }
   },
   "outputs": [],
   "source": [
    "from pyspark.ml.feature import StopWordsRemover\n",
    "stop = StopWordsRemover(inputCol=\"wordsReg\", outputCol=\"nostops\")"
   ]
  },
  {
   "cell_type": "markdown",
   "metadata": {
    "slideshow": {
     "slide_type": "subslide"
    }
   },
   "source": [
    "현재 stop words를 가져온다."
   ]
  },
  {
   "cell_type": "code",
   "execution_count": 115,
   "metadata": {},
   "outputs": [],
   "source": [
    "stopwords=list()\n",
    "_stopwords=stop.getStopWords()\n",
    "for e in _stopwords:\n",
    "    stopwords.append(e)"
   ]
  },
  {
   "cell_type": "markdown",
   "metadata": {},
   "source": [
    "자신의 불용어를 추가해서, 재설정한다."
   ]
  },
  {
   "cell_type": "code",
   "execution_count": 116,
   "metadata": {},
   "outputs": [
    {
     "data": {
      "text/plain": [
       "StopWordsRemover_cc8b2159df97"
      ]
     },
     "execution_count": 116,
     "metadata": {},
     "output_type": "execute_result"
    }
   ],
   "source": [
    "_mystopwords=[u\"나\",u\"너\", u\"우리\"]\n",
    "for e in _mystopwords:\n",
    "    stopwords.append(e)\n",
    "stop.setStopWords(stopwords)"
   ]
  },
  {
   "cell_type": "markdown",
   "metadata": {},
   "source": [
    "자신이 추가한 불용어가 있는지 출력해보자."
   ]
  },
  {
   "cell_type": "code",
   "execution_count": 117,
   "metadata": {
    "slideshow": {
     "slide_type": "subslide"
    }
   },
   "outputs": [
    {
     "name": "stdout",
     "output_type": "stream",
     "text": [
      "i/me/my/myself/we/our/ours/ourselves/you/your/yours/yourself/yourselves/he/him/his/himself/she/her/hers/herself/it/its/itself/they/them/their/theirs/themselves/what/which/who/whom/this/that/these/those/am/is/are/was/were/be/been/being/have/has/had/having/do/does/did/doing/a/an/the/and/but/if/or/because/as/until/while/of/at/by/for/with/about/against/between/into/through/during/before/after/above/below/to/from/up/down/in/out/on/off/over/under/again/further/then/once/here/there/when/where/why/how/all/any/both/each/few/more/most/other/some/such/no/nor/not/only/own/same/so/than/too/very/s/t/can/will/just/don/should/now/i'll/you'll/he'll/she'll/we'll/they'll/i'd/you'd/he'd/she'd/we'd/they'd/i'm/you're/he's/she's/it's/we're/they're/i've/we've/you've/they've/isn't/aren't/wasn't/weren't/haven't/hasn't/hadn't/don't/doesn't/didn't/won't/wouldn't/shan't/shouldn't/mustn't/can't/couldn't/cannot/could/here's/how's/let's/ought/that's/there's/what's/when's/where's/who's/why's/would/나/너/우리/"
     ]
    }
   ],
   "source": [
    "for e in stop.getStopWords():\n",
    "    print (e, end=\"/\")"
   ]
  },
  {
   "cell_type": "markdown",
   "metadata": {
    "slideshow": {
     "slide_type": "subslide"
    }
   },
   "source": [
    "transformer로 불용어를 제거해보자.\n",
    "한글의 stop words '너','우리'가 제거되었다."
   ]
  },
  {
   "cell_type": "code",
   "execution_count": 118,
   "metadata": {},
   "outputs": [
    {
     "name": "stdout",
     "output_type": "stream",
     "text": [
      "+--------------------+--------------------+--------------------+\n",
      "|                sent|            wordsReg|             nostops|\n",
      "+--------------------+--------------------+--------------------+\n",
      "|When I find mysel...|[when, i, find, m...|[find, times, tro...|\n",
      "|Mother Mary comes...|[mother, mary, co...|[mother, mary, co...|\n",
      "|Speaking words of...|[speaking, words,...|[speaking, words,...|\n",
      "|And in my hour of...|[and, in, my, hou...|    [hour, darkness]|\n",
      "|She is standing r...|[she, is, standin...|[standing, right,...|\n",
      "|Speaking words of...|[speaking, words,...|[speaking, words,...|\n",
      "|      우리 Let it be| [우리, let, it, be]|               [let]|\n",
      "|        나 Let it be|   [나, let, it, be]|               [let]|\n",
      "|        너 Let it be|   [너, let, it, be]|               [let]|\n",
      "|           Let it be|       [let, it, be]|               [let]|\n",
      "|Whisper words of ...|[whisper, words, ...|[whisper, words, ...|\n",
      "+--------------------+--------------------+--------------------+\n",
      "\n"
     ]
    }
   ],
   "source": [
    "stopDf=stop.transform(reDf)\n",
    "stopDf.show()"
   ]
  },
  {
   "cell_type": "markdown",
   "metadata": {
    "collapsed": true,
    "slideshow": {
     "slide_type": "slide"
    }
   },
   "source": [
    "### S.5.7 CountVectorizer\n",
    "\n",
    "```CountVectorizer```는 단어의 빈도 수를 계산한다.\n",
    "\n",
    "3번째 문장 \"Speaking words of wisdom, let it be\"의 word vector를 구성해 본다.\n",
    "id 값은 모든 문장에서 단어를 추출하고 나서야 부여된다.\n",
    "\n",
    "단어 (3행 \"Speaking words of wisdom, let it be\") | id | 빈도 | \n",
    "-----|-----|-----\n",
    "Speaking | 7 | 1\n",
    "words | 13 | 1\n",
    "of | stopword | 0\n",
    "wisdom | 12 | 1\n",
    "let | 3 | 1\n",
    "it | stopword | 0\n",
    "be | stopword | 0"
   ]
  },
  {
   "cell_type": "markdown",
   "metadata": {
    "slideshow": {
     "slide_type": "subslide"
    }
   },
   "source": [
    "위 **word vector**를 표로 나타내면 아래와 같다.\n",
    "행은 문장, 열은 id이다.\n",
    "**3행은 doc2**이다. 해당하는 **단어 id의 빈도**를 적었다. 다른 행과 열은 이해를 돕기 위해 비워 놓았다.\n",
    "\n",
    "```doc``` \\ 단어 id  | 1 | 2 | 3 | 4 | 5 | 6 | 7 | 8 | 9 |10 |11 |12 |13 |...\n",
    "------|---|---|---|---|---|---|---|---|---|---|---|---|---|---\n",
    "```doc 0``` |   |   |   |   |   |   |   |   |   |   |   |   |   |...\n",
    "```doc 1``` |   |   |   |   |   |   |   |   |   |   |   |   |   |...\n",
    "```doc 2``` |   |   | 1 |   |   |   | 1 |   |   |   |   | 1 | 1 |...\n",
    "...   |   |   |   |   |   |   |   |   |   |   |   |   |   |..."
   ]
  },
  {
   "cell_type": "markdown",
   "metadata": {
    "slideshow": {
     "slide_type": "subslide"
    }
   },
   "source": [
    "#### sklearn CountVectorizer\n",
    "\n",
    "sklearn 라이브러리로 단어빈도를 세어보자.\n",
    "입력으로 단어의 집합을 넣어야 하지만, 위 문서는 2차원 리스트이다.\n",
    "먼저 2차원 리스트를 1차원으로 변경하자."
   ]
  },
  {
   "cell_type": "code",
   "execution_count": 119,
   "metadata": {},
   "outputs": [],
   "source": [
    "from functools import reduce\n",
    "doc = reduce(lambda x,y: x+y, doc2d)"
   ]
  },
  {
   "cell_type": "code",
   "execution_count": 120,
   "metadata": {},
   "outputs": [],
   "source": [
    "from sklearn.feature_extraction.text import CountVectorizer\n",
    "\n",
    "vectorizer = CountVectorizer(stop_words='english')"
   ]
  },
  {
   "cell_type": "code",
   "execution_count": 121,
   "metadata": {
    "scrolled": true
   },
   "outputs": [
    {
     "name": "stdout",
     "output_type": "stream",
     "text": [
      "  (0, 10)\t1\n",
      "  (0, 9)\t1\n",
      "  (1, 0)\t1\n",
      "  (1, 4)\t1\n",
      "  (1, 5)\t1\n",
      "  (2, 3)\t1\n",
      "  (2, 12)\t1\n",
      "  (2, 13)\t1\n",
      "  (2, 7)\t1\n",
      "  (3, 1)\t1\n",
      "  (3, 2)\t1\n",
      "  (4, 6)\t1\n",
      "  (4, 8)\t1\n",
      "  (5, 3)\t1\n",
      "  (5, 12)\t1\n",
      "  (5, 13)\t1\n",
      "  (5, 7)\t1\n",
      "  (6, 14)\t1\n",
      "  (6, 3)\t1\n",
      "  (7, 3)\t1\n",
      "  (8, 3)\t1\n",
      "  (9, 3)\t1\n",
      "  (10, 11)\t1\n",
      "  (10, 3)\t1\n",
      "  (10, 12)\t1\n",
      "  (10, 13)\t1\n"
     ]
    }
   ],
   "source": [
    "print (vectorizer.fit_transform(doc))"
   ]
  },
  {
   "cell_type": "code",
   "execution_count": 122,
   "metadata": {},
   "outputs": [
    {
     "data": {
      "text/plain": [
       "{'times': 9,\n",
       " 'trouble': 10,\n",
       " 'mother': 5,\n",
       " 'mary': 4,\n",
       " 'comes': 0,\n",
       " 'speaking': 7,\n",
       " 'words': 13,\n",
       " 'wisdom': 12,\n",
       " 'let': 3,\n",
       " 'hour': 2,\n",
       " 'darkness': 1,\n",
       " 'standing': 8,\n",
       " 'right': 6,\n",
       " '우리': 14,\n",
       " 'whisper': 11}"
      ]
     },
     "execution_count": 122,
     "metadata": {},
     "output_type": "execute_result"
    }
   ],
   "source": [
    "vectorizer.vocabulary_"
   ]
  },
  {
   "cell_type": "code",
   "execution_count": 123,
   "metadata": {
    "scrolled": true
   },
   "outputs": [
    {
     "data": {
      "text/plain": [
       "matrix([[0, 0, 0, 0, 0, 0, 0, 0, 0, 1, 1, 0, 0, 0, 0],\n",
       "        [1, 0, 0, 0, 1, 1, 0, 0, 0, 0, 0, 0, 0, 0, 0],\n",
       "        [0, 0, 0, 1, 0, 0, 0, 1, 0, 0, 0, 0, 1, 1, 0],\n",
       "        [0, 1, 1, 0, 0, 0, 0, 0, 0, 0, 0, 0, 0, 0, 0],\n",
       "        [0, 0, 0, 0, 0, 0, 1, 0, 1, 0, 0, 0, 0, 0, 0],\n",
       "        [0, 0, 0, 1, 0, 0, 0, 1, 0, 0, 0, 0, 1, 1, 0],\n",
       "        [0, 0, 0, 1, 0, 0, 0, 0, 0, 0, 0, 0, 0, 0, 1],\n",
       "        [0, 0, 0, 1, 0, 0, 0, 0, 0, 0, 0, 0, 0, 0, 0],\n",
       "        [0, 0, 0, 1, 0, 0, 0, 0, 0, 0, 0, 0, 0, 0, 0],\n",
       "        [0, 0, 0, 1, 0, 0, 0, 0, 0, 0, 0, 0, 0, 0, 0],\n",
       "        [0, 0, 0, 1, 0, 0, 0, 0, 0, 0, 0, 1, 1, 1, 0]], dtype=int64)"
      ]
     },
     "execution_count": 123,
     "metadata": {},
     "output_type": "execute_result"
    }
   ],
   "source": [
    "vectorizer.fit_transform(doc).todense()"
   ]
  },
  {
   "cell_type": "markdown",
   "metadata": {
    "slideshow": {
     "slide_type": "subslide"
    }
   },
   "source": [
    "#### Spark CountVectorizer\n",
    "\n",
    "CountVectorizer는 단어를 분리하고 나서, 빈도를 계산할 수 있다. 결과는 단어빈도 word vector (sparse), 즉 단어별 단어빈도 TF이다.\n",
    "자주 사용된 단어가 아니어서 제거해야할 단어, 즉 문서에 사용된 빈도 document frequency를 minDF, maxDF를 통해 설정할 수 있다.\n",
    "소수점을 사용하면, 비율, 즉 '사용된 문서 수/전체 문서 수'를 의미한다.\n",
    "\n",
    "* minDf는 너무 **적게 발생하는 경우 무시**, 예를 들어 0.5는 전체 문서의 **50%보다 적게** 발생하는 단어는 무시, 1.0은 기본 값이고, **100%보다 적게** 발생하는 경우 무시하게 된다. 즉, minDf=1.0은 문서 1개 이하에서 나타난 단어는 무시하라는 의미이다. 즉 어떤 단어도 무시하지 말라는 의미이다.\n",
    "* maxDf는 너무 **많이 발생하는 경우 무시**, 예를 들어 0.5는 전체 문서의 **50%보다 많이** 발생하는 경우 무시, 1.0은 **100%보다 많이** 발생하는 경우 무시 (즉, 어떤 단어도 무시하지 말라는 의미). min_df와 마찬가지로 1.0이 기본 값이다."
   ]
  },
  {
   "cell_type": "code",
   "execution_count": 124,
   "metadata": {},
   "outputs": [],
   "source": [
    "from pyspark.ml.feature import CountVectorizer\n",
    "cv = CountVectorizer(inputCol=\"nostops\", outputCol=\"cv\", vocabSize=30, minDF=1.0)"
   ]
  },
  {
   "cell_type": "markdown",
   "metadata": {
    "slideshow": {
     "slide_type": "subslide"
    }
   },
   "source": [
    "```CountVectorizerModel```은 ```fit()```하고 나면 얻어진다. 다음에 사용하는 ```HashingTF```는 ```fit()```하지 않는다는 점에서 차이가 있다."
   ]
  },
  {
   "cell_type": "code",
   "execution_count": 125,
   "metadata": {
    "slideshow": {
     "slide_type": "-"
    }
   },
   "outputs": [],
   "source": [
    "cvModel = cv.fit(stopDf)"
   ]
  },
  {
   "cell_type": "code",
   "execution_count": 126,
   "metadata": {},
   "outputs": [
    {
     "name": "stdout",
     "output_type": "stream",
     "text": [
      "<class 'pyspark.ml.feature.CountVectorizer'> <class 'pyspark.ml.feature.CountVectorizerModel'>\n"
     ]
    }
   ],
   "source": [
    "print (type(cv),type(cvModel))"
   ]
  },
  {
   "cell_type": "code",
   "execution_count": 127,
   "metadata": {
    "slideshow": {
     "slide_type": "subslide"
    }
   },
   "outputs": [],
   "source": [
    "cvDf = cvModel.transform(stopDf)"
   ]
  },
  {
   "cell_type": "code",
   "execution_count": 128,
   "metadata": {},
   "outputs": [
    {
     "name": "stdout",
     "output_type": "stream",
     "text": [
      "+--------------------+--------------------+--------------------+--------------------+\n",
      "|                sent|            wordsReg|             nostops|                  cv|\n",
      "+--------------------+--------------------+--------------------+--------------------+\n",
      "|When I find mysel...|[when, i, find, m...|[find, times, tro...|(16,[5,6,8],[1.0,...|\n",
      "|Mother Mary comes...|[mother, mary, co...|[mother, mary, co...|(16,[10,13,14],[1...|\n",
      "|Speaking words of...|[speaking, words,...|[speaking, words,...|(16,[0,1,2,3],[1....|\n",
      "+--------------------+--------------------+--------------------+--------------------+\n",
      "only showing top 3 rows\n",
      "\n"
     ]
    }
   ],
   "source": [
    "cvDf.show(3)"
   ]
  },
  {
   "cell_type": "markdown",
   "metadata": {
    "slideshow": {
     "slide_type": "subslide"
    }
   },
   "source": [
    "DataFrame 전체를 출력하면 보기 불편하므로, 이 가운데 일부 컬럼만을 선택하여 출력할 수 있다.\n",
    "```(16,[5,6,8],[1.0,1.0,1.0])```\n",
    "16은 전체 단어의 개수, 그리고 다음 5,6,8은 값이 있는 컬럼 번호, 1.0,1.0,1.0은 그 값을 말한다."
   ]
  },
  {
   "cell_type": "code",
   "execution_count": 129,
   "metadata": {
    "scrolled": true
   },
   "outputs": [
    {
     "name": "stdout",
     "output_type": "stream",
     "text": [
      "+--------------------+--------------------+--------------------+\n",
      "|                sent|             nostops|                  cv|\n",
      "+--------------------+--------------------+--------------------+\n",
      "|When I find mysel...|[find, times, tro...|(16,[5,6,8],[1.0,...|\n",
      "|Mother Mary comes...|[mother, mary, co...|(16,[10,13,14],[1...|\n",
      "|Speaking words of...|[speaking, words,...|(16,[0,1,2,3],[1....|\n",
      "|And in my hour of...|    [hour, darkness]|(16,[7,9],[1.0,1.0])|\n",
      "|She is standing r...|[standing, right,...|(16,[4,12,15],[1....|\n",
      "|Speaking words of...|[speaking, words,...|(16,[0,1,2,3],[1....|\n",
      "|      우리 Let it be|               [let]|      (16,[0],[1.0])|\n",
      "|        나 Let it be|               [let]|      (16,[0],[1.0])|\n",
      "|        너 Let it be|               [let]|      (16,[0],[1.0])|\n",
      "|           Let it be|               [let]|      (16,[0],[1.0])|\n",
      "|Whisper words of ...|[whisper, words, ...|(16,[0,1,2,11],[1...|\n",
      "+--------------------+--------------------+--------------------+\n",
      "\n"
     ]
    }
   ],
   "source": [
    "cvDf.select('sent','nostops','cv').show()"
   ]
  },
  {
   "cell_type": "markdown",
   "metadata": {
    "slideshow": {
     "slide_type": "subslide"
    }
   },
   "source": [
    "```CountVectorizer```에서 사용된 단어 목록을 출력할 수 있다. 아래 단어의 수를 세어보면 위 sparse vector의 컬럼 개수와 동일하다."
   ]
  },
  {
   "cell_type": "code",
   "execution_count": 130,
   "metadata": {},
   "outputs": [
    {
     "data": {
      "text/plain": [
       "['let',\n",
       " 'wisdom,',\n",
       " 'words',\n",
       " 'speaking',\n",
       " 'right',\n",
       " 'trouble',\n",
       " 'find',\n",
       " 'hour',\n",
       " 'times',\n",
       " 'darkness',\n",
       " 'mother',\n",
       " 'whisper',\n",
       " 'front',\n",
       " 'mary',\n",
       " 'comes',\n",
       " 'standing']"
      ]
     },
     "execution_count": 130,
     "metadata": {},
     "output_type": "execute_result"
    }
   ],
   "source": [
    "cvModel.vocabulary"
   ]
  },
  {
   "cell_type": "markdown",
   "metadata": {
    "collapsed": true,
    "slideshow": {
     "slide_type": "slide"
    }
   },
   "source": [
    "### S.5.8 TF-IDF\n",
    "\n",
    "```TfidfTransformer```는 **TF-IDF(Term Frequency-Inverse Document Frequency)**를 계산한다.\n",
    "이를 위해서는 우선 Tokenizer를 사용하여 문장을 단어로 분리해 놓아야 한다.\n",
    "\n",
    "HashingTF를 사용하여 'word vector'를 계산한다.\n",
    "HashingTF은 hash함수에 따라 단어의 고유번호를 생성하며, 단어 수가 많아지면서 고유번호가 충돌할 수 있는 가능성이 있지만 이를 최소화게 된다.\n",
    "그리고 IDF를 계산하고, TF-IDF를 계산한다."
   ]
  },
  {
   "cell_type": "markdown",
   "metadata": {
    "slideshow": {
     "slide_type": "subslide"
    }
   },
   "source": [
    "#### S.5.8.1 TF-IDF 계산\n",
    "\n",
    "'Let it be'가사 세 번째 줄 **'wisdom' 단어**의 TF-IDF를 계산해보자.\n",
    "**TF**는 단어빈도수, 즉 문서에 단어가 나타난 빈도수를 의미한다.\n",
    "단어빈도는 경우에 따라서는 문제가 될 수 있다. 예를 들어, 'a', 'the', 'of'와 같은 단어는 빈도는 높지만 별로 유용하지 못하다.\n",
    "이 경우 IDF는 유용하다. **IDF**는 자주 나타나는 단어에 대한 가중치를 줄이고, 드물게 나타나는 단어에 가중치를 높이는 방식으로 계산된다."
   ]
  },
  {
   "cell_type": "markdown",
   "metadata": {
    "slideshow": {
     "slide_type": "subslide"
    }
   },
   "source": [
    "t는 단어, 문서는 d, D는 corpus,\n",
    "\n",
    "항목 | 설명 | 예제\n",
    "-----|-----|-----\n",
    "tf(d,f) | 단어 t가 문서 d에서 나타나는 단어의 빈도 수, term frequency | $f_{t,d}$ / (number of words in d) = 1/4 = 0.25<br>(3번째 문서에 stopwords를 제외하면 4개의 단어, wisdom은 1회 나타난다.)\n",
    "df | document frequency 단어가 나타난 문서 수 | 3 (wisdom이 포함된 문서는 3)\n",
    "N | number of documents 전체 문서의 수 | 11 (전체의 문서는 11개)\n",
    "idf | inverse document frequency 단어가 나타난 문서의 비율을 거꾸로 | ln(N+1 / df+1) + 1 = log(12/4) + 1 = 1.09861 + 1<br>0으로 나뉘는 것을 방지하기 위해 **smoothing**, 즉 1을 더한다. "
   ]
  },
  {
   "cell_type": "markdown",
   "metadata": {
    "slideshow": {
     "slide_type": "subslide"
    }
   },
   "source": [
    "프로그래밍에서는 메모리를 적게 사용하도록 설계되어 있다. ```1/4```와 같이 정수 타잎으로 연산하면, 정수를 사용하여 연산하고 그 결과도 정수를 출력하게 된다. 이를 변환하기 위해 ```1.```의 경우에서와 같이 소수를 사용하자."
   ]
  },
  {
   "cell_type": "code",
   "execution_count": 131,
   "metadata": {
    "slideshow": {
     "slide_type": "-"
    }
   },
   "outputs": [
    {
     "name": "stdout",
     "output_type": "stream",
     "text": [
      "idf: 2.09861228866811\n"
     ]
    }
   ],
   "source": [
    "import math\n",
    "\n",
    "tf=1./4\n",
    "df=3.\n",
    "N=11.\n",
    "idf=math.log((N+1)/(df+1))+1\n",
    "print (\"idf: {}\".format(idf))"
   ]
  },
  {
   "cell_type": "markdown",
   "metadata": {},
   "source": [
    "#### S.5.8.2 sklearn을 사용한 TF-IDF\n",
    "\n",
    "우선 'sklearn'의 TF-IDF를 계산해보자.\n",
    "**```CountVectorizer```**는 텍스트를 단어의 빈도로 변환해주어, 문서 x 단어 표를 출력할 수 있다.\n",
    "**```CountVectorizer()```**의 인자로\n",
    "analyzer (\"word\", \"character ngram\" 등 선택),\n",
    "tokenizer (단어의 tokenizer를 지정),\n",
    "stop_words (불용어 처리 기준),\n",
    "max_features (최대 속성 개수) 등을 지정할 수 있다.\n",
    "그 다음으로, TF-IDF를 계산할 수 있다. 이 때 (문서id, 단어id) 별로 결과가 출력된다."
   ]
  },
  {
   "cell_type": "markdown",
   "metadata": {},
   "source": [
    "```TfidfVectorizer```를 사용해서 계산하면 그 결과를 아래와 같이 볼 수 있다.\n",
    "```python\n",
    "(2,12) 2.09861228867\n",
    "```\n",
    "\n",
    "결과에서\n",
    "**'2'**는 3번째 문서번호, **'12'**는 'wisdom' 단어번호\n",
    "TF-IDF는 ```2.09861228867```이다."
   ]
  },
  {
   "cell_type": "markdown",
   "metadata": {},
   "source": [
    "max_df, min_df는 기본 값이 1.0으로 굳이 설정하지 않아도 되는데, 어떤 단어도 무시하지 말라는 의미이다."
   ]
  },
  {
   "cell_type": "code",
   "execution_count": 132,
   "metadata": {},
   "outputs": [],
   "source": [
    "from sklearn.feature_extraction.text import TfidfVectorizer\n",
    "\n",
    "vectorizer = TfidfVectorizer(max_df=1.0, stop_words='english',norm = None)"
   ]
  },
  {
   "cell_type": "code",
   "execution_count": 133,
   "metadata": {},
   "outputs": [
    {
     "name": "stdout",
     "output_type": "stream",
     "text": [
      "  (0, 9)\t2.791759469228055\n",
      "  (0, 10)\t2.791759469228055\n",
      "  (1, 5)\t2.791759469228055\n",
      "  (1, 4)\t2.791759469228055\n",
      "  (1, 0)\t2.791759469228055\n",
      "  (2, 7)\t2.386294361119891\n",
      "  (2, 13)\t2.09861228866811\n",
      "  (2, 12)\t2.09861228866811\n",
      "  (2, 3)\t1.4054651081081644\n",
      "  (3, 2)\t2.791759469228055\n",
      "  (3, 1)\t2.791759469228055\n",
      "  (4, 8)\t2.791759469228055\n",
      "  (4, 6)\t2.791759469228055\n",
      "  (5, 7)\t2.386294361119891\n",
      "  (5, 13)\t2.09861228866811\n",
      "  (5, 12)\t2.09861228866811\n",
      "  (5, 3)\t1.4054651081081644\n",
      "  (6, 3)\t1.4054651081081644\n",
      "  (6, 14)\t2.791759469228055\n",
      "  (7, 3)\t1.4054651081081644\n",
      "  (8, 3)\t1.4054651081081644\n",
      "  (9, 3)\t1.4054651081081644\n",
      "  (10, 13)\t2.09861228866811\n",
      "  (10, 12)\t2.09861228866811\n",
      "  (10, 3)\t1.4054651081081644\n",
      "  (10, 11)\t2.791759469228055\n"
     ]
    }
   ],
   "source": [
    "print (vectorizer.fit_transform(doc))"
   ]
  },
  {
   "cell_type": "code",
   "execution_count": 134,
   "metadata": {},
   "outputs": [
    {
     "data": {
      "text/plain": [
       "{'times': 9,\n",
       " 'trouble': 10,\n",
       " 'mother': 5,\n",
       " 'mary': 4,\n",
       " 'comes': 0,\n",
       " 'speaking': 7,\n",
       " 'words': 13,\n",
       " 'wisdom': 12,\n",
       " 'let': 3,\n",
       " 'hour': 2,\n",
       " 'darkness': 1,\n",
       " 'standing': 8,\n",
       " 'right': 6,\n",
       " '우리': 14,\n",
       " 'whisper': 11}"
      ]
     },
     "execution_count": 134,
     "metadata": {},
     "output_type": "execute_result"
    }
   ],
   "source": [
    "vectorizer.vocabulary_"
   ]
  },
  {
   "cell_type": "code",
   "execution_count": 135,
   "metadata": {
    "slideshow": {
     "slide_type": "slide"
    }
   },
   "outputs": [
    {
     "data": {
      "text/plain": [
       "array([2.79175947, 2.79175947, 2.79175947, 1.40546511, 2.79175947,\n",
       "       2.79175947, 2.79175947, 2.38629436, 2.79175947, 2.79175947,\n",
       "       2.79175947, 2.79175947, 2.09861229, 2.09861229, 2.79175947])"
      ]
     },
     "execution_count": 135,
     "metadata": {},
     "output_type": "execute_result"
    }
   ],
   "source": [
    "vectorizer.idf_"
   ]
  },
  {
   "cell_type": "markdown",
   "metadata": {
    "slideshow": {
     "slide_type": "subslide"
    }
   },
   "source": [
    "#### S.5.8.3 Spark를 사용한 TF-IDF\n",
    "\n",
    "##### TF\n",
    "HashingTF는 단어집합을 워드벡터 word vector로 변환하는데, 해시함수를 사용해서 단어에 해당하는 일련번호를 결정한다.\n",
    "HashingTF에서의 **```numFeatures```는 $2^n$**으로 결정하게 된다.\n",
    "단어 갯수가 900이면, $2^{10}=1024$이므로 1024로 설정하면 된다.\n",
    "기본은 $2^{18}=262,144$이다.\n",
    "너무 적게 설정되면 인덱스가 부족하거나 적절하게 매핑될 수 있으니 주의해야 한다.\n",
    "\n",
    "\n",
    "예를 들어, \n",
    "문서 ```[speaking, words, wisdom,, let]```의 경우 ```(32,[4,24,27],[1.0,1.0,2.0])```가 출력된다.\n",
    "아래의 결과와 비교하면 단어 하나가 유실된 것을 알 수 있다."
   ]
  },
  {
   "cell_type": "code",
   "execution_count": 136,
   "metadata": {},
   "outputs": [],
   "source": [
    "from pyspark.ml.feature import HashingTF, IDF\n",
    "\n",
    "# hashTF = HashingTF(inputCol=\"nostops\", outputCol=\"hash\", numFeatures=32) #  mapping indices insufficient\n",
    "hashTF = HashingTF(inputCol=\"nostops\", outputCol=\"hash\")"
   ]
  },
  {
   "cell_type": "markdown",
   "metadata": {
    "slideshow": {
     "slide_type": "subslide"
    }
   },
   "source": [
    "```HashingTF```는 ```fit()```하지 않고 ```transform()``` 한다."
   ]
  },
  {
   "cell_type": "code",
   "execution_count": 137,
   "metadata": {},
   "outputs": [],
   "source": [
    "hashDf = hashTF.transform(stopDf)"
   ]
  },
  {
   "cell_type": "markdown",
   "metadata": {},
   "source": [
    "hashTF.transform()의 결과는 **벡터의 튜플**이다. 예를 들어, ```(262144,[64317,91878,152481],[1.0,1.0,1.0])```\n",
    "262144는 해시 개수 (앞서 CountVectorizer의 경우에서와 같이 전체 단어의 개수가 아니다), 그리고 다음 [64317,91878,152481]은 값이 있는 **해시 컬럼** 번호, 1.0,1.0,1.0은 그 값을 말한다."
   ]
  },
  {
   "cell_type": "code",
   "execution_count": 138,
   "metadata": {},
   "outputs": [
    {
     "name": "stdout",
     "output_type": "stream",
     "text": [
      "+-------------------------------+--------------------------------------------------------+\n",
      "|nostops                        |hash                                                    |\n",
      "+-------------------------------+--------------------------------------------------------+\n",
      "|[find, times, trouble]         |(262144,[64317,91878,152481],[1.0,1.0,1.0])             |\n",
      "|[mother, mary, comes]          |(262144,[24657,63767,245426],[1.0,1.0,1.0])             |\n",
      "|[speaking, words, wisdom,, let]|(262144,[27556,151864,173339,175131],[1.0,1.0,1.0,1.0]) |\n",
      "|[hour, darkness]               |(262144,[74517,98431],[1.0,1.0])                        |\n",
      "|[standing, right, front]       |(262144,[84798,218360,229166],[1.0,1.0,1.0])            |\n",
      "|[speaking, words, wisdom,, let]|(262144,[27556,151864,173339,175131],[1.0,1.0,1.0,1.0]) |\n",
      "|[let]                          |(262144,[173339],[1.0])                                 |\n",
      "|[let]                          |(262144,[173339],[1.0])                                 |\n",
      "|[let]                          |(262144,[173339],[1.0])                                 |\n",
      "|[let]                          |(262144,[173339],[1.0])                                 |\n",
      "|[whisper, words, wisdom,, let] |(262144,[151864,173339,175131,188139],[1.0,1.0,1.0,1.0])|\n",
      "+-------------------------------+--------------------------------------------------------+\n",
      "\n"
     ]
    }
   ],
   "source": [
    "hashDf.select(\"nostops\", \"hash\").show(truncate=False)"
   ]
  },
  {
   "cell_type": "markdown",
   "metadata": {},
   "source": [
    "##### TF-IDF\n",
    "\n",
    "앞서 hashTF의 결과는 벡터튜플이고, 이를 IDF에 입력으로 넣어준다."
   ]
  },
  {
   "cell_type": "code",
   "execution_count": 3,
   "metadata": {},
   "outputs": [
    {
     "ename": "NameError",
     "evalue": "name 'IDF' is not defined",
     "output_type": "error",
     "traceback": [
      "\u001b[1;31m---------------------------------------------------------------------------\u001b[0m",
      "\u001b[1;31mNameError\u001b[0m                                 Traceback (most recent call last)",
      "\u001b[1;32m<ipython-input-3-eab027d1940d>\u001b[0m in \u001b[0;36m<module>\u001b[1;34m\u001b[0m\n\u001b[1;32m----> 1\u001b[1;33m \u001b[0midf\u001b[0m \u001b[1;33m=\u001b[0m \u001b[0mIDF\u001b[0m\u001b[1;33m(\u001b[0m\u001b[0minputCol\u001b[0m\u001b[1;33m=\u001b[0m\u001b[1;34m\"hash\"\u001b[0m\u001b[1;33m,\u001b[0m \u001b[0moutputCol\u001b[0m\u001b[1;33m=\u001b[0m\u001b[1;34m\"idf\"\u001b[0m\u001b[1;33m)\u001b[0m\u001b[1;33m\u001b[0m\u001b[1;33m\u001b[0m\u001b[0m\n\u001b[0m",
      "\u001b[1;31mNameError\u001b[0m: name 'IDF' is not defined"
     ]
    }
   ],
   "source": [
    "idf = IDF(inputCol=\"hash\", outputCol=\"idf\")"
   ]
  },
  {
   "cell_type": "code",
   "execution_count": 4,
   "metadata": {},
   "outputs": [
    {
     "ename": "NameError",
     "evalue": "name 'idf' is not defined",
     "output_type": "error",
     "traceback": [
      "\u001b[1;31m---------------------------------------------------------------------------\u001b[0m",
      "\u001b[1;31mNameError\u001b[0m                                 Traceback (most recent call last)",
      "\u001b[1;32m<ipython-input-4-c5b9a1c068c2>\u001b[0m in \u001b[0;36m<module>\u001b[1;34m\u001b[0m\n\u001b[1;32m----> 1\u001b[1;33m \u001b[0midfModel\u001b[0m \u001b[1;33m=\u001b[0m \u001b[0midf\u001b[0m\u001b[1;33m.\u001b[0m\u001b[0mfit\u001b[0m\u001b[1;33m(\u001b[0m\u001b[0mhashDf\u001b[0m\u001b[1;33m)\u001b[0m\u001b[1;33m\u001b[0m\u001b[1;33m\u001b[0m\u001b[0m\n\u001b[0m",
      "\u001b[1;31mNameError\u001b[0m: name 'idf' is not defined"
     ]
    }
   ],
   "source": [
    "idfModel = idf.fit(hashDf)"
   ]
  },
  {
   "cell_type": "code",
   "execution_count": 5,
   "metadata": {},
   "outputs": [
    {
     "ename": "NameError",
     "evalue": "name 'idfModel' is not defined",
     "output_type": "error",
     "traceback": [
      "\u001b[1;31m---------------------------------------------------------------------------\u001b[0m",
      "\u001b[1;31mNameError\u001b[0m                                 Traceback (most recent call last)",
      "\u001b[1;32m<ipython-input-5-72c498114374>\u001b[0m in \u001b[0;36m<module>\u001b[1;34m\u001b[0m\n\u001b[1;32m----> 1\u001b[1;33m \u001b[0midfDf\u001b[0m \u001b[1;33m=\u001b[0m \u001b[0midfModel\u001b[0m\u001b[1;33m.\u001b[0m\u001b[0mtransform\u001b[0m\u001b[1;33m(\u001b[0m\u001b[0mhashDf\u001b[0m\u001b[1;33m)\u001b[0m\u001b[1;33m\u001b[0m\u001b[1;33m\u001b[0m\u001b[0m\n\u001b[0m",
      "\u001b[1;31mNameError\u001b[0m: name 'idfModel' is not defined"
     ]
    }
   ],
   "source": [
    "idfDf = idfModel.transform(hashDf)"
   ]
  },
  {
   "cell_type": "code",
   "execution_count": 6,
   "metadata": {
    "slideshow": {
     "slide_type": "subslide"
    }
   },
   "outputs": [
    {
     "ename": "NameError",
     "evalue": "name 'idfDf' is not defined",
     "output_type": "error",
     "traceback": [
      "\u001b[1;31m---------------------------------------------------------------------------\u001b[0m",
      "\u001b[1;31mNameError\u001b[0m                                 Traceback (most recent call last)",
      "\u001b[1;32m<ipython-input-6-028749e53736>\u001b[0m in \u001b[0;36m<module>\u001b[1;34m\u001b[0m\n\u001b[1;32m----> 1\u001b[1;33m \u001b[1;32mfor\u001b[0m \u001b[0me\u001b[0m \u001b[1;32min\u001b[0m \u001b[0midfDf\u001b[0m\u001b[1;33m.\u001b[0m\u001b[0mselect\u001b[0m\u001b[1;33m(\u001b[0m\u001b[1;34m\"nostops\"\u001b[0m\u001b[1;33m,\u001b[0m\u001b[1;34m\"hash\"\u001b[0m\u001b[1;33m)\u001b[0m\u001b[1;33m.\u001b[0m\u001b[0mtake\u001b[0m\u001b[1;33m(\u001b[0m\u001b[1;36m10\u001b[0m\u001b[1;33m)\u001b[0m\u001b[1;33m:\u001b[0m\u001b[1;33m\u001b[0m\u001b[1;33m\u001b[0m\u001b[0m\n\u001b[0m\u001b[0;32m      2\u001b[0m     \u001b[0mprint\u001b[0m\u001b[1;33m(\u001b[0m\u001b[0me\u001b[0m\u001b[1;33m)\u001b[0m\u001b[1;33m\u001b[0m\u001b[1;33m\u001b[0m\u001b[0m\n",
      "\u001b[1;31mNameError\u001b[0m: name 'idfDf' is not defined"
     ]
    }
   ],
   "source": [
    "for e in idfDf.select(\"nostops\",\"hash\").take(10):\n",
    "    print(e)"
   ]
  },
  {
   "cell_type": "markdown",
   "metadata": {
    "slideshow": {
     "slide_type": "slide"
    }
   },
   "source": [
    "### S.5.9 Word2Vec\n",
    "\n",
    "Word2Vec은 2013년 구글 Tomas Mikolov가 고안한 방법으로, 단어를 벡터로 변환하는 방법을 말한다.\n",
    "**Bag of Words 모델은 단어 순서와 문맥을 무시**한다. Word2Vec는 이런 BoW 모델의 단점을 극복하기 위해서,\n",
    "말뭉치로부터 **단어들 서로의 맥락 또는 연관성 Word Embedding을 신경망으로 학습**하여 Word2Vec을 계산한다.\n",
    "단어가 벡터로 변환되면, 벡터연산이 가능해지고 서로 간의 거리를 측정하여, 가까울수록 비슷한 단어라고 해석하게 된다.\n",
    "\n",
    "Word2Vec을 계산하고 나면, 벡터('king') - 벡터('man') + 벡터('woman') = 벡터('queen) 이런 연산이 가능해진다. 즉 king 단어벡터에서 man 단어백터를 빼고, woman 단어백터를 더하면, queen 단어백터를 구할 수 있다는 의미이다.\n",
    "\n",
    "```vectorSize```는 단어벡터를 몇 개로 구성할 것인지, ```minCount```는 최소 단어빈도를 설정할 수 있다.\n"
   ]
  },
  {
   "cell_type": "code",
   "execution_count": 7,
   "metadata": {},
   "outputs": [
    {
     "ename": "NameError",
     "evalue": "name 'tokDf' is not defined",
     "output_type": "error",
     "traceback": [
      "\u001b[1;31m---------------------------------------------------------------------------\u001b[0m",
      "\u001b[1;31mNameError\u001b[0m                                 Traceback (most recent call last)",
      "\u001b[1;32m<ipython-input-7-e9f4c920ad41>\u001b[0m in \u001b[0;36m<module>\u001b[1;34m\u001b[0m\n\u001b[0;32m      2\u001b[0m \u001b[1;33m\u001b[0m\u001b[0m\n\u001b[0;32m      3\u001b[0m \u001b[0mword2Vec\u001b[0m \u001b[1;33m=\u001b[0m \u001b[0mWord2Vec\u001b[0m\u001b[1;33m(\u001b[0m\u001b[0mvectorSize\u001b[0m\u001b[1;33m=\u001b[0m\u001b[1;36m3\u001b[0m\u001b[1;33m,\u001b[0m \u001b[0mminCount\u001b[0m\u001b[1;33m=\u001b[0m\u001b[1;36m0\u001b[0m\u001b[1;33m,\u001b[0m \u001b[0minputCol\u001b[0m\u001b[1;33m=\u001b[0m\u001b[1;34m\"words\"\u001b[0m\u001b[1;33m,\u001b[0m \u001b[0moutputCol\u001b[0m\u001b[1;33m=\u001b[0m\u001b[1;34m\"w2v\"\u001b[0m\u001b[1;33m)\u001b[0m\u001b[1;33m\u001b[0m\u001b[1;33m\u001b[0m\u001b[0m\n\u001b[1;32m----> 4\u001b[1;33m \u001b[0mmodel\u001b[0m \u001b[1;33m=\u001b[0m \u001b[0mword2Vec\u001b[0m\u001b[1;33m.\u001b[0m\u001b[0mfit\u001b[0m\u001b[1;33m(\u001b[0m\u001b[0mtokDf\u001b[0m\u001b[1;33m)\u001b[0m\u001b[1;33m\u001b[0m\u001b[1;33m\u001b[0m\u001b[0m\n\u001b[0m\u001b[0;32m      5\u001b[0m \u001b[0mw2vDf\u001b[0m \u001b[1;33m=\u001b[0m \u001b[0mmodel\u001b[0m\u001b[1;33m.\u001b[0m\u001b[0mtransform\u001b[0m\u001b[1;33m(\u001b[0m\u001b[0mtokDf\u001b[0m\u001b[1;33m)\u001b[0m\u001b[1;33m\u001b[0m\u001b[1;33m\u001b[0m\u001b[0m\n",
      "\u001b[1;31mNameError\u001b[0m: name 'tokDf' is not defined"
     ]
    }
   ],
   "source": [
    "from pyspark.ml.feature import Word2Vec\n",
    "\n",
    "word2Vec = Word2Vec(vectorSize=3, minCount=0, inputCol=\"words\", outputCol=\"w2v\")\n",
    "model = word2Vec.fit(tokDf)\n",
    "w2vDf = model.transform(tokDf)"
   ]
  },
  {
   "cell_type": "code",
   "execution_count": 43,
   "metadata": {
    "slideshow": {
     "slide_type": "subslide"
    }
   },
   "outputs": [
    {
     "name": "stdout",
     "output_type": "stream",
     "text": [
      "Row(w2v=DenseVector([-0.0305, -0.0208, -0.0298]))\n",
      "Row(w2v=DenseVector([0.0712, 0.0931, 0.0137]))\n",
      "Row(w2v=DenseVector([0.0201, 0.0342, -0.0526]))\n"
     ]
    }
   ],
   "source": [
    "for e in w2vDf.select(\"w2v\").take(3):\n",
    "    print(e)"
   ]
  },
  {
   "cell_type": "code",
   "execution_count": 44,
   "metadata": {},
   "outputs": [
    {
     "name": "stdout",
     "output_type": "stream",
     "text": [
      "+--------+-----------------------------------------------------------------+\n",
      "|word    |vector                                                           |\n",
      "+--------+-----------------------------------------------------------------+\n",
      "|trouble |[0.09912902861833572,-0.030523067340254784,-0.06505794078111649] |\n",
      "|mother  |[0.048511162400245667,0.1060371845960617,-0.138960599899292]     |\n",
      "|find    |[-0.13015522062778473,-0.16613608598709106,0.11310941725969315]  |\n",
      "|standing|[0.023323552682995796,0.06111243739724159,0.12170795351266861]   |\n",
      "|wisdom, |[-0.08077400922775269,0.04744517803192139,-0.11689654737710953]  |\n",
      "|in      |[0.1382375806570053,-0.012973016127943993,-0.1357135772705078]   |\n",
      "|myself  |[-0.1496686488389969,-0.058997854590415955,-0.05918445438146591] |\n",
      "|is      |[-0.07973738759756088,-0.09185151010751724,-0.06437903642654419] |\n",
      "|darkness|[-0.06594431400299072,0.050063349306583405,0.1444423347711563]   |\n",
      "|우리    |[-0.10292311012744904,-0.12944838404655457,-0.12971743941307068] |\n",
      "|front   |[-0.04712843522429466,0.026827162131667137,0.0024197513703256845]|\n",
      "|it      |[0.0019558847416192293,0.09436765313148499,-0.06600052863359451] |\n",
      "|너      |[-0.038879454135894775,0.007775801233947277,0.10685575753450394] |\n",
      "|she     |[0.11838690936565399,-0.16177912056446075,0.016865966841578484]  |\n",
      "|comes   |[0.14107860624790192,0.05106743425130844,-0.08899636566638947]   |\n",
      "|i       |[-0.05259310081601143,-0.003655852749943733,0.036754053086042404]|\n",
      "|hour    |[-0.11945846676826477,0.15075238049030304,-0.0452321358025074]   |\n",
      "|to      |[0.092095747590065,0.06349356472492218,0.09894393384456635]      |\n",
      "|speaking|[-0.025555448606610298,-0.04994954913854599,-0.10482966154813766]|\n",
      "|mary    |[0.020251911133527756,0.11608830839395523,0.11724238097667694]   |\n",
      "+--------+-----------------------------------------------------------------+\n",
      "only showing top 20 rows\n",
      "\n"
     ]
    }
   ],
   "source": [
    "model.getVectors().show(truncate=False)"
   ]
  },
  {
   "cell_type": "code",
   "execution_count": 45,
   "metadata": {},
   "outputs": [
    {
     "name": "stdout",
     "output_type": "stream",
     "text": [
      "+--------+------------------+\n",
      "|    word|        similarity|\n",
      "+--------+------------------+\n",
      "|darkness|0.9830100536346436|\n",
      "| whisper|0.9286471009254456|\n",
      "|      너|0.9184039235115051|\n",
      "+--------+------------------+\n",
      "\n"
     ]
    }
   ],
   "source": [
    "model.findSynonyms(\"times\", 3).show()"
   ]
  },
  {
   "cell_type": "markdown",
   "metadata": {
    "collapsed": true,
    "slideshow": {
     "slide_type": "slide"
    }
   },
   "source": [
    "### S.5.10 NGram\n",
    "\n",
    "텍스트를 대상으로 하면, n-gram은 연속된 n개의 토큰으로 구성된 순열을 말한다.\n",
    "unigram은 한 단어로, bigram은 두 단어로 구성한다."
   ]
  },
  {
   "cell_type": "code",
   "execution_count": null,
   "metadata": {},
   "outputs": [],
   "source": [
    "from pyspark.ml.feature import NGram\n",
    "\n",
    "ngram = NGram(n=2, inputCol=\"words\", outputCol=\"ngrams\")"
   ]
  },
  {
   "cell_type": "code",
   "execution_count": null,
   "metadata": {},
   "outputs": [],
   "source": [
    "ngramDf = ngram.transform(tokDf)"
   ]
  },
  {
   "cell_type": "code",
   "execution_count": null,
   "metadata": {},
   "outputs": [],
   "source": [
    "ngramDf.show()"
   ]
  },
  {
   "cell_type": "code",
   "execution_count": 50,
   "metadata": {
    "scrolled": true,
    "slideshow": {
     "slide_type": "subslide"
    }
   },
   "outputs": [
    {
     "name": "stdout",
     "output_type": "stream",
     "text": [
      "Row(words=['when', 'i', 'find', 'myself', 'in', 'times', 'of', 'trouble'], ngrams=['when i', 'i find', 'find myself', 'myself in', 'in times', 'times of', 'of trouble'])\n",
      "Row(words=['mother', 'mary', 'comes', 'to', 'me'], ngrams=['mother mary', 'mary comes', 'comes to', 'to me'])\n",
      "Row(words=['speaking', 'words', 'of', 'wisdom,', 'let', 'it', 'be'], ngrams=['speaking words', 'words of', 'of wisdom,', 'wisdom, let', 'let it', 'it be'])\n"
     ]
    }
   ],
   "source": [
    "for e in ngramDf.select(\"words\",\"ngrams\").take(3):\n",
    "    print (e)"
   ]
  },
  {
   "cell_type": "markdown",
   "metadata": {},
   "source": [
    "### S.5.11 StringIndexer\n",
    "\n",
    "문자열 컬럼을 인덱스 컬럼으로 변환한다. **빈도가 제일 높은 순서**로 ```0.0```부터 인덱스 값이 주어진다. 인덱스는 double 형을 가지게 된다.\n",
    "**없는 레이블에 대해서는 예외**가 발생할 수 있으므로 (default), ```setHandleInvalid(\"skip\")``` 함수로 'skip', 'keep', 'error' 등으로 설정할 수 있다.\n",
    "\n",
    "구분 | 설명 | 예\n",
    "-----|-----|-----\n",
    "nominal | 명목 또는 구분 값 cateogry  | 사자, 호랑이, 사람\n",
    "ordinal | 명목값과 다른 점은 순서가 있다. | 키 low, med, high\n",
    "interval | 일정한 간격이 있다. | 150-165, 165-180, 180-195"
   ]
  },
  {
   "cell_type": "markdown",
   "metadata": {},
   "source": [
    "현재 텍스트에 대해서는 적당한 명목변수가 없으므로, 문장 전체에 대해 인덱스로 변환해보자."
   ]
  },
  {
   "cell_type": "code",
   "execution_count": 8,
   "metadata": {},
   "outputs": [],
   "source": [
    "from pyspark.ml.feature import StringIndexer\n",
    "\n",
    "labelIndexer = StringIndexer(inputCol=\"sent\", outputCol=\"sentLabel\")"
   ]
  },
  {
   "cell_type": "code",
   "execution_count": 9,
   "metadata": {},
   "outputs": [
    {
     "ename": "NameError",
     "evalue": "name 'myDf' is not defined",
     "output_type": "error",
     "traceback": [
      "\u001b[1;31m---------------------------------------------------------------------------\u001b[0m",
      "\u001b[1;31mNameError\u001b[0m                                 Traceback (most recent call last)",
      "\u001b[1;32m<ipython-input-9-fe3b9d58b07f>\u001b[0m in \u001b[0;36m<module>\u001b[1;34m\u001b[0m\n\u001b[1;32m----> 1\u001b[1;33m \u001b[0mmodel\u001b[0m\u001b[1;33m=\u001b[0m\u001b[0mlabelIndexer\u001b[0m\u001b[1;33m.\u001b[0m\u001b[0mfit\u001b[0m\u001b[1;33m(\u001b[0m\u001b[0mmyDf\u001b[0m\u001b[1;33m)\u001b[0m\u001b[1;33m\u001b[0m\u001b[1;33m\u001b[0m\u001b[0m\n\u001b[0m",
      "\u001b[1;31mNameError\u001b[0m: name 'myDf' is not defined"
     ]
    }
   ],
   "source": [
    "model=labelIndexer.fit(myDf)"
   ]
  },
  {
   "cell_type": "code",
   "execution_count": 59,
   "metadata": {
    "collapsed": true
   },
   "outputs": [],
   "source": [
    "siDf=model.transform(myDf)"
   ]
  },
  {
   "cell_type": "code",
   "execution_count": 60,
   "metadata": {
    "slideshow": {
     "slide_type": "slide"
    }
   },
   "outputs": [
    {
     "name": "stdout",
     "output_type": "stream",
     "text": [
      "+--------------------+---------+\n",
      "|                sent|sentLabel|\n",
      "+--------------------+---------+\n",
      "|When I find mysel...|      5.0|\n",
      "|Mother Mary comes...|      3.0|\n",
      "|Speaking words of...|      0.0|\n",
      "|And in my hour of...|      1.0|\n",
      "|She is standing r...|      4.0|\n",
      "|Speaking words of...|      0.0|\n",
      "|      우리 Let it be|      9.0|\n",
      "|        나 Let it be|      7.0|\n",
      "|        너 Let it be|      8.0|\n",
      "|           Let it be|      2.0|\n",
      "|Whisper words of ...|      6.0|\n",
      "+--------------------+---------+\n",
      "\n"
     ]
    }
   ],
   "source": [
    "siDf.show()"
   ]
  },
  {
   "cell_type": "markdown",
   "metadata": {
    "slideshow": {
     "slide_type": "slide"
    }
   },
   "source": [
    "### S.5.12 연속데이터의 변환\n",
    "\n",
    "몸무게(inches), 키(pounds) 데이터를 분석해보자.\n",
    "이 데이터는 정량, 연속 데이터이다. \n",
    "출처는 https://people.sc.fsu.edu/~jburkardt/data/csv/hw_200.csv\n",
    "\n",
    "```python\n",
    "1\t65.78\t112.99\n",
    "2\t71.52\t136.49\n",
    "3\t69.40\t153.03\n",
    "4\t68.22\t142.34\n",
    "5\t67.79\t144.30\n",
    "6\t68.70\t123.30\n",
    "7\t69.80\t141.49\n",
    "8\t70.01\t136.46\n",
    "9\t67.90\t112.37\n",
    "10\t66.78\t120.67\n",
    "11\t66.49\t127.45\n",
    "12\t67.62\t114.14\n",
    "13\t68.30\t125.61\n",
    "14\t67.12\t122.46\n",
    "15\t68.28\t116.09\n",
    "16\t71.09\t140.00\n",
    "17\t66.46\t129.50\n",
    "18\t68.65\t142.97\n",
    "19\t71.23\t137.90\n",
    "20\t67.13\t124.04\n",
    "21\t67.83\t141.28\n",
    "22\t68.88\t143.54\n",
    "23\t63.48\t97.90\n",
    "24\t68.42\t129.50\n",
    "25\t67.63\t141.85\n",
    "26\t67.21\t129.72\n",
    "27\t70.84\t142.42\n",
    "28\t67.49\t131.55\n",
    "29\t66.53\t108.33\n",
    "30\t65.44\t113.89\n",
    "31\t69.52\t103.30\n",
    "32\t65.81\t120.75\n",
    "33\t67.82\t125.79\n",
    "34\t70.60\t136.22\n",
    "35\t71.80\t140.10\n",
    "36\t69.21\t128.75\n",
    "37\t66.80\t141.80\n",
    "38\t67.66\t121.23\n",
    "39\t67.81\t131.35\n",
    "40\t64.05\t106.71\n",
    "41\t68.57\t124.36\n",
    "42\t65.18\t124.86\n",
    "43\t69.66\t139.67\n",
    "44\t67.97\t137.37\n",
    "45\t65.98\t106.45\n",
    "46\t68.67\t128.76\n",
    "47\t66.88\t145.68\n",
    "48\t67.70\t116.82\n",
    "49\t69.82\t143.62\n",
    "50\t69.09\t134.93\n",
    "```"
   ]
  },
  {
   "cell_type": "code",
   "execution_count": 10,
   "metadata": {},
   "outputs": [],
   "source": [
    "from pyspark.sql.types import *\n",
    "\n",
    "rdd=spark.sparkContext\\\n",
    "    .textFile(os.path.join('data','ds_spark_heightweight.txt'))"
   ]
  },
  {
   "cell_type": "code",
   "execution_count": 11,
   "metadata": {},
   "outputs": [],
   "source": [
    "myRdd=rdd.map(lambda line:[float(x) for x in line.split('\\t')])"
   ]
  },
  {
   "cell_type": "code",
   "execution_count": 12,
   "metadata": {
    "slideshow": {
     "slide_type": "subslide"
    }
   },
   "outputs": [],
   "source": [
    "myDf=spark.createDataFrame(myRdd,[\"id\",\"weight\",\"height\"])"
   ]
  },
  {
   "cell_type": "code",
   "execution_count": 13,
   "metadata": {},
   "outputs": [
    {
     "name": "stdout",
     "output_type": "stream",
     "text": [
      "root\n",
      " |-- id: double (nullable = true)\n",
      " |-- weight: double (nullable = true)\n",
      " |-- height: double (nullable = true)\n",
      "\n"
     ]
    }
   ],
   "source": [
    "myDf.printSchema()"
   ]
  },
  {
   "cell_type": "code",
   "execution_count": 14,
   "metadata": {},
   "outputs": [],
   "source": [
    "from pyspark.ml.feature import Binarizer\n",
    "\n",
    "binarizer = Binarizer(threshold=68.0, inputCol=\"weight\", outputCol=\"weight2\")"
   ]
  },
  {
   "cell_type": "code",
   "execution_count": 15,
   "metadata": {},
   "outputs": [],
   "source": [
    "binDf = binarizer.transform(myDf)"
   ]
  },
  {
   "cell_type": "code",
   "execution_count": 16,
   "metadata": {
    "slideshow": {
     "slide_type": "subslide"
    }
   },
   "outputs": [
    {
     "name": "stdout",
     "output_type": "stream",
     "text": [
      "+----+------+------+-------+\n",
      "|  id|weight|height|weight2|\n",
      "+----+------+------+-------+\n",
      "| 1.0| 65.78|112.99|    0.0|\n",
      "| 2.0| 71.52|136.49|    1.0|\n",
      "| 3.0|  69.4|153.03|    1.0|\n",
      "| 4.0| 68.22|142.34|    1.0|\n",
      "| 5.0| 67.79| 144.3|    0.0|\n",
      "| 6.0|  68.7| 123.3|    1.0|\n",
      "| 7.0|  69.8|141.49|    1.0|\n",
      "| 8.0| 70.01|136.46|    1.0|\n",
      "| 9.0|  67.9|112.37|    0.0|\n",
      "|10.0| 66.78|120.67|    0.0|\n",
      "+----+------+------+-------+\n",
      "only showing top 10 rows\n",
      "\n"
     ]
    }
   ],
   "source": [
    "binDf.show(10)"
   ]
  },
  {
   "cell_type": "code",
   "execution_count": 17,
   "metadata": {},
   "outputs": [],
   "source": [
    "from pyspark.ml.feature import QuantileDiscretizer\n",
    "\n",
    "discretizer = QuantileDiscretizer(numBuckets=3, inputCol=\"height\", outputCol=\"height3\")"
   ]
  },
  {
   "cell_type": "code",
   "execution_count": 18,
   "metadata": {},
   "outputs": [],
   "source": [
    "qdDf = discretizer.fit(binDf).transform(binDf)"
   ]
  },
  {
   "cell_type": "code",
   "execution_count": 19,
   "metadata": {
    "scrolled": false,
    "slideshow": {
     "slide_type": "subslide"
    }
   },
   "outputs": [
    {
     "name": "stdout",
     "output_type": "stream",
     "text": [
      "+----+------+------+-------+-------+\n",
      "|  id|weight|height|weight2|height3|\n",
      "+----+------+------+-------+-------+\n",
      "| 1.0| 65.78|112.99|    0.0|    0.0|\n",
      "| 2.0| 71.52|136.49|    1.0|    1.0|\n",
      "| 3.0|  69.4|153.03|    1.0|    2.0|\n",
      "| 4.0| 68.22|142.34|    1.0|    2.0|\n",
      "| 5.0| 67.79| 144.3|    0.0|    2.0|\n",
      "| 6.0|  68.7| 123.3|    1.0|    0.0|\n",
      "| 7.0|  69.8|141.49|    1.0|    2.0|\n",
      "| 8.0| 70.01|136.46|    1.0|    1.0|\n",
      "| 9.0|  67.9|112.37|    0.0|    0.0|\n",
      "|10.0| 66.78|120.67|    0.0|    0.0|\n",
      "+----+------+------+-------+-------+\n",
      "only showing top 10 rows\n",
      "\n"
     ]
    }
   ],
   "source": [
    "qdDf.show(10)"
   ]
  },
  {
   "cell_type": "markdown",
   "metadata": {
    "slideshow": {
     "slide_type": "slide"
    }
   },
   "source": [
    "### S.5.13 VectorAssembler\n",
    "\n",
    "열을 묶어서 Vector열로 만든다. features 컬럼을 생성할 경우에 사용한다.\n",
    "단 문자열 string은 묶을 수 없다."
   ]
  },
  {
   "cell_type": "code",
   "execution_count": 20,
   "metadata": {},
   "outputs": [],
   "source": [
    "#from pyspark.ml.linalg import Vectors\n",
    "from pyspark.ml.feature import VectorAssembler\n",
    "\n",
    "va = VectorAssembler(inputCols=[\"weight2\",\"height3\"],outputCol=\"features\")"
   ]
  },
  {
   "cell_type": "code",
   "execution_count": 21,
   "metadata": {},
   "outputs": [],
   "source": [
    "vaDf = va.transform(qdDf)"
   ]
  },
  {
   "cell_type": "code",
   "execution_count": 22,
   "metadata": {},
   "outputs": [
    {
     "name": "stdout",
     "output_type": "stream",
     "text": [
      "root\n",
      " |-- id: double (nullable = true)\n",
      " |-- weight: double (nullable = true)\n",
      " |-- height: double (nullable = true)\n",
      " |-- weight2: double (nullable = true)\n",
      " |-- height3: double (nullable = true)\n",
      " |-- features: vector (nullable = true)\n",
      "\n"
     ]
    }
   ],
   "source": [
    "vaDf.printSchema()"
   ]
  },
  {
   "cell_type": "code",
   "execution_count": 23,
   "metadata": {
    "scrolled": false,
    "slideshow": {
     "slide_type": "subslide"
    }
   },
   "outputs": [
    {
     "name": "stdout",
     "output_type": "stream",
     "text": [
      "+---+------+------+-------+-------+---------+\n",
      "| id|weight|height|weight2|height3| features|\n",
      "+---+------+------+-------+-------+---------+\n",
      "|1.0| 65.78|112.99|    0.0|    0.0|(2,[],[])|\n",
      "|2.0| 71.52|136.49|    1.0|    1.0|[1.0,1.0]|\n",
      "|3.0|  69.4|153.03|    1.0|    2.0|[1.0,2.0]|\n",
      "|4.0| 68.22|142.34|    1.0|    2.0|[1.0,2.0]|\n",
      "|5.0| 67.79| 144.3|    0.0|    2.0|[0.0,2.0]|\n",
      "+---+------+------+-------+-------+---------+\n",
      "only showing top 5 rows\n",
      "\n"
     ]
    }
   ],
   "source": [
    "vaDf.show(5)"
   ]
  },
  {
   "cell_type": "markdown",
   "metadata": {
    "slideshow": {
     "slide_type": "slide"
    }
   },
   "source": [
    "### S.5.14 Pipeline\n",
    "\n",
    "**Pipeline**은 여러 Estimator를 묶은 Estimator를 반환한다. Pipeline은 여러 작업을 묶어, 순서대로 단계적으로 Estimator를 적용하기 위해 사용한다.\n"
   ]
  },
  {
   "cell_type": "code",
   "execution_count": 24,
   "metadata": {},
   "outputs": [],
   "source": [
    "df = spark.createDataFrame([\n",
    "        (0, \"a b c d e spark\", 1.0),\n",
    "        (1, \"b d\", 0.0),\n",
    "        (2, \"spark f g h\", 1.0),\n",
    "        (3, \"hadoop mapreduce\", 0.0),\n",
    "        (4, \"my dog has flea problems. help please.\",0.0)\n",
    "    ], [\"id\", \"text\", \"label\"])"
   ]
  },
  {
   "cell_type": "code",
   "execution_count": 25,
   "metadata": {},
   "outputs": [],
   "source": [
    "from pyspark.ml.feature import HashingTF, Tokenizer\n",
    "from pyspark.ml.classification import LogisticRegression\n",
    "\n",
    "tokenizer = Tokenizer(inputCol=\"text\", outputCol=\"words\")\n",
    "hashingTF = HashingTF(inputCol=tokenizer.getOutputCol(), outputCol=\"features\")\n",
    "lr = LogisticRegression(maxIter=10, regParam=0.01)"
   ]
  },
  {
   "cell_type": "code",
   "execution_count": 26,
   "metadata": {},
   "outputs": [],
   "source": [
    "from pyspark.ml import Pipeline\n",
    "\n",
    "pipeline = Pipeline(stages=[tokenizer, hashingTF, lr])"
   ]
  },
  {
   "cell_type": "code",
   "execution_count": 27,
   "metadata": {},
   "outputs": [],
   "source": [
    "model = pipeline.fit(df)"
   ]
  },
  {
   "cell_type": "code",
   "execution_count": 28,
   "metadata": {
    "slideshow": {
     "slide_type": "subslide"
    }
   },
   "outputs": [],
   "source": [
    "myDf = model.transform(df)"
   ]
  },
  {
   "cell_type": "code",
   "execution_count": null,
   "metadata": {},
   "outputs": [],
   "source": [
    "myDf.select('label', 'features').show()"
   ]
  },
  {
   "cell_type": "markdown",
   "metadata": {
    "collapsed": true,
    "slideshow": {
     "slide_type": "slide"
    }
   },
   "source": [
    "## 문제 S-4: 연설문을 기계학습하기 위해 변환\n",
    "\n",
    "2019.10.21일 '제74주년 경찰의 날 기념식 축사' 전문을 변환하세요.\n",
    "전문은 http://www.korea.kr/archive/speechView.do?newsId=132031636 에서 읽을 수 있고, 해당 사이트에서 텍스트만 파일로 저장해서 사용한다.\n",
    "\n",
    "* 1) DataFrame 생성\n",
    "* 2) 단어로 분리해서, 출력\n",
    "* 3) 정리 strip, replace\n",
    "* 3) 불용어 구성, 출력 - 축사 전문에서 한글자로 된 단어를 찾아내 스스로 구성\n",
    "* 4) 불용어 제거하고, 출력\n",
    "* 5) TF-IDF를 계산하고, 출력\n",
    "* 6) TF-IDF 컬럼을 features로 구성, 출력"
   ]
  },
  {
   "cell_type": "markdown",
   "metadata": {},
   "source": [
    "### 1) DataFrame 생성"
   ]
  },
  {
   "cell_type": "code",
   "execution_count": 85,
   "metadata": {},
   "outputs": [],
   "source": [
    "import os\n",
    "#spark.createDataFrame(os.path.join(\"data\", \"20191021_policeAddress.txt\"))\n",
    "#df=spark.read.text(os.path.join(\"data\", \"20191021_policeAddress.txt\"))\n",
    "\n",
    "from pyspark.sql.types import StructType, StructField, StringType\n",
    "police=spark.read\\\n",
    "    .options(header=\"true\", delimiter=\" \", inferSchema=\"true\")\\\n",
    "    .schema(\n",
    "        StructType([\n",
    "            StructField(\"sent\",StringType()),\n",
    "            ])\n",
    "    )\\\n",
    "    .text(os.path.join(\"data\", \"20191021_policeAddress.txt\"))"
   ]
  },
  {
   "cell_type": "markdown",
   "metadata": {
    "slideshow": {
     "slide_type": "subslide"
    }
   },
   "source": [
    "문장이 잘리지 않고 온전하게 출력되려면 'False'로 설정한다."
   ]
  },
  {
   "cell_type": "code",
   "execution_count": 86,
   "metadata": {},
   "outputs": [
    {
     "name": "stdout",
     "output_type": "stream",
     "text": [
      "+---------------------------------+\n",
      "|                             sent|\n",
      "+---------------------------------+\n",
      "| 존경하는 국민 여러분, 경찰관 ...|\n",
      "|                                 |\n",
      "|국민의 안전을 위해 밤낮없이 애...|\n",
      "+---------------------------------+\n",
      "only showing top 3 rows\n",
      "\n"
     ]
    }
   ],
   "source": [
    "police.show(3)"
   ]
  },
  {
   "cell_type": "markdown",
   "metadata": {},
   "source": [
    "### 2) 단어로 분리"
   ]
  },
  {
   "cell_type": "code",
   "execution_count": 62,
   "metadata": {
    "collapsed": true
   },
   "outputs": [],
   "source": [
    "from pyspark.ml.feature import Tokenizer\n",
    "tokenizer = Tokenizer(inputCol=\"sent\", outputCol=\"tokens\")\n",
    "tokDf = tokenizer.transform(police)"
   ]
  },
  {
   "cell_type": "code",
   "execution_count": 63,
   "metadata": {},
   "outputs": [
    {
     "name": "stdout",
     "output_type": "stream",
     "text": [
      "+---------------------------------+------------------------------+\n",
      "|                             sent|                        tokens|\n",
      "+---------------------------------+------------------------------+\n",
      "| 존경하는 국민 여러분, 경찰관 ...| [존경하는, 국민, 여러분,, ...|\n",
      "|                                 |                            []|\n",
      "|국민의 안전을 위해 밤낮없이 애...|[국민의, 안전을, 위해, 밤낮...|\n",
      "+---------------------------------+------------------------------+\n",
      "only showing top 3 rows\n",
      "\n"
     ]
    }
   ],
   "source": [
    "tokDf.show(3)"
   ]
  },
  {
   "cell_type": "code",
   "execution_count": 64,
   "metadata": {},
   "outputs": [
    {
     "name": "stdout",
     "output_type": "stream",
     "text": [
      "존경하는 국민 여러분, 경찰관 여러분, 일흔네 돌 ‘경찰의 날’입니다.\n",
      " \n",
      "국민의 안전을 위해 밤낮없이 애쓰시는 전국의 15만 경찰관 여러분께 먼저 감사를 드립니다. 전몰·순직 경찰관들의 고귀한 희생에 경의를 표합니다. 유가족 여러분께 위로의 마음을 전합니다.\n"
     ]
    }
   ],
   "source": [
    "for r in tokDf.select(\"sent\").take(3):\n",
    "    print (r[0])"
   ]
  },
  {
   "cell_type": "markdown",
   "metadata": {},
   "source": [
    "### 3) 정리\n",
    "\n",
    "텍스트는 정리가 필요하다. 예를 들어, '여러분,'은 컴마로 인해 '여러분'과 다른 단어로 인식된다.\n",
    "'날’입니다.'도 '날입니다.'와 다른 단어로 취급된다.\n",
    "\n",
    "#### 컴마, 따옴표, 마침표 등 제거\n",
    "\n",
    "'여러분,', '‘경찰의', '날’입니다.' 에서 발견할 수 있듯이, 컴마, 따옴표, 마침표 등을 제거해야 한다."
   ]
  },
  {
   "cell_type": "code",
   "execution_count": 87,
   "metadata": {},
   "outputs": [
    {
     "data": {
      "text/plain": [
       "'여러분'"
      ]
     },
     "execution_count": 87,
     "metadata": {},
     "output_type": "execute_result"
    }
   ],
   "source": [
    "'여러분,'.rstrip(',')"
   ]
  },
  {
   "cell_type": "code",
   "execution_count": 66,
   "metadata": {},
   "outputs": [
    {
     "data": {
      "text/plain": [
       "'경찰의'"
      ]
     },
     "execution_count": 66,
     "metadata": {},
     "output_type": "execute_result"
    }
   ],
   "source": [
    "'‘경찰의'.lstrip('‘')"
   ]
  },
  {
   "cell_type": "code",
   "execution_count": 67,
   "metadata": {},
   "outputs": [
    {
     "data": {
      "text/plain": [
       "'날’입니다'"
      ]
     },
     "execution_count": 67,
     "metadata": {},
     "output_type": "execute_result"
    }
   ],
   "source": [
    "'날’입니다.'.rstrip('.')"
   ]
  },
  {
   "cell_type": "code",
   "execution_count": 68,
   "metadata": {},
   "outputs": [
    {
     "data": {
      "text/plain": [
       "'날입니다.'"
      ]
     },
     "execution_count": 68,
     "metadata": {},
     "output_type": "execute_result"
    }
   ],
   "source": [
    "'날’입니다.'.replace(\"’\",\"\")"
   ]
  },
  {
   "cell_type": "code",
   "execution_count": 129,
   "metadata": {},
   "outputs": [],
   "source": [
    "wordList=['존경하는', '국민', '여러분,', '경찰관', '여러분,', '일흔네', '‘경찰의', '날’입니다.']"
   ]
  },
  {
   "cell_type": "code",
   "execution_count": 130,
   "metadata": {},
   "outputs": [
    {
     "data": {
      "text/plain": [
       "['존경하는', '국민', '여러분', '경찰관', '여러분', '일흔네', '경찰의', '날입니다']"
      ]
     },
     "execution_count": 130,
     "metadata": {},
     "output_type": "execute_result"
    }
   ],
   "source": [
    "cleaned=list()\n",
    "for w in wordList:\n",
    "    cleaned.append(w.lstrip('‘').rstrip(\"’\").rstrip(',').rstrip('.').replace(\"’\",\"\").replace(\"”\",\"\"))\n",
    "cleaned"
   ]
  },
  {
   "cell_type": "markdown",
   "metadata": {},
   "source": [
    "#### 숫자 제거\n",
    "\n",
    "숫자가 하나 이상 있는 경우 정규식 패턴 ```\\d+```를 적용한다.\n",
    "숫자로 시작하는 문자열인 경우 ```regex.match(w)```가 아니면 컴마등을 정리한다."
   ]
  },
  {
   "cell_type": "code",
   "execution_count": 131,
   "metadata": {},
   "outputs": [
    {
     "name": "stdout",
     "output_type": "stream",
     "text": [
      "['Seoul1', 'Seoul']\n"
     ]
    }
   ],
   "source": [
    "import re\n",
    "\n",
    "regex = re.compile('\\d+')\n",
    "cleaned=list()\n",
    "\n",
    "wordList=[\"1\", \"123\", \"15만\", \"2015년에\", \"15.1%\", \"74.5점\", \"8,572명을\", \"Seoul1\", \"Seoul\"]\n",
    "for w in wordList:\n",
    "    if not regex.match(w):\n",
    "        cleaned.append(w)\n",
    "print(cleaned)"
   ]
  },
  {
   "cell_type": "markdown",
   "metadata": {},
   "source": [
    "#### udf함수: 컴마, 따옴표, 마침표, 숫자 제거"
   ]
  },
  {
   "cell_type": "code",
   "execution_count": 132,
   "metadata": {
    "collapsed": true
   },
   "outputs": [],
   "source": [
    "\n",
    "import re\n",
    "\n",
    "def trim(wordList):\n",
    "    regex = re.compile('\\d+')\n",
    "    cleaned=list()\n",
    "    for w in wordList:\n",
    "        if not regex.match(w):\n",
    "            cleaned.append(w.lstrip('‘').rstrip(\"’\").rstrip(',').rstrip('.').replace(\"’\",\"\").replace(\"”\",\"\"))\n",
    "    return cleaned"
   ]
  },
  {
   "cell_type": "markdown",
   "metadata": {},
   "source": [
    "위 함수가 올바르게 실행되는지 해보자."
   ]
  },
  {
   "cell_type": "code",
   "execution_count": 133,
   "metadata": {},
   "outputs": [
    {
     "data": {
      "text/plain": [
       "['Seoul1', 'Seoul']"
      ]
     },
     "execution_count": 133,
     "metadata": {},
     "output_type": "execute_result"
    }
   ],
   "source": [
    "myList=[\"1\", \"123\", \"15만\", \"2015년에\", \"15.1%\", \"74.5점\", \"8,572명을\", \"Seoul1\", \"Seoul\"]\n",
    "trim(myList)"
   ]
  },
  {
   "cell_type": "markdown",
   "metadata": {},
   "source": [
    "이번에는 udf에 넣어서 컬럼을 생성해보자.\n",
    "udf함수 결과는 **문자열 배열 ArrayType(StringType)**로 맞추어 준다."
   ]
  },
  {
   "cell_type": "code",
   "execution_count": 134,
   "metadata": {},
   "outputs": [],
   "source": [
    "from pyspark.sql import functions as f\n",
    "from pyspark.sql.types import ArrayType, StringType\n",
    "\n",
    "trimUdf=f.udf(trim, ArrayType(StringType()))"
   ]
  },
  {
   "cell_type": "code",
   "execution_count": 135,
   "metadata": {},
   "outputs": [],
   "source": [
    "wordsDf = tokDf.withColumn('words', trimUdf(f.col('tokens')))"
   ]
  },
  {
   "cell_type": "markdown",
   "metadata": {},
   "source": [
    "아래에서 보듯이, 15만과 같이 숫자가 포함된 문자열이 제거되었다는 것을 확인하자."
   ]
  },
  {
   "cell_type": "code",
   "execution_count": 136,
   "metadata": {},
   "outputs": [
    {
     "name": "stdout",
     "output_type": "stream",
     "text": [
      "+----------------------------------------------------------------------------------------------------------------------------------------------------------------------------------+----------------------------------------------------------------------------------------------------------------------------------------------------------------------------------------------------------+-------------------------------------------------------------------------------------------------------------------------------------------------------------------------------------------------+\n",
      "|sent                                                                                                                                                                              |tokens                                                                                                                                                                                                    |words                                                                                                                                                                                            |\n",
      "+----------------------------------------------------------------------------------------------------------------------------------------------------------------------------------+----------------------------------------------------------------------------------------------------------------------------------------------------------------------------------------------------------+-------------------------------------------------------------------------------------------------------------------------------------------------------------------------------------------------+\n",
      "|존경하는 국민 여러분, 경찰관 여러분, 일흔네 돌 ‘경찰의 날’입니다.                                                                                                                 |[존경하는, 국민, 여러분,, 경찰관, 여러분,, 일흔네, 돌, ‘경찰의, 날’입니다.]                                                                                                                               |[존경하는, 국민, 여러분, 경찰관, 여러분, 일흔네, 돌, 경찰의, 날입니다]                                                                                                                           |\n",
      "|                                                                                                                                                                                  |[]                                                                                                                                                                                                        |[]                                                                                                                                                                                               |\n",
      "|국민의 안전을 위해 밤낮없이 애쓰시는 전국의 15만 경찰관 여러분께 먼저 감사를 드립니다. 전몰·순직 경찰관들의 고귀한 희생에 경의를 표합니다. 유가족 여러분께 위로의 마음을 전합니다.|[국민의, 안전을, 위해, 밤낮없이, 애쓰시는, 전국의, 15만, 경찰관, 여러분께, 먼저, 감사를, 드립니다., 전몰·순직, 경찰관들의, 고귀한, 희생에, 경의를, 표합니다., 유가족, 여러분께, 위로의, 마음을, 전합니다.]|[국민의, 안전을, 위해, 밤낮없이, 애쓰시는, 전국의, 경찰관, 여러분께, 먼저, 감사를, 드립니다, 전몰·순직, 경찰관들의, 고귀한, 희생에, 경의를, 표합니다, 유가족, 여러분께, 위로의, 마음을, 전합니다]|\n",
      "+----------------------------------------------------------------------------------------------------------------------------------------------------------------------------------+----------------------------------------------------------------------------------------------------------------------------------------------------------------------------------------------------------+-------------------------------------------------------------------------------------------------------------------------------------------------------------------------------------------------+\n",
      "only showing top 3 rows\n",
      "\n"
     ]
    }
   ],
   "source": [
    "wordsDf.show(3, False)"
   ]
  },
  {
   "cell_type": "markdown",
   "metadata": {},
   "source": [
    "### 3) 불용어 "
   ]
  },
  {
   "cell_type": "code",
   "execution_count": 140,
   "metadata": {},
   "outputs": [
    {
     "data": {
      "text/plain": [
       "StopWordsRemover_8319c919508a"
      ]
     },
     "execution_count": 140,
     "metadata": {},
     "output_type": "execute_result"
    }
   ],
   "source": [
    "from pyspark.ml.feature import StopWordsRemover\n",
    "\n",
    "#stop = StopWordsRemover(inputCol=\"tokens\", outputCol=\"nostops\")\n",
    "stop = StopWordsRemover(inputCol=\"words\", outputCol=\"nostops\")\n",
    "stop.setStopWords([u\"돌\", u\"너\", u\"우리\", u'있습니다', u'더', u'합니다', u'그', u'드립니다', u'것입니다'])"
   ]
  },
  {
   "cell_type": "markdown",
   "metadata": {},
   "source": [
    "_mystopwords=[u\"나\", u\"너\", u\"우리\"]\n",
    "stopwords=list()\n",
    "for e in _mystopwords:\n",
    "    stopwords.append(e)\n",
    "stop.setStopWords(stopwords)"
   ]
  },
  {
   "cell_type": "code",
   "execution_count": 141,
   "metadata": {},
   "outputs": [
    {
     "name": "stdout",
     "output_type": "stream",
     "text": [
      "+---------------------------------+------------------------------+------------------------------+------------------------------+\n",
      "|                             sent|                        tokens|                         words|                       nostops|\n",
      "+---------------------------------+------------------------------+------------------------------+------------------------------+\n",
      "| 존경하는 국민 여러분, 경찰관 ...| [존경하는, 국민, 여러분,, ...|[존경하는, 국민, 여러분, 경...|[존경하는, 국민, 여러분, 경...|\n",
      "|                                 |                            []|                            []|                            []|\n",
      "|국민의 안전을 위해 밤낮없이 애...|[국민의, 안전을, 위해, 밤낮...|[국민의, 안전을, 위해, 밤낮...|[국민의, 안전을, 위해, 밤낮...|\n",
      "+---------------------------------+------------------------------+------------------------------+------------------------------+\n",
      "only showing top 3 rows\n",
      "\n"
     ]
    }
   ],
   "source": [
    "#stopDf=stop.transform(tokDf)\n",
    "stopDf=stop.transform(wordsDf)\n",
    "stopDf.show(3)"
   ]
  },
  {
   "cell_type": "code",
   "execution_count": 142,
   "metadata": {},
   "outputs": [
    {
     "name": "stdout",
     "output_type": "stream",
     "text": [
      "['존경하는', '국민', '여러분', '경찰관', '여러분', '일흔네', '경찰의', '날입니다']\n",
      "[]\n",
      "['국민의', '안전을', '위해', '밤낮없이', '애쓰시는', '전국의', '경찰관', '여러분께', '먼저', '감사를', '전몰·순직', '경찰관들의', '고귀한', '희생에', '경의를', '표합니다', '유가족', '여러분께', '위로의', '마음을', '전합니다']\n"
     ]
    }
   ],
   "source": [
    "for r in stopDf.select(\"nostops\").take(3):\n",
    "    for e in r:\n",
    "        print (e)"
   ]
  },
  {
   "cell_type": "code",
   "execution_count": null,
   "metadata": {},
   "outputs": [],
   "source": []
  },
  {
   "cell_type": "markdown",
   "metadata": {},
   "source": [
    "### 전체 단어빈도"
   ]
  },
  {
   "cell_type": "markdown",
   "metadata": {},
   "source": [
    "불용어를 제거한 단어들을 가진 컬럼을 RDD로 변환해서 출력해보자.\n",
    "리스트의 Row로 구성되어 있다."
   ]
  },
  {
   "cell_type": "code",
   "execution_count": 143,
   "metadata": {},
   "outputs": [
    {
     "data": {
      "text/plain": [
       "[Row(nostops=['존경하는', '국민', '여러분', '경찰관', '여러분', '일흔네', '경찰의', '날입니다']),\n",
       " Row(nostops=[]),\n",
       " Row(nostops=['국민의', '안전을', '위해', '밤낮없이', '애쓰시는', '전국의', '경찰관', '여러분께', '먼저', '감사를', '전몰·순직', '경찰관들의', '고귀한', '희생에', '경의를', '표합니다', '유가족', '여러분께', '위로의', '마음을', '전합니다'])]"
      ]
     },
     "execution_count": 143,
     "metadata": {},
     "output_type": "execute_result"
    }
   ],
   "source": [
    "stopDf.select(\"nostops\").rdd.take(3)"
   ]
  },
  {
   "cell_type": "markdown",
   "metadata": {},
   "source": [
    "flatMap()을 하면, Row가 제거된다. 그래도 2차원 리스트로 구성된다."
   ]
  },
  {
   "cell_type": "code",
   "execution_count": 144,
   "metadata": {},
   "outputs": [
    {
     "data": {
      "text/plain": [
       "[['존경하는', '국민', '여러분', '경찰관', '여러분', '일흔네', '경찰의', '날입니다'], []]"
      ]
     },
     "execution_count": 144,
     "metadata": {},
     "output_type": "execute_result"
    }
   ],
   "source": [
    "stopDf.select(\"nostops\").rdd.flatMap(lambda x:x).take(2)"
   ]
  },
  {
   "cell_type": "markdown",
   "metadata": {},
   "source": [
    "flatMap()을 한차례 더하면, 2차원 리스트마저 해제되어 1차원 리스트가 된다."
   ]
  },
  {
   "cell_type": "code",
   "execution_count": 145,
   "metadata": {},
   "outputs": [
    {
     "data": {
      "text/plain": [
       "['존경하는', '국민', '여러분']"
      ]
     },
     "execution_count": 145,
     "metadata": {},
     "output_type": "execute_result"
    }
   ],
   "source": [
    "stopDf.select(\"nostops\").rdd.flatMap(lambda x:x).flatMap(lambda x:x)\\\n",
    "    .take(3)"
   ]
  },
  {
   "cell_type": "markdown",
   "metadata": {},
   "source": [
    "앞서 RDD에서 해보았던대로 단어빈도를 계산하고, 빈도순으로 정렬하여 출력해보자."
   ]
  },
  {
   "cell_type": "code",
   "execution_count": 146,
   "metadata": {},
   "outputs": [
    {
     "data": {
      "text/plain": [
       "[(8, '경찰은'),\n",
       " (7, '국민의'),\n",
       " (6, '여러분'),\n",
       " (6, '경찰의'),\n",
       " (5, '경찰관'),\n",
       " (4, '경찰'),\n",
       " (4, '우리의'),\n",
       " (3, '여러분께'),\n",
       " (3, '역대'),\n",
       " (3, '가장'),\n",
       " (3, '함께'),\n",
       " (2, '안전을'),\n",
       " (2, '위해'),\n",
       " (2, '먼저'),\n",
       " (2, '감사를'),\n",
       " (2, '받으신'),\n",
       " (2, '비롯한'),\n",
       " (2, '또한'),\n",
       " (2, '외국'),\n",
       " (2, '경찰을')]"
      ]
     },
     "execution_count": 146,
     "metadata": {},
     "output_type": "execute_result"
    }
   ],
   "source": [
    "stopDf.select(\"nostops\")\\\n",
    "    .rdd\\\n",
    "    .flatMap(lambda x:x).flatMap(lambda x:x)\\\n",
    "    .map(lambda x:(x,1))\\\n",
    "    .reduceByKey(lambda x,y:x+y)\\\n",
    "    .map(lambda x:(x[1],x[0]))\\\n",
    "    .sortByKey(False)\\\n",
    "    .take(20)"
   ]
  },
  {
   "cell_type": "markdown",
   "metadata": {},
   "source": [
    "경찰은, 경찰의, 경찰 이런 단어들은 이음동의로 처리하자."
   ]
  },
  {
   "cell_type": "code",
   "execution_count": 147,
   "metadata": {},
   "outputs": [
    {
     "data": {
      "text/plain": [
       "[(18, '경찰'),\n",
       " (7, '국민의'),\n",
       " (6, '여러분'),\n",
       " (5, '경찰관'),\n",
       " (4, '우리의'),\n",
       " (3, '여러분께'),\n",
       " (3, '역대'),\n",
       " (3, '가장'),\n",
       " (3, '함께'),\n",
       " (2, '안전을'),\n",
       " (2, '위해'),\n",
       " (2, '먼저'),\n",
       " (2, '감사를'),\n",
       " (2, '받으신'),\n",
       " (2, '비롯한'),\n",
       " (2, '또한'),\n",
       " (2, '외국'),\n",
       " (2, '경찰을'),\n",
       " (2, '경찰헌장은'),\n",
       " (2, '겨레를')]"
      ]
     },
     "execution_count": 147,
     "metadata": {},
     "output_type": "execute_result"
    }
   ],
   "source": [
    "stopDf.select(\"nostops\")\\\n",
    "    .rdd\\\n",
    "    .flatMap(lambda x:x).flatMap(lambda x:x)\\\n",
    "    .map(lambda x: x.replace(\"경찰은\",\"경찰\"))\\\n",
    "    .map(lambda x: x.replace(\"경찰의\",\"경찰\"))\\\n",
    "    .map(lambda x:(x,1))\\\n",
    "    .reduceByKey(lambda x,y:x+y)\\\n",
    "    .map(lambda x:(x[1],x[0]))\\\n",
    "    .sortByKey(False)\\\n",
    "    .take(20)"
   ]
  },
  {
   "cell_type": "code",
   "execution_count": null,
   "metadata": {
    "collapsed": true
   },
   "outputs": [],
   "source": []
  },
  {
   "cell_type": "markdown",
   "metadata": {},
   "source": [
    "### 4) TF-IDF 계산, features로 구성"
   ]
  },
  {
   "cell_type": "code",
   "execution_count": 148,
   "metadata": {
    "collapsed": true
   },
   "outputs": [],
   "source": [
    "from pyspark.ml.feature import HashingTF, IDF\n",
    "\n",
    "# hashTF = HashingTF(inputCol=\"nostops\", outputCol=\"hash\", numFeatures=32) #  mapping indices insufficient\n",
    "hashTF = HashingTF(inputCol=\"nostops\", outputCol=\"hash\")\n",
    "\n",
    "hashDf = hashTF.transform(stopDf)"
   ]
  },
  {
   "cell_type": "code",
   "execution_count": 149,
   "metadata": {
    "collapsed": true
   },
   "outputs": [],
   "source": [
    "idf = IDF(inputCol=\"hash\", outputCol=\"idf\")\n",
    "\n",
    "idfModel = idf.fit(hashDf)\n",
    "idfDf = idfModel.transform(hashDf)"
   ]
  },
  {
   "cell_type": "code",
   "execution_count": 150,
   "metadata": {
    "scrolled": true
   },
   "outputs": [
    {
     "name": "stdout",
     "output_type": "stream",
     "text": [
      "+----------------------------------------------------------------------------------------------------------------------------------------------------------------------------------------------------------------------------------------------------------+------------------------------------------------------------------------------------------------------------------------------------------------------------------------------------------------------------------------------------------------------------------------------------+\n",
      "|nostops                                                                                                                                                                                                                                                   |hash                                                                                                                                                                                                                                                                                |\n",
      "+----------------------------------------------------------------------------------------------------------------------------------------------------------------------------------------------------------------------------------------------------------+------------------------------------------------------------------------------------------------------------------------------------------------------------------------------------------------------------------------------------------------------------------------------------+\n",
      "|[존경하는, 국민, 여러분, 경찰관, 여러분, 일흔네, 경찰의, 날입니다]                                                                                                                                                                                        |(262144,[162,62257,80697,80732,89874,127225,160086],[1.0,1.0,1.0,1.0,2.0,1.0,1.0])                                                                                                                                                                                                  |\n",
      "|[]                                                                                                                                                                                                                                                        |(262144,[],[])                                                                                                                                                                                                                                                                      |\n",
      "|[국민의, 안전을, 위해, 밤낮없이, 애쓰시는, 전국의, 경찰관, 여러분께, 먼저, 감사를, 전몰·순직, 경찰관들의, 고귀한, 희생에, 경의를, 표합니다, 유가족, 여러분께, 위로의, 마음을, 전합니다]                                                                   |(262144,[5341,30732,43098,49855,63600,75300,77757,89318,96799,123553,160081,160086,167255,178931,208192,217323,224666,247023,257249,261393],[1.0,1.0,1.0,1.0,1.0,1.0,1.0,1.0,1.0,1.0,1.0,1.0,1.0,1.0,1.0,2.0,1.0,1.0,1.0,1.0])                                                      |\n",
      "|[]                                                                                                                                                                                                                                                        |(262144,[],[])                                                                                                                                                                                                                                                                      |\n",
      "|[오늘, 홍조근정훈장을, 받으신, 중앙경찰학교장, 이은정, 치안감님, 근정포장을, 받으신, 광주남부경찰서, 김동현, 경감님을, 비롯한, 수상자, 여러분께, 각별한, 축하와, 감사를, 또한, 경찰, 영웅으로, 추서되신, 차일혁, 최중락님께, 국민의, 사랑을, 전해드립니다]|(262144,[29823,32228,36822,49855,61014,61103,72971,82902,84159,89227,91126,118725,153204,167255,169211,185989,206065,217323,220284,235673,237148,248593,249689,251574,254458],[1.0,1.0,1.0,1.0,1.0,1.0,1.0,1.0,1.0,1.0,1.0,2.0,1.0,1.0,1.0,1.0,1.0,1.0,1.0,1.0,1.0,1.0,1.0,1.0,1.0])|\n",
      "+----------------------------------------------------------------------------------------------------------------------------------------------------------------------------------------------------------------------------------------------------------+------------------------------------------------------------------------------------------------------------------------------------------------------------------------------------------------------------------------------------------------------------------------------------+\n",
      "only showing top 5 rows\n",
      "\n"
     ]
    }
   ],
   "source": [
    "idfDf.select(\"nostops\", \"hash\").show(5, truncate=False)"
   ]
  },
  {
   "cell_type": "markdown",
   "metadata": {},
   "source": [
    "5) Word2Vec"
   ]
  },
  {
   "cell_type": "code",
   "execution_count": 192,
   "metadata": {},
   "outputs": [],
   "source": [
    "from pyspark.ml.feature import Word2Vec\n",
    "\n",
    "#word2Vec = Word2Vec(vectorSize=20, minCount=1, inputCol=\"nostops\", outputCol=\"w2v\")\n",
    "#model = word2Vec.fit(stopDf)\n",
    "#w2vDf = model.transform(stopDf)\n",
    "word2Vec = Word2Vec(vectorSize=20, minCount=1, inputCol=\"tokens\", outputCol=\"w2v\")\n",
    "model = word2Vec.fit(tokDf)\n",
    "w2vDf = model.transform(tokDf)"
   ]
  },
  {
   "cell_type": "code",
   "execution_count": 193,
   "metadata": {},
   "outputs": [
    {
     "name": "stdout",
     "output_type": "stream",
     "text": [
      "+-----------+--------------------+\n",
      "|       word|              vector|\n",
      "+-----------+--------------------+\n",
      "|   공정해야|[0.02441495656967...|\n",
      "| 자치경찰제|[0.01395535655319...|\n",
      "|   공권력을|[0.02412784658372...|\n",
      "|흘렸습니다.|[0.01344944164156...|\n",
      "|     만들고|[0.02127943187952...|\n",
      "|     헌신에|[-0.0116500146687...|\n",
      "|    나창헌,|[0.01650489121675...|\n",
      "|       닿아|[-0.0210012532770...|\n",
      "|         돌|[-0.0164661873131...|\n",
      "|           |[-0.0221833325922...|\n",
      "|     민갑룡|[0.02174899168312...|\n",
      "|     수상자|[0.02335253916680...|\n",
      "|       기간|[0.01740676164627...|\n",
      "|     시대적|[-0.0141646964475...|\n",
      "|     일흔네|[-0.0246702507138...|\n",
      "|  했습니다.|[-0.0157327018678...|\n",
      "|       범죄|[0.00503238197416...|\n",
      "|  됐습니다.|[0.00533150695264...|\n",
      "|       검경|[-0.0115960473194...|\n",
      "|   공권력이|[-0.0018140476895...|\n",
      "+-----------+--------------------+\n",
      "only showing top 20 rows\n",
      "\n"
     ]
    }
   ],
   "source": [
    "model.getVectors().show()"
   ]
  },
  {
   "cell_type": "code",
   "execution_count": 203,
   "metadata": {},
   "outputs": [
    {
     "name": "stdout",
     "output_type": "stream",
     "text": [
      "+----------+------------------+\n",
      "|      word|        similarity|\n",
      "+----------+------------------+\n",
      "|      한때|0.6153565645217896|\n",
      "|근무환경을|0.5948322415351868|\n",
      "|    조정과|0.5635372996330261|\n",
      "|    경찰이|0.5051454901695251|\n",
      "|    시대적|0.4923901855945587|\n",
      "+----------+------------------+\n",
      "\n"
     ]
    }
   ],
   "source": [
    "model.findSynonyms(\"검경\", 5).show()"
   ]
  },
  {
   "cell_type": "code",
   "execution_count": 195,
   "metadata": {},
   "outputs": [
    {
     "name": "stdout",
     "output_type": "stream",
     "text": [
      "+--------+------------------+\n",
      "|    word|        similarity|\n",
      "+--------+------------------+\n",
      "|   15.1%|0.6066877245903015|\n",
      "|모범으로|0.5669057369232178|\n",
      "|  검찰과|0.5377734899520874|\n",
      "|드리기도|0.5311453342437744|\n",
      "|  없지는|0.5089554786682129|\n",
      "+--------+------------------+\n",
      "\n"
     ]
    }
   ],
   "source": [
    "model.findSynonyms(\"치안이\", 5).show()"
   ]
  },
  {
   "cell_type": "code",
   "execution_count": 196,
   "metadata": {},
   "outputs": [
    {
     "name": "stdout",
     "output_type": "stream",
     "text": [
      "+----------------------+------------------+\n",
      "|                  word|        similarity|\n",
      "+----------------------+------------------+\n",
      "|                축하와|0.5985018014907837|\n",
      "|서울국제경찰청장회의가|0.5500941872596741|\n",
      "|         좋아졌습니다.|0.5490857362747192|\n",
      "|                감사의|0.5258331298828125|\n",
      "|                응원할|0.5257837772369385|\n",
      "+----------------------+------------------+\n",
      "\n"
     ]
    }
   ],
   "source": [
    "model.findSynonyms(\"공권력이\", 5).show()"
   ]
  },
  {
   "cell_type": "markdown",
   "metadata": {
    "collapsed": true
   },
   "source": [
    "## 문제: 트윗 정서 분석\n",
    "\n",
    "트윗의 정서를 분석해보자.\n",
    "트윗은 API를 사용하여 수집할 수 있으나, 정서를 태깅해야 한다.\n",
    "스탠포드 대학생들이 수집해 놓은 트윗이 있으니 이를 이용해 보자. http://help.sentiment140.com/for-students/\n",
    "이 데이터의 항목은:\n",
    "* 트윗 정서 (0=부정, 2=중립, 4=긍정)\n",
    "* 트윗 ID\n",
    "* 트윗 일자\n",
    "* 조회 (없으면 NO_QUERY)\n",
    "* 사용자\n",
    "* 트윗 텍스트\n",
    "\n",
    "1) 전체 데이터 갯수, 각 '부정' '긍정' '중립' 별 데이터 갯수\n",
    "2) 트윗 정서 컬럼을 'label'로 변경\n",
    "5) stopwords 제거하고, 출력\n",
    "6) pipeline으로 tf-idf 계산하고 'features' 컬럼으로 변경\n",
    "\n",
    "https://github.com/tthustla/twitter_sentiment_analysis_part2/blob/master/Capstone_part3-Copy1.ipynb\n",
    "https://towardsdatascience.com/another-twitter-sentiment-analysis-with-python-part-2-333514854913"
   ]
  },
  {
   "cell_type": "code",
   "execution_count": null,
   "metadata": {
    "collapsed": true
   },
   "outputs": [],
   "source": []
  }
 ],
 "metadata": {
  "kernelspec": {
   "display_name": "Python 3",
   "language": "python",
   "name": "python3"
  },
  "language_info": {
   "codemirror_mode": {
    "name": "ipython",
    "version": 3
   },
   "file_extension": ".py",
   "mimetype": "text/x-python",
   "name": "python",
   "nbconvert_exporter": "python",
   "pygments_lexer": "ipython3",
   "version": "3.7.3"
  }
 },
 "nbformat": 4,
 "nbformat_minor": 1
}
