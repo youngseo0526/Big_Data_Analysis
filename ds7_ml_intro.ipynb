{
 "cells": [
  {
   "cell_type": "markdown",
   "metadata": {
    "slideshow": {
     "slide_type": "slide"
    }
   },
   "source": [
    "# 기계학습 소개\n",
    "\n",
    "* Last updated 20201101SUN1700 20191029_20181009_20170421_20161125\n",
    "\n",
    "## S.1 학습내용\n",
    "\n",
    "### S.1.1 목표\n",
    "\n",
    "* 기계학습이 무엇인지, 어떤 모델이 있는지, 어떤 라이브러리를 사용할 수 있는지 설명할 수 있다."
   ]
  },
  {
   "cell_type": "markdown",
   "metadata": {
    "slideshow": {
     "slide_type": "subslide"
    }
   },
   "source": [
    "### S.1.2 목차\n",
    "\n",
    "* S.2 머신러닝\n",
    "* S.2.1 왜 머신러닝?\n",
    "* S.2.2 기계학습 구분\n",
    "* S.3 기계학습 모델들\n",
    "* S.3.1 regression\n",
    "* S.3.2 군집화\n",
    "* S.3.3 추천\n",
    "* S.3.4 Logistic Regression\n",
    "* S.3.5 Support Vector Machine\n",
    "* S.3.6 Decision Tree\n",
    "* S.3.7 나이브 베이즈 분류\n",
    "* S.4 라이브러리\n",
    "* S.4.1 어떤 언어?\n",
    "* S.4.2 Python의 기계학습\n",
    "* S.4.2 관련 라이브러리\n"
   ]
  },
  {
   "cell_type": "markdown",
   "metadata": {
    "slideshow": {
     "slide_type": "slide"
    }
   },
   "source": [
    "## S.2 머신러닝\n",
    "\n",
    "### S.2.1 왜 머신러닝?\n",
    "\n",
    "기계학습 Machine learning은 단어 그대로 컴퓨터가 스스로 학습을 통해 문제를 해결하는 것을 말한다.\n",
    "컴퓨터가 학습한다면 무엇을 배우게 되는 것일까?\n",
    "**과거 사례**에서 뭔가 **숨겨져 있는 패턴**을 찾아내게 된다.\n",
    "\n",
    "문자인식을 하는 기계학습의 경우, 프로그래머가 문자를 어떻게 인식하는지 코딩을 하지는 않는다.\n",
    "반면에 학습모델을 개발하고, 문자 데이터를 준비하고 그 데이터로 하여금 모델이 학습하도록 하는 것이다.\n",
    "모델이 잘 개발되면 사람의 개입없이 컴퓨터가 스스로 학습하고, 문자를 인식하게 되는 것이다."
   ]
  },
  {
   "cell_type": "markdown",
   "metadata": {
    "slideshow": {
     "slide_type": "subslide"
    }
   },
   "source": [
    "예를 들어, 어떤 회사가 파산할 것인지 분석하는 문제가 있다고 하자.\n",
    "기계학습을 하기 위해서는 어떤 경우 회사들이 파산에 이르게 되었는지, 그 특징을 알아낼 필요가 있다.\n",
    "파산 회사의 재무정보 등 관련 데이터를 수집하고, 이러한 데이터로 부터 파산에 이르게 된 숨겨진 패턴을 찾아내는 것이다.\n",
    "이때 통계적 기법이나 알고리즘을 활용하여 학습을 하게 된다.\n",
    "\n",
    "병원에서 어떤 질병을 진단할 경우에도 마찬가지이다.\n",
    "질병과 관련 의료 정보를 통해 진료에 활용하는 것이다.\n",
    "IBM의 왓슨이 인공지능을 진료에 적용한 사례이다.\n",
    "국가별 특성을 반영하지 못한 단점이 있어, 심뇌혈관질환, 심장질환, 유방암, 대장암, 전립선암, 치매, 뇌전증, 소아희귀난치성유전질환 등 8대 질환을 대상으로 인공지능을 활용하는 닥터앤서(Dr. Answer)가 현재 국내 37개 의료기관에서 임상시험을 진행하고 있다."
   ]
  },
  {
   "cell_type": "markdown",
   "metadata": {
    "slideshow": {
     "slide_type": "subslide"
    }
   },
   "source": [
    "즉, 기계학습은 **통계기법이나 알고리즘을 통해 데이터에 숨겨진 패턴을 찾아내거나 분류, 예측**하는 것이다.\n",
    "물론 기계학습이 성공적으로 이루어지면, '사람'을 대신하여 문제를 해결하게 된다.\n",
    "기계학습은:\n",
    "* 사람이 처리하기 어려운 대규모 데이터를 처리할 수 있고, \n",
    "* 사람이 발견하지 못하는 패턴을 발견할 수 있고,\n",
    "* 사람이 저지르기 쉬운 bias를 줄일 수 있다."
   ]
  },
  {
   "cell_type": "markdown",
   "metadata": {
    "slideshow": {
     "slide_type": "subslide"
    }
   },
   "source": [
    "### S.2.2 기계학습 구분\n",
    "\n",
    "지도학습 **supervised learning**은 입력에 대한 결과 값이 있는 경우 사용한다. 즉 입력 데이터에서 수학적으로 알고리즘을 만들어 그 결과 값을 예측한다. \n",
    "에를 들어,\n",
    "\n",
    "* 재무정보, 신용평가 등의 입력으로 기업이 부도날 것인가?\n",
    "* 환자 및 진단 정보로 부터 어떤 병이 있는가?\n",
    "* 번호판의 글자를 인식하거나\n",
    "\n",
    "supervised learni\n",
    "ng은 결과값이 있으므로 오류를 알 수 있고 따라서 정확성을 측정할 수 있다.\n",
    "Naive Bayesian, Decision Tree, 회귀분석, Ensembles 등 분류모델을 예로 들 수 있다.\n",
    "분류는 target 변수는 명목변수이며, 입력 값을 몇 개의 명목변수로 맞추는 것이다."
   ]
  },
  {
   "cell_type": "markdown",
   "metadata": {
    "slideshow": {
     "slide_type": "subslide"
    }
   },
   "source": [
    "비지도학습 **unsupervised learning**은 출력 값이 없는 경우, 즉 스스로 숨겨진 패턴을 찾아 특징이 유사한 그룹 cluster로 묶는다.\n",
    "* 정상적, 비정상적인 거래로 구분하거나\n",
    "* 불량고객과 우량고객의 구분하는 경우가 해당된다.\n",
    "\n",
    "Unspervised learning에는 KMeans, LDA, SVD, PCA 등의 모델이 있다."
   ]
  },
  {
   "cell_type": "markdown",
   "metadata": {
    "slideshow": {
     "slide_type": "subslide"
    }
   },
   "source": [
    "**강화학습 Reinforcement Learning**은 보상을 통해 행동을 학습하는 심리학에서 영향을 받아 만들어졌다.\n",
    "**로봇이나 에이전트**가 **환경**에 대한 정보를 통해 행동을 결정하고, 이에 따른 **보상**을 통해 학습해 나가게 된다.\n",
    "에이전트는 보상을 최대화하는 결정을 학습하게 되며, 이러한 학습이 최종 상태에 이를 때까지 반복된다.\n",
    "구글의 **알파고**가 강화학습에 딥러닝을 결합하여 좋은 성과를 보여주었고, 게임, 자율 자동차, 로봇 등 다양한 분야에 활용되고 있다.\n",
    "**Marcov decision process**를 강화학습에 활용할 수 있다."
   ]
  },
  {
   "cell_type": "markdown",
   "metadata": {
    "slideshow": {
     "slide_type": "slide"
    }
   },
   "source": [
    "## S.3 기계학습 모델들\n",
    "\n",
    "### S.3.1 회귀분석\n",
    "\n",
    "회귀분석 regression은 통계학에서 오랫동안 사용되고 있는 모델로, 입력변수를 선형 또는 비선형으로 모델링해서 목표변수를 예측하는 경우에 사용한다. 예를 들어 리뷰, 개봉관 수 등 관련 데이터로 부터 영화의 매출을 예측할 수 있다."
   ]
  },
  {
   "cell_type": "markdown",
   "metadata": {
    "slideshow": {
     "slide_type": "subslide"
    }
   },
   "source": [
    "### S.3.2 군집화\n",
    "\n",
    "군집의 갯수k를 정하고, 각 데이터 항목을 중심점과 얼마나 멀리 있는지 계산하여, 클러스터에 할당하고,\n",
    "계속 새로운 중심점을 갱신하여 군집의 오류가 최소화할 때까지 계속한다."
   ]
  },
  {
   "cell_type": "markdown",
   "metadata": {
    "slideshow": {
     "slide_type": "subslide"
    }
   },
   "source": [
    "### S.3.3 추천\n",
    "\n",
    "많은 사람들이 선택하는, 즉 **인기**에 따라 추천하는 경우와 다르다.\n",
    "영화의 경우, **많은 사람들이 본 영화**를 추천하는 것이 아니다.\n",
    "**내가 좋아하는 영화**가 문제인 것이다.\n",
    "취향이 유사한 사람들이 좋아하는 제품을 추천한다.\n",
    "* 홍길동이 좋아하는 영화가 '쾌도 홍길동'이고\n",
    "* 장길산이 좋아하는 영화도 '쾌도 홍길동'이라면 \n",
    "* 홍길동, 장길산은 같은 취향을 가지고 있다고 한다.\n",
    "* 어떤 영화를 선정하면, 그 영화에 대해 유사한 선호를 가질 것이라고 추정할 수 있다."
   ]
  },
  {
   "cell_type": "markdown",
   "metadata": {
    "slideshow": {
     "slide_type": "subslide"
    }
   },
   "source": [
    "### S.3.4 Logistic Regression\n",
    "\n",
    "지도학습supervised learning의 하나로서\n",
    "예를 들어, 이메일이 spam인지 아닌지 또는 거래가 정상인지 아닌지의 이진분류하는 문제에 적용한다.\n",
    "승수에 e밑으로 자연로그를 취해서 **log odds**구한다. logistic(sigmoid)함수를 사용해서 0에서 1까지 발생할 수 있는 확률을 **강제적으로 0 또는 1로 이진분류**한다.\n",
    "**Spark는 이진분류**만 가능하다.\n",
    "\n",
    "$log\\frac{p}{1-p} \\in \\{1, 0\\}$"
   ]
  },
  {
   "cell_type": "markdown",
   "metadata": {
    "slideshow": {
     "slide_type": "subslide"
    }
   },
   "source": [
    "### S.3.4 Support Vector Machine\n",
    "\n",
    "SVM은 데이터를 분류하는 모델로서, 데이터가 분포된 공간에서 서로 구분하기 위한 경계 가운데, 가장 큰 폭을 가진 경계를 찾는 알고리즘이다. SVM은 선형 분류에 사용되지만, 비선형 분류도 가능하다. 비선형 분류를 하기 위해서 **커널 트릭**을 사용하기도 한다.\n",
    "\n",
    "**$L_p$ 원형식**은 분류를 위해 그은 선, 이를 **초평면**이라고 하는데 여기서 제일 가까운 점을 **서포트 벡터**라고 한다. 그 사이의 거리 즉, **마진을 최대로 만드는 식**으로 표현된다.\n",
    "\n",
    "여기서 $\\|w\\|^2$가 제곱을 포함하고 있으므로, 풀기가 어려워진다. 여기서 **쌍대형식 $L_d$**을 구한다. 쌍대형식 Dual form (Wolfe dual)은 라그랑주승수로 푼 편미분 결과를 $L_p$에 대입해서 풀면, w가 제거되고, 변수가 간단해지게 되는데, $\\alpha$를 풀고난 후, 이미 알고 있는 데이터 x,y를 대입해서 해를 구한다."
   ]
  },
  {
   "cell_type": "markdown",
   "metadata": {
    "collapsed": true,
    "slideshow": {
     "slide_type": "subslide"
    }
   },
   "source": [
    "    \n",
    "$$\n",
    "    \\begin{aligned}\n",
    "    L_p &= \\frac{1}{2}\\|w\\|^2 - \\sum_{i=1}^{n}{\\alpha_i[y_i(w \\cdot x_i + b)-1]}\\\\\n",
    "    \\text{substitute w = $\\sum \\alpha y x$}\\\\\n",
    "        &= \\frac{1}{2}(\\sum \\alpha yx)^2 - \\sum {\\alpha [y (\\sum \\alpha y x x + b)-1]}\\\\\n",
    "        &= \\frac{1}{2}(\\sum \\alpha yx)^2 - \\sum \\sum \\alpha\\alpha y y x x + b \\sum \\alpha y + \\sum \\alpha\\\\\n",
    "    \\text{substitute $\\sum \\alpha y = 0$}\\\\\n",
    "    L_d&=\\sum_{i=1}^n \\alpha_i\n",
    "        -\\frac12 \\sum_{i=1}^n \\sum_{j=1}^n y_i y_j K(x_i, x_j) \\alpha_i \\alpha_j\\\\\n",
    "    \\text{subject to:}\\\\\n",
    "            \\sum_{i=1}^n y_i \\alpha_i &= 0\\\\\n",
    "            \\alpha_i                  &\\ge 0\\\\\n",
    "            for\\ i=1, 2, \\cdots, n\n",
    "            \\end{aligned}\n",
    "$$"
   ]
  },
  {
   "cell_type": "markdown",
   "metadata": {
    "slideshow": {
     "slide_type": "subslide"
    }
   },
   "source": [
    "### S.3.6 Decision Tree\n",
    "\n",
    "의사결정 분기 학습은 입력변수를 바탕으로 목표변수를 예측하는 모델로서, 지도 학습의 하나이다.\n",
    "변수를 선택하면서 분기를 하향식으로 해나가는데, 각 분기마다 가장 적합한 변수를 선택해야 한다.\n",
    "데이터 집합을 분할하면서 얼마나 적합한지 측정할 경우 아래 기준을 사용한다.\n",
    "\n",
    "* Gini impurity entropy로 불확실성을 계산한다. 즉 50-50은 가장 불확실하다, \n",
    "\n",
    "$$\n",
    "\\begin{align}\n",
    "H(S) &= - \\sum_{i=1}^{n}\\ p_i\\ log_2\\ p_i\\\\\n",
    "     &= - p_1 log_2\\ p_1 - p_2 log_2\\ p_2\\ \\ldots\n",
    "\\end{align}\n",
    "$$\n",
    "\n",
    "\n",
    "* 정보이득을 계산해서, 가장 높은 속성을 선정하여 분기하게 된다.\n",
    "\n",
    "$$\n",
    "IG(A,S) = H(S) - \\sum_{i=1}^m\\ p(i)\\ H(i)\n",
    "$$\n"
   ]
  },
  {
   "cell_type": "markdown",
   "metadata": {
    "slideshow": {
     "slide_type": "subslide"
    }
   },
   "source": [
    "### S.3.7 나이브 베이즈 분류\n",
    "\n",
    "Naive Bayesian은 변수들 사이의 독립을 가정하는 베이즈 정리 Bayes' theorem에 따른 분류 지도학습 방법이다.\n",
    "나이브 베이즈는 조건부 확률 모델이다.\n",
    "* for c $\\in$ C 모든 클래스에 대해\n",
    "    * $ \\frac{N_c} {N}$ 클래스가 발생할 사전확률을 구한다 ($N_c$ 클래스 발생갯수, N: 전체갯수)\n",
    "    * 가능도 likelihood 갱신\n",
    "    * ML (Maximum likelihood estimation)를 계산하여 결정한다.\n",
    "        * $Y_{ML}=argmax_Y P(X | Y)$"
   ]
  },
  {
   "cell_type": "markdown",
   "metadata": {
    "slideshow": {
     "slide_type": "slide"
    }
   },
   "source": [
    "## S.4 기계학습 라이브러리\n",
    "\n",
    "### S.4.1 어떤 언어?\n",
    "\n",
    "프로그래밍 언어를 선택해야, 기계학습 라이브러리를 사용할 수 있다.\n",
    "인공지능 또는 기계학습에는 어떤 한 프로그래밍 언어가 독점적으로 사용되고 있지 않다.\n",
    "Python R, Java, Julia, JavaScript, LISP 등 여러 언어가 사용되고 있지만, 그 가운데 Python이 과거 수년 간 주목할만한 성과를 내고 있다.\n",
    "Google, Instagram, Facebook, Dropbox, Netflix, Walt Disney, YouTube, Uber, Amazon, and Reddit 등의 유명한 회사에서 사용되고 있으며, Python은 기계학습 분야에서 사용되는 정상급 언어라고 봐도 무방하다."
   ]
  },
  {
   "cell_type": "markdown",
   "metadata": {
    "slideshow": {
     "slide_type": "subslide"
    }
   },
   "source": [
    "### S.4.2 Python의 기계학습\n",
    "\n",
    "지금까지 배웠던 numpy, Pandas, statsmodels, scikit-learn 모두 기계학습 모델링에 활용할 수 있다.\n",
    "Spark에서 DataFrame API는 ml, RDD API는 mllib를 사용하고 있다.\n",
    "Google Brain team에서 개발되어 2015년 Apache License 2.0으로 오픈소스로 제공되고 있는 TensorFlow도 언급하지 않을 수 없다. Python 뿐만 아니라 C, Go, Java, JavaScript 등 다양한 언어에서 사용할 수 있다.\n",
    "\n",
    "구분 | ML \n",
    "-----|-----\n",
    "ml | LogisticRegression(trainDf)\n",
    "| DecisionTreeClassifier(labelCol=, featuresCol=)\n",
    "| LinearRegression\n",
    "| NaiveBayes(smoothing=1.0, modelType=\"multinomial\")\n",
    "mllib | SVMWithSGD.train(parsedData, iterations=100)\n",
    "| LogisticRegressionWithLBFGS.train(parsedData)\n",
    "| LinearRegressionWithSGD.train(parsedData)"
   ]
  },
  {
   "cell_type": "markdown",
   "metadata": {
    "slideshow": {
     "slide_type": "subslide"
    }
   },
   "source": [
    "### S.4.2 관련 라이브러리\n",
    "\n",
    "자바의 기계학습 라이브러리로는 **weka**가 있다. 뉴질랜드 University of Waikato에서 개발된 기계학습 지원 라이브러리로 뉴질랜드 날개없는 새 이름을 본 따 지어졌다. 사용하기 쉽다고 알려진 **JavaML** 라이브러리도 사용할 수 있다. **R의 mlr**, **자바스크립트의 Tensorflow.js**도 기계학습 라이브러리로 사용되고 있다."
   ]
  },
  {
   "cell_type": "code",
   "execution_count": null,
   "metadata": {
    "collapsed": true
   },
   "outputs": [],
   "source": []
  }
 ],
 "metadata": {
  "kernelspec": {
   "display_name": "Python 3",
   "language": "python",
   "name": "python3"
  },
  "language_info": {
   "codemirror_mode": {
    "name": "ipython",
    "version": 3
   },
   "file_extension": ".py",
   "mimetype": "text/x-python",
   "name": "python",
   "nbconvert_exporter": "python",
   "pygments_lexer": "ipython3",
   "version": "3.7.3"
  }
 },
 "nbformat": 4,
 "nbformat_minor": 1
}
