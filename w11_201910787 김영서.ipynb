{
 "cells": [
  {
   "cell_type": "markdown",
   "metadata": {},
   "source": [
    "### 휴먼지능정보공학과 201910787 김영서"
   ]
  },
  {
   "cell_type": "markdown",
   "metadata": {},
   "source": [
    "## k-Means 클러스터링\n",
    "```sklearn.datasets.make_blobs```를 사용하여 아래 코드로 데이터를 생성하세요.\n",
    "\n",
    "\n",
    "\n",
    "```\n",
    "\n",
    "from sklearn.datasets import make_blobs\n",
    "X, y = make_blobs(n_samples=100, centers=4, cluster_std=0.60, random_state=0)\n",
    "\n",
    "```\n",
    "\n",
    "\n",
    "\n",
    "이 데이터를 4개의 클러스터로 군집화하세요.\n",
    "\n",
    "Python으로 구현해서 클러스터링하는데, 강의에서 만든 함수 코드를 한 군데 수정해야 한다.\n",
    "\n",
    "(1) 클러스터의 중심점을 몇 회만에 찾는지, 매 반복 중심값만을 출력한다.\n",
    "\n",
    "(2) 배정된 클러스터가 맞는지 비교하여 동일한지 확인하세요."
   ]
  },
  {
   "cell_type": "markdown",
   "metadata": {},
   "source": [
    "### 데이터 로드"
   ]
  },
  {
   "cell_type": "code",
   "execution_count": 19,
   "metadata": {},
   "outputs": [],
   "source": [
    "from sklearn.datasets import make_blobs\n",
    "\n",
    "X, y = make_blobs(n_samples=100, centers=4, cluster_std=0.60, random_state=0)"
   ]
  },
  {
   "cell_type": "code",
   "execution_count": 20,
   "metadata": {},
   "outputs": [
    {
     "name": "stdout",
     "output_type": "stream",
     "text": [
      "[[ 6.69786996e-01  3.59540802e+00]\n",
      " [-2.02396992e+00  7.99569054e+00]\n",
      " [ 1.43289271e+00  4.37679234e+00]\n",
      " [ 1.06923853e+00  4.53068484e+00]\n",
      " [ 1.71444449e+00  5.02521524e+00]\n",
      " [ 7.43873988e-01  4.12240568e+00]\n",
      " [-2.04363942e+00  4.06392123e+00]\n",
      " [-6.78603291e-01  7.88799076e+00]\n",
      " [-4.74920358e-02  5.47425256e+00]\n",
      " [-1.46976488e+00  7.69183251e+00]\n",
      " [-8.64176859e-01  6.86528639e+00]\n",
      " [-1.84838498e+00  6.90859736e+00]\n",
      " [-1.27182547e+00  7.13460392e+00]\n",
      " [-9.34289778e-01  7.73253222e+00]\n",
      " [-7.34157408e-01  7.44484466e+00]\n",
      " [ 3.18515794e+00  8.90082233e-02]\n",
      " [ 1.35139348e+00  2.06383637e+00]\n",
      " [-9.70171483e-02  3.48456995e+00]\n",
      " [-1.93150361e+00  2.93698060e+00]\n",
      " [ 2.73890793e+00  1.56768168e-01]\n",
      " [ 2.33812285e+00  3.43116792e+00]\n",
      " [-1.93673697e+00  7.57276799e+00]\n",
      " [-1.98885366e+00  3.24143178e+00]\n",
      " [ 2.33466499e+00 -2.40825518e-02]\n",
      " [ 4.38990142e-01  4.53592883e+00]\n",
      " [-1.58597553e+00  2.51979529e+00]\n",
      " [-3.73138797e-01  3.80619114e+00]\n",
      " [ 7.67522789e-01  4.39759671e+00]\n",
      " [ 2.94821884e+00  2.03519717e+00]\n",
      " [ 2.76253526e+00  7.89708758e-01]\n",
      " [ 1.65179125e+00  6.81931763e-01]\n",
      " [-8.73116904e-01  6.87422542e+00]\n",
      " [ 2.16172321e+00  6.56595098e-01]\n",
      " [ 2.06156753e+00  1.96918596e+00]\n",
      " [-1.15845639e+00  3.47120626e+00]\n",
      " [ 1.16411070e+00  3.79132988e+00]\n",
      " [-1.54707525e+00  8.99317925e+00]\n",
      " [ 1.81336135e+00  1.63113070e+00]\n",
      " [ 4.96857948e-02  8.63737679e+00]\n",
      " [-1.97375691e+00  2.42201914e+00]\n",
      " [ 1.06269622e+00  5.17635143e+00]\n",
      " [-1.42689992e+00  3.29890112e+00]\n",
      " [-1.63442682e+00  6.50141812e+00]\n",
      " [-2.07459735e+00  3.58809203e+00]\n",
      " [-1.94364473e+00  2.82810154e+00]\n",
      " [-1.98351709e+00  8.34207780e+00]\n",
      " [ 1.53278923e+00  5.50353861e-01]\n",
      " [-1.90841166e+00  3.32374224e+00]\n",
      " [ 6.70478769e-01  4.04094275e+00]\n",
      " [ 4.43598630e-01  3.11530945e+00]\n",
      " [ 2.24592863e-01  4.77028154e+00]\n",
      " [ 1.86833600e+00  9.31362865e-01]\n",
      " [-1.18094952e+00  2.79290301e+00]\n",
      " [-1.78799614e+00  4.02744050e+00]\n",
      " [-8.50922460e-01  2.26992336e+00]\n",
      " [-1.26285145e+00  7.39264147e+00]\n",
      " [-7.85181444e-01  8.32956251e+00]\n",
      " [ 2.49272186e+00  9.75053406e-01]\n",
      " [ 2.26908736e+00  1.32160756e+00]\n",
      " [-5.35437899e-01  8.02562558e+00]\n",
      " [-1.46065212e+00  7.01048924e+00]\n",
      " [ 1.41281595e+00  1.53033470e+00]\n",
      " [ 2.13141478e+00  1.13885728e+00]\n",
      " [ 1.89593761e+00  5.18540259e+00]\n",
      " [ 1.29297652e+00  1.47930168e+00]\n",
      " [-5.88460017e-01  8.22861825e+00]\n",
      " [-2.31644846e+00  2.64093150e+00]\n",
      " [-1.28929999e+00  2.26204536e+00]\n",
      " [ 2.18023251e+00  1.48364708e+00]\n",
      " [ 1.24258802e+00  4.50399192e+00]\n",
      " [-1.86880148e+00  8.24441673e+00]\n",
      " [ 1.35617762e+00  1.43815955e+00]\n",
      " [ 9.14338767e-01  4.55014643e+00]\n",
      " [-1.52157528e+00  7.84594751e+00]\n",
      " [ 1.00372519e+00  4.19147702e+00]\n",
      " [ 1.49493180e+00  3.85848832e+00]\n",
      " [-4.06368637e-01  3.46150906e+00]\n",
      " [-1.68770604e+00  3.39935610e+00]\n",
      " [ 2.29667251e+00  4.86777605e-01]\n",
      " [ 1.07714851e+00  1.17533301e+00]\n",
      " [ 1.56737975e+00 -1.38105901e-01]\n",
      " [-1.69199357e+00  8.76126877e+00]\n",
      " [-1.34796111e+00  3.71371380e+00]\n",
      " [ 7.93137001e-03  4.17614316e+00]\n",
      " [ 1.67467427e+00  6.80018960e-01]\n",
      " [-9.58552833e-01  2.82487621e+00]\n",
      " [ 1.51088850e+00  9.28830897e-01]\n",
      " [ 1.80709613e+00  4.49190773e-01]\n",
      " [ 1.87271752e+00  4.18069237e+00]\n",
      " [ 1.01618041e+00  4.48527047e+00]\n",
      " [ 9.59360742e-01  4.56078645e+00]\n",
      " [-1.30104869e+00  2.25824179e+00]\n",
      " [ 3.47138300e-01  3.45177657e+00]\n",
      " [-1.12352716e+00  3.16235936e+00]\n",
      " [-2.42165857e+00  3.18151728e+00]\n",
      " [-1.91088578e+00  7.86675906e+00]\n",
      " [-1.73030157e+00  7.42173015e+00]\n",
      " [-1.56784898e+00  3.94588789e+00]\n",
      " [-6.95740480e-01  8.02669661e+00]\n",
      " [-5.55523811e-01  4.69595848e+00]] [0 3 0 0 0 0 2 3 0 3 3 3 3 3 3 1 1 2 2 1 0 3 2 1 0 2 2 0 1 1 1 3 1 1 2 0 3\n",
      " 1 3 2 0 2 3 2 2 3 1 2 0 0 0 1 2 2 2 3 3 1 1 3 3 1 1 0 1 3 2 2 1 0 3 1 0 3\n",
      " 0 0 2 2 1 1 1 3 2 0 1 2 1 1 0 0 0 2 0 2 2 3 3 2 3 0]\n",
      "[0.669787   3.59540802] 0\n"
     ]
    }
   ],
   "source": [
    "print(X,y)\n",
    "print(X[0],y[0])"
   ]
  },
  {
   "cell_type": "markdown",
   "metadata": {},
   "source": [
    "### 함수 선언"
   ]
  },
  {
   "cell_type": "code",
   "execution_count": 21,
   "metadata": {},
   "outputs": [],
   "source": [
    "def normDist(x1, x2):\n",
    "    #dist=np.sqrt(sum(np.power(x1 - x2, 2))) #36.406001444695193 #식으로 구하기\n",
    "    dist = np.linalg.norm(x1 - x2) #36.406001444695193\n",
    "    return dist"
   ]
  },
  {
   "cell_type": "code",
   "execution_count": 22,
   "metadata": {},
   "outputs": [],
   "source": [
    "def draw(x, centroids):\n",
    "    import matplotlib.pyplot as plt\n",
    "    #plt.subplot(5,2,iter)\n",
    "    plt.scatter(x[:,0], x[:,1], color='blue')\n",
    "    plt.scatter(centroids[:,0], centroids[:,1], color='red')"
   ]
  },
  {
   "cell_type": "code",
   "execution_count": 23,
   "metadata": {},
   "outputs": [],
   "source": [
    "def cluster(x, k, centroids): #x,k, 초기중심점\n",
    "    row, col = x.shape\n",
    "    clusterAssigned = np.zeros(shape=(row, col), dtype=float) #수정부분\n",
    "    # print (clusterAssigned)\n",
    "    clusterUpdated=True\n",
    "    iter = 1\n",
    "    while(clusterUpdated):\n",
    "        print (\"\\n\\n====== Iteration {} ======\".format(iter))\n",
    "        # STEP 1: assign to closer cluster\n",
    "        for i in range(row):\n",
    "            minDist = np.inf   # set arbitray max to minDist\n",
    "            minIndex = -1      # set arbitray index to minIndex\n",
    "            # compute distance and assign to closer cluster\n",
    "            for j in range(k):\n",
    "                # distance from centroids[j] to x[0]\n",
    "                distJI = normDist(centroids[j], x[i])\n",
    "                # print (\"Distance {:.3f} between {} and {}\".format(distJI, centroids[j], x[i]))\n",
    "                # pick the closest centroid\n",
    "                if distJI < minDist:\n",
    "                    minDist = distJI\n",
    "                    minIndex = j\n",
    "            #print (\".....Assigning {} to {}th centroid by {:.3f}\".format(x[i], minIndex, minDist))\n",
    "            clusterAssigned[i] = [minIndex, minDist]   #-----changed\n",
    "        #print (\"\\n.....Assigned clusters: \\n {}\".format(clusterAssigned))\n",
    "        \n",
    "        # STEP 2: update centroids\n",
    "        _centroids=np.zeros(shape = (k, x.shape[1]), dtype=float)\n",
    "        for cent in range(k):\n",
    "            # read data by index and average them\n",
    "            _centroids[cent] = np.mean(x[clusterAssigned[:,0]==cent],axis=0)\n",
    "        # print (\"Centroids updated: \\n\", _centroids)\n",
    "        \n",
    "        # STEP 3: see if centroids is updated. STOP if NOT updated\n",
    "        comparison = np.equal(centroids, _centroids) # np.isclose() in case some tolerence is required\n",
    "        if(comparison.all() == True):\n",
    "            print (\"\\n.....NOT Updating Centroids!!\\n\")# {} => \\n{}\".format(centroids, _centroids))\n",
    "            print(\"\\n-----Final Centroids is...\\n{}\\n\".format(_centroids))\n",
    "            print(\"\\n We found Centroids at {} times.\\n\".format(iter))\n",
    "            clusterUpdated = False\n",
    "            return centroids, clusterAssigned\n",
    "        else:\n",
    "            #print (\"\\n.....Updating Centroids\\n {} => \\n{}\".format(centroids, _centroids))\n",
    "            if iter==1:\n",
    "                print(\"\\n Init Centroids is...\\n{}\".format(centroids))\n",
    "            print (\"\\n.....Updating Centroids To..\\n{}\".format(_centroids))\n",
    "            centroids = _centroids\n",
    "            iter += 1"
   ]
  },
  {
   "cell_type": "markdown",
   "metadata": {},
   "source": [
    "### (1) 클러스터의 중심점을 몇 회만에 찾는지, 매 반복 중심값만을 출력한다."
   ]
  },
  {
   "cell_type": "code",
   "execution_count": 24,
   "metadata": {},
   "outputs": [
    {
     "name": "stdout",
     "output_type": "stream",
     "text": [
      "[43, 48, 77, 74]\n"
     ]
    }
   ],
   "source": [
    "import random\n",
    "randlist=random.sample(range(100), 4)\n",
    "print(randlist)"
   ]
  },
  {
   "cell_type": "code",
   "execution_count": 25,
   "metadata": {
    "scrolled": false
   },
   "outputs": [
    {
     "name": "stdout",
     "output_type": "stream",
     "text": [
      "\n",
      "\n",
      "====== Iteration 1 ======\n",
      "\n",
      " Init Centroids is...\n",
      "[[-2.07459735  3.58809203]\n",
      " [ 0.67047877  4.04094275]\n",
      " [-1.68770604  3.3993561 ]\n",
      " [ 1.00372519  4.19147702]]\n",
      "\n",
      ".....Updating Centroids To..\n",
      "[[-1.83317644  6.48886124]\n",
      " [ 0.68590242  3.15814481]\n",
      " [-1.4838423   2.98067558]\n",
      " [ 1.28805173  4.2828083 ]]\n",
      "\n",
      "\n",
      "====== Iteration 2 ======\n",
      "\n",
      ".....Updating Centroids To..\n",
      "[[-1.27208964  7.74944718]\n",
      " [ 1.5647395   1.54909095]\n",
      " [-1.63043905  3.09879034]\n",
      " [ 1.02017754  4.47072208]]\n",
      "\n",
      "\n",
      "====== Iteration 3 ======\n",
      "\n",
      ".....Updating Centroids To..\n",
      "[[-1.27208964  7.74944718]\n",
      " [ 1.97918933  0.97920012]\n",
      " [-1.52704861  3.14337865]\n",
      " [ 0.87673717  4.2964758 ]]\n",
      "\n",
      "\n",
      "====== Iteration 4 ======\n",
      "\n",
      ".....NOT Updating Centroids!!\n",
      "\n",
      "\n",
      "-----Final Centroids is...\n",
      "[[-1.27208964  7.74944718]\n",
      " [ 1.97918933  0.97920012]\n",
      " [-1.52704861  3.14337865]\n",
      " [ 0.87673717  4.2964758 ]]\n",
      "\n",
      "\n",
      " We found Centroids at 4 times.\n",
      "\n"
     ]
    },
    {
     "data": {
      "image/png": "[encoded data removed]",
      "text/plain": [
       "<Figure size 432x288 with 1 Axes>"
      ]
     },
     "metadata": {
      "needs_background": "light"
     },
     "output_type": "display_data"
    }
   ],
   "source": [
    "%matplotlib inline\n",
    "import matplotlib.pyplot as plt\n",
    "import numpy as np\n",
    "\n",
    "\n",
    "k = 4\n",
    "\n",
    "#centroids=np.array(X[randlist[0]],X[randlist[1]],X[randlist[2]],X[randlist[3]],dtype=float)\n",
    "centroids = np.array([[X[randlist[0],0],X[randlist[0],1]],[X[randlist[1],0],X[randlist[1],1]],[X[randlist[2],0],X[randlist[2],1]],[X[randlist[3],0],X[randlist[3],1]]], dtype=float)\n",
    "centroids, clusterAssigned = cluster(X, k, centroids)\n",
    "draw(X, centroids)"
   ]
  },
  {
   "cell_type": "markdown",
   "metadata": {},
   "source": [
    "### (2) 배정된 클러스터가 맞는지 비교하여 동일한지 확인하세요."
   ]
  },
  {
   "cell_type": "code",
   "execution_count": 26,
   "metadata": {},
   "outputs": [
    {
     "name": "stdout",
     "output_type": "stream",
     "text": [
      "[0 3 0 0 0 0 2 3 0 3 3 3 3 3 3 1 1 2 2 1 0 3 2 1 0 2 2 0 1 1 1 3 1 1 2 0 3\n",
      " 1 3 2 0 2 3 2 2 3 1 2 0 0 0 1 2 2 2 3 3 1 1 3 3 1 1 0 1 3 2 2 1 0 3 1 0 3\n",
      " 0 0 2 2 1 1 1 3 2 0 1 2 1 1 0 0 0 2 0 2 2 3 3 2 3 0]\n"
     ]
    }
   ],
   "source": [
    "print(y)"
   ]
  },
  {
   "cell_type": "code",
   "execution_count": 27,
   "metadata": {
    "scrolled": true
   },
   "outputs": [
    {
     "name": "stdout",
     "output_type": "stream",
     "text": [
      "[3. 0. 3. 3. 3. 3. 2. 0. 3. 0. 0. 0. 0. 0. 0. 1. 1. 3. 2. 1. 3. 0. 2. 1.\n",
      " 3. 2. 2. 3. 1. 1. 1. 0. 1. 1. 2. 3. 0. 1. 0. 2. 3. 2. 0. 2. 2. 0. 1. 2.\n",
      " 3. 3. 3. 1. 2. 2. 2. 0. 0. 1. 1. 0. 0. 1. 1. 3. 1. 0. 2. 2. 1. 3. 0. 1.\n",
      " 3. 0. 3. 3. 2. 2. 1. 1. 1. 0. 2. 3. 1. 2. 1. 1. 3. 3. 3. 2. 3. 2. 2. 0.\n",
      " 0. 2. 0. 3.]\n"
     ]
    }
   ],
   "source": [
    "print(clusterAssigned[:,0])"
   ]
  },
  {
   "cell_type": "markdown",
   "metadata": {},
   "source": [
    "#### cluster와 내가 추정한 cluster의 집단 번호가 다르므로, 변환해주어 compareCluster 넣어준다."
   ]
  },
  {
   "cell_type": "code",
   "execution_count": 28,
   "metadata": {},
   "outputs": [],
   "source": [
    "compareCluster=np.array([])\n",
    "\n",
    "for i in range(len(clusterAssigned[:,0])):\n",
    "    if clusterAssigned[:,0][i]==0:\n",
    "        compareCluster=np.append(compareCluster,3)\n",
    "        \n",
    "    elif clusterAssigned[:,0][i]==1:\n",
    "        compareCluster=np.append(compareCluster,2)\n",
    "        \n",
    "    elif clusterAssigned[:,0][i]==2: \n",
    "        compareCluster=np.append(compareCluster,1)\n",
    "        \n",
    "    else: #clusterAssigned[:,0][i]==3\n",
    "        compareCluster=np.append(compareCluster,0)"
   ]
  },
  {
   "cell_type": "code",
   "execution_count": 29,
   "metadata": {},
   "outputs": [
    {
     "data": {
      "text/plain": [
       "array([0., 3., 0., 0., 0., 0., 1., 3., 0., 3., 3., 3., 3., 3., 3., 2., 2.,\n",
       "       0., 1., 2., 0., 3., 1., 2., 0., 1., 1., 0., 2., 2., 2., 3., 2., 2.,\n",
       "       1., 0., 3., 2., 3., 1., 0., 1., 3., 1., 1., 3., 2., 1., 0., 0., 0.,\n",
       "       2., 1., 1., 1., 3., 3., 2., 2., 3., 3., 2., 2., 0., 2., 3., 1., 1.,\n",
       "       2., 0., 3., 2., 0., 3., 0., 0., 1., 1., 2., 2., 2., 3., 1., 0., 2.,\n",
       "       1., 2., 2., 0., 0., 0., 1., 0., 1., 1., 3., 3., 1., 3., 0.])"
      ]
     },
     "execution_count": 29,
     "metadata": {},
     "output_type": "execute_result"
    }
   ],
   "source": [
    "compareCluster"
   ]
  },
  {
   "cell_type": "markdown",
   "metadata": {},
   "source": [
    "#### 거리 비교"
   ]
  },
  {
   "cell_type": "code",
   "execution_count": 30,
   "metadata": {},
   "outputs": [
    {
     "data": {
      "text/plain": [
       "array([-0.09701715,  3.48456995])"
      ]
     },
     "execution_count": 30,
     "metadata": {},
     "output_type": "execute_result"
    }
   ],
   "source": [
    "X[17]"
   ]
  },
  {
   "cell_type": "code",
   "execution_count": 31,
   "metadata": {},
   "outputs": [
    {
     "name": "stdout",
     "output_type": "stream",
     "text": [
      "3.2538456249398604\n",
      "1.267828293548772\n"
     ]
    }
   ],
   "source": [
    "import math\n",
    " \n",
    "class Point2D:\n",
    "    def __init__(self, x, y):\n",
    "        self.x = x\n",
    "        self.y = y\n",
    "        \n",
    "blob = Point2D(x=X[17][0], y=X[17][1])    # 제대로 나오지 않은 값\n",
    "p1 = Point2D(x=centroids[1][0], y=centroids[1][1])    # make_blobs에서 생성한 군집의 cluster id와 비교. 2->1\n",
    "p2 = Point2D(x=centroids[3][0], y=centroids[3][1])    # k-means를 통해 생성한 군집의 cluster id. 0->3\n",
    "\n",
    "# 거리 1: cluster 2(id 3으로 수정됨)의 중심과 X의 17번째 항목\n",
    "a1 = p1.x - blob.x \n",
    "b1 = p1.y - blob.y \n",
    "c1 = math.sqrt((a1 * a1) + (b1 * b1)) \n",
    "\n",
    "# 거리 2: cluster 0(id 1로 수정됨)의 중심과 X의 17번째 항목\n",
    "a2 = p2.x - blob.x \n",
    "b2 = p2.y - blob.y \n",
    "c2 = math.sqrt((a2 * a2) + (b2 * b2)) \n",
    "\n",
    "print(c1) # y\n",
    "print(c2) # k-means 결과 배정된 cluster"
   ]
  },
  {
   "cell_type": "markdown",
   "metadata": {},
   "source": [
    "거리를 비교해보니 cluster0과 거리가 더 가까워서 0번이 할당되었음을 알 수 있다."
   ]
  }
 ],
 "metadata": {
  "kernelspec": {
   "display_name": "Python 3",
   "language": "python",
   "name": "python3"
  },
  "language_info": {
   "codemirror_mode": {
    "name": "ipython",
    "version": 3
   },
   "file_extension": ".py",
   "mimetype": "text/x-python",
   "name": "python",
   "nbconvert_exporter": "python",
   "pygments_lexer": "ipython3",
   "version": "3.7.3"
  }
 },
 "nbformat": 4,
 "nbformat_minor": 4
}
