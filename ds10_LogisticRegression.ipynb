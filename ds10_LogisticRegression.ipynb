{
 "cells": [
  {
   "cell_type": "markdown",
   "metadata": {
    "slideshow": {
     "slide_type": "slide"
    }
   },
   "source": [
    "# Logistic Regression\n",
    "\n",
    "last updated 20191126TUE1106\n",
    "\n",
    "## S.1 목차\n",
    "\n",
    "* S.2 문제의 이해\n",
    "* S.3 그래프\n",
    "* S.3.1 로그\n",
    "* S.3.2 Logit\n",
    "* S.3.3 승수\n",
    "* S.4 로지스틱 회귀\n",
    "* S.4.1 확률\n",
    "* S.4.2 분류기준\n",
    "* S.5 예제\n",
    "* S.5.1 데이터 읽기\n",
    "* S.5.2 입력변수 x, 종속변수 y\n",
    "* S.5.3 로지스틱 모델링\n",
    "* 문제: 파일을 읽고 로지스틱 함수 그래프\n",
    "* S.6 Gradient\n",
    "* S.6.1 Cost\n",
    "* S.6.2 입력변수 x, 종속변수 y\n",
    "* S.6.3 h(x) 함수\n",
    "* S.6.4 weights\n",
    "* S.6.5 gradient 계산\n",
    "* S.6.6 update\n",
    "* 문제: 입력변수 2개인 로지스틱 회귀 -> 정리 필요\n",
    "* 문제: horse-colic -> 정리 필요\n",
    "* 문제: 입학\n",
    "* 문제: statsmodels datasets를 이용한 간단한 OLS 예제 -> 정리 필요\n",
    "* 문제: Spark -> 정리 필요\n",
    "* 문제: 성별\n",
    "* 문제: Titanic case"
   ]
  },
  {
   "cell_type": "markdown",
   "metadata": {
    "slideshow": {
     "slide_type": "subslide"
    }
   },
   "source": [
    "python\n",
    "http://stackoverflow.com/questions/22054964/ols-regression-scikit-vs-statsmodels\n",
    "* statsmodels OLS\n",
    "* scikit-learn LinearRegression\n",
    "\n",
    "http://blog.yhathq.com/posts/logistic-regression-and-python.html\n",
    "* get_dummies\n",
    "* add_constant This appends a column of ones to an array if prepend==False."
   ]
  },
  {
   "cell_type": "markdown",
   "metadata": {
    "slideshow": {
     "slide_type": "slide"
    }
   },
   "source": [
    "## S.2 문제의 이해\n",
    "\n",
    "로지스틱 회귀는 발생할 수 있는 결과 값이 이진인 경우의 분류에 적용한다.\n",
    "환자의 데이터로부터 사망 또는 생존, 이메일이 스팸인지 아닌지 또는 거래가 정상인지 아닌지\n",
    "어떤 사건이 일어날 확률을 알고 있고 **이진 분류**를 하는 경우에 사용한다.\n",
    "결과 값이 **이항분포**이므로 **GLM** Generalized Linear Model의 한 종류이고, 이 경우 Logit 함수를 **link function**이라고 한다.\n",
    "\n",
    "이진분류에 사용하지만, multinomial, ordered에 확장할 수 있다 (Newton's Method)."
   ]
  },
  {
   "cell_type": "markdown",
   "metadata": {
    "slideshow": {
     "slide_type": "subslide"
    }
   },
   "source": [
    "입력변수와 목표변수 간의 관계를 도출하는 것은 여느 회귀분석과 다르지 않다.\n",
    "**회귀식**의 종속변수는 **예측 값**이지만, **로지스틱 회귀식**에서의 종속변수는 **로그 승수log odds**이다.\n",
    "\n",
    "로지스틱 회귀식은 입력 값을 받아서 0 ~ 1 사이의 확률을 반환한다.\n",
    "그렇다면 어떻게 0 ~ 1사이의 값을 만들어 낼까? sigmoid함수를 사용해서 그렇게 한다."
   ]
  },
  {
   "cell_type": "markdown",
   "metadata": {
    "slideshow": {
     "slide_type": "subslide"
    }
   },
   "source": [
    "## S.3 그래프\n",
    "\n",
    "### S.3.1 로그\n",
    "\n",
    "아래 **로그 그래프**를 보면,\n",
    "이진분류를 하기 위해 확률에 로그를 그냥 취하면 그 결과가 0과 1로 나오지 않는다.\n",
    "**0**을 포함해서 **음수 x**에 대해 log(x)는 무한값 또는 계산할 수 없다."
   ]
  },
  {
   "cell_type": "code",
   "execution_count": 1,
   "metadata": {
    "collapsed": false
   },
   "outputs": [
    {
     "name": "stdout",
     "output_type": "stream",
     "text": [
      "log of x= 0: 0.0\n",
      "log 0:  -inf\n",
      "log negative:  nan\n"
     ]
    },
    {
     "name": "stderr",
     "output_type": "stream",
     "text": [
      "/usr/local/lib/python2.7/dist-packages/ipykernel/__main__.py:3: RuntimeWarning: divide by zero encountered in log\n",
      "  app.launch_new_instance()\n",
      "/usr/local/lib/python2.7/dist-packages/ipykernel/__main__.py:4: RuntimeWarning: invalid value encountered in log\n"
     ]
    }
   ],
   "source": [
    "import numpy as np\n",
    "print \"log of x= 0:\", np.log(1)\n",
    "print \"log 0: \",np.log(0)\n",
    "print \"log negative: \",np.log(-1)"
   ]
  },
  {
   "cell_type": "markdown",
   "metadata": {
    "slideshow": {
     "slide_type": "subslide"
    }
   },
   "source": [
    "### S.3.2 Logit\n",
    "\n",
    "아래 **로짓 그래프**를 보면,\n",
    "로짓함수는 승수에 e밑으로 자연로그를 취해서 **log odds**구한다.\n",
    "* 0,1의 결과를 smoothing한다. **확률**적인 값으로 활용하기 편리하다.\n",
    "로짓함수를 사용하여 확률을 변환하면 **0,1 사이의 값**을 얻을 수 있다.\n",
    "log odds로 변환하는 이유는 **이진으로 분류**하기 때문이다.\n",
    "logistic(sigmoid)함수를 사용해서 확률을 강제적으로 0 또는 1로 이진분류한다.\n",
    "sigmoid는 x=0일 경우, 0.5 값이 된다. 최소 0부터 최대 1까지의 범위를 가진다.\n",
    "$$Y =logit(p) = log\\frac{p}{1-p} \\in \\{1, 0\\}$$"
   ]
  },
  {
   "cell_type": "code",
   "execution_count": 216,
   "metadata": {
    "collapsed": false
   },
   "outputs": [
    {
     "name": "stdout",
     "output_type": "stream",
     "text": [
      "logit -100: 0.000\n",
      "sigmoid of x=-1: 0.26894142137\n",
      "logit    0: 0.500\n",
      "sigmoid of x= 1: 0.73105857863\n",
      "logit  100: 1.000\n"
     ]
    }
   ],
   "source": [
    "sigmoid=lambda(x):1.0/(1+np.exp(-x))\n",
    "print \"logit -100: {0:.3f}\".format(sigmoid(-100))\n",
    "print \"sigmoid of x=-1:\", sigmoid(-1)\n",
    "print \"logit    0: {0:.3f}\".format(sigmoid(0))\n",
    "print \"sigmoid of x= 1:\", sigmoid(1)\n",
    "print \"logit  100: {0:.3f}\".format(sigmoid(100))"
   ]
  },
  {
   "cell_type": "markdown",
   "metadata": {
    "slideshow": {
     "slide_type": "subslide"
    }
   },
   "source": [
    "### S.3.3 승수\n",
    "\n",
    "승수 Odds는 $\\frac{p}{1-p}$이다.\n",
    "확률이나 승수는 일반적으로 같은 의미로 사용되기도 하지만 수학적으로 두 용어는 다른 의미이다.\n",
    "**확률**은 특정 사건이 발생할 백분율이므로 주사위 1이 나올 확률은 $p = \\frac{1}{6}$이다.\n",
    "반면에 **odds 승수**는 확률이 p인 경우 $odds = \\frac{p}{1-p}$, 주사위 1에 대한 계산하면, $\\frac{ \\frac{1}{6} } { 1-\\frac{1}{6}} = \\frac{1}{5}$ 1:5이다. 즉 **6번에 1번은 이기지만 5번은 지는** 것을 의미한다.\n",
    "\n",
    "동전 던지기의 확률은 0.5이다. 승수 **$odds = \\frac{0.5}{1-0.5}$**, 즉 **2번에 1번은 이기지만 1번은 지는** 것을 의미한다. \n"
   ]
  },
  {
   "cell_type": "code",
   "execution_count": 3,
   "metadata": {
    "collapsed": false
   },
   "outputs": [
    {
     "name": "stdout",
     "output_type": "stream",
     "text": [
      "odds 0: 0.000\n",
      "odds 1/6: 0.200\n",
      "odds 0.5: 1.000\n",
      "odds 0.7: 2.333\n"
     ]
    }
   ],
   "source": [
    "odds=lambda(x):x/(1-x)\n",
    "print \"odds 0: {0:.3f}\".format(odds(0))\n",
    "print \"odds 1/6: {0:.3f}\".format(odds(1/6.))\n",
    "print \"odds 0.5: {0:.3f}\".format(odds(0.5))"
   ]
  },
  {
   "cell_type": "markdown",
   "metadata": {
    "slideshow": {
     "slide_type": "subslide"
    }
   },
   "source": [
    "그래프로 sigmoid함수가 어떻게 exponential, log, 확률과 다른지 살펴보자.\n",
    "그래프는 행2, 열2 모두 4개를 각 각 221, 222, 223, 224로 배치한다.\n",
    "**sigmoid함수는 0일 때 0.5**이고, 이을 기준으로 'S'자 곡선을 보여주고 있다."
   ]
  },
  {
   "cell_type": "code",
   "execution_count": 2,
   "metadata": {
    "collapsed": true
   },
   "outputs": [],
   "source": [
    "x=np.arange(-5,5,0.05)\n",
    "#x=np.array([0.50,0.75,1.00,1.25,1.50,1.75,1.75,2.00,2.25,2.50,2.75,\n",
    "#            3.00,3.25,3.50,4.00,4.25,4.50,4.75,5.00,5.50])"
   ]
  },
  {
   "cell_type": "code",
   "execution_count": 3,
   "metadata": {
    "collapsed": false,
    "scrolled": false,
    "slideshow": {
     "slide_type": "-"
    }
   },
   "outputs": [
    {
     "name": "stderr",
     "output_type": "stream",
     "text": [
      "/usr/local/lib/python2.7/dist-packages/ipykernel/__main__.py:15: RuntimeWarning: invalid value encountered in log\n"
     ]
    },
    {
     "data": {
      "image/png": "[encoded data removed]",
      "text/plain": [
       "<matplotlib.figure.Figure at 0x7fd4829edc10>"
      ]
     },
     "metadata": {},
     "output_type": "display_data"
    }
   ],
   "source": [
    "%matplotlib inline\n",
    "import matplotlib.pyplot as plt\n",
    "import numpy as np\n",
    "\n",
    "fig=plt.figure()\n",
    "\n",
    "ax221=fig.add_subplot(221)\n",
    "ax221.set_title('exponental')\n",
    "exp=np.exp(x)\n",
    "ax221.plot(x,exp,'-')\n",
    "ax221.set_ylabel('y')\n",
    "\n",
    "ax222=fig.add_subplot(222)\n",
    "ax222.set_title('log')\n",
    "log=np.log(x)\n",
    "ax222.plot(x,log,'-')\n",
    "ax222.set_ylabel('y')\n",
    "\n",
    "ax223=fig.add_subplot(223)\n",
    "ax223.set_title('sigmoid')\n",
    "sigmoid=lambda(x):1.0/(1+np.exp(-x))\n",
    "sig=sigmoid(x)\n",
    "ax223.plot(x,sig,'-')\n",
    "ax223.set_ylabel('probability')\n",
    "\n",
    "\n",
    "ax224=fig.add_subplot(224)\n",
    "ax224.set_title('odds')\n",
    "x=np.arange(-2,1,0.05)  # when x=1, division by zero\n",
    "odds=lambda(x):x/(1-x)\n",
    "odd=odds(x)\n",
    "ax224.plot(x,odd,'-')\n",
    "ax224.set_ylabel('odds')\n",
    "\n",
    "plt.show()"
   ]
  },
  {
   "cell_type": "markdown",
   "metadata": {
    "slideshow": {
     "slide_type": "slide"
    }
   },
   "source": [
    "## S.4 로지스틱 회귀\n",
    "\n",
    "### S.4.1 확률\n",
    "\n",
    "로지스틱 회귀 Logistic regression은 회귀식을 우변에 두고, 좌변은 log-odds 값으로 만든다. \n",
    "그 회귀식의 결과 값을 이진 값을 가지도록 한다.\n",
    "로지스틱 회귀 logistic regression은 odds의 로그 값으로, 선형회귀값을 0,1로 변환하게 된다.\n",
    "\n",
    "$ ln(\\frac{p}{1-p}) = w_0+w_1x $\n",
    "     "
   ]
  },
  {
   "cell_type": "markdown",
   "metadata": {
    "slideshow": {
     "slide_type": "subslide"
    }
   },
   "source": [
    "Logistic regression 양변에 **anti-log**를 하면 (exponential을 곱하면)\n",
    "\n",
    "$\\frac{p}{1-p} = e^{w_0+w_1x}$\n",
    "\n",
    "이를 p에 대해서 풀면 (e의 승수는 잠시 무시)\n",
    "$\n",
    "\\begin{aligned}\n",
    " p &=\\frac{e}{1+e}\\\\\n",
    "   &=\\frac{1}{\\frac{1}{e}+1}\\\\\n",
    "   &=\\frac{1}{1+e^{-1}}\n",
    "\\end{aligned}\n",
    "$\n",
    "\n",
    "e의 승수를 넣으면 $ p =\\frac{1}{1+e^{-(w_0+w_1x)}} $\n",
    "즉 p는 x가 주어졌을 경우 가지는 값이고 0 ~ 1 사이의 값을 가진다."
   ]
  },
  {
   "cell_type": "markdown",
   "metadata": {
    "slideshow": {
     "slide_type": "subslide"
    }
   },
   "source": [
    "### S.4.2 분류기준\n",
    "\n",
    "Sigmoid를 이진분류하기 위해서는 그 기준이 있어야 한다. logistic함수(sigmoid)를 그려보면, **p=0.5에 변곡점**이 있다. 이 점을 기준으로 분류하게 된다.\n",
    "* 확률 $p \\ge 0.5$ -> Y=1\n",
    "* 확률 $p \\lt 0.5$ -> Y=0\n",
    "\n",
    "e함수는 e(0)=1이고, 이 때 p=$\\frac{1}{1+e^{-0}}=\\frac{1}{1+2}=0.5$\n",
    "* $ w_0 + w_1x > 0$ -> Y=1\n",
    "* $ w_0 + w_1x < 0$ -> Y=0"
   ]
  },
  {
   "cell_type": "markdown",
   "metadata": {
    "collapsed": true,
    "slideshow": {
     "slide_type": "slide"
    }
   },
   "source": [
    "## S.5 예제\n",
    "\n",
    "### S.5.1 데이터 읽기\n",
    "\n",
    "데이터 출처: 로지스틱스 회귀 위키피디어\n",
    "\n",
    "0.50,0.75,1.00,1.25,1.50,1.75,1.75,2.00,2.25,2.50,2.75,3.00,3.25,3.50,4.00,4.25,4.50,4.75,5.00,5.50\n",
    "0,0,0,0,0,0,1,0,1,0,1,0,1,0,1,1,1,1,1,1\n",
    "\n",
    "모델링하고 나면 ```1.50464542837 -4.07771343109```"
   ]
  },
  {
   "cell_type": "code",
   "execution_count": 129,
   "metadata": {
    "collapsed": true
   },
   "outputs": [],
   "source": [
    "import numpy as np\n",
    "x=np.array([1,2,3,4])\n",
    "y=np.array([6,5,7,10])\n",
    "x=np.array([0.50,0.75,1.00,1.25,1.50,1.75,1.75,2.00,2.25,2.50,2.75,3.00,3.25,3.50,4.00,4.25,4.50,4.75,5.00,5.50])\n",
    "y=np.array([0,0,0,0,0,0,1,0,1,0,1,0,1,0,1,1,1,1,1,1])\n",
    "#y=np.array([0,0,0,0,0,0,100,0,100,0,100,0,100,0,100,100,100,100,100,100])\n",
    "#x=np.array([23663, 20659, 32277, 21595, 27227, 25023, 26504, 28741, 21735,23366, 20871, 28370, 21105, 22706, 19527, 28321])\n",
    "#y=np.array([    0,     0,     1,     0,     1,     0,     1,     1,     0,0,     0,     1,     0,     1,     1,     1])\n"
   ]
  },
  {
   "cell_type": "markdown",
   "metadata": {
    "slideshow": {
     "slide_type": "subslide"
    }
   },
   "source": [
    "### S.5.2 입력변수 x, 종속변수 y\n",
    "\n",
    "데이터는 각 사례가 행이 되도록 구성한다.\n",
    "첫째 행을 보자. x1=0.5, x0=1 이면 y=0 이런 식으로 데이터를 구성한다.\n",
    "x0은 **y 절편**을 얻기 위해 일괄적으로 추가한다.\n",
    "다음과 같은 식을 만족하는 w1,w0을 구하는 것이다.\n",
    "\n",
    "$\n",
    "0=w_1 \\times 0.5 + w_0 \\times 1\\\\\n",
    "0=w_1 \\times 0.75 + w_0 \\times 1\\\\\n",
    "\\dots\n",
    "$\n",
    "\n",
    "```python\n",
    "[ 0.5 , 1. ] -> 0\n",
    "[ 0.75, 1. ] -> 0\n",
    "[ 1.  , 1. ] -> 0\n",
    "[ 1.25, 1. ] -> 0\n",
    "[ 1.5 , 1. ] -> 0\n",
    "...\n",
    "```"
   ]
  },
  {
   "cell_type": "markdown",
   "metadata": {
    "slideshow": {
     "slide_type": "subslide"
    }
   },
   "source": [
    "절편 상수 열을 생성하기 위해 ```np.ones()```를 사용한다.\n",
    "**인자는 shape**을 넣어 준다.\n",
    "```[2,1]```인 경우 2행, 1열 데이터를 만든다.\n",
    "\n",
    "그리고 x에 행으로 추가해서 원하는 형식으로 만들어 준다."
   ]
  },
  {
   "cell_type": "code",
   "execution_count": 130,
   "metadata": {
    "collapsed": false
   },
   "outputs": [
    {
     "name": "stdout",
     "output_type": "stream",
     "text": [
      "[ 0.5   0.75  1.    1.25  1.5 ] (20,)\n"
     ]
    }
   ],
   "source": [
    "print x[:5], x.shape"
   ]
  },
  {
   "cell_type": "code",
   "execution_count": 131,
   "metadata": {
    "collapsed": false
   },
   "outputs": [],
   "source": [
    "x=np.array([x,np.ones(x.shape[0])])"
   ]
  },
  {
   "cell_type": "code",
   "execution_count": 132,
   "metadata": {
    "collapsed": false
   },
   "outputs": [],
   "source": [
    "x=x.T"
   ]
  },
  {
   "cell_type": "code",
   "execution_count": 133,
   "metadata": {
    "collapsed": false
   },
   "outputs": [
    {
     "data": {
      "text/plain": [
       "(20, 2)"
      ]
     },
     "execution_count": 133,
     "metadata": {},
     "output_type": "execute_result"
    }
   ],
   "source": [
    "x.shape"
   ]
  },
  {
   "cell_type": "code",
   "execution_count": 134,
   "metadata": {
    "collapsed": false
   },
   "outputs": [
    {
     "name": "stdout",
     "output_type": "stream",
     "text": [
      "[[ 0.5   1.  ]\n",
      " [ 0.75  1.  ]\n",
      " [ 1.    1.  ]\n",
      " [ 1.25  1.  ]\n",
      " [ 1.5   1.  ]\n",
      " [ 1.75  1.  ]\n",
      " [ 1.75  1.  ]\n",
      " [ 2.    1.  ]\n",
      " [ 2.25  1.  ]\n",
      " [ 2.5   1.  ]\n",
      " [ 2.75  1.  ]\n",
      " [ 3.    1.  ]\n",
      " [ 3.25  1.  ]\n",
      " [ 3.5   1.  ]\n",
      " [ 4.    1.  ]\n",
      " [ 4.25  1.  ]\n",
      " [ 4.5   1.  ]\n",
      " [ 4.75  1.  ]\n",
      " [ 5.    1.  ]\n",
      " [ 5.5   1.  ]]\n"
     ]
    }
   ],
   "source": [
    "print x"
   ]
  },
  {
   "cell_type": "markdown",
   "metadata": {
    "slideshow": {
     "slide_type": "subslide"
    }
   },
   "source": [
    "### S.5.3 로지스틱 모델링\n",
    "\n",
    "종속변수 y를 먼저 그리고 x는 절편 값이 기본으로 빠져 있으므로 필요하면 직접 추가해 주어야 한다.\n",
    "```statsmodels.tools.add_constant()```를 사용하거나 위와 같이 추가할 수 있다.\n",
    "\n",
    "입력변수는 컬럼데이터로 모두 맞춘다."
   ]
  },
  {
   "cell_type": "code",
   "execution_count": 45,
   "metadata": {
    "collapsed": false
   },
   "outputs": [
    {
     "name": "stdout",
     "output_type": "stream",
     "text": [
      "Optimization terminated successfully.\n",
      "         Current function value: 0.401494\n",
      "         Iterations 7\n",
      "1.50464542837 -4.07771343109\n"
     ]
    }
   ],
   "source": [
    "import statsmodels.formula.api as sm\n",
    "logit = sm.Logit(y,x)\n",
    "result = logit.fit()\n",
    "w1,w0=result.params\n",
    "print w1,w0"
   ]
  },
  {
   "cell_type": "markdown",
   "metadata": {
    "slideshow": {
     "slide_type": "subslide"
    }
   },
   "source": [
    "$ ln(\\frac{y}{1-y}) = w_0+w_1x $를 y에 대해서 풀면, 확률 $ y = \\frac{1}{1+e^{-(w_0+w_1x)}} $이 된다.\n",
    "\n",
    "이 식을 손으로 풀려면 쉽지 않다.\n",
    "위 statsmodels의 logit 모델를 이용해서 풀면 다음 식이 성립한다.\n",
    "$ y =\\frac{1}{1+e^{-(-4.078 + 1.505x)}} $"
   ]
  },
  {
   "cell_type": "markdown",
   "metadata": {
    "slideshow": {
     "slide_type": "subslide"
    }
   },
   "source": [
    "위에서 구한 w1,w0을 대입해서 그래프로 그려보자.\n",
    "녹색 점이 실제 데이터를 점으로 산포하였고,\n",
    "**파란선**으로 그려진 **회귀식**은 실제데이터를 직선으로 관통하고 있다.\n",
    "반면에 **빨간** **로지스틱함수**는 Sigmoid 곡선으로 회귀하고 있다."
   ]
  },
  {
   "cell_type": "code",
   "execution_count": 46,
   "metadata": {
    "collapsed": false,
    "scrolled": true
   },
   "outputs": [
    {
     "data": {
      "image/png": "[encoded data removed]",
      "text/plain": [
       "<matplotlib.figure.Figure at 0x7f7e3ca1fc10>"
      ]
     },
     "metadata": {},
     "output_type": "display_data"
    }
   ],
   "source": [
    "import matplotlib.pyplot as plt\n",
    "\n",
    "plt.plot(x, y, 'go')\n",
    "plt.plot(x,w0+w1*x,'b-')\n",
    "plt.plot(x,1/(1+np.exp(-(w0+w1*x))),'r-')\n",
    "plt.show()"
   ]
  },
  {
   "cell_type": "markdown",
   "metadata": {},
   "source": [
    "## 문제: 파일을 읽고 로지스틱 함수 그래프"
   ]
  },
  {
   "cell_type": "code",
   "execution_count": 2,
   "metadata": {
    "collapsed": false
   },
   "outputs": [],
   "source": [
    "import os\n",
    "file=open(os.path.join(\"data\",\"ds9_xy.txt\"))"
   ]
  },
  {
   "cell_type": "code",
   "execution_count": 3,
   "metadata": {
    "collapsed": true
   },
   "outputs": [],
   "source": [
    "data=list()\n",
    "for line in file:\n",
    "    data.append(line.split())"
   ]
  },
  {
   "cell_type": "code",
   "execution_count": 4,
   "metadata": {
    "collapsed": true
   },
   "outputs": [],
   "source": [
    "import numpy as np\n",
    "d=np.array(data)"
   ]
  },
  {
   "cell_type": "code",
   "execution_count": 5,
   "metadata": {
    "collapsed": true
   },
   "outputs": [],
   "source": [
    "x=d[:,0]\n",
    "y=d[:,1]"
   ]
  },
  {
   "cell_type": "code",
   "execution_count": 8,
   "metadata": {
    "collapsed": false
   },
   "outputs": [],
   "source": [
    "x=x.astype('float')\n",
    "y=y.astype('float')"
   ]
  },
  {
   "cell_type": "code",
   "execution_count": 10,
   "metadata": {
    "collapsed": false
   },
   "outputs": [
    {
     "name": "stdout",
     "output_type": "stream",
     "text": [
      "[ 0.24  0.25  0.28  0.3   0.33  0.35  0.36  0.36  0.36  0.36  0.4   0.4\n",
      "  0.41  0.42  0.43  0.47  0.51  0.53  0.56  0.57  0.59  0.64  0.66  0.82\n",
      "  0.85  0.94  1.04  1.04] [ 0.  0.  1.  1.  1.  1.  0.  1.  0.  1.  0.  1.  0.  1.  0.  1.  1.  1.\n",
      "  0.  0.  1.  1.  1.  1.  1.  1.  1.  1.]\n"
     ]
    }
   ],
   "source": [
    "print x,y"
   ]
  },
  {
   "cell_type": "code",
   "execution_count": 12,
   "metadata": {
    "collapsed": true
   },
   "outputs": [],
   "source": [
    "x=np.array([x,np.ones(x.shape[0])])\n",
    "x=x.T"
   ]
  },
  {
   "cell_type": "code",
   "execution_count": 13,
   "metadata": {
    "collapsed": false
   },
   "outputs": [
    {
     "name": "stdout",
     "output_type": "stream",
     "text": [
      "Optimization terminated successfully.\n",
      "         Current function value: 0.547344\n",
      "         Iterations 7\n",
      "5.0917352028 -1.63427753421\n"
     ]
    }
   ],
   "source": [
    "import statsmodels.formula.api as sm\n",
    "logit = sm.Logit(y,x)\n",
    "result = logit.fit()\n",
    "w1,w0=result.params\n",
    "print w1,w0"
   ]
  },
  {
   "cell_type": "code",
   "execution_count": 14,
   "metadata": {
    "collapsed": false
   },
   "outputs": [
    {
     "data": {
      "image/png": "[encoded data removed]",
      "text/plain": [
       "<matplotlib.figure.Figure at 0x7fd26d663dd0>"
      ]
     },
     "metadata": {},
     "output_type": "display_data"
    }
   ],
   "source": [
    "import matplotlib.pyplot as plt\n",
    "\n",
    "plt.plot(x, y, 'go')\n",
    "plt.plot(x,w0+w1*x,'b-')\n",
    "plt.plot(x,1/(1+np.exp(-(w0+w1*x))),'r-')\n",
    "plt.show()"
   ]
  },
  {
   "cell_type": "markdown",
   "metadata": {
    "slideshow": {
     "slide_type": "slide"
    }
   },
   "source": [
    "## S.6 Gradient\n",
    "\n",
    "### S.6.1 Cost\n",
    "\n",
    "cost는 아래와 같이 정의된다.\n",
    "\n",
    "$\n",
    "cost =\\left\\{\n",
    "    \\begin{array}{11}\n",
    "      -log(h(x)) \\space if \\space y=1\\\\\n",
    "      -log(1-h(x)) \\space if \\space y=0\\\\\n",
    "     \\end{array}\n",
    "  \\right.\n",
    "$\n",
    "\n",
    "위를 하나의 식으로 합하면:\n",
    "\n",
    "$J(\\theta) = \\frac{1}{m} \\sum_{i=1}^m (-y_i log(h(x_i)) - (1-y_i) log(1-h(x_i)))$\n"
   ]
  },
  {
   "cell_type": "markdown",
   "metadata": {
    "slideshow": {
     "slide_type": "subslide"
    }
   },
   "source": [
    "### S.6.2 입력변수 x, 종속변수 y\n",
    "\n",
    "앞서 만들어준 x,y 데이터를 그대로 사용하기로 하자."
   ]
  },
  {
   "cell_type": "code",
   "execution_count": 135,
   "metadata": {
    "collapsed": true
   },
   "outputs": [],
   "source": [
    "x1=x\n",
    "y1=y"
   ]
  },
  {
   "cell_type": "code",
   "execution_count": 136,
   "metadata": {
    "collapsed": false
   },
   "outputs": [
    {
     "data": {
      "text/plain": [
       "((20, 2), (20,))"
      ]
     },
     "execution_count": 136,
     "metadata": {},
     "output_type": "execute_result"
    }
   ],
   "source": [
    "x1.shape, y1.shape"
   ]
  },
  {
   "cell_type": "code",
   "execution_count": 137,
   "metadata": {
    "collapsed": false
   },
   "outputs": [
    {
     "name": "stdout",
     "output_type": "stream",
     "text": [
      "[[ 0.5   1.  ]\n",
      " [ 0.75  1.  ]\n",
      " [ 1.    1.  ]\n",
      " [ 1.25  1.  ]\n",
      " [ 1.5   1.  ]]\n"
     ]
    }
   ],
   "source": [
    "print x1[:5]"
   ]
  },
  {
   "cell_type": "code",
   "execution_count": 138,
   "metadata": {
    "collapsed": false
   },
   "outputs": [
    {
     "name": "stdout",
     "output_type": "stream",
     "text": [
      "[0 0 0 0 0]\n"
     ]
    }
   ],
   "source": [
    "print y1[:5]"
   ]
  },
  {
   "cell_type": "markdown",
   "metadata": {
    "slideshow": {
     "slide_type": "subslide"
    }
   },
   "source": [
    "### S.6.3 h(x) 함수\n",
    "\n",
    "sigmoid 함수는 $\\frac{p}{1-p} = e^{w_0+w_1x}$\n",
    "\n",
    "p에 대해서 풀면:\n",
    "$ p =\\frac{1}{1+e^{-(w_0+w_1x)}} $"
   ]
  },
  {
   "cell_type": "code",
   "execution_count": 139,
   "metadata": {
    "collapsed": true
   },
   "outputs": [],
   "source": [
    "def sigmoid(x):\n",
    "    import numpy as np\n",
    "    return 1.0/(1+np.exp(-x))"
   ]
  },
  {
   "cell_type": "markdown",
   "metadata": {
    "slideshow": {
     "slide_type": "subslide"
    }
   },
   "source": [
    "위에서 푼 p가 h 함수이다. $ h=\\frac{1}{1+e^{-(w_0+w_1x)}} $"
   ]
  },
  {
   "cell_type": "markdown",
   "metadata": {
    "slideshow": {
     "slide_type": "-"
    }
   },
   "source": [
    "x는 다음과 같이 열데이터로 만들어 준다.\n",
    "```python\n",
    "[ 0.5   1.  ]\n",
    "[ 0.75  1.  ]\n",
    "[ 1.    1.  ]\n",
    "[ 1.25  1.  ]\n",
    "[ 1.5   1.  ]\n",
    "...\n",
    "```"
   ]
  },
  {
   "cell_type": "code",
   "execution_count": 140,
   "metadata": {
    "collapsed": false
   },
   "outputs": [],
   "source": [
    "def h(x,theta):\n",
    "    z=np.dot(x,theta)\n",
    "    return sigmoid(z)"
   ]
  },
  {
   "cell_type": "markdown",
   "metadata": {
    "slideshow": {
     "slide_type": "subslide"
    }
   },
   "source": [
    "### S.6.4 weights\n",
    "\n",
    "컬럼갯수만큼 만들어주고 x데이터와의 연산을 위해 shape을 맞추어 주어야 한다.\n",
    "```python\n",
    "weights=np.ones([x.shape[0],1])\n",
    "```"
   ]
  },
  {
   "cell_type": "code",
   "execution_count": 141,
   "metadata": {
    "collapsed": false
   },
   "outputs": [
    {
     "name": "stdout",
     "output_type": "stream",
     "text": [
      "[[ 1.]\n",
      " [ 1.]] (2, 1)\n"
     ]
    }
   ],
   "source": [
    "weights=np.ones([x1.shape[1],1])\n",
    "print weights,weights.shape"
   ]
  },
  {
   "cell_type": "markdown",
   "metadata": {
    "slideshow": {
     "slide_type": "subslide"
    }
   },
   "source": [
    "앞서 만든 weights를 사용해 h(x)를 계산해보자. 앞 5개 x 데이터로 시험해보자."
   ]
  },
  {
   "cell_type": "code",
   "execution_count": 142,
   "metadata": {
    "collapsed": false,
    "scrolled": true
   },
   "outputs": [
    {
     "data": {
      "text/plain": [
       "array([[ 0.81757448],\n",
       "       [ 0.8519528 ],\n",
       "       [ 0.88079708],\n",
       "       [ 0.90465054],\n",
       "       [ 0.92414182]])"
      ]
     },
     "execution_count": 142,
     "metadata": {},
     "output_type": "execute_result"
    }
   ],
   "source": [
    "h(x1[:5],weights)"
   ]
  },
  {
   "cell_type": "markdown",
   "metadata": {
    "slideshow": {
     "slide_type": "subslide"
    }
   },
   "source": [
    "### S.6.5 gradient 계산\n",
    "\n",
    "#### cost function\n",
    "\n",
    "cost function은 h-y로 계산한다.\n",
    "아래 식에서 보듯이 **전체 평균**을 계산하므로, **결과 값은 1개** 이다.\n",
    "```python\n",
    "total_cost = -(1/m)*np.sum(y*np.log(h)+(1-y)*np.log(1-h))\n",
    "```"
   ]
  },
  {
   "cell_type": "code",
   "execution_count": 143,
   "metadata": {
    "collapsed": false
   },
   "outputs": [],
   "source": [
    "y1=y1[:,np.newaxis]"
   ]
  },
  {
   "cell_type": "code",
   "execution_count": 144,
   "metadata": {
    "collapsed": false
   },
   "outputs": [
    {
     "data": {
      "text/plain": [
       "(20, 1)"
      ]
     },
     "execution_count": 144,
     "metadata": {},
     "output_type": "execute_result"
    }
   ],
   "source": [
    "y1.shape"
   ]
  },
  {
   "cell_type": "code",
   "execution_count": 145,
   "metadata": {
    "collapsed": true
   },
   "outputs": [],
   "source": [
    "def loss(h, y):\n",
    "    return (-y * np.log(h) - (1 - y) * np.log(1 - h)).mean()"
   ]
  },
  {
   "cell_type": "code",
   "execution_count": 146,
   "metadata": {
    "collapsed": false,
    "scrolled": true
   },
   "outputs": [
    {
     "data": {
      "text/plain": [
       "1.4373882978982158"
      ]
     },
     "execution_count": 146,
     "metadata": {},
     "output_type": "execute_result"
    }
   ],
   "source": [
    "loss(h(x1,weights),y1)"
   ]
  },
  {
   "cell_type": "markdown",
   "metadata": {
    "slideshow": {
     "slide_type": "subslide"
    }
   },
   "source": [
    "기울기 Gradient는 오류에 x.T를 계산해야 한다.\n",
    "x의 transpose를 계산해야 하는 이유는,\n",
    "gradient는 **x 컬럼 갯수만큼 결과가 산출**되어야 한다.\n",
    "\n",
    "* x는 transpose해서 (2,20)으로 구성하고:\n",
    "```python\n",
    "[ 0.5 ,  0.75,  1.  ,  1.25,  1.5 ...],\n",
    "[ 1.  ,  1.  ,  1.  ,  1.  ,  1...]])\n",
    "```\n",
    "* ```h-y``` error는 (20,1)\n",
    "\n",
    "따라서 ```dot()```연산을 하면, (2,20) x (20,1) -> (2,1) 새로운 weights는 컬럼 갯수만큼 되어야 한다.\n",
    "\n",
    "$\n",
    "\\nabla f=\\frac{\\partial{J(\\theta)}}{\\partial{\\theta_j}}=\\frac{1}{m}\\sum_{i=1}^m(h(x_i)-y_i)x_i\n",
    "$\n"
   ]
  },
  {
   "cell_type": "code",
   "execution_count": 117,
   "metadata": {
    "collapsed": false
   },
   "outputs": [
    {
     "data": {
      "text/plain": [
       "((20, 1), (20, 2), (20, 1))"
      ]
     },
     "execution_count": 117,
     "metadata": {},
     "output_type": "execute_result"
    }
   ],
   "source": [
    "h(x1,weights).shape, x1.shape,y1.shape"
   ]
  },
  {
   "cell_type": "code",
   "execution_count": 118,
   "metadata": {
    "collapsed": false
   },
   "outputs": [
    {
     "name": "stdout",
     "output_type": "stream",
     "text": [
      "(20, 1)\n"
     ]
    }
   ],
   "source": [
    "error=h(x1,weights)-y1\n",
    "print error.shape"
   ]
  },
  {
   "cell_type": "code",
   "execution_count": 119,
   "metadata": {
    "collapsed": false,
    "scrolled": true
   },
   "outputs": [
    {
     "data": {
      "text/plain": [
       "array([[ 16.42888382],\n",
       "       [  9.05573467]])"
      ]
     },
     "execution_count": 119,
     "metadata": {},
     "output_type": "execute_result"
    }
   ],
   "source": [
    "np.dot(x1.T,error)"
   ]
  },
  {
   "cell_type": "markdown",
   "metadata": {
    "slideshow": {
     "slide_type": "subslide"
    }
   },
   "source": [
    "이를 함수로 만들면, x의 transpose로 계산해야 한다."
   ]
  },
  {
   "cell_type": "code",
   "execution_count": 120,
   "metadata": {
    "collapsed": true
   },
   "outputs": [],
   "source": [
    "def gradientDescent(x, h, y):\n",
    "    return np.dot(x.T, (h - y)) / y.shape[0]"
   ]
  },
  {
   "cell_type": "code",
   "execution_count": 121,
   "metadata": {
    "collapsed": false
   },
   "outputs": [
    {
     "data": {
      "text/plain": [
       "array([[ 0.82144419],\n",
       "       [ 0.45278673]])"
      ]
     },
     "execution_count": 121,
     "metadata": {},
     "output_type": "execute_result"
    }
   ],
   "source": [
    "gradientDescent(x1,h(x1,weights),y1)"
   ]
  },
  {
   "cell_type": "markdown",
   "metadata": {
    "slideshow": {
     "slide_type": "subslide"
    }
   },
   "source": [
    "### S.6.6 update\n",
    "\n",
    "우리가 찾고자 하는 weights에서 gradient를 하강하면서, 즉 $weights-\\alpha \\times gradient$가 수렴할 때까지 반복한다."
   ]
  },
  {
   "cell_type": "code",
   "execution_count": 127,
   "metadata": {
    "collapsed": false
   },
   "outputs": [
    {
     "name": "stdout",
     "output_type": "stream",
     "text": [
      "0 theta:[[ 0.83571116]\n",
      " [ 0.90944265]]\n",
      "1000 theta:[[ 1.46445514]\n",
      " [-3.95885309]]\n",
      "2000 theta:[[ 1.50248787]\n",
      " [-4.07133946]]\n",
      "3000 theta:[[ 1.50452706]\n",
      " [-4.07736375]]\n",
      "4000 theta:[[ 1.50463893]\n",
      " [-4.07769422]]\n",
      "5000 theta:[[ 1.50464507]\n",
      " [-4.07771238]]\n",
      "6000 theta:[[ 1.50464541]\n",
      " [-4.07771337]]\n",
      "7000 theta:[[ 1.50464543]\n",
      " [-4.07771343]]\n",
      "8000 theta:[[ 1.50464543]\n",
      " [-4.07771343]]\n",
      "9000 theta:[[ 1.50464543]\n",
      " [-4.07771343]]\n",
      "[[ 1.50464543]\n",
      " [-4.07771343]]\n"
     ]
    }
   ],
   "source": [
    "iter=10000\n",
    "alpha=0.01\n",
    "#m=X.shape[0]\n",
    "#####weights=np.ones([x1.shape[1]])\n",
    "weights=np.ones([x1.shape[1],1])\n",
    "#theta=np.array([1,1],dtype=float)\n",
    "for i in range(iter):\n",
    "    #predicted\n",
    "    _h=h(x1,weights)\n",
    "    #error\n",
    "    error=_h-y1\n",
    "    #gradient=np.dot(x1.T, error) / y1.shape[0]\n",
    "    gradient=np.dot(x1.T, error)\n",
    "    #update\n",
    "    weights-=alpha*gradient\n",
    "    if i%1000==0:\n",
    "        print \"{0} theta:{1}\".format(i,weights)\n",
    "print weights"
   ]
  },
  {
   "cell_type": "markdown",
   "metadata": {
    "slideshow": {
     "slide_type": "slide"
    }
   },
   "source": [
    "## 문제 입력변수 2개인 로지스틱 회귀"
   ]
  },
  {
   "cell_type": "markdown",
   "metadata": {
    "slideshow": {
     "slide_type": "subslide"
    }
   },
   "source": [
    "### 데이터 읽기\n",
    "\n",
    "#### pandas\n",
    "\n",
    "pandas에서 파일을 TAB 구분자로 분리하고, 헤더는 없도록 읽는다.\n",
    "\n",
    "```python\n",
    "pd.read_csv(\"https://github.com/shenweichen/Machine-Learning-in-Action/blob/master/Ch05/testSet.txt\")\n",
    "```\n",
    "\n",
    "```python\n",
    "dt=np.dtype( {'names': ['x1','x2','y'], 'formats':['f','f','i'] } )\n",
    "x=np.loadtxt('testSet.txt',delimiter='\\t',dtype=dt) #shape(100,)\n",
    "```"
   ]
  },
  {
   "cell_type": "code",
   "execution_count": 321,
   "metadata": {
    "collapsed": false
   },
   "outputs": [],
   "source": [
    "mydir=os.getenv('HOME')+'/Code/git/else/machinelearninginaction/Ch05'\n",
    "filename=os.path.join(mydir,'testSet.txt')"
   ]
  },
  {
   "cell_type": "code",
   "execution_count": 665,
   "metadata": {
    "collapsed": false
   },
   "outputs": [],
   "source": [
    "import pandas as pd\n",
    "df=pd.read_csv(filename,sep='\\t', header=None)"
   ]
  },
  {
   "cell_type": "code",
   "execution_count": 666,
   "metadata": {
    "collapsed": false
   },
   "outputs": [
    {
     "name": "stdout",
     "output_type": "stream",
     "text": [
      "          0          1  2\n",
      "0 -0.017612  14.053064  0\n",
      "1 -1.395634   4.662541  1\n",
      "2 -0.752157   6.538620  0\n",
      "3 -1.322371   7.152853  0\n",
      "4  0.423363  11.054677  0\n",
      "(100, 3)\n"
     ]
    }
   ],
   "source": [
    "print df.head()\n",
    "print df.shape"
   ]
  },
  {
   "cell_type": "markdown",
   "metadata": {
    "slideshow": {
     "slide_type": "subslide"
    }
   },
   "source": [
    "#### x, y 읽기\n",
    "\n",
    "데이터프레임에서 인덱스로 데이터를 읽는 경우 ```iloc``` 명령어를 사용한다."
   ]
  },
  {
   "cell_type": "code",
   "execution_count": 667,
   "metadata": {
    "collapsed": false
   },
   "outputs": [],
   "source": [
    "x = df.iloc[:,0:2]\n",
    "y = df.iloc[:,2]"
   ]
  },
  {
   "cell_type": "code",
   "execution_count": 668,
   "metadata": {
    "collapsed": false
   },
   "outputs": [
    {
     "data": {
      "text/plain": [
       "((100, 2), (100,))"
      ]
     },
     "execution_count": 668,
     "metadata": {},
     "output_type": "execute_result"
    }
   ],
   "source": [
    "x.shape, y.shape"
   ]
  },
  {
   "cell_type": "markdown",
   "metadata": {},
   "source": [
    "### y dim 맞추어 주기"
   ]
  },
  {
   "cell_type": "code",
   "execution_count": 443,
   "metadata": {
    "collapsed": false
   },
   "outputs": [
    {
     "data": {
      "text/plain": [
       "(100, 1)"
      ]
     },
     "execution_count": 443,
     "metadata": {},
     "output_type": "execute_result"
    }
   ],
   "source": [
    "y=y[:,np.newaxis].astype(float)\n",
    "y.shape"
   ]
  },
  {
   "cell_type": "markdown",
   "metadata": {
    "slideshow": {
     "slide_type": "subslide"
    }
   },
   "source": [
    "#### x에 상수 컬럼 추가하기\n",
    "\n",
    "입력변수 x는 컬럼별로 만들어 준다.\n",
    "절편을 구하기 위해 곱해도 차이가 나지 않는 '1' 컬럼을 추가한다.\n",
    "\n",
    "**인자는 shape**을 넣어 준다.\n",
    "```[2,1]```인 경우 2행, 1열 데이터를 만든다.\n",
    "\n",
    "x데이터와 상수컬럼 간에 차원이 서로 맞추어 주기 위해\n",
    "```x[:, np.newaxis]```로 1d를 2d로 전환해준다.\n",
    "\n",
    "```python\n",
    "[ -0.017612  14.053064   1.      ]\n",
    "[ -1.395634   4.662541   1.      ]\n",
    "[ -0.752157   6.53862    1.      ]\n",
    "[ -1.322371   7.152853   1.      ]\n",
    "[  0.423363  11.054677   1.      ]\n",
    " ```"
   ]
  },
  {
   "cell_type": "code",
   "execution_count": 669,
   "metadata": {
    "collapsed": false
   },
   "outputs": [
    {
     "data": {
      "text/plain": [
       "(100, 1)"
      ]
     },
     "execution_count": 669,
     "metadata": {},
     "output_type": "execute_result"
    }
   ],
   "source": [
    "b=np.ones([x.shape[0]])\n",
    "b=b[:, np.newaxis]\n",
    "b.shape"
   ]
  },
  {
   "cell_type": "code",
   "execution_count": 670,
   "metadata": {
    "collapsed": false
   },
   "outputs": [],
   "source": [
    "x=np.hstack([x,b])"
   ]
  },
  {
   "cell_type": "code",
   "execution_count": 672,
   "metadata": {
    "collapsed": false
   },
   "outputs": [
    {
     "name": "stdout",
     "output_type": "stream",
     "text": [
      "[[ -0.017612  14.053064   1.      ]\n",
      " [ -1.395634   4.662541   1.      ]\n",
      " [ -0.752157   6.53862    1.      ]\n",
      " [ -1.322371   7.152853   1.      ]\n",
      " [  0.423363  11.054677   1.      ]] (100, 3)\n"
     ]
    }
   ],
   "source": [
    "print x[:5], x.shape"
   ]
  },
  {
   "cell_type": "markdown",
   "metadata": {
    "slideshow": {
     "slide_type": "subslide"
    }
   },
   "source": [
    "#### weights 초기화\n",
    "\n",
    "각 입력변수에 대한 weights를 gradient descent 방법으로 구하게 된다.\n",
    "이 떄 필요한 weights를 입력데이터 컬럼 수만큼 초기화해 놓는다."
   ]
  },
  {
   "cell_type": "code",
   "execution_count": 674,
   "metadata": {
    "collapsed": false
   },
   "outputs": [
    {
     "name": "stdout",
     "output_type": "stream",
     "text": [
      "[ 1.  1.  1.]\n"
     ]
    }
   ],
   "source": [
    "import numpy as np\n",
    "weights=np.ones([x.shape[1]])\n",
    "#weights=np.ones([x.shape[1],1])\n",
    "print weights"
   ]
  },
  {
   "cell_type": "markdown",
   "metadata": {},
   "source": [
    "#### h(x) 계산하기\n",
    "\n",
    "입력변수 컬럼별로 할당된 weights를 x에 곱해주면 된다.\n",
    "곱셈은 ```dot()```으로 한다.\n",
    "h의 갯수는 당연히 사례 수만큼이 되어야 한다.\n",
    "\n",
    "$h(x) = w^T x+b$"
   ]
  },
  {
   "cell_type": "code",
   "execution_count": 675,
   "metadata": {
    "collapsed": false
   },
   "outputs": [
    {
     "data": {
      "text/plain": [
       "(100,)"
      ]
     },
     "execution_count": 675,
     "metadata": {},
     "output_type": "execute_result"
    }
   ],
   "source": [
    "np.dot(x,weights).shape"
   ]
  },
  {
   "cell_type": "code",
   "execution_count": 448,
   "metadata": {
    "collapsed": false
   },
   "outputs": [
    {
     "data": {
      "text/plain": [
       "(100, 1)"
      ]
     },
     "execution_count": 448,
     "metadata": {},
     "output_type": "execute_result"
    }
   ],
   "source": [
    "np.dot(x,weights).shape"
   ]
  },
  {
   "cell_type": "markdown",
   "metadata": {
    "slideshow": {
     "slide_type": "subslide"
    }
   },
   "source": [
    "h를 나중에 gradient 계산을 위해 저장해 두자."
   ]
  },
  {
   "cell_type": "code",
   "execution_count": 676,
   "metadata": {
    "collapsed": false
   },
   "outputs": [
    {
     "name": "stdout",
     "output_type": "stream",
     "text": [
      "(100,)\n"
     ]
    }
   ],
   "source": [
    "h=sigmoid(np.dot(x,weights)) #(100,1)\n",
    "print h.shape"
   ]
  },
  {
   "cell_type": "markdown",
   "metadata": {
    "slideshow": {
     "slide_type": "subslide"
    }
   },
   "source": [
    "### gradient 계산"
   ]
  },
  {
   "cell_type": "markdown",
   "metadata": {},
   "source": [
    "오류가 제대로 계산되었는지 일부만 확인해보자"
   ]
  },
  {
   "cell_type": "code",
   "execution_count": 677,
   "metadata": {
    "collapsed": false
   },
   "outputs": [
    {
     "data": {
      "text/plain": [
       "((100,), (100,))"
      ]
     },
     "execution_count": 677,
     "metadata": {},
     "output_type": "execute_result"
    }
   ],
   "source": [
    "y.shape, h.shape"
   ]
  },
  {
   "cell_type": "code",
   "execution_count": 678,
   "metadata": {
    "collapsed": false
   },
   "outputs": [
    {
     "name": "stdout",
     "output_type": "stream",
     "text": [
      "-0.999999704753=0.999999704753-0\n",
      "0.0138311130718=0.986168886928-1\n",
      "-0.998872318268=0.998872318268-0\n",
      "-0.9989208286=0.9989208286-0\n",
      "-0.999996190619=0.999996190619-0\n"
     ]
    }
   ],
   "source": [
    "error=(y - h)\n",
    "for i in range(5):\n",
    "    print \"{0}={1}-{2}\".format(error[i],h[i],y[i])"
   ]
  },
  {
   "cell_type": "markdown",
   "metadata": {
    "slideshow": {
     "slide_type": "subslide"
    }
   },
   "source": [
    "gradient는 weights별로 계산되어야 하므로, 컬럼 갯수만큼 구해야 한다."
   ]
  },
  {
   "cell_type": "code",
   "execution_count": 679,
   "metadata": {
    "collapsed": false
   },
   "outputs": [
    {
     "name": "stdout",
     "output_type": "stream",
     "text": [
      "[ -17.14703987 -511.71675367  -36.41425331]\n"
     ]
    }
   ],
   "source": [
    "gradient=np.dot(x.T,error)\n",
    "print gradient"
   ]
  },
  {
   "cell_type": "markdown",
   "metadata": {
    "slideshow": {
     "slide_type": "subslide"
    }
   },
   "source": [
    "### weight 계산"
   ]
  },
  {
   "cell_type": "code",
   "execution_count": 680,
   "metadata": {
    "collapsed": false
   },
   "outputs": [
    {
     "name": "stdout",
     "output_type": "stream",
     "text": [
      "[ 0.98285296  0.48828325  0.96358575]\n"
     ]
    }
   ],
   "source": [
    "alpha=0.001\n",
    "weights = weights + alpha * gradient  #(3,100)\n",
    "print weights"
   ]
  },
  {
   "cell_type": "code",
   "execution_count": 461,
   "metadata": {
    "collapsed": false
   },
   "outputs": [
    {
     "name": "stdout",
     "output_type": "stream",
     "text": [
      "[[ 0.96570592]\n",
      " [-0.02343351]\n",
      " [ 0.92717149]]\n"
     ]
    }
   ],
   "source": [
    "alpha=0.001\n",
    "weights = weights + alpha * gradient  #(3,100)\n",
    "print weights"
   ]
  },
  {
   "cell_type": "markdown",
   "metadata": {
    "slideshow": {
     "slide_type": "subslide"
    }
   },
   "source": [
    "### 함수로 만들기"
   ]
  },
  {
   "cell_type": "code",
   "execution_count": 693,
   "metadata": {
    "collapsed": false,
    "scrolled": false
   },
   "outputs": [
    {
     "name": "stdout",
     "output_type": "stream",
     "text": [
      "0--> [ 0.98285296  0.48828325  0.96358575],-36.4142533131\n",
      "10000--> [  1.00906823  -1.53615333  11.23590731],0.267328344801\n",
      "20000--> [  1.13022956  -1.7637027   12.95688479],0.110264699661\n",
      "30000--> [  1.18525449  -1.86928807  13.75157234],0.0562420790788\n",
      "40000--> [  1.21423036  -1.92553017  14.17391789],0.0310738146611\n",
      "50000--> [  1.23046916  -1.9572544   14.41185843],0.0178407768514\n",
      "60000--> [  1.2398605   -1.97567049  14.54988899],0.0104552322235\n",
      "70000--> [  1.24538603  -1.98652991  14.63124878],0.00619809976179\n",
      "80000--> [  1.2486691   -1.99299071  14.67964232],0.00369896595708\n",
      "90000--> [  1.250631    -1.9968546   14.70857995],0.00221618879254\n",
      "100000--> [  1.25180736  -1.99917249  14.72593782],0.0013309016793\n",
      "110000--> [  1.25251413  -2.00056551  14.73636912],0.000800369216126\n",
      "120000--> [  1.25293928  -2.00140361  14.74264485],0.000481723275491\n",
      "130000--> [  1.25319522  -2.00190818  14.74642301],0.000290083403706\n",
      "140000--> [  1.25334935  -2.00221207  14.74869848],0.000174734743024\n",
      "150000--> [  1.2534422   -2.00239514  14.75006926],0.000105272414821\n",
      "160000--> [  1.25349814  -2.00250544  14.75089516],6.34303989691e-05\n",
      "170000--> [  1.25353185  -2.00257191  14.75139281],3.82216065373e-05\n",
      "180000--> [  1.25355216  -2.00261196  14.75169268],2.30323199771e-05\n",
      "190000--> [  1.2535644   -2.00263609  14.75187339],1.3879596131e-05\n",
      "---weights [  1.25357177  -2.00265063  14.75198228]\n"
     ]
    }
   ],
   "source": [
    "#data=np.array([1.0,2.2,3.3])\n",
    "alpha=0.001 #learning rate\n",
    "maxCycles=200000\n",
    "weights=np.ones([x.shape[1]])\n",
    "for k in range(maxCycles):\n",
    "    h=sigmoid(np.dot(x,weights)) #(100,1)\n",
    "    error=(y - h)\n",
    "    gradient=np.dot(x.T, error)\n",
    "    weights = weights + alpha * gradient\n",
    "    if(k%10000==0):\n",
    "        print \"{0}--> {1},{2}\".format(k,weights,np.sum(error))\n",
    "print \"---weights\",weights\n",
    "#weights=logRegres.gradAscent(dataList,labelList)\n",
    "#matrix([[ 4.12414349],\n",
    "#        [ 0.48007329],\n",
    "#        [-0.6168482 ]])"
   ]
  },
  {
   "cell_type": "markdown",
   "metadata": {
    "slideshow": {
     "slide_type": "subslide"
    }
   },
   "source": [
    "### Classify\n",
    "\n",
    "b의 역할???"
   ]
  },
  {
   "cell_type": "code",
   "execution_count": 45,
   "metadata": {
    "collapsed": false
   },
   "outputs": [
    {
     "name": "stdout",
     "output_type": "stream",
     "text": [
      "[ 1 10  1]\n",
      "(3,)\n",
      "classified results: 1.0\n"
     ]
    }
   ],
   "source": [
    "# textbook p.98\n",
    "def classifyVector(inX, weights):\n",
    "    prob = sigmoid(sum(inX*weights))\n",
    "    if prob > 0.5: return 1.0\n",
    "    else: return 0.0\n",
    "inX=np.array([1,10,1])\n",
    "print inX\n",
    "print weights.shape\n",
    "yhat=classifyVector(inX,weights)\n",
    "print \"classified results: {0}\".format(yhat)\n"
   ]
  },
  {
   "cell_type": "code",
   "execution_count": 694,
   "metadata": {
    "collapsed": false
   },
   "outputs": [
    {
     "name": "stdout",
     "output_type": "stream",
     "text": [
      "Optimization terminated successfully.\n",
      "         Current function value: 0.093158\n",
      "         Iterations 10\n",
      "1.25358295769 -2.00267268881 14.7521474379\n"
     ]
    }
   ],
   "source": [
    "import statsmodels.formula.api as sm\n",
    "logit = sm.Logit(y,x)\n",
    "result = logit.fit()\n",
    "w2,w1,w0=result.params\n",
    "print w2,w1,w0"
   ]
  },
  {
   "cell_type": "markdown",
   "metadata": {
    "collapsed": true
   },
   "source": [
    "* 오류 계산\n"
   ]
  },
  {
   "cell_type": "markdown",
   "metadata": {
    "slideshow": {
     "slide_type": "slide"
    }
   },
   "source": [
    "## stochastic gradient ascent\n",
    "\n",
    "* 교재 p.94\n",
    "* $\\alpha$ changes"
   ]
  },
  {
   "cell_type": "code",
   "execution_count": 44,
   "metadata": {
    "collapsed": false
   },
   "outputs": [
    {
     "name": "stdout",
     "output_type": "stream",
     "text": [
      "[ 13.59355019   1.1995636   -2.10438444]\n"
     ]
    }
   ],
   "source": [
    "import random\n",
    "def stocGradAscent1(dataMatrix, classLabels, numIter=150):\n",
    "    m,n = np.shape(dataMatrix)\n",
    "    weights = np.ones(n)\n",
    "    for j in range(numIter):\n",
    "        dataIndex = range(m)\n",
    "        for i in range(m):\n",
    "            alpha = 4/(1.0+j+i)+0.01\n",
    "            randIndex = int(random.uniform(0,len(dataIndex)))\n",
    "            h = sigmoid(sum(dataMatrix[randIndex]*weights))\n",
    "            error = classLabels[randIndex] - h\n",
    "            weights = weights + alpha * error * dataMatrix[randIndex]\n",
    "            del(dataIndex[randIndex])\n",
    "    return weights\n",
    "weights=stocGradAscent1(np.array(dataList),labelList)\n",
    "print weights\n"
   ]
  },
  {
   "cell_type": "code",
   "execution_count": null,
   "metadata": {
    "collapsed": true
   },
   "outputs": [],
   "source": []
  },
  {
   "cell_type": "markdown",
   "metadata": {
    "slideshow": {
     "slide_type": "slide"
    }
   },
   "source": [
    "## 문제: horse-colic\n",
    "\n",
    "url에서 읽어옴.\n",
    "\n",
    "데이터는 훈련용, 테스트용으로 구분되어 있다.\n",
    "* ```horse-colic.data```는 300개 훈련 데이터\n",
    "* ```horse-colic.test```는 68개 테스트 데이터\n",
    "\n",
    "데이터 속성은 아래와 같이 28개, 헤더는 제공되지 않고 있다.\n",
    "```python\n",
    "  1:  surgery\n",
    "  2:  Age \n",
    "  3:  Hospital Number \n",
    "  4:  rectal temperature\n",
    "  5:  pulse \n",
    "  6:  respiratory rate\n",
    "  7:  temperature of extremities\n",
    "  8:  peripheral pulse\n",
    "  9:  mucous membranes\n",
    " 10: capillary refill time\n",
    " 11: pain - a subjective judgement of the horse's pain level\n",
    " 12: peristalsis                              \n",
    " 13: abdominal distension\n",
    " 14: nasogastric tube\n",
    " 15: nasogastric reflux\n",
    " 16: nasogastric reflux PH\n",
    " 17: rectal examination - feces\n",
    " 18: abdomen\n",
    " 19: packed cell volume\n",
    " 20: total protein\n",
    " 21: abdominocentesis appearance\n",
    " 22: abdomcentesis total protein\n",
    " 23: outcome\n",
    " 24: surgical lesion?\n",
    " 25, 26, 27: type of lesion\n",
    " 28: cp_data\n",
    "```"
   ]
  },
  {
   "cell_type": "code",
   "execution_count": 245,
   "metadata": {
    "collapsed": false
   },
   "outputs": [
    {
     "name": "stdout",
     "output_type": "stream",
     "text": [
      "2 1 530101 38.50 66 28 3 3 ? 2 5 4 4 ? ? ? 3 5 45.00 8.40 ? ? 2 2 11300 00000 00000 2\n",
      "2 1 528626 38.50 54 20 ? 1 2 2 3 4 1 2 2 5.90 ? 2 42.00 6.30 ? ? 1 2 03111 00000 00000 1\n"
     ]
    },
    {
     "ename": "AttributeError",
     "evalue": "'builtin_function_or_method' object has no attribute 'endswith'",
     "output_type": "error",
     "traceback": [
      "\u001b[0;31m---------------------------------------------------------------------------\u001b[0m",
      "\u001b[0;31mAttributeError\u001b[0m                            Traceback (most recent call last)",
      "\u001b[0;32m<ipython-input-245-5c6bdeeb4fb5>\u001b[0m in \u001b[0;36m<module>\u001b[0;34m()\u001b[0m\n\u001b[1;32m     13\u001b[0m \u001b[0;34m\u001b[0m\u001b[0m\n\u001b[1;32m     14\u001b[0m \u001b[0;31m#1.2 numpy reading from textbook data\u001b[0m\u001b[0;34m\u001b[0m\u001b[0;34m\u001b[0m\u001b[0m\n\u001b[0;32m---> 15\u001b[0;31m \u001b[0mfrtrain\u001b[0m\u001b[0;34m=\u001b[0m\u001b[0mos\u001b[0m\u001b[0;34m.\u001b[0m\u001b[0mpath\u001b[0m\u001b[0;34m.\u001b[0m\u001b[0mjoin\u001b[0m\u001b[0;34m(\u001b[0m\u001b[0mdir\u001b[0m\u001b[0;34m,\u001b[0m\u001b[0;34m'horseColicTraining.txt'\u001b[0m\u001b[0;34m)\u001b[0m\u001b[0;34m\u001b[0m\u001b[0m\n\u001b[0m\u001b[1;32m     16\u001b[0m \u001b[0mfrtest\u001b[0m\u001b[0;34m=\u001b[0m\u001b[0mos\u001b[0m\u001b[0;34m.\u001b[0m\u001b[0mpath\u001b[0m\u001b[0;34m.\u001b[0m\u001b[0mjoin\u001b[0m\u001b[0;34m(\u001b[0m\u001b[0mdir\u001b[0m\u001b[0;34m,\u001b[0m\u001b[0;34m'horseColicTest.txt'\u001b[0m\u001b[0;34m)\u001b[0m\u001b[0;34m\u001b[0m\u001b[0m\n\u001b[1;32m     17\u001b[0m \u001b[0;32mprint\u001b[0m \u001b[0;34m\"File exists? {0} {1}\"\u001b[0m\u001b[0;34m.\u001b[0m\u001b[0mformat\u001b[0m\u001b[0;34m(\u001b[0m\u001b[0mos\u001b[0m\u001b[0;34m.\u001b[0m\u001b[0mpath\u001b[0m\u001b[0;34m.\u001b[0m\u001b[0misfile\u001b[0m\u001b[0;34m(\u001b[0m\u001b[0mfrtrain\u001b[0m\u001b[0;34m)\u001b[0m\u001b[0;34m,\u001b[0m\u001b[0mos\u001b[0m\u001b[0;34m.\u001b[0m\u001b[0mpath\u001b[0m\u001b[0;34m.\u001b[0m\u001b[0misfile\u001b[0m\u001b[0;34m(\u001b[0m\u001b[0mfrtest\u001b[0m\u001b[0;34m)\u001b[0m\u001b[0;34m)\u001b[0m\u001b[0;34m\u001b[0m\u001b[0m\n",
      "\u001b[0;32m/usr/lib/python2.7/posixpath.pyc\u001b[0m in \u001b[0;36mjoin\u001b[0;34m(a, *p)\u001b[0m\n\u001b[1;32m     68\u001b[0m         \u001b[0;32mif\u001b[0m \u001b[0mb\u001b[0m\u001b[0;34m.\u001b[0m\u001b[0mstartswith\u001b[0m\u001b[0;34m(\u001b[0m\u001b[0;34m'/'\u001b[0m\u001b[0;34m)\u001b[0m\u001b[0;34m:\u001b[0m\u001b[0;34m\u001b[0m\u001b[0m\n\u001b[1;32m     69\u001b[0m             \u001b[0mpath\u001b[0m \u001b[0;34m=\u001b[0m \u001b[0mb\u001b[0m\u001b[0;34m\u001b[0m\u001b[0m\n\u001b[0;32m---> 70\u001b[0;31m         \u001b[0;32melif\u001b[0m \u001b[0mpath\u001b[0m \u001b[0;34m==\u001b[0m \u001b[0;34m''\u001b[0m \u001b[0;32mor\u001b[0m \u001b[0mpath\u001b[0m\u001b[0;34m.\u001b[0m\u001b[0mendswith\u001b[0m\u001b[0;34m(\u001b[0m\u001b[0;34m'/'\u001b[0m\u001b[0;34m)\u001b[0m\u001b[0;34m:\u001b[0m\u001b[0;34m\u001b[0m\u001b[0m\n\u001b[0m\u001b[1;32m     71\u001b[0m             \u001b[0mpath\u001b[0m \u001b[0;34m+=\u001b[0m  \u001b[0mb\u001b[0m\u001b[0;34m\u001b[0m\u001b[0m\n\u001b[1;32m     72\u001b[0m         \u001b[0;32melse\u001b[0m\u001b[0;34m:\u001b[0m\u001b[0;34m\u001b[0m\u001b[0m\n",
      "\u001b[0;31mAttributeError\u001b[0m: 'builtin_function_or_method' object has no attribute 'endswith'"
     ]
    }
   ],
   "source": [
    "## to del 20190812\n",
    "\n",
    "# 1.1 pandas reading from url\n",
    "import pandas as pd\n",
    "import urllib2\n",
    "import os\n",
    "url0='http://archive.ics.uci.edu/ml/machine-learning-databases/horse-colic/horse-colic.data'\n",
    "url1='http://archive.ics.uci.edu/ml/machine-learning-databases/horse-colic/horse-colic.test'\n",
    "frtrain=pd.read_csv(url0,header=None) #(300,1)\n",
    "frtest=pd.read_csv(url1,header=None) #(68,1)\n",
    "print frtrain[0][0] #row1\n",
    "print frtest[0][0]\n",
    "\n",
    "#1.2 numpy reading from textbook data\n",
    "frtrain=os.path.join(dir,'horseColicTraining.txt')\n",
    "frtest=os.path.join(dir,'horseColicTest.txt')\n",
    "print \"File exists? {0} {1}\".format(os.path.isfile(frtrain),os.path.isfile(frtest))\n",
    "\n",
    "x0=np.loadtxt(frtrain,delimiter='\\t',skiprows=0) #(299,22)\n",
    "x1=np.loadtxt(frtest,delimiter='\\t',skiprows=0) #(299,22)\n",
    "trainDataLabels=x0[:,-1] #(299,) 22번째 열이 class labels\n",
    "trainDataArr=x0[:,range(0,21)] #(299,21)\n",
    "testDataLabels=x1[:,-1] #(67,) 22번째 열이 class labels\n",
    "testDataArr=x1[:,range(0,21)] #(67,21)\n",
    "\n",
    "# 2. train\n",
    "weights=stocGradAscent1(trainDataArr, trainDataLabels, 500)\n",
    "print weights\n",
    "\n",
    "# 3. classify\n",
    "for i in range(10):\n",
    "    inX=testDataArr[i]\n",
    "    yhat=classifyVector(inX,weights)\n",
    "    print \"answer={0} yhat={1} testDataArr={2}\".format(yhat, testDataLabels[i],testDataArr[i])\n"
   ]
  },
  {
   "cell_type": "markdown",
   "metadata": {
    "slideshow": {
     "slide_type": "subslide"
    }
   },
   "source": [
    "## simple (without vectors)\n",
    "\n",
    "source: cs229 regression at Standford\n",
    "\n",
    "houses with the (living area (in feet2), and number of bedrooms) with the resulting price :\n",
    "\n",
    "* Living area (feet2) : 2104\n",
    "* n of bedrooms : 3\n",
    "* Price (1000$s) : 400\n",
    "\n",
    "$h_{theta}(x) = theta_0 + theta_1 x_1 + theta_2 x_2$\n",
    "\n",
    "* $x_1$: living area\n",
    "* $x_2$: n of bedrooms\n",
    "* $h_{theta}(x)$: the estimated price.\n",
    "\n",
    "* the cost function ($hserror$) (for one point) : $hserror = \\frac{1}{2} (h_{theta}(x) - y)^2$\n"
   ]
  },
  {
   "cell_type": "code",
   "execution_count": 47,
   "metadata": {
    "collapsed": false,
    "scrolled": true
   },
   "outputs": [
    {
     "name": "stdout",
     "output_type": "stream",
     "text": [
      "Iteration 0 | Cost: 431.105040\n",
      "Iteration 500 | Cost: 100.666911\n",
      "Iteration 1000 | Cost: 89.068984\n",
      "Iteration 1500 | Cost: 78.852907\n",
      "Iteration 2000 | Cost: 69.854037\n",
      "Iteration 2500 | Cost: 61.927348\n",
      "Iteration 3000 | Cost: 54.945094\n",
      "Iteration 3500 | Cost: 48.794749\n",
      "Iteration 4000 | Cost: 43.377194\n",
      "Iteration 4500 | Cost: 38.605121\n",
      "Iteration 5000 | Cost: 34.401622\n",
      "Iteration 5500 | Cost: 30.698954\n",
      "Iteration 6000 | Cost: 27.437445\n",
      "Iteration 6500 | Cost: 24.564533\n",
      "Iteration 7000 | Cost: 22.033917\n",
      "Iteration 7500 | Cost: 19.804815\n",
      "Iteration 8000 | Cost: 17.841301\n",
      "Iteration 8500 | Cost: 16.111733\n",
      "Iteration 9000 | Cost: 14.588236\n",
      "Iteration 9500 | Cost: 13.246258\n",
      "[ 22.21918599   1.11969241]\n"
     ]
    }
   ],
   "source": [
    "# source http://tiku.io/questions/354630/gradient-descent-using-python-and-numpy\n",
    "# vector way - y=0.9951x+30.008\n",
    "#10,000반복  theta=22,1.1\n",
    "#100,000반복 theta=30,1에 가까워져 정확해짐\n",
    "import numpy as np\n",
    "import random\n",
    "\n",
    "# m denotes the number of examples here, not the number of features\n",
    "def gradientDescent(x, y, theta, alpha, m, numIterations):\n",
    "    xTrans = x.transpose()\n",
    "    for i in range(0, numIterations):\n",
    "        hypothesis = np.dot(x, theta)\n",
    "        loss = hypothesis - y\n",
    "        # avg cost per example (the 2 in 2*m doesn't really matter here.\n",
    "        # But to be consistent with the gradient, I include it)\n",
    "        cost = np.sum(loss ** 2) / (2 * m)\n",
    "        if i%500 == 0:\n",
    "            print(\"Iteration %d | Cost: %f\" % (i, cost))\n",
    "        # avg gradient per example\n",
    "        gradient = np.dot(xTrans, loss) / m\n",
    "        # update\n",
    "        theta = theta - alpha * gradient\n",
    "    return theta\n",
    "\n",
    "def genData(numPoints, bias, variance):\n",
    "    x = np.zeros(shape=(numPoints, 2))\n",
    "    y = np.zeros(shape=numPoints)\n",
    "    # basically a straight line\n",
    "    for i in range(0, numPoints):\n",
    "        # bias feature\n",
    "        x[i][0] = 1\n",
    "        x[i][1] = i\n",
    "        # our target variable\n",
    "        y[i] = (i + bias) + random.uniform(0, 1) * variance\n",
    "    return x, y\n",
    "\n",
    "# gen 100 points with a bias of 25 and 10 variance as a bit of noise\n",
    "x, y = genData(100, 25, 10)\n",
    "m, n = np.shape(x)\n",
    "numIterations= 10000 #100000\n",
    "alpha = 0.0005\n",
    "theta = np.ones(n)\n",
    "theta = gradientDescent(x, y, theta, alpha, m, numIterations)\n",
    "print(theta) # 약 30,1\n"
   ]
  },
  {
   "cell_type": "code",
   "execution_count": null,
   "metadata": {
    "collapsed": true
   },
   "outputs": [],
   "source": []
  },
  {
   "cell_type": "code",
   "execution_count": 222,
   "metadata": {
    "collapsed": false
   },
   "outputs": [
    {
     "name": "stdout",
     "output_type": "stream",
     "text": [
      "2 1 530101 38.50 66 28 3 3 ? 2 5 4 4 ? ? ? 3 5 45.00 8.40 ? ? 2 2 11300 00000 00000 2\n",
      "2 1 528626 38.50 54 20 ? 1 2 2 3 4 1 2 2 5.90 ? 2 42.00 6.30 ? ? 1 2 03111 00000 00000 1\n"
     ]
    }
   ],
   "source": [
    "import pandas as pd\n",
    "\n",
    "url0='http://archive.ics.uci.edu/ml/machine-learning-databases/horse-colic/horse-colic.data'\n",
    "url1='http://archive.ics.uci.edu/ml/machine-learning-databases/horse-colic/horse-colic.test'\n",
    "frtrain=pd.read_csv(url0,header=None) #(300,1)\n",
    "frtest=pd.read_csv(url1,header=None) #(68,1)\n",
    "print frtrain[0][0] #row1\n",
    "print frtest[0][0]"
   ]
  },
  {
   "cell_type": "code",
   "execution_count": null,
   "metadata": {
    "collapsed": true
   },
   "outputs": [],
   "source": []
  },
  {
   "cell_type": "markdown",
   "metadata": {
    "slideshow": {
     "slide_type": "slide"
    }
   },
   "source": [
    "## 문제: 입학\n",
    "\n",
    "UCLA대학에서 제공되는 데이터를 분석해보자.\n",
    "```admit```은 종속변수로, 합격/불합격을 나타내는 이진적 값을 가진다.\n",
    "나머지 변수는 독립변수로 GRE (Graduate Record Exam scores), GPA (grade point average), rank는 학부의 평판을 나타낸댜.\n",
    "GRE, GPA는 연속변수이고 rank는 학부평판으로 1이면 최상 4이면 최하의 평판을 의미한다.\n",
    "\n",
    "Python patsy, statsmodel, sklearn, numpy, Spark로 풀어보자."
   ]
  },
  {
   "cell_type": "markdown",
   "metadata": {
    "slideshow": {
     "slide_type": "subslide"
    }
   },
   "source": [
    "### 데이터 읽기\n",
    "\n",
    "데이터를 읽어서 ```head()``` 함수로 일부만 출력해보자."
   ]
  },
  {
   "cell_type": "code",
   "execution_count": 4,
   "metadata": {
    "collapsed": false,
    "slideshow": {
     "slide_type": "-"
    }
   },
   "outputs": [
    {
     "data": {
      "text/html": [
       "<div style=\"max-height:1000px;max-width:1500px;overflow:auto;\">\n",
       "<table border=\"1\" class=\"dataframe\">\n",
       "  <thead>\n",
       "    <tr style=\"text-align: right;\">\n",
       "      <th></th>\n",
       "      <th>admit</th>\n",
       "      <th>gre</th>\n",
       "      <th>gpa</th>\n",
       "      <th>rank</th>\n",
       "    </tr>\n",
       "  </thead>\n",
       "  <tbody>\n",
       "    <tr>\n",
       "      <th>0</th>\n",
       "      <td>0</td>\n",
       "      <td>380</td>\n",
       "      <td>3.61</td>\n",
       "      <td>3</td>\n",
       "    </tr>\n",
       "    <tr>\n",
       "      <th>1</th>\n",
       "      <td>1</td>\n",
       "      <td>660</td>\n",
       "      <td>3.67</td>\n",
       "      <td>3</td>\n",
       "    </tr>\n",
       "    <tr>\n",
       "      <th>2</th>\n",
       "      <td>1</td>\n",
       "      <td>800</td>\n",
       "      <td>4.00</td>\n",
       "      <td>1</td>\n",
       "    </tr>\n",
       "    <tr>\n",
       "      <th>3</th>\n",
       "      <td>1</td>\n",
       "      <td>640</td>\n",
       "      <td>3.19</td>\n",
       "      <td>4</td>\n",
       "    </tr>\n",
       "    <tr>\n",
       "      <th>4</th>\n",
       "      <td>0</td>\n",
       "      <td>520</td>\n",
       "      <td>2.93</td>\n",
       "      <td>4</td>\n",
       "    </tr>\n",
       "  </tbody>\n",
       "</table>\n",
       "</div>"
      ],
      "text/plain": [
       "   admit  gre   gpa  rank\n",
       "0      0  380  3.61     3\n",
       "1      1  660  3.67     3\n",
       "2      1  800  4.00     1\n",
       "3      1  640  3.19     4\n",
       "4      0  520  2.93     4"
      ]
     },
     "execution_count": 4,
     "metadata": {},
     "output_type": "execute_result"
    }
   ],
   "source": [
    "import pandas as pd\n",
    "df = pd.read_csv(\"https://stats.idre.ucla.edu/stat/data/binary.csv\")\n",
    "df.head()"
   ]
  },
  {
   "cell_type": "markdown",
   "metadata": {
    "slideshow": {
     "slide_type": "subslide"
    }
   },
   "source": [
    "열에 'rank'를 볼 수 있는데, 동일한 명칭의 함수가 ```DataFrame```에 있기 때문에 'prestige'로 변경하자."
   ]
  },
  {
   "cell_type": "code",
   "execution_count": 5,
   "metadata": {
    "collapsed": true
   },
   "outputs": [],
   "source": [
    "df.columns = [\"admit\", \"gre\", \"gpa\", \"prestige\"]"
   ]
  },
  {
   "cell_type": "markdown",
   "metadata": {
    "slideshow": {
     "slide_type": "subslide"
    }
   },
   "source": [
    "변수의 평균, 표준편차, 최소, 최대 값을 계산해보자.\n",
    "이런 통계값을 통해 변수에 오류가 있는지 검증한다."
   ]
  },
  {
   "cell_type": "code",
   "execution_count": 6,
   "metadata": {
    "collapsed": false
   },
   "outputs": [
    {
     "name": "stdout",
     "output_type": "stream",
     "text": [
      "            admit         gre         gpa   prestige\n",
      "count  400.000000  400.000000  400.000000  400.00000\n",
      "mean     0.317500  587.700000    3.389900    2.48500\n",
      "std      0.466087  115.516536    0.380567    0.94446\n",
      "min      0.000000  220.000000    2.260000    1.00000\n",
      "25%      0.000000  520.000000    3.130000    2.00000\n",
      "50%      0.000000  580.000000    3.395000    2.00000\n",
      "75%      1.000000  660.000000    3.670000    3.00000\n",
      "max      1.000000  800.000000    4.000000    4.00000\n"
     ]
    }
   ],
   "source": [
    "print df.describe()"
   ]
  },
  {
   "cell_type": "markdown",
   "metadata": {
    "slideshow": {
     "slide_type": "subslide"
    }
   },
   "source": [
    "```admit```과 ```prestige```의 교차빈도를 계산해보자"
   ]
  },
  {
   "cell_type": "code",
   "execution_count": 7,
   "metadata": {
    "collapsed": false,
    "scrolled": true
   },
   "outputs": [
    {
     "name": "stdout",
     "output_type": "stream",
     "text": [
      "prestige   1   2   3   4\n",
      "admit                   \n",
      "0         28  97  93  55\n",
      "1         33  54  28  12\n"
     ]
    }
   ],
   "source": [
    "print pd.crosstab(df['admit'], df['prestige'], rownames=['admit'])"
   ]
  },
  {
   "cell_type": "markdown",
   "metadata": {
    "slideshow": {
     "slide_type": "subslide"
    }
   },
   "source": [
    "히스토그램을 그려서 변수의 특징을 살펴보자."
   ]
  },
  {
   "cell_type": "code",
   "execution_count": 8,
   "metadata": {
    "collapsed": false
   },
   "outputs": [
    {
     "data": {
      "image/png": "[encoded data removed]",
      "text/plain": [
       "<matplotlib.figure.Figure at 0x7f4fc0567350>"
      ]
     },
     "metadata": {},
     "output_type": "display_data"
    }
   ],
   "source": [
    "%matplotlib inline\n",
    "import pylab as pl\n",
    "df.hist()\n",
    "pl.show()"
   ]
  },
  {
   "cell_type": "markdown",
   "metadata": {
    "slideshow": {
     "slide_type": "subslide"
    }
   },
   "source": [
    "### 모델링\n",
    "\n",
    "pasty를 이용해 모델링을 완성해보자.\n",
    "\n",
    "\n",
    "```DesignMatrics``` 첫째 인자는 \n",
    "```python\n",
    "admit ~ gre + gpa + C(prestige)\n",
    "```\n",
    "두번째 인자는 데이터 df, return_type을 정해 줄 수 있다. pandas DataFrame 또는 numpy record array로 저장할 수 있다.\n",
    "prestige는 **category 변수**로 만들어 모델을 만들어 준다.\n",
    "\n",
    "반환 값은 종속변수와 독립변수인 y, X를 돌려준다."
   ]
  },
  {
   "cell_type": "code",
   "execution_count": 13,
   "metadata": {
    "collapsed": false
   },
   "outputs": [
    {
     "data": {
      "text/html": [
       "<div style=\"max-height:1000px;max-width:1500px;overflow:auto;\">\n",
       "<table border=\"1\" class=\"dataframe\">\n",
       "  <thead>\n",
       "    <tr style=\"text-align: right;\">\n",
       "      <th></th>\n",
       "      <th>Intercept</th>\n",
       "      <th>C(prestige)[T.2]</th>\n",
       "      <th>C(prestige)[T.3]</th>\n",
       "      <th>C(prestige)[T.4]</th>\n",
       "      <th>gre</th>\n",
       "      <th>gpa</th>\n",
       "    </tr>\n",
       "  </thead>\n",
       "  <tbody>\n",
       "    <tr>\n",
       "      <th>0</th>\n",
       "      <td>1</td>\n",
       "      <td>0</td>\n",
       "      <td>1</td>\n",
       "      <td>0</td>\n",
       "      <td>380</td>\n",
       "      <td>3.61</td>\n",
       "    </tr>\n",
       "    <tr>\n",
       "      <th>1</th>\n",
       "      <td>1</td>\n",
       "      <td>0</td>\n",
       "      <td>1</td>\n",
       "      <td>0</td>\n",
       "      <td>660</td>\n",
       "      <td>3.67</td>\n",
       "    </tr>\n",
       "    <tr>\n",
       "      <th>2</th>\n",
       "      <td>1</td>\n",
       "      <td>0</td>\n",
       "      <td>0</td>\n",
       "      <td>0</td>\n",
       "      <td>800</td>\n",
       "      <td>4.00</td>\n",
       "    </tr>\n",
       "    <tr>\n",
       "      <th>3</th>\n",
       "      <td>1</td>\n",
       "      <td>0</td>\n",
       "      <td>0</td>\n",
       "      <td>1</td>\n",
       "      <td>640</td>\n",
       "      <td>3.19</td>\n",
       "    </tr>\n",
       "    <tr>\n",
       "      <th>4</th>\n",
       "      <td>1</td>\n",
       "      <td>0</td>\n",
       "      <td>0</td>\n",
       "      <td>1</td>\n",
       "      <td>520</td>\n",
       "      <td>2.93</td>\n",
       "    </tr>\n",
       "  </tbody>\n",
       "</table>\n",
       "</div>"
      ],
      "text/plain": [
       "   Intercept  C(prestige)[T.2]  C(prestige)[T.3]  C(prestige)[T.4]  gre   gpa\n",
       "0          1                 0                 1                 0  380  3.61\n",
       "1          1                 0                 1                 0  660  3.67\n",
       "2          1                 0                 0                 0  800  4.00\n",
       "3          1                 0                 0                 1  640  3.19\n",
       "4          1                 0                 0                 1  520  2.93"
      ]
     },
     "execution_count": 13,
     "metadata": {},
     "output_type": "execute_result"
    }
   ],
   "source": [
    "X.head()"
   ]
  },
  {
   "cell_type": "markdown",
   "metadata": {
    "slideshow": {
     "slide_type": "subslide"
    }
   },
   "source": [
    "### statsmodel\n",
    "\n",
    "아래 표에서 절편과 prestige, gre, gpa에 대한 가중치가 출력되고 있다. 모두 유의적인 확률을 보이고 있다."
   ]
  },
  {
   "cell_type": "code",
   "execution_count": 22,
   "metadata": {
    "collapsed": false,
    "scrolled": false,
    "slideshow": {
     "slide_type": "subslide"
    }
   },
   "outputs": [
    {
     "name": "stdout",
     "output_type": "stream",
     "text": [
      "Optimization terminated successfully.\n",
      "         Current function value: 0.573147\n",
      "         Iterations 6\n",
      "                           Logit Regression Results                           \n",
      "==============================================================================\n",
      "Dep. Variable:                  admit   No. Observations:                  400\n",
      "Model:                          Logit   Df Residuals:                      394\n",
      "Method:                           MLE   Df Model:                            5\n",
      "Date:                Sun, 24 Nov 2019   Pseudo R-squ.:                 0.08292\n",
      "Time:                        18:16:51   Log-Likelihood:                -229.26\n",
      "converged:                       True   LL-Null:                       -249.99\n",
      "                                        LLR p-value:                 7.578e-08\n",
      "====================================================================================\n",
      "                       coef    std err          z      P>|z|      [95.0% Conf. Int.]\n",
      "------------------------------------------------------------------------------------\n",
      "Intercept           -3.9900      1.140     -3.500      0.000        -6.224    -1.756\n",
      "C(prestige)[T.2]    -0.6754      0.316     -2.134      0.033        -1.296    -0.055\n",
      "C(prestige)[T.3]    -1.3402      0.345     -3.881      0.000        -2.017    -0.663\n",
      "C(prestige)[T.4]    -1.5515      0.418     -3.713      0.000        -2.370    -0.733\n",
      "gre                  0.0023      0.001      2.070      0.038         0.000     0.004\n",
      "gpa                  0.8040      0.332      2.423      0.015         0.154     1.454\n",
      "====================================================================================\n"
     ]
    }
   ],
   "source": [
    "import statsmodels.discrete.discrete_model as sm\n",
    "\n",
    "logit = sm.Logit(y,X)\n",
    "result = logit.fit()\n",
    "print result.summary()"
   ]
  },
  {
   "cell_type": "markdown",
   "metadata": {
    "collapsed": true,
    "slideshow": {
     "slide_type": "subslide"
    }
   },
   "source": [
    "weights와 conf_int 신뢰구간을 출력해보자."
   ]
  },
  {
   "cell_type": "code",
   "execution_count": 23,
   "metadata": {
    "collapsed": false,
    "slideshow": {
     "slide_type": "-"
    }
   },
   "outputs": [
    {
     "name": "stdout",
     "output_type": "stream",
     "text": [
      "Intercept          -3.989979\n",
      "C(prestige)[T.2]   -0.675443\n",
      "C(prestige)[T.3]   -1.340204\n",
      "C(prestige)[T.4]   -1.551464\n",
      "gre                 0.002264\n",
      "gpa                 0.804038\n",
      "dtype: float64\n"
     ]
    }
   ],
   "source": [
    "print result.params"
   ]
  },
  {
   "cell_type": "code",
   "execution_count": 26,
   "metadata": {
    "collapsed": false
   },
   "outputs": [
    {
     "name": "stdout",
     "output_type": "stream",
     "text": [
      "                         0         1\n",
      "Intercept        -6.224242 -1.755716\n",
      "C(prestige)[T.2] -1.295751 -0.055135\n",
      "C(prestige)[T.3] -2.016992 -0.663416\n",
      "C(prestige)[T.4] -2.370399 -0.732529\n",
      "gre               0.000120  0.004409\n",
      "gpa               0.153684  1.454391\n"
     ]
    }
   ],
   "source": [
    "print result.conf_int()"
   ]
  },
  {
   "cell_type": "markdown",
   "metadata": {
    "slideshow": {
     "slide_type": "subslide"
    }
   },
   "source": [
    "### sklearn\n",
    "\n",
    "sklearn 모듈로 해보자.\n",
    "순서대로 절편과 prestige, gre, gpa에 대한 가중치가 출력되고 있으며 statsmodel의 결과와 비교해 보자.\n",
    "statsmodel과 그 결과에 약간의 차이가 있다."
   ]
  },
  {
   "cell_type": "code",
   "execution_count": 15,
   "metadata": {
    "collapsed": false
   },
   "outputs": [
    {
     "name": "stderr",
     "output_type": "stream",
     "text": [
      "/usr/lib/python2.7/dist-packages/sklearn/utils/validation.py:515: DataConversionWarning: A column-vector y was passed when a 1d array was expected. Please change the shape of y to (n_samples, ), for example using ravel().\n",
      "  y = column_or_1d(y, warn=True)\n"
     ]
    },
    {
     "data": {
      "text/plain": [
       "array([[ -3.97765654e+00,  -6.74567838e-01,  -1.33708167e+00,\n",
       "         -1.55029740e+00,   2.25513643e-03,   8.01765501e-01]])"
      ]
     },
     "execution_count": 15,
     "metadata": {},
     "output_type": "execute_result"
    }
   ],
   "source": [
    "from sklearn.linear_model import LogisticRegression\n",
    "model = LogisticRegression(fit_intercept = False, C = 1e9)\n",
    "mdl = model.fit(X, y)\n",
    "model.coef_"
   ]
  },
  {
   "cell_type": "markdown",
   "metadata": {
    "slideshow": {
     "slide_type": "slide"
    }
   },
   "source": [
    "## 문제: statsmodels datasets를 이용한 간단한 OLS 예제\n",
    "\n",
    "* ordinary least square"
   ]
  },
  {
   "cell_type": "code",
   "execution_count": 27,
   "metadata": {
    "collapsed": false
   },
   "outputs": [
    {
     "name": "stdout",
     "output_type": "stream",
     "text": [
      "['GNPDEFL', 'GNP', 'UNEMP', 'ARMED', 'POP', 'YEAR']\n",
      "TOTEMP\n",
      "<class 'statsmodels.datasets.utils.Dataset'>\n",
      "<class 'pandas.core.frame.DataFrame'>\n"
     ]
    },
    {
     "name": "stderr",
     "output_type": "stream",
     "text": [
      "/usr/lib/python2.7/dist-packages/scipy/stats/stats.py:1557: UserWarning: kurtosistest only valid for n>=20 ... continuing anyway, n=16\n",
      "  \"anyway, n=%i\" % int(n))\n"
     ]
    },
    {
     "data": {
      "text/html": [
       "<table class=\"simpletable\">\n",
       "<caption>OLS Regression Results</caption>\n",
       "<tr>\n",
       "  <th>Dep. Variable:</th>         <td>TOTEMP</td>      <th>  R-squared:         </th> <td>   1.000</td> \n",
       "</tr>\n",
       "<tr>\n",
       "  <th>Model:</th>                   <td>OLS</td>       <th>  Adj. R-squared:    </th> <td>   1.000</td> \n",
       "</tr>\n",
       "<tr>\n",
       "  <th>Method:</th>             <td>Least Squares</td>  <th>  F-statistic:       </th> <td>5.052e+04</td>\n",
       "</tr>\n",
       "<tr>\n",
       "  <th>Date:</th>             <td>Sun, 24 Nov 2019</td> <th>  Prob (F-statistic):</th> <td>8.20e-22</td> \n",
       "</tr>\n",
       "<tr>\n",
       "  <th>Time:</th>                 <td>18:19:39</td>     <th>  Log-Likelihood:    </th> <td> -117.56</td> \n",
       "</tr>\n",
       "<tr>\n",
       "  <th>No. Observations:</th>      <td>    16</td>      <th>  AIC:               </th> <td>   247.1</td> \n",
       "</tr>\n",
       "<tr>\n",
       "  <th>Df Residuals:</th>          <td>    10</td>      <th>  BIC:               </th> <td>   251.8</td> \n",
       "</tr>\n",
       "<tr>\n",
       "  <th>Df Model:</th>              <td>     6</td>      <th>                     </th>     <td> </td>    \n",
       "</tr>\n",
       "<tr>\n",
       "  <th>Covariance Type:</th>      <td>nonrobust</td>    <th>                     </th>     <td> </td>    \n",
       "</tr>\n",
       "</table>\n",
       "<table class=\"simpletable\">\n",
       "<tr>\n",
       "     <td></td>        <th>coef</th>     <th>std err</th>      <th>t</th>      <th>P>|t|</th> <th>[95.0% Conf. Int.]</th> \n",
       "</tr>\n",
       "<tr>\n",
       "  <th>GNPDEFL</th> <td>  -52.9936</td> <td>  129.545</td> <td>   -0.409</td> <td> 0.691</td> <td> -341.638   235.650</td>\n",
       "</tr>\n",
       "<tr>\n",
       "  <th>GNP</th>     <td>    0.0711</td> <td>    0.030</td> <td>    2.356</td> <td> 0.040</td> <td>    0.004     0.138</td>\n",
       "</tr>\n",
       "<tr>\n",
       "  <th>UNEMP</th>   <td>   -0.4235</td> <td>    0.418</td> <td>   -1.014</td> <td> 0.335</td> <td>   -1.354     0.507</td>\n",
       "</tr>\n",
       "<tr>\n",
       "  <th>ARMED</th>   <td>   -0.5726</td> <td>    0.279</td> <td>   -2.052</td> <td> 0.067</td> <td>   -1.194     0.049</td>\n",
       "</tr>\n",
       "<tr>\n",
       "  <th>POP</th>     <td>   -0.4142</td> <td>    0.321</td> <td>   -1.289</td> <td> 0.226</td> <td>   -1.130     0.302</td>\n",
       "</tr>\n",
       "<tr>\n",
       "  <th>YEAR</th>    <td>   48.4179</td> <td>   17.689</td> <td>    2.737</td> <td> 0.021</td> <td>    9.003    87.832</td>\n",
       "</tr>\n",
       "</table>\n",
       "<table class=\"simpletable\">\n",
       "<tr>\n",
       "  <th>Omnibus:</th>       <td> 1.443</td> <th>  Durbin-Watson:     </th> <td>   1.277</td>\n",
       "</tr>\n",
       "<tr>\n",
       "  <th>Prob(Omnibus):</th> <td> 0.486</td> <th>  Jarque-Bera (JB):  </th> <td>   0.605</td>\n",
       "</tr>\n",
       "<tr>\n",
       "  <th>Skew:</th>          <td> 0.476</td> <th>  Prob(JB):          </th> <td>   0.739</td>\n",
       "</tr>\n",
       "<tr>\n",
       "  <th>Kurtosis:</th>      <td> 3.031</td> <th>  Cond. No.          </th> <td>4.56e+05</td>\n",
       "</tr>\n",
       "</table>"
      ],
      "text/plain": [
       "<class 'statsmodels.iolib.summary.Summary'>\n",
       "\"\"\"\n",
       "                            OLS Regression Results                            \n",
       "==============================================================================\n",
       "Dep. Variable:                 TOTEMP   R-squared:                       1.000\n",
       "Model:                            OLS   Adj. R-squared:                  1.000\n",
       "Method:                 Least Squares   F-statistic:                 5.052e+04\n",
       "Date:                Sun, 24 Nov 2019   Prob (F-statistic):           8.20e-22\n",
       "Time:                        18:19:39   Log-Likelihood:                -117.56\n",
       "No. Observations:                  16   AIC:                             247.1\n",
       "Df Residuals:                      10   BIC:                             251.8\n",
       "Df Model:                           6                                         \n",
       "Covariance Type:            nonrobust                                         \n",
       "==============================================================================\n",
       "                 coef    std err          t      P>|t|      [95.0% Conf. Int.]\n",
       "------------------------------------------------------------------------------\n",
       "GNPDEFL      -52.9936    129.545     -0.409      0.691      -341.638   235.650\n",
       "GNP            0.0711      0.030      2.356      0.040         0.004     0.138\n",
       "UNEMP         -0.4235      0.418     -1.014      0.335        -1.354     0.507\n",
       "ARMED         -0.5726      0.279     -2.052      0.067        -1.194     0.049\n",
       "POP           -0.4142      0.321     -1.289      0.226        -1.130     0.302\n",
       "YEAR          48.4179     17.689      2.737      0.021         9.003    87.832\n",
       "==============================================================================\n",
       "Omnibus:                        1.443   Durbin-Watson:                   1.277\n",
       "Prob(Omnibus):                  0.486   Jarque-Bera (JB):                0.605\n",
       "Skew:                           0.476   Prob(JB):                        0.739\n",
       "Kurtosis:                       3.031   Cond. No.                     4.56e+05\n",
       "==============================================================================\n",
       "\n",
       "Warnings:\n",
       "[1] Standard Errors assume that the covariance matrix of the errors is correctly specified.\n",
       "[2] The condition number is large, 4.56e+05. This might indicate that there are\n",
       "strong multicollinearity or other numerical problems.\n",
       "\"\"\""
      ]
     },
     "execution_count": 27,
     "metadata": {},
     "output_type": "execute_result"
    }
   ],
   "source": [
    "import statsmodels.api as sm\n",
    "data = sm.datasets.longley.load_pandas()\n",
    "# x exog exogenous, y endog endogenous\n",
    "data.exog.head()\n",
    "\n",
    "data.endog.head()\n",
    "\n",
    "\n",
    "print data.exog_name\n",
    "print data.endog_name\n",
    "print type(data)\n",
    "print type(data.data)\n",
    "\n",
    "y, x=data.endog, data.exog\n",
    "res=sm.OLS(y,x).fit()\n",
    "res.summary()"
   ]
  },
  {
   "cell_type": "markdown",
   "metadata": {
    "slideshow": {
     "slide_type": "slide"
    }
   },
   "source": [
    "## 문제: Spark\n",
    "\n",
    "* LogisticRegression은 분류에 사용하고, 2진 (ml) 또는 다분류 (mllib)"
   ]
  },
  {
   "cell_type": "code",
   "execution_count": 40,
   "metadata": {
    "collapsed": true
   },
   "outputs": [],
   "source": [
    "from pyspark.sql import SparkSession\n",
    "spark = SparkSession.builder.appName('ml-bank').getOrCreate()"
   ]
  },
  {
   "cell_type": "markdown",
   "metadata": {
    "slideshow": {
     "slide_type": "subslide"
    }
   },
   "source": [
    "Spark는 url로부터 읽어오는 것은 불가능하므로, pandas read_csv를 이용해서 읽어보자."
   ]
  },
  {
   "cell_type": "code",
   "execution_count": 51,
   "metadata": {
    "collapsed": false,
    "scrolled": true
   },
   "outputs": [
    {
     "name": "stdout",
     "output_type": "stream",
     "text": [
      "root\n",
      " |-- admit: long (nullable = true)\n",
      " |-- gre: long (nullable = true)\n",
      " |-- gpa: double (nullable = true)\n",
      " |-- rank: long (nullable = true)\n",
      "\n"
     ]
    },
    {
     "data": {
      "text/plain": [
       "[Row(admit=0, gre=380, gpa=3.61, rank=3),\n",
       " Row(admit=1, gre=660, gpa=3.67, rank=3),\n",
       " Row(admit=1, gre=800, gpa=4.0, rank=1),\n",
       " Row(admit=1, gre=640, gpa=3.19, rank=4),\n",
       " Row(admit=0, gre=520, gpa=2.93, rank=4)]"
      ]
     },
     "execution_count": 51,
     "metadata": {},
     "output_type": "execute_result"
    }
   ],
   "source": [
    "import pandas as pd\n",
    "df =spark.createDataFrame(pd.read_csv(\"https://stats.idre.ucla.edu/stat/data/binary.csv\"))\n",
    "df.printSchema()\n",
    "df.take(5)"
   ]
  },
  {
   "cell_type": "code",
   "execution_count": 54,
   "metadata": {
    "collapsed": true
   },
   "outputs": [],
   "source": [
    "from pyspark.ml.feature import StringIndexer\n",
    "from pyspark.ml import Pipeline\n",
    "#from pyspark.ml.linalg import Vectors\n",
    "from pyspark.ml.feature import VectorAssembler\n",
    "\n",
    "clsIndexer = StringIndexer(inputCol=\"admit\", outputCol=\"label\")\n",
    "#i1Indexer = StringIndexer(inputCol=\"age\", outputCol=\"i1\")\n",
    "#i2Indexer = StringIndexer(inputCol=\"f1\", outputCol=\"i2\")\n",
    "#i3Indexer = StringIndexer(inputCol=\"f2\", outputCol=\"i3\")\n",
    "i4Indexer = StringIndexer(inputCol=\"rank\", outputCol=\"i4\")\n",
    "va = VectorAssembler(inputCols=[\"gpa\",\"gre\",\"i4\"],outputCol=\"features\")\n",
    "#df3 = va.transform(df2)\n",
    "\n",
    "pipeline = Pipeline(stages=[clsIndexer,i4Indexer,va])\n",
    "# Fit the pipeline to training documents.\n",
    "model = pipeline.fit(df)\n",
    "df2 = model.transform(df)"
   ]
  },
  {
   "cell_type": "code",
   "execution_count": 58,
   "metadata": {
    "collapsed": false
   },
   "outputs": [
    {
     "name": "stdout",
     "output_type": "stream",
     "text": [
      "+-----+---+----+----+-----+---+----------------+\n",
      "|admit|gre| gpa|rank|label| i4|        features|\n",
      "+-----+---+----+----+-----+---+----------------+\n",
      "|    0|380|3.61|   3|  0.0|1.0|[3.61,380.0,1.0]|\n",
      "|    1|660|3.67|   3|  1.0|1.0|[3.67,660.0,1.0]|\n",
      "|    1|800| 4.0|   1|  1.0|3.0| [4.0,800.0,3.0]|\n",
      "|    1|640|3.19|   4|  1.0|2.0|[3.19,640.0,2.0]|\n",
      "|    0|520|2.93|   4|  0.0|2.0|[2.93,520.0,2.0]|\n",
      "|    1|760| 3.0|   2|  1.0|0.0| [3.0,760.0,0.0]|\n",
      "|    1|560|2.98|   1|  1.0|3.0|[2.98,560.0,3.0]|\n",
      "|    0|400|3.08|   2|  0.0|0.0|[3.08,400.0,0.0]|\n",
      "|    1|540|3.39|   3|  1.0|1.0|[3.39,540.0,1.0]|\n",
      "|    0|700|3.92|   2|  0.0|0.0|[3.92,700.0,0.0]|\n",
      "|    0|800| 4.0|   4|  0.0|2.0| [4.0,800.0,2.0]|\n",
      "|    0|440|3.22|   1|  0.0|3.0|[3.22,440.0,3.0]|\n",
      "|    1|760| 4.0|   1|  1.0|3.0| [4.0,760.0,3.0]|\n",
      "|    0|700|3.08|   2|  0.0|0.0|[3.08,700.0,0.0]|\n",
      "|    1|700| 4.0|   1|  1.0|3.0| [4.0,700.0,3.0]|\n",
      "|    0|480|3.44|   3|  0.0|1.0|[3.44,480.0,1.0]|\n",
      "|    0|780|3.87|   4|  0.0|2.0|[3.87,780.0,2.0]|\n",
      "|    0|360|2.56|   3|  0.0|1.0|[2.56,360.0,1.0]|\n",
      "|    0|800|3.75|   2|  0.0|0.0|[3.75,800.0,0.0]|\n",
      "|    1|540|3.81|   1|  1.0|3.0|[3.81,540.0,3.0]|\n",
      "+-----+---+----+----+-----+---+----------------+\n",
      "only showing top 20 rows\n",
      "\n"
     ]
    }
   ],
   "source": [
    "df2.show()"
   ]
  },
  {
   "cell_type": "code",
   "execution_count": 56,
   "metadata": {
    "collapsed": true
   },
   "outputs": [],
   "source": [
    "from pyspark.ml.classification import LogisticRegression\n",
    "#LogisticRegression(maxIter=10, regParam=0.01)\n",
    "lr = LogisticRegression(featuresCol = 'features', labelCol = 'label', maxIter=10)\n",
    "lrModel = lr.fit(df2)"
   ]
  },
  {
   "cell_type": "code",
   "execution_count": 57,
   "metadata": {
    "collapsed": false,
    "scrolled": false
   },
   "outputs": [
    {
     "name": "stdout",
     "output_type": "stream",
     "text": [
      "[0.738759064925,0.0026720018611,0.110415097642]\n",
      "-5.00658129367\n"
     ]
    }
   ],
   "source": [
    "print \"* summary: \", lrModel.summary\n",
    "print lrModel.coefficients\n",
    "print lrModel.intercept"
   ]
  },
  {
   "cell_type": "code",
   "execution_count": null,
   "metadata": {
    "collapsed": true
   },
   "outputs": [],
   "source": []
  },
  {
   "cell_type": "code",
   "execution_count": null,
   "metadata": {
    "collapsed": true
   },
   "outputs": [],
   "source": []
  },
  {
   "cell_type": "markdown",
   "metadata": {
    "slideshow": {
     "slide_type": "subslide"
    }
   },
   "source": [
    "20190826\n",
    "#### pyspark.mllib.classification.LogisticRegression\n",
    "\n",
    "* mllib는 최적화 방식에 따라 모델을 지원한다.\n",
    "    * Stochastic gradient descent (SGD)\n",
    "    * LBFGS Limited-memory BFGS\n",
    "* mllib는 다항분류가 가능하다.\n",
    "* 주의: map()은 lazy evaluation이고, 사용되는 시점에시 실제 변환이 발생한다. 따라서 Vectors 클래스가 필요하다."
   ]
  },
  {
   "cell_type": "code",
   "execution_count": null,
   "metadata": {
    "collapsed": true
   },
   "outputs": [],
   "source": [
    "from pyspark.mllib.classification import LogisticRegressionWithSGD\n",
    "lrm = LogisticRegressionWithSGD.train(trainRdd, iterations=10)"
   ]
  },
  {
   "cell_type": "code",
   "execution_count": null,
   "metadata": {
    "collapsed": true
   },
   "outputs": [],
   "source": []
  },
  {
   "cell_type": "code",
   "execution_count": null,
   "metadata": {
    "collapsed": true
   },
   "outputs": [],
   "source": []
  },
  {
   "cell_type": "markdown",
   "metadata": {
    "collapsed": true,
    "slideshow": {
     "slide_type": "subslide"
    }
   },
   "source": [
    "* 아래는 Decsion Tree의 Young False 이런 데이터의 밑에 붙어 있던거 20190826MON1700"
   ]
  },
  {
   "cell_type": "code",
   "execution_count": null,
   "metadata": {
    "collapsed": true
   },
   "outputs": [],
   "source": [
    "from pyspark.mllib.linalg import Vectors\n",
    "from pyspark.mllib.classification import LogisticRegressionWithLBFGS\n",
    "lrm = LogisticRegressionWithLBFGS.train(trainRdd, iterations=10)"
   ]
  },
  {
   "cell_type": "code",
   "execution_count": null,
   "metadata": {
    "collapsed": true
   },
   "outputs": [],
   "source": [
    "* 예측\n",
    "    * 모델의 predict() 함수를 사용한다.\n",
    "\n",
    "lrm.predict([1.0,0.0,1.1,1.2])\n",
    "\n",
    "labelsAndPreds=trainRdd.map(lambda p: (p.label, lrm.predict(p.features)))\n",
    "\n",
    "labelsAndPreds.collect()\n",
    "\n",
    "* 오류\n",
    "    * 예측결과가 맞지 않는 비율을 계산\n",
    "\n",
    "trainErr = labelsAndPreds\\\n",
    "    .filter(lambda(v,p): v != p).count() / float(trainRdd.count())\n",
    "print(\"Training Error = \" + str(trainErr))\n",
    "\n",
    "* 모델을 저장할 수 있다.\n",
    "    * 디렉토리를 지정하면 메타데이터를 저장한다.\n",
    "\n",
    "model.save(sc, \"myModelPath\")\n",
    "sameModel = LogisticRegressionModel.load(sc, \"myModelPath\")"
   ]
  },
  {
   "cell_type": "markdown",
   "metadata": {
    "slideshow": {
     "slide_type": "slide"
    }
   },
   "source": [
    "## 문제 성별"
   ]
  },
  {
   "cell_type": "markdown",
   "metadata": {},
   "source": [
    "### 데이터 읽기\n",
    "\n",
    "237명의 University of Adelaide 통계과목 수강생의 설문 응답\n",
    "* Sex: 성별 (\"Male\" \"Female\")\n",
    "* Wr.Hnd span: 글쓰는 손의 거리 (펼쳤을 때 엄지끝에서 약지 끝까지의 거리, 센티미티)\n",
    "* NW.Hnd span: 글쓰지 않는 손의 거리\n",
    "* W.Hnd: 글쓰는 손 (\"Left\" \"Right\".)\n",
    "* Fold: 팔짱을 끼었을 경우 위에 있는 팔 (\"R on L\", \"L on R\", \"Neither\")\n",
    "* Pulse: 맥박 (beats per minute).\n",
    "* Clap: 손뼉을 칠 때 위에 있는 손 (\"Right\", \"Left\", \"Neither\".)\n",
    "* Exer: 운동 빈도 (\"Freq\" (frequently), \"Some\", \"None\".)\n",
    "* Smoke: 흡연 정도 (\"Heavy\", \"Regul\" (regularly), \"Occas\" (occasionally),\"Never\".)\n",
    "* Height: 키 (센티미터)\n",
    "* M.I: 키를 응답한 방법 (영국식 feet/inches 또는 미터법 Metric: centimetres/metres)\n",
    "* Age: 나이 (년)"
   ]
  },
  {
   "cell_type": "code",
   "execution_count": 13,
   "metadata": {
    "collapsed": true
   },
   "outputs": [],
   "source": [
    "#taken from pystat from this below\n",
    "import statsmodels.api as sm\n",
    "mass=sm.datasets.get_rdataset(\"survey\",\"MASS\")"
   ]
  },
  {
   "cell_type": "code",
   "execution_count": 14,
   "metadata": {
    "collapsed": false
   },
   "outputs": [
    {
     "data": {
      "text/html": [
       "<div style=\"max-height:1000px;max-width:1500px;overflow:auto;\">\n",
       "<table border=\"1\" class=\"dataframe\">\n",
       "  <thead>\n",
       "    <tr style=\"text-align: right;\">\n",
       "      <th></th>\n",
       "      <th>Sex</th>\n",
       "      <th>Wr.Hnd</th>\n",
       "      <th>NW.Hnd</th>\n",
       "      <th>W.Hnd</th>\n",
       "      <th>Fold</th>\n",
       "      <th>Pulse</th>\n",
       "      <th>Clap</th>\n",
       "      <th>Exer</th>\n",
       "      <th>Smoke</th>\n",
       "      <th>Height</th>\n",
       "      <th>M.I</th>\n",
       "      <th>Age</th>\n",
       "    </tr>\n",
       "  </thead>\n",
       "  <tbody>\n",
       "    <tr>\n",
       "      <th>0</th>\n",
       "      <td>Female</td>\n",
       "      <td>18.5</td>\n",
       "      <td>18.0</td>\n",
       "      <td>Right</td>\n",
       "      <td>R on L</td>\n",
       "      <td>92</td>\n",
       "      <td>Left</td>\n",
       "      <td>Some</td>\n",
       "      <td>Never</td>\n",
       "      <td>173.0</td>\n",
       "      <td>Metric</td>\n",
       "      <td>18.250</td>\n",
       "    </tr>\n",
       "    <tr>\n",
       "      <th>1</th>\n",
       "      <td>Male</td>\n",
       "      <td>19.5</td>\n",
       "      <td>20.5</td>\n",
       "      <td>Left</td>\n",
       "      <td>R on L</td>\n",
       "      <td>104</td>\n",
       "      <td>Left</td>\n",
       "      <td>None</td>\n",
       "      <td>Regul</td>\n",
       "      <td>177.8</td>\n",
       "      <td>Imperial</td>\n",
       "      <td>17.583</td>\n",
       "    </tr>\n",
       "    <tr>\n",
       "      <th>2</th>\n",
       "      <td>Male</td>\n",
       "      <td>18.0</td>\n",
       "      <td>13.3</td>\n",
       "      <td>Right</td>\n",
       "      <td>L on R</td>\n",
       "      <td>87</td>\n",
       "      <td>Neither</td>\n",
       "      <td>None</td>\n",
       "      <td>Occas</td>\n",
       "      <td>NaN</td>\n",
       "      <td>NaN</td>\n",
       "      <td>16.917</td>\n",
       "    </tr>\n",
       "    <tr>\n",
       "      <th>3</th>\n",
       "      <td>Male</td>\n",
       "      <td>18.8</td>\n",
       "      <td>18.9</td>\n",
       "      <td>Right</td>\n",
       "      <td>R on L</td>\n",
       "      <td>NaN</td>\n",
       "      <td>Neither</td>\n",
       "      <td>None</td>\n",
       "      <td>Never</td>\n",
       "      <td>160.0</td>\n",
       "      <td>Metric</td>\n",
       "      <td>20.333</td>\n",
       "    </tr>\n",
       "    <tr>\n",
       "      <th>4</th>\n",
       "      <td>Male</td>\n",
       "      <td>20.0</td>\n",
       "      <td>20.0</td>\n",
       "      <td>Right</td>\n",
       "      <td>Neither</td>\n",
       "      <td>35</td>\n",
       "      <td>Right</td>\n",
       "      <td>Some</td>\n",
       "      <td>Never</td>\n",
       "      <td>165.0</td>\n",
       "      <td>Metric</td>\n",
       "      <td>23.667</td>\n",
       "    </tr>\n",
       "  </tbody>\n",
       "</table>\n",
       "</div>"
      ],
      "text/plain": [
       "      Sex  Wr.Hnd  NW.Hnd  W.Hnd     Fold  Pulse     Clap  Exer  Smoke  \\\n",
       "0  Female    18.5    18.0  Right   R on L     92     Left  Some  Never   \n",
       "1    Male    19.5    20.5   Left   R on L    104     Left  None  Regul   \n",
       "2    Male    18.0    13.3  Right   L on R     87  Neither  None  Occas   \n",
       "3    Male    18.8    18.9  Right   R on L    NaN  Neither  None  Never   \n",
       "4    Male    20.0    20.0  Right  Neither     35    Right  Some  Never   \n",
       "\n",
       "   Height       M.I     Age  \n",
       "0   173.0    Metric  18.250  \n",
       "1   177.8  Imperial  17.583  \n",
       "2     NaN       NaN  16.917  \n",
       "3   160.0    Metric  20.333  \n",
       "4   165.0    Metric  23.667  "
      ]
     },
     "execution_count": 14,
     "metadata": {},
     "output_type": "execute_result"
    }
   ],
   "source": [
    "mass.data.head()"
   ]
  },
  {
   "cell_type": "code",
   "execution_count": 15,
   "metadata": {
    "collapsed": false
   },
   "outputs": [
    {
     "data": {
      "text/plain": [
       "pandas.core.frame.DataFrame"
      ]
     },
     "execution_count": 15,
     "metadata": {},
     "output_type": "execute_result"
    }
   ],
   "source": [
    "type(mass.data)"
   ]
  },
  {
   "cell_type": "markdown",
   "metadata": {
    "slideshow": {
     "slide_type": "subslide"
    }
   },
   "source": [
    "### 컬럼명"
   ]
  },
  {
   "cell_type": "code",
   "execution_count": 16,
   "metadata": {
    "collapsed": false
   },
   "outputs": [
    {
     "data": {
      "text/plain": [
       "Index([u'Sex', u'Wr.Hnd', u'NW.Hnd', u'W.Hnd', u'Fold', u'Pulse', u'Clap',\n",
       "       u'Exer', u'Smoke', u'Height', u'M.I', u'Age'],\n",
       "      dtype='object')"
      ]
     },
     "execution_count": 16,
     "metadata": {},
     "output_type": "execute_result"
    }
   ],
   "source": [
    "mass.data.columns"
   ]
  },
  {
   "cell_type": "code",
   "execution_count": 17,
   "metadata": {
    "collapsed": true
   },
   "outputs": [],
   "source": [
    "mass.data.columns=['sex','wr','nw','w','fold','pulse','clap','exer','smoke','height','mi','age']"
   ]
  },
  {
   "cell_type": "code",
   "execution_count": 18,
   "metadata": {
    "collapsed": false
   },
   "outputs": [
    {
     "data": {
      "text/plain": [
       "Index([u'sex', u'wr', u'nw', u'w', u'fold', u'pulse', u'clap', u'exer',\n",
       "       u'smoke', u'height', u'mi', u'age'],\n",
       "      dtype='object')"
      ]
     },
     "execution_count": 18,
     "metadata": {},
     "output_type": "execute_result"
    }
   ],
   "source": [
    "mass.data.columns"
   ]
  },
  {
   "cell_type": "markdown",
   "metadata": {
    "slideshow": {
     "slide_type": "subslide"
    }
   },
   "source": [
    "### 종속변수\n",
    "\n",
    "종속변수 'Sex'에 대해 살펴보자"
   ]
  },
  {
   "cell_type": "code",
   "execution_count": 19,
   "metadata": {
    "collapsed": false
   },
   "outputs": [
    {
     "data": {
      "text/html": [
       "<div style=\"max-height:1000px;max-width:1500px;overflow:auto;\">\n",
       "<table border=\"1\" class=\"dataframe\">\n",
       "  <thead>\n",
       "    <tr style=\"text-align: right;\">\n",
       "      <th></th>\n",
       "      <th>wr</th>\n",
       "      <th>nw</th>\n",
       "      <th>pulse</th>\n",
       "      <th>height</th>\n",
       "      <th>age</th>\n",
       "    </tr>\n",
       "    <tr>\n",
       "      <th>sex</th>\n",
       "      <th></th>\n",
       "      <th></th>\n",
       "      <th></th>\n",
       "      <th></th>\n",
       "      <th></th>\n",
       "    </tr>\n",
       "  </thead>\n",
       "  <tbody>\n",
       "    <tr>\n",
       "      <th>Female</th>\n",
       "      <td>17.595763</td>\n",
       "      <td>17.45678</td>\n",
       "      <td>75.126316</td>\n",
       "      <td>165.686667</td>\n",
       "      <td>20.407534</td>\n",
       "    </tr>\n",
       "    <tr>\n",
       "      <th>Male</th>\n",
       "      <td>19.741880</td>\n",
       "      <td>19.71453</td>\n",
       "      <td>73.197917</td>\n",
       "      <td>178.826038</td>\n",
       "      <td>20.331958</td>\n",
       "    </tr>\n",
       "  </tbody>\n",
       "</table>\n",
       "</div>"
      ],
      "text/plain": [
       "               wr        nw      pulse      height        age\n",
       "sex                                                          \n",
       "Female  17.595763  17.45678  75.126316  165.686667  20.407534\n",
       "Male    19.741880  19.71453  73.197917  178.826038  20.331958"
      ]
     },
     "execution_count": 19,
     "metadata": {},
     "output_type": "execute_result"
    }
   ],
   "source": [
    "mass.data.groupby('sex').mean()"
   ]
  },
  {
   "cell_type": "code",
   "execution_count": 20,
   "metadata": {
    "collapsed": false
   },
   "outputs": [
    {
     "data": {
      "text/html": [
       "<div style=\"max-height:1000px;max-width:1500px;overflow:auto;\">\n",
       "<table border=\"1\" class=\"dataframe\">\n",
       "  <thead>\n",
       "    <tr style=\"text-align: right;\">\n",
       "      <th></th>\n",
       "      <th>wr</th>\n",
       "      <th>nw</th>\n",
       "      <th>w</th>\n",
       "      <th>fold</th>\n",
       "      <th>pulse</th>\n",
       "      <th>clap</th>\n",
       "      <th>exer</th>\n",
       "      <th>smoke</th>\n",
       "      <th>height</th>\n",
       "      <th>mi</th>\n",
       "      <th>age</th>\n",
       "    </tr>\n",
       "    <tr>\n",
       "      <th>sex</th>\n",
       "      <th></th>\n",
       "      <th></th>\n",
       "      <th></th>\n",
       "      <th></th>\n",
       "      <th></th>\n",
       "      <th></th>\n",
       "      <th></th>\n",
       "      <th></th>\n",
       "      <th></th>\n",
       "      <th></th>\n",
       "      <th></th>\n",
       "    </tr>\n",
       "  </thead>\n",
       "  <tbody>\n",
       "    <tr>\n",
       "      <th>Female</th>\n",
       "      <td>118</td>\n",
       "      <td>118</td>\n",
       "      <td>117</td>\n",
       "      <td>118</td>\n",
       "      <td>95</td>\n",
       "      <td>118</td>\n",
       "      <td>118</td>\n",
       "      <td>118</td>\n",
       "      <td>102</td>\n",
       "      <td>102</td>\n",
       "      <td>118</td>\n",
       "    </tr>\n",
       "    <tr>\n",
       "      <th>Male</th>\n",
       "      <td>117</td>\n",
       "      <td>117</td>\n",
       "      <td>118</td>\n",
       "      <td>118</td>\n",
       "      <td>96</td>\n",
       "      <td>117</td>\n",
       "      <td>118</td>\n",
       "      <td>117</td>\n",
       "      <td>106</td>\n",
       "      <td>106</td>\n",
       "      <td>118</td>\n",
       "    </tr>\n",
       "  </tbody>\n",
       "</table>\n",
       "</div>"
      ],
      "text/plain": [
       "         wr   nw    w  fold  pulse  clap  exer  smoke  height   mi  age\n",
       "sex                                                                    \n",
       "Female  118  118  117   118     95   118   118    118     102  102  118\n",
       "Male    117  117  118   118     96   117   118    117     106  106  118"
      ]
     },
     "execution_count": 20,
     "metadata": {},
     "output_type": "execute_result"
    }
   ],
   "source": [
    "mass.data.groupby('sex').count()"
   ]
  },
  {
   "cell_type": "code",
   "execution_count": 21,
   "metadata": {
    "collapsed": false
   },
   "outputs": [
    {
     "name": "stderr",
     "output_type": "stream",
     "text": [
      "/usr/local/lib/python2.7/dist-packages/seaborn/linearmodels.py:1285: UserWarning: The `corrplot` function has been deprecated in favor of `heatmap` and will be removed in a forthcoming release. Please update your code.\n",
      "  warnings.warn((\"The `corrplot` function has been deprecated in favor \"\n",
      "/usr/local/lib/python2.7/dist-packages/numpy/core/_methods.py:59: RuntimeWarning: Mean of empty slice.\n",
      "  warnings.warn(\"Mean of empty slice.\", RuntimeWarning)\n",
      "/usr/local/lib/python2.7/dist-packages/seaborn/linearmodels.py:1351: UserWarning: The `symmatplot` function has been deprecated in favor of `heatmap` and will be removed in a forthcoming release. Please update your code.\n",
      "  warnings.warn((\"The `symmatplot` function has been deprecated in favor \"\n"
     ]
    },
    {
     "data": {
      "image/png": "[encoded data removed]",
      "text/plain": [
       "<matplotlib.figure.Figure at 0x7f85f5d8e110>"
      ]
     },
     "metadata": {},
     "output_type": "display_data"
    }
   ],
   "source": [
    "%matplotlib inline\n",
    "\n",
    "import seaborn as sns\n",
    "import matplotlib.pyplot as plt\n",
    "sns.corrplot(mass.data)\n",
    "plt.show()"
   ]
  },
  {
   "cell_type": "markdown",
   "metadata": {
    "slideshow": {
     "slide_type": "subslide"
    }
   },
   "source": [
    "### 로지스틱 모델"
   ]
  },
  {
   "cell_type": "code",
   "execution_count": 22,
   "metadata": {
    "collapsed": true
   },
   "outputs": [],
   "source": [
    "formula='sex ~ wr+nw+w+pulse+height+age'\n",
    "import statsmodels.formula.api as smf\n",
    "model=smf.glm(formula,data=mass.data,family=sm.families.Binomial()).fit()"
   ]
  },
  {
   "cell_type": "code",
   "execution_count": 23,
   "metadata": {
    "collapsed": false
   },
   "outputs": [
    {
     "name": "stdout",
     "output_type": "stream",
     "text": [
      "                      Generalized Linear Model Regression Results                       \n",
      "========================================================================================\n",
      "Dep. Variable:     ['sex[Female]', 'sex[Male]']   No. Observations:                  168\n",
      "Model:                                      GLM   Df Residuals:                      161\n",
      "Model Family:                          Binomial   Df Model:                            6\n",
      "Link Function:                            logit   Scale:                             1.0\n",
      "Method:                                    IRLS   Log-Likelihood:                -52.236\n",
      "Date:                          Mon, 18 Nov 2019   Deviance:                       104.47\n",
      "Time:                                  16:43:37   Pearson chi2:                     646.\n",
      "No. Iterations:                               8                                         \n",
      "==============================================================================\n",
      "                 coef    std err          z      P>|z|      [95.0% Conf. Int.]\n",
      "------------------------------------------------------------------------------\n",
      "Intercept     49.5650      8.052      6.156      0.000        33.783    65.347\n",
      "w[T.Right]     0.0766      1.112      0.069      0.945        -2.104     2.257\n",
      "wr             0.7649      0.591      1.295      0.195        -0.393     1.923\n",
      "nw            -1.5121      0.619     -2.442      0.015        -2.726    -0.298\n",
      "pulse          0.0100      0.022      0.461      0.645        -0.033     0.053\n",
      "height        -0.2123      0.045     -4.746      0.000        -0.300    -0.125\n",
      "age        -6.183e-05      0.044     -0.001      0.999        -0.087     0.087\n",
      "==============================================================================\n"
     ]
    }
   ],
   "source": [
    "print (model.summary())"
   ]
  },
  {
   "cell_type": "code",
   "execution_count": 24,
   "metadata": {
    "collapsed": false
   },
   "outputs": [
    {
     "name": "stdout",
     "output_type": "stream",
     "text": [
      "                      Generalized Linear Model Regression Results                       \n",
      "========================================================================================\n",
      "Dep. Variable:     ['sex[Female]', 'sex[Male]']   No. Observations:                  207\n",
      "Model:                                      GLM   Df Residuals:                      204\n",
      "Model Family:                          Binomial   Df Model:                            2\n",
      "Link Function:                            logit   Scale:                             1.0\n",
      "Method:                                    IRLS   Log-Likelihood:                -67.329\n",
      "Date:                          Mon, 18 Nov 2019   Deviance:                       134.66\n",
      "Time:                                  16:44:10   Pearson chi2:                     468.\n",
      "No. Iterations:                               8                                         \n",
      "==============================================================================\n",
      "                 coef    std err          z      P>|z|      [95.0% Conf. Int.]\n",
      "------------------------------------------------------------------------------\n",
      "Intercept     49.1014      6.919      7.097      0.000        35.540    62.662\n",
      "nw            -0.8189      0.188     -4.358      0.000        -1.187    -0.451\n",
      "height        -0.1977      0.038     -5.241      0.000        -0.272    -0.124\n",
      "==============================================================================\n"
     ]
    }
   ],
   "source": [
    "formula2='sex ~ nw+height'\n",
    "model2=smf.glm(formula2,data=mass.data,family=sm.families.Binomial()).fit()\n",
    "print (model2.summary())"
   ]
  },
  {
   "cell_type": "code",
   "execution_count": 25,
   "metadata": {
    "collapsed": false
   },
   "outputs": [
    {
     "name": "stdout",
     "output_type": "stream",
     "text": [
      "                            OLS Regression Results                            \n",
      "==============================================================================\n",
      "Dep. Variable:                 height   R-squared:                       0.445\n",
      "Model:                            OLS   Adj. R-squared:                  0.442\n",
      "Method:                 Least Squares   F-statistic:                     165.1\n",
      "Date:                Mon, 18 Nov 2019   Prob (F-statistic):           3.86e-28\n",
      "Time:                        16:44:31   Log-Likelihood:                -709.66\n",
      "No. Observations:                 208   AIC:                             1423.\n",
      "Df Residuals:                     206   BIC:                             1430.\n",
      "Df Model:                           1                                         \n",
      "Covariance Type:            nonrobust                                         \n",
      "===============================================================================\n",
      "                  coef    std err          t      P>|t|      [95.0% Conf. Int.]\n",
      "-------------------------------------------------------------------------------\n",
      "Intercept     165.6867      0.730    226.978      0.000       164.248   167.126\n",
      "sex[T.Male]    13.1394      1.023     12.850      0.000        11.123    15.155\n",
      "==============================================================================\n",
      "Omnibus:                        2.703   Durbin-Watson:                   1.695\n",
      "Prob(Omnibus):                  0.259   Jarque-Bera (JB):                2.365\n",
      "Skew:                          -0.250   Prob(JB):                        0.306\n",
      "Kurtosis:                       3.153   Cond. No.                         2.64\n",
      "==============================================================================\n",
      "\n",
      "Warnings:\n",
      "[1] Standard Errors assume that the covariance matrix of the errors is correctly specified.\n"
     ]
    }
   ],
   "source": [
    "formula3='height ~ 1+sex'\n",
    "model3=smf.ols(formula3,data=mass.data).fit()\n",
    "print model3.summary()"
   ]
  },
  {
   "cell_type": "markdown",
   "metadata": {
    "slideshow": {
     "slide_type": "subslide"
    }
   },
   "source": [
    "$$ y=\\beta_0 + \\beta_1 \\times x $$\n",
    "\n",
    "$$ \\hat{y} = \\hat{\\beta_0} + \\hat{\\beta_1} \\times x $$"
   ]
  },
  {
   "cell_type": "markdown",
   "metadata": {
    "slideshow": {
     "slide_type": "subslide"
    }
   },
   "source": [
    "* regression 결과에서 Intercept(165.686) + Male(13.139)는 평균과 동일\n",
    "* regression과 anova는 같은 결과를 보여줌."
   ]
  },
  {
   "cell_type": "code",
   "execution_count": 26,
   "metadata": {
    "collapsed": true
   },
   "outputs": [],
   "source": [
    "anova_model=smf.ols(formula3,data=mass.data).fit()"
   ]
  },
  {
   "cell_type": "code",
   "execution_count": 27,
   "metadata": {
    "collapsed": false
   },
   "outputs": [
    {
     "name": "stdout",
     "output_type": "stream",
     "text": [
      "                            OLS Regression Results                            \n",
      "==============================================================================\n",
      "Dep. Variable:                 height   R-squared:                       0.445\n",
      "Model:                            OLS   Adj. R-squared:                  0.442\n",
      "Method:                 Least Squares   F-statistic:                     165.1\n",
      "Date:                Mon, 18 Nov 2019   Prob (F-statistic):           3.86e-28\n",
      "Time:                        16:45:00   Log-Likelihood:                -709.66\n",
      "No. Observations:                 208   AIC:                             1423.\n",
      "Df Residuals:                     206   BIC:                             1430.\n",
      "Df Model:                           1                                         \n",
      "Covariance Type:            nonrobust                                         \n",
      "===============================================================================\n",
      "                  coef    std err          t      P>|t|      [95.0% Conf. Int.]\n",
      "-------------------------------------------------------------------------------\n",
      "Intercept     165.6867      0.730    226.978      0.000       164.248   167.126\n",
      "sex[T.Male]    13.1394      1.023     12.850      0.000        11.123    15.155\n",
      "==============================================================================\n",
      "Omnibus:                        2.703   Durbin-Watson:                   1.695\n",
      "Prob(Omnibus):                  0.259   Jarque-Bera (JB):                2.365\n",
      "Skew:                          -0.250   Prob(JB):                        0.306\n",
      "Kurtosis:                       3.153   Cond. No.                         2.64\n",
      "==============================================================================\n",
      "\n",
      "Warnings:\n",
      "[1] Standard Errors assume that the covariance matrix of the errors is correctly specified.\n"
     ]
    }
   ],
   "source": [
    "print anova_model.summary()"
   ]
  },
  {
   "cell_type": "code",
   "execution_count": 30,
   "metadata": {
    "collapsed": false
   },
   "outputs": [],
   "source": [
    "from statsmodels.stats.anova import anova_lm\n",
    "from statsmodels.graphics.factorplots import interaction_plot"
   ]
  },
  {
   "cell_type": "code",
   "execution_count": null,
   "metadata": {
    "collapsed": true
   },
   "outputs": [],
   "source": [
    "fig = interaction_plot(data.dose, data.supp, data.len,\n",
    "             colors=['red','blue'], markers=['D','^'], ms=10)"
   ]
  },
  {
   "cell_type": "code",
   "execution_count": 32,
   "metadata": {
    "collapsed": false
   },
   "outputs": [
    {
     "ename": "AttributeError",
     "evalue": "'DataFrame' object has no attribute 'design_info'",
     "output_type": "error",
     "traceback": [
      "\u001b[0;31m---------------------------------------------------------------------------\u001b[0m",
      "\u001b[0;31mAttributeError\u001b[0m                            Traceback (most recent call last)",
      "\u001b[0;32m<ipython-input-32-c0e8c7827846>\u001b[0m in \u001b[0;36m<module>\u001b[0;34m()\u001b[0m\n\u001b[0;32m----> 1\u001b[0;31m \u001b[0manova_lm\u001b[0m\u001b[0;34m(\u001b[0m\u001b[0manova_model\u001b[0m\u001b[0;34m)\u001b[0m\u001b[0;34m\u001b[0m\u001b[0m\n\u001b[0m",
      "\u001b[0;32m/usr/local/lib/python2.7/dist-packages/statsmodels/stats/anova.pyc\u001b[0m in \u001b[0;36manova_lm\u001b[0;34m(*args, **kwargs)\u001b[0m\n\u001b[1;32m    324\u001b[0m     \u001b[0;32mif\u001b[0m \u001b[0mlen\u001b[0m\u001b[0;34m(\u001b[0m\u001b[0margs\u001b[0m\u001b[0;34m)\u001b[0m \u001b[0;34m==\u001b[0m \u001b[0;36m1\u001b[0m\u001b[0;34m:\u001b[0m\u001b[0;34m\u001b[0m\u001b[0m\n\u001b[1;32m    325\u001b[0m         \u001b[0mmodel\u001b[0m \u001b[0;34m=\u001b[0m \u001b[0margs\u001b[0m\u001b[0;34m[\u001b[0m\u001b[0;36m0\u001b[0m\u001b[0;34m]\u001b[0m\u001b[0;34m\u001b[0m\u001b[0m\n\u001b[0;32m--> 326\u001b[0;31m         \u001b[0;32mreturn\u001b[0m \u001b[0manova_single\u001b[0m\u001b[0;34m(\u001b[0m\u001b[0mmodel\u001b[0m\u001b[0;34m,\u001b[0m \u001b[0;34m**\u001b[0m\u001b[0mkwargs\u001b[0m\u001b[0;34m)\u001b[0m\u001b[0;34m\u001b[0m\u001b[0m\n\u001b[0m\u001b[1;32m    327\u001b[0m \u001b[0;34m\u001b[0m\u001b[0m\n\u001b[1;32m    328\u001b[0m     \u001b[0;32mtry\u001b[0m\u001b[0;34m:\u001b[0m\u001b[0;34m\u001b[0m\u001b[0m\n",
      "\u001b[0;32m/usr/local/lib/python2.7/dist-packages/statsmodels/stats/anova.pyc\u001b[0m in \u001b[0;36manova_single\u001b[0;34m(model, **kwargs)\u001b[0m\n\u001b[1;32m     61\u001b[0m \u001b[0;34m\u001b[0m\u001b[0m\n\u001b[1;32m     62\u001b[0m     \u001b[0mresponse_name\u001b[0m \u001b[0;34m=\u001b[0m \u001b[0mmodel\u001b[0m\u001b[0;34m.\u001b[0m\u001b[0mmodel\u001b[0m\u001b[0;34m.\u001b[0m\u001b[0mendog_names\u001b[0m\u001b[0;34m\u001b[0m\u001b[0m\n\u001b[0;32m---> 63\u001b[0;31m     \u001b[0mdesign_info\u001b[0m \u001b[0;34m=\u001b[0m \u001b[0mmodel\u001b[0m\u001b[0;34m.\u001b[0m\u001b[0mmodel\u001b[0m\u001b[0;34m.\u001b[0m\u001b[0mdata\u001b[0m\u001b[0;34m.\u001b[0m\u001b[0morig_exog\u001b[0m\u001b[0;34m.\u001b[0m\u001b[0mdesign_info\u001b[0m\u001b[0;34m\u001b[0m\u001b[0m\n\u001b[0m\u001b[1;32m     64\u001b[0m     \u001b[0mexog_names\u001b[0m \u001b[0;34m=\u001b[0m \u001b[0mmodel\u001b[0m\u001b[0;34m.\u001b[0m\u001b[0mmodel\u001b[0m\u001b[0;34m.\u001b[0m\u001b[0mexog_names\u001b[0m\u001b[0;34m\u001b[0m\u001b[0m\n\u001b[1;32m     65\u001b[0m     \u001b[0;31m# +1 for resids\u001b[0m\u001b[0;34m\u001b[0m\u001b[0;34m\u001b[0m\u001b[0m\n",
      "\u001b[0;32m/usr/local/lib/python2.7/dist-packages/pandas/core/generic.pyc\u001b[0m in \u001b[0;36m__getattr__\u001b[0;34m(self, name)\u001b[0m\n\u001b[1;32m   2081\u001b[0m                 \u001b[0;32mreturn\u001b[0m \u001b[0mself\u001b[0m\u001b[0;34m[\u001b[0m\u001b[0mname\u001b[0m\u001b[0;34m]\u001b[0m\u001b[0;34m\u001b[0m\u001b[0m\n\u001b[1;32m   2082\u001b[0m             raise AttributeError(\"'%s' object has no attribute '%s'\" %\n\u001b[0;32m-> 2083\u001b[0;31m                                  (type(self).__name__, name))\n\u001b[0m\u001b[1;32m   2084\u001b[0m \u001b[0;34m\u001b[0m\u001b[0m\n\u001b[1;32m   2085\u001b[0m     \u001b[0;32mdef\u001b[0m \u001b[0m__setattr__\u001b[0m\u001b[0;34m(\u001b[0m\u001b[0mself\u001b[0m\u001b[0;34m,\u001b[0m \u001b[0mname\u001b[0m\u001b[0;34m,\u001b[0m \u001b[0mvalue\u001b[0m\u001b[0;34m)\u001b[0m\u001b[0;34m:\u001b[0m\u001b[0;34m\u001b[0m\u001b[0m\n",
      "\u001b[0;31mAttributeError\u001b[0m: 'DataFrame' object has no attribute 'design_info'"
     ]
    }
   ],
   "source": [
    "anova_lm(anova_model)"
   ]
  },
  {
   "cell_type": "code",
   "execution_count": null,
   "metadata": {
    "collapsed": true
   },
   "outputs": [],
   "source": [
    "anova_lm"
   ]
  },
  {
   "cell_type": "code",
   "execution_count": null,
   "metadata": {
    "collapsed": true
   },
   "outputs": [],
   "source": []
  },
  {
   "cell_type": "markdown",
   "metadata": {
    "collapsed": true
   },
   "source": [
    "### ROC"
   ]
  },
  {
   "cell_type": "code",
   "execution_count": 37,
   "metadata": {
    "collapsed": false
   },
   "outputs": [
    {
     "ename": "NameError",
     "evalue": "name 'lrModel' is not defined",
     "output_type": "error",
     "traceback": [
      "\u001b[0;31m---------------------------------------------------------------------------\u001b[0m",
      "\u001b[0;31mNameError\u001b[0m                                 Traceback (most recent call last)",
      "\u001b[0;32m<ipython-input-37-7350c45c5c72>\u001b[0m in \u001b[0;36m<module>\u001b[0;34m()\u001b[0m\n\u001b[1;32m      1\u001b[0m \u001b[0;34m\u001b[0m\u001b[0m\n\u001b[0;32m----> 2\u001b[0;31m \u001b[0mtrainingSummary\u001b[0m \u001b[0;34m=\u001b[0m \u001b[0mlrModel\u001b[0m\u001b[0;34m.\u001b[0m\u001b[0msummary\u001b[0m\u001b[0;34m\u001b[0m\u001b[0m\n\u001b[0m\u001b[1;32m      3\u001b[0m \u001b[0mroc\u001b[0m \u001b[0;34m=\u001b[0m \u001b[0mtrainingSummary\u001b[0m\u001b[0;34m.\u001b[0m\u001b[0mroc\u001b[0m\u001b[0;34m.\u001b[0m\u001b[0mtoPandas\u001b[0m\u001b[0;34m(\u001b[0m\u001b[0;34m)\u001b[0m\u001b[0;34m\u001b[0m\u001b[0m\n\u001b[1;32m      4\u001b[0m \u001b[0mplt\u001b[0m\u001b[0;34m.\u001b[0m\u001b[0mplot\u001b[0m\u001b[0;34m(\u001b[0m\u001b[0mroc\u001b[0m\u001b[0;34m[\u001b[0m\u001b[0;34m'FPR'\u001b[0m\u001b[0;34m]\u001b[0m\u001b[0;34m,\u001b[0m\u001b[0mroc\u001b[0m\u001b[0;34m[\u001b[0m\u001b[0;34m'TPR'\u001b[0m\u001b[0;34m]\u001b[0m\u001b[0;34m)\u001b[0m\u001b[0;34m\u001b[0m\u001b[0m\n\u001b[1;32m      5\u001b[0m \u001b[0mplt\u001b[0m\u001b[0;34m.\u001b[0m\u001b[0mylabel\u001b[0m\u001b[0;34m(\u001b[0m\u001b[0;34m'False Positive Rate'\u001b[0m\u001b[0;34m)\u001b[0m\u001b[0;34m\u001b[0m\u001b[0m\n",
      "\u001b[0;31mNameError\u001b[0m: name 'lrModel' is not defined"
     ]
    }
   ],
   "source": [
    "\n",
    "trainingSummary = lrModel.summary\n",
    "roc = trainingSummary.roc.toPandas()\n",
    "plt.plot(roc['FPR'],roc['TPR'])\n",
    "plt.ylabel('False Positive Rate')\n",
    "plt.xlabel('True Positive Rate')\n",
    "plt.title('ROC Curve')\n",
    "plt.show()\n",
    "print('Training set areaUnderROC: ' + str(trainingSummary.areaUnderROC))"
   ]
  },
  {
   "cell_type": "code",
   "execution_count": 36,
   "metadata": {
    "collapsed": false
   },
   "outputs": [
    {
     "ename": "NameError",
     "evalue": "name 'trainingSummary' is not defined",
     "output_type": "error",
     "traceback": [
      "\u001b[0;31m---------------------------------------------------------------------------\u001b[0m",
      "\u001b[0;31mNameError\u001b[0m                                 Traceback (most recent call last)",
      "\u001b[0;32m<ipython-input-36-b493038ba375>\u001b[0m in \u001b[0;36m<module>\u001b[0;34m()\u001b[0m\n\u001b[0;32m----> 1\u001b[0;31m \u001b[0mpr\u001b[0m \u001b[0;34m=\u001b[0m \u001b[0mtrainingSummary\u001b[0m\u001b[0;34m.\u001b[0m\u001b[0mpr\u001b[0m\u001b[0;34m.\u001b[0m\u001b[0mtoPandas\u001b[0m\u001b[0;34m(\u001b[0m\u001b[0;34m)\u001b[0m\u001b[0;34m\u001b[0m\u001b[0m\n\u001b[0m\u001b[1;32m      2\u001b[0m \u001b[0mplt\u001b[0m\u001b[0;34m.\u001b[0m\u001b[0mplot\u001b[0m\u001b[0;34m(\u001b[0m\u001b[0mpr\u001b[0m\u001b[0;34m[\u001b[0m\u001b[0;34m'recall'\u001b[0m\u001b[0;34m]\u001b[0m\u001b[0;34m,\u001b[0m\u001b[0mpr\u001b[0m\u001b[0;34m[\u001b[0m\u001b[0;34m'precision'\u001b[0m\u001b[0;34m]\u001b[0m\u001b[0;34m)\u001b[0m\u001b[0;34m\u001b[0m\u001b[0m\n\u001b[1;32m      3\u001b[0m \u001b[0mplt\u001b[0m\u001b[0;34m.\u001b[0m\u001b[0mylabel\u001b[0m\u001b[0;34m(\u001b[0m\u001b[0;34m'Precision'\u001b[0m\u001b[0;34m)\u001b[0m\u001b[0;34m\u001b[0m\u001b[0m\n\u001b[1;32m      4\u001b[0m \u001b[0mplt\u001b[0m\u001b[0;34m.\u001b[0m\u001b[0mxlabel\u001b[0m\u001b[0;34m(\u001b[0m\u001b[0;34m'Recall'\u001b[0m\u001b[0;34m)\u001b[0m\u001b[0;34m\u001b[0m\u001b[0m\n\u001b[1;32m      5\u001b[0m \u001b[0mplt\u001b[0m\u001b[0;34m.\u001b[0m\u001b[0mshow\u001b[0m\u001b[0;34m(\u001b[0m\u001b[0;34m)\u001b[0m\u001b[0;34m\u001b[0m\u001b[0m\n",
      "\u001b[0;31mNameError\u001b[0m: name 'trainingSummary' is not defined"
     ]
    }
   ],
   "source": [
    "pr = trainingSummary.pr.toPandas()\n",
    "plt.plot(pr['recall'],pr['precision'])\n",
    "plt.ylabel('Precision')\n",
    "plt.xlabel('Recall')\n",
    "plt.show()"
   ]
  },
  {
   "cell_type": "code",
   "execution_count": null,
   "metadata": {
    "collapsed": true
   },
   "outputs": [],
   "source": []
  },
  {
   "cell_type": "code",
   "execution_count": null,
   "metadata": {
    "collapsed": true
   },
   "outputs": [],
   "source": []
  },
  {
   "cell_type": "code",
   "execution_count": null,
   "metadata": {
    "collapsed": true
   },
   "outputs": [],
   "source": []
  },
  {
   "cell_type": "markdown",
   "metadata": {
    "slideshow": {
     "slide_type": "slide"
    }
   },
   "source": [
    "## 문제 M-1: Titanic case\n",
    "\n",
    "### 문제\n",
    "1912년 4월 15일 Titanic 유람선 사고의 탑승객 2224명의 승객 및 선원 가운데 1502명이 사망했다. 사고 당시의 탑승객 위치, 상황 등 관련 데이터를 분석하여 생존 여부를 예측하자. 출처: Kaggle\n",
    "\n",
    "### 해결\n",
    "\n",
    "사고 당시의 탑승객 위치 및 상황에 따라 생존하였는지를 구별하는 **이진 분류** 문제이다. "
   ]
  },
  {
   "cell_type": "code",
   "execution_count": 28,
   "metadata": {
    "collapsed": true
   },
   "outputs": [],
   "source": [
    "import os\n",
    "import sys \n",
    "os.environ[\"SPARK_HOME\"]=os.path.join(os.environ['HOME'],'Downloads','spark-2.0.0-bin-hadoop2.7')\n",
    "os.environ[\"PYLIB\"]=os.path.join(os.environ[\"SPARK_HOME\"],'python','lib')\n",
    "sys.path.insert(0,os.path.join(os.environ[\"PYLIB\"],'py4j-0.10.1-src.zip'))\n",
    "sys.path.insert(0,os.path.join(os.environ[\"PYLIB\"],'pyspark.zip'))"
   ]
  },
  {
   "cell_type": "code",
   "execution_count": 29,
   "metadata": {
    "collapsed": true
   },
   "outputs": [],
   "source": [
    "import pyspark\n",
    "myConf=pyspark.SparkConf()\n",
    "spark = pyspark.sql.SparkSession.builder\\\n",
    "    .master(\"local\")\\\n",
    "    .appName(\"myApp\")\\\n",
    "    .config(conf=myConf)\\\n",
    "    .getOrCreate()"
   ]
  },
  {
   "cell_type": "markdown",
   "metadata": {
    "slideshow": {
     "slide_type": "subslide"
    }
   },
   "source": [
    "### 데이터\n",
    "\n",
    "#### 파일 내려받기\n",
    "https://www.kaggle.com/c/titanic 페이지로 가서 데이터를 내려받는다.\n",
    "압축을 풀어서 경로 ```./data/kaggle/titanic```에 저장해 놓는다.\n",
    "\n",
    "파일 | 설명\n",
    "-----|-----\n",
    "train.csv | 훈련 파일, 'Survived' 열의 값을 label로 사용한다.\n",
    "test.csv | 테스트 파일, 'Survived' 열의 값을 예측해야 한다.\n",
    "gender_submission.csv | 예측 결과 제출 파일 예제"
   ]
  },
  {
   "cell_type": "code",
   "execution_count": 2,
   "metadata": {
    "collapsed": false
   },
   "outputs": [
    {
     "name": "stdout",
     "output_type": "stream",
     "text": [
      "gender_submission.csv  test.csv  train.csv\r\n"
     ]
    }
   ],
   "source": [
    "!ls data/kaggle/titanic/"
   ]
  },
  {
   "cell_type": "markdown",
   "metadata": {
    "slideshow": {
     "slide_type": "subslide"
    }
   },
   "source": [
    "#### train, test 파일 읽기\n",
    "\n",
    "파일 ```train.csv```는 ```csv```형식으로 만들어져 있다.\n",
    "csv를 읽으려면, 앞서 설명한 바와 같이 https://spark-packages.org/ 사이트로 가서 자신의 Spark Version에 맞는 csv jar를 선택한다.\n",
    "\n",
    "설정파일 ```conf/spark-defaults.conf```를 아래와 같이 수정한다.\n",
    "```python\n",
    "$vim conf/spark-defaults.conf \n",
    "spark.jars.packages=com.databricks:spark-csv_2.11:1.5.0\n",
    "```"
   ]
  },
  {
   "cell_type": "code",
   "execution_count": 30,
   "metadata": {
    "collapsed": false
   },
   "outputs": [],
   "source": [
    "import os\n",
    "_trainDf = spark.read.format('com.databricks.spark.csv')\\\n",
    "    .options(header='true', inferschema='true')\\\n",
    "    .load(os.path.join(\"data\",\"kaggle\",\"titanic\",\"train.csv\"))"
   ]
  },
  {
   "cell_type": "code",
   "execution_count": 31,
   "metadata": {
    "collapsed": false
   },
   "outputs": [
    {
     "name": "stdout",
     "output_type": "stream",
     "text": [
      "+-----------+--------+------+--------------------+------+----+-----+-----+----------------+-------+-----+--------+\n",
      "|PassengerId|Survived|Pclass|                Name|   Sex| Age|SibSp|Parch|          Ticket|   Fare|Cabin|Embarked|\n",
      "+-----------+--------+------+--------------------+------+----+-----+-----+----------------+-------+-----+--------+\n",
      "|          1|       0|     3|Braund, Mr. Owen ...|  male|22.0|    1|    0|       A/5 21171|   7.25|     |       S|\n",
      "|          2|       1|     1|Cumings, Mrs. Joh...|female|38.0|    1|    0|        PC 17599|71.2833|  C85|       C|\n",
      "|          3|       1|     3|Heikkinen, Miss. ...|female|26.0|    0|    0|STON/O2. 3101282|  7.925|     |       S|\n",
      "+-----------+--------+------+--------------------+------+----+-----+-----+----------------+-------+-----+--------+\n",
      "only showing top 3 rows\n",
      "\n"
     ]
    }
   ],
   "source": [
    "_trainDf.show(3, truncate=True)"
   ]
  },
  {
   "cell_type": "markdown",
   "metadata": {
    "slideshow": {
     "slide_type": "subslide"
    }
   },
   "source": [
    "이번에는 ```test.csv```를 읽어보자."
   ]
  },
  {
   "cell_type": "code",
   "execution_count": 32,
   "metadata": {
    "collapsed": true
   },
   "outputs": [],
   "source": [
    "_testDf = spark.read.format('com.databricks.spark.csv')\\\n",
    "    .options(header='true', inferschema='true')\\\n",
    "    .load(os.path.join(\"data\",\"kaggle\",\"titanic\",\"test.csv\"))"
   ]
  },
  {
   "cell_type": "code",
   "execution_count": 33,
   "metadata": {
    "collapsed": false
   },
   "outputs": [
    {
     "name": "stdout",
     "output_type": "stream",
     "text": [
      "+-----------+------+--------------------+------+----+-----+-----+------+------+-----+--------+\n",
      "|PassengerId|Pclass|                Name|   Sex| Age|SibSp|Parch|Ticket|  Fare|Cabin|Embarked|\n",
      "+-----------+------+--------------------+------+----+-----+-----+------+------+-----+--------+\n",
      "|        892|     3|    Kelly, Mr. James|  male|34.5|    0|    0|330911|7.8292|     |       Q|\n",
      "|        893|     3|Wilkes, Mrs. Jame...|female|47.0|    1|    0|363272|   7.0|     |       S|\n",
      "|        894|     2|Myles, Mr. Thomas...|  male|62.0|    0|    0|240276|9.6875|     |       Q|\n",
      "+-----------+------+--------------------+------+----+-----+-----+------+------+-----+--------+\n",
      "only showing top 3 rows\n",
      "\n"
     ]
    }
   ],
   "source": [
    "_testDf.show(3, truncate=True)"
   ]
  },
  {
   "cell_type": "markdown",
   "metadata": {
    "slideshow": {
     "slide_type": "subslide"
    }
   },
   "source": [
    "#### train, test 파일 합치기\n",
    "\n",
    "'train.csv'와 'test.csv'를 합쳐서 하나의 파일로 만들어서 분석해보자.\n",
    "필요하면 ```filter``` 기능으로 데이터를 선택하여 사용할 수 있다. \n",
    "\n",
    "pyspark.sql.functions의 ```lit(col)``` 함수는 literal column으로 입력 ```col``` 값에 해당하는 열을 생성하는 기능이다. 이 기능을 사용해 train과 test 양쪽 DataFrame에 임의 컬럼 ```testOrtrain```을 추가한다.\n"
   ]
  },
  {
   "cell_type": "code",
   "execution_count": 34,
   "metadata": {
    "collapsed": false
   },
   "outputs": [],
   "source": [
    "from pyspark.sql.functions import lit, col\n",
    "_trainDf = _trainDf.withColumn('testOrtrain',lit('train'))\n",
    "_testDf = _testDf.withColumn('testOrtrain',lit('test'))"
   ]
  },
  {
   "cell_type": "markdown",
   "metadata": {},
   "source": [
    "```Survived``` 컬럼은 ```train.csv```에는 있으나, ```test.csv```에는 없다.\n",
    "두 DataFrame의 컬럼을 일치시키기 위해서 임의의 수 99를 없는 쪽 ```test.csv```에 넣는다."
   ]
  },
  {
   "cell_type": "code",
   "execution_count": 35,
   "metadata": {
    "collapsed": true
   },
   "outputs": [],
   "source": [
    "_testDf = _testDf.withColumn('Survived',lit(99))"
   ]
  },
  {
   "cell_type": "markdown",
   "metadata": {
    "slideshow": {
     "slide_type": "subslide"
    }
   },
   "source": [
    "아래와 같이 printSchema()를 하여 보면, 두 파일 모두 원하는 형식, 즉 동일한 컬럼을 가진 데이터로 만들어졌다.\n",
    "단 **컬럼의 순서**가 서로 다르다. 방금 추가한 'Survived' 컬럼이 ```_testDf```에는 맨 뒤에 위치하게 되었다."
   ]
  },
  {
   "cell_type": "code",
   "execution_count": 36,
   "metadata": {
    "collapsed": false
   },
   "outputs": [
    {
     "name": "stdout",
     "output_type": "stream",
     "text": [
      "root\n",
      " |-- PassengerId: integer (nullable = true)\n",
      " |-- Survived: integer (nullable = true)\n",
      " |-- Pclass: integer (nullable = true)\n",
      " |-- Name: string (nullable = true)\n",
      " |-- Sex: string (nullable = true)\n",
      " |-- Age: double (nullable = true)\n",
      " |-- SibSp: integer (nullable = true)\n",
      " |-- Parch: integer (nullable = true)\n",
      " |-- Ticket: string (nullable = true)\n",
      " |-- Fare: double (nullable = true)\n",
      " |-- Cabin: string (nullable = true)\n",
      " |-- Embarked: string (nullable = true)\n",
      " |-- testOrtrain: string (nullable = false)\n",
      "\n"
     ]
    }
   ],
   "source": [
    "_trainDf.printSchema()"
   ]
  },
  {
   "cell_type": "code",
   "execution_count": 37,
   "metadata": {
    "collapsed": false
   },
   "outputs": [
    {
     "name": "stdout",
     "output_type": "stream",
     "text": [
      "root\n",
      " |-- PassengerId: integer (nullable = true)\n",
      " |-- Pclass: integer (nullable = true)\n",
      " |-- Name: string (nullable = true)\n",
      " |-- Sex: string (nullable = true)\n",
      " |-- Age: double (nullable = true)\n",
      " |-- SibSp: integer (nullable = true)\n",
      " |-- Parch: integer (nullable = true)\n",
      " |-- Ticket: string (nullable = true)\n",
      " |-- Fare: double (nullable = true)\n",
      " |-- Cabin: string (nullable = true)\n",
      " |-- Embarked: string (nullable = true)\n",
      " |-- testOrtrain: string (nullable = false)\n",
      " |-- Survived: integer (nullable = false)\n",
      "\n"
     ]
    }
   ],
   "source": [
    "_testDf.printSchema()"
   ]
  },
  {
   "cell_type": "markdown",
   "metadata": {
    "slideshow": {
     "slide_type": "subslide"
    }
   },
   "source": [
    "두 DataFrame을 서로 합치려면 **union** 기능을 사용한다.\n",
    "물론 두 DataFrame의 **컬럼 수와 데이터타잎이 일치**해야 한다. 순서가 다르더라도 그냥 합치는 것에 주의한다.\n",
    "단 주의해야 할 점은, **Sql의 union은 컬럼명을 고려하지 않고 컬럼수만 동일하면 합쳐준다**.\n",
    "* 별도 추가된 'Survived'열이 맨 뒤에 위치하게 되고, 다른 열과 합쳐지게 된다.\n",
    "* 컬럼명을 모두 적어주어 해결한다."
   ]
  },
  {
   "cell_type": "code",
   "execution_count": 38,
   "metadata": {
    "collapsed": false
   },
   "outputs": [
    {
     "name": "stdout",
     "output_type": "stream",
     "text": [
      "PassengerId Survived Pclass Name Sex Age SibSp Parch Ticket Fare Cabin Embarked testOrtrain\n"
     ]
    }
   ],
   "source": [
    "for c in _trainDf.columns:\n",
    "    print c,"
   ]
  },
  {
   "cell_type": "code",
   "execution_count": 39,
   "metadata": {
    "collapsed": true
   },
   "outputs": [],
   "source": [
    "df=_trainDf.select('PassengerId','Survived','Pclass','Name','Sex','Age',\\\n",
    "                   'SibSp','Parch','Ticket','Fare','Cabin','Embarked','testOrtrain')\\\n",
    "            .union(_testDf.select('PassengerId','Survived','Pclass','Name','Sex','Age',\\\n",
    "                   'SibSp','Parch','Ticket','Fare','Cabin','Embarked','testOrtrain'))"
   ]
  },
  {
   "cell_type": "markdown",
   "metadata": {
    "slideshow": {
     "slide_type": "subslide"
    }
   },
   "source": [
    "#### test 또는 train선택\n",
    "\n",
    "파일을 합쳤으면 필요한 경우 원하는 조건에 따라 잘라서 쓰면 된다.\n",
    "filter(조건) 함수는 조건에 따라 행 rows를 잘라준다.\n",
    "filter()는 sql where 조건과 같은 기능을 한다.\n",
    "\n",
    "아래는 filter()가 잘 되는지 우리가 앞서 만들었던 'Survived', 'testOrtrain' 컬럼을 포함하여 Name을 출력하여 본다."
   ]
  },
  {
   "cell_type": "code",
   "execution_count": 40,
   "metadata": {
    "collapsed": false
   },
   "outputs": [
    {
     "name": "stdout",
     "output_type": "stream",
     "text": [
      "+-----------+--------+--------------------+\n",
      "|testOrtrain|Survived|                Name|\n",
      "+-----------+--------+--------------------+\n",
      "|       test|      99|    Kelly, Mr. James|\n",
      "|       test|      99|Wilkes, Mrs. Jame...|\n",
      "|       test|      99|Myles, Mr. Thomas...|\n",
      "|       test|      99|    Wirz, Mr. Albert|\n",
      "|       test|      99|Hirvonen, Mrs. Al...|\n",
      "|       test|      99|Svensson, Mr. Joh...|\n",
      "|       test|      99|Connolly, Miss. Kate|\n",
      "|       test|      99|Caldwell, Mr. Alb...|\n",
      "|       test|      99|Abrahim, Mrs. Jos...|\n",
      "|       test|      99|Davies, Mr. John ...|\n",
      "+-----------+--------+--------------------+\n",
      "only showing top 10 rows\n",
      "\n"
     ]
    }
   ],
   "source": [
    "df.select('testOrtrain','Survived','Name')\\\n",
    "    .filter(df['testOrtrain']=='test').show(10)"
   ]
  },
  {
   "cell_type": "markdown",
   "metadata": {
    "slideshow": {
     "slide_type": "subslide"
    }
   },
   "source": [
    "train, test 데이터 갯수를 확인해 본다."
   ]
  },
  {
   "cell_type": "code",
   "execution_count": 41,
   "metadata": {
    "collapsed": false
   },
   "outputs": [
    {
     "name": "stdout",
     "output_type": "stream",
     "text": [
      "+-----------+-----+\n",
      "|testOrtrain|count|\n",
      "+-----------+-----+\n",
      "|      train|  891|\n",
      "|       test|  418|\n",
      "+-----------+-----+\n",
      "\n"
     ]
    }
   ],
   "source": [
    "df.groupBy(df.testOrtrain).count().show()"
   ]
  },
  {
   "cell_type": "markdown",
   "metadata": {
    "slideshow": {
     "slide_type": "subslide"
    }
   },
   "source": [
    "### 데이터 변환\n",
    "\n",
    "데이터를 처리하기 전 반드시 정상적이지 않은 값이 있는지 확인해야 한다.\n",
    "* 범위 밖에 존재하는 outlier가 있는지\n",
    "* 결측 missing이 있는지\n",
    "\n",
    "그리고, 데이터 타잎이 맞지 않는 경우에는 변환을 해준다. 성별 'Sex'과 승선 'Embarked' 이들 속성은 문자열 string으로 설정되어있다."
   ]
  },
  {
   "cell_type": "markdown",
   "metadata": {
    "slideshow": {
     "slide_type": "subslide"
    }
   },
   "source": [
    "### Missing 데이터의 처리\n",
    "\n",
    "결측 값이 있는지 알아보자.\n",
    "\n",
    "```agg()```는 aggregate함수로 'avg', 'max', 'min', 'sum', 'count' 기능을 사용할 수 있다.\n",
    "```df.columns``` 명칭을 하나씩 받아 ```count()``` 개수를 세어 출력한다.\n",
    "이 경우 ```count(c).alias(c)```로 단순히 컬럼명을 출력한다.\n",
    "그렇지 않으면 ```count(PassengerId)```로 출력하게 된다.\n",
    "\n",
    "개수를 세어보면, **'Age'와 'Fare'에 missing 값**이 있다는 것을 알 수 있다."
   ]
  },
  {
   "cell_type": "code",
   "execution_count": 45,
   "metadata": {
    "collapsed": false
   },
   "outputs": [
    {
     "name": "stdout",
     "output_type": "stream",
     "text": [
      "+-----------+--------+------+----+----+----+-----+-----+------+----+-----+--------+-----------+\n",
      "|PassengerId|Survived|Pclass|Name| Sex| Age|SibSp|Parch|Ticket|Fare|Cabin|Embarked|testOrtrain|\n",
      "+-----------+--------+------+----+----+----+-----+-----+------+----+-----+--------+-----------+\n",
      "|       1309|    1309|  1309|1309|1309|1046| 1309| 1309|  1309|1308| 1309|    1309|       1309|\n",
      "+-----------+--------+------+----+----+----+-----+-----+------+----+-----+--------+-----------+\n",
      "\n"
     ]
    }
   ],
   "source": [
    "from pyspark.sql.functions import count\n",
    "df.agg(*[count(c).alias(c) for c in df.columns]).show()"
   ]
  },
  {
   "cell_type": "markdown",
   "metadata": {},
   "source": [
    "```isNull()``` 함수는 어떤 **컬럼**에 대해 결측값이 있는지 확인한다."
   ]
  },
  {
   "cell_type": "code",
   "execution_count": 46,
   "metadata": {
    "collapsed": false
   },
   "outputs": [
    {
     "name": "stdout",
     "output_type": "stream",
     "text": [
      "{'Fare': 1, 'Age': 263, 'SibSp': 0, 'Survived': 0, 'Parch': 0}\n"
     ]
    }
   ],
   "source": [
    "def countNull(df,var):\n",
    "    return df.where(df[var].isNull()).count()\n",
    "\n",
    "missing = {c: countNull(df,c) for c in ['Survived','Age','SibSp','Parch','Fare']}\n",
    "\n",
    "print missing"
   ]
  },
  {
   "cell_type": "markdown",
   "metadata": {
    "slideshow": {
     "slide_type": "subslide"
    }
   },
   "source": [
    "문자열로 NULL을 출력할 수 있다. 'Age'는 전체 1309개에서 1046개만 존재하므로 NULL이 상당히 많다."
   ]
  },
  {
   "cell_type": "code",
   "execution_count": 47,
   "metadata": {
    "collapsed": false
   },
   "outputs": [
    {
     "name": "stdout",
     "output_type": "stream",
     "text": [
      "+-----------+--------+------+--------------------+------+----+-----+-----+------+------+-----+--------+-----------+\n",
      "|PassengerId|Survived|Pclass|                Name|   Sex| Age|SibSp|Parch|Ticket|  Fare|Cabin|Embarked|testOrtrain|\n",
      "+-----------+--------+------+--------------------+------+----+-----+-----+------+------+-----+--------+-----------+\n",
      "|          6|       0|     3|    Moran, Mr. James|  male|null|    0|    0|330877|8.4583|     |       Q|      train|\n",
      "|         18|       1|     2|Williams, Mr. Cha...|  male|null|    0|    0|244373|  13.0|     |       S|      train|\n",
      "|         20|       1|     3|Masselmani, Mrs. ...|female|null|    0|    0|  2649| 7.225|     |       C|      train|\n",
      "|         27|       0|     3|Emir, Mr. Farred ...|  male|null|    0|    0|  2631| 7.225|     |       C|      train|\n",
      "|         29|       1|     3|\"O'Dwyer, Miss. E...|female|null|    0|    0|330959|7.8792|     |       Q|      train|\n",
      "+-----------+--------+------+--------------------+------+----+-----+-----+------+------+-----+--------+-----------+\n",
      "only showing top 5 rows\n",
      "\n",
      "None\n"
     ]
    }
   ],
   "source": [
    "print df.filter(\"Age is NULL\").show(5)"
   ]
  },
  {
   "cell_type": "markdown",
   "metadata": {},
   "source": [
    "'Fare' 컬럼 값이 NULL인 고객을 출력해보자."
   ]
  },
  {
   "cell_type": "code",
   "execution_count": 48,
   "metadata": {
    "collapsed": false
   },
   "outputs": [
    {
     "name": "stdout",
     "output_type": "stream",
     "text": [
      "+-----------+--------+------+------------------+----+----+-----+-----+------+----+-----+--------+-----------+\n",
      "|PassengerId|Survived|Pclass|              Name| Sex| Age|SibSp|Parch|Ticket|Fare|Cabin|Embarked|testOrtrain|\n",
      "+-----------+--------+------+------------------+----+----+-----+-----+------+----+-----+--------+-----------+\n",
      "|       1044|      99|     3|Storey, Mr. Thomas|male|60.5|    0|    0|  3701|null|     |       S|       test|\n",
      "+-----------+--------+------+------------------+----+----+-----+-----+------+----+-----+--------+-----------+\n",
      "\n",
      "None\n"
     ]
    }
   ],
   "source": [
    "print df.filter(\"Fare is NULL\").show(5)"
   ]
  },
  {
   "cell_type": "markdown",
   "metadata": {
    "slideshow": {
     "slide_type": "subslide"
    }
   },
   "source": [
    "NULL값은 결측으로 제외하거나 또는 평균으로 대체하거나 한다.\n",
    "퍙균을 계산하기 위해, ```pyspark.sql.functions```의 함수 가운데 ```avg()```를 사용한다.\n",
    "```collect()```의 결과는 Python List이므로, 반환 값의 index '0'으로 평균값을 구할 수 있다."
   ]
  },
  {
   "cell_type": "code",
   "execution_count": 49,
   "metadata": {
    "collapsed": true
   },
   "outputs": [],
   "source": [
    "from pyspark.sql import functions as F\n",
    "\n",
    "avgAge=df.agg(F.avg(df['Age']).alias('meanAge')).collect()\n",
    "avgFare=df.agg(F.avg(df['Fare']).alias('meanFare')).collect()"
   ]
  },
  {
   "cell_type": "code",
   "execution_count": 50,
   "metadata": {
    "collapsed": false
   },
   "outputs": [
    {
     "name": "stdout",
     "output_type": "stream",
     "text": [
      "29.8811376673\n",
      "33.2954792813\n"
     ]
    }
   ],
   "source": [
    "print avgAge[0]['meanAge']\n",
    "print avgFare[0]['meanFare']"
   ]
  },
  {
   "cell_type": "markdown",
   "metadata": {
    "slideshow": {
     "slide_type": "subslide"
    }
   },
   "source": [
    "또는 ```groupBy()```를 한 후 ```mean()``` 함수를 사용해서 평균을 구할 수도 있다."
   ]
  },
  {
   "cell_type": "code",
   "execution_count": 51,
   "metadata": {
    "collapsed": false
   },
   "outputs": [
    {
     "name": "stdout",
     "output_type": "stream",
     "text": [
      "Row(avg(Age)=29.881137667304014)\n",
      "Row(avg(Fare)=33.29547928134553)\n"
     ]
    }
   ],
   "source": [
    "print df.groupBy().mean('Age').first()\n",
    "print df.groupBy().mean('Fare').first()"
   ]
  },
  {
   "cell_type": "markdown",
   "metadata": {
    "slideshow": {
     "slide_type": "subslide"
    }
   },
   "source": [
    "```describe()```를 사용해 통계량을 계산할 수 있다."
   ]
  },
  {
   "cell_type": "code",
   "execution_count": 52,
   "metadata": {
    "collapsed": false
   },
   "outputs": [
    {
     "name": "stdout",
     "output_type": "stream",
     "text": [
      "+-------+------------------+\n",
      "|summary|               Age|\n",
      "+-------+------------------+\n",
      "|  count|              1046|\n",
      "|   mean|29.881137667304014|\n",
      "| stddev| 14.41349321127132|\n",
      "|    min|              0.17|\n",
      "|    max|              80.0|\n",
      "+-------+------------------+\n",
      "\n"
     ]
    }
   ],
   "source": [
    "df.describe(['Age']).show()"
   ]
  },
  {
   "cell_type": "markdown",
   "metadata": {
    "slideshow": {
     "slide_type": "subslide"
    }
   },
   "source": [
    "null 값은 앞서 설명한 바와 같이 평균 값으로 대체하고, null이 아니면 당연히 자신의 값을 유지한다.\n",
    "```pyspark.sql.functions.when(condition, value)``` 함수를 사용해\n",
    "null 조건 및 평균을 인자로 넣어준다.\n"
   ]
  },
  {
   "cell_type": "markdown",
   "metadata": {},
   "source": [
    "단순하게 ```fillna()``` 함수를 사용해도 된다."
   ]
  },
  {
   "cell_type": "code",
   "execution_count": 53,
   "metadata": {
    "collapsed": false
   },
   "outputs": [
    {
     "name": "stdout",
     "output_type": "stream",
     "text": [
      "+----+\n",
      "|year|\n",
      "+----+\n",
      "|2019|\n",
      "|2020|\n",
      "|2021|\n",
      "|9999|\n",
      "+----+\n",
      "\n"
     ]
    }
   ],
   "source": [
    "my = spark.createDataFrame([[2019], [2020], [2021], [None]], ['year'])\n",
    "my = my.fillna({'year':'9999'})\n",
    "my.show()"
   ]
  },
  {
   "cell_type": "code",
   "execution_count": 54,
   "metadata": {
    "collapsed": false,
    "slideshow": {
     "slide_type": "subslide"
    }
   },
   "outputs": [],
   "source": [
    "from pyspark.sql.functions import when,isnull\n",
    "df=df.withColumn(\"Age\", when(isnull(df['Age']), avgAge[0]['meanAge']).otherwise(df.Age))\n",
    "df=df.withColumn(\"Fare\", when(isnull(df['Fare']), avgFare[0]['meanFare']).otherwise(df.Fare))\n",
    "#df.show(10)"
   ]
  },
  {
   "cell_type": "markdown",
   "metadata": {
    "slideshow": {
     "slide_type": "subslide"
    }
   },
   "source": [
    "### outlier\n",
    "\n",
    "데이터에 outlier가 있는지 확인해보자.\n",
    "```approxQuantile(변수명, 분기비율, 상대오류)```는 outlier가 있는지 확인할 수 있다.\n",
    "* 분기비율은 0.25, 0.75 즉 1분기와 3분기의 범위\n",
    "* 0.0은 분기 값을 찾는데 상대 오류를 없게 하는 것으로 매우 엄격한 기준"
   ]
  },
  {
   "cell_type": "markdown",
   "metadata": {
    "slideshow": {
     "slide_type": "subslide"
    }
   },
   "source": [
    "보통 **표준편차의 3배 $3\\sigma$**를 초과하는 값을 outlier로 보고 있다.\n",
    "나이의 예를 들면, 일정한 범위의 비율로 1.15 ~ 2.0를 초과하는 값을 출력해보자."
   ]
  },
  {
   "cell_type": "code",
   "execution_count": 64,
   "metadata": {
    "collapsed": false
   },
   "outputs": [
    {
     "name": "stdout",
     "output_type": "stream",
     "text": [
      "[22.0, 35.0]\n"
     ]
    }
   ],
   "source": [
    "quantiles=df.stat.approxQuantile('Age', [0.25,0.75], 0.0 )\n",
    "print quantiles"
   ]
  },
  {
   "cell_type": "code",
   "execution_count": 65,
   "metadata": {
    "collapsed": false
   },
   "outputs": [
    {
     "name": "stdout",
     "output_type": "stream",
     "text": [
      "7.05 61.0\n"
     ]
    }
   ],
   "source": [
    "mid50 = quantiles[1]-quantiles[0]\n",
    "lower = quantiles[0] - 1.15*mid50\n",
    "upper = quantiles[1] + 2.0*mid50\n",
    "print lower, upper"
   ]
  },
  {
   "cell_type": "markdown",
   "metadata": {
    "slideshow": {
     "slide_type": "subslide"
    }
   },
   "source": [
    "3분기 75%의 2배 이상되는 값이 존재하는지 알아보자. 아래는 3개만 출력하였지만, 전체를 출력하여 확인해야 한다."
   ]
  },
  {
   "cell_type": "code",
   "execution_count": 67,
   "metadata": {
    "collapsed": false
   },
   "outputs": [
    {
     "name": "stdout",
     "output_type": "stream",
     "text": [
      "+-----------+--------+------+--------------------+------+---+-----+-----+-------+------+-----+--------+-----------+\n",
      "|PassengerId|Survived|Pclass|                Name|   Sex|Age|SibSp|Parch| Ticket|  Fare|Cabin|Embarked|testOrtrain|\n",
      "+-----------+--------+------+--------------------+------+---+-----+-----+-------+------+-----+--------+-----------+\n",
      "|          8|       0|     3|Palsson, Master. ...|  male|2.0|    3|    1| 349909|21.075|     |       S|      train|\n",
      "|         11|       1|     3|Sandstrom, Miss. ...|female|4.0|    1|    1|PP 9549|  16.7|   G6|       S|      train|\n",
      "|         17|       0|     3|Rice, Master. Eugene|  male|2.0|    4|    1| 382652|29.125|     |       Q|      train|\n",
      "+-----------+--------+------+--------------------+------+---+-----+-----+-------+------+-----+--------+-----------+\n",
      "only showing top 3 rows\n",
      "\n"
     ]
    }
   ],
   "source": [
    "df.filter((df.Age<lower) | (df.Age>upper)).show(3,truncate=True)"
   ]
  },
  {
   "cell_type": "markdown",
   "metadata": {
    "slideshow": {
     "slide_type": "subslide"
    }
   },
   "source": [
    "### 성별"
   ]
  },
  {
   "cell_type": "code",
   "execution_count": 56,
   "metadata": {
    "collapsed": false
   },
   "outputs": [
    {
     "name": "stdout",
     "output_type": "stream",
     "text": [
      "+------+-----+\n",
      "|   Sex|count|\n",
      "+------+-----+\n",
      "|female|  466|\n",
      "|  male|  843|\n",
      "+------+-----+\n",
      "\n"
     ]
    }
   ],
   "source": [
    "df.groupBy('Sex').count().show()"
   ]
  },
  {
   "cell_type": "markdown",
   "metadata": {
    "slideshow": {
     "slide_type": "subslide"
    }
   },
   "source": [
    "이름으로부터 패턴을 찾아 성별을 구분해 보자.\n",
    "이름에 학위 Master, Dr., 작위 등 성별 대신 사용된 경우가 있는데, 이로부터 성별을 인식하는 것이다."
   ]
  },
  {
   "cell_type": "code",
   "execution_count": 57,
   "metadata": {
    "collapsed": true
   },
   "outputs": [],
   "source": [
    "import re\n",
    "def getTitle(name):\n",
    "    title=None\n",
    "    if re.search(\".*Mr\\..*\", name):\n",
    "        title=\"male\"\n",
    "    elif re.search(\".*[Miss|Mrs|Ms]\\..*\", name):\n",
    "        title=\"female\"\n",
    "    return title"
   ]
  },
  {
   "cell_type": "code",
   "execution_count": 58,
   "metadata": {
    "collapsed": false
   },
   "outputs": [
    {
     "name": "stdout",
     "output_type": "stream",
     "text": [
      "male\n",
      "female\n",
      "female\n",
      "female\n",
      "None\n"
     ]
    }
   ],
   "source": [
    "names=[\"Braund, Mr. Owen Harris\",\n",
    "       \"Cumings, Mrs. John Bradley (Florence Briggs Thayer)\",\n",
    "       \"Heikkinen, Miss. Laina\",\n",
    "       \"Ms.hello\",\n",
    "       \"No title\"]\n",
    "for n in names:\n",
    "    print getTitle(n)"
   ]
  },
  {
   "cell_type": "code",
   "execution_count": 34,
   "metadata": {
    "collapsed": true
   },
   "outputs": [],
   "source": [
    "from pyspark.sql.functions import udf\n",
    "from pyspark.sql.types import StringType\n",
    "\n",
    "getTitleUdf = udf(getTitle, StringType())\n",
    "df = df.withColumn('Title', getTitleUdf(df['Name']))"
   ]
  },
  {
   "cell_type": "code",
   "execution_count": 36,
   "metadata": {
    "collapsed": false
   },
   "outputs": [
    {
     "name": "stdout",
     "output_type": "stream",
     "text": [
      "+-----------+--------------------------------------------+------+------+\n",
      "|testOrtrain|Name                                        |Title |Sex   |\n",
      "+-----------+--------------------------------------------+------+------+\n",
      "|test       |Kelly, Mr. James                            |male  |male  |\n",
      "|test       |Wilkes, Mrs. James (Ellen Needs)            |female|female|\n",
      "|test       |Myles, Mr. Thomas Francis                   |male  |male  |\n",
      "|test       |Wirz, Mr. Albert                            |male  |male  |\n",
      "|test       |Hirvonen, Mrs. Alexander (Helga E Lindqvist)|female|female|\n",
      "|test       |Svensson, Mr. Johan Cervin                  |male  |male  |\n",
      "|test       |Connolly, Miss. Kate                        |female|female|\n",
      "|test       |Caldwell, Mr. Albert Francis                |male  |male  |\n",
      "|test       |Abrahim, Mrs. Joseph (Sophie Halaut Easu)   |female|female|\n",
      "|test       |Davies, Mr. John Samuel                     |male  |male  |\n",
      "+-----------+--------------------------------------------+------+------+\n",
      "only showing top 10 rows\n",
      "\n"
     ]
    }
   ],
   "source": [
    " df.select('testOrtrain','Name','Title','Sex')\\\n",
    "    .filter(df['testOrtrain']=='test')\\\n",
    "    .show(10,truncate=False)"
   ]
  },
  {
   "cell_type": "markdown",
   "metadata": {
    "slideshow": {
     "slide_type": "subslide"
    }
   },
   "source": [
    "패턴에서 인식한 Title과 데이터에 원래 있었던 Sex 간에 상당한 차이가 있다.\n",
    "이는 존칭이 없이 적힌 이름이 있기 때문에, null 값이 많다고 판단된다."
   ]
  },
  {
   "cell_type": "code",
   "execution_count": 37,
   "metadata": {
    "collapsed": false
   },
   "outputs": [
    {
     "name": "stdout",
     "output_type": "stream",
     "text": [
      "+------+-----+\n",
      "| Title|count|\n",
      "+------+-----+\n",
      "|  null|   19|\n",
      "|female|  533|\n",
      "|  male|  757|\n",
      "+------+-----+\n",
      "\n",
      "+------+-----+\n",
      "|   Sex|count|\n",
      "+------+-----+\n",
      "|female|  466|\n",
      "|  male|  843|\n",
      "+------+-----+\n",
      "\n"
     ]
    }
   ],
   "source": [
    "df.groupBy('Title').count().show()\n",
    "df.groupBy('Sex').count().show()"
   ]
  },
  {
   "cell_type": "code",
   "execution_count": 38,
   "metadata": {
    "collapsed": false
   },
   "outputs": [
    {
     "name": "stdout",
     "output_type": "stream",
     "text": [
      "root\n",
      " |-- PassengerId: integer (nullable = true)\n",
      " |-- Survived: integer (nullable = true)\n",
      " |-- Pclass: integer (nullable = true)\n",
      " |-- Name: string (nullable = true)\n",
      " |-- Sex: string (nullable = true)\n",
      " |-- Age: double (nullable = true)\n",
      " |-- SibSp: integer (nullable = true)\n",
      " |-- Parch: integer (nullable = true)\n",
      " |-- Ticket: string (nullable = true)\n",
      " |-- Fare: double (nullable = true)\n",
      " |-- Cabin: string (nullable = true)\n",
      " |-- Embarked: string (nullable = true)\n",
      " |-- testOrtrain: string (nullable = false)\n",
      " |-- Title: string (nullable = true)\n",
      "\n"
     ]
    }
   ],
   "source": [
    "df.printSchema()"
   ]
  },
  {
   "cell_type": "markdown",
   "metadata": {
    "slideshow": {
     "slide_type": "subslide"
    }
   },
   "source": [
    "### label, features\n",
    "\n",
    "```Survived```가 ```integer```로 정의되어 있다. 이를 ```double``` 형으로 변환하자."
   ]
  },
  {
   "cell_type": "code",
   "execution_count": 69,
   "metadata": {
    "collapsed": false
   },
   "outputs": [],
   "source": [
    "df=df.withColumn(\"SurvivedD\",_trainDf['Survived']\\\n",
    "    .cast(\"double\"))\\\n",
    "    .drop('Survived')"
   ]
  },
  {
   "cell_type": "code",
   "execution_count": 70,
   "metadata": {
    "collapsed": false
   },
   "outputs": [
    {
     "name": "stdout",
     "output_type": "stream",
     "text": [
      "+---------+-----+\n",
      "|SurvivedD|count|\n",
      "+---------+-----+\n",
      "|      0.0|  549|\n",
      "|      1.0|  342|\n",
      "|     99.0|  418|\n",
      "+---------+-----+\n",
      "\n"
     ]
    }
   ],
   "source": [
    "df.groupBy('SurvivedD').count().show()"
   ]
  },
  {
   "cell_type": "markdown",
   "metadata": {
    "slideshow": {
     "slide_type": "subslide"
    }
   },
   "source": [
    "데이터가 잘 정리되었는지 확인하자."
   ]
  },
  {
   "cell_type": "code",
   "execution_count": 71,
   "metadata": {
    "collapsed": false
   },
   "outputs": [
    {
     "name": "stdout",
     "output_type": "stream",
     "text": [
      "+-----------+------+--------------------+------+----+-----+-----+----------------+-------+-----+--------+-----------+---------+\n",
      "|PassengerId|Pclass|                Name|   Sex| Age|SibSp|Parch|          Ticket|   Fare|Cabin|Embarked|testOrtrain|SurvivedD|\n",
      "+-----------+------+--------------------+------+----+-----+-----+----------------+-------+-----+--------+-----------+---------+\n",
      "|          1|     3|Braund, Mr. Owen ...|  male|22.0|    1|    0|       A/5 21171|   7.25|     |       S|      train|      0.0|\n",
      "|          2|     1|Cumings, Mrs. Joh...|female|38.0|    1|    0|        PC 17599|71.2833|  C85|       C|      train|      1.0|\n",
      "|          3|     3|Heikkinen, Miss. ...|female|26.0|    0|    0|STON/O2. 3101282|  7.925|     |       S|      train|      1.0|\n",
      "|          4|     1|Futrelle, Mrs. Ja...|female|35.0|    1|    0|          113803|   53.1| C123|       S|      train|      1.0|\n",
      "|          5|     3|Allen, Mr. Willia...|  male|35.0|    0|    0|          373450|   8.05|     |       S|      train|      0.0|\n",
      "+-----------+------+--------------------+------+----+-----+-----+----------------+-------+-----+--------+-----------+---------+\n",
      "only showing top 5 rows\n",
      "\n"
     ]
    }
   ],
   "source": [
    "df.show(5, truncate=True)"
   ]
  },
  {
   "cell_type": "markdown",
   "metadata": {
    "slideshow": {
     "slide_type": "subslide"
    }
   },
   "source": [
    "```Sex```, ```Embarked```를 ```StringIndexer```로 변환하자."
   ]
  },
  {
   "cell_type": "code",
   "execution_count": 72,
   "metadata": {
    "collapsed": true
   },
   "outputs": [],
   "source": [
    "from pyspark.ml.feature import StringIndexer\n",
    "from pyspark.ml import Pipeline\n",
    "#from pyspark.ml.linalg import Vectors\n",
    "from pyspark.ml.feature import VectorAssembler\n",
    "\n",
    "SexIndexer = StringIndexer(inputCol=\"Sex\", outputCol=\"SexI\")\n",
    "EmbarkedIndexer = StringIndexer(inputCol=\"Embarked\", outputCol=\"EmbarkedI\")\n",
    "\n",
    "#PclassIndexer = StringIndexer(inputCol=\"Pclass\", outputCol=\"SexI\")"
   ]
  },
  {
   "cell_type": "markdown",
   "metadata": {
    "slideshow": {
     "slide_type": "subslide"
    }
   },
   "source": [
    "features 컬럼을 만들어 준다."
   ]
  },
  {
   "cell_type": "code",
   "execution_count": 73,
   "metadata": {
    "collapsed": true
   },
   "outputs": [],
   "source": [
    "va = VectorAssembler(inputCols=[\"Pclass\",\"SexI\",\"Age\",\"SibSp\",\"Parch\",\\\n",
    "                                \"Fare\",\"EmbarkedI\"],\\\n",
    "                     outputCol=\"features\")\n",
    "#pipeline = Pipeline(stages=[PclassIndexer,SexIndexer,ParchIndexer,\\\n",
    "#                            FareIndexer,EmbarkedIndexer,va])"
   ]
  },
  {
   "cell_type": "markdown",
   "metadata": {},
   "source": [
    "```pipeline```으로 구성해서 ```fit()``` 을 실행한다."
   ]
  },
  {
   "cell_type": "code",
   "execution_count": 74,
   "metadata": {
    "collapsed": true
   },
   "outputs": [],
   "source": [
    "pipeline = Pipeline(stages=[SexIndexer,EmbarkedIndexer,va])\n",
    "model = pipeline.fit(df)"
   ]
  },
  {
   "cell_type": "markdown",
   "metadata": {
    "slideshow": {
     "slide_type": "subslide"
    }
   },
   "source": [
    "### train, test\n",
    "\n",
    "이제 train, test DataFrame을 구성해보자."
   ]
  },
  {
   "cell_type": "code",
   "execution_count": 75,
   "metadata": {
    "collapsed": false
   },
   "outputs": [],
   "source": [
    "myDf = model.transform(df)"
   ]
  },
  {
   "cell_type": "code",
   "execution_count": 76,
   "metadata": {
    "collapsed": false
   },
   "outputs": [
    {
     "name": "stdout",
     "output_type": "stream",
     "text": [
      "+---------+--------------------+\n",
      "|SurvivedD|            features|\n",
      "+---------+--------------------+\n",
      "|      0.0|[3.0,0.0,22.0,1.0...|\n",
      "|      1.0|[1.0,1.0,38.0,1.0...|\n",
      "|      1.0|[3.0,1.0,26.0,0.0...|\n",
      "|      1.0|[1.0,1.0,35.0,1.0...|\n",
      "|      0.0|(7,[0,2,5],[3.0,3...|\n",
      "|      0.0|[3.0,0.0,29.88113...|\n",
      "|      0.0|(7,[0,2,5],[1.0,5...|\n",
      "|      0.0|[3.0,0.0,2.0,3.0,...|\n",
      "|      1.0|[3.0,1.0,27.0,0.0...|\n",
      "|      1.0|[2.0,1.0,14.0,1.0...|\n",
      "+---------+--------------------+\n",
      "only showing top 10 rows\n",
      "\n"
     ]
    }
   ],
   "source": [
    "myDf.select('SurvivedD','features').show(10)"
   ]
  },
  {
   "cell_type": "code",
   "execution_count": 79,
   "metadata": {
    "collapsed": false
   },
   "outputs": [
    {
     "name": "stdout",
     "output_type": "stream",
     "text": [
      "all num of rows:  1309\n"
     ]
    }
   ],
   "source": [
    "print \"all num of rows: \",myDf.count()"
   ]
  },
  {
   "cell_type": "code",
   "execution_count": 94,
   "metadata": {
    "collapsed": true,
    "slideshow": {
     "slide_type": "subslide"
    }
   },
   "outputs": [],
   "source": [
    "train=myDf.filter(myDf['testOrtrain']=='train')\n",
    "testDf=myDf.filter(myDf['testOrtrain']=='test')"
   ]
  },
  {
   "cell_type": "code",
   "execution_count": 95,
   "metadata": {
    "collapsed": false
   },
   "outputs": [
    {
     "data": {
      "text/plain": [
       "891"
      ]
     },
     "execution_count": 95,
     "metadata": {},
     "output_type": "execute_result"
    }
   ],
   "source": [
    "train.count()"
   ]
  },
  {
   "cell_type": "code",
   "execution_count": 96,
   "metadata": {
    "collapsed": false
   },
   "outputs": [
    {
     "name": "stdout",
     "output_type": "stream",
     "text": [
      "test num of rows:  418\n"
     ]
    }
   ],
   "source": [
    "print 'test num of rows: ',testDf.count()"
   ]
  },
  {
   "cell_type": "code",
   "execution_count": 97,
   "metadata": {
    "collapsed": false
   },
   "outputs": [],
   "source": [
    "trainDf,validateDf = train.randomSplit([0.7,0.3],seed=11)"
   ]
  },
  {
   "cell_type": "code",
   "execution_count": 98,
   "metadata": {
    "collapsed": false
   },
   "outputs": [
    {
     "data": {
      "text/plain": [
       "628"
      ]
     },
     "execution_count": 98,
     "metadata": {},
     "output_type": "execute_result"
    }
   ],
   "source": [
    "trainDf.count()"
   ]
  },
  {
   "cell_type": "code",
   "execution_count": 99,
   "metadata": {
    "collapsed": false
   },
   "outputs": [
    {
     "data": {
      "text/plain": [
       "263"
      ]
     },
     "execution_count": 99,
     "metadata": {},
     "output_type": "execute_result"
    }
   ],
   "source": [
    "validateDf.count()"
   ]
  },
  {
   "cell_type": "code",
   "execution_count": 100,
   "metadata": {
    "collapsed": false
   },
   "outputs": [
    {
     "name": "stdout",
     "output_type": "stream",
     "text": [
      "root\n",
      " |-- PassengerId: integer (nullable = true)\n",
      " |-- Pclass: integer (nullable = true)\n",
      " |-- Name: string (nullable = true)\n",
      " |-- Sex: string (nullable = true)\n",
      " |-- Age: double (nullable = true)\n",
      " |-- SibSp: integer (nullable = true)\n",
      " |-- Parch: integer (nullable = true)\n",
      " |-- Ticket: string (nullable = true)\n",
      " |-- Fare: double (nullable = true)\n",
      " |-- Cabin: string (nullable = true)\n",
      " |-- Embarked: string (nullable = true)\n",
      " |-- testOrtrain: string (nullable = false)\n",
      " |-- SurvivedD: double (nullable = true)\n",
      " |-- SexI: double (nullable = true)\n",
      " |-- EmbarkedI: double (nullable = true)\n",
      " |-- features: vector (nullable = true)\n",
      "\n"
     ]
    }
   ],
   "source": [
    "trainDf.printSchema()"
   ]
  },
  {
   "cell_type": "markdown",
   "metadata": {
    "collapsed": true,
    "slideshow": {
     "slide_type": "subslide"
    }
   },
   "source": [
    "### LogisticRegression 모델링\n",
    "\n",
    "```SurvivedD```는 0,1의 이진값을 가지므로, 이진분류 모델을 만들어 보자."
   ]
  },
  {
   "cell_type": "code",
   "execution_count": 101,
   "metadata": {
    "collapsed": false
   },
   "outputs": [
    {
     "name": "stdout",
     "output_type": "stream",
     "text": [
      "+---------+-----+\n",
      "|SurvivedD|count|\n",
      "+---------+-----+\n",
      "|      0.0|  383|\n",
      "|      1.0|  245|\n",
      "+---------+-----+\n",
      "\n"
     ]
    }
   ],
   "source": [
    "trainDf.groupBy('SurvivedD').count().show()"
   ]
  },
  {
   "cell_type": "code",
   "execution_count": 88,
   "metadata": {
    "collapsed": true
   },
   "outputs": [],
   "source": [
    "from pyspark.ml.classification import LogisticRegression\n",
    " \n",
    "# regPara: lasso regularisation parameter (L1)\n",
    "lr = LogisticRegression().\\\n",
    "    setLabelCol('SurvivedD').\\\n",
    "    setFeaturesCol('features').\\\n",
    "    setRegParam(0.0).\\\n",
    "    setMaxIter(100).\\\n",
    "    setElasticNetParam(0.)"
   ]
  },
  {
   "cell_type": "code",
   "execution_count": 89,
   "metadata": {
    "collapsed": true
   },
   "outputs": [],
   "source": [
    "lrModel=lr.fit(trainDf)"
   ]
  },
  {
   "cell_type": "markdown",
   "metadata": {},
   "source": [
    "####  dt, rf"
   ]
  },
  {
   "cell_type": "markdown",
   "metadata": {
    "collapsed": true
   },
   "source": [
    "dt = DecisionTreeClassifier(maxDepth = 3, labelCol ='index').fit(train)\n",
    "rf = RandomForestClassifier(numTrees = 100, labelCol = 'index').fit(train)\n",
    " "
   ]
  },
  {
   "cell_type": "markdown",
   "metadata": {
    "collapsed": true,
    "slideshow": {
     "slide_type": "subslide"
    }
   },
   "source": [
    "### 예측\n",
    "\n",
    "```transform()``` 함수에 데이터를 넣어주면 예측 값을 생성한다."
   ]
  },
  {
   "cell_type": "code",
   "execution_count": 102,
   "metadata": {
    "collapsed": true
   },
   "outputs": [],
   "source": [
    "lrDf = lrModel.transform(validateDf)"
   ]
  },
  {
   "cell_type": "code",
   "execution_count": 103,
   "metadata": {
    "collapsed": false
   },
   "outputs": [
    {
     "name": "stdout",
     "output_type": "stream",
     "text": [
      "root\n",
      " |-- PassengerId: integer (nullable = true)\n",
      " |-- Pclass: integer (nullable = true)\n",
      " |-- Name: string (nullable = true)\n",
      " |-- Sex: string (nullable = true)\n",
      " |-- Age: double (nullable = true)\n",
      " |-- SibSp: integer (nullable = true)\n",
      " |-- Parch: integer (nullable = true)\n",
      " |-- Ticket: string (nullable = true)\n",
      " |-- Fare: double (nullable = true)\n",
      " |-- Cabin: string (nullable = true)\n",
      " |-- Embarked: string (nullable = true)\n",
      " |-- testOrtrain: string (nullable = false)\n",
      " |-- SurvivedD: double (nullable = true)\n",
      " |-- SexI: double (nullable = true)\n",
      " |-- EmbarkedI: double (nullable = true)\n",
      " |-- features: vector (nullable = true)\n",
      " |-- rawPrediction: vector (nullable = true)\n",
      " |-- probability: vector (nullable = true)\n",
      " |-- prediction: double (nullable = true)\n",
      "\n"
     ]
    }
   ],
   "source": [
    "lrDf.printSchema()"
   ]
  },
  {
   "cell_type": "markdown",
   "metadata": {
    "slideshow": {
     "slide_type": "subslide"
    }
   },
   "source": [
    "실제 값 ```SurvivedD```과 예측 값 ```prediction```을 비교해 보자."
   ]
  },
  {
   "cell_type": "code",
   "execution_count": 104,
   "metadata": {
    "collapsed": false,
    "scrolled": true
   },
   "outputs": [
    {
     "name": "stdout",
     "output_type": "stream",
     "text": [
      "+---------+--------------------+--------------------+----------+\n",
      "|SurvivedD|       rawPrediction|         probability|prediction|\n",
      "+---------+--------------------+--------------------+----------+\n",
      "|      1.0|[-0.7209575821080...|[0.32718215168700...|       1.0|\n",
      "|      1.0|[-2.0503227895482...|[0.11401976925515...|       1.0|\n",
      "|      1.0|[-1.9554360708280...|[0.12396181876919...|       1.0|\n",
      "|      1.0|[-1.1467078201107...|[0.24109092679847...|       1.0|\n",
      "|      1.0|[-1.4698503211520...|[0.18696536548151...|       1.0|\n",
      "|      0.0|[1.69472254018706...|[0.84484421073581...|       0.0|\n",
      "|      1.0|[1.26032179504787...|[0.77908149803135...|       0.0|\n",
      "|      1.0|[-1.4501313540239...|[0.18998135132665...|       1.0|\n",
      "|      1.0|[-0.0619658876835...|[0.48451348315217...|       1.0|\n",
      "|      0.0|[2.56037173163627...|[0.92826721424349...|       0.0|\n",
      "|      1.0|[-0.8920008140330...|[0.29069710229074...|       1.0|\n",
      "|      0.0|[-1.2464028691324...|[0.22332344045916...|       1.0|\n",
      "|      0.0|[1.95032687007954...|[0.87548227929311...|       0.0|\n",
      "|      1.0|[-0.8497256926713...|[0.29949040291388...|       1.0|\n",
      "|      0.0|[-0.6189589760433...|[0.35001825308221...|       1.0|\n",
      "|      0.0|[1.73615921896138...|[0.85019855753063...|       0.0|\n",
      "|      0.0|[3.56369823671166...|[0.97244684148754...|       0.0|\n",
      "|      0.0|[0.86690971886305...|[0.70410226817396...|       0.0|\n",
      "|      1.0|[-1.5870055403151...|[0.16980561361907...|       1.0|\n",
      "|      1.0|[0.86052411729901...|[0.70277014583679...|       0.0|\n",
      "+---------+--------------------+--------------------+----------+\n",
      "only showing top 20 rows\n",
      "\n"
     ]
    }
   ],
   "source": [
    "lrDf.select('SurvivedD','rawPrediction','probability','prediction').show()"
   ]
  },
  {
   "cell_type": "markdown",
   "metadata": {
    "collapsed": true
   },
   "source": [
    "### 평가\n",
    "\n",
    "* testDF를 만들어서\n",
    "* 이진분류의 경우\n",
    "\n",
    "rawPrediction | 이진분류 예측 또는 확률, double 또는 벡터\n",
    "label | 실제 값\n",
    "\n",
    ". The rawPrediction column can be of type double (binary 0/1 prediction, or probability of label 1) or of type vector (length-2 vector of raw predictions, scores, or label probabilities)."
   ]
  },
  {
   "cell_type": "code",
   "execution_count": 105,
   "metadata": {
    "collapsed": true
   },
   "outputs": [],
   "source": [
    "from pyspark.ml.evaluation import BinaryClassificationEvaluator\n",
    "\n",
    "evaluator = BinaryClassificationEvaluator(rawPredictionCol = 'prediction',\\\n",
    "                                          labelCol='SurvivedD')"
   ]
  },
  {
   "cell_type": "code",
   "execution_count": 106,
   "metadata": {
    "collapsed": false
   },
   "outputs": [
    {
     "data": {
      "text/plain": [
       "0.7919513103962241"
      ]
     },
     "execution_count": 106,
     "metadata": {},
     "output_type": "execute_result"
    }
   ],
   "source": [
    "evaluator.evaluate(lrDf)"
   ]
  },
  {
   "cell_type": "markdown",
   "metadata": {},
   "source": [
    "* ROC\n",
    "\n",
    "val nbMetricsCats = new BinaryClassificationMetrics(nbPredictionsVsTr\n",
    "   ueCats)\n",
    "   val nbPrCats = nbMetricsCats.areaUnderPR\n",
    "   val nbRocCats = nbMetricsCats.areaUnderRO\n",
    "\n",
    "* 개선\n",
    "    * feature standardization\n",
    "    \n",
    "    val matrix = new RowMatrix(vectors)\n",
    "   val matrixSummary = matrix.computeColumnSummaryStatistics()\n",
    "val scaler = new StandardScaler(withMean = true, withStd =\n",
    "   true).fit(vectors)"
   ]
  },
  {
   "cell_type": "code",
   "execution_count": null,
   "metadata": {
    "collapsed": true
   },
   "outputs": [],
   "source": []
  },
  {
   "cell_type": "code",
   "execution_count": null,
   "metadata": {
    "collapsed": true
   },
   "outputs": [],
   "source": []
  },
  {
   "cell_type": "code",
   "execution_count": null,
   "metadata": {
    "collapsed": true
   },
   "outputs": [],
   "source": []
  },
  {
   "cell_type": "code",
   "execution_count": null,
   "metadata": {
    "collapsed": true
   },
   "outputs": [],
   "source": []
  }
 ],
 "metadata": {
  "celltoolbar": "Slideshow",
  "kernelspec": {
   "display_name": "Python 2",
   "language": "python",
   "name": "python2"
  },
  "language_info": {
   "codemirror_mode": {
    "name": "ipython",
    "version": 2
   },
   "file_extension": ".py",
   "mimetype": "text/x-python",
   "name": "python",
   "nbconvert_exporter": "python",
   "pygments_lexer": "ipython2",
   "version": "2.7.17"
  }
 },
 "nbformat": 4,
 "nbformat_minor": 1
}
