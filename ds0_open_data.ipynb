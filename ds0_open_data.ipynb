{
 "cells": [
  {
   "cell_type": "markdown",
   "metadata": {
    "slideshow": {
     "slide_type": "slide"
    }
   },
   "source": [
    "# 오픈 데이터\n",
    "\n",
    "Last Updated: 08202021 Ghana 04152017\n",
    "\n",
    "## O.1 학습내용\n",
    "\n",
    "### O.1.1 목표\n",
    "\n",
    "* 오픈 API를 사용하여 열린데이터, 공공데이터를 가져올 수 있다.\n",
    "* XML, JSON 형식의 데이터를 파싱하여 원하는 데이터를 추출할 수 있다.\n",
    "* 데이터를 NoSql, 파일로 저장할 수 있다."
   ]
  },
  {
   "cell_type": "markdown",
   "metadata": {
    "slideshow": {
     "slide_type": "slide"
    }
   },
   "source": [
    "### O.1.2 목차\n",
    "\n",
    "* O.2 오픈 데이터\n",
    "* O.3 오픈 API\n",
    "* O.4 API 연습: curl, requests, POST, HEAD\n",
    "* O.5 많이 쓰이는 웹데이터 형식\n",
    "    * O.5.1 XML\n",
    "    * O.5.2 JSON\n",
    "* 문제 1: IP 주소에서 지역정보 알아내기\n",
    "* O.6 공공데이터\n",
    "    * O.6.1 인증키\n",
    "    * O.6.2 키를 파일로 저장하고 읽는 자신의 라이브러리 만들기\n",
    "* 문제 2: 서울시 지하철역 정보 수집\n",
    "* 문제 3: 행정동별 서울생활인구(단기체류 외국인)\n",
    "* 문제 4: 서울시 지하철역별 월별 승하차인원 구하기\n",
    "* 문제 5: 서울시 지하철 호선별 역별 시간대별 승하차 인원 정보\n",
    "* 문제 6: 지하철역 승하차 인원\n",
    "* 문제 7: 버스 승하차 인원 월별 정류장별 인원\n",
    "* 문제 8: 서울시 종로구 관측소 현재 온도, 습도, 강수량 구하기\n",
    "* 문제 9: 서울시 골목상권 분석\n",
    "* 문제 10: 공공데이터포털 서울시 구별 교통사고 사망자 수 구하기\n",
    "* 문제 11: 공공데이터포털 대기 오염 정보\n",
    "* 문제 12: 공공데이터포털 서울특별시교육청 공공도서관 소장도서정보\n",
    "* 문제 13: 주식 데이터 읽기\n"
   ]
  },
  {
   "cell_type": "markdown",
   "metadata": {
    "slideshow": {
     "slide_type": "slide"
    }
   },
   "source": [
    "## O.2 오픈 데이터\n",
    "\n",
    "'오픈 데이터'는 어떤 업무가 수행되고, 생성된 결과로서 외부에 개방되는 데이터를 말한다. \n",
    "공공기관에서 생성이 되면 '**공공데이터**'라고도 하며,\n",
    "우리 나라에서는 2013년 '**공공데이터의 제공 및 이용활성화에 관한 법률**'을 시행하여,\n",
    "공공 정보를 외부에 개방하는 공공데이터 정책을 펴고 있다.\n",
    "그렇다고 해서 공공기관만 오픈 데이터를 제공하는 것은 아니다.\n",
    "구글, 네이버나 다음과 같은 포덜, 트위터, 페이스북 등 비공공기관에서도 \n",
    "외부에 데이터를 개방하고 있다.\n",
    "\n",
    "'오픈 데이터'는 일반적인 데이터와 달리 '열린' 또는 '오픈'이라는 점에서 차이가 있다.\n",
    "'열린'의 의미를 이해하려면, 오래 전부터 그 용어를 써오고 있는 '오픈소프트웨어'를 참고할 필요가 있다.\n",
    "'**오픈소프트웨어**'는 소스코드가 공개되어 누구나 사용할 수 있는 '오픈소스 라이선스'를 충족하는 소프트웨어를 말한다.\n",
    "오픈이란 누구나 볼 수 있는 공개에서 더 나아가, 라이선스가 공개되어 있다는 뜻이다.\n",
    "저작권에 묶여 있어 사용이 제한되어 있지 않다.\n",
    "Open Knowledge Foundation은 오픈이란 \"**출처와 개방성 유지를 위한 수단을 최대 조건으로 누구나 자유롭게 접근, 사용, 변경, 공유**할 수 있을 때, 지식은 열려있다\"고 정의 하고 있다 (http://opendefinition.org/).\n",
    "즉  누구나 원하는 내용을 자유롭게 사용하고, 수정하고, 공유할 수 있다는 의미이다.\n",
    "'오픈데이터'는 이러한 오픈의 특징을 가지고 있는 데이터를 말한다."
   ]
  },
  {
   "cell_type": "markdown",
   "metadata": {
    "slideshow": {
     "slide_type": "subslide"
    }
   },
   "source": [
    "## O.3 오픈 API\n",
    "\n",
    "원하는 데이터를 찾았다고 하자. 그러한 데이터는 보통 내려받기를 한다.\n",
    "반면에 프로그래밍을 통해 가져올 수 있도록 하는 경우도 있다.\n",
    "즉, API, Application Programming Interface를 통해서 필요한 데이터가 자유롭게 사용될 수 있도록 개방하는 것이다.\n",
    "API는 자신의 애플리케이션에서 다른 애플리케이션의 함수를 호출하여, 데이터를 가져오거나 실행 결과를 활용할 수는 인터페이스이다.\n",
    "단순하게 말하면 **URL과 함수 및 그 함수호출에 필요한 패러미터**로 구성된다.\n",
    "프로그램에서 API를 사용하면, 이미 완성되고 검증된 함수를 활용할 수 있기 때문에 시스템을 완성하는데 매우 유용하다.\n",
    "우리나라 포털뿐만 아니라 트위터, 페이스북, 한국 포털이 API를 통해서 데이터를 제공하고 있고, 그 추세는 늘어날 것이다.\n",
    "뉴스, 사진 또는 다른 앱에서 그 내용을 누구나 쉽게 다른 사람에게 공유할 수 있게 되었는데, 이는 API 때문이다.\n",
    "SNS가 스마트폰에서 편리하게 사용되게된 이유로 API를 빼놓을 수가 없다.\n",
    "트위터가 API를 공개해서 실시간 채팅이라는 자신의 기능을 널리 퍼뜨리게 된 계기가 되었다.\n",
    "자신의 API를 공개하면 얼핏 손해라고 볼 수 있지만 자신의 API에 의존하는 기반을 늘리는 효과를 가져올 수 있다.\n",
    "\n",
    "Open API는 오픈에 따라 라이선스가 풀려서 오픈 데이터를 누구나 (보통 개발자) 사용할 수 있도록 제공되는 표준화된 API를 말한다.\n",
    "Open API는 보통 웹에서 제공되는데, 이를 Web API라고 한다. HTTP 프로토콜에 따라 API가 제공된다.\n",
    "API는 **REST** (REpresentational State Transfer) 방식으로 제공되는 경우가 많다.\n",
    "REST는 '웹서비스'를 제공하는 아키텍처를 말한다.\n",
    "'웹서비스'는 HTTP 프로토콜을 통하여 서비스, 자원을 가져오거나 저장하는 기능이다.\n",
    "**SOAP** (Simple Object Access Protocol) 보다는 REST가 간편하여 많이 사용된다.\n"
   ]
  },
  {
   "cell_type": "markdown",
   "metadata": {
    "slideshow": {
     "slide_type": "slide"
    }
   },
   "source": [
    "### REST API\n",
    "\n",
    "넓게 보면 RESTful API도 웹스크레이핑이라고 볼 수 있다.\n",
    "그러나, 웹스크레이핑은 HTML 페이지를 대상으로 한다면, REST는 그 대상이 페이지가 아니라 데이터, 자원 resource이다.\n",
    "물론 웹스크레이핑과 달리, REST는 공식적으로 제공하는 API를 사용한다는 차이가 있다.\n",
    "* REST의 API.\n",
    "    * HTTP Requests와 Responses를 사용하여 데이터를 가져온다.\n",
    "    * **URI, 자원 ID, HTTP 방법 (POST, DELETE, GET, PUT)을 명시**하여 자원 Resource를 읽어 온다.\n",
    "    * '자원'은 REST를 사용해서 가져올 수 있는 데이터로 HTML 페이지, XML, Videos 등을 말한다.\n",
    "    * 데이터는 표현한다는 의미로 Representations이라고 하며 주로 **JSON**, **XML**을 많이 쓰고 있다.\n",
    "    * 자원은 URI 주소 방식에 따라 지정할 수 있다. 뒤에 Query Parameter를 추가할 수 있다. URI를 'endpoint'라고 한다.\n",
    "\n",
    "```\n",
    "http://www.example.com/myresource/1?param1=value1\n",
    "```\n",
    "\n",
    "대량 데이터를 가져오는 경우, 연속적 수행에 필요한 pagination, 정해진 데이터 한도 rate limit를 주의한다.\n",
    "HTTP 프로토콜과 같이 상태를 보관하지 않는 특성을 가진다 (stateless)."
   ]
  },
  {
   "cell_type": "markdown",
   "metadata": {
    "slideshow": {
     "slide_type": "subslide"
    }
   },
   "source": [
    "### REST API 주요 기능\n",
    "\n",
    "주요 HTTP Methods, 기능을 간략하게 보면:\n",
    "\n",
    "함수 | 설명\n",
    "-----:|:-----|\n",
    "GET | 특정 항목을 읽어오는 경우 사용. cache로 저장하고, 뒤로 가기를 할 수 있다. ```http://.../index.html?key1=value1&key2=value2```\n",
    "POST | 새로운 자원을 입력, 갱신 (엎어쓰기). cache로 저장되지 않아 뒤로 가기를 할 수 없다. PUT과 달리 idempotent가 아니다. 여러 번 수행하면 id가 자동 생성되는 것과 같이 여러 레코드가 생성된다. 예: ```INSERT INTO student(name, major) VALUES (\"js\", \"software\")```\n",
    "HEAD | GET을 수행하지만, body를 가져오지 않고 headers만 읽는 경우 사용한다.\n",
    "PUT | POST와 비슷한 기능. 여러 번 실행되어도 변화가 없다. 즉, idempotent, 여러 번 수행해도 같은 id로 수행되기 때문에 변화가 없다. 예: ```UPDATE student SET major = \"software\" where id=\"201711111\"```\n",
    "DELETE | 자원을 삭제하는 기능\n",
    "CONNECT | 클라이언트와 서버의 TCP/IP tunnel을 만드는 기능\n",
    "\n",
    "> idempotence 멱등법칙\n",
    "\n",
    "> 동일한 항목에 같은 기능이 여러번 실행되어도 값이 변하지 않고 동일하게 유지된다는 의미."
   ]
  },
  {
   "cell_type": "markdown",
   "metadata": {},
   "source": [
    "## O.4 API 연습\n",
    "\n",
    "REST API를 테스트하려면, 웹 애플리케이션이 구축되어 있어야 가능하다.\n",
    "[httpbin](https://github.com/Runscope/httpbin) 사이트는 API를 테스트하기 편리한 사이트이다. 모든 endpoint 결과는 JSON으로 반환된다.\n",
    "\n",
    "API를 호출하기 위해서는 널리 쓰이고 있는 curl과 Python의 HTTPie, requests 등이 여러 라이브러리가 있다."
   ]
  },
  {
   "cell_type": "markdown",
   "metadata": {
    "slideshow": {
     "slide_type": "slide"
    }
   },
   "source": [
    "### O.4.1 curl\n",
    "\n",
    "[cURL](https://en.wikipedia.org/wiki/CURL)\n",
    "cURL은 이름에서 알 수 있듯이 URL관련한 도구로서, 웹서버에게 HTTP 관련 작업을 요청하고, 처리하는 클라이언트이다. HTTP 뿐만 아니라 FTP, SMTP, LDAP, MQTT, POP3 등 여러 네트워크 프로토콜을 지원하고 있다. 프로그래밍 언어를 사용해도 같은 작업을 할 수 있지만, 명령어 방식으로 사용하는 도구로서 간편하다는 장점이 있다.\n",
    "* 리눅스 설치\n",
    "```\n",
    "sudo apt install curl\n",
    "```\n",
    "* 윈도우 설치\n",
    "    * cURL 다운로드 https://curl.se/download.html\n",
    "    * 운영체제 선택 Win32 또는 Win64. 그리고 보통 윈도우면 Generic 선택.\n",
    "    * unzip\n",
    "    * PATH 설정"
   ]
  },
  {
   "cell_type": "markdown",
   "metadata": {},
   "source": [
    "```/ip```는 요청측의 IP 주소를 출력한다."
   ]
  },
  {
   "cell_type": "code",
   "execution_count": 6,
   "metadata": {
    "slideshow": {
     "slide_type": "subslide"
    }
   },
   "outputs": [
    {
     "name": "stdout",
     "output_type": "stream",
     "text": [
      "{\n",
      "  \"origin\": \"175.195.217.130\"\n",
      "}\n"
     ]
    },
    {
     "name": "stderr",
     "output_type": "stream",
     "text": [
      "\n"
     ]
    }
   ],
   "source": [
    "!curl http://httpbin.org/ip"
   ]
  },
  {
   "cell_type": "markdown",
   "metadata": {},
   "source": [
    "```/get```은 요청인자 args, 헤더정보 headers, 요청측 origin ip를 출력한다."
   ]
  },
  {
   "cell_type": "code",
   "execution_count": 7,
   "metadata": {
    "slideshow": {
     "slide_type": "subslide"
    }
   },
   "outputs": [
    {
     "name": "stdout",
     "output_type": "stream",
     "text": [
      "{\n",
      "  \"args\": {}, \n",
      "  \"headers\": {\n",
      "    \"Accept\": \"*/*\", \n",
      "    \"Host\": \"httpbin.org\", \n",
      "    \"User-Agent\": \"curl/7.65.2\", \n",
      "    \"X-Amzn-Trace-Id\": \"Root=1-613b7b02-28eba1fb5d9682e37a47a5b1\"\n",
      "  }, \n",
      "  \"origin\": \"175.195.217.130\", \n",
      "  \"url\": \"http://httpbin.org/get\"\n",
      "}\n"
     ]
    },
    {
     "name": "stderr",
     "output_type": "stream",
     "text": [
      "\n"
     ]
    }
   ],
   "source": [
    "!curl http://httpbin.org/get"
   ]
  },
  {
   "cell_type": "markdown",
   "metadata": {
    "slideshow": {
     "slide_type": "subslide"
    }
   },
   "source": [
    "param을 key,value 쌍으로 넘겨줄 수 있고, \"args\": {} 값에서 확인할 수 있다."
   ]
  },
  {
   "cell_type": "code",
   "execution_count": 8,
   "metadata": {},
   "outputs": [
    {
     "name": "stdout",
     "output_type": "stream",
     "text": [
      "{\n",
      "  \"args\": {\n",
      "    \"myname\": \"'js'\"\n",
      "  }, \n",
      "  \"headers\": {\n",
      "    \"Accept\": \"*/*\", \n",
      "    \"Host\": \"httpbin.org\", \n",
      "    \"User-Agent\": \"curl/7.65.2\", \n",
      "    \"X-Amzn-Trace-Id\": \"Root=1-613b7b03-1d6bc384796a0cf816b68830\"\n",
      "  }, \n",
      "  \"origin\": \"175.195.217.130\", \n",
      "  \"url\": \"http://httpbin.org/get?myname='js'\"\n",
      "}\n"
     ]
    },
    {
     "name": "stderr",
     "output_type": "stream",
     "text": [
      "\n"
     ]
    }
   ],
   "source": [
    "!curl http://httpbin.org/get?myname='js'"
   ]
  },
  {
   "cell_type": "markdown",
   "metadata": {
    "slideshow": {
     "slide_type": "subslide"
    }
   },
   "source": [
    "### O.4.2 requests\n",
    "\n",
    "python requests 라이브러리를 사용해 본다.\n",
    "requests.options(url)는 url이 어떤 HTTP methods가 지원되는지 알려준다.\n"
   ]
  },
  {
   "cell_type": "code",
   "execution_count": 9,
   "metadata": {},
   "outputs": [],
   "source": [
    "import requests\n",
    "r = requests.options(\"http://httpbin.org/\")"
   ]
  },
  {
   "cell_type": "markdown",
   "metadata": {},
   "source": [
    "아래에서 보듯이, httpbin.org는 HEAD, OPTIONS, GET를 지원한다."
   ]
  },
  {
   "cell_type": "code",
   "execution_count": 10,
   "metadata": {},
   "outputs": [
    {
     "name": "stdout",
     "output_type": "stream",
     "text": [
      "HEAD, OPTIONS, GET\n"
     ]
    }
   ],
   "source": [
    "print(r.headers['allow'])"
   ]
  },
  {
   "cell_type": "markdown",
   "metadata": {},
   "source": [
    "HTTP에는 코드 번호로 처리한 응답의 상태를 알 수 있다.\n",
    "첫 자리에 따라 구분되고, 끝 두자리는 특별한 의미없이 일련번호로 매겨지게 된다.\n",
    "몇 가지 코드를 살펴보자.\n",
    "* 200: 앞자리 2는 성공을 의미하며, 200은 HTTP 요청이 성공적으로 접수, 처리되었다는 의미이다.\n",
    "* 300: 앞자리 3은 우회 (redirection)를 의미하고, 300은 클라이언트가 어떤 하나를 선택해야 한다는 의미이다.\n",
    "* 404: 앞자리 4는 클라이언트측의 오류로서, 404는 찾을 수 없다는, 403은 해당 자원에 대한 접근이 금지되었다는 응답이다.\n",
    "* 500: 앞자리 5는 서버측의 오류이다. 500은 서버오류, 501은 서버 미구현을 의미한다.\n"
   ]
  },
  {
   "cell_type": "code",
   "execution_count": 11,
   "metadata": {
    "slideshow": {
     "slide_type": "-"
    }
   },
   "outputs": [
    {
     "data": {
      "text/plain": [
       "200"
      ]
     },
     "execution_count": 11,
     "metadata": {},
     "output_type": "execute_result"
    }
   ],
   "source": [
    "r.status_code"
   ]
  },
  {
   "cell_type": "code",
   "execution_count": 12,
   "metadata": {
    "slideshow": {
     "slide_type": "subslide"
    }
   },
   "outputs": [],
   "source": [
    "bad_r = requests.get('http://httpbin.org/status/404')"
   ]
  },
  {
   "cell_type": "code",
   "execution_count": 13,
   "metadata": {
    "slideshow": {
     "slide_type": "-"
    }
   },
   "outputs": [
    {
     "data": {
      "text/plain": [
       "404"
      ]
     },
     "execution_count": 13,
     "metadata": {},
     "output_type": "execute_result"
    }
   ],
   "source": [
    "bad_r.status_code"
   ]
  },
  {
   "cell_type": "markdown",
   "metadata": {
    "slideshow": {
     "slide_type": "subslide"
    }
   },
   "source": [
    "### O.4.3 POST\n",
    "\n",
    "post, put, delete 서비스는 사용할 자원이 저장되어 있지 않으므로, 일부 기능은 의미가 없다.\n",
    "\n",
    "```\n",
    "r = requests.post(\"http://httpbin.org/post\")\n",
    "r = requests.put(\"http://httpbin.org/put\")\n",
    "r = requests.delete(\"http://httpbin.org/delete\")\n",
    "```"
   ]
  },
  {
   "cell_type": "markdown",
   "metadata": {
    "collapsed": true
   },
   "source": [
    "POST는 HTML form에서 입력을 받아 전송하는 경우에 사용한다.\n",
    "아래와 같이 ```data```에 전송할 데이터를 dictionary형식으로 \"name\":\"js\"를 입력한다."
   ]
  },
  {
   "cell_type": "code",
   "execution_count": 14,
   "metadata": {
    "slideshow": {
     "slide_type": "-"
    }
   },
   "outputs": [],
   "source": [
    "r = requests.post(\"http://httpbin.org/post\", data={\"name\":\"js\"})"
   ]
  },
  {
   "cell_type": "markdown",
   "metadata": {},
   "source": [
    "아래에서 form 필드를 찾아보자. 'form': {'name': 'js'}와 같이 form형식으로 작성되어 데이터가 만들어지는 것을 알 수 있다."
   ]
  },
  {
   "cell_type": "code",
   "execution_count": 15,
   "metadata": {
    "scrolled": true,
    "slideshow": {
     "slide_type": "subslide"
    }
   },
   "outputs": [
    {
     "data": {
      "text/plain": [
       "{'args': {},\n",
       " 'data': '',\n",
       " 'files': {},\n",
       " 'form': {'name': 'js'},\n",
       " 'headers': {'Accept': '*/*',\n",
       "  'Accept-Encoding': 'gzip, deflate',\n",
       "  'Content-Length': '7',\n",
       "  'Content-Type': 'application/x-www-form-urlencoded',\n",
       "  'Host': 'httpbin.org',\n",
       "  'User-Agent': 'python-requests/2.22.0',\n",
       "  'X-Amzn-Trace-Id': 'Root=1-613b7b05-354ec8c92fba38702da2a08a'},\n",
       " 'json': None,\n",
       " 'origin': '175.195.217.130',\n",
       " 'url': 'http://httpbin.org/post'}"
      ]
     },
     "execution_count": 15,
     "metadata": {},
     "output_type": "execute_result"
    }
   ],
   "source": [
    "r.json()"
   ]
  },
  {
   "cell_type": "markdown",
   "metadata": {
    "slideshow": {
     "slide_type": "subslide"
    }
   },
   "source": [
    "### O.4.4 HEAD\n",
    "\n",
    "HEAD를 사용해 본다.\n",
    "대량 다운로드와 같이 많은 자원이 소모되는 경우를 대비해, GET함수를 사용하기 전 미리 어떤 헤더가 생성이 되는지 알아볼 경우 사용한다.\n",
    "requests 또는 urllib을 사용할 수 있다."
   ]
  },
  {
   "cell_type": "markdown",
   "metadata": {
    "slideshow": {
     "slide_type": "subslide"
    }
   },
   "source": [
    "#### requests\n",
    "\n",
    "아래는 httpbin.org에 head를 사용해보자."
   ]
  },
  {
   "cell_type": "markdown",
   "metadata": {},
   "source": [
    "클라이언트와 서버가 HTTP 통신을 하면서, 그 헤더에 HTTP reqeusts, responses 관련 정보가 포함되어 있다.\n",
    "아래에서 보듯이, 필드명과 그 값으로 설정되어 있는데, 예를 들면 ```'Access-Control-Allow-Origin': '*'```와 같이 콜론으로 분리해서 적혀있다."
   ]
  },
  {
   "cell_type": "code",
   "execution_count": 16,
   "metadata": {},
   "outputs": [],
   "source": [
    "r = requests.head(\"http://httpbin.org/\")"
   ]
  },
  {
   "cell_type": "code",
   "execution_count": 17,
   "metadata": {},
   "outputs": [
    {
     "name": "stdout",
     "output_type": "stream",
     "text": [
      "{'Date': 'Fri, 10 Sep 2021 15:34:30 GMT', 'Content-Type': 'text/html; charset=utf-8', 'Content-Length': '9593', 'Connection': 'keep-alive', 'Server': 'gunicorn/19.9.0', 'Access-Control-Allow-Origin': '*', 'Access-Control-Allow-Credentials': 'true'}\n"
     ]
    }
   ],
   "source": [
    "print(r.headers)"
   ]
  },
  {
   "cell_type": "code",
   "execution_count": 18,
   "metadata": {
    "slideshow": {
     "slide_type": "-"
    }
   },
   "outputs": [
    {
     "data": {
      "text/plain": [
       "'text/html; charset=utf-8'"
      ]
     },
     "execution_count": 18,
     "metadata": {},
     "output_type": "execute_result"
    }
   ],
   "source": [
    "r.headers['Content-Type']"
   ]
  },
  {
   "cell_type": "markdown",
   "metadata": {},
   "source": [
    "#### urllib\n",
    "\n",
    "urllib의 class HeadRequest를 사용해서 HEAD정보를 출력해보자."
   ]
  },
  {
   "cell_type": "code",
   "execution_count": 19,
   "metadata": {},
   "outputs": [],
   "source": [
    "import urllib\n",
    "\n",
    "class HeadRequest(urllib.request.Request):\n",
    "     def get_method(self):\n",
    "         return \"HEAD\"\n",
    "\n",
    "response = urllib.request.urlopen(HeadRequest(\"http://httpbin.org/\"))"
   ]
  },
  {
   "cell_type": "code",
   "execution_count": 20,
   "metadata": {},
   "outputs": [
    {
     "name": "stdout",
     "output_type": "stream",
     "text": [
      "Date: Fri, 10 Sep 2021 15:34:30 GMT\n",
      "Content-Type: text/html; charset=utf-8\n",
      "Content-Length: 9593\n",
      "Connection: close\n",
      "Server: gunicorn/19.9.0\n",
      "Access-Control-Allow-Origin: *\n",
      "Access-Control-Allow-Credentials: true\n",
      "\n",
      "\n"
     ]
    }
   ],
   "source": [
    "print(response.info())"
   ]
  },
  {
   "cell_type": "code",
   "execution_count": 21,
   "metadata": {
    "slideshow": {
     "slide_type": "subslide"
    }
   },
   "outputs": [
    {
     "data": {
      "text/plain": [
       "'http://httpbin.org/'"
      ]
     },
     "execution_count": 21,
     "metadata": {},
     "output_type": "execute_result"
    }
   ],
   "source": [
    "response.geturl()"
   ]
  },
  {
   "cell_type": "markdown",
   "metadata": {
    "slideshow": {
     "slide_type": "slide"
    }
   },
   "source": [
    "## O.5 많이 쓰이는 웹데이터 형식\n",
    "\n",
    "앞서 본 웹데이터는 HTML 형식이었다. API를 사용하여 수집하는 데이터는 XML 또는 JSON 형식이 많이 쓰인다.\n",
    "\n",
    "### O.5.1 XML\n",
    "\n",
    "XML, Extensible Markup Language은 확장가능한 마크업이다. JSON과 더불어 많이 사용되는 웹데이터 형식이다. key-value 형식으로 데이터 항목을 구성하고 추가, 삭제, 읽기가 용이하다.\n",
    "Python에서 사용할 수 있는 XML 라이브러리는:\n",
    "* ElementTree: 파이썬 내장 built-in 라이브러리\n",
    "* lxml (larger xml): HTML, XML을 빠르게 파싱할 수 있으며, 별도 설치해야 한다. ```pip3 install lxml```"
   ]
  },
  {
   "cell_type": "markdown",
   "metadata": {
    "slideshow": {
     "slide_type": "subslide"
    }
   },
   "source": [
    "* xml header\n",
    "    * version - 1.0과 같이 버전 정보를 넣는다.\n",
    "    * encoding - utf-8을 지정할 수 있다.\n",
    "    * root 앞에 위치한다.\n",
    "```\n",
    "<?xml version='1.0' encoding='utf-8'?>\n",
    "```\n",
    "    "
   ]
  },
  {
   "cell_type": "markdown",
   "metadata": {
    "slideshow": {
     "slide_type": "slide"
    }
   },
   "source": [
    "* 태그는 시작태그 $<$foo$>$ 끝태그 $<$/foo$>$로 구성한다.\n",
    "* 태그는 계층적으로 구성한다. 각 태그는 element라고 한다.\n",
    "    * (1) 루트 element (맨 처음 나오는 element),\n",
    "    * (2) 루트 아래에 있는 elements로 계층적으로 구성, 중첩을 할 수 있다 (nesting element)"
   ]
  },
  {
   "cell_type": "markdown",
   "metadata": {
    "slideshow": {
     "slide_type": "slide"
    }
   },
   "source": [
    "#### XML 정의\n",
    "\n",
    "입력데이터를 xml형식으로 정의해보자."
   ]
  },
  {
   "cell_type": "code",
   "execution_count": 22,
   "metadata": {
    "slideshow": {
     "slide_type": "-"
    }
   },
   "outputs": [],
   "source": [
    "input = '''\n",
    "<students>               # root 태그는 하나만 허용.\n",
    "    <student x=\"1\">      # 속성은 시작태그에 적고, key=\"value\"로 구성. value는 따옴표.\n",
    "        <id>001</id>     # 계층적으로 태그 구성.\n",
    "        <name>Kim</name>\n",
    "    </student>\n",
    "    <student x=\"2\">\n",
    "        <id>002</id>\n",
    "        <name>Lee</name>\n",
    "    </student>\n",
    "</students>\n",
    "'''"
   ]
  },
  {
   "cell_type": "markdown",
   "metadata": {},
   "source": [
    "#### XML 읽기\n",
    "\n",
    "lxml 라이브러리 ElementTree를 사용하여 xml데이터를 읽어낼 수 있다.\n",
    "아래 표에서 보듯이, (1) string에서 읽거나, 또는 (2) 파일에서 읽어 올 수 있다.\n",
    "\n",
    "구분 | string | file\n",
    "---|---|---\n",
    "읽기 | ET.fromstring() | ET.parse()\n",
    "root | 읽으면 root | getroot()를 사용해서 root를 얻음\n",
    "\n",
    "* lxml.etree.fromstring()함수를 사용해서 문자열을 읽는다.\n",
    "* lxml.etree.parse()함수는 '파일'을 읽을 경우 사용한다.   \n",
    "    * 파일이 아닌 문자열을 넘길 경우 'StringIO'를 사용한다. StringIO는 문자열을 파일처럼 만들어 준다. Python3에서는 StringIO -> io.StringIO로 변경되었다. from io import StringIO\n",
    "    "
   ]
  },
  {
   "cell_type": "markdown",
   "metadata": {},
   "source": [
    "문자열에서 읽으려면 ```fromstring()``` 함수를 사용한다."
   ]
  },
  {
   "cell_type": "code",
   "execution_count": 1,
   "metadata": {},
   "outputs": [
    {
     "ename": "ValueError",
     "evalue": "can only parse strings",
     "output_type": "error",
     "traceback": [
      "\u001b[1;31m---------------------------------------------------------------------------\u001b[0m",
      "\u001b[1;31mValueError\u001b[0m                                Traceback (most recent call last)",
      "\u001b[1;32m<ipython-input-1-f92f6ae65812>\u001b[0m in \u001b[0;36m<module>\u001b[1;34m\u001b[0m\n\u001b[0;32m      1\u001b[0m \u001b[1;32mimport\u001b[0m \u001b[0mlxml\u001b[0m\u001b[1;33m.\u001b[0m\u001b[0metree\u001b[0m\u001b[1;33m\u001b[0m\u001b[1;33m\u001b[0m\u001b[0m\n\u001b[1;32m----> 2\u001b[1;33m \u001b[0mroot\u001b[0m\u001b[1;33m=\u001b[0m\u001b[0mlxml\u001b[0m\u001b[1;33m.\u001b[0m\u001b[0metree\u001b[0m\u001b[1;33m.\u001b[0m\u001b[0mfromstring\u001b[0m\u001b[1;33m(\u001b[0m\u001b[0minput\u001b[0m\u001b[1;33m)\u001b[0m\u001b[1;33m\u001b[0m\u001b[1;33m\u001b[0m\u001b[0m\n\u001b[0m",
      "\u001b[1;32msrc/lxml/etree.pyx\u001b[0m in \u001b[0;36mlxml.etree.fromstring\u001b[1;34m()\u001b[0m\n",
      "\u001b[1;32msrc/lxml/parser.pxi\u001b[0m in \u001b[0;36mlxml.etree._parseMemoryDocument\u001b[1;34m()\u001b[0m\n",
      "\u001b[1;31mValueError\u001b[0m: can only parse strings"
     ]
    }
   ],
   "source": [
    "import lxml.etree\n",
    "root=lxml.etree.fromstring(input)"
   ]
  },
  {
   "cell_type": "markdown",
   "metadata": {},
   "source": [
    "parse는 파일에서 xml을 읽는 함수다.\n",
    "parse(문자열)함수에 문자열을 인자를 넣어도 된다.\n",
    "또는 아래와 같이 파일에서 문자열을 읽어온 후 그 문자열을 사용해도 된다.\n",
    "\n",
    "```\n",
    "import os\n",
    "f=open(os.path.join('src','my.xml'))\n",
    "xmlstr=f.read()\n",
    "f.close()\n",
    "```"
   ]
  },
  {
   "cell_type": "code",
   "execution_count": 24,
   "metadata": {
    "slideshow": {
     "slide_type": "subslide"
    }
   },
   "outputs": [],
   "source": [
    "from io import StringIO\n",
    "tree=lxml.etree.parse(StringIO(input))\n",
    "root=tree.getroot()"
   ]
  },
  {
   "cell_type": "markdown",
   "metadata": {
    "slideshow": {
     "slide_type": "subslide"
    }
   },
   "source": [
    "파일에서 직접 파싱해서 해보자."
   ]
  },
  {
   "cell_type": "code",
   "execution_count": 25,
   "metadata": {},
   "outputs": [
    {
     "data": {
      "text/plain": [
       "'C:\\\\Users\\\\zaqxs\\\\Code\\\\201910787\\\\s-master'"
      ]
     },
     "execution_count": 25,
     "metadata": {},
     "output_type": "execute_result"
    }
   ],
   "source": [
    "import os\n",
    "os.getcwd()"
   ]
  },
  {
   "cell_type": "code",
   "execution_count": 26,
   "metadata": {
    "scrolled": true
   },
   "outputs": [
    {
     "name": "stdout",
     "output_type": "stream",
     "text": [
      "Overwriting src/ds_open_hello.xml\n"
     ]
    }
   ],
   "source": [
    "%%writefile src/ds_open_hello.xml\n",
    "<students>\n",
    "<student x=\"1\">\n",
    "    <id>001</id>\n",
    "    <name>Kim</name>\n",
    "</student>\n",
    "<student x=\"2\">\n",
    "    <id>002</id>\n",
    "    <name>Lee</name>\n",
    "</student>\n",
    "</students>"
   ]
  },
  {
   "cell_type": "markdown",
   "metadata": {
    "slideshow": {
     "slide_type": "subslide"
    }
   },
   "source": [
    "* 반복은 tree 또는 root에서 해도 된다. 아래는 tree에서 for문을 반복한다.\n",
    "* 루트는 getroot() 함수를 이용함."
   ]
  },
  {
   "cell_type": "code",
   "execution_count": 27,
   "metadata": {},
   "outputs": [],
   "source": [
    "import os\n",
    "tree=lxml.etree.parse(os.path.join('src','ds_open_hello.xml'))"
   ]
  },
  {
   "cell_type": "code",
   "execution_count": 28,
   "metadata": {},
   "outputs": [],
   "source": [
    "root=tree.getroot()"
   ]
  },
  {
   "cell_type": "markdown",
   "metadata": {},
   "source": [
    "데이터를 읽어오면, 태그를 인식한 것처럼 보이지만 그렇지 않다.\n",
    "파일에서 읽어온 것은 '태그'가 아니라 '문자열'이다. 파싱이 완료된 '태그'가 아니라, 파싱을 해야 하는 '문자열'이다.\n",
    "태그와 그 안에 포함된 데이터를 인식하기 위해서이다."
   ]
  },
  {
   "cell_type": "code",
   "execution_count": 29,
   "metadata": {
    "scrolled": false
   },
   "outputs": [
    {
     "data": {
      "text/plain": [
       "str"
      ]
     },
     "execution_count": 29,
     "metadata": {},
     "output_type": "execute_result"
    }
   ],
   "source": [
    "type(root.tag)"
   ]
  },
  {
   "cell_type": "markdown",
   "metadata": {},
   "source": [
    "현재 XML 트리에 어떤 태그가 있는지 확인해보자."
   ]
  },
  {
   "cell_type": "code",
   "execution_count": 30,
   "metadata": {},
   "outputs": [
    {
     "name": "stdout",
     "output_type": "stream",
     "text": [
      "student\n",
      "student\n"
     ]
    }
   ],
   "source": [
    "for e in root:\n",
    "    print(e.tag)"
   ]
  },
  {
   "cell_type": "markdown",
   "metadata": {},
   "source": [
    "getchildren()으로 확인할 수 있다."
   ]
  },
  {
   "cell_type": "code",
   "execution_count": 31,
   "metadata": {},
   "outputs": [
    {
     "data": {
      "text/plain": [
       "[<Element student at 0x23472aac508>, <Element student at 0x23472a55e08>]"
      ]
     },
     "execution_count": 31,
     "metadata": {},
     "output_type": "execute_result"
    }
   ],
   "source": [
    "root.getchildren()"
   ]
  },
  {
   "cell_type": "markdown",
   "metadata": {},
   "source": [
    "```getChilderen()```은 하위 요소를 모두 찾아 리스트로 만들어 준다."
   ]
  },
  {
   "cell_type": "code",
   "execution_count": 32,
   "metadata": {},
   "outputs": [
    {
     "data": {
      "text/plain": [
       "list"
      ]
     },
     "execution_count": 32,
     "metadata": {},
     "output_type": "execute_result"
    }
   ],
   "source": [
    "type(root.getchildren())"
   ]
  },
  {
   "cell_type": "markdown",
   "metadata": {},
   "source": [
    "따라서 하나씩 가져오려면 리스트에 대해 index를 사용한다."
   ]
  },
  {
   "cell_type": "code",
   "execution_count": 33,
   "metadata": {},
   "outputs": [
    {
     "data": {
      "text/plain": [
       "<Element student at 0x23472a55e08>"
      ]
     },
     "execution_count": 33,
     "metadata": {},
     "output_type": "execute_result"
    }
   ],
   "source": [
    "root.getchildren()[1]"
   ]
  },
  {
   "cell_type": "markdown",
   "metadata": {
    "slideshow": {
     "slide_type": "subslide"
    }
   },
   "source": [
    "* 계층으로된 데이터를 읽으려면 반복문으로 읽어보자.\n"
   ]
  },
  {
   "cell_type": "code",
   "execution_count": 34,
   "metadata": {
    "slideshow": {
     "slide_type": "subslide"
    }
   },
   "outputs": [
    {
     "name": "stdout",
     "output_type": "stream",
     "text": [
      "id => 001\n",
      "name => Kim\n",
      "id => 002\n",
      "name => Lee\n"
     ]
    }
   ],
   "source": [
    "for ee in root.getchildren():    # 하위 요소를 읽음\n",
    "    for e in ee.getchildren():   # 하위의 하위 요소를 읽음\n",
    "        if not e.text:\n",
    "            text = \"None\"\n",
    "        else:\n",
    "            text = e.text\n",
    "        print(e.tag + \" => \" + text)"
   ]
  },
  {
   "cell_type": "markdown",
   "metadata": {
    "slideshow": {
     "slide_type": "subslide"
    }
   },
   "source": [
    "* getiterator()를 사용하여, 태그를 하나씩 접근해, tag, text, attribute를 출력한다."
   ]
  },
  {
   "cell_type": "code",
   "execution_count": 35,
   "metadata": {
    "scrolled": true
   },
   "outputs": [
    {
     "name": "stdout",
     "output_type": "stream",
     "text": [
      "TAG: students \tATTRIB: {} \t\t TEXT: \n",
      "\n",
      "TAG: student \tATTRIB: {'x': '1'} \t\t TEXT: \n",
      "    \n",
      "TAG: id \tATTRIB: {} \t\t TEXT: 001\n",
      "TAG: name \tATTRIB: {} \t\t TEXT: Kim\n",
      "TAG: student \tATTRIB: {'x': '2'} \t\t TEXT: \n",
      "    \n",
      "TAG: id \tATTRIB: {} \t\t TEXT: 002\n",
      "TAG: name \tATTRIB: {} \t\t TEXT: Lee\n"
     ]
    }
   ],
   "source": [
    "for node in root.getiterator():\n",
    "    #print('TAG: {0:10s} ATTRIB: {1:10s}'.format(node.tag, node.attrib))\n",
    "    print('TAG: {0} \\tATTRIB: {1} \\t\\t TEXT: {2}'.format(node.tag, node.attrib, node.text))"
   ]
  },
  {
   "cell_type": "markdown",
   "metadata": {},
   "source": [
    "#### XML 검색\n",
    "\n",
    "검색은 다음과 같은 find() 함수가 있다.\n",
    "* ```iterfind()```: 반복적으로 인자와 일치하는 요소를 검색\n",
    "* ```findall()```: 인자와 일치하는 요소들을 리스트로 반환\n",
    "* ```find()```: 인자와 일치하는 첫 요소를 반환\n",
    "* ```findtext()```: 인자와 일치하는 첫 요소의 ```.text``` 내용을 반환"
   ]
  },
  {
   "cell_type": "markdown",
   "metadata": {},
   "source": [
    "find() 함수는 student 태그를 하나만 검색한다."
   ]
  },
  {
   "cell_type": "code",
   "execution_count": 36,
   "metadata": {
    "slideshow": {
     "slide_type": "subslide"
    }
   },
   "outputs": [],
   "source": [
    "std=root.find('student')"
   ]
  },
  {
   "cell_type": "code",
   "execution_count": 37,
   "metadata": {
    "slideshow": {
     "slide_type": "subslide"
    }
   },
   "outputs": [
    {
     "name": "stdout",
     "output_type": "stream",
     "text": [
      "001\n",
      "Kim\n"
     ]
    }
   ],
   "source": [
    "for node in std:\n",
    "    print (node.text)"
   ]
  },
  {
   "cell_type": "code",
   "execution_count": 38,
   "metadata": {
    "slideshow": {
     "slide_type": "subslide"
    }
   },
   "outputs": [
    {
     "name": "stdout",
     "output_type": "stream",
     "text": [
      "{'x': '1'}\n"
     ]
    }
   ],
   "source": [
    "print (std.attrib)"
   ]
  },
  {
   "cell_type": "code",
   "execution_count": 39,
   "metadata": {
    "slideshow": {
     "slide_type": "subslide"
    }
   },
   "outputs": [
    {
     "data": {
      "text/plain": [
       "'student'"
      ]
     },
     "execution_count": 39,
     "metadata": {},
     "output_type": "execute_result"
    }
   ],
   "source": [
    "std.tag"
   ]
  },
  {
   "cell_type": "markdown",
   "metadata": {},
   "source": [
    "findall() 함수는 student 태그를 모두 검색한다. 따라서 그 결과는 리스트가 된다."
   ]
  },
  {
   "cell_type": "code",
   "execution_count": 40,
   "metadata": {
    "slideshow": {
     "slide_type": "subslide"
    }
   },
   "outputs": [],
   "source": [
    "stds=root.findall('student')"
   ]
  },
  {
   "cell_type": "code",
   "execution_count": 41,
   "metadata": {
    "slideshow": {
     "slide_type": "subslide"
    }
   },
   "outputs": [
    {
     "name": "stdout",
     "output_type": "stream",
     "text": [
      "001\n",
      "Kim\n",
      "002\n",
      "Lee\n"
     ]
    }
   ],
   "source": [
    "for node in stds:\n",
    "    for item in node:\n",
    "        print (item.text)"
   ]
  },
  {
   "cell_type": "markdown",
   "metadata": {
    "slideshow": {
     "slide_type": "subslide"
    }
   },
   "source": [
    "#### XPath\n",
    "\n",
    "* /: 루트 바로 아래 수준만 검색\n",
    "* //: 계층의 어느 수준에 있는지 상관하지 않고 일치하는 요소를 검색\n",
    "* @: 속성을 검색\n"
   ]
  },
  {
   "cell_type": "markdown",
   "metadata": {},
   "source": [
    "```//@x```는 어느 수준에 있든지 ```x``` 속성을 검색해서 그 값을 출력한다."
   ]
  },
  {
   "cell_type": "code",
   "execution_count": 42,
   "metadata": {},
   "outputs": [
    {
     "data": {
      "text/plain": [
       "['1', '2']"
      ]
     },
     "execution_count": 42,
     "metadata": {},
     "output_type": "execute_result"
    }
   ],
   "source": [
    "root.xpath('//@x')"
   ]
  },
  {
   "cell_type": "markdown",
   "metadata": {},
   "source": [
    "사각괄호를 사용하게 되면, 그 조건에 맞는 요소만 찾아낸다.\n",
    "```[@x=\"1\"]```는 속성 ```x=1```인 어떤 요소라도 (와일드카드 ```*``` 의미) 찾아내라는 의미이다."
   ]
  },
  {
   "cell_type": "code",
   "execution_count": 43,
   "metadata": {},
   "outputs": [
    {
     "data": {
      "text/plain": [
       "['001']"
      ]
     },
     "execution_count": 43,
     "metadata": {},
     "output_type": "execute_result"
    }
   ],
   "source": [
    "root.xpath('//*[@x=\"1\"]/id/text()')"
   ]
  },
  {
   "cell_type": "markdown",
   "metadata": {
    "slideshow": {
     "slide_type": "subslide"
    }
   },
   "source": [
    "#### CSS\n",
    "\n",
    "lxml은 XPath 뿐만 아니라, CSS를 통한 검색도 지원한다.\n",
    "cssselect는 별도의 라이브러리이고 lxml을 통해서 사용할 수 있다.\n",
    "따라서 다음과 같이 먼저 설치를 해야한다.\n",
    "```\n",
    "pip install cssselect\n",
    "```\n",
    "\n",
    "그리고 나서 ```lxml.cssselect```를 통해서 ```CSSSelector```를 사용하게 된다.\n",
    "CSSSelector는 일치하는 XML 요소를 검색하지만, 사용하는 문법이 XPath가 아니라 css이라는 점이 다르다."
   ]
  },
  {
   "cell_type": "markdown",
   "metadata": {},
   "source": [
    "HTML의 스타일을 지정하는 용도로 사용되기 때문에\n",
    "HTML과 관련한 문법을 가지고 있다.\n",
    "\n",
    "* ```.class```: 예를 들어, .myClass는 ```class=\"myClass\"```인 태그를 검색\n",
    "* ```#id```: 예를 들어, #myId는 ```id=\"myId\"```인 태그를 검색\n",
    "그 외에도 HTML을 지원하는 문법이 있다.\n",
    "\n",
    "아래는 CSSSelector에 ```'student'```문자열을 인자로 넘겨주고 있다.\n",
    "이는 ```'student'```를 가지는 태그를 검색한다는 뜻이다.\n",
    "앞서 XML 태그를 보면, 해당하는 태그는 2개가 있다."
   ]
  },
  {
   "cell_type": "code",
   "execution_count": 44,
   "metadata": {},
   "outputs": [],
   "source": [
    "from lxml.cssselect import CSSSelector\n",
    "\n",
    "sel = CSSSelector('student') # construct a CSS Selector"
   ]
  },
  {
   "cell_type": "markdown",
   "metadata": {},
   "source": [
    "이렇게 생성을 하면, XML students에 대한 CSSSelector라는 점을 알 수 있다.\n",
    "그 css, path도 알 수 있다."
   ]
  },
  {
   "cell_type": "code",
   "execution_count": 45,
   "metadata": {},
   "outputs": [
    {
     "data": {
      "text/plain": [
       "<CSSSelector 234729cac18 for 'student'>"
      ]
     },
     "execution_count": 45,
     "metadata": {},
     "output_type": "execute_result"
    }
   ],
   "source": [
    "sel"
   ]
  },
  {
   "cell_type": "code",
   "execution_count": 46,
   "metadata": {},
   "outputs": [
    {
     "data": {
      "text/plain": [
       "'student'"
      ]
     },
     "execution_count": 46,
     "metadata": {},
     "output_type": "execute_result"
    }
   ],
   "source": [
    "sel.css"
   ]
  },
  {
   "cell_type": "code",
   "execution_count": 47,
   "metadata": {},
   "outputs": [
    {
     "data": {
      "text/plain": [
       "'descendant-or-self::student'"
      ]
     },
     "execution_count": 47,
     "metadata": {},
     "output_type": "execute_result"
    }
   ],
   "source": [
    "sel.path"
   ]
  },
  {
   "cell_type": "markdown",
   "metadata": {},
   "source": [
    "앞서와 같이 XML의 root를 생성한 후, 앞서의 CSSSelector를 적용해보자."
   ]
  },
  {
   "cell_type": "code",
   "execution_count": 48,
   "metadata": {},
   "outputs": [],
   "source": [
    "root=lxml.etree.fromstring(input) # Apply the selector to the DOM tree."
   ]
  },
  {
   "cell_type": "code",
   "execution_count": 49,
   "metadata": {},
   "outputs": [],
   "source": [
    "nodes = sel(root)"
   ]
  },
  {
   "cell_type": "markdown",
   "metadata": {},
   "source": [
    "css selector의 결과는 list이다."
   ]
  },
  {
   "cell_type": "code",
   "execution_count": 50,
   "metadata": {},
   "outputs": [
    {
     "data": {
      "text/plain": [
       "list"
      ]
     },
     "execution_count": 50,
     "metadata": {},
     "output_type": "execute_result"
    }
   ],
   "source": [
    "type(nodes)"
   ]
  },
  {
   "cell_type": "code",
   "execution_count": 51,
   "metadata": {},
   "outputs": [
    {
     "data": {
      "text/plain": [
       "2"
      ]
     },
     "execution_count": 51,
     "metadata": {},
     "output_type": "execute_result"
    }
   ],
   "source": [
    "len(nodes)"
   ]
  },
  {
   "cell_type": "markdown",
   "metadata": {},
   "source": [
    "student의 속성 x 값을 출력해보자."
   ]
  },
  {
   "cell_type": "code",
   "execution_count": 52,
   "metadata": {},
   "outputs": [
    {
     "name": "stdout",
     "output_type": "stream",
     "text": [
      "1\n",
      "2\n"
     ]
    }
   ],
   "source": [
    "for e in nodes:\n",
    "    print(e.get('x'))"
   ]
  },
  {
   "cell_type": "markdown",
   "metadata": {},
   "source": [
    "특정한 요소의 텍스트를 출력해보자.\n",
    "CSSSelector를 재설정해 주어야 한다."
   ]
  },
  {
   "cell_type": "code",
   "execution_count": 53,
   "metadata": {},
   "outputs": [],
   "source": [
    "from lxml.cssselect import CSSSelector\n",
    "\n",
    "sel = CSSSelector('id') # construct a CSS Selector\n",
    "nodes = sel(root)"
   ]
  },
  {
   "cell_type": "code",
   "execution_count": 54,
   "metadata": {},
   "outputs": [
    {
     "data": {
      "text/plain": [
       "list"
      ]
     },
     "execution_count": 54,
     "metadata": {},
     "output_type": "execute_result"
    }
   ],
   "source": [
    "type(nodes)"
   ]
  },
  {
   "cell_type": "code",
   "execution_count": 55,
   "metadata": {},
   "outputs": [
    {
     "name": "stdout",
     "output_type": "stream",
     "text": [
      "001\n",
      "002\n"
     ]
    }
   ],
   "source": [
    "for e in nodes:\n",
    "    print(e.text)"
   ]
  },
  {
   "cell_type": "markdown",
   "metadata": {
    "slideshow": {
     "slide_type": "slide"
    }
   },
   "source": [
    "### O.5.2 JSON\n",
    "\n",
    "JSON (JavaScript Object Notation)은 Javascript에서 사용하는 표기이고, Python의 dictionary형식과 같다."
   ]
  },
  {
   "cell_type": "markdown",
   "metadata": {},
   "source": [
    "먼저 아래와 같이 문자열을 정의해보자. "
   ]
  },
  {
   "cell_type": "code",
   "execution_count": 56,
   "metadata": {
    "slideshow": {
     "slide_type": "subslide"
    }
   },
   "outputs": [],
   "source": [
    "input = '''[\n",
    "    { \"id\" : \"001\", \"x\" : \"2\", \"name\" : \"Chuck\"},\n",
    "    { \"id\" : \"009\",\"x\" : \"7\",\"name\" : \"Brent\" }\n",
    "]'''"
   ]
  },
  {
   "cell_type": "markdown",
   "metadata": {},
   "source": [
    "그리고 나서, ```loads()``` 함수를 사용하여 문자열을 JSON으로 파싱한다."
   ]
  },
  {
   "cell_type": "code",
   "execution_count": 57,
   "metadata": {
    "slideshow": {
     "slide_type": "subslide"
    }
   },
   "outputs": [],
   "source": [
    "import json\n",
    "\n",
    "info = json.loads(input)"
   ]
  },
  {
   "cell_type": "markdown",
   "metadata": {},
   "source": [
    "JSON에 요소가 몇 개인지, ```str.format()``` 형식으로 출력해보자."
   ]
  },
  {
   "cell_type": "code",
   "execution_count": 58,
   "metadata": {
    "slideshow": {
     "slide_type": "subslide"
    }
   },
   "outputs": [
    {
     "data": {
      "text/plain": [
       "'User count:2'"
      ]
     },
     "execution_count": 58,
     "metadata": {},
     "output_type": "execute_result"
    }
   ],
   "source": [
    "'User count:{}'.format(len(info))"
   ]
  },
  {
   "cell_type": "code",
   "execution_count": 59,
   "metadata": {
    "slideshow": {
     "slide_type": "subslide"
    }
   },
   "outputs": [
    {
     "name": "stdout",
     "output_type": "stream",
     "text": [
      "id: 001 \tname: Chuck\n",
      "id: 009 \tname: Brent\n"
     ]
    }
   ],
   "source": [
    "for item in info:\n",
    "    print (\"id: {} \\tname: {}\".format(item['id'], item['name']))"
   ]
  },
  {
   "cell_type": "markdown",
   "metadata": {},
   "source": [
    "```dumps()```는 Python dictionary를 JSON 문자열로 변환하는 함수이다.\n",
    "아래는 튜플 (```()``` 괄호), ```None```과 같은 파이썬 문법을 포함하고 있다."
   ]
  },
  {
   "cell_type": "code",
   "execution_count": 60,
   "metadata": {
    "slideshow": {
     "slide_type": "subslide"
    }
   },
   "outputs": [],
   "source": [
    "import json\n",
    "my=json.dumps(\n",
    "    ['foo', {'bar': ('baz', None, 1.0, 2)}]\n",
    ")"
   ]
  },
  {
   "cell_type": "code",
   "execution_count": 61,
   "metadata": {},
   "outputs": [
    {
     "data": {
      "text/plain": [
       "str"
      ]
     },
     "execution_count": 61,
     "metadata": {},
     "output_type": "execute_result"
    }
   ],
   "source": [
    "type(my)"
   ]
  },
  {
   "cell_type": "code",
   "execution_count": 62,
   "metadata": {},
   "outputs": [
    {
     "data": {
      "text/plain": [
       "'[\"foo\", {\"bar\": [\"baz\", null, 1.0, 2]}]'"
      ]
     },
     "execution_count": 62,
     "metadata": {},
     "output_type": "execute_result"
    }
   ],
   "source": [
    "my"
   ]
  },
  {
   "cell_type": "markdown",
   "metadata": {
    "slideshow": {
     "slide_type": "slide"
    }
   },
   "source": [
    "## 문제 1: IP 주소에서 지역정보 알아내기\n",
    "\n",
    "인터넷 주소를 판단하여, 누가 어디서 접근하는지 알아내려고 한다고 하자.\n",
    "이런 기능을 스스로 구현하려고 한다면, 네트워크를 분석해서 인터넷주소의 지역정보를 알아내야 한다.\n",
    "그러나 Open API를 사용하면, 자신의 프로그래밍 없이 필요로 하는 기능을 완성할 수 있는 '지름길'이 있다."
   ]
  },
  {
   "cell_type": "markdown",
   "metadata": {
    "slideshow": {
     "slide_type": "subslide"
    }
   },
   "source": [
    "ipstack api를 사용해 보자.\n",
    "ip주소의 국가, 위경도, 지역을 알아내는 API를 제공한다.\n",
    "\n",
    "아래와 같이, IP주소와 인증키를 넣어 url을 완성한 후 서비스를 요청하면 된다.\n",
    "회원에 가입하면,  주어지는 API Access Key를 사용하면 된다 (d7cdd0602f68e39767eba8a0e245e849).\n",
    "```\n",
    "http://api.ipstack.com/<ip주소>?access_key=<인증키>\n",
    "```"
   ]
  },
  {
   "cell_type": "code",
   "execution_count": 63,
   "metadata": {},
   "outputs": [],
   "source": [
    "url='http://api.ipstack.com/125.176.129.177?access_key=d7cdd0602f68e39767eba8a0e245e849'"
   ]
  },
  {
   "cell_type": "code",
   "execution_count": 64,
   "metadata": {},
   "outputs": [],
   "source": [
    "import requests\n",
    "\n",
    "r=requests.get(url)"
   ]
  },
  {
   "cell_type": "markdown",
   "metadata": {},
   "source": [
    "결과는 XML 또는 JSON 형식이다.\n",
    "* 읽어온 데이터는 문자열이다.\n",
    "* json으로 변환하는 함수 json.loads()를 사용한다.\n",
    "* json형식은 Python dictionary와 동일하다.\n",
    "* json은 유니코드를 지원한다."
   ]
  },
  {
   "cell_type": "code",
   "execution_count": 65,
   "metadata": {},
   "outputs": [],
   "source": [
    "import json\n",
    "geo=json.loads(r.text)"
   ]
  },
  {
   "cell_type": "markdown",
   "metadata": {},
   "source": [
    "요청한 IP주소가 Asia, South Korea, Seoul이고 한국어를 사용하는 지역이라는 정보와\n",
    "위경도 37.56100082397461, 126.98265075683594를 출력하고 있다."
   ]
  },
  {
   "cell_type": "code",
   "execution_count": 66,
   "metadata": {},
   "outputs": [
    {
     "name": "stdout",
     "output_type": "stream",
     "text": [
      "<class 'dict'>\n"
     ]
    }
   ],
   "source": [
    "print (type(geo))"
   ]
  },
  {
   "cell_type": "code",
   "execution_count": 67,
   "metadata": {},
   "outputs": [
    {
     "name": "stdout",
     "output_type": "stream",
     "text": [
      "{'ip': '125.176.129.177', 'type': 'ipv4', 'continent_code': 'AS', 'continent_name': 'Asia', 'country_code': 'KR', 'country_name': 'South Korea', 'region_code': '11', 'region_name': 'Seoul', 'city': 'Seoul', 'zip': '100-011', 'latitude': 37.56100082397461, 'longitude': 126.98265075683594, 'location': {'geoname_id': 1835848, 'capital': 'Seoul', 'languages': [{'code': 'ko', 'name': 'Korean', 'native': '한국어'}], 'country_flag': 'https://assets.ipstack.com/flags/kr.svg', 'country_flag_emoji': '🇰🇷', 'country_flag_emoji_unicode': 'U+1F1F0 U+1F1F7', 'calling_code': '82', 'is_eu': False}}\n"
     ]
    }
   ],
   "source": [
    "print (geo)"
   ]
  },
  {
   "cell_type": "markdown",
   "metadata": {
    "collapsed": true,
    "slideshow": {
     "slide_type": "subslide"
    }
   },
   "source": [
    "* json자료에서 key를 찾는다.\n",
    "* get()함수 또는 key를 사용해서 값을 읽을 수 있다. "
   ]
  },
  {
   "cell_type": "code",
   "execution_count": 68,
   "metadata": {},
   "outputs": [
    {
     "data": {
      "text/plain": [
       "'125.176.129.177'"
      ]
     },
     "execution_count": 68,
     "metadata": {},
     "output_type": "execute_result"
    }
   ],
   "source": [
    "geo.get('ip')  # read value by function get()"
   ]
  },
  {
   "cell_type": "code",
   "execution_count": 69,
   "metadata": {},
   "outputs": [
    {
     "data": {
      "text/plain": [
       "'125.176.129.177'"
      ]
     },
     "execution_count": 69,
     "metadata": {},
     "output_type": "execute_result"
    }
   ],
   "source": [
    "geo['ip']      # read value by key"
   ]
  },
  {
   "cell_type": "code",
   "execution_count": 70,
   "metadata": {},
   "outputs": [
    {
     "data": {
      "text/plain": [
       "'Seoul'"
      ]
     },
     "execution_count": 70,
     "metadata": {},
     "output_type": "execute_result"
    }
   ],
   "source": [
    "geo['city']"
   ]
  },
  {
   "cell_type": "code",
   "execution_count": 71,
   "metadata": {},
   "outputs": [
    {
     "data": {
      "text/plain": [
       "'KR'"
      ]
     },
     "execution_count": 71,
     "metadata": {},
     "output_type": "execute_result"
    }
   ],
   "source": [
    "geo.get('country_code')"
   ]
  },
  {
   "cell_type": "markdown",
   "metadata": {
    "slideshow": {
     "slide_type": "subslide"
    }
   },
   "source": [
    "* for문을 사용해서 모든 값을 읽을 수 있다.\n",
    "* 그러나 json은 key-value의 쌍으로 구성되어 있기 때문에 반복문에 k,v를 사용해야 한다. 또한 dictionary를 하나씩 가져와야 하기 때문에 iterator를 사용하고 있다.\n"
   ]
  },
  {
   "cell_type": "code",
   "execution_count": 72,
   "metadata": {
    "slideshow": {
     "slide_type": "-"
    }
   },
   "outputs": [
    {
     "name": "stdout",
     "output_type": "stream",
     "text": [
      "ip \t:  125.176.129.177\n",
      "type \t:  ipv4\n",
      "continent_code \t:  AS\n",
      "continent_name \t:  Asia\n",
      "country_code \t:  KR\n",
      "country_name \t:  South Korea\n",
      "region_code \t:  11\n",
      "region_name \t:  Seoul\n",
      "city \t:  Seoul\n",
      "zip \t:  100-011\n",
      "latitude \t:  37.56100082397461\n",
      "longitude \t:  126.98265075683594\n",
      "location \t:  {'geoname_id': 1835848, 'capital': 'Seoul', 'languages': [{'code': 'ko', 'name': 'Korean', 'native': '한국어'}], 'country_flag': 'https://assets.ipstack.com/flags/kr.svg', 'country_flag_emoji': '🇰🇷', 'country_flag_emoji_unicode': 'U+1F1F0 U+1F1F7', 'calling_code': '82', 'is_eu': False}\n"
     ]
    }
   ],
   "source": [
    "for k,v in geo.items():\n",
    "    print (k,\"\\t: \",v)"
   ]
  },
  {
   "cell_type": "markdown",
   "metadata": {
    "slideshow": {
     "slide_type": "subslide"
    }
   },
   "source": [
    "* 일괄 실행"
   ]
  },
  {
   "cell_type": "code",
   "execution_count": 73,
   "metadata": {},
   "outputs": [
    {
     "name": "stdout",
     "output_type": "stream",
     "text": [
      "ip \t:  125.176.129.177\n",
      "type \t:  ipv4\n",
      "continent_code \t:  AS\n",
      "continent_name \t:  Asia\n",
      "country_code \t:  KR\n",
      "country_name \t:  South Korea\n",
      "region_code \t:  11\n",
      "region_name \t:  Seoul\n",
      "city \t:  Seoul\n",
      "zip \t:  100-011\n",
      "latitude \t:  37.56100082397461\n",
      "longitude \t:  126.98265075683594\n",
      "location \t:  {'geoname_id': 1835848, 'capital': 'Seoul', 'languages': [{'code': 'ko', 'name': 'Korean', 'native': '한국어'}], 'country_flag': 'https://assets.ipstack.com/flags/kr.svg', 'country_flag_emoji': '🇰🇷', 'country_flag_emoji_unicode': 'U+1F1F0 U+1F1F7', 'calling_code': '82', 'is_eu': False}\n"
     ]
    }
   ],
   "source": [
    "import json\n",
    "import requests\n",
    "\n",
    "url='http://api.ipstack.com/125.176.129.177?access_key=d7cdd0602f68e39767eba8a0e245e849'\n",
    "r=requests.get(url)\n",
    "geo = json.loads(r.text)\n",
    "for k,v in geo.items():\n",
    "    print (k,\"\\t: \",v)"
   ]
  },
  {
   "cell_type": "markdown",
   "metadata": {
    "slideshow": {
     "slide_type": "slide"
    }
   },
   "source": [
    "## O.6 공공데이터\n",
    "\n",
    "공공데이터는 정부에서 포털형식으로 제공되고 있다.\n",
    "교통, 재난, 의료 등 기관별로 제공하는 공공데이터를 묶어서 포털로 제공하고 있다.\n",
    "\n",
    "또한 시군구별로 제공하는 열린데이터가 있다.\n",
    "그렇기 때문에 data.시군구.go.kr과 같이 url이 명명되어 있다.\n",
    "url은 요청인자를 슬래시로 구분하여 적는다.\n",
    "반면에 공공데이터는 data.go.kr로 명명된다.\n",
    "공공데이터는 url에 요청인자를 &로 구분하여 적고 있다.\n",
    "\n",
    "열린데이터 | 공공데이터\n",
    "----------|----------\n",
    "시군구별로 제공하는 Open Data | 정부가 제공, 여러 관공서에서 제공하는 Open Data의 포털\n",
    "data.seoul.go.kr<br>data.busan.go.kr<br>data.jongno.go.kr | data.go.kr\n",
    "'/'를 사용하여 api endpoint를 제공한다.<br>사례에는 모두 동일한 url이 사용된다. 'http://openAPI.seoul.go.kr:8088/' | url에 query parameters를 추가해서 사용한다. '?'로 시작하여 key, value의 쌍을 '&'로 묶음 예: '?k1=v1&k2=v2'"
   ]
  },
  {
   "cell_type": "markdown",
   "metadata": {
    "slideshow": {
     "slide_type": "subslide"
    }
   },
   "source": [
    "### O.6.1 인증키\n",
    "\n",
    "#### 서울시 열린데이터 인증키 신청\n",
    "\n",
    "열린데이터를 이용하기 위해서는 회원가입 후, 인증키를 발급받아야 한다.\n",
    "Home > 나의화면 > 인증키 신청으로 페이지를 이동해서, 인증키를 신청하고 발급한다.\n",
    "url은 이용하실 열린데이터광장 서비스중 URL 하나를 적어주면 된다."
   ]
  },
  {
   "cell_type": "markdown",
   "metadata": {},
   "source": [
    "![alt text](figures/openAPI_request_for_key.png \"request for api key for seoul.go.kr\")"
   ]
  },
  {
   "cell_type": "markdown",
   "metadata": {
    "collapsed": true
   },
   "source": [
    "#### 서울시 열린데이터 인증키 테스트\n",
    "\n",
    "* 'API검색'의 빈칸에는 검색에 필요한 주요 단어를 적어준다. 여기서는 '노선별 지하철역'\n",
    "* 그리고 아래의 드롭다운 박스에는 해당하는 항목을 선택한다.\n"
   ]
  },
  {
   "cell_type": "markdown",
   "metadata": {},
   "source": [
    "![alt text](figures/openAPI_test.png \"open API test for railway stations\")"
   ]
  },
  {
   "cell_type": "markdown",
   "metadata": {},
   "source": [
    "#### 공공데이터 포털 인증키 신청\n",
    "\n",
    "서울시 열린데이터와 마찬가지로 공공데이터 포털에 인증키를 발급받아야 한다.\n",
    "* (1) 회원 가입 및 로그인: 공공데이터포털(www.data.go.kr)에 회원가입 후 로그인.\n",
    "* (2) 활용신청: 인증키 신청은 공공데이터 상세보기 화면에서 [활용신청]을 통해 신청이 가능하고, 발급된 인증키는 [마이페이지>개발계정] 또는 [마이페이지>인증키 발급현황] 상세보기 화면에서 확인이 가능하다.\n"
   ]
  },
  {
   "cell_type": "markdown",
   "metadata": {
    "slideshow": {
     "slide_type": "slide"
    }
   },
   "source": [
    "### O.6.2 키를 파일로 저장하고 읽는 자신의 라이브러리 만들기\n",
    "\n",
    "사용자 ID, 비밀번호를 사용하는 방식은 보안에 취약하다.\n",
    "**OAuth를 사용하여 제3자에게 접근권한을 부여하는 방법**이 보다 안전하다.\n",
    "\n",
    "OAuth는 인증에 사용되는 표준이다.\n",
    "Google, Facebook, Twitter 등에서 사용하는 보통 제3자 방식을 사용한다.\n",
    "이 방법은 앱에게 자산의 ID, 비밀번호를 직접 제공하지 않고, '위임 토큰'을 준다.\n",
    "이 '위임 토큰'은 사용자가 취소권한을 가지고 있기 때문에 취소될 수 있다."
   ]
  },
  {
   "cell_type": "markdown",
   "metadata": {
    "slideshow": {
     "slide_type": "slide"
    }
   },
   "source": [
    "#### URL 인코딩\n",
    "\n",
    "URL은 128 ($2^7$) ASCII 문자만 받도록 되어있다.\n",
    "영문자, 숫자, ```-\t_\t.\t~```는 그대로 사용하지만\n",
    "```!\t#\t$\t&\t'\t(\t)\t*\t+\t,\t/\t:\t;\t=\t?\t@\t[\t]```는 퍼센트 인코딩 (또는 url 인코딩)을 한다.\n",
    "\n",
    "URL 인코딩은 온라인 사이트 https://www.urlencoder.org/ 에서 확인할 수 있다."
   ]
  },
  {
   "cell_type": "markdown",
   "metadata": {},
   "source": [
    "url encoding은 %를 맨 앞에 그리고 16진수 2자리를 덧붙인다.\n",
    "```#```은 ```%23```으로 변환된다.\n",
    "아래에서 보듯이 한글은 ASCII 128 문자에 포함되지 않으므로, 퍼센트 인코딩이 된다.\n",
    "Python3에서는 urlparse(python2) 대신, urllib.parse를 사용한다."
   ]
  },
  {
   "cell_type": "code",
   "execution_count": 74,
   "metadata": {
    "slideshow": {
     "slide_type": "-"
    }
   },
   "outputs": [
    {
     "name": "stdout",
     "output_type": "stream",
     "text": [
      "%23q=%ED%95%9C%EA%B8%80\n",
      "%23q=%ED%95%9C%EA%B8%80\n"
     ]
    }
   ],
   "source": [
    "import urllib\n",
    "\n",
    "print (urllib.parse.urlencode({'#q':'한글'}))\n",
    "print (urllib.parse.urlencode({'#q':u'한글'.encode('utf-8')}))"
   ]
  },
  {
   "cell_type": "markdown",
   "metadata": {
    "slideshow": {
     "slide_type": "subslide"
    }
   },
   "source": [
    "인증키를 살펴보면, '%'가 포함되어 있을 수 있다.\n",
    "'%'문자를 url encoding하는 경우 **'%'를 '%25'**로 encoding한다."
   ]
  },
  {
   "cell_type": "code",
   "execution_count": 75,
   "metadata": {
    "slideshow": {
     "slide_type": "-"
    }
   },
   "outputs": [
    {
     "name": "stdout",
     "output_type": "stream",
     "text": [
      "key=%253D\n"
     ]
    }
   ],
   "source": [
    "import urllib\n",
    "\n",
    "params=urllib.parse.urlencode({'key':'%3D'})\n",
    "print (params)"
   ]
  },
  {
   "cell_type": "markdown",
   "metadata": {
    "slideshow": {
     "slide_type": "slide"
    }
   },
   "source": [
    "#### 인증키 파일 작성\n",
    "\n",
    "일단 인증키를 파일에 저장하자.\n",
    "'비밀번호'와 같은 보안내용이 프로그램에 직접 사용되지 않도록 주의한다.\n",
    "'**key.properties**' 파일에 **Property형식에 따라 key, value로 저장**한다.\n",
    "단 **윈도우 메모장에 붙여넣으면 BOM 문자**가 문제를 일으킨다.\n",
    "공공데이터포털 utf-8로 변환된 키 값은 urlencode()를 하지 않는다.\n",
    "파일에 아래와 같이 적어 넣는다.\n",
    "```\n",
    "dataseoul=73725...\n",
    "gokr=8Bx4C1%2B...\n",
    "```"
   ]
  },
  {
   "cell_type": "markdown",
   "metadata": {
    "slideshow": {
     "slide_type": "slide"
    }
   },
   "source": [
    "#### 인증키 라이브러리\n",
    "\n",
    "자신의 라이브러리를 만들어보자 (참조: how_to_import.ipynb)\n",
    "* 디렉토리에 init.py 파일을 넣는다.\n",
    "* 디렉토리 명이 패키지가 되고, import를 사용할 수 있다.\n",
    "* mylib.py에는 getKey()와 테스트 용도로 sayHello()를 추가한다.\n",
    "* 디렉토리의 파일 구조는:\n",
    "\n",
    "```\n",
    "src/\n",
    "    __init__.py\n",
    "    mylib.py\n",
    "    key.properties\n",
    "```"
   ]
  },
  {
   "cell_type": "code",
   "execution_count": 76,
   "metadata": {},
   "outputs": [
    {
     "name": "stdout",
     "output_type": "stream",
     "text": [
      "Overwriting src/key.properties\n"
     ]
    }
   ],
   "source": [
    "%%writefile src/key.properties\n",
    "dataseoul=74787768757a617135304878764e4c\n",
    "gokr=Xfnj9sV5zWaUKvuOLd%2BZOm%2FaMy53DYKfq%2F4M467F%2BWjfE6tm0%2BZr5HXACKGODbytWZcr7TK%2FAUZPhE8216R7jQ%3D%3D"
   ]
  },
  {
   "cell_type": "code",
   "execution_count": 77,
   "metadata": {},
   "outputs": [
    {
     "name": "stdout",
     "output_type": "stream",
     "text": [
      "Overwriting src/mylib.py\n"
     ]
    }
   ],
   "source": [
    "%%writefile src/mylib.py\n",
    "def sayHello():\n",
    "    print(\"hello\")\n",
    "\n",
    "def getKey(keyPath):\n",
    "    d=dict()\n",
    "    f=open(keyPath,'r')\n",
    "    for line in f.readlines():\n",
    "        row=line.split('=')\n",
    "        row0=row[0]\n",
    "        d[row0]=row[1].strip()\n",
    "    return d"
   ]
  },
  {
   "cell_type": "markdown",
   "metadata": {
    "slideshow": {
     "slide_type": "slide"
    }
   },
   "source": [
    "라이브러리를 호출할 때는 폴더를 상대적인 위치로 적어주어야 한다는 점에 유의하자.\n",
    "자신의 **파이썬 파일이 'src' 디렉토리에 있다면 'src'를 생략**할 수 있다.\n",
    "\n",
    "```\n",
    "import mylib\n",
    "print mylib.sayHello()\n",
    "```"
   ]
  },
  {
   "cell_type": "code",
   "execution_count": 78,
   "metadata": {},
   "outputs": [
    {
     "name": "stdout",
     "output_type": "stream",
     "text": [
      "hello\n",
      "None\n"
     ]
    }
   ],
   "source": [
    "import src.mylib\n",
    "print (src.mylib.sayHello())\n",
    "\n",
    "#from src import mylib\n",
    "#print (mylib.sayHello())"
   ]
  },
  {
   "cell_type": "code",
   "execution_count": 79,
   "metadata": {},
   "outputs": [
    {
     "data": {
      "text/plain": [
       "'C:\\\\Users\\\\zaqxs\\\\Code\\\\201910787\\\\s-master'"
      ]
     },
     "execution_count": 79,
     "metadata": {},
     "output_type": "execute_result"
    }
   ],
   "source": [
    "import os\n",
    "os.getcwd()"
   ]
  },
  {
   "cell_type": "code",
   "execution_count": 80,
   "metadata": {},
   "outputs": [],
   "source": [
    "import os\n",
    "import src.mylib\n",
    "\n",
    "keyPath=os.path.join(os.getcwd(), 'src', 'key.properties')\n",
    "key=src.mylib.getKey(keyPath)"
   ]
  },
  {
   "cell_type": "code",
   "execution_count": 81,
   "metadata": {
    "slideshow": {
     "slide_type": "-"
    }
   },
   "outputs": [
    {
     "name": "stdout",
     "output_type": "stream",
     "text": [
      "74787768757a617135304878764e4c\n"
     ]
    }
   ],
   "source": [
    "print (key['dataseoul'])"
   ]
  },
  {
   "cell_type": "code",
   "execution_count": 82,
   "metadata": {
    "slideshow": {
     "slide_type": "-"
    }
   },
   "outputs": [
    {
     "name": "stdout",
     "output_type": "stream",
     "text": [
      "Xfnj9sV5zWaUKvuOLd%2BZOm%2FaMy53DYKfq%2F4M467F%2BWjfE6tm0%2BZr5HXACKGODbytWZcr7TK%2FAUZPhE8216R7jQ%3D%3D\n"
     ]
    }
   ],
   "source": [
    "print (key['gokr'])"
   ]
  },
  {
   "cell_type": "markdown",
   "metadata": {},
   "source": [
    "## 문제 2: 서울시 지하철역 정보 수집\n",
    "\n",
    "서울시 지하철역관련 정보를 수집해보자.\n",
    "서울열린데이터광장을 찾아보면, 그러한 정보를 제공하는 API '**SearchSTNBySubwayLineInfo**'가 존재한다.\n",
    "\n",
    "![alt text](figures/dataSeoulGoKr_subway.png \"subway stations by line\")"
   ]
  },
  {
   "cell_type": "markdown",
   "metadata": {},
   "source": [
    "SearchSTNBySubwayLineInfo API 호출에 필요한 인자를 정리하면 다음과 같다.\n",
    "\n",
    "\n",
    "변수명 | 타입 | 설명 \n",
    "-----|-----|-----\n",
    "KEY | String | 발급받은 인증키\n",
    "TYPE | String | xml, xmlf, xls, json 데이터 형식\n",
    "SERVICE | String | 서비스명 \n",
    "START_INDEX | Integer | 페이징 시작번호\n",
    "END_INDEX | Integer | 페이징 끝번호\n",
    "STATION_CD | String (선택) | 전철역코드\n",
    "STATION_NM | String (선택) | 전철역명\n",
    "LINE_NM | String (선택) | 호선 1~9: 1~9호선, I: 인천1호선, K: 경의중앙선, B: 분당선, A: 공항철도, G: 경춘선, S:신분당선, SU:수인선. 현재 서울교통공사관할인 1~9호선 정보만 제공.\n",
    "\n",
    "> Pagination\n",
    "\n",
    "> 데이터를 검색하면, 조건에 맞는 레코드가 많을 수 있다.\n",
    "> 모든 레코드를 가져오기 보다는, 페이지로 나누어서 하게 되면 편리하다.\n",
    "> index를 사용하여 조회할 데이터 분량을 정할 수 있다.\n",
    "> 프로그램에서는 반복문으로 index를 사용해서 원하는 분량을 조정하게 된다."
   ]
  },
  {
   "cell_type": "markdown",
   "metadata": {
    "slideshow": {
     "slide_type": "slide"
    }
   },
   "source": [
    "샘플 url은 다음과 같다.\n",
    "* 2호선, 1~10개 역 정보 조회. STATION_CD, STATION_NM은 비워놓아도 된다.\n",
    "http://openAPI.seoul.go.kr:8088/73725974496a736c34395757705847/json/SearchSTNBySubwayLineInfo/1/10///2호선\n",
    "\n",
    "\n",
    "유사한 서비스 '**SearchSTNBySubwayLineService**'가 존재한다.\n",
    "* 1호선: http://openAPI.seoul.go.kr:8088/(인증키)/xml/SearchSTNBySubwayLineService/1/5/1/ (맨 뒤 숫자를 2호선은 2로, 5호선은 5로 변경)"
   ]
  },
  {
   "cell_type": "markdown",
   "metadata": {
    "slideshow": {
     "slide_type": "subslide"
    }
   },
   "source": [
    "### 인증키\n",
    "\n",
    "키는 mylib에서 호출하며, 상대경로에 주의한다.\n",
    "프로그램이 실행되는 디렉토리가 src/이므로, 그냥 mylib.getKey()으로 호출한다."
   ]
  },
  {
   "cell_type": "code",
   "execution_count": 36,
   "metadata": {},
   "outputs": [],
   "source": [
    "import os\n",
    "import src.mylib   # 상대경로\n",
    "\n",
    "keyPath=os.path.join(os.getcwd(), 'src', 'key.properties') # reading key saved in 'src'\n",
    "key=src.mylib.getKey(keyPath)\n",
    "KEY=str(key['dataseoul'])"
   ]
  },
  {
   "cell_type": "code",
   "execution_count": 44,
   "metadata": {},
   "outputs": [
    {
     "name": "stdout",
     "output_type": "stream",
     "text": [
      "4f625a78717a61713132306461444951\n"
     ]
    }
   ],
   "source": [
    "print (KEY)"
   ]
  },
  {
   "cell_type": "markdown",
   "metadata": {
    "slideshow": {
     "slide_type": "subslide"
    }
   },
   "source": [
    "### 요청인자\n",
    "\n",
    "서비스명 'SearchSTNBySubwayLineInfo'에 필요한 인자를 넣는다.\n",
    "* 데이터 타입은 'json'\n",
    "* 페이징에 필요한 INDEX를 조정한다.\n",
    "* 호선 LINE_NUM을 설정한다."
   ]
  },
  {
   "cell_type": "code",
   "execution_count": 38,
   "metadata": {},
   "outputs": [],
   "source": [
    "# api\n",
    "TYPE='json'\n",
    "#SERVICE='SearchSTNBySubwayLineService'\n",
    "SERVICE='SearchSTNBySubwayLineInfo'\n",
    "START_INDEX=str(1)\n",
    "END_INDEX=str(10)\n",
    "LINE_NUM=str(2)"
   ]
  },
  {
   "cell_type": "markdown",
   "metadata": {
    "slideshow": {
     "slide_type": "subslide"
    }
   },
   "source": [
    "### url 만들기\n",
    "\n",
    "앞서 설정한 서비스, 요청인자, 인증키를 슬래시(\"/\")로 합쳐서 URL을 만들어보자."
   ]
  },
  {
   "cell_type": "code",
   "execution_count": 39,
   "metadata": {},
   "outputs": [],
   "source": [
    "params=\"/\".join([KEY,TYPE,SERVICE,START_INDEX,END_INDEX,'','',LINE_NUM])"
   ]
  },
  {
   "cell_type": "markdown",
   "metadata": {},
   "source": [
    "key는 비밀번호로서 30자리이다.\n",
    "이러한 key는 보안상 출력에서 제외하는 것이 바람직 하겠다.\n",
    "key만 제외하고 출력해보자.\n",
    "슬래시로 연결되어 있으니 0~29가 key에 해당하고, 30부터는 슬래시를 포함해 그 이후의 문자열을 출력한다."
   ]
  },
  {
   "cell_type": "code",
   "execution_count": 35,
   "metadata": {
    "slideshow": {
     "slide_type": "subslide"
    }
   },
   "outputs": [
    {
     "name": "stdout",
     "output_type": "stream",
     "text": [
      "45414259757a617135396763694952/json/SearchSTNBySubwayLineInfo/1/10///2\n"
     ]
    }
   ],
   "source": [
    "print(params)"
   ]
  },
  {
   "cell_type": "markdown",
   "metadata": {
    "slideshow": {
     "slide_type": "subslide"
    }
   },
   "source": [
    "urljoin은 url을 결합할 때 사용할 수 있다. 아래와 같이 url에 params을 덧붙인다.\n",
    "문제는 url에서 슬래시가 제거된다."
   ]
  },
  {
   "cell_type": "code",
   "execution_count": 87,
   "metadata": {},
   "outputs": [
    {
     "name": "stdout",
     "output_type": "stream",
     "text": [
      "http://openAPI.seoul.go.kr:8088/74787768757a617135304878764e4c/json/SearchSTNBySubwayLineInfo/1/10/2\n"
     ]
    }
   ],
   "source": [
    "import urllib\n",
    "_url='http://openAPI.seoul.go.kr:8088/'\n",
    "url=urllib.parse.urljoin(_url,params)\n",
    "print(url) # backslashes removed"
   ]
  },
  {
   "cell_type": "markdown",
   "metadata": {},
   "source": [
    "그래서 join() 함수로 문자열 합성을 한다. 주의할 점은 join() 함수는 리스트를 입력받는다."
   ]
  },
  {
   "cell_type": "code",
   "execution_count": 45,
   "metadata": {},
   "outputs": [],
   "source": [
    "_url='http://openAPI.seoul.go.kr:8088'\n",
    "url=\"/\".join([_url,params])"
   ]
  },
  {
   "cell_type": "markdown",
   "metadata": {
    "scrolled": true
   },
   "source": [
    "url을 출력해보면 하이퍼링크가 만들어 진다. \n",
    "뒤의 슬래시가 포함되어져 있는지 확인해보자.\n",
    "그 url을 마우스로 클릭해보자. 그러면 실행결과가 웹브라우저에 표현된다.\n",
    "\n",
    "http://openAPI.seoul.go.kr:8088//73725974496a736c34395757705847/json/SearchSTNBySubwayLineInfo/1/10///2\n"
   ]
  },
  {
   "cell_type": "code",
   "execution_count": 89,
   "metadata": {
    "scrolled": true
   },
   "outputs": [
    {
     "name": "stdout",
     "output_type": "stream",
     "text": [
      "http://openAPI.seoul.go.kr:8088/74787768757a617135304878764e4c/json/SearchSTNBySubwayLineInfo/1/10///2\n"
     ]
    }
   ],
   "source": [
    "print (url)"
   ]
  },
  {
   "cell_type": "markdown",
   "metadata": {},
   "source": [
    "### url 호출\n",
    "\n",
    "requests 라이브러리를 사용하여 url에서 데이터를 가져와 텍스트를 json형식으로 변환한다."
   ]
  },
  {
   "cell_type": "code",
   "execution_count": 90,
   "metadata": {
    "slideshow": {
     "slide_type": "subslide"
    }
   },
   "outputs": [],
   "source": [
    "import requests\n",
    "\n",
    "r=requests.get(url)"
   ]
  },
  {
   "cell_type": "code",
   "execution_count": 91,
   "metadata": {
    "slideshow": {
     "slide_type": "subslide"
    }
   },
   "outputs": [],
   "source": [
    "stations=r.json()"
   ]
  },
  {
   "cell_type": "code",
   "execution_count": 92,
   "metadata": {
    "slideshow": {
     "slide_type": "subslide"
    }
   },
   "outputs": [
    {
     "data": {
      "text/plain": [
       "dict"
      ]
     },
     "execution_count": 92,
     "metadata": {},
     "output_type": "execute_result"
    }
   ],
   "source": [
    "type(stations)"
   ]
  },
  {
   "cell_type": "code",
   "execution_count": 93,
   "metadata": {},
   "outputs": [
    {
     "name": "stdout",
     "output_type": "stream",
     "text": [
      "{'SearchSTNBySubwayLineInfo': {'list_total_count': 748, 'RESULT': {'CODE': 'INFO-000', 'MESSAGE': '정상 처리되었습니다'}, 'row': [{'STATION_CD': '0159', 'STATION_NM': '동묘앞', 'STATION_NM_ENG': 'Dongmyo', 'LINE_NUM': '01호선', 'FR_CODE': '127'}, {'STATION_CD': '0309', 'STATION_NM': '지축', 'STATION_NM_ENG': 'Jichuk', 'LINE_NUM': '03호선', 'FR_CODE': '319'}, {'STATION_CD': '0321', 'STATION_NM': '충무로', 'STATION_NM_ENG': 'Chungmuro', 'LINE_NUM': '03호선', 'FR_CODE': '331'}, {'STATION_CD': '0333', 'STATION_NM': '매봉', 'STATION_NM_ENG': 'Maebong', 'LINE_NUM': '03호선', 'FR_CODE': '343'}, {'STATION_CD': '101C', 'STATION_NM': '회기', 'STATION_NM_ENG': 'Hoegi', 'LINE_NUM': '경의선', 'FR_CODE': 'K118'}, {'STATION_CD': '0228', 'STATION_NM': '서울대입구', 'STATION_NM_ENG': 'Seoul Nat`l Univ.', 'LINE_NUM': '02호선', 'FR_CODE': '228'}, {'STATION_CD': '0242', 'STATION_NM': '아현', 'STATION_NM_ENG': 'Ahyeon', 'LINE_NUM': '02호선', 'FR_CODE': '242'}, {'STATION_CD': '0310', 'STATION_NM': '구파발', 'STATION_NM_ENG': 'Gupabal', 'LINE_NUM': '03호선', 'FR_CODE': '320'}, {'STATION_CD': '1285', 'STATION_NM': '임진강', 'STATION_NM_ENG': 'Imjingang', 'LINE_NUM': '경의선', 'FR_CODE': 'K336'}, {'STATION_CD': '0229', 'STATION_NM': '봉천', 'STATION_NM_ENG': 'Bongcheon', 'LINE_NUM': '02호선', 'FR_CODE': '229'}]}}\n"
     ]
    }
   ],
   "source": [
    "print (stations)"
   ]
  },
  {
   "cell_type": "markdown",
   "metadata": {},
   "source": [
    "### json 파싱\n",
    "\n",
    "반환되는 json구조를 살펴보면 'row'안에 역정보가 포함되어 있다는 것을 알 수 있다."
   ]
  },
  {
   "cell_type": "code",
   "execution_count": 94,
   "metadata": {},
   "outputs": [
    {
     "data": {
      "text/plain": [
       "[{'STATION_CD': '0159',\n",
       "  'STATION_NM': '동묘앞',\n",
       "  'STATION_NM_ENG': 'Dongmyo',\n",
       "  'LINE_NUM': '01호선',\n",
       "  'FR_CODE': '127'},\n",
       " {'STATION_CD': '0309',\n",
       "  'STATION_NM': '지축',\n",
       "  'STATION_NM_ENG': 'Jichuk',\n",
       "  'LINE_NUM': '03호선',\n",
       "  'FR_CODE': '319'},\n",
       " {'STATION_CD': '0321',\n",
       "  'STATION_NM': '충무로',\n",
       "  'STATION_NM_ENG': 'Chungmuro',\n",
       "  'LINE_NUM': '03호선',\n",
       "  'FR_CODE': '331'},\n",
       " {'STATION_CD': '0333',\n",
       "  'STATION_NM': '매봉',\n",
       "  'STATION_NM_ENG': 'Maebong',\n",
       "  'LINE_NUM': '03호선',\n",
       "  'FR_CODE': '343'},\n",
       " {'STATION_CD': '101C',\n",
       "  'STATION_NM': '회기',\n",
       "  'STATION_NM_ENG': 'Hoegi',\n",
       "  'LINE_NUM': '경의선',\n",
       "  'FR_CODE': 'K118'},\n",
       " {'STATION_CD': '0228',\n",
       "  'STATION_NM': '서울대입구',\n",
       "  'STATION_NM_ENG': 'Seoul Nat`l Univ.',\n",
       "  'LINE_NUM': '02호선',\n",
       "  'FR_CODE': '228'},\n",
       " {'STATION_CD': '0242',\n",
       "  'STATION_NM': '아현',\n",
       "  'STATION_NM_ENG': 'Ahyeon',\n",
       "  'LINE_NUM': '02호선',\n",
       "  'FR_CODE': '242'},\n",
       " {'STATION_CD': '0310',\n",
       "  'STATION_NM': '구파발',\n",
       "  'STATION_NM_ENG': 'Gupabal',\n",
       "  'LINE_NUM': '03호선',\n",
       "  'FR_CODE': '320'},\n",
       " {'STATION_CD': '1285',\n",
       "  'STATION_NM': '임진강',\n",
       "  'STATION_NM_ENG': 'Imjingang',\n",
       "  'LINE_NUM': '경의선',\n",
       "  'FR_CODE': 'K336'},\n",
       " {'STATION_CD': '0229',\n",
       "  'STATION_NM': '봉천',\n",
       "  'STATION_NM_ENG': 'Bongcheon',\n",
       "  'LINE_NUM': '02호선',\n",
       "  'FR_CODE': '229'}]"
      ]
     },
     "execution_count": 94,
     "metadata": {},
     "output_type": "execute_result"
    }
   ],
   "source": [
    "stations['SearchSTNBySubwayLineInfo']['row']"
   ]
  },
  {
   "cell_type": "code",
   "execution_count": 95,
   "metadata": {
    "scrolled": true
   },
   "outputs": [
    {
     "name": "stdout",
     "output_type": "stream",
     "text": [
      "0159\t동묘앞            \t127\t01호선\n",
      "0309\t지축             \t319\t03호선\n",
      "0321\t충무로            \t331\t03호선\n",
      "0333\t매봉             \t343\t03호선\n",
      "101C\t회기             \tK118\t경의선\n",
      "0228\t서울대입구          \t228\t02호선\n",
      "0242\t아현             \t242\t02호선\n",
      "0310\t구파발            \t320\t03호선\n",
      "1285\t임진강            \tK336\t경의선\n",
      "0229\t봉천             \t229\t02호선\n"
     ]
    }
   ],
   "source": [
    "for e in stations['SearchSTNBySubwayLineInfo']['row']:\n",
    "    print (\"{0:4s}\\t{1:15s}\\t{2:3s}\\t{3:2s}\".format(e['STATION_CD'], e['STATION_NM'], e['FR_CODE'], e['LINE_NUM']))"
   ]
  },
  {
   "cell_type": "markdown",
   "metadata": {
    "collapsed": true,
    "slideshow": {
     "slide_type": "subslide"
    }
   },
   "source": [
    "### 일괄 실행\n",
    "\n",
    "일괄 실행하는 프로그램이다. 결과는 JSON으로 받고, DB에는 저장하지 않고 화면으로 출력하고 있다."
   ]
  },
  {
   "cell_type": "code",
   "execution_count": 96,
   "metadata": {
    "slideshow": {
     "slide_type": "subslide"
    }
   },
   "outputs": [
    {
     "name": "stdout",
     "output_type": "stream",
     "text": [
      "Overwriting src/ds_open_subway_json.py\n"
     ]
    }
   ],
   "source": [
    "%%writefile src/ds_open_subway_json.py\n",
    "#!/usr/bin/env python\n",
    "#coding: utf-8\n",
    "import os\n",
    "import requests\n",
    "import urllib\n",
    "import mylib # NO! src.mylib\n",
    "\n",
    "def doIt():\n",
    "    keyPath=os.path.join(os.getcwd(), 'src', 'key.properties')\n",
    "    key=mylib.getKey(keyPath)\n",
    "    # (1) make params with resource IDs\n",
    "    KEY=str(key['dataseoul'])\n",
    "    TYPE='json'\n",
    "    #OLD: SERVICE='SearchSTNBySubwayLineService'\n",
    "    SERVICE='SearchSTNBySubwayLineInfo'\n",
    "    LINE_NUM=str(2)\n",
    "    START_INDEX=str(1)\n",
    "    END_INDEX=str(10)\n",
    "    #params=os.path.join(KEY,TYPE,SERVICE,START_INDEX,END_INDEX,LINE_NUM)\n",
    "    params=\"/\".join([KEY,TYPE,SERVICE,START_INDEX,END_INDEX,'','',LINE_NUM])\n",
    "    # (2) make a full url\n",
    "    _url='http://openAPI.seoul.go.kr:8088' #NOTE slash: do not use 'http://openAPI.seoul.go.kr:8088/'\n",
    "    #url=urllib.parse.urljoin(_url,params)\n",
    "    url=\"/\".join([_url,params])\n",
    "    #print(url)\n",
    "    # (3) get data\n",
    "    r=requests.get(url)\n",
    "    #print(r)\n",
    "    stations=r.json()\n",
    "    #print(stations)\n",
    "    for e in stations['SearchSTNBySubwayLineInfo']['row']:\n",
    "        print (u\"{0:4s}\\t{1:15s}\\t{2:3s}\\t{3:2s}\".format(e['STATION_CD'], e['STATION_NM'], e['FR_CODE'], e['LINE_NUM']))\n",
    "\n",
    "if __name__ == \"__main__\":\n",
    "    doIt()"
   ]
  },
  {
   "cell_type": "code",
   "execution_count": 97,
   "metadata": {},
   "outputs": [
    {
     "name": "stdout",
     "output_type": "stream",
     "text": [
      "Python 3.7.3\n"
     ]
    }
   ],
   "source": [
    "!python --version"
   ]
  },
  {
   "cell_type": "code",
   "execution_count": 98,
   "metadata": {},
   "outputs": [
    {
     "name": "stdout",
     "output_type": "stream",
     "text": [
      "Python 3.9.7\n"
     ]
    }
   ],
   "source": [
    "!python3 --version"
   ]
  },
  {
   "cell_type": "code",
   "execution_count": 99,
   "metadata": {},
   "outputs": [
    {
     "name": "stdout",
     "output_type": "stream",
     "text": [
      "Requirement already satisfied: pip in c:\\users\\zaqxs\\anaconda2\\envs\\py35\\lib\\site-packages (21.2.4)\n"
     ]
    }
   ],
   "source": [
    "!pip install --upgrade pip"
   ]
  },
  {
   "cell_type": "code",
   "execution_count": 100,
   "metadata": {},
   "outputs": [
    {
     "name": "stdout",
     "output_type": "stream",
     "text": [
      "Requirement already satisfied: pip in c:\\users\\zaqxs\\anaconda2\\envs\\py35\\lib\\site-packages (21.2.4)\n"
     ]
    }
   ],
   "source": [
    "!python -m pip install --upgrade pip"
   ]
  },
  {
   "cell_type": "code",
   "execution_count": 101,
   "metadata": {},
   "outputs": [
    {
     "name": "stdout",
     "output_type": "stream",
     "text": [
      "Requirement already satisfied: requests in c:\\users\\zaqxs\\appdata\\local\\packages\\pythonsoftwarefoundation.python.3.9_qbz5n2kfra8p0\\localcache\\local-packages\\python39\\site-packages (2.26.0)\n",
      "Requirement already satisfied: charset-normalizer~=2.0.0 in c:\\users\\zaqxs\\appdata\\local\\packages\\pythonsoftwarefoundation.python.3.9_qbz5n2kfra8p0\\localcache\\local-packages\\python39\\site-packages (from requests) (2.0.4)\n",
      "Requirement already satisfied: urllib3<1.27,>=1.21.1 in c:\\users\\zaqxs\\appdata\\local\\packages\\pythonsoftwarefoundation.python.3.9_qbz5n2kfra8p0\\localcache\\local-packages\\python39\\site-packages (from requests) (1.26.6)\n",
      "Requirement already satisfied: certifi>=2017.4.17 in c:\\users\\zaqxs\\appdata\\local\\packages\\pythonsoftwarefoundation.python.3.9_qbz5n2kfra8p0\\localcache\\local-packages\\python39\\site-packages (from requests) (2021.5.30)\n",
      "Requirement already satisfied: idna<4,>=2.5 in c:\\users\\zaqxs\\appdata\\local\\packages\\pythonsoftwarefoundation.python.3.9_qbz5n2kfra8p0\\localcache\\local-packages\\python39\\site-packages (from requests) (3.2)\n"
     ]
    },
    {
     "name": "stderr",
     "output_type": "stream",
     "text": [
      "WARNING: You are using pip version 21.2.3; however, version 21.2.4 is available.\n",
      "You should consider upgrading via the 'C:\\Users\\zaqxs\\AppData\\Local\\Microsoft\\WindowsApps\\PythonSoftwareFoundation.Python.3.9_qbz5n2kfra8p0\\python.exe -m pip install --upgrade pip' command.\n"
     ]
    }
   ],
   "source": [
    "!python3 -m pip install requests"
   ]
  },
  {
   "cell_type": "code",
   "execution_count": 102,
   "metadata": {
    "scrolled": true,
    "slideshow": {
     "slide_type": "subslide"
    }
   },
   "outputs": [
    {
     "name": "stdout",
     "output_type": "stream",
     "text": [
      "0159\t동묘앞            \t127\t01호선\n",
      "0309\t지축             \t319\t03호선\n",
      "0321\t충무로            \t331\t03호선\n",
      "0333\t매봉             \t343\t03호선\n",
      "101C\t회기             \tK118\t경의선\n",
      "0228\t서울대입구          \t228\t02호선\n",
      "0242\t아현             \t242\t02호선\n",
      "0310\t구파발            \t320\t03호선\n",
      "1285\t임진강            \tK336\t경의선\n",
      "0229\t봉천             \t229\t02호선\n"
     ]
    }
   ],
   "source": [
    "!python3 src/ds_open_subway_json.py"
   ]
  },
  {
   "cell_type": "markdown",
   "metadata": {
    "collapsed": true
   },
   "source": [
    "### 결과가 없을 때까지 반복\n",
    "\n",
    "요청한 데이터가 있을 경우에는 '정상 처리되었습니다' 이지만,\n",
    "없는 경우에는 \"해당하는 데이터가 없습니다.\"로 바뀌게 된다.\n",
    "반복은 MESSAGE가 \"해당하는 데이터가 없습니다.\"인 경우까지 하면 된다."
   ]
  },
  {
   "cell_type": "code",
   "execution_count": 103,
   "metadata": {},
   "outputs": [
    {
     "data": {
      "text/plain": [
       "748"
      ]
     },
     "execution_count": 103,
     "metadata": {},
     "output_type": "execute_result"
    }
   ],
   "source": [
    "stations['SearchSTNBySubwayLineInfo']['list_total_count']"
   ]
  },
  {
   "cell_type": "code",
   "execution_count": 104,
   "metadata": {
    "slideshow": {
     "slide_type": "subslide"
    }
   },
   "outputs": [
    {
     "name": "stdout",
     "output_type": "stream",
     "text": [
      "Overwriting src/ds_open_subway_iter_json.py\n"
     ]
    }
   ],
   "source": [
    "%%writefile src/ds_open_subway_iter_json.py\n",
    "#!/usr/bin/env python\n",
    "# coding: utf-8\n",
    "import os\n",
    "import requests\n",
    "import urllib\n",
    "import mylib # NO! src.mylib\n",
    "\n",
    "def doIt():\n",
    "    keyPath=os.path.join(os.getcwd(), 'src', 'key.properties')\n",
    "    key=mylib.getKey(keyPath)\n",
    "    # (1) make params with resource IDs\n",
    "    KEY=str(key['dataseoul'])\n",
    "    TYPE='json'\n",
    "    #OLD: SERVICE='SearchSTNBySubwayLineService'\n",
    "    SERVICE='SearchSTNBySubwayLineInfo'\n",
    "    LINE_NUM=str(2)\n",
    "    START_INDEX=str(1)\n",
    "    END_INDEX=str(10)\n",
    "    startIndex=1\n",
    "    endIndex=10\n",
    "    list_total_count=0    # set later\n",
    "    while True:\n",
    "        START_INDEX=str(startIndex)\n",
    "        END_INDEX=str(endIndex)\n",
    "        #params=os.path.join(KEY,TYPE,SERVICE,START_INDEX,END_INDEX,LINE_NUM)\n",
    "        params=\"/\".join([KEY,TYPE,SERVICE,START_INDEX,END_INDEX,'','',LINE_NUM])\n",
    "        # (2) make a full url\n",
    "        _url='http://openAPI.seoul.go.kr:8088' #NOTE slash: do not use 'http://openAPI.seoul.go.kr:8088/'\n",
    "        #url=urllib.parse.urljoin(_url,params)\n",
    "        url=\"/\".join([_url,params])\n",
    "        #print(url)\n",
    "        # (3) get data\n",
    "        r=requests.get(url)\n",
    "        #print(r)\n",
    "        stations=r.json()\n",
    "        #print(stations)\n",
    "        if(startIndex==1):\n",
    "            list_total_count=stations['SearchSTNBySubwayLineInfo']['list_total_count']\n",
    "            print(\"- Total Count: \", list_total_count)\n",
    "        for e in stations['SearchSTNBySubwayLineInfo']['row']:\n",
    "            print (u\"{0:4s}\\t{1:15s}\\t{2:3s}\\t{3:2s}\".format(e['STATION_CD'], e['STATION_NM'], e['FR_CODE'], e['LINE_NUM']))\n",
    "        startIndex+=10\n",
    "        endIndex+=10\n",
    "        if(endIndex > list_total_count):\n",
    "            print(\"----- Ending endIndex=\",endIndex)\n",
    "            break  # exit from the while loop\n",
    "\n",
    "if __name__ == \"__main__\":\n",
    "    doIt()\n"
   ]
  },
  {
   "cell_type": "code",
   "execution_count": 105,
   "metadata": {},
   "outputs": [
    {
     "name": "stdout",
     "output_type": "stream",
     "text": [
      "- Total Count:  748\n",
      "0159\t동묘앞            \t127\t01호선\n",
      "0309\t지축             \t319\t03호선\n",
      "0321\t충무로            \t331\t03호선\n",
      "0333\t매봉             \t343\t03호선\n",
      "101C\t회기             \tK118\t경의선\n",
      "0228\t서울대입구          \t228\t02호선\n",
      "0242\t아현             \t242\t02호선\n",
      "0310\t구파발            \t320\t03호선\n",
      "1285\t임진강            \tK336\t경의선\n",
      "0229\t봉천             \t229\t02호선\n",
      "0328\t잠원             \t338\t03호선\n",
      "0335\t대치             \t345\t03호선\n",
      "0230\t신림             \t230\t02호선\n",
      "0244\t용답             \t211-1\t02호선\n",
      "1729\t당정             \tP151\t01호선\n",
      "0154\t종로5가           \t129\t01호선\n",
      "0231\t신대방            \t231\t02호선\n",
      "0247\t도림천            \t234-1\t02호선\n",
      "0314\t홍제             \t324\t03호선\n",
      "0206\t신당             \t206\t02호선\n",
      "0237\t당산             \t237\t02호선\n",
      "0316\t독립문            \t326\t03호선\n",
      "0322\t동대입구           \t332\t03호선\n",
      "0336\t학여울            \t346\t03호선\n",
      "0220\t선릉             \t220\t02호선\n",
      "0238\t합정             \t238\t02호선\n",
      "0248\t양천구청           \t234-2\t02호선\n",
      "0317\t경복궁            \t327\t03호선\n",
      "0334\t도곡             \t344\t03호선\n",
      "2562\t강일             \t554\t05호선\n",
      "0239\t홍대입구           \t239\t02호선\n",
      "0245\t신답             \t211-2\t02호선\n",
      "0311\t연신내            \t321\t03호선\n",
      "0331\t남부터미널          \t341\t03호선\n",
      "0232\t구로디지털단지        \t232\t02호선\n",
      "0318\t안국             \t328\t03호선\n",
      "0332\t양재             \t342\t03호선\n",
      "0337\t대청             \t347\t03호선\n",
      "0221\t역삼             \t221\t02호선\n",
      "0329\t고속터미널          \t339\t03호선\n",
      "0330\t교대             \t340\t03호선\n",
      "0207\t상왕십리           \t207\t02호선\n",
      "0233\t대림             \t233\t02호선\n",
      "0234\t신도림            \t234\t02호선\n",
      "0235\t문래             \t235\t02호선\n",
      "0236\t영등포구청          \t236\t02호선\n",
      "0240\t신촌             \t240\t02호선\n",
      "0241\t이대             \t241\t02호선\n",
      "0249\t신정네거리          \t234-3\t02호선\n",
      "0250\t용두             \t211-3\t02호선\n",
      "0312\t불광             \t322\t03호선\n",
      "0313\t녹번             \t323\t03호선\n",
      "0315\t무악재            \t325\t03호선\n",
      "0319\t종로3가           \t329\t03호선\n",
      "0320\t을지로3가          \t330\t03호선\n",
      "0324\t금호             \t334\t03호선\n",
      "0325\t옥수             \t335\t03호선\n",
      "0326\t압구정            \t336\t03호선\n",
      "0338\t일원             \t348\t03호선\n",
      "0208\t왕십리            \t208\t02호선\n",
      "0209\t한양대            \t209\t02호선\n",
      "0210\t뚝섬             \t210\t02호선\n",
      "0211\t성수             \t211\t02호선\n",
      "0212\t건대입구           \t212\t02호선\n",
      "0213\t구의             \t213\t02호선\n",
      "0214\t강변             \t214\t02호선\n",
      "0215\t잠실나루           \t215\t02호선\n",
      "0216\t잠실             \t216\t02호선\n",
      "0217\t잠실새내           \t217\t02호선\n",
      "0218\t종합운동장          \t218\t02호선\n",
      "0219\t삼성             \t219\t02호선\n",
      "0222\t강남             \t222\t02호선\n",
      "0223\t교대             \t223\t02호선\n",
      "0224\t서초             \t224\t02호선\n",
      "0225\t방배             \t225\t02호선\n",
      "0226\t사당             \t226\t02호선\n",
      "0227\t낙성대            \t227\t02호선\n",
      "0155\t동대문            \t128\t01호선\n",
      "0156\t신설동            \t126\t01호선\n",
      "0157\t제기동            \t125\t01호선\n",
      "0158\t청량리            \t124\t01호선\n",
      "0200\t까치산            \t234-4\t02호선\n",
      "0201\t시청             \t201\t02호선\n",
      "0202\t을지로입구          \t202\t02호선\n",
      "0203\t을지로3가          \t203\t02호선\n",
      "0204\t을지로4가          \t204\t02호선\n",
      "0205\t동대문역사문화공원      \t205\t02호선\n",
      "0246\t신설동            \t211-4\t02호선\n",
      "0300\t대곡             \tK322\t경의선\n",
      "0323\t약수             \t333\t03호선\n",
      "0327\t신사             \t337\t03호선\n",
      "0339\t수서             \t349\t03호선\n",
      "0340\t가락시장           \t350\t03호선\n",
      "0341\t경찰병원           \t351\t03호선\n",
      "0342\t오금             \t352\t03호선\n",
      "0409\t당고개            \t409\t04호선\n",
      "0410\t상계             \t410\t04호선\n",
      "0411\t노원             \t411\t04호선\n",
      "0412\t창동             \t412\t04호선\n",
      "0243\t충정로            \t243\t02호선\n",
      "0413\t쌍문             \t413\t04호선\n",
      "0414\t수유             \t414\t04호선\n",
      "0415\t미아             \t415\t04호선\n",
      "0416\t미아사거리          \t416\t04호선\n",
      "0417\t길음             \t417\t04호선\n",
      "0418\t성신여대입구         \t418\t04호선\n",
      "0419\t한성대입구          \t419\t04호선\n",
      "0420\t혜화             \t420\t04호선\n",
      "0421\t동대문            \t421\t04호선\n",
      "0422\t동대문역사문화공원      \t422\t04호선\n",
      "0423\t충무로            \t423\t04호선\n",
      "0424\t명동             \t424\t04호선\n",
      "0425\t회현             \t425\t04호선\n",
      "0426\t서울역            \t426\t04호선\n",
      "0427\t숙대입구           \t427\t04호선\n",
      "0429\t신용산            \t429\t04호선\n",
      "0430\t이촌             \t430\t04호선\n",
      "0431\t동작             \t431\t04호선\n",
      "0432\t총신대입구          \t432\t04호선\n",
      "0433\t사당             \t433\t04호선\n",
      "0434\t남태령            \t434\t04호선\n",
      "1002\t남영             \t134\t01호선\n",
      "1003\t용산             \t135\t01호선\n",
      "1004\t노량진            \t136\t01호선\n",
      "1005\t대방             \t137\t01호선\n",
      "1006\t영등포            \t139\t01호선\n",
      "1007\t신도림            \t140\t01호선\n",
      "1008\t이촌             \tK111\t경의선\n",
      "100C\t용산             \tK110\t경의선\n",
      "1010\t한남             \tK113\t경의선\n",
      "1011\t옥수             \tK114\t경의선\n",
      "1012\t응봉             \tK115\t경의선\n",
      "1013\t왕십리            \tK116\t경의선\n",
      "1015\t회기             \t123\t01호선\n",
      "1016\t외대앞            \t122\t01호선\n",
      "0428\t삼각지            \t428\t04호선\n",
      "1009\t서빙고            \tK112\t경의선\n",
      "1017\t신이문            \t121\t01호선\n",
      "1018\t석계             \t120\t01호선\n",
      "1019\t광운대            \t119\t01호선\n",
      "1020\t월계             \t118\t01호선\n",
      "1021\t녹천             \t117\t01호선\n",
      "1022\t창동             \t116\t01호선\n",
      "1023\t선릉             \tK215\t수인분당선\n",
      "1024\t한티             \tK216\t수인분당선\n",
      "1025\t도곡             \tK217\t수인분당선\n",
      "1026\t구룡             \tK218\t수인분당선\n",
      "1027\t개포동            \tK219\t수인분당선\n",
      "1028\t대모산입구          \tK220\t수인분당선\n",
      "102C\t왕십리            \tK210\t수인분당선\n",
      "1030\t수서             \tK221\t수인분당선\n",
      "1031\t복정             \tK222\t수인분당선\n",
      "1032\t신길             \t138\t01호선\n",
      "1201\t중랑             \tK119\t경의선\n",
      "1202\t상봉             \tK120\t경의선\n",
      "1203\t망우             \tK121\t경의선\n",
      "1204\t양원             \tK122\t경의선\n",
      "1205\t구리             \tK123\t경의선\n",
      "1206\t도농             \tK124\t경의선\n",
      "1207\t양정             \tK125\t경의선\n",
      "1208\t덕소             \tK126\t경의선\n",
      "1209\t도심             \tK127\t경의선\n",
      "1210\t팔당             \tK128\t경의선\n",
      "1211\t운길산            \tK129\t경의선\n",
      "1212\t양수             \tK130\t경의선\n",
      "1213\t신원             \tK131\t경의선\n",
      "1214\t국수             \tK132\t경의선\n",
      "1215\t아신             \tK133\t경의선\n",
      "1216\t오빈             \tK134\t경의선\n",
      "1217\t양평             \tK135\t경의선\n",
      "1219\t용문             \tK137\t경의선\n",
      "1220\t지평             \tK138\t경의선\n",
      "1251\t서울역            \tP313\t경의선\n",
      "1252\t신촌             \tP312\t경의선\n",
      "1014\t청량리            \tK117\t경의선\n",
      "1218\t원덕             \tK136\t경의선\n",
      "1261\t효창공원앞          \tK826\t경의선\n",
      "1262\t공덕             \tK312\t경의선\n",
      "1263\t서강대            \tK313\t경의선\n",
      "1264\t홍대입구           \tK314\t경의선\n",
      "1265\t가좌             \tK315\t경의선\n",
      "1266\t디지털미디어시티       \tK316\t경의선\n",
      "1268\t화전             \tK318\t경의선\n",
      "1269\t강매             \tK319\t경의선\n",
      "1270\t행신             \tK320\t경의선\n",
      "1271\t능곡             \tK321\t경의선\n",
      "1272\t곡산             \tK323\t경의선\n",
      "1273\t백마             \tK324\t경의선\n",
      "1274\t풍산             \tK325\t경의선\n",
      "1275\t일산             \tK326\t경의선\n",
      "1276\t탄현             \tK327\t경의선\n",
      "1277\t야당             \tK328\t경의선\n",
      "1278\t운정             \tK329\t경의선\n",
      "1279\t금릉             \tK330\t경의선\n",
      "1280\t금촌             \tK331\t경의선\n",
      "1282\t월롱             \tK333\t경의선\n",
      "1283\t파주             \tK334\t경의선\n",
      "1284\t문산             \tK335\t경의선\n",
      "1306\t청량리            \tP117\t경춘선\n",
      "1308\t중랑             \tP119\t경춘선\n",
      "1309\t상봉             \tP120\t경춘선\n",
      "1310\t망우             \tP121\t경춘선\n",
      "1311\t신내             \tP122\t경춘선\n",
      "1313\t별내             \tP124\t경춘선\n",
      "1314\t퇴계원            \tP125\t경춘선\n",
      "1315\t사릉             \tP126\t경춘선\n",
      "1316\t금곡             \tP127\t경춘선\n",
      "1317\t평내호평           \tP128\t경춘선\n",
      "1318\t천마산            \tP129\t경춘선\n",
      "1319\t마석             \tP130\t경춘선\n",
      "1320\t대성리            \tP131\t경춘선\n",
      "1321\t청평             \tP132\t경춘선\n",
      "1322\t상천             \tP133\t경춘선\n",
      "1324\t굴봉산            \tP135\t경춘선\n",
      "1325\t백양리            \tP136\t경춘선\n",
      "1326\t강촌             \tP137\t경춘선\n",
      "1327\t김유정            \tP138\t경춘선\n",
      "1328\t남춘천            \tP139\t경춘선\n",
      "1329\t춘천             \tP140\t경춘선\n",
      "1401\t봉명             \tP170\t01호선\n",
      "1402\t쌍용             \tP171\t01호선\n",
      "1267\t수색             \tK317\t경의선\n",
      "1312\t갈매             \tP123\t경춘선\n",
      "1323\t가평             \tP134\t경춘선\n",
      "1403\t아산             \tP172\t01호선\n",
      "1405\t배방             \tP174\t01호선\n",
      "1407\t온양온천           \tP176\t01호선\n",
      "1408\t신창             \tP177\t01호선\n",
      "1450\t선바위            \t435\t04호선\n",
      "1451\t경마공원           \t436\t04호선\n",
      "1452\t대공원            \t437\t04호선\n",
      "1453\t과천             \t438\t04호선\n",
      "1454\t정부과천청사         \t439\t04호선\n",
      "1455\t인덕원            \t440\t04호선\n",
      "1456\t평촌             \t441\t04호선\n",
      "1457\t범계             \t442\t04호선\n",
      "1458\t금정             \t443\t04호선\n",
      "1501\t판교             \tK410\t경강선\n",
      "1502\t이매             \tK411\t경강선\n",
      "1503\t삼동             \tK412\t경강선\n",
      "1504\t경기광주           \tK413\t경강선\n",
      "1505\t초월             \tK414\t경강선\n",
      "1506\t곤지암            \tK415\t경강선\n",
      "1507\t신둔도예촌          \tK416\t경강선\n",
      "1509\t부발             \tK418\t경강선\n",
      "1701\t구로             \t141\t01호선\n",
      "1702\t가산디지털단지        \tP142\t01호선\n",
      "1703\t금천구청           \tP144\t01호선\n",
      "1704\t석수             \tP145\t01호선\n",
      "1705\t관악             \tP146\t01호선\n",
      "1706\t안양             \tP147\t01호선\n",
      "1707\t명학             \tP148\t01호선\n",
      "1708\t금정             \tP149\t01호선\n",
      "1709\t군포             \tP150\t01호선\n",
      "1710\t의왕             \tP152\t01호선\n",
      "1711\t성균관대           \tP153\t01호선\n",
      "1712\t화서             \tP154\t01호선\n",
      "1713\t수원             \tP155\t01호선\n",
      "1714\t독산             \tP143\t01호선\n",
      "1715\t세류             \tP156\t01호선\n",
      "1716\t병점             \tP157\t01호선\n",
      "1307\t회기             \tP118\t경춘선\n",
      "1508\t이천             \tK417\t경강선\n",
      "1717\t세마             \tP158\t01호선\n",
      "1718\t오산대            \tP159\t01호선\n",
      "1719\t오산             \tP160\t01호선\n",
      "1721\t송탄             \tP162\t01호선\n",
      "1722\t서정리            \tP163\t01호선\n",
      "1723\t평택지제           \tP164\t01호선\n",
      "1724\t평택             \tP165\t01호선\n",
      "1725\t성환             \tP166\t01호선\n",
      "1726\t직산             \tP167\t01호선\n",
      "1727\t두정             \tP168\t01호선\n",
      "1728\t천안             \tP169\t01호선\n",
      "1749\t서동탄            \tP157-1\t01호선\n",
      "1750\t광명             \tP144-1\t01호선\n",
      "1751\t산본             \t444\t04호선\n",
      "1752\t대야미            \t446\t04호선\n",
      "1753\t반월             \t447\t04호선\n",
      "1754\t상록수            \t448\t04호선\n",
      "1755\t한대앞            \t449\t04호선\n",
      "1756\t중앙             \t450\t04호선\n",
      "1757\t고잔             \t451\t04호선\n",
      "1758\t초지             \t452\t04호선\n",
      "1759\t안산             \t453\t04호선\n",
      "1760\t신길온천           \t454\t04호선\n",
      "1761\t정왕             \t455\t04호선\n",
      "1762\t오이도            \t456\t04호선\n",
      "1763\t수리산            \t445\t04호선\n",
      "1801\t개봉             \t143\t01호선\n",
      "1802\t오류동            \t144\t01호선\n",
      "1803\t역곡             \t146\t01호선\n",
      "1804\t부천             \t148\t01호선\n",
      "1805\t송내             \t150\t01호선\n",
      "1806\t부평             \t152\t01호선\n",
      "1807\t백운             \t153\t01호선\n",
      "1808\t동암             \t154\t01호선\n",
      "1809\t주안             \t156\t01호선\n",
      "1810\t제물포            \t158\t01호선\n",
      "1811\t동인천            \t160\t01호선\n",
      "1812\t인천             \t161\t01호선\n",
      "1720\t진위             \tP161\t01호선\n",
      "1800\t오이도            \tK258\t수인분당선\n",
      "1813\t구일             \t142\t01호선\n",
      "1814\t소사             \t147\t01호선\n",
      "1815\t부개             \t151\t01호선\n",
      "1816\t간석             \t155\t01호선\n",
      "1817\t도원             \t159\t01호선\n",
      "1821\t온수             \t145\t01호선\n",
      "1822\t중동             \t149\t01호선\n",
      "1823\t도화             \t157\t01호선\n",
      "1830\t한대앞            \tK251\t수인분당선\n",
      "1831\t중앙             \tK252\t수인분당선\n",
      "1833\t초지             \tK254\t수인분당선\n",
      "1834\t안산             \tK255\t수인분당선\n",
      "1835\t신길온천           \tK256\t수인분당선\n",
      "1836\t정왕             \tK257\t수인분당선\n",
      "1845\t청량리            \tK209\t수인분당선\n",
      "1846\t수원             \tK245\t수인분당선\n",
      "1847\t서울숲            \tK211\t수인분당선\n",
      "1848\t압구정로데오         \tK212\t수인분당선\n",
      "1849\t강남구청           \tK213\t수인분당선\n",
      "1850\t선정릉            \tK214\t수인분당선\n",
      "1851\t가천대            \tK223\t수인분당선\n",
      "1852\t태평             \tK224\t수인분당선\n",
      "1853\t모란             \tK225\t수인분당선\n",
      "1854\t야탑             \tK226\t수인분당선\n",
      "1855\t서현             \tK228\t수인분당선\n",
      "1856\t수내             \tK229\t수인분당선\n",
      "1857\t정자             \tK230\t수인분당선\n",
      "1858\t미금             \tK231\t수인분당선\n",
      "1859\t오리             \tK232\t수인분당선\n",
      "1860\t이매             \tK227\t수인분당선\n",
      "1861\t보정             \tK234\t수인분당선\n",
      "1863\t구성             \tK235\t수인분당선\n",
      "1865\t기흥             \tK237\t수인분당선\n",
      "1866\t상갈             \tK238\t수인분당선\n",
      "1868\t영통             \tK240\t수인분당선\n",
      "1869\t망포             \tK241\t수인분당선\n",
      "1870\t매탄권선           \tK242\t수인분당선\n",
      "1871\t수원시청           \tK243\t수인분당선\n",
      "1872\t매교             \tK244\t수인분당선\n",
      "1305\t광운대            \tP116\t경춘선\n",
      "1832\t고잔             \tK253\t수인분당선\n",
      "1862\t죽전             \tK233\t수인분당선\n",
      "1864\t신갈             \tK236\t수인분당선\n",
      "1873\t고색             \tK246\t수인분당선\n",
      "1874\t오목천            \tK247\t수인분당선\n",
      "1875\t어천             \tK248\t수인분당선\n",
      "1876\t야목             \tK249\t수인분당선\n",
      "1878\t달월             \tK259\t수인분당선\n",
      "1879\t월곶             \tK260\t수인분당선\n",
      "1880\t소래포구           \tK261\t수인분당선\n",
      "1881\t인천논현           \tK262\t수인분당선\n",
      "1882\t호구포            \tK263\t수인분당선\n",
      "1883\t남동인더스파크        \tK264\t수인분당선\n",
      "1884\t원인재            \tK265\t수인분당선\n",
      "1885\t연수             \tK266\t수인분당선\n",
      "1886\t송도             \tK267\t수인분당선\n",
      "1888\t인하대            \tK269\t수인분당선\n",
      "1889\t숭의             \tK270\t수인분당선\n",
      "1890\t신포             \tK271\t수인분당선\n",
      "1891\t인천             \tK272\t수인분당선\n",
      "1901\t방학             \t115\t01호선\n",
      "1902\t도봉             \t114\t01호선\n",
      "1903\t도봉산            \t113\t01호선\n",
      "1904\t망월사            \t112\t01호선\n",
      "1905\t회룡             \t111\t01호선\n",
      "1906\t의정부            \t110\t01호선\n",
      "1907\t가능             \t109\t01호선\n",
      "1908\t녹양             \t108\t01호선\n",
      "1909\t양주             \t107\t01호선\n",
      "1910\t덕계             \t106\t01호선\n",
      "1911\t덕정             \t105\t01호선\n",
      "1913\t동두천중앙          \t103\t01호선\n",
      "1914\t보산             \t102\t01호선\n",
      "1915\t동두천            \t101\t01호선\n",
      "1948\t원흥             \t317\t03호선\n",
      "1950\t삼송             \t318\t03호선\n",
      "1951\t원당             \t316\t03호선\n",
      "1952\t화정             \t315\t03호선\n",
      "1510\t세종대왕릉          \tK419\t경강선\n",
      "1867\t청명             \tK239\t수인분당선\n",
      "1877\t사리             \tK250\t수인분당선\n",
      "1912\t지행             \t104\t01호선\n",
      "1916\t소요산            \t100\t01호선\n",
      "1953\t대곡             \t314\t03호선\n",
      "1954\t백석             \t313\t03호선\n",
      "1955\t마두             \t312\t03호선\n",
      "1956\t정발산            \t311\t03호선\n",
      "1957\t주엽             \t310\t03호선\n",
      "1958\t대화             \t309\t03호선\n",
      "2511\t방화             \t510\t05호선\n",
      "2512\t개화산            \t511\t05호선\n",
      "2513\t김포공항           \t512\t05호선\n",
      "2515\t마곡             \t514\t05호선\n",
      "2516\t발산             \t515\t05호선\n",
      "2517\t우장산            \t516\t05호선\n",
      "2518\t화곡             \t517\t05호선\n",
      "2519\t까치산            \t518\t05호선\n",
      "2520\t신정             \t519\t05호선\n",
      "2521\t목동             \t520\t05호선\n",
      "2522\t오목교            \t521\t05호선\n",
      "2523\t양평             \t522\t05호선\n",
      "2524\t영등포구청          \t523\t05호선\n",
      "2525\t영등포시장          \t524\t05호선\n",
      "2526\t신길             \t525\t05호선\n",
      "2527\t여의도            \t526\t05호선\n",
      "2528\t여의나루           \t527\t05호선\n",
      "2529\t마포             \t528\t05호선\n",
      "2530\t공덕             \t529\t05호선\n",
      "2531\t애오개            \t530\t05호선\n",
      "2532\t충정로            \t531\t05호선\n",
      "2514\t송정             \t513\t05호선\n",
      "2533\t서대문            \t532\t05호선\n",
      "2534\t광화문            \t533\t05호선\n",
      "2535\t종로3가           \t534\t05호선\n",
      "2536\t을지로4가          \t535\t05호선\n",
      "2537\t동대문역사문화공원      \t536\t05호선\n",
      "2539\t신금호            \t538\t05호선\n",
      "2540\t행당             \t539\t05호선\n",
      "2541\t왕십리            \t540\t05호선\n",
      "2542\t마장             \t541\t05호선\n",
      "2543\t답십리            \t542\t05호선\n",
      "2544\t장한평            \t543\t05호선\n",
      "2545\t군자             \t544\t05호선\n",
      "2546\t아차산            \t545\t05호선\n",
      "2547\t광나루            \t546\t05호선\n",
      "2548\t천호             \t547\t05호선\n",
      "2549\t강동             \t548\t05호선\n",
      "2550\t길동             \t549\t05호선\n",
      "2551\t굽은다리           \t550\t05호선\n",
      "2552\t명일             \t551\t05호선\n",
      "2553\t고덕             \t552\t05호선\n",
      "2554\t상일동            \t553\t05호선\n",
      "2555\t둔촌동            \tP549\t05호선\n",
      "2556\t올림픽공원          \tP550\t05호선\n",
      "2557\t방이             \tP551\t05호선\n",
      "2558\t오금             \tP552\t05호선\n",
      "2559\t개롱             \tP553\t05호선\n",
      "2560\t거여             \tP554\t05호선\n",
      "2561\t마천             \tP555\t05호선\n",
      "2563\t미사             \t555\t05호선\n",
      "2564\t하남풍산           \t556\t05호선\n",
      "2565\t하남시청           \t557\t05호선\n",
      "2611\t응암             \t610\t06호선\n",
      "2612\t역촌             \t611\t06호선\n",
      "2538\t청구             \t5371\t05호선\n",
      "2566\t하남검단산          \t558\t05호선\n",
      "2613\t불광             \t612\t06호선\n",
      "2614\t독바위            \t613\t06호선\n",
      "2615\t연신내            \t614\t06호선\n",
      "2616\t구산             \t615\t06호선\n",
      "2617\t새절             \t616\t06호선\n",
      "2618\t증산             \t617\t06호선\n",
      "2619\t디지털미디어시티       \t618\t06호선\n",
      "2620\t월드컵경기장         \t619\t06호선\n",
      "2621\t마포구청           \t620\t06호선\n",
      "2622\t망원             \t621\t06호선\n",
      "2623\t합정             \t622\t06호선\n",
      "2624\t상수             \t623\t06호선\n",
      "2625\t광흥창            \t624\t06호선\n",
      "2626\t대흥             \t625\t06호선\n",
      "2627\t공덕             \t626\t06호선\n",
      "2628\t효창공원앞          \t627\t06호선\n",
      "2629\t삼각지            \t628\t06호선\n",
      "2630\t녹사평            \t629\t06호선\n",
      "2631\t이태원            \t630\t06호선\n",
      "2632\t한강진            \t631\t06호선\n",
      "2633\t버티고개           \t632\t06호선\n",
      "2634\t약수             \t633\t06호선\n",
      "2635\t청구             \t634\t06호선\n",
      "2636\t신당             \t635\t06호선\n",
      "2637\t동묘앞            \t636\t06호선\n",
      "2638\t창신             \t637\t06호선\n",
      "2639\t보문             \t638\t06호선\n",
      "2640\t안암             \t639\t06호선\n",
      "2641\t고려대            \t640\t06호선\n",
      "2642\t월곡             \t641\t06호선\n",
      "2643\t상월곡            \t642\t06호선\n",
      "2644\t돌곶이            \t643\t06호선\n",
      "2645\t석계             \t644\t06호선\n",
      "2646\t태릉입구           \t645\t06호선\n",
      "2647\t화랑대            \t646\t06호선\n",
      "2648\t봉화산            \t647\t06호선\n",
      "2649\t신내             \t648\t06호선\n",
      "2711\t장암             \t709\t07호선\n",
      "2712\t도봉산            \t710\t07호선\n",
      "2713\t수락산            \t711\t07호선\n",
      "2714\t마들             \t712\t07호선\n",
      "2715\t노원             \t713\t07호선\n",
      "2716\t중계             \t714\t07호선\n",
      "2717\t하계             \t7151\t07호선\n",
      "2718\t공릉             \t716\t07호선\n",
      "2719\t태릉입구           \t717\t07호선\n",
      "2720\t먹골             \t718\t07호선\n",
      "2721\t중화             \t719\t07호선\n",
      "2722\t상봉             \t720\t07호선\n",
      "2723\t면목             \t721\t07호선\n",
      "2724\t사가정            \t722\t07호선\n",
      "2725\t용마산            \t723\t07호선\n",
      "2726\t중곡             \t724\t07호선\n",
      "2727\t군자             \t725\t07호선\n",
      "2728\t어린이대공원         \t726\t07호선\n",
      "2730\t뚝섬유원지          \t728\t07호선\n",
      "2731\t청담             \t729\t07호선\n",
      "2732\t강남구청           \t730\t07호선\n",
      "2734\t논현             \t732\t07호선\n",
      "2735\t반포             \t733\t07호선\n",
      "2736\t고속터미널          \t734\t07호선\n",
      "2737\t내방             \t735\t07호선\n",
      "2738\t이수             \t736\t07호선\n",
      "2739\t남성             \t737\t07호선\n",
      "2740\t숭실대입구          \t738\t07호선\n",
      "2741\t상도             \t739\t07호선\n",
      "2742\t장승배기           \t740\t07호선\n",
      "2743\t신대방삼거리         \t741\t07호선\n",
      "2733\t학동             \t731\t07호선\n",
      "2745\t신풍             \t743\t07호선\n",
      "2746\t대림             \t744\t07호선\n",
      "2747\t남구로            \t745\t07호선\n",
      "2748\t가산디지털단지        \t746\t07호선\n",
      "2749\t철산             \t747\t07호선\n",
      "2750\t광명사거리          \t748\t07호선\n",
      "2751\t천왕             \t749\t07호선\n",
      "2752\t온수             \t750\t07호선\n",
      "2753\t까치울            \t751\t07호선\n",
      "2754\t부천종합운동장        \t752\t07호선\n",
      "2755\t춘의             \t753\t07호선\n",
      "2756\t신중동            \t754\t07호선\n",
      "2757\t부천시청           \t755\t07호선\n",
      "2758\t상동             \t756\t07호선\n",
      "2759\t삼산체육관          \t757\t07호선\n",
      "2760\t굴포천            \t758\t07호선\n",
      "2761\t부평구청           \t759\t07호선\n",
      "2811\t암사             \t810\t08호선\n",
      "2812\t천호             \t811\t08호선\n",
      "2813\t강동구청           \t812\t08호선\n",
      "2815\t잠실             \t814\t08호선\n",
      "2816\t석촌             \t815\t08호선\n",
      "2817\t송파             \t816\t08호선\n",
      "2818\t가락시장           \t817\t08호선\n",
      "2819\t문정             \t818\t08호선\n",
      "2820\t장지             \t819\t08호선\n",
      "2821\t복정             \t820\t08호선\n",
      "2822\t산성             \t821\t08호선\n",
      "2823\t남한산성입구         \t822\t08호선\n",
      "2824\t단대오거리          \t823\t08호선\n",
      "2825\t신흥             \t824\t08호선\n",
      "2826\t수진             \t825\t08호선\n",
      "2827\t모란             \t826\t08호선\n",
      "3110\t계양             \tI110\t인천선\n",
      "2729\t건대입구           \t727\t07호선\n",
      "2744\t보라매            \t742\t07호선\n",
      "2814\t몽촌토성           \t813\t08호선\n",
      "3111\t귤현             \tI111\t인천선\n",
      "3112\t박촌             \tI112\t인천선\n",
      "3113\t임학             \tI113\t인천선\n",
      "3114\t계산             \tI114\t인천선\n",
      "3115\t경인교대입구         \tI115\t인천선\n",
      "3116\t작전             \tI116\t인천선\n",
      "3117\t갈산             \tI117\t인천선\n",
      "3118\t부평구청           \tI118\t인천선\n",
      "3119\t부평시장           \tI119\t인천선\n",
      "3120\t부평             \tI120\t인천선\n",
      "3121\t동수             \tI121\t인천선\n",
      "3122\t부평삼거리          \tI122\t인천선\n",
      "3123\t간석오거리          \tI123\t인천선\n",
      "3124\t인천시청           \tI124\t인천선\n",
      "3125\t예술회관           \tI125\t인천선\n",
      "3126\t인천터미널          \tI126\t인천선\n",
      "3127\t문학경기장          \tI127\t인천선\n",
      "3129\t신연수            \tI129\t인천선\n",
      "3130\t원인재            \tI130\t인천선\n",
      "3131\t동춘             \tI131\t인천선\n",
      "3132\t동막             \tI132\t인천선\n",
      "3133\t캠퍼스타운          \tI133\t인천선\n",
      "3134\t테크노파크          \tI134\t인천선\n",
      "3135\t지식정보단지         \tI135\t인천선\n",
      "3136\t인천대입구          \tI136\t인천선\n",
      "3137\t센트럴파크          \tI137\t인천선\n",
      "3138\t국제업무지구         \tI138\t인천선\n",
      "3139\t송도달빛축제공원       \tI139\t인천선\n",
      "3201\t검단오류           \tI201\t인천2호선\n",
      "3202\t왕길             \tI202\t인천2호선\n",
      "3203\t검단사거리          \tI203\t인천2호선\n",
      "3204\t마전             \tI204\t인천2호선\n",
      "3205\t완정             \tI205\t인천2호선\n",
      "3128\t선학             \tI128\t인천선\n",
      "3206\t독정             \tI206\t인천2호선\n",
      "3207\t검암             \tI207\t인천2호선\n",
      "3208\t검바위            \tI208\t인천2호선\n",
      "3209\t아시아드경기장        \tI209\t인천2호선\n",
      "3210\t서구청            \tI210\t인천2호선\n",
      "3211\t가정             \tI211\t인천2호선\n",
      "3213\t석남             \tI213\t인천2호선\n",
      "3214\t서부여성회관         \tI214\t인천2호선\n",
      "3215\t인천가좌           \tI215\t인천2호선\n",
      "3216\t가재울            \tI216\t인천2호선\n",
      "3217\t주안국가산단         \tI217\t인천2호선\n",
      "3218\t주안             \tI218\t인천2호선\n",
      "3219\t시민공원           \tI219\t인천2호선\n",
      "3220\t석바위시장          \tI220\t인천2호선\n",
      "3221\t인천시청           \tI221\t인천2호선\n",
      "3222\t석천사거리          \tI222\t인천2호선\n",
      "3223\t모래내시장          \tI223\t인천2호선\n",
      "3224\t만수             \tI224\t인천2호선\n",
      "3225\t남동구청           \tI225\t인천2호선\n",
      "3226\t인천대공원          \tI226\t인천2호선\n",
      "3227\t운연             \tI227\t인천2호선\n",
      "3762\t산곡             \t760\t07호선\n",
      "3763\t석남             \t761\t07호선\n",
      "4101\t개화             \t901\t09호선\n",
      "4102\t김포공항           \t902\t09호선\n",
      "4103\t공항시장           \t903\t09호선\n",
      "4104\t신방화            \t904\t09호선\n",
      "4105\t마곡나루           \t905\t09호선\n",
      "4106\t양천향교           \t906\t09호선\n",
      "4107\t가양             \t907\t09호선\n",
      "4108\t증미             \t908\t09호선\n",
      "4109\t등촌             \t909\t09호선\n",
      "4110\t염창             \t910\t09호선\n",
      "4112\t선유도            \t912\t09호선\n",
      "4113\t당산             \t913\t09호선\n",
      "4114\t국회의사당          \t914\t09호선\n",
      "4115\t여의도            \t915\t09호선\n",
      "4116\t샛강             \t916\t09호선\n",
      "4117\t노량진            \t917\t09호선\n",
      "4119\t흑석             \t919\t09호선\n",
      "4120\t동작             \t920\t09호선\n",
      "4121\t구반포            \t921\t09호선\n",
      "4118\t노들             \t918\t09호선\n",
      "4122\t신반포            \t922\t09호선\n",
      "4123\t고속터미널          \t923\t09호선\n",
      "4124\t사평             \t924\t09호선\n",
      "4125\t신논현            \t925\t09호선\n",
      "4126\t언주             \t926\t09호선\n",
      "4127\t선정릉            \t927\t09호선\n",
      "4128\t삼성중앙           \t928\t09호선\n",
      "4129\t봉은사            \t929\t09호선\n",
      "4130\t종합운동장          \t930\t09호선\n",
      "4131\t삼전             \t931\t09호선\n",
      "4132\t석촌고분           \t932\t09호선\n",
      "4133\t석촌             \t933\t09호선\n",
      "4134\t송파나루           \t934\t09호선\n",
      "4135\t한성백제           \t935\t09호선\n",
      "4136\t올림픽공원          \t936\t09호선\n",
      "4137\t둔촌오륜           \t937\t09호선\n",
      "4138\t중앙보훈병원         \t938\t09호선\n",
      "4201\t서울역            \tA01\t공항철도\n",
      "4202\t공덕             \tA02\t공항철도\n",
      "4206\t마곡나루           \tA042\t공항철도\n",
      "4207\t김포공항           \tA05\t공항철도\n",
      "4210\t청라국제도시         \tA071\t공항철도\n",
      "4211\t운서             \tA08\t공항철도\n",
      "4212\t공항화물청사         \tA09\t공항철도\n",
      "4217\t영종             \tA072\t공항철도\n",
      "4307\t강남             \tD7 \t신분당선\n",
      "4308\t양재             \tD8 \t신분당선\n",
      "4313\t미금             \tD13\t신분당선\n",
      "4314\t동천             \tD14\t신분당선\n",
      "4503\t지석             \tY112\t용인경전철\n",
      "4509\t시청.용인대         \tY117\t용인경전철\n",
      "4510\t명지대            \tY118\t용인경전철\n",
      "4605\t의정부시청          \tU114\t의정부경전철\n",
      "4607\t의정부중앙          \tU117\t의정부경전철\n",
      "4608\t동오             \tU118\t의정부경전철\n",
      "4707\t삼양사거리          \t947\t우이신설경전철\n",
      "4708\t솔샘             \t948\t우이신설경전철\n",
      "4922\t마산             \t692\t김포도시철도\n",
      "4926\t사우             \t696\t김포도시철도\n",
      "4927\t풍무             \t697\t김포도시철도\n",
      "1511\t여주             \tK420\t경강선\n",
      "4111\t신목동            \t911\t09호선\n",
      "4203\t홍대입구           \tA03\t공항철도\n",
      "4204\t디지털미디어시티       \tA04\t공항철도\n",
      "4208\t계양             \tA06\t공항철도\n",
      "4209\t검암             \tA07\t공항철도\n",
      "4213\t인천공항1터미널       \tA10\t공항철도\n",
      "4215\t인천공항2터미널       \tA11\t공항철도\n",
      "4309\t양재시민의숲         \tD9 \t신분당선\n",
      "4310\t청계산입구          \tD10\t신분당선\n",
      "4311\t판교             \tD11\t신분당선\n",
      "4312\t정자             \tD12\t신분당선\n",
      "4511\t김량장            \tY119\t용인경전철\n",
      "4517\t전대.에버랜드        \tY126\t용인경전철\n",
      "4603\t범골             \tU112\t의정부경전철\n",
      "4604\t경전철의정부         \tU113\t의정부경전철\n",
      "4606\t흥선             \tU115\t의정부경전철\n",
      "4609\t새말             \tU119\t의정부경전철\n",
      "4705\t화계             \t945\t우이신설경전철\n",
      "4706\t삼양             \t946\t우이신설경전철\n",
      "4923\t장기             \t693\t김포도시철도\n",
      "4924\t운양             \t694\t김포도시철도\n",
      "4925\t걸포북변           \t695\t김포도시철도\n",
      "3212\t가정중앙시장         \tI212\t인천2호선\n",
      "4315\t수지구청           \tD15\t신분당선\n",
      "4316\t성복             \tD16\t신분당선\n",
      "4317\t상현             \tD17\t신분당선\n",
      "4318\t광교중앙           \tD18\t신분당선\n",
      "4319\t광교             \tD19\t신분당선\n",
      "4501\t기흥             \tY110\t용인경전철\n",
      "4502\t강남대            \tY111\t용인경전철\n",
      "4504\t어정             \tY113\t용인경전철\n",
      "4505\t동백             \tY114\t용인경전철\n",
      "4506\t초당             \tY115\t용인경전철\n",
      "4508\t삼가             \tY116\t용인경전철\n",
      "4602\t회룡             \tU111\t의정부경전철\n",
      "4610\t경기도청북부청사       \tU120\t의정부경전철\n",
      "4611\t효자             \tU121\t의정부경전철\n",
      "4612\t곤제             \tU122\t의정부경전철\n",
      "4613\t어룡             \tU123\t의정부경전철\n",
      "4614\t송산             \tU124\t의정부경전철\n",
      "4615\t탑석             \tU125\t의정부경전철\n",
      "4701\t북한산우이          \t941\t우이신설경전철\n",
      "4702\t솔밭공원           \t942\t우이신설경전철\n",
      "4703\t4·19민주묘지       \t943\t우이신설경전철\n",
      "4704\t가오리            \t944\t우이신설경전철\n",
      "4928\t고촌             \t698\t김포도시철도\n",
      "4929\t김포공항           \t699\t김포도시철도\n",
      "0150\t서울역            \t133\t01호선\n",
      "0151\t시청             \t132\t01호선\n",
      "0152\t종각             \t131\t01호선\n",
      "0153\t종로3가           \t130\t01호선\n",
      "4709\t북한산보국문         \t949\t우이신설경전철\n",
      "4710\t정릉             \t950\t우이신설경전철\n",
      "4711\t성신여대입구         \t951\t우이신설경전철\n",
      "4712\t보문             \t952\t우이신설경전철\n",
      "4713\t신설동            \t953\t우이신설경전철\n",
      "4804\t소사             \t841\t서해선\n",
      "4805\t소새울            \t842\t서해선\n",
      "4806\t시흥대야           \t843\t서해선\n",
      "4807\t신천             \t844\t서해선\n",
      "4808\t신현             \t845\t서해선\n",
      "4809\t시흥시청           \t846\t서해선\n",
      "4810\t시흥능곡           \t847\t서해선\n",
      "4811\t달미             \t848\t서해선\n",
      "4812\t선부             \t849\t서해선\n",
      "4813\t초지             \t850\t서해선\n",
      "4814\t시우             \t701\t서해선\n",
      "----- Ending endIndex= 750\n"
     ]
    }
   ],
   "source": [
    "!python3 src/ds_open_subway_iter_json.py"
   ]
  },
  {
   "cell_type": "markdown",
   "metadata": {
    "collapsed": true,
    "slideshow": {
     "slide_type": "subslide"
    }
   },
   "source": [
    "### XML\n",
    "\n",
    "이번에는, 데이터를 XML 형식으로 받아 보자."
   ]
  },
  {
   "cell_type": "code",
   "execution_count": 106,
   "metadata": {},
   "outputs": [],
   "source": [
    "import lxml\n",
    "import lxml.etree\n",
    "import requests\n",
    "\n",
    "url='http://openAPI.seoul.go.kr:8088/73725974496a736c34395757705847/xml/SearchSTNBySubwayLineInfo/1/10///2'\n",
    "data=requests.get(url).text\n",
    "#tree=lxml.etree.parse(StringIO(data.encode('utf-8')))\n",
    "tree=lxml.etree.fromstring(data.encode('utf-8'))"
   ]
  },
  {
   "cell_type": "markdown",
   "metadata": {},
   "source": [
    "XPath를 이용한다. ```'//STATION_NM'```는 어느 계층에서나 일치하는 태그를 검색한다."
   ]
  },
  {
   "cell_type": "code",
   "execution_count": 107,
   "metadata": {},
   "outputs": [
    {
     "name": "stdout",
     "output_type": "stream",
     "text": [
      "동묘앞\n",
      "지축\n",
      "충무로\n",
      "매봉\n",
      "회기\n",
      "서울대입구\n",
      "아현\n",
      "구파발\n",
      "임진강\n",
      "봉천\n"
     ]
    }
   ],
   "source": [
    "for node in tree.xpath('//STATION_NM'):\n",
    "    print (node.text)"
   ]
  },
  {
   "cell_type": "markdown",
   "metadata": {},
   "source": [
    "데이터의 갯수를 확인해보자.\n",
    "리스트로 결과가 반환되기 때문에, 반복문으로 처리한다."
   ]
  },
  {
   "cell_type": "code",
   "execution_count": 108,
   "metadata": {},
   "outputs": [
    {
     "name": "stdout",
     "output_type": "stream",
     "text": [
      "total_count= 748 748\n"
     ]
    }
   ],
   "source": [
    "for node in tree.xpath('//list_total_count'):\n",
    "    list_total_count=int(node.text)\n",
    "    print (\"total_count=\",list_total_count, node.text)"
   ]
  },
  {
   "cell_type": "markdown",
   "metadata": {},
   "source": [
    "비교하려면 문자열이어서는 안된다. 정수로 형변환을 해주어야 한다."
   ]
  },
  {
   "cell_type": "code",
   "execution_count": 109,
   "metadata": {},
   "outputs": [
    {
     "data": {
      "text/plain": [
       "748"
      ]
     },
     "execution_count": 109,
     "metadata": {},
     "output_type": "execute_result"
    }
   ],
   "source": [
    "int(list_total_count)"
   ]
  },
  {
   "cell_type": "code",
   "execution_count": 110,
   "metadata": {
    "slideshow": {
     "slide_type": "subslide"
    }
   },
   "outputs": [
    {
     "name": "stdout",
     "output_type": "stream",
     "text": [
      "Overwriting src/ds_open_subway_xml.py\n"
     ]
    }
   ],
   "source": [
    "%%writefile src/ds_open_subway_xml.py\n",
    "#!/usr/bin/env python\n",
    "# coding: utf-8\n",
    "import os\n",
    "import requests\n",
    "import urllib\n",
    "import mylib # NO! src.mylib\n",
    "import lxml\n",
    "import lxml.etree\n",
    "from io import StringIO\n",
    "\n",
    "def doIt():\n",
    "    keyPath=os.path.join(os.getcwd(), 'src', 'key.properties')\n",
    "    key=mylib.getKey(keyPath)\n",
    "    # (1) make params with resource IDs\n",
    "    KEY=str(key['dataseoul'])\n",
    "    TYPE='xml'\n",
    "    #OLD: SERVICE='SearchSTNBySubwayLineService'\n",
    "    SERVICE='SearchSTNBySubwayLineInfo'\n",
    "    LINE_NUM=str(2)\n",
    "    START_INDEX=str(1)\n",
    "    END_INDEX=str(10)\n",
    "    startIndex=1\n",
    "    endIndex=10\n",
    "    list_total_count=0    # set later\n",
    "    while True:\n",
    "        START_INDEX=str(startIndex)\n",
    "        END_INDEX=str(endIndex)\n",
    "        #params=os.path.join(KEY,TYPE,SERVICE,START_INDEX,END_INDEX,LINE_NUM)\n",
    "        params=\"/\".join([KEY,TYPE,SERVICE,START_INDEX,END_INDEX,'','',LINE_NUM])\n",
    "        # (2) make a full url\n",
    "        _url='http://openAPI.seoul.go.kr:8088' #NOTE slash: do not use 'http://openAPI.seoul.go.kr:8088/'\n",
    "        #url=urllib.parse.urljoin(_url,params)\n",
    "        url=\"/\".join([_url,params])\n",
    "        #print(url)\n",
    "        # (3) get data\n",
    "        data=requests.get(url).text\n",
    "        #tree=lxml.etree.parse(StringIO(data.encode('utf-8')))\n",
    "        tree=lxml.etree.fromstring(data.encode('utf-8'))\n",
    "        if(startIndex==1):\n",
    "            for node in tree.xpath('//list_total_count'):\n",
    "                list_total_count=int(node.text)\n",
    "                print (\"- Total_count=\",list_total_count)\n",
    "        for node in tree.xpath('//STATION_NM'):\n",
    "            print (node.text, end=\", \")\n",
    "        startIndex+=10\n",
    "        endIndex+=10\n",
    "        if(endIndex > list_total_count):\n",
    "            print(\"----- Ending endIndex=\", endIndex)\n",
    "            break\n",
    "\n",
    "if __name__ == \"__main__\":\n",
    "    doIt()\n"
   ]
  },
  {
   "cell_type": "code",
   "execution_count": 111,
   "metadata": {},
   "outputs": [
    {
     "name": "stdout",
     "output_type": "stream",
     "text": [
      "Requirement already satisfied: lxml in c:\\users\\zaqxs\\appdata\\local\\packages\\pythonsoftwarefoundation.python.3.9_qbz5n2kfra8p0\\localcache\\local-packages\\python39\\site-packages (4.6.3)\n"
     ]
    },
    {
     "name": "stderr",
     "output_type": "stream",
     "text": [
      "WARNING: You are using pip version 21.2.3; however, version 21.2.4 is available.\n",
      "You should consider upgrading via the 'C:\\Users\\zaqxs\\AppData\\Local\\Microsoft\\WindowsApps\\PythonSoftwareFoundation.Python.3.9_qbz5n2kfra8p0\\python.exe -m pip install --upgrade pip' command.\n"
     ]
    }
   ],
   "source": [
    "!python3 -m pip install lxml"
   ]
  },
  {
   "cell_type": "code",
   "execution_count": 112,
   "metadata": {
    "slideshow": {
     "slide_type": "subslide"
    }
   },
   "outputs": [
    {
     "name": "stdout",
     "output_type": "stream",
     "text": [
      "- Total_count= 748\n",
      "동묘앞, 지축, 충무로, 매봉, 회기, 서울대입구, 아현, 구파발, 임진강, 봉천, 잠원, 대치, 신림, 용답, 당정, 종로5가, 신대방, 도림천, 홍제, 신당, 당산, 독립문, 동대입구, 학여울, 선릉, 합정, 양천구청, 경복궁, 도곡, 강일, 홍대입구, 신답, 연신내, 남부터미널, 구로디지털단지, 안국, 양재, 대청, 역삼, 고속터미널, 교대, 상왕십리, 대림, 신도림, 문래, 영등포구청, 신촌, 이대, 신정네거리, 용두, 불광, 녹번, 무악재, 종로3가, 을지로3가, 금호, 옥수, 압구정, 일원, 왕십리, 한양대, 뚝섬, 성수, 건대입구, 구의, 강변, 잠실나루, 잠실, 잠실새내, 종합운동장, 삼성, 강남, 교대, 서초, 방배, 사당, 낙성대, 동대문, 신설동, 제기동, 청량리, 까치산, 시청, 을지로입구, 을지로3가, 을지로4가, 동대문역사문화공원, 신설동, 대곡, 약수, 신사, 수서, 가락시장, 경찰병원, 오금, 당고개, 상계, 노원, 창동, 충정로, 쌍문, 수유, 미아, 미아사거리, 길음, 성신여대입구, 한성대입구, 혜화, 동대문, 동대문역사문화공원, 충무로, 명동, 회현, 서울역, 숙대입구, 신용산, 이촌, 동작, 총신대입구, 사당, 남태령, 남영, 용산, 노량진, 대방, 영등포, 신도림, 이촌, 용산, 한남, 옥수, 응봉, 왕십리, 회기, 외대앞, 삼각지, 서빙고, 신이문, 석계, 광운대, 월계, 녹천, 창동, 선릉, 한티, 도곡, 구룡, 개포동, 대모산입구, 왕십리, 수서, 복정, 신길, 중랑, 상봉, 망우, 양원, 구리, 도농, 양정, 덕소, 도심, 팔당, 운길산, 양수, 신원, 국수, 아신, 오빈, 양평, 용문, 지평, 서울역, 신촌, 청량리, 원덕, 효창공원앞, 공덕, 서강대, 홍대입구, 가좌, 디지털미디어시티, 화전, 강매, 행신, 능곡, 곡산, 백마, 풍산, 일산, 탄현, 야당, 운정, 금릉, 금촌, 월롱, 파주, 문산, 청량리, 중랑, 상봉, 망우, 신내, 별내, 퇴계원, 사릉, 금곡, 평내호평, 천마산, 마석, 대성리, 청평, 상천, 굴봉산, 백양리, 강촌, 김유정, 남춘천, 춘천, 봉명, 쌍용, 수색, 갈매, 가평, 아산, 배방, 온양온천, 신창, 선바위, 경마공원, 대공원, 과천, 정부과천청사, 인덕원, 평촌, 범계, 금정, 판교, 이매, 삼동, 경기광주, 초월, 곤지암, 신둔도예촌, 부발, 구로, 가산디지털단지, 금천구청, 석수, 관악, 안양, 명학, 금정, 군포, 의왕, 성균관대, 화서, 수원, 독산, 세류, 병점, 회기, 이천, 세마, 오산대, 오산, 송탄, 서정리, 평택지제, 평택, 성환, 직산, 두정, 천안, 서동탄, 광명, 산본, 대야미, 반월, 상록수, 한대앞, 중앙, 고잔, 초지, 안산, 신길온천, 정왕, 오이도, 수리산, 개봉, 오류동, 역곡, 부천, 송내, 부평, 백운, 동암, 주안, 제물포, 동인천, 인천, 진위, 오이도, 구일, 소사, 부개, 간석, 도원, 온수, 중동, 도화, 한대앞, 중앙, 초지, 안산, 신길온천, 정왕, 청량리, 수원, 서울숲, 압구정로데오, 강남구청, 선정릉, 가천대, 태평, 모란, 야탑, 서현, 수내, 정자, 미금, 오리, 이매, 보정, 구성, 기흥, 상갈, 영통, 망포, 매탄권선, 수원시청, 매교, 광운대, 고잔, 죽전, 신갈, 고색, 오목천, 어천, 야목, 달월, 월곶, 소래포구, 인천논현, 호구포, 남동인더스파크, 원인재, 연수, 송도, 인하대, 숭의, 신포, 인천, 방학, 도봉, 도봉산, 망월사, 회룡, 의정부, 가능, 녹양, 양주, 덕계, 덕정, 동두천중앙, 보산, 동두천, 원흥, 삼송, 원당, 화정, 세종대왕릉, 청명, 사리, 지행, 소요산, 대곡, 백석, 마두, 정발산, 주엽, 대화, 방화, 개화산, 김포공항, 마곡, 발산, 우장산, 화곡, 까치산, 신정, 목동, 오목교, 양평, 영등포구청, 영등포시장, 신길, 여의도, 여의나루, 마포, 공덕, 애오개, 충정로, 송정, 서대문, 광화문, 종로3가, 을지로4가, 동대문역사문화공원, 신금호, 행당, 왕십리, 마장, 답십리, 장한평, 군자, 아차산, 광나루, 천호, 강동, 길동, 굽은다리, 명일, 고덕, 상일동, 둔촌동, 올림픽공원, 방이, 오금, 개롱, 거여, 마천, 미사, 하남풍산, 하남시청, 응암, 역촌, 청구, 하남검단산, 불광, 독바위, 연신내, 구산, 새절, 증산, 디지털미디어시티, 월드컵경기장, 마포구청, 망원, 합정, 상수, 광흥창, 대흥, 공덕, 효창공원앞, 삼각지, 녹사평, 이태원, 한강진, 버티고개, 약수, 청구, 신당, 동묘앞, 창신, 보문, 안암, 고려대, 월곡, 상월곡, 돌곶이, 석계, 태릉입구, 화랑대, 봉화산, 신내, 장암, 도봉산, 수락산, 마들, 노원, 중계, 하계, 공릉, 태릉입구, 먹골, 중화, 상봉, 면목, 사가정, 용마산, 중곡, 군자, 어린이대공원, 뚝섬유원지, 청담, 강남구청, 논현, 반포, 고속터미널, 내방, 이수, 남성, 숭실대입구, 상도, 장승배기, 신대방삼거리, 학동, 신풍, 대림, 남구로, 가산디지털단지, 철산, 광명사거리, 천왕, 온수, 까치울, 부천종합운동장, 춘의, 신중동, 부천시청, 상동, 삼산체육관, 굴포천, 부평구청, 암사, 천호, 강동구청, 잠실, 석촌, 송파, 가락시장, 문정, 장지, 복정, 산성, 남한산성입구, 단대오거리, 신흥, 수진, 모란, 계양, 건대입구, 보라매, 몽촌토성, 귤현, 박촌, 임학, 계산, 경인교대입구, 작전, 갈산, 부평구청, 부평시장, 부평, 동수, 부평삼거리, 간석오거리, 인천시청, 예술회관, 인천터미널, 문학경기장, 신연수, 원인재, 동춘, 동막, 캠퍼스타운, 테크노파크, 지식정보단지, 인천대입구, 센트럴파크, 국제업무지구, 송도달빛축제공원, 검단오류, 왕길, 검단사거리, 마전, 완정, 선학, 독정, 검암, 검바위, 아시아드경기장, 서구청, 가정, 석남, 서부여성회관, 인천가좌, 가재울, 주안국가산단, 주안, 시민공원, 석바위시장, 인천시청, 석천사거리, 모래내시장, 만수, 남동구청, 인천대공원, 운연, 산곡, 석남, 개화, 김포공항, 공항시장, 신방화, 마곡나루, 양천향교, 가양, 증미, 등촌, 염창, 선유도, 당산, 국회의사당, 여의도, 샛강, 노량진, 흑석, 동작, 구반포, 노들, 신반포, 고속터미널, 사평, 신논현, 언주, 선정릉, 삼성중앙, 봉은사, 종합운동장, 삼전, 석촌고분, 석촌, 송파나루, 한성백제, 올림픽공원, 둔촌오륜, 중앙보훈병원, 서울역, 공덕, 마곡나루, 김포공항, 청라국제도시, 운서, 공항화물청사, 영종, 강남, 양재, 미금, 동천, 지석, 시청.용인대, 명지대, 의정부시청, 의정부중앙, 동오, 삼양사거리, 솔샘, 마산, 사우, 풍무, 여주, 신목동, 홍대입구, 디지털미디어시티, 계양, 검암, 인천공항1터미널, 인천공항2터미널, 양재시민의숲, 청계산입구, 판교, 정자, 김량장, 전대.에버랜드, 범골, 경전철의정부, 흥선, 새말, 화계, 삼양, 장기, 운양, 걸포북변, 가정중앙시장, 수지구청, 성복, 상현, 광교중앙, 광교, 기흥, 강남대, 어정, 동백, 초당, 삼가, 회룡, 경기도청북부청사, 효자, 곤제, 어룡, 송산, 탑석, 북한산우이, 솔밭공원, 4·19민주묘지, 가오리, 고촌, 김포공항, 서울역, 시청, 종각, 종로3가, 북한산보국문, 정릉, 성신여대입구, 보문, 신설동, 소사, 소새울, 시흥대야, 신천, 신현, 시흥시청, 시흥능곡, 달미, 선부, 초지, 시우, ----- Ending endIndex= 750\n"
     ]
    }
   ],
   "source": [
    "!python3 src/ds_open_subway_xml.py"
   ]
  },
  {
   "cell_type": "markdown",
   "metadata": {
    "slideshow": {
     "slide_type": "slide"
    }
   },
   "source": [
    "## 문제 3: 행정동별 서울생활인구 (단기체류 외국인)\n",
    "\n",
    "서울시 단기체류 외국인이 몇 명이나 되는지 알아보자.\n",
    "서울열린데이터광장을 찾아보면, 그러한 정보를 제공하는 API '**SPOP_FORN_TEMP_RESD_DONG**'가 존재한다.\n",
    "\n",
    "\n",
    "* '행정동별 서울생활인구(단기체류 외국인)' API 페이지\n",
    "\n",
    "![alt text](figures/dataSeoulGoKr_foreigner_SPOP_FORN_TEMP_RESD_DONG.png  \"short staying foreigners\")"
   ]
  },
  {
   "cell_type": "markdown",
   "metadata": {},
   "source": [
    "\n",
    "SPOP_FORN_TEMP_RESD_DONG API 호출에 필요한 인자를 정리하면 다음과 같다.\n",
    "\n",
    "변수명 | 타입 | 설명 \n",
    "-----|-----|-----\n",
    "KEY | String | 발급받은 인증키\n",
    "TYPE | String | xml, xmlf, xls, json 데이터 형식\n",
    "SERVICE | String | 서비스명\n",
    "START_INDEX | Integer | 페이징 시작번호\n",
    "END_INDEX | Integer | 페이징 끝번호\n",
    "STDR_DE_ID | String (선택) | 기준일\n",
    "TMZON_PD_SE | String (선택) | 시간대구분\n",
    "ADSTRD_CODE_SE | String (선택) | 행정동코드"
   ]
  },
  {
   "cell_type": "markdown",
   "metadata": {},
   "source": [
    "20200617년 기준으로 1~5개 데이터를 요청하는 샘플 API는 다음과 같다.\n",
    "\n",
    "http://openapi.seoul.go.kr:8088/(인증키)/xml/SPOP_FORN_TEMP_RESD_DONG/1/5/20200617"
   ]
  },
  {
   "cell_type": "markdown",
   "metadata": {},
   "source": [
    "### 인증키\n",
    "\n"
   ]
  },
  {
   "cell_type": "code",
   "execution_count": 113,
   "metadata": {},
   "outputs": [
    {
     "name": "stdout",
     "output_type": "stream",
     "text": [
      "74787768757a617135304878764e4c\n"
     ]
    }
   ],
   "source": [
    "import os\n",
    "import src.mylib\n",
    "keyPath=os.path.join(os.getcwd(), 'src', 'key.properties')\n",
    "key=src.mylib.getKey(keyPath)\n",
    "KEY=str(key['dataseoul'])\n",
    "print(KEY)"
   ]
  },
  {
   "cell_type": "markdown",
   "metadata": {},
   "source": [
    "### 요청인자\n",
    "\n",
    "서비스 'SPOP_FORN_TEMP_RESD_DONG'에 대하여 기준일 '20200617'의 단기체류 외국인 수를 구해보자."
   ]
  },
  {
   "cell_type": "code",
   "execution_count": 20,
   "metadata": {
    "slideshow": {
     "slide_type": "subslide"
    }
   },
   "outputs": [
    {
     "name": "stdout",
     "output_type": "stream",
     "text": [
      "/xml/SPOP_FORN_TEMP_RESD_DONG/1/5/20200617\n"
     ]
    }
   ],
   "source": [
    "TYPE='xml'\n",
    "SERVICE='SPOP_FORN_TEMP_RESD_DONG'\n",
    "START_INDEX=str(1)\n",
    "END_INDEX=str(5)\n",
    "STDR_DE_ID=str(20200617)\n",
    "\n",
    "#params=os.path.join(KEY,TYPE,SERVICE,START_INDEX,END_INDEX)\n",
    "params=\"/\".join([KEY,TYPE,SERVICE,START_INDEX,END_INDEX,STDR_DE_ID])\n",
    "\n",
    "print (params[30:])"
   ]
  },
  {
   "cell_type": "markdown",
   "metadata": {},
   "source": [
    "### url"
   ]
  },
  {
   "cell_type": "code",
   "execution_count": 115,
   "metadata": {},
   "outputs": [],
   "source": [
    "import urllib\n",
    "_url='http://openapi.seoul.go.kr:8088/'\n",
    "url=urllib.parse.urljoin(_url,params)"
   ]
  },
  {
   "cell_type": "code",
   "execution_count": 116,
   "metadata": {
    "scrolled": true,
    "slideshow": {
     "slide_type": "subslide"
    }
   },
   "outputs": [
    {
     "name": "stdout",
     "output_type": "stream",
     "text": [
      "http://openapi.seoul.go.kr:8088/74787768757a617135304878764e4c/xml/SPOP_FORN_TEMP_RESD_DONG/1/5/20200617\n"
     ]
    }
   ],
   "source": [
    "print(url) # http://openapi.seoul.go.kr:8088/(인증키)/xml/SPOP_FORN_TEMP_RESD_DONG/1/5/20200617"
   ]
  },
  {
   "cell_type": "markdown",
   "metadata": {},
   "source": [
    "### url 호출"
   ]
  },
  {
   "cell_type": "code",
   "execution_count": 117,
   "metadata": {},
   "outputs": [],
   "source": [
    "import requests\n",
    "\n",
    "data=requests.get(url).text"
   ]
  },
  {
   "cell_type": "code",
   "execution_count": 118,
   "metadata": {
    "slideshow": {
     "slide_type": "subslide"
    }
   },
   "outputs": [
    {
     "name": "stdout",
     "output_type": "stream",
     "text": [
      "<?xml version=\"1.0\" encoding=\"UTF-8\"?>\n",
      "<SPOP_FORN_TEMP_RESD_DONG>\n",
      "<list_total_count>9849</list_total_count>\n",
      "<RESULT>\n",
      "<CODE>INFO-000</CODE>\n",
      "<MESSAGE>정상 처리되었습니다</MESSAGE>\n",
      "</RESULT>\n",
      "<row>\n",
      "<STDR_DE_ID>20200617</STDR_DE_ID>\n",
      "<TMZON_PD_SE>00</TMZON_PD_SE>\n",
      "<ADSTRD_CODE_SE>11110515</ADSTRD_CODE_SE>\n",
      "<TOT_LVPOP_CO>248.866</TOT_LVPOP_CO>\n",
      "<CHINA_STAYPOP_CO>86.4335</CHINA_STAYPOP_CO>\n",
      "<ETC_STAYPOP_CO>162.432</ETC_STAYPOP_CO>\n",
      "</row>\n",
      "<row>\n",
      "<STDR_DE_ID>20200617</STDR_DE_ID>\n",
      "<TMZON_PD_SE>00</TMZON_PD_SE>\n",
      "<ADSTRD_CODE_SE>11110530</ADSTRD_CODE_SE>\n",
      "<TOT_LVPOP_CO>71.2628</TOT_LVPOP_CO>\n",
      "<CHINA_STAYPOP_CO>0</CHINA_STAYPOP_CO>\n",
      "<ETC_STAYPOP_CO>71.2627</ETC_STAYPOP_CO>\n",
      "</row>\n",
      "<row>\n",
      "<STDR_DE_ID>20200617</STDR_DE_ID>\n",
      "<TMZON_PD_SE>00</TMZON_PD_SE>\n",
      "<ADSTRD_CODE_SE>11110540</ADSTRD_CODE_SE>\n",
      "<TOT_LVPOP_CO>150.1777</TOT_LVPOP_CO>\n",
      "<CHINA_STAYPOP_CO>86.2246</CHINA_STAYPOP_CO>\n",
      "<ETC_STAYPOP_CO>63.9532</ETC_STAYPOP_CO>\n",
      "</row>\n",
      "<row>\n",
      "<STDR_DE_ID>20200617</STDR_DE_ID>\n",
      "<TMZON_PD_SE>00</TMZON_PD_SE>\n",
      "<ADSTRD_CODE_SE>11110550</ADSTRD_CODE_SE>\n",
      "<TOT_LVPOP_CO>136.7137</TOT_LVPOP_CO>\n",
      "<CHINA_STAYPOP_CO>79.3833</CHINA_STAYPOP_CO>\n",
      "<ETC_STAYPOP_CO>57.3305</ETC_STAYPOP_CO>\n",
      "</row>\n",
      "<row>\n",
      "<STDR_DE_ID>20200617</STDR_DE_ID>\n",
      "<TMZON_PD_SE>00</TMZON_PD_SE>\n",
      "<ADSTRD_CODE_SE>11110560</ADSTRD_CODE_SE>\n",
      "<TOT_LVPOP_CO>174.824</TOT_LVPOP_CO>\n",
      "<CHINA_STAYPOP_CO>0</CHINA_STAYPOP_CO>\n",
      "<ETC_STAYPOP_CO>174.8241</ETC_STAYPOP_CO>\n",
      "</row>\n",
      "</SPOP_FORN_TEMP_RESD_DONG>\n",
      "\n"
     ]
    }
   ],
   "source": [
    "print (data)"
   ]
  },
  {
   "cell_type": "markdown",
   "metadata": {},
   "source": [
    "### XML 파싱\n",
    "\n",
    "TOT_LVPOP_CO 항목을 조회해보자."
   ]
  },
  {
   "cell_type": "code",
   "execution_count": 119,
   "metadata": {
    "scrolled": true
   },
   "outputs": [
    {
     "name": "stdout",
     "output_type": "stream",
     "text": [
      "248.866\n",
      "71.2628\n",
      "150.1777\n",
      "136.7137\n",
      "174.824\n"
     ]
    }
   ],
   "source": [
    "import lxml\n",
    "import lxml.etree\n",
    "\n",
    "tree=lxml.etree.fromstring(data.encode('utf-8'))\n",
    "nodes=tree.xpath('//TOT_LVPOP_CO')\n",
    "for node in nodes:\n",
    "    print (node.text)"
   ]
  },
  {
   "cell_type": "markdown",
   "metadata": {},
   "source": [
    "### 일괄실행\n",
    "\n",
    "* XML 데이터를 처리하는 프로그램이다.\n",
    "* 앞 문제풀이 프로그램과 큰 차이가 없다. API에서 읽는 방식이 유사하다."
   ]
  },
  {
   "cell_type": "code",
   "execution_count": 120,
   "metadata": {},
   "outputs": [
    {
     "name": "stdout",
     "output_type": "stream",
     "text": [
      "Overwriting src/ds_open_foreigners_xml.py\n"
     ]
    }
   ],
   "source": [
    "%%writefile src/ds_open_foreigners_xml.py\n",
    "import os\n",
    "import urllib\n",
    "import requests\n",
    "import lxml\n",
    "import lxml.etree\n",
    "import mylib #from src import mylib\n",
    "\n",
    "def doIt():\n",
    "    keyPath=os.path.join(os.getcwd(), 'src', 'key.properties')\n",
    "    key=mylib.getKey(keyPath)\n",
    "    KEY=str(key['dataseoul'])\n",
    "    TYPE='xml'\n",
    "    SERVICE='SPOP_FORN_TEMP_RESD_DONG'\n",
    "    START_INDEX=str(1)\n",
    "    END_INDEX=str(10)\n",
    "    STDR_DE_ID=str(20200617)\n",
    "    #params=\"/\".join([KEY,TYPE,SERVICE,START_INDEX,END_INDEX,STDR_DE_ID])\n",
    "\n",
    "    #_url='http://openAPI.seoul.go.kr:8088/'\n",
    "    _url='http://openAPI.seoul.go.kr:8088' # NOTE: the slash at the end removed\n",
    "    #url=urllib.parse.urljoin(_url,params)\n",
    "    url=\"/\".join([_url,KEY,TYPE,SERVICE,START_INDEX,END_INDEX,STDR_DE_ID])\n",
    "    data=requests.get(url).text\n",
    "    #tree=lxml.etree.parse(StringIO.StringIO(data.encode('utf-8')))\n",
    "    tree=lxml.etree.fromstring(data.encode('utf-8'))\n",
    "    nodes=tree.xpath('//TOT_LVPOP_CO')\n",
    "    for node in nodes:\n",
    "        print (node.text)\n",
    "\n",
    "if __name__ == \"__main__\":\n",
    "    doIt()\n"
   ]
  },
  {
   "cell_type": "code",
   "execution_count": 121,
   "metadata": {
    "scrolled": true
   },
   "outputs": [
    {
     "name": "stdout",
     "output_type": "stream",
     "text": [
      "248.866\n",
      "71.2628\n",
      "150.1777\n",
      "136.7137\n",
      "174.824\n",
      "0.4833\n",
      "0.2163\n",
      "35.2093\n",
      "756.5433\n",
      "87.6117\n"
     ]
    }
   ],
   "source": [
    "!python3 src/ds_open_foreigners_xml.py"
   ]
  },
  {
   "cell_type": "markdown",
   "metadata": {},
   "source": [
    "## 문제 4: 서울시 지하철역별 월별 승하차인원 구하기\n",
    "\n",
    "'서울시 지하철호선별 역별 승하차 인원 정보'를 API를 통해 데이터를 수집해보자.\n",
    "서울열린데이터광장을 찾아보면, 'CardSubwayStatsNew'가 존재한다.\n",
    "\n",
    "![alt text](figures/dataSeoulGoKr_CardSubwayStatsNew.png  \"subway ride alight\")"
   ]
  },
  {
   "cell_type": "markdown",
   "metadata": {},
   "source": [
    "CardSubwayStatsNew API 호출에 필요한 인자를 정리하면 다음과 같다.\n",
    "\n",
    "변수명 | 타입 | 설명 \n",
    "-----|-----|-----\n",
    "KEY | String | 발급받은 인증키\n",
    "TYPE | String | xml, xmlf, xls, json 데이터 형식\n",
    "SERVICE | String | 서비스명\n",
    "START_INDEX | Integer | 페이징 시작번호\n",
    "END_INDEX | Integer | 페이징 끝번호\n",
    "USE_DT | String (선택) | 사용일자\tYYYYMMDD 형식의 문자열"
   ]
  },
  {
   "cell_type": "markdown",
   "metadata": {
    "collapsed": true
   },
   "source": [
    "* 샘플URL 2015년 11월 1일의 지하철역 승하차인원\n",
    "\n",
    "http://openapi.seoul.go.kr:8088/(인증키)/xml/CardSubwayStatsNew/1/5/20151101"
   ]
  },
  {
   "cell_type": "markdown",
   "metadata": {},
   "source": [
    "### 인증키"
   ]
  },
  {
   "cell_type": "code",
   "execution_count": 122,
   "metadata": {},
   "outputs": [
    {
     "name": "stdout",
     "output_type": "stream",
     "text": [
      "Overwriting src/key.properties\n"
     ]
    }
   ],
   "source": [
    "%%writefile src/key.properties\n",
    "dataseoul=434479664d7a6171313033444a504d46\n",
    "gokr=Xfnj9sV5zWaUKvuOLd%2BZOm%2FaMy53DYKfq%2F4M467F%2BWjfE6tm0%2BZr5HXACKGODbytWZcr7TK%2FAUZPhE8216R7jQ%3D%3D"
   ]
  },
  {
   "cell_type": "code",
   "execution_count": 123,
   "metadata": {},
   "outputs": [],
   "source": [
    "import os\n",
    "from src import mylib\n",
    "\n",
    "keyPath=os.path.join(os.getcwd(), 'src', 'key.properties')\n",
    "key=src.mylib.getKey(keyPath)"
   ]
  },
  {
   "cell_type": "markdown",
   "metadata": {},
   "source": [
    "### 요청인자"
   ]
  },
  {
   "cell_type": "code",
   "execution_count": 124,
   "metadata": {},
   "outputs": [],
   "source": [
    "_url='http://openAPI.seoul.go.kr:8088'\n",
    "_key=str(key['dataseoul'])\n",
    "_type='json'\n",
    "_service='CardSubwayStatsNew'\n",
    "_start_index=1\n",
    "_end_index=5\n",
    "_use_dt='20210801'"
   ]
  },
  {
   "cell_type": "markdown",
   "metadata": {},
   "source": [
    "### url"
   ]
  },
  {
   "cell_type": "code",
   "execution_count": 125,
   "metadata": {
    "slideshow": {
     "slide_type": "subslide"
    }
   },
   "outputs": [],
   "source": [
    "_api=os.path.join(_url,_key,_type,_service,str(_start_index),str(_end_index),_use_dt)"
   ]
  },
  {
   "cell_type": "markdown",
   "metadata": {},
   "source": [
    "### url 호출"
   ]
  },
  {
   "cell_type": "code",
   "execution_count": 126,
   "metadata": {
    "slideshow": {
     "slide_type": "subslide"
    }
   },
   "outputs": [],
   "source": [
    "import requests\n",
    "response = requests.get(_api)"
   ]
  },
  {
   "cell_type": "markdown",
   "metadata": {},
   "source": [
    "### json"
   ]
  },
  {
   "cell_type": "code",
   "execution_count": 127,
   "metadata": {},
   "outputs": [
    {
     "ename": "JSONDecodeError",
     "evalue": "Expecting value: line 1 column 1 (char 0)",
     "output_type": "error",
     "traceback": [
      "\u001b[1;31m---------------------------------------------------------------------------\u001b[0m",
      "\u001b[1;31mJSONDecodeError\u001b[0m                           Traceback (most recent call last)",
      "\u001b[1;32m<ipython-input-127-e03d66d123ac>\u001b[0m in \u001b[0;36m<module>\u001b[1;34m\u001b[0m\n\u001b[1;32m----> 1\u001b[1;33m \u001b[0msub\u001b[0m\u001b[1;33m=\u001b[0m\u001b[0mresponse\u001b[0m\u001b[1;33m.\u001b[0m\u001b[0mjson\u001b[0m\u001b[1;33m(\u001b[0m\u001b[1;33m)\u001b[0m\u001b[1;33m\u001b[0m\u001b[1;33m\u001b[0m\u001b[0m\n\u001b[0m",
      "\u001b[1;32m~\\Anaconda2\\envs\\py35\\lib\\site-packages\\requests\\models.py\u001b[0m in \u001b[0;36mjson\u001b[1;34m(self, **kwargs)\u001b[0m\n\u001b[0;32m    895\u001b[0m                     \u001b[1;31m# used.\u001b[0m\u001b[1;33m\u001b[0m\u001b[1;33m\u001b[0m\u001b[1;33m\u001b[0m\u001b[0m\n\u001b[0;32m    896\u001b[0m                     \u001b[1;32mpass\u001b[0m\u001b[1;33m\u001b[0m\u001b[1;33m\u001b[0m\u001b[0m\n\u001b[1;32m--> 897\u001b[1;33m         \u001b[1;32mreturn\u001b[0m \u001b[0mcomplexjson\u001b[0m\u001b[1;33m.\u001b[0m\u001b[0mloads\u001b[0m\u001b[1;33m(\u001b[0m\u001b[0mself\u001b[0m\u001b[1;33m.\u001b[0m\u001b[0mtext\u001b[0m\u001b[1;33m,\u001b[0m \u001b[1;33m**\u001b[0m\u001b[0mkwargs\u001b[0m\u001b[1;33m)\u001b[0m\u001b[1;33m\u001b[0m\u001b[1;33m\u001b[0m\u001b[0m\n\u001b[0m\u001b[0;32m    898\u001b[0m \u001b[1;33m\u001b[0m\u001b[0m\n\u001b[0;32m    899\u001b[0m     \u001b[1;33m@\u001b[0m\u001b[0mproperty\u001b[0m\u001b[1;33m\u001b[0m\u001b[1;33m\u001b[0m\u001b[0m\n",
      "\u001b[1;32m~\\Anaconda2\\envs\\py35\\lib\\json\\__init__.py\u001b[0m in \u001b[0;36mloads\u001b[1;34m(s, encoding, cls, object_hook, parse_float, parse_int, parse_constant, object_pairs_hook, **kw)\u001b[0m\n\u001b[0;32m    346\u001b[0m             \u001b[0mparse_int\u001b[0m \u001b[1;32mis\u001b[0m \u001b[1;32mNone\u001b[0m \u001b[1;32mand\u001b[0m \u001b[0mparse_float\u001b[0m \u001b[1;32mis\u001b[0m \u001b[1;32mNone\u001b[0m \u001b[1;32mand\u001b[0m\u001b[1;33m\u001b[0m\u001b[1;33m\u001b[0m\u001b[0m\n\u001b[0;32m    347\u001b[0m             parse_constant is None and object_pairs_hook is None and not kw):\n\u001b[1;32m--> 348\u001b[1;33m         \u001b[1;32mreturn\u001b[0m \u001b[0m_default_decoder\u001b[0m\u001b[1;33m.\u001b[0m\u001b[0mdecode\u001b[0m\u001b[1;33m(\u001b[0m\u001b[0ms\u001b[0m\u001b[1;33m)\u001b[0m\u001b[1;33m\u001b[0m\u001b[1;33m\u001b[0m\u001b[0m\n\u001b[0m\u001b[0;32m    349\u001b[0m     \u001b[1;32mif\u001b[0m \u001b[0mcls\u001b[0m \u001b[1;32mis\u001b[0m \u001b[1;32mNone\u001b[0m\u001b[1;33m:\u001b[0m\u001b[1;33m\u001b[0m\u001b[1;33m\u001b[0m\u001b[0m\n\u001b[0;32m    350\u001b[0m         \u001b[0mcls\u001b[0m \u001b[1;33m=\u001b[0m \u001b[0mJSONDecoder\u001b[0m\u001b[1;33m\u001b[0m\u001b[1;33m\u001b[0m\u001b[0m\n",
      "\u001b[1;32m~\\Anaconda2\\envs\\py35\\lib\\json\\decoder.py\u001b[0m in \u001b[0;36mdecode\u001b[1;34m(self, s, _w)\u001b[0m\n\u001b[0;32m    335\u001b[0m \u001b[1;33m\u001b[0m\u001b[0m\n\u001b[0;32m    336\u001b[0m         \"\"\"\n\u001b[1;32m--> 337\u001b[1;33m         \u001b[0mobj\u001b[0m\u001b[1;33m,\u001b[0m \u001b[0mend\u001b[0m \u001b[1;33m=\u001b[0m \u001b[0mself\u001b[0m\u001b[1;33m.\u001b[0m\u001b[0mraw_decode\u001b[0m\u001b[1;33m(\u001b[0m\u001b[0ms\u001b[0m\u001b[1;33m,\u001b[0m \u001b[0midx\u001b[0m\u001b[1;33m=\u001b[0m\u001b[0m_w\u001b[0m\u001b[1;33m(\u001b[0m\u001b[0ms\u001b[0m\u001b[1;33m,\u001b[0m \u001b[1;36m0\u001b[0m\u001b[1;33m)\u001b[0m\u001b[1;33m.\u001b[0m\u001b[0mend\u001b[0m\u001b[1;33m(\u001b[0m\u001b[1;33m)\u001b[0m\u001b[1;33m)\u001b[0m\u001b[1;33m\u001b[0m\u001b[1;33m\u001b[0m\u001b[0m\n\u001b[0m\u001b[0;32m    338\u001b[0m         \u001b[0mend\u001b[0m \u001b[1;33m=\u001b[0m \u001b[0m_w\u001b[0m\u001b[1;33m(\u001b[0m\u001b[0ms\u001b[0m\u001b[1;33m,\u001b[0m \u001b[0mend\u001b[0m\u001b[1;33m)\u001b[0m\u001b[1;33m.\u001b[0m\u001b[0mend\u001b[0m\u001b[1;33m(\u001b[0m\u001b[1;33m)\u001b[0m\u001b[1;33m\u001b[0m\u001b[1;33m\u001b[0m\u001b[0m\n\u001b[0;32m    339\u001b[0m         \u001b[1;32mif\u001b[0m \u001b[0mend\u001b[0m \u001b[1;33m!=\u001b[0m \u001b[0mlen\u001b[0m\u001b[1;33m(\u001b[0m\u001b[0ms\u001b[0m\u001b[1;33m)\u001b[0m\u001b[1;33m:\u001b[0m\u001b[1;33m\u001b[0m\u001b[1;33m\u001b[0m\u001b[0m\n",
      "\u001b[1;32m~\\Anaconda2\\envs\\py35\\lib\\json\\decoder.py\u001b[0m in \u001b[0;36mraw_decode\u001b[1;34m(self, s, idx)\u001b[0m\n\u001b[0;32m    353\u001b[0m             \u001b[0mobj\u001b[0m\u001b[1;33m,\u001b[0m \u001b[0mend\u001b[0m \u001b[1;33m=\u001b[0m \u001b[0mself\u001b[0m\u001b[1;33m.\u001b[0m\u001b[0mscan_once\u001b[0m\u001b[1;33m(\u001b[0m\u001b[0ms\u001b[0m\u001b[1;33m,\u001b[0m \u001b[0midx\u001b[0m\u001b[1;33m)\u001b[0m\u001b[1;33m\u001b[0m\u001b[1;33m\u001b[0m\u001b[0m\n\u001b[0;32m    354\u001b[0m         \u001b[1;32mexcept\u001b[0m \u001b[0mStopIteration\u001b[0m \u001b[1;32mas\u001b[0m \u001b[0merr\u001b[0m\u001b[1;33m:\u001b[0m\u001b[1;33m\u001b[0m\u001b[1;33m\u001b[0m\u001b[0m\n\u001b[1;32m--> 355\u001b[1;33m             \u001b[1;32mraise\u001b[0m \u001b[0mJSONDecodeError\u001b[0m\u001b[1;33m(\u001b[0m\u001b[1;34m\"Expecting value\"\u001b[0m\u001b[1;33m,\u001b[0m \u001b[0ms\u001b[0m\u001b[1;33m,\u001b[0m \u001b[0merr\u001b[0m\u001b[1;33m.\u001b[0m\u001b[0mvalue\u001b[0m\u001b[1;33m)\u001b[0m \u001b[1;32mfrom\u001b[0m \u001b[1;32mNone\u001b[0m\u001b[1;33m\u001b[0m\u001b[1;33m\u001b[0m\u001b[0m\n\u001b[0m\u001b[0;32m    356\u001b[0m         \u001b[1;32mreturn\u001b[0m \u001b[0mobj\u001b[0m\u001b[1;33m,\u001b[0m \u001b[0mend\u001b[0m\u001b[1;33m\u001b[0m\u001b[1;33m\u001b[0m\u001b[0m\n",
      "\u001b[1;31mJSONDecodeError\u001b[0m: Expecting value: line 1 column 1 (char 0)"
     ]
    }
   ],
   "source": [
    "sub=response.json()"
   ]
  },
  {
   "cell_type": "markdown",
   "metadata": {},
   "source": [
    "출력은 다음과 같다.\n",
    "\n",
    "순서 | 항목명 | 설명\n",
    "-----|-----|-----\n",
    "1 | USE_DT | 사용일자\n",
    "2 | LINE_NUM | 호선명\n",
    "4 | SUB_STA_NM | 역명\n",
    "5 | RIDE_PASGR_NUM | 승차총승객수\n",
    "6 | ALIGHT_PASGR_NUM | 하차총승객수\n",
    "7 | WORK_DT | 등록일자"
   ]
  },
  {
   "cell_type": "code",
   "execution_count": 128,
   "metadata": {
    "scrolled": true
   },
   "outputs": [
    {
     "ename": "NameError",
     "evalue": "name 'sub' is not defined",
     "output_type": "error",
     "traceback": [
      "\u001b[1;31m---------------------------------------------------------------------------\u001b[0m",
      "\u001b[1;31mNameError\u001b[0m                                 Traceback (most recent call last)",
      "\u001b[1;32m<ipython-input-128-9ded4f7042d6>\u001b[0m in \u001b[0;36m<module>\u001b[1;34m\u001b[0m\n\u001b[1;32m----> 1\u001b[1;33m \u001b[0mprint\u001b[0m\u001b[1;33m(\u001b[0m\u001b[0msub\u001b[0m\u001b[1;33m)\u001b[0m\u001b[1;33m\u001b[0m\u001b[1;33m\u001b[0m\u001b[0m\n\u001b[0m",
      "\u001b[1;31mNameError\u001b[0m: name 'sub' is not defined"
     ]
    }
   ],
   "source": [
    "print(sub)"
   ]
  },
  {
   "cell_type": "code",
   "execution_count": 129,
   "metadata": {},
   "outputs": [
    {
     "ename": "NameError",
     "evalue": "name 'sub' is not defined",
     "output_type": "error",
     "traceback": [
      "\u001b[1;31m---------------------------------------------------------------------------\u001b[0m",
      "\u001b[1;31mNameError\u001b[0m                                 Traceback (most recent call last)",
      "\u001b[1;32m<ipython-input-129-93f317ad8797>\u001b[0m in \u001b[0;36m<module>\u001b[1;34m\u001b[0m\n\u001b[1;32m----> 1\u001b[1;33m \u001b[0msub\u001b[0m\u001b[1;33m[\u001b[0m\u001b[1;34m'CardSubwayStatsNew'\u001b[0m\u001b[1;33m]\u001b[0m\u001b[1;33m[\u001b[0m\u001b[1;34m'row'\u001b[0m\u001b[1;33m]\u001b[0m\u001b[1;33m\u001b[0m\u001b[1;33m\u001b[0m\u001b[0m\n\u001b[0m",
      "\u001b[1;31mNameError\u001b[0m: name 'sub' is not defined"
     ]
    }
   ],
   "source": [
    "sub['CardSubwayStatsNew']['row']"
   ]
  },
  {
   "cell_type": "code",
   "execution_count": 130,
   "metadata": {},
   "outputs": [
    {
     "ename": "NameError",
     "evalue": "name 'sub' is not defined",
     "output_type": "error",
     "traceback": [
      "\u001b[1;31m---------------------------------------------------------------------------\u001b[0m",
      "\u001b[1;31mNameError\u001b[0m                                 Traceback (most recent call last)",
      "\u001b[1;32m<ipython-input-130-d28ce694b655>\u001b[0m in \u001b[0;36m<module>\u001b[1;34m\u001b[0m\n\u001b[1;32m----> 1\u001b[1;33m \u001b[1;32mfor\u001b[0m \u001b[0me\u001b[0m \u001b[1;32min\u001b[0m \u001b[0msub\u001b[0m\u001b[1;33m[\u001b[0m\u001b[1;34m'CardSubwayStatsNew'\u001b[0m\u001b[1;33m]\u001b[0m\u001b[1;33m[\u001b[0m\u001b[1;34m'row'\u001b[0m\u001b[1;33m]\u001b[0m\u001b[1;33m:\u001b[0m\u001b[1;33m\u001b[0m\u001b[1;33m\u001b[0m\u001b[0m\n\u001b[0m\u001b[0;32m      2\u001b[0m     \u001b[0mprint\u001b[0m \u001b[1;33m(\u001b[0m\u001b[1;34m\"{0:5s}\\t{1:10s}\\t{2:9.1f}\\t{3:9.1f}\"\u001b[0m\u001b[1;33m.\u001b[0m\u001b[0mformat\u001b[0m\u001b[1;33m(\u001b[0m\u001b[0me\u001b[0m\u001b[1;33m[\u001b[0m\u001b[1;34m'LINE_NUM'\u001b[0m\u001b[1;33m]\u001b[0m\u001b[1;33m,\u001b[0m\u001b[0me\u001b[0m\u001b[1;33m[\u001b[0m\u001b[1;34m'SUB_STA_NM'\u001b[0m\u001b[1;33m]\u001b[0m\u001b[1;33m,\u001b[0m\u001b[0me\u001b[0m\u001b[1;33m[\u001b[0m\u001b[1;34m'RIDE_PASGR_NUM'\u001b[0m\u001b[1;33m]\u001b[0m\u001b[1;33m,\u001b[0m\u001b[0me\u001b[0m\u001b[1;33m[\u001b[0m\u001b[1;34m'ALIGHT_PASGR_NUM'\u001b[0m\u001b[1;33m]\u001b[0m\u001b[1;33m)\u001b[0m\u001b[1;33m)\u001b[0m\u001b[1;33m\u001b[0m\u001b[1;33m\u001b[0m\u001b[0m\n",
      "\u001b[1;31mNameError\u001b[0m: name 'sub' is not defined"
     ]
    }
   ],
   "source": [
    "for e in sub['CardSubwayStatsNew']['row']:\n",
    "    print (\"{0:5s}\\t{1:10s}\\t{2:9.1f}\\t{3:9.1f}\".format(e['LINE_NUM'],e['SUB_STA_NM'],e['RIDE_PASGR_NUM'],e['ALIGHT_PASGR_NUM']))"
   ]
  },
  {
   "cell_type": "markdown",
   "metadata": {},
   "source": [
    "## 문제 5: 서울시 지하철 호선별 역별 시간대별 승하차 인원 정보\n",
    "\n",
    "'서울시 지하철 호선별 역별 시간대별 승하차 인원 정보'를 API를 통해 데이터를 수집해보자.\n",
    "서울열린데이터광장을 찾아보면, 'CardSubwayTime'가 존재한다.\n",
    "\n",
    "교통카드(선후불교통카드 및 1회용 교통카드)를 이용한 지하철 호선별 역별(1~9호선, 서울시 관할 운송기관에 한함) 시간대별 승하차인원을 나타내는 정보입니다.\n",
    "(데이터 적재는 매월 5일 전월 데이터를 갱신합니다.)\n",
    "\n",
    "\n",
    "![alt text](figures/dataSeoulGoKr_CardSubwayTime.png  \"subway by time\")"
   ]
  },
  {
   "cell_type": "markdown",
   "metadata": {
    "slideshow": {
     "slide_type": "slide"
    }
   },
   "source": [
    "CardSubwayTime API 호출에 필요한 인자를 정리하면 다음과 같다.\n",
    "\n",
    "변수명 | 타입 | 설명 \n",
    "-----|-----|-----\n",
    "KEY | String | 발급받은 인증키\n",
    "TYPE | String | xml, xmlf, xls, json 데이터 형식\n",
    "SERVICE | String | 서비스명\n",
    "START_INDEX | Integer | 페이징 시작번호\n",
    "END_INDEX | Integer | 페이징 끝번호\n",
    "USE_MON | String | 사용월\tYYYYMM형식의 문자열\n",
    "LINE_NUM | String(선택) |\t호선명 예) 1호선\n",
    "SUB_STA_NM | String(선택) | 지하철역명"
   ]
  },
  {
   "cell_type": "markdown",
   "metadata": {},
   "source": [
    "* 2015년 1월 지하철 호선별 역별 시간대별 승객 현황 조회\n",
    "http://openapi.seoul.go.kr:8088/(인증키)/xml/CardSubwayTime/1/5/201501/"
   ]
  },
  {
   "cell_type": "markdown",
   "metadata": {},
   "source": [
    "### 인증키"
   ]
  },
  {
   "cell_type": "code",
   "execution_count": 7,
   "metadata": {},
   "outputs": [
    {
     "name": "stdout",
     "output_type": "stream",
     "text": [
      "Overwriting src/key.properties\n"
     ]
    }
   ],
   "source": [
    "%%writefile src/key.properties\n",
    "dataseoul=74787768757a617135304878764e4c\n",
    "gokr=Xfnj9sV5zWaUKvuOLd%2BZOm%2FaMy53DYKfq%2F4M467F%2BWjfE6tm0%2BZr5HXACKGODbytWZcr7TK%2FAUZPhE8216R7jQ%3D%3D"
   ]
  },
  {
   "cell_type": "code",
   "execution_count": 8,
   "metadata": {},
   "outputs": [],
   "source": [
    "import os\n",
    "from src import mylib\n",
    "\n",
    "keyPath=os.path.join(os.getcwd(), 'src', 'key.properties')\n",
    "key=mylib.getKey(keyPath)"
   ]
  },
  {
   "cell_type": "markdown",
   "metadata": {},
   "source": [
    "### 요청인자"
   ]
  },
  {
   "cell_type": "code",
   "execution_count": 9,
   "metadata": {
    "slideshow": {
     "slide_type": "subslide"
    }
   },
   "outputs": [],
   "source": [
    "_url='http://openAPI.seoul.go.kr:8088'\n",
    "_key=str(key['dataseoul'])\n",
    "_type='xml'\n",
    "_service='CardSubwayTime'\n",
    "_start_index=1\n",
    "_end_index=5\n",
    "_use_mon='202106'"
   ]
  },
  {
   "cell_type": "markdown",
   "metadata": {},
   "source": [
    "### url 호출 반복\n",
    "\n",
    "아래 출력을 살펴보면, RESULT, row 태그가 포함되어 있다.\n",
    "\n",
    "* API호출에 대한 처리가 정상적인지 알 수 있다.\n",
    "\n",
    "메시지 | 메시지 설명\n",
    "------|-------\n",
    "INFO-000 | 정상 처리되었습니다.\n",
    "INFO-100 | 인증키가 유효하지 않습니다.\n",
    "INFO-200 | 해당하는 데이터가 없습니다.\n",
    "\n",
    "* row 태그 안에는 요청 정보가 포함되어 있다.\n",
    "\n",
    "여기서는 INDEX를 통해 1회에 5건씩, iter를 통해 1회 반복해서 총 5건의 데이터를 가져오고 있다.\n",
    "iter를 크게 또는 작게 해서 데이터 수집량을 조정할 수 있다.\n",
    "각 레코드는 시간대별 승하차인원을 포함하고 있다.\n",
    "\n",
    "```\n",
    "<row>\n",
    "<USE_MON>202106</USE_MON>\n",
    "<LINE_NUM>1호선</LINE_NUM>\n",
    "<SUB_STA_NM>서울역</SUB_STA_NM>\n",
    "<FOUR_RIDE_NUM>654</FOUR_RIDE_NUM>      04시-05시 승차인원\n",
    "<FOUR_ALIGHT_NUM>17</FOUR_ALIGHT_NUM>   04시-05시 하차인원\n",
    "<FIVE_RIDE_NUM>9008</FIVE_RIDE_NUM>     05시-06시 승차인원\n",
    "<FIVE_ALIGHT_NUM>6400</FIVE_ALIGHT_NUM> 05시-06시 승차인원\n",
    "...\n",
    "<TWO_RIDE_NUM>0</TWO_RIDE_NUM>          02시-03시 승차인원\n",
    "<TWO_ALIGHT_NUM>0</TWO_ALIGHT_NUM>      02시-03시 하차인원\n",
    "<THREE_RIDE_NUM>0</THREE_RIDE_NUM>      03시-04시 승차인원\n",
    "<THREE_ALIGHT_NUM>0</THREE_ALIGHT_NUM>  04시-05시 승차인원\n",
    "<WORK_DT>20210703</WORK_DT>\n",
    "</row>\n",
    "```"
   ]
  },
  {
   "cell_type": "code",
   "execution_count": 10,
   "metadata": {
    "scrolled": true,
    "slideshow": {
     "slide_type": "subslide"
    }
   },
   "outputs": [
    {
     "name": "stdout",
     "output_type": "stream",
     "text": [
      "<?xml version=\"1.0\" encoding=\"UTF-8\"?>\n",
      "<CardSubwayTime>\n",
      "<list_total_count>608</list_total_count>\n",
      "<RESULT>\n",
      "<CODE>INFO-000</CODE>\n",
      "<MESSAGE>정상 처리되었습니다</MESSAGE>\n",
      "</RESULT>\n",
      "<row>\n",
      "<USE_MON>202106</USE_MON>\n",
      "<LINE_NUM>1호선</LINE_NUM>\n",
      "<SUB_STA_NM>서울역</SUB_STA_NM>\n",
      "<FOUR_RIDE_NUM>654</FOUR_RIDE_NUM>\n",
      "<FOUR_ALIGHT_NUM>17</FOUR_ALIGHT_NUM>\n",
      "<FIVE_RIDE_NUM>9008</FIVE_RIDE_NUM>\n",
      "<FIVE_ALIGHT_NUM>6400</FIVE_ALIGHT_NUM>\n",
      "<SIX_RIDE_NUM>12474</SIX_RIDE_NUM>\n",
      "<SIX_ALIGHT_NUM>37203</SIX_ALIGHT_NUM>\n",
      "<SEVEN_RIDE_NUM>37253</SEVEN_RIDE_NUM>\n",
      "<SEVEN_ALIGHT_NUM>91875</SEVEN_ALIGHT_NUM>\n",
      "<EIGHT_RIDE_NUM>59876</EIGHT_RIDE_NUM>\n",
      "<EIGHT_ALIGHT_NUM>187805</EIGHT_ALIGHT_NUM>\n",
      "<NINE_RIDE_NUM>44619</NINE_RIDE_NUM>\n",
      "<NINE_ALIGHT_NUM>118679</NINE_ALIGHT_NUM>\n",
      "<TEN_RIDE_NUM>42611</TEN_RIDE_NUM>\n",
      "<TEN_ALIGHT_NUM>57710</TEN_ALIGHT_NUM>\n",
      "<ELEVEN_RIDE_NUM>49533</ELEVEN_RIDE_NUM>\n",
      "<ELEVEN_ALIGHT_NUM>50003</ELEVEN_ALIGHT_NUM>\n",
      "<TWELVE_RIDE_NUM>59357</TWELVE_RIDE_NUM>\n",
      "<TWELVE_ALIGHT_NUM>53317</TWELVE_ALIGHT_NUM>\n",
      "<THIRTEEN_RIDE_NUM>61171</THIRTEEN_RIDE_NUM>\n",
      "<THIRTEEN_ALIGHT_NUM>53687</THIRTEEN_ALIGHT_NUM>\n",
      "<FOURTEEN_RIDE_NUM>53310</FOURTEEN_RIDE_NUM>\n",
      "<FOURTEEN_ALIGHT_NUM>49094</FOURTEEN_ALIGHT_NUM>\n",
      "<FIFTEEN_RIDE_NUM>65767</FIFTEEN_RIDE_NUM>\n",
      "<FIFTEEN_ALIGHT_NUM>52788</FIFTEEN_ALIGHT_NUM>\n",
      "<SIXTEEN_RIDE_NUM>76249</SIXTEEN_RIDE_NUM>\n",
      "<SIXTEEN_ALIGHT_NUM>53969</SIXTEEN_ALIGHT_NUM>\n",
      "<SEVENTEEN_RIDE_NUM>122928</SEVENTEEN_RIDE_NUM>\n",
      "<SEVENTEEN_ALIGHT_NUM>64693</SEVENTEEN_ALIGHT_NUM>\n",
      "<EIGHTEEN_RIDE_NUM>184907</EIGHTEEN_RIDE_NUM>\n",
      "<EIGHTEEN_ALIGHT_NUM>73978</EIGHTEEN_ALIGHT_NUM>\n",
      "<NINETEEN_RIDE_NUM>87575</NINETEEN_RIDE_NUM>\n",
      "<NINETEEN_ALIGHT_NUM>46769</NINETEEN_ALIGHT_NUM>\n",
      "<TWENTY_RIDE_NUM>59961</TWENTY_RIDE_NUM>\n",
      "<TWENTY_ALIGHT_NUM>30743</TWENTY_ALIGHT_NUM>\n",
      "<TWENTY_ONE_RIDE_NUM>65078</TWENTY_ONE_RIDE_NUM>\n",
      "<TWENTY_ONE_ALIGHT_NUM>27435</TWENTY_ONE_ALIGHT_NUM>\n",
      "<TWENTY_TWO_RIDE_NUM>44921</TWENTY_TWO_RIDE_NUM>\n",
      "<TWENTY_TWO_ALIGHT_NUM>22829</TWENTY_TWO_ALIGHT_NUM>\n",
      "<TWENTY_THREE_RIDE_NUM>11581</TWENTY_THREE_RIDE_NUM>\n",
      "<TWENTY_THREE_ALIGHT_NUM>8024</TWENTY_THREE_ALIGHT_NUM>\n",
      "<MIDNIGHT_RIDE_NUM>30</MIDNIGHT_RIDE_NUM>\n",
      "<MIDNIGHT_ALIGHT_NUM>637</MIDNIGHT_ALIGHT_NUM>\n",
      "<ONE_RIDE_NUM>0</ONE_RIDE_NUM>\n",
      "<ONE_ALIGHT_NUM>1</ONE_ALIGHT_NUM>\n",
      "<TWO_RIDE_NUM>0</TWO_RIDE_NUM>\n",
      "<TWO_ALIGHT_NUM>0</TWO_ALIGHT_NUM>\n",
      "<THREE_RIDE_NUM>0</THREE_RIDE_NUM>\n",
      "<THREE_ALIGHT_NUM>0</THREE_ALIGHT_NUM>\n",
      "<WORK_DT>20210703</WORK_DT>\n",
      "</row>\n",
      "<row>\n",
      "<USE_MON>202106</USE_MON>\n",
      "<LINE_NUM>1호선</LINE_NUM>\n",
      "<SUB_STA_NM>동묘앞</SUB_STA_NM>\n",
      "<FOUR_RIDE_NUM>51</FOUR_RIDE_NUM>\n",
      "<FOUR_ALIGHT_NUM>1</FOUR_ALIGHT_NUM>\n",
      "<FIVE_RIDE_NUM>3218</FIVE_RIDE_NUM>\n",
      "<FIVE_ALIGHT_NUM>1100</FIVE_ALIGHT_NUM>\n",
      "<SIX_RIDE_NUM>3422</SIX_RIDE_NUM>\n",
      "<SIX_ALIGHT_NUM>4802</SIX_ALIGHT_NUM>\n",
      "<SEVEN_RIDE_NUM>5896</SEVEN_RIDE_NUM>\n",
      "<SEVEN_ALIGHT_NUM>9703</SEVEN_ALIGHT_NUM>\n",
      "<EIGHT_RIDE_NUM>9194</EIGHT_RIDE_NUM>\n",
      "<EIGHT_ALIGHT_NUM>24921</EIGHT_ALIGHT_NUM>\n",
      "<NINE_RIDE_NUM>8022</NINE_RIDE_NUM>\n",
      "<NINE_ALIGHT_NUM>17333</NINE_ALIGHT_NUM>\n",
      "<TEN_RIDE_NUM>9687</TEN_RIDE_NUM>\n",
      "<TEN_ALIGHT_NUM>19292</TEN_ALIGHT_NUM>\n",
      "<ELEVEN_RIDE_NUM>14091</ELEVEN_RIDE_NUM>\n",
      "<ELEVEN_ALIGHT_NUM>24305</ELEVEN_ALIGHT_NUM>\n",
      "<TWELVE_RIDE_NUM>20089</TWELVE_RIDE_NUM>\n",
      "<TWELVE_ALIGHT_NUM>26186</TWELVE_ALIGHT_NUM>\n",
      "<THIRTEEN_RIDE_NUM>24776</THIRTEEN_RIDE_NUM>\n",
      "<THIRTEEN_ALIGHT_NUM>28141</THIRTEEN_ALIGHT_NUM>\n",
      "<FOURTEEN_RIDE_NUM>27144</FOURTEEN_RIDE_NUM>\n",
      "<FOURTEEN_ALIGHT_NUM>26643</FOURTEEN_ALIGHT_NUM>\n",
      "<FIFTEEN_RIDE_NUM>28360</FIFTEEN_RIDE_NUM>\n",
      "<FIFTEEN_ALIGHT_NUM>23213</FIFTEEN_ALIGHT_NUM>\n",
      "<SIXTEEN_RIDE_NUM>31119</SIXTEEN_RIDE_NUM>\n",
      "<SIXTEEN_ALIGHT_NUM>17744</SIXTEEN_ALIGHT_NUM>\n",
      "<SEVENTEEN_RIDE_NUM>27036</SEVENTEEN_RIDE_NUM>\n",
      "<SEVENTEEN_ALIGHT_NUM>13759</SEVENTEEN_ALIGHT_NUM>\n",
      "<EIGHTEEN_RIDE_NUM>23606</EIGHTEEN_RIDE_NUM>\n",
      "<EIGHTEEN_ALIGHT_NUM>10098</EIGHTEEN_ALIGHT_NUM>\n",
      "<NINETEEN_RIDE_NUM>11006</NINETEEN_RIDE_NUM>\n",
      "<NINETEEN_ALIGHT_NUM>6510</NINETEEN_ALIGHT_NUM>\n",
      "<TWENTY_RIDE_NUM>6119</TWENTY_RIDE_NUM>\n",
      "<TWENTY_ALIGHT_NUM>4409</TWENTY_ALIGHT_NUM>\n",
      "<TWENTY_ONE_RIDE_NUM>5485</TWENTY_ONE_RIDE_NUM>\n",
      "<TWENTY_ONE_ALIGHT_NUM>4265</TWENTY_ONE_ALIGHT_NUM>\n",
      "<TWENTY_TWO_RIDE_NUM>3405</TWENTY_TWO_RIDE_NUM>\n",
      "<TWENTY_TWO_ALIGHT_NUM>5689</TWENTY_TWO_ALIGHT_NUM>\n",
      "<TWENTY_THREE_RIDE_NUM>1035</TWENTY_THREE_RIDE_NUM>\n",
      "<TWENTY_THREE_ALIGHT_NUM>2589</TWENTY_THREE_ALIGHT_NUM>\n",
      "<MIDNIGHT_RIDE_NUM>4</MIDNIGHT_RIDE_NUM>\n",
      "<MIDNIGHT_ALIGHT_NUM>1348</MIDNIGHT_ALIGHT_NUM>\n",
      "<ONE_RIDE_NUM>0</ONE_RIDE_NUM>\n",
      "<ONE_ALIGHT_NUM>0</ONE_ALIGHT_NUM>\n",
      "<TWO_RIDE_NUM>0</TWO_RIDE_NUM>\n",
      "<TWO_ALIGHT_NUM>0</TWO_ALIGHT_NUM>\n",
      "<THREE_RIDE_NUM>0</THREE_RIDE_NUM>\n",
      "<THREE_ALIGHT_NUM>0</THREE_ALIGHT_NUM>\n",
      "<WORK_DT>20210703</WORK_DT>\n",
      "</row>\n",
      "<row>\n",
      "<USE_MON>202106</USE_MON>\n",
      "<LINE_NUM>1호선</LINE_NUM>\n",
      "<SUB_STA_NM>시청</SUB_STA_NM>\n",
      "<FOUR_RIDE_NUM>37</FOUR_RIDE_NUM>\n",
      "<FOUR_ALIGHT_NUM>0</FOUR_ALIGHT_NUM>\n",
      "<FIVE_RIDE_NUM>1881</FIVE_RIDE_NUM>\n",
      "<FIVE_ALIGHT_NUM>4340</FIVE_ALIGHT_NUM>\n",
      "<SIX_RIDE_NUM>2948</SIX_RIDE_NUM>\n",
      "<SIX_ALIGHT_NUM>21443</SIX_ALIGHT_NUM>\n",
      "<SEVEN_RIDE_NUM>6280</SEVEN_RIDE_NUM>\n",
      "<SEVEN_ALIGHT_NUM>62346</SEVEN_ALIGHT_NUM>\n",
      "<EIGHT_RIDE_NUM>7740</EIGHT_RIDE_NUM>\n",
      "<EIGHT_ALIGHT_NUM>167991</EIGHT_ALIGHT_NUM>\n",
      "<NINE_RIDE_NUM>8117</NINE_RIDE_NUM>\n",
      "<NINE_ALIGHT_NUM>72853</NINE_ALIGHT_NUM>\n",
      "<TEN_RIDE_NUM>9284</TEN_RIDE_NUM>\n",
      "<TEN_ALIGHT_NUM>29250</TEN_ALIGHT_NUM>\n",
      "<ELEVEN_RIDE_NUM>14030</ELEVEN_RIDE_NUM>\n",
      "<ELEVEN_ALIGHT_NUM>27989</ELEVEN_ALIGHT_NUM>\n",
      "<TWELVE_RIDE_NUM>15295</TWELVE_RIDE_NUM>\n",
      "<TWELVE_ALIGHT_NUM>25037</TWELVE_ALIGHT_NUM>\n",
      "<THIRTEEN_RIDE_NUM>18849</THIRTEEN_RIDE_NUM>\n",
      "<THIRTEEN_ALIGHT_NUM>24492</THIRTEEN_ALIGHT_NUM>\n",
      "<FOURTEEN_RIDE_NUM>23331</FOURTEEN_RIDE_NUM>\n",
      "<FOURTEEN_ALIGHT_NUM>20032</FOURTEEN_ALIGHT_NUM>\n",
      "<FIFTEEN_RIDE_NUM>30469</FIFTEEN_RIDE_NUM>\n",
      "<FIFTEEN_ALIGHT_NUM>17869</FIFTEEN_ALIGHT_NUM>\n",
      "<SIXTEEN_RIDE_NUM>36116</SIXTEEN_RIDE_NUM>\n",
      "<SIXTEEN_ALIGHT_NUM>15593</SIXTEEN_ALIGHT_NUM>\n",
      "<SEVENTEEN_RIDE_NUM>66595</SEVENTEEN_RIDE_NUM>\n",
      "<SEVENTEEN_ALIGHT_NUM>16611</SEVENTEEN_ALIGHT_NUM>\n",
      "<EIGHTEEN_RIDE_NUM>135842</EIGHTEEN_RIDE_NUM>\n",
      "<EIGHTEEN_ALIGHT_NUM>17805</EIGHTEEN_ALIGHT_NUM>\n",
      "<NINETEEN_RIDE_NUM>46850</NINETEEN_RIDE_NUM>\n",
      "<NINETEEN_ALIGHT_NUM>8139</NINETEEN_ALIGHT_NUM>\n",
      "<TWENTY_RIDE_NUM>38173</TWENTY_RIDE_NUM>\n",
      "<TWENTY_ALIGHT_NUM>4455</TWENTY_ALIGHT_NUM>\n",
      "<TWENTY_ONE_RIDE_NUM>39048</TWENTY_ONE_RIDE_NUM>\n",
      "<TWENTY_ONE_ALIGHT_NUM>4234</TWENTY_ONE_ALIGHT_NUM>\n",
      "<TWENTY_TWO_RIDE_NUM>28501</TWENTY_TWO_RIDE_NUM>\n",
      "<TWENTY_TWO_ALIGHT_NUM>3686</TWENTY_TWO_ALIGHT_NUM>\n",
      "<TWENTY_THREE_RIDE_NUM>4390</TWENTY_THREE_RIDE_NUM>\n",
      "<TWENTY_THREE_ALIGHT_NUM>1485</TWENTY_THREE_ALIGHT_NUM>\n",
      "<MIDNIGHT_RIDE_NUM>3</MIDNIGHT_RIDE_NUM>\n",
      "<MIDNIGHT_ALIGHT_NUM>92</MIDNIGHT_ALIGHT_NUM>\n",
      "<ONE_RIDE_NUM>0</ONE_RIDE_NUM>\n",
      "<ONE_ALIGHT_NUM>0</ONE_ALIGHT_NUM>\n",
      "<TWO_RIDE_NUM>0</TWO_RIDE_NUM>\n",
      "<TWO_ALIGHT_NUM>0</TWO_ALIGHT_NUM>\n",
      "<THREE_RIDE_NUM>0</THREE_RIDE_NUM>\n",
      "<THREE_ALIGHT_NUM>0</THREE_ALIGHT_NUM>\n",
      "<WORK_DT>20210703</WORK_DT>\n",
      "</row>\n",
      "<row>\n",
      "<USE_MON>202106</USE_MON>\n",
      "<LINE_NUM>1호선</LINE_NUM>\n",
      "<SUB_STA_NM>종각</SUB_STA_NM>\n",
      "<FOUR_RIDE_NUM>127</FOUR_RIDE_NUM>\n",
      "<FOUR_ALIGHT_NUM>1</FOUR_ALIGHT_NUM>\n",
      "<FIVE_RIDE_NUM>2314</FIVE_RIDE_NUM>\n",
      "<FIVE_ALIGHT_NUM>4354</FIVE_ALIGHT_NUM>\n",
      "<SIX_RIDE_NUM>2868</SIX_RIDE_NUM>\n",
      "<SIX_ALIGHT_NUM>23755</SIX_ALIGHT_NUM>\n",
      "<SEVEN_RIDE_NUM>5479</SEVEN_RIDE_NUM>\n",
      "<SEVEN_ALIGHT_NUM>96712</SEVEN_ALIGHT_NUM>\n",
      "<EIGHT_RIDE_NUM>8419</EIGHT_RIDE_NUM>\n",
      "<EIGHT_ALIGHT_NUM>223459</EIGHT_ALIGHT_NUM>\n",
      "<NINE_RIDE_NUM>10625</NINE_RIDE_NUM>\n",
      "<NINE_ALIGHT_NUM>131420</NINE_ALIGHT_NUM>\n",
      "<TEN_RIDE_NUM>14727</TEN_RIDE_NUM>\n",
      "<TEN_ALIGHT_NUM>50878</TEN_ALIGHT_NUM>\n",
      "<ELEVEN_RIDE_NUM>23057</ELEVEN_RIDE_NUM>\n",
      "<ELEVEN_ALIGHT_NUM>44506</ELEVEN_ALIGHT_NUM>\n",
      "<TWELVE_RIDE_NUM>27707</TWELVE_RIDE_NUM>\n",
      "<TWELVE_ALIGHT_NUM>39830</TWELVE_ALIGHT_NUM>\n",
      "<THIRTEEN_RIDE_NUM>34538</THIRTEEN_RIDE_NUM>\n",
      "<THIRTEEN_ALIGHT_NUM>40864</THIRTEEN_ALIGHT_NUM>\n",
      "<FOURTEEN_RIDE_NUM>40378</FOURTEEN_RIDE_NUM>\n",
      "<FOURTEEN_ALIGHT_NUM>33173</FOURTEEN_ALIGHT_NUM>\n",
      "<FIFTEEN_RIDE_NUM>49745</FIFTEEN_RIDE_NUM>\n",
      "<FIFTEEN_ALIGHT_NUM>29610</FIFTEEN_ALIGHT_NUM>\n",
      "<SIXTEEN_RIDE_NUM>58664</SIXTEEN_RIDE_NUM>\n",
      "<SIXTEEN_ALIGHT_NUM>29692</SIXTEEN_ALIGHT_NUM>\n",
      "<SEVENTEEN_RIDE_NUM>114985</SEVENTEEN_RIDE_NUM>\n",
      "<SEVENTEEN_ALIGHT_NUM>33365</SEVENTEEN_ALIGHT_NUM>\n",
      "<EIGHTEEN_RIDE_NUM>192552</EIGHTEEN_RIDE_NUM>\n",
      "<EIGHTEEN_ALIGHT_NUM>39621</EIGHTEEN_ALIGHT_NUM>\n",
      "<NINETEEN_RIDE_NUM>78735</NINETEEN_RIDE_NUM>\n",
      "<NINETEEN_ALIGHT_NUM>19163</NINETEEN_ALIGHT_NUM>\n",
      "<TWENTY_RIDE_NUM>64989</TWENTY_RIDE_NUM>\n",
      "<TWENTY_ALIGHT_NUM>7386</TWENTY_ALIGHT_NUM>\n",
      "<TWENTY_ONE_RIDE_NUM>81179</TWENTY_ONE_RIDE_NUM>\n",
      "<TWENTY_ONE_ALIGHT_NUM>4790</TWENTY_ONE_ALIGHT_NUM>\n",
      "<TWENTY_TWO_RIDE_NUM>63653</TWENTY_TWO_RIDE_NUM>\n",
      "<TWENTY_TWO_ALIGHT_NUM>3763</TWENTY_TWO_ALIGHT_NUM>\n",
      "<TWENTY_THREE_RIDE_NUM>8153</TWENTY_THREE_RIDE_NUM>\n",
      "<TWENTY_THREE_ALIGHT_NUM>1675</TWENTY_THREE_ALIGHT_NUM>\n",
      "<MIDNIGHT_RIDE_NUM>21</MIDNIGHT_RIDE_NUM>\n",
      "<MIDNIGHT_ALIGHT_NUM>135</MIDNIGHT_ALIGHT_NUM>\n",
      "<ONE_RIDE_NUM>0</ONE_RIDE_NUM>\n",
      "<ONE_ALIGHT_NUM>0</ONE_ALIGHT_NUM>\n",
      "<TWO_RIDE_NUM>0</TWO_RIDE_NUM>\n",
      "<TWO_ALIGHT_NUM>0</TWO_ALIGHT_NUM>\n",
      "<THREE_RIDE_NUM>0</THREE_RIDE_NUM>\n",
      "<THREE_ALIGHT_NUM>0</THREE_ALIGHT_NUM>\n",
      "<WORK_DT>20210703</WORK_DT>\n",
      "</row>\n",
      "<row>\n",
      "<USE_MON>202106</USE_MON>\n",
      "<LINE_NUM>1호선</LINE_NUM>\n",
      "<SUB_STA_NM>종로3가</SUB_STA_NM>\n",
      "<FOUR_RIDE_NUM>191</FOUR_RIDE_NUM>\n",
      "<FOUR_ALIGHT_NUM>24</FOUR_ALIGHT_NUM>\n",
      "<FIVE_RIDE_NUM>3227</FIVE_RIDE_NUM>\n",
      "<FIVE_ALIGHT_NUM>3388</FIVE_ALIGHT_NUM>\n",
      "<SIX_RIDE_NUM>3069</SIX_RIDE_NUM>\n",
      "<SIX_ALIGHT_NUM>13080</SIX_ALIGHT_NUM>\n",
      "<SEVEN_RIDE_NUM>5108</SEVEN_RIDE_NUM>\n",
      "<SEVEN_ALIGHT_NUM>25462</SEVEN_ALIGHT_NUM>\n",
      "<EIGHT_RIDE_NUM>7412</EIGHT_RIDE_NUM>\n",
      "<EIGHT_ALIGHT_NUM>70639</EIGHT_ALIGHT_NUM>\n",
      "<NINE_RIDE_NUM>11673</NINE_RIDE_NUM>\n",
      "<NINE_ALIGHT_NUM>73336</NINE_ALIGHT_NUM>\n",
      "<TEN_RIDE_NUM>18502</TEN_RIDE_NUM>\n",
      "<TEN_ALIGHT_NUM>57312</TEN_ALIGHT_NUM>\n",
      "<ELEVEN_RIDE_NUM>29882</ELEVEN_RIDE_NUM>\n",
      "<ELEVEN_ALIGHT_NUM>55725</ELEVEN_ALIGHT_NUM>\n",
      "<TWELVE_RIDE_NUM>37009</TWELVE_RIDE_NUM>\n",
      "<TWELVE_ALIGHT_NUM>53678</TWELVE_ALIGHT_NUM>\n",
      "<THIRTEEN_RIDE_NUM>44050</THIRTEEN_RIDE_NUM>\n",
      "<THIRTEEN_ALIGHT_NUM>51189</THIRTEEN_ALIGHT_NUM>\n",
      "<FOURTEEN_RIDE_NUM>47626</FOURTEEN_RIDE_NUM>\n",
      "<FOURTEEN_ALIGHT_NUM>46621</FOURTEEN_ALIGHT_NUM>\n",
      "<FIFTEEN_RIDE_NUM>53071</FIFTEEN_RIDE_NUM>\n",
      "<FIFTEEN_ALIGHT_NUM>40250</FIFTEEN_ALIGHT_NUM>\n",
      "<SIXTEEN_RIDE_NUM>56955</SIXTEEN_RIDE_NUM>\n",
      "<SIXTEEN_ALIGHT_NUM>34679</SIXTEEN_ALIGHT_NUM>\n",
      "<SEVENTEEN_RIDE_NUM>68711</SEVENTEEN_RIDE_NUM>\n",
      "<SEVENTEEN_ALIGHT_NUM>31234</SEVENTEEN_ALIGHT_NUM>\n",
      "<EIGHTEEN_RIDE_NUM>94683</EIGHTEEN_RIDE_NUM>\n",
      "<EIGHTEEN_ALIGHT_NUM>33315</EIGHTEEN_ALIGHT_NUM>\n",
      "<NINETEEN_RIDE_NUM>55993</NINETEEN_RIDE_NUM>\n",
      "<NINETEEN_ALIGHT_NUM>16571</NINETEEN_ALIGHT_NUM>\n",
      "<TWENTY_RIDE_NUM>41534</TWENTY_RIDE_NUM>\n",
      "<TWENTY_ALIGHT_NUM>6332</TWENTY_ALIGHT_NUM>\n",
      "<TWENTY_ONE_RIDE_NUM>51588</TWENTY_ONE_RIDE_NUM>\n",
      "<TWENTY_ONE_ALIGHT_NUM>4938</TWENTY_ONE_ALIGHT_NUM>\n",
      "<TWENTY_TWO_RIDE_NUM>47756</TWENTY_TWO_RIDE_NUM>\n",
      "<TWENTY_TWO_ALIGHT_NUM>4591</TWENTY_TWO_ALIGHT_NUM>\n",
      "<TWENTY_THREE_RIDE_NUM>6768</TWENTY_THREE_RIDE_NUM>\n",
      "<TWENTY_THREE_ALIGHT_NUM>2318</TWENTY_THREE_ALIGHT_NUM>\n",
      "<MIDNIGHT_RIDE_NUM>25</MIDNIGHT_RIDE_NUM>\n",
      "<MIDNIGHT_ALIGHT_NUM>413</MIDNIGHT_ALIGHT_NUM>\n",
      "<ONE_RIDE_NUM>0</ONE_RIDE_NUM>\n",
      "<ONE_ALIGHT_NUM>0</ONE_ALIGHT_NUM>\n",
      "<TWO_RIDE_NUM>0</TWO_RIDE_NUM>\n",
      "<TWO_ALIGHT_NUM>0</TWO_ALIGHT_NUM>\n",
      "<THREE_RIDE_NUM>0</THREE_RIDE_NUM>\n",
      "<THREE_ALIGHT_NUM>0</THREE_ALIGHT_NUM>\n",
      "<WORK_DT>20210703</WORK_DT>\n",
      "</row>\n",
      "</CardSubwayTime>\n",
      "\n"
     ]
    }
   ],
   "source": [
    "import requests\n",
    "\n",
    "_maxIter=1\n",
    "_iter=0\n",
    "while _iter<_maxIter:\n",
    "    _api=\"/\".join([_url,_key,_type,_service,str(_start_index),str(_end_index),_use_mon])\n",
    "    #print _api\n",
    "    response = requests.get(_api).text\n",
    "    print(response)\n",
    "    _start_index+=5\n",
    "    _end_index+=5\n",
    "    _iter+=1"
   ]
  },
  {
   "cell_type": "markdown",
   "metadata": {
    "slideshow": {
     "slide_type": "subslide"
    }
   },
   "source": [
    "### 위 예제의 json 반환\n",
    "\n",
    "이번에는 json으로 반환해보자."
   ]
  },
  {
   "cell_type": "code",
   "execution_count": 11,
   "metadata": {},
   "outputs": [],
   "source": [
    "_type='json'"
   ]
  },
  {
   "cell_type": "code",
   "execution_count": 12,
   "metadata": {},
   "outputs": [],
   "source": [
    "_api=\"/\".join([_url,_key,_type,_service,str(_start_index),str(_end_index),_use_mon])"
   ]
  },
  {
   "cell_type": "code",
   "execution_count": 13,
   "metadata": {
    "slideshow": {
     "slide_type": "subslide"
    }
   },
   "outputs": [
    {
     "name": "stdout",
     "output_type": "stream",
     "text": [
      "{\"CardSubwayTime\":{\"list_total_count\":608,\"RESULT\":{\"CODE\":\"INFO-000\",\"MESSAGE\":\"정상 처리되었습니다\"},\"row\":[{\"USE_MON\":\"202106\",\"LINE_NUM\":\"1호선\",\"SUB_STA_NM\":\"종로5가\",\"FOUR_RIDE_NUM\":71.0,\"FOUR_ALIGHT_NUM\":0.0,\"FIVE_RIDE_NUM\":1526.0,\"FIVE_ALIGHT_NUM\":3779.0,\"SIX_RIDE_NUM\":2574.0,\"SIX_ALIGHT_NUM\":16992.0,\"SEVEN_RIDE_NUM\":4781.0,\"SEVEN_ALIGHT_NUM\":39423.0,\"EIGHT_RIDE_NUM\":7414.0,\"EIGHT_ALIGHT_NUM\":103060.0,\"NINE_RIDE_NUM\":11525.0,\"NINE_ALIGHT_NUM\":62717.0,\"TEN_RIDE_NUM\":18431.0,\"TEN_ALIGHT_NUM\":50987.0,\"ELEVEN_RIDE_NUM\":27735.0,\"ELEVEN_ALIGHT_NUM\":48857.0,\"TWELVE_RIDE_NUM\":34387.0,\"TWELVE_ALIGHT_NUM\":47295.0,\"THIRTEEN_RIDE_NUM\":40094.0,\"THIRTEEN_ALIGHT_NUM\":42416.0,\"FOURTEEN_RIDE_NUM\":46633.0,\"FOURTEEN_ALIGHT_NUM\":39899.0,\"FIFTEEN_RIDE_NUM\":50981.0,\"FIFTEEN_ALIGHT_NUM\":35861.0,\"SIXTEEN_RIDE_NUM\":55982.0,\"SIXTEEN_ALIGHT_NUM\":29188.0,\"SEVENTEEN_RIDE_NUM\":71386.0,\"SEVENTEEN_ALIGHT_NUM\":26232.0,\"EIGHTEEN_RIDE_NUM\":96880.0,\"EIGHTEEN_ALIGHT_NUM\":22727.0,\"NINETEEN_RIDE_NUM\":45846.0,\"NINETEEN_ALIGHT_NUM\":12621.0,\"TWENTY_RIDE_NUM\":29493.0,\"TWENTY_ALIGHT_NUM\":5474.0,\"TWENTY_ONE_RIDE_NUM\":29266.0,\"TWENTY_ONE_ALIGHT_NUM\":4184.0,\"TWENTY_TWO_RIDE_NUM\":20319.0,\"TWENTY_TWO_ALIGHT_NUM\":3607.0,\"TWENTY_THREE_RIDE_NUM\":2740.0,\"TWENTY_THREE_ALIGHT_NUM\":1681.0,\"MIDNIGHT_RIDE_NUM\":4.0,\"MIDNIGHT_ALIGHT_NUM\":268.0,\"ONE_RIDE_NUM\":1.0,\"ONE_ALIGHT_NUM\":1.0,\"TWO_RIDE_NUM\":0.0,\"TWO_ALIGHT_NUM\":0.0,\"THREE_RIDE_NUM\":0.0,\"THREE_ALIGHT_NUM\":0.0,\"WORK_DT\":\"20210703\"},{\"USE_MON\":\"202106\",\"LINE_NUM\":\"1호선\",\"SUB_STA_NM\":\"동대문\",\"FOUR_RIDE_NUM\":715.0,\"FOUR_ALIGHT_NUM\":14.0,\"FIVE_RIDE_NUM\":13235.0,\"FIVE_ALIGHT_NUM\":2131.0,\"SIX_RIDE_NUM\":8936.0,\"SIX_ALIGHT_NUM\":6979.0,\"SEVEN_RIDE_NUM\":14776.0,\"SEVEN_ALIGHT_NUM\":12395.0,\"EIGHT_RIDE_NUM\":18660.0,\"EIGHT_ALIGHT_NUM\":24732.0,\"NINE_RIDE_NUM\":16788.0,\"NINE_ALIGHT_NUM\":22866.0,\"TEN_RIDE_NUM\":15988.0,\"TEN_ALIGHT_NUM\":21388.0,\"ELEVEN_RIDE_NUM\":17257.0,\"ELEVEN_ALIGHT_NUM\":22109.0,\"TWELVE_RIDE_NUM\":20561.0,\"TWELVE_ALIGHT_NUM\":21732.0,\"THIRTEEN_RIDE_NUM\":21099.0,\"THIRTEEN_ALIGHT_NUM\":20786.0,\"FOURTEEN_RIDE_NUM\":22318.0,\"FOURTEEN_ALIGHT_NUM\":19616.0,\"FIFTEEN_RIDE_NUM\":23370.0,\"FIFTEEN_ALIGHT_NUM\":18703.0,\"SIXTEEN_RIDE_NUM\":24338.0,\"SIXTEEN_ALIGHT_NUM\":17325.0,\"SEVENTEEN_RIDE_NUM\":23923.0,\"SEVENTEEN_ALIGHT_NUM\":17672.0,\"EIGHTEEN_RIDE_NUM\":22895.0,\"EIGHTEEN_ALIGHT_NUM\":18354.0,\"NINETEEN_RIDE_NUM\":15871.0,\"NINETEEN_ALIGHT_NUM\":19089.0,\"TWENTY_RIDE_NUM\":12693.0,\"TWENTY_ALIGHT_NUM\":12789.0,\"TWENTY_ONE_RIDE_NUM\":13040.0,\"TWENTY_ONE_ALIGHT_NUM\":10134.0,\"TWENTY_TWO_RIDE_NUM\":11167.0,\"TWENTY_TWO_ALIGHT_NUM\":10601.0,\"TWENTY_THREE_RIDE_NUM\":2811.0,\"TWENTY_THREE_ALIGHT_NUM\":8211.0,\"MIDNIGHT_RIDE_NUM\":16.0,\"MIDNIGHT_ALIGHT_NUM\":1434.0,\"ONE_RIDE_NUM\":1.0,\"ONE_ALIGHT_NUM\":1.0,\"TWO_RIDE_NUM\":0.0,\"TWO_ALIGHT_NUM\":0.0,\"THREE_RIDE_NUM\":0.0,\"THREE_ALIGHT_NUM\":0.0,\"WORK_DT\":\"20210703\"},{\"USE_MON\":\"202106\",\"LINE_NUM\":\"1호선\",\"SUB_STA_NM\":\"신설동\",\"FOUR_RIDE_NUM\":343.0,\"FOUR_ALIGHT_NUM\":3.0,\"FIVE_RIDE_NUM\":8150.0,\"FIVE_ALIGHT_NUM\":3192.0,\"SIX_RIDE_NUM\":8131.0,\"SIX_ALIGHT_NUM\":10929.0,\"SEVEN_RIDE_NUM\":17021.0,\"SEVEN_ALIGHT_NUM\":25745.0,\"EIGHT_RIDE_NUM\":24583.0,\"EIGHT_ALIGHT_NUM\":62999.0,\"NINE_RIDE_NUM\":16472.0,\"NINE_ALIGHT_NUM\":33400.0,\"TEN_RIDE_NUM\":14689.0,\"TEN_ALIGHT_NUM\":20639.0,\"ELEVEN_RIDE_NUM\":16427.0,\"ELEVEN_ALIGHT_NUM\":17238.0,\"TWELVE_RIDE_NUM\":17625.0,\"TWELVE_ALIGHT_NUM\":16913.0,\"THIRTEEN_RIDE_NUM\":19712.0,\"THIRTEEN_ALIGHT_NUM\":17440.0,\"FOURTEEN_RIDE_NUM\":19363.0,\"FOURTEEN_ALIGHT_NUM\":16063.0,\"FIFTEEN_RIDE_NUM\":20684.0,\"FIFTEEN_ALIGHT_NUM\":16772.0,\"SIXTEEN_RIDE_NUM\":28784.0,\"SIXTEEN_ALIGHT_NUM\":17481.0,\"SEVENTEEN_RIDE_NUM\":39357.0,\"SEVENTEEN_ALIGHT_NUM\":20038.0,\"EIGHTEEN_RIDE_NUM\":57642.0,\"EIGHTEEN_ALIGHT_NUM\":25012.0,\"NINETEEN_RIDE_NUM\":20823.0,\"NINETEEN_ALIGHT_NUM\":17529.0,\"TWENTY_RIDE_NUM\":13880.0,\"TWENTY_ALIGHT_NUM\":10932.0,\"TWENTY_ONE_RIDE_NUM\":13378.0,\"TWENTY_ONE_ALIGHT_NUM\":10102.0,\"TWENTY_TWO_RIDE_NUM\":10189.0,\"TWENTY_TWO_ALIGHT_NUM\":11809.0,\"TWENTY_THREE_RIDE_NUM\":1952.0,\"TWENTY_THREE_ALIGHT_NUM\":5451.0,\"MIDNIGHT_RIDE_NUM\":10.0,\"MIDNIGHT_ALIGHT_NUM\":449.0,\"ONE_RIDE_NUM\":0.0,\"ONE_ALIGHT_NUM\":0.0,\"TWO_RIDE_NUM\":0.0,\"TWO_ALIGHT_NUM\":0.0,\"THREE_RIDE_NUM\":0.0,\"THREE_ALIGHT_NUM\":0.0,\"WORK_DT\":\"20210703\"},{\"USE_MON\":\"202106\",\"LINE_NUM\":\"1호선\",\"SUB_STA_NM\":\"제기동\",\"FOUR_RIDE_NUM\":360.0,\"FOUR_ALIGHT_NUM\":3.0,\"FIVE_RIDE_NUM\":5020.0,\"FIVE_ALIGHT_NUM\":2150.0,\"SIX_RIDE_NUM\":8625.0,\"SIX_ALIGHT_NUM\":9488.0,\"SEVEN_RIDE_NUM\":21818.0,\"SEVEN_ALIGHT_NUM\":18800.0,\"EIGHT_RIDE_NUM\":31428.0,\"EIGHT_ALIGHT_NUM\":42110.0,\"NINE_RIDE_NUM\":22254.0,\"NINE_ALIGHT_NUM\":37145.0,\"TEN_RIDE_NUM\":25534.0,\"TEN_ALIGHT_NUM\":39572.0,\"ELEVEN_RIDE_NUM\":33701.0,\"ELEVEN_ALIGHT_NUM\":40192.0,\"TWELVE_RIDE_NUM\":37380.0,\"TWELVE_ALIGHT_NUM\":36944.0,\"THIRTEEN_RIDE_NUM\":37913.0,\"THIRTEEN_ALIGHT_NUM\":36302.0,\"FOURTEEN_RIDE_NUM\":38816.0,\"FOURTEEN_ALIGHT_NUM\":38060.0,\"FIFTEEN_RIDE_NUM\":39042.0,\"FIFTEEN_ALIGHT_NUM\":34744.0,\"SIXTEEN_RIDE_NUM\":36805.0,\"SIXTEEN_ALIGHT_NUM\":29316.0,\"SEVENTEEN_RIDE_NUM\":38480.0,\"SEVENTEEN_ALIGHT_NUM\":23319.0,\"EIGHTEEN_RIDE_NUM\":37172.0,\"EIGHTEEN_ALIGHT_NUM\":26182.0,\"NINETEEN_RIDE_NUM\":16542.0,\"NINETEEN_ALIGHT_NUM\":17773.0,\"TWENTY_RIDE_NUM\":10447.0,\"TWENTY_ALIGHT_NUM\":11211.0,\"TWENTY_ONE_RIDE_NUM\":8822.0,\"TWENTY_ONE_ALIGHT_NUM\":10198.0,\"TWENTY_TWO_RIDE_NUM\":7253.0,\"TWENTY_TWO_ALIGHT_NUM\":11830.0,\"TWENTY_THREE_RIDE_NUM\":2042.0,\"TWENTY_THREE_ALIGHT_NUM\":4844.0,\"MIDNIGHT_RIDE_NUM\":8.0,\"MIDNIGHT_ALIGHT_NUM\":408.0,\"ONE_RIDE_NUM\":0.0,\"ONE_ALIGHT_NUM\":0.0,\"TWO_RIDE_NUM\":1.0,\"TWO_ALIGHT_NUM\":0.0,\"THREE_RIDE_NUM\":0.0,\"THREE_ALIGHT_NUM\":0.0,\"WORK_DT\":\"20210703\"},{\"USE_MON\":\"202106\",\"LINE_NUM\":\"1호선\",\"SUB_STA_NM\":\"청량리(서울시립대입구)\",\"FOUR_RIDE_NUM\":1114.0,\"FOUR_ALIGHT_NUM\":17.0,\"FIVE_RIDE_NUM\":10556.0,\"FIVE_ALIGHT_NUM\":4752.0,\"SIX_RIDE_NUM\":14555.0,\"SIX_ALIGHT_NUM\":20601.0,\"SEVEN_RIDE_NUM\":36398.0,\"SEVEN_ALIGHT_NUM\":18127.0,\"EIGHT_RIDE_NUM\":44314.0,\"EIGHT_ALIGHT_NUM\":36112.0,\"NINE_RIDE_NUM\":30993.0,\"NINE_ALIGHT_NUM\":33651.0,\"TEN_RIDE_NUM\":30325.0,\"TEN_ALIGHT_NUM\":34593.0,\"ELEVEN_RIDE_NUM\":32895.0,\"ELEVEN_ALIGHT_NUM\":36922.0,\"TWELVE_RIDE_NUM\":36644.0,\"TWELVE_ALIGHT_NUM\":38152.0,\"THIRTEEN_RIDE_NUM\":37957.0,\"THIRTEEN_ALIGHT_NUM\":37161.0,\"FOURTEEN_RIDE_NUM\":38453.0,\"FOURTEEN_ALIGHT_NUM\":41488.0,\"FIFTEEN_RIDE_NUM\":41308.0,\"FIFTEEN_ALIGHT_NUM\":40046.0,\"SIXTEEN_RIDE_NUM\":48019.0,\"SIXTEEN_ALIGHT_NUM\":37625.0,\"SEVENTEEN_RIDE_NUM\":45267.0,\"SEVENTEEN_ALIGHT_NUM\":37535.0,\"EIGHTEEN_RIDE_NUM\":41132.0,\"EIGHTEEN_ALIGHT_NUM\":46814.0,\"NINETEEN_RIDE_NUM\":22408.0,\"NINETEEN_ALIGHT_NUM\":31284.0,\"TWENTY_RIDE_NUM\":16802.0,\"TWENTY_ALIGHT_NUM\":17867.0,\"TWENTY_ONE_RIDE_NUM\":13163.0,\"TWENTY_ONE_ALIGHT_NUM\":16739.0,\"TWENTY_TWO_RIDE_NUM\":9007.0,\"TWENTY_TWO_ALIGHT_NUM\":17875.0,\"TWENTY_THREE_RIDE_NUM\":2199.0,\"TWENTY_THREE_ALIGHT_NUM\":7010.0,\"MIDNIGHT_RIDE_NUM\":15.0,\"MIDNIGHT_ALIGHT_NUM\":784.0,\"ONE_RIDE_NUM\":1.0,\"ONE_ALIGHT_NUM\":0.0,\"TWO_RIDE_NUM\":0.0,\"TWO_ALIGHT_NUM\":0.0,\"THREE_RIDE_NUM\":0.0,\"THREE_ALIGHT_NUM\":0.0,\"WORK_DT\":\"20210703\"}]}}\n"
     ]
    }
   ],
   "source": [
    "data=requests.get(_api).text\n",
    "print(data)"
   ]
  },
  {
   "cell_type": "markdown",
   "metadata": {},
   "source": [
    "### json 파싱\n",
    "\n",
    "json.loads() 함수는 문자열을 json으로 변환해준다."
   ]
  },
  {
   "cell_type": "code",
   "execution_count": 14,
   "metadata": {},
   "outputs": [],
   "source": [
    "import json\n",
    "jsubwayTime = json.loads(data)"
   ]
  },
  {
   "cell_type": "markdown",
   "metadata": {},
   "source": [
    "json으로 변환하고, 한 계층씩 읽어보자.\n",
    "배열의 인덱스 명을 하나씩 넣어서 읽는다.\n",
    "첫 인덱스는 'CardSubwayTime', 다음은 'row', 다음은 숫자 인덱스로 하나씩 읽어낼 수 있다."
   ]
  },
  {
   "cell_type": "code",
   "execution_count": 15,
   "metadata": {},
   "outputs": [],
   "source": [
    "j0=jsubwayTime['CardSubwayTime']['row'][0]"
   ]
  },
  {
   "cell_type": "markdown",
   "metadata": {},
   "source": [
    "각 row마다 key, value 한 쌍으로 데이터가 입력되어 있다.\n",
    "그 키를 모두 읽어보자."
   ]
  },
  {
   "cell_type": "code",
   "execution_count": 16,
   "metadata": {},
   "outputs": [
    {
     "data": {
      "text/plain": [
       "dict_keys(['USE_MON', 'LINE_NUM', 'SUB_STA_NM', 'FOUR_RIDE_NUM', 'FOUR_ALIGHT_NUM', 'FIVE_RIDE_NUM', 'FIVE_ALIGHT_NUM', 'SIX_RIDE_NUM', 'SIX_ALIGHT_NUM', 'SEVEN_RIDE_NUM', 'SEVEN_ALIGHT_NUM', 'EIGHT_RIDE_NUM', 'EIGHT_ALIGHT_NUM', 'NINE_RIDE_NUM', 'NINE_ALIGHT_NUM', 'TEN_RIDE_NUM', 'TEN_ALIGHT_NUM', 'ELEVEN_RIDE_NUM', 'ELEVEN_ALIGHT_NUM', 'TWELVE_RIDE_NUM', 'TWELVE_ALIGHT_NUM', 'THIRTEEN_RIDE_NUM', 'THIRTEEN_ALIGHT_NUM', 'FOURTEEN_RIDE_NUM', 'FOURTEEN_ALIGHT_NUM', 'FIFTEEN_RIDE_NUM', 'FIFTEEN_ALIGHT_NUM', 'SIXTEEN_RIDE_NUM', 'SIXTEEN_ALIGHT_NUM', 'SEVENTEEN_RIDE_NUM', 'SEVENTEEN_ALIGHT_NUM', 'EIGHTEEN_RIDE_NUM', 'EIGHTEEN_ALIGHT_NUM', 'NINETEEN_RIDE_NUM', 'NINETEEN_ALIGHT_NUM', 'TWENTY_RIDE_NUM', 'TWENTY_ALIGHT_NUM', 'TWENTY_ONE_RIDE_NUM', 'TWENTY_ONE_ALIGHT_NUM', 'TWENTY_TWO_RIDE_NUM', 'TWENTY_TWO_ALIGHT_NUM', 'TWENTY_THREE_RIDE_NUM', 'TWENTY_THREE_ALIGHT_NUM', 'MIDNIGHT_RIDE_NUM', 'MIDNIGHT_ALIGHT_NUM', 'ONE_RIDE_NUM', 'ONE_ALIGHT_NUM', 'TWO_RIDE_NUM', 'TWO_ALIGHT_NUM', 'THREE_RIDE_NUM', 'THREE_ALIGHT_NUM', 'WORK_DT'])"
      ]
     },
     "execution_count": 16,
     "metadata": {},
     "output_type": "execute_result"
    }
   ],
   "source": [
    "j0.keys()"
   ]
  },
  {
   "cell_type": "markdown",
   "metadata": {},
   "source": [
    "특정 키를 지정하여 값을 읽어올 수도 있다."
   ]
  },
  {
   "cell_type": "code",
   "execution_count": 17,
   "metadata": {},
   "outputs": [
    {
     "data": {
      "text/plain": [
       "'종로5가'"
      ]
     },
     "execution_count": 17,
     "metadata": {},
     "output_type": "execute_result"
    }
   ],
   "source": [
    "j0.get('SUB_STA_NM')"
   ]
  },
  {
   "cell_type": "markdown",
   "metadata": {},
   "source": [
    "item.values() 함수를 사용하면 값만 출력할 수 있다.\n",
    "각 항목에 대해, 예를 들면 2번째 항목은 다음을 출력한다.\n",
    "```\n",
    "['202106', '2호선', '동대문역사문화공원(DDP)', 334.0, 5.0, 6338.0, 1096.0, 4462.0, 7728.0, 6190.0, 23936.0, 9136.0, 50285.0, 9118.0, 29711.0, 10107.0, 23521.0, 13110.0, 24484.0, 15181.0, 21251.0, 16607.0, 21216.0, 19514.0, 20831.0, 25306.0, 18746.0, 30356.0, 16448.0, 36618.0, 17178.0, 40202.0, 19893.0, 23199.0, 20875.0, 17109.0, 13169.0, 19484.0, 10321.0, 14614.0, 10220.0, 4046.0, 5848.0, 3.0, 362.0, 0.0, 0.0, 0.0, 0.0, 0.0, 0.0, '20210703']\n",
    "```"
   ]
  },
  {
   "cell_type": "code",
   "execution_count": 18,
   "metadata": {
    "scrolled": true,
    "slideshow": {
     "slide_type": "subslide"
    }
   },
   "outputs": [
    {
     "name": "stdout",
     "output_type": "stream",
     "text": [
      "dict_values(['202106', '1호선', '종로5가', 71.0, 0.0, 1526.0, 3779.0, 2574.0, 16992.0, 4781.0, 39423.0, 7414.0, 103060.0, 11525.0, 62717.0, 18431.0, 50987.0, 27735.0, 48857.0, 34387.0, 47295.0, 40094.0, 42416.0, 46633.0, 39899.0, 50981.0, 35861.0, 55982.0, 29188.0, 71386.0, 26232.0, 96880.0, 22727.0, 45846.0, 12621.0, 29493.0, 5474.0, 29266.0, 4184.0, 20319.0, 3607.0, 2740.0, 1681.0, 4.0, 268.0, 1.0, 1.0, 0.0, 0.0, 0.0, 0.0, '20210703'])\n",
      "dict_values(['202106', '1호선', '동대문', 715.0, 14.0, 13235.0, 2131.0, 8936.0, 6979.0, 14776.0, 12395.0, 18660.0, 24732.0, 16788.0, 22866.0, 15988.0, 21388.0, 17257.0, 22109.0, 20561.0, 21732.0, 21099.0, 20786.0, 22318.0, 19616.0, 23370.0, 18703.0, 24338.0, 17325.0, 23923.0, 17672.0, 22895.0, 18354.0, 15871.0, 19089.0, 12693.0, 12789.0, 13040.0, 10134.0, 11167.0, 10601.0, 2811.0, 8211.0, 16.0, 1434.0, 1.0, 1.0, 0.0, 0.0, 0.0, 0.0, '20210703'])\n",
      "dict_values(['202106', '1호선', '신설동', 343.0, 3.0, 8150.0, 3192.0, 8131.0, 10929.0, 17021.0, 25745.0, 24583.0, 62999.0, 16472.0, 33400.0, 14689.0, 20639.0, 16427.0, 17238.0, 17625.0, 16913.0, 19712.0, 17440.0, 19363.0, 16063.0, 20684.0, 16772.0, 28784.0, 17481.0, 39357.0, 20038.0, 57642.0, 25012.0, 20823.0, 17529.0, 13880.0, 10932.0, 13378.0, 10102.0, 10189.0, 11809.0, 1952.0, 5451.0, 10.0, 449.0, 0.0, 0.0, 0.0, 0.0, 0.0, 0.0, '20210703'])\n",
      "dict_values(['202106', '1호선', '제기동', 360.0, 3.0, 5020.0, 2150.0, 8625.0, 9488.0, 21818.0, 18800.0, 31428.0, 42110.0, 22254.0, 37145.0, 25534.0, 39572.0, 33701.0, 40192.0, 37380.0, 36944.0, 37913.0, 36302.0, 38816.0, 38060.0, 39042.0, 34744.0, 36805.0, 29316.0, 38480.0, 23319.0, 37172.0, 26182.0, 16542.0, 17773.0, 10447.0, 11211.0, 8822.0, 10198.0, 7253.0, 11830.0, 2042.0, 4844.0, 8.0, 408.0, 0.0, 0.0, 1.0, 0.0, 0.0, 0.0, '20210703'])\n",
      "dict_values(['202106', '1호선', '청량리(서울시립대입구)', 1114.0, 17.0, 10556.0, 4752.0, 14555.0, 20601.0, 36398.0, 18127.0, 44314.0, 36112.0, 30993.0, 33651.0, 30325.0, 34593.0, 32895.0, 36922.0, 36644.0, 38152.0, 37957.0, 37161.0, 38453.0, 41488.0, 41308.0, 40046.0, 48019.0, 37625.0, 45267.0, 37535.0, 41132.0, 46814.0, 22408.0, 31284.0, 16802.0, 17867.0, 13163.0, 16739.0, 9007.0, 17875.0, 2199.0, 7010.0, 15.0, 784.0, 1.0, 0.0, 0.0, 0.0, 0.0, 0.0, '20210703'])\n"
     ]
    }
   ],
   "source": [
    "for item in jsubwayTime['CardSubwayTime']['row']:\n",
    "    print(item.values())"
   ]
  },
  {
   "cell_type": "markdown",
   "metadata": {},
   "source": [
    "### 하나의 프로그램으로"
   ]
  },
  {
   "cell_type": "code",
   "execution_count": 19,
   "metadata": {},
   "outputs": [
    {
     "name": "stdout",
     "output_type": "stream",
     "text": [
      "{\"CardSubwayTime\":{\"list_total_count\":608,\"RESULT\":{\"CODE\":\"INFO-000\",\"MESSAGE\":\"정상 처리되었습니다\"},\"row\":[{\"USE_MON\":\"202106\",\"LINE_NUM\":\"1호선\",\"SUB_STA_NM\":\"서울역\",\"FOUR_RIDE_NUM\":654.0,\"FOUR_ALIGHT_NUM\":17.0,\"FIVE_RIDE_NUM\":9008.0,\"FIVE_ALIGHT_NUM\":6400.0,\"SIX_RIDE_NUM\":12474.0,\"SIX_ALIGHT_NUM\":37203.0,\"SEVEN_RIDE_NUM\":37253.0,\"SEVEN_ALIGHT_NUM\":91875.0,\"EIGHT_RIDE_NUM\":59876.0,\"EIGHT_ALIGHT_NUM\":187805.0,\"NINE_RIDE_NUM\":44619.0,\"NINE_ALIGHT_NUM\":118679.0,\"TEN_RIDE_NUM\":42611.0,\"TEN_ALIGHT_NUM\":57710.0,\"ELEVEN_RIDE_NUM\":49533.0,\"ELEVEN_ALIGHT_NUM\":50003.0,\"TWELVE_RIDE_NUM\":59357.0,\"TWELVE_ALIGHT_NUM\":53317.0,\"THIRTEEN_RIDE_NUM\":61171.0,\"THIRTEEN_ALIGHT_NUM\":53687.0,\"FOURTEEN_RIDE_NUM\":53310.0,\"FOURTEEN_ALIGHT_NUM\":49094.0,\"FIFTEEN_RIDE_NUM\":65767.0,\"FIFTEEN_ALIGHT_NUM\":52788.0,\"SIXTEEN_RIDE_NUM\":76249.0,\"SIXTEEN_ALIGHT_NUM\":53969.0,\"SEVENTEEN_RIDE_NUM\":122928.0,\"SEVENTEEN_ALIGHT_NUM\":64693.0,\"EIGHTEEN_RIDE_NUM\":184907.0,\"EIGHTEEN_ALIGHT_NUM\":73978.0,\"NINETEEN_RIDE_NUM\":87575.0,\"NINETEEN_ALIGHT_NUM\":46769.0,\"TWENTY_RIDE_NUM\":59961.0,\"TWENTY_ALIGHT_NUM\":30743.0,\"TWENTY_ONE_RIDE_NUM\":65078.0,\"TWENTY_ONE_ALIGHT_NUM\":27435.0,\"TWENTY_TWO_RIDE_NUM\":44921.0,\"TWENTY_TWO_ALIGHT_NUM\":22829.0,\"TWENTY_THREE_RIDE_NUM\":11581.0,\"TWENTY_THREE_ALIGHT_NUM\":8024.0,\"MIDNIGHT_RIDE_NUM\":30.0,\"MIDNIGHT_ALIGHT_NUM\":637.0,\"ONE_RIDE_NUM\":0.0,\"ONE_ALIGHT_NUM\":1.0,\"TWO_RIDE_NUM\":0.0,\"TWO_ALIGHT_NUM\":0.0,\"THREE_RIDE_NUM\":0.0,\"THREE_ALIGHT_NUM\":0.0,\"WORK_DT\":\"20210703\"},{\"USE_MON\":\"202106\",\"LINE_NUM\":\"1호선\",\"SUB_STA_NM\":\"동묘앞\",\"FOUR_RIDE_NUM\":51.0,\"FOUR_ALIGHT_NUM\":1.0,\"FIVE_RIDE_NUM\":3218.0,\"FIVE_ALIGHT_NUM\":1100.0,\"SIX_RIDE_NUM\":3422.0,\"SIX_ALIGHT_NUM\":4802.0,\"SEVEN_RIDE_NUM\":5896.0,\"SEVEN_ALIGHT_NUM\":9703.0,\"EIGHT_RIDE_NUM\":9194.0,\"EIGHT_ALIGHT_NUM\":24921.0,\"NINE_RIDE_NUM\":8022.0,\"NINE_ALIGHT_NUM\":17333.0,\"TEN_RIDE_NUM\":9687.0,\"TEN_ALIGHT_NUM\":19292.0,\"ELEVEN_RIDE_NUM\":14091.0,\"ELEVEN_ALIGHT_NUM\":24305.0,\"TWELVE_RIDE_NUM\":20089.0,\"TWELVE_ALIGHT_NUM\":26186.0,\"THIRTEEN_RIDE_NUM\":24776.0,\"THIRTEEN_ALIGHT_NUM\":28141.0,\"FOURTEEN_RIDE_NUM\":27144.0,\"FOURTEEN_ALIGHT_NUM\":26643.0,\"FIFTEEN_RIDE_NUM\":28360.0,\"FIFTEEN_ALIGHT_NUM\":23213.0,\"SIXTEEN_RIDE_NUM\":31119.0,\"SIXTEEN_ALIGHT_NUM\":17744.0,\"SEVENTEEN_RIDE_NUM\":27036.0,\"SEVENTEEN_ALIGHT_NUM\":13759.0,\"EIGHTEEN_RIDE_NUM\":23606.0,\"EIGHTEEN_ALIGHT_NUM\":10098.0,\"NINETEEN_RIDE_NUM\":11006.0,\"NINETEEN_ALIGHT_NUM\":6510.0,\"TWENTY_RIDE_NUM\":6119.0,\"TWENTY_ALIGHT_NUM\":4409.0,\"TWENTY_ONE_RIDE_NUM\":5485.0,\"TWENTY_ONE_ALIGHT_NUM\":4265.0,\"TWENTY_TWO_RIDE_NUM\":3405.0,\"TWENTY_TWO_ALIGHT_NUM\":5689.0,\"TWENTY_THREE_RIDE_NUM\":1035.0,\"TWENTY_THREE_ALIGHT_NUM\":2589.0,\"MIDNIGHT_RIDE_NUM\":4.0,\"MIDNIGHT_ALIGHT_NUM\":1348.0,\"ONE_RIDE_NUM\":0.0,\"ONE_ALIGHT_NUM\":0.0,\"TWO_RIDE_NUM\":0.0,\"TWO_ALIGHT_NUM\":0.0,\"THREE_RIDE_NUM\":0.0,\"THREE_ALIGHT_NUM\":0.0,\"WORK_DT\":\"20210703\"},{\"USE_MON\":\"202106\",\"LINE_NUM\":\"1호선\",\"SUB_STA_NM\":\"시청\",\"FOUR_RIDE_NUM\":37.0,\"FOUR_ALIGHT_NUM\":0.0,\"FIVE_RIDE_NUM\":1881.0,\"FIVE_ALIGHT_NUM\":4340.0,\"SIX_RIDE_NUM\":2948.0,\"SIX_ALIGHT_NUM\":21443.0,\"SEVEN_RIDE_NUM\":6280.0,\"SEVEN_ALIGHT_NUM\":62346.0,\"EIGHT_RIDE_NUM\":7740.0,\"EIGHT_ALIGHT_NUM\":167991.0,\"NINE_RIDE_NUM\":8117.0,\"NINE_ALIGHT_NUM\":72853.0,\"TEN_RIDE_NUM\":9284.0,\"TEN_ALIGHT_NUM\":29250.0,\"ELEVEN_RIDE_NUM\":14030.0,\"ELEVEN_ALIGHT_NUM\":27989.0,\"TWELVE_RIDE_NUM\":15295.0,\"TWELVE_ALIGHT_NUM\":25037.0,\"THIRTEEN_RIDE_NUM\":18849.0,\"THIRTEEN_ALIGHT_NUM\":24492.0,\"FOURTEEN_RIDE_NUM\":23331.0,\"FOURTEEN_ALIGHT_NUM\":20032.0,\"FIFTEEN_RIDE_NUM\":30469.0,\"FIFTEEN_ALIGHT_NUM\":17869.0,\"SIXTEEN_RIDE_NUM\":36116.0,\"SIXTEEN_ALIGHT_NUM\":15593.0,\"SEVENTEEN_RIDE_NUM\":66595.0,\"SEVENTEEN_ALIGHT_NUM\":16611.0,\"EIGHTEEN_RIDE_NUM\":135842.0,\"EIGHTEEN_ALIGHT_NUM\":17805.0,\"NINETEEN_RIDE_NUM\":46850.0,\"NINETEEN_ALIGHT_NUM\":8139.0,\"TWENTY_RIDE_NUM\":38173.0,\"TWENTY_ALIGHT_NUM\":4455.0,\"TWENTY_ONE_RIDE_NUM\":39048.0,\"TWENTY_ONE_ALIGHT_NUM\":4234.0,\"TWENTY_TWO_RIDE_NUM\":28501.0,\"TWENTY_TWO_ALIGHT_NUM\":3686.0,\"TWENTY_THREE_RIDE_NUM\":4390.0,\"TWENTY_THREE_ALIGHT_NUM\":1485.0,\"MIDNIGHT_RIDE_NUM\":3.0,\"MIDNIGHT_ALIGHT_NUM\":92.0,\"ONE_RIDE_NUM\":0.0,\"ONE_ALIGHT_NUM\":0.0,\"TWO_RIDE_NUM\":0.0,\"TWO_ALIGHT_NUM\":0.0,\"THREE_RIDE_NUM\":0.0,\"THREE_ALIGHT_NUM\":0.0,\"WORK_DT\":\"20210703\"},{\"USE_MON\":\"202106\",\"LINE_NUM\":\"1호선\",\"SUB_STA_NM\":\"종각\",\"FOUR_RIDE_NUM\":127.0,\"FOUR_ALIGHT_NUM\":1.0,\"FIVE_RIDE_NUM\":2314.0,\"FIVE_ALIGHT_NUM\":4354.0,\"SIX_RIDE_NUM\":2868.0,\"SIX_ALIGHT_NUM\":23755.0,\"SEVEN_RIDE_NUM\":5479.0,\"SEVEN_ALIGHT_NUM\":96712.0,\"EIGHT_RIDE_NUM\":8419.0,\"EIGHT_ALIGHT_NUM\":223459.0,\"NINE_RIDE_NUM\":10625.0,\"NINE_ALIGHT_NUM\":131420.0,\"TEN_RIDE_NUM\":14727.0,\"TEN_ALIGHT_NUM\":50878.0,\"ELEVEN_RIDE_NUM\":23057.0,\"ELEVEN_ALIGHT_NUM\":44506.0,\"TWELVE_RIDE_NUM\":27707.0,\"TWELVE_ALIGHT_NUM\":39830.0,\"THIRTEEN_RIDE_NUM\":34538.0,\"THIRTEEN_ALIGHT_NUM\":40864.0,\"FOURTEEN_RIDE_NUM\":40378.0,\"FOURTEEN_ALIGHT_NUM\":33173.0,\"FIFTEEN_RIDE_NUM\":49745.0,\"FIFTEEN_ALIGHT_NUM\":29610.0,\"SIXTEEN_RIDE_NUM\":58664.0,\"SIXTEEN_ALIGHT_NUM\":29692.0,\"SEVENTEEN_RIDE_NUM\":114985.0,\"SEVENTEEN_ALIGHT_NUM\":33365.0,\"EIGHTEEN_RIDE_NUM\":192552.0,\"EIGHTEEN_ALIGHT_NUM\":39621.0,\"NINETEEN_RIDE_NUM\":78735.0,\"NINETEEN_ALIGHT_NUM\":19163.0,\"TWENTY_RIDE_NUM\":64989.0,\"TWENTY_ALIGHT_NUM\":7386.0,\"TWENTY_ONE_RIDE_NUM\":81179.0,\"TWENTY_ONE_ALIGHT_NUM\":4790.0,\"TWENTY_TWO_RIDE_NUM\":63653.0,\"TWENTY_TWO_ALIGHT_NUM\":3763.0,\"TWENTY_THREE_RIDE_NUM\":8153.0,\"TWENTY_THREE_ALIGHT_NUM\":1675.0,\"MIDNIGHT_RIDE_NUM\":21.0,\"MIDNIGHT_ALIGHT_NUM\":135.0,\"ONE_RIDE_NUM\":0.0,\"ONE_ALIGHT_NUM\":0.0,\"TWO_RIDE_NUM\":0.0,\"TWO_ALIGHT_NUM\":0.0,\"THREE_RIDE_NUM\":0.0,\"THREE_ALIGHT_NUM\":0.0,\"WORK_DT\":\"20210703\"},{\"USE_MON\":\"202106\",\"LINE_NUM\":\"1호선\",\"SUB_STA_NM\":\"종로3가\",\"FOUR_RIDE_NUM\":191.0,\"FOUR_ALIGHT_NUM\":24.0,\"FIVE_RIDE_NUM\":3227.0,\"FIVE_ALIGHT_NUM\":3388.0,\"SIX_RIDE_NUM\":3069.0,\"SIX_ALIGHT_NUM\":13080.0,\"SEVEN_RIDE_NUM\":5108.0,\"SEVEN_ALIGHT_NUM\":25462.0,\"EIGHT_RIDE_NUM\":7412.0,\"EIGHT_ALIGHT_NUM\":70639.0,\"NINE_RIDE_NUM\":11673.0,\"NINE_ALIGHT_NUM\":73336.0,\"TEN_RIDE_NUM\":18502.0,\"TEN_ALIGHT_NUM\":57312.0,\"ELEVEN_RIDE_NUM\":29882.0,\"ELEVEN_ALIGHT_NUM\":55725.0,\"TWELVE_RIDE_NUM\":37009.0,\"TWELVE_ALIGHT_NUM\":53678.0,\"THIRTEEN_RIDE_NUM\":44050.0,\"THIRTEEN_ALIGHT_NUM\":51189.0,\"FOURTEEN_RIDE_NUM\":47626.0,\"FOURTEEN_ALIGHT_NUM\":46621.0,\"FIFTEEN_RIDE_NUM\":53071.0,\"FIFTEEN_ALIGHT_NUM\":40250.0,\"SIXTEEN_RIDE_NUM\":56955.0,\"SIXTEEN_ALIGHT_NUM\":34679.0,\"SEVENTEEN_RIDE_NUM\":68711.0,\"SEVENTEEN_ALIGHT_NUM\":31234.0,\"EIGHTEEN_RIDE_NUM\":94683.0,\"EIGHTEEN_ALIGHT_NUM\":33315.0,\"NINETEEN_RIDE_NUM\":55993.0,\"NINETEEN_ALIGHT_NUM\":16571.0,\"TWENTY_RIDE_NUM\":41534.0,\"TWENTY_ALIGHT_NUM\":6332.0,\"TWENTY_ONE_RIDE_NUM\":51588.0,\"TWENTY_ONE_ALIGHT_NUM\":4938.0,\"TWENTY_TWO_RIDE_NUM\":47756.0,\"TWENTY_TWO_ALIGHT_NUM\":4591.0,\"TWENTY_THREE_RIDE_NUM\":6768.0,\"TWENTY_THREE_ALIGHT_NUM\":2318.0,\"MIDNIGHT_RIDE_NUM\":25.0,\"MIDNIGHT_ALIGHT_NUM\":413.0,\"ONE_RIDE_NUM\":0.0,\"ONE_ALIGHT_NUM\":0.0,\"TWO_RIDE_NUM\":0.0,\"TWO_ALIGHT_NUM\":0.0,\"THREE_RIDE_NUM\":0.0,\"THREE_ALIGHT_NUM\":0.0,\"WORK_DT\":\"20210703\"}]}}\n",
      "{\"CardSubwayTime\":{\"list_total_count\":608,\"RESULT\":{\"CODE\":\"INFO-000\",\"MESSAGE\":\"정상 처리되었습니다\"},\"row\":[{\"USE_MON\":\"202106\",\"LINE_NUM\":\"1호선\",\"SUB_STA_NM\":\"종로5가\",\"FOUR_RIDE_NUM\":71.0,\"FOUR_ALIGHT_NUM\":0.0,\"FIVE_RIDE_NUM\":1526.0,\"FIVE_ALIGHT_NUM\":3779.0,\"SIX_RIDE_NUM\":2574.0,\"SIX_ALIGHT_NUM\":16992.0,\"SEVEN_RIDE_NUM\":4781.0,\"SEVEN_ALIGHT_NUM\":39423.0,\"EIGHT_RIDE_NUM\":7414.0,\"EIGHT_ALIGHT_NUM\":103060.0,\"NINE_RIDE_NUM\":11525.0,\"NINE_ALIGHT_NUM\":62717.0,\"TEN_RIDE_NUM\":18431.0,\"TEN_ALIGHT_NUM\":50987.0,\"ELEVEN_RIDE_NUM\":27735.0,\"ELEVEN_ALIGHT_NUM\":48857.0,\"TWELVE_RIDE_NUM\":34387.0,\"TWELVE_ALIGHT_NUM\":47295.0,\"THIRTEEN_RIDE_NUM\":40094.0,\"THIRTEEN_ALIGHT_NUM\":42416.0,\"FOURTEEN_RIDE_NUM\":46633.0,\"FOURTEEN_ALIGHT_NUM\":39899.0,\"FIFTEEN_RIDE_NUM\":50981.0,\"FIFTEEN_ALIGHT_NUM\":35861.0,\"SIXTEEN_RIDE_NUM\":55982.0,\"SIXTEEN_ALIGHT_NUM\":29188.0,\"SEVENTEEN_RIDE_NUM\":71386.0,\"SEVENTEEN_ALIGHT_NUM\":26232.0,\"EIGHTEEN_RIDE_NUM\":96880.0,\"EIGHTEEN_ALIGHT_NUM\":22727.0,\"NINETEEN_RIDE_NUM\":45846.0,\"NINETEEN_ALIGHT_NUM\":12621.0,\"TWENTY_RIDE_NUM\":29493.0,\"TWENTY_ALIGHT_NUM\":5474.0,\"TWENTY_ONE_RIDE_NUM\":29266.0,\"TWENTY_ONE_ALIGHT_NUM\":4184.0,\"TWENTY_TWO_RIDE_NUM\":20319.0,\"TWENTY_TWO_ALIGHT_NUM\":3607.0,\"TWENTY_THREE_RIDE_NUM\":2740.0,\"TWENTY_THREE_ALIGHT_NUM\":1681.0,\"MIDNIGHT_RIDE_NUM\":4.0,\"MIDNIGHT_ALIGHT_NUM\":268.0,\"ONE_RIDE_NUM\":1.0,\"ONE_ALIGHT_NUM\":1.0,\"TWO_RIDE_NUM\":0.0,\"TWO_ALIGHT_NUM\":0.0,\"THREE_RIDE_NUM\":0.0,\"THREE_ALIGHT_NUM\":0.0,\"WORK_DT\":\"20210703\"},{\"USE_MON\":\"202106\",\"LINE_NUM\":\"1호선\",\"SUB_STA_NM\":\"동대문\",\"FOUR_RIDE_NUM\":715.0,\"FOUR_ALIGHT_NUM\":14.0,\"FIVE_RIDE_NUM\":13235.0,\"FIVE_ALIGHT_NUM\":2131.0,\"SIX_RIDE_NUM\":8936.0,\"SIX_ALIGHT_NUM\":6979.0,\"SEVEN_RIDE_NUM\":14776.0,\"SEVEN_ALIGHT_NUM\":12395.0,\"EIGHT_RIDE_NUM\":18660.0,\"EIGHT_ALIGHT_NUM\":24732.0,\"NINE_RIDE_NUM\":16788.0,\"NINE_ALIGHT_NUM\":22866.0,\"TEN_RIDE_NUM\":15988.0,\"TEN_ALIGHT_NUM\":21388.0,\"ELEVEN_RIDE_NUM\":17257.0,\"ELEVEN_ALIGHT_NUM\":22109.0,\"TWELVE_RIDE_NUM\":20561.0,\"TWELVE_ALIGHT_NUM\":21732.0,\"THIRTEEN_RIDE_NUM\":21099.0,\"THIRTEEN_ALIGHT_NUM\":20786.0,\"FOURTEEN_RIDE_NUM\":22318.0,\"FOURTEEN_ALIGHT_NUM\":19616.0,\"FIFTEEN_RIDE_NUM\":23370.0,\"FIFTEEN_ALIGHT_NUM\":18703.0,\"SIXTEEN_RIDE_NUM\":24338.0,\"SIXTEEN_ALIGHT_NUM\":17325.0,\"SEVENTEEN_RIDE_NUM\":23923.0,\"SEVENTEEN_ALIGHT_NUM\":17672.0,\"EIGHTEEN_RIDE_NUM\":22895.0,\"EIGHTEEN_ALIGHT_NUM\":18354.0,\"NINETEEN_RIDE_NUM\":15871.0,\"NINETEEN_ALIGHT_NUM\":19089.0,\"TWENTY_RIDE_NUM\":12693.0,\"TWENTY_ALIGHT_NUM\":12789.0,\"TWENTY_ONE_RIDE_NUM\":13040.0,\"TWENTY_ONE_ALIGHT_NUM\":10134.0,\"TWENTY_TWO_RIDE_NUM\":11167.0,\"TWENTY_TWO_ALIGHT_NUM\":10601.0,\"TWENTY_THREE_RIDE_NUM\":2811.0,\"TWENTY_THREE_ALIGHT_NUM\":8211.0,\"MIDNIGHT_RIDE_NUM\":16.0,\"MIDNIGHT_ALIGHT_NUM\":1434.0,\"ONE_RIDE_NUM\":1.0,\"ONE_ALIGHT_NUM\":1.0,\"TWO_RIDE_NUM\":0.0,\"TWO_ALIGHT_NUM\":0.0,\"THREE_RIDE_NUM\":0.0,\"THREE_ALIGHT_NUM\":0.0,\"WORK_DT\":\"20210703\"},{\"USE_MON\":\"202106\",\"LINE_NUM\":\"1호선\",\"SUB_STA_NM\":\"신설동\",\"FOUR_RIDE_NUM\":343.0,\"FOUR_ALIGHT_NUM\":3.0,\"FIVE_RIDE_NUM\":8150.0,\"FIVE_ALIGHT_NUM\":3192.0,\"SIX_RIDE_NUM\":8131.0,\"SIX_ALIGHT_NUM\":10929.0,\"SEVEN_RIDE_NUM\":17021.0,\"SEVEN_ALIGHT_NUM\":25745.0,\"EIGHT_RIDE_NUM\":24583.0,\"EIGHT_ALIGHT_NUM\":62999.0,\"NINE_RIDE_NUM\":16472.0,\"NINE_ALIGHT_NUM\":33400.0,\"TEN_RIDE_NUM\":14689.0,\"TEN_ALIGHT_NUM\":20639.0,\"ELEVEN_RIDE_NUM\":16427.0,\"ELEVEN_ALIGHT_NUM\":17238.0,\"TWELVE_RIDE_NUM\":17625.0,\"TWELVE_ALIGHT_NUM\":16913.0,\"THIRTEEN_RIDE_NUM\":19712.0,\"THIRTEEN_ALIGHT_NUM\":17440.0,\"FOURTEEN_RIDE_NUM\":19363.0,\"FOURTEEN_ALIGHT_NUM\":16063.0,\"FIFTEEN_RIDE_NUM\":20684.0,\"FIFTEEN_ALIGHT_NUM\":16772.0,\"SIXTEEN_RIDE_NUM\":28784.0,\"SIXTEEN_ALIGHT_NUM\":17481.0,\"SEVENTEEN_RIDE_NUM\":39357.0,\"SEVENTEEN_ALIGHT_NUM\":20038.0,\"EIGHTEEN_RIDE_NUM\":57642.0,\"EIGHTEEN_ALIGHT_NUM\":25012.0,\"NINETEEN_RIDE_NUM\":20823.0,\"NINETEEN_ALIGHT_NUM\":17529.0,\"TWENTY_RIDE_NUM\":13880.0,\"TWENTY_ALIGHT_NUM\":10932.0,\"TWENTY_ONE_RIDE_NUM\":13378.0,\"TWENTY_ONE_ALIGHT_NUM\":10102.0,\"TWENTY_TWO_RIDE_NUM\":10189.0,\"TWENTY_TWO_ALIGHT_NUM\":11809.0,\"TWENTY_THREE_RIDE_NUM\":1952.0,\"TWENTY_THREE_ALIGHT_NUM\":5451.0,\"MIDNIGHT_RIDE_NUM\":10.0,\"MIDNIGHT_ALIGHT_NUM\":449.0,\"ONE_RIDE_NUM\":0.0,\"ONE_ALIGHT_NUM\":0.0,\"TWO_RIDE_NUM\":0.0,\"TWO_ALIGHT_NUM\":0.0,\"THREE_RIDE_NUM\":0.0,\"THREE_ALIGHT_NUM\":0.0,\"WORK_DT\":\"20210703\"},{\"USE_MON\":\"202106\",\"LINE_NUM\":\"1호선\",\"SUB_STA_NM\":\"제기동\",\"FOUR_RIDE_NUM\":360.0,\"FOUR_ALIGHT_NUM\":3.0,\"FIVE_RIDE_NUM\":5020.0,\"FIVE_ALIGHT_NUM\":2150.0,\"SIX_RIDE_NUM\":8625.0,\"SIX_ALIGHT_NUM\":9488.0,\"SEVEN_RIDE_NUM\":21818.0,\"SEVEN_ALIGHT_NUM\":18800.0,\"EIGHT_RIDE_NUM\":31428.0,\"EIGHT_ALIGHT_NUM\":42110.0,\"NINE_RIDE_NUM\":22254.0,\"NINE_ALIGHT_NUM\":37145.0,\"TEN_RIDE_NUM\":25534.0,\"TEN_ALIGHT_NUM\":39572.0,\"ELEVEN_RIDE_NUM\":33701.0,\"ELEVEN_ALIGHT_NUM\":40192.0,\"TWELVE_RIDE_NUM\":37380.0,\"TWELVE_ALIGHT_NUM\":36944.0,\"THIRTEEN_RIDE_NUM\":37913.0,\"THIRTEEN_ALIGHT_NUM\":36302.0,\"FOURTEEN_RIDE_NUM\":38816.0,\"FOURTEEN_ALIGHT_NUM\":38060.0,\"FIFTEEN_RIDE_NUM\":39042.0,\"FIFTEEN_ALIGHT_NUM\":34744.0,\"SIXTEEN_RIDE_NUM\":36805.0,\"SIXTEEN_ALIGHT_NUM\":29316.0,\"SEVENTEEN_RIDE_NUM\":38480.0,\"SEVENTEEN_ALIGHT_NUM\":23319.0,\"EIGHTEEN_RIDE_NUM\":37172.0,\"EIGHTEEN_ALIGHT_NUM\":26182.0,\"NINETEEN_RIDE_NUM\":16542.0,\"NINETEEN_ALIGHT_NUM\":17773.0,\"TWENTY_RIDE_NUM\":10447.0,\"TWENTY_ALIGHT_NUM\":11211.0,\"TWENTY_ONE_RIDE_NUM\":8822.0,\"TWENTY_ONE_ALIGHT_NUM\":10198.0,\"TWENTY_TWO_RIDE_NUM\":7253.0,\"TWENTY_TWO_ALIGHT_NUM\":11830.0,\"TWENTY_THREE_RIDE_NUM\":2042.0,\"TWENTY_THREE_ALIGHT_NUM\":4844.0,\"MIDNIGHT_RIDE_NUM\":8.0,\"MIDNIGHT_ALIGHT_NUM\":408.0,\"ONE_RIDE_NUM\":0.0,\"ONE_ALIGHT_NUM\":0.0,\"TWO_RIDE_NUM\":1.0,\"TWO_ALIGHT_NUM\":0.0,\"THREE_RIDE_NUM\":0.0,\"THREE_ALIGHT_NUM\":0.0,\"WORK_DT\":\"20210703\"},{\"USE_MON\":\"202106\",\"LINE_NUM\":\"1호선\",\"SUB_STA_NM\":\"청량리(서울시립대입구)\",\"FOUR_RIDE_NUM\":1114.0,\"FOUR_ALIGHT_NUM\":17.0,\"FIVE_RIDE_NUM\":10556.0,\"FIVE_ALIGHT_NUM\":4752.0,\"SIX_RIDE_NUM\":14555.0,\"SIX_ALIGHT_NUM\":20601.0,\"SEVEN_RIDE_NUM\":36398.0,\"SEVEN_ALIGHT_NUM\":18127.0,\"EIGHT_RIDE_NUM\":44314.0,\"EIGHT_ALIGHT_NUM\":36112.0,\"NINE_RIDE_NUM\":30993.0,\"NINE_ALIGHT_NUM\":33651.0,\"TEN_RIDE_NUM\":30325.0,\"TEN_ALIGHT_NUM\":34593.0,\"ELEVEN_RIDE_NUM\":32895.0,\"ELEVEN_ALIGHT_NUM\":36922.0,\"TWELVE_RIDE_NUM\":36644.0,\"TWELVE_ALIGHT_NUM\":38152.0,\"THIRTEEN_RIDE_NUM\":37957.0,\"THIRTEEN_ALIGHT_NUM\":37161.0,\"FOURTEEN_RIDE_NUM\":38453.0,\"FOURTEEN_ALIGHT_NUM\":41488.0,\"FIFTEEN_RIDE_NUM\":41308.0,\"FIFTEEN_ALIGHT_NUM\":40046.0,\"SIXTEEN_RIDE_NUM\":48019.0,\"SIXTEEN_ALIGHT_NUM\":37625.0,\"SEVENTEEN_RIDE_NUM\":45267.0,\"SEVENTEEN_ALIGHT_NUM\":37535.0,\"EIGHTEEN_RIDE_NUM\":41132.0,\"EIGHTEEN_ALIGHT_NUM\":46814.0,\"NINETEEN_RIDE_NUM\":22408.0,\"NINETEEN_ALIGHT_NUM\":31284.0,\"TWENTY_RIDE_NUM\":16802.0,\"TWENTY_ALIGHT_NUM\":17867.0,\"TWENTY_ONE_RIDE_NUM\":13163.0,\"TWENTY_ONE_ALIGHT_NUM\":16739.0,\"TWENTY_TWO_RIDE_NUM\":9007.0,\"TWENTY_TWO_ALIGHT_NUM\":17875.0,\"TWENTY_THREE_RIDE_NUM\":2199.0,\"TWENTY_THREE_ALIGHT_NUM\":7010.0,\"MIDNIGHT_RIDE_NUM\":15.0,\"MIDNIGHT_ALIGHT_NUM\":784.0,\"ONE_RIDE_NUM\":1.0,\"ONE_ALIGHT_NUM\":0.0,\"TWO_RIDE_NUM\":0.0,\"TWO_ALIGHT_NUM\":0.0,\"THREE_RIDE_NUM\":0.0,\"THREE_ALIGHT_NUM\":0.0,\"WORK_DT\":\"20210703\"}]}}\n"
     ]
    }
   ],
   "source": [
    "import os\n",
    "from src import mylib\n",
    "import requests\n",
    "\n",
    "keyPath=os.path.join(os.getcwd(), 'src', 'key.properties')\n",
    "key=mylib.getKey(keyPath)\n",
    "\n",
    "_url='http://openAPI.seoul.go.kr:8088'\n",
    "_key=str(key['dataseoul'])\n",
    "_type='json'\n",
    "_service='CardSubwayTime'\n",
    "_start_index=1\n",
    "_end_index=5\n",
    "_use_mon='202106'\n",
    "\n",
    "_maxIter=2\n",
    "_iter=0\n",
    "while _iter<_maxIter:\n",
    "    _api=\"/\".join([_url,_key,_type,_service,str(_start_index),str(_end_index),_use_mon])\n",
    "    #print _api\n",
    "    subwayTime = requests.get(_api).text\n",
    "    print(subwayTime)\n",
    "    _start_index+=5\n",
    "    _end_index+=5\n",
    "    _iter+=1"
   ]
  },
  {
   "cell_type": "markdown",
   "metadata": {},
   "source": [
    "## 데이터베이스 저장\n",
    "\n",
    "mongo, pymongo가 설치되어 있어야 한다.\n",
    "colab에서는 아래와 같이 설치한다.\n",
    "```\n",
    "!apt install mongodb\n",
    "!python -m pip install pymongo==3.7.2\n",
    "```\n",
    "\n",
    "* **1 단계: mongo 서버 실행**\n",
    "\n",
    "방법1: 서비스로 mongod 서버 실행\n",
    "pymongo를 사용하려면, 서버를 백그라운드에 실행해 놓아야 한다.\n",
    "서버는 mongod 명령어로 실행할 수 있다.\n",
    "\n",
    "```\n",
    "!service mongodb start\n",
    "```\n",
    "\n",
    "방법2: 직접 호출로 서버 실행\n",
    "또는 mongod를 직접 호출해서 실행할 수 있다.\n",
    "데이터베이스가 저장되어야 할 디렉토리가 필요하다.\n",
    "여기서는 ```data```를 만들어 놓는다.\n",
    "데이터베이스가 저장되는 디렉토리를 서버를 시작할 때 적어준다.\n",
    "port는 생략해도 된다.\n",
    "\n",
    "```\n",
    "import os\n",
    "os.mkdir('data')\n",
    "mongod --dbpath data/ --port 27017\n",
    "```\n",
    "\n",
    "* **2 단계: pymongo 실행**\n",
    "\n",
    "pymongo를 사용하려면, mongod가 백그라운드에서 실행되고 있어야 한다 (대기 상태 실행)\n",
    "아래 명령어가 오류없이 실행된다면, \"pymongo\" 가 올바르게 설치되었고 실행된다고 본다.\n",
    "\n",
    "mongo client shell을 사용하려면 프롬프트에서 ```mongo```"
   ]
  },
  {
   "cell_type": "code",
   "execution_count": 144,
   "metadata": {},
   "outputs": [
    {
     "data": {
      "text/plain": [
       "'C:\\\\Users\\\\zaqxs\\\\Code\\\\201910787\\\\s-master'"
      ]
     },
     "execution_count": 144,
     "metadata": {},
     "output_type": "execute_result"
    }
   ],
   "source": [
    "import os\n",
    "os.getcwd()"
   ]
  },
  {
   "cell_type": "code",
   "execution_count": 147,
   "metadata": {},
   "outputs": [],
   "source": [
    "import pymongo"
   ]
  },
  {
   "cell_type": "markdown",
   "metadata": {},
   "source": [
    "### 클라이언트 생성\n",
    "\n",
    "pymongo에서 mongodb에 접속하기 위해서는 \n",
    "'mongodb://localhost:27017'를 적어주어야 한다."
   ]
  },
  {
   "cell_type": "code",
   "execution_count": 148,
   "metadata": {},
   "outputs": [],
   "source": [
    "Client = pymongo.MongoClient('mongodb://localhost:27017')\n",
    "# or Client = pymongo.MongoClient()"
   ]
  },
  {
   "cell_type": "markdown",
   "metadata": {},
   "source": [
    "### DB 생성\n",
    "\n",
    "```Client[\"myDB\"]``` 또는 ```Client.myDB```"
   ]
  },
  {
   "cell_type": "code",
   "execution_count": 149,
   "metadata": {},
   "outputs": [],
   "source": [
    "db=Client.myDB"
   ]
  },
  {
   "cell_type": "markdown",
   "metadata": {},
   "source": [
    "DB가 생성되었는지 확인해보자."
   ]
  },
  {
   "cell_type": "code",
   "execution_count": 150,
   "metadata": {},
   "outputs": [
    {
     "name": "stdout",
     "output_type": "stream",
     "text": [
      "['admin', 'config', 'local', 'myDB']\n"
     ]
    }
   ],
   "source": [
    "print(Client.list_database_names())"
   ]
  },
  {
   "cell_type": "markdown",
   "metadata": {},
   "source": [
    "### Collection 생성 및 데이터입력\n",
    "\n",
    "Collection은 db밑의 테이블로 이해하면 쉽다.\n",
    "\n",
    "\n",
    "db = Client[\"myDB\"]\n",
    "\n",
    "mycol = db[\"myPyCol\"]\n"
   ]
  },
  {
   "cell_type": "code",
   "execution_count": 151,
   "metadata": {},
   "outputs": [
    {
     "data": {
      "text/plain": [
       "<pymongo.results.InsertOneResult at 0x23472d1a748>"
      ]
     },
     "execution_count": 151,
     "metadata": {},
     "output_type": "execute_result"
    }
   ],
   "source": [
    "_id=1\n",
    "_name='js'\n",
    "_age=11\n",
    "_country='ko'\n",
    "\n",
    "db.myPyCol.insert_one({\n",
    "    \"id\": _id,\n",
    "    \"name\": _name,\n",
    "    \"age\": _age,\n",
    "    \"country\": _country\n",
    "})"
   ]
  },
  {
   "cell_type": "markdown",
   "metadata": {},
   "source": [
    "아래와 같이, 입력을 하고 난 후 myDB가 생성이 되어 있는 것을 알 수 있다."
   ]
  },
  {
   "cell_type": "code",
   "execution_count": 152,
   "metadata": {},
   "outputs": [
    {
     "name": "stdout",
     "output_type": "stream",
     "text": [
      "['admin', 'config', 'local', 'myDB']\n"
     ]
    }
   ],
   "source": [
    "print(Client.list_database_names())"
   ]
  },
  {
   "cell_type": "markdown",
   "metadata": {},
   "source": [
    "myPyCol이 만들어졌는지 확인해보자."
   ]
  },
  {
   "cell_type": "code",
   "execution_count": 153,
   "metadata": {},
   "outputs": [
    {
     "name": "stdout",
     "output_type": "stream",
     "text": [
      "['myPyCol']\n"
     ]
    }
   ],
   "source": [
    "print(db.list_collection_names())"
   ]
  },
  {
   "cell_type": "markdown",
   "metadata": {},
   "source": [
    "### 검색"
   ]
  },
  {
   "cell_type": "code",
   "execution_count": 154,
   "metadata": {},
   "outputs": [
    {
     "name": "stdout",
     "output_type": "stream",
     "text": [
      "js\n",
      "js\n"
     ]
    }
   ],
   "source": [
    "results = db.myPyCol.find()\n",
    "for r in results:\n",
    "        print (r['name'])"
   ]
  },
  {
   "cell_type": "markdown",
   "metadata": {
    "slideshow": {
     "slide_type": "slide"
    }
   },
   "source": [
    "## 문제 6: 지하철역 승하차 인원\n",
    "\n",
    "앞 문제를 일괄 실행하고, 저장해보자.\n",
    "파일, nosql mongodb로 저장해보자."
   ]
  },
  {
   "cell_type": "markdown",
   "metadata": {
    "slideshow": {
     "slide_type": "subslide"
    }
   },
   "source": [
    "### python으로 일괄 실행하기\n",
    "\n",
    "* json 파일 저장 ```src/ds_open_subwayPassengers.json```\n",
    "    * ```dump()```는 직렬화, ```dumps()```는 문자열로 생성한다.\n",
    "* mongo 저장한다. 한글 unicode 지원한다.\n",
    "    * db명: 'use ds_open_subwayPassengersDb'\n",
    "    * table (또는 Collection)명: 'db_open_subwayTable'"
   ]
  },
  {
   "cell_type": "code",
   "execution_count": 201,
   "metadata": {},
   "outputs": [],
   "source": [
    "import pymongo"
   ]
  },
  {
   "cell_type": "code",
   "execution_count": 213,
   "metadata": {
    "slideshow": {
     "slide_type": "subslide"
    }
   },
   "outputs": [
    {
     "name": "stdout",
     "output_type": "stream",
     "text": [
      "Overwriting src/ds_open_subwayTime.py\n"
     ]
    }
   ],
   "source": [
    "%%writefile src/ds_open_subwayTime.py\n",
    "# coding: utf-8\n",
    "import os\n",
    "import requests\n",
    "import json\n",
    "import pymongo\n",
    "from pymongo import MongoClient\n",
    "import mylib\n",
    "\n",
    "Client = MongoClient('localhost:27017')\n",
    "_db=Client['ds_open_subwayPassengersDb'] #db created by mongo. You do not have to create this.\n",
    "_table=_db['db_open_subwayTable'] #collection\n",
    "#db=Client.ds_rest_subwayPassengers\n",
    "\n",
    "def saveJson(_fname,_data):\n",
    "    import io\n",
    "    with io.open(_fname, 'a', encoding='utf8') as json_file:\n",
    "        #_j=json.dumps(_data, json_file, ensure_ascii=False, encoding='utf8') # python2\n",
    "        _j=json.dump(_data, json_file, ensure_ascii=False)\n",
    "        json_file.write(str(_j)+\"\\n\")\n",
    "\n",
    "def readJson(_fname):\n",
    "    for line in open(_fname, 'r').readlines():\n",
    "        _j=json.loads(line)\n",
    "        #print _j['id'],_j['text']\n",
    "        print (_j['id'])\n",
    "\n",
    "def saveDB(_data):\n",
    "    _table.insert_one(_data)\n",
    "\n",
    "def readDB():\n",
    "    for tweet in _table.find():\n",
    "        print (tweet['id'],tweet['text'])\n",
    "\n",
    "def saveFile(_fname,_data):\n",
    "    fp=open(_fname,'a')\n",
    "    fp.write(_data+\"\\n\")\n",
    "\n",
    "def doIt():\n",
    "    keyPath=os.path.join(os.getcwd(), 'src', 'key.properties')\n",
    "    key=mylib.getKey(keyPath)  \n",
    "    _key=key['dataseoul'] #KEY='73725.....'\n",
    "    _url='http://openAPI.seoul.go.kr:8088'\n",
    "    _type='json'\n",
    "    _service='CardSubwayTime'\n",
    "    _start_index=1\n",
    "    _end_index=5\n",
    "    _use_mon='202106'\n",
    "    _maxIter=20\n",
    "    _iter=0\n",
    "    _jfname='src/ds_open_subwayTime.json'\n",
    "    while _iter<_maxIter:\n",
    "        _api=\"/\".join([_url,_key,_type,_service,str(_start_index),str(_end_index),_use_mon])\n",
    "        #print _api\n",
    "        r=requests.get(_api)\n",
    "        _json=r.json()\n",
    "        print (_json)\n",
    "        saveJson(_jfname,_json)\n",
    "        saveDB(_json)\n",
    "        _start_index+=5\n",
    "        _end_index+=5\n",
    "        _iter+=1\n",
    "\n",
    "if __name__ == \"__main__\":\n",
    "    doIt()\n"
   ]
  },
  {
   "cell_type": "markdown",
   "metadata": {},
   "source": [
    "위 프로그램을 실행하면 총 20건의 데이터가 조회된다."
   ]
  },
  {
   "cell_type": "code",
   "execution_count": null,
   "metadata": {
    "slideshow": {
     "slide_type": "subslide"
    }
   },
   "outputs": [],
   "source": [
    "!python3 src/ds_open_subwayTime.py"
   ]
  },
  {
   "cell_type": "markdown",
   "metadata": {
    "slideshow": {
     "slide_type": "subslide"
    }
   },
   "source": [
    "### 결과의 저장을 확인\n",
    "\n",
    "JSON 파일이 있는지 확인해보자.\n"
   ]
  },
  {
   "cell_type": "code",
   "execution_count": 205,
   "metadata": {
    "slideshow": {
     "slide_type": "subslide"
    }
   },
   "outputs": [
    {
     "name": "stderr",
     "output_type": "stream",
     "text": [
      "매개 변수 포맷이 틀립니다 - \"ds_open_subwayTime*\".\n"
     ]
    }
   ],
   "source": [
    "!dir -l src/ds_open_subwayTime*"
   ]
  },
  {
   "cell_type": "markdown",
   "metadata": {
    "slideshow": {
     "slide_type": "subslide"
    }
   },
   "source": [
    "MongoDB는 별도로 지정하지 않으면,\n",
    "데이터 디렉토리는 ```/var/lib/MongoDB```\n",
    "그리고 로그 디렉토리는 ```/var/log/mongodb```이다.\n"
   ]
  },
  {
   "cell_type": "code",
   "execution_count": 170,
   "metadata": {},
   "outputs": [
    {
     "name": "stderr",
     "output_type": "stream",
     "text": [
      "스위치가 틀립니다 - \"var\".\n"
     ]
    }
   ],
   "source": [
    "!dir -l /var/lib/mongodb/ds_*"
   ]
  },
  {
   "cell_type": "markdown",
   "metadata": {},
   "source": [
    "#### pymongo 결과의 확인"
   ]
  },
  {
   "cell_type": "code",
   "execution_count": 160,
   "metadata": {},
   "outputs": [],
   "source": [
    "import pymongo\n",
    "\n",
    "Client = pymongo.MongoClient('mongodb://localhost:27017') # or pymongo.MongoClient() without uri"
   ]
  },
  {
   "cell_type": "markdown",
   "metadata": {},
   "source": [
    "데이터베이스가 생성된 것을 알 수 있다."
   ]
  },
  {
   "cell_type": "code",
   "execution_count": 161,
   "metadata": {},
   "outputs": [
    {
     "name": "stdout",
     "output_type": "stream",
     "text": [
      "['admin', 'config', 'local', 'myDB']\n"
     ]
    }
   ],
   "source": [
    "print(Client.list_database_names())"
   ]
  },
  {
   "cell_type": "markdown",
   "metadata": {},
   "source": [
    "테이블이 생성된 것을 알 수 있다."
   ]
  },
  {
   "cell_type": "code",
   "execution_count": 162,
   "metadata": {},
   "outputs": [
    {
     "data": {
      "text/plain": [
       "['myPyCol']"
      ]
     },
     "execution_count": 162,
     "metadata": {},
     "output_type": "execute_result"
    }
   ],
   "source": [
    "db.list_collection_names()"
   ]
  },
  {
   "cell_type": "markdown",
   "metadata": {},
   "source": [
    "count() 함수는 더 이상 사용할 수 없다. count_documents({})를 사용해서 몇 건이 저장되었는지 알아보자.\n",
    "아래는 20건이 나와야 맞지만, 다시 한 번 실행한 결과이다.\n",
    "중복되어도 NoSQL은 그대로 저장한다."
   ]
  },
  {
   "cell_type": "code",
   "execution_count": 163,
   "metadata": {},
   "outputs": [
    {
     "data": {
      "text/plain": [
       "0"
      ]
     },
     "execution_count": 163,
     "metadata": {},
     "output_type": "execute_result"
    }
   ],
   "source": [
    "db.db_open_subwayTable.count_documents({})"
   ]
  },
  {
   "cell_type": "markdown",
   "metadata": {},
   "source": [
    "1건만 출력해보자."
   ]
  },
  {
   "cell_type": "code",
   "execution_count": 164,
   "metadata": {},
   "outputs": [
    {
     "ename": "AutoReconnect",
     "evalue": "localhost:27017: [WinError 10061] 대상 컴퓨터에서 연결을 거부했으므로 연결하지 못했습니다",
     "output_type": "error",
     "traceback": [
      "\u001b[1;31m---------------------------------------------------------------------------\u001b[0m",
      "\u001b[1;31mConnectionRefusedError\u001b[0m                    Traceback (most recent call last)",
      "\u001b[1;32m~\\Anaconda2\\envs\\py35\\lib\\site-packages\\pymongo\\pool.py\u001b[0m in \u001b[0;36mconnect\u001b[1;34m(self)\u001b[0m\n\u001b[0;32m    967\u001b[0m         \u001b[1;32mtry\u001b[0m\u001b[1;33m:\u001b[0m\u001b[1;33m\u001b[0m\u001b[1;33m\u001b[0m\u001b[0m\n\u001b[1;32m--> 968\u001b[1;33m             \u001b[0msock\u001b[0m \u001b[1;33m=\u001b[0m \u001b[0m_configured_socket\u001b[0m\u001b[1;33m(\u001b[0m\u001b[0mself\u001b[0m\u001b[1;33m.\u001b[0m\u001b[0maddress\u001b[0m\u001b[1;33m,\u001b[0m \u001b[0mself\u001b[0m\u001b[1;33m.\u001b[0m\u001b[0mopts\u001b[0m\u001b[1;33m)\u001b[0m\u001b[1;33m\u001b[0m\u001b[1;33m\u001b[0m\u001b[0m\n\u001b[0m\u001b[0;32m    969\u001b[0m         \u001b[1;32mexcept\u001b[0m \u001b[0msocket\u001b[0m\u001b[1;33m.\u001b[0m\u001b[0merror\u001b[0m \u001b[1;32mas\u001b[0m \u001b[0merror\u001b[0m\u001b[1;33m:\u001b[0m\u001b[1;33m\u001b[0m\u001b[1;33m\u001b[0m\u001b[0m\n",
      "\u001b[1;32m~\\Anaconda2\\envs\\py35\\lib\\site-packages\\pymongo\\pool.py\u001b[0m in \u001b[0;36m_configured_socket\u001b[1;34m(address, options)\u001b[0m\n\u001b[0;32m    842\u001b[0m     \"\"\"\n\u001b[1;32m--> 843\u001b[1;33m     \u001b[0msock\u001b[0m \u001b[1;33m=\u001b[0m \u001b[0m_create_connection\u001b[0m\u001b[1;33m(\u001b[0m\u001b[0maddress\u001b[0m\u001b[1;33m,\u001b[0m \u001b[0moptions\u001b[0m\u001b[1;33m)\u001b[0m\u001b[1;33m\u001b[0m\u001b[1;33m\u001b[0m\u001b[0m\n\u001b[0m\u001b[0;32m    844\u001b[0m     \u001b[0mssl_context\u001b[0m \u001b[1;33m=\u001b[0m \u001b[0moptions\u001b[0m\u001b[1;33m.\u001b[0m\u001b[0mssl_context\u001b[0m\u001b[1;33m\u001b[0m\u001b[1;33m\u001b[0m\u001b[0m\n",
      "\u001b[1;32m~\\Anaconda2\\envs\\py35\\lib\\site-packages\\pymongo\\pool.py\u001b[0m in \u001b[0;36m_create_connection\u001b[1;34m(address, options)\u001b[0m\n\u001b[0;32m    823\u001b[0m     \u001b[1;32mif\u001b[0m \u001b[0merr\u001b[0m \u001b[1;32mis\u001b[0m \u001b[1;32mnot\u001b[0m \u001b[1;32mNone\u001b[0m\u001b[1;33m:\u001b[0m\u001b[1;33m\u001b[0m\u001b[1;33m\u001b[0m\u001b[0m\n\u001b[1;32m--> 824\u001b[1;33m         \u001b[1;32mraise\u001b[0m \u001b[0merr\u001b[0m\u001b[1;33m\u001b[0m\u001b[1;33m\u001b[0m\u001b[0m\n\u001b[0m\u001b[0;32m    825\u001b[0m     \u001b[1;32melse\u001b[0m\u001b[1;33m:\u001b[0m\u001b[1;33m\u001b[0m\u001b[1;33m\u001b[0m\u001b[0m\n",
      "\u001b[1;32m~\\Anaconda2\\envs\\py35\\lib\\site-packages\\pymongo\\pool.py\u001b[0m in \u001b[0;36m_create_connection\u001b[1;34m(address, options)\u001b[0m\n\u001b[0;32m    816\u001b[0m                 \u001b[0m_set_keepalive_times\u001b[0m\u001b[1;33m(\u001b[0m\u001b[0msock\u001b[0m\u001b[1;33m)\u001b[0m\u001b[1;33m\u001b[0m\u001b[1;33m\u001b[0m\u001b[0m\n\u001b[1;32m--> 817\u001b[1;33m             \u001b[0msock\u001b[0m\u001b[1;33m.\u001b[0m\u001b[0mconnect\u001b[0m\u001b[1;33m(\u001b[0m\u001b[0msa\u001b[0m\u001b[1;33m)\u001b[0m\u001b[1;33m\u001b[0m\u001b[1;33m\u001b[0m\u001b[0m\n\u001b[0m\u001b[0;32m    818\u001b[0m             \u001b[1;32mreturn\u001b[0m \u001b[0msock\u001b[0m\u001b[1;33m\u001b[0m\u001b[1;33m\u001b[0m\u001b[0m\n",
      "\u001b[1;31mConnectionRefusedError\u001b[0m: [WinError 10061] 대상 컴퓨터에서 연결을 거부했으므로 연결하지 못했습니다",
      "\nDuring handling of the above exception, another exception occurred:\n",
      "\u001b[1;31mAutoReconnect\u001b[0m                             Traceback (most recent call last)",
      "\u001b[1;32m<ipython-input-164-670d9e11a2fb>\u001b[0m in \u001b[0;36m<module>\u001b[1;34m\u001b[0m\n\u001b[1;32m----> 1\u001b[1;33m \u001b[0mdb\u001b[0m\u001b[1;33m.\u001b[0m\u001b[0mdb_open_subwayTable\u001b[0m\u001b[1;33m.\u001b[0m\u001b[0mfind_one\u001b[0m\u001b[1;33m(\u001b[0m\u001b[1;33m)\u001b[0m\u001b[1;33m\u001b[0m\u001b[1;33m\u001b[0m\u001b[0m\n\u001b[0m",
      "\u001b[1;32m~\\Anaconda2\\envs\\py35\\lib\\site-packages\\pymongo\\collection.py\u001b[0m in \u001b[0;36mfind_one\u001b[1;34m(self, filter, *args, **kwargs)\u001b[0m\n\u001b[0;32m   1260\u001b[0m \u001b[1;33m\u001b[0m\u001b[0m\n\u001b[0;32m   1261\u001b[0m         \u001b[0mcursor\u001b[0m \u001b[1;33m=\u001b[0m \u001b[0mself\u001b[0m\u001b[1;33m.\u001b[0m\u001b[0mfind\u001b[0m\u001b[1;33m(\u001b[0m\u001b[0mfilter\u001b[0m\u001b[1;33m,\u001b[0m \u001b[1;33m*\u001b[0m\u001b[0margs\u001b[0m\u001b[1;33m,\u001b[0m \u001b[1;33m**\u001b[0m\u001b[0mkwargs\u001b[0m\u001b[1;33m)\u001b[0m\u001b[1;33m\u001b[0m\u001b[1;33m\u001b[0m\u001b[0m\n\u001b[1;32m-> 1262\u001b[1;33m         \u001b[1;32mfor\u001b[0m \u001b[0mresult\u001b[0m \u001b[1;32min\u001b[0m \u001b[0mcursor\u001b[0m\u001b[1;33m.\u001b[0m\u001b[0mlimit\u001b[0m\u001b[1;33m(\u001b[0m\u001b[1;33m-\u001b[0m\u001b[1;36m1\u001b[0m\u001b[1;33m)\u001b[0m\u001b[1;33m:\u001b[0m\u001b[1;33m\u001b[0m\u001b[1;33m\u001b[0m\u001b[0m\n\u001b[0m\u001b[0;32m   1263\u001b[0m             \u001b[1;32mreturn\u001b[0m \u001b[0mresult\u001b[0m\u001b[1;33m\u001b[0m\u001b[1;33m\u001b[0m\u001b[0m\n\u001b[0;32m   1264\u001b[0m         \u001b[1;32mreturn\u001b[0m \u001b[1;32mNone\u001b[0m\u001b[1;33m\u001b[0m\u001b[1;33m\u001b[0m\u001b[0m\n",
      "\u001b[1;32m~\\Anaconda2\\envs\\py35\\lib\\site-packages\\pymongo\\cursor.py\u001b[0m in \u001b[0;36mnext\u001b[1;34m(self)\u001b[0m\n\u001b[0;32m   1187\u001b[0m         \u001b[1;32mif\u001b[0m \u001b[0mself\u001b[0m\u001b[1;33m.\u001b[0m\u001b[0m__empty\u001b[0m\u001b[1;33m:\u001b[0m\u001b[1;33m\u001b[0m\u001b[1;33m\u001b[0m\u001b[0m\n\u001b[0;32m   1188\u001b[0m             \u001b[1;32mraise\u001b[0m \u001b[0mStopIteration\u001b[0m\u001b[1;33m\u001b[0m\u001b[1;33m\u001b[0m\u001b[0m\n\u001b[1;32m-> 1189\u001b[1;33m         \u001b[1;32mif\u001b[0m \u001b[0mlen\u001b[0m\u001b[1;33m(\u001b[0m\u001b[0mself\u001b[0m\u001b[1;33m.\u001b[0m\u001b[0m__data\u001b[0m\u001b[1;33m)\u001b[0m \u001b[1;32mor\u001b[0m \u001b[0mself\u001b[0m\u001b[1;33m.\u001b[0m\u001b[0m_refresh\u001b[0m\u001b[1;33m(\u001b[0m\u001b[1;33m)\u001b[0m\u001b[1;33m:\u001b[0m\u001b[1;33m\u001b[0m\u001b[1;33m\u001b[0m\u001b[0m\n\u001b[0m\u001b[0;32m   1190\u001b[0m             \u001b[1;32mif\u001b[0m \u001b[0mself\u001b[0m\u001b[1;33m.\u001b[0m\u001b[0m__manipulate\u001b[0m\u001b[1;33m:\u001b[0m\u001b[1;33m\u001b[0m\u001b[1;33m\u001b[0m\u001b[0m\n\u001b[0;32m   1191\u001b[0m                 \u001b[0m_db\u001b[0m \u001b[1;33m=\u001b[0m \u001b[0mself\u001b[0m\u001b[1;33m.\u001b[0m\u001b[0m__collection\u001b[0m\u001b[1;33m.\u001b[0m\u001b[0mdatabase\u001b[0m\u001b[1;33m\u001b[0m\u001b[1;33m\u001b[0m\u001b[0m\n",
      "\u001b[1;32m~\\Anaconda2\\envs\\py35\\lib\\site-packages\\pymongo\\cursor.py\u001b[0m in \u001b[0;36m_refresh\u001b[1;34m(self)\u001b[0m\n\u001b[0;32m   1102\u001b[0m                                   \u001b[0mself\u001b[0m\u001b[1;33m.\u001b[0m\u001b[0m__session\u001b[0m\u001b[1;33m,\u001b[0m\u001b[1;33m\u001b[0m\u001b[1;33m\u001b[0m\u001b[0m\n\u001b[0;32m   1103\u001b[0m                                   self.__collection.database.client)\n\u001b[1;32m-> 1104\u001b[1;33m             \u001b[0mself\u001b[0m\u001b[1;33m.\u001b[0m\u001b[0m__send_message\u001b[0m\u001b[1;33m(\u001b[0m\u001b[0mq\u001b[0m\u001b[1;33m)\u001b[0m\u001b[1;33m\u001b[0m\u001b[1;33m\u001b[0m\u001b[0m\n\u001b[0m\u001b[0;32m   1105\u001b[0m         \u001b[1;32melif\u001b[0m \u001b[0mself\u001b[0m\u001b[1;33m.\u001b[0m\u001b[0m__id\u001b[0m\u001b[1;33m:\u001b[0m  \u001b[1;31m# Get More\u001b[0m\u001b[1;33m\u001b[0m\u001b[1;33m\u001b[0m\u001b[0m\n\u001b[0;32m   1106\u001b[0m             \u001b[1;32mif\u001b[0m \u001b[0mself\u001b[0m\u001b[1;33m.\u001b[0m\u001b[0m__limit\u001b[0m\u001b[1;33m:\u001b[0m\u001b[1;33m\u001b[0m\u001b[1;33m\u001b[0m\u001b[0m\n",
      "\u001b[1;32m~\\Anaconda2\\envs\\py35\\lib\\site-packages\\pymongo\\cursor.py\u001b[0m in \u001b[0;36m__send_message\u001b[1;34m(self, operation)\u001b[0m\n\u001b[0;32m    929\u001b[0m             \u001b[1;32mtry\u001b[0m\u001b[1;33m:\u001b[0m\u001b[1;33m\u001b[0m\u001b[1;33m\u001b[0m\u001b[0m\n\u001b[0;32m    930\u001b[0m                 response = client._send_message_with_response(\n\u001b[1;32m--> 931\u001b[1;33m                     operation, exhaust=self.__exhaust, address=self.__address)\n\u001b[0m\u001b[0;32m    932\u001b[0m                 \u001b[0mself\u001b[0m\u001b[1;33m.\u001b[0m\u001b[0m__address\u001b[0m \u001b[1;33m=\u001b[0m \u001b[0mresponse\u001b[0m\u001b[1;33m.\u001b[0m\u001b[0maddress\u001b[0m\u001b[1;33m\u001b[0m\u001b[1;33m\u001b[0m\u001b[0m\n\u001b[0;32m    933\u001b[0m                 \u001b[1;32mif\u001b[0m \u001b[0mself\u001b[0m\u001b[1;33m.\u001b[0m\u001b[0m__exhaust\u001b[0m\u001b[1;33m:\u001b[0m\u001b[1;33m\u001b[0m\u001b[1;33m\u001b[0m\u001b[0m\n",
      "\u001b[1;32m~\\Anaconda2\\envs\\py35\\lib\\site-packages\\pymongo\\mongo_client.py\u001b[0m in \u001b[0;36m_send_message_with_response\u001b[1;34m(self, operation, exhaust, address)\u001b[0m\n\u001b[0;32m   1143\u001b[0m             \u001b[0mself\u001b[0m\u001b[1;33m.\u001b[0m\u001b[0m__all_credentials\u001b[0m\u001b[1;33m,\u001b[0m\u001b[1;33m\u001b[0m\u001b[1;33m\u001b[0m\u001b[0m\n\u001b[0;32m   1144\u001b[0m             \u001b[0mself\u001b[0m\u001b[1;33m.\u001b[0m\u001b[0m_event_listeners\u001b[0m\u001b[1;33m,\u001b[0m\u001b[1;33m\u001b[0m\u001b[1;33m\u001b[0m\u001b[0m\n\u001b[1;32m-> 1145\u001b[1;33m             exhaust)\n\u001b[0m\u001b[0;32m   1146\u001b[0m \u001b[1;33m\u001b[0m\u001b[0m\n\u001b[0;32m   1147\u001b[0m     \u001b[1;32mdef\u001b[0m \u001b[0m_reset_on_error\u001b[0m\u001b[1;33m(\u001b[0m\u001b[0mself\u001b[0m\u001b[1;33m,\u001b[0m \u001b[0mserver\u001b[0m\u001b[1;33m,\u001b[0m \u001b[0mfunc\u001b[0m\u001b[1;33m,\u001b[0m \u001b[1;33m*\u001b[0m\u001b[0margs\u001b[0m\u001b[1;33m,\u001b[0m \u001b[1;33m**\u001b[0m\u001b[0mkwargs\u001b[0m\u001b[1;33m)\u001b[0m\u001b[1;33m:\u001b[0m\u001b[1;33m\u001b[0m\u001b[1;33m\u001b[0m\u001b[0m\n",
      "\u001b[1;32m~\\Anaconda2\\envs\\py35\\lib\\site-packages\\pymongo\\mongo_client.py\u001b[0m in \u001b[0;36m_reset_on_error\u001b[1;34m(self, server, func, *args, **kwargs)\u001b[0m\n\u001b[0;32m   1154\u001b[0m         \"\"\"\n\u001b[0;32m   1155\u001b[0m         \u001b[1;32mtry\u001b[0m\u001b[1;33m:\u001b[0m\u001b[1;33m\u001b[0m\u001b[1;33m\u001b[0m\u001b[0m\n\u001b[1;32m-> 1156\u001b[1;33m             \u001b[1;32mreturn\u001b[0m \u001b[0mfunc\u001b[0m\u001b[1;33m(\u001b[0m\u001b[1;33m*\u001b[0m\u001b[0margs\u001b[0m\u001b[1;33m,\u001b[0m \u001b[1;33m**\u001b[0m\u001b[0mkwargs\u001b[0m\u001b[1;33m)\u001b[0m\u001b[1;33m\u001b[0m\u001b[1;33m\u001b[0m\u001b[0m\n\u001b[0m\u001b[0;32m   1157\u001b[0m         \u001b[1;32mexcept\u001b[0m \u001b[0mNetworkTimeout\u001b[0m\u001b[1;33m:\u001b[0m\u001b[1;33m\u001b[0m\u001b[1;33m\u001b[0m\u001b[0m\n\u001b[0;32m   1158\u001b[0m             \u001b[1;31m# The socket has been closed. Don't reset the server.\u001b[0m\u001b[1;33m\u001b[0m\u001b[1;33m\u001b[0m\u001b[1;33m\u001b[0m\u001b[0m\n",
      "\u001b[1;32m~\\Anaconda2\\envs\\py35\\lib\\site-packages\\pymongo\\server.py\u001b[0m in \u001b[0;36msend_message_with_response\u001b[1;34m(self, operation, set_slave_okay, all_credentials, listeners, exhaust)\u001b[0m\n\u001b[0;32m     83\u001b[0m             \u001b[0mIt\u001b[0m \u001b[1;32mis\u001b[0m \u001b[0mreturned\u001b[0m \u001b[0malong\u001b[0m \u001b[1;32mwith\u001b[0m \u001b[0mits\u001b[0m \u001b[0mPool\u001b[0m \u001b[1;32min\u001b[0m \u001b[0mthe\u001b[0m \u001b[0mResponse\u001b[0m\u001b[1;33m.\u001b[0m\u001b[1;33m\u001b[0m\u001b[1;33m\u001b[0m\u001b[0m\n\u001b[0;32m     84\u001b[0m         \"\"\"\n\u001b[1;32m---> 85\u001b[1;33m         \u001b[1;32mwith\u001b[0m \u001b[0mself\u001b[0m\u001b[1;33m.\u001b[0m\u001b[0mget_socket\u001b[0m\u001b[1;33m(\u001b[0m\u001b[0mall_credentials\u001b[0m\u001b[1;33m,\u001b[0m \u001b[0mexhaust\u001b[0m\u001b[1;33m)\u001b[0m \u001b[1;32mas\u001b[0m \u001b[0msock_info\u001b[0m\u001b[1;33m:\u001b[0m\u001b[1;33m\u001b[0m\u001b[1;33m\u001b[0m\u001b[0m\n\u001b[0m\u001b[0;32m     86\u001b[0m \u001b[1;33m\u001b[0m\u001b[0m\n\u001b[0;32m     87\u001b[0m             \u001b[0mduration\u001b[0m \u001b[1;33m=\u001b[0m \u001b[1;32mNone\u001b[0m\u001b[1;33m\u001b[0m\u001b[1;33m\u001b[0m\u001b[0m\n",
      "\u001b[1;32m~\\Anaconda2\\envs\\py35\\lib\\contextlib.py\u001b[0m in \u001b[0;36m__enter__\u001b[1;34m(self)\u001b[0m\n\u001b[0;32m    110\u001b[0m         \u001b[1;32mdel\u001b[0m \u001b[0mself\u001b[0m\u001b[1;33m.\u001b[0m\u001b[0margs\u001b[0m\u001b[1;33m,\u001b[0m \u001b[0mself\u001b[0m\u001b[1;33m.\u001b[0m\u001b[0mkwds\u001b[0m\u001b[1;33m,\u001b[0m \u001b[0mself\u001b[0m\u001b[1;33m.\u001b[0m\u001b[0mfunc\u001b[0m\u001b[1;33m\u001b[0m\u001b[1;33m\u001b[0m\u001b[0m\n\u001b[0;32m    111\u001b[0m         \u001b[1;32mtry\u001b[0m\u001b[1;33m:\u001b[0m\u001b[1;33m\u001b[0m\u001b[1;33m\u001b[0m\u001b[0m\n\u001b[1;32m--> 112\u001b[1;33m             \u001b[1;32mreturn\u001b[0m \u001b[0mnext\u001b[0m\u001b[1;33m(\u001b[0m\u001b[0mself\u001b[0m\u001b[1;33m.\u001b[0m\u001b[0mgen\u001b[0m\u001b[1;33m)\u001b[0m\u001b[1;33m\u001b[0m\u001b[1;33m\u001b[0m\u001b[0m\n\u001b[0m\u001b[0;32m    113\u001b[0m         \u001b[1;32mexcept\u001b[0m \u001b[0mStopIteration\u001b[0m\u001b[1;33m:\u001b[0m\u001b[1;33m\u001b[0m\u001b[1;33m\u001b[0m\u001b[0m\n\u001b[0;32m    114\u001b[0m             \u001b[1;32mraise\u001b[0m \u001b[0mRuntimeError\u001b[0m\u001b[1;33m(\u001b[0m\u001b[1;34m\"generator didn't yield\"\u001b[0m\u001b[1;33m)\u001b[0m \u001b[1;32mfrom\u001b[0m \u001b[1;32mNone\u001b[0m\u001b[1;33m\u001b[0m\u001b[1;33m\u001b[0m\u001b[0m\n",
      "\u001b[1;32m~\\Anaconda2\\envs\\py35\\lib\\site-packages\\pymongo\\pool.py\u001b[0m in \u001b[0;36mget_socket\u001b[1;34m(self, all_credentials, checkout)\u001b[0m\n\u001b[0;32m   1002\u001b[0m         \u001b[1;31m# First get a socket, then attempt authentication. Simplifies\u001b[0m\u001b[1;33m\u001b[0m\u001b[1;33m\u001b[0m\u001b[1;33m\u001b[0m\u001b[0m\n\u001b[0;32m   1003\u001b[0m         \u001b[1;31m# semaphore management in the face of network errors during auth.\u001b[0m\u001b[1;33m\u001b[0m\u001b[1;33m\u001b[0m\u001b[1;33m\u001b[0m\u001b[0m\n\u001b[1;32m-> 1004\u001b[1;33m         \u001b[0msock_info\u001b[0m \u001b[1;33m=\u001b[0m \u001b[0mself\u001b[0m\u001b[1;33m.\u001b[0m\u001b[0m_get_socket_no_auth\u001b[0m\u001b[1;33m(\u001b[0m\u001b[1;33m)\u001b[0m\u001b[1;33m\u001b[0m\u001b[1;33m\u001b[0m\u001b[0m\n\u001b[0m\u001b[0;32m   1005\u001b[0m         \u001b[1;32mtry\u001b[0m\u001b[1;33m:\u001b[0m\u001b[1;33m\u001b[0m\u001b[1;33m\u001b[0m\u001b[0m\n\u001b[0;32m   1006\u001b[0m             \u001b[0msock_info\u001b[0m\u001b[1;33m.\u001b[0m\u001b[0mcheck_auth\u001b[0m\u001b[1;33m(\u001b[0m\u001b[0mall_credentials\u001b[0m\u001b[1;33m)\u001b[0m\u001b[1;33m\u001b[0m\u001b[1;33m\u001b[0m\u001b[0m\n",
      "\u001b[1;32m~\\Anaconda2\\envs\\py35\\lib\\site-packages\\pymongo\\pool.py\u001b[0m in \u001b[0;36m_get_socket_no_auth\u001b[1;34m(self)\u001b[0m\n\u001b[0;32m   1042\u001b[0m             \u001b[1;32melse\u001b[0m\u001b[1;33m:\u001b[0m\u001b[1;33m\u001b[0m\u001b[1;33m\u001b[0m\u001b[0m\n\u001b[0;32m   1043\u001b[0m                 \u001b[1;31m# Can raise ConnectionFailure.\u001b[0m\u001b[1;33m\u001b[0m\u001b[1;33m\u001b[0m\u001b[1;33m\u001b[0m\u001b[0m\n\u001b[1;32m-> 1044\u001b[1;33m                 \u001b[0msock_info\u001b[0m \u001b[1;33m=\u001b[0m \u001b[0mself\u001b[0m\u001b[1;33m.\u001b[0m\u001b[0m_check\u001b[0m\u001b[1;33m(\u001b[0m\u001b[0msock_info\u001b[0m\u001b[1;33m)\u001b[0m\u001b[1;33m\u001b[0m\u001b[1;33m\u001b[0m\u001b[0m\n\u001b[0m\u001b[0;32m   1045\u001b[0m         \u001b[1;32mexcept\u001b[0m\u001b[1;33m:\u001b[0m\u001b[1;33m\u001b[0m\u001b[1;33m\u001b[0m\u001b[0m\n\u001b[0;32m   1046\u001b[0m             \u001b[0mself\u001b[0m\u001b[1;33m.\u001b[0m\u001b[0m_socket_semaphore\u001b[0m\u001b[1;33m.\u001b[0m\u001b[0mrelease\u001b[0m\u001b[1;33m(\u001b[0m\u001b[1;33m)\u001b[0m\u001b[1;33m\u001b[0m\u001b[1;33m\u001b[0m\u001b[0m\n",
      "\u001b[1;32m~\\Anaconda2\\envs\\py35\\lib\\site-packages\\pymongo\\pool.py\u001b[0m in \u001b[0;36m_check\u001b[1;34m(self, sock_info)\u001b[0m\n\u001b[0;32m   1093\u001b[0m             \u001b[1;32mif\u001b[0m \u001b[0mself\u001b[0m\u001b[1;33m.\u001b[0m\u001b[0msocket_checker\u001b[0m\u001b[1;33m.\u001b[0m\u001b[0msocket_closed\u001b[0m\u001b[1;33m(\u001b[0m\u001b[0msock_info\u001b[0m\u001b[1;33m.\u001b[0m\u001b[0msock\u001b[0m\u001b[1;33m)\u001b[0m\u001b[1;33m:\u001b[0m\u001b[1;33m\u001b[0m\u001b[1;33m\u001b[0m\u001b[0m\n\u001b[0;32m   1094\u001b[0m                 \u001b[0msock_info\u001b[0m\u001b[1;33m.\u001b[0m\u001b[0mclose\u001b[0m\u001b[1;33m(\u001b[0m\u001b[1;33m)\u001b[0m\u001b[1;33m\u001b[0m\u001b[1;33m\u001b[0m\u001b[0m\n\u001b[1;32m-> 1095\u001b[1;33m                 \u001b[1;32mreturn\u001b[0m \u001b[0mself\u001b[0m\u001b[1;33m.\u001b[0m\u001b[0mconnect\u001b[0m\u001b[1;33m(\u001b[0m\u001b[1;33m)\u001b[0m\u001b[1;33m\u001b[0m\u001b[1;33m\u001b[0m\u001b[0m\n\u001b[0m\u001b[0;32m   1096\u001b[0m \u001b[1;33m\u001b[0m\u001b[0m\n\u001b[0;32m   1097\u001b[0m         \u001b[1;32mreturn\u001b[0m \u001b[0msock_info\u001b[0m\u001b[1;33m\u001b[0m\u001b[1;33m\u001b[0m\u001b[0m\n",
      "\u001b[1;32m~\\Anaconda2\\envs\\py35\\lib\\site-packages\\pymongo\\pool.py\u001b[0m in \u001b[0;36mconnect\u001b[1;34m(self)\u001b[0m\n\u001b[0;32m    970\u001b[0m             \u001b[1;32mif\u001b[0m \u001b[0msock\u001b[0m \u001b[1;32mis\u001b[0m \u001b[1;32mnot\u001b[0m \u001b[1;32mNone\u001b[0m\u001b[1;33m:\u001b[0m\u001b[1;33m\u001b[0m\u001b[1;33m\u001b[0m\u001b[0m\n\u001b[0;32m    971\u001b[0m                 \u001b[0msock\u001b[0m\u001b[1;33m.\u001b[0m\u001b[0mclose\u001b[0m\u001b[1;33m(\u001b[0m\u001b[1;33m)\u001b[0m\u001b[1;33m\u001b[0m\u001b[1;33m\u001b[0m\u001b[0m\n\u001b[1;32m--> 972\u001b[1;33m             \u001b[0m_raise_connection_failure\u001b[0m\u001b[1;33m(\u001b[0m\u001b[0mself\u001b[0m\u001b[1;33m.\u001b[0m\u001b[0maddress\u001b[0m\u001b[1;33m,\u001b[0m \u001b[0merror\u001b[0m\u001b[1;33m)\u001b[0m\u001b[1;33m\u001b[0m\u001b[1;33m\u001b[0m\u001b[0m\n\u001b[0m\u001b[0;32m    973\u001b[0m \u001b[1;33m\u001b[0m\u001b[0m\n\u001b[0;32m    974\u001b[0m         \u001b[0msock_info\u001b[0m \u001b[1;33m=\u001b[0m \u001b[0mSocketInfo\u001b[0m\u001b[1;33m(\u001b[0m\u001b[0msock\u001b[0m\u001b[1;33m,\u001b[0m \u001b[0mself\u001b[0m\u001b[1;33m,\u001b[0m \u001b[0mself\u001b[0m\u001b[1;33m.\u001b[0m\u001b[0maddress\u001b[0m\u001b[1;33m)\u001b[0m\u001b[1;33m\u001b[0m\u001b[1;33m\u001b[0m\u001b[0m\n",
      "\u001b[1;32m~\\Anaconda2\\envs\\py35\\lib\\site-packages\\pymongo\\pool.py\u001b[0m in \u001b[0;36m_raise_connection_failure\u001b[1;34m(address, error, msg_prefix)\u001b[0m\n\u001b[0;32m    281\u001b[0m         \u001b[1;32mraise\u001b[0m \u001b[0mNetworkTimeout\u001b[0m\u001b[1;33m(\u001b[0m\u001b[0mmsg\u001b[0m\u001b[1;33m)\u001b[0m\u001b[1;33m\u001b[0m\u001b[1;33m\u001b[0m\u001b[0m\n\u001b[0;32m    282\u001b[0m     \u001b[1;32melse\u001b[0m\u001b[1;33m:\u001b[0m\u001b[1;33m\u001b[0m\u001b[1;33m\u001b[0m\u001b[0m\n\u001b[1;32m--> 283\u001b[1;33m         \u001b[1;32mraise\u001b[0m \u001b[0mAutoReconnect\u001b[0m\u001b[1;33m(\u001b[0m\u001b[0mmsg\u001b[0m\u001b[1;33m)\u001b[0m\u001b[1;33m\u001b[0m\u001b[1;33m\u001b[0m\u001b[0m\n\u001b[0m\u001b[0;32m    284\u001b[0m \u001b[1;33m\u001b[0m\u001b[0m\n\u001b[0;32m    285\u001b[0m \u001b[1;33m\u001b[0m\u001b[0m\n",
      "\u001b[1;31mAutoReconnect\u001b[0m: localhost:27017: [WinError 10061] 대상 컴퓨터에서 연결을 거부했으므로 연결하지 못했습니다"
     ]
    }
   ],
   "source": [
    "db.db_open_subwayTable.find_one()"
   ]
  },
  {
   "cell_type": "code",
   "execution_count": 168,
   "metadata": {
    "scrolled": false
   },
   "outputs": [
    {
     "ename": "ServerSelectionTimeoutError",
     "evalue": "localhost:27017: [WinError 10061] 대상 컴퓨터에서 연결을 거부했으므로 연결하지 못했습니다",
     "output_type": "error",
     "traceback": [
      "\u001b[1;31m---------------------------------------------------------------------------\u001b[0m",
      "\u001b[1;31mServerSelectionTimeoutError\u001b[0m               Traceback (most recent call last)",
      "\u001b[1;32m<ipython-input-168-8d62c793be7c>\u001b[0m in \u001b[0;36m<module>\u001b[1;34m\u001b[0m\n\u001b[1;32m----> 1\u001b[1;33m \u001b[0mdb\u001b[0m\u001b[1;33m.\u001b[0m\u001b[0mdb_open_subwayTable\u001b[0m\u001b[1;33m.\u001b[0m\u001b[0mfind_one\u001b[0m\u001b[1;33m(\u001b[0m\u001b[1;33m{\u001b[0m\u001b[1;34m\"CardSubwayTime.row.SUB_STA_NM\"\u001b[0m\u001b[1;33m:\u001b[0m\u001b[1;34m\"서울역\"\u001b[0m\u001b[1;33m}\u001b[0m\u001b[1;33m)\u001b[0m\u001b[1;33m\u001b[0m\u001b[1;33m\u001b[0m\u001b[0m\n\u001b[0m",
      "\u001b[1;32m~\\Anaconda2\\envs\\py35\\lib\\site-packages\\pymongo\\collection.py\u001b[0m in \u001b[0;36mfind_one\u001b[1;34m(self, filter, *args, **kwargs)\u001b[0m\n\u001b[0;32m   1260\u001b[0m \u001b[1;33m\u001b[0m\u001b[0m\n\u001b[0;32m   1261\u001b[0m         \u001b[0mcursor\u001b[0m \u001b[1;33m=\u001b[0m \u001b[0mself\u001b[0m\u001b[1;33m.\u001b[0m\u001b[0mfind\u001b[0m\u001b[1;33m(\u001b[0m\u001b[0mfilter\u001b[0m\u001b[1;33m,\u001b[0m \u001b[1;33m*\u001b[0m\u001b[0margs\u001b[0m\u001b[1;33m,\u001b[0m \u001b[1;33m**\u001b[0m\u001b[0mkwargs\u001b[0m\u001b[1;33m)\u001b[0m\u001b[1;33m\u001b[0m\u001b[1;33m\u001b[0m\u001b[0m\n\u001b[1;32m-> 1262\u001b[1;33m         \u001b[1;32mfor\u001b[0m \u001b[0mresult\u001b[0m \u001b[1;32min\u001b[0m \u001b[0mcursor\u001b[0m\u001b[1;33m.\u001b[0m\u001b[0mlimit\u001b[0m\u001b[1;33m(\u001b[0m\u001b[1;33m-\u001b[0m\u001b[1;36m1\u001b[0m\u001b[1;33m)\u001b[0m\u001b[1;33m:\u001b[0m\u001b[1;33m\u001b[0m\u001b[1;33m\u001b[0m\u001b[0m\n\u001b[0m\u001b[0;32m   1263\u001b[0m             \u001b[1;32mreturn\u001b[0m \u001b[0mresult\u001b[0m\u001b[1;33m\u001b[0m\u001b[1;33m\u001b[0m\u001b[0m\n\u001b[0;32m   1264\u001b[0m         \u001b[1;32mreturn\u001b[0m \u001b[1;32mNone\u001b[0m\u001b[1;33m\u001b[0m\u001b[1;33m\u001b[0m\u001b[0m\n",
      "\u001b[1;32m~\\Anaconda2\\envs\\py35\\lib\\site-packages\\pymongo\\cursor.py\u001b[0m in \u001b[0;36mnext\u001b[1;34m(self)\u001b[0m\n\u001b[0;32m   1187\u001b[0m         \u001b[1;32mif\u001b[0m \u001b[0mself\u001b[0m\u001b[1;33m.\u001b[0m\u001b[0m__empty\u001b[0m\u001b[1;33m:\u001b[0m\u001b[1;33m\u001b[0m\u001b[1;33m\u001b[0m\u001b[0m\n\u001b[0;32m   1188\u001b[0m             \u001b[1;32mraise\u001b[0m \u001b[0mStopIteration\u001b[0m\u001b[1;33m\u001b[0m\u001b[1;33m\u001b[0m\u001b[0m\n\u001b[1;32m-> 1189\u001b[1;33m         \u001b[1;32mif\u001b[0m \u001b[0mlen\u001b[0m\u001b[1;33m(\u001b[0m\u001b[0mself\u001b[0m\u001b[1;33m.\u001b[0m\u001b[0m__data\u001b[0m\u001b[1;33m)\u001b[0m \u001b[1;32mor\u001b[0m \u001b[0mself\u001b[0m\u001b[1;33m.\u001b[0m\u001b[0m_refresh\u001b[0m\u001b[1;33m(\u001b[0m\u001b[1;33m)\u001b[0m\u001b[1;33m:\u001b[0m\u001b[1;33m\u001b[0m\u001b[1;33m\u001b[0m\u001b[0m\n\u001b[0m\u001b[0;32m   1190\u001b[0m             \u001b[1;32mif\u001b[0m \u001b[0mself\u001b[0m\u001b[1;33m.\u001b[0m\u001b[0m__manipulate\u001b[0m\u001b[1;33m:\u001b[0m\u001b[1;33m\u001b[0m\u001b[1;33m\u001b[0m\u001b[0m\n\u001b[0;32m   1191\u001b[0m                 \u001b[0m_db\u001b[0m \u001b[1;33m=\u001b[0m \u001b[0mself\u001b[0m\u001b[1;33m.\u001b[0m\u001b[0m__collection\u001b[0m\u001b[1;33m.\u001b[0m\u001b[0mdatabase\u001b[0m\u001b[1;33m\u001b[0m\u001b[1;33m\u001b[0m\u001b[0m\n",
      "\u001b[1;32m~\\Anaconda2\\envs\\py35\\lib\\site-packages\\pymongo\\cursor.py\u001b[0m in \u001b[0;36m_refresh\u001b[1;34m(self)\u001b[0m\n\u001b[0;32m   1085\u001b[0m \u001b[1;33m\u001b[0m\u001b[0m\n\u001b[0;32m   1086\u001b[0m         \u001b[1;32mif\u001b[0m \u001b[1;32mnot\u001b[0m \u001b[0mself\u001b[0m\u001b[1;33m.\u001b[0m\u001b[0m__session\u001b[0m\u001b[1;33m:\u001b[0m\u001b[1;33m\u001b[0m\u001b[1;33m\u001b[0m\u001b[0m\n\u001b[1;32m-> 1087\u001b[1;33m             \u001b[0mself\u001b[0m\u001b[1;33m.\u001b[0m\u001b[0m__session\u001b[0m \u001b[1;33m=\u001b[0m \u001b[0mself\u001b[0m\u001b[1;33m.\u001b[0m\u001b[0m__collection\u001b[0m\u001b[1;33m.\u001b[0m\u001b[0mdatabase\u001b[0m\u001b[1;33m.\u001b[0m\u001b[0mclient\u001b[0m\u001b[1;33m.\u001b[0m\u001b[0m_ensure_session\u001b[0m\u001b[1;33m(\u001b[0m\u001b[1;33m)\u001b[0m\u001b[1;33m\u001b[0m\u001b[1;33m\u001b[0m\u001b[0m\n\u001b[0m\u001b[0;32m   1088\u001b[0m \u001b[1;33m\u001b[0m\u001b[0m\n\u001b[0;32m   1089\u001b[0m         \u001b[1;32mif\u001b[0m \u001b[0mself\u001b[0m\u001b[1;33m.\u001b[0m\u001b[0m__id\u001b[0m \u001b[1;32mis\u001b[0m \u001b[1;32mNone\u001b[0m\u001b[1;33m:\u001b[0m  \u001b[1;31m# Query\u001b[0m\u001b[1;33m\u001b[0m\u001b[1;33m\u001b[0m\u001b[0m\n",
      "\u001b[1;32m~\\Anaconda2\\envs\\py35\\lib\\site-packages\\pymongo\\mongo_client.py\u001b[0m in \u001b[0;36m_ensure_session\u001b[1;34m(self, session)\u001b[0m\n\u001b[0;32m   1561\u001b[0m             \u001b[1;31m# Don't make implicit sessions causally consistent. Applications\u001b[0m\u001b[1;33m\u001b[0m\u001b[1;33m\u001b[0m\u001b[1;33m\u001b[0m\u001b[0m\n\u001b[0;32m   1562\u001b[0m             \u001b[1;31m# should always opt-in.\u001b[0m\u001b[1;33m\u001b[0m\u001b[1;33m\u001b[0m\u001b[1;33m\u001b[0m\u001b[0m\n\u001b[1;32m-> 1563\u001b[1;33m             \u001b[1;32mreturn\u001b[0m \u001b[0mself\u001b[0m\u001b[1;33m.\u001b[0m\u001b[0m__start_session\u001b[0m\u001b[1;33m(\u001b[0m\u001b[1;32mTrue\u001b[0m\u001b[1;33m,\u001b[0m \u001b[0mcausal_consistency\u001b[0m\u001b[1;33m=\u001b[0m\u001b[1;32mFalse\u001b[0m\u001b[1;33m)\u001b[0m\u001b[1;33m\u001b[0m\u001b[1;33m\u001b[0m\u001b[0m\n\u001b[0m\u001b[0;32m   1564\u001b[0m         \u001b[1;32mexcept\u001b[0m \u001b[1;33m(\u001b[0m\u001b[0mConfigurationError\u001b[0m\u001b[1;33m,\u001b[0m \u001b[0mInvalidOperation\u001b[0m\u001b[1;33m)\u001b[0m\u001b[1;33m:\u001b[0m\u001b[1;33m\u001b[0m\u001b[1;33m\u001b[0m\u001b[0m\n\u001b[0;32m   1565\u001b[0m             \u001b[1;31m# Sessions not supported, or multiple users authenticated.\u001b[0m\u001b[1;33m\u001b[0m\u001b[1;33m\u001b[0m\u001b[1;33m\u001b[0m\u001b[0m\n",
      "\u001b[1;32m~\\Anaconda2\\envs\\py35\\lib\\site-packages\\pymongo\\mongo_client.py\u001b[0m in \u001b[0;36m__start_session\u001b[1;34m(self, implicit, **kwargs)\u001b[0m\n\u001b[0;32m   1514\u001b[0m \u001b[1;33m\u001b[0m\u001b[0m\n\u001b[0;32m   1515\u001b[0m         \u001b[1;31m# Raises ConfigurationError if sessions are not supported.\u001b[0m\u001b[1;33m\u001b[0m\u001b[1;33m\u001b[0m\u001b[1;33m\u001b[0m\u001b[0m\n\u001b[1;32m-> 1516\u001b[1;33m         \u001b[0mserver_session\u001b[0m \u001b[1;33m=\u001b[0m \u001b[0mself\u001b[0m\u001b[1;33m.\u001b[0m\u001b[0m_get_server_session\u001b[0m\u001b[1;33m(\u001b[0m\u001b[1;33m)\u001b[0m\u001b[1;33m\u001b[0m\u001b[1;33m\u001b[0m\u001b[0m\n\u001b[0m\u001b[0;32m   1517\u001b[0m         \u001b[0mopts\u001b[0m \u001b[1;33m=\u001b[0m \u001b[0mclient_session\u001b[0m\u001b[1;33m.\u001b[0m\u001b[0mSessionOptions\u001b[0m\u001b[1;33m(\u001b[0m\u001b[1;33m**\u001b[0m\u001b[0mkwargs\u001b[0m\u001b[1;33m)\u001b[0m\u001b[1;33m\u001b[0m\u001b[1;33m\u001b[0m\u001b[0m\n\u001b[0;32m   1518\u001b[0m         return client_session.ClientSession(\n",
      "\u001b[1;32m~\\Anaconda2\\envs\\py35\\lib\\site-packages\\pymongo\\mongo_client.py\u001b[0m in \u001b[0;36m_get_server_session\u001b[1;34m(self)\u001b[0m\n\u001b[0;32m   1547\u001b[0m     \u001b[1;32mdef\u001b[0m \u001b[0m_get_server_session\u001b[0m\u001b[1;33m(\u001b[0m\u001b[0mself\u001b[0m\u001b[1;33m)\u001b[0m\u001b[1;33m:\u001b[0m\u001b[1;33m\u001b[0m\u001b[1;33m\u001b[0m\u001b[0m\n\u001b[0;32m   1548\u001b[0m         \u001b[1;34m\"\"\"Internal: start or resume a _ServerSession.\"\"\"\u001b[0m\u001b[1;33m\u001b[0m\u001b[1;33m\u001b[0m\u001b[0m\n\u001b[1;32m-> 1549\u001b[1;33m         \u001b[1;32mreturn\u001b[0m \u001b[0mself\u001b[0m\u001b[1;33m.\u001b[0m\u001b[0m_topology\u001b[0m\u001b[1;33m.\u001b[0m\u001b[0mget_server_session\u001b[0m\u001b[1;33m(\u001b[0m\u001b[1;33m)\u001b[0m\u001b[1;33m\u001b[0m\u001b[1;33m\u001b[0m\u001b[0m\n\u001b[0m\u001b[0;32m   1550\u001b[0m \u001b[1;33m\u001b[0m\u001b[0m\n\u001b[0;32m   1551\u001b[0m     \u001b[1;32mdef\u001b[0m \u001b[0m_return_server_session\u001b[0m\u001b[1;33m(\u001b[0m\u001b[0mself\u001b[0m\u001b[1;33m,\u001b[0m \u001b[0mserver_session\u001b[0m\u001b[1;33m,\u001b[0m \u001b[0mlock\u001b[0m\u001b[1;33m)\u001b[0m\u001b[1;33m:\u001b[0m\u001b[1;33m\u001b[0m\u001b[1;33m\u001b[0m\u001b[0m\n",
      "\u001b[1;32m~\\Anaconda2\\envs\\py35\\lib\\site-packages\\pymongo\\topology.py\u001b[0m in \u001b[0;36mget_server_session\u001b[1;34m(self)\u001b[0m\n\u001b[0;32m    425\u001b[0m                             \u001b[0many_server_selector\u001b[0m\u001b[1;33m,\u001b[0m\u001b[1;33m\u001b[0m\u001b[1;33m\u001b[0m\u001b[0m\n\u001b[0;32m    426\u001b[0m                             \u001b[0mself\u001b[0m\u001b[1;33m.\u001b[0m\u001b[0m_settings\u001b[0m\u001b[1;33m.\u001b[0m\u001b[0mserver_selection_timeout\u001b[0m\u001b[1;33m,\u001b[0m\u001b[1;33m\u001b[0m\u001b[1;33m\u001b[0m\u001b[0m\n\u001b[1;32m--> 427\u001b[1;33m                             None)\n\u001b[0m\u001b[0;32m    428\u001b[0m                 \u001b[1;32melif\u001b[0m \u001b[1;32mnot\u001b[0m \u001b[0mself\u001b[0m\u001b[1;33m.\u001b[0m\u001b[0m_description\u001b[0m\u001b[1;33m.\u001b[0m\u001b[0mreadable_servers\u001b[0m\u001b[1;33m:\u001b[0m\u001b[1;33m\u001b[0m\u001b[1;33m\u001b[0m\u001b[0m\n\u001b[0;32m    429\u001b[0m                     self._select_servers_loop(\n",
      "\u001b[1;32m~\\Anaconda2\\envs\\py35\\lib\\site-packages\\pymongo\\topology.py\u001b[0m in \u001b[0;36m_select_servers_loop\u001b[1;34m(self, selector, timeout, address)\u001b[0m\n\u001b[0;32m    197\u001b[0m             \u001b[1;32mif\u001b[0m \u001b[0mtimeout\u001b[0m \u001b[1;33m==\u001b[0m \u001b[1;36m0\u001b[0m \u001b[1;32mor\u001b[0m \u001b[0mnow\u001b[0m \u001b[1;33m>\u001b[0m \u001b[0mend_time\u001b[0m\u001b[1;33m:\u001b[0m\u001b[1;33m\u001b[0m\u001b[1;33m\u001b[0m\u001b[0m\n\u001b[0;32m    198\u001b[0m                 raise ServerSelectionTimeoutError(\n\u001b[1;32m--> 199\u001b[1;33m                     self._error_message(selector))\n\u001b[0m\u001b[0;32m    200\u001b[0m \u001b[1;33m\u001b[0m\u001b[0m\n\u001b[0;32m    201\u001b[0m             \u001b[0mself\u001b[0m\u001b[1;33m.\u001b[0m\u001b[0m_ensure_opened\u001b[0m\u001b[1;33m(\u001b[0m\u001b[1;33m)\u001b[0m\u001b[1;33m\u001b[0m\u001b[1;33m\u001b[0m\u001b[0m\n",
      "\u001b[1;31mServerSelectionTimeoutError\u001b[0m: localhost:27017: [WinError 10061] 대상 컴퓨터에서 연결을 거부했으므로 연결하지 못했습니다"
     ]
    }
   ],
   "source": [
    "db.db_open_subwayTable.find_one({\"CardSubwayTime.row.SUB_STA_NM\":\"서울역\"})"
   ]
  },
  {
   "cell_type": "markdown",
   "metadata": {},
   "source": [
    "#### MongoDB cli 결과의 확인\n",
    "\n",
    "* MongoDB cli로 올바르게 저장되었는지 확인한다.\n",
    "    * db명: use ds_open_subwayPassengers_mongo_db\n",
    "    * table (또는 Collection)명: db_open_subwayTable\n",
    "    * dictionary 하위 계층은 dot (.)으로 나타낸다.\n",
    "\n",
    "```\n",
    "db.db_open_subwayTable.find({\"CardSubwayStatisticsService.row.LINE_NUM\":\"분당선\"})\n",
    "```"
   ]
  },
  {
   "cell_type": "markdown",
   "metadata": {},
   "source": [
    "```\n",
    "# DB 존재하는지 확인\n",
    "> show dbs\n",
    "admin                       0.000GB\n",
    "config                      0.000GB\n",
    "ds_open_subwayPassengersDb  0.000GB\n",
    "local                       0.000GB\n",
    "myDB                        0.000GB\n",
    "\n",
    "# DB를 스위치\n",
    "> use ds_open_subwayPassengersDb\n",
    "switched to db ds_open_subwayPassengersDb\n",
    "# 테이블이 존재하는지 확인\n",
    "> show collections\n",
    "db_open_subwayTable\n",
    "# 전체 조회\n",
    "> db.db_open_subwayTable.find()\n",
    "{ \"_id\" : ObjectId(\"61137bf8f5e6e92365141908\"), \"CardSubwayTime\" : { \"row\" : [ { \"FOUR_ALIGHT_NUM\" : 2, \"USE_MON\" : \"202106\", \"LINE_NUM\" : \"4호선\", \"FIFTEEN_RIDE_NUM\" : 41976, \"TWENTY_TWO_RIDE_NUM\" : 21941, \"WORK_DT\" : \"20210703\", \"FIVE_ALIGHT_NUM\" : 3189, \"SUB_STA_NM\" : \"수유(강북구청)\", \"FIVE_RIDE_NUM\" : 20175, \"EIGHTEEN_ALIGHT_NUM\" : 120945, \"FOURTEEN_ALIGHT_NUM\" : 38917, \"SEVEN_RIDE_NUM\" : 112544, \"NINETEEN_ALIGHT_NUM\" : 107258, \"TWO_ALIGHT_NUM\" : 0, \"TEN_RIDE_NUM\" : 49660, \"TEN_ALIGHT_NUM\" : 29079, \"TWENTY_ALIGHT_NUM\" : 61064, \"EIGHTEEN_RIDE_NUM\" : 57381, \"TWELVE_ALIGHT_NUM\" : 32699, \"TWENTY_THREE_RIDE_NUM\" : 5303, \"NINE_ALIGHT_NUM\" : 35887, \"THIRTEEN_ALIGHT_NUM\" : 36311, \"NINE_RIDE_NUM\" : 73327, \"ONE_RIDE_NUM\" : 0, \"SIX_RIDE_NUM\" : 46364, \"THREE_RIDE_NUM\" : 0, \"TWENTY_TWO_ALIGHT_NUM\" : 53867, \"TWO_RIDE_NUM\" : 0, \"SEVEN_ALIGHT_NUM\" : 20284, \"THREE_ALIGHT_NUM\" : 0, \"ELEVEN_RIDE_NUM\" : 44519, \"ONE_ALIGHT_NUM\" : 2, \"NINETEEN_RIDE_NUM\" : 32944, \"MIDNIGHT_ALIGHT_NUM\" : 93, \"TWENTY_THREE_ALIGHT_NUM\" : 30549, \"FOUR_RIDE_NUM\" : 79, \"TWENTY_RIDE_NUM\" : 25718, \"THIRTEEN_RIDE_NUM\" : 44637, \"SIX_ALIGHT_NUM\" : 12476, \"ELEVEN_ALIGHT_NUM\" : 29079, \"TWENTY_ONE_ALIGHT_NUM\" : 53950, \"SEVENTEEN_ALIGHT_NUM\" : 75523, \"SIXTEEN_ALIGHT_NUM\" : 59013, \"EIGHT_ALIGHT_NUM\" : 55754, \"FOURTEEN_RIDE_NUM\" : 41859, \"SIXTEEN_RIDE_NUM\" : 47604, \"TWENTY_ONE_RIDE_NUM\" : 24877, \"FIFTEEN_ALIGHT_NUM\" : 47323, \"TWELVE_RIDE_NUM\" : 45599, \"SEVENTEEN_RIDE_NUM\" : 52766, \"MIDNIGHT_RIDE_NUM\" : 4, \"EIGHT_RIDE_NUM\" : 125803 },..., \"list_total_count\" : 608 } }\n",
    "\n",
    "# 특정항목 조회\n",
    "> db.db_open_subwayTable.find({\"CardSubwayTime.row.SUB_STA_NM\":\"서울역\"})\n",
    "{ \"_id\" : ObjectId(\"61137bf7f5e6e923651418f5\"), \"CardSubwayTime\" : { \"row\" : [ { \"FOUR_ALIGHT_NUM\" : 17, \"USE_MON\" : \"202106\", \"LINE_NUM\" : \"1호선\", \"FIFTEEN_RIDE_NUM\" : 65767, \"TWENTY_TWO_RIDE_NUM\" : 44921, \"WORK_DT\" : \"20210703\", \"MIDNIGHT_RIDE_NUM\" : 25, \"EIGHT_RIDE_NUM\" : 7412 } ], \"RESULT\" : { \"MESSAGE\" : \"정상 처리되었습니다\", \"CODE\" : \"INFO-000\" }, \"list_total_count\" : 608 } }\n",
    "```"
   ]
  },
  {
   "cell_type": "code",
   "execution_count": null,
   "metadata": {
    "slideshow": {
     "slide_type": "subslide"
    }
   },
   "outputs": [],
   "source": [
    "%%writefile src/ds_open_subwayTime_mongo.js\n",
    "show dbs\n",
    "use ds_open_subwayPassengersDb\n",
    "show collections\n",
    "db.db_open_subwayTable.find()\n",
    "db.db_open_subwayTable.find({\"CardSubwayTime.row.SUB_STA_NM\":\"서울역\"})"
   ]
  },
  {
   "cell_type": "code",
   "execution_count": null,
   "metadata": {
    "slideshow": {
     "slide_type": "subslide"
    }
   },
   "outputs": [],
   "source": [
    "!mongo < src/ds_open_subwayTime_mongo.js"
   ]
  },
  {
   "cell_type": "markdown",
   "metadata": {
    "slideshow": {
     "slide_type": "slide"
    }
   },
   "source": [
    "## 문제 7: 버스 승하차 인원 월별 정류장별 인원\n",
    "\n",
    "* 2015년 7016번 정류장별로 승하차인원을 월별로 합계구하기\n",
    "* '서울시 버스노선별/정류장별 승하차인원 정보'\n",
    "    * 월별 버스노선별, 정류장별 승하차 인원\n",
    "    \n",
    "CardSubwayTime API 호출에 필요한 인자를 정리하면 다음과 같다.\n",
    "\n",
    "변수명 | 타입 | 설명 \n",
    "-----|-----|-----\n",
    "KEY | String | 발급받은 인증키\n",
    "TYPE | String | xml, xmlf, xls, json 데이터 형식\n",
    "SERVICE | String | 서비스명\n",
    "START_INDEX | Integer | 페이징 시작번호\n",
    "END_INDEX | Integer | 페이징 끝번호\n",
    "USE_MON | String | 사용월\tYYYYMM형식의 문자열\n",
    "BUS_ROUTE_NO | String(선택) |\t버스노선번호\n",
    "\n",
    "* 샘플URL\n",
    "\n",
    "조건 | 샘플URL\n",
    "-----|-----\n",
    "2015년 11월의 버스 정류장별 승하차인원 | http://openapi.seoul.go.kr:8088/(인증키)/xml/CardBusTimeNew/1/5/201511/\n",
    "2015년 11월의 7730 노선에 대한 승하차인원 | http://openapi.seoul.go.kr:8088/(인증키)/xml/CardBusTimeNew/1/5/201511/7730/"
   ]
  },
  {
   "cell_type": "markdown",
   "metadata": {
    "slideshow": {
     "slide_type": "subslide"
    }
   },
   "source": [
    "### 인증키\n"
   ]
  },
  {
   "cell_type": "code",
   "execution_count": 2,
   "metadata": {},
   "outputs": [],
   "source": [
    "import os\n",
    "from src import mylib\n",
    "\n",
    "keyPath=os.path.join(os.getcwd(), 'src', 'key.properties')\n",
    "key=mylib.getKey(keyPath)\n",
    "_key=str(key['dataseoul'])"
   ]
  },
  {
   "cell_type": "markdown",
   "metadata": {},
   "source": [
    "### url 호출"
   ]
  },
  {
   "cell_type": "code",
   "execution_count": 3,
   "metadata": {},
   "outputs": [],
   "source": [
    "import requests\n",
    "import re\n",
    "busstopurl='http://openAPI.seoul.go.kr:8088/'+_key+'/xml/CardBusTimeNew/1/5/202107/7016'\n",
    "data=requests.get(busstopurl).text"
   ]
  },
  {
   "cell_type": "markdown",
   "metadata": {},
   "source": [
    "XML 형식으로 요청하였고, 태그는 건수, 요청결과코드, 노선 및 승하차인원 정보로 구성되어 있다.\n",
    "\n",
    "```\n",
    "<CardBusTimeNew>\n",
    "    <list_total_count>107</list_total_count>                  # 총데이터 건수\n",
    "    <RESULT>\n",
    "        <CODE>INFO-000</CODE>\n",
    "        <MESSAGE>정상 처리되었습니다</MESSAGE>                  # 요청결과 코드\n",
    "    </RESULT>\n",
    "    <row>\n",
    "        <USE_MON>202107</USE_MON>                             # 사용년월\n",
    "        <BUS_ROUTE_NO>7016</BUS_ROUTE_NO>                     # 노선번호\n",
    "        <BUS_ROUTE_NM>7016번(은평차고지~상명대)</BUS_ROUTE_NM>  # 노선명\n",
    "        <STND_BSST_ID>111000907</STND_BSST_ID>                 # 표준버스정류장ID \n",
    "        <BSST_ARS_NO>35331</BSST_ARS_NO>                       # 버스정류장ARS번호 \n",
    "        <BUS_STA_NM>은평공영차고지</BUS_STA_NM>                 # 역명\n",
    "        <MIDNIGHT_RIDE_NUM>0</MIDNIGHT_RIDE_NUM>               # 00시승차총승객수\n",
    "        <MIDNIGHT_ALIGHT_NUM>0</MIDNIGHT_ALIGHT_NUM>           # 00시하차총승객수\n",
    "        <ONE_RIDE_NUM>0</ONE_RIDE_NUM>                         # 1시승차총승객수\n",
    "        <ONE_ALIGHT_NUM>0</ONE_ALIGHT_NUM>                     # 1시하차총승객수\n",
    "        ...\n",
    "        <TWENTY_THREE_RIDE_NUM>0</TWENTY_THREE_RIDE_NUM>       # 23시승차총승객수\n",
    "        <TWENTY_THREE_ALIGHT_NUM>0</TWENTY_THREE_ALIGHT_NUM>   # 23시하차총승객수\n",
    "        <WORK_DT>20210803</WORK_DT>                            # 등록일자\n",
    "    </row>\n",
    "    <row>\n",
    "        ...\n",
    "    </row>\n",
    "    ...\n",
    "</CardBusTimeNew>\n",
    "```"
   ]
  },
  {
   "cell_type": "code",
   "execution_count": 4,
   "metadata": {},
   "outputs": [
    {
     "name": "stdout",
     "output_type": "stream",
     "text": [
      "<?xml version=\"1.0\" encoding=\"UTF-8\"?>\n",
      "<CardBusTimeNew>\n",
      "<list_total_count>107</list_total_count>\n",
      "<RESULT>\n",
      "<CODE>INFO-000</CODE>\n",
      "<MESSAGE>정상 처리되었습니다</MESSAGE>\n",
      "</RESULT>\n",
      "<row>\n",
      "<USE_MON>202107</USE_MON>\n",
      "<BUS_ROUTE_NO>7016</BUS_ROUTE_NO>\n",
      "<BUS_ROUTE_NM>7016번(은평차고지~상명대)</BUS_ROUTE_NM>\n",
      "<STND_BSST_ID>111000907</STND_BSST_ID>\n",
      "<BSST_ARS_NO>35331</BSST_ARS_NO>\n",
      "<BUS_STA_NM>은평공영차고지</BUS_STA_NM>\n",
      "<MIDNIGHT_RIDE_NUM>0</MIDNIGHT_RIDE_NUM>\n",
      "<MIDNIGHT_ALIGHT_NUM>0</MIDNIGHT_ALIGHT_NUM>\n",
      "<ONE_RIDE_NUM>0</ONE_RIDE_NUM>\n",
      "<ONE_ALIGHT_NUM>0</ONE_ALIGHT_NUM>\n",
      "<TWO_RIDE_NUM>0</TWO_RIDE_NUM>\n",
      "<TWO_ALIGHT_NUM>0</TWO_ALIGHT_NUM>\n",
      "<THREE_RIDE_NUM>0</THREE_RIDE_NUM>\n",
      "<THREE_ALIGHT_NUM>0</THREE_ALIGHT_NUM>\n",
      "<FOUR_RIDE_NUM>23</FOUR_RIDE_NUM>\n",
      "<FOUR_ALIGHT_NUM>1</FOUR_ALIGHT_NUM>\n",
      "<FIVE_RIDE_NUM>11</FIVE_RIDE_NUM>\n",
      "<FIVE_ALIGHT_NUM>0</FIVE_ALIGHT_NUM>\n",
      "<SIX_RIDE_NUM>28</SIX_RIDE_NUM>\n",
      "<SIX_ALIGHT_NUM>0</SIX_ALIGHT_NUM>\n",
      "<SEVEN_RIDE_NUM>119</SEVEN_RIDE_NUM>\n",
      "<SEVEN_ALIGHT_NUM>1</SEVEN_ALIGHT_NUM>\n",
      "<EIGHT_RIDE_NUM>85</EIGHT_RIDE_NUM>\n",
      "<EIGHT_ALIGHT_NUM>0</EIGHT_ALIGHT_NUM>\n",
      "<NINE_RIDE_NUM>53</NINE_RIDE_NUM>\n",
      "<NINE_ALIGHT_NUM>1</NINE_ALIGHT_NUM>\n",
      "<TEN_RIDE_NUM>23</TEN_RIDE_NUM>\n",
      "<TEN_ALIGHT_NUM>0</TEN_ALIGHT_NUM>\n",
      "<ELEVEN_RIDE_NUM>29</ELEVEN_RIDE_NUM>\n",
      "<ELEVEN_ALIGHT_NUM>0</ELEVEN_ALIGHT_NUM>\n",
      "<TWELVE_RIDE_NUM>28</TWELVE_RIDE_NUM>\n",
      "<TWELVE_ALIGHT_NUM>1</TWELVE_ALIGHT_NUM>\n",
      "<THIRTEEN_RIDE_NUM>18</THIRTEEN_RIDE_NUM>\n",
      "<THIRTEEN_ALIGHT_NUM>0</THIRTEEN_ALIGHT_NUM>\n",
      "<FOURTEEN_RIDE_NUM>26</FOURTEEN_RIDE_NUM>\n",
      "<FOURTEEN_ALIGHT_NUM>0</FOURTEEN_ALIGHT_NUM>\n",
      "<FIFTEEN_RIDE_NUM>26</FIFTEEN_RIDE_NUM>\n",
      "<FIFTEEN_ALIGHT_NUM>2</FIFTEEN_ALIGHT_NUM>\n",
      "<SIXTEEN_RIDE_NUM>31</SIXTEEN_RIDE_NUM>\n",
      "<SIXTEEN_ALIGHT_NUM>1</SIXTEEN_ALIGHT_NUM>\n",
      "<SEVENTEEN_RIDE_NUM>76</SEVENTEEN_RIDE_NUM>\n",
      "<SEVENTEEN_ALIGHT_NUM>1</SEVENTEEN_ALIGHT_NUM>\n",
      "<EIGHTEEN_RIDE_NUM>43</EIGHTEEN_RIDE_NUM>\n",
      "<EIGHTEEN_ALIGHT_NUM>3</EIGHTEEN_ALIGHT_NUM>\n",
      "<NINETEEN_RIDE_NUM>27</NINETEEN_RIDE_NUM>\n",
      "<NINETEEN_ALIGHT_NUM>2</NINETEEN_ALIGHT_NUM>\n",
      "<TWENTY_RIDE_NUM>12</TWENTY_RIDE_NUM>\n",
      "<TWENTY_ALIGHT_NUM>2</TWENTY_ALIGHT_NUM>\n",
      "<TWENTY_ONE_RIDE_NUM>10</TWENTY_ONE_RIDE_NUM>\n",
      "<TWENTY_ONE_ALIGHT_NUM>0</TWENTY_ONE_ALIGHT_NUM>\n",
      "<TWENTY_TWO_RIDE_NUM>12</TWENTY_TWO_RIDE_NUM>\n",
      "<TWENTY_TWO_ALIGHT_NUM>0</TWENTY_TWO_ALIGHT_NUM>\n",
      "<TWENTY_THREE_RIDE_NUM>0</TWENTY_THREE_RIDE_NUM>\n",
      "<TWENTY_THREE_ALIGHT_NUM>0</TWENTY_THREE_ALIGHT_NUM>\n",
      "<WORK_DT>20210803</WORK_DT>\n",
      "</row>\n",
      "<row>\n",
      "<USE_MON>202107</USE_MON>\n",
      "<BUS_ROUTE_NO>7016</BUS_ROUTE_NO>\n",
      "<BUS_ROUTE_NM>7016번(은평차고지~상명대)</BUS_ROUTE_NM>\n",
      "<STND_BSST_ID>113000182</STND_BSST_ID>\n",
      "<BSST_ARS_NO>14273</BSST_ARS_NO>\n",
      "<BUS_STA_NM>월드컵경기장북측</BUS_STA_NM>\n",
      "<MIDNIGHT_RIDE_NUM>0</MIDNIGHT_RIDE_NUM>\n",
      "<MIDNIGHT_ALIGHT_NUM>0</MIDNIGHT_ALIGHT_NUM>\n",
      "<ONE_RIDE_NUM>0</ONE_RIDE_NUM>\n",
      "<ONE_ALIGHT_NUM>0</ONE_ALIGHT_NUM>\n",
      "<TWO_RIDE_NUM>0</TWO_RIDE_NUM>\n",
      "<TWO_ALIGHT_NUM>0</TWO_ALIGHT_NUM>\n",
      "<THREE_RIDE_NUM>0</THREE_RIDE_NUM>\n",
      "<THREE_ALIGHT_NUM>0</THREE_ALIGHT_NUM>\n",
      "<FOUR_RIDE_NUM>29</FOUR_RIDE_NUM>\n",
      "<FOUR_ALIGHT_NUM>0</FOUR_ALIGHT_NUM>\n",
      "<FIVE_RIDE_NUM>3</FIVE_RIDE_NUM>\n",
      "<FIVE_ALIGHT_NUM>1</FIVE_ALIGHT_NUM>\n",
      "<SIX_RIDE_NUM>9</SIX_RIDE_NUM>\n",
      "<SIX_ALIGHT_NUM>6</SIX_ALIGHT_NUM>\n",
      "<SEVEN_RIDE_NUM>23</SEVEN_RIDE_NUM>\n",
      "<SEVEN_ALIGHT_NUM>75</SEVEN_ALIGHT_NUM>\n",
      "<EIGHT_RIDE_NUM>47</EIGHT_RIDE_NUM>\n",
      "<EIGHT_ALIGHT_NUM>125</EIGHT_ALIGHT_NUM>\n",
      "<NINE_RIDE_NUM>27</NINE_RIDE_NUM>\n",
      "<NINE_ALIGHT_NUM>35</NINE_ALIGHT_NUM>\n",
      "<TEN_RIDE_NUM>33</TEN_RIDE_NUM>\n",
      "<TEN_ALIGHT_NUM>33</TEN_ALIGHT_NUM>\n",
      "<ELEVEN_RIDE_NUM>19</ELEVEN_RIDE_NUM>\n",
      "<ELEVEN_ALIGHT_NUM>38</ELEVEN_ALIGHT_NUM>\n",
      "<TWELVE_RIDE_NUM>25</TWELVE_RIDE_NUM>\n",
      "<TWELVE_ALIGHT_NUM>29</TWELVE_ALIGHT_NUM>\n",
      "<THIRTEEN_RIDE_NUM>24</THIRTEEN_RIDE_NUM>\n",
      "<THIRTEEN_ALIGHT_NUM>48</THIRTEEN_ALIGHT_NUM>\n",
      "<FOURTEEN_RIDE_NUM>15</FOURTEEN_RIDE_NUM>\n",
      "<FOURTEEN_ALIGHT_NUM>61</FOURTEEN_ALIGHT_NUM>\n",
      "<FIFTEEN_RIDE_NUM>39</FIFTEEN_RIDE_NUM>\n",
      "<FIFTEEN_ALIGHT_NUM>44</FIFTEEN_ALIGHT_NUM>\n",
      "<SIXTEEN_RIDE_NUM>56</SIXTEEN_RIDE_NUM>\n",
      "<SIXTEEN_ALIGHT_NUM>56</SIXTEEN_ALIGHT_NUM>\n",
      "<SEVENTEEN_RIDE_NUM>49</SEVENTEEN_RIDE_NUM>\n",
      "<SEVENTEEN_ALIGHT_NUM>68</SEVENTEEN_ALIGHT_NUM>\n",
      "<EIGHTEEN_RIDE_NUM>69</EIGHTEEN_RIDE_NUM>\n",
      "<EIGHTEEN_ALIGHT_NUM>101</EIGHTEEN_ALIGHT_NUM>\n",
      "<NINETEEN_RIDE_NUM>58</NINETEEN_RIDE_NUM>\n",
      "<NINETEEN_ALIGHT_NUM>25</NINETEEN_ALIGHT_NUM>\n",
      "<TWENTY_RIDE_NUM>18</TWENTY_RIDE_NUM>\n",
      "<TWENTY_ALIGHT_NUM>33</TWENTY_ALIGHT_NUM>\n",
      "<TWENTY_ONE_RIDE_NUM>27</TWENTY_ONE_RIDE_NUM>\n",
      "<TWENTY_ONE_ALIGHT_NUM>25</TWENTY_ONE_ALIGHT_NUM>\n",
      "<TWENTY_TWO_RIDE_NUM>21</TWENTY_TWO_RIDE_NUM>\n",
      "<TWENTY_TWO_ALIGHT_NUM>21</TWENTY_TWO_ALIGHT_NUM>\n",
      "<TWENTY_THREE_RIDE_NUM>0</TWENTY_THREE_RIDE_NUM>\n",
      "<TWENTY_THREE_ALIGHT_NUM>0</TWENTY_THREE_ALIGHT_NUM>\n",
      "<WORK_DT>20210803</WORK_DT>\n",
      "</row>\n",
      "<row>\n",
      "<USE_MON>202107</USE_MON>\n",
      "<BUS_ROUTE_NO>7016</BUS_ROUTE_NO>\n",
      "<BUS_ROUTE_NM>7016번(은평차고지~상명대)</BUS_ROUTE_NM>\n",
      "<STND_BSST_ID>113000076</STND_BSST_ID>\n",
      "<BSST_ARS_NO>14167</BSST_ARS_NO>\n",
      "<BUS_STA_NM>상암초등학교</BUS_STA_NM>\n",
      "<MIDNIGHT_RIDE_NUM>3</MIDNIGHT_RIDE_NUM>\n",
      "<MIDNIGHT_ALIGHT_NUM>25</MIDNIGHT_ALIGHT_NUM>\n",
      "<ONE_RIDE_NUM>0</ONE_RIDE_NUM>\n",
      "<ONE_ALIGHT_NUM>0</ONE_ALIGHT_NUM>\n",
      "<TWO_RIDE_NUM>0</TWO_RIDE_NUM>\n",
      "<TWO_ALIGHT_NUM>0</TWO_ALIGHT_NUM>\n",
      "<THREE_RIDE_NUM>0</THREE_RIDE_NUM>\n",
      "<THREE_ALIGHT_NUM>0</THREE_ALIGHT_NUM>\n",
      "<FOUR_RIDE_NUM>0</FOUR_RIDE_NUM>\n",
      "<FOUR_ALIGHT_NUM>0</FOUR_ALIGHT_NUM>\n",
      "<FIVE_RIDE_NUM>0</FIVE_RIDE_NUM>\n",
      "<FIVE_ALIGHT_NUM>0</FIVE_ALIGHT_NUM>\n",
      "<SIX_RIDE_NUM>0</SIX_RIDE_NUM>\n",
      "<SIX_ALIGHT_NUM>7</SIX_ALIGHT_NUM>\n",
      "<SEVEN_RIDE_NUM>13</SEVEN_RIDE_NUM>\n",
      "<SEVEN_ALIGHT_NUM>192</SEVEN_ALIGHT_NUM>\n",
      "<EIGHT_RIDE_NUM>39</EIGHT_RIDE_NUM>\n",
      "<EIGHT_ALIGHT_NUM>763</EIGHT_ALIGHT_NUM>\n",
      "<NINE_RIDE_NUM>27</NINE_RIDE_NUM>\n",
      "<NINE_ALIGHT_NUM>435</NINE_ALIGHT_NUM>\n",
      "<TEN_RIDE_NUM>12</TEN_RIDE_NUM>\n",
      "<TEN_ALIGHT_NUM>282</TEN_ALIGHT_NUM>\n",
      "<ELEVEN_RIDE_NUM>26</ELEVEN_RIDE_NUM>\n",
      "<ELEVEN_ALIGHT_NUM>238</ELEVEN_ALIGHT_NUM>\n",
      "<TWELVE_RIDE_NUM>25</TWELVE_RIDE_NUM>\n",
      "<TWELVE_ALIGHT_NUM>212</TWELVE_ALIGHT_NUM>\n",
      "<THIRTEEN_RIDE_NUM>35</THIRTEEN_RIDE_NUM>\n",
      "<THIRTEEN_ALIGHT_NUM>182</THIRTEEN_ALIGHT_NUM>\n",
      "<FOURTEEN_RIDE_NUM>27</FOURTEEN_RIDE_NUM>\n",
      "<FOURTEEN_ALIGHT_NUM>227</FOURTEEN_ALIGHT_NUM>\n",
      "<FIFTEEN_RIDE_NUM>19</FIFTEEN_RIDE_NUM>\n",
      "<FIFTEEN_ALIGHT_NUM>246</FIFTEEN_ALIGHT_NUM>\n",
      "<SIXTEEN_RIDE_NUM>31</SIXTEEN_RIDE_NUM>\n",
      "<SIXTEEN_ALIGHT_NUM>214</SIXTEEN_ALIGHT_NUM>\n",
      "<SEVENTEEN_RIDE_NUM>18</SEVENTEEN_RIDE_NUM>\n",
      "<SEVENTEEN_ALIGHT_NUM>254</SEVENTEEN_ALIGHT_NUM>\n",
      "<EIGHTEEN_RIDE_NUM>30</EIGHTEEN_RIDE_NUM>\n",
      "<EIGHTEEN_ALIGHT_NUM>319</EIGHTEEN_ALIGHT_NUM>\n",
      "<NINETEEN_RIDE_NUM>23</NINETEEN_RIDE_NUM>\n",
      "<NINETEEN_ALIGHT_NUM>265</NINETEEN_ALIGHT_NUM>\n",
      "<TWENTY_RIDE_NUM>31</TWENTY_RIDE_NUM>\n",
      "<TWENTY_ALIGHT_NUM>189</TWENTY_ALIGHT_NUM>\n",
      "<TWENTY_ONE_RIDE_NUM>24</TWENTY_ONE_RIDE_NUM>\n",
      "<TWENTY_ONE_ALIGHT_NUM>127</TWENTY_ONE_ALIGHT_NUM>\n",
      "<TWENTY_TWO_RIDE_NUM>21</TWENTY_TWO_RIDE_NUM>\n",
      "<TWENTY_TWO_ALIGHT_NUM>158</TWENTY_TWO_ALIGHT_NUM>\n",
      "<TWENTY_THREE_RIDE_NUM>6</TWENTY_THREE_RIDE_NUM>\n",
      "<TWENTY_THREE_ALIGHT_NUM>70</TWENTY_THREE_ALIGHT_NUM>\n",
      "<WORK_DT>20210803</WORK_DT>\n",
      "</row>\n",
      "<row>\n",
      "<USE_MON>202107</USE_MON>\n",
      "<BUS_ROUTE_NO>7016</BUS_ROUTE_NO>\n",
      "<BUS_ROUTE_NM>7016번(은평차고지~상명대)</BUS_ROUTE_NM>\n",
      "<STND_BSST_ID>113000028</STND_BSST_ID>\n",
      "<BSST_ARS_NO>14118</BSST_ARS_NO>\n",
      "<BUS_STA_NM>월드컵파크2단지.에스플렉스센터</BUS_STA_NM>\n",
      "<MIDNIGHT_RIDE_NUM>1</MIDNIGHT_RIDE_NUM>\n",
      "<MIDNIGHT_ALIGHT_NUM>24</MIDNIGHT_ALIGHT_NUM>\n",
      "<ONE_RIDE_NUM>0</ONE_RIDE_NUM>\n",
      "<ONE_ALIGHT_NUM>0</ONE_ALIGHT_NUM>\n",
      "<TWO_RIDE_NUM>0</TWO_RIDE_NUM>\n",
      "<TWO_ALIGHT_NUM>0</TWO_ALIGHT_NUM>\n",
      "<THREE_RIDE_NUM>0</THREE_RIDE_NUM>\n",
      "<THREE_ALIGHT_NUM>0</THREE_ALIGHT_NUM>\n",
      "<FOUR_RIDE_NUM>0</FOUR_RIDE_NUM>\n",
      "<FOUR_ALIGHT_NUM>0</FOUR_ALIGHT_NUM>\n",
      "<FIVE_RIDE_NUM>0</FIVE_RIDE_NUM>\n",
      "<FIVE_ALIGHT_NUM>0</FIVE_ALIGHT_NUM>\n",
      "<SIX_RIDE_NUM>0</SIX_RIDE_NUM>\n",
      "<SIX_ALIGHT_NUM>18</SIX_ALIGHT_NUM>\n",
      "<SEVEN_RIDE_NUM>6</SEVEN_RIDE_NUM>\n",
      "<SEVEN_ALIGHT_NUM>576</SEVEN_ALIGHT_NUM>\n",
      "<EIGHT_RIDE_NUM>9</EIGHT_RIDE_NUM>\n",
      "<EIGHT_ALIGHT_NUM>2095</EIGHT_ALIGHT_NUM>\n",
      "<NINE_RIDE_NUM>5</NINE_RIDE_NUM>\n",
      "<NINE_ALIGHT_NUM>1215</NINE_ALIGHT_NUM>\n",
      "<TEN_RIDE_NUM>14</TEN_RIDE_NUM>\n",
      "<TEN_ALIGHT_NUM>522</TEN_ALIGHT_NUM>\n",
      "<ELEVEN_RIDE_NUM>13</ELEVEN_RIDE_NUM>\n",
      "<ELEVEN_ALIGHT_NUM>295</ELEVEN_ALIGHT_NUM>\n",
      "<TWELVE_RIDE_NUM>9</TWELVE_RIDE_NUM>\n",
      "<TWELVE_ALIGHT_NUM>275</TWELVE_ALIGHT_NUM>\n",
      "<THIRTEEN_RIDE_NUM>17</THIRTEEN_RIDE_NUM>\n",
      "<THIRTEEN_ALIGHT_NUM>297</THIRTEEN_ALIGHT_NUM>\n",
      "<FOURTEEN_RIDE_NUM>8</FOURTEEN_RIDE_NUM>\n",
      "<FOURTEEN_ALIGHT_NUM>261</FOURTEEN_ALIGHT_NUM>\n",
      "<FIFTEEN_RIDE_NUM>9</FIFTEEN_RIDE_NUM>\n",
      "<FIFTEEN_ALIGHT_NUM>257</FIFTEEN_ALIGHT_NUM>\n",
      "<SIXTEEN_RIDE_NUM>18</SIXTEEN_RIDE_NUM>\n",
      "<SIXTEEN_ALIGHT_NUM>220</SIXTEEN_ALIGHT_NUM>\n",
      "<SEVENTEEN_RIDE_NUM>22</SEVENTEEN_RIDE_NUM>\n",
      "<SEVENTEEN_ALIGHT_NUM>212</SEVENTEEN_ALIGHT_NUM>\n",
      "<EIGHTEEN_RIDE_NUM>85</EIGHTEEN_RIDE_NUM>\n",
      "<EIGHTEEN_ALIGHT_NUM>232</EIGHTEEN_ALIGHT_NUM>\n",
      "<NINETEEN_RIDE_NUM>30</NINETEEN_RIDE_NUM>\n",
      "<NINETEEN_ALIGHT_NUM>244</NINETEEN_ALIGHT_NUM>\n",
      "<TWENTY_RIDE_NUM>26</TWENTY_RIDE_NUM>\n",
      "<TWENTY_ALIGHT_NUM>150</TWENTY_ALIGHT_NUM>\n",
      "<TWENTY_ONE_RIDE_NUM>10</TWENTY_ONE_RIDE_NUM>\n",
      "<TWENTY_ONE_ALIGHT_NUM>139</TWENTY_ONE_ALIGHT_NUM>\n",
      "<TWENTY_TWO_RIDE_NUM>26</TWENTY_TWO_RIDE_NUM>\n",
      "<TWENTY_TWO_ALIGHT_NUM>168</TWENTY_TWO_ALIGHT_NUM>\n",
      "<TWENTY_THREE_RIDE_NUM>2</TWENTY_THREE_RIDE_NUM>\n",
      "<TWENTY_THREE_ALIGHT_NUM>70</TWENTY_THREE_ALIGHT_NUM>\n",
      "<WORK_DT>20210803</WORK_DT>\n",
      "</row>\n",
      "<row>\n",
      "<USE_MON>202107</USE_MON>\n",
      "<BUS_ROUTE_NO>7016</BUS_ROUTE_NO>\n",
      "<BUS_ROUTE_NM>7016번(은평차고지~상명대)</BUS_ROUTE_NM>\n",
      "<STND_BSST_ID>113000017</STND_BSST_ID>\n",
      "<BSST_ARS_NO>14107</BSST_ARS_NO>\n",
      "<BUS_STA_NM>월드컵파크3단지.난지천공원</BUS_STA_NM>\n",
      "<MIDNIGHT_RIDE_NUM>0</MIDNIGHT_RIDE_NUM>\n",
      "<MIDNIGHT_ALIGHT_NUM>27</MIDNIGHT_ALIGHT_NUM>\n",
      "<ONE_RIDE_NUM>0</ONE_RIDE_NUM>\n",
      "<ONE_ALIGHT_NUM>0</ONE_ALIGHT_NUM>\n",
      "<TWO_RIDE_NUM>0</TWO_RIDE_NUM>\n",
      "<TWO_ALIGHT_NUM>0</TWO_ALIGHT_NUM>\n",
      "<THREE_RIDE_NUM>0</THREE_RIDE_NUM>\n",
      "<THREE_ALIGHT_NUM>0</THREE_ALIGHT_NUM>\n",
      "<FOUR_RIDE_NUM>0</FOUR_RIDE_NUM>\n",
      "<FOUR_ALIGHT_NUM>0</FOUR_ALIGHT_NUM>\n",
      "<FIVE_RIDE_NUM>0</FIVE_RIDE_NUM>\n",
      "<FIVE_ALIGHT_NUM>0</FIVE_ALIGHT_NUM>\n",
      "<SIX_RIDE_NUM>1</SIX_RIDE_NUM>\n",
      "<SIX_ALIGHT_NUM>3</SIX_ALIGHT_NUM>\n",
      "<SEVEN_RIDE_NUM>2</SEVEN_RIDE_NUM>\n",
      "<SEVEN_ALIGHT_NUM>32</SEVEN_ALIGHT_NUM>\n",
      "<EIGHT_RIDE_NUM>9</EIGHT_RIDE_NUM>\n",
      "<EIGHT_ALIGHT_NUM>52</EIGHT_ALIGHT_NUM>\n",
      "<NINE_RIDE_NUM>7</NINE_RIDE_NUM>\n",
      "<NINE_ALIGHT_NUM>46</NINE_ALIGHT_NUM>\n",
      "<TEN_RIDE_NUM>5</TEN_RIDE_NUM>\n",
      "<TEN_ALIGHT_NUM>41</TEN_ALIGHT_NUM>\n",
      "<ELEVEN_RIDE_NUM>4</ELEVEN_RIDE_NUM>\n",
      "<ELEVEN_ALIGHT_NUM>56</ELEVEN_ALIGHT_NUM>\n",
      "<TWELVE_RIDE_NUM>8</TWELVE_RIDE_NUM>\n",
      "<TWELVE_ALIGHT_NUM>47</TWELVE_ALIGHT_NUM>\n",
      "<THIRTEEN_RIDE_NUM>10</THIRTEEN_RIDE_NUM>\n",
      "<THIRTEEN_ALIGHT_NUM>70</THIRTEEN_ALIGHT_NUM>\n",
      "<FOURTEEN_RIDE_NUM>10</FOURTEEN_RIDE_NUM>\n",
      "<FOURTEEN_ALIGHT_NUM>71</FOURTEEN_ALIGHT_NUM>\n",
      "<FIFTEEN_RIDE_NUM>11</FIFTEEN_RIDE_NUM>\n",
      "<FIFTEEN_ALIGHT_NUM>79</FIFTEEN_ALIGHT_NUM>\n",
      "<SIXTEEN_RIDE_NUM>8</SIXTEEN_RIDE_NUM>\n",
      "<SIXTEEN_ALIGHT_NUM>47</SIXTEEN_ALIGHT_NUM>\n",
      "<SEVENTEEN_RIDE_NUM>7</SEVENTEEN_RIDE_NUM>\n",
      "<SEVENTEEN_ALIGHT_NUM>64</SEVENTEEN_ALIGHT_NUM>\n",
      "<EIGHTEEN_RIDE_NUM>7</EIGHTEEN_RIDE_NUM>\n",
      "<EIGHTEEN_ALIGHT_NUM>79</EIGHTEEN_ALIGHT_NUM>\n",
      "<NINETEEN_RIDE_NUM>3</NINETEEN_RIDE_NUM>\n",
      "<NINETEEN_ALIGHT_NUM>82</NINETEEN_ALIGHT_NUM>\n",
      "<TWENTY_RIDE_NUM>3</TWENTY_RIDE_NUM>\n",
      "<TWENTY_ALIGHT_NUM>58</TWENTY_ALIGHT_NUM>\n",
      "<TWENTY_ONE_RIDE_NUM>2</TWENTY_ONE_RIDE_NUM>\n",
      "<TWENTY_ONE_ALIGHT_NUM>52</TWENTY_ONE_ALIGHT_NUM>\n",
      "<TWENTY_TWO_RIDE_NUM>2</TWENTY_TWO_RIDE_NUM>\n",
      "<TWENTY_TWO_ALIGHT_NUM>66</TWENTY_TWO_ALIGHT_NUM>\n",
      "<TWENTY_THREE_RIDE_NUM>0</TWENTY_THREE_RIDE_NUM>\n",
      "<TWENTY_THREE_ALIGHT_NUM>27</TWENTY_THREE_ALIGHT_NUM>\n",
      "<WORK_DT>20210803</WORK_DT>\n",
      "</row>\n",
      "</CardBusTimeNew>\n",
      "\n"
     ]
    }
   ],
   "source": [
    "print (data)"
   ]
  },
  {
   "cell_type": "markdown",
   "metadata": {},
   "source": [
    "### 정규식으로 XML 파싱\n",
    "\n",
    "XML 파싱을 통해, 원하는 결과를 추출할 수 있다.\n",
    "여기서는 정규식으로 해보자.\n",
    "<BUS_STA_NM>(.+?)</BUS_STA_NM>는 태그 안의 괄호안 패턴을 추출하게 된다."
   ]
  },
  {
   "cell_type": "code",
   "execution_count": 5,
   "metadata": {
    "scrolled": false,
    "slideshow": {
     "slide_type": "subslide"
    }
   },
   "outputs": [
    {
     "name": "stdout",
     "output_type": "stream",
     "text": [
      "은평공영차고지\n",
      "월드컵경기장북측\n",
      "상암초등학교\n",
      "월드컵파크2단지.에스플렉스센터\n",
      "월드컵파크3단지.난지천공원\n"
     ]
    }
   ],
   "source": [
    "p=re.compile('<BUS_STA_NM>(.+?)</BUS_STA_NM>')\n",
    "res=p.findall(data)\n",
    "for item in res:\n",
    "    print (item)"
   ]
  },
  {
   "cell_type": "markdown",
   "metadata": {},
   "source": [
    "```<.*_NUM>(\\d+)</.*_NUM>```는 _NUM 태그 안의 숫자 데이터를 추출하는 정규식이다."
   ]
  },
  {
   "cell_type": "code",
   "execution_count": 6,
   "metadata": {},
   "outputs": [
    {
     "name": "stdout",
     "output_type": "stream",
     "text": [
      "0, 0, 0, 0, 0, 0, 0, 0, 23, 1, 11, 0, 28, 0, 119, 1, 85, 0, 53, 1, 23, 0, 29, 0, 28, 1, 18, 0, 26, 0, 26, 2, 31, 1, 76, 1, 43, 3, 27, 2, 12, 2, 10, 0, 12, 0, 0, 0, 0, 0, 0, 0, 0, 0, 0, 0, 29, 0, 3, 1, 9, 6, 23, 75, 47, 125, 27, 35, 33, 33, 19, 38, 25, 29, 24, 48, 15, 61, 39, 44, 56, 56, 49, 68, 69, 101, 58, 25, 18, 33, 27, 25, 21, 21, 0, 0, 3, 25, 0, 0, 0, 0, 0, 0, 0, 0, 0, 0, 0, 7, 13, 192, 39, 763, 27, 435, 12, 282, 26, 238, 25, 212, 35, 182, 27, 227, 19, 246, 31, 214, 18, 254, 30, 319, 23, 265, 31, 189, 24, 127, 21, 158, 6, 70, 1, 24, 0, 0, 0, 0, 0, 0, 0, 0, 0, 0, 0, 18, 6, 576, 9, 2095, 5, 1215, 14, 522, 13, 295, 9, 275, 17, 297, 8, 261, 9, 257, 18, 220, 22, 212, 85, 232, 30, 244, 26, 150, 10, 139, 26, 168, 2, 70, 0, 27, 0, 0, 0, 0, 0, 0, 0, 0, 0, 0, 1, 3, 2, 32, 9, 52, 7, 46, 5, 41, 4, 56, 8, 47, 10, 70, 10, 71, 11, 79, 8, 47, 7, 64, 7, 79, 3, 82, 3, 58, 2, 52, 2, 66, 0, 27, "
     ]
    }
   ],
   "source": [
    "p=re.compile('<.*_NUM>(\\d+)</.*_NUM>')\n",
    "res=p.findall(data)\n",
    "#print(\" \".join(res))\n",
    "for item in res:\n",
    "    print (item, end=\", \") # connecting numbers with a comma"
   ]
  },
  {
   "cell_type": "markdown",
   "metadata": {
    "slideshow": {
     "slide_type": "subslide"
    }
   },
   "source": [
    "### 일괄실행"
   ]
  },
  {
   "cell_type": "code",
   "execution_count": 7,
   "metadata": {},
   "outputs": [
    {
     "name": "stdout",
     "output_type": "stream",
     "text": [
      "Writing src/ds_open_cardBusTime.py\n"
     ]
    }
   ],
   "source": [
    "%%writefile src/ds_open_cardBusTime.py\n",
    "# coding: utf-8\n",
    "import os\n",
    "import mylib # NOTE: do not use 'from src import mylib'\n",
    "import requests\n",
    "import re\n",
    "\n",
    "def doIt():\n",
    "    keyPath=os.path.join(os.getcwd(), 'src', 'key.properties')\n",
    "    key=mylib.getKey(keyPath)\n",
    "    _key=str(key['dataseoul'])\n",
    "\n",
    "    busstopurl='http://openAPI.seoul.go.kr:8088/'+_key+'/xml/CardBusTimeNew/1/5/202107/7016'\n",
    "    data=requests.get(busstopurl).text\n",
    "    p=re.compile('<BUS_STA_NM>(.+?)</BUS_STA_NM>')\n",
    "    res=p.findall(data)\n",
    "    for item in res:\n",
    "        print (item)\n",
    "\n",
    "    p=re.compile('<.*_NUM>(\\d+)</.*_NUM>')\n",
    "    res=p.findall(data)\n",
    "    print(\" \".join(res))\n",
    "if __name__ == \"__main__\":\n",
    "    doIt()\n"
   ]
  },
  {
   "cell_type": "code",
   "execution_count": 8,
   "metadata": {},
   "outputs": [
    {
     "name": "stdout",
     "output_type": "stream",
     "text": [
      "은평공영차고지\n",
      "월드컵경기장북측\n",
      "상암초등학교\n",
      "월드컵파크2단지.에스플렉스센터\n",
      "월드컵파크3단지.난지천공원\n",
      "0 0 0 0 0 0 0 0 23 1 11 0 28 0 119 1 85 0 53 1 23 0 29 0 28 1 18 0 26 0 26 2 31 1 76 1 43 3 27 2 12 2 10 0 12 0 0 0 0 0 0 0 0 0 0 0 29 0 3 1 9 6 23 75 47 125 27 35 33 33 19 38 25 29 24 48 15 61 39 44 56 56 49 68 69 101 58 25 18 33 27 25 21 21 0 0 3 25 0 0 0 0 0 0 0 0 0 0 0 7 13 192 39 763 27 435 12 282 26 238 25 212 35 182 27 227 19 246 31 214 18 254 30 319 23 265 31 189 24 127 21 158 6 70 1 24 0 0 0 0 0 0 0 0 0 0 0 18 6 576 9 2095 5 1215 14 522 13 295 9 275 17 297 8 261 9 257 18 220 22 212 85 232 30 244 26 150 10 139 26 168 2 70 0 27 0 0 0 0 0 0 0 0 0 0 1 3 2 32 9 52 7 46 5 41 4 56 8 47 10 70 10 71 11 79 8 47 7 64 7 79 3 82 3 58 2 52 2 66 0 27\n"
     ]
    }
   ],
   "source": [
    "!python3 src/ds_open_cardBusTime.py"
   ]
  },
  {
   "cell_type": "markdown",
   "metadata": {
    "slideshow": {
     "slide_type": "slide"
    }
   },
   "source": [
    "## 문제 8: 서울시 종로구 관측소 현재 온도, 습도, 강수량 구하기\n",
    "\n",
    "오류!!\n",
    "\n",
    "조건 | 샘플URL\n",
    "-----|-----\n",
    "관측소별 실시간 기상관측정보 조회 | http://openAPI.seoul.go.kr:8088/(인증키)/xml/RealtimeWeatherStation/1/5/\n",
    "중구 관측소 실시간 기상관측정보 조회 | http://openAPI.seoul.go.kr:8088/(인증키)/xml/RealtimeWeatherStation/1/5/중구\n",
    "\n"
   ]
  },
  {
   "cell_type": "markdown",
   "metadata": {
    "collapsed": true
   },
   "source": [
    "단기예보 조회서비스는 개편되어 2.0이 발표되었다.\n",
    "기상청_단기예보 조회서비스 VilageFcstInfoService_2.0\n",
    "\n",
    "\n",
    "- getUltraSrtNcst 초단기실황조회\n",
    "- getUltraSrtFcst 초단기예보조회\n",
    "- getVilageFcst 단기예보조회\n",
    "- getFcstVersion 예보버전조회\n",
    "\n",
    "단기예보조회 getVilageFcst 메시지 명세\n",
    "\n",
    "변수명 | 설명 \n",
    "-----|-----\n",
    "serviceKey | 발급받은 인증키\n",
    "numOfRows | 한 페이지 결과 수 (Default: 10)\n",
    "pageNo | 페이지 번호 (Default: 1)\n",
    "dataType (선택) | 요청자료형식 (XML, JSON) (Default: XML)\n",
    "base_date | 발표일자, YYYYMMDD형식의 문자열 (예: 20210628)\n",
    "base_time | 발표시각 HHMM형식(예: 0500)\n",
    "nx | 예보지점의 X 좌표값\n",
    "ny | 예보지점의 Y 좌표값\n",
    "\n",
    "http://apis.data.go.kr/1360000/VilageFcstInfoService_2.0/getUltraSrtNcst\n",
    "    \n",
    "http://apis.data.go.kr/1360000/VilageFcstInfoService_2.0/getVilageFcst\n",
    "    ?serviceKey=인증키\n",
    "    &numOfRows=10\n",
    "    &pageNo=1\n",
    "    &dataType=JSON\n",
    "    &base_date=20210628\n",
    "    &base_time=0500\n",
    "    &nx=55\n",
    "    &ny=127\n"
   ]
  },
  {
   "cell_type": "code",
   "execution_count": null,
   "metadata": {},
   "outputs": [],
   "source": []
  },
  {
   "cell_type": "markdown",
   "metadata": {
    "slideshow": {
     "slide_type": "subslide"
    }
   },
   "source": [
    "* 샘플 실행하기\n",
    "* regex"
   ]
  },
  {
   "cell_type": "code",
   "execution_count": null,
   "metadata": {},
   "outputs": [],
   "source": [
    "import os\n",
    "from src import mylib\n",
    "\n",
    "keyPath=os.path.join(os.getcwd(), 'src', 'key.properties')\n",
    "key=mylib.getKey(keyPath)\n",
    "\n",
    "_url='http://openAPI.seoul.go.kr:8088'\n",
    "_key=str(key['gokr'])     # key to data.go.kr"
   ]
  },
  {
   "cell_type": "code",
   "execution_count": null,
   "metadata": {},
   "outputs": [],
   "source": [
    "#weatherurl='http://openAPI.seoul.go.kr:8088/sample/xml/RealtimeWeatherStation/1/5/'\n",
    "weatherurl=\"http://apis.data.go.kr/1360000/VilageFcstInfoService_2.0/getVilageFcst\"\\\n",
    "+\"?serviceKey=\"+str(_key)\\\n",
    "+\"&numOfRows=10\"\\\n",
    "+\"&pageNo=1\"\\\n",
    "+\"&base_date=20210628\"\\\n",
    "+\"&base_time=0500\"\\\n",
    "+\"&nx=55\"\\\n",
    "+\"&ny=127\""
   ]
  },
  {
   "cell_type": "code",
   "execution_count": null,
   "metadata": {},
   "outputs": [],
   "source": [
    "print(weatherurl)"
   ]
  },
  {
   "cell_type": "markdown",
   "metadata": {
    "collapsed": true
   },
   "source": [
    "* 결과\n",
    "```\n",
    "1\tSAWS_OBS_TM\t측정일시\n",
    "2\tSTN_NM\t지점명\n",
    "3\tSAWS_TA_AVG\t기온(℃)\n",
    "4\tSAWS_HD\t습도(%)\n",
    "5\tCODE\t풍향1\n",
    "6\tNAME\t풍향2\n",
    "7\tSAWS_WS_AVG\t풍속(m/s)\n",
    "8\tSAWS_RN_SUM\t강수(mm)\n",
    "9\tSAWS_SOLAR\t일사(Mj/㎡)\n",
    "10\tSAWS_SHINE\t일조(hour)\n",
    "```"
   ]
  },
  {
   "cell_type": "code",
   "execution_count": null,
   "metadata": {},
   "outputs": [],
   "source": [
    "import requests\n",
    "\n",
    "data=requests.get(weatherurl).text\n",
    "print (data)"
   ]
  },
  {
   "cell_type": "code",
   "execution_count": null,
   "metadata": {},
   "outputs": [],
   "source": []
  },
  {
   "cell_type": "code",
   "execution_count": null,
   "metadata": {},
   "outputs": [],
   "source": [
    "import requests\n",
    "import re\n",
    "weatherurl='http://openAPI.seoul.go.kr:8088/sample/xml/RealtimeWeatherStation/1/5/'\n",
    "data=requests.get(weatherurl).text\n",
    "print data\n",
    "p=re.compile('<SAWS_TA_AVG>(.+?)</SAWS_TA_AVG>')\n",
    "res=p.findall(data)\n",
    "for item in res:\n",
    "    print item"
   ]
  },
  {
   "cell_type": "markdown",
   "metadata": {},
   "source": [
    "## 문제 9: 서울시 골목상권 분석\n",
    "\n",
    "어떤 곳에 입점을 할 경우, 배후 상권에 대해 알 필요가 있다.\n",
    "주변에 얼마나 많은 사람들이 다니는지,\n",
    "어떤 직장이 있는지,\n",
    "관련한 점포는 있는지가 궁금할 수 있다.\n",
    "이러한 골목상권에 대한 정보를 수집할 수 있다.\n",
    "제공하는 골목상권분석정보는:\n",
    "- 서울시 우리마을가게 상권분석서비스(상권-생활인구)\n",
    "- 서울시 우리마을가게 상권분석서비스(상권배후지-집객시설)\n",
    "- 서울시 우리마을가게 상권분석서비스(상권배후지-생활인구)\n",
    "- 서울시 우리마을가게 상권분석서비스(상권-집객시설)\n",
    "- 서울시 우리마을가게 상권분석서비스(상권배후지-상주인구)\n",
    "- 서울시 우리마을가게 상권분석서비스(상권_상주인구)\n",
    "- 서울시 우리마을가게 상권분석서비스(상권배후지-아파트)\n",
    "- 서울시 우리마을가게 상권분석서비스(상권배후지-점포)\n",
    "- 서울시 우리마을가게 상권분석서비스(상권-상권변화지표)\n",
    "- 서울시 우리마을가게 상권분석서비스(행정동별 상권변화지표)\n",
    "- 서울시 우리마을가게 상권분석서비스(상권-추정매출)\n",
    "- 서울시 우리마을가게 상권분석서비스(상권-직장인구)\n",
    "- 서울시 우리마을가게 상권분석서비스(상권배후지-소득소비)\n",
    "- 서울시 우리마을가게 상권분석서비스(상권배후지-직장인구)\n",
    "- 서울시 우리마을가게 상권분석서비스(자치구별 상권변화지표)\n",
    "- 서울시 우리마을가게 상권분석서비스(상권-아파트)\n",
    "- 서울시 우리마을가게 상권분석서비스(상권영역)\n",
    "- 서울시 우리마을가게 상권분석서비스(상권-점포)"
   ]
  },
  {
   "cell_type": "markdown",
   "metadata": {
    "slideshow": {
     "slide_type": "slide"
    }
   },
   "source": [
    "이 가운데 상권-생활인구를 알아보자.\n",
    "서비스명은 VwsmTrdarFlpopQq (서비스 개편 이전 InfoTrdarFlpop)\n",
    "\n",
    "* 샘플 url\n",
    "서울시 우리마을가게 상권분석서비스(상권-추정유동인구)\n",
    "http://openapi.seoul.go.kr:8088/(인증키)/xml/VwsmTrdarFlpopQq/1/5/\n",
    "\n",
    "* 요청인자\n",
    "\n",
    "변수명 | 타입 | 설명 \n",
    "-----|-----|-----\n",
    "KEY | String | 발급받은 인증키\n",
    "TYPE | String | xml, xmlf, xls, json 데이터 형식\n",
    "SERVICE | String | 서비스명 VwsmTrdarFlpopQq\n",
    "START_INDEX | Integer | 페이징 시작번호\n",
    "END_INDEX | Integer | 페이징 끝번호\n",
    "STDR_YY_CD | String(선택) | 기준년코드\tYYYY형식의 문자열\n",
    "TRDAR_SE_CD | String(선택) | 상권구분코드 'A','D','R','U'\n"
   ]
  },
  {
   "cell_type": "markdown",
   "metadata": {},
   "source": [
    "### 인증키"
   ]
  },
  {
   "cell_type": "code",
   "execution_count": 1,
   "metadata": {},
   "outputs": [
    {
     "name": "stdout",
     "output_type": "stream",
     "text": [
      "Overwriting src/key.properties\n"
     ]
    }
   ],
   "source": [
    "%%writefile src/key.properties\n",
    "dataseoul=45414259757a617135396763694952\n",
    "gokr=Xfnj9sV5zWaUKvuOLd%2BZOm%2FaMy53DYKfq%2F4M467F%2BWjfE6tm0%2BZr5HXACKGODbytWZcr7TK%2FAUZPhE8216R7jQ%3D%3D"
   ]
  },
  {
   "cell_type": "code",
   "execution_count": 2,
   "metadata": {},
   "outputs": [],
   "source": [
    "import os\n",
    "from src import mylib # Ok: import src.mylib\n",
    "\n",
    "keyPath=os.path.join(os.getcwd(), 'src', 'key.properties')\n",
    "key=mylib.getKey(keyPath)\n",
    "# (1) make params with resource IDs\n",
    "KEY=key['dataseoul'] #'73725...847'"
   ]
  },
  {
   "cell_type": "markdown",
   "metadata": {},
   "source": [
    "### 요청인자"
   ]
  },
  {
   "cell_type": "code",
   "execution_count": 3,
   "metadata": {},
   "outputs": [],
   "source": [
    "import os\n",
    "\n",
    "TYPE='json'\n",
    "SERVICE='VwsmTrdarFlpopQq' #OLD: SERVICE='InfoTrdarFlpop'\n",
    "START_INDEX=str(1)\n",
    "END_INDEX=str(10)\n",
    "STDR_YM_CD=str(2017)\n",
    "params=os.path.join(KEY,TYPE,SERVICE,START_INDEX,END_INDEX,STDR_YM_CD) # '73725...847/json/VwsmTrdarFlpopQq/1/10/2017'"
   ]
  },
  {
   "cell_type": "markdown",
   "metadata": {},
   "source": [
    "### url"
   ]
  },
  {
   "cell_type": "code",
   "execution_count": 4,
   "metadata": {},
   "outputs": [],
   "source": [
    "import urllib.parse\n",
    "\n",
    "_url='http://openAPI.seoul.go.kr:8088/'\n",
    "url=urllib.parse.urljoin(_url,params)"
   ]
  },
  {
   "cell_type": "code",
   "execution_count": 5,
   "metadata": {},
   "outputs": [
    {
     "name": "stdout",
     "output_type": "stream",
     "text": [
      "http://openAPI.seoul.go.kr:8088/45414259757a617135396763694952\\json\\VwsmTrdarFlpopQq\\1\\10\\2017\n"
     ]
    }
   ],
   "source": [
    "print(url)"
   ]
  },
  {
   "cell_type": "markdown",
   "metadata": {},
   "source": [
    "### 상권 데이터"
   ]
  },
  {
   "cell_type": "code",
   "execution_count": 6,
   "metadata": {},
   "outputs": [
    {
     "ename": "JSONDecodeError",
     "evalue": "Expecting value: line 1 column 1 (char 0)",
     "output_type": "error",
     "traceback": [
      "\u001b[1;31m---------------------------------------------------------------------------\u001b[0m",
      "\u001b[1;31mJSONDecodeError\u001b[0m                           Traceback (most recent call last)",
      "\u001b[1;32m<ipython-input-6-57f8ad9e94ca>\u001b[0m in \u001b[0;36m<module>\u001b[1;34m\u001b[0m\n\u001b[0;32m      1\u001b[0m \u001b[1;32mimport\u001b[0m \u001b[0mrequests\u001b[0m\u001b[1;33m\u001b[0m\u001b[1;33m\u001b[0m\u001b[0m\n\u001b[0;32m      2\u001b[0m \u001b[0mr\u001b[0m\u001b[1;33m=\u001b[0m\u001b[0mrequests\u001b[0m\u001b[1;33m.\u001b[0m\u001b[0mget\u001b[0m\u001b[1;33m(\u001b[0m\u001b[0murl\u001b[0m\u001b[1;33m)\u001b[0m\u001b[1;33m\u001b[0m\u001b[1;33m\u001b[0m\u001b[0m\n\u001b[1;32m----> 3\u001b[1;33m \u001b[0mtrade\u001b[0m\u001b[1;33m=\u001b[0m\u001b[0mr\u001b[0m\u001b[1;33m.\u001b[0m\u001b[0mjson\u001b[0m\u001b[1;33m(\u001b[0m\u001b[1;33m)\u001b[0m\u001b[1;33m\u001b[0m\u001b[1;33m\u001b[0m\u001b[0m\n\u001b[0m",
      "\u001b[1;32m~\\Anaconda2\\envs\\py35\\lib\\site-packages\\requests\\models.py\u001b[0m in \u001b[0;36mjson\u001b[1;34m(self, **kwargs)\u001b[0m\n\u001b[0;32m    895\u001b[0m                     \u001b[1;31m# used.\u001b[0m\u001b[1;33m\u001b[0m\u001b[1;33m\u001b[0m\u001b[1;33m\u001b[0m\u001b[0m\n\u001b[0;32m    896\u001b[0m                     \u001b[1;32mpass\u001b[0m\u001b[1;33m\u001b[0m\u001b[1;33m\u001b[0m\u001b[0m\n\u001b[1;32m--> 897\u001b[1;33m         \u001b[1;32mreturn\u001b[0m \u001b[0mcomplexjson\u001b[0m\u001b[1;33m.\u001b[0m\u001b[0mloads\u001b[0m\u001b[1;33m(\u001b[0m\u001b[0mself\u001b[0m\u001b[1;33m.\u001b[0m\u001b[0mtext\u001b[0m\u001b[1;33m,\u001b[0m \u001b[1;33m**\u001b[0m\u001b[0mkwargs\u001b[0m\u001b[1;33m)\u001b[0m\u001b[1;33m\u001b[0m\u001b[1;33m\u001b[0m\u001b[0m\n\u001b[0m\u001b[0;32m    898\u001b[0m \u001b[1;33m\u001b[0m\u001b[0m\n\u001b[0;32m    899\u001b[0m     \u001b[1;33m@\u001b[0m\u001b[0mproperty\u001b[0m\u001b[1;33m\u001b[0m\u001b[1;33m\u001b[0m\u001b[0m\n",
      "\u001b[1;32m~\\Anaconda2\\envs\\py35\\lib\\json\\__init__.py\u001b[0m in \u001b[0;36mloads\u001b[1;34m(s, encoding, cls, object_hook, parse_float, parse_int, parse_constant, object_pairs_hook, **kw)\u001b[0m\n\u001b[0;32m    346\u001b[0m             \u001b[0mparse_int\u001b[0m \u001b[1;32mis\u001b[0m \u001b[1;32mNone\u001b[0m \u001b[1;32mand\u001b[0m \u001b[0mparse_float\u001b[0m \u001b[1;32mis\u001b[0m \u001b[1;32mNone\u001b[0m \u001b[1;32mand\u001b[0m\u001b[1;33m\u001b[0m\u001b[1;33m\u001b[0m\u001b[0m\n\u001b[0;32m    347\u001b[0m             parse_constant is None and object_pairs_hook is None and not kw):\n\u001b[1;32m--> 348\u001b[1;33m         \u001b[1;32mreturn\u001b[0m \u001b[0m_default_decoder\u001b[0m\u001b[1;33m.\u001b[0m\u001b[0mdecode\u001b[0m\u001b[1;33m(\u001b[0m\u001b[0ms\u001b[0m\u001b[1;33m)\u001b[0m\u001b[1;33m\u001b[0m\u001b[1;33m\u001b[0m\u001b[0m\n\u001b[0m\u001b[0;32m    349\u001b[0m     \u001b[1;32mif\u001b[0m \u001b[0mcls\u001b[0m \u001b[1;32mis\u001b[0m \u001b[1;32mNone\u001b[0m\u001b[1;33m:\u001b[0m\u001b[1;33m\u001b[0m\u001b[1;33m\u001b[0m\u001b[0m\n\u001b[0;32m    350\u001b[0m         \u001b[0mcls\u001b[0m \u001b[1;33m=\u001b[0m \u001b[0mJSONDecoder\u001b[0m\u001b[1;33m\u001b[0m\u001b[1;33m\u001b[0m\u001b[0m\n",
      "\u001b[1;32m~\\Anaconda2\\envs\\py35\\lib\\json\\decoder.py\u001b[0m in \u001b[0;36mdecode\u001b[1;34m(self, s, _w)\u001b[0m\n\u001b[0;32m    335\u001b[0m \u001b[1;33m\u001b[0m\u001b[0m\n\u001b[0;32m    336\u001b[0m         \"\"\"\n\u001b[1;32m--> 337\u001b[1;33m         \u001b[0mobj\u001b[0m\u001b[1;33m,\u001b[0m \u001b[0mend\u001b[0m \u001b[1;33m=\u001b[0m \u001b[0mself\u001b[0m\u001b[1;33m.\u001b[0m\u001b[0mraw_decode\u001b[0m\u001b[1;33m(\u001b[0m\u001b[0ms\u001b[0m\u001b[1;33m,\u001b[0m \u001b[0midx\u001b[0m\u001b[1;33m=\u001b[0m\u001b[0m_w\u001b[0m\u001b[1;33m(\u001b[0m\u001b[0ms\u001b[0m\u001b[1;33m,\u001b[0m \u001b[1;36m0\u001b[0m\u001b[1;33m)\u001b[0m\u001b[1;33m.\u001b[0m\u001b[0mend\u001b[0m\u001b[1;33m(\u001b[0m\u001b[1;33m)\u001b[0m\u001b[1;33m)\u001b[0m\u001b[1;33m\u001b[0m\u001b[1;33m\u001b[0m\u001b[0m\n\u001b[0m\u001b[0;32m    338\u001b[0m         \u001b[0mend\u001b[0m \u001b[1;33m=\u001b[0m \u001b[0m_w\u001b[0m\u001b[1;33m(\u001b[0m\u001b[0ms\u001b[0m\u001b[1;33m,\u001b[0m \u001b[0mend\u001b[0m\u001b[1;33m)\u001b[0m\u001b[1;33m.\u001b[0m\u001b[0mend\u001b[0m\u001b[1;33m(\u001b[0m\u001b[1;33m)\u001b[0m\u001b[1;33m\u001b[0m\u001b[1;33m\u001b[0m\u001b[0m\n\u001b[0;32m    339\u001b[0m         \u001b[1;32mif\u001b[0m \u001b[0mend\u001b[0m \u001b[1;33m!=\u001b[0m \u001b[0mlen\u001b[0m\u001b[1;33m(\u001b[0m\u001b[0ms\u001b[0m\u001b[1;33m)\u001b[0m\u001b[1;33m:\u001b[0m\u001b[1;33m\u001b[0m\u001b[1;33m\u001b[0m\u001b[0m\n",
      "\u001b[1;32m~\\Anaconda2\\envs\\py35\\lib\\json\\decoder.py\u001b[0m in \u001b[0;36mraw_decode\u001b[1;34m(self, s, idx)\u001b[0m\n\u001b[0;32m    353\u001b[0m             \u001b[0mobj\u001b[0m\u001b[1;33m,\u001b[0m \u001b[0mend\u001b[0m \u001b[1;33m=\u001b[0m \u001b[0mself\u001b[0m\u001b[1;33m.\u001b[0m\u001b[0mscan_once\u001b[0m\u001b[1;33m(\u001b[0m\u001b[0ms\u001b[0m\u001b[1;33m,\u001b[0m \u001b[0midx\u001b[0m\u001b[1;33m)\u001b[0m\u001b[1;33m\u001b[0m\u001b[1;33m\u001b[0m\u001b[0m\n\u001b[0;32m    354\u001b[0m         \u001b[1;32mexcept\u001b[0m \u001b[0mStopIteration\u001b[0m \u001b[1;32mas\u001b[0m \u001b[0merr\u001b[0m\u001b[1;33m:\u001b[0m\u001b[1;33m\u001b[0m\u001b[1;33m\u001b[0m\u001b[0m\n\u001b[1;32m--> 355\u001b[1;33m             \u001b[1;32mraise\u001b[0m \u001b[0mJSONDecodeError\u001b[0m\u001b[1;33m(\u001b[0m\u001b[1;34m\"Expecting value\"\u001b[0m\u001b[1;33m,\u001b[0m \u001b[0ms\u001b[0m\u001b[1;33m,\u001b[0m \u001b[0merr\u001b[0m\u001b[1;33m.\u001b[0m\u001b[0mvalue\u001b[0m\u001b[1;33m)\u001b[0m \u001b[1;32mfrom\u001b[0m \u001b[1;32mNone\u001b[0m\u001b[1;33m\u001b[0m\u001b[1;33m\u001b[0m\u001b[0m\n\u001b[0m\u001b[0;32m    356\u001b[0m         \u001b[1;32mreturn\u001b[0m \u001b[0mobj\u001b[0m\u001b[1;33m,\u001b[0m \u001b[0mend\u001b[0m\u001b[1;33m\u001b[0m\u001b[1;33m\u001b[0m\u001b[0m\n",
      "\u001b[1;31mJSONDecodeError\u001b[0m: Expecting value: line 1 column 1 (char 0)"
     ]
    }
   ],
   "source": [
    "import requests\n",
    "r=requests.get(url)\n",
    "trade=r.json()"
   ]
  },
  {
   "cell_type": "markdown",
   "metadata": {},
   "source": [
    "가져온 상권의 생활인구 정보를 살펴보자.\n",
    "기준 기간의 성별, 연령별로 나누어져 인구 수가 포함되어 있다.\n",
    "\n",
    "```\n",
    "{'VwsmTrdarFlpopQq':\n",
    "    {'list_total_count': 5980,\n",
    "        'RESULT': {'CODE': 'INFO-000', 'MESSAGE': '정상 처리되었습니다'},\n",
    "        'row': [{\n",
    "                'STDR_YY_CD': '2017',                   # 기준년코드\n",
    "                'STDR_QU_CD': '1',                      # 기준분기코드\n",
    "                'TRDAR_SE_CD': 'A',                     # 상권구분코드\n",
    "                'TRDAR_SE_CD_NM': '골목상권',            # 상권구분코드명\n",
    "                'TRDAR_CD': '1000665',                  # 상권코드\n",
    "                'TRDAR_CD_NM': '독산로78다길',           # 상권코드명\n",
    "                'TOT_FLPOP_CO': 126387.0,               # 총생활인구수\n",
    "                'ML_FLPOP_CO': 63047.0,                 # 남성생활인구수\n",
    "                'FML_FLPOP_CO': 63339.0,                # 여성생활인구수\n",
    "                'AGRDE_10_FLPOP_CO': 2360.0,            # 연령대 10 생활인구수\n",
    "                'AGRDE_20_FLPOP_CO': 22721.0,           # 연령대 20 생활인구수\n",
    "                ...\n",
    "                'FAG_60_ABOVE_SUNTM_6_FLPOP_CO': 31.0   # 여성연령대 60 이상 일요일시간대 6 생활인구수\n",
    "                }]\n",
    "    }\n",
    "}\n",
    "```"
   ]
  },
  {
   "cell_type": "code",
   "execution_count": 21,
   "metadata": {},
   "outputs": [
    {
     "name": "stdout",
     "output_type": "stream",
     "text": [
      "<bound method Response.json of <Response [200]>>\n"
     ]
    }
   ],
   "source": [
    "print (trade)"
   ]
  },
  {
   "cell_type": "markdown",
   "metadata": {},
   "source": [
    "위 항목 가운데 'TRDAR_CD', 'TRDAR_CD_NM', 'TOT_FLPOP_CO', 'ML_FLPOP_CO', 'FML_FLPOP_CO'만 선택하여 출력해보자."
   ]
  },
  {
   "cell_type": "code",
   "execution_count": null,
   "metadata": {},
   "outputs": [],
   "source": [
    "for e in trade['VwsmTrdarFlpopQq']['row']:\n",
    "    print (e['TRDAR_CD'], e['TRDAR_CD_NM'], e['TOT_FLPOP_CO'], e['ML_FLPOP_CO'], e['FML_FLPOP_CO'])"
   ]
  },
  {
   "cell_type": "markdown",
   "metadata": {},
   "source": [
    "### 프로그램"
   ]
  },
  {
   "cell_type": "code",
   "execution_count": 47,
   "metadata": {},
   "outputs": [
    {
     "name": "stdout",
     "output_type": "stream",
     "text": [
      "Writing src/ds_open_trade_json.py\n"
     ]
    }
   ],
   "source": [
    "%%writefile src/ds_open_trade_json.py\n",
    "#!/usr/bin/env python\n",
    "# coding: utf-8\n",
    "import os\n",
    "import requests\n",
    "import urllib\n",
    "import mylib\n",
    "\n",
    "def doIt():\n",
    "    keyPath=os.path.join(os.getcwd(), 'src', 'key.properties')\n",
    "    key=mylib.getKey(keyPath)\n",
    "    # (1) make params with resource IDs\n",
    "    KEY=key['dataseoul']\n",
    "    TYPE='json'\n",
    "    SERVICE='VwsmTrdarFlpopQq'\n",
    "    START_INDEX=str(1)\n",
    "    END_INDEX=str(10)\n",
    "    STDR_YM_CD=str(2017)\n",
    "    params=os.path.join(KEY,TYPE,SERVICE,START_INDEX,END_INDEX,STDR_YM_CD)\n",
    "    # (2) make a full url\n",
    "    _url='http://openAPI.seoul.go.kr:8088'\n",
    "    #url=urllib.parse.urljoin(_url,params)\n",
    "    url=\"/\".join([_url,params])\n",
    "    # (3) get data\n",
    "    r=requests.get(url)\n",
    "    trade=r.json()\n",
    "    for e in trade['VwsmTrdarFlpopQq']['row']:\n",
    "        #print(e['TRDAR_CD_NM'])\n",
    "        print (e['TRDAR_CD'], e['TRDAR_CD_NM'], e['TOT_FLPOP_CO'], e['ML_FLPOP_CO'], e['FML_FLPOP_CO'])\n",
    "    #for e in stations['SearchSTNBySubwayLineService']['row']:\n",
    "        #print e['STATION_CD'], e['STATION_NM'], e['FR_CODE'], e['LINE_NUM']\n",
    "\n",
    "if __name__ == \"__main__\":\n",
    "    doIt()"
   ]
  },
  {
   "cell_type": "code",
   "execution_count": 48,
   "metadata": {},
   "outputs": [
    {
     "name": "stderr",
     "output_type": "stream",
     "text": [
      "Traceback (most recent call last):\n",
      "  File \"C:\\Users\\zaqxs\\Code\\201910787\\s-master\\src\\ds_open_trade_json.py\", line 33, in <module>\n",
      "    doIt()\n",
      "  File \"C:\\Users\\zaqxs\\Code\\201910787\\s-master\\src\\ds_open_trade_json.py\", line 25, in doIt\n",
      "    trade=r.json()\n",
      "  File \"C:\\Users\\zaqxs\\AppData\\Local\\Packages\\PythonSoftwareFoundation.Python.3.9_qbz5n2kfra8p0\\LocalCache\\local-packages\\Python39\\site-packages\\requests\\models.py\", line 910, in json\n",
      "    return complexjson.loads(self.text, **kwargs)\n",
      "  File \"C:\\Program Files\\WindowsApps\\PythonSoftwareFoundation.Python.3.9_3.9.2032.0_x64__qbz5n2kfra8p0\\lib\\json\\__init__.py\", line 346, in loads\n",
      "    return _default_decoder.decode(s)\n",
      "  File \"C:\\Program Files\\WindowsApps\\PythonSoftwareFoundation.Python.3.9_3.9.2032.0_x64__qbz5n2kfra8p0\\lib\\json\\decoder.py\", line 337, in decode\n",
      "    obj, end = self.raw_decode(s, idx=_w(s, 0).end())\n",
      "  File \"C:\\Program Files\\WindowsApps\\PythonSoftwareFoundation.Python.3.9_3.9.2032.0_x64__qbz5n2kfra8p0\\lib\\json\\decoder.py\", line 355, in raw_decode\n",
      "    raise JSONDecodeError(\"Expecting value\", s, err.value) from None\n",
      "json.decoder.JSONDecodeError: Expecting value: line 1 column 1 (char 0)\n"
     ]
    }
   ],
   "source": [
    "!python3 src/ds_open_trade_json.py"
   ]
  },
  {
   "cell_type": "markdown",
   "metadata": {
    "slideshow": {
     "slide_type": "slide"
    }
   },
   "source": [
    "## 문제 10: 공공데이터포털 서울시 구별 교통사고 사망자 수 구하기\n",
    "\n",
    "공공데이터포털에서 \n",
    "사망교통사고 AccidentDeath API를 사용해서 교통사고 사망자 수를 구해보자.\n",
    "이 데이터는 1년에 1회 갱신되는, 년별 집계를 한다.\n",
    "사망교통사고 API는 다음 2가지가 있다.\n",
    "- getRestTrafficAccidentDeath 사망교통사고정보 Rest 조회\n",
    "- getWMSTrafficAccidentDeath 사망교통사고정보 WMS 조회 (PNG 이미지를 조회)\n",
    "\n",
    "* 예제는 2013년 종로구의 사망자 수를 구한다.\n",
    "* data.go.kr 공공데이터포털에 회원가입한다.\n",
    "* 항목 선정\n",
    "    ```\n",
    "    재난안전 > 교통사고정보 > 사망교통사고정보서비스 > 활용신청\n",
    "    ```\n",
    "    * 활용신청하고자 하는 내역을 입력하고, 활용할 API를 선택하여 '활용신청' 버튼을 클릭한다"
   ]
  },
  {
   "cell_type": "markdown",
   "metadata": {
    "slideshow": {
     "slide_type": "subslide"
    }
   },
   "source": [
    "\n",
    "변수명 | 설명 \n",
    "-----|-----\n",
    "serviceKey | 공공데이터포털에서 발급받은 인증키\n",
    "searchYear | 조회하려는 연도 (예: 2019)\n",
    "siDo | 법정동 시도코드\n",
    "guGun | 법정동 시군구코드\n",
    "type | 결과형식 (xml, json)\n",
    "numOfRows | 한 페이지 결과 수 (Default: 10)\n",
    "pageNo | 페이지 번호 (Default: 1)\n",
    "\n",
    "* '사망교통사고정보서비스' 서비스 예\n",
    "http://apis.data.go.kr/B552061/AccidentDeath/오퍼레이션명?servicekey=서비스키&searchYear=연도코드&siDo=법정동시도코드&guGun=법정동시군구코드&numOfRows=20&pageNo=1 형식으로 만들어준다.\n",
    "예제 url은:\n",
    "http://apis.data.go.kr/B552061/AccidentDeath/getRestTrafficAccidentDeath?servicekey=서비스키&searchYear=2020&siDo=1100&guGun=1116&numOfRows=20&pageNo=1\n",
    " "
   ]
  },
  {
   "cell_type": "markdown",
   "metadata": {},
   "source": [
    "### 인증키\n",
    "\n",
    "공공데이터포털에서 발급받은 인증키가 있어야 한다. 1시간이 지나야 사용할 수 있다고 공지해 놓고 있다. 개발 계정 신청이 승인 되었을 경우 인증키를 발급받을수 있다\n",
    "\n",
    "또한 해당 API에 대한 활용신청이 완료되어야 한다.\n",
    "\n",
    "* 마이페이지로 가서 신청현황을 볼 수 있다.\n",
    "```\n",
    "마이페이지 > 오픈API > 개발계정, 여기로 가면 '신청', '활용', '중지'에 내용을 확인할 수 있다.\n",
    "```"
   ]
  },
  {
   "cell_type": "code",
   "execution_count": 40,
   "metadata": {},
   "outputs": [],
   "source": [
    "import os\n",
    "from src import mylib\n",
    "keyPath=os.path.join(os.getcwd(), 'src', 'key.properties')\n",
    "key=mylib.getKey(keyPath)"
   ]
  },
  {
   "cell_type": "markdown",
   "metadata": {},
   "source": [
    "### API"
   ]
  },
  {
   "cell_type": "code",
   "execution_count": 41,
   "metadata": {
    "slideshow": {
     "slide_type": "subslide"
    }
   },
   "outputs": [
    {
     "name": "stdout",
     "output_type": "stream",
     "text": [
      "AccidentDeath\\getRestTrafficAccidentDeath\n"
     ]
    }
   ],
   "source": [
    "import os\n",
    "SERVICE='AccidentDeath'\n",
    "OPERATION_NAME='getRestTrafficAccidentDeath'\n",
    "params1=os.path.join(SERVICE,OPERATION_NAME)\n",
    "print (params1)"
   ]
  },
  {
   "cell_type": "markdown",
   "metadata": {},
   "source": [
    "### 인자\n",
    "* utf-8을 사용한다. 키에는 인코딩 없이는 넘길 수 없는 '=' 같은 특수 문자들이 포함되어서, UTF-8 인코딩 필요하다.\n",
    "    * 주의\n",
    "        * urllib.urlencode()를 사용할 경우, 키에 포함된 '%'문자와 같은 특수문자를 주의한다.\n"
   ]
  },
  {
   "cell_type": "code",
   "execution_count": 42,
   "metadata": {
    "scrolled": true,
    "slideshow": {
     "slide_type": "subslide"
    }
   },
   "outputs": [
    {
     "name": "stdout",
     "output_type": "stream",
     "text": [
      "searchYear=2020&siDo=1100&guGun=1116&numOfRows=20&pageNo=1\n"
     ]
    }
   ],
   "source": [
    "import urllib\n",
    "_d=dict()\n",
    "_d['searchYear']='2020'\n",
    "_d['siDo']='1100' #서울특별시\n",
    "_d['guGun']='1116'\n",
    "_d['numOfRows']='20'\n",
    "_d['pageNo']='1'\n",
    "#params2=urllib.urlencode(_d)\n",
    "#params2=urllib.parse.urlencode(_d).encode(\"utf-8\")\n",
    "params2=urllib.parse.urlencode(_d)\n",
    "print (params2)"
   ]
  },
  {
   "cell_type": "markdown",
   "metadata": {
    "slideshow": {
     "slide_type": "subslide"
    }
   },
   "source": [
    "### url\n",
    "\n",
    "* urlencode()에 넣지 않고 별도로 param을 만든다."
   ]
  },
  {
   "cell_type": "code",
   "execution_count": 43,
   "metadata": {},
   "outputs": [],
   "source": [
    "params=params1+'?'+'serviceKey='+key['gokr']+'&'+params2\n",
    "#print params"
   ]
  },
  {
   "cell_type": "markdown",
   "metadata": {},
   "source": [
    "* service key는 '%'와 같이 encoding문제가 발생할 수 있는 문자를 가지고 있다.\n",
    "아래에 만들어진 url을 클릭하면, 웹페이지가 열리면서 결과가 출력된다."
   ]
  },
  {
   "cell_type": "code",
   "execution_count": 44,
   "metadata": {
    "slideshow": {
     "slide_type": "subslide"
    }
   },
   "outputs": [
    {
     "name": "stdout",
     "output_type": "stream",
     "text": [
      "http://apis.data.go.kr/B552061/AccidentDeath\\getRestTrafficAccidentDeath?serviceKey=Xfnj9sV5zWaUKvuOLd%2BZOm%2FaMy53DYKfq%2F4M467F%2BWjfE6tm0%2BZr5HXACKGODbytWZcr7TK%2FAUZPhE8216R7jQ%3D%3D&searchYear=2020&siDo=1100&guGun=1116&numOfRows=20&pageNo=1\n"
     ]
    }
   ],
   "source": [
    "import urllib\n",
    "_url='http://apis.data.go.kr/B552061/'\n",
    "url=urllib.parse.urljoin(_url,params)\n",
    "print (url)"
   ]
  },
  {
   "cell_type": "markdown",
   "metadata": {},
   "source": [
    "### 데이터 가져오기"
   ]
  },
  {
   "cell_type": "code",
   "execution_count": 45,
   "metadata": {
    "slideshow": {
     "slide_type": "subslide"
    }
   },
   "outputs": [],
   "source": [
    "import requests\n",
    "\n",
    "data=requests.get(url).text\n",
    "#print data"
   ]
  },
  {
   "cell_type": "markdown",
   "metadata": {},
   "source": [
    "* 출력\n",
    "    * 년월일, 사망자수, 위도, 경도\n",
    "```\n",
    "<response>\n",
    "    <header>\n",
    "        <resultCode>00</resultCode>                  # 결과코드\n",
    "        <resultMsg>NORMAL_CODE</resultMsg>           # 결과메시지\n",
    "    </header>\n",
    "    <body>\n",
    "        <items>\n",
    "            <item>\n",
    "                <acc_year>2020</acc_year>             # 사고년도\n",
    "                <occrrnc_dt>2020010105</occrrnc_dt>   # 발생월일시\n",
    "                <dght_cd>2</dght_cd>                  # 주야구분코드\n",
    "                <occrrnc_day_cd>4</occrrnc_day_cd>    # 발생요일코드\n",
    "                <dth_dnv_cnt>1</dth_dnv_cnt>          # 사망자수\n",
    "                <injpsn_cnt>1</injpsn_cnt>            # 부상자수\n",
    "                <se_dnv_cnt>0</se_dnv_cnt>            # 중상자수\n",
    "                <sl_dnv_cnt>0</sl_dnv_cnt>            # 경상자수\n",
    "                <wnd_dnv_cnt>0</wnd_dnv_cnt>          # 부상신고자수\n",
    "                ...\n",
    "                <occrrnc_lc_x_crd>959928  </occrrnc_lc_x_crd> # 발생위치X좌표\n",
    "                <occrrnc_lc_y_crd>1943154 </occrrnc_lc_y_crd> # 발생위치X좌표\n",
    "                <lo_crd>127.04672718</lo_crd>                 # 경도좌표\n",
    "                <la_crd>37.48676083</la_crd>                  # 위도좌표\n",
    "            </item>\n",
    "            <item>\n",
    "            ...\n",
    "            </item>\n",
    "            ...\n",
    "         </items>\n",
    "         <totalCount>17</totalCount>\n",
    "         <numOfRows>17</numOfRows>\n",
    "         <pageNo>1</pageNo>\n",
    "    </body>\n",
    "</response>\n",
    "```"
   ]
  },
  {
   "cell_type": "code",
   "execution_count": 46,
   "metadata": {},
   "outputs": [
    {
     "name": "stdout",
     "output_type": "stream",
     "text": [
      "\n"
     ]
    }
   ],
   "source": [
    "print (data)"
   ]
  },
  {
   "cell_type": "markdown",
   "metadata": {},
   "source": [
    "## 문제 11: 공공데이터포털 대기 오염 정보\n",
    "\n",
    "공공데이터포털에서 대기오염을 검색하면 ```한국환경공단_에어코리아_대기오염정보```를 찾을 수 있다.\n",
    "이 API를 사용하려면, ```한국환경공단_에어코리아_대기오염정보``` 항목을 선택하여 활용신청'한다."
   ]
  },
  {
   "cell_type": "markdown",
   "metadata": {},
   "source": [
    "변수명 | 설명 \n",
    "-----|-----\n",
    "serviceKey | 공공데이터포털에서 발급받은 인증키\n",
    "returnType (선택) | 데이터표출방식, xml 또는 json\n",
    "numOfRows (선택) | 한 페이지 결과 수 (Default: 10)\n",
    "pageNo (선택) | 페이지 번호 (Default: 1)\n",
    "searchDate (선택) | 조회날짜 (예: 2020-11-14)\n",
    "InformCode (선택) | 통보코드검색 (PM10, PM25, O3) (예: PM10)"
   ]
  },
  {
   "cell_type": "markdown",
   "metadata": {
    "slideshow": {
     "slide_type": "slide"
    }
   },
   "source": [
    "* 예제 (사이트 미리보기)\n",
    "\n",
    "http://apis.data.go.kr/B552584/ArpltnInforInqireSvc/getMinuDustFrcstDspth?serviceKey=서비스키&searchDate=2021-08-10"
   ]
  },
  {
   "cell_type": "markdown",
   "metadata": {},
   "source": [
    "### 인증키"
   ]
  },
  {
   "cell_type": "code",
   "execution_count": 49,
   "metadata": {},
   "outputs": [],
   "source": [
    "import os\n",
    "from src import mylib\n",
    "keyPath=os.path.join(os.getcwd(), 'src', 'key.properties')\n",
    "key=mylib.getKey(keyPath)"
   ]
  },
  {
   "cell_type": "markdown",
   "metadata": {
    "slideshow": {
     "slide_type": "subslide"
    }
   },
   "source": [
    "### 요청인자\n",
    "\n",
    "서비스명, 오퍼레이션명, 요청인자를 묶어 경로를 만든다."
   ]
  },
  {
   "cell_type": "code",
   "execution_count": 50,
   "metadata": {},
   "outputs": [],
   "source": [
    "import os\n",
    "SERVICE='ArpltnInforInqireSvc'\n",
    "OPERATION_NAME='getMinuDustFrcstDspth'\n",
    "params1=os.path.join(SERVICE,OPERATION_NAME)"
   ]
  },
  {
   "cell_type": "code",
   "execution_count": 51,
   "metadata": {
    "scrolled": true
   },
   "outputs": [
    {
     "name": "stdout",
     "output_type": "stream",
     "text": [
      "ArpltnInforInqireSvc\\getMinuDustFrcstDspth\n"
     ]
    }
   ],
   "source": [
    "print (params1)"
   ]
  },
  {
   "cell_type": "code",
   "execution_count": 52,
   "metadata": {},
   "outputs": [],
   "source": [
    "import urllib\n",
    "_d=dict()\n",
    "\n",
    "#_d['stationName']='종로구'\n",
    "_d['searchDate']='2021-08-10'\n",
    "params2 = urllib.parse.urlencode(_d)"
   ]
  },
  {
   "cell_type": "code",
   "execution_count": 53,
   "metadata": {
    "scrolled": false,
    "slideshow": {
     "slide_type": "subslide"
    }
   },
   "outputs": [
    {
     "name": "stdout",
     "output_type": "stream",
     "text": [
      "searchDate=2021-08-10\n"
     ]
    }
   ],
   "source": [
    "print (params2)"
   ]
  },
  {
   "cell_type": "markdown",
   "metadata": {
    "slideshow": {
     "slide_type": "subslide"
    }
   },
   "source": [
    "### url\n",
    "\n",
    "serviceKey에 대문자 섞임 (위와 다름)"
   ]
  },
  {
   "cell_type": "code",
   "execution_count": 54,
   "metadata": {
    "scrolled": true
   },
   "outputs": [],
   "source": [
    "params=params1+'?'+'serviceKey='+key['gokr']+'&'+params2\n",
    "#print params"
   ]
  },
  {
   "cell_type": "code",
   "execution_count": 55,
   "metadata": {},
   "outputs": [],
   "source": [
    "import urllib\n",
    "#OLD: _url='http://openapi.airkorea.or.kr/openapi/services/rest/ArpltnInforInqireSvc'\n",
    "_url='http://apis.data.go.kr/B552584'"
   ]
  },
  {
   "cell_type": "code",
   "execution_count": 56,
   "metadata": {},
   "outputs": [
    {
     "name": "stdout",
     "output_type": "stream",
     "text": [
      "http://apis.data.go.kr/B552584\n"
     ]
    }
   ],
   "source": [
    "print(_url)"
   ]
  },
  {
   "cell_type": "code",
   "execution_count": 57,
   "metadata": {},
   "outputs": [],
   "source": [
    "url=\"/\".join([_url,params])"
   ]
  },
  {
   "cell_type": "markdown",
   "metadata": {},
   "source": [
    "아래를 클릭하면 결과가 나오는지 확인해보자."
   ]
  },
  {
   "cell_type": "code",
   "execution_count": 58,
   "metadata": {
    "scrolled": false,
    "slideshow": {
     "slide_type": "subslide"
    }
   },
   "outputs": [
    {
     "name": "stdout",
     "output_type": "stream",
     "text": [
      "http://apis.data.go.kr/B552584/ArpltnInforInqireSvc\\getMinuDustFrcstDspth?serviceKey=Xfnj9sV5zWaUKvuOLd%2BZOm%2FaMy53DYKfq%2F4M467F%2BWjfE6tm0%2BZr5HXACKGODbytWZcr7TK%2FAUZPhE8216R7jQ%3D%3D&searchDate=2021-08-10\n"
     ]
    }
   ],
   "source": [
    "print (url)"
   ]
  },
  {
   "cell_type": "markdown",
   "metadata": {},
   "source": [
    "### url 요청"
   ]
  },
  {
   "cell_type": "code",
   "execution_count": 59,
   "metadata": {},
   "outputs": [],
   "source": [
    "import requests\n",
    "\n",
    "data=requests.get(url).text"
   ]
  },
  {
   "cell_type": "markdown",
   "metadata": {},
   "source": [
    "* 결과 예\n",
    "```\n",
    "<response>\n",
    "  <header>\n",
    "    <resultCode>00</resultCode>\n",
    "    <resultMsg>NORMAL_CODE</resultMsg>\n",
    "  </header>\n",
    "  <body>\n",
    "    <items>\n",
    "      <item>\n",
    "        <imageUrl4>https://www.airkorea.or.kr/file/proxyImage?fileName=2021/08/10/AQFv1_15h.20210810.KNU_09_01.PM2P5.1hsp.2021081021.png</imageUrl4>              # 시간대별 예측모델 결과사진\n",
    "        <informCode>PM10</informCode>                                                               # 통보코드\n",
    "        ...\n",
    "        <actionKnack/>                                                                              # 행동요령\n",
    "        <informCause>○ [미세먼지] 원활한 대기 확산과 강수의 영향으로 대기 상태가 청정할 것으로 예상됩니다.</informCause> # 발생원인\n",
    "        <informOverall>○ [미세먼지] 전 권역이 &apos;좋음&apos;으로 예상됩니다.</informOverall>                        # 예보개황\n",
    "        <informData>2021-08-10</informData>                                                                        # 예측통보시간\n",
    "        <informGrade>서울 : 좋음,제주 : 좋음,전남 : 좋음,전북 : 좋음,광주 : 좋음,...,인천 : 좋음</informGrade>         # 예보등급\n",
    "        <dataTime>2021-08-10 23시 발표</dataTime>                                                                   # 통보시간\n",
    "      </item>\n",
    "```"
   ]
  },
  {
   "cell_type": "code",
   "execution_count": 60,
   "metadata": {
    "scrolled": true,
    "slideshow": {
     "slide_type": "subslide"
    }
   },
   "outputs": [
    {
     "name": "stdout",
     "output_type": "stream",
     "text": [
      "\n"
     ]
    }
   ],
   "source": [
    "print (data)"
   ]
  },
  {
   "cell_type": "markdown",
   "metadata": {},
   "source": [
    "### 일괄실행"
   ]
  },
  {
   "cell_type": "code",
   "execution_count": 61,
   "metadata": {
    "slideshow": {
     "slide_type": "-"
    }
   },
   "outputs": [
    {
     "name": "stdout",
     "output_type": "stream",
     "text": [
      "Writing src/ds_open_gokr_ex.py\n"
     ]
    }
   ],
   "source": [
    "%%writefile src/ds_open_gokr_ex.py\n",
    "#!/usr/bin/env python\n",
    "# coding: utf-8\n",
    "import os\n",
    "import requests\n",
    "import urllib\n",
    "import mylib\n",
    "\n",
    "def doIt():\n",
    "    # (1) key\n",
    "    keyPath=os.path.join(os.getcwd(), 'src', 'key.properties')\n",
    "    key=mylib.getKey(keyPath)\n",
    "    keygokr=key['gokr'] # keygokr='8Bx4C1%2B...'\n",
    "    # (2) service + operation\n",
    "    SERVICE='ArpltnInforInqireSvc'\n",
    "    OPERATION_NAME='getMinuDustFrcstDspth'\n",
    "    params1=os.path.join(SERVICE,OPERATION_NAME)\n",
    "    # (3) query params encoding\n",
    "    _d=dict()\n",
    "    _d['searchDate']='2021-08-10'\n",
    "    params2 = urllib.parse.urlencode(_d)\n",
    "    # (4) make a full url\n",
    "    params=params1+'?'+'serviceKey='+keygokr+'&'+params2\n",
    "    #OLD: _url='http://openapi.airkorea.or.kr/openapi/services/rest/ArpltnInforInqireSvc'\n",
    "    _url='http://apis.data.go.kr/B552584'\n",
    "    #url=urllib.parse.urljoin(_url,params)\n",
    "    url=\"/\".join([_url,params])\n",
    "    # (5) get data\n",
    "    data=requests.get(url).text\n",
    "    print (data)\n",
    "\n",
    "if __name__ == \"__main__\":\n",
    "    doIt()"
   ]
  },
  {
   "cell_type": "markdown",
   "metadata": {},
   "source": [
    "* 공공데이터 포털 go.kr의 '대기오염정보 조회 서비스'"
   ]
  },
  {
   "cell_type": "code",
   "execution_count": 62,
   "metadata": {
    "slideshow": {
     "slide_type": "subslide"
    }
   },
   "outputs": [
    {
     "name": "stdout",
     "output_type": "stream",
     "text": [
      "\n"
     ]
    }
   ],
   "source": [
    "!python3 src/ds_open_gokr_ex.py"
   ]
  },
  {
   "cell_type": "markdown",
   "metadata": {},
   "source": [
    "## 문제 12: 공공데이터포털 서울특별시교육청 공공도서관 소장도서정보\n",
    "\n",
    "\n",
    "'서울특별시교육청 공공도서관 소장도서정보'로 검색하면 API를 찾을 수 있다.\n",
    "이 API는 서울특별시교육청 공공도서관 및 평생학습관의 소장도서 정보(표제, 저자, 발행자, 발행년, 청구기호, 소장위치, ISBN 등)를 조회할 수 있는 API이다.\n",
    "* endpoint http://openapi-lib.sen.go.kr\n",
    "* 사용법은 OpenAPI활용가이드를 참조\n",
    "\n",
    "\n",
    "변수명 | 설명 \n",
    "-----|-----\n",
    "serviceKey | 공공데이터포털에서 발급받은 인증키\n",
    "title | 도서제목검색어\n",
    "manageCd | 도서관코드 (MA (강남도서관)..MU (종로도서관))\n",
    "numOfRows | 한 페이지 결과 수 (Default: 10)\n",
    "pageNo | 페이지 번호 (Default: 1)"
   ]
  },
  {
   "cell_type": "markdown",
   "metadata": {
    "slideshow": {
     "slide_type": "subslide"
    }
   },
   "source": [
    "* 샘플URL <...>자리에 키(utf-8)를 넣는다.\n",
    "    ```\n",
    "    http://openapi-lib.sen.go.kr/openapi/service/lib/openApi?serviceKey=<...>&manageCd=MA&numOfRows=5&pageNo=2&title=%EB%8F%84%EB%91%91\n",
    "    ```"
   ]
  },
  {
   "cell_type": "markdown",
   "metadata": {},
   "source": [
    "### 인증키\n",
    "\n",
    "* 자신의 키를 읽기\n",
    "    * 키를 출력하는 명령문은 확인 후, comment로 처리해 감추었다."
   ]
  },
  {
   "cell_type": "code",
   "execution_count": 63,
   "metadata": {},
   "outputs": [],
   "source": [
    "import os\n",
    "import src.mylib\n",
    "\n",
    "keyPath=os.path.join(os.getcwd(), 'src', 'key.properties')\n",
    "key=src.mylib.getKey(keyPath)\n",
    "#print key['gokr']"
   ]
  },
  {
   "cell_type": "markdown",
   "metadata": {
    "slideshow": {
     "slide_type": "subslide"
    }
   },
   "source": [
    "### 요청인자\n",
    "\n",
    "* title에서는 그대로 한글을 사용하였다. 한글 '도둑'이 url encoding되었다."
   ]
  },
  {
   "cell_type": "code",
   "execution_count": 64,
   "metadata": {},
   "outputs": [],
   "source": [
    "import urllib\n",
    "\n",
    "_d=dict()\n",
    "_d['title']='도둑'\n",
    "_d['manageCd']='MA'\n",
    "_d['numOfRows']='5'\n",
    "_d['pageNo']='2'\n",
    "params2 = urllib.parse.urlencode(_d)"
   ]
  },
  {
   "cell_type": "markdown",
   "metadata": {},
   "source": [
    "한글이 인터넷 인코딩되어서 ```%```가 섞여있다."
   ]
  },
  {
   "cell_type": "code",
   "execution_count": 65,
   "metadata": {
    "scrolled": false
   },
   "outputs": [
    {
     "name": "stdout",
     "output_type": "stream",
     "text": [
      "title=%EB%8F%84%EB%91%91&manageCd=MA&numOfRows=5&pageNo=2\n"
     ]
    }
   ],
   "source": [
    "print (params2)"
   ]
  },
  {
   "cell_type": "code",
   "execution_count": 66,
   "metadata": {
    "scrolled": true
   },
   "outputs": [],
   "source": [
    "params='?'+'serviceKey='+key['gokr']+'&'+params2\n",
    "#print params"
   ]
  },
  {
   "cell_type": "markdown",
   "metadata": {
    "slideshow": {
     "slide_type": "subslide"
    }
   },
   "source": [
    "### url\n",
    "\n",
    "* 서비스, 오퍼레이션은 별도로 지정하지 않는다.\n",
    "    ```\n",
    "    SERVICE=''\n",
    "    OPERATION_NAME=''\n",
    "    ```"
   ]
  },
  {
   "cell_type": "code",
   "execution_count": 67,
   "metadata": {},
   "outputs": [],
   "source": [
    "import urllib\n",
    "_url = 'http://openapi-lib.sen.go.kr/openapi/service/lib/openApi'\n",
    "url=urllib.parse.urljoin(_url,params)"
   ]
  },
  {
   "cell_type": "code",
   "execution_count": 68,
   "metadata": {
    "scrolled": true,
    "slideshow": {
     "slide_type": "subslide"
    }
   },
   "outputs": [
    {
     "name": "stdout",
     "output_type": "stream",
     "text": [
      "http://openapi-lib.sen.go.kr/openapi/service/lib/openApi?serviceKey=Xfnj9sV5zWaUKvuOLd%2BZOm%2FaMy53DYKfq%2F4M467F%2BWjfE6tm0%2BZr5HXACKGODbytWZcr7TK%2FAUZPhE8216R7jQ%3D%3D&title=%EB%8F%84%EB%91%91&manageCd=MA&numOfRows=5&pageNo=2\n"
     ]
    }
   ],
   "source": [
    "print (url)"
   ]
  },
  {
   "cell_type": "markdown",
   "metadata": {
    "slideshow": {
     "slide_type": "subslide"
    }
   },
   "source": [
    "### url 요청\n",
    "\n",
    "* 사이트 샘플코드 참조\n",
    "    ```\n",
    "    request = Request(url + queryParams)\n",
    "    request.get_method = lambda: 'GET'\n",
    "    response_body = urlopen(request).read()\n",
    "    print response_body\n",
    "    ```"
   ]
  },
  {
   "cell_type": "code",
   "execution_count": 69,
   "metadata": {
    "scrolled": true
   },
   "outputs": [],
   "source": [
    "import requests\n",
    "\n",
    "data=requests.get(url).text\n",
    "#print data"
   ]
  },
  {
   "cell_type": "markdown",
   "metadata": {},
   "source": [
    "결과는 다음과 같다.\n",
    "```\n",
    "<response>\n",
    "    <header>\n",
    "        <resultCode>00</resultCode>\n",
    "        <resultMsg>NORMAL SERVICE.</resultMsg>\n",
    "    </header>\n",
    "    <body>\n",
    "        <items>\n",
    "            <item>\n",
    "                <appendixYn>N</appendixYn>                       # 부록유무\n",
    "                <author>송아주 글;한상언 그림</author>             # 저작자\n",
    "                <bookKey>5388757197</bookKey>                    # 책 레코드키\n",
    "                <callNo>유 813.5-ㅅ566ㄷ</callNo>                 # 청구기호\n",
    "                <controlNo>JMO201800117</controlNo>              # 제어번호\n",
    "                <isbn>9791195339785</isbn>                       # 낱권ISBN\n",
    "                <libName>강남도서관</libName>                     # 소장도서관(이름)\n",
    "                <manageCode>MA</manageCode>                      # 소장도서관(관리구분)\n",
    "                <pubYear>2018</pubYear>                          # 발행년도\n",
    "                <publisher>도토리나무</publisher>                 # 발행자\n",
    "                <regNo>JUA000066397</regNo>                      # 등록번호\n",
    "                <rnum>6</rnum>                                   # 결과순번\n",
    "                <shelfLocName>[강남]1층 도담놀이터</shelfLocName>  # 소장자료실명\n",
    "                <speciesKey>5388757195</speciesKey>              # 총 레코드키\n",
    "                <title>도둑 떼와 꾀 많은 꼬마</title>              # 표제\n",
    "            </item>\n",
    "            <item>...</item>\n",
    "            <item>...</item>\n",
    "            <item>...</item>\n",
    "            <item>...</item>\n",
    "        </items>\n",
    "        <numOfRows>5</numOfRows>\n",
    "        <pageNo>2</pageNo>\n",
    "        <totalCount>171</totalCount>\n",
    "    </body>\n",
    "</response>\n",
    "```"
   ]
  },
  {
   "cell_type": "code",
   "execution_count": 70,
   "metadata": {
    "scrolled": false
   },
   "outputs": [
    {
     "name": "stdout",
     "output_type": "stream",
     "text": [
      "<?xml version=\"1.0\" encoding=\"UTF-8\" standalone=\"yes\"?><response><header><resultCode>99</resultCode><resultMsg>SERVICE KEY IS NOT REGISTERED ERROR.</resultMsg></header></response>\n"
     ]
    }
   ],
   "source": [
    "print (data)"
   ]
  },
  {
   "cell_type": "markdown",
   "metadata": {
    "slideshow": {
     "slide_type": "subslide"
    }
   },
   "source": [
    "* 일괄 실행하기\n",
    "    * main을 넣어주고, 함수구조로 만들어 준다.\n",
    "    * 첫 줄에 'coding: utf-8'을 지정한다.\n",
    "    * 검색어가 한글이 포함되어 있다.\n",
    "    * 주의: import src.mylib은 상대경로이므로 mylib으로 수정한다.\n"
   ]
  },
  {
   "cell_type": "code",
   "execution_count": 71,
   "metadata": {},
   "outputs": [
    {
     "name": "stdout",
     "output_type": "stream",
     "text": [
      "Overwriting src/ds_open_library.py\n"
     ]
    }
   ],
   "source": [
    "%%writefile src/ds_open_library.py\n",
    "# coding: utf-8\n",
    "import os\n",
    "import urllib\n",
    "import requests\n",
    "import mylib\n",
    "\n",
    "def doIt():\n",
    "    _d=dict()\n",
    "    _d['title']='도둑' \n",
    "    _d['manageCd']='MA'\n",
    "    _d['numOfRows']='5'\n",
    "    _d['pageNo']='2'\n",
    "    params2 = urllib.parse.urlencode(_d)\n",
    "\n",
    "    keyPath=os.path.join(os.getcwd(), 'src', 'key.properties')\n",
    "    key=mylib.getKey(keyPath)\n",
    "    params='?'+'serviceKey='+key['gokr']+'&'+params2\n",
    "\n",
    "    _url = 'http://openapi-lib.sen.go.kr/openapi/service/lib/openApi'\n",
    "    url=urllib.parse.urljoin(_url,params)\n",
    "    data=requests.get(url).text\n",
    "    print (data)\n",
    "\n",
    "if __name__ == \"__main__\":\n",
    "    doIt()\n"
   ]
  },
  {
   "cell_type": "code",
   "execution_count": 72,
   "metadata": {
    "scrolled": false,
    "slideshow": {
     "slide_type": "subslide"
    }
   },
   "outputs": [
    {
     "name": "stdout",
     "output_type": "stream",
     "text": [
      "<?xml version=\"1.0\" encoding=\"UTF-8\" standalone=\"yes\"?><response><header><resultCode>99</resultCode><resultMsg>SERVICE KEY IS NOT REGISTERED ERROR.</resultMsg></header></response>\n"
     ]
    }
   ],
   "source": [
    "!python3 src/ds_open_library.py"
   ]
  },
  {
   "cell_type": "markdown",
   "metadata": {
    "slideshow": {
     "slide_type": "slide"
    }
   },
   "source": [
    "## 문제 13: 주식 데이터 읽기\n",
    "\n",
    "* Pandas 인터넷에서 데이터를 읽어서 DataFrame으로 만든다. 라이브러리를 설치하려면:\n",
    "\n",
    "```\n",
    "pip install pandas-datareader\n",
    "```\n",
    "\n",
    "Pandas datareader는 인터넷에 제공되는 다음과 같은 경제관련 출처로부터 데이터를 읽어서 dataframe을 생성해준다.\n",
    "\n",
    "- Tiingo - historical end-of-day prices on equities, mutual funds and ETFs, 인증키 필요\n",
    "- IEX - 과거 주가 데이터, 인증키 필요 (os.environ[\"IEX_API_KEY\"] 설정) \n",
    "- Alpha - 실시간 equities and forex, 인증키 필요\n",
    "- Quotes - 실시간 stock quotes, market hours 개장 중에만 사용가능\n",
    "- Forex - 환율, 인증키 필요 (os.environ['ALPHAVANTAGE_API_KEY'] 설정) \n",
    "- Sector Performance - 에너지, 부동산, 헬스케어 등 산업군 지표, 인증키 필요 (os.environ['ALPHAVANTAGE_API_KEY'] 설정) \n",
    "- Econdb - 경제 시계열\n",
    "- Enigma - 공공데이터\n",
    "- Quandl -  Quandl에서 제공하는 일일 주가, ET, 인증키 필요 (os.environ['QUANDL_API_KEY'] 설정)\n",
    "- FRED -  프랑스 농업관련 데이터\n",
    "- Word Bank - 세계 은행 GDP 관련 데이터\n",
    "- OECD - OECD 각 국 경제 데이터\n",
    "- Nasdaq - 거래종목\n",
    "- Stooq - Stooq에서 제공하는 주식관련 데이터\n",
    "- MOEX - Moscow Exchange (MOEX) \n",
    "- Naver Finance - 네이버에서 제공하는 KOSPI, KOSDAQ 데이터\n",
    "- Yahoo Finance 야후에서 제공하는 주식, 배당금 데이터"
   ]
  },
  {
   "cell_type": "markdown",
   "metadata": {},
   "source": [
    "### World Bank\n",
    "\n",
    " \n",
    "GDP per capita in constant 2010 U.S. dollars.\n"
   ]
  },
  {
   "cell_type": "code",
   "execution_count": 73,
   "metadata": {},
   "outputs": [
    {
     "ename": "ModuleNotFoundError",
     "evalue": "No module named 'pandas_datareader'",
     "output_type": "error",
     "traceback": [
      "\u001b[1;31m---------------------------------------------------------------------------\u001b[0m",
      "\u001b[1;31mModuleNotFoundError\u001b[0m                       Traceback (most recent call last)",
      "\u001b[1;32m<ipython-input-73-bf5a0fa8b1a0>\u001b[0m in \u001b[0;36m<module>\u001b[1;34m\u001b[0m\n\u001b[1;32m----> 1\u001b[1;33m \u001b[1;32mfrom\u001b[0m \u001b[0mpandas_datareader\u001b[0m \u001b[1;32mimport\u001b[0m \u001b[0mwb\u001b[0m\u001b[1;33m\u001b[0m\u001b[1;33m\u001b[0m\u001b[0m\n\u001b[0m\u001b[0;32m      2\u001b[0m \u001b[0mmatches\u001b[0m \u001b[1;33m=\u001b[0m \u001b[0mwb\u001b[0m\u001b[1;33m.\u001b[0m\u001b[0msearch\u001b[0m\u001b[1;33m(\u001b[0m\u001b[1;34m'gdp.*capita.*const'\u001b[0m\u001b[1;33m)\u001b[0m\u001b[1;33m\u001b[0m\u001b[1;33m\u001b[0m\u001b[0m\n\u001b[0;32m      3\u001b[0m \u001b[1;33m\u001b[0m\u001b[0m\n\u001b[0;32m      4\u001b[0m \u001b[0mdat\u001b[0m \u001b[1;33m=\u001b[0m \u001b[0mwb\u001b[0m\u001b[1;33m.\u001b[0m\u001b[0mdownload\u001b[0m\u001b[1;33m(\u001b[0m\u001b[0mindicator\u001b[0m\u001b[1;33m=\u001b[0m\u001b[1;34m'NY.GDP.PCAP.KD'\u001b[0m\u001b[1;33m,\u001b[0m \u001b[0mcountry\u001b[0m\u001b[1;33m=\u001b[0m\u001b[1;33m[\u001b[0m\u001b[1;34m'US'\u001b[0m\u001b[1;33m,\u001b[0m \u001b[1;34m'CA'\u001b[0m\u001b[1;33m,\u001b[0m \u001b[1;34m'MX'\u001b[0m\u001b[1;33m]\u001b[0m\u001b[1;33m,\u001b[0m \u001b[0mstart\u001b[0m\u001b[1;33m=\u001b[0m\u001b[1;36m2005\u001b[0m\u001b[1;33m,\u001b[0m \u001b[0mend\u001b[0m\u001b[1;33m=\u001b[0m\u001b[1;36m2008\u001b[0m\u001b[1;33m)\u001b[0m\u001b[1;33m\u001b[0m\u001b[1;33m\u001b[0m\u001b[0m\n\u001b[0;32m      5\u001b[0m \u001b[1;33m\u001b[0m\u001b[0m\n",
      "\u001b[1;31mModuleNotFoundError\u001b[0m: No module named 'pandas_datareader'"
     ]
    }
   ],
   "source": [
    "from pandas_datareader import wb\n",
    "matches = wb.search('gdp.*capita.*const')\n",
    "    \n",
    "dat = wb.download(indicator='NY.GDP.PCAP.KD', country=['US', 'CA', 'MX'], start=2005, end=2008)\n",
    "\n",
    "print(dat)"
   ]
  },
  {
   "cell_type": "markdown",
   "metadata": {},
   "source": [
    "### Econdb"
   ]
  },
  {
   "cell_type": "code",
   "execution_count": null,
   "metadata": {},
   "outputs": [],
   "source": [
    "import pandas_datareader.data as web"
   ]
  },
  {
   "cell_type": "code",
   "execution_count": null,
   "metadata": {},
   "outputs": [],
   "source": [
    "f = web.DataReader('ticker=RGDPUS', 'econdb')\n",
    "f.head()"
   ]
  },
  {
   "cell_type": "code",
   "execution_count": null,
   "metadata": {
    "scrolled": true
   },
   "outputs": [],
   "source": [
    "df = web.DataReader('dataset=NAMQ_10_GDP&v=Geopolitical entity (reporting)&h=TIME&from=2018-05-01&to=2021-01-01&GEO=[AL,AT,BE,BA,BG,HR,CY,CZ,DK,EE,EA19,FI,FR,DE,EL,HU,IS,IE,IT,XK,LV,LT,LU,MT,ME,NL,MK,NO,PL,PT,RO,RS,SK,SI,ES,SE,CH,TR,UK]&NA_ITEM=[B1GQ]&S_ADJ=[SCA]&UNIT=[CLV10_MNAC]', 'econdb')\n",
    "df"
   ]
  },
  {
   "cell_type": "markdown",
   "metadata": {},
   "source": [
    "#### OECD"
   ]
  },
  {
   "cell_type": "code",
   "execution_count": null,
   "metadata": {
    "scrolled": true
   },
   "outputs": [],
   "source": [
    "#import pandas_datareader as pdr\n",
    "#matches = web.wb.search('gdp.*capita.*const')\n",
    "df=web.DataReader('TUD','oecd')"
   ]
  },
  {
   "cell_type": "code",
   "execution_count": null,
   "metadata": {},
   "outputs": [],
   "source": [
    "df[['Japan', 'Korea', 'United States']]"
   ]
  },
  {
   "cell_type": "code",
   "execution_count": null,
   "metadata": {},
   "outputs": [],
   "source": []
  },
  {
   "cell_type": "markdown",
   "metadata": {},
   "source": [
    "### Naver\n",
    "\n",
    "\n",
    "네이버 증권에서 제공하는 국내 지수 및 종목, 해외 지수 및 종목, 환율, 원자재, 금리 등의 모든 정보는 각 콘텐츠 제공사와의 유료 계약에 의해 서비스됩니다.\n",
    "\n",
    "네이버 증권은 해당 서비스 내에서만 정보를 제공할 수 있으며, 제3자에게 재배포하는 것은 금지되어 있습니다.\n",
    "\n",
    "\n",
    "\n",
    "네이버에서 KOSPI, KOSDAQ 데이터를 제공한다.\n",
    "삼성전자 005930\n",
    "* 데이터는 DataFrame으로 읽어 들여서 행,열의 형식을 가진다.\n",
    "\n",
    "조회할 시작일과 종료일을 설정했으니 DataReader 함수를 이용해 데이터를 조회해 봅시다. 조회할 종 목인 GS의 종목코드는 '078930'입니다. 따라서 다음과 같이 DataReader 함수의 인자를 입력합니다.\n",
    "\n",
    "DataReader 함수의 첫 번째 인자로는 조회할 종목에 대한 정보를 넣고, 두 번째 인자로는 데이터를 가져올 소스(야후)에 대한 정보를 입력했습니다. 세 번째와 네 번째 인자에는 조회 기간의 시작일과 종료일을 입력합니다."
   ]
  },
  {
   "cell_type": "code",
   "execution_count": null,
   "metadata": {},
   "outputs": [],
   "source": [
    "import datetime\n",
    "\n",
    "start = datetime.datetime(2021,8,10)\n",
    "end = datetime.datetime(2021,8,13)\n",
    "\n",
    "sseNaver = web.DataReader('005930', 'naver', start='2021-08-10', end='2021-08-13')"
   ]
  },
  {
   "cell_type": "code",
   "execution_count": null,
   "metadata": {},
   "outputs": [],
   "source": [
    "sseNaver"
   ]
  },
  {
   "cell_type": "code",
   "execution_count": null,
   "metadata": {},
   "outputs": [],
   "source": []
  },
  {
   "cell_type": "code",
   "execution_count": null,
   "metadata": {},
   "outputs": [],
   "source": []
  },
  {
   "cell_type": "code",
   "execution_count": null,
   "metadata": {},
   "outputs": [],
   "source": []
  },
  {
   "cell_type": "code",
   "execution_count": null,
   "metadata": {},
   "outputs": [],
   "source": []
  },
  {
   "cell_type": "code",
   "execution_count": null,
   "metadata": {},
   "outputs": [],
   "source": [
    "import requests\n",
    "url=\"https://finance.naver.com/api/sise/etfItemList.nhn\"\n",
    "etf=requests.get(url).text"
   ]
  },
  {
   "cell_type": "code",
   "execution_count": null,
   "metadata": {},
   "outputs": [],
   "source": [
    "import json\n",
    "jetf=json.loads(etf)"
   ]
  },
  {
   "cell_type": "markdown",
   "metadata": {},
   "source": [
    "json 데이터를 살펴보면, ['result']['etfItemList'] 인덱스를 사용하면 데이터를 조회할 수 있다.\n",
    "```\n",
    "{'resultCode': 'success',\n",
    " 'result': {'etfItemList': [\n",
    "    {'itemcode': '069500',\n",
    "        'etfTabCode': 1,\n",
    "        'itemname': 'KODEX 200',\n",
    "        'nowVal': 41630,\n",
    "        'risefall': '5',\n",
    "        'changeVal': -715,\n",
    "        'changeRate': -1.69,\n",
    "        'nav': 41665.0,\n",
    "        'threeMonthEarnRate': 0.0432,\n",
    "        'quant': 5942133,\n",
    "        'amonut': 247565,\n",
    "        'marketSum': 46188},\n",
    "     {'itemcode': '252670', ...}\n",
    "    ]}\n",
    "}\n",
    "```"
   ]
  },
  {
   "cell_type": "code",
   "execution_count": null,
   "metadata": {},
   "outputs": [],
   "source": [
    "import pandas as pd\n",
    "pd.json_normalize(jetf['result']['etfItemList'])"
   ]
  },
  {
   "cell_type": "markdown",
   "metadata": {},
   "source": [
    "### Yahoo\n"
   ]
  },
  {
   "cell_type": "code",
   "execution_count": null,
   "metadata": {},
   "outputs": [],
   "source": [
    "sseYahoo = web.DataReader(\"005930.KS\", \"yahoo\", start='2021-08-10', end='2021-08-13')"
   ]
  },
  {
   "cell_type": "code",
   "execution_count": null,
   "metadata": {
    "scrolled": true
   },
   "outputs": [],
   "source": [
    "sseYahoo"
   ]
  },
  {
   "cell_type": "code",
   "execution_count": null,
   "metadata": {},
   "outputs": [],
   "source": [
    "sseYahoo.columns"
   ]
  },
  {
   "cell_type": "code",
   "execution_count": null,
   "metadata": {},
   "outputs": [],
   "source": [
    "sseYahoo.Close"
   ]
  },
  {
   "cell_type": "code",
   "execution_count": null,
   "metadata": {},
   "outputs": [],
   "source": [
    "sseYahoo['Close'].plot()"
   ]
  },
  {
   "cell_type": "code",
   "execution_count": null,
   "metadata": {},
   "outputs": [],
   "source": [
    "sseYahoo[['Open','Close']].plot()"
   ]
  },
  {
   "cell_type": "code",
   "execution_count": null,
   "metadata": {},
   "outputs": [],
   "source": []
  },
  {
   "cell_type": "code",
   "execution_count": null,
   "metadata": {},
   "outputs": [],
   "source": []
  },
  {
   "cell_type": "code",
   "execution_count": null,
   "metadata": {},
   "outputs": [],
   "source": [
    "df = web.DataReader('GE', 'yahoo',  start='2021-08-10', end='2021-08-13')\n",
    "df"
   ]
  },
  {
   "cell_type": "code",
   "execution_count": null,
   "metadata": {},
   "outputs": [],
   "source": [
    "df = web.DataReader(stock, data_source='yahoo', start=start)"
   ]
  },
  {
   "cell_type": "markdown",
   "metadata": {},
   "source": [
    "* web.get_data_google() 또는 "
   ]
  },
  {
   "cell_type": "markdown",
   "metadata": {},
   "source": [
    "* 전체를 읽을 수도 있고, 특정 행은 인덱스ix로 읽을 수 있다.\n",
    "* 오래된 데이터는 읽어오지 못하고 있다.\n",
    "* DataFrame의 Series인 Open에서 5행을 읽어보자."
   ]
  },
  {
   "cell_type": "code",
   "execution_count": null,
   "metadata": {},
   "outputs": [],
   "source": [
    "soil.ix['2016-11-17']"
   ]
  },
  {
   "cell_type": "code",
   "execution_count": null,
   "metadata": {},
   "outputs": [],
   "source": [
    "print type(soil.Open)"
   ]
  },
  {
   "cell_type": "code",
   "execution_count": null,
   "metadata": {},
   "outputs": [],
   "source": [
    "soil.ix"
   ]
  },
  {
   "cell_type": "code",
   "execution_count": null,
   "metadata": {
    "scrolled": true,
    "slideshow": {
     "slide_type": "subslide"
    }
   },
   "outputs": [],
   "source": [
    "print soil.Open[0:5]"
   ]
  },
  {
   "cell_type": "code",
   "execution_count": null,
   "metadata": {
    "scrolled": true,
    "slideshow": {
     "slide_type": "subslide"
    }
   },
   "outputs": [],
   "source": [
    "ncsoft = web.DataReader('KRX:036570', data_source='google', start='01/01/2015', end='09/02/2015')\n",
    "sds = web.DataReader('KRX:018260', data_source='google', start='11/01/2015', end='11/10/2015')\n",
    "\n",
    "print sds.ix[1]"
   ]
  },
  {
   "cell_type": "markdown",
   "metadata": {},
   "source": [
    "* Pandas data reader가 아닌 requests 라이브러리를 사용해서 읽을 수 있다."
   ]
  },
  {
   "cell_type": "markdown",
   "metadata": {},
   "source": [
    "import pandas\n",
    "import requests\n",
    "import io\n",
    "\n",
    "stock = 'GOOG'\n",
    "startdate = 'Jul 08, 2017'\n",
    "enddate = 'Aug 08, 2017'\n",
    "\n",
    "rooturl = 'http://www.google.com/finance/historical?q='\n",
    "query = stock + '&startdate=' + startdate +'&enddate=' + enddate + '&output=csv'\n",
    "\n",
    "url = rooturl + query\n",
    "response = requests.get(url)\n",
    "df = pandas.read_csv(io.StringIO(response.content.decode('utf-8')))"
   ]
  },
  {
   "cell_type": "code",
   "execution_count": null,
   "metadata": {
    "scrolled": true
   },
   "outputs": [],
   "source": [
    "print df.ix[0]"
   ]
  },
  {
   "cell_type": "code",
   "execution_count": null,
   "metadata": {},
   "outputs": [],
   "source": []
  },
  {
   "cell_type": "code",
   "execution_count": null,
   "metadata": {},
   "outputs": [],
   "source": []
  },
  {
   "cell_type": "markdown",
   "metadata": {},
   "source": [
    "## 연습문제 1: 서울시 지하철 실시간 도착정보 수집\n",
    "\n",
    "서울시 교통정보과[TOPIS]에서 제공하는 API를 이용한 '지하철 실시간 도착정보'를 수집해보자.\n",
    "\n",
    "![alt text](figures/dataSeoulGoKr_subwayRealtime.png \"subway arrival realtime by line\")"
   ]
  },
  {
   "cell_type": "markdown",
   "metadata": {
    "slideshow": {
     "slide_type": "subslide"
    }
   },
   "source": [
    "### O.1.4 연습\n",
    "\n",
    "* 연습 REST: pandas로 웹 데이터 야후 주식 읽기\n",
    "* 광화문 지역 2015년 11월 하루 동안 시간대별 미세먼지량\n",
    "* 공공데이터포털 의료빅데이터\n",
    "* 구글 스칼라\n",
    "    * 참조 http://code.activestate.com/recipes/523047-search-google-scholar/\n",
    "* 국가통계포털 http://kosis.kr\n",
    "    * 인구, 노동, 물가, 보건, 환경 등\n",
    "* 지오코딩 - T Map, 다음, 네이버, 구글 (구글맵에 사용)\n",
    "* 트레이딩\n",
    "    * 파이썬으로 시스템 트레이딩 https://gist.github.com/ridingtide/51a40d87abe1bcfbc5ce xing api (이트레이드)\n",
    "    * Statistical arbitrage with Python\n",
    "http://nbviewer.ipython.org/github/harpone/PyArb/blob/master/PyArb%20Intro.ipynb?create=1"
   ]
  },
  {
   "cell_type": "code",
   "execution_count": null,
   "metadata": {},
   "outputs": [],
   "source": []
  }
 ],
 "metadata": {
  "kernelspec": {
   "display_name": "Python 3",
   "language": "python",
   "name": "python3"
  },
  "language_info": {
   "codemirror_mode": {
    "name": "ipython",
    "version": 3
   },
   "file_extension": ".py",
   "mimetype": "text/x-python",
   "name": "python",
   "nbconvert_exporter": "python",
   "pygments_lexer": "ipython3",
   "version": "3.7.3"
  }
 },
 "nbformat": 4,
 "nbformat_minor": 1
}
