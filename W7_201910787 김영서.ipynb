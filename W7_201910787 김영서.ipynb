{
 "cells": [
  {
   "cell_type": "markdown",
   "metadata": {},
   "source": [
    "### 휴먼지능정보공학과 201910787 김영서\n",
    "7주: zscore, cdf 계산<br>\n",
    "성적데이터는 n이 적지만, 정규분포를 이룬다고 가정하자."
   ]
  },
  {
   "cell_type": "code",
   "execution_count": 74,
   "metadata": {},
   "outputs": [],
   "source": [
    "import sys\n",
    "import os\n",
    "\n",
    "home=os.path.expanduser(\"~\")\n",
    "os.environ[\"PYSPARK_PYTHON\"]=\"C:\\\\Users\\\\zaqxs\\\\Anaconda2\\\\envs\\\\py35\\\\python.exe\"\n",
    "os.environ[\"PYSPARK_DRIVER_PYTHON\"]=\"C:\\\\Users\\\\zaqxs\\\\Anaconda2\\\\envs\\\\py35\\\\python.exe\"\n",
    "os.environ[\"PYLIB\"]=os.path.join(os.environ[\"SPARK_HOME\"],'python','lib')\n",
    "sys.path.insert(0,os.path.join(os.environ[\"PYLIB\"],'py4j-0.10.9-src.zip'))\n",
    "sys.path.insert(0,os.path.join(os.environ[\"PYLIB\"],'pyspark.zip'))"
   ]
  },
  {
   "cell_type": "code",
   "execution_count": 75,
   "metadata": {},
   "outputs": [],
   "source": [
    "import pyspark\n",
    "myConf=pyspark.SparkConf()\n",
    "spark = pyspark.sql.SparkSession\\\n",
    "    .builder\\\n",
    "    .master(\"local\")\\\n",
    "    .appName(\"myApp\")\\\n",
    "    .config(conf=myConf)\\\n",
    "    .getOrCreate()"
   ]
  },
  {
   "cell_type": "markdown",
   "metadata": {},
   "source": [
    "##  1-1 성적데이터로 DataFrame을 생성"
   ]
  },
  {
   "cell_type": "code",
   "execution_count": 76,
   "metadata": {},
   "outputs": [],
   "source": [
    "marks=[\n",
    "    \"김하나, English, 100\",\n",
    "    \"김하나, Math, 80\",\n",
    "    \"임하나, English, 70\",\n",
    "    \"임하나, Math, 100\",\n",
    "    \"김갑돌, English, 82.3\",\n",
    "    \"김갑돌, Math, 98.5\"\n",
    "]"
   ]
  },
  {
   "cell_type": "markdown",
   "metadata": {},
   "source": [
    "#### RDD 생성"
   ]
  },
  {
   "cell_type": "code",
   "execution_count": 77,
   "metadata": {},
   "outputs": [],
   "source": [
    "_marksRdd=spark.sparkContext.parallelize(marks).map(lambda x:x.split(','))"
   ]
  },
  {
   "cell_type": "markdown",
   "metadata": {},
   "source": [
    "#### DataFrame 생성"
   ]
  },
  {
   "cell_type": "code",
   "execution_count": 78,
   "metadata": {},
   "outputs": [],
   "source": [
    "_marksDf=spark.createDataFrame(_marksRdd, schema=[\"name\", \"subject\", \"mark\"])"
   ]
  },
  {
   "cell_type": "code",
   "execution_count": 79,
   "metadata": {},
   "outputs": [
    {
     "data": {
      "text/plain": [
       "[['김하나', ' English', ' 100']]"
      ]
     },
     "execution_count": 79,
     "metadata": {},
     "output_type": "execute_result"
    }
   ],
   "source": [
    "_marksRdd.take(1)"
   ]
  },
  {
   "cell_type": "code",
   "execution_count": 80,
   "metadata": {},
   "outputs": [
    {
     "name": "stdout",
     "output_type": "stream",
     "text": [
      "root\n",
      " |-- name: string (nullable = true)\n",
      " |-- subject: string (nullable = true)\n",
      " |-- mark: string (nullable = true)\n",
      "\n"
     ]
    }
   ],
   "source": [
    "_marksDf.printSchema()"
   ]
  },
  {
   "cell_type": "markdown",
   "metadata": {},
   "source": [
    "#### 데이터 타입 변경"
   ]
  },
  {
   "cell_type": "code",
   "execution_count": 81,
   "metadata": {},
   "outputs": [],
   "source": [
    "from pyspark.sql.types import FloatType\n",
    "\n",
    "_marksDf = _marksDf.withColumn('markF', _marksDf['mark'].cast(FloatType()))"
   ]
  },
  {
   "cell_type": "code",
   "execution_count": 82,
   "metadata": {},
   "outputs": [
    {
     "name": "stdout",
     "output_type": "stream",
     "text": [
      "root\n",
      " |-- name: string (nullable = true)\n",
      " |-- subject: string (nullable = true)\n",
      " |-- mark: string (nullable = true)\n",
      " |-- markF: float (nullable = true)\n",
      "\n"
     ]
    }
   ],
   "source": [
    "_marksDf.printSchema()"
   ]
  },
  {
   "cell_type": "code",
   "execution_count": 83,
   "metadata": {},
   "outputs": [
    {
     "name": "stdout",
     "output_type": "stream",
     "text": [
      "+------+--------+-----+-----+\n",
      "|  name| subject| mark|markF|\n",
      "+------+--------+-----+-----+\n",
      "|김하나| English|  100|100.0|\n",
      "|김하나|    Math|   80| 80.0|\n",
      "|임하나| English|   70| 70.0|\n",
      "|임하나|    Math|  100|100.0|\n",
      "|김갑돌| English| 82.3| 82.3|\n",
      "|김갑돌|    Math| 98.5| 98.5|\n",
      "+------+--------+-----+-----+\n",
      "\n"
     ]
    }
   ],
   "source": [
    "_marksDf.show()"
   ]
  },
  {
   "cell_type": "markdown",
   "metadata": {},
   "source": [
    "## 1-2 zscore 컬럼을 생성\n",
    "zscore를 계산하려면, 평균과 표준편차를 알아야 한다.<BR>\n",
    "계산식에 F함수를 직접 사용하면 오류가 발생한다. 따로 평균과 표준편차를 구해서 계산식에서 사용해야 한다.<BR>"
   ]
  },
  {
   "cell_type": "code",
   "execution_count": 94,
   "metadata": {},
   "outputs": [],
   "source": [
    "from pyspark.sql import functions as F\n",
    "\n",
    "_markStats = _marksDf.select(\n",
    "    F.mean('markF').alias('mean'),  # alias: 이름 변경\n",
    "    F.stddev('markF').alias('std')\n",
    ").collect()"
   ]
  },
  {
   "cell_type": "code",
   "execution_count": 95,
   "metadata": {},
   "outputs": [
    {
     "data": {
      "text/plain": [
       "[Row(mean=88.46666717529297, std=12.786190172956093)]"
      ]
     },
     "execution_count": 95,
     "metadata": {},
     "output_type": "execute_result"
    }
   ],
   "source": [
    "_markStats"
   ]
  },
  {
   "cell_type": "code",
   "execution_count": 96,
   "metadata": {},
   "outputs": [],
   "source": [
    "meanMark = _markStats[0]['mean']\n",
    "stdMark = _markStats[0]['std']"
   ]
  },
  {
   "cell_type": "code",
   "execution_count": 97,
   "metadata": {},
   "outputs": [
    {
     "data": {
      "text/plain": [
       "88.46666717529297"
      ]
     },
     "execution_count": 97,
     "metadata": {},
     "output_type": "execute_result"
    }
   ],
   "source": [
    "meanMark"
   ]
  },
  {
   "cell_type": "code",
   "execution_count": 98,
   "metadata": {},
   "outputs": [
    {
     "data": {
      "text/plain": [
       "12.786190172956093"
      ]
     },
     "execution_count": 98,
     "metadata": {},
     "output_type": "execute_result"
    }
   ],
   "source": [
    "stdMark"
   ]
  },
  {
   "cell_type": "markdown",
   "metadata": {},
   "source": [
    "#### Float type으로 형변환"
   ]
  },
  {
   "cell_type": "code",
   "execution_count": 99,
   "metadata": {},
   "outputs": [],
   "source": [
    "from pyspark.sql import functions as F\n",
    "from pyspark.sql.types import FloatType\n",
    "\n",
    "zscoreUdf = F.udf(lambda x: (x-meanMark)/stdMark, FloatType())"
   ]
  },
  {
   "cell_type": "code",
   "execution_count": 100,
   "metadata": {},
   "outputs": [],
   "source": [
    "_marksDf=_marksDf.withColumn(\"zscore\", zscoreUdf(_marksDf['markF']))"
   ]
  },
  {
   "cell_type": "code",
   "execution_count": 101,
   "metadata": {},
   "outputs": [
    {
     "name": "stdout",
     "output_type": "stream",
     "text": [
      "+------+--------+-----+-----+-----------+\n",
      "|  name| subject| mark|markF|     zscore|\n",
      "+------+--------+-----+-----+-----------+\n",
      "|김하나| English|  100|100.0|  0.9020148|\n",
      "|김하나|    Math|   80| 80.0| -0.6621728|\n",
      "|임하나| English|   70| 70.0| -1.4442666|\n",
      "|임하나|    Math|  100|100.0|  0.9020148|\n",
      "|김갑돌| English| 82.3| 82.3|-0.48229098|\n",
      "|김갑돌|    Math| 98.5| 98.5| 0.78470075|\n",
      "+------+--------+-----+-----+-----------+\n",
      "\n"
     ]
    }
   ],
   "source": [
    "_marksDf.show()"
   ]
  },
  {
   "cell_type": "markdown",
   "metadata": {},
   "source": [
    "## 1-3 cdf 컬럼을 생성\n",
    "scipy.stats.norm.cdf() 함수는 데이터타입을 float로 맞추어 주어야 한다.\n",
    "\n",
    "cdf는 평균=0, 표준편차=1을 기본 값으로 누적확률을 계산한다."
   ]
  },
  {
   "cell_type": "code",
   "execution_count": 111,
   "metadata": {},
   "outputs": [],
   "source": [
    "from scipy.stats import norm\n",
    "from pyspark.sql.functions import udf"
   ]
  },
  {
   "cell_type": "code",
   "execution_count": 112,
   "metadata": {},
   "outputs": [],
   "source": [
    "cdf_udf=udf(lambda x: float(norm.cdf(x)))"
   ]
  },
  {
   "cell_type": "code",
   "execution_count": 113,
   "metadata": {},
   "outputs": [],
   "source": [
    "_marksDf=_marksDf.withColumn(\"cdf\", cdf_udf(_marksDf['zscore']))"
   ]
  },
  {
   "cell_type": "code",
   "execution_count": 114,
   "metadata": {},
   "outputs": [
    {
     "name": "stdout",
     "output_type": "stream",
     "text": [
      "+------+--------+-----+-----+-----------+-------------------+\n",
      "|  name| subject| mark|markF|     zscore|                cdf|\n",
      "+------+--------+-----+-----+-----------+-------------------+\n",
      "|김하나| English|  100|100.0|  0.9020148| 0.8164754981807292|\n",
      "|김하나|    Math|   80| 80.0| -0.6621728| 0.2539302463290559|\n",
      "|임하나| English|   70| 70.0| -1.4442666| 0.0743320011235712|\n",
      "|임하나|    Math|  100|100.0|  0.9020148| 0.8164754981807292|\n",
      "|김갑돌| English| 82.3| 82.3|-0.48229098|0.31479962882028223|\n",
      "|김갑돌|    Math| 98.5| 98.5| 0.78470075| 0.7836854740814176|\n",
      "+------+--------+-----+-----+-----------+-------------------+\n",
      "\n"
     ]
    }
   ],
   "source": [
    "_marksDf.show()"
   ]
  }
 ],
 "metadata": {
  "kernelspec": {
   "display_name": "Python 3",
   "language": "python",
   "name": "python3"
  },
  "language_info": {
   "codemirror_mode": {
    "name": "ipython",
    "version": 3
   },
   "file_extension": ".py",
   "mimetype": "text/x-python",
   "name": "python",
   "nbconvert_exporter": "python",
   "pygments_lexer": "ipython3",
   "version": "3.7.3"
  }
 },
 "nbformat": 4,
 "nbformat_minor": 2
}
