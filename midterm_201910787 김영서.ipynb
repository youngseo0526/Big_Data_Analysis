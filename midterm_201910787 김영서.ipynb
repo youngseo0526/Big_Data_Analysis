{
 "cells": [
  {
   "cell_type": "markdown",
   "metadata": {},
   "source": [
    "## 휴먼지능정보공학과 201910787 김영서"
   ]
  },
  {
   "cell_type": "code",
   "execution_count": 1,
   "metadata": {},
   "outputs": [],
   "source": [
    "import sys\n",
    "import os\n",
    "\n",
    "home=os.path.expanduser(\"~\")\n",
    "os.environ[\"PYSPARK_PYTHON\"]=\"C:\\\\Users\\\\zaqxs\\\\Anaconda2\\\\envs\\\\py35\\\\python.exe\"\n",
    "os.environ[\"PYSPARK_DRIVER_PYTHON\"]=\"C:\\\\Users\\\\zaqxs\\\\Anaconda2\\\\envs\\\\py35\\\\python.exe\"\n",
    "os.environ[\"PYLIB\"]=os.path.join(os.environ[\"SPARK_HOME\"],'python','lib')\n",
    "sys.path.insert(0,os.path.join(os.environ[\"PYLIB\"],'py4j-0.10.9-src.zip'))\n",
    "sys.path.insert(0,os.path.join(os.environ[\"PYLIB\"],'pyspark.zip'))"
   ]
  },
  {
   "cell_type": "code",
   "execution_count": 2,
   "metadata": {},
   "outputs": [],
   "source": [
    "import pyspark\n",
    "myConf=pyspark.SparkConf()\n",
    "spark = pyspark.sql.SparkSession\\\n",
    "    .builder\\\n",
    "    .master(\"local\")\\\n",
    "    .appName(\"myApp\")\\\n",
    "    .config(conf=myConf)\\\n",
    "    .getOrCreate()"
   ]
  },
  {
   "cell_type": "markdown",
   "metadata": {},
   "source": [
    "## 문제 1: 열린데이터 수집\n",
    "\n",
    "서울시 열린데이터에서 검색을 하면 '서울시 우리마을가게 상권분석서비스(상권-아파트)'가 있다.\n",
    "(https://data.seoul.go.kr/dataList/OA-15566/S/1/datasetView.do?tab=A)\n",
    "OpenAPI를 통해서 2021년 최근 100개 데이터를 JSON 형식으로 수집하자."
   ]
  },
  {
   "cell_type": "markdown",
   "metadata": {},
   "source": [
    "### 문제 1-1의 답\n",
    "*  프로그램으로 url을 만들어 출력. 그 url을 클릭하면 데이터가 출력 되어야 한다."
   ]
  },
  {
   "cell_type": "code",
   "execution_count": 3,
   "metadata": {},
   "outputs": [
    {
     "name": "stdout",
     "output_type": "stream",
     "text": [
      "Overwriting src/key.properties\n"
     ]
    }
   ],
   "source": [
    "%%writefile src/key.properties\n",
    "dataseoul=636347656d7a6171353074504d575a"
   ]
  },
  {
   "cell_type": "code",
   "execution_count": 8,
   "metadata": {},
   "outputs": [],
   "source": [
    "import os\n",
    "import src.mylib\n",
    "\n",
    "keyPath=os.path.join(os.getcwd(), 'src', 'key.properties')\n",
    "key=src.mylib.getKey(keyPath)\n",
    "KEY=str(key['dataseoul'])"
   ]
  },
  {
   "cell_type": "code",
   "execution_count": 12,
   "metadata": {},
   "outputs": [],
   "source": [
    "# api\n",
    "TYPE='json'\n",
    "SERVICE='InfoTrdarAptQq'\n",
    "START_INDEX=str(1)\n",
    "END_INDEX=str(10)"
   ]
  },
  {
   "cell_type": "code",
   "execution_count": 14,
   "metadata": {},
   "outputs": [
    {
     "name": "stdout",
     "output_type": "stream",
     "text": [
      "636347656d7a6171353074504d575a/json/InfoTrdarAptQq/1/10\n"
     ]
    }
   ],
   "source": [
    "params=\"/\".join([KEY,TYPE,SERVICE,START_INDEX,END_INDEX])\n",
    "print(params)"
   ]
  },
  {
   "cell_type": "code",
   "execution_count": 15,
   "metadata": {},
   "outputs": [
    {
     "name": "stdout",
     "output_type": "stream",
     "text": [
      "http://openAPI.seoul.go.kr:8088/636347656d7a6171353074504d575a/json/InfoTrdarAptQq/1/10\n"
     ]
    }
   ],
   "source": [
    "import urllib\n",
    "_url='http://openAPI.seoul.go.kr:8088/'\n",
    "url=urllib.parse.urljoin(_url,params)\n",
    "print(url) # backslashes removed"
   ]
  },
  {
   "cell_type": "markdown",
   "metadata": {},
   "source": [
    "### 문제 1-2의 답\n",
    "* 전체 데이터 중 1건만 출력."
   ]
  },
  {
   "cell_type": "code",
   "execution_count": 44,
   "metadata": {},
   "outputs": [],
   "source": [
    "import requests\n",
    "\n",
    "_data=requests.get(url)"
   ]
  },
  {
   "cell_type": "code",
   "execution_count": 45,
   "metadata": {},
   "outputs": [],
   "source": [
    "data=_data.json()"
   ]
  },
  {
   "cell_type": "code",
   "execution_count": 49,
   "metadata": {},
   "outputs": [
    {
     "data": {
      "text/plain": [
       "{'STDR_YY_CD': '2021',\n",
       " 'TRDAR_SE_CD': 'D',\n",
       " 'TRDAR_SE_CD_NM': '발달상권',\n",
       " 'APT_HSMP_CO': 3.0,\n",
       " 'AE_66_SQMT_BELO_HSHLD_CO': 157.0,\n",
       " 'AE_66_SQMT_HSHLD_CO': 0.0,\n",
       " 'AE_99_SQMT_HSHLD_CO': 0.0,\n",
       " 'AE_132_SQMT_HSHLD_CO': 0.0,\n",
       " 'AE_165_SQMT_HSHLD_CO': 0.0,\n",
       " 'PC_1_HDMIL_BELO_HSHLD_CO': 0.0,\n",
       " 'PC_1_HDMIL_HSHLD_CO': 157.0,\n",
       " 'PC_2_HDMIL_HSHLD_CO': 0.0,\n",
       " 'PC_3_HDMIL_HSHLD_CO': 0.0,\n",
       " 'PC_4_HDMIL_HSHLD_CO': 0.0,\n",
       " 'PC_5_HDMIL_HSHLD_CO': 0.0,\n",
       " 'PC_6_HDMIL_ABOVE_HSHLD_CO': 0.0,\n",
       " 'AVRG_AE': 31.0,\n",
       " 'AVRG_MKTC': 161157476.0,\n",
       " 'STDR_QU_CD': '1',\n",
       " 'TRDAR_CD': '1001158',\n",
       " 'TRDAR_CD_NM': '당산역_2'}"
      ]
     },
     "execution_count": 49,
     "metadata": {},
     "output_type": "execute_result"
    }
   ],
   "source": [
    "data['InfoTrdarAptQq']['row'][0]"
   ]
  },
  {
   "cell_type": "markdown",
   "metadata": {},
   "source": [
    "### 문제 1-3의 답\n",
    "* 다음 항목을 100개 정렬해서 출력.\n",
    "\n",
    "    TRDAR_SE_CD_NM\t상권_구분_코드_명<br>\n",
    "\tAPT_HSMP_CO\t아파트_단지_수<br>\n",
    "\tPC_6_HDMIL_ABOVE_HSHLD_CO\t아파트_가격_6_억_이상_세대_수<br>\n",
    "\tAVRG_MKTC\t아파트_평균_시가<br>\n",
    "\tTRDAR_CD_NM\t상권_코드_명"
   ]
  },
  {
   "cell_type": "code",
   "execution_count": 17,
   "metadata": {},
   "outputs": [
    {
     "name": "stdout",
     "output_type": "stream",
     "text": [
      "Overwriting src/InfoTrdarAptQq_json.py\n"
     ]
    }
   ],
   "source": [
    "%%writefile src/InfoTrdarAptQq_json.py\n",
    "#!/usr/bin/env python\n",
    "# coding: utf-8\n",
    "import os\n",
    "import requests\n",
    "import urllib\n",
    "import mylib # NO! src.mylib\n",
    "\n",
    "def doIt():\n",
    "    keyPath=os.path.join(os.getcwd(), 'src', 'key.properties')\n",
    "    key=mylib.getKey(keyPath)\n",
    "    # (1) make params with resource IDs\n",
    "    KEY=str(key['dataseoul'])\n",
    "    TYPE='json'\n",
    "    #OLD: SERVICE='SearchSTNBySubwayLineService'\n",
    "    SERVICE='InfoTrdarAptQq'\n",
    "    LINE_NUM=str(2)\n",
    "    START_INDEX=str(1)\n",
    "    END_INDEX=str(10)\n",
    "    startIndex=1\n",
    "    endIndex=10\n",
    "    list_total_count=0    # set later\n",
    "    a = 1\n",
    "    while True:\n",
    "        START_INDEX=str(startIndex)\n",
    "        END_INDEX=str(endIndex)\n",
    "        #params=os.path.join(KEY,TYPE,SERVICE,START_INDEX,END_INDEX,LINE_NUM)\n",
    "        params=\"/\".join([KEY,TYPE,SERVICE,START_INDEX,END_INDEX,'','',LINE_NUM])\n",
    "        # (2) make a full url\n",
    "        _url='http://openAPI.seoul.go.kr:8088' #NOTE slash: do not use 'http://openAPI.seoul.go.kr:8088/'\n",
    "        #url=urllib.parse.urljoin(_url,params)\n",
    "        url=\"/\".join([_url,params])\n",
    "        #print(url)\n",
    "        # (3) get data\n",
    "        r=requests.get(url)\n",
    "        #print(r)\n",
    "        data=r.json()\n",
    "        #print(stations)\n",
    "        if(startIndex==1):\n",
    "            list_total_count=data['InfoTrdarAptQq']['list_total_count']\n",
    "            print(\"- Total Count: \", list_total_count)\n",
    "        for e in data['InfoTrdarAptQq']['row']:\n",
    "            print (a,\"{0:4}\\t{1:4}\\t{2:4}\\t{3:3}\\t{4:5}\".format(e['TRDAR_SE_CD_NM'], e['APT_HSMP_CO'], e['PC_6_HDMIL_ABOVE_HSHLD_CO'], e['AVRG_MKTC'], e['TRDAR_CD_NM']))\n",
    "            a+=1\n",
    "        startIndex+=10\n",
    "        endIndex+=10\n",
    "        if(endIndex > 100):\n",
    "            print(\"----- Ending endIndex=\",endIndex)\n",
    "            break  # exit from the while loop\n",
    "\n",
    "if __name__ == \"__main__\":\n",
    "    doIt()"
   ]
  },
  {
   "cell_type": "code",
   "execution_count": 18,
   "metadata": {},
   "outputs": [
    {
     "name": "stdout",
     "output_type": "stream",
     "text": [
      "- Total Count:  38654\n",
      "1 발달상권\t 3.0\t 0.0\t161157476.0\t당산역_2\n",
      "2 골목상권\t 5.0\t 0.0\t150247619.0\t동남로82길\n",
      "3 관광특구\t 8.0\t 0.0\t114850602.0\t종로·청계 관광특구\n",
      "4 관광특구\t11.0\t291.0\t245511812.0\t동대문패션타운 관광특구\n",
      "5 관광특구\t70.0\t105.0\t428764829.0\t이태원 관광특구\n",
      "6 전통시장\t39.0\t 1.0\t191078841.0\t길동복조리시장\n",
      "7 전통시장\t 8.0\t 0.0\t197751693.0\t둔촌역전통시장\n",
      "8 전통시장\t11.0\t 0.0\t152871984.0\t성내골목시장\n",
      "9 전통시장\t 1.0\t 0.0\t176000000.0\t동서울시장\n",
      "10 전통시장\t 2.0\t 0.0\t156144643.0\t고분다리골목시장\n",
      "11 전통시장\t17.0\t 0.0\t187541526.0\t양지골목시장\n",
      "12 전통시장\t15.0\t 0.0\t130506269.0\t암사종합시장\n",
      "13 전통시장\t 1.0\t 0.0\t177666667.0\t고덕전통시장\n",
      "14 전통시장\t 5.0\t 0.0\t238201494.0\t명일골목시장\n",
      "15 전통시장\t47.0\t 0.0\t215808647.0\t새마을시장\n",
      "16 전통시장\t14.0\t60.0\t242990364.0\t석촌시장 \n",
      "17 전통시장\t178.0\t19.0\t214028232.0\t방이시장 \n",
      "18 전통시장\t 6.0\t 0.0\t204376515.0\t마천시장 \n",
      "19 전통시장\t19.0\t 0.0\t160941704.0\t풍납시장 \n",
      "20 전통시장\t 2.0\t76.0\t759927632.0\t도곡시장 \n",
      "21 전통시장\t 1.0\t48.0\t2708416667.0\t청담삼익시장\n",
      "22 전통시장\t 3.0\t 9.0\t537022727.0\t논현종합시장\n",
      "23 전통시장\t19.0\t 2.0\t234485808.0\t영동전통시장\n",
      "24 전통시장\t 1.0\t 7.0\t400638298.0\t강남시장_강남\n",
      "25 전통시장\t 2.0\t 0.0\t193867857.0\t양재시장 \n",
      "26 전통시장\t 4.0\t 0.0\t313638333.0\t남부종합시장\n",
      "27 전통시장\t 1.0\t 0.0\t195500000.0\t우림시장 \n",
      "28 전통시장\t 3.0\t 0.0\t179474603.0\t미성동도깨비시장\n",
      "29 전통시장\t 2.0\t 0.0\t87266538.0\t신림중앙시장\n",
      "30 전통시장\t 5.0\t 0.0\t145358889.0\t강남골목시장\n",
      "31 전통시장\t25.0\t 0.0\t174434431.0\t관악신사시장\n",
      "32 전통시장\t 5.0\t 0.0\t161796254.0\t신원시장 \n",
      "33 전통시장\t10.0\t 0.0\t158411721.0\t인헌시장 \n",
      "34 전통시장\t 4.0\t 0.0\t185202778.0\t봉천중앙시장\n",
      "35 전통시장\t 2.0\t 0.0\t172714286.0\t봉천제일종합시장\n",
      "36 전통시장\t 7.0\t 0.0\t129756456.0\t낙성대시장\n",
      "37 전통시장\t 4.0\t 0.0\t194378968.0\t중부시장 \n",
      "38 전통시장\t 4.0\t 0.0\t182971131.0\t남성역골목시장\n",
      "39 전통시장\t 1.0\t 0.0\t154500000.0\t남성사계시장\n",
      "40 전통시장\t 2.0\t129.0\t508793608.0\t흑석시장 \n",
      "41 전통시장\t17.0\t 0.0\t157191293.0\t상도4동도깨비골목시장\n",
      "42 전통시장\t 2.0\t 0.0\t160357143.0\t성대시장 \n",
      "43 전통시장\t18.0\t 0.0\t181923742.0\t상도전통시장\n",
      "44 전통시장\t 1.0\t 0.0\t71665714.0\t강남시장_동작\n",
      "45 전통시장\t 1.0\t 1.0\t525000000.0\t본동인정시장\n",
      "46 전통시장\t 1.0\t 1.0\t304714286.0\t노량진중앙시장\n",
      "47 전통시장\t 3.0\t 0.0\t125633333.0\t대림중앙시장\n",
      "48 전통시장\t 1.0\t 0.0\t120435185.0\t영진시장A동\n",
      "49 전통시장\t 1.0\t 0.0\t183821256.0\t대신시장 \n",
      "50 전통시장\t 4.0\t 0.0\t304715439.0\t영일시장 \n",
      "51 전통시장\t 3.0\t 0.0\t188222222.0\t영등포청과시장\n",
      "52 전통시장\t 4.0\t 0.0\t172724762.0\t영등포전통시장\n",
      "53 전통시장\t 9.0\t 0.0\t149697619.0\t은행나무시장\n",
      "54 전통시장\t 3.0\t 0.0\t151285331.0\t박미시장 \n",
      "55 전통시장\t18.0\t 0.0\t134629828.0\t현대시장 \n",
      "56 전통시장\t 1.0\t 0.0\t181631579.0\t푸른터시장\n",
      "57 전통시장\t24.0\t 0.0\t140803141.0\t남문시장 \n",
      "58 전통시장\t 1.0\t 0.0\t193000000.0\t오류시장 \n",
      "59 전통시장\t14.0\t 0.0\t134009446.0\t개봉중앙시장\n",
      "60 전통시장\t 3.0\t 0.0\t148611215.0\t고척근린시장\n",
      "61 전통시장\t 2.0\t 3.0\t822500000.0\t가리봉시장\n",
      "62 전통시장\t11.0\t 0.0\t95136364.0\t남구로시장\n",
      "63 전통시장\t 1.0\t 0.0\t113555556.0\t구로시장 \n",
      "64 전통시장\t 3.0\t 0.0\t248855933.0\t방신전통시장\n",
      "65 전통시장\t12.0\t 0.0\t164668133.0\t송화골목시장\n",
      "66 전통시장\t29.0\t 0.0\t134684112.0\t까치산시장\n",
      "67 전통시장\t12.0\t 0.0\t127827730.0\t화곡본동시장\n",
      "68 전통시장\t28.0\t 0.0\t145030335.0\t남부골목시장\n",
      "69 전통시장\t28.0\t 0.0\t117968645.0\t화곡중앙골목시장\n",
      "70 전통시장\t 4.0\t 0.0\t215829182.0\t신정2동골목시장\n",
      "71 전통시장\t 2.0\t 0.0\t182482143.0\t신정제일시장\n",
      "72 전통시장\t 3.0\t 0.0\t132812000.0\t신월7동골목시장\n",
      "73 전통시장\t 1.0\t 0.0\t404363636.0\t신곡종합시장\n",
      "74 전통시장\t 1.0\t 0.0\t62400000.0\t신월3동골목시장\n",
      "75 전통시장\t 5.0\t 0.0\t156241638.0\t경창시장 \n",
      "76 전통시장\t25.0\t 0.0\t111544970.0\t월정로시장\n",
      "77 전통시장\t13.0\t 0.0\t117170795.0\t신영시장 \n",
      "78 전통시장\t24.0\t 0.0\t173909785.0\t목4동시장\n",
      "79 전통시장\t14.0\t 0.0\t202606189.0\t목3동시장\n",
      "80 전통시장\t22.0\t 0.0\t172296533.0\t목2동시장\n",
      "81 전통시장\t25.0\t18.0\t209884598.0\t망원월드컵시장\n",
      "82 전통시장\t50.0\t 0.0\t201968607.0\t망원시장 \n",
      "83 전통시장\t 1.0\t 0.0\t312025000.0\t합정시장 \n",
      "84 전통시장\t 3.0\t 0.0\t232835417.0\t영진시장 \n",
      "85 전통시장\t 2.0\t 0.0\t200464286.0\t신수시장 \n",
      "86 전통시장\t 5.0\t 0.0\t232211111.0\t아현시장 \n",
      "87 전통시장\t 1.0\t 0.0\t172468750.0\t백련시장 \n",
      "88 전통시장\t10.0\t 0.0\t285003175.0\t모래내시장\n",
      "89 전통시장\t 7.0\t 0.0\t115738435.0\t포방터시장\n",
      "90 전통시장\t 1.0\t 0.0\t183325000.0\t인왕시장 \n",
      "91 전통시장\t 3.0\t 0.0\t114302698.0\t영천시장 \n",
      "92 전통시장\t 3.0\t 0.0\t152254444.0\t증산종합시장\n",
      "93 전통시장\t 8.0\t 0.0\t125365625.0\t대림골목시장\n",
      "94 전통시장\t 2.0\t 0.0\t205500000.0\t신응암시장\n",
      "95 전통시장\t15.0\t 0.0\t139965870.0\t대조시장 \n",
      "96 전통시장\t 1.0\t 0.0\t93568992.0\t갈현시장 \n",
      "97 전통시장\t 1.0\t 0.0\t359086957.0\t연서시장 \n",
      "98 전통시장\t22.0\t 0.0\t149590589.0\t상계중앙시장\n",
      "99 전통시장\t27.0\t 0.0\t153652075.0\t공릉동도깨비시장\n",
      "100 전통시장\t12.0\t 0.0\t100400495.0\t방학동도깨비시장\n",
      "----- Ending endIndex= 110\n"
     ]
    }
   ],
   "source": [
    "!python3 src/InfoTrdarAptQq_json.py"
   ]
  },
  {
   "cell_type": "markdown",
   "metadata": {},
   "source": [
    "## 문제 2: RDD를 사용해서 단어빈도 계산"
   ]
  },
  {
   "cell_type": "code",
   "execution_count": 20,
   "metadata": {},
   "outputs": [
    {
     "name": "stdout",
     "output_type": "stream",
     "text": [
      "Overwriting data/yesterday_lyrics.txt\n"
     ]
    }
   ],
   "source": [
    "%%writefile data/yesterday_lyrics.txt\n",
    "Yesterday 어제는\n",
    "All my troubles seemed to far away 내 모든 문제들이 참 멀리 있는 것 같았는데\n",
    "Now it looks as though they're here to stay 이제는 그 모든 문제들이 여기에 있는 것처럼 보여\n",
    "Oh, I believe in yesterday 오, 어제가 좋았는데\n",
    "Suddenly 갑자기 그-림-자-가 2021 그-림-자-가 2021\n",
    "I'm not half the man I used to be 난 예전 내 모습의 반도 못한 사람이 되어버렸어\n",
    "There's a shadow hanging over me 내 위에 그림자가 드리워져 있네\n",
    "Oh!, yesterday came suddenly 오!, 이제는 너무 갑자기 와버렸어.."
   ]
  },
  {
   "cell_type": "code",
   "execution_count": 181,
   "metadata": {},
   "outputs": [],
   "source": [
    "myRdd=spark.sparkContext\\\n",
    "    .textFile(os.path.join(\"data\",\"yesterday_lyrics.txt\"))"
   ]
  },
  {
   "cell_type": "code",
   "execution_count": 48,
   "metadata": {},
   "outputs": [
    {
     "data": {
      "text/plain": [
       "['Yesterday 어제는',\n",
       " 'All my troubles seemed to far away 내 모든 문제들이 참 멀리 있는 것 같았는데',\n",
       " \"Now it looks as though they're here to stay 이제는 그 모든 문제들이 여기에 있는 것처럼 보여\",\n",
       " 'Oh, I believe in yesterday 오, 어제가 좋았는데',\n",
       " 'Suddenly 갑자기 그-림-자-가 2021 그-림-자-가 2021',\n",
       " \"I'm not half the man I used to be 난 예전 내 모습의 반도 못한 사람이 되어버렸어\",\n",
       " \"There's a shadow hanging over me 내 위에 그림자가 드리워져 있네\",\n",
       " 'Oh!, yesterday came suddenly 오!, 이제는 너무 갑자기 와버렸어..']"
      ]
     },
     "execution_count": 48,
     "metadata": {},
     "output_type": "execute_result"
    }
   ],
   "source": [
    "myRdd.collect()"
   ]
  },
  {
   "cell_type": "markdown",
   "metadata": {},
   "source": [
    "### 문제 2-1의 답\n",
    "* 단어빈도를 계산해서 출력\n",
    "\n",
    "출력 예시: [('Yesterday', 1),('어제는', 1),('All', 1),('my', 1),...]"
   ]
  },
  {
   "cell_type": "code",
   "execution_count": 210,
   "metadata": {},
   "outputs": [
    {
     "name": "stdout",
     "output_type": "stream",
     "text": [
      "('Yesterday', 1),('어제는', 1),('All', 1),('my', 1),('troubles', 1),('seemed', 1),('to', 1),('far', 1),('away', 1),('내', 1),('모든', 1),('문제들이', 1),('참', 1),('멀리', 1),('있는', 1),('것', 1),('같았는데', 1),('Now', 1),('it', 1),('looks', 1),('as', 1),('though', 1),(\"they're\", 1),('here', 1),('to', 1),('stay', 1),('이제는', 1),('그', 1),('모든', 1),('문제들이', 1),('여기에', 1),('있는', 1),('것처럼', 1),('보여', 1),('Oh,', 1),('I', 1),('believe', 1),('in', 1),('yesterday', 1),('오,', 1),('어제가', 1),('좋았는데', 1),('Suddenly', 1),('갑자기', 1),('그-림-자-가', 1),('2021', 1),('그-림-자-가', 1),('2021', 1),(\"I'm\", 1),('not', 1),('half', 1),('the', 1),('man', 1),('I', 1),('used', 1),('to', 1),('be', 1),('난', 1),('예전', 1),('내', 1),('모습의', 1),('반도', 1),('못한', 1),('사람이', 1),('되어버렸어', 1),(\"There's\", 1),('a', 1),('shadow', 1),('hanging', 1),('over', 1),('me', 1),('내', 1),('위에', 1),('그림자가', 1),('드리워져', 1),('있네', 1),('Oh!,', 1),('yesterday', 1),('came', 1),('suddenly', 1),('오!,', 1),('이제는', 1),('너무', 1),('갑자기', 1),('와버렸어..', 1),"
     ]
    }
   ],
   "source": [
    "wc=myRdd\\\n",
    "    .flatMap(lambda x:x.split())\\\n",
    "    .map(lambda x:(x,1))\\\n",
    "    .take(100)\n",
    "for i in wc:\n",
    "    print (i, end=',')"
   ]
  },
  {
   "cell_type": "markdown",
   "metadata": {},
   "source": [
    "### 문제 2-2의 답\n",
    "* 빈도순으로 출력, 빈도 1이하는 제외."
   ]
  },
  {
   "cell_type": "code",
   "execution_count": 41,
   "metadata": {},
   "outputs": [],
   "source": [
    "wc=myRdd\\\n",
    "    .flatMap(lambda x:x.split())\\\n",
    "    .filter(lambda x: x.lower() not in stopwords)\\\n",
    "    .map(lambda x:(x,1))\\\n",
    "    .reduceByKey(lambda x,y:x+y)\\\n",
    "    .map(lambda x:(x[1],x[0]))\\\n",
    "    .sortByKey(False)\\\n",
    "    .take(100)"
   ]
  },
  {
   "cell_type": "code",
   "execution_count": 44,
   "metadata": {},
   "outputs": [
    {
     "name": "stdout",
     "output_type": "stream",
     "text": [
      "3 to\n",
      "3 내\n",
      "2 모든\n",
      "2 문제들이\n",
      "2 있는\n",
      "2 이제는\n",
      "2 I\n",
      "2 yesterday\n",
      "2 갑자기\n",
      "2 그-림-자-가\n",
      "2 2021\n"
     ]
    }
   ],
   "source": [
    "for i in wc:\n",
    "    if i[0] != 1:\n",
    "        print (i[0], i[1])"
   ]
  },
  {
   "cell_type": "markdown",
   "metadata": {},
   "source": [
    "### 문제 2-3의 답\n",
    "* 소문자, 하이픈, 느낌표, 숫자를 제외하고 단어빈도 계산해서 출력 (빈도 1이하는 제외)\n",
    "\n",
    "* 소문자: 'Yesterday', 'yesterday'를 동일한 단어로 계산\n",
    "\n",
    "* 하이픈: '그림자가', '그-림-자-가'를 동일한 단어로 계산\n",
    "\n",
    "* 느낌표: 'oh', 'oh!'를 동일한 단어로 계산\n",
    "\n",
    "* 숫자: '2021'는 제외하고 계산"
   ]
  },
  {
   "cell_type": "code",
   "execution_count": 206,
   "metadata": {},
   "outputs": [
    {
     "name": "stdout",
     "output_type": "stream",
     "text": [
      "[['y', 'e', 's', 't', 'e', 'r', 'd', 'a', 'y', ' ', '어', '제', '는'], ['a', 'l', 'l', ' ', 'm', 'y', ' ', 't', 'r', 'o', 'u', 'b', 'l', 'e', 's', ' ', 's', 'e', 'e', 'm', 'e', 'd', ' ', 't', 'o', ' ', 'f', 'a', 'r', ' ', 'a', 'w', 'a', 'y', ' ', '내', ' ', '모', '든', ' ', '문', '제', '들', '이', ' ', '참', ' ', '멀', '리', ' ', '있', '는', ' ', '것', ' ', '같', '았', '는', '데'], ['n', 'o', 'w', ' ', 'i', 't', ' ', 'l', 'o', 'o', 'k', 's', ' ', 'a', 's', ' ', 't', 'h', 'o', 'u', 'g', 'h', ' ', 't', 'h', 'e', 'y', \"'\", 'r', 'e', ' ', 'h', 'e', 'r', 'e', ' ', 't', 'o', ' ', 's', 't', 'a', 'y', ' ', '이', '제', '는', ' ', '그', ' ', '모', '든', ' ', '문', '제', '들', '이', ' ', '여', '기', '에', ' ', '있', '는', ' ', '것', '처', '럼', ' ', '보', '여'], ['o', 'h', ',', ' ', 'i', ' ', 'b', 'e', 'l', 'i', 'e', 'v', 'e', ' ', 'i', 'n', ' ', 'y', 'e', 's', 't', 'e', 'r', 'd', 'a', 'y', ' ', '오', ',', ' ', '어', '제', '가', ' ', '좋', '았', '는', '데'], ['s', 'u', 'd', 'd', 'e', 'n', 'l', 'y', ' ', '갑', '자', '기', ' ', '그', '-', '림', '-', '자', '-', '가', ' ', '2', '0', '2', '1', ' ', '그', '-', '림', '-', '자', '-', '가', ' ', '2', '0', '2', '1'], ['i', \"'\", 'm', ' ', 'n', 'o', 't', ' ', 'h', 'a', 'l', 'f', ' ', 't', 'h', 'e', ' ', 'm', 'a', 'n', ' ', 'i', ' ', 'u', 's', 'e', 'd', ' ', 't', 'o', ' ', 'b', 'e', ' ', '난', ' ', '예', '전', ' ', '내', ' ', '모', '습', '의', ' ', '반', '도', ' ', '못', '한', ' ', '사', '람', '이', ' ', '되', '어', '버', '렸', '어'], ['t', 'h', 'e', 'r', 'e', \"'\", 's', ' ', 'a', ' ', 's', 'h', 'a', 'd', 'o', 'w', ' ', 'h', 'a', 'n', 'g', 'i', 'n', 'g', ' ', 'o', 'v', 'e', 'r', ' ', 'm', 'e', ' ', '내', ' ', '위', '에', ' ', '그', '림', '자', '가', ' ', '드', '리', '워', '져', ' ', '있', '네'], ['o', 'h', '!', ',', ' ', 'y', 'e', 's', 't', 'e', 'r', 'd', 'a', 'y', ' ', 'c', 'a', 'm', 'e', ' ', 's', 'u', 'd', 'd', 'e', 'n', 'l', 'y', ' ', '오', '!', ',', ' ', '이', '제', '는', ' ', '너', '무', ' ', '갑', '자', '기', ' ', '와', '버', '렸', '어', '.', '.']]\n"
     ]
    }
   ],
   "source": [
    "wc2=myRdd.map(lambda x: [i.lower() for i in x])\n",
    "print (wc2.collect())"
   ]
  },
  {
   "cell_type": "code",
   "execution_count": 208,
   "metadata": {},
   "outputs": [],
   "source": [
    "stopwords = set([\"-\", \"!\",\"0\", \"1\",\"2\",\"3\",\"4\",\"5\",\"6\",\"7,\",\"8,\",\"9\"])\n",
    "wc2=myRdd\\\n",
    "    .flatMap(lambda x:x.split())\\\n",
    "    .filter(lambda x: x.lower() not in stopwords)\\\n",
    "    .map(lambda x:(x,1))\\\n",
    "    .reduceByKey(lambda x,y:x+y)\\\n",
    "    .map(lambda x:(x[1],x[0]))\\\n",
    "    .sortByKey(False)\\\n",
    "    .take(100)"
   ]
  },
  {
   "cell_type": "code",
   "execution_count": 209,
   "metadata": {},
   "outputs": [
    {
     "name": "stdout",
     "output_type": "stream",
     "text": [
      "3 to\n",
      "3 내\n",
      "2 모든\n",
      "2 문제들이\n",
      "2 있는\n",
      "2 이제는\n",
      "2 I\n",
      "2 yesterday\n",
      "2 갑자기\n",
      "2 그-림-자-가\n",
      "2 2021\n"
     ]
    }
   ],
   "source": [
    "for i in wc2:\n",
    "    if i[0] != 1:\n",
    "        print (i[0], i[1])"
   ]
  },
  {
   "cell_type": "markdown",
   "metadata": {},
   "source": [
    "### 문제 2-4의 답\n",
    "* 1글자 단어 (예를 들어 'i', '내') 제외하고 단어빈도 계산 (빈도 1이하는 제외)"
   ]
  },
  {
   "cell_type": "code",
   "execution_count": 205,
   "metadata": {},
   "outputs": [],
   "source": [
    "stopwords = set([\"i\",\"내\"])\n",
    "wc2=myRdd\\\n",
    "    .flatMap(lambda x:x.split())\\\n",
    "    .filter(lambda x: x.lower() not in stopwords)\\\n",
    "    .map(lambda x:(x,1))\\\n",
    "    .reduceByKey(lambda x,y:x+y)\\\n",
    "    .map(lambda x:(x[1],x[0]))\\\n",
    "    .sortByKey(False)\\\n",
    "    .take(100)"
   ]
  },
  {
   "cell_type": "code",
   "execution_count": 143,
   "metadata": {},
   "outputs": [
    {
     "name": "stdout",
     "output_type": "stream",
     "text": [
      "3 to\n",
      "2 모든\n",
      "2 문제들이\n",
      "2 있는\n",
      "2 이제는\n",
      "2 yesterday\n",
      "2 갑자기\n",
      "2 그-림-자-가\n",
      "2 2021\n"
     ]
    }
   ],
   "source": [
    "for i in wc2:\n",
    "    if i[0] != 1:\n",
    "        print (i[0], i[1])"
   ]
  },
  {
   "cell_type": "markdown",
   "metadata": {},
   "source": [
    "## 문제 3: DataFrame을 사용해서 코로나 발생동향 분석\n",
    "\n",
    "서울시 열린데이터에서 검색을 하면 '서울특별시 코로나19 자치구별 확진자 발생동향'이 있다.\n",
    "https://data.seoul.go.kr/dataList/OA-20470/S/1/datasetView.do\n",
    "데이터를 '내려받기'해서 '서울특별시\\ 코로나19\\ 자치구별\\ 확진자\\ 발생동향.json' 파일을 분석하세요."
   ]
  },
  {
   "cell_type": "markdown",
   "metadata": {},
   "source": [
    "### 문제 3-1의 답\n",
    "* 전체 건수 출력. null 값을 제외한 null 건수 출력 (null이 남아있는지 확인하기 위해)"
   ]
  },
  {
   "cell_type": "code",
   "execution_count": 108,
   "metadata": {},
   "outputs": [],
   "source": [
    "import os\n",
    "_jfname=os.path.join('data','서울특별시 코로나19 자치구별 확진자 발생동향.json')\n",
    "with open(_jfname, 'rb') as f:\n",
    "    data = f.readlines()"
   ]
  },
  {
   "cell_type": "code",
   "execution_count": 104,
   "metadata": {},
   "outputs": [],
   "source": [
    "jfile= os.path.join('data','서울특별시 코로나19 자치구별 확진자 발생동향.json')\n",
    "covidDf= spark.read.json(jfile)"
   ]
  },
  {
   "cell_type": "code",
   "execution_count": 145,
   "metadata": {},
   "outputs": [
    {
     "data": {
      "text/plain": [
       "633"
      ]
     },
     "execution_count": 145,
     "metadata": {},
     "output_type": "execute_result"
    }
   ],
   "source": [
    "len(data)"
   ]
  },
  {
   "cell_type": "markdown",
   "metadata": {},
   "source": [
    "### 문제 3-2의 답\n",
    "*  (null제거하고) 종로, 마포, 용산, 합계 (종로, 마포, 용산) 10건 출력.\n",
    "\n",
    "|      |    |       |      |\n",
    "|------|----|-------|------|\n",
    "|jongno|mapo|yongsan|   tot|\n",
    "|  1968|4127|   3031|9126.0|"
   ]
  },
  {
   "cell_type": "code",
   "execution_count": null,
   "metadata": {},
   "outputs": [],
   "source": []
  },
  {
   "cell_type": "markdown",
   "metadata": {},
   "source": [
    "### 문제 3-3의 답\n",
    "*  (null제거하고) 종로구의 2020년 3월 데이터 출력.\n",
    "\n",
    "|       jcg_dt|jongno|\n",
    "|-------------|------|\n",
    "|2020.03.31.10|    13|\n"
   ]
  },
  {
   "cell_type": "markdown",
   "metadata": {},
   "source": [
    "### 문제 3-4의 답\n",
    "* (null제거하고) 년 x 월별 합계 10건 출력.\n",
    "\n",
    "|     |       |       |\n",
    "|-----|-------|-------|\n",
    "|month|   2020|   2021|\n",
    "|   07| 1273.0|62849.0|"
   ]
  },
  {
   "cell_type": "code",
   "execution_count": null,
   "metadata": {},
   "outputs": [],
   "source": []
  }
 ],
 "metadata": {
  "kernelspec": {
   "display_name": "Python 3",
   "language": "python",
   "name": "python3"
  },
  "language_info": {
   "codemirror_mode": {
    "name": "ipython",
    "version": 3
   },
   "file_extension": ".py",
   "mimetype": "text/x-python",
   "name": "python",
   "nbconvert_exporter": "python",
   "pygments_lexer": "ipython3",
   "version": "3.7.3"
  }
 },
 "nbformat": 4,
 "nbformat_minor": 2
}
