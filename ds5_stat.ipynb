{
 "cells": [
  {
   "cell_type": "markdown",
   "metadata": {
    "slideshow": {
     "slide_type": "slide"
    }
   },
   "source": [
    "# 통계\n",
    "\n",
    "Last updated 20201013TUE1401\n",
    "\n",
    "## 목표\n",
    "\n",
    "* 샘플링, 분포, 중심극한정리, 분산, zscore, outliers를 배운다.\n",
    "* 그룹 간에 차이가 있는지 통계 추론을 배운다.\n",
    "* 명목변수에 대한 빈도 분석을 배운다.\n",
    "* 변수 간 상관관계를 배운다.\n",
    "\n",
    "## 목차\n",
    "\n",
    "* S.2 변수의 성격\n",
    "* S.3 샘플링: 무작위 수, 무작위 배열, 분포에서 무작위 수\n",
    "* S.4 균등분포: 샘플링, 히스토그램, describe\n",
    "* S.5 정규분표: 샘플링, 히스토그램\n",
    "* 문제 S-1: 년도별 빈도 히스토그램\n",
    "* S.6 중심극한정리: skewness, kurtosis, Spark로 skewness, kurtosis 계산하기\n",
    "* S.7 분산: 평균 계산식, numpy 평균, 분산 계산식, numpy 분산 계산, boxplot\n",
    "* S.8 zscore, tscore: zscore 계산식, stats zscore, cdf\n",
    "* S.9 outliers\n",
    "* 문제 S-2:  Spark로 균등분포, 정규분포의 기본 통계 값을 계산.\n",
    "* S.10 추론\n",
    "* S.10.1 Kolmogorov-Smirnov 검증\n",
    "* S.10.2 ANOVA\n",
    "* S.11 빈도 분석\n",
    "    * S.11.1 freqItems()\n",
    "    * S.11.2 crosstab\n",
    "    * S.11.3 Chi Square\n",
    "* S.12 상관관계\n",
    "* S.12.1 상관관계 방향과 강도\n",
    "* S.12.2 그래프\n",
    "* S.12.3 데이터\n",
    "* S.12.4 numpy 공분산 계산\n",
    "* S.12.5 상관관계\n",
    "* S.12.6 zscore를 이용한 상관관계\n",
    "* S.12.7 함수로 만들어 보기\n",
    "* S.12.8 scipy\n",
    "* S.12.9 spark\n",
    "* S.12.10 scipy.stats\n",
    "* S.12.11 상관관계 표\n",
    "* 문제 S-3: 키, 몸무게 상관관계\n",
    "* 문제 S-4: Iris\n",
    "\n",
    "* toAdd: Type I II Error, MAPE MRE MSE"
   ]
  },
  {
   "cell_type": "markdown",
   "metadata": {
    "slideshow": {
     "slide_type": "slide"
    }
   },
   "source": [
    "## S.2 변수의 성격\n",
    "\n",
    "빅데이터는 종전의 데이터처리 방식으로는 통하지 않는 대규모이거나 복잡한 데이터를 말한다.\n",
    "텍스트 데이터는 컬럼별로 변수를 정의하기 어려운 구조를 가지기도 한다.\n",
    "그럼에도 불구하고, **변수의 성격에 따라 적용되는 분석의 방법이 다를 수** 밖에 없다.\n",
    "\n",
    "변수는 크게 나누어 **숫자**, **문자** 값으로 구분할 수 있다.\n",
    "숫자 값은 정수나 소수로 표현되고, 년봉, 매출액, 관객수와 같이 '크다' 또는 '작다' 하는 의미가 있다.\n",
    "\n",
    "**명목변수 Categorical or nominal varaible**는 남녀 성별과 같이 **순서가 없이** 이름이 있는 변수를 말한다.\n",
    "자동차 색과 같이 검은색, 흰색, 파란색이 예가 된다. 사는 지역의 도별 인구수를 계산하는 경우, 종로구, 영등포구 등 구를 명목변수라고 한다.\n",
    "\n",
    "**순위변수 Ordinal variable**은 어떤 **순서가 있는** 범주에 속하여 그 범주의 이름을 말한다.\n",
    "'초등학고', '중학교', '고등학교', '대학교'와 같이 구분하여 붙인 이름이 예가 되고, 하위 학교를 마치고 나면 다음 등급으로 진학하는 순서가 있다.\n",
    "소득수준을 '차상위', '중위', '상위'로 구분하면 **순위변수**에 해당된다.\n",
    "\n",
    "여기서 범주를 **등간격**으로 **간격변수 Interval variable**이라고 한다.\n",
    "자신의 느낌을 '좋다', '보통', '안좋다' 로 범주화하는 경우이다.\n",
    "\n",
    "키, 몸무게와 같이 **연속 변수 Continuous variable**이 있다."
   ]
  },
  {
   "cell_type": "markdown",
   "metadata": {
    "slideshow": {
     "slide_type": "slide"
    }
   },
   "source": [
    "## S.3 샘플링\n",
    "\n",
    "### 무작위 수\n",
    "\n",
    "통계에 무작위 수는 빼놓을 수 없는데, 분포는 무작위 수로부터 만들어 지고, 확률도 계산된다.\n",
    "수학에서 x + 3 = 5라고 하자, 그러면 x는 당연히 2이고, 무작위 값을 가질 수 없다.\n",
    "무작위 수는 어떤 값을 가지게 될지 모르는 수를 말한다.\n",
    "무작위 수는 몸무게와 같이 **연속 continuous** 또는 주사위에서와 같이 1 ~ 6 값을 가지게 되는 **이산적 discrete**일 수 있다.\n",
    "\n",
    "무작위 데이터를 생성해 보자.\n",
    "이런 데이터는 자주 사용되는 **연속변수**에 해당한다.\n",
    "무작위 수는 random 모듈을 사용해서 생성할 수 있다."
   ]
  },
  {
   "cell_type": "code",
   "execution_count": 1,
   "metadata": {},
   "outputs": [],
   "source": [
    "import random"
   ]
  },
  {
   "cell_type": "markdown",
   "metadata": {
    "slideshow": {
     "slide_type": "subslide"
    }
   },
   "source": [
    "그러나 random은 완전하게 무작위 수를 생성하지 않는다.\n",
    "randmo.seed() 함수에 **수를 넣으면 이를 기반으로 무작위 수를 생성하지만, 전과 동일한 수**가 생성된다.\n",
    "**seed 수를 주지 않으면 운영체제 시간**을 사용하므로 무작위 수를 생성하게 된다."
   ]
  },
  {
   "cell_type": "code",
   "execution_count": 2,
   "metadata": {},
   "outputs": [
    {
     "name": "stdout",
     "output_type": "stream",
     "text": [
      "1st random number on the basis of the seed 0.23796462709189137\n",
      "2nd random number on the basis of the seed 0.5442292252959519\n"
     ]
    }
   ],
   "source": [
    "#random.seed()\n",
    "random.seed(3)\n",
    "print(\"1st random number on the basis of the seed {}\".format(random.random()))\n",
    "print(\"2nd random number on the basis of the seed {}\".format(random.random()))"
   ]
  },
  {
   "cell_type": "markdown",
   "metadata": {},
   "source": [
    "다시 한 번 동일한 seed를 제공하고 무작위 수를 생성하면 이전의 수와 동일한 무작위 수가 생성된다."
   ]
  },
  {
   "cell_type": "code",
   "execution_count": 3,
   "metadata": {},
   "outputs": [
    {
     "name": "stdout",
     "output_type": "stream",
     "text": [
      "1st random number on the basis of the seed 0.23796462709189137\n",
      "2nd random number on the basis of the seed 0.5442292252959519\n"
     ]
    }
   ],
   "source": [
    "#random.seed()\n",
    "random.seed(3)\n",
    "print(\"1st random number on the basis of the seed {}\".format(random.random()))\n",
    "print(\"2nd random number on the basis of the seed {}\".format(random.random()))"
   ]
  },
  {
   "cell_type": "markdown",
   "metadata": {
    "slideshow": {
     "slide_type": "subslide"
    }
   },
   "source": [
    "### 무작위 배열\n",
    "\n",
    "이번에는 numpy를 사용하여 무작위 배열을 생성해 보자.\n",
    "**numpy는 공학계산**에 많이 사용되는 라이브러리로서\n",
    "```import numpy as np```로 numpy를 np라는 이름으로 사용하자."
   ]
  },
  {
   "cell_type": "code",
   "execution_count": 4,
   "metadata": {},
   "outputs": [],
   "source": [
    "import numpy as np"
   ]
  },
  {
   "cell_type": "markdown",
   "metadata": {},
   "source": [
    "numpy의 random() 함수에 행과 열에 해당하는 숫자를 주면 배열로 생성이 된다."
   ]
  },
  {
   "cell_type": "code",
   "execution_count": 5,
   "metadata": {},
   "outputs": [
    {
     "name": "stdout",
     "output_type": "stream",
     "text": [
      "[[0.88874435 0.17816405]\n",
      " [0.5838333  0.46487852]\n",
      " [0.81133623 0.63541696]]\n"
     ]
    }
   ],
   "source": [
    "print (np.random.random((3,2)))"
   ]
  },
  {
   "cell_type": "markdown",
   "metadata": {
    "slideshow": {
     "slide_type": "subslide"
    }
   },
   "source": [
    "### 분포에서 무작위 수\n",
    "\n",
    "분포를 가정하고, 무작위 표본 Sample을 추출할 수 있다.\n",
    "* numpy.random.rand는 **균등분포**\n",
    "* numpy.random.randn은 **표준정규분포** (평균 $\\mu=0$, 표준편차 $\\sigma=1$)에서 샘플을 추출한다."
   ]
  },
  {
   "cell_type": "code",
   "execution_count": 6,
   "metadata": {},
   "outputs": [
    {
     "data": {
      "text/plain": [
       "-0.14347644232445825"
      ]
     },
     "execution_count": 6,
     "metadata": {},
     "output_type": "execute_result"
    }
   ],
   "source": [
    "np.random.randn()"
   ]
  },
  {
   "cell_type": "markdown",
   "metadata": {
    "collapsed": true
   },
   "source": [
    "np.random.random_sample, random.sample 모두 **균등분포**에서 표본을 추출한다."
   ]
  },
  {
   "cell_type": "code",
   "execution_count": 7,
   "metadata": {
    "scrolled": true
   },
   "outputs": [
    {
     "name": "stdout",
     "output_type": "stream",
     "text": [
      "[[0.25195765 0.27281193]\n",
      " [0.41397504 0.18107392]\n",
      " [0.17372435 0.91353429]]\n"
     ]
    }
   ],
   "source": [
    "print (np.random.random_sample( (3,2) ))"
   ]
  },
  {
   "cell_type": "markdown",
   "metadata": {
    "collapsed": true
   },
   "source": [
    "random.sample(population, k) 함수는 모집단에서 (정수)샘플 K 개 돌려준다 (바꿔치기 안함)."
   ]
  },
  {
   "cell_type": "code",
   "execution_count": 8,
   "metadata": {},
   "outputs": [
    {
     "name": "stdout",
     "output_type": "stream",
     "text": [
      "[3, 4]\n",
      "[6, 1, 3]\n"
     ]
    }
   ],
   "source": [
    "import random\n",
    "print (random.sample([1,2,3,4,6], 2))\n",
    "print (random.sample([1,2,3,4,6], 3))"
   ]
  },
  {
   "cell_type": "markdown",
   "metadata": {
    "slideshow": {
     "slide_type": "slide"
    }
   },
   "source": [
    "## S.4 균등 분포\n",
    "\n",
    "주사위를 던져 나오는 수는 1~6이다. 여기서 얻어지는 주사위 수가 선택될 확률은 동일하므로, **균등분포** uniform distribution이 된다."
   ]
  },
  {
   "cell_type": "markdown",
   "metadata": {},
   "source": [
    "### 샘플링\n",
    "\n",
    "아래 코드는 dice를 리스트로 선언하고, 1에서 6사이의 무작위 수 100개를 생성하여 추가하고 있다."
   ]
  },
  {
   "cell_type": "code",
   "execution_count": 9,
   "metadata": {},
   "outputs": [],
   "source": [
    "# randmo sampling\n",
    "dice=[]\n",
    "for i in range(100):\n",
    "   dice.append(random.randrange(1,6+1))"
   ]
  },
  {
   "cell_type": "code",
   "execution_count": 10,
   "metadata": {},
   "outputs": [
    {
     "name": "stdout",
     "output_type": "stream",
     "text": [
      "[1, 4, 3, 5, 2, 2, 6, 4, 5, 5, 4, 4, 6, 2, 2, 6, 2, 5, 4, 6, 1, 6, 1, 2, 5, 1, 3, 1, 3, 4, 5, 6, 4, 6, 4, 4, 6, 5, 4, 2, 3, 1, 1, 2, 4, 2, 3, 6, 4, 6, 3, 4, 5, 4, 5, 3, 5, 5, 4, 5, 2, 3, 6, 1, 3, 5, 6, 6, 2, 6, 3, 5, 5, 5, 1, 6, 6, 2, 6, 5, 3, 3, 1, 1, 4, 6, 4, 1, 3, 1, 4, 2, 1, 3, 4, 4, 1, 1, 5, 5]\n"
     ]
    }
   ],
   "source": [
    "print (dice)"
   ]
  },
  {
   "cell_type": "markdown",
   "metadata": {
    "slideshow": {
     "slide_type": "subslide"
    }
   },
   "source": [
    "### 히스토그램\n",
    "\n",
    "1~6 사이의 빈도수가 몇 개인지 세어보자.\n",
    "균등분포이므로 $\\frac{100}{6} = 16.7$, 즉 16 또는 17회가 발생해야 맞다.\n",
    "그러나 발생빈도가 평균치를 넘거나 이르지 못한 경우도 존재한다.\n",
    "주사위 던지는 회수를 늘리면 균등분포에 근사해지게 될 것이다."
   ]
  },
  {
   "cell_type": "code",
   "execution_count": 11,
   "metadata": {},
   "outputs": [
    {
     "name": "stdout",
     "output_type": "stream",
     "text": [
      "Dice 1: 16회\n",
      "Dice 2: 13회\n",
      "Dice 3: 14회\n",
      "Dice 4: 20회\n",
      "Dice 5: 19회\n",
      "Dice 6: 18회\n"
     ]
    }
   ],
   "source": [
    "# bin의 수가 10개라서 주사위 6개가 아님.\n",
    "for i in range(1,7):\n",
    "   print(\"Dice {}: {}회\".format(i, dice.count(i)))"
   ]
  },
  {
   "cell_type": "markdown",
   "metadata": {
    "collapsed": true,
    "slideshow": {
     "slide_type": "subslide"
    }
   },
   "source": [
    "각 사건의 발생건수를 막대그래프로 그려보자.\n",
    "막대그래프는 y값, 즉 빈도수만 있어도 된다.\n",
    "앞서 생성하였던 dice를 인자로 넘겨준다."
   ]
  },
  {
   "cell_type": "code",
   "execution_count": 12,
   "metadata": {},
   "outputs": [
    {
     "data": {
      "image/png": "[encoded data removed]",
      "text/plain": [
       "<Figure size 432x288 with 1 Axes>"
      ]
     },
     "metadata": {
      "needs_background": "light"
     },
     "output_type": "display_data"
    }
   ],
   "source": [
    "%matplotlib inline\n",
    "import matplotlib.pyplot as plt\n",
    "plt.hist(dice)\n",
    "plt.show()"
   ]
  },
  {
   "cell_type": "markdown",
   "metadata": {
    "slideshow": {
     "slide_type": "subslide"
    }
   },
   "source": [
    "위 그래프를 보면, 마지막이 붙어 있다.\n",
    "앞에서부터 2개의 값을 선택하여 막대가 그려지는데,\n",
    "마지막 막대를 그리는 경우, 6 이상을 넘어가지 못하게 되어서 그렇다.\n",
    "이를 교정하기 위해 0.5부터 시작해서 1씩 증가하도록 구간 bin을 구성하자.\n",
    "0.5~1.5, 1.5~2.5, ... 7개의 값이 필요하다."
   ]
  },
  {
   "cell_type": "code",
   "execution_count": 13,
   "metadata": {},
   "outputs": [
    {
     "data": {
      "text/plain": [
       "array([0.5, 1.5, 2.5, 3.5, 4.5, 5.5, 6.5])"
      ]
     },
     "execution_count": 13,
     "metadata": {},
     "output_type": "execute_result"
    }
   ],
   "source": [
    "import numpy as np\n",
    "np.arange(0.5, 7)"
   ]
  },
  {
   "cell_type": "code",
   "execution_count": 14,
   "metadata": {},
   "outputs": [
    {
     "data": {
      "image/png": "[encoded data removed]",
      "text/plain": [
       "<Figure size 432x288 with 1 Axes>"
      ]
     },
     "metadata": {
      "needs_background": "light"
     },
     "output_type": "display_data"
    }
   ],
   "source": [
    "plt.hist(dice, bins = np.arange(0.5, 7))\n",
    "plt.show()"
   ]
  },
  {
   "cell_type": "markdown",
   "metadata": {
    "collapsed": true,
    "slideshow": {
     "slide_type": "subslide"
    }
   },
   "source": [
    "Pandas로 그려보자.\n",
    "numpy array를 pandas의 Series로 변환하고, hist() 함수를 사용하면 된다.\n",
    "Pandas Series는 컬럼이라고 보면 된다. 컬럼을 1차원으로 저장한 값이다. 정수, 문자, 소수 등 어떤 값이든 상관없다."
   ]
  },
  {
   "cell_type": "code",
   "execution_count": 15,
   "metadata": {
    "scrolled": true
   },
   "outputs": [
    {
     "data": {
      "text/plain": [
       "<matplotlib.axes._subplots.AxesSubplot at 0x222f913dac8>"
      ]
     },
     "execution_count": 15,
     "metadata": {},
     "output_type": "execute_result"
    },
    {
     "data": {
      "image/png": "[encoded data removed]",
      "text/plain": [
       "<Figure size 432x288 with 1 Axes>"
      ]
     },
     "metadata": {
      "needs_background": "light"
     },
     "output_type": "display_data"
    }
   ],
   "source": [
    "import pandas as pd\n",
    "pd.Series(dice).hist(bins = np.arange(0.5, 7))"
   ]
  },
  {
   "cell_type": "markdown",
   "metadata": {
    "slideshow": {
     "slide_type": "subslide"
    }
   },
   "source": [
    "### describe\n",
    "\n",
    "통계량을 구해보자. describe()는 **기술통계량** 평균, 최소값, 최대값, 표준편차, 건수를 출력한다.\n",
    "DataFrame 또는 컬럼을 Series로 변환한 후 describe()를 적용할 수 있다."
   ]
  },
  {
   "cell_type": "code",
   "execution_count": 16,
   "metadata": {},
   "outputs": [],
   "source": [
    "import pandas as pd\n",
    "\n",
    "s=pd.Series(dice)"
   ]
  },
  {
   "cell_type": "code",
   "execution_count": 17,
   "metadata": {},
   "outputs": [
    {
     "name": "stdout",
     "output_type": "stream",
     "text": [
      "count    100.000000\n",
      "mean       3.670000\n",
      "std        1.711842\n",
      "min        1.000000\n",
      "25%        2.000000\n",
      "50%        4.000000\n",
      "75%        5.000000\n",
      "max        6.000000\n",
      "dtype: float64\n"
     ]
    }
   ],
   "source": [
    "print (s.describe())"
   ]
  },
  {
   "cell_type": "markdown",
   "metadata": {
    "slideshow": {
     "slide_type": "slide"
    }
   },
   "source": [
    "## S.5 정규분포\n",
    "\n",
    "정규분포는 평균을 중심으로 데이터가 집중해 있고, **좌우대칭의 종모양으로 생긴 분포**를 말한다.\n",
    "키, 몸무게, 온도 등 많은 데이터가 정규분포를 따르고 있다. 정규분포를 가정하여 데이터를 검증하며, 차이가 유의한지 판별하기도 한다."
   ]
  },
  {
   "cell_type": "markdown",
   "metadata": {},
   "source": [
    "### 샘플링\n",
    "\n",
    "무작위 변수 x가 있다고 하자. x는 정규분포를 따른다고 하며,\n",
    "평균 $\\mu$, 표준편차 $\\sigma$를 가지게 된다.\n",
    "즉, $ X \\sim N (\\mu, \\sigma)$\n",
    "무작위 수를 생성하는 함수는:\n",
    "* random.gauss($\\mu, \\sigma$)\n",
    "* random.normalvariate($\\mu, \\sigma$) - gauss보다 약간 빠름.\n",
    "\n",
    "참고로 다른 분포에서의 샘플링 함수는 다음과 같다.\n",
    "* random.uniform(a,b)\n",
    "* random.betavariate(alpha,beta)\n",
    "* random.expovariate(lamdb)\n",
    "* random.gammavariate(alpha,beta)\n"
   ]
  },
  {
   "cell_type": "markdown",
   "metadata": {},
   "source": [
    "평균 0, 표준편차 1을 가지는 정규분포에서 200개 샘플을 추출해보자."
   ]
  },
  {
   "cell_type": "code",
   "execution_count": 18,
   "metadata": {},
   "outputs": [],
   "source": [
    "import numpy as np\n",
    "comp1=np.random.normal(0, 1, size=200)"
   ]
  },
  {
   "cell_type": "markdown",
   "metadata": {},
   "source": [
    "200개를 생성하였고, 이 가운데 5개를 출력해보자."
   ]
  },
  {
   "cell_type": "code",
   "execution_count": 19,
   "metadata": {},
   "outputs": [
    {
     "data": {
      "text/plain": [
       "array([ 0.13057933,  1.99483492, -0.66217211, -0.13594204, -0.08974141])"
      ]
     },
     "execution_count": 19,
     "metadata": {},
     "output_type": "execute_result"
    }
   ],
   "source": [
    "comp1[:5]"
   ]
  },
  {
   "cell_type": "markdown",
   "metadata": {},
   "source": [
    "이번에는 평균 10, 표준편차 2, 샘플은 200의 정규분포를 생성해보자."
   ]
  },
  {
   "cell_type": "code",
   "execution_count": 20,
   "metadata": {},
   "outputs": [],
   "source": [
    "comp2=np.random.normal(10, 2, size=200)"
   ]
  },
  {
   "cell_type": "markdown",
   "metadata": {
    "slideshow": {
     "slide_type": "subslide"
    }
   },
   "source": [
    "### 히스토그램\n",
    "\n",
    "정규분포에서 무작위 샘플을 추출하는 randn()을 사용해서 histogram 그래프를 그려보자.\n",
    "정규분포 샘플을 무작위로 100개 생성해보자."
   ]
  },
  {
   "cell_type": "code",
   "execution_count": 21,
   "metadata": {},
   "outputs": [],
   "source": [
    "x=np.random.randn(100)"
   ]
  },
  {
   "cell_type": "markdown",
   "metadata": {},
   "source": [
    "histogram은 bin(interval)과 bin에 속하는 값을 반환한다.\n",
    "```histogram(x)```를 실행하면 2개의 행렬이 반환된다."
   ]
  },
  {
   "cell_type": "code",
   "execution_count": 22,
   "metadata": {},
   "outputs": [],
   "source": [
    "count, binends = np.histogram(x)"
   ]
  },
  {
   "cell_type": "markdown",
   "metadata": {},
   "source": [
    "반환된 각 빈(간격)에 속한 갯수, 그리고 x축의 간격을 출력해보자."
   ]
  },
  {
   "cell_type": "code",
   "execution_count": 23,
   "metadata": {},
   "outputs": [
    {
     "name": "stdout",
     "output_type": "stream",
     "text": [
      "[ 2 13 15 19 12 16 11  4  6  2]\n",
      "[-1.87593182 -1.42813482 -0.98033782 -0.53254081 -0.08474381  0.36305319\n",
      "  0.81085019  1.25864719  1.70644419  2.15424119  2.6020382 ]\n"
     ]
    }
   ],
   "source": [
    "print(count)\n",
    "print(binends)"
   ]
  },
  {
   "cell_type": "markdown",
   "metadata": {},
   "source": [
    "numpy의 ```histogram()```은 그래프를 생성하지 않으므로,\n",
    "그림을 그리려면 ```hist(x)```를 실행한다."
   ]
  },
  {
   "cell_type": "code",
   "execution_count": 24,
   "metadata": {},
   "outputs": [
    {
     "data": {
      "text/plain": [
       "(array([ 2., 13., 15., 19., 12., 16., 11.,  4.,  6.,  2.]),\n",
       " array([-1.87593182, -1.42813482, -0.98033782, -0.53254081, -0.08474381,\n",
       "         0.36305319,  0.81085019,  1.25864719,  1.70644419,  2.15424119,\n",
       "         2.6020382 ]),\n",
       " <a list of 10 Patch objects>)"
      ]
     },
     "execution_count": 24,
     "metadata": {},
     "output_type": "execute_result"
    },
    {
     "data": {
      "image/png": "[encoded data removed]",
      "text/plain": [
       "<Figure size 432x288 with 1 Axes>"
      ]
     },
     "metadata": {
      "needs_background": "light"
     },
     "output_type": "display_data"
    }
   ],
   "source": [
    "%matplotlib inline\n",
    "import matplotlib.pyplot as plt\n",
    "plt.hist(x)"
   ]
  },
  {
   "cell_type": "markdown",
   "metadata": {
    "slideshow": {
     "slide_type": "subslide"
    }
   },
   "source": [
    "Pandas로 hist()를 그려보자.\n",
    "앞서 생성했던 comp1, comp2를 묶어서 하나의 Series로 만들어 hist()를 호출하고 있다."
   ]
  },
  {
   "cell_type": "code",
   "execution_count": 25,
   "metadata": {},
   "outputs": [
    {
     "data": {
      "text/plain": [
       "<matplotlib.axes._subplots.AxesSubplot at 0x222f82ec748>"
      ]
     },
     "execution_count": 25,
     "metadata": {},
     "output_type": "execute_result"
    },
    {
     "data": {
      "image/png": "[encoded data removed]",
      "text/plain": [
       "<Figure size 432x288 with 1 Axes>"
      ]
     },
     "metadata": {
      "needs_background": "light"
     },
     "output_type": "display_data"
    }
   ],
   "source": [
    "import pandas as pd\n",
    "\n",
    "values=pd.Series(np.concatenate( [comp1,comp2]))\n",
    "values.hist()"
   ]
  },
  {
   "cell_type": "markdown",
   "metadata": {},
   "source": [
    "Pandas의 plot()은 선그래프를 그려준다.\n",
    "좌측은 평균 0, 표준편차 1이고, 우측은 평균 10, 표준편차 2의 그래프이다.\n",
    "당연히 표준편차가 큰 우측 그래프의 변동폭이 더 크다. "
   ]
  },
  {
   "cell_type": "code",
   "execution_count": 26,
   "metadata": {
    "scrolled": true
   },
   "outputs": [
    {
     "data": {
      "image/png": "[encoded data removed]",
      "text/plain": [
       "<Figure size 432x288 with 1 Axes>"
      ]
     },
     "metadata": {
      "needs_background": "light"
     },
     "output_type": "display_data"
    }
   ],
   "source": [
    "values.plot()\n",
    "plt.show()"
   ]
  },
  {
   "cell_type": "markdown",
   "metadata": {
    "slideshow": {
     "slide_type": "slide"
    }
   },
   "source": [
    "## 문제 S-1: 년도별 빈도 히스토그램\n",
    "\n",
    "빈도와 날자가 저장된 데이터에서 막대그래프를 그려보자.\n",
    "아래 데이터의 첫 컬럼은 빈도, 둘째 컬럼은 날자이다.\n",
    "막대그래프는 histogram, barchart를 선택할 수 있다.\n",
    "* histogram은 한 변수(컬럼)의 빈도수.\n",
    "* barchart는 두 변수간의 그래프.\n",
    "\n",
    "여기서는 x축에 년도, y축은 빈도를 추출해서 barchart를 그려보자."
   ]
  },
  {
   "cell_type": "code",
   "execution_count": 27,
   "metadata": {},
   "outputs": [],
   "source": [
    "data = \"\"\"30 14-11-2003\n",
    "10 15-03-2004\n",
    "12 04-12-2012\n",
    "33 09-05-2007\n",
    "44 16-08-2005\n",
    "55 25-07-2001\n",
    "76 31-12-2011\n",
    "87 25-06-2009\n",
    "118 16-02-2006\n",
    "119 10-02-2000\n",
    "145 03-05-2014\"\"\""
   ]
  },
  {
   "cell_type": "code",
   "execution_count": 28,
   "metadata": {},
   "outputs": [],
   "source": [
    "import datetime\n",
    "\n",
    "yvalues = []\n",
    "xdates = []\n",
    "for line in data.split(\"\\n\"):\n",
    "    x, y = line.split()\n",
    "    yvalues.append(int(x))\n",
    "    xdates.append(datetime.datetime.strptime(y, \"%d-%m-%Y\").date())"
   ]
  },
  {
   "cell_type": "markdown",
   "metadata": {},
   "source": [
    "bar()는 바의 너비를 말하는데, 기본은 0.8이다.\n",
    "여기서는 30정도 넣으니 출력이 된다."
   ]
  },
  {
   "cell_type": "code",
   "execution_count": 29,
   "metadata": {},
   "outputs": [
    {
     "data": {
      "text/plain": [
       "<BarContainer object of 11 artists>"
      ]
     },
     "execution_count": 29,
     "metadata": {},
     "output_type": "execute_result"
    },
    {
     "data": {
      "image/png": "[encoded data removed]",
      "text/plain": [
       "<Figure size 432x288 with 1 Axes>"
      ]
     },
     "metadata": {
      "needs_background": "light"
     },
     "output_type": "display_data"
    }
   ],
   "source": [
    "import matplotlib.pyplot as plt\n",
    "\n",
    "fig = plt.figure()\n",
    "ax = plt.subplot(111)\n",
    "ax.bar(xdates, yvalues, width=30)"
   ]
  },
  {
   "cell_type": "markdown",
   "metadata": {
    "slideshow": {
     "slide_type": "slide"
    }
   },
   "source": [
    "## S.6 중심극한정리\n",
    "\n",
    "평균이 $\\mu$, 표준편차가 $\\sigma$인 모집단이 있다고하자. 이 모집단에서 무작위로 표본 $X_1, X_2, \\dots X_n$을 추출하면 (바꿔치기가 가능한 sampling with replacement), 그 **표본의 평균 $\\bar{X_1}, \\bar{X_2}, \\dots \\bar{X_n}$**은 **정규분포**를 따른다는 것이 중심극한정리이다.\n",
    "\n",
    "모집단이 어떤 분포를 따르더라도, 표본의 크기 n이 충분히 커지면 (보통 n>30), **표본평균의 분포는 정규분포로 수렴**하게 된다\n",
    "이러한 전제에 따라, **통계적 추정**을 할 수 있고, z값을 이용해 확률을 계산할 수 있게 된다.\n",
    "\n",
    "예를 들어 모집단이 균등분포라고 하자. 앞서 설명했던 주사위는 1 ~ 6까지 동일한 확률로 발생한다. 주사위를 10회 던져서 표본을 구성해보자. 이를 표본1이라고 하자. 이와 같이 표본을 n회 구성해보자. 그러면 표본1의 평균 $\\bar{X_1}$ 3.51, $\\bar{X_2}$는 3.32, $\\bar{X_3}$은 3.81..이 될 것이다. 표본을 30회 정도하면, 표본평균의 표본분포 (sampling distribution of sample means)는 그 형태가 정규분포에 수렴한다.\n",
    "\n",
    "무작위로 **평균 $\\mu$, 표준편차 $\\sigma$** 모집단이 있다고 하자. 모집단의 평균과 표준편차는 계산할 방법이 없어서 알 수가 없다. 표본을 추출하면, 모집단의 평균 $\\mu = \\mu_{\\bar{x_n}}$, 모집단의 표준편차는 표본의 표준편차를 크기로 나누어 계산할 수 있다 $\\sigma =  \\frac{\\sigma}{\\sqrt{n}}$  따라서 $\\frac{\\sigma} {\\sqrt{n}}$로 계산한다. 주사위 사례에서 n=10이므로,  $\\frac{\\sigma} {\\sqrt{10}}$으로 한다."
   ]
  },
  {
   "cell_type": "markdown",
   "metadata": {},
   "source": [
    "식으로 표현하면:\n",
    "\n",
    "$$\n",
    "z = \\frac {\\bar{x_n} - \\mu} {\\sigma / \\sqrt{n}} \\quad n \\rightarrow \\infty\n",
    "$$"
   ]
  },
  {
   "cell_type": "markdown",
   "metadata": {},
   "source": [
    "정규분포에서 100개의 수를 생성해보자."
   ]
  },
  {
   "cell_type": "code",
   "execution_count": 30,
   "metadata": {},
   "outputs": [],
   "source": [
    "import numpy as np\n",
    "x=np.random.randn(100)"
   ]
  },
  {
   "cell_type": "markdown",
   "metadata": {},
   "source": [
    "정규분포는 평균, 모드, 최빈값이 같아야 한다.\n",
    "아래는 평균은 0에 가깝고, 최빈값과 다소 차이가 있다.\n",
    "정규분포의 솟거나, 퍼진 모양이 다르기 때문이다."
   ]
  },
  {
   "cell_type": "code",
   "execution_count": 31,
   "metadata": {
    "scrolled": true
   },
   "outputs": [
    {
     "name": "stdout",
     "output_type": "stream",
     "text": [
      "mean\t: -0.14018896808392317\n",
      "median\t: -0.211951089437603\n"
     ]
    }
   ],
   "source": [
    "print (\"mean\\t: {}\".format(np.mean(x)))\n",
    "print (\"median\\t: {}\".format(np.median(x)))"
   ]
  },
  {
   "cell_type": "markdown",
   "metadata": {},
   "source": [
    "### skewness\n",
    "\n",
    "분포의 대칭성을 설명하는 지표로 skewness를 계산한다.\n",
    "* ```= 0``` : 정규분포\n",
    "* ```> 0``` : 왼쪽 꼬리가 두툼, 왼쪽으로 비스듬\n",
    "* ```< 0``` : 오른쪽 꼬리가 두툼, 왼쪽으로 비스듬"
   ]
  },
  {
   "cell_type": "code",
   "execution_count": 32,
   "metadata": {},
   "outputs": [
    {
     "name": "stdout",
     "output_type": "stream",
     "text": [
      "skewness\t: 0.0727712181985483\n"
     ]
    }
   ],
   "source": [
    "from scipy.stats import skew\n",
    "\n",
    "print (\"skewness\\t: {}\".format(skew(x)))"
   ]
  },
  {
   "cell_type": "markdown",
   "metadata": {},
   "source": [
    "### kurtosis\n",
    "\n",
    "kurtosis는 분포의 뾰족한 정도를 설명한다.\n",
    "* ```= 0``` : 정규분포\n",
    "* ```> 0``` : 뾰족하고, 꼬리가 두툼\n",
    "* ```< 0``` : 편평하고, 꼬리가 얇음"
   ]
  },
  {
   "cell_type": "code",
   "execution_count": 33,
   "metadata": {},
   "outputs": [
    {
     "name": "stdout",
     "output_type": "stream",
     "text": [
      "kurtosis\t: -0.26143665015922535\n"
     ]
    }
   ],
   "source": [
    "from scipy.stats import kurtosis\n",
    "\n",
    "print (\"kurtosis\\t: {}\".format(kurtosis(x)))"
   ]
  },
  {
   "cell_type": "markdown",
   "metadata": {},
   "source": [
    "### Spark로 skewness, kurtosis 계산하기"
   ]
  },
  {
   "cell_type": "code",
   "execution_count": 34,
   "metadata": {},
   "outputs": [],
   "source": [
    "import sys\n",
    "import os\n",
    "\n",
    "home=os.path.expanduser(\"~\")\n",
    "os.environ[\"PYSPARK_PYTHON\"]=\"C:\\\\Users\\\\zaqxs\\\\Anaconda2\\\\envs\\\\py35\\\\python.exe\"\n",
    "os.environ[\"PYSPARK_DRIVER_PYTHON\"]=\"C:\\\\Users\\\\zaqxs\\\\Anaconda2\\\\envs\\\\py35\\\\python.exe\"\n",
    "os.environ[\"PYLIB\"]=os.path.join(os.environ[\"SPARK_HOME\"],'python','lib')\n",
    "sys.path.insert(0,os.path.join(os.environ[\"PYLIB\"],'py4j-0.10.9-src.zip'))\n",
    "sys.path.insert(0,os.path.join(os.environ[\"PYLIB\"],'pyspark.zip'))"
   ]
  },
  {
   "cell_type": "code",
   "execution_count": 35,
   "metadata": {},
   "outputs": [],
   "source": [
    "import pyspark\n",
    "\n",
    "myConf=pyspark.SparkConf()\n",
    "spark = pyspark.sql.SparkSession.builder\\\n",
    "    .master(\"local\")\\\n",
    "    .appName(\"myApp\")\\\n",
    "    .config(conf=myConf)\\\n",
    "    .getOrCreate()"
   ]
  },
  {
   "cell_type": "markdown",
   "metadata": {},
   "source": [
    "numpy array는 바로 Spark DataFrame을 생성할 수 없으므로,\n",
    "Pandas를 경유해서 numpy array를 DataFrame으로 생성하자."
   ]
  },
  {
   "cell_type": "code",
   "execution_count": 36,
   "metadata": {},
   "outputs": [],
   "source": [
    "import pandas as pd\n",
    "xPd=pd.DataFrame(x, columns=['x'], dtype=float)"
   ]
  },
  {
   "cell_type": "code",
   "execution_count": 37,
   "metadata": {},
   "outputs": [],
   "source": [
    "df=spark.createDataFrame(xPd)"
   ]
  },
  {
   "cell_type": "code",
   "execution_count": 38,
   "metadata": {
    "scrolled": true
   },
   "outputs": [
    {
     "name": "stdout",
     "output_type": "stream",
     "text": [
      "+-------------------+------------------+\n",
      "|        skewness(x)|       kurtosis(x)|\n",
      "+-------------------+------------------+\n",
      "|0.07277121819854837|-0.261436650159224|\n",
      "+-------------------+------------------+\n",
      "\n"
     ]
    }
   ],
   "source": [
    "from pyspark.sql import functions as f\n",
    "df.select(f.skewness(df['x']), f.kurtosis(df['x'])).show()"
   ]
  },
  {
   "cell_type": "markdown",
   "metadata": {},
   "source": [
    "## S.7 분산\n",
    "\n",
    "분산을 구하려면 평균 $\\bar{x}$, $\\bar{y}$를 구해야 한다.\n",
    "\n",
    "### 평균 계산식\n",
    "\n",
    "평균을 x의 합계를 개수로 나누어 계산해보자. numpy 평균과 동일하다."
   ]
  },
  {
   "cell_type": "code",
   "execution_count": 39,
   "metadata": {},
   "outputs": [],
   "source": [
    "X=x"
   ]
  },
  {
   "cell_type": "code",
   "execution_count": 40,
   "metadata": {},
   "outputs": [
    {
     "name": "stdout",
     "output_type": "stream",
     "text": [
      "simple mean of x = -0.140\n"
     ]
    }
   ],
   "source": [
    "print (\"simple mean of x = {:.3f}\".format(float(sum(X))/len(X)))"
   ]
  },
  {
   "cell_type": "markdown",
   "metadata": {},
   "source": [
    "### numpy 평균\n",
    "\n",
    "numpy의 평균을 계산해보자."
   ]
  },
  {
   "cell_type": "code",
   "execution_count": 41,
   "metadata": {},
   "outputs": [],
   "source": [
    "import numpy as np\n",
    "\n",
    "xbar=np.mean(X)\n",
    "#ybar=np.mean(Y)"
   ]
  },
  {
   "cell_type": "code",
   "execution_count": 42,
   "metadata": {},
   "outputs": [
    {
     "name": "stdout",
     "output_type": "stream",
     "text": [
      "numpy mean of X = -0.140\n"
     ]
    }
   ],
   "source": [
    "print (\"numpy mean of X = {:.3f}\".format(xbar))"
   ]
  },
  {
   "cell_type": "markdown",
   "metadata": {},
   "source": [
    "### 분산 계산식\n",
    "\n",
    "분산 variance나 표준편차 Standard Deviation은 **평균으로부터 얼마나 멀리 떨어져 또는 흩어져 분포**하는지 알려주는 값이다. \n",
    "* 분산은 평균에서 관측값을 뺀 차이값을 제곱하여 평균을 계산한다. 제곱을 하지 않고 차이값을 더하면 0이 나오므로 제곱을 한다.\n",
    "* 분산을 제곱근하면 표준편차가 된다.\n",
    "\n",
    "분산보다는 표준편차가 더 자주 사용된다.\n",
    "\n",
    "수식으로 분산을 계산을 해보자."
   ]
  },
  {
   "cell_type": "code",
   "execution_count": 43,
   "metadata": {},
   "outputs": [
    {
     "name": "stdout",
     "output_type": "stream",
     "text": [
      "0.969405940339687\n"
     ]
    }
   ],
   "source": [
    "print(np.sqrt(sum( [ (x-xbar)**2 for x in X ] )/len(X))) # ddof=0"
   ]
  },
  {
   "cell_type": "markdown",
   "metadata": {},
   "source": [
    "n-1 보정을 해주어서 분산을 계산하면 다음과 같이 미세하게 값이 증가한다.\n",
    "이러한 보정은 샘플의 크기가 커지면 영향이 더욱 적어지게 된다.\n",
    "\n",
    "**n-1 보정을 해주어야 하는 이유**는 하나는 제외해도 되기 때문이다.\n",
    "분산을 계산하려면 평균을 알아야 한다. 분산이란 평균에서 얼마나 떨어져 있는지 나타내는 값이기 때문이다.\n",
    "모집단에서 5개의 수를 샘플링한다고 하자. 예를 들어 1, 5, 3, 4, 9이라고 하자.\n",
    "표본의 평균을 알고 있다고 하자.\n",
    "그러면 1, 5, 3, 4까지만 샘플링을 해도 평균이 4.4 (22/5)이니까\n",
    "**분산을 계산할 때 마지막 수는 필요하지 않아서 자유도에서 -1**을 해주게 된다.\n",
    "표본의 평균을 알고 있다면, 마지막 수는 변경될 필요없이 고정된다."
   ]
  },
  {
   "cell_type": "code",
   "execution_count": 44,
   "metadata": {},
   "outputs": [
    {
     "name": "stdout",
     "output_type": "stream",
     "text": [
      "0.9742896283783011\n"
     ]
    }
   ],
   "source": [
    "print(np.sqrt(sum( [ (x-xbar)**2 for x in X ] )/(len(X)-1))) # ddof=1"
   ]
  },
  {
   "cell_type": "markdown",
   "metadata": {},
   "source": [
    "표준편차는 variance의 제곱근으로 계산한다.\n",
    "\n",
    "ddof는 Delta Degrees of Freedom으로, 기본 값은 ddof=0이지만, 1로 해서 계산한다."
   ]
  },
  {
   "cell_type": "code",
   "execution_count": 45,
   "metadata": {},
   "outputs": [],
   "source": [
    "sx=np.sqrt(np.var(X,ddof=1))\n",
    "#sy=np.sqrt(np.var(Y,ddof=1))\n",
    "#print(\"sx:\",sx, \"sy:\",sy)"
   ]
  },
  {
   "cell_type": "markdown",
   "metadata": {},
   "source": [
    "### numpy 분산 계산\n",
    "\n",
    "numpy로 계산해도, 값은 동일하다."
   ]
  },
  {
   "cell_type": "code",
   "execution_count": 46,
   "metadata": {},
   "outputs": [
    {
     "name": "stdout",
     "output_type": "stream",
     "text": [
      "0.969405940339687\n",
      "0.974289628378301\n"
     ]
    }
   ],
   "source": [
    "print(np.std(X)) # ddof=0\n",
    "print(np.std(X, ddof=1))"
   ]
  },
  {
   "cell_type": "code",
   "execution_count": 47,
   "metadata": {},
   "outputs": [
    {
     "name": "stdout",
     "output_type": "stream",
     "text": [
      "3.0\n"
     ]
    }
   ],
   "source": [
    "a = np.array([1,2,3,4,5])\n",
    "p = np.percentile(a, 50) # return 50th percentile, e.g median.\n",
    "print (p) # 3\n"
   ]
  },
  {
   "cell_type": "markdown",
   "metadata": {
    "slideshow": {
     "slide_type": "subslide"
    }
   },
   "source": [
    "### boxplot\n",
    "\n",
    "전체 관측값을 정렬하고, 전체를 4분위로 나누면 IQR Interquatile Range을 구할 수 있다.\n",
    "Boxplot은 IQR의 Q1~Q3을 사각형으로 표시한다.\n",
    "pandas를 이용하거나, matplotlib으로 Boxplot을 그릴 수 있다.\n",
    "사각형의 주황색 선은 평균을 말한다."
   ]
  },
  {
   "cell_type": "code",
   "execution_count": 48,
   "metadata": {},
   "outputs": [
    {
     "data": {
      "image/png": "[encoded data removed]",
      "text/plain": [
       "<Figure size 432x288 with 1 Axes>"
      ]
     },
     "metadata": {
      "needs_background": "light"
     },
     "output_type": "display_data"
    }
   ],
   "source": [
    "import matplotlib.pyplot as plt\n",
    "\n",
    "x1 = np.random.normal(0,1,50) # mu=0, sigma=1, n=50\n",
    "x2 = np.random.normal(1,1,50)\n",
    "x3 = np.random.normal(2,1,50)\n",
    "plt.boxplot([x1,x2,x3])\n",
    "plt.show()\n"
   ]
  },
  {
   "cell_type": "markdown",
   "metadata": {
    "slideshow": {
     "slide_type": "subslide"
    }
   },
   "source": [
    "## S.8 zscore, tscore\n",
    "\n",
    "zscore는 각 측정 값을 평균에서 빼고난 후 표준편차로 나누어 계산된다.\n",
    "이 식을 이해하면, 평균에서 표준편차의 몇 배가 떨어져 있는지를 말한다.\n",
    "**표준편차의 배수로 떨어진 정도를 정규화(표준화)**한다는 의미가 있다.\n",
    "\n",
    "z는 모집단의 평균, 표준편차를 알 경우, 그러나 샘플링을 할 경우는 \n",
    "n-1로 나눈다 (numpy에서는 ddof=1이 default).\n",
    "따라서 아래 계산에서는 ddof=1로 한다."
   ]
  },
  {
   "cell_type": "markdown",
   "metadata": {
    "slideshow": {
     "slide_type": "subslide"
    }
   },
   "source": [
    "모집단의 zscore when variance is known\n",
    "$$\n",
    "z = \\frac {\\bar{x_n} - \\mu} {\\sigma / \\sqrt{n}} \n",
    "$$\n"
   ]
  },
  {
   "cell_type": "code",
   "execution_count": 49,
   "metadata": {},
   "outputs": [],
   "source": [
    "X=[10, 7, 12, 12, 9, 16, 12, 18, 8, 12, 14, 16]"
   ]
  },
  {
   "cell_type": "markdown",
   "metadata": {},
   "source": [
    "### zscore 계산식"
   ]
  },
  {
   "cell_type": "code",
   "execution_count": 50,
   "metadata": {},
   "outputs": [
    {
     "name": "stdout",
     "output_type": "stream",
     "text": [
      "-0.6410300618768864 -1.5286101475525755 -0.04931000475976033 -0.04931000475976033 -0.9368900904354495 1.1341301094744918 -0.04931000475976033 1.725850166591618 -1.2327501189940124 -0.04931000475976033 0.5424100523573657 1.1341301094744918 "
     ]
    }
   ],
   "source": [
    "import numpy as np\n",
    "\n",
    "xbar=np.mean(X)\n",
    "sigmax=np.std(X) #ddof=0\n",
    "sx=np.std(X,ddof=1)\n",
    "for x in X:\n",
    "   zscore=(x-xbar)/sx\n",
    "   print (zscore, end= ' ')"
   ]
  },
  {
   "cell_type": "markdown",
   "metadata": {},
   "source": [
    "### stats zscore"
   ]
  },
  {
   "cell_type": "code",
   "execution_count": 51,
   "metadata": {},
   "outputs": [],
   "source": [
    "from scipy import stats"
   ]
  },
  {
   "cell_type": "code",
   "execution_count": 52,
   "metadata": {},
   "outputs": [
    {
     "data": {
      "text/plain": [
       "array([-0.66953406, -1.59658123, -0.05150262, -0.05150262, -0.97854978,\n",
       "        1.18456027, -0.05150262,  1.80259171, -1.28756551, -0.05150262,\n",
       "        0.56652882,  1.18456027])"
      ]
     },
     "execution_count": 52,
     "metadata": {},
     "output_type": "execute_result"
    }
   ],
   "source": [
    "stats.zscore(X)"
   ]
  },
  {
   "cell_type": "markdown",
   "metadata": {},
   "source": [
    "### cdf\n",
    "\n",
    "추론통계에서 확률을 계산하는 것은 중요하다. p-value와 신뢰구간의 계산에 필요하다.\n",
    "**cdf** Cumulative Distribution Function은 누적확률을 의미한다.\n",
    "정규분포에서 **평균과 표준편차는 0,1을 기본 값**으로, cdf(0)은 '0'또는 그 이하의 값을 누적한 확률을 말한다."
   ]
  },
  {
   "cell_type": "code",
   "execution_count": 53,
   "metadata": {},
   "outputs": [
    {
     "data": {
      "text/plain": [
       "0.5"
      ]
     },
     "execution_count": 53,
     "metadata": {},
     "output_type": "execute_result"
    }
   ],
   "source": [
    "from scipy.stats import norm\n",
    "\n",
    "norm.cdf(0, loc=0, scale=1)"
   ]
  },
  {
   "cell_type": "markdown",
   "metadata": {},
   "source": [
    "1일 경우는 84.13, 2일 경우에는 97.72이다.\n",
    "* $\\mu \\pm 1\\sigma$ 모집단 68.27%\n",
    "* $\\mu \\pm 2\\sigma$ 모집단 95.45%\n",
    "* $\\mu \\pm 3\\sigma$ 모집단 99.73%"
   ]
  },
  {
   "cell_type": "code",
   "execution_count": 54,
   "metadata": {},
   "outputs": [
    {
     "data": {
      "text/plain": [
       "0.6826894921370859"
      ]
     },
     "execution_count": 54,
     "metadata": {},
     "output_type": "execute_result"
    }
   ],
   "source": [
    "norm.cdf(1) - norm.cdf(-1)"
   ]
  },
  {
   "cell_type": "code",
   "execution_count": 55,
   "metadata": {},
   "outputs": [
    {
     "data": {
      "text/plain": [
       "0.9544997361036416"
      ]
     },
     "execution_count": 55,
     "metadata": {},
     "output_type": "execute_result"
    }
   ],
   "source": [
    "norm.cdf(2) - norm.cdf(-2)"
   ]
  },
  {
   "cell_type": "markdown",
   "metadata": {},
   "source": [
    "### ppf\n",
    "\n",
    "Percent Point Function 확률의 점 값을 계산한다. 0.5, 즉 50% 확률의 zscore는 0이다.\n",
    "0.001, 즉 0.1%의 확률의 zscore는 -3.09이다."
   ]
  },
  {
   "cell_type": "code",
   "execution_count": 56,
   "metadata": {},
   "outputs": [
    {
     "data": {
      "text/plain": [
       "array([-3.09023231,  0.        ,  1.69014614])"
      ]
     },
     "execution_count": 56,
     "metadata": {},
     "output_type": "execute_result"
    }
   ],
   "source": [
    "norm.ppf([0.001, 0.5, 0.9545])"
   ]
  },
  {
   "cell_type": "markdown",
   "metadata": {},
   "source": [
    "ppf는 cdf의 역이다. 아래와 같이 위 ppf계산 결과를 cdf에 넣으면 ppf를 계산할 수 있다."
   ]
  },
  {
   "cell_type": "code",
   "execution_count": 57,
   "metadata": {},
   "outputs": [
    {
     "data": {
      "text/plain": [
       "array([0.001 , 0.5   , 0.9545])"
      ]
     },
     "execution_count": 57,
     "metadata": {},
     "output_type": "execute_result"
    }
   ],
   "source": [
    "norm.cdf([-3.09023231,  0.        ,  1.69014614])"
   ]
  },
  {
   "cell_type": "markdown",
   "metadata": {},
   "source": [
    "### tscore\n",
    "\n",
    "표본의 크기가 크면 모집단과 차이가 없는데, 표본이 작으면 어떻게 될까? 이 경우 사용하는 것이 t분포이다.\n",
    "t분포는 정규분포와 유사한 모양을 가지고 있지만, 꼬리가 두툼한 특징을 가지고 있다.\n",
    "따라서 평균에서 멀어진 값을 샘플링할 확률이 높아지게 된다.\n",
    "n이 일정 규모로 커지면 t분포와 정규분포와 유사하게 된다."
   ]
  },
  {
   "cell_type": "code",
   "execution_count": 58,
   "metadata": {},
   "outputs": [
    {
     "data": {
      "text/plain": [
       "0.7500000000000002"
      ]
     },
     "execution_count": 58,
     "metadata": {},
     "output_type": "execute_result"
    }
   ],
   "source": [
    "from scipy.stats import t\n",
    "\n",
    "t.cdf(1, 1) # dof 1"
   ]
  },
  {
   "cell_type": "code",
   "execution_count": 59,
   "metadata": {
    "slideshow": {
     "slide_type": "subslide"
    }
   },
   "outputs": [
    {
     "data": {
      "text/plain": [
       "0.7500000000000002"
      ]
     },
     "execution_count": 59,
     "metadata": {},
     "output_type": "execute_result"
    }
   ],
   "source": [
    "t.cdf(1, 1, loc=0, scale=1)"
   ]
  },
  {
   "cell_type": "markdown",
   "metadata": {},
   "source": [
    "## S.9 outliers\n",
    "\n",
    "정규분포를 따른다고 했을 경우, 분포의 표준편차 범위3은 발생하기 어렵다.\n",
    "이러한 일정 범위를 넘어선 값은 이상값이다.\n",
    "따라서, 이런 경우 분석에 앞서:\n",
    "* 이상값의 어떤 기준은 판별하는가?\n",
    "* 왜 그런 값이 발생했는지, 올바르지 않은 입력인지 판단한다.\n",
    "* 이상값을 제외하고 나면 통계량은 어떻게 변했는지 알아본다.\n",
    "\n",
    "아래의 예에서 표준편차 2배 보다 큰 경우 이상 값으로 보고, 제외한다."
   ]
  },
  {
   "cell_type": "code",
   "execution_count": 60,
   "metadata": {},
   "outputs": [
    {
     "name": "stdout",
     "output_type": "stream",
     "text": [
      "[2, 4, 5, 1, 6, 5]\n"
     ]
    }
   ],
   "source": [
    "import numpy as np\n",
    "\n",
    "def reject_outliers(data):\n",
    "    m = np.mean(data)\n",
    "    s = np.std(data)\n",
    "    filtered = [d for d in data if (m - 2 * s < d < m + 2 * s)]\n",
    "    return filtered\n",
    "\n",
    "d = [2,4,5,1,6,5,40]\n",
    "filtered_d = reject_outliers(d)\n",
    "print (filtered_d)"
   ]
  },
  {
   "cell_type": "markdown",
   "metadata": {},
   "source": [
    "## Window functions\n",
    "\n",
    "앞서 배웠던 pyspark.sql.functions는 substr()과 같이 문자열을 잘라내고, 그 결과를 생성하여 행으로 적용을 한다.\n",
    "반면에 윈도우 함수는 그룹으로 구분하고 그 범위 내에서 계산을 할 때 사용한다.\n",
    "이 때 over() 함수로 적용되는 그룹의 윈도우를 구분하게 된다.\n",
    "* 순위 함수 ranking functions: rank, dense_rank, percent_rank, ntile, row_number\n",
    "* 분석 함수 analytic functions: cume_dist, first_value, last_value, lag, lead\n",
    "* 집합 함수 aggregate functions: sum, avg, min, max, count와 같이 앞서 배웠던 집합 함수를 윈도우에 대해 적용."
   ]
  },
  {
   "cell_type": "markdown",
   "metadata": {
    "collapsed": true
   },
   "source": [
    "### 데이터\n",
    "\n",
    "문자열 리스트의 1차원 배열이지만, 2차원 배열로 즉 사람별로 이름, 과목, 성적을 가지는 2차원으로 변환해야 한다.\n",
    "윈도우 함수를 적용하기 위해 DataFrame으로 만들어 주자."
   ]
  },
  {
   "cell_type": "code",
   "execution_count": 61,
   "metadata": {},
   "outputs": [],
   "source": [
    "marks=[\n",
    "    \"김하나, English, 100\",\n",
    "    \"김하나, Math, 80\",\n",
    "    \"임하나, English, 70\",\n",
    "    \"임하나, Math, 100\",\n",
    "    \"김갑돌, English, 82.3\",\n",
    "    \"김갑돌, Math, 98.5\"\n",
    "]"
   ]
  },
  {
   "cell_type": "markdown",
   "metadata": {},
   "source": [
    "### DataFrame 생성\n",
    "\n",
    "이름, 과목, 성적을 컴마로 분할하여 DataFrame을 직접 만들려면 조금 복잡하다.\n",
    "이름, 과목, 성적을 하나의 컬럼으로 읽게되고, 이를 컴마로 분리해서 하나씩의 컬럼을 생성해야 한다.\n",
    "RDD의 map() 함수를 사용하여 컴마로 분할하고 나서, 3개의 컬럼으로 DataFrame을 만드는 편이 쉽다."
   ]
  },
  {
   "cell_type": "code",
   "execution_count": 62,
   "metadata": {},
   "outputs": [],
   "source": [
    "_marksRdd=spark.sparkContext.parallelize(marks).map(lambda x:x.split(','))"
   ]
  },
  {
   "cell_type": "markdown",
   "metadata": {},
   "source": [
    "읽으면서 컬럼명을 수정한다."
   ]
  },
  {
   "cell_type": "code",
   "execution_count": 63,
   "metadata": {},
   "outputs": [],
   "source": [
    "_marksDf=spark.createDataFrame(_marksRdd, schema=[\"name\", \"subject\", \"mark\"])"
   ]
  },
  {
   "cell_type": "code",
   "execution_count": 64,
   "metadata": {},
   "outputs": [
    {
     "name": "stdout",
     "output_type": "stream",
     "text": [
      "root\n",
      " |-- name: string (nullable = true)\n",
      " |-- subject: string (nullable = true)\n",
      " |-- mark: string (nullable = true)\n",
      "\n"
     ]
    }
   ],
   "source": [
    "_marksDf.printSchema()"
   ]
  },
  {
   "cell_type": "code",
   "execution_count": 65,
   "metadata": {},
   "outputs": [
    {
     "name": "stdout",
     "output_type": "stream",
     "text": [
      "+------+--------+-----+\n",
      "|  name| subject| mark|\n",
      "+------+--------+-----+\n",
      "|김하나| English|  100|\n",
      "|김하나|    Math|   80|\n",
      "|임하나| English|   70|\n",
      "|임하나|    Math|  100|\n",
      "|김갑돌| English| 82.3|\n",
      "|김갑돌|    Math| 98.5|\n",
      "+------+--------+-----+\n",
      "\n"
     ]
    }
   ],
   "source": [
    "_marksDf.show()"
   ]
  },
  {
   "cell_type": "code",
   "execution_count": 66,
   "metadata": {
    "scrolled": false
   },
   "outputs": [
    {
     "name": "stdout",
     "output_type": "stream",
     "text": [
      "+--------+-----+\n",
      "| subject|count|\n",
      "+--------+-----+\n",
      "|    Math|    3|\n",
      "| English|    3|\n",
      "+--------+-----+\n",
      "\n"
     ]
    }
   ],
   "source": [
    "_marksDf.groupBy('subject').count().show()"
   ]
  },
  {
   "cell_type": "markdown",
   "metadata": {},
   "source": [
    "### 그룹 window\n",
    "\n",
    "컬럼에 대해 그룹, 즉 윈도우를 만드는 함수를 보자. \n",
    "* partitionBy: 컬럼별로 구분, 즉 컬럼 값에 따라 partition에 포함되는 행을 할당. partition을 정하지 않으면 모든 행을 동일한 노드에 할당한다.\n",
    "* orderBy: partition 내에서 컬럼 값에 대해 행의 순서를 정렬한다.\n",
    "* frame: 현재 행을 기준으로 포함할 행을 분할.\n",
    "    * 행 프레임: 현재 행을 기준으로 몇 개 앞, 몇 개 뒤의 물리적 범위를 **```window.rowsBetween(start, end)```** 정한다.\n",
    "    * 범위 프레임: 논리적인 범위를 **```windowSpec.rangeBetween(start, end)```** 정한다. 현재 성적이 70점이면 RANGE BETWEEN 20 PRECEDING AND 10 FOLLOWING은 50 ~ 80을 의미 "
   ]
  },
  {
   "cell_type": "code",
   "execution_count": 67,
   "metadata": {},
   "outputs": [],
   "source": [
    "from pyspark.sql.window import Window\n",
    "\n",
    "win = Window.partitionBy(\"subject\").orderBy(\"mark\")"
   ]
  },
  {
   "cell_type": "markdown",
   "metadata": {},
   "source": [
    "### 순위 함수\n",
    "\n",
    "#### row_number\n",
    "\n",
    "row_number() 윈도우 함수는 각 그룹별로 일련번호를 생성한다."
   ]
  },
  {
   "cell_type": "code",
   "execution_count": 68,
   "metadata": {
    "scrolled": true
   },
   "outputs": [
    {
     "name": "stdout",
     "output_type": "stream",
     "text": [
      "+------+--------+-----+----------+\n",
      "|  name| subject| mark|row_number|\n",
      "+------+--------+-----+----------+\n",
      "|임하나|    Math|  100|         1|\n",
      "|김하나|    Math|   80|         2|\n",
      "|김갑돌|    Math| 98.5|         3|\n",
      "|김하나| English|  100|         1|\n",
      "|임하나| English|   70|         2|\n",
      "|김갑돌| English| 82.3|         3|\n",
      "+------+--------+-----+----------+\n",
      "\n"
     ]
    }
   ],
   "source": [
    "from pyspark.sql.functions import row_number\n",
    "\n",
    "_marksDf.withColumn(\"row_number\", row_number().over(win)).show()"
   ]
  },
  {
   "cell_type": "markdown",
   "metadata": {},
   "source": [
    "위 결과를 보면 정렬이 되지 않고 있다. 그 이유는 mark가 문자열로 정의되어 있기 때문이다.\n",
    "FloatType()으로 형변환을 하고, 다시 Window를 정렬하자."
   ]
  },
  {
   "cell_type": "code",
   "execution_count": 69,
   "metadata": {},
   "outputs": [],
   "source": [
    "from pyspark.sql.types import FloatType\n",
    "\n",
    "_marksDf = _marksDf.withColumn('markF', _marksDf['mark'].cast(FloatType()))"
   ]
  },
  {
   "cell_type": "markdown",
   "metadata": {},
   "source": [
    "```orderBy((\"markF\").desc())```로 내림차순으로 정렬하여 Window를 정렬한다."
   ]
  },
  {
   "cell_type": "code",
   "execution_count": 70,
   "metadata": {},
   "outputs": [],
   "source": [
    "from pyspark.sql import functions as F\n",
    "winF = Window.partitionBy(\"subject\").orderBy(F.col(\"markF\").desc()) # "
   ]
  },
  {
   "cell_type": "code",
   "execution_count": 71,
   "metadata": {
    "scrolled": true
   },
   "outputs": [
    {
     "name": "stdout",
     "output_type": "stream",
     "text": [
      "+------+--------+-----+-----+----------+\n",
      "|  name| subject| mark|markF|row_number|\n",
      "+------+--------+-----+-----+----------+\n",
      "|임하나|    Math|  100|100.0|         1|\n",
      "|김갑돌|    Math| 98.5| 98.5|         2|\n",
      "|김하나|    Math|   80| 80.0|         3|\n",
      "|김하나| English|  100|100.0|         1|\n",
      "|김갑돌| English| 82.3| 82.3|         2|\n",
      "|임하나| English|   70| 70.0|         3|\n",
      "+------+--------+-----+-----+----------+\n",
      "\n"
     ]
    }
   ],
   "source": [
    "from pyspark.sql.functions import row_number\n",
    "\n",
    "_marksDf.withColumn(\"row_number\", row_number().over(winF)).show()"
   ]
  },
  {
   "cell_type": "markdown",
   "metadata": {},
   "source": [
    "#### rank\n",
    "\n",
    "rank() 윈도우 함수는 각 그룹별로 등위를 계산한다."
   ]
  },
  {
   "cell_type": "code",
   "execution_count": 72,
   "metadata": {
    "scrolled": true
   },
   "outputs": [
    {
     "name": "stdout",
     "output_type": "stream",
     "text": [
      "+------+--------+-----+-----+----+\n",
      "|  name| subject| mark|markF|rank|\n",
      "+------+--------+-----+-----+----+\n",
      "|임하나|    Math|  100|100.0|   1|\n",
      "|김갑돌|    Math| 98.5| 98.5|   2|\n",
      "|김하나|    Math|   80| 80.0|   3|\n",
      "|김하나| English|  100|100.0|   1|\n",
      "|김갑돌| English| 82.3| 82.3|   2|\n",
      "|임하나| English|   70| 70.0|   3|\n",
      "+------+--------+-----+-----+----+\n",
      "\n"
     ]
    }
   ],
   "source": [
    "from pyspark.sql.functions import rank\n",
    "\n",
    "_marksDf.withColumn(\"rank\", rank().over(winF)).show()"
   ]
  },
  {
   "cell_type": "markdown",
   "metadata": {},
   "source": [
    "### 분석적 함수\n",
    "\n",
    "#### cume_dist()\n",
    "\n",
    "cume_dist() 윈도우 함수는 누적 분포 값을 출력한다."
   ]
  },
  {
   "cell_type": "code",
   "execution_count": 73,
   "metadata": {},
   "outputs": [
    {
     "name": "stdout",
     "output_type": "stream",
     "text": [
      "+------+--------+-----+-----+------------------+\n",
      "|  name| subject| mark|markF|         cume_dist|\n",
      "+------+--------+-----+-----+------------------+\n",
      "|임하나|    Math|  100|100.0|0.3333333333333333|\n",
      "|김갑돌|    Math| 98.5| 98.5|0.6666666666666666|\n",
      "|김하나|    Math|   80| 80.0|               1.0|\n",
      "|김하나| English|  100|100.0|0.3333333333333333|\n",
      "|김갑돌| English| 82.3| 82.3|0.6666666666666666|\n",
      "|임하나| English|   70| 70.0|               1.0|\n",
      "+------+--------+-----+-----+------------------+\n",
      "\n"
     ]
    }
   ],
   "source": [
    "from pyspark.sql.functions import cume_dist\n",
    "\n",
    "_marksDf.withColumn(\"cume_dist\", cume_dist().over(winF)).show()"
   ]
  },
  {
   "cell_type": "code",
   "execution_count": 74,
   "metadata": {},
   "outputs": [
    {
     "name": "stdout",
     "output_type": "stream",
     "text": [
      "+------+--------+-----+-----+-----+\n",
      "|  name| subject| mark|markF|  lag|\n",
      "+------+--------+-----+-----+-----+\n",
      "|임하나|    Math|  100|100.0| null|\n",
      "|김갑돌|    Math| 98.5| 98.5|  100|\n",
      "|김하나|    Math|   80| 80.0| 98.5|\n",
      "|김하나| English|  100|100.0| null|\n",
      "|김갑돌| English| 82.3| 82.3|  100|\n",
      "|임하나| English|   70| 70.0| 82.3|\n",
      "+------+--------+-----+-----+-----+\n",
      "\n"
     ]
    }
   ],
   "source": [
    "from pyspark.sql.functions import lag\n",
    "\n",
    "_marksDf.withColumn(\"lag\", lag('mark', 1).over(winF)).show()"
   ]
  },
  {
   "cell_type": "code",
   "execution_count": 75,
   "metadata": {},
   "outputs": [
    {
     "name": "stdout",
     "output_type": "stream",
     "text": [
      "+------+--------+-----+-----+-----+\n",
      "|  name| subject| mark|markF|  lag|\n",
      "+------+--------+-----+-----+-----+\n",
      "|임하나|    Math|  100|100.0| 98.5|\n",
      "|김갑돌|    Math| 98.5| 98.5|   80|\n",
      "|김하나|    Math|   80| 80.0| null|\n",
      "|김하나| English|  100|100.0| 82.3|\n",
      "|김갑돌| English| 82.3| 82.3|   70|\n",
      "|임하나| English|   70| 70.0| null|\n",
      "+------+--------+-----+-----+-----+\n",
      "\n"
     ]
    }
   ],
   "source": [
    "from pyspark.sql.functions import lead\n",
    "\n",
    "_marksDf.withColumn(\"lag\", lead('mark', 1).over(winF)).show()"
   ]
  },
  {
   "cell_type": "markdown",
   "metadata": {},
   "source": [
    "### Aggregate Functions\n",
    "\n",
    "그룹을 구분할 때, 정렬할 필요가 없다.\n",
    "mark가 string으로 설정되어 있다고 평균, 합계, 최소, 최대 함수가 어떻게 출력될까? 문제 없이 실행되지만, 결과는 올바르지 않다. 데이터타입은 항상 주의해야 한다."
   ]
  },
  {
   "cell_type": "code",
   "execution_count": 76,
   "metadata": {},
   "outputs": [],
   "source": [
    "winAgg  = Window.partitionBy(\"subject\")"
   ]
  },
  {
   "cell_type": "code",
   "execution_count": 77,
   "metadata": {
    "scrolled": false
   },
   "outputs": [
    {
     "name": "stdout",
     "output_type": "stream",
     "text": [
      "+------+--------+-----+-----+-----------------+-----------------+----+-----+\n",
      "|  name| subject| mark|markF|              avg|              sum| min|  max|\n",
      "+------+--------+-----+-----+-----------------+-----------------+----+-----+\n",
      "|김하나|    Math|   80| 80.0|92.83333333333333|            278.5|80.0|100.0|\n",
      "|임하나|    Math|  100|100.0|92.83333333333333|            278.5|80.0|100.0|\n",
      "|김갑돌|    Math| 98.5| 98.5|92.83333333333333|            278.5|80.0|100.0|\n",
      "|김하나| English|  100|100.0|84.10000101725261|252.3000030517578|70.0|100.0|\n",
      "|임하나| English|   70| 70.0|84.10000101725261|252.3000030517578|70.0|100.0|\n",
      "|김갑돌| English| 82.3| 82.3|84.10000101725261|252.3000030517578|70.0|100.0|\n",
      "+------+--------+-----+-----+-----------------+-----------------+----+-----+\n",
      "\n"
     ]
    }
   ],
   "source": [
    "from pyspark.sql import functions as F\n",
    "_marksDf.withColumn(\"avg\", F.avg(F.col(\"markF\")).over(winAgg))\\\n",
    "    .withColumn(\"sum\", F.sum(F.col(\"markF\")).over(winAgg))\\\n",
    "    .withColumn(\"min\", F.min(F.col(\"markF\")).over(winAgg))\\\n",
    "    .withColumn(\"max\", F.max(F.col(\"markF\")).over(winAgg))\\\n",
    "    .show()"
   ]
  },
  {
   "cell_type": "markdown",
   "metadata": {},
   "source": [
    "## 문제: zscore, cdf 계산\n",
    "\n",
    "성적데이터는 n이 적지만, 정규분포를 이룬다고 가정하자.\n",
    "* 1) 성적데이터로 DataFrame을 생성.\n",
    "* 2) zscore 컬럼을 생성.\n",
    "zscore를 계산하려면, 평균과 표준편차를 알아야 한다.\n",
    "계산식에 F함수를 직접 사용하면 오류가 발생한다. 따로 평균과 표준편차를 구해서 계산식에서 사용해야 한다.\n",
    "* 3) cdf 컬럼을 생성.\n",
    "scipy.stats.norm.cdf() 함수는 데이터타입을 float로 맞추어 주어야 한다.\n",
    "cdf는 평균=0, 표준편차=1을 기본 값으로 누적확률을 계산한다."
   ]
  },
  {
   "cell_type": "markdown",
   "metadata": {},
   "source": [
    "### 데이터\n",
    "\n",
    "앞서 사용했던 점수데이터를 사용하자."
   ]
  },
  {
   "cell_type": "code",
   "execution_count": 78,
   "metadata": {},
   "outputs": [],
   "source": [
    "marks=[\n",
    "    \"김하나, English, 100\",\n",
    "    \"김하나, Math, 80\",\n",
    "    \"임하나, English, 70\",\n",
    "    \"임하나, Math, 100\",\n",
    "    \"김갑돌, English, 82.3\",\n",
    "    \"김갑돌, Math, 98.5\"\n",
    "]"
   ]
  },
  {
   "cell_type": "markdown",
   "metadata": {},
   "source": [
    "### DataFrame 생성\n",
    "\n",
    "배열내에 문자열을 가지고 있는 경우, 바로 DataFrame으로 만들면 따옴표로 묶인 문자열이 한 값이 된다.\n",
    "앞서와 같이 RDD를 만들어 주고 map() 함수로 분리한 후 DataFrame을 만들어준다."
   ]
  },
  {
   "cell_type": "code",
   "execution_count": 79,
   "metadata": {},
   "outputs": [],
   "source": [
    "_marksRdd=spark.sparkContext.parallelize(marks).map(lambda x:x.split(','))"
   ]
  },
  {
   "cell_type": "code",
   "execution_count": 80,
   "metadata": {},
   "outputs": [],
   "source": [
    "_marksDf=spark.createDataFrame(_marksRdd, schema=[\"name\", \"subject\", \"mark\"])"
   ]
  },
  {
   "cell_type": "markdown",
   "metadata": {},
   "source": [
    "스키마를 자동유추하면, mark 마저도 string으로 읽어온다. 소수점으로 변환이 필요하다."
   ]
  },
  {
   "cell_type": "code",
   "execution_count": 81,
   "metadata": {},
   "outputs": [
    {
     "name": "stdout",
     "output_type": "stream",
     "text": [
      "root\n",
      " |-- name: string (nullable = true)\n",
      " |-- subject: string (nullable = true)\n",
      " |-- mark: string (nullable = true)\n",
      "\n"
     ]
    }
   ],
   "source": [
    "_marksDf.printSchema()"
   ]
  },
  {
   "cell_type": "markdown",
   "metadata": {},
   "source": [
    "### 데이터 타입 변경\n",
    "\n",
    "점수를 형변환 해보자."
   ]
  },
  {
   "cell_type": "code",
   "execution_count": 82,
   "metadata": {},
   "outputs": [],
   "source": [
    "from pyspark.sql.types import FloatType\n",
    "\n",
    "# _marksDf = _marksDf.withColumn('markF_', F.expr(\"CAST(mark AS FLOAT)\"))  # ok\n",
    "_marksDf = _marksDf.withColumn('markF', _marksDf['mark'].cast(FloatType()))"
   ]
  },
  {
   "cell_type": "markdown",
   "metadata": {},
   "source": [
    "### F.mean, F.stddev를 사용하면 zscore계산 오류\n",
    "\n",
    "stats.zscore() 함수는 **배열을 입력**받아서 zscore를 계산한다.\n",
    "점수는 Column 데이터이라서, 배열로 변환해서 넘겨주려면 번거롭다.\n",
    "\n",
    "zscore를 계산하려면, 평균과 표준편차를 알아야 한다.\n",
    "전체에 대한 평균을 계산하고, 이를 각 mark에 적용하는 계산식을 사용해 보자.\n",
    "이 때 F.mean(), F.stddev() 함수를 사용하면 오류가 발생한다.\n",
    "\n",
    "```python\n",
    "zscoreUdf = F.udf(lambda x: (x-F.mean(x))/F.stddev) # does not work\n",
    "```"
   ]
  },
  {
   "cell_type": "markdown",
   "metadata": {},
   "source": [
    "### mean, stdev를 별도 계산해서 zscore 계산\n",
    "\n",
    "평균과 표준편차를 먼저 구하고 계산식에 넣어주자.\n",
    "컬럼명은 아래와 같이 따옴표로 혹은 ```F.col('markF')```로 넣어주어도 된다.\n"
   ]
  },
  {
   "cell_type": "code",
   "execution_count": 83,
   "metadata": {},
   "outputs": [],
   "source": [
    "from pyspark.sql import functions as F\n",
    "\n",
    "_markStats = _marksDf.select(\n",
    "    F.mean('markF').alias('mean'),\n",
    "    F.stddev('markF').alias('std')\n",
    ").collect()"
   ]
  },
  {
   "cell_type": "code",
   "execution_count": 84,
   "metadata": {},
   "outputs": [
    {
     "data": {
      "text/plain": [
       "[Row(mean=88.46666717529297, std=12.786190172956093)]"
      ]
     },
     "execution_count": 84,
     "metadata": {},
     "output_type": "execute_result"
    }
   ],
   "source": [
    "_markStats"
   ]
  },
  {
   "cell_type": "code",
   "execution_count": 85,
   "metadata": {},
   "outputs": [],
   "source": [
    "meanMark = _markStats[0]['mean']\n",
    "stdMark = _markStats[0]['std']"
   ]
  },
  {
   "cell_type": "code",
   "execution_count": 86,
   "metadata": {},
   "outputs": [
    {
     "data": {
      "text/plain": [
       "88.46666717529297"
      ]
     },
     "execution_count": 86,
     "metadata": {},
     "output_type": "execute_result"
    }
   ],
   "source": [
    "meanMark"
   ]
  },
  {
   "cell_type": "markdown",
   "metadata": {},
   "source": [
    " 또는 2차원 인덱스를 사용하여 평균을 읽어도 된다."
   ]
  },
  {
   "cell_type": "code",
   "execution_count": 87,
   "metadata": {
    "scrolled": true
   },
   "outputs": [
    {
     "data": {
      "text/plain": [
       "88.46666717529297"
      ]
     },
     "execution_count": 87,
     "metadata": {},
     "output_type": "execute_result"
    }
   ],
   "source": [
    "_markStats[0][0]"
   ]
  },
  {
   "cell_type": "code",
   "execution_count": 88,
   "metadata": {},
   "outputs": [
    {
     "data": {
      "text/plain": [
       "12.786190172956093"
      ]
     },
     "execution_count": 88,
     "metadata": {},
     "output_type": "execute_result"
    }
   ],
   "source": [
    "stdMark"
   ]
  },
  {
   "cell_type": "markdown",
   "metadata": {},
   "source": [
    "zscore를 계산하려면, FloatType으로 형변환 해준다."
   ]
  },
  {
   "cell_type": "code",
   "execution_count": 89,
   "metadata": {},
   "outputs": [],
   "source": [
    "#from scipy import stats\n",
    "from pyspark.sql import functions as F\n",
    "from pyspark.sql.types import FloatType\n",
    "\n",
    "zscoreUdf = F.udf(lambda x: (x-meanMark)/stdMark, FloatType()) # return as FloatType "
   ]
  },
  {
   "cell_type": "code",
   "execution_count": 90,
   "metadata": {},
   "outputs": [],
   "source": [
    "_marksDf=_marksDf.withColumn(\"zscore\", zscoreUdf(_marksDf['markF']))"
   ]
  },
  {
   "cell_type": "code",
   "execution_count": 91,
   "metadata": {},
   "outputs": [
    {
     "name": "stdout",
     "output_type": "stream",
     "text": [
      "+------+--------+-----+-----+-----------+\n",
      "|  name| subject| mark|markF|     zscore|\n",
      "+------+--------+-----+-----+-----------+\n",
      "|김하나| English|  100|100.0|  0.9020148|\n",
      "|김하나|    Math|   80| 80.0| -0.6621728|\n",
      "|임하나| English|   70| 70.0| -1.4442666|\n",
      "|임하나|    Math|  100|100.0|  0.9020148|\n",
      "|김갑돌| English| 82.3| 82.3|-0.48229098|\n",
      "|김갑돌|    Math| 98.5| 98.5| 0.78470075|\n",
      "+------+--------+-----+-----+-----------+\n",
      "\n"
     ]
    }
   ],
   "source": [
    "_marksDf.show()"
   ]
  },
  {
   "cell_type": "markdown",
   "metadata": {},
   "source": [
    "### cdf 계산"
   ]
  },
  {
   "cell_type": "markdown",
   "metadata": {},
   "source": [
    "norm.cdf는 numpy.float64를 반환하는데, spark에서 사용하지 않는 데이터타입이다. float()로 형변환을 해주자."
   ]
  },
  {
   "cell_type": "code",
   "execution_count": 92,
   "metadata": {},
   "outputs": [
    {
     "data": {
      "text/plain": [
       "numpy.float64"
      ]
     },
     "execution_count": 92,
     "metadata": {},
     "output_type": "execute_result"
    }
   ],
   "source": [
    "from scipy.stats import norm\n",
    "type(norm.cdf(1))"
   ]
  },
  {
   "cell_type": "code",
   "execution_count": 93,
   "metadata": {},
   "outputs": [],
   "source": [
    "from pyspark.sql import functions as F\n",
    "from pyspark.sql.types import FloatType\n",
    "\n",
    "#bad_norm_cdf = F.udf(lambda x: norm.cdf(x), FloatType()) # FloatType() does not work\n",
    "normCdf = F.udf(lambda x: float(norm.cdf(x))) # FloatType() does not work"
   ]
  },
  {
   "cell_type": "markdown",
   "metadata": {},
   "source": [
    "#### 원점수를 사용하면 1.0\n",
    "\n",
    "cdf는 평균=0, 표준편차=1을 기본 값으로 누적확률을 계산한다.\n",
    "점수가 그런 범위에 있지 않고 훨씬 넘어가므로 1.0이 계산된다."
   ]
  },
  {
   "cell_type": "code",
   "execution_count": 94,
   "metadata": {},
   "outputs": [
    {
     "name": "stdout",
     "output_type": "stream",
     "text": [
      "+------+--------+-----+-----+-----------+---+\n",
      "|  name| subject| mark|markF|     zscore|cdf|\n",
      "+------+--------+-----+-----+-----------+---+\n",
      "|김하나| English|  100|100.0|  0.9020148|1.0|\n",
      "|김하나|    Math|   80| 80.0| -0.6621728|1.0|\n",
      "|임하나| English|   70| 70.0| -1.4442666|1.0|\n",
      "|임하나|    Math|  100|100.0|  0.9020148|1.0|\n",
      "|김갑돌| English| 82.3| 82.3|-0.48229098|1.0|\n",
      "|김갑돌|    Math| 98.5| 98.5| 0.78470075|1.0|\n",
      "+------+--------+-----+-----+-----------+---+\n",
      "\n"
     ]
    }
   ],
   "source": [
    "_marksDf.withColumn(\"cdf\", normCdf(_marksDf['markF'])).show()"
   ]
  },
  {
   "cell_type": "markdown",
   "metadata": {
    "scrolled": true
   },
   "source": [
    "#### zscore를 사용하여 cdf 계산\n",
    "\n",
    "zscore를 사용하여 cdf()를 계산하자."
   ]
  },
  {
   "cell_type": "code",
   "execution_count": 95,
   "metadata": {},
   "outputs": [],
   "source": [
    "_marksDf=_marksDf.withColumn(\"cdf\", normCdf(_marksDf['zscore']))"
   ]
  },
  {
   "cell_type": "code",
   "execution_count": 96,
   "metadata": {},
   "outputs": [
    {
     "name": "stdout",
     "output_type": "stream",
     "text": [
      "+------+--------+-----+-----+-----------+-------------------+\n",
      "|  name| subject| mark|markF|     zscore|                cdf|\n",
      "+------+--------+-----+-----+-----------+-------------------+\n",
      "|김하나| English|  100|100.0|  0.9020148| 0.8164754981807292|\n",
      "|김하나|    Math|   80| 80.0| -0.6621728| 0.2539302463290559|\n",
      "|임하나| English|   70| 70.0| -1.4442666| 0.0743320011235712|\n",
      "|임하나|    Math|  100|100.0|  0.9020148| 0.8164754981807292|\n",
      "|김갑돌| English| 82.3| 82.3|-0.48229098|0.31479962882028223|\n",
      "|김갑돌|    Math| 98.5| 98.5| 0.78470075| 0.7836854740814176|\n",
      "+------+--------+-----+-----+-----------+-------------------+\n",
      "\n"
     ]
    }
   ],
   "source": [
    "_marksDf.show()"
   ]
  },
  {
   "cell_type": "markdown",
   "metadata": {},
   "source": [
    "### Window 함수를 사용하여 zscore 계산\n",
    "\n",
    "전체에 대한 평균점수를 컬럼으로 만드려면 Window 기능을 사용해야 한다."
   ]
  },
  {
   "cell_type": "markdown",
   "metadata": {},
   "source": [
    "#### 전체 Window\n",
    "\n",
    "점수평균이라고 하면, Spark는 어떤 평균인지 모른다.\n",
    "사람별 점수평균인지, 과목별평균인지 알려주어야 한다.\n",
    "정작 우리가 필요한 것은 전체점수의 평균이다.\n",
    "```rowsBetween(-sys.maxsize, sys.maxsize)```는 최대, 최소 값으로 윈도우를 정한다."
   ]
  },
  {
   "cell_type": "code",
   "execution_count": 97,
   "metadata": {},
   "outputs": [],
   "source": [
    "import sys\n",
    "\n",
    "byAll = Window.rowsBetween(-sys.maxsize, sys.maxsize)"
   ]
  },
  {
   "cell_type": "markdown",
   "metadata": {},
   "source": [
    "#### 전체의 평균, 표준편차 컬럼을 만들고 계산\n",
    "\n",
    "전체 Window에 대해 평균, 표준편차와 과목별 평균을 계산해보자.\n",
    "이 때 평균, 표준편차를 컬럼으로 만든 후에 zscore를 계산해보자."
   ]
  },
  {
   "cell_type": "code",
   "execution_count": 98,
   "metadata": {},
   "outputs": [],
   "source": [
    "from pyspark.sql import functions as F\n",
    "_marksDf = _marksDf.withColumn(\"mean\", F.avg(_marksDf['markF']).over(byAll))"
   ]
  },
  {
   "cell_type": "code",
   "execution_count": 99,
   "metadata": {},
   "outputs": [],
   "source": [
    "_marksDf = _marksDf.withColumn(\"stddev\", F.stddev(_marksDf['markF']).over(byAll))"
   ]
  },
  {
   "cell_type": "markdown",
   "metadata": {},
   "source": [
    "과목별 평균은 직접 zscore 계산에 필요하지 않지만 덤으로 추가한다."
   ]
  },
  {
   "cell_type": "code",
   "execution_count": 100,
   "metadata": {},
   "outputs": [],
   "source": [
    "from pyspark.sql.window import Window\n",
    "\n",
    "bySubject = Window.partitionBy('subject')\n",
    "_marksDf = _marksDf.withColumn(\"meanBySubject\", F.avg(_marksDf['markF']).over(bySubject))"
   ]
  },
  {
   "cell_type": "code",
   "execution_count": 101,
   "metadata": {},
   "outputs": [
    {
     "name": "stdout",
     "output_type": "stream",
     "text": [
      "+------+--------+-----+-----+-----------+-------------------+-----------------+------------------+-----------------+\n",
      "|name  |subject |mark |markF|zscore     |cdf                |mean             |stddev            |meanBySubject    |\n",
      "+------+--------+-----+-----+-----------+-------------------+-----------------+------------------+-----------------+\n",
      "|김하나| English| 100 |100.0|0.9020148  |0.8164754981807292 |88.46666717529297|12.786190172956093|84.10000101725261|\n",
      "|임하나| English| 70  |70.0 |-1.4442666 |0.0743320011235712 |88.46666717529297|12.786190172956093|84.10000101725261|\n",
      "|김갑돌| English| 82.3|82.3 |-0.48229098|0.31479962882028223|88.46666717529297|12.786190172956093|84.10000101725261|\n",
      "|김하나| Math   | 80  |80.0 |-0.6621728 |0.2539302463290559 |88.46666717529297|12.786190172956093|92.83333333333333|\n",
      "|임하나| Math   | 100 |100.0|0.9020148  |0.8164754981807292 |88.46666717529297|12.786190172956093|92.83333333333333|\n",
      "|김갑돌| Math   | 98.5|98.5 |0.78470075 |0.7836854740814176 |88.46666717529297|12.786190172956093|92.83333333333333|\n",
      "+------+--------+-----+-----+-----------+-------------------+-----------------+------------------+-----------------+\n",
      "\n"
     ]
    }
   ],
   "source": [
    "_marksDf.show(_marksDf.count(), truncate=False)"
   ]
  },
  {
   "cell_type": "code",
   "execution_count": 102,
   "metadata": {},
   "outputs": [],
   "source": [
    "_marksDf = _marksDf.withColumn(\"zscore1\", (F.col('markF')-F.col('mean'))/F.col('stddev'))"
   ]
  },
  {
   "cell_type": "code",
   "execution_count": 103,
   "metadata": {},
   "outputs": [
    {
     "name": "stdout",
     "output_type": "stream",
     "text": [
      "+-----------+-------------------+\n",
      "|     zscore|            zscore1|\n",
      "+-----------+-------------------+\n",
      "|  0.9020148|  0.902014804151829|\n",
      "| -0.6621728| -0.662172786480269|\n",
      "| -1.4442666| -1.444266581796318|\n",
      "|  0.9020148|  0.902014804151829|\n",
      "|-0.48229098|-0.4822909748814927|\n",
      "| 0.78470075| 0.7847007348544217|\n",
      "+-----------+-------------------+\n",
      "\n"
     ]
    }
   ],
   "source": [
    "_marksDf.select('zscore', 'zscore1').show(_marksDf.count())"
   ]
  },
  {
   "cell_type": "markdown",
   "metadata": {
    "collapsed": true
   },
   "source": [
    "#### 전체의 평균, 표준편차 컬럼을 만들지 않고 계산\n",
    "\n",
    "또는 직접 Window 함수를 직접 사용하여 zscore를 계산할 수도 있다."
   ]
  },
  {
   "cell_type": "code",
   "execution_count": 104,
   "metadata": {},
   "outputs": [],
   "source": [
    "_marksDf = _marksDf.withColumn(\"zscore2\", (F.col('markF')-F.avg('markF').over(byAll))/F.stddev('markF').over(byAll))"
   ]
  },
  {
   "cell_type": "code",
   "execution_count": 105,
   "metadata": {},
   "outputs": [
    {
     "name": "stdout",
     "output_type": "stream",
     "text": [
      "+-----------+-------------------+-------------------+\n",
      "|     zscore|            zscore1|            zscore2|\n",
      "+-----------+-------------------+-------------------+\n",
      "|  0.9020148|  0.902014804151829|  0.902014804151829|\n",
      "| -0.6621728| -0.662172786480269| -0.662172786480269|\n",
      "| -1.4442666| -1.444266581796318| -1.444266581796318|\n",
      "|  0.9020148|  0.902014804151829|  0.902014804151829|\n",
      "|-0.48229098|-0.4822909748814927|-0.4822909748814927|\n",
      "| 0.78470075| 0.7847007348544217| 0.7847007348544217|\n",
      "+-----------+-------------------+-------------------+\n",
      "\n"
     ]
    }
   ],
   "source": [
    "_marksDf.select('zscore', 'zscore1', 'zscore2').show()"
   ]
  },
  {
   "cell_type": "code",
   "execution_count": null,
   "metadata": {},
   "outputs": [],
   "source": []
  },
  {
   "cell_type": "markdown",
   "metadata": {},
   "source": [
    "## S.10 추론\n",
    "\n",
    "지금까지 평균, 표준편차, zscore, cdf와 같은 통계량을 계산하고, 그 의미를 설명하였다.\n",
    "통계추론은 이러한 통계량을 통해 1) 모집단의 특성을 추측하거나, 2) 가설을 검증하는 것을 말한다.\n",
    "\n",
    "### S.10.1 Kolmogorov-Smirnov 검증\n",
    "\n",
    "KS는 데이터가 두 샘플이 동일한 분포를 가진 모집단에서 추출되었는지 검증하는 **비모수 추정**이다.\n",
    "비모수 추정이란 모수로 어떤 확률분포, 보통은 **정규분포를 따른다는 전제로 통계적 추정을 하지 않는다**는 의미이다. 그런 의미에서 비모수 추정 혹은 분포무관 추정이라고 한다.\n",
    "\n",
    "x1, x2, ..., xn 데이터가 있다고 하고, 이 데이터가 어떤 분포에서 추출되었는지 추정한다.\n",
    "* 귀무 가설: 샘플이 특정분포에서 추출되었다. (샘플 간 차이가 없다)\n",
    "* 대안 가설: 샘플이 특정분포에서 추출되지 않았다."
   ]
  },
  {
   "cell_type": "code",
   "execution_count": 106,
   "metadata": {},
   "outputs": [],
   "source": [
    "import os\n",
    "os.environ[\"PYSPARK_PYTHON\"]=\"/usr/bin/python3\"\n",
    "os.environ[\"PYSPARK_DRIVER_PYTHON\"]=\"/usr/bin/python3\""
   ]
  },
  {
   "cell_type": "code",
   "execution_count": 107,
   "metadata": {},
   "outputs": [],
   "source": [
    "import pyspark\n",
    "\n",
    "myConf=pyspark.SparkConf()\n",
    "spark = pyspark.sql.SparkSession.builder\\\n",
    "    .master(\"local\")\\\n",
    "    .appName(\"myApp\")\\\n",
    "    .config(conf=myConf)\\\n",
    "    .getOrCreate()"
   ]
  },
  {
   "cell_type": "markdown",
   "metadata": {},
   "source": [
    "먼저 표본 데이터에서 RDD를 생성하자."
   ]
  },
  {
   "cell_type": "code",
   "execution_count": 108,
   "metadata": {},
   "outputs": [],
   "source": [
    "xRdd = spark.sparkContext.parallelize([1.0, 2.0, 5.0, 4.0, 3.0, 3.3, 5.5])"
   ]
  },
  {
   "cell_type": "markdown",
   "metadata": {},
   "source": [
    "kolmogorovSmirnovTest는 mllib 모듈을 사용한다.\n",
    "검증하려는 분포의 문자열를 입력한다. 현재는 정규분포 \"norm\"만을 지원한다."
   ]
  },
  {
   "cell_type": "code",
   "execution_count": 109,
   "metadata": {},
   "outputs": [],
   "source": [
    "from pyspark.mllib.stat import Statistics\n",
    "\n",
    "testResult = Statistics.kolmogorovSmirnovTest(xRdd, \"norm\")"
   ]
  },
  {
   "cell_type": "markdown",
   "metadata": {},
   "source": [
    "귀무가설은 특정분포를 따른다고 설정되어 있고, p-value가 적으면 이를 기각하게 된다.\n",
    "따라서 p < 0.05라면, 정규분포를 따른다는 귀무가설을 기각하게 된다. 아래 메시지 \n",
    "\"Very strong presumption against null hypothesis\"가 출력되고 있다.\n",
    "즉 표본은 정규분포를 따르지 않는다.\n"
   ]
  },
  {
   "cell_type": "code",
   "execution_count": 110,
   "metadata": {},
   "outputs": [
    {
     "name": "stdout",
     "output_type": "stream",
     "text": [
      "Kolmogorov-Smirnov test summary:\n",
      "degrees of freedom = 0 \n",
      "statistic = 0.841344746068543 \n",
      "pValue = 5.06089025353873E-6 \n",
      "Very strong presumption against null hypothesis: Sample follows theoretical distribution.\n"
     ]
    }
   ],
   "source": [
    "print(testResult)"
   ]
  },
  {
   "cell_type": "markdown",
   "metadata": {},
   "source": [
    "### scipy Kolmogorov-Smirnov\n",
    "\n",
    "pValue가 높으면, 집단간 차이가 없다는 귀무가설을 기각할 수 없다. 즉, 두 집단의 평균에 차이가 있다."
   ]
  },
  {
   "cell_type": "code",
   "execution_count": 111,
   "metadata": {},
   "outputs": [
    {
     "data": {
      "text/plain": [
       "KstestResult(statistic=0.8413447460685429, pvalue=5.060890253444183e-06)"
      ]
     },
     "execution_count": 111,
     "metadata": {},
     "output_type": "execute_result"
    }
   ],
   "source": [
    "from scipy.stats import kstest\n",
    "\n",
    "kstest([1.0, 2.0, 5.0, 4.0, 3.0, 3.3, 5.5], 'norm')"
   ]
  },
  {
   "cell_type": "markdown",
   "metadata": {},
   "source": [
    "p<0.005이므로 귀무가설을 기각, 즉 두 집단간에 차이가 있다."
   ]
  },
  {
   "cell_type": "code",
   "execution_count": 112,
   "metadata": {},
   "outputs": [
    {
     "ename": "TypeError",
     "evalue": "'list' object is not callable",
     "output_type": "error",
     "traceback": [
      "\u001b[1;31m---------------------------------------------------------------------------\u001b[0m",
      "\u001b[1;31mTypeError\u001b[0m                                 Traceback (most recent call last)",
      "\u001b[1;32m<ipython-input-112-9e66a11853f3>\u001b[0m in \u001b[0;36m<module>\u001b[1;34m\u001b[0m\n\u001b[1;32m----> 1\u001b[1;33m \u001b[0mkstest\u001b[0m\u001b[1;33m(\u001b[0m\u001b[1;33m[\u001b[0m\u001b[1;36m1.0\u001b[0m\u001b[1;33m,\u001b[0m \u001b[1;36m2.0\u001b[0m\u001b[1;33m,\u001b[0m \u001b[1;36m5.0\u001b[0m\u001b[1;33m,\u001b[0m \u001b[1;36m4.0\u001b[0m\u001b[1;33m,\u001b[0m \u001b[1;36m3.0\u001b[0m\u001b[1;33m,\u001b[0m \u001b[1;36m3.3\u001b[0m\u001b[1;33m,\u001b[0m \u001b[1;36m5.5\u001b[0m\u001b[1;33m]\u001b[0m\u001b[1;33m,\u001b[0m \u001b[1;33m[\u001b[0m\u001b[1;36m11.0\u001b[0m\u001b[1;33m,\u001b[0m \u001b[1;36m12.0\u001b[0m\u001b[1;33m,\u001b[0m \u001b[1;36m15.0\u001b[0m\u001b[1;33m,\u001b[0m \u001b[1;36m14.0\u001b[0m\u001b[1;33m,\u001b[0m \u001b[1;36m13.0\u001b[0m\u001b[1;33m,\u001b[0m \u001b[1;36m13.3\u001b[0m\u001b[1;33m,\u001b[0m \u001b[1;36m15.5\u001b[0m\u001b[1;33m]\u001b[0m\u001b[1;33m)\u001b[0m\u001b[1;33m\u001b[0m\u001b[1;33m\u001b[0m\u001b[0m\n\u001b[0m",
      "\u001b[1;32m~\\Anaconda2\\envs\\py35\\lib\\site-packages\\scipy\\stats\\stats.py\u001b[0m in \u001b[0;36mkstest\u001b[1;34m(rvs, cdf, args, N, alternative, mode)\u001b[0m\n\u001b[0;32m   4400\u001b[0m         \u001b[0mvals\u001b[0m \u001b[1;33m=\u001b[0m \u001b[0mnp\u001b[0m\u001b[1;33m.\u001b[0m\u001b[0msort\u001b[0m\u001b[1;33m(\u001b[0m\u001b[0mrvs\u001b[0m\u001b[1;33m)\u001b[0m\u001b[1;33m\u001b[0m\u001b[1;33m\u001b[0m\u001b[0m\n\u001b[0;32m   4401\u001b[0m         \u001b[0mN\u001b[0m \u001b[1;33m=\u001b[0m \u001b[0mlen\u001b[0m\u001b[1;33m(\u001b[0m\u001b[0mvals\u001b[0m\u001b[1;33m)\u001b[0m\u001b[1;33m\u001b[0m\u001b[1;33m\u001b[0m\u001b[0m\n\u001b[1;32m-> 4402\u001b[1;33m     \u001b[0mcdfvals\u001b[0m \u001b[1;33m=\u001b[0m \u001b[0mcdf\u001b[0m\u001b[1;33m(\u001b[0m\u001b[0mvals\u001b[0m\u001b[1;33m,\u001b[0m \u001b[1;33m*\u001b[0m\u001b[0margs\u001b[0m\u001b[1;33m)\u001b[0m\u001b[1;33m\u001b[0m\u001b[1;33m\u001b[0m\u001b[0m\n\u001b[0m\u001b[0;32m   4403\u001b[0m \u001b[1;33m\u001b[0m\u001b[0m\n\u001b[0;32m   4404\u001b[0m     \u001b[1;31m# to not break compatibility with existing code\u001b[0m\u001b[1;33m\u001b[0m\u001b[1;33m\u001b[0m\u001b[1;33m\u001b[0m\u001b[0m\n",
      "\u001b[1;31mTypeError\u001b[0m: 'list' object is not callable"
     ]
    }
   ],
   "source": [
    "kstest([1.0, 2.0, 5.0, 4.0, 3.0, 3.3, 5.5], [11.0, 12.0, 15.0, 14.0, 13.0, 13.3, 15.5])"
   ]
  },
  {
   "cell_type": "code",
   "execution_count": null,
   "metadata": {},
   "outputs": [],
   "source": [
    "kstest([1.0, 2.0, 5.0, 4.0, 3.0, 3.3, 5.5], [1.1, 2.1, 5.1, 4.1, 3.1, 3.4, 5.6])"
   ]
  },
  {
   "cell_type": "markdown",
   "metadata": {},
   "source": [
    "### S.10.2 ANOVA\n",
    "\n",
    "ANOVA one-way analysis of variance는 2개 이상의 독립된 그룹 간의 평균에 통계적으로 유의미한 차이가 있는지 판단하는 기법이다.\n",
    "ANOVA는 SPSS, SAS, R 등에서는 지원되고 있지만, Spark에는 ANOVA 모듈이 없다. Python에서는 statsmodel을 사용하면 된다."
   ]
  },
  {
   "cell_type": "markdown",
   "metadata": {},
   "source": [
    "#### 데이터\n",
    "\n",
    "statsmodels에서 Moore 데이터를 가져오자.\n",
    "Moore는 파트너의 신분이 높거나, 낮은 경우 그 결정에 얼마나 따르는지 보는 사회심리실험 데이터이다.\n",
    "* partner.status 파트너의 신분 high, low\n",
    "* conformity conforming하는 회수 (전체 40회)\n",
    "* fcategory: F-Scale 구분 high, low, medium.\n",
    "* fscore: Authoritarianism 권위주의 점수"
   ]
  },
  {
   "cell_type": "code",
   "execution_count": null,
   "metadata": {},
   "outputs": [],
   "source": [
    "import statsmodels.api as sm\n",
    "\n",
    "moore=sm.datasets.get_rdataset(\"Moore\",\"carData\")"
   ]
  },
  {
   "cell_type": "code",
   "execution_count": null,
   "metadata": {
    "scrolled": false
   },
   "outputs": [],
   "source": [
    "moore.data.head()"
   ]
  },
  {
   "cell_type": "markdown",
   "metadata": {},
   "source": [
    "컬럼명에 점이 포함되어서 문제가 될 수 있으므로, 제거해서 재명명해준다."
   ]
  },
  {
   "cell_type": "code",
   "execution_count": null,
   "metadata": {},
   "outputs": [],
   "source": [
    "moore.data.columns=['status','conformity', 'fcategory', 'fscore']\n",
    "moore.data.columns"
   ]
  },
  {
   "cell_type": "markdown",
   "metadata": {},
   "source": [
    "#### R 스타일 모델링\n",
    "\n",
    "**R 스타일**에 따라 종속변수 fscore, 독립변수 status, fcategory로 모델링한다.\n",
    "이때 **명목변수는 C() 연산자**를 사용한다."
   ]
  },
  {
   "cell_type": "code",
   "execution_count": null,
   "metadata": {},
   "outputs": [],
   "source": [
    "from statsmodels.formula.api import ols\n",
    "\n",
    "formula='fscore~C(status)*C(fcategory)'\n",
    "model=ols(formula, data=moore.data).fit()"
   ]
  },
  {
   "cell_type": "markdown",
   "metadata": {},
   "source": [
    "#### ANOVA 적용\n",
    "\n",
    "선형모델 ANOVA를 적용해 보자.\n",
    "아래에서 fcategory의 PR이 0.05보다 적다. 즉 **fcategory high, low, medium의 그룹 간 유의미하게 평균의 차이**가 있다는 의미이다.\n",
    "\n",
    "아래 표에서 과학적 표기를 이해해 보자. E+01은 소수점을 오른쪽으로 1칸 이동, E+00는 현재 그대로, E–01은 왼쪽으로 1칸 이동해서 읽으면 된다.\n",
    "6.330623e-01은 0.6330623을 의미한다."
   ]
  },
  {
   "cell_type": "code",
   "execution_count": null,
   "metadata": {
    "scrolled": true
   },
   "outputs": [],
   "source": [
    "from statsmodels.stats.anova import anova_lm\n",
    "\n",
    "result = anova_lm(model)"
   ]
  },
  {
   "cell_type": "code",
   "execution_count": null,
   "metadata": {},
   "outputs": [],
   "source": [
    "result"
   ]
  },
  {
   "cell_type": "markdown",
   "metadata": {},
   "source": [
    "#### 평균\n",
    "\n",
    "statsmodels에서 읽은 데이터는 moore.data하면 pandas의 DataFrame이다. 따라서 groupby() 명령어로 평균을 쉽게 구할 수 있다."
   ]
  },
  {
   "cell_type": "code",
   "execution_count": null,
   "metadata": {},
   "outputs": [],
   "source": [
    "moorePd = moore.data"
   ]
  },
  {
   "cell_type": "markdown",
   "metadata": {},
   "source": [
    "fcategory를 그룹별로 모든 변수의 평균을 계산해 보자."
   ]
  },
  {
   "cell_type": "code",
   "execution_count": null,
   "metadata": {},
   "outputs": [],
   "source": [
    "moorePd.groupby('fcategory').mean()"
   ]
  },
  {
   "cell_type": "markdown",
   "metadata": {},
   "source": [
    "fcategory를 그룹별로 fscore 변수의 평균만을 선택하여 계산해 보자."
   ]
  },
  {
   "cell_type": "code",
   "execution_count": null,
   "metadata": {},
   "outputs": [],
   "source": [
    "moorePd.groupby('fcategory')['fscore'].mean()"
   ]
  },
  {
   "cell_type": "markdown",
   "metadata": {},
   "source": [
    "#### 그래프"
   ]
  },
  {
   "cell_type": "code",
   "execution_count": null,
   "metadata": {},
   "outputs": [],
   "source": [
    "moorePd.boxplot()"
   ]
  },
  {
   "cell_type": "markdown",
   "metadata": {},
   "source": [
    "#### fcategory별 fscore 그래프\n",
    "\n",
    "먼저 fcategory별 fscore를 계산해서 그래프를 그려야 한다."
   ]
  },
  {
   "cell_type": "code",
   "execution_count": null,
   "metadata": {},
   "outputs": [],
   "source": [
    "_fscore = moorePd.groupby('fcategory')['fscore'].mean()"
   ]
  },
  {
   "cell_type": "code",
   "execution_count": null,
   "metadata": {},
   "outputs": [],
   "source": [
    "_fscore.plot(x=\"fcategory\", y=_fscore,  title=\"fscore by fcategory\")"
   ]
  },
  {
   "cell_type": "markdown",
   "metadata": {
    "collapsed": true,
    "slideshow": {
     "slide_type": "slide"
    }
   },
   "source": [
    "## S.11 빈도 분석\n",
    "\n",
    "**명목변수 Categorical or nominal varaible**는 이름이 붙여진 변수로서 문자로 표현되는 변수를 말한다.\n",
    "명목변수별로 빈도를 계산하고 차이가 있는지 보게 된다."
   ]
  },
  {
   "cell_type": "code",
   "execution_count": null,
   "metadata": {},
   "outputs": [],
   "source": [
    "names = [\"kim\",\"lee\",\"park\",\"lim\"]\n",
    "items = [\"espresso\",\"latte\",\"americano\",\"affocato\",\"long black\",\"macciato\"]"
   ]
  },
  {
   "cell_type": "markdown",
   "metadata": {},
   "source": [
    "names에서 하나씩, items에서도 하나씩 추출하자."
   ]
  },
  {
   "cell_type": "code",
   "execution_count": null,
   "metadata": {},
   "outputs": [],
   "source": [
    "coffeeDf = spark.createDataFrame([(names[i%4], items[i%6]) for i in range(500)],\\\n",
    "                           [\"name\",\"coffee\"])"
   ]
  },
  {
   "cell_type": "markdown",
   "metadata": {},
   "source": [
    "명목변수에 대해서는 평균, 표준편차와 같은 통계량을 계산하는 것은 의미가 없다."
   ]
  },
  {
   "cell_type": "code",
   "execution_count": null,
   "metadata": {},
   "outputs": [],
   "source": [
    "coffeeDf.describe().show()"
   ]
  },
  {
   "cell_type": "markdown",
   "metadata": {},
   "source": [
    "또는 문자열에 대해서 통계량을 구해보자.\n",
    "개수, 키개수 unique, 첫째 값 top, 최빈키의 빈도 freq를 출력하고 있다."
   ]
  },
  {
   "cell_type": "code",
   "execution_count": null,
   "metadata": {},
   "outputs": [],
   "source": [
    "coffeeDf.toPandas().describe()"
   ]
  },
  {
   "cell_type": "markdown",
   "metadata": {
    "slideshow": {
     "slide_type": "subslide"
    }
   },
   "source": [
    "### S.11.1 crosstab\n",
    "\n",
    "앞서 생성했던 데이터를 사용해서, 교차표를 만들어 보자."
   ]
  },
  {
   "cell_type": "markdown",
   "metadata": {},
   "source": [
    "pivot으로 건수를 계산하면 아래와 같다."
   ]
  },
  {
   "cell_type": "code",
   "execution_count": null,
   "metadata": {},
   "outputs": [],
   "source": [
    "coffeeDf.groupBy('name').pivot('coffee').count().show()"
   ]
  },
  {
   "cell_type": "markdown",
   "metadata": {},
   "source": [
    "crosstab 교차표를 만들면 pivot과 유사한 결과를 얻을 수 있다."
   ]
  },
  {
   "cell_type": "code",
   "execution_count": null,
   "metadata": {
    "scrolled": true
   },
   "outputs": [],
   "source": [
    "coffeeDf.stat.crosstab(\"name\", \"coffee\").show()"
   ]
  },
  {
   "cell_type": "markdown",
   "metadata": {},
   "source": [
    "### S.11.2 freqItems()\n",
    "\n",
    "데이터에 대해 50%이상 발생한 행을 출력해 보자.\n",
    "임계치 이하의 최빈값을 구할 수 있다."
   ]
  },
  {
   "cell_type": "code",
   "execution_count": null,
   "metadata": {},
   "outputs": [],
   "source": [
    "freq = coffeeDf.stat.freqItems([\"name\",\"coffee\"], 0.5)\n",
    "freq.show()"
   ]
  },
  {
   "cell_type": "markdown",
   "metadata": {},
   "source": [
    "### S.11.3 Chi Square\n",
    "\n",
    "Chi-Square 테스트는 label와 features 서로 상관관계가 있는지 검증하는 비모수 추정방법이다.\n",
    "feature의 발생이 label과 어떤 관련이 있는지 추정하는 것이다.\n",
    "단 label, features 모두 명목변수이어야 한다.\n",
    "* 귀무 가설은 label과 features 간에 서로 독립적이다."
   ]
  },
  {
   "cell_type": "markdown",
   "metadata": {},
   "source": [
    "#### 데이터\n",
    "\n",
    "앞서 coffeeDf를 사용하자."
   ]
  },
  {
   "cell_type": "code",
   "execution_count": null,
   "metadata": {},
   "outputs": [],
   "source": [
    "coffeeDf.printSchema()"
   ]
  },
  {
   "cell_type": "markdown",
   "metadata": {},
   "source": [
    "#### label을 수로 변환\n",
    "\n",
    "label, features 모두 명목변수이지만, 문자가 아니라 수와 벡터로 각 각 변환되어야 한다."
   ]
  },
  {
   "cell_type": "code",
   "execution_count": null,
   "metadata": {},
   "outputs": [],
   "source": [
    "from pyspark.ml.feature import StringIndexer\n",
    "\n",
    "labelIndexer = StringIndexer(inputCol=\"name\", outputCol=\"label\")\n",
    "model=labelIndexer.fit(coffeeDf)\n",
    "_coffeeDf=model.transform(coffeeDf)"
   ]
  },
  {
   "cell_type": "code",
   "execution_count": null,
   "metadata": {},
   "outputs": [],
   "source": [
    "_coffeeDf.printSchema()"
   ]
  },
  {
   "cell_type": "code",
   "execution_count": null,
   "metadata": {},
   "outputs": [],
   "source": [
    "_coffeeDf.show(4)"
   ]
  },
  {
   "cell_type": "markdown",
   "metadata": {},
   "source": [
    "#### features를 벡터로 변환\n",
    "\n",
    "우선 명목 문자열을 수로 변환한다."
   ]
  },
  {
   "cell_type": "code",
   "execution_count": null,
   "metadata": {},
   "outputs": [],
   "source": [
    "featureIndexer = StringIndexer(inputCol=\"coffee\", outputCol=\"_features\")\n",
    "model=featureIndexer.fit(_coffeeDf)\n",
    "_coffeeDf=model.transform(_coffeeDf)"
   ]
  },
  {
   "cell_type": "markdown",
   "metadata": {},
   "source": [
    "다음은 수를 벡터로 변환한다.\n",
    "inputCols에는 리스트를 적어준다.\n",
    "즉 \"_features\" (x) -> [ \"_features\" ] (o)이라고 한다."
   ]
  },
  {
   "cell_type": "code",
   "execution_count": null,
   "metadata": {},
   "outputs": [],
   "source": [
    "#from pyspark.ml.linalg import Vectors\n",
    "from pyspark.ml.feature import VectorAssembler\n",
    "\n",
    "va = VectorAssembler(inputCols=[\"_features\"], outputCol=\"features\")\n",
    "_coffeeDf = va.transform(_coffeeDf)"
   ]
  },
  {
   "cell_type": "code",
   "execution_count": null,
   "metadata": {},
   "outputs": [],
   "source": [
    "_coffeeDf.printSchema()\n",
    "_coffeeDf.show(5)"
   ]
  },
  {
   "cell_type": "markdown",
   "metadata": {},
   "source": [
    "#### ChiSquareTest\n",
    "\n",
    "ChiSquareTest에는 다음 인자를 적어준다.\n",
    "* 데이터: 명목 label, 명목 features로 구성된 DataFrame.\n",
    "* featuresCol: features 컬럼명을 적어준다. Vector 타입이어야 한다.\n",
    "* labelCol: label 컬럼명을 적어준다. 숫자인 타입이면 된다."
   ]
  },
  {
   "cell_type": "code",
   "execution_count": null,
   "metadata": {},
   "outputs": [],
   "source": [
    "from pyspark.ml.stat import ChiSquareTest\n",
    "r = ChiSquareTest.test(_coffeeDf, \"features\", \"label\")"
   ]
  },
  {
   "cell_type": "code",
   "execution_count": null,
   "metadata": {
    "scrolled": true
   },
   "outputs": [],
   "source": [
    "r.show()"
   ]
  },
  {
   "cell_type": "markdown",
   "metadata": {},
   "source": [
    "위 컬럼을 하나씩 출력해보자.\n",
    "pValues=0.0이므로 귀무가설을 기각한다. 서로 유의적인 상관관계가 있다."
   ]
  },
  {
   "cell_type": "code",
   "execution_count": null,
   "metadata": {},
   "outputs": [],
   "source": [
    "from pyspark.ml.stat import ChiSquareTest\n",
    "r = r.head()"
   ]
  },
  {
   "cell_type": "code",
   "execution_count": null,
   "metadata": {},
   "outputs": [],
   "source": [
    "print(\"pValues: \" + str(r.pValues))\n",
    "print(\"degreesOfFreedom: \" + str(r.degreesOfFreedom))\n",
    "print(\"statistics: \" + str(r.statistics))"
   ]
  },
  {
   "cell_type": "markdown",
   "metadata": {
    "slideshow": {
     "slide_type": "slide"
    }
   },
   "source": [
    "## S.12 상관관계\n",
    "\n",
    "상관관계는 변수 간에 서로 어떤 관계가 있는지, 그 변화의 **방향**, **강도**를 나타낸다.\n",
    "연속 변수들이 서로 커지거나 작아지거나 하는 의미를 관계를 표현한다.\n",
    "**명목변수**와의 상관관계를 계산하는 것은 의미가 있지 않고, 앞서 배웠던 빈도분석을 하는 것이 좋겠다.\n",
    "\n",
    "단, 서로 상관관계가 있다고 해서 인과관계가 있다는 의미는 아니다.\n",
    "키와 몸무게가 서로 상관관계가 있다고 하자.\n",
    "키가 원인이 되어서 몸무게가 결과로 올라간다고 가정해서는 안된다는 것이다.\n",
    "담배와 암의 상관관계의 상관관계 높다. 그리고 담배가 암을 유발하는 관계이지만, \n",
    "이러한 방향을 말해주는 것은 아니다.\n",
    "\n",
    "**맥주**와 **선풍기**의 매출은 서로 상관관계가 있다.\n",
    "그렇다고 해서 선풍기의 매출이 원인이 되어 맥주의 매출을 올린 것은 아니다.\n",
    "더워져서 선풍기와 맥주의 매출이 올라간 것으로 이해해야 한다.\n",
    "또 **교통상황**과 **약속지체**는 상관관계가 있다.\n",
    "교통이 막히면 약속이 늦어지는 것은 맞다.\n",
    "그렇다고 해서 약속이 늦어진다고 교통이 막히는 것은 아니다.\n"
   ]
  },
  {
   "cell_type": "markdown",
   "metadata": {
    "slideshow": {
     "slide_type": "subslide"
    }
   },
   "source": [
    "### S.12.1 상관관계 방향과 강도\n",
    "\n",
    "* $+$ 변수가 서로 같은 방향으로 변동, 숫자가 클수록 강도가 크며 반대로 적을수록 적다.\n",
    "* 0 변수가 서로 영향을 주지 않음\n",
    "* $-$ 변수가 서로 다른 방향으로 변동"
   ]
  },
  {
   "cell_type": "markdown",
   "metadata": {},
   "source": [
    "상관관계는 공분산 covariance를 표준편차의 곱으로 나눈 값으로 계산한다.\n",
    "\n",
    "$$\n",
    "r_{(x,y)} = \\frac {cov(x,y)} {s_x s_y}\n",
    "$$\n",
    "\n",
    "$$\n",
    "cov(x,y)=\\frac{ \\sum\\limits_{i=1}^n (x_i - \\bar{x}) (y_i - \\bar{y} ) }\n",
    "                       {n-1}\n",
    "$$"
   ]
  },
  {
   "cell_type": "markdown",
   "metadata": {
    "slideshow": {
     "slide_type": "-"
    }
   },
   "source": [
    "바로 계산하면 n-1이 표준편차 계산하면서 상쇄되므로 아래와 같다:\n",
    "\n",
    "$$\n",
    "   r = \\frac{\\sum\\limits_{i=1}^n (X_i - \\bar{X})(Y_i -\n",
    "   \\bar{Y})}{\\sqrt{\\sum\\limits_{i=1}^n (X_i - \\bar{X})^2} \\sqrt{\\sum\n",
    "   \\limits_{i=1}^n (Y_i - \\bar{Y})^2}}\n",
    "$$"
   ]
  },
  {
   "cell_type": "markdown",
   "metadata": {
    "slideshow": {
     "slide_type": "slide"
    }
   },
   "source": [
    "### S.12.2 그래프\n",
    "\n",
    "#### 데이터 생성\n",
    "\n",
    "변수들이 서로 어떤 관계를 가지고 있는지 그래프를 그려보면 쉽게 파악할 수 있다.\n",
    "우선 임의로 X, Y 데이터를 생성하고, 그래프에서 서로 어떻게 변화하는지 알아보자."
   ]
  },
  {
   "cell_type": "code",
   "execution_count": null,
   "metadata": {},
   "outputs": [],
   "source": [
    "X=[10,7,12,12,9,16,12,18,8,12,14,16]\n",
    "Y=[6,4,7,8,10,7,10,15,5,6,11,13]"
   ]
  },
  {
   "cell_type": "markdown",
   "metadata": {},
   "source": [
    "#### 단순 Plot\n",
    "\n",
    "```matplotlib``` 라이브러리를 사용하여 X, Y 그래프를 그려보자.\n",
    "```%mathplotlib inline```는 노트북에서 그래프를 바로 아래 출력창에 띄운다.\n",
    "이 명령어가 없으면 별도의 창을 열어서 띄우게 된다.\n",
    "* ```plot()```은 X, Y 데이터를 입력하고, ```go```는 green색으로 빈동그라미 ```o```로 표시하게 된다.\n",
    "* ```title()```은 제목을 적는 함수이고, 유니코드 지원이 되지 않아서 제목에 한글을 쓸 수는 없다. \n",
    "* ```ylabel()```은 y축 명을 적는 기능이다."
   ]
  },
  {
   "cell_type": "code",
   "execution_count": null,
   "metadata": {
    "slideshow": {
     "slide_type": "-"
    }
   },
   "outputs": [],
   "source": [
    "%matplotlib inline\n",
    "\n",
    "from matplotlib import pyplot as plt\n",
    "\n",
    "plt.title('correlation')\n",
    "plt.plot(X, Y, 'go')\n",
    "plt.ylabel('Y')\n",
    "\n",
    "plt.show()\n"
   ]
  },
  {
   "cell_type": "markdown",
   "metadata": {
    "slideshow": {
     "slide_type": "subslide"
    }
   },
   "source": [
    "#### Scatter\n",
    "\n",
    "* ```subplots()``` 명령어의 인자로 넣는 수는 행, 열로 그래프의 바둑판 위치를 의미한다.\n",
    "예를 들어, 인자 ```1,1```은 1행, 1열을 ```1,2```는 1행, 2열을 의미한다.\n",
    "이 명령어는 Figure와 Axes를 반환해서, 그림의 설정을 변경할 수 있다.\n",
    "* ```set_minor_locator()```는 '사이 구분자'를 설정할 수 있고, AutoMinorLocator(3)은 구분자 2개를 ```AutoMinorLocator(5)```는 큰 구분자들 사이 구분자 4개를 넣으라는 의미이다.\n",
    "* grid() 명령어는 격자선을 설정한다. b=True는 그리드 선을 표시하라는 의미, which는 'major', 'minor', 'both' 가운데 하나를 설정한다.\n"
   ]
  },
  {
   "cell_type": "code",
   "execution_count": null,
   "metadata": {
    "slideshow": {
     "slide_type": "-"
    }
   },
   "outputs": [],
   "source": [
    "import matplotlib as mpl\n",
    "import matplotlib.pyplot as plt\n",
    "\n",
    "fig, ax = plt.subplots(1, 1)\n",
    "plt.rc('font', family='NanumMyeongjo')\n",
    "ax.title.set_text('상관관계')\n",
    "ax.scatter(X, Y)\n",
    "ax.get_yaxis().set_minor_locator(mpl.ticker.AutoMinorLocator(1))\n",
    "ax.get_xaxis().set_minor_locator(mpl.ticker.AutoMinorLocator(3))\n",
    "ax.grid(b=True, which='major', color='y', linewidth=0.5)\n",
    "ax.grid(b=True, which='minor', color='b', linewidth=0.5)\n",
    "#fig.show()"
   ]
  },
  {
   "cell_type": "markdown",
   "metadata": {
    "slideshow": {
     "slide_type": "subslide"
    }
   },
   "source": [
    "### S.12.3 데이터\n",
    "\n",
    "임의로 X, Y 데이터를 생성해보자"
   ]
  },
  {
   "cell_type": "code",
   "execution_count": null,
   "metadata": {},
   "outputs": [],
   "source": [
    "X=[2.1,2.5,4.0,3.6]\n",
    "Y=[8,12,14,10]\n",
    "\n",
    "X=[10,7,12,12,9,16,12,18,8,12,14,16]\n",
    "Y=[6,4,7,8,10,7,10,15,5,6,11,13]"
   ]
  },
  {
   "cell_type": "markdown",
   "metadata": {
    "slideshow": {
     "slide_type": "subslide"
    }
   },
   "source": [
    "### S.12.4 numpy 공분산 계산\n",
    "\n",
    "#### 공분산 계산식\n",
    "\n",
    "라이브러리를 사용하지 않고, 공분산을 계산해보자.\n",
    "공분산의 부호는 두 변수가 같은 방향, 다른 방향으로 움직이는지 보여준다.\n",
    "공분산이 '0'이라면 두 변수가 독립적이란 의미이다.\n",
    "크기는 해석하기 어렵다."
   ]
  },
  {
   "cell_type": "code",
   "execution_count": null,
   "metadata": {},
   "outputs": [],
   "source": [
    "import numpy as np\n",
    "xbar=np.mean(X)\n",
    "ybar=np.mean(Y)"
   ]
  },
  {
   "cell_type": "code",
   "execution_count": null,
   "metadata": {},
   "outputs": [],
   "source": [
    "covxy=sum( [ (x-xbar)*(y-ybar) for x,y in zip(X,Y) ]) / (len(X)-1)\n",
    "print (\"simple cov=\", covxy)"
   ]
  },
  {
   "cell_type": "markdown",
   "metadata": {
    "slideshow": {
     "slide_type": "subslide"
    }
   },
   "source": [
    "#### numpy 공분산\n",
    "\n",
    "numpy로 공분산을 계산해보자. 앞에서의 계산과 동일한 결과를 출력한다.\n",
    "numpy 공분산은 계산하면 x,y 컬럼에 대한 2 x 2 값을 출력한다.\n",
    "공분산값은 x와 y 컬럼이 교차하는 값이다."
   ]
  },
  {
   "cell_type": "code",
   "execution_count": null,
   "metadata": {
    "scrolled": true
   },
   "outputs": [],
   "source": [
    "print (\"np cov=\\n\",np.cov(X,Y))"
   ]
  },
  {
   "cell_type": "markdown",
   "metadata": {
    "slideshow": {
     "slide_type": "subslide"
    }
   },
   "source": [
    "서로 x와 x컬럼이 만나는 값은, 자신에 대한 공분산을 계산한 값으로 ```sum( (x-mean(x))**2) / (n-1)```,\n",
    "x대신 y를 대입하면 나머지 값이 계산된다.\n",
    "계산해보자."
   ]
  },
  {
   "cell_type": "code",
   "execution_count": null,
   "metadata": {},
   "outputs": [],
   "source": [
    "print (np.sum( (X-np.mean(X))**2) / (len(X)-1))\n",
    "print (np.sum( (Y-np.mean(Y))**2) / (len(Y)-1))"
   ]
  },
  {
   "cell_type": "markdown",
   "metadata": {
    "collapsed": true
   },
   "source": [
    "위 값을 관찰하면, variance 값과 계산식이 동일하다."
   ]
  },
  {
   "cell_type": "code",
   "execution_count": null,
   "metadata": {},
   "outputs": [],
   "source": [
    "print(np.var(X, ddof=1))"
   ]
  },
  {
   "cell_type": "markdown",
   "metadata": {},
   "source": [
    "자신에 대한 공분산을 계산하면 동일한 값을 출력한다."
   ]
  },
  {
   "cell_type": "code",
   "execution_count": null,
   "metadata": {},
   "outputs": [],
   "source": [
    "print (\"npcov of X\", np.cov(X)) #sum( [ (x-xbar)**2 for x in X ])/(len(X)-1)\n",
    "print (\"npcov of Y\", np.cov(Y))"
   ]
  },
  {
   "cell_type": "markdown",
   "metadata": {
    "slideshow": {
     "slide_type": "subslide"
    }
   },
   "source": [
    "### S.12.5 상관관계\n",
    "\n",
    "상관관계는 공분산을 표준편차의 곱으로 나누어서 계산한다."
   ]
  },
  {
   "cell_type": "markdown",
   "metadata": {
    "slideshow": {
     "slide_type": "-"
    }
   },
   "source": [
    "#### numpy 계산\n",
    "앞서 계산했던 식을 기억하고, 그 값을 가져온다."
   ]
  },
  {
   "cell_type": "code",
   "execution_count": null,
   "metadata": {},
   "outputs": [],
   "source": [
    "import numpy as np\n",
    "\n",
    "xbar=np.mean(X)\n",
    "ybar=np.mean(Y)\n",
    "sx=np.sqrt(np.var(X,ddof=1))\n",
    "sy=np.sqrt(np.var(Y,ddof=1))\n",
    "covxy=sum( [ (x-xbar)*(y-ybar) for x,y in zip(X,Y) ]) / (len(X)-1)"
   ]
  },
  {
   "cell_type": "code",
   "execution_count": null,
   "metadata": {},
   "outputs": [],
   "source": [
    "rxy=covxy/(sx*sy)\n",
    "print (\"corr: \",rxy)"
   ]
  },
  {
   "cell_type": "markdown",
   "metadata": {
    "slideshow": {
     "slide_type": "subslide"
    }
   },
   "source": [
    "#### 상관관계 계산식\n",
    "\n",
    "위 계산식을 모두 한꺼번에 넣어, 계산해보자."
   ]
  },
  {
   "cell_type": "code",
   "execution_count": null,
   "metadata": {},
   "outputs": [],
   "source": [
    "import math\n",
    "numer = sum ( [ x*y for x,y in zip(X,Y) ] ) - len(X) * (xbar * ybar)\n",
    "denom = math.sqrt( (sum( [ x*x for x in X ]) - len(X) * xbar**2) * ( sum( [ y * y for y in Y ]) -len(X) * ybar**2))\n",
    "print(numer/denom)"
   ]
  },
  {
   "cell_type": "markdown",
   "metadata": {
    "slideshow": {
     "slide_type": "subslide"
    }
   },
   "source": [
    "### S.12.6 zscore를 이용한 상관관계\n",
    "\n",
    "상관관계는 $$ \\sum \\frac{z_x . z_y} {N} $$\n",
    "N은 x,y가 쌍이므로 어느 한 변수의 size를 택해도 같다.\n",
    "\n",
    "negative란 한 변수가 높을 때 (postive z score) 다른 변수가 낮은 값 (negative z\n",
    "score)을 갖는 것으로 곱하면 음수가 되게 된다.\n"
   ]
  },
  {
   "cell_type": "code",
   "execution_count": null,
   "metadata": {},
   "outputs": [],
   "source": [
    "numer =  sum ( [ ( (x-np.mean(X))/np.std(X) ) * ( (y-np.mean(Y))/np.std(Y) ) for x,y in zip(X,Y) ] )\n",
    "\n",
    "print(f\"분자: {numer}\")"
   ]
  },
  {
   "cell_type": "code",
   "execution_count": null,
   "metadata": {},
   "outputs": [],
   "source": [
    "print(sum (stats.zscore(X) * stats.zscore(Y)))"
   ]
  },
  {
   "cell_type": "code",
   "execution_count": null,
   "metadata": {},
   "outputs": [],
   "source": [
    "print(sum (stats.zscore(X) * stats.zscore(Y))/len(X))"
   ]
  },
  {
   "cell_type": "markdown",
   "metadata": {
    "slideshow": {
     "slide_type": "subslide"
    }
   },
   "source": [
    "### S.12.7 함수로 만들어 보기\n",
    "\n",
    "위를 함수로 만들어 보자.\n",
    "평균을 계산하려면 모든 값을 합계해야 하고, 그러려면 반복문이 필요하다.\n",
    "표준편차는 평균값과 같은 반복문에서 계산할 수 없는데, 그 이유는 평균값이 있어야만 표준편차를 계산할 수 있다.\n",
    "간단한 평균, 표준편차를 라이브러리 없이 계산하려면 반복문의 통제가 필요하겠다.\n",
    "\n",
    "라이브러리를 사용하면 반복문이 없이 간편하게 함수호출로 가능해지게 된다."
   ]
  },
  {
   "cell_type": "code",
   "execution_count": null,
   "metadata": {},
   "outputs": [],
   "source": [
    "import math\n",
    "numer = sum ( [ x*y for x,y in zip(X,Y) ] ) - len(X) * (xbar * ybar)\n",
    "denom = math.sqrt( (sum( [ x*x for x in X ]) - len(X) * xbar**2) * ( sum( [ y * y for y in Y ]) -len(X) * ybar**2))\n",
    "print(numer, denom, numer/denom)"
   ]
  },
  {
   "cell_type": "code",
   "execution_count": null,
   "metadata": {
    "scrolled": true
   },
   "outputs": [],
   "source": [
    "numer=np.sum(np.array(X)*np.array(Y)) - len(X)*np.mean(X)*np.mean(Y)\n",
    "denom1=np.sum(np.array(X)*np.array(X)) - len(X)*np.power(np.mean(X),2)\n",
    "denom2=np.sum(np.array(Y)*np.array(Y)) - len(Y)*np.power(np.mean(Y),2)\n",
    "denom=np.sqrt(denom1*denom2)\n",
    "print(numer,denom,numer/denom)"
   ]
  },
  {
   "cell_type": "code",
   "execution_count": null,
   "metadata": {},
   "outputs": [],
   "source": [
    "def pearson(X,Y):\n",
    "    numer=np.sum(np.array(X)*np.array(Y)) - len(X)*np.mean(X)*np.mean(Y)\n",
    "    denom1=np.sum(np.array(X)*np.array(X)) - len(X)*np.power(np.mean(X),2)\n",
    "    denom2=np.sum(np.array(Y)*np.array(Y)) - len(Y)*np.power(np.mean(Y),2)\n",
    "    denom=np.sqrt(denom1*denom2)\n",
    "    #print(numer,denom,numer/denom)\n",
    "    r=1 if denom==0 else numer/denom\n",
    "    return r"
   ]
  },
  {
   "cell_type": "code",
   "execution_count": null,
   "metadata": {},
   "outputs": [],
   "source": [
    "pearson(X,Y)"
   ]
  },
  {
   "cell_type": "markdown",
   "metadata": {},
   "source": [
    "### S.12.8 scipy\n",
    "\n",
    "scipy 라이브러리를 사용하여 pearson 상관관계를 계산해보자.\n",
    "상관관계는 앞서 계산과 동일하며, 양측 확률이 같이 출력되고 있다 (two-tailed p-value).\n",
    "* Pearson 상관관계는 정규분포인 경우,\n",
    "* Spearman 상관관계는 정규분포가 아닌 경우 사용한다."
   ]
  },
  {
   "cell_type": "code",
   "execution_count": null,
   "metadata": {
    "slideshow": {
     "slide_type": "subslide"
    }
   },
   "outputs": [],
   "source": [
    "import scipy.stats as stats\n",
    "stats.pearsonr(X,Y)"
   ]
  },
  {
   "cell_type": "markdown",
   "metadata": {
    "slideshow": {
     "slide_type": "subslide"
    }
   },
   "source": [
    "무작위 변수를 만들어 상관관계를 계산해보자."
   ]
  },
  {
   "cell_type": "code",
   "execution_count": null,
   "metadata": {},
   "outputs": [],
   "source": [
    "import numpy as np\n",
    "xx=np.random.normal(0,1,100)\n",
    "yy=np.random.normal(0,1,100)"
   ]
  },
  {
   "cell_type": "markdown",
   "metadata": {
    "slideshow": {
     "slide_type": "subslide"
    }
   },
   "source": [
    "Pearson 상관관계는 두 변수의 선형관계를 측정한다.\n",
    "두 변수는 정규분포를 따르는 것으로 가정한다.\n",
    "앞은 상관관계를 말하고, 그 다음 값은 p-value이다."
   ]
  },
  {
   "cell_type": "code",
   "execution_count": null,
   "metadata": {},
   "outputs": [],
   "source": [
    "stats.pearsonr(xx,yy)"
   ]
  },
  {
   "cell_type": "markdown",
   "metadata": {
    "slideshow": {
     "slide_type": "subslide"
    }
   },
   "source": [
    "Spearman 상관관계는 정규분포를 따르지 않는 사용하는 비모수추정 방법이다."
   ]
  },
  {
   "cell_type": "code",
   "execution_count": null,
   "metadata": {},
   "outputs": [],
   "source": [
    "stats.spearmanr(xx,yy)"
   ]
  },
  {
   "cell_type": "markdown",
   "metadata": {
    "slideshow": {
     "slide_type": "subslide"
    }
   },
   "source": [
    "kendalltau는 비모수 추정방법으로 등위에 의한 상관관계를 계산한다.\n",
    "1938년 이를 개발한 Maurice Kendall의 이름을 따서 붙였다.\n",
    "위의 상관관계와 미세한 차이가 있을 뿐 그 결과가 유사하다."
   ]
  },
  {
   "cell_type": "code",
   "execution_count": null,
   "metadata": {},
   "outputs": [],
   "source": [
    "stats.kendalltau(xx,yy)"
   ]
  },
  {
   "cell_type": "markdown",
   "metadata": {},
   "source": [
    "### S.12.9 spark\n",
    "\n",
    "각 컬럼에 무작위 수를 10개를 생성하자."
   ]
  },
  {
   "cell_type": "code",
   "execution_count": null,
   "metadata": {},
   "outputs": [],
   "source": [
    "from pyspark.sql.functions import rand\n",
    "\n",
    "df = spark.range(0, 10).withColumn('rand1', rand(seed=10)).withColumn('rand2', rand(seed=27))"
   ]
  },
  {
   "cell_type": "markdown",
   "metadata": {},
   "source": [
    "Spark에서는 컬럼 서로의 상관관계를 계산한다."
   ]
  },
  {
   "cell_type": "code",
   "execution_count": null,
   "metadata": {},
   "outputs": [],
   "source": [
    "print (df.stat.corr('rand1', 'rand2'))"
   ]
  },
  {
   "cell_type": "markdown",
   "metadata": {},
   "source": [
    "### S.12.11 상관관계 표\n",
    "\n",
    "상관관계를 계산하게 될 변수 a, b, c, d를 임의의 소수로 설정하자."
   ]
  },
  {
   "cell_type": "code",
   "execution_count": null,
   "metadata": {},
   "outputs": [],
   "source": [
    "import numpy as np\n",
    "\n",
    "a=np.array([0.1, .32, .2, 0.4, 0.8])\n",
    "b=np.array([.23, .18, .56, .61, .12])\n",
    "c=np.array([.9, .3, .6, .5, .3])\n",
    "d=np.array([.34, .75, .91, .19, .21])"
   ]
  },
  {
   "cell_type": "markdown",
   "metadata": {},
   "source": [
    "numpy의 ```corrcoef()``` 함수는 변수들의 상관관계를 계산하여 출력한다.\n",
    "a,b는 -0.352, a,c는 -0.747, a,d는 -0.489\n",
    "b,c는 0.238 등 열과 행으로 각 변수의 상관관계 표를 읽을 수 있다."
   ]
  },
  {
   "cell_type": "code",
   "execution_count": null,
   "metadata": {
    "scrolled": true,
    "slideshow": {
     "slide_type": "subslide"
    }
   },
   "outputs": [],
   "source": [
    "np.corrcoef([a,b,c,d])"
   ]
  },
  {
   "cell_type": "code",
   "execution_count": null,
   "metadata": {},
   "outputs": [],
   "source": []
  },
  {
   "cell_type": "markdown",
   "metadata": {
    "slideshow": {
     "slide_type": "slide"
    }
   },
   "source": [
    "## 문제 S-4: Iris\n",
    "\n",
    "Iris 데이터는 아이리스 꽃관련 sepal width, sepal length, petal_length and petal_width 데이터를 제공한다.\n",
    "sepal은 꽃받침으로, 대부분의 꽃에서 녹색이다. petal은 꽃받침 안의 꽃잎을 말한다.\n",
    "이 데이터는 아이리스 꽃 3종류 (Iris setosa, Iris virginica and Iris versicolor)와 관련 속성데이터를 가지고 있어 기계학습에서 많이 사용된다."
   ]
  },
  {
   "cell_type": "markdown",
   "metadata": {
    "slideshow": {
     "slide_type": "subslide"
    }
   },
   "source": [
    "### pairplot\n",
    "\n",
    "Seaborn의 Pairplot은 pairwise plot으로 쌍으로 데이터의 관계를 시각화한다. x축, y축으로 변수를 나열하고, 바둑판 그리드에 관계를 그린다.\n",
    "\n",
    "Seaborn은 matplotlib를 기반으로 한 데이터 시각화 라이브러리이다.\n",
    "설치하려면, 명령창에 ```pip3 install seaborn```이라고 입력하고 <ENTER>한다.\n",
    "Anaconda, Databricks에는 이미 설치가 되어 있을 것이라서, 설치가 필요없다.\n",
    "\n",
    "> **Matplotlib이 font cache를 구축**한다는 메시지\n",
    "\n",
    "> Matplotlib is building the font cache; this may take a moment.\n",
    "이런 메시지가 보이면, 아래 명령어 출력 디렉토리를 삭제한다.\n",
    "```\n",
    "import matplotlib as mpl\n",
    "print (mpl.get_cachedir())\n",
    "```"
   ]
  },
  {
   "cell_type": "markdown",
   "metadata": {},
   "source": [
    "seaborn에서 iris데이터를 불러보자."
   ]
  },
  {
   "cell_type": "code",
   "execution_count": null,
   "metadata": {},
   "outputs": [],
   "source": [
    "import seaborn as sns\n",
    "\n",
    "iris1 = sns.load_dataset(\"iris\")"
   ]
  },
  {
   "cell_type": "markdown",
   "metadata": {},
   "source": [
    "데이터가 잘 읽혔는지, 몇 행만 읽어보자."
   ]
  },
  {
   "cell_type": "code",
   "execution_count": null,
   "metadata": {
    "scrolled": true
   },
   "outputs": [],
   "source": [
    "iris1.head()"
   ]
  },
  {
   "cell_type": "markdown",
   "metadata": {},
   "source": [
    "앞에서 읽은 데이터를 pairplot으로 그려보자.\n",
    "* kind는 ‘scatter’, ‘kde’, ‘hist’, ‘reg’ 4가지 종류 가운데 하나를 선택한다.\n",
    "* hue는 다른 색으로 그리게 되는 변수, 여기서는 species를 선택했다. 3가지 꽃 종류를 다른 색으로 그린다."
   ]
  },
  {
   "cell_type": "code",
   "execution_count": null,
   "metadata": {
    "scrolled": true
   },
   "outputs": [],
   "source": [
    "import matplotlib.pyplot as plt\n",
    "\n",
    "sns.pairplot(iris1, kind=\"scatter\", hue=\"species\")\n",
    "plt.show()"
   ]
  },
  {
   "cell_type": "markdown",
   "metadata": {
    "slideshow": {
     "slide_type": "subslide"
    }
   },
   "source": [
    "### spark로 correlation"
   ]
  },
  {
   "cell_type": "code",
   "execution_count": null,
   "metadata": {},
   "outputs": [],
   "source": [
    "import os\n",
    "os.environ[\"PYSPARK_PYTHON\"]=\"/usr/bin/python3\"\n",
    "os.environ[\"PYSPARK_DRIVER_PYTHON\"]=\"/usr/bin/python3\""
   ]
  },
  {
   "cell_type": "code",
   "execution_count": null,
   "metadata": {},
   "outputs": [],
   "source": [
    "import pyspark\n",
    "myConf=pyspark.SparkConf()\n",
    "spark = pyspark.sql.SparkSession.builder\\\n",
    "    .master(\"local\")\\\n",
    "    .appName(\"myApp\")\\\n",
    "    .config(conf=myConf)\\\n",
    "    .getOrCreate()"
   ]
  },
  {
   "cell_type": "markdown",
   "metadata": {
    "slideshow": {
     "slide_type": "subslide"
    }
   },
   "source": [
    "### 데이터\n",
    "\n",
    "Iris 데이터는 UC Irvine대학의 Machine Learning Repository에서도 구할 수 있다.\n",
    "https://archive.ics.uci.edu/ml/machine-learning-databases/iris/ URL에서 Python으로 직접 가져오자."
   ]
  },
  {
   "cell_type": "code",
   "execution_count": null,
   "metadata": {},
   "outputs": [],
   "source": [
    "import pandas as pd\n",
    "\n",
    "file_name = \"https://archive.ics.uci.edu/ml/machine-learning-databases/iris/iris.data\"\n",
    "iris = pd.read_csv(file_name, names=[\"sepal_length\",\"sepal_width\",\"petal_length\", \"petal_width\",\"species\"])"
   ]
  },
  {
   "cell_type": "markdown",
   "metadata": {},
   "source": [
    "데이터가 잘 읽혔는지 몇 줄을 출력해보자."
   ]
  },
  {
   "cell_type": "code",
   "execution_count": null,
   "metadata": {
    "scrolled": true
   },
   "outputs": [],
   "source": [
    "iris.head()"
   ]
  },
  {
   "cell_type": "markdown",
   "metadata": {},
   "source": [
    "### boxplot\n",
    "\n",
    "박스는 IQR (Interquartile Range), 즉 25%~75%의 구간을 의미한다.\n",
    "그리고 위 아래 가로선은 IQR 값의 1.5배되는 구역을 나타낸다.\n",
    "2번째 boxplot에서 나타나는 점들은 outlier를 의미한다.\n",
    "outlier는 그 벗어난 정도가 심하지 않으므로 그대로 두기로 한다."
   ]
  },
  {
   "cell_type": "code",
   "execution_count": null,
   "metadata": {},
   "outputs": [],
   "source": [
    "import matplotlib.pyplot as plt\n",
    "\n",
    "iris4 = [ iris.sepal_length, iris.sepal_width, iris.petal_length, iris.petal_width ]\n",
    "plt.boxplot(iris4)\n",
    "plt.show()"
   ]
  },
  {
   "cell_type": "markdown",
   "metadata": {},
   "source": [
    "### DataFrame 생성\n",
    "\n",
    "DataFrame을 생성하고, schema를 확인해보자.\n",
    "Spark는 url에서 직접 읽을 수 없으므로, pandas의 DataFrame에서 만들자."
   ]
  },
  {
   "cell_type": "code",
   "execution_count": null,
   "metadata": {},
   "outputs": [],
   "source": [
    "irisDf = spark.createDataFrame(iris)"
   ]
  },
  {
   "cell_type": "code",
   "execution_count": null,
   "metadata": {},
   "outputs": [],
   "source": [
    "irisDf.printSchema()"
   ]
  },
  {
   "cell_type": "markdown",
   "metadata": {
    "slideshow": {
     "slide_type": "subslide"
    }
   },
   "source": [
    "### 상관관계\n",
    "\n",
    "Spark에서는 features 컬럼을 입력받아서 모델링을 한다. 상관관계를 계산할 4개의 컬럼을 묶어서 features 컬럼을 만들어 준다."
   ]
  },
  {
   "cell_type": "code",
   "execution_count": null,
   "metadata": {},
   "outputs": [],
   "source": [
    "from pyspark.ml.feature import VectorAssembler\n",
    "\n",
    "assembler = VectorAssembler(inputCols=['sepal_length', 'sepal_width', 'petal_length', 'petal_width'],\n",
    "                                       outputCol=\"features\")\n",
    "df_vector = assembler.transform(irisDf).select(\"features\")"
   ]
  },
  {
   "cell_type": "code",
   "execution_count": null,
   "metadata": {},
   "outputs": [],
   "source": [
    "from pyspark.ml.stat import Correlation\n",
    "\n",
    "# get correlation matrix\n",
    "matrix = Correlation.corr(df_vector, \"features\")"
   ]
  },
  {
   "cell_type": "markdown",
   "metadata": {},
   "source": [
    "### 상관관계표 출력\n",
    "\n",
    "변수를 짝을 지어 상관관계를 출력한다.\n",
    "```collect()``` 함수는 Row List를 출력하게 된다."
   ]
  },
  {
   "cell_type": "code",
   "execution_count": null,
   "metadata": {},
   "outputs": [],
   "source": [
    "matrix.collect()"
   ]
  },
  {
   "cell_type": "code",
   "execution_count": null,
   "metadata": {},
   "outputs": [],
   "source": [
    "matrix.collect()[0][0].toArray()"
   ]
  },
  {
   "cell_type": "code",
   "execution_count": null,
   "metadata": {},
   "outputs": [],
   "source": []
  }
 ],
 "metadata": {
  "kernelspec": {
   "display_name": "Python 3",
   "language": "python",
   "name": "python3"
  },
  "language_info": {
   "codemirror_mode": {
    "name": "ipython",
    "version": 3
   },
   "file_extension": ".py",
   "mimetype": "text/x-python",
   "name": "python",
   "nbconvert_exporter": "python",
   "pygments_lexer": "ipython3",
   "version": "3.7.3"
  }
 },
 "nbformat": 4,
 "nbformat_minor": 1
}
