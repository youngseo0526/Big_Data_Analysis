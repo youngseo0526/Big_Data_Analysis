{
 "cells": [
  {
   "cell_type": "markdown",
   "metadata": {},
   "source": [
    "### 휴먼지능정보공학과 201910787 김영서\n",
    "## 12주 matrix inverse method 회귀분석\n",
    "\n",
    "데이터가 다음과 같이 주어졌을 때:\n",
    "\n",
    "* x: [1,2],[1,4],[1,6]\n",
    "\n",
    "* y: 3,6,7\n",
    "\n",
    "\n",
    "\n",
    "회귀식을 도출해보자.\n",
    "\n",
    "* 1) matrix inverse method로 계수를 계산하고 출력,\n",
    "\n",
    "* 2) 예측과 실제의 오류 합계를 계산하고 출력,\n",
    "\n",
    "* 3) 입력 데이터와 회귀선의 그래프를 작성한다."
   ]
  },
  {
   "cell_type": "markdown",
   "metadata": {},
   "source": [
    "### Data"
   ]
  },
  {
   "cell_type": "code",
   "execution_count": 25,
   "metadata": {},
   "outputs": [
    {
     "name": "stdout",
     "output_type": "stream",
     "text": [
      "[[1 2]\n",
      " [1 4]\n",
      " [1 6]]\n",
      "[3 6 7]\n"
     ]
    }
   ],
   "source": [
    "import numpy as np\n",
    "\n",
    "x = np.array([[1,2],[1,4],[1,6]])\n",
    "y = np.array([3,6,7])\n",
    "\n",
    "print(x)\n",
    "print(y)"
   ]
  },
  {
   "cell_type": "code",
   "execution_count": 26,
   "metadata": {},
   "outputs": [
    {
     "name": "stdout",
     "output_type": "stream",
     "text": [
      "(3, 2) (3,)\n"
     ]
    }
   ],
   "source": [
    "print(x.shape,y.shape)"
   ]
  },
  {
   "cell_type": "markdown",
   "metadata": {},
   "source": [
    "### 1) matrix inverse method로 계수를 계산하고 출력\n",
    "$\\hat{w} = (X^T X) ^{-1} X^T y$"
   ]
  },
  {
   "cell_type": "code",
   "execution_count": 29,
   "metadata": {},
   "outputs": [
    {
     "name": "stdout",
     "output_type": "stream",
     "text": [
      "xTx=\n",
      " [[ 3 12]\n",
      " [12 56]]\n"
     ]
    }
   ],
   "source": [
    "xTx=np.dot(x.T,x)\n",
    "print(\"xTx=\\n\",xTx)"
   ]
  },
  {
   "cell_type": "code",
   "execution_count": 30,
   "metadata": {},
   "outputs": [
    {
     "name": "stdout",
     "output_type": "stream",
     "text": [
      "xTxI=\n",
      " [[ 2.33333333 -0.5       ]\n",
      " [-0.5         0.125     ]]\n"
     ]
    }
   ],
   "source": [
    "xTxI=np.linalg.inv(xTx)\n",
    "print(\"xTxI=\\n\",xTxI)"
   ]
  },
  {
   "cell_type": "code",
   "execution_count": 31,
   "metadata": {},
   "outputs": [
    {
     "name": "stdout",
     "output_type": "stream",
     "text": [
      "xTyT= [16 72]\n"
     ]
    }
   ],
   "source": [
    "xTyT=np.dot(x.T,y)\n",
    "print(\"xTyT=\",xTyT)"
   ]
  },
  {
   "cell_type": "code",
   "execution_count": 32,
   "metadata": {},
   "outputs": [
    {
     "name": "stdout",
     "output_type": "stream",
     "text": [
      "weights= [1.33333333 1.        ]\n"
     ]
    }
   ],
   "source": [
    "print(\"weights=\",np.dot(xTxI,xTyT)) # 2x2 dot 2x1 -> 2x1"
   ]
  },
  {
   "cell_type": "markdown",
   "metadata": {},
   "source": [
    "#### 한번에 계산"
   ]
  },
  {
   "cell_type": "code",
   "execution_count": 38,
   "metadata": {},
   "outputs": [
    {
     "data": {
      "text/plain": [
       "'w0:1.3333333333333357 w1:1.0'"
      ]
     },
     "execution_count": 38,
     "metadata": {},
     "output_type": "execute_result"
    }
   ],
   "source": [
    "w0, w1 = np.dot(np.linalg.inv(np.dot(x.T, x)), np.dot(x.T, y))\n",
    "f\"w0:{w0} w1:{w1}\""
   ]
  },
  {
   "cell_type": "markdown",
   "metadata": {},
   "source": [
    "### 2) 예측과 실제의 오류 합계를 계산하고 출력"
   ]
  },
  {
   "cell_type": "code",
   "execution_count": 39,
   "metadata": {},
   "outputs": [],
   "source": [
    "yhat=w0*x+w1"
   ]
  },
  {
   "cell_type": "code",
   "execution_count": 40,
   "metadata": {},
   "outputs": [
    {
     "name": "stdout",
     "output_type": "stream",
     "text": [
      "예측: [[2.33333333 3.66666667]\n",
      " [2.33333333 6.33333333]\n",
      " [2.33333333 9.        ]]\n"
     ]
    }
   ],
   "source": [
    "print(\"예측: {}\".format(yhat))"
   ]
  },
  {
   "cell_type": "code",
   "execution_count": 41,
   "metadata": {},
   "outputs": [
    {
     "name": "stdout",
     "output_type": "stream",
     "text": [
      "[3 6 7]\n"
     ]
    }
   ],
   "source": [
    "print(y)"
   ]
  },
  {
   "cell_type": "code",
   "execution_count": 42,
   "metadata": {},
   "outputs": [
    {
     "data": {
      "text/plain": [
       "'error: 4.555555555555625'"
      ]
     },
     "execution_count": 42,
     "metadata": {},
     "output_type": "execute_result"
    }
   ],
   "source": [
    "f\"error: {np.sum(np.power(yhat[:,1]-y,2))}\""
   ]
  },
  {
   "cell_type": "markdown",
   "metadata": {},
   "source": [
    "### 3) 입력 데이터와 회귀선의 그래프를 작성한다"
   ]
  },
  {
   "cell_type": "code",
   "execution_count": 43,
   "metadata": {},
   "outputs": [
    {
     "data": {
      "image/png": "[encoded data removed]",
      "text/plain": [
       "<Figure size 432x288 with 1 Axes>"
      ]
     },
     "metadata": {
      "needs_background": "light"
     },
     "output_type": "display_data"
    }
   ],
   "source": [
    "%matplotlib inline\n",
    "import matplotlib.pyplot as plt\n",
    "\n",
    "plt.plot(x,yhat,'r-',x[:,1],y,'bo')\n",
    "plt.show()"
   ]
  },
  {
   "cell_type": "code",
   "execution_count": null,
   "metadata": {},
   "outputs": [],
   "source": []
  }
 ],
 "metadata": {
  "kernelspec": {
   "display_name": "Python 3",
   "language": "python",
   "name": "python3"
  },
  "language_info": {
   "codemirror_mode": {
    "name": "ipython",
    "version": 3
   },
   "file_extension": ".py",
   "mimetype": "text/x-python",
   "name": "python",
   "nbconvert_exporter": "python",
   "pygments_lexer": "ipython3",
   "version": "3.7.3"
  }
 },
 "nbformat": 4,
 "nbformat_minor": 2
}
